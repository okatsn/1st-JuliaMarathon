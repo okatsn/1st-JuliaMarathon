{
 "cells": [
  {
   "cell_type": "code",
   "execution_count": 1,
   "metadata": {},
   "outputs": [
    {
     "name": "stderr",
     "output_type": "stream",
     "text": [
      "\u001b[32m\u001b[1m   Updating\u001b[22m\u001b[39m registry at `C:\\Users\\HSI\\.julia\\registries\\General`\n",
      "\u001b[32m\u001b[1m   Updating\u001b[22m\u001b[39m git-repo `https://github.com/JuliaRegistries/General.git`\n"
     ]
    },
    {
     "name": "stdout",
     "output_type": "stream",
     "text": [
      "\u001b[2K\u001b[36m\u001b[1mFetching:\u001b[22m\u001b[39m [========================================>]  100.0 %.0 % [===>                                     ]  5.9 %>                                    ]  9.2 %\u001b[36m\u001b[1mFetching:\u001b[22m\u001b[39m [=======>                                 ]  16.4 %9 %=============>                           ]  31.0 %33.2 % %\u001b[36m\u001b[1mFetching:\u001b[22m\u001b[39m [===================>                     ]  45.4 %3 %8 %\u001b[36m\u001b[1mFetching:\u001b[22m\u001b[39m [===========================>             ]  65.3 % [============================>            ]  69.6 % %\u001b[36m\u001b[1mFetching:\u001b[22m\u001b[39m [======================================>  ]  92.6 %\u001b[?25h"
     ]
    },
    {
     "name": "stderr",
     "output_type": "stream",
     "text": [
      "\u001b[32m\u001b[1m  Resolving\u001b[22m\u001b[39m package versions...\n",
      "\u001b[32m\u001b[1m  Installed\u001b[22m\u001b[39m CustomUnitRanges ────────── v1.0.0\n",
      "\u001b[32m\u001b[1m  Installed\u001b[22m\u001b[39m CatIndices ──────────────── v0.2.1\n",
      "\u001b[32m\u001b[1m  Installed\u001b[22m\u001b[39m ImageMorphology ─────────── v0.2.5\n",
      "\u001b[32m\u001b[1m  Installed\u001b[22m\u001b[39m UnPack ──────────────────── v1.0.0\n",
      "\u001b[32m\u001b[1m  Installed\u001b[22m\u001b[39m SimpleTraits ────────────── v0.9.2\n",
      "\u001b[32m\u001b[1m  Installed\u001b[22m\u001b[39m Distances ───────────────── v0.8.2\n",
      "\u001b[32m\u001b[1m  Installed\u001b[22m\u001b[39m MKL_jll ─────────────────── v2019.0.117+2\n",
      "\u001b[32m\u001b[1m  Installed\u001b[22m\u001b[39m Images ──────────────────── v0.22.2\n",
      "\u001b[32m\u001b[1m  Installed\u001b[22m\u001b[39m ImageTransformations ────── v0.8.4\n",
      "\u001b[32m\u001b[1m  Installed\u001b[22m\u001b[39m ImageQualityIndexes ─────── v0.1.4\n",
      "\u001b[32m\u001b[1m  Installed\u001b[22m\u001b[39m Graphics ────────────────── v1.0.2\n",
      "\u001b[32m\u001b[1m  Installed\u001b[22m\u001b[39m Parameters ──────────────── v0.12.1\n",
      "\u001b[32m\u001b[1m  Installed\u001b[22m\u001b[39m ImageAxes ───────────────── v0.6.4\n",
      "\u001b[32m\u001b[1m  Installed\u001b[22m\u001b[39m PaddedViews ─────────────── v0.5.5\n",
      "\u001b[32m\u001b[1m  Installed\u001b[22m\u001b[39m Ratios ──────────────────── v0.4.0\n",
      "\u001b[32m\u001b[1m  Installed\u001b[22m\u001b[39m IntervalSets ────────────── v0.5.0\n",
      "\u001b[32m\u001b[1m  Installed\u001b[22m\u001b[39m ImageMetadata ───────────── v0.9.1\n",
      "\u001b[32m\u001b[1m  Installed\u001b[22m\u001b[39m TiledIteration ──────────── v0.2.4\n",
      "\u001b[32m\u001b[1m  Installed\u001b[22m\u001b[39m IntelOpenMP_jll ─────────── v2018.0.3+0\n",
      "\u001b[32m\u001b[1m  Installed\u001b[22m\u001b[39m AbstractFFTs ────────────── v0.5.0\n",
      "\u001b[32m\u001b[1m  Installed\u001b[22m\u001b[39m RangeArrays ─────────────── v0.3.2\n",
      "\u001b[32m\u001b[1m  Installed\u001b[22m\u001b[39m ColorVectorSpace ────────── v0.8.5\n",
      "\u001b[32m\u001b[1m  Installed\u001b[22m\u001b[39m IterTools ───────────────── v1.3.0\n",
      "\u001b[32m\u001b[1m  Installed\u001b[22m\u001b[39m WoodburyMatrices ────────── v0.5.2\n",
      "\u001b[32m\u001b[1m  Installed\u001b[22m\u001b[39m FFTW_jll ────────────────── v3.3.9+5\n",
      "\u001b[32m\u001b[1m  Installed\u001b[22m\u001b[39m ImageShow ───────────────── v0.2.3\n",
      "\u001b[32m\u001b[1m  Installed\u001b[22m\u001b[39m MosaicViews ─────────────── v0.2.2\n",
      "\u001b[32m\u001b[1m  Installed\u001b[22m\u001b[39m ImageDistances ──────────── v0.2.7\n",
      "┌ Info: Replacing symlinks in tarball by their source files ...\n",
      "│ \"JuliaImages-ImageCore.jl-a652c05\\\\docs\\\\src\\\\LICENSE.md\" => \"JuliaImages-ImageCore.jl-a652c05\\\\docs\\\\src\\\\../../LICENSE.md\"\n",
      "└ @ Pkg.PlatformEngines D:\\buildbot\\worker\\package_win64\\build\\usr\\share\\julia\\stdlib\\v1.4\\Pkg\\src\\PlatformEngines.jl:1022\n",
      "\u001b[32m\u001b[1m  Installed\u001b[22m\u001b[39m ImageCore ───────────────── v0.8.14\n",
      "\u001b[32m\u001b[1m  Installed\u001b[22m\u001b[39m AxisAlgorithms ──────────── v1.0.0\n",
      "\u001b[32m\u001b[1m  Installed\u001b[22m\u001b[39m FFTViews ────────────────── v0.3.1\n",
      "\u001b[32m\u001b[1m  Installed\u001b[22m\u001b[39m Rotations ───────────────── v0.13.0\n",
      "\u001b[32m\u001b[1m  Installed\u001b[22m\u001b[39m ComputationalResources ──── v0.3.2\n",
      "\u001b[32m\u001b[1m  Installed\u001b[22m\u001b[39m OffsetArrays ────────────── v1.0.4\n",
      "\u001b[32m\u001b[1m  Installed\u001b[22m\u001b[39m AxisArrays ──────────────── v0.4.3\n",
      "\u001b[32m\u001b[1m  Installed\u001b[22m\u001b[39m IdentityRanges ──────────── v0.3.1\n",
      "\u001b[32m\u001b[1m  Installed\u001b[22m\u001b[39m EllipsisNotation ────────── v0.4.0\n",
      "\u001b[32m\u001b[1m  Installed\u001b[22m\u001b[39m FFTW ────────────────────── v1.2.1\n",
      "\u001b[32m\u001b[1m  Installed\u001b[22m\u001b[39m CoordinateTransformations ─ v0.5.1\n",
      "\u001b[32m\u001b[1m  Installed\u001b[22m\u001b[39m IndirectArrays ──────────── v0.5.1\n",
      "\u001b[32m\u001b[1m  Installed\u001b[22m\u001b[39m ImageFiltering ──────────── v0.6.11\n",
      "\u001b[32m\u001b[1m  Installed\u001b[22m\u001b[39m Interpolations ──────────── v0.12.9\n",
      "\u001b[32m\u001b[1m  Installed\u001b[22m\u001b[39m ImageContrastAdjustment ─── v0.3.5\n",
      "\u001b[32m\u001b[1m   Updating\u001b[22m\u001b[39m `C:\\Users\\HSI\\.julia\\environments\\v1.4\\Project.toml`\n",
      " \u001b[90m [916415d5]\u001b[39m\u001b[92m + Images v0.22.2\u001b[39m\n",
      "\u001b[32m\u001b[1m   Updating\u001b[22m\u001b[39m `C:\\Users\\HSI\\.julia\\environments\\v1.4\\Manifest.toml`\n",
      " \u001b[90m [621f4979]\u001b[39m\u001b[92m + AbstractFFTs v0.5.0\u001b[39m\n",
      " \u001b[90m [13072b0f]\u001b[39m\u001b[92m + AxisAlgorithms v1.0.0\u001b[39m\n",
      " \u001b[90m [39de3d68]\u001b[39m\u001b[92m + AxisArrays v0.4.3\u001b[39m\n",
      " \u001b[90m [aafaddc9]\u001b[39m\u001b[92m + CatIndices v0.2.1\u001b[39m\n",
      " \u001b[90m [c3611d14]\u001b[39m\u001b[92m + ColorVectorSpace v0.8.5\u001b[39m\n",
      " \u001b[90m [ed09eef8]\u001b[39m\u001b[92m + ComputationalResources v0.3.2\u001b[39m\n",
      " \u001b[90m [150eb455]\u001b[39m\u001b[92m + CoordinateTransformations v0.5.1\u001b[39m\n",
      " \u001b[90m [dc8bdbbb]\u001b[39m\u001b[92m + CustomUnitRanges v1.0.0\u001b[39m\n",
      " \u001b[90m [b4f34e82]\u001b[39m\u001b[92m + Distances v0.8.2\u001b[39m\n",
      " \u001b[90m [da5c29d0]\u001b[39m\u001b[92m + EllipsisNotation v0.4.0\u001b[39m\n",
      " \u001b[90m [4f61f5a4]\u001b[39m\u001b[92m + FFTViews v0.3.1\u001b[39m\n",
      " \u001b[90m [7a1cc6ca]\u001b[39m\u001b[92m + FFTW v1.2.1\u001b[39m\n",
      " \u001b[90m [f5851436]\u001b[39m\u001b[92m + FFTW_jll v3.3.9+5\u001b[39m\n",
      " \u001b[90m [a2bd30eb]\u001b[39m\u001b[92m + Graphics v1.0.2\u001b[39m\n",
      " \u001b[90m [bbac6d45]\u001b[39m\u001b[92m + IdentityRanges v0.3.1\u001b[39m\n",
      " \u001b[90m [2803e5a7]\u001b[39m\u001b[92m + ImageAxes v0.6.4\u001b[39m\n",
      " \u001b[90m [f332f351]\u001b[39m\u001b[92m + ImageContrastAdjustment v0.3.5\u001b[39m\n",
      " \u001b[90m [a09fc81d]\u001b[39m\u001b[92m + ImageCore v0.8.14\u001b[39m\n",
      " \u001b[90m [51556ac3]\u001b[39m\u001b[92m + ImageDistances v0.2.7\u001b[39m\n",
      " \u001b[90m [6a3955dd]\u001b[39m\u001b[92m + ImageFiltering v0.6.11\u001b[39m\n",
      " \u001b[90m [bc367c6b]\u001b[39m\u001b[92m + ImageMetadata v0.9.1\u001b[39m\n",
      " \u001b[90m [787d08f9]\u001b[39m\u001b[92m + ImageMorphology v0.2.5\u001b[39m\n",
      " \u001b[90m [2996bd0c]\u001b[39m\u001b[92m + ImageQualityIndexes v0.1.4\u001b[39m\n",
      " \u001b[90m [4e3cecfd]\u001b[39m\u001b[92m + ImageShow v0.2.3\u001b[39m\n",
      " \u001b[90m [02fcd773]\u001b[39m\u001b[92m + ImageTransformations v0.8.4\u001b[39m\n",
      " \u001b[90m [916415d5]\u001b[39m\u001b[92m + Images v0.22.2\u001b[39m\n",
      " \u001b[90m [9b13fd28]\u001b[39m\u001b[92m + IndirectArrays v0.5.1\u001b[39m\n",
      " \u001b[90m [1d5cc7b8]\u001b[39m\u001b[92m + IntelOpenMP_jll v2018.0.3+0\u001b[39m\n",
      " \u001b[90m [a98d9a8b]\u001b[39m\u001b[92m + Interpolations v0.12.9\u001b[39m\n",
      " \u001b[90m [8197267c]\u001b[39m\u001b[92m + IntervalSets v0.5.0\u001b[39m\n",
      " \u001b[90m [c8e1da08]\u001b[39m\u001b[92m + IterTools v1.3.0\u001b[39m\n",
      " \u001b[90m [856f044c]\u001b[39m\u001b[92m + MKL_jll v2019.0.117+2\u001b[39m\n",
      " \u001b[90m [e94cdb99]\u001b[39m\u001b[92m + MosaicViews v0.2.2\u001b[39m\n",
      " \u001b[90m [6fe1bfb0]\u001b[39m\u001b[92m + OffsetArrays v1.0.4\u001b[39m\n",
      " \u001b[90m [5432bcbf]\u001b[39m\u001b[92m + PaddedViews v0.5.5\u001b[39m\n",
      " \u001b[90m [d96e819e]\u001b[39m\u001b[92m + Parameters v0.12.1\u001b[39m\n",
      " \u001b[90m [b3c3ace0]\u001b[39m\u001b[92m + RangeArrays v0.3.2\u001b[39m\n",
      " \u001b[90m [c84ed2f1]\u001b[39m\u001b[92m + Ratios v0.4.0\u001b[39m\n",
      " \u001b[90m [6038ab10]\u001b[39m\u001b[92m + Rotations v0.13.0\u001b[39m\n",
      " \u001b[90m [699a6c99]\u001b[39m\u001b[92m + SimpleTraits v0.9.2\u001b[39m\n",
      " \u001b[90m [06e1c1a7]\u001b[39m\u001b[92m + TiledIteration v0.2.4\u001b[39m\n",
      " \u001b[90m [3a884ed6]\u001b[39m\u001b[92m + UnPack v1.0.0\u001b[39m\n",
      " \u001b[90m [efce3f68]\u001b[39m\u001b[92m + WoodburyMatrices v0.5.2\u001b[39m\n",
      "\u001b[32m\u001b[1m   Building\u001b[22m\u001b[39m FFTW → `C:\\Users\\HSI\\.julia\\packages\\FFTW\\5DZuu\\deps\\build.log`\n"
     ]
    }
   ],
   "source": [
    "using Pkg\n",
    "Pkg.add(\"Images\")"
   ]
  },
  {
   "cell_type": "code",
   "execution_count": null,
   "metadata": {},
   "outputs": [],
   "source": []
  }
 ],
 "metadata": {
  "kernelspec": {
   "display_name": "Julia 1.4.0",
   "language": "julia",
   "name": "julia-1.4"
  },
  "language_info": {
   "file_extension": ".jl",
   "mimetype": "application/julia",
   "name": "julia",
   "version": "1.4.0"
  }
 },
 "nbformat": 4,
 "nbformat_minor": 4
}
