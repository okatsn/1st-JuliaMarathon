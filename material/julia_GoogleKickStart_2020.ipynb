{
 "cells": [
  {
   "cell_type": "markdown",
   "metadata": {},
   "source": [
    "Problem\n",
    "\n",
    "There are N houses for sale. The i-th house costs Ai dollars to buy. You have a budget of B dollars to spend.\n",
    "\n",
    "What is the maximum number of houses you can buy?\n",
    "Input\n",
    "\n",
    "The first line of the input gives the number of test cases, T. T test cases follow. Each test case begins with a single line containing the two integers N and B. The second line contains N integers. The i-th integer is Ai, the cost of the i-th house.\n",
    "Output\n",
    "\n",
    "For each test case, output one line containing Case #x: y, where x is the test case number (starting from 1) and y is the maximum number of houses you can buy.\n",
    "Limits\n",
    "\n",
    "Time limit: 15 seconds per test set.\n",
    "Memory limit: 1GB.\n",
    "1 ≤ T ≤ 100.\n",
    "1 ≤ B ≤ 105.\n",
    "1 ≤ Ai ≤ 1000, for all i.\n",
    "Test set 1\n",
    "\n",
    "1 ≤ N ≤ 100.\n",
    "Test set 2\n",
    "\n",
    "1 ≤ N ≤ 105.\n",
    "Sample\n",
    "\n",
    "Input\n",
    "  \t\n",
    "Output\n",
    " \n",
    "\n",
    "3\n",
    "4 100\n",
    "20 90 40 90\n",
    "4 50\n",
    "30 30 10 10\n",
    "3 300\n",
    "999 999 999\n",
    "\n",
    "  \n",
    "\n",
    "\t\n",
    "\n",
    "Case #1: 2\n",
    "Case #2: 3\n",
    "Case #3: 0\n",
    "\n",
    "  \n",
    "\n",
    "In Sample Case #1, you have a budget of 100 dollars. You can buy the 1st and 3rd houses for 20 + 40 = 60 dollars.\n",
    "In Sample Case #2, you have a budget of 50 dollars. You can buy the 1st, 3rd and 4th houses for 30 + 10 + 10 = 50 dollars.\n",
    "In Sample Case #3, you have a budget of 300 dollars. You cannot buy any houses (so the answer is 0)."
   ]
  },
  {
   "cell_type": "markdown",
   "metadata": {},
   "source": [
    "Input"
   ]
  },
  {
   "cell_type": "code",
   "execution_count": 8,
   "metadata": {},
   "outputs": [],
   "source": [
    "using Random"
   ]
  },
  {
   "cell_type": "code",
   "execution_count": 79,
   "metadata": {},
   "outputs": [
    {
     "data": {
      "text/plain": [
       "100"
      ]
     },
     "execution_count": 79,
     "metadata": {},
     "output_type": "execute_result"
    }
   ],
   "source": [
    "T = 100;# rand(1:100000)\n",
    "N = rand(1:100000,T); # total number of houses on sale\n",
    "B = rand(1:100000,T); # my maximum budget\n",
    "A = rand(1:1000,(maximum(N),T));\n",
    "T"
   ]
  },
  {
   "cell_type": "code",
   "execution_count": 80,
   "metadata": {},
   "outputs": [
    {
     "name": "stdout",
     "output_type": "stream",
     "text": [
      "  0.110339 seconds (23.05 k allocations: 151.922 MiB, 20.46% gc time)\n"
     ]
    }
   ],
   "source": [
    "function maxIcanBuy(T,N,B,A)\n",
    "for k = 1:T\n",
    "    As = sort(A[:,k]);\n",
    "    Bx = 0; # total cost\n",
    "    Nx = NaN; # total houses I can buy\n",
    "    for i = 1:N[k]\n",
    "        if Bx + As[i] > B[k]\n",
    "            Nx = i-1;\n",
    "            break\n",
    "        else\n",
    "            Bx = Bx + As[i];\n",
    "        end\n",
    "    end\n",
    "#     println(\"Case #$T: $k\")\n",
    "#     println(\"Total Budget: $(B[k]); To Spend: $Bx\")\n",
    "end\n",
    "end\n",
    "@time maxIcanBuy(T,N,B,A)"
   ]
  },
  {
   "cell_type": "code",
   "execution_count": null,
   "metadata": {},
   "outputs": [],
   "source": []
  }
 ],
 "metadata": {
  "kernelspec": {
   "display_name": "Julia 1.5.0",
   "language": "julia",
   "name": "julia-1.5"
  },
  "language_info": {
   "file_extension": ".jl",
   "mimetype": "application/julia",
   "name": "julia",
   "version": "1.5.0"
  }
 },
 "nbformat": 4,
 "nbformat_minor": 4
}
