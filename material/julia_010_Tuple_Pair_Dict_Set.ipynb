{
 "cells": [
  {
   "cell_type": "markdown",
   "metadata": {
    "colab_type": "text",
    "id": "-N0dzzx9OMHh"
   },
   "source": [
    "# 集合 (Collection) 型別：元組 (Tuple) 、Pair、字典 (Dict)、與 Set\n",
    "\n",
    "除了之前介紹的陣列 (Array) 之外，還有其他重要及常見的集合型別。以下的內容將介紹的是 Julia 的幾種集合 (Collection) 型別：\n",
    "- 元組(Tuple)\n",
    "- Pair\n",
    "- 字典(Dict) \n",
    "- Set"
   ]
  },
  {
   "cell_type": "markdown",
   "metadata": {
    "colab_type": "text",
    "id": "CQoHz0SMOMHm"
   },
   "source": [
    "## 1. 元組 (Tuple)\n",
    "\n",
    "\n",
    "### 1.1 元組的建立\n",
    "\n",
    "- 元組的建立是使用小括號和逗號分隔的元素，可以是由不同型別的元素組成。\n",
    "\n",
    "- 元組是不可變的 (immutable)，所以建立後元素值是不能被改變的，也無法再增加元素。\n",
    "\n",
    "- 但是元組可以合併成為新元組(see 1.4)"
   ]
  },
  {
   "cell_type": "code",
   "execution_count": 2,
   "metadata": {
    "colab": {},
    "colab_type": "code",
    "id": "hkoz7EmIOMHo",
    "outputId": "36680818-1332-4e1b-ba43-3abd801ea7a5"
   },
   "outputs": [
    {
     "data": {
      "text/plain": [
       "(1, \"2\", 3.0)"
      ]
     },
     "execution_count": 2,
     "metadata": {},
     "output_type": "execute_result"
    }
   ],
   "source": [
    "a = (1, \"2\", 3.0)"
   ]
  },
  {
   "cell_type": "code",
   "execution_count": 4,
   "metadata": {},
   "outputs": [
    {
     "data": {
      "text/plain": [
       "\"2\""
      ]
     },
     "execution_count": 4,
     "metadata": {},
     "output_type": "execute_result"
    }
   ],
   "source": [
    "a[2]"
   ]
  },
  {
   "cell_type": "code",
   "execution_count": 5,
   "metadata": {},
   "outputs": [
    {
     "ename": "MethodError",
     "evalue": "MethodError: no method matching setindex!(::Tuple{Int64,String,Float64}, ::String, ::Int64)",
     "output_type": "error",
     "traceback": [
      "MethodError: no method matching setindex!(::Tuple{Int64,String,Float64}, ::String, ::Int64)",
      "",
      "Stacktrace:",
      " [1] top-level scope at In[5]:1"
     ]
    }
   ],
   "source": [
    "a[2] = \"3\""
   ]
  },
  {
   "cell_type": "markdown",
   "metadata": {
    "colab_type": "text",
    "id": "qLbeJVAqOMHu"
   },
   "source": [
    "**單一元素**的元組，元素後**仍然要帶逗號**，要不然型別不會被判定為元組。"
   ]
  },
  {
   "cell_type": "code",
   "execution_count": 6,
   "metadata": {
    "colab": {},
    "colab_type": "code",
    "id": "8P4uQeO-OMHv",
    "outputId": "1162b04d-c386-4cb1-df3b-28eba4ded249"
   },
   "outputs": [
    {
     "data": {
      "text/plain": [
       "(1,)"
      ]
     },
     "execution_count": 6,
     "metadata": {},
     "output_type": "execute_result"
    }
   ],
   "source": [
    "b = (1,)"
   ]
  },
  {
   "cell_type": "code",
   "execution_count": 7,
   "metadata": {
    "colab": {},
    "colab_type": "code",
    "id": "D2_XQwMWOMHz",
    "outputId": "4468a9b1-b6fb-4e3f-e928-753a74849df5"
   },
   "outputs": [
    {
     "data": {
      "text/plain": [
       "Tuple{Int64}"
      ]
     },
     "execution_count": 7,
     "metadata": {},
     "output_type": "execute_result"
    }
   ],
   "source": [
    "typeof(b)"
   ]
  },
  {
   "cell_type": "code",
   "execution_count": 8,
   "metadata": {
    "colab": {},
    "colab_type": "code",
    "id": "8QOd_AEiOMH3",
    "outputId": "22792d56-9eae-49fc-b730-397957a6755f"
   },
   "outputs": [
    {
     "data": {
      "text/plain": [
       "Int64"
      ]
     },
     "execution_count": 8,
     "metadata": {},
     "output_type": "execute_result"
    }
   ],
   "source": [
    "c = (2)\n",
    "typeof(c)"
   ]
  },
  {
   "cell_type": "markdown",
   "metadata": {
    "colab_type": "text",
    "id": "8O-UU8vdOMH8"
   },
   "source": [
    "也可以用建構子建立元組"
   ]
  },
  {
   "cell_type": "code",
   "execution_count": 9,
   "metadata": {
    "colab": {},
    "colab_type": "code",
    "id": "Ranb4B4MOMH9",
    "outputId": "1639abbf-8ad0-4af2-bcfd-1c0328a20c52"
   },
   "outputs": [
    {
     "data": {
      "text/plain": [
       "(1, 2, 3)"
      ]
     },
     "execution_count": 9,
     "metadata": {},
     "output_type": "execute_result"
    }
   ],
   "source": [
    "Tuple((1, 2, 3))"
   ]
  },
  {
   "cell_type": "markdown",
   "metadata": {
    "colab_type": "text",
    "id": "cMVlBIsxOMIA"
   },
   "source": [
    "### 1.2 元組的索引與命名元組\n",
    "\n",
    "命名元組 (Named Tuple) 是另一種形式的元組，可給予名稱給每個元素，例如：tupleA = (a = 1, b = 2, c = 3)。存取命名元組內的元素值時，除了可以用索引值外，也以透過名稱取得，例如：tupleA[3] 及 tupleA.c 均是取得第 3 個元素值。\n",
    "\n",
    "元組的索引值也是從 1 開始而非 0。"
   ]
  },
  {
   "cell_type": "code",
   "execution_count": 98,
   "metadata": {},
   "outputs": [
    {
     "ename": "ErrorException",
     "evalue": "syntax: invalid named tuple field name \"1\"",
     "output_type": "error",
     "traceback": [
      "syntax: invalid named tuple field name \"1\"",
      "",
      "Stacktrace:",
      " [1] top-level scope at C:\\Users\\HSI\\.julia\\packages\\IJulia\\yLI42\\src\\kernel.jl:52"
     ]
    }
   ],
   "source": [
    "(1=1,2=2) #  invalid tuple field name"
   ]
  },
  {
   "cell_type": "markdown",
   "metadata": {},
   "source": [
    "NamedTuple is faster than dictionary"
   ]
  },
  {
   "cell_type": "code",
   "execution_count": 1,
   "metadata": {
    "colab": {},
    "colab_type": "code",
    "id": "9DpbE44nOMIB",
    "outputId": "1f5ea7b5-fa21-4077-bd2d-1c449f607354"
   },
   "outputs": [
    {
     "data": {
      "text/plain": [
       "(a = 1, b = 2, c = 3)"
      ]
     },
     "execution_count": 1,
     "metadata": {},
     "output_type": "execute_result"
    }
   ],
   "source": [
    "tupleA = (a = 1, b = 2, c = 3) # every elements in a named tuple should have a name. Otherwise, error."
   ]
  },
  {
   "cell_type": "code",
   "execution_count": 12,
   "metadata": {
    "colab": {},
    "colab_type": "code",
    "id": "Iw8TPJrEOMIG",
    "outputId": "131cb432-3a5b-4275-b5ee-7869b3ce1879"
   },
   "outputs": [
    {
     "data": {
      "text/plain": [
       "3"
      ]
     },
     "execution_count": 12,
     "metadata": {},
     "output_type": "execute_result"
    }
   ],
   "source": [
    "tupleA.c"
   ]
  },
  {
   "cell_type": "code",
   "execution_count": 13,
   "metadata": {
    "colab": {},
    "colab_type": "code",
    "id": "W_2WPWdEOMIJ",
    "outputId": "31e59f80-6852-472d-e861-7625dfe42333"
   },
   "outputs": [
    {
     "data": {
      "text/plain": [
       "3"
      ]
     },
     "execution_count": 13,
     "metadata": {},
     "output_type": "execute_result"
    }
   ],
   "source": [
    "tupleA[3]"
   ]
  },
  {
   "cell_type": "markdown",
   "metadata": {
    "colab_type": "text",
    "id": "W5wK4DWPOMIN"
   },
   "source": [
    "### 1.3 元組的遍歷 (Traversal)\n",
    "\n",
    "要列出元組中所有元素值，可以透過索引或是迭代的方式。"
   ]
  },
  {
   "cell_type": "code",
   "execution_count": 14,
   "metadata": {
    "colab": {},
    "colab_type": "code",
    "id": "1beSbC64OMIO",
    "outputId": "33e7cad4-0013-4ec6-d737-31569b5fb560"
   },
   "outputs": [
    {
     "name": "stdout",
     "output_type": "stream",
     "text": [
      "1\n",
      "2\n",
      "3\n"
     ]
    }
   ],
   "source": [
    "for i ∈ tupleA\n",
    "    println(i)\n",
    "end"
   ]
  },
  {
   "cell_type": "code",
   "execution_count": 15,
   "metadata": {
    "colab": {},
    "colab_type": "code",
    "id": "NSG2OK-wOMIS",
    "outputId": "949567cb-4cb0-4e08-b6f0-208025f5c334"
   },
   "outputs": [
    {
     "name": "stdout",
     "output_type": "stream",
     "text": [
      "1\n",
      "2\n",
      "3\n"
     ]
    }
   ],
   "source": [
    "for i = 1:lastindex(tupleA)\n",
    "    println(tupleA[i])\n",
    "end"
   ]
  },
  {
   "cell_type": "markdown",
   "metadata": {
    "colab_type": "text",
    "id": "xYbe3ehUOMIX"
   },
   "source": [
    "### 1.4 元組的組合\n",
    "\n",
    "在建立元組時，可以將已有的元組透過 “…” 運算子展開到新的元組中，但特別要注意的是 **“…” 後要帶逗號**，否則會產生錯誤。"
   ]
  },
  {
   "cell_type": "code",
   "execution_count": 42,
   "metadata": {
    "colab": {},
    "colab_type": "code",
    "id": "BtGg23fgOMIY",
    "outputId": "b5c3fd81-7d24-483c-ea86-8cae1eed7131"
   },
   "outputs": [
    {
     "data": {
      "text/plain": [
       "(1, \"2\", 3.0)"
      ]
     },
     "execution_count": 42,
     "metadata": {},
     "output_type": "execute_result"
    }
   ],
   "source": [
    "d = (1, \"2\", 3.0)"
   ]
  },
  {
   "cell_type": "markdown",
   "metadata": {},
   "source": [
    "d... is similar to d{:} in matlab"
   ]
  },
  {
   "cell_type": "code",
   "execution_count": 43,
   "metadata": {
    "colab": {},
    "colab_type": "code",
    "id": "hSU2dq70OMIb",
    "outputId": "415605d2-153d-459e-a2e1-83f3a0a20629"
   },
   "outputs": [
    {
     "data": {
      "text/plain": [
       "(1, \"2\", 3.0, 1, \"StringX\", 3)"
      ]
     },
     "execution_count": 43,
     "metadata": {},
     "output_type": "execute_result"
    }
   ],
   "source": [
    "e = (d..., 1, \"StringX\", 3)"
   ]
  },
  {
   "cell_type": "code",
   "execution_count": 46,
   "metadata": {},
   "outputs": [
    {
     "data": {
      "text/plain": [
       "(1, \"2\", 3.0, 1, \"2\", 3.0, 1, \"StringX\", 3, 'c')"
      ]
     },
     "execution_count": 46,
     "metadata": {},
     "output_type": "execute_result"
    }
   ],
   "source": [
    "f = (d...,e...,'c')"
   ]
  },
  {
   "cell_type": "code",
   "execution_count": 47,
   "metadata": {},
   "outputs": [
    {
     "name": "stdout",
     "output_type": "stream",
     "text": [
      "1\n",
      "2\n",
      "3.0\n",
      "1\n",
      "2\n",
      "3.0\n",
      "1\n",
      "StringX\n",
      "3\n",
      "c\n"
     ]
    }
   ],
   "source": [
    "for i = 1:length(f)\n",
    "    println(f[i])\n",
    "end"
   ]
  },
  {
   "cell_type": "markdown",
   "metadata": {
    "colab_type": "text",
    "id": "1Lkvn_f4OMIf"
   },
   "source": [
    "## 2. Pair\n",
    "\n",
    "### 2.1 Pair 的建立\n",
    "\n",
    "Pair 型別是用來建立 key / value 兩種物件對應的型別，**Pair 也是不可變的 (immutable)**。Pair 的建立可以透過建構子或是 key=>value 語法建立。"
   ]
  },
  {
   "cell_type": "code",
   "execution_count": 94,
   "metadata": {
    "colab": {},
    "colab_type": "code",
    "id": "C0acxWx4OMIg",
    "outputId": "83fd7688-32f1-406f-cafd-d4ef5c725ee4"
   },
   "outputs": [
    {
     "data": {
      "text/plain": [
       "\"key1\" => 1"
      ]
     },
     "execution_count": 94,
     "metadata": {},
     "output_type": "execute_result"
    }
   ],
   "source": [
    "# 透過 Pair constructor 建立\n",
    "a = Pair(\"key1\", 1)"
   ]
  },
  {
   "cell_type": "code",
   "execution_count": 95,
   "metadata": {
    "colab": {},
    "colab_type": "code",
    "id": "gutPZyIGOMIk",
    "outputId": "ff417b34-4278-46ce-8d9f-9bbbef7b64c7"
   },
   "outputs": [
    {
     "data": {
      "text/plain": [
       "\"key1\" => 1"
      ]
     },
     "execution_count": 95,
     "metadata": {},
     "output_type": "execute_result"
    }
   ],
   "source": [
    "# 透過 key=>value 語法建立 Pair\n",
    "a = \"key1\"=>1"
   ]
  },
  {
   "cell_type": "markdown",
   "metadata": {
    "colab_type": "text",
    "id": "V-1Rb04yOMIo"
   },
   "source": [
    "### 2.2 Pair的索引\n",
    "\n",
    "取得 Pair 的 key 及 value，可以透過索引或是 first / second 成員。"
   ]
  },
  {
   "cell_type": "code",
   "execution_count": 96,
   "metadata": {
    "colab": {},
    "colab_type": "code",
    "id": "SWfpQWNSOMIp",
    "outputId": "c96a07bd-ec65-46a6-cdf3-b7664ae78bd3"
   },
   "outputs": [
    {
     "name": "stdout",
     "output_type": "stream",
     "text": [
      "key1\n",
      "1\n"
     ]
    }
   ],
   "source": [
    "# 透過索引取得 key 及 value\n",
    "println(a[1])\n",
    "println(a[2])"
   ]
  },
  {
   "cell_type": "code",
   "execution_count": 28,
   "metadata": {
    "colab": {},
    "colab_type": "code",
    "id": "xzQA5LqNOMIs",
    "outputId": "6bc6cba0-0056-4b36-e8ed-cf0bbfdcfdd0"
   },
   "outputs": [
    {
     "name": "stdout",
     "output_type": "stream",
     "text": [
      "key1\n",
      "1\n"
     ]
    }
   ],
   "source": [
    "# 透過 first 及 second 取得 key 及 value\n",
    "println(a.first)\n",
    "println(a.second)"
   ]
  },
  {
   "cell_type": "markdown",
   "metadata": {
    "colab_type": "text",
    "id": "z25lCnCVOMIv"
   },
   "source": [
    "## 3. 字典 (Dict)\n",
    "\n",
    "### 3.1 字典的建立\n",
    "\n",
    "字典的建立與前述的 Pair 非常類似，宣告 key=>value 對應。\n",
    "\n",
    "字典元素是**沒有順序**的。"
   ]
  },
  {
   "cell_type": "code",
   "execution_count": 56,
   "metadata": {
    "colab": {},
    "colab_type": "code",
    "id": "o7rwWofGOMIw",
    "outputId": "c4032bf9-360b-4507-e488-d22387a6b1dd",
    "scrolled": true
   },
   "outputs": [
    {
     "data": {
      "text/plain": [
       "Dict{Int64,Any} with 3 entries:\n",
       "  2 => \"2\"\n",
       "  3 => 3.0\n",
       "  1 => 1"
      ]
     },
     "execution_count": 56,
     "metadata": {},
     "output_type": "execute_result"
    }
   ],
   "source": [
    "Dict(1=>1, 2=>\"2\", 3=>3.0)"
   ]
  },
  {
   "cell_type": "markdown",
   "metadata": {
    "colab_type": "text",
    "id": "PIBPJ8JeOMIz"
   },
   "source": [
    "在建立字典時，也可以明確宣告型別。\n",
    "- `Dict{type_of_keys,type_of_values}()`"
   ]
  },
  {
   "cell_type": "code",
   "execution_count": 51,
   "metadata": {
    "colab": {},
    "colab_type": "code",
    "id": "iZZneWShOMI3",
    "outputId": "b4a3807d-74ec-4648-f0a4-121682b5acd0"
   },
   "outputs": [
    {
     "data": {
      "text/plain": [
       "Dict{Int64,Float64} with 3 entries:\n",
       "  2 => 2.2\n",
       "  3 => 3.0\n",
       "  1 => 1.0"
      ]
     },
     "execution_count": 51,
     "metadata": {},
     "output_type": "execute_result"
    }
   ],
   "source": [
    "Dict{Int64,Float64}(1=>1, 2=>2.2, 3=>3.0)"
   ]
  },
  {
   "cell_type": "markdown",
   "metadata": {
    "colab_type": "text",
    "id": "wvKr3yMIOMI8"
   },
   "source": [
    "下面的例子是將 Pair 放入字典。"
   ]
  },
  {
   "cell_type": "code",
   "execution_count": 52,
   "metadata": {
    "colab": {},
    "colab_type": "code",
    "id": "NiDFRLS_OMI9",
    "outputId": "2821f0d4-459b-4c16-8b16-49d722f25e84"
   },
   "outputs": [
    {
     "data": {
      "text/plain": [
       "Dict{String,Int64} with 1 entry:\n",
       "  \"key1\" => 1"
      ]
     },
     "execution_count": 52,
     "metadata": {},
     "output_type": "execute_result"
    }
   ],
   "source": [
    "a = Pair(\"key1\", 1)\n",
    "Dict(a)"
   ]
  },
  {
   "cell_type": "markdown",
   "metadata": {
    "colab_type": "text",
    "id": "McbaltdlOMJA"
   },
   "source": [
    "### 3.2 字典的索引\n",
    "\n",
    "字典的索引值就是各元素的 key 值，要存取得對應的元素值時可以使用 d[key值] 存取。"
   ]
  },
  {
   "cell_type": "code",
   "execution_count": 67,
   "metadata": {
    "colab": {},
    "colab_type": "code",
    "id": "32WPkkMwOMJB",
    "outputId": "28ebf529-eff0-443f-ced1-88edab643e35"
   },
   "outputs": [
    {
     "name": "stdout",
     "output_type": "stream",
     "text": [
      "1\n",
      "2\n",
      "3.0\n"
     ]
    }
   ],
   "source": [
    "d = Dict(\"key1\"=>1, \"key2\"=>\"2\", 3=>3.0)\n",
    "println(d[\"key1\"])\n",
    "println(d[\"key2\"])\n",
    "println(d[3])"
   ]
  },
  {
   "cell_type": "code",
   "execution_count": 72,
   "metadata": {},
   "outputs": [
    {
     "data": {
      "text/plain": [
       "Dict{Any,Any} with 5 entries:\n",
       "  2   => \"number2\"\n",
       "  3   => 3.0\n",
       "  '4' => 4\n",
       "  6.6 => [6 6 6]\n",
       "  1   => 1"
      ]
     },
     "execution_count": 72,
     "metadata": {},
     "output_type": "execute_result"
    }
   ],
   "source": [
    "dict1 = Dict(2=>\"number2\", 3=>3.0, 1=>1, '4'=>4, 6.6=> [6 6 6 ])"
   ]
  },
  {
   "cell_type": "code",
   "execution_count": 73,
   "metadata": {},
   "outputs": [
    {
     "name": "stdout",
     "output_type": "stream",
     "text": [
      "1\n",
      "number2\n",
      "4\n"
     ]
    }
   ],
   "source": [
    "println(dict1[1])\n",
    "println(dict1[2])\n",
    "println(dict1['4'])"
   ]
  },
  {
   "cell_type": "code",
   "execution_count": 74,
   "metadata": {},
   "outputs": [
    {
     "data": {
      "text/plain": [
       "1×3 Array{Int64,2}:\n",
       " 6  6  6"
      ]
     },
     "execution_count": 74,
     "metadata": {},
     "output_type": "execute_result"
    }
   ],
   "source": [
    "dict1[6.6]"
   ]
  },
  {
   "cell_type": "markdown",
   "metadata": {
    "colab_type": "text",
    "id": "Eq30GMUaOMJE"
   },
   "source": [
    "透過 `get(collection,key,default)` 函式也可以取得對應的元素值。"
   ]
  },
  {
   "cell_type": "code",
   "execution_count": 83,
   "metadata": {
    "colab": {},
    "colab_type": "code",
    "id": "0uclpgXZOMJF",
    "outputId": "7e08e7e6-4c2d-4ab1-dcdd-8004804c9ac8"
   },
   "outputs": [
    {
     "data": {
      "text/plain": [
       "1"
      ]
     },
     "execution_count": 83,
     "metadata": {},
     "output_type": "execute_result"
    }
   ],
   "source": [
    "default_val = \"Field not exist. This is the default value returned\"\n",
    "get(d, \"key1\", default_val)"
   ]
  },
  {
   "cell_type": "code",
   "execution_count": 84,
   "metadata": {},
   "outputs": [
    {
     "data": {
      "text/plain": [
       "1×3 Array{Int64,2}:\n",
       " 6  6  6"
      ]
     },
     "execution_count": 84,
     "metadata": {},
     "output_type": "execute_result"
    }
   ],
   "source": [
    "get(dict1,6.6,default_val)"
   ]
  },
  {
   "cell_type": "code",
   "execution_count": 87,
   "metadata": {},
   "outputs": [
    {
     "data": {
      "text/plain": [
       "\"Field not exist. This is the default value returned\""
      ]
     },
     "execution_count": 87,
     "metadata": {},
     "output_type": "execute_result"
    }
   ],
   "source": [
    "get(dict1,8,default_val)"
   ]
  },
  {
   "cell_type": "markdown",
   "metadata": {
    "colab_type": "text",
    "id": "k4_cAiBxOMJK"
   },
   "source": [
    "字典是可變的 (mutable)，透過索引可以變更字典元素的值。"
   ]
  },
  {
   "cell_type": "code",
   "execution_count": 100,
   "metadata": {
    "colab": {},
    "colab_type": "code",
    "id": "Esmxzs8YOMJK",
    "outputId": "191fdc94-f1b7-4863-ee22-ac2f9f6f725f"
   },
   "outputs": [
    {
     "data": {
      "text/plain": [
       "Dict{Any,Any} with 3 entries:\n",
       "  \"key2\" => 2.2\n",
       "  3      => 3.0\n",
       "  \"key1\" => 1"
      ]
     },
     "execution_count": 100,
     "metadata": {},
     "output_type": "execute_result"
    }
   ],
   "source": [
    "d[\"key2\"] = 2.2\n",
    "d"
   ]
  },
  {
   "cell_type": "markdown",
   "metadata": {
    "colab_type": "text",
    "id": "qkp5zLTGOMJO"
   },
   "source": [
    "### 3.3 字典 (Dict) 的遍歷 (Traversal)\n",
    "\n",
    "要知道字典中有多少個元素 (key 及其對應值)，可以透過 2 種方式：\n",
    "- `length()` 函式\n",
    "- 字典的 count 成員"
   ]
  },
  {
   "cell_type": "code",
   "execution_count": 1,
   "metadata": {
    "colab": {},
    "colab_type": "code",
    "id": "BjNjUN-lOMJP",
    "outputId": "f15ab76b-b915-4bc8-8d3c-895fb958c6a7"
   },
   "outputs": [
    {
     "data": {
      "text/plain": [
       "3"
      ]
     },
     "execution_count": 1,
     "metadata": {},
     "output_type": "execute_result"
    }
   ],
   "source": [
    "d = Dict(\"key1\"=>1, \"key2\"=>\"2\", 3=>3.0)\n",
    "length(d)"
   ]
  },
  {
   "cell_type": "code",
   "execution_count": 2,
   "metadata": {
    "colab": {},
    "colab_type": "code",
    "id": "eDRT9YEgOMJS",
    "outputId": "c39ec1bb-2254-4fb6-91e7-85b527fe641f"
   },
   "outputs": [
    {
     "data": {
      "text/plain": [
       "3"
      ]
     },
     "execution_count": 2,
     "metadata": {},
     "output_type": "execute_result"
    }
   ],
   "source": [
    "d.count"
   ]
  },
  {
   "cell_type": "code",
   "execution_count": 3,
   "metadata": {},
   "outputs": [
    {
     "ename": "TypeError",
     "evalue": "TypeError: non-boolean (Pair{Any,Any}) used in boolean context",
     "output_type": "error",
     "traceback": [
      "TypeError: non-boolean (Pair{Any,Any}) used in boolean context",
      "",
      "Stacktrace:",
      " [1] count at .\\reduce.jl:855 [inlined]",
      " [2] count(::Dict{Any,Any}) at .\\reduce.jl:866",
      " [3] top-level scope at In[3]:1"
     ]
    }
   ],
   "source": [
    "count(d)"
   ]
  },
  {
   "cell_type": "markdown",
   "metadata": {
    "colab_type": "text",
    "id": "DQy3j251OMJV"
   },
   "source": [
    "**透過 `keys()` 函式，列出所有 key 值。**\n",
    "> similar to `fieldnames()` in matlab (**fieldnames() in julia is different from fieldnames() in matlab!**)\n"
   ]
  },
  {
   "cell_type": "code",
   "execution_count": 93,
   "metadata": {
    "colab": {},
    "colab_type": "code",
    "id": "4iDSYdi8OMJW",
    "outputId": "59b8dcc7-1acc-442a-fefc-028d4b8a7160"
   },
   "outputs": [
    {
     "data": {
      "text/plain": [
       "Base.KeySet for a Dict{Any,Any} with 3 entries. Keys:\n",
       "  \"key2\"\n",
       "  3\n",
       "  \"key1\""
      ]
     },
     "execution_count": 93,
     "metadata": {},
     "output_type": "execute_result"
    }
   ],
   "source": [
    "keys(d)"
   ]
  },
  {
   "cell_type": "code",
   "execution_count": 0,
   "metadata": {
    "colab": {},
    "colab_type": "code",
    "id": "FjWV1K2bOMJa",
    "outputId": "5f9517f9-4ee4-412e-d2f9-f8b640e90284"
   },
   "outputs": [
    {
     "name": "stdout",
     "output_type": "stream",
     "text": [
      "key2\n",
      "3\n",
      "key1\n"
     ]
    }
   ],
   "source": [
    "for k in keys(d)\n",
    "    println(k)\n",
    "end"
   ]
  },
  {
   "cell_type": "code",
   "execution_count": 102,
   "metadata": {},
   "outputs": [
    {
     "name": "stdout",
     "output_type": "stream",
     "text": [
      "number2\n",
      "3.0\n",
      "4\n",
      "[6 6 6]\n",
      "1\n"
     ]
    }
   ],
   "source": [
    "for k in keys(dict1)\n",
    "    println(dict1[k])\n",
    "end"
   ]
  },
  {
   "cell_type": "markdown",
   "metadata": {
    "colab_type": "text",
    "id": "Amlq5riHOMJe"
   },
   "source": [
    "**透過 `values()` 函式，列出所有元素值。**"
   ]
  },
  {
   "cell_type": "code",
   "execution_count": 104,
   "metadata": {
    "colab": {},
    "colab_type": "code",
    "id": "N9eAdZFgOMJf",
    "outputId": "f305fde6-fe01-4ea4-bf91-267633ea601a"
   },
   "outputs": [
    {
     "data": {
      "text/plain": [
       "Base.ValueIterator for a Dict{Any,Any} with 3 entries. Values:\n",
       "  \"2\"\n",
       "  3.0\n",
       "  1"
      ]
     },
     "execution_count": 104,
     "metadata": {},
     "output_type": "execute_result"
    }
   ],
   "source": [
    "values(d)"
   ]
  },
  {
   "cell_type": "markdown",
   "metadata": {
    "colab_type": "text",
    "id": "Ff5zVtsCOMJi"
   },
   "source": [
    "配合 `collect()` 函式，可以將所有的 value 轉為陣列。"
   ]
  },
  {
   "cell_type": "code",
   "execution_count": 146,
   "metadata": {
    "colab": {},
    "colab_type": "code",
    "id": "o2rkPcDyOMJj",
    "outputId": "8d7a7e61-4c40-48e8-a500-0678216bf695"
   },
   "outputs": [
    {
     "data": {
      "text/plain": [
       "4-element Array{Any,1}:\n",
       "  \"2\"\n",
       " 1\n",
       " 3.0\n",
       " 1"
      ]
     },
     "execution_count": 146,
     "metadata": {},
     "output_type": "execute_result"
    }
   ],
   "source": [
    "collect(values(d))"
   ]
  },
  {
   "cell_type": "markdown",
   "metadata": {
    "colab_type": "text",
    "id": "4E5nAQizOMJl"
   },
   "source": [
    "### 3.4 字典 (Dict) 的加入或剔除元素\n",
    "\n",
    "要加入元素到字典中，只要指定一個新的 key 及其對應值，就可以自動將其加入到字典中。"
   ]
  },
  {
   "cell_type": "code",
   "execution_count": 20,
   "metadata": {
    "colab": {},
    "colab_type": "code",
    "id": "0g6Af5jQOMJm",
    "outputId": "cd25f9c1-1b8f-4731-ce41-d9ffa8ddd2fb"
   },
   "outputs": [
    {
     "data": {
      "text/plain": [
       "Dict{Any,Any} with 4 entries:\n",
       "  \"key2\"        => \"2\"\n",
       "  399           => 3.0\n",
       "  \"key1\"        => 1\n",
       "  \"first_place\" => \"key in the first place is not necessarily the first key\""
      ]
     },
     "execution_count": 20,
     "metadata": {},
     "output_type": "execute_result"
    }
   ],
   "source": [
    "d = Dict(\"first_place\"=>\"key in the first place is not necessarily the first key\",\"key1\"=>1, \"key2\"=>\"2\", 399=>3.0) \n",
    "# noted that the order is not matter"
   ]
  },
  {
   "cell_type": "code",
   "execution_count": 22,
   "metadata": {
    "colab": {},
    "colab_type": "code",
    "id": "98EzXO3VOMJp",
    "outputId": "c3bc8805-b040-4170-f037-fd4ebbaf41d0"
   },
   "outputs": [
    {
     "data": {
      "text/plain": [
       "Dict{Any,Any} with 5 entries:\n",
       "  \"new key\"     => 4\n",
       "  \"key2\"        => \"2\"\n",
       "  399           => 3.0\n",
       "  \"key1\"        => 1\n",
       "  \"first_place\" => \"key in the first place is not necessarily the first key\""
      ]
     },
     "execution_count": 22,
     "metadata": {},
     "output_type": "execute_result"
    }
   ],
   "source": [
    "d[\"new key\"] = 4\n",
    "d"
   ]
  },
  {
   "cell_type": "markdown",
   "metadata": {
    "colab_type": "text",
    "id": "hJvU6SX_OMJs"
   },
   "source": [
    "呼叫 `delete!()` 函式刪除某個 key 及其對應值。"
   ]
  },
  {
   "cell_type": "code",
   "execution_count": 23,
   "metadata": {
    "colab": {},
    "colab_type": "code",
    "id": "OyhKgPFFOMJs",
    "outputId": "572a68b3-de67-4491-acbd-4e24d8b0e953"
   },
   "outputs": [
    {
     "data": {
      "text/plain": [
       "Dict{Any,Any} with 4 entries:\n",
       "  \"new key\"     => 4\n",
       "  399           => 3.0\n",
       "  \"key1\"        => 1\n",
       "  \"first_place\" => \"key in the first place is not necessarily the first key\""
      ]
     },
     "execution_count": 23,
     "metadata": {},
     "output_type": "execute_result"
    }
   ],
   "source": [
    "delete!(d, \"key2\")"
   ]
  },
  {
   "cell_type": "markdown",
   "metadata": {
    "colab_type": "text",
    "id": "xk7BCwdwOMJv"
   },
   "source": [
    "也可以呼叫 `pop!()` 函式刪除某個 key 及其對應值同時取出該對應值。"
   ]
  },
  {
   "cell_type": "code",
   "execution_count": 24,
   "metadata": {
    "colab": {},
    "colab_type": "code",
    "id": "qfxXHvUuOMJw",
    "outputId": "a34d4af1-9274-44fd-9d34-7add5b6e4194"
   },
   "outputs": [
    {
     "data": {
      "text/plain": [
       "3.0"
      ]
     },
     "execution_count": 24,
     "metadata": {},
     "output_type": "execute_result"
    }
   ],
   "source": [
    "pop!(d, 399) "
   ]
  },
  {
   "cell_type": "code",
   "execution_count": 25,
   "metadata": {},
   "outputs": [
    {
     "ename": "MethodError",
     "evalue": "MethodError: no method matching popfirst!(::Dict{Any,Any})\nClosest candidates are:\n  popfirst!(!Matched::BitSet) at bitset.jl:300\n  popfirst!(!Matched::BitArray{1}) at bitarray.jl:848\n  popfirst!(!Matched::Array{T,1} where T) at array.jl:1185\n  ...",
     "output_type": "error",
     "traceback": [
      "MethodError: no method matching popfirst!(::Dict{Any,Any})\nClosest candidates are:\n  popfirst!(!Matched::BitSet) at bitset.jl:300\n  popfirst!(!Matched::BitArray{1}) at bitarray.jl:848\n  popfirst!(!Matched::Array{T,1} where T) at array.jl:1185\n  ...",
      "",
      "Stacktrace:",
      " [1] top-level scope at In[25]:1"
     ]
    }
   ],
   "source": [
    "popfirst!(d) # popfirst is not available for dictionary"
   ]
  },
  {
   "cell_type": "code",
   "execution_count": 26,
   "metadata": {
    "colab": {},
    "colab_type": "code",
    "id": "K4RHI7cdOMJz",
    "outputId": "b841f788-8d73-43e1-8c5d-48c617851e13"
   },
   "outputs": [
    {
     "data": {
      "text/plain": [
       "Dict{Any,Any} with 2 entries:\n",
       "  \"new key\"     => 4\n",
       "  \"first_place\" => \"key in the first place is not necessarily the first key\""
      ]
     },
     "execution_count": 26,
     "metadata": {},
     "output_type": "execute_result"
    }
   ],
   "source": [
    "pop!(d, \"key1\") \n",
    "d"
   ]
  },
  {
   "cell_type": "code",
   "execution_count": 27,
   "metadata": {},
   "outputs": [
    {
     "data": {
      "text/plain": [
       "\"new key\" => 4"
      ]
     },
     "execution_count": 27,
     "metadata": {},
     "output_type": "execute_result"
    }
   ],
   "source": [
    "# if pop! with out assigning key, error will occurred but you may delete the wrong key-value pair\n",
    "pop!(d)"
   ]
  },
  {
   "cell_type": "code",
   "execution_count": 28,
   "metadata": {},
   "outputs": [
    {
     "data": {
      "text/plain": [
       "Dict{Any,Any} with 1 entry:\n",
       "  \"first_place\" => \"key in the first place is not necessarily the first key\""
      ]
     },
     "execution_count": 28,
     "metadata": {},
     "output_type": "execute_result"
    }
   ],
   "source": [
    "d"
   ]
  },
  {
   "cell_type": "markdown",
   "metadata": {
    "colab_type": "text",
    "id": "3W2F1MnPOMJ2"
   },
   "source": [
    "## 4. Set\n",
    "\n",
    "### 4.1 Set 的建立\n",
    "\n",
    "Set 建立時，需要透過建構子 (constructor)，將其他集合型別 (例如陣列或元組) 以參數傳給建構子。\n",
    "\n",
    "Set 有幾個特性：\n",
    "- Set 元素是**沒有順序**的。\n",
    "- Set 中的**元素不重覆**，如果重覆的話只會保留一個。"
   ]
  },
  {
   "cell_type": "code",
   "execution_count": 31,
   "metadata": {},
   "outputs": [
    {
     "data": {
      "text/plain": [
       "Set{Int64} with 6 elements:\n",
       "  4\n",
       "  2\n",
       "  3\n",
       "  5\n",
       "  6\n",
       "  1"
      ]
     },
     "execution_count": 31,
     "metadata": {},
     "output_type": "execute_result"
    }
   ],
   "source": [
    "Set([1, 2, 3, 4, 5, 5, 6])"
   ]
  },
  {
   "cell_type": "code",
   "execution_count": 0,
   "metadata": {
    "colab": {},
    "colab_type": "code",
    "id": "1qjFQAfeOMJ3",
    "outputId": "d601cb41-3793-430d-8a01-e10688ae9881"
   },
   "outputs": [
    {
     "data": {
      "text/plain": [
       "Set([4, 2, 3, 5, 6, 1])"
      ]
     },
     "execution_count": 34,
     "metadata": {
      "tags": []
     },
     "output_type": "execute_result"
    }
   ],
   "source": [
    "# 使用陣列\n",
    "Set([1, 2, 3, 4, 5, 5, 6])"
   ]
  },
  {
   "cell_type": "code",
   "execution_count": 0,
   "metadata": {
    "colab": {},
    "colab_type": "code",
    "id": "z5KlmyhtOMJ7",
    "outputId": "868426e4-49f8-4459-85d2-cbde1d3cda6f"
   },
   "outputs": [
    {
     "data": {
      "text/plain": [
       "Set([4, 2, 3, 5, 6, 1])"
      ]
     },
     "execution_count": 35,
     "metadata": {
      "tags": []
     },
     "output_type": "execute_result"
    }
   ],
   "source": [
    "# 使用元組\n",
    "Set((1, 2, 3, 4, 5, 5, 6))"
   ]
  },
  {
   "cell_type": "markdown",
   "metadata": {
    "colab_type": "text",
    "id": "TMIadcgjOMJ-"
   },
   "source": [
    "### 4.2 Set 常用函式"
   ]
  },
  {
   "cell_type": "code",
   "execution_count": 48,
   "metadata": {
    "colab": {},
    "colab_type": "code",
    "id": "HADZ0zn8OMJ-",
    "outputId": "fde61e79-2652-4bb8-f1d9-063ac6c7f3e9"
   },
   "outputs": [
    {
     "data": {
      "text/plain": [
       "Set{Int64} with 3 elements:\n",
       "  3\n",
       "  5\n",
       "  1"
      ]
     },
     "execution_count": 48,
     "metadata": {},
     "output_type": "execute_result"
    }
   ],
   "source": [
    "a = Set([1, 2, 3, 4, 5])\n",
    "b = Set([1, 3, 5])"
   ]
  },
  {
   "cell_type": "markdown",
   "metadata": {
    "colab_type": "text",
    "id": "i-7HCKZ6OMKE"
   },
   "source": [
    "`union()`：2 個 Set 的聯集"
   ]
  },
  {
   "cell_type": "code",
   "execution_count": 49,
   "metadata": {
    "colab": {},
    "colab_type": "code",
    "id": "mCTyw67ROMKF",
    "outputId": "7b7bdfe0-07a6-427e-bb59-d2f4436f6395"
   },
   "outputs": [
    {
     "data": {
      "text/plain": [
       "Set{Int64} with 5 elements:\n",
       "  4\n",
       "  2\n",
       "  3\n",
       "  5\n",
       "  1"
      ]
     },
     "execution_count": 49,
     "metadata": {},
     "output_type": "execute_result"
    }
   ],
   "source": [
    "union(a, b)"
   ]
  },
  {
   "cell_type": "markdown",
   "metadata": {
    "colab_type": "text",
    "id": "P-8Y8CyMOMKO"
   },
   "source": [
    "`intersect()`：2 個 Set 的交集"
   ]
  },
  {
   "cell_type": "code",
   "execution_count": 50,
   "metadata": {
    "colab": {},
    "colab_type": "code",
    "id": "FDYBbHFtOMKP",
    "outputId": "00ef9ba3-fac8-4deb-88c8-79c9687c1eb8"
   },
   "outputs": [
    {
     "data": {
      "text/plain": [
       "Set{Int64} with 3 elements:\n",
       "  3\n",
       "  5\n",
       "  1"
      ]
     },
     "execution_count": 50,
     "metadata": {},
     "output_type": "execute_result"
    }
   ],
   "source": [
    "intersect(a, b)"
   ]
  },
  {
   "cell_type": "markdown",
   "metadata": {
    "colab_type": "text",
    "id": "yar9EvPsOMKe"
   },
   "source": [
    "`setdiff()`：2 個 Set 的差異"
   ]
  },
  {
   "cell_type": "code",
   "execution_count": 51,
   "metadata": {
    "colab": {},
    "colab_type": "code",
    "id": "Yvu9mE63OMKf",
    "outputId": "49c10ef2-4df3-4712-afa6-7bdc5febaa9b"
   },
   "outputs": [
    {
     "data": {
      "text/plain": [
       "Set{Int64} with 2 elements:\n",
       "  4\n",
       "  2"
      ]
     },
     "execution_count": 51,
     "metadata": {},
     "output_type": "execute_result"
    }
   ],
   "source": [
    "setdiff(a, b)"
   ]
  },
  {
   "cell_type": "markdown",
   "metadata": {
    "colab_type": "text",
    "id": "mvp-O9W_OMKh"
   },
   "source": [
    "2 個 Set 的關係判斷，a set 是否為 b set 的子集。也可以使用 ⊆ 運算符號。"
   ]
  },
  {
   "cell_type": "code",
   "execution_count": 52,
   "metadata": {
    "colab": {},
    "colab_type": "code",
    "id": "dUiJ7IhsOMKi",
    "outputId": "7fb3465f-7d16-49d5-862d-2af7be15a85a"
   },
   "outputs": [
    {
     "data": {
      "text/plain": [
       "false"
      ]
     },
     "execution_count": 52,
     "metadata": {},
     "output_type": "execute_result"
    }
   ],
   "source": [
    "issubset(a, b)"
   ]
  },
  {
   "cell_type": "code",
   "execution_count": 53,
   "metadata": {
    "colab": {},
    "colab_type": "code",
    "id": "5IdfO1udOMKn",
    "outputId": "50c93a7a-7797-49e5-944a-324fee7e38d8"
   },
   "outputs": [
    {
     "data": {
      "text/plain": [
       "true"
      ]
     },
     "execution_count": 53,
     "metadata": {},
     "output_type": "execute_result"
    }
   ],
   "source": [
    "issubset(b, a)"
   ]
  },
  {
   "cell_type": "code",
   "execution_count": 54,
   "metadata": {
    "colab": {},
    "colab_type": "code",
    "id": "9qX14eJUOMKr",
    "outputId": "2b666fb3-64b2-4dc3-ef2f-505d73bd68fe"
   },
   "outputs": [
    {
     "data": {
      "text/plain": [
       "true"
      ]
     },
     "execution_count": 54,
     "metadata": {},
     "output_type": "execute_result"
    }
   ],
   "source": [
    "# issubset 可以使用 ⊆ 運算符號，其 LaTeX 語法為 \\subseteq\n",
    "b ⊆ b"
   ]
  },
  {
   "cell_type": "markdown",
   "metadata": {
    "colab_type": "text",
    "id": "Jtm9xCWHOMKv"
   },
   "source": [
    "`isempty()`：判斷 Set 是否為空"
   ]
  },
  {
   "cell_type": "code",
   "execution_count": 55,
   "metadata": {
    "colab": {},
    "colab_type": "code",
    "id": "-YsicLL3OMKw",
    "outputId": "094b9ea4-dbb5-4c87-d49f-4b0c7e58884e"
   },
   "outputs": [
    {
     "data": {
      "text/plain": [
       "false"
      ]
     },
     "execution_count": 55,
     "metadata": {},
     "output_type": "execute_result"
    }
   ],
   "source": [
    "isempty(a)"
   ]
  },
  {
   "cell_type": "markdown",
   "metadata": {
    "colab_type": "text",
    "id": "eevE-Fa2OMK1"
   },
   "source": [
    "`empty!()`：清除 Set 中所有元素，也可以用於元組、陣列、字典。"
   ]
  },
  {
   "cell_type": "code",
   "execution_count": 56,
   "metadata": {
    "colab": {},
    "colab_type": "code",
    "id": "ZIsQslU3OMK2",
    "outputId": "060d495d-4502-44cc-a6bd-a5390ca32d95"
   },
   "outputs": [
    {
     "data": {
      "text/plain": [
       "Set{Int64} with 0 elements"
      ]
     },
     "execution_count": 56,
     "metadata": {},
     "output_type": "execute_result"
    }
   ],
   "source": [
    "empty!(a)"
   ]
  },
  {
   "cell_type": "markdown",
   "metadata": {
    "colab": {},
    "colab_type": "code",
    "id": "gQBqK2ivOMK6"
   },
   "source": [
    "### haskey\n",
    "- `haskey(collection, key)` -> Bool\n",
    "- Determine whether a collection has a mapping for a given key."
   ]
  },
  {
   "cell_type": "code",
   "execution_count": 61,
   "metadata": {},
   "outputs": [
    {
     "data": {
      "text/plain": [
       "Dict{Any,Any} with 3 entries:\n",
       "  \"key2\" => \"2\"\n",
       "  3      => 3.0\n",
       "  \"key1\" => 1"
      ]
     },
     "execution_count": 61,
     "metadata": {},
     "output_type": "execute_result"
    }
   ],
   "source": [
    "d = Dict(\"key1\"=>1, \"key2\"=>\"2\", 3=>3.0)"
   ]
  },
  {
   "cell_type": "code",
   "execution_count": 63,
   "metadata": {},
   "outputs": [
    {
     "data": {
      "text/plain": [
       "true"
      ]
     },
     "execution_count": 63,
     "metadata": {},
     "output_type": "execute_result"
    }
   ],
   "source": [
    "haskey(d,3)"
   ]
  },
  {
   "cell_type": "code",
   "execution_count": 64,
   "metadata": {},
   "outputs": [
    {
     "data": {
      "text/plain": [
       "true"
      ]
     },
     "execution_count": 64,
     "metadata": {},
     "output_type": "execute_result"
    }
   ],
   "source": [
    "haskey(d,\"key1\")"
   ]
  },
  {
   "cell_type": "code",
   "execution_count": 65,
   "metadata": {},
   "outputs": [
    {
     "data": {
      "text/plain": [
       "false"
      ]
     },
     "execution_count": 65,
     "metadata": {},
     "output_type": "execute_result"
    }
   ],
   "source": [
    "haskey(d,\"not_a_key\")"
   ]
  },
  {
   "cell_type": "code",
   "execution_count": null,
   "metadata": {},
   "outputs": [],
   "source": []
  }
 ],
 "metadata": {
  "@webio": {
   "lastCommId": null,
   "lastKernelId": null
  },
  "colab": {
   "name": "julia_010_example.ipynb",
   "provenance": []
  },
  "kernelspec": {
   "display_name": "Julia 1.4.0",
   "language": "julia",
   "name": "julia-1.4"
  },
  "language_info": {
   "file_extension": ".jl",
   "mimetype": "application/julia",
   "name": "julia",
   "version": "1.4.0"
  }
 },
 "nbformat": 4,
 "nbformat_minor": 1
}
