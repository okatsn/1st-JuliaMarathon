{
 "cells": [
  {
   "cell_type": "markdown",
   "metadata": {
    "colab_type": "text",
    "id": "4r1AJmwCVGZU"
   },
   "source": [
    "# Julia Multiple Dispatch (多重分派)"
   ]
  },
  {
   "cell_type": "markdown",
   "metadata": {
    "colab_type": "text",
    "id": "yFVq2SV2VGZa"
   },
   "source": [
    "## 1. Multiple Dispatch (多重分派)\n",
    "\n",
    "多重分派被認為是 Julia 語言中最強大的單一特性 (在官方文件中指出: \"... multiple dispatch on the types of values is perhaps the single most powerful and central feature of the Julia language.\")\n",
    "\n",
    "多重分派的觸發時機是在執行期間 (runtime), 呼叫函式時根據傳入引數 (argument) 的數目及型別, 判斷應該呼叫的方法 (method). 之所以稱之為 **multiple** dispatch 的原因是, Julia 判斷時是根據所有引數, 而非像在某些程式語言中是根據第一個引數做判斷.\n",
    "\n",
    "與多重分派相似的程式語言概念是 _Function Overloading_, 最大的不同點在於, Function Overloading 的觸發時機點在編譯 (compile time) 期間.\n",
    "\n",
    "### 1.1 Methods\n",
    "\n",
    "Julia 內建的函式均已使用多重分派實作, 例如下面的例子, 使用 `methods()` 函式列出加法函式的實作定義, 可以看到因多重分派, 我們可以傳入不同型別的值到加法函式中進行運算.\n",
    "\n",
    "Method 是 Function (函式) 的行為 (behavior) 定義, 一個函式可以被定義多個行為, 也就是多個 Method, 在 Method 中再去進行不同的實作."
   ]
  },
  {
   "cell_type": "code",
   "execution_count": 1,
   "metadata": {
    "colab": {},
    "colab_type": "code",
    "id": "udYtjZPQVGZc",
    "outputId": "b5b87cd0-b962-4784-852c-ecfe8100d53e"
   },
   "outputs": [
    {
     "data": {
      "text/html": [
       "# 166 methods for generic function <b>+</b>:<ul><li> +(x::<b>Bool</b>, z::<b>Complex{Bool}</b>) in Base at <a href=\"https://github.com/JuliaLang/julia/tree/b8e9a9ecc62ab49003bd4f1834771bdeb8cb1aa2/base/complex.jl#L286\" target=\"_blank\">complex.jl:286</a></li> <li> +(x::<b>Bool</b>, y::<b>Bool</b>) in Base at <a href=\"https://github.com/JuliaLang/julia/tree/b8e9a9ecc62ab49003bd4f1834771bdeb8cb1aa2/base/bool.jl#L96\" target=\"_blank\">bool.jl:96</a></li> <li> +(x::<b>Bool</b>) in Base at <a href=\"https://github.com/JuliaLang/julia/tree/b8e9a9ecc62ab49003bd4f1834771bdeb8cb1aa2/base/bool.jl#L93\" target=\"_blank\">bool.jl:93</a></li> <li> +(x::<b>Bool</b>, y::<b>T</b>)<i> where T<:AbstractFloat</i> in Base at <a href=\"https://github.com/JuliaLang/julia/tree/b8e9a9ecc62ab49003bd4f1834771bdeb8cb1aa2/base/bool.jl#L104\" target=\"_blank\">bool.jl:104</a></li> <li> +(x::<b>Bool</b>, z::<b>Complex</b>) in Base at <a href=\"https://github.com/JuliaLang/julia/tree/b8e9a9ecc62ab49003bd4f1834771bdeb8cb1aa2/base/complex.jl#L293\" target=\"_blank\">complex.jl:293</a></li> <li> +(a::<b>Float16</b>, b::<b>Float16</b>) in Base at <a href=\"https://github.com/JuliaLang/julia/tree/b8e9a9ecc62ab49003bd4f1834771bdeb8cb1aa2/base/float.jl#L398\" target=\"_blank\">float.jl:398</a></li> <li> +(x::<b>Float32</b>, y::<b>Float32</b>) in Base at <a href=\"https://github.com/JuliaLang/julia/tree/b8e9a9ecc62ab49003bd4f1834771bdeb8cb1aa2/base/float.jl#L400\" target=\"_blank\">float.jl:400</a></li> <li> +(x::<b>Float64</b>, y::<b>Float64</b>) in Base at <a href=\"https://github.com/JuliaLang/julia/tree/b8e9a9ecc62ab49003bd4f1834771bdeb8cb1aa2/base/float.jl#L401\" target=\"_blank\">float.jl:401</a></li> <li> +(z::<b>Complex{Bool}</b>, x::<b>Bool</b>) in Base at <a href=\"https://github.com/JuliaLang/julia/tree/b8e9a9ecc62ab49003bd4f1834771bdeb8cb1aa2/base/complex.jl#L287\" target=\"_blank\">complex.jl:287</a></li> <li> +(z::<b>Complex{Bool}</b>, x::<b>Real</b>) in Base at <a href=\"https://github.com/JuliaLang/julia/tree/b8e9a9ecc62ab49003bd4f1834771bdeb8cb1aa2/base/complex.jl#L301\" target=\"_blank\">complex.jl:301</a></li> <li> +(::<b>Missing</b>, ::<b>Missing</b>) in Base at <a href=\"https://github.com/JuliaLang/julia/tree/b8e9a9ecc62ab49003bd4f1834771bdeb8cb1aa2/base/missing.jl#L114\" target=\"_blank\">missing.jl:114</a></li> <li> +(::<b>Missing</b>) in Base at <a href=\"https://github.com/JuliaLang/julia/tree/b8e9a9ecc62ab49003bd4f1834771bdeb8cb1aa2/base/missing.jl#L100\" target=\"_blank\">missing.jl:100</a></li> <li> +(::<b>Missing</b>, ::<b>Number</b>) in Base at <a href=\"https://github.com/JuliaLang/julia/tree/b8e9a9ecc62ab49003bd4f1834771bdeb8cb1aa2/base/missing.jl#L115\" target=\"_blank\">missing.jl:115</a></li> <li> +(level::<b>Base.CoreLogging.LogLevel</b>, inc::<b>Integer</b>) in Base.CoreLogging at <a href=\"https://github.com/JuliaLang/julia/tree/b8e9a9ecc62ab49003bd4f1834771bdeb8cb1aa2/base/logging.jl#L107\" target=\"_blank\">logging.jl:107</a></li> <li> +(c::<b>BigInt</b>, x::<b>BigFloat</b>) in Base.MPFR at <a href=\"https://github.com/JuliaLang/julia/tree/b8e9a9ecc62ab49003bd4f1834771bdeb8cb1aa2/base/mpfr.jl#L414\" target=\"_blank\">mpfr.jl:414</a></li> <li> +(a::<b>BigInt</b>, b::<b>BigInt</b>, c::<b>BigInt</b>, d::<b>BigInt</b>, e::<b>BigInt</b>) in Base.GMP at <a href=\"https://github.com/JuliaLang/julia/tree/b8e9a9ecc62ab49003bd4f1834771bdeb8cb1aa2/base/gmp.jl#L515\" target=\"_blank\">gmp.jl:515</a></li> <li> +(a::<b>BigInt</b>, b::<b>BigInt</b>, c::<b>BigInt</b>, d::<b>BigInt</b>) in Base.GMP at <a href=\"https://github.com/JuliaLang/julia/tree/b8e9a9ecc62ab49003bd4f1834771bdeb8cb1aa2/base/gmp.jl#L514\" target=\"_blank\">gmp.jl:514</a></li> <li> +(a::<b>BigInt</b>, b::<b>BigInt</b>, c::<b>BigInt</b>) in Base.GMP at <a href=\"https://github.com/JuliaLang/julia/tree/b8e9a9ecc62ab49003bd4f1834771bdeb8cb1aa2/base/gmp.jl#L513\" target=\"_blank\">gmp.jl:513</a></li> <li> +(x::<b>BigInt</b>, y::<b>BigInt</b>) in Base.GMP at <a href=\"https://github.com/JuliaLang/julia/tree/b8e9a9ecc62ab49003bd4f1834771bdeb8cb1aa2/base/gmp.jl#L473\" target=\"_blank\">gmp.jl:473</a></li> <li> +(x::<b>BigInt</b>, c::<b>Union{UInt16, UInt32, UInt8}</b>) in Base.GMP at <a href=\"https://github.com/JuliaLang/julia/tree/b8e9a9ecc62ab49003bd4f1834771bdeb8cb1aa2/base/gmp.jl#L521\" target=\"_blank\">gmp.jl:521</a></li> <li> +(x::<b>BigInt</b>, c::<b>Union{Int16, Int32, Int8}</b>) in Base.GMP at <a href=\"https://github.com/JuliaLang/julia/tree/b8e9a9ecc62ab49003bd4f1834771bdeb8cb1aa2/base/gmp.jl#L527\" target=\"_blank\">gmp.jl:527</a></li> <li> +(a::<b>BigFloat</b>, b::<b>BigFloat</b>, c::<b>BigFloat</b>, d::<b>BigFloat</b>, e::<b>BigFloat</b>) in Base.MPFR at <a href=\"https://github.com/JuliaLang/julia/tree/b8e9a9ecc62ab49003bd4f1834771bdeb8cb1aa2/base/mpfr.jl#L564\" target=\"_blank\">mpfr.jl:564</a></li> <li> +(a::<b>BigFloat</b>, b::<b>BigFloat</b>, c::<b>BigFloat</b>, d::<b>BigFloat</b>) in Base.MPFR at <a href=\"https://github.com/JuliaLang/julia/tree/b8e9a9ecc62ab49003bd4f1834771bdeb8cb1aa2/base/mpfr.jl#L557\" target=\"_blank\">mpfr.jl:557</a></li> <li> +(a::<b>BigFloat</b>, b::<b>BigFloat</b>, c::<b>BigFloat</b>) in Base.MPFR at <a href=\"https://github.com/JuliaLang/julia/tree/b8e9a9ecc62ab49003bd4f1834771bdeb8cb1aa2/base/mpfr.jl#L551\" target=\"_blank\">mpfr.jl:551</a></li> <li> +(x::<b>BigFloat</b>, c::<b>BigInt</b>) in Base.MPFR at <a href=\"https://github.com/JuliaLang/julia/tree/b8e9a9ecc62ab49003bd4f1834771bdeb8cb1aa2/base/mpfr.jl#L410\" target=\"_blank\">mpfr.jl:410</a></li> <li> +(x::<b>BigFloat</b>, y::<b>BigFloat</b>) in Base.MPFR at <a href=\"https://github.com/JuliaLang/julia/tree/b8e9a9ecc62ab49003bd4f1834771bdeb8cb1aa2/base/mpfr.jl#L379\" target=\"_blank\">mpfr.jl:379</a></li> <li> +(x::<b>BigFloat</b>, c::<b>Union{UInt16, UInt32, UInt8}</b>) in Base.MPFR at <a href=\"https://github.com/JuliaLang/julia/tree/b8e9a9ecc62ab49003bd4f1834771bdeb8cb1aa2/base/mpfr.jl#L386\" target=\"_blank\">mpfr.jl:386</a></li> <li> +(x::<b>BigFloat</b>, c::<b>Union{Int16, Int32, Int8}</b>) in Base.MPFR at <a href=\"https://github.com/JuliaLang/julia/tree/b8e9a9ecc62ab49003bd4f1834771bdeb8cb1aa2/base/mpfr.jl#L394\" target=\"_blank\">mpfr.jl:394</a></li> <li> +(x::<b>BigFloat</b>, c::<b>Union{Float16, Float32, Float64}</b>) in Base.MPFR at <a href=\"https://github.com/JuliaLang/julia/tree/b8e9a9ecc62ab49003bd4f1834771bdeb8cb1aa2/base/mpfr.jl#L402\" target=\"_blank\">mpfr.jl:402</a></li> <li> +(x::<b>Dates.CompoundPeriod</b>, y::<b>Dates.CompoundPeriod</b>) in Dates at <a href=\"file://D:/buildbot/worker/package_win64/build/usr/share/julia/stdlib/v1.4/Dates/src/periods.jl\" target=\"_blank\">C:\\Users\\HSI\\AppData\\Local\\Programs\\Julia\\Julia-1.4.0\\share\\julia\\stdlib\\v1.4\\Dates\\src\\periods.jl:341</a></li> <li> +(x::<b>Dates.CompoundPeriod</b>, y::<b>Dates.Period</b>) in Dates at <a href=\"file://D:/buildbot/worker/package_win64/build/usr/share/julia/stdlib/v1.4/Dates/src/periods.jl\" target=\"_blank\">C:\\Users\\HSI\\AppData\\Local\\Programs\\Julia\\Julia-1.4.0\\share\\julia\\stdlib\\v1.4\\Dates\\src\\periods.jl:339</a></li> <li> +(x::<b>Dates.CompoundPeriod</b>, y::<b>Dates.TimeType</b>) in Dates at <a href=\"file://D:/buildbot/worker/package_win64/build/usr/share/julia/stdlib/v1.4/Dates/src/periods.jl\" target=\"_blank\">C:\\Users\\HSI\\AppData\\Local\\Programs\\Julia\\Julia-1.4.0\\share\\julia\\stdlib\\v1.4\\Dates\\src\\periods.jl:369</a></li> <li> +(x::<b>Dates.Date</b>, y::<b>Dates.Day</b>) in Dates at <a href=\"file://D:/buildbot/worker/package_win64/build/usr/share/julia/stdlib/v1.4/Dates/src/arithmetic.jl\" target=\"_blank\">C:\\Users\\HSI\\AppData\\Local\\Programs\\Julia\\Julia-1.4.0\\share\\julia\\stdlib\\v1.4\\Dates\\src\\arithmetic.jl:74</a></li> <li> +(x::<b>Dates.Date</b>, y::<b>Dates.Week</b>) in Dates at <a href=\"file://D:/buildbot/worker/package_win64/build/usr/share/julia/stdlib/v1.4/Dates/src/arithmetic.jl\" target=\"_blank\">C:\\Users\\HSI\\AppData\\Local\\Programs\\Julia\\Julia-1.4.0\\share\\julia\\stdlib\\v1.4\\Dates\\src\\arithmetic.jl:72</a></li> <li> +(dt::<b>Dates.Date</b>, z::<b>Dates.Month</b>) in Dates at <a href=\"file://D:/buildbot/worker/package_win64/build/usr/share/julia/stdlib/v1.4/Dates/src/arithmetic.jl\" target=\"_blank\">C:\\Users\\HSI\\AppData\\Local\\Programs\\Julia\\Julia-1.4.0\\share\\julia\\stdlib\\v1.4\\Dates\\src\\arithmetic.jl:55</a></li> <li> +(dt::<b>Dates.Date</b>, y::<b>Dates.Year</b>) in Dates at <a href=\"file://D:/buildbot/worker/package_win64/build/usr/share/julia/stdlib/v1.4/Dates/src/arithmetic.jl\" target=\"_blank\">C:\\Users\\HSI\\AppData\\Local\\Programs\\Julia\\Julia-1.4.0\\share\\julia\\stdlib\\v1.4\\Dates\\src\\arithmetic.jl:28</a></li> <li> +(dt::<b>Dates.Date</b>, t::<b>Dates.Time</b>) in Dates at <a href=\"file://D:/buildbot/worker/package_win64/build/usr/share/julia/stdlib/v1.4/Dates/src/arithmetic.jl\" target=\"_blank\">C:\\Users\\HSI\\AppData\\Local\\Programs\\Julia\\Julia-1.4.0\\share\\julia\\stdlib\\v1.4\\Dates\\src\\arithmetic.jl:19</a></li> <li> +(t::<b>Dates.Time</b>, dt::<b>Dates.Date</b>) in Dates at <a href=\"file://D:/buildbot/worker/package_win64/build/usr/share/julia/stdlib/v1.4/Dates/src/arithmetic.jl\" target=\"_blank\">C:\\Users\\HSI\\AppData\\Local\\Programs\\Julia\\Julia-1.4.0\\share\\julia\\stdlib\\v1.4\\Dates\\src\\arithmetic.jl:20</a></li> <li> +(x::<b>Dates.Time</b>, y::<b>Dates.TimePeriod</b>) in Dates at <a href=\"file://D:/buildbot/worker/package_win64/build/usr/share/julia/stdlib/v1.4/Dates/src/arithmetic.jl\" target=\"_blank\">C:\\Users\\HSI\\AppData\\Local\\Programs\\Julia\\Julia-1.4.0\\share\\julia\\stdlib\\v1.4\\Dates\\src\\arithmetic.jl:78</a></li> <li> +(dt::<b>Dates.DateTime</b>, z::<b>Dates.Month</b>) in Dates at <a href=\"file://D:/buildbot/worker/package_win64/build/usr/share/julia/stdlib/v1.4/Dates/src/arithmetic.jl\" target=\"_blank\">C:\\Users\\HSI\\AppData\\Local\\Programs\\Julia\\Julia-1.4.0\\share\\julia\\stdlib\\v1.4\\Dates\\src\\arithmetic.jl:48</a></li> <li> +(dt::<b>Dates.DateTime</b>, y::<b>Dates.Year</b>) in Dates at <a href=\"file://D:/buildbot/worker/package_win64/build/usr/share/julia/stdlib/v1.4/Dates/src/arithmetic.jl\" target=\"_blank\">C:\\Users\\HSI\\AppData\\Local\\Programs\\Julia\\Julia-1.4.0\\share\\julia\\stdlib\\v1.4\\Dates\\src\\arithmetic.jl:24</a></li> <li> +(x::<b>Dates.DateTime</b>, y::<b>Dates.Period</b>) in Dates at <a href=\"file://D:/buildbot/worker/package_win64/build/usr/share/julia/stdlib/v1.4/Dates/src/arithmetic.jl\" target=\"_blank\">C:\\Users\\HSI\\AppData\\Local\\Programs\\Julia\\Julia-1.4.0\\share\\julia\\stdlib\\v1.4\\Dates\\src\\arithmetic.jl:76</a></li> <li> +(B::<b>BitArray{2}</b>, J::<b>LinearAlgebra.UniformScaling</b>) in LinearAlgebra at <a href=\"file://D:/buildbot/worker/package_win64/build/usr/share/julia/stdlib/v1.4/LinearAlgebra/src/uniformscaling.jl\" target=\"_blank\">C:\\Users\\HSI\\AppData\\Local\\Programs\\Julia\\Julia-1.4.0\\share\\julia\\stdlib\\v1.4\\LinearAlgebra\\src\\uniformscaling.jl:115</a></li> <li> +(a::<b>Pkg.Resolve.VersionWeight</b>, b::<b>Pkg.Resolve.VersionWeight</b>) in Pkg.Resolve at <a href=\"file://D:/buildbot/worker/package_win64/build/usr/share/julia/stdlib/v1.4/Pkg/src/Resolve/versionweights.jl\" target=\"_blank\">C:\\Users\\HSI\\AppData\\Local\\Programs\\Julia\\Julia-1.4.0\\share\\julia\\stdlib\\v1.4\\Pkg\\src\\Resolve\\versionweights.jl:22</a></li> <li> +(a::<b>Pkg.Resolve.FieldValue</b>, b::<b>Pkg.Resolve.FieldValue</b>) in Pkg.Resolve at <a href=\"file://D:/buildbot/worker/package_win64/build/usr/share/julia/stdlib/v1.4/Pkg/src/Resolve/fieldvalues.jl\" target=\"_blank\">C:\\Users\\HSI\\AppData\\Local\\Programs\\Julia\\Julia-1.4.0\\share\\julia\\stdlib\\v1.4\\Pkg\\src\\Resolve\\fieldvalues.jl:43</a></li> <li> +(y::<b>AbstractFloat</b>, x::<b>Bool</b>) in Base at <a href=\"https://github.com/JuliaLang/julia/tree/b8e9a9ecc62ab49003bd4f1834771bdeb8cb1aa2/base/bool.jl#L106\" target=\"_blank\">bool.jl:106</a></li> <li> +(x::<b>T</b>, y::<b>T</b>)<i> where T<:Union{Int128, Int16, Int32, Int64, Int8, UInt128, UInt16, UInt32, UInt64, UInt8}</i> in Base at <a href=\"https://github.com/JuliaLang/julia/tree/b8e9a9ecc62ab49003bd4f1834771bdeb8cb1aa2/base/int.jl#L53\" target=\"_blank\">int.jl:53</a></li> <li> +(c::<b>Union{UInt16, UInt32, UInt8}</b>, x::<b>BigInt</b>) in Base.GMP at <a href=\"https://github.com/JuliaLang/julia/tree/b8e9a9ecc62ab49003bd4f1834771bdeb8cb1aa2/base/gmp.jl#L522\" target=\"_blank\">gmp.jl:522</a></li> <li> +(c::<b>Union{Int16, Int32, Int8}</b>, x::<b>BigInt</b>) in Base.GMP at <a href=\"https://github.com/JuliaLang/julia/tree/b8e9a9ecc62ab49003bd4f1834771bdeb8cb1aa2/base/gmp.jl#L528\" target=\"_blank\">gmp.jl:528</a></li> <li> +(a::<b>Integer</b>, b::<b>Integer</b>) in Base at <a href=\"https://github.com/JuliaLang/julia/tree/b8e9a9ecc62ab49003bd4f1834771bdeb8cb1aa2/base/int.jl#L857\" target=\"_blank\">int.jl:857</a></li> <li> +(x::<b>Integer</b>, y::<b>Ptr</b>) in Base at <a href=\"https://github.com/JuliaLang/julia/tree/b8e9a9ecc62ab49003bd4f1834771bdeb8cb1aa2/base/pointer.jl#L161\" target=\"_blank\">pointer.jl:161</a></li> <li> +(z::<b>Complex</b>) in Base at <a href=\"https://github.com/JuliaLang/julia/tree/b8e9a9ecc62ab49003bd4f1834771bdeb8cb1aa2/base/complex.jl#L273\" target=\"_blank\">complex.jl:273</a></li> <li> +(z::<b>Complex</b>, w::<b>Complex</b>) in Base at <a href=\"https://github.com/JuliaLang/julia/tree/b8e9a9ecc62ab49003bd4f1834771bdeb8cb1aa2/base/complex.jl#L275\" target=\"_blank\">complex.jl:275</a></li> <li> +(z::<b>Complex</b>, x::<b>Bool</b>) in Base at <a href=\"https://github.com/JuliaLang/julia/tree/b8e9a9ecc62ab49003bd4f1834771bdeb8cb1aa2/base/complex.jl#L294\" target=\"_blank\">complex.jl:294</a></li> <li> +(x::<b>Rational</b>) in Base at <a href=\"https://github.com/JuliaLang/julia/tree/b8e9a9ecc62ab49003bd4f1834771bdeb8cb1aa2/base/rational.jl#L247\" target=\"_blank\">rational.jl:247</a></li> <li> +(x::<b>Real</b>, z::<b>Complex{Bool}</b>) in Base at <a href=\"https://github.com/JuliaLang/julia/tree/b8e9a9ecc62ab49003bd4f1834771bdeb8cb1aa2/base/complex.jl#L300\" target=\"_blank\">complex.jl:300</a></li> <li> +(x::<b>Real</b>, z::<b>Complex</b>) in Base at <a href=\"https://github.com/JuliaLang/julia/tree/b8e9a9ecc62ab49003bd4f1834771bdeb8cb1aa2/base/complex.jl#L312\" target=\"_blank\">complex.jl:312</a></li> <li> +(z::<b>Complex</b>, x::<b>Real</b>) in Base at <a href=\"https://github.com/JuliaLang/julia/tree/b8e9a9ecc62ab49003bd4f1834771bdeb8cb1aa2/base/complex.jl#L313\" target=\"_blank\">complex.jl:313</a></li> <li> +(x::<b>Rational</b>, y::<b>Rational</b>) in Base at <a href=\"https://github.com/JuliaLang/julia/tree/b8e9a9ecc62ab49003bd4f1834771bdeb8cb1aa2/base/rational.jl#L263\" target=\"_blank\">rational.jl:263</a></li> <li> +(x::<b>Integer</b>, y::<b>AbstractChar</b>) in Base at <a href=\"https://github.com/JuliaLang/julia/tree/b8e9a9ecc62ab49003bd4f1834771bdeb8cb1aa2/base/char.jl#L224\" target=\"_blank\">char.jl:224</a></li> <li> +(c::<b>Union{UInt16, UInt32, UInt8}</b>, x::<b>BigFloat</b>) in Base.MPFR at <a href=\"https://github.com/JuliaLang/julia/tree/b8e9a9ecc62ab49003bd4f1834771bdeb8cb1aa2/base/mpfr.jl#L390\" target=\"_blank\">mpfr.jl:390</a></li> <li> +(c::<b>Union{Int16, Int32, Int8}</b>, x::<b>BigFloat</b>) in Base.MPFR at <a href=\"https://github.com/JuliaLang/julia/tree/b8e9a9ecc62ab49003bd4f1834771bdeb8cb1aa2/base/mpfr.jl#L398\" target=\"_blank\">mpfr.jl:398</a></li> <li> +(c::<b>Union{Float16, Float32, Float64}</b>, x::<b>BigFloat</b>) in Base.MPFR at <a href=\"https://github.com/JuliaLang/julia/tree/b8e9a9ecc62ab49003bd4f1834771bdeb8cb1aa2/base/mpfr.jl#L406\" target=\"_blank\">mpfr.jl:406</a></li> <li> +(x::<b>AbstractIrrational</b>, y::<b>AbstractIrrational</b>) in Base at <a href=\"https://github.com/JuliaLang/julia/tree/b8e9a9ecc62ab49003bd4f1834771bdeb8cb1aa2/base/irrationals.jl#L137\" target=\"_blank\">irrationals.jl:137</a></li> <li> +(x::<b>Number</b>) in Base at <a href=\"https://github.com/JuliaLang/julia/tree/b8e9a9ecc62ab49003bd4f1834771bdeb8cb1aa2/base/operators.jl#L504\" target=\"_blank\">operators.jl:504</a></li> <li> +(x::<b>T</b>, y::<b>T</b>)<i> where T<:Number</i> in Base at <a href=\"https://github.com/JuliaLang/julia/tree/b8e9a9ecc62ab49003bd4f1834771bdeb8cb1aa2/base/promotion.jl#L384\" target=\"_blank\">promotion.jl:384</a></li> <li> +(x::<b>Number</b>, y::<b>Number</b>) in Base at <a href=\"https://github.com/JuliaLang/julia/tree/b8e9a9ecc62ab49003bd4f1834771bdeb8cb1aa2/base/promotion.jl#L311\" target=\"_blank\">promotion.jl:311</a></li> <li> +(r1::<b>OrdinalRange</b>, r2::<b>OrdinalRange</b>) in Base at <a href=\"https://github.com/JuliaLang/julia/tree/b8e9a9ecc62ab49003bd4f1834771bdeb8cb1aa2/base/range.jl#L1011\" target=\"_blank\">range.jl:1011</a></li> <li> +(r1::<b>LinRange{T}</b>, r2::<b>LinRange{T}</b>)<i> where T</i> in Base at <a href=\"https://github.com/JuliaLang/julia/tree/b8e9a9ecc62ab49003bd4f1834771bdeb8cb1aa2/base/range.jl#L1018\" target=\"_blank\">range.jl:1018</a></li> <li> +(r1::<b>StepRangeLen{T,R,S} where S</b>, r2::<b>StepRangeLen{T,R,S} where S</b>)<i> where {R<:Base.TwicePrecision, T}</i> in Base at <a href=\"https://github.com/JuliaLang/julia/tree/b8e9a9ecc62ab49003bd4f1834771bdeb8cb1aa2/base/twiceprecision.jl#L557\" target=\"_blank\">twiceprecision.jl:557</a></li> <li> +(r1::<b>StepRangeLen{T,S,S1} where S1</b>, r2::<b>StepRangeLen{T,S,S1} where S1</b>)<i> where {T, S}</i> in Base at <a href=\"https://github.com/JuliaLang/julia/tree/b8e9a9ecc62ab49003bd4f1834771bdeb8cb1aa2/base/range.jl#L1034\" target=\"_blank\">range.jl:1034</a></li> <li> +(r1::<b>Union{LinRange, OrdinalRange, StepRangeLen}</b>, r2::<b>Union{LinRange, OrdinalRange, StepRangeLen}</b>) in Base at <a href=\"https://github.com/JuliaLang/julia/tree/b8e9a9ecc62ab49003bd4f1834771bdeb8cb1aa2/base/range.jl#L1026\" target=\"_blank\">range.jl:1026</a></li> <li> +(x::<b>Ptr</b>, y::<b>Integer</b>) in Base at <a href=\"https://github.com/JuliaLang/julia/tree/b8e9a9ecc62ab49003bd4f1834771bdeb8cb1aa2/base/pointer.jl#L159\" target=\"_blank\">pointer.jl:159</a></li> <li> +(x::<b>Base.TwicePrecision</b>, y::<b>Number</b>) in Base at <a href=\"https://github.com/JuliaLang/julia/tree/b8e9a9ecc62ab49003bd4f1834771bdeb8cb1aa2/base/twiceprecision.jl#L265\" target=\"_blank\">twiceprecision.jl:265</a></li> <li> +(x::<b>Number</b>, y::<b>Base.TwicePrecision</b>) in Base at <a href=\"https://github.com/JuliaLang/julia/tree/b8e9a9ecc62ab49003bd4f1834771bdeb8cb1aa2/base/twiceprecision.jl#L268\" target=\"_blank\">twiceprecision.jl:268</a></li> <li> +(x::<b>Base.TwicePrecision{T}</b>, y::<b>Base.TwicePrecision{T}</b>)<i> where T</i> in Base at <a href=\"https://github.com/JuliaLang/julia/tree/b8e9a9ecc62ab49003bd4f1834771bdeb8cb1aa2/base/twiceprecision.jl#L271\" target=\"_blank\">twiceprecision.jl:271</a></li> <li> +(x::<b>Base.TwicePrecision</b>, y::<b>Base.TwicePrecision</b>) in Base at <a href=\"https://github.com/JuliaLang/julia/tree/b8e9a9ecc62ab49003bd4f1834771bdeb8cb1aa2/base/twiceprecision.jl#L275\" target=\"_blank\">twiceprecision.jl:275</a></li> <li> +(A::<b>Array</b>, Bs::<b>Array...</b>) in Base at <a href=\"https://github.com/JuliaLang/julia/tree/b8e9a9ecc62ab49003bd4f1834771bdeb8cb1aa2/base/arraymath.jl#L44\" target=\"_blank\">arraymath.jl:44</a></li> <li> +(A::<b>BitArray</b>, B::<b>BitArray</b>) in Base at <a href=\"https://github.com/JuliaLang/julia/tree/b8e9a9ecc62ab49003bd4f1834771bdeb8cb1aa2/base/bitarray.jl#L1106\" target=\"_blank\">bitarray.jl:1106</a></li> <li> +(r::<b>AbstractRange{#s662} where #s662<:Dates.TimeType</b>, x::<b>Dates.Period</b>) in Dates at <a href=\"file://D:/buildbot/worker/package_win64/build/usr/share/julia/stdlib/v1.4/Dates/src/ranges.jl\" target=\"_blank\">C:\\Users\\HSI\\AppData\\Local\\Programs\\Julia\\Julia-1.4.0\\share\\julia\\stdlib\\v1.4\\Dates\\src\\ranges.jl:59</a></li> <li> +(A::<b>Array</b>, B::<b>SparseArrays.AbstractSparseMatrixCSC</b>) in SparseArrays at <a href=\"file://D:/buildbot/worker/package_win64/build/usr/share/julia/stdlib/v1.4/SparseArrays/src/sparsematrix.jl\" target=\"_blank\">C:\\Users\\HSI\\AppData\\Local\\Programs\\Julia\\Julia-1.4.0\\share\\julia\\stdlib\\v1.4\\SparseArrays\\src\\sparsematrix.jl:1652</a></li> <li> +(x::<b>Union{DenseArray{#s662,N}, Base.ReinterpretArray{#s662,N,S,A} where S where A<:Union{SubArray{T,N,A,I,true} where I<:Union{Tuple{Vararg{Real,N} where N}, Tuple{AbstractUnitRange,Vararg{Any,N} where N}} where A<:DenseArray where N where T, DenseArray}, Base.ReshapedArray{#s662,N,A,MI} where MI<:Tuple{Vararg{Base.MultiplicativeInverses.SignedMultiplicativeInverse{Int64},N} where N} where A<:Union{Base.ReinterpretArray{T,N,S,A} where S where A<:Union{SubArray{T,N,A,I,true} where I<:Union{Tuple{Vararg{Real,N} where N}, Tuple{AbstractUnitRange,Vararg{Any,N} where N}} where A<:DenseArray where N where T, DenseArray} where N where T, SubArray{T,N,A,I,true} where I<:Union{Tuple{Vararg{Real,N} where N}, Tuple{AbstractUnitRange,Vararg{Any,N} where N}} where A<:DenseArray where N where T, DenseArray}, SubArray{#s662,N,A,I,L} where L where I<:Tuple{Vararg{Union{Int64, AbstractRange{Int64}, Base.AbstractCartesianIndex},N} where N} where A<:Union{Base.ReinterpretArray{T,N,S,A} where S where A<:Union{SubArray{T,N,A,I,true} where I<:Union{Tuple{Vararg{Real,N} where N}, Tuple{AbstractUnitRange,Vararg{Any,N} where N}} where A<:DenseArray where N where T, DenseArray} where N where T, Base.ReshapedArray{T,N,A,MI} where MI<:Tuple{Vararg{Base.MultiplicativeInverses.SignedMultiplicativeInverse{Int64},N} where N} where A<:Union{Base.ReinterpretArray{T,N,S,A} where S where A<:Union{SubArray{T,N,A,I,true} where I<:Union{Tuple{Vararg{Real,N} where N}, Tuple{AbstractUnitRange,Vararg{Any,N} where N}} where A<:DenseArray where N where T, DenseArray} where N where T, SubArray{T,N,A,I,true} where I<:Union{Tuple{Vararg{Real,N} where N}, Tuple{AbstractUnitRange,Vararg{Any,N} where N}} where A<:DenseArray where N where T, DenseArray} where N where T, DenseArray}} where N where #s662<:Union{Dates.CompoundPeriod, Dates.Period}</b>) in Dates at <a href=\"file://D:/buildbot/worker/package_win64/build/usr/share/julia/stdlib/v1.4/Dates/src/deprecated.jl\" target=\"_blank\">C:\\Users\\HSI\\AppData\\Local\\Programs\\Julia\\Julia-1.4.0\\share\\julia\\stdlib\\v1.4\\Dates\\src\\deprecated.jl:57</a></li> <li> +(x::<b>Union{DenseArray{#s662,N}, Base.ReinterpretArray{#s662,N,S,A} where S where A<:Union{SubArray{T,N,A,I,true} where I<:Union{Tuple{Vararg{Real,N} where N}, Tuple{AbstractUnitRange,Vararg{Any,N} where N}} where A<:DenseArray where N where T, DenseArray}, Base.ReshapedArray{#s662,N,A,MI} where MI<:Tuple{Vararg{Base.MultiplicativeInverses.SignedMultiplicativeInverse{Int64},N} where N} where A<:Union{Base.ReinterpretArray{T,N,S,A} where S where A<:Union{SubArray{T,N,A,I,true} where I<:Union{Tuple{Vararg{Real,N} where N}, Tuple{AbstractUnitRange,Vararg{Any,N} where N}} where A<:DenseArray where N where T, DenseArray} where N where T, SubArray{T,N,A,I,true} where I<:Union{Tuple{Vararg{Real,N} where N}, Tuple{AbstractUnitRange,Vararg{Any,N} where N}} where A<:DenseArray where N where T, DenseArray}, SubArray{#s662,N,A,I,L} where L where I<:Tuple{Vararg{Union{Int64, AbstractRange{Int64}, Base.AbstractCartesianIndex},N} where N} where A<:Union{Base.ReinterpretArray{T,N,S,A} where S where A<:Union{SubArray{T,N,A,I,true} where I<:Union{Tuple{Vararg{Real,N} where N}, Tuple{AbstractUnitRange,Vararg{Any,N} where N}} where A<:DenseArray where N where T, DenseArray} where N where T, Base.ReshapedArray{T,N,A,MI} where MI<:Tuple{Vararg{Base.MultiplicativeInverses.SignedMultiplicativeInverse{Int64},N} where N} where A<:Union{Base.ReinterpretArray{T,N,S,A} where S where A<:Union{SubArray{T,N,A,I,true} where I<:Union{Tuple{Vararg{Real,N} where N}, Tuple{AbstractUnitRange,Vararg{Any,N} where N}} where A<:DenseArray where N where T, DenseArray} where N where T, SubArray{T,N,A,I,true} where I<:Union{Tuple{Vararg{Real,N} where N}, Tuple{AbstractUnitRange,Vararg{Any,N} where N}} where A<:DenseArray where N where T, DenseArray} where N where T, DenseArray}} where N where #s662<:Union{Dates.CompoundPeriod, Dates.Period}</b>, y::<b>Dates.TimeType</b>) in Dates at <a href=\"file://D:/buildbot/worker/package_win64/build/usr/share/julia/stdlib/v1.4/Dates/src/deprecated.jl\" target=\"_blank\">C:\\Users\\HSI\\AppData\\Local\\Programs\\Julia\\Julia-1.4.0\\share\\julia\\stdlib\\v1.4\\Dates\\src\\deprecated.jl:12</a></li> <li> +(X::<b>Union{DenseArray{#s662,N}, Base.ReinterpretArray{#s662,N,S,A} where S where A<:Union{SubArray{T,N,A,I,true} where I<:Union{Tuple{Vararg{Real,N} where N}, Tuple{AbstractUnitRange,Vararg{Any,N} where N}} where A<:DenseArray where N where T, DenseArray}, Base.ReshapedArray{#s662,N,A,MI} where MI<:Tuple{Vararg{Base.MultiplicativeInverses.SignedMultiplicativeInverse{Int64},N} where N} where A<:Union{Base.ReinterpretArray{T,N,S,A} where S where A<:Union{SubArray{T,N,A,I,true} where I<:Union{Tuple{Vararg{Real,N} where N}, Tuple{AbstractUnitRange,Vararg{Any,N} where N}} where A<:DenseArray where N where T, DenseArray} where N where T, SubArray{T,N,A,I,true} where I<:Union{Tuple{Vararg{Real,N} where N}, Tuple{AbstractUnitRange,Vararg{Any,N} where N}} where A<:DenseArray where N where T, DenseArray}, SubArray{#s662,N,A,I,L} where L where I<:Tuple{Vararg{Union{Int64, AbstractRange{Int64}, Base.AbstractCartesianIndex},N} where N} where A<:Union{Base.ReinterpretArray{T,N,S,A} where S where A<:Union{SubArray{T,N,A,I,true} where I<:Union{Tuple{Vararg{Real,N} where N}, Tuple{AbstractUnitRange,Vararg{Any,N} where N}} where A<:DenseArray where N where T, DenseArray} where N where T, Base.ReshapedArray{T,N,A,MI} where MI<:Tuple{Vararg{Base.MultiplicativeInverses.SignedMultiplicativeInverse{Int64},N} where N} where A<:Union{Base.ReinterpretArray{T,N,S,A} where S where A<:Union{SubArray{T,N,A,I,true} where I<:Union{Tuple{Vararg{Real,N} where N}, Tuple{AbstractUnitRange,Vararg{Any,N} where N}} where A<:DenseArray where N where T, DenseArray} where N where T, SubArray{T,N,A,I,true} where I<:Union{Tuple{Vararg{Real,N} where N}, Tuple{AbstractUnitRange,Vararg{Any,N} where N}} where A<:DenseArray where N where T, DenseArray} where N where T, DenseArray}} where N where #s662<:Union{Dates.CompoundPeriod, Dates.Period}</b>, Y::<b>Union{DenseArray{#s661,N}, Base.ReinterpretArray{#s661,N,S,A} where S where A<:Union{SubArray{T,N,A,I,true} where I<:Union{Tuple{Vararg{Real,N} where N}, Tuple{AbstractUnitRange,Vararg{Any,N} where N}} where A<:DenseArray where N where T, DenseArray}, Base.ReshapedArray{#s661,N,A,MI} where MI<:Tuple{Vararg{Base.MultiplicativeInverses.SignedMultiplicativeInverse{Int64},N} where N} where A<:Union{Base.ReinterpretArray{T,N,S,A} where S where A<:Union{SubArray{T,N,A,I,true} where I<:Union{Tuple{Vararg{Real,N} where N}, Tuple{AbstractUnitRange,Vararg{Any,N} where N}} where A<:DenseArray where N where T, DenseArray} where N where T, SubArray{T,N,A,I,true} where I<:Union{Tuple{Vararg{Real,N} where N}, Tuple{AbstractUnitRange,Vararg{Any,N} where N}} where A<:DenseArray where N where T, DenseArray}, SubArray{#s661,N,A,I,L} where L where I<:Tuple{Vararg{Union{Int64, AbstractRange{Int64}, Base.AbstractCartesianIndex},N} where N} where A<:Union{Base.ReinterpretArray{T,N,S,A} where S where A<:Union{SubArray{T,N,A,I,true} where I<:Union{Tuple{Vararg{Real,N} where N}, Tuple{AbstractUnitRange,Vararg{Any,N} where N}} where A<:DenseArray where N where T, DenseArray} where N where T, Base.ReshapedArray{T,N,A,MI} where MI<:Tuple{Vararg{Base.MultiplicativeInverses.SignedMultiplicativeInverse{Int64},N} where N} where A<:Union{Base.ReinterpretArray{T,N,S,A} where S where A<:Union{SubArray{T,N,A,I,true} where I<:Union{Tuple{Vararg{Real,N} where N}, Tuple{AbstractUnitRange,Vararg{Any,N} where N}} where A<:DenseArray where N where T, DenseArray} where N where T, SubArray{T,N,A,I,true} where I<:Union{Tuple{Vararg{Real,N} where N}, Tuple{AbstractUnitRange,Vararg{Any,N} where N}} where A<:DenseArray where N where T, DenseArray} where N where T, DenseArray}} where N where #s661<:Union{Dates.CompoundPeriod, Dates.Period}</b>) in Dates at <a href=\"file://D:/buildbot/worker/package_win64/build/usr/share/julia/stdlib/v1.4/Dates/src/deprecated.jl\" target=\"_blank\">C:\\Users\\HSI\\AppData\\Local\\Programs\\Julia\\Julia-1.4.0\\share\\julia\\stdlib\\v1.4\\Dates\\src\\deprecated.jl:64</a></li> <li> +(A::<b>LinearAlgebra.SymTridiagonal</b>, B::<b>LinearAlgebra.SymTridiagonal</b>) in LinearAlgebra at <a href=\"file://D:/buildbot/worker/package_win64/build/usr/share/julia/stdlib/v1.4/LinearAlgebra/src/tridiag.jl\" target=\"_blank\">C:\\Users\\HSI\\AppData\\Local\\Programs\\Julia\\Julia-1.4.0\\share\\julia\\stdlib\\v1.4\\LinearAlgebra\\src\\tridiag.jl:158</a></li> <li> +(A::<b>LinearAlgebra.Tridiagonal</b>, B::<b>LinearAlgebra.Tridiagonal</b>) in LinearAlgebra at <a href=\"file://D:/buildbot/worker/package_win64/build/usr/share/julia/stdlib/v1.4/LinearAlgebra/src/tridiag.jl\" target=\"_blank\">C:\\Users\\HSI\\AppData\\Local\\Programs\\Julia\\Julia-1.4.0\\share\\julia\\stdlib\\v1.4\\LinearAlgebra\\src\\tridiag.jl:657</a></li> <li> +(A::<b>LinearAlgebra.UpperTriangular</b>, B::<b>LinearAlgebra.UpperTriangular</b>) in LinearAlgebra at <a href=\"file://D:/buildbot/worker/package_win64/build/usr/share/julia/stdlib/v1.4/LinearAlgebra/src/triangular.jl\" target=\"_blank\">C:\\Users\\HSI\\AppData\\Local\\Programs\\Julia\\Julia-1.4.0\\share\\julia\\stdlib\\v1.4\\LinearAlgebra\\src\\triangular.jl:648</a></li> <li> +(A::<b>LinearAlgebra.LowerTriangular</b>, B::<b>LinearAlgebra.LowerTriangular</b>) in LinearAlgebra at <a href=\"file://D:/buildbot/worker/package_win64/build/usr/share/julia/stdlib/v1.4/LinearAlgebra/src/triangular.jl\" target=\"_blank\">C:\\Users\\HSI\\AppData\\Local\\Programs\\Julia\\Julia-1.4.0\\share\\julia\\stdlib\\v1.4\\LinearAlgebra\\src\\triangular.jl:649</a></li> <li> +(A::<b>LinearAlgebra.UpperTriangular</b>, B::<b>LinearAlgebra.UnitUpperTriangular</b>) in LinearAlgebra at <a href=\"file://D:/buildbot/worker/package_win64/build/usr/share/julia/stdlib/v1.4/LinearAlgebra/src/triangular.jl\" target=\"_blank\">C:\\Users\\HSI\\AppData\\Local\\Programs\\Julia\\Julia-1.4.0\\share\\julia\\stdlib\\v1.4\\LinearAlgebra\\src\\triangular.jl:650</a></li> <li> +(A::<b>LinearAlgebra.LowerTriangular</b>, B::<b>LinearAlgebra.UnitLowerTriangular</b>) in LinearAlgebra at <a href=\"file://D:/buildbot/worker/package_win64/build/usr/share/julia/stdlib/v1.4/LinearAlgebra/src/triangular.jl\" target=\"_blank\">C:\\Users\\HSI\\AppData\\Local\\Programs\\Julia\\Julia-1.4.0\\share\\julia\\stdlib\\v1.4\\LinearAlgebra\\src\\triangular.jl:651</a></li> <li> +(A::<b>LinearAlgebra.UnitUpperTriangular</b>, B::<b>LinearAlgebra.UpperTriangular</b>) in LinearAlgebra at <a href=\"file://D:/buildbot/worker/package_win64/build/usr/share/julia/stdlib/v1.4/LinearAlgebra/src/triangular.jl\" target=\"_blank\">C:\\Users\\HSI\\AppData\\Local\\Programs\\Julia\\Julia-1.4.0\\share\\julia\\stdlib\\v1.4\\LinearAlgebra\\src\\triangular.jl:652</a></li> <li> +(A::<b>LinearAlgebra.UnitLowerTriangular</b>, B::<b>LinearAlgebra.LowerTriangular</b>) in LinearAlgebra at <a href=\"file://D:/buildbot/worker/package_win64/build/usr/share/julia/stdlib/v1.4/LinearAlgebra/src/triangular.jl\" target=\"_blank\">C:\\Users\\HSI\\AppData\\Local\\Programs\\Julia\\Julia-1.4.0\\share\\julia\\stdlib\\v1.4\\LinearAlgebra\\src\\triangular.jl:653</a></li> <li> +(A::<b>LinearAlgebra.UnitUpperTriangular</b>, B::<b>LinearAlgebra.UnitUpperTriangular</b>) in LinearAlgebra at <a href=\"file://D:/buildbot/worker/package_win64/build/usr/share/julia/stdlib/v1.4/LinearAlgebra/src/triangular.jl\" target=\"_blank\">C:\\Users\\HSI\\AppData\\Local\\Programs\\Julia\\Julia-1.4.0\\share\\julia\\stdlib\\v1.4\\LinearAlgebra\\src\\triangular.jl:654</a></li> <li> +(A::<b>LinearAlgebra.UnitLowerTriangular</b>, B::<b>LinearAlgebra.UnitLowerTriangular</b>) in LinearAlgebra at <a href=\"file://D:/buildbot/worker/package_win64/build/usr/share/julia/stdlib/v1.4/LinearAlgebra/src/triangular.jl\" target=\"_blank\">C:\\Users\\HSI\\AppData\\Local\\Programs\\Julia\\Julia-1.4.0\\share\\julia\\stdlib\\v1.4\\LinearAlgebra\\src\\triangular.jl:655</a></li> <li> +(A::<b>LinearAlgebra.AbstractTriangular</b>, B::<b>LinearAlgebra.AbstractTriangular</b>) in LinearAlgebra at <a href=\"file://D:/buildbot/worker/package_win64/build/usr/share/julia/stdlib/v1.4/LinearAlgebra/src/triangular.jl\" target=\"_blank\">C:\\Users\\HSI\\AppData\\Local\\Programs\\Julia\\Julia-1.4.0\\share\\julia\\stdlib\\v1.4\\LinearAlgebra\\src\\triangular.jl:656</a></li> <li> +(A::<b>LinearAlgebra.Symmetric</b>, B::<b>LinearAlgebra.Symmetric</b>) in LinearAlgebra at <a href=\"file://D:/buildbot/worker/package_win64/build/usr/share/julia/stdlib/v1.4/LinearAlgebra/src/symmetric.jl\" target=\"_blank\">C:\\Users\\HSI\\AppData\\Local\\Programs\\Julia\\Julia-1.4.0\\share\\julia\\stdlib\\v1.4\\LinearAlgebra\\src\\symmetric.jl:465</a></li> <li> +(A::<b>LinearAlgebra.Hermitian</b>, B::<b>LinearAlgebra.Hermitian</b>) in LinearAlgebra at <a href=\"file://D:/buildbot/worker/package_win64/build/usr/share/julia/stdlib/v1.4/LinearAlgebra/src/symmetric.jl\" target=\"_blank\">C:\\Users\\HSI\\AppData\\Local\\Programs\\Julia\\Julia-1.4.0\\share\\julia\\stdlib\\v1.4\\LinearAlgebra\\src\\symmetric.jl:466</a></li> <li> +(A::<b>LinearAlgebra.Hermitian</b>, B::<b>LinearAlgebra.Symmetric{#s662,S} where S<:(AbstractArray{#s6621,2} where #s6621<:#s662) where #s662<:Real</b>) in LinearAlgebra at <a href=\"file://D:/buildbot/worker/package_win64/build/usr/share/julia/stdlib/v1.4/LinearAlgebra/src/symmetric.jl\" target=\"_blank\">C:\\Users\\HSI\\AppData\\Local\\Programs\\Julia\\Julia-1.4.0\\share\\julia\\stdlib\\v1.4\\LinearAlgebra\\src\\symmetric.jl:467</a></li> <li> +(A::<b>LinearAlgebra.Symmetric{#s662,S} where S<:(AbstractArray{#s6621,2} where #s6621<:#s662) where #s662<:Real</b>, B::<b>LinearAlgebra.Hermitian</b>) in LinearAlgebra at <a href=\"file://D:/buildbot/worker/package_win64/build/usr/share/julia/stdlib/v1.4/LinearAlgebra/src/symmetric.jl\" target=\"_blank\">C:\\Users\\HSI\\AppData\\Local\\Programs\\Julia\\Julia-1.4.0\\share\\julia\\stdlib\\v1.4\\LinearAlgebra\\src\\symmetric.jl:468</a></li> <li> +(Da::<b>LinearAlgebra.Diagonal</b>, Db::<b>LinearAlgebra.Diagonal</b>) in LinearAlgebra at <a href=\"file://D:/buildbot/worker/package_win64/build/usr/share/julia/stdlib/v1.4/LinearAlgebra/src/diagonal.jl\" target=\"_blank\">C:\\Users\\HSI\\AppData\\Local\\Programs\\Julia\\Julia-1.4.0\\share\\julia\\stdlib\\v1.4\\LinearAlgebra\\src\\diagonal.jl:156</a></li> <li> +(A::<b>LinearAlgebra.Bidiagonal</b>, B::<b>LinearAlgebra.Bidiagonal</b>) in LinearAlgebra at <a href=\"file://D:/buildbot/worker/package_win64/build/usr/share/julia/stdlib/v1.4/LinearAlgebra/src/bidiag.jl\" target=\"_blank\">C:\\Users\\HSI\\AppData\\Local\\Programs\\Julia\\Julia-1.4.0\\share\\julia\\stdlib\\v1.4\\LinearAlgebra\\src\\bidiag.jl:309</a></li> <li> +(UL::<b>LinearAlgebra.UnitUpperTriangular</b>, J::<b>LinearAlgebra.UniformScaling</b>) in LinearAlgebra at <a href=\"file://D:/buildbot/worker/package_win64/build/usr/share/julia/stdlib/v1.4/LinearAlgebra/src/uniformscaling.jl\" target=\"_blank\">C:\\Users\\HSI\\AppData\\Local\\Programs\\Julia\\Julia-1.4.0\\share\\julia\\stdlib\\v1.4\\LinearAlgebra\\src\\uniformscaling.jl:131</a></li> <li> +(UL::<b>LinearAlgebra.UnitLowerTriangular</b>, J::<b>LinearAlgebra.UniformScaling</b>) in LinearAlgebra at <a href=\"file://D:/buildbot/worker/package_win64/build/usr/share/julia/stdlib/v1.4/LinearAlgebra/src/uniformscaling.jl\" target=\"_blank\">C:\\Users\\HSI\\AppData\\Local\\Programs\\Julia\\Julia-1.4.0\\share\\julia\\stdlib\\v1.4\\LinearAlgebra\\src\\uniformscaling.jl:131</a></li> <li> +(A::<b>LinearAlgebra.Hermitian</b>, J::<b>LinearAlgebra.UniformScaling{#s662} where #s662<:Complex</b>) in LinearAlgebra at <a href=\"file://D:/buildbot/worker/package_win64/build/usr/share/julia/stdlib/v1.4/LinearAlgebra/src/uniformscaling.jl\" target=\"_blank\">C:\\Users\\HSI\\AppData\\Local\\Programs\\Julia\\Julia-1.4.0\\share\\julia\\stdlib\\v1.4\\LinearAlgebra\\src\\uniformscaling.jl:145</a></li> <li> +(H::<b>LinearAlgebra.UpperHessenberg</b>, J::<b>LinearAlgebra.UniformScaling</b>) in LinearAlgebra at <a href=\"file://D:/buildbot/worker/package_win64/build/usr/share/julia/stdlib/v1.4/LinearAlgebra/src/hessenberg.jl\" target=\"_blank\">C:\\Users\\HSI\\AppData\\Local\\Programs\\Julia\\Julia-1.4.0\\share\\julia\\stdlib\\v1.4\\LinearAlgebra\\src\\hessenberg.jl:106</a></li> <li> +(A::<b>LinearAlgebra.Tridiagonal{#s662,V} where V<:AbstractArray{#s662,1} where #s662<:Number</b>, B::<b>LinearAlgebra.UniformScaling</b>) in LinearAlgebra at <a href=\"file://D:/buildbot/worker/package_win64/build/usr/share/julia/stdlib/v1.4/LinearAlgebra/src/special.jl\" target=\"_blank\">C:\\Users\\HSI\\AppData\\Local\\Programs\\Julia\\Julia-1.4.0\\share\\julia\\stdlib\\v1.4\\LinearAlgebra\\src\\special.jl:238</a></li> <li> +(A::<b>LinearAlgebra.SymTridiagonal{#s662,V} where V<:AbstractArray{#s662,1} where #s662<:Number</b>, B::<b>LinearAlgebra.UniformScaling</b>) in LinearAlgebra at <a href=\"file://D:/buildbot/worker/package_win64/build/usr/share/julia/stdlib/v1.4/LinearAlgebra/src/special.jl\" target=\"_blank\">C:\\Users\\HSI\\AppData\\Local\\Programs\\Julia\\Julia-1.4.0\\share\\julia\\stdlib\\v1.4\\LinearAlgebra\\src\\special.jl:243</a></li> <li> +(A::<b>LinearAlgebra.Bidiagonal{#s662,V} where V<:AbstractArray{#s662,1} where #s662<:Number</b>, B::<b>LinearAlgebra.UniformScaling</b>) in LinearAlgebra at <a href=\"file://D:/buildbot/worker/package_win64/build/usr/share/julia/stdlib/v1.4/LinearAlgebra/src/special.jl\" target=\"_blank\">C:\\Users\\HSI\\AppData\\Local\\Programs\\Julia\\Julia-1.4.0\\share\\julia\\stdlib\\v1.4\\LinearAlgebra\\src\\special.jl:248</a></li> <li> +(A::<b>LinearAlgebra.Diagonal{#s662,V} where V<:AbstractArray{#s662,1} where #s662<:Number</b>, B::<b>LinearAlgebra.UniformScaling</b>) in LinearAlgebra at <a href=\"file://D:/buildbot/worker/package_win64/build/usr/share/julia/stdlib/v1.4/LinearAlgebra/src/special.jl\" target=\"_blank\">C:\\Users\\HSI\\AppData\\Local\\Programs\\Julia\\Julia-1.4.0\\share\\julia\\stdlib\\v1.4\\LinearAlgebra\\src\\special.jl:253</a></li> <li> +(A::<b>SparseArrays.AbstractSparseMatrixCSC</b>, J::<b>LinearAlgebra.UniformScaling</b>) in SparseArrays at <a href=\"file://D:/buildbot/worker/package_win64/build/usr/share/julia/stdlib/v1.4/SparseArrays/src/sparsematrix.jl\" target=\"_blank\">C:\\Users\\HSI\\AppData\\Local\\Programs\\Julia\\Julia-1.4.0\\share\\julia\\stdlib\\v1.4\\SparseArrays\\src\\sparsematrix.jl:3610</a></li> <li> +(A::<b>AbstractArray{T,2} where T</b>, J::<b>LinearAlgebra.UniformScaling</b>) in LinearAlgebra at <a href=\"file://D:/buildbot/worker/package_win64/build/usr/share/julia/stdlib/v1.4/LinearAlgebra/src/uniformscaling.jl\" target=\"_blank\">C:\\Users\\HSI\\AppData\\Local\\Programs\\Julia\\Julia-1.4.0\\share\\julia\\stdlib\\v1.4\\LinearAlgebra\\src\\uniformscaling.jl:164</a></li> <li> +(A::<b>LinearAlgebra.UpperHessenberg</b>, B::<b>LinearAlgebra.UpperHessenberg</b>) in LinearAlgebra at <a href=\"file://D:/buildbot/worker/package_win64/build/usr/share/julia/stdlib/v1.4/LinearAlgebra/src/hessenberg.jl\" target=\"_blank\">C:\\Users\\HSI\\AppData\\Local\\Programs\\Julia\\Julia-1.4.0\\share\\julia\\stdlib\\v1.4\\LinearAlgebra\\src\\hessenberg.jl:101</a></li> <li> +(A::<b>LinearAlgebra.UpperTriangular</b>, B::<b>LinearAlgebra.Bidiagonal</b>) in LinearAlgebra at <a href=\"file://D:/buildbot/worker/package_win64/build/usr/share/julia/stdlib/v1.4/LinearAlgebra/src/special.jl\" target=\"_blank\">C:\\Users\\HSI\\AppData\\Local\\Programs\\Julia\\Julia-1.4.0\\share\\julia\\stdlib\\v1.4\\LinearAlgebra\\src\\special.jl:98</a></li> <li> +(A::<b>LinearAlgebra.Bidiagonal</b>, B::<b>LinearAlgebra.UpperTriangular</b>) in LinearAlgebra at <a href=\"file://D:/buildbot/worker/package_win64/build/usr/share/julia/stdlib/v1.4/LinearAlgebra/src/special.jl\" target=\"_blank\">C:\\Users\\HSI\\AppData\\Local\\Programs\\Julia\\Julia-1.4.0\\share\\julia\\stdlib\\v1.4\\LinearAlgebra\\src\\special.jl:106</a></li> <li> +(A::<b>LinearAlgebra.UnitUpperTriangular</b>, B::<b>LinearAlgebra.Bidiagonal</b>) in LinearAlgebra at <a href=\"file://D:/buildbot/worker/package_win64/build/usr/share/julia/stdlib/v1.4/LinearAlgebra/src/special.jl\" target=\"_blank\">C:\\Users\\HSI\\AppData\\Local\\Programs\\Julia\\Julia-1.4.0\\share\\julia\\stdlib\\v1.4\\LinearAlgebra\\src\\special.jl:98</a></li> <li> +(A::<b>LinearAlgebra.Bidiagonal</b>, B::<b>LinearAlgebra.UnitUpperTriangular</b>) in LinearAlgebra at <a href=\"file://D:/buildbot/worker/package_win64/build/usr/share/julia/stdlib/v1.4/LinearAlgebra/src/special.jl\" target=\"_blank\">C:\\Users\\HSI\\AppData\\Local\\Programs\\Julia\\Julia-1.4.0\\share\\julia\\stdlib\\v1.4\\LinearAlgebra\\src\\special.jl:106</a></li> <li> +(A::<b>LinearAlgebra.LowerTriangular</b>, B::<b>LinearAlgebra.Bidiagonal</b>) in LinearAlgebra at <a href=\"file://D:/buildbot/worker/package_win64/build/usr/share/julia/stdlib/v1.4/LinearAlgebra/src/special.jl\" target=\"_blank\">C:\\Users\\HSI\\AppData\\Local\\Programs\\Julia\\Julia-1.4.0\\share\\julia\\stdlib\\v1.4\\LinearAlgebra\\src\\special.jl:98</a></li> <li> +(A::<b>LinearAlgebra.Bidiagonal</b>, B::<b>LinearAlgebra.LowerTriangular</b>) in LinearAlgebra at <a href=\"file://D:/buildbot/worker/package_win64/build/usr/share/julia/stdlib/v1.4/LinearAlgebra/src/special.jl\" target=\"_blank\">C:\\Users\\HSI\\AppData\\Local\\Programs\\Julia\\Julia-1.4.0\\share\\julia\\stdlib\\v1.4\\LinearAlgebra\\src\\special.jl:106</a></li> <li> +(A::<b>LinearAlgebra.UnitLowerTriangular</b>, B::<b>LinearAlgebra.Bidiagonal</b>) in LinearAlgebra at <a href=\"file://D:/buildbot/worker/package_win64/build/usr/share/julia/stdlib/v1.4/LinearAlgebra/src/special.jl\" target=\"_blank\">C:\\Users\\HSI\\AppData\\Local\\Programs\\Julia\\Julia-1.4.0\\share\\julia\\stdlib\\v1.4\\LinearAlgebra\\src\\special.jl:98</a></li> <li> +(A::<b>LinearAlgebra.Bidiagonal</b>, B::<b>LinearAlgebra.UnitLowerTriangular</b>) in LinearAlgebra at <a href=\"file://D:/buildbot/worker/package_win64/build/usr/share/julia/stdlib/v1.4/LinearAlgebra/src/special.jl\" target=\"_blank\">C:\\Users\\HSI\\AppData\\Local\\Programs\\Julia\\Julia-1.4.0\\share\\julia\\stdlib\\v1.4\\LinearAlgebra\\src\\special.jl:106</a></li> <li> +(A::<b>LinearAlgebra.Bidiagonal</b>, B::<b>LinearAlgebra.Diagonal</b>) in LinearAlgebra at <a href=\"file://D:/buildbot/worker/package_win64/build/usr/share/julia/stdlib/v1.4/LinearAlgebra/src/special.jl\" target=\"_blank\">C:\\Users\\HSI\\AppData\\Local\\Programs\\Julia\\Julia-1.4.0\\share\\julia\\stdlib\\v1.4\\LinearAlgebra\\src\\special.jl:127</a></li> <li> +(A::<b>LinearAlgebra.Diagonal</b>, B::<b>LinearAlgebra.Bidiagonal</b>) in LinearAlgebra at <a href=\"file://D:/buildbot/worker/package_win64/build/usr/share/julia/stdlib/v1.4/LinearAlgebra/src/special.jl\" target=\"_blank\">C:\\Users\\HSI\\AppData\\Local\\Programs\\Julia\\Julia-1.4.0\\share\\julia\\stdlib\\v1.4\\LinearAlgebra\\src\\special.jl:137</a></li> <li> +(A::<b>LinearAlgebra.Diagonal</b>, B::<b>LinearAlgebra.SymTridiagonal</b>) in LinearAlgebra at <a href=\"file://D:/buildbot/worker/package_win64/build/usr/share/julia/stdlib/v1.4/LinearAlgebra/src/special.jl\" target=\"_blank\">C:\\Users\\HSI\\AppData\\Local\\Programs\\Julia\\Julia-1.4.0\\share\\julia\\stdlib\\v1.4\\LinearAlgebra\\src\\special.jl:147</a></li> <li> +(A::<b>LinearAlgebra.SymTridiagonal</b>, B::<b>LinearAlgebra.Diagonal</b>) in LinearAlgebra at <a href=\"file://D:/buildbot/worker/package_win64/build/usr/share/julia/stdlib/v1.4/LinearAlgebra/src/special.jl\" target=\"_blank\">C:\\Users\\HSI\\AppData\\Local\\Programs\\Julia\\Julia-1.4.0\\share\\julia\\stdlib\\v1.4\\LinearAlgebra\\src\\special.jl:157</a></li> <li> +(A::<b>LinearAlgebra.Tridiagonal</b>, B::<b>LinearAlgebra.SymTridiagonal</b>) in LinearAlgebra at <a href=\"file://D:/buildbot/worker/package_win64/build/usr/share/julia/stdlib/v1.4/LinearAlgebra/src/special.jl\" target=\"_blank\">C:\\Users\\HSI\\AppData\\Local\\Programs\\Julia\\Julia-1.4.0\\share\\julia\\stdlib\\v1.4\\LinearAlgebra\\src\\special.jl:168</a></li> <li> +(A::<b>LinearAlgebra.SymTridiagonal</b>, B::<b>LinearAlgebra.Tridiagonal</b>) in LinearAlgebra at <a href=\"file://D:/buildbot/worker/package_win64/build/usr/share/julia/stdlib/v1.4/LinearAlgebra/src/special.jl\" target=\"_blank\">C:\\Users\\HSI\\AppData\\Local\\Programs\\Julia\\Julia-1.4.0\\share\\julia\\stdlib\\v1.4\\LinearAlgebra\\src\\special.jl:170</a></li> <li> +(A::<b>LinearAlgebra.Diagonal</b>, B::<b>LinearAlgebra.Tridiagonal</b>) in LinearAlgebra at <a href=\"file://D:/buildbot/worker/package_win64/build/usr/share/julia/stdlib/v1.4/LinearAlgebra/src/special.jl\" target=\"_blank\">C:\\Users\\HSI\\AppData\\Local\\Programs\\Julia\\Julia-1.4.0\\share\\julia\\stdlib\\v1.4\\LinearAlgebra\\src\\special.jl:175</a></li> <li> +(A::<b>LinearAlgebra.Tridiagonal</b>, B::<b>LinearAlgebra.Diagonal</b>) in LinearAlgebra at <a href=\"file://D:/buildbot/worker/package_win64/build/usr/share/julia/stdlib/v1.4/LinearAlgebra/src/special.jl\" target=\"_blank\">C:\\Users\\HSI\\AppData\\Local\\Programs\\Julia\\Julia-1.4.0\\share\\julia\\stdlib\\v1.4\\LinearAlgebra\\src\\special.jl:185</a></li> <li> +(A::<b>LinearAlgebra.Bidiagonal</b>, B::<b>LinearAlgebra.Tridiagonal</b>) in LinearAlgebra at <a href=\"file://D:/buildbot/worker/package_win64/build/usr/share/julia/stdlib/v1.4/LinearAlgebra/src/special.jl\" target=\"_blank\">C:\\Users\\HSI\\AppData\\Local\\Programs\\Julia\\Julia-1.4.0\\share\\julia\\stdlib\\v1.4\\LinearAlgebra\\src\\special.jl:195</a></li> <li> +(A::<b>LinearAlgebra.Tridiagonal</b>, B::<b>LinearAlgebra.Bidiagonal</b>) in LinearAlgebra at <a href=\"file://D:/buildbot/worker/package_win64/build/usr/share/julia/stdlib/v1.4/LinearAlgebra/src/special.jl\" target=\"_blank\">C:\\Users\\HSI\\AppData\\Local\\Programs\\Julia\\Julia-1.4.0\\share\\julia\\stdlib\\v1.4\\LinearAlgebra\\src\\special.jl:205</a></li> <li> +(A::<b>LinearAlgebra.Bidiagonal</b>, B::<b>LinearAlgebra.SymTridiagonal</b>) in LinearAlgebra at <a href=\"file://D:/buildbot/worker/package_win64/build/usr/share/julia/stdlib/v1.4/LinearAlgebra/src/special.jl\" target=\"_blank\">C:\\Users\\HSI\\AppData\\Local\\Programs\\Julia\\Julia-1.4.0\\share\\julia\\stdlib\\v1.4\\LinearAlgebra\\src\\special.jl:215</a></li> <li> +(A::<b>LinearAlgebra.SymTridiagonal</b>, B::<b>LinearAlgebra.Bidiagonal</b>) in LinearAlgebra at <a href=\"file://D:/buildbot/worker/package_win64/build/usr/share/julia/stdlib/v1.4/LinearAlgebra/src/special.jl\" target=\"_blank\">C:\\Users\\HSI\\AppData\\Local\\Programs\\Julia\\Julia-1.4.0\\share\\julia\\stdlib\\v1.4\\LinearAlgebra\\src\\special.jl:225</a></li> <li> +(A::<b>SparseArrays.AbstractSparseMatrixCSC</b>, B::<b>SparseArrays.AbstractSparseMatrixCSC</b>) in SparseArrays at <a href=\"file://D:/buildbot/worker/package_win64/build/usr/share/julia/stdlib/v1.4/SparseArrays/src/sparsematrix.jl\" target=\"_blank\">C:\\Users\\HSI\\AppData\\Local\\Programs\\Julia\\Julia-1.4.0\\share\\julia\\stdlib\\v1.4\\SparseArrays\\src\\sparsematrix.jl:1648</a></li> <li> +(A::<b>SparseArrays.AbstractSparseMatrixCSC</b>, B::<b>Array</b>) in SparseArrays at <a href=\"file://D:/buildbot/worker/package_win64/build/usr/share/julia/stdlib/v1.4/SparseArrays/src/sparsematrix.jl\" target=\"_blank\">C:\\Users\\HSI\\AppData\\Local\\Programs\\Julia\\Julia-1.4.0\\share\\julia\\stdlib\\v1.4\\SparseArrays\\src\\sparsematrix.jl:1651</a></li> <li> +(x::<b>SparseArrays.AbstractSparseArray{Tv,Ti,1} where Ti where Tv</b>, y::<b>SparseArrays.AbstractSparseArray{Tv,Ti,1} where Ti where Tv</b>) in SparseArrays at <a href=\"file://D:/buildbot/worker/package_win64/build/usr/share/julia/stdlib/v1.4/SparseArrays/src/sparsevector.jl\" target=\"_blank\">C:\\Users\\HSI\\AppData\\Local\\Programs\\Julia\\Julia-1.4.0\\share\\julia\\stdlib\\v1.4\\SparseArrays\\src\\sparsevector.jl:1303</a></li> <li> +(x::<b>AbstractArray{#s69,N} where N where #s69<:Number</b>) in Base at <a href=\"https://github.com/JuliaLang/julia/tree/b8e9a9ecc62ab49003bd4f1834771bdeb8cb1aa2/base/abstractarraymath.jl#L97\" target=\"_blank\">abstractarraymath.jl:97</a></li> <li> +(A::<b>AbstractArray</b>, B::<b>AbstractArray</b>) in Base at <a href=\"https://github.com/JuliaLang/julia/tree/b8e9a9ecc62ab49003bd4f1834771bdeb8cb1aa2/base/arraymath.jl#L38\" target=\"_blank\">arraymath.jl:38</a></li> <li> +(x::<b>T</b>, y::<b>Integer</b>)<i> where T<:AbstractChar</i> in Base at <a href=\"https://github.com/JuliaLang/julia/tree/b8e9a9ecc62ab49003bd4f1834771bdeb8cb1aa2/base/char.jl#L223\" target=\"_blank\">char.jl:223</a></li> <li> +(index1::<b>CartesianIndex{N}</b>, index2::<b>CartesianIndex{N}</b>)<i> where N</i> in Base.IteratorsMD at <a href=\"https://github.com/JuliaLang/julia/tree/b8e9a9ecc62ab49003bd4f1834771bdeb8cb1aa2/base/multidimensional.jl#L111\" target=\"_blank\">multidimensional.jl:111</a></li> <li> +(::<b>Number</b>, ::<b>Missing</b>) in Base at <a href=\"https://github.com/JuliaLang/julia/tree/b8e9a9ecc62ab49003bd4f1834771bdeb8cb1aa2/base/missing.jl#L116\" target=\"_blank\">missing.jl:116</a></li> <li> +(x::<b>P</b>, y::<b>P</b>)<i> where P<:Dates.Period</i> in Dates at <a href=\"file://D:/buildbot/worker/package_win64/build/usr/share/julia/stdlib/v1.4/Dates/src/periods.jl\" target=\"_blank\">C:\\Users\\HSI\\AppData\\Local\\Programs\\Julia\\Julia-1.4.0\\share\\julia\\stdlib\\v1.4\\Dates\\src\\periods.jl:75</a></li> <li> +(x::<b>Dates.Period</b>, y::<b>Dates.Period</b>) in Dates at <a href=\"file://D:/buildbot/worker/package_win64/build/usr/share/julia/stdlib/v1.4/Dates/src/periods.jl\" target=\"_blank\">C:\\Users\\HSI\\AppData\\Local\\Programs\\Julia\\Julia-1.4.0\\share\\julia\\stdlib\\v1.4\\Dates\\src\\periods.jl:338</a></li> <li> +(y::<b>Dates.Period</b>, x::<b>Dates.CompoundPeriod</b>) in Dates at <a href=\"file://D:/buildbot/worker/package_win64/build/usr/share/julia/stdlib/v1.4/Dates/src/periods.jl\" target=\"_blank\">C:\\Users\\HSI\\AppData\\Local\\Programs\\Julia\\Julia-1.4.0\\share\\julia\\stdlib\\v1.4\\Dates\\src\\periods.jl:340</a></li> <li> +(x::<b>Union{Dates.CompoundPeriod, Dates.Period}</b>) in Dates at <a href=\"file://D:/buildbot/worker/package_win64/build/usr/share/julia/stdlib/v1.4/Dates/src/periods.jl\" target=\"_blank\">C:\\Users\\HSI\\AppData\\Local\\Programs\\Julia\\Julia-1.4.0\\share\\julia\\stdlib\\v1.4\\Dates\\src\\periods.jl:349</a></li> <li> +(x::<b>Dates.TimeType</b>) in Dates at <a href=\"file://D:/buildbot/worker/package_win64/build/usr/share/julia/stdlib/v1.4/Dates/src/arithmetic.jl\" target=\"_blank\">C:\\Users\\HSI\\AppData\\Local\\Programs\\Julia\\Julia-1.4.0\\share\\julia\\stdlib\\v1.4\\Dates\\src\\arithmetic.jl:8</a></li> <li> +(a::<b>Dates.TimeType</b>, b::<b>Dates.Period</b>, c::<b>Dates.Period</b>) in Dates at <a href=\"file://D:/buildbot/worker/package_win64/build/usr/share/julia/stdlib/v1.4/Dates/src/periods.jl\" target=\"_blank\">C:\\Users\\HSI\\AppData\\Local\\Programs\\Julia\\Julia-1.4.0\\share\\julia\\stdlib\\v1.4\\Dates\\src\\periods.jl:360</a></li> <li> +(a::<b>Dates.TimeType</b>, b::<b>Dates.Period</b>, c::<b>Dates.Period</b>, d::<b>Dates.Period...</b>) in Dates at <a href=\"file://D:/buildbot/worker/package_win64/build/usr/share/julia/stdlib/v1.4/Dates/src/periods.jl\" target=\"_blank\">C:\\Users\\HSI\\AppData\\Local\\Programs\\Julia\\Julia-1.4.0\\share\\julia\\stdlib\\v1.4\\Dates\\src\\periods.jl:361</a></li> <li> +(x::<b>Dates.TimeType</b>, y::<b>Dates.CompoundPeriod</b>) in Dates at <a href=\"file://D:/buildbot/worker/package_win64/build/usr/share/julia/stdlib/v1.4/Dates/src/periods.jl\" target=\"_blank\">C:\\Users\\HSI\\AppData\\Local\\Programs\\Julia\\Julia-1.4.0\\share\\julia\\stdlib\\v1.4\\Dates\\src\\periods.jl:364</a></li> <li> +(x::<b>Dates.Instant</b>) in Dates at <a href=\"file://D:/buildbot/worker/package_win64/build/usr/share/julia/stdlib/v1.4/Dates/src/arithmetic.jl\" target=\"_blank\">C:\\Users\\HSI\\AppData\\Local\\Programs\\Julia\\Julia-1.4.0\\share\\julia\\stdlib\\v1.4\\Dates\\src\\arithmetic.jl:4</a></li> <li> +(y::<b>Dates.Period</b>, x::<b>Dates.TimeType</b>) in Dates at <a href=\"file://D:/buildbot/worker/package_win64/build/usr/share/julia/stdlib/v1.4/Dates/src/arithmetic.jl\" target=\"_blank\">C:\\Users\\HSI\\AppData\\Local\\Programs\\Julia\\Julia-1.4.0\\share\\julia\\stdlib\\v1.4\\Dates\\src\\arithmetic.jl:80</a></li> <li> +(x::<b>Dates.Period</b>, r::<b>AbstractRange{#s662} where #s662<:Dates.TimeType</b>) in Dates at <a href=\"file://D:/buildbot/worker/package_win64/build/usr/share/julia/stdlib/v1.4/Dates/src/ranges.jl\" target=\"_blank\">C:\\Users\\HSI\\AppData\\Local\\Programs\\Julia\\Julia-1.4.0\\share\\julia\\stdlib\\v1.4\\Dates\\src\\ranges.jl:58</a></li> <li> +(x::<b>AbstractArray{#s662,N} where N where #s662<:Dates.TimeType</b>, y::<b>Union{Dates.CompoundPeriod, Dates.Period}</b>) in Dates at <a href=\"file://D:/buildbot/worker/package_win64/build/usr/share/julia/stdlib/v1.4/Dates/src/deprecated.jl\" target=\"_blank\">C:\\Users\\HSI\\AppData\\Local\\Programs\\Julia\\Julia-1.4.0\\share\\julia\\stdlib\\v1.4\\Dates\\src\\deprecated.jl:8</a></li> <li> +(y::<b>Union{Dates.CompoundPeriod, Dates.Period}</b>, x::<b>AbstractArray{#s662,N} where N where #s662<:Dates.TimeType</b>) in Dates at <a href=\"file://D:/buildbot/worker/package_win64/build/usr/share/julia/stdlib/v1.4/Dates/src/deprecated.jl\" target=\"_blank\">C:\\Users\\HSI\\AppData\\Local\\Programs\\Julia\\Julia-1.4.0\\share\\julia\\stdlib\\v1.4\\Dates\\src\\deprecated.jl:16</a></li> <li> +(y::<b>Dates.TimeType</b>, x::<b>Union{DenseArray{#s662,N}, Base.ReinterpretArray{#s662,N,S,A} where S where A<:Union{SubArray{T,N,A,I,true} where I<:Union{Tuple{Vararg{Real,N} where N}, Tuple{AbstractUnitRange,Vararg{Any,N} where N}} where A<:DenseArray where N where T, DenseArray}, Base.ReshapedArray{#s662,N,A,MI} where MI<:Tuple{Vararg{Base.MultiplicativeInverses.SignedMultiplicativeInverse{Int64},N} where N} where A<:Union{Base.ReinterpretArray{T,N,S,A} where S where A<:Union{SubArray{T,N,A,I,true} where I<:Union{Tuple{Vararg{Real,N} where N}, Tuple{AbstractUnitRange,Vararg{Any,N} where N}} where A<:DenseArray where N where T, DenseArray} where N where T, SubArray{T,N,A,I,true} where I<:Union{Tuple{Vararg{Real,N} where N}, Tuple{AbstractUnitRange,Vararg{Any,N} where N}} where A<:DenseArray where N where T, DenseArray}, SubArray{#s662,N,A,I,L} where L where I<:Tuple{Vararg{Union{Int64, AbstractRange{Int64}, Base.AbstractCartesianIndex},N} where N} where A<:Union{Base.ReinterpretArray{T,N,S,A} where S where A<:Union{SubArray{T,N,A,I,true} where I<:Union{Tuple{Vararg{Real,N} where N}, Tuple{AbstractUnitRange,Vararg{Any,N} where N}} where A<:DenseArray where N where T, DenseArray} where N where T, Base.ReshapedArray{T,N,A,MI} where MI<:Tuple{Vararg{Base.MultiplicativeInverses.SignedMultiplicativeInverse{Int64},N} where N} where A<:Union{Base.ReinterpretArray{T,N,S,A} where S where A<:Union{SubArray{T,N,A,I,true} where I<:Union{Tuple{Vararg{Real,N} where N}, Tuple{AbstractUnitRange,Vararg{Any,N} where N}} where A<:DenseArray where N where T, DenseArray} where N where T, SubArray{T,N,A,I,true} where I<:Union{Tuple{Vararg{Real,N} where N}, Tuple{AbstractUnitRange,Vararg{Any,N} where N}} where A<:DenseArray where N where T, DenseArray} where N where T, DenseArray}} where N where #s662<:Union{Dates.CompoundPeriod, Dates.Period}</b>) in Dates at <a href=\"file://D:/buildbot/worker/package_win64/build/usr/share/julia/stdlib/v1.4/Dates/src/deprecated.jl\" target=\"_blank\">C:\\Users\\HSI\\AppData\\Local\\Programs\\Julia\\Julia-1.4.0\\share\\julia\\stdlib\\v1.4\\Dates\\src\\deprecated.jl:20</a></li> <li> +(J::<b>LinearAlgebra.UniformScaling</b>, x::<b>Number</b>) in LinearAlgebra at <a href=\"file://D:/buildbot/worker/package_win64/build/usr/share/julia/stdlib/v1.4/LinearAlgebra/src/uniformscaling.jl\" target=\"_blank\">C:\\Users\\HSI\\AppData\\Local\\Programs\\Julia\\Julia-1.4.0\\share\\julia\\stdlib\\v1.4\\LinearAlgebra\\src\\uniformscaling.jl:109</a></li> <li> +(x::<b>Number</b>, J::<b>LinearAlgebra.UniformScaling</b>) in LinearAlgebra at <a href=\"file://D:/buildbot/worker/package_win64/build/usr/share/julia/stdlib/v1.4/LinearAlgebra/src/uniformscaling.jl\" target=\"_blank\">C:\\Users\\HSI\\AppData\\Local\\Programs\\Julia\\Julia-1.4.0\\share\\julia\\stdlib\\v1.4\\LinearAlgebra\\src\\uniformscaling.jl:110</a></li> <li> +(J1::<b>LinearAlgebra.UniformScaling</b>, J2::<b>LinearAlgebra.UniformScaling</b>) in LinearAlgebra at <a href=\"file://D:/buildbot/worker/package_win64/build/usr/share/julia/stdlib/v1.4/LinearAlgebra/src/uniformscaling.jl\" target=\"_blank\">C:\\Users\\HSI\\AppData\\Local\\Programs\\Julia\\Julia-1.4.0\\share\\julia\\stdlib\\v1.4\\LinearAlgebra\\src\\uniformscaling.jl:114</a></li> <li> +(J::<b>LinearAlgebra.UniformScaling</b>, B::<b>BitArray{2}</b>) in LinearAlgebra at <a href=\"file://D:/buildbot/worker/package_win64/build/usr/share/julia/stdlib/v1.4/LinearAlgebra/src/uniformscaling.jl\" target=\"_blank\">C:\\Users\\HSI\\AppData\\Local\\Programs\\Julia\\Julia-1.4.0\\share\\julia\\stdlib\\v1.4\\LinearAlgebra\\src\\uniformscaling.jl:116</a></li> <li> +(A::<b>LinearAlgebra.UniformScaling</b>, B::<b>LinearAlgebra.Tridiagonal{#s662,V} where V<:AbstractArray{#s662,1} where #s662<:Number</b>) in LinearAlgebra at <a href=\"file://D:/buildbot/worker/package_win64/build/usr/share/julia/stdlib/v1.4/LinearAlgebra/src/special.jl\" target=\"_blank\">C:\\Users\\HSI\\AppData\\Local\\Programs\\Julia\\Julia-1.4.0\\share\\julia\\stdlib\\v1.4\\LinearAlgebra\\src\\special.jl:257</a></li> <li> +(A::<b>LinearAlgebra.UniformScaling</b>, B::<b>LinearAlgebra.SymTridiagonal{#s662,V} where V<:AbstractArray{#s662,1} where #s662<:Number</b>) in LinearAlgebra at <a href=\"file://D:/buildbot/worker/package_win64/build/usr/share/julia/stdlib/v1.4/LinearAlgebra/src/special.jl\" target=\"_blank\">C:\\Users\\HSI\\AppData\\Local\\Programs\\Julia\\Julia-1.4.0\\share\\julia\\stdlib\\v1.4\\LinearAlgebra\\src\\special.jl:262</a></li> <li> +(A::<b>LinearAlgebra.UniformScaling</b>, B::<b>LinearAlgebra.Bidiagonal{#s662,V} where V<:AbstractArray{#s662,1} where #s662<:Number</b>) in LinearAlgebra at <a href=\"file://D:/buildbot/worker/package_win64/build/usr/share/julia/stdlib/v1.4/LinearAlgebra/src/special.jl\" target=\"_blank\">C:\\Users\\HSI\\AppData\\Local\\Programs\\Julia\\Julia-1.4.0\\share\\julia\\stdlib\\v1.4\\LinearAlgebra\\src\\special.jl:267</a></li> <li> +(A::<b>LinearAlgebra.UniformScaling</b>, B::<b>LinearAlgebra.Diagonal{#s662,V} where V<:AbstractArray{#s662,1} where #s662<:Number</b>) in LinearAlgebra at <a href=\"file://D:/buildbot/worker/package_win64/build/usr/share/julia/stdlib/v1.4/LinearAlgebra/src/special.jl\" target=\"_blank\">C:\\Users\\HSI\\AppData\\Local\\Programs\\Julia\\Julia-1.4.0\\share\\julia\\stdlib\\v1.4\\LinearAlgebra\\src\\special.jl:272</a></li> <li> +(J::<b>LinearAlgebra.UniformScaling</b>, A::<b>AbstractArray{T,2} where T</b>) in LinearAlgebra at <a href=\"file://D:/buildbot/worker/package_win64/build/usr/share/julia/stdlib/v1.4/LinearAlgebra/src/uniformscaling.jl\" target=\"_blank\">C:\\Users\\HSI\\AppData\\Local\\Programs\\Julia\\Julia-1.4.0\\share\\julia\\stdlib\\v1.4\\LinearAlgebra\\src\\uniformscaling.jl:117</a></li> <li> +(F::<b>LinearAlgebra.Hessenberg</b>, J::<b>LinearAlgebra.UniformScaling</b>) in LinearAlgebra at <a href=\"file://D:/buildbot/worker/package_win64/build/usr/share/julia/stdlib/v1.4/LinearAlgebra/src/hessenberg.jl\" target=\"_blank\">C:\\Users\\HSI\\AppData\\Local\\Programs\\Julia\\Julia-1.4.0\\share\\julia\\stdlib\\v1.4\\LinearAlgebra\\src\\hessenberg.jl:559</a></li> <li> +(J::<b>LinearAlgebra.UniformScaling</b>, F::<b>LinearAlgebra.Hessenberg</b>) in LinearAlgebra at <a href=\"file://D:/buildbot/worker/package_win64/build/usr/share/julia/stdlib/v1.4/LinearAlgebra/src/hessenberg.jl\" target=\"_blank\">C:\\Users\\HSI\\AppData\\Local\\Programs\\Julia\\Julia-1.4.0\\share\\julia\\stdlib\\v1.4\\LinearAlgebra\\src\\hessenberg.jl:560</a></li> <li> +(a, b, c, xs...) in Base at <a href=\"https://github.com/JuliaLang/julia/tree/b8e9a9ecc62ab49003bd4f1834771bdeb8cb1aa2/base/operators.jl#L529\" target=\"_blank\">operators.jl:529</a></li> </ul>"
      ],
      "text/plain": [
       "# 166 methods for generic function \"+\":\n",
       "[1] +(x::Bool, z::Complex{Bool}) in Base at complex.jl:286\n",
       "[2] +(x::Bool, y::Bool) in Base at bool.jl:96\n",
       "[3] +(x::Bool) in Base at bool.jl:93\n",
       "[4] +(x::Bool, y::T) where T<:AbstractFloat in Base at bool.jl:104\n",
       "[5] +(x::Bool, z::Complex) in Base at complex.jl:293\n",
       "[6] +(a::Float16, b::Float16) in Base at float.jl:398\n",
       "[7] +(x::Float32, y::Float32) in Base at float.jl:400\n",
       "[8] +(x::Float64, y::Float64) in Base at float.jl:401\n",
       "[9] +(z::Complex{Bool}, x::Bool) in Base at complex.jl:287\n",
       "[10] +(z::Complex{Bool}, x::Real) in Base at complex.jl:301\n",
       "[11] +(::Missing, ::Missing) in Base at missing.jl:114\n",
       "[12] +(::Missing) in Base at missing.jl:100\n",
       "[13] +(::Missing, ::Number) in Base at missing.jl:115\n",
       "[14] +(level::Base.CoreLogging.LogLevel, inc::Integer) in Base.CoreLogging at logging.jl:107\n",
       "[15] +(c::BigInt, x::BigFloat) in Base.MPFR at mpfr.jl:414\n",
       "[16] +(a::BigInt, b::BigInt, c::BigInt, d::BigInt, e::BigInt) in Base.GMP at gmp.jl:515\n",
       "[17] +(a::BigInt, b::BigInt, c::BigInt, d::BigInt) in Base.GMP at gmp.jl:514\n",
       "[18] +(a::BigInt, b::BigInt, c::BigInt) in Base.GMP at gmp.jl:513\n",
       "[19] +(x::BigInt, y::BigInt) in Base.GMP at gmp.jl:473\n",
       "[20] +(x::BigInt, c::Union{UInt16, UInt32, UInt8}) in Base.GMP at gmp.jl:521\n",
       "[21] +(x::BigInt, c::Union{Int16, Int32, Int8}) in Base.GMP at gmp.jl:527\n",
       "[22] +(a::BigFloat, b::BigFloat, c::BigFloat, d::BigFloat, e::BigFloat) in Base.MPFR at mpfr.jl:564\n",
       "[23] +(a::BigFloat, b::BigFloat, c::BigFloat, d::BigFloat) in Base.MPFR at mpfr.jl:557\n",
       "[24] +(a::BigFloat, b::BigFloat, c::BigFloat) in Base.MPFR at mpfr.jl:551\n",
       "[25] +(x::BigFloat, c::BigInt) in Base.MPFR at mpfr.jl:410\n",
       "[26] +(x::BigFloat, y::BigFloat) in Base.MPFR at mpfr.jl:379\n",
       "[27] +(x::BigFloat, c::Union{UInt16, UInt32, UInt8}) in Base.MPFR at mpfr.jl:386\n",
       "[28] +(x::BigFloat, c::Union{Int16, Int32, Int8}) in Base.MPFR at mpfr.jl:394\n",
       "[29] +(x::BigFloat, c::Union{Float16, Float32, Float64}) in Base.MPFR at mpfr.jl:402\n",
       "[30] +(x::Dates.CompoundPeriod, y::Dates.CompoundPeriod) in Dates at C:\\Users\\HSI\\AppData\\Local\\Programs\\Julia\\Julia-1.4.0\\share\\julia\\stdlib\\v1.4\\Dates\\src\\periods.jl:341\n",
       "[31] +(x::Dates.CompoundPeriod, y::Dates.Period) in Dates at C:\\Users\\HSI\\AppData\\Local\\Programs\\Julia\\Julia-1.4.0\\share\\julia\\stdlib\\v1.4\\Dates\\src\\periods.jl:339\n",
       "[32] +(x::Dates.CompoundPeriod, y::Dates.TimeType) in Dates at C:\\Users\\HSI\\AppData\\Local\\Programs\\Julia\\Julia-1.4.0\\share\\julia\\stdlib\\v1.4\\Dates\\src\\periods.jl:369\n",
       "[33] +(x::Dates.Date, y::Dates.Day) in Dates at C:\\Users\\HSI\\AppData\\Local\\Programs\\Julia\\Julia-1.4.0\\share\\julia\\stdlib\\v1.4\\Dates\\src\\arithmetic.jl:74\n",
       "[34] +(x::Dates.Date, y::Dates.Week) in Dates at C:\\Users\\HSI\\AppData\\Local\\Programs\\Julia\\Julia-1.4.0\\share\\julia\\stdlib\\v1.4\\Dates\\src\\arithmetic.jl:72\n",
       "[35] +(dt::Dates.Date, z::Dates.Month) in Dates at C:\\Users\\HSI\\AppData\\Local\\Programs\\Julia\\Julia-1.4.0\\share\\julia\\stdlib\\v1.4\\Dates\\src\\arithmetic.jl:55\n",
       "[36] +(dt::Dates.Date, y::Dates.Year) in Dates at C:\\Users\\HSI\\AppData\\Local\\Programs\\Julia\\Julia-1.4.0\\share\\julia\\stdlib\\v1.4\\Dates\\src\\arithmetic.jl:28\n",
       "[37] +(dt::Dates.Date, t::Dates.Time) in Dates at C:\\Users\\HSI\\AppData\\Local\\Programs\\Julia\\Julia-1.4.0\\share\\julia\\stdlib\\v1.4\\Dates\\src\\arithmetic.jl:19\n",
       "[38] +(t::Dates.Time, dt::Dates.Date) in Dates at C:\\Users\\HSI\\AppData\\Local\\Programs\\Julia\\Julia-1.4.0\\share\\julia\\stdlib\\v1.4\\Dates\\src\\arithmetic.jl:20\n",
       "[39] +(x::Dates.Time, y::Dates.TimePeriod) in Dates at C:\\Users\\HSI\\AppData\\Local\\Programs\\Julia\\Julia-1.4.0\\share\\julia\\stdlib\\v1.4\\Dates\\src\\arithmetic.jl:78\n",
       "[40] +(dt::Dates.DateTime, z::Dates.Month) in Dates at C:\\Users\\HSI\\AppData\\Local\\Programs\\Julia\\Julia-1.4.0\\share\\julia\\stdlib\\v1.4\\Dates\\src\\arithmetic.jl:48\n",
       "[41] +(dt::Dates.DateTime, y::Dates.Year) in Dates at C:\\Users\\HSI\\AppData\\Local\\Programs\\Julia\\Julia-1.4.0\\share\\julia\\stdlib\\v1.4\\Dates\\src\\arithmetic.jl:24\n",
       "[42] +(x::Dates.DateTime, y::Dates.Period) in Dates at C:\\Users\\HSI\\AppData\\Local\\Programs\\Julia\\Julia-1.4.0\\share\\julia\\stdlib\\v1.4\\Dates\\src\\arithmetic.jl:76\n",
       "[43] +(B::BitArray{2}, J::LinearAlgebra.UniformScaling) in LinearAlgebra at C:\\Users\\HSI\\AppData\\Local\\Programs\\Julia\\Julia-1.4.0\\share\\julia\\stdlib\\v1.4\\LinearAlgebra\\src\\uniformscaling.jl:115\n",
       "[44] +(a::Pkg.Resolve.VersionWeight, b::Pkg.Resolve.VersionWeight) in Pkg.Resolve at C:\\Users\\HSI\\AppData\\Local\\Programs\\Julia\\Julia-1.4.0\\share\\julia\\stdlib\\v1.4\\Pkg\\src\\Resolve\\versionweights.jl:22\n",
       "[45] +(a::Pkg.Resolve.FieldValue, b::Pkg.Resolve.FieldValue) in Pkg.Resolve at C:\\Users\\HSI\\AppData\\Local\\Programs\\Julia\\Julia-1.4.0\\share\\julia\\stdlib\\v1.4\\Pkg\\src\\Resolve\\fieldvalues.jl:43\n",
       "[46] +(y::AbstractFloat, x::Bool) in Base at bool.jl:106\n",
       "[47] +(x::T, y::T) where T<:Union{Int128, Int16, Int32, Int64, Int8, UInt128, UInt16, UInt32, UInt64, UInt8} in Base at int.jl:53\n",
       "[48] +(c::Union{UInt16, UInt32, UInt8}, x::BigInt) in Base.GMP at gmp.jl:522\n",
       "[49] +(c::Union{Int16, Int32, Int8}, x::BigInt) in Base.GMP at gmp.jl:528\n",
       "[50] +(a::Integer, b::Integer) in Base at int.jl:857\n",
       "[51] +(x::Integer, y::Ptr) in Base at pointer.jl:161\n",
       "[52] +(z::Complex) in Base at complex.jl:273\n",
       "[53] +(z::Complex, w::Complex) in Base at complex.jl:275\n",
       "[54] +(z::Complex, x::Bool) in Base at complex.jl:294\n",
       "[55] +(x::Rational) in Base at rational.jl:247\n",
       "[56] +(x::Real, z::Complex{Bool}) in Base at complex.jl:300\n",
       "[57] +(x::Real, z::Complex) in Base at complex.jl:312\n",
       "[58] +(z::Complex, x::Real) in Base at complex.jl:313\n",
       "[59] +(x::Rational, y::Rational) in Base at rational.jl:263\n",
       "[60] +(x::Integer, y::AbstractChar) in Base at char.jl:224\n",
       "[61] +(c::Union{UInt16, UInt32, UInt8}, x::BigFloat) in Base.MPFR at mpfr.jl:390\n",
       "[62] +(c::Union{Int16, Int32, Int8}, x::BigFloat) in Base.MPFR at mpfr.jl:398\n",
       "[63] +(c::Union{Float16, Float32, Float64}, x::BigFloat) in Base.MPFR at mpfr.jl:406\n",
       "[64] +(x::AbstractIrrational, y::AbstractIrrational) in Base at irrationals.jl:137\n",
       "[65] +(x::Number) in Base at operators.jl:504\n",
       "[66] +(x::T, y::T) where T<:Number in Base at promotion.jl:384\n",
       "[67] +(x::Number, y::Number) in Base at promotion.jl:311\n",
       "[68] +(r1::OrdinalRange, r2::OrdinalRange) in Base at range.jl:1011\n",
       "[69] +(r1::LinRange{T}, r2::LinRange{T}) where T in Base at range.jl:1018\n",
       "[70] +(r1::StepRangeLen{T,R,S} where S, r2::StepRangeLen{T,R,S} where S) where {R<:Base.TwicePrecision, T} in Base at twiceprecision.jl:557\n",
       "[71] +(r1::StepRangeLen{T,S,S1} where S1, r2::StepRangeLen{T,S,S1} where S1) where {T, S} in Base at range.jl:1034\n",
       "[72] +(r1::Union{LinRange, OrdinalRange, StepRangeLen}, r2::Union{LinRange, OrdinalRange, StepRangeLen}) in Base at range.jl:1026\n",
       "[73] +(x::Ptr, y::Integer) in Base at pointer.jl:159\n",
       "[74] +(x::Base.TwicePrecision, y::Number) in Base at twiceprecision.jl:265\n",
       "[75] +(x::Number, y::Base.TwicePrecision) in Base at twiceprecision.jl:268\n",
       "[76] +(x::Base.TwicePrecision{T}, y::Base.TwicePrecision{T}) where T in Base at twiceprecision.jl:271\n",
       "[77] +(x::Base.TwicePrecision, y::Base.TwicePrecision) in Base at twiceprecision.jl:275\n",
       "[78] +(A::Array, Bs::Array...) in Base at arraymath.jl:44\n",
       "[79] +(A::BitArray, B::BitArray) in Base at bitarray.jl:1106\n",
       "[80] +(r::AbstractRange{#s662} where #s662<:Dates.TimeType, x::Dates.Period) in Dates at C:\\Users\\HSI\\AppData\\Local\\Programs\\Julia\\Julia-1.4.0\\share\\julia\\stdlib\\v1.4\\Dates\\src\\ranges.jl:59\n",
       "[81] +(A::Array, B::SparseArrays.AbstractSparseMatrixCSC) in SparseArrays at C:\\Users\\HSI\\AppData\\Local\\Programs\\Julia\\Julia-1.4.0\\share\\julia\\stdlib\\v1.4\\SparseArrays\\src\\sparsematrix.jl:1652\n",
       "[82] +(x::Union{DenseArray{#s662,N}, Base.ReinterpretArray{#s662,N,S,A} where S where A<:Union{SubArray{T,N,A,I,true} where I<:Union{Tuple{Vararg{Real,N} where N}, Tuple{AbstractUnitRange,Vararg{Any,N} where N}} where A<:DenseArray where N where T, DenseArray}, Base.ReshapedArray{#s662,N,A,MI} where MI<:Tuple{Vararg{Base.MultiplicativeInverses.SignedMultiplicativeInverse{Int64},N} where N} where A<:Union{Base.ReinterpretArray{T,N,S,A} where S where A<:Union{SubArray{T,N,A,I,true} where I<:Union{Tuple{Vararg{Real,N} where N}, Tuple{AbstractUnitRange,Vararg{Any,N} where N}} where A<:DenseArray where N where T, DenseArray} where N where T, SubArray{T,N,A,I,true} where I<:Union{Tuple{Vararg{Real,N} where N}, Tuple{AbstractUnitRange,Vararg{Any,N} where N}} where A<:DenseArray where N where T, DenseArray}, SubArray{#s662,N,A,I,L} where L where I<:Tuple{Vararg{Union{Int64, AbstractRange{Int64}, Base.AbstractCartesianIndex},N} where N} where A<:Union{Base.ReinterpretArray{T,N,S,A} where S where A<:Union{SubArray{T,N,A,I,true} where I<:Union{Tuple{Vararg{Real,N} where N}, Tuple{AbstractUnitRange,Vararg{Any,N} where N}} where A<:DenseArray where N where T, DenseArray} where N where T, Base.ReshapedArray{T,N,A,MI} where MI<:Tuple{Vararg{Base.MultiplicativeInverses.SignedMultiplicativeInverse{Int64},N} where N} where A<:Union{Base.ReinterpretArray{T,N,S,A} where S where A<:Union{SubArray{T,N,A,I,true} where I<:Union{Tuple{Vararg{Real,N} where N}, Tuple{AbstractUnitRange,Vararg{Any,N} where N}} where A<:DenseArray where N where T, DenseArray} where N where T, SubArray{T,N,A,I,true} where I<:Union{Tuple{Vararg{Real,N} where N}, Tuple{AbstractUnitRange,Vararg{Any,N} where N}} where A<:DenseArray where N where T, DenseArray} where N where T, DenseArray}} where N where #s662<:Union{Dates.CompoundPeriod, Dates.Period}) in Dates at C:\\Users\\HSI\\AppData\\Local\\Programs\\Julia\\Julia-1.4.0\\share\\julia\\stdlib\\v1.4\\Dates\\src\\deprecated.jl:57\n",
       "[83] +(x::Union{DenseArray{#s662,N}, Base.ReinterpretArray{#s662,N,S,A} where S where A<:Union{SubArray{T,N,A,I,true} where I<:Union{Tuple{Vararg{Real,N} where N}, Tuple{AbstractUnitRange,Vararg{Any,N} where N}} where A<:DenseArray where N where T, DenseArray}, Base.ReshapedArray{#s662,N,A,MI} where MI<:Tuple{Vararg{Base.MultiplicativeInverses.SignedMultiplicativeInverse{Int64},N} where N} where A<:Union{Base.ReinterpretArray{T,N,S,A} where S where A<:Union{SubArray{T,N,A,I,true} where I<:Union{Tuple{Vararg{Real,N} where N}, Tuple{AbstractUnitRange,Vararg{Any,N} where N}} where A<:DenseArray where N where T, DenseArray} where N where T, SubArray{T,N,A,I,true} where I<:Union{Tuple{Vararg{Real,N} where N}, Tuple{AbstractUnitRange,Vararg{Any,N} where N}} where A<:DenseArray where N where T, DenseArray}, SubArray{#s662,N,A,I,L} where L where I<:Tuple{Vararg{Union{Int64, AbstractRange{Int64}, Base.AbstractCartesianIndex},N} where N} where A<:Union{Base.ReinterpretArray{T,N,S,A} where S where A<:Union{SubArray{T,N,A,I,true} where I<:Union{Tuple{Vararg{Real,N} where N}, Tuple{AbstractUnitRange,Vararg{Any,N} where N}} where A<:DenseArray where N where T, DenseArray} where N where T, Base.ReshapedArray{T,N,A,MI} where MI<:Tuple{Vararg{Base.MultiplicativeInverses.SignedMultiplicativeInverse{Int64},N} where N} where A<:Union{Base.ReinterpretArray{T,N,S,A} where S where A<:Union{SubArray{T,N,A,I,true} where I<:Union{Tuple{Vararg{Real,N} where N}, Tuple{AbstractUnitRange,Vararg{Any,N} where N}} where A<:DenseArray where N where T, DenseArray} where N where T, SubArray{T,N,A,I,true} where I<:Union{Tuple{Vararg{Real,N} where N}, Tuple{AbstractUnitRange,Vararg{Any,N} where N}} where A<:DenseArray where N where T, DenseArray} where N where T, DenseArray}} where N where #s662<:Union{Dates.CompoundPeriod, Dates.Period}, y::Dates.TimeType) in Dates at C:\\Users\\HSI\\AppData\\Local\\Programs\\Julia\\Julia-1.4.0\\share\\julia\\stdlib\\v1.4\\Dates\\src\\deprecated.jl:12\n",
       "[84] +(X::Union{DenseArray{#s662,N}, Base.ReinterpretArray{#s662,N,S,A} where S where A<:Union{SubArray{T,N,A,I,true} where I<:Union{Tuple{Vararg{Real,N} where N}, Tuple{AbstractUnitRange,Vararg{Any,N} where N}} where A<:DenseArray where N where T, DenseArray}, Base.ReshapedArray{#s662,N,A,MI} where MI<:Tuple{Vararg{Base.MultiplicativeInverses.SignedMultiplicativeInverse{Int64},N} where N} where A<:Union{Base.ReinterpretArray{T,N,S,A} where S where A<:Union{SubArray{T,N,A,I,true} where I<:Union{Tuple{Vararg{Real,N} where N}, Tuple{AbstractUnitRange,Vararg{Any,N} where N}} where A<:DenseArray where N where T, DenseArray} where N where T, SubArray{T,N,A,I,true} where I<:Union{Tuple{Vararg{Real,N} where N}, Tuple{AbstractUnitRange,Vararg{Any,N} where N}} where A<:DenseArray where N where T, DenseArray}, SubArray{#s662,N,A,I,L} where L where I<:Tuple{Vararg{Union{Int64, AbstractRange{Int64}, Base.AbstractCartesianIndex},N} where N} where A<:Union{Base.ReinterpretArray{T,N,S,A} where S where A<:Union{SubArray{T,N,A,I,true} where I<:Union{Tuple{Vararg{Real,N} where N}, Tuple{AbstractUnitRange,Vararg{Any,N} where N}} where A<:DenseArray where N where T, DenseArray} where N where T, Base.ReshapedArray{T,N,A,MI} where MI<:Tuple{Vararg{Base.MultiplicativeInverses.SignedMultiplicativeInverse{Int64},N} where N} where A<:Union{Base.ReinterpretArray{T,N,S,A} where S where A<:Union{SubArray{T,N,A,I,true} where I<:Union{Tuple{Vararg{Real,N} where N}, Tuple{AbstractUnitRange,Vararg{Any,N} where N}} where A<:DenseArray where N where T, DenseArray} where N where T, SubArray{T,N,A,I,true} where I<:Union{Tuple{Vararg{Real,N} where N}, Tuple{AbstractUnitRange,Vararg{Any,N} where N}} where A<:DenseArray where N where T, DenseArray} where N where T, DenseArray}} where N where #s662<:Union{Dates.CompoundPeriod, Dates.Period}, Y::Union{DenseArray{#s661,N}, Base.ReinterpretArray{#s661,N,S,A} where S where A<:Union{SubArray{T,N,A,I,true} where I<:Union{Tuple{Vararg{Real,N} where N}, Tuple{AbstractUnitRange,Vararg{Any,N} where N}} where A<:DenseArray where N where T, DenseArray}, Base.ReshapedArray{#s661,N,A,MI} where MI<:Tuple{Vararg{Base.MultiplicativeInverses.SignedMultiplicativeInverse{Int64},N} where N} where A<:Union{Base.ReinterpretArray{T,N,S,A} where S where A<:Union{SubArray{T,N,A,I,true} where I<:Union{Tuple{Vararg{Real,N} where N}, Tuple{AbstractUnitRange,Vararg{Any,N} where N}} where A<:DenseArray where N where T, DenseArray} where N where T, SubArray{T,N,A,I,true} where I<:Union{Tuple{Vararg{Real,N} where N}, Tuple{AbstractUnitRange,Vararg{Any,N} where N}} where A<:DenseArray where N where T, DenseArray}, SubArray{#s661,N,A,I,L} where L where I<:Tuple{Vararg{Union{Int64, AbstractRange{Int64}, Base.AbstractCartesianIndex},N} where N} where A<:Union{Base.ReinterpretArray{T,N,S,A} where S where A<:Union{SubArray{T,N,A,I,true} where I<:Union{Tuple{Vararg{Real,N} where N}, Tuple{AbstractUnitRange,Vararg{Any,N} where N}} where A<:DenseArray where N where T, DenseArray} where N where T, Base.ReshapedArray{T,N,A,MI} where MI<:Tuple{Vararg{Base.MultiplicativeInverses.SignedMultiplicativeInverse{Int64},N} where N} where A<:Union{Base.ReinterpretArray{T,N,S,A} where S where A<:Union{SubArray{T,N,A,I,true} where I<:Union{Tuple{Vararg{Real,N} where N}, Tuple{AbstractUnitRange,Vararg{Any,N} where N}} where A<:DenseArray where N where T, DenseArray} where N where T, SubArray{T,N,A,I,true} where I<:Union{Tuple{Vararg{Real,N} where N}, Tuple{AbstractUnitRange,Vararg{Any,N} where N}} where A<:DenseArray where N where T, DenseArray} where N where T, DenseArray}} where N where #s661<:Union{Dates.CompoundPeriod, Dates.Period}) in Dates at C:\\Users\\HSI\\AppData\\Local\\Programs\\Julia\\Julia-1.4.0\\share\\julia\\stdlib\\v1.4\\Dates\\src\\deprecated.jl:64\n",
       "[85] +(A::LinearAlgebra.SymTridiagonal, B::LinearAlgebra.SymTridiagonal) in LinearAlgebra at C:\\Users\\HSI\\AppData\\Local\\Programs\\Julia\\Julia-1.4.0\\share\\julia\\stdlib\\v1.4\\LinearAlgebra\\src\\tridiag.jl:158\n",
       "[86] +(A::LinearAlgebra.Tridiagonal, B::LinearAlgebra.Tridiagonal) in LinearAlgebra at C:\\Users\\HSI\\AppData\\Local\\Programs\\Julia\\Julia-1.4.0\\share\\julia\\stdlib\\v1.4\\LinearAlgebra\\src\\tridiag.jl:657\n",
       "[87] +(A::LinearAlgebra.UpperTriangular, B::LinearAlgebra.UpperTriangular) in LinearAlgebra at C:\\Users\\HSI\\AppData\\Local\\Programs\\Julia\\Julia-1.4.0\\share\\julia\\stdlib\\v1.4\\LinearAlgebra\\src\\triangular.jl:648\n",
       "[88] +(A::LinearAlgebra.LowerTriangular, B::LinearAlgebra.LowerTriangular) in LinearAlgebra at C:\\Users\\HSI\\AppData\\Local\\Programs\\Julia\\Julia-1.4.0\\share\\julia\\stdlib\\v1.4\\LinearAlgebra\\src\\triangular.jl:649\n",
       "[89] +(A::LinearAlgebra.UpperTriangular, B::LinearAlgebra.UnitUpperTriangular) in LinearAlgebra at C:\\Users\\HSI\\AppData\\Local\\Programs\\Julia\\Julia-1.4.0\\share\\julia\\stdlib\\v1.4\\LinearAlgebra\\src\\triangular.jl:650\n",
       "[90] +(A::LinearAlgebra.LowerTriangular, B::LinearAlgebra.UnitLowerTriangular) in LinearAlgebra at C:\\Users\\HSI\\AppData\\Local\\Programs\\Julia\\Julia-1.4.0\\share\\julia\\stdlib\\v1.4\\LinearAlgebra\\src\\triangular.jl:651\n",
       "[91] +(A::LinearAlgebra.UnitUpperTriangular, B::LinearAlgebra.UpperTriangular) in LinearAlgebra at C:\\Users\\HSI\\AppData\\Local\\Programs\\Julia\\Julia-1.4.0\\share\\julia\\stdlib\\v1.4\\LinearAlgebra\\src\\triangular.jl:652\n",
       "[92] +(A::LinearAlgebra.UnitLowerTriangular, B::LinearAlgebra.LowerTriangular) in LinearAlgebra at C:\\Users\\HSI\\AppData\\Local\\Programs\\Julia\\Julia-1.4.0\\share\\julia\\stdlib\\v1.4\\LinearAlgebra\\src\\triangular.jl:653\n",
       "[93] +(A::LinearAlgebra.UnitUpperTriangular, B::LinearAlgebra.UnitUpperTriangular) in LinearAlgebra at C:\\Users\\HSI\\AppData\\Local\\Programs\\Julia\\Julia-1.4.0\\share\\julia\\stdlib\\v1.4\\LinearAlgebra\\src\\triangular.jl:654\n",
       "[94] +(A::LinearAlgebra.UnitLowerTriangular, B::LinearAlgebra.UnitLowerTriangular) in LinearAlgebra at C:\\Users\\HSI\\AppData\\Local\\Programs\\Julia\\Julia-1.4.0\\share\\julia\\stdlib\\v1.4\\LinearAlgebra\\src\\triangular.jl:655\n",
       "[95] +(A::LinearAlgebra.AbstractTriangular, B::LinearAlgebra.AbstractTriangular) in LinearAlgebra at C:\\Users\\HSI\\AppData\\Local\\Programs\\Julia\\Julia-1.4.0\\share\\julia\\stdlib\\v1.4\\LinearAlgebra\\src\\triangular.jl:656\n",
       "[96] +(A::LinearAlgebra.Symmetric, B::LinearAlgebra.Symmetric) in LinearAlgebra at C:\\Users\\HSI\\AppData\\Local\\Programs\\Julia\\Julia-1.4.0\\share\\julia\\stdlib\\v1.4\\LinearAlgebra\\src\\symmetric.jl:465\n",
       "[97] +(A::LinearAlgebra.Hermitian, B::LinearAlgebra.Hermitian) in LinearAlgebra at C:\\Users\\HSI\\AppData\\Local\\Programs\\Julia\\Julia-1.4.0\\share\\julia\\stdlib\\v1.4\\LinearAlgebra\\src\\symmetric.jl:466\n",
       "[98] +(A::LinearAlgebra.Hermitian, B::LinearAlgebra.Symmetric{#s662,S} where S<:(AbstractArray{#s6621,2} where #s6621<:#s662) where #s662<:Real) in LinearAlgebra at C:\\Users\\HSI\\AppData\\Local\\Programs\\Julia\\Julia-1.4.0\\share\\julia\\stdlib\\v1.4\\LinearAlgebra\\src\\symmetric.jl:467\n",
       "[99] +(A::LinearAlgebra.Symmetric{#s662,S} where S<:(AbstractArray{#s6621,2} where #s6621<:#s662) where #s662<:Real, B::LinearAlgebra.Hermitian) in LinearAlgebra at C:\\Users\\HSI\\AppData\\Local\\Programs\\Julia\\Julia-1.4.0\\share\\julia\\stdlib\\v1.4\\LinearAlgebra\\src\\symmetric.jl:468\n",
       "[100] +(Da::LinearAlgebra.Diagonal, Db::LinearAlgebra.Diagonal) in LinearAlgebra at C:\\Users\\HSI\\AppData\\Local\\Programs\\Julia\\Julia-1.4.0\\share\\julia\\stdlib\\v1.4\\LinearAlgebra\\src\\diagonal.jl:156\n",
       "[101] +(A::LinearAlgebra.Bidiagonal, B::LinearAlgebra.Bidiagonal) in LinearAlgebra at C:\\Users\\HSI\\AppData\\Local\\Programs\\Julia\\Julia-1.4.0\\share\\julia\\stdlib\\v1.4\\LinearAlgebra\\src\\bidiag.jl:309\n",
       "[102] +(UL::LinearAlgebra.UnitUpperTriangular, J::LinearAlgebra.UniformScaling) in LinearAlgebra at C:\\Users\\HSI\\AppData\\Local\\Programs\\Julia\\Julia-1.4.0\\share\\julia\\stdlib\\v1.4\\LinearAlgebra\\src\\uniformscaling.jl:131\n",
       "[103] +(UL::LinearAlgebra.UnitLowerTriangular, J::LinearAlgebra.UniformScaling) in LinearAlgebra at C:\\Users\\HSI\\AppData\\Local\\Programs\\Julia\\Julia-1.4.0\\share\\julia\\stdlib\\v1.4\\LinearAlgebra\\src\\uniformscaling.jl:131\n",
       "[104] +(A::LinearAlgebra.Hermitian, J::LinearAlgebra.UniformScaling{#s662} where #s662<:Complex) in LinearAlgebra at C:\\Users\\HSI\\AppData\\Local\\Programs\\Julia\\Julia-1.4.0\\share\\julia\\stdlib\\v1.4\\LinearAlgebra\\src\\uniformscaling.jl:145\n",
       "[105] +(H::LinearAlgebra.UpperHessenberg, J::LinearAlgebra.UniformScaling) in LinearAlgebra at C:\\Users\\HSI\\AppData\\Local\\Programs\\Julia\\Julia-1.4.0\\share\\julia\\stdlib\\v1.4\\LinearAlgebra\\src\\hessenberg.jl:106\n",
       "[106] +(A::LinearAlgebra.Tridiagonal{#s662,V} where V<:AbstractArray{#s662,1} where #s662<:Number, B::LinearAlgebra.UniformScaling) in LinearAlgebra at C:\\Users\\HSI\\AppData\\Local\\Programs\\Julia\\Julia-1.4.0\\share\\julia\\stdlib\\v1.4\\LinearAlgebra\\src\\special.jl:238\n",
       "[107] +(A::LinearAlgebra.SymTridiagonal{#s662,V} where V<:AbstractArray{#s662,1} where #s662<:Number, B::LinearAlgebra.UniformScaling) in LinearAlgebra at C:\\Users\\HSI\\AppData\\Local\\Programs\\Julia\\Julia-1.4.0\\share\\julia\\stdlib\\v1.4\\LinearAlgebra\\src\\special.jl:243\n",
       "[108] +(A::LinearAlgebra.Bidiagonal{#s662,V} where V<:AbstractArray{#s662,1} where #s662<:Number, B::LinearAlgebra.UniformScaling) in LinearAlgebra at C:\\Users\\HSI\\AppData\\Local\\Programs\\Julia\\Julia-1.4.0\\share\\julia\\stdlib\\v1.4\\LinearAlgebra\\src\\special.jl:248\n",
       "[109] +(A::LinearAlgebra.Diagonal{#s662,V} where V<:AbstractArray{#s662,1} where #s662<:Number, B::LinearAlgebra.UniformScaling) in LinearAlgebra at C:\\Users\\HSI\\AppData\\Local\\Programs\\Julia\\Julia-1.4.0\\share\\julia\\stdlib\\v1.4\\LinearAlgebra\\src\\special.jl:253\n",
       "[110] +(A::SparseArrays.AbstractSparseMatrixCSC, J::LinearAlgebra.UniformScaling) in SparseArrays at C:\\Users\\HSI\\AppData\\Local\\Programs\\Julia\\Julia-1.4.0\\share\\julia\\stdlib\\v1.4\\SparseArrays\\src\\sparsematrix.jl:3610\n",
       "[111] +(A::AbstractArray{T,2} where T, J::LinearAlgebra.UniformScaling) in LinearAlgebra at C:\\Users\\HSI\\AppData\\Local\\Programs\\Julia\\Julia-1.4.0\\share\\julia\\stdlib\\v1.4\\LinearAlgebra\\src\\uniformscaling.jl:164\n",
       "[112] +(A::LinearAlgebra.UpperHessenberg, B::LinearAlgebra.UpperHessenberg) in LinearAlgebra at C:\\Users\\HSI\\AppData\\Local\\Programs\\Julia\\Julia-1.4.0\\share\\julia\\stdlib\\v1.4\\LinearAlgebra\\src\\hessenberg.jl:101\n",
       "[113] +(A::LinearAlgebra.UpperTriangular, B::LinearAlgebra.Bidiagonal) in LinearAlgebra at C:\\Users\\HSI\\AppData\\Local\\Programs\\Julia\\Julia-1.4.0\\share\\julia\\stdlib\\v1.4\\LinearAlgebra\\src\\special.jl:98\n",
       "[114] +(A::LinearAlgebra.Bidiagonal, B::LinearAlgebra.UpperTriangular) in LinearAlgebra at C:\\Users\\HSI\\AppData\\Local\\Programs\\Julia\\Julia-1.4.0\\share\\julia\\stdlib\\v1.4\\LinearAlgebra\\src\\special.jl:106\n",
       "[115] +(A::LinearAlgebra.UnitUpperTriangular, B::LinearAlgebra.Bidiagonal) in LinearAlgebra at C:\\Users\\HSI\\AppData\\Local\\Programs\\Julia\\Julia-1.4.0\\share\\julia\\stdlib\\v1.4\\LinearAlgebra\\src\\special.jl:98\n",
       "[116] +(A::LinearAlgebra.Bidiagonal, B::LinearAlgebra.UnitUpperTriangular) in LinearAlgebra at C:\\Users\\HSI\\AppData\\Local\\Programs\\Julia\\Julia-1.4.0\\share\\julia\\stdlib\\v1.4\\LinearAlgebra\\src\\special.jl:106\n",
       "[117] +(A::LinearAlgebra.LowerTriangular, B::LinearAlgebra.Bidiagonal) in LinearAlgebra at C:\\Users\\HSI\\AppData\\Local\\Programs\\Julia\\Julia-1.4.0\\share\\julia\\stdlib\\v1.4\\LinearAlgebra\\src\\special.jl:98\n",
       "[118] +(A::LinearAlgebra.Bidiagonal, B::LinearAlgebra.LowerTriangular) in LinearAlgebra at C:\\Users\\HSI\\AppData\\Local\\Programs\\Julia\\Julia-1.4.0\\share\\julia\\stdlib\\v1.4\\LinearAlgebra\\src\\special.jl:106\n",
       "[119] +(A::LinearAlgebra.UnitLowerTriangular, B::LinearAlgebra.Bidiagonal) in LinearAlgebra at C:\\Users\\HSI\\AppData\\Local\\Programs\\Julia\\Julia-1.4.0\\share\\julia\\stdlib\\v1.4\\LinearAlgebra\\src\\special.jl:98\n",
       "[120] +(A::LinearAlgebra.Bidiagonal, B::LinearAlgebra.UnitLowerTriangular) in LinearAlgebra at C:\\Users\\HSI\\AppData\\Local\\Programs\\Julia\\Julia-1.4.0\\share\\julia\\stdlib\\v1.4\\LinearAlgebra\\src\\special.jl:106\n",
       "[121] +(A::LinearAlgebra.Bidiagonal, B::LinearAlgebra.Diagonal) in LinearAlgebra at C:\\Users\\HSI\\AppData\\Local\\Programs\\Julia\\Julia-1.4.0\\share\\julia\\stdlib\\v1.4\\LinearAlgebra\\src\\special.jl:127\n",
       "[122] +(A::LinearAlgebra.Diagonal, B::LinearAlgebra.Bidiagonal) in LinearAlgebra at C:\\Users\\HSI\\AppData\\Local\\Programs\\Julia\\Julia-1.4.0\\share\\julia\\stdlib\\v1.4\\LinearAlgebra\\src\\special.jl:137\n",
       "[123] +(A::LinearAlgebra.Diagonal, B::LinearAlgebra.SymTridiagonal) in LinearAlgebra at C:\\Users\\HSI\\AppData\\Local\\Programs\\Julia\\Julia-1.4.0\\share\\julia\\stdlib\\v1.4\\LinearAlgebra\\src\\special.jl:147\n",
       "[124] +(A::LinearAlgebra.SymTridiagonal, B::LinearAlgebra.Diagonal) in LinearAlgebra at C:\\Users\\HSI\\AppData\\Local\\Programs\\Julia\\Julia-1.4.0\\share\\julia\\stdlib\\v1.4\\LinearAlgebra\\src\\special.jl:157\n",
       "[125] +(A::LinearAlgebra.Tridiagonal, B::LinearAlgebra.SymTridiagonal) in LinearAlgebra at C:\\Users\\HSI\\AppData\\Local\\Programs\\Julia\\Julia-1.4.0\\share\\julia\\stdlib\\v1.4\\LinearAlgebra\\src\\special.jl:168\n",
       "[126] +(A::LinearAlgebra.SymTridiagonal, B::LinearAlgebra.Tridiagonal) in LinearAlgebra at C:\\Users\\HSI\\AppData\\Local\\Programs\\Julia\\Julia-1.4.0\\share\\julia\\stdlib\\v1.4\\LinearAlgebra\\src\\special.jl:170\n",
       "[127] +(A::LinearAlgebra.Diagonal, B::LinearAlgebra.Tridiagonal) in LinearAlgebra at C:\\Users\\HSI\\AppData\\Local\\Programs\\Julia\\Julia-1.4.0\\share\\julia\\stdlib\\v1.4\\LinearAlgebra\\src\\special.jl:175\n",
       "[128] +(A::LinearAlgebra.Tridiagonal, B::LinearAlgebra.Diagonal) in LinearAlgebra at C:\\Users\\HSI\\AppData\\Local\\Programs\\Julia\\Julia-1.4.0\\share\\julia\\stdlib\\v1.4\\LinearAlgebra\\src\\special.jl:185\n",
       "[129] +(A::LinearAlgebra.Bidiagonal, B::LinearAlgebra.Tridiagonal) in LinearAlgebra at C:\\Users\\HSI\\AppData\\Local\\Programs\\Julia\\Julia-1.4.0\\share\\julia\\stdlib\\v1.4\\LinearAlgebra\\src\\special.jl:195\n",
       "[130] +(A::LinearAlgebra.Tridiagonal, B::LinearAlgebra.Bidiagonal) in LinearAlgebra at C:\\Users\\HSI\\AppData\\Local\\Programs\\Julia\\Julia-1.4.0\\share\\julia\\stdlib\\v1.4\\LinearAlgebra\\src\\special.jl:205\n",
       "[131] +(A::LinearAlgebra.Bidiagonal, B::LinearAlgebra.SymTridiagonal) in LinearAlgebra at C:\\Users\\HSI\\AppData\\Local\\Programs\\Julia\\Julia-1.4.0\\share\\julia\\stdlib\\v1.4\\LinearAlgebra\\src\\special.jl:215\n",
       "[132] +(A::LinearAlgebra.SymTridiagonal, B::LinearAlgebra.Bidiagonal) in LinearAlgebra at C:\\Users\\HSI\\AppData\\Local\\Programs\\Julia\\Julia-1.4.0\\share\\julia\\stdlib\\v1.4\\LinearAlgebra\\src\\special.jl:225\n",
       "[133] +(A::SparseArrays.AbstractSparseMatrixCSC, B::SparseArrays.AbstractSparseMatrixCSC) in SparseArrays at C:\\Users\\HSI\\AppData\\Local\\Programs\\Julia\\Julia-1.4.0\\share\\julia\\stdlib\\v1.4\\SparseArrays\\src\\sparsematrix.jl:1648\n",
       "[134] +(A::SparseArrays.AbstractSparseMatrixCSC, B::Array) in SparseArrays at C:\\Users\\HSI\\AppData\\Local\\Programs\\Julia\\Julia-1.4.0\\share\\julia\\stdlib\\v1.4\\SparseArrays\\src\\sparsematrix.jl:1651\n",
       "[135] +(x::SparseArrays.AbstractSparseArray{Tv,Ti,1} where Ti where Tv, y::SparseArrays.AbstractSparseArray{Tv,Ti,1} where Ti where Tv) in SparseArrays at C:\\Users\\HSI\\AppData\\Local\\Programs\\Julia\\Julia-1.4.0\\share\\julia\\stdlib\\v1.4\\SparseArrays\\src\\sparsevector.jl:1303\n",
       "[136] +(x::AbstractArray{#s69,N} where N where #s69<:Number) in Base at abstractarraymath.jl:97\n",
       "[137] +(A::AbstractArray, B::AbstractArray) in Base at arraymath.jl:38\n",
       "[138] +(x::T, y::Integer) where T<:AbstractChar in Base at char.jl:223\n",
       "[139] +(index1::CartesianIndex{N}, index2::CartesianIndex{N}) where N in Base.IteratorsMD at multidimensional.jl:111\n",
       "[140] +(::Number, ::Missing) in Base at missing.jl:116\n",
       "[141] +(x::P, y::P) where P<:Dates.Period in Dates at C:\\Users\\HSI\\AppData\\Local\\Programs\\Julia\\Julia-1.4.0\\share\\julia\\stdlib\\v1.4\\Dates\\src\\periods.jl:75\n",
       "[142] +(x::Dates.Period, y::Dates.Period) in Dates at C:\\Users\\HSI\\AppData\\Local\\Programs\\Julia\\Julia-1.4.0\\share\\julia\\stdlib\\v1.4\\Dates\\src\\periods.jl:338\n",
       "[143] +(y::Dates.Period, x::Dates.CompoundPeriod) in Dates at C:\\Users\\HSI\\AppData\\Local\\Programs\\Julia\\Julia-1.4.0\\share\\julia\\stdlib\\v1.4\\Dates\\src\\periods.jl:340\n",
       "[144] +(x::Union{Dates.CompoundPeriod, Dates.Period}) in Dates at C:\\Users\\HSI\\AppData\\Local\\Programs\\Julia\\Julia-1.4.0\\share\\julia\\stdlib\\v1.4\\Dates\\src\\periods.jl:349\n",
       "[145] +(x::Dates.TimeType) in Dates at C:\\Users\\HSI\\AppData\\Local\\Programs\\Julia\\Julia-1.4.0\\share\\julia\\stdlib\\v1.4\\Dates\\src\\arithmetic.jl:8\n",
       "[146] +(a::Dates.TimeType, b::Dates.Period, c::Dates.Period) in Dates at C:\\Users\\HSI\\AppData\\Local\\Programs\\Julia\\Julia-1.4.0\\share\\julia\\stdlib\\v1.4\\Dates\\src\\periods.jl:360\n",
       "[147] +(a::Dates.TimeType, b::Dates.Period, c::Dates.Period, d::Dates.Period...) in Dates at C:\\Users\\HSI\\AppData\\Local\\Programs\\Julia\\Julia-1.4.0\\share\\julia\\stdlib\\v1.4\\Dates\\src\\periods.jl:361\n",
       "[148] +(x::Dates.TimeType, y::Dates.CompoundPeriod) in Dates at C:\\Users\\HSI\\AppData\\Local\\Programs\\Julia\\Julia-1.4.0\\share\\julia\\stdlib\\v1.4\\Dates\\src\\periods.jl:364\n",
       "[149] +(x::Dates.Instant) in Dates at C:\\Users\\HSI\\AppData\\Local\\Programs\\Julia\\Julia-1.4.0\\share\\julia\\stdlib\\v1.4\\Dates\\src\\arithmetic.jl:4\n",
       "[150] +(y::Dates.Period, x::Dates.TimeType) in Dates at C:\\Users\\HSI\\AppData\\Local\\Programs\\Julia\\Julia-1.4.0\\share\\julia\\stdlib\\v1.4\\Dates\\src\\arithmetic.jl:80\n",
       "[151] +(x::Dates.Period, r::AbstractRange{#s662} where #s662<:Dates.TimeType) in Dates at C:\\Users\\HSI\\AppData\\Local\\Programs\\Julia\\Julia-1.4.0\\share\\julia\\stdlib\\v1.4\\Dates\\src\\ranges.jl:58\n",
       "[152] +(x::AbstractArray{#s662,N} where N where #s662<:Dates.TimeType, y::Union{Dates.CompoundPeriod, Dates.Period}) in Dates at C:\\Users\\HSI\\AppData\\Local\\Programs\\Julia\\Julia-1.4.0\\share\\julia\\stdlib\\v1.4\\Dates\\src\\deprecated.jl:8\n",
       "[153] +(y::Union{Dates.CompoundPeriod, Dates.Period}, x::AbstractArray{#s662,N} where N where #s662<:Dates.TimeType) in Dates at C:\\Users\\HSI\\AppData\\Local\\Programs\\Julia\\Julia-1.4.0\\share\\julia\\stdlib\\v1.4\\Dates\\src\\deprecated.jl:16\n",
       "[154] +(y::Dates.TimeType, x::Union{DenseArray{#s662,N}, Base.ReinterpretArray{#s662,N,S,A} where S where A<:Union{SubArray{T,N,A,I,true} where I<:Union{Tuple{Vararg{Real,N} where N}, Tuple{AbstractUnitRange,Vararg{Any,N} where N}} where A<:DenseArray where N where T, DenseArray}, Base.ReshapedArray{#s662,N,A,MI} where MI<:Tuple{Vararg{Base.MultiplicativeInverses.SignedMultiplicativeInverse{Int64},N} where N} where A<:Union{Base.ReinterpretArray{T,N,S,A} where S where A<:Union{SubArray{T,N,A,I,true} where I<:Union{Tuple{Vararg{Real,N} where N}, Tuple{AbstractUnitRange,Vararg{Any,N} where N}} where A<:DenseArray where N where T, DenseArray} where N where T, SubArray{T,N,A,I,true} where I<:Union{Tuple{Vararg{Real,N} where N}, Tuple{AbstractUnitRange,Vararg{Any,N} where N}} where A<:DenseArray where N where T, DenseArray}, SubArray{#s662,N,A,I,L} where L where I<:Tuple{Vararg{Union{Int64, AbstractRange{Int64}, Base.AbstractCartesianIndex},N} where N} where A<:Union{Base.ReinterpretArray{T,N,S,A} where S where A<:Union{SubArray{T,N,A,I,true} where I<:Union{Tuple{Vararg{Real,N} where N}, Tuple{AbstractUnitRange,Vararg{Any,N} where N}} where A<:DenseArray where N where T, DenseArray} where N where T, Base.ReshapedArray{T,N,A,MI} where MI<:Tuple{Vararg{Base.MultiplicativeInverses.SignedMultiplicativeInverse{Int64},N} where N} where A<:Union{Base.ReinterpretArray{T,N,S,A} where S where A<:Union{SubArray{T,N,A,I,true} where I<:Union{Tuple{Vararg{Real,N} where N}, Tuple{AbstractUnitRange,Vararg{Any,N} where N}} where A<:DenseArray where N where T, DenseArray} where N where T, SubArray{T,N,A,I,true} where I<:Union{Tuple{Vararg{Real,N} where N}, Tuple{AbstractUnitRange,Vararg{Any,N} where N}} where A<:DenseArray where N where T, DenseArray} where N where T, DenseArray}} where N where #s662<:Union{Dates.CompoundPeriod, Dates.Period}) in Dates at C:\\Users\\HSI\\AppData\\Local\\Programs\\Julia\\Julia-1.4.0\\share\\julia\\stdlib\\v1.4\\Dates\\src\\deprecated.jl:20\n",
       "[155] +(J::LinearAlgebra.UniformScaling, x::Number) in LinearAlgebra at C:\\Users\\HSI\\AppData\\Local\\Programs\\Julia\\Julia-1.4.0\\share\\julia\\stdlib\\v1.4\\LinearAlgebra\\src\\uniformscaling.jl:109\n",
       "[156] +(x::Number, J::LinearAlgebra.UniformScaling) in LinearAlgebra at C:\\Users\\HSI\\AppData\\Local\\Programs\\Julia\\Julia-1.4.0\\share\\julia\\stdlib\\v1.4\\LinearAlgebra\\src\\uniformscaling.jl:110\n",
       "[157] +(J1::LinearAlgebra.UniformScaling, J2::LinearAlgebra.UniformScaling) in LinearAlgebra at C:\\Users\\HSI\\AppData\\Local\\Programs\\Julia\\Julia-1.4.0\\share\\julia\\stdlib\\v1.4\\LinearAlgebra\\src\\uniformscaling.jl:114\n",
       "[158] +(J::LinearAlgebra.UniformScaling, B::BitArray{2}) in LinearAlgebra at C:\\Users\\HSI\\AppData\\Local\\Programs\\Julia\\Julia-1.4.0\\share\\julia\\stdlib\\v1.4\\LinearAlgebra\\src\\uniformscaling.jl:116\n",
       "[159] +(A::LinearAlgebra.UniformScaling, B::LinearAlgebra.Tridiagonal{#s662,V} where V<:AbstractArray{#s662,1} where #s662<:Number) in LinearAlgebra at C:\\Users\\HSI\\AppData\\Local\\Programs\\Julia\\Julia-1.4.0\\share\\julia\\stdlib\\v1.4\\LinearAlgebra\\src\\special.jl:257\n",
       "[160] +(A::LinearAlgebra.UniformScaling, B::LinearAlgebra.SymTridiagonal{#s662,V} where V<:AbstractArray{#s662,1} where #s662<:Number) in LinearAlgebra at C:\\Users\\HSI\\AppData\\Local\\Programs\\Julia\\Julia-1.4.0\\share\\julia\\stdlib\\v1.4\\LinearAlgebra\\src\\special.jl:262\n",
       "[161] +(A::LinearAlgebra.UniformScaling, B::LinearAlgebra.Bidiagonal{#s662,V} where V<:AbstractArray{#s662,1} where #s662<:Number) in LinearAlgebra at C:\\Users\\HSI\\AppData\\Local\\Programs\\Julia\\Julia-1.4.0\\share\\julia\\stdlib\\v1.4\\LinearAlgebra\\src\\special.jl:267\n",
       "[162] +(A::LinearAlgebra.UniformScaling, B::LinearAlgebra.Diagonal{#s662,V} where V<:AbstractArray{#s662,1} where #s662<:Number) in LinearAlgebra at C:\\Users\\HSI\\AppData\\Local\\Programs\\Julia\\Julia-1.4.0\\share\\julia\\stdlib\\v1.4\\LinearAlgebra\\src\\special.jl:272\n",
       "[163] +(J::LinearAlgebra.UniformScaling, A::AbstractArray{T,2} where T) in LinearAlgebra at C:\\Users\\HSI\\AppData\\Local\\Programs\\Julia\\Julia-1.4.0\\share\\julia\\stdlib\\v1.4\\LinearAlgebra\\src\\uniformscaling.jl:117\n",
       "[164] +(F::LinearAlgebra.Hessenberg, J::LinearAlgebra.UniformScaling) in LinearAlgebra at C:\\Users\\HSI\\AppData\\Local\\Programs\\Julia\\Julia-1.4.0\\share\\julia\\stdlib\\v1.4\\LinearAlgebra\\src\\hessenberg.jl:559\n",
       "[165] +(J::LinearAlgebra.UniformScaling, F::LinearAlgebra.Hessenberg) in LinearAlgebra at C:\\Users\\HSI\\AppData\\Local\\Programs\\Julia\\Julia-1.4.0\\share\\julia\\stdlib\\v1.4\\LinearAlgebra\\src\\hessenberg.jl:560\n",
       "[166] +(a, b, c, xs...) in Base at operators.jl:529"
      ]
     },
     "execution_count": 1,
     "metadata": {},
     "output_type": "execute_result"
    }
   ],
   "source": [
    "methods(+)"
   ]
  },
  {
   "cell_type": "markdown",
   "metadata": {
    "colab_type": "text",
    "id": "CSu9pB2wVGZn"
   },
   "source": [
    "若未透過 `::` 定義型別的話, 則是 `Any` 型別."
   ]
  },
  {
   "cell_type": "code",
   "execution_count": 2,
   "metadata": {
    "colab": {},
    "colab_type": "code",
    "id": "2gvCCYfbVGZo",
    "outputId": "ec4451f9-22e4-465d-f3c2-dd284295ac99"
   },
   "outputs": [
    {
     "data": {
      "text/plain": [
       "f (generic function with 3 methods)"
      ]
     },
     "execution_count": 2,
     "metadata": {},
     "output_type": "execute_result"
    }
   ],
   "source": [
    "f(x::Number, y::Number) = 2x - 3y\n",
    "f(x::Float64, y::Float64) = 2x - 3y\n",
    "f(x, y) = println(\"Dispatched to Any\")"
   ]
  },
  {
   "cell_type": "markdown",
   "metadata": {
    "colab_type": "text",
    "id": "S4romY_TVGZw"
   },
   "source": [
    "呼叫 `methods()` 函式可以顯示 Function 中所有的 Method 定義, 以及其行數."
   ]
  },
  {
   "cell_type": "code",
   "execution_count": 3,
   "metadata": {
    "colab": {},
    "colab_type": "code",
    "id": "ZPcw3OU7VGZz",
    "outputId": "c4ea96c3-4330-47d4-e6c4-06de8267b746"
   },
   "outputs": [
    {
     "data": {
      "text/html": [
       "# 3 methods for generic function <b>f</b>:<ul><li> f(x::<b>Float64</b>, y::<b>Float64</b>) in Main at In[2]:2</li> <li> f(x::<b>Number</b>, y::<b>Number</b>) in Main at In[2]:1</li> <li> f(x, y) in Main at In[2]:3</li> </ul>"
      ],
      "text/plain": [
       "# 3 methods for generic function \"f\":\n",
       "[1] f(x::Float64, y::Float64) in Main at In[2]:2\n",
       "[2] f(x::Number, y::Number) in Main at In[2]:1\n",
       "[3] f(x, y) in Main at In[2]:3"
      ]
     },
     "execution_count": 3,
     "metadata": {},
     "output_type": "execute_result"
    }
   ],
   "source": [
    "methods(f)"
   ]
  },
  {
   "cell_type": "markdown",
   "metadata": {
    "colab_type": "text",
    "id": "jgpZOwXVVGZ8"
   },
   "source": [
    "根據數目和傳入值的型別, Multiple Dispatch 會判斷應該要分派到哪一個 method. 多重分派會**優先尋找最符合的定義**來分派."
   ]
  },
  {
   "cell_type": "code",
   "execution_count": 39,
   "metadata": {
    "colab": {},
    "colab_type": "code",
    "id": "Z_Ut_aovVGZ_",
    "outputId": "5f352627-cb95-4a35-de2f-77b75aac0ad4"
   },
   "outputs": [
    {
     "data": {
      "text/plain": [
       "1.0"
      ]
     },
     "execution_count": 39,
     "metadata": {},
     "output_type": "execute_result"
    }
   ],
   "source": [
    "# 符合 Float64\n",
    "f(5.0, 3.0)"
   ]
  },
  {
   "cell_type": "code",
   "execution_count": 40,
   "metadata": {
    "colab": {},
    "colab_type": "code",
    "id": "J1oabMpLVGaE",
    "outputId": "e33bcd27-a1bf-4197-f7ce-89ebccc1311c"
   },
   "outputs": [
    {
     "data": {
      "text/plain": [
       "1"
      ]
     },
     "execution_count": 40,
     "metadata": {},
     "output_type": "execute_result"
    }
   ],
   "source": [
    "# 最符合 Number\n",
    "f(5, 3)"
   ]
  },
  {
   "cell_type": "code",
   "execution_count": 41,
   "metadata": {
    "colab": {},
    "colab_type": "code",
    "id": "mmdDN2K-VGaK",
    "outputId": "051ee2fd-f48d-4b3a-f0f2-0629f532bcd4"
   },
   "outputs": [
    {
     "name": "stdout",
     "output_type": "stream",
     "text": [
      "Dispatched to Any\n"
     ]
    }
   ],
   "source": [
    "# 沒有定義 String 的 Method, 所以最符合的是 Any\n",
    "f(\"5\", \"3\")"
   ]
  },
  {
   "cell_type": "markdown",
   "metadata": {
    "colab_type": "text",
    "id": "f5wAB1caVGaQ"
   },
   "source": [
    "透過 `@which` macro 巨集, 可以看到會被分派到哪一個 method."
   ]
  },
  {
   "cell_type": "code",
   "execution_count": 7,
   "metadata": {
    "colab": {},
    "colab_type": "code",
    "id": "bvQzV2TzVGaS",
    "outputId": "2efc63bd-e3e8-447c-f638-6ab93532f454"
   },
   "outputs": [
    {
     "data": {
      "text/html": [
       "f(x::<b>Float64</b>, y::<b>Float64</b>) in Main at In[2]:2"
      ],
      "text/plain": [
       "f(x::Float64, y::Float64) in Main at In[2]:2"
      ]
     },
     "execution_count": 7,
     "metadata": {},
     "output_type": "execute_result"
    }
   ],
   "source": [
    "@which f(5.0, 3.0)"
   ]
  },
  {
   "cell_type": "markdown",
   "metadata": {
    "colab_type": "text",
    "id": "qiDkNa2KVGaX"
   },
   "source": [
    "**含糊 (ambiguous)** 的定義可能會造成 `MethodError`."
   ]
  },
  {
   "cell_type": "code",
   "execution_count": 8,
   "metadata": {
    "colab": {},
    "colab_type": "code",
    "id": "YtxoHXFXVGaZ",
    "outputId": "6c97e8a9-af17-45e1-ca96-dc1276640dc3"
   },
   "outputs": [
    {
     "ename": "MethodError",
     "evalue": "MethodError: f2(::Float64, ::Float64) is ambiguous. Candidates:\n  f2(x::Float64, y) in Main at In[8]:1\n  f2(x, y::Float64) in Main at In[8]:2\nPossible fix, define\n  f2(::Float64, ::Float64)",
     "output_type": "error",
     "traceback": [
      "MethodError: f2(::Float64, ::Float64) is ambiguous. Candidates:\n  f2(x::Float64, y) in Main at In[8]:1\n  f2(x, y::Float64) in Main at In[8]:2\nPossible fix, define\n  f2(::Float64, ::Float64)",
      "",
      "Stacktrace:",
      " [1] top-level scope at In[8]:3"
     ]
    }
   ],
   "source": [
    "f2(x::Float64, y) = 2x - 3y\n",
    "f2(x, y::Float64) = 2x - 3y\n",
    "\n",
    "f2(2.0, 3.0)"
   ]
  },
  {
   "cell_type": "markdown",
   "metadata": {
    "colab_type": "text",
    "id": "0FdY6qq_VGaf"
   },
   "source": [
    "### 1.2 型別參數化 (Type Parameter) 的 Method (Parametric Methods)\n",
    "\n",
    "Method 可以使用 **type** 參數做為引數的型別, 如下例示範, **傳入引數要屬於 Number 或是其子型別**, 且 2 個引數型別相同."
   ]
  },
  {
   "cell_type": "code",
   "execution_count": 9,
   "metadata": {
    "colab": {},
    "colab_type": "code",
    "id": "DXNkpCb6VGah",
    "outputId": "28ec9162-a000-4293-9881-4a95f982c054"
   },
   "outputs": [
    {
     "data": {
      "text/plain": [
       "f3 (generic function with 1 method)"
      ]
     },
     "execution_count": 9,
     "metadata": {},
     "output_type": "execute_result"
    }
   ],
   "source": [
    "f3(x::T, y::T) where{T<:Number} = 2x - 3y"
   ]
  },
  {
   "cell_type": "code",
   "execution_count": 10,
   "metadata": {
    "colab": {},
    "colab_type": "code",
    "id": "9Z3nZojqVGan",
    "outputId": "0d5afcd3-7394-4e09-83b3-854c33862576"
   },
   "outputs": [
    {
     "data": {
      "text/plain": [
       "1"
      ]
     },
     "execution_count": 10,
     "metadata": {},
     "output_type": "execute_result"
    }
   ],
   "source": [
    "f3(5, 3)"
   ]
  },
  {
   "cell_type": "code",
   "execution_count": 11,
   "metadata": {
    "colab": {},
    "colab_type": "code",
    "id": "NKd1a_L0VGay",
    "outputId": "5150f053-6b9b-433b-8fd9-675cc7d82cdc"
   },
   "outputs": [
    {
     "ename": "MethodError",
     "evalue": "MethodError: no method matching f3(::Int64, ::Float64)\nClosest candidates are:\n  f3(::T, !Matched::T) where T<:Number at In[9]:1",
     "output_type": "error",
     "traceback": [
      "MethodError: no method matching f3(::Int64, ::Float64)\nClosest candidates are:\n  f3(::T, !Matched::T) where T<:Number at In[9]:1",
      "",
      "Stacktrace:",
      " [1] top-level scope at In[11]:1"
     ]
    }
   ],
   "source": [
    "# 傳入引數型別不同, 產生 MethodError\n",
    "f3(5, 3.0)"
   ]
  },
  {
   "cell_type": "code",
   "execution_count": 12,
   "metadata": {
    "colab": {},
    "colab_type": "code",
    "id": "_22TtC11VGa5",
    "outputId": "6a24d187-69cf-45aa-8ef5-4fe43d2c7533"
   },
   "outputs": [
    {
     "ename": "MethodError",
     "evalue": "MethodError: no method matching f3(::String, ::String)",
     "output_type": "error",
     "traceback": [
      "MethodError: no method matching f3(::String, ::String)",
      "",
      "Stacktrace:",
      " [1] top-level scope at In[12]:1"
     ]
    }
   ],
   "source": [
    "# String 不屬於 Number 型別及其子型別, 所以會產生 MethodError\n",
    "f3(\"123\", \"456\")"
   ]
  },
  {
   "cell_type": "markdown",
   "metadata": {},
   "source": [
    "#### Ohter examples of parametric methods"
   ]
  },
  {
   "cell_type": "code",
   "execution_count": 46,
   "metadata": {},
   "outputs": [
    {
     "data": {
      "text/plain": [
       "same_type (generic function with 2 methods)"
      ]
     },
     "execution_count": 46,
     "metadata": {},
     "output_type": "execute_result"
    }
   ],
   "source": [
    "same_type(x::T, y::T) where {T} = true\n",
    "same_type(x,y) = false"
   ]
  },
  {
   "cell_type": "code",
   "execution_count": 47,
   "metadata": {},
   "outputs": [
    {
     "data": {
      "text/plain": [
       "true"
      ]
     },
     "execution_count": 47,
     "metadata": {},
     "output_type": "execute_result"
    }
   ],
   "source": [
    "same_type(1,1)"
   ]
  },
  {
   "cell_type": "code",
   "execution_count": 48,
   "metadata": {},
   "outputs": [
    {
     "data": {
      "text/plain": [
       "false"
      ]
     },
     "execution_count": 48,
     "metadata": {},
     "output_type": "execute_result"
    }
   ],
   "source": [
    "same_type(1,1.0)"
   ]
  },
  {
   "cell_type": "code",
   "execution_count": 49,
   "metadata": {},
   "outputs": [
    {
     "data": {
      "text/plain": [
       "myappend (generic function with 1 method)"
      ]
     },
     "execution_count": 49,
     "metadata": {},
     "output_type": "execute_result"
    }
   ],
   "source": [
    "myappend(v::Vector{T}, x::T) where {T} = [v..., x]\n",
    "# this force the two input argument to be appended has to be the same type"
   ]
  },
  {
   "cell_type": "markdown",
   "metadata": {},
   "source": [
    "[剪刀石頭布!](https://yuehhua.github.io/2020/04/01/julia-multiple-dispatch/)"
   ]
  },
  {
   "cell_type": "code",
   "execution_count": 29,
   "metadata": {},
   "outputs": [],
   "source": [
    "# create types\n",
    "struct Paper end\n",
    "struct Scissor end\n",
    "struct Stone end"
   ]
  },
  {
   "cell_type": "code",
   "execution_count": 33,
   "metadata": {},
   "outputs": [
    {
     "data": {
      "text/plain": [
       "play (generic function with 5 methods)"
      ]
     },
     "execution_count": 33,
     "metadata": {},
     "output_type": "execute_result"
    }
   ],
   "source": [
    "# define the cases for winning\n",
    "play(::Paper, ::Stone) = 1\n",
    "play(::Scissor, ::Paper) = 1\n",
    "play(::Stone, ::Scissor) = 1\n",
    "\n",
    "# define the case of Draw, that is the types of two input arguments are identical.\n",
    "play(::T, ::T) where {T} = 0 # Parametric methods\n",
    "\n",
    "# the lose case: \n",
    "play(a,b) = -1 # i.e., play(::Any,::Any) = -1"
   ]
  },
  {
   "cell_type": "code",
   "execution_count": 34,
   "metadata": {},
   "outputs": [
    {
     "data": {
      "text/html": [
       "# 5 methods for generic function <b>play</b>:<ul><li> play(::<b>Paper</b>, ::<b>Stone</b>) in Main at In[33]:2</li> <li> play(::<b>Scissor</b>, ::<b>Paper</b>) in Main at In[33]:3</li> <li> play(::<b>Stone</b>, ::<b>Scissor</b>) in Main at In[33]:4</li> <li> play(::<b>T</b>, ::<b>T</b>)<i> where T</i> in Main at In[33]:7</li> <li> play(a, b) in Main at In[33]:10</li> </ul>"
      ],
      "text/plain": [
       "# 5 methods for generic function \"play\":\n",
       "[1] play(::Paper, ::Stone) in Main at In[33]:2\n",
       "[2] play(::Scissor, ::Paper) in Main at In[33]:3\n",
       "[3] play(::Stone, ::Scissor) in Main at In[33]:4\n",
       "[4] play(::T, ::T) where T in Main at In[33]:7\n",
       "[5] play(a, b) in Main at In[33]:10"
      ]
     },
     "execution_count": 34,
     "metadata": {},
     "output_type": "execute_result"
    }
   ],
   "source": [
    "methods(play)"
   ]
  },
  {
   "cell_type": "code",
   "execution_count": 35,
   "metadata": {
    "scrolled": true
   },
   "outputs": [
    {
     "data": {
      "text/plain": [
       "-1"
      ]
     },
     "execution_count": 35,
     "metadata": {},
     "output_type": "execute_result"
    }
   ],
   "source": [
    "play(1,1.0)"
   ]
  },
  {
   "cell_type": "code",
   "execution_count": 36,
   "metadata": {},
   "outputs": [
    {
     "data": {
      "text/plain": [
       "0"
      ]
     },
     "execution_count": 36,
     "metadata": {},
     "output_type": "execute_result"
    }
   ],
   "source": [
    "play(Stone,Stone)"
   ]
  },
  {
   "cell_type": "code",
   "execution_count": 37,
   "metadata": {},
   "outputs": [
    {
     "data": {
      "text/plain": [
       "0"
      ]
     },
     "execution_count": 37,
     "metadata": {},
     "output_type": "execute_result"
    }
   ],
   "source": [
    "play(Stone,Scissor)"
   ]
  },
  {
   "cell_type": "code",
   "execution_count": 26,
   "metadata": {},
   "outputs": [
    {
     "data": {
      "text/html": [
       "play(::<b>T</b>, ::<b>T</b>)<i> where T</i> in Main at In[23]:7"
      ],
      "text/plain": [
       "play(::T, ::T) where T in Main at In[23]:7"
      ]
     },
     "execution_count": 26,
     "metadata": {},
     "output_type": "execute_result"
    }
   ],
   "source": [
    "@which play(Stone,Scissor)"
   ]
  },
  {
   "cell_type": "code",
   "execution_count": null,
   "metadata": {},
   "outputs": [],
   "source": []
  }
 ],
 "metadata": {
  "@webio": {
   "lastCommId": null,
   "lastKernelId": null
  },
  "colab": {
   "name": "julia_016_example.ipynb",
   "provenance": []
  },
  "kernelspec": {
   "display_name": "Julia 1.4.0",
   "language": "julia",
   "name": "julia-1.4"
  },
  "language_info": {
   "file_extension": ".jl",
   "mimetype": "application/julia",
   "name": "julia",
   "version": "1.4.0"
  }
 },
 "nbformat": 4,
 "nbformat_minor": 4
}
