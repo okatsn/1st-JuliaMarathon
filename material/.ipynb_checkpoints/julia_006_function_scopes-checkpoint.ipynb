{
 "cells": [
  {
   "cell_type": "markdown",
   "metadata": {
    "colab_type": "text",
    "id": "2sD0QBfYJseN"
   },
   "source": [
    "# Julia 函式 (Functions)\n",
    "\n",
    "在官方文件裡裡面，對於函式的定義是：”函式是一個將數組 (tuple) 引數 (argument) 對照到回傳值的物件”。也就是說，呼叫時是用數組的型態把引數傳遞給函式，函式內的運算結果再透過回傳值傳回。\n",
    "\n",
    "我們可以透過函式的定義，將相同模式的動作或邏輯，抽象化提取出來成為可以重覆被呼叫使用的模塊。"
   ]
  },
  {
   "cell_type": "markdown",
   "metadata": {
    "colab_type": "text",
    "id": "E9hO_8PsJseS"
   },
   "source": [
    "## 1. 函式 (Functions) 的基本語法與呼叫\n",
    "\n",
    "函式的宣告和呼叫，Julia 的函式宣告是以 function 保留字做為開頭，end 做為結尾。"
   ]
  },
  {
   "cell_type": "code",
   "execution_count": 1,
   "metadata": {
    "colab": {},
    "colab_type": "code",
    "id": "nAv5x94GJseT",
    "outputId": "a9385648-542b-4547-b62e-86b9c3cfb4be"
   },
   "outputs": [
    {
     "data": {
      "text/plain": [
       "5"
      ]
     },
     "execution_count": 1,
     "metadata": {},
     "output_type": "execute_result"
    }
   ],
   "source": [
    "function foo(x, y)\n",
    "    x + y\n",
    "end\n",
    "\n",
    "foo(2, 3)"
   ]
  },
  {
   "cell_type": "markdown",
   "metadata": {
    "colab_type": "text",
    "id": "1wymMm2yJseh"
   },
   "source": [
    "可以使用簡潔的表示方式，但是僅能將單一表達式 (expression) 指定給函式。"
   ]
  },
  {
   "cell_type": "code",
   "execution_count": 2,
   "metadata": {
    "colab": {},
    "colab_type": "code",
    "id": "0kZWrOAgJsei",
    "outputId": "69257430-462d-4b25-fb4c-f658368022ca",
    "scrolled": true
   },
   "outputs": [
    {
     "data": {
      "text/plain": [
       "5"
      ]
     },
     "execution_count": 2,
     "metadata": {},
     "output_type": "execute_result"
    }
   ],
   "source": [
    "foo(x, y) = x + y\n",
    "foo(2, 3)"
   ]
  },
  {
   "cell_type": "markdown",
   "metadata": {
    "colab_type": "text",
    "id": "0AWmC4vdJsep"
   },
   "source": [
    "可將函式當做物件指定給另一物件。"
   ]
  },
  {
   "cell_type": "code",
   "execution_count": 3,
   "metadata": {
    "colab": {},
    "colab_type": "code",
    "id": "L1ut_Ol1Jseq",
    "outputId": "ff90f3ec-69d1-4f23-ec70-6454e40e8f8c",
    "scrolled": true
   },
   "outputs": [
    {
     "data": {
      "text/plain": [
       "5"
      ]
     },
     "execution_count": 3,
     "metadata": {},
     "output_type": "execute_result"
    }
   ],
   "source": [
    "g = foo\n",
    "g(2, 3)"
   ]
  },
  {
   "cell_type": "markdown",
   "metadata": {
    "colab_type": "text",
    "id": "ADAfjwoJJseu"
   },
   "source": [
    "函式的名稱也可以使用 Unicode 字元。\n",
    "\n",
    "∑ 字元的產生方式是：\\sum[tab]"
   ]
  },
  {
   "cell_type": "code",
   "execution_count": 4,
   "metadata": {
    "colab": {},
    "colab_type": "code",
    "id": "n_TtBxwsJsev",
    "outputId": "de53f00c-7f78-4dfb-9069-90b648a37020"
   },
   "outputs": [
    {
     "data": {
      "text/plain": [
       "5"
      ]
     },
     "execution_count": 4,
     "metadata": {},
     "output_type": "execute_result"
    }
   ],
   "source": [
    "∑(x,y) = x + y\n",
    "∑(2, 3)"
   ]
  },
  {
   "cell_type": "markdown",
   "metadata": {
    "colab_type": "text",
    "id": "fJdqsWirJsey"
   },
   "source": [
    "函式內的表達式也可以用複合表達式 (**Compound Expression**) 模塊包住。"
   ]
  },
  {
   "cell_type": "code",
   "execution_count": 5,
   "metadata": {
    "colab": {},
    "colab_type": "code",
    "id": "EPFhHipqJsez",
    "outputId": "19dfb012-17b0-497b-df86-8772d1b274a0"
   },
   "outputs": [
    {
     "data": {
      "text/plain": [
       "6"
      ]
     },
     "execution_count": 5,
     "metadata": {},
     "output_type": "execute_result"
    }
   ],
   "source": [
    "f2(x, y) = begin\n",
    "    z = 1\n",
    "    z += x + y\n",
    "end\n",
    "\n",
    "f2(2, 3)"
   ]
  },
  {
   "cell_type": "code",
   "execution_count": 2,
   "metadata": {},
   "outputs": [
    {
     "data": {
      "text/plain": [
       "6"
      ]
     },
     "execution_count": 2,
     "metadata": {},
     "output_type": "execute_result"
    }
   ],
   "source": [
    "f2(x, y) = begin z = 1; z += x+y; end\n",
    "f2(2,3)"
   ]
  },
  {
   "cell_type": "code",
   "execution_count": 3,
   "metadata": {},
   "outputs": [
    {
     "data": {
      "text/plain": [
       "6"
      ]
     },
     "execution_count": 3,
     "metadata": {},
     "output_type": "execute_result"
    }
   ],
   "source": [
    "f2(x, y) = (z = 1; z += x+y)\n",
    "f2(2,3)"
   ]
  },
  {
   "cell_type": "markdown",
   "metadata": {
    "colab_type": "text",
    "id": "Bzw0Pk-RJse4"
   },
   "source": [
    "函式使用 return 保留字傳回值。"
   ]
  },
  {
   "cell_type": "code",
   "execution_count": 4,
   "metadata": {
    "colab": {},
    "colab_type": "code",
    "id": "HRI-I77NJse5",
    "outputId": "ff0ed269-4578-4897-aaa1-9cf2eb2ecccf"
   },
   "outputs": [
    {
     "data": {
      "text/plain": [
       "5"
      ]
     },
     "execution_count": 4,
     "metadata": {},
     "output_type": "execute_result"
    }
   ],
   "source": [
    "function a(x, y)\n",
    "    return x + y\n",
    "end\n",
    "\n",
    "a(2, 3)"
   ]
  },
  {
   "cell_type": "markdown",
   "metadata": {
    "colab_type": "text",
    "id": "AvxMCovOJse9"
   },
   "source": [
    "函式的傳回值不一定需要用 return，回傳值會是最後一個表達式的結果。"
   ]
  },
  {
   "cell_type": "code",
   "execution_count": 15,
   "metadata": {
    "colab": {},
    "colab_type": "code",
    "id": "6NZIHQ24Jse-",
    "outputId": "683b2442-1e2e-4795-a301-6b6ea2af0f64"
   },
   "outputs": [
    {
     "data": {
      "text/plain": [
       "5"
      ]
     },
     "execution_count": 15,
     "metadata": {},
     "output_type": "execute_result"
    }
   ],
   "source": [
    "function b(x, y)\n",
    "    x + y\n",
    "end\n",
    "\n",
    "b(2, 3)"
   ]
  },
  {
   "cell_type": "markdown",
   "metadata": {
    "colab_type": "text",
    "id": "sKg6U4-gJsfM"
   },
   "source": [
    "如果有 return 的話，就以 return 的表達式做為傳回值，而不是回傳最後一個表達式。"
   ]
  },
  {
   "cell_type": "code",
   "execution_count": 6,
   "metadata": {
    "colab": {},
    "colab_type": "code",
    "id": "VwkQPdM1JsfN",
    "outputId": "fa62cd8a-706b-4c96-81f3-6895db0dd6b8"
   },
   "outputs": [
    {
     "data": {
      "text/plain": [
       "6"
      ]
     },
     "execution_count": 6,
     "metadata": {},
     "output_type": "execute_result"
    }
   ],
   "source": [
    "function c(x,y)\n",
    "    return x * y\n",
    "    x + y\n",
    "end\n",
    "\n",
    "c(2, 3)"
   ]
  },
  {
   "cell_type": "markdown",
   "metadata": {
    "colab_type": "text",
    "id": "inR9txhUJsfS"
   },
   "source": [
    "函式可以有多個傳回值，回傳值以逗號分隔。"
   ]
  },
  {
   "cell_type": "code",
   "execution_count": 11,
   "metadata": {
    "colab": {},
    "colab_type": "code",
    "id": "0CeBzS6IJsfT",
    "outputId": "2d61646f-9b4b-4a78-c4a5-2ca5f0da79c4"
   },
   "outputs": [
    {
     "name": "stdout",
     "output_type": "stream",
     "text": [
      "r1: 6\n",
      "r2: 5\n"
     ]
    }
   ],
   "source": [
    "# multiple return values\n",
    "function d(x,y)\n",
    "    i = x * y\n",
    "    j = x + y\n",
    "    \n",
    "    return i, j\n",
    "end\n",
    "\n",
    "r1, r2 = d(2, 3) # also (r1, r2) = d(2, 3)\n",
    "println(\"r1: \", r1)\n",
    "println(\"r2: \", r2)"
   ]
  },
  {
   "cell_type": "code",
   "execution_count": 16,
   "metadata": {},
   "outputs": [
    {
     "data": {
      "text/plain": [
       "Int64"
      ]
     },
     "execution_count": 16,
     "metadata": {},
     "output_type": "execute_result"
    }
   ],
   "source": [
    "typeof(r1)"
   ]
  },
  {
   "cell_type": "markdown",
   "metadata": {
    "colab_type": "text",
    "id": "RbNzmcZjJsfX"
   },
   "source": [
    "函式的引數和回傳值均可指定資料型別。\n",
    "\n",
    "使用 `::` **指定型別**。(Convert the target into a datatype)"
   ]
  },
  {
   "cell_type": "code",
   "execution_count": 57,
   "metadata": {
    "colab": {},
    "colab_type": "code",
    "id": "mDoiBaUiJsfZ",
    "outputId": "0a40745e-db29-49e5-f65b-494f144acff0"
   },
   "outputs": [
    {
     "data": {
      "text/plain": [
       "Float64"
      ]
     },
     "execution_count": 57,
     "metadata": {},
     "output_type": "execute_result"
    }
   ],
   "source": [
    "function e(x::Int64, y::Int64)::Float64\n",
    "    x + y\n",
    "end\n",
    "\n",
    "typeof(e(2, 3))"
   ]
  },
  {
   "cell_type": "markdown",
   "metadata": {},
   "source": [
    "**(!) if argument-in types are not matched, error occurs**"
   ]
  },
  {
   "cell_type": "code",
   "execution_count": 70,
   "metadata": {},
   "outputs": [
    {
     "ename": "MethodError",
     "evalue": "MethodError: no method matching e(::Float64, ::Float64)",
     "output_type": "error",
     "traceback": [
      "MethodError: no method matching e(::Float64, ::Float64)",
      "",
      "Stacktrace:",
      " [1] top-level scope at In[70]:1"
     ]
    }
   ],
   "source": [
    "e(2.0,3.0)"
   ]
  },
  {
   "cell_type": "markdown",
   "metadata": {
    "colab_type": "text",
    "id": "Bj8gf491Jsfc"
   },
   "source": [
    "函式的引數可設定預設值，有預設值的引數可視為選用 (optional) 的引數，在呼叫函式時不強制傳入。"
   ]
  },
  {
   "cell_type": "code",
   "execution_count": 71,
   "metadata": {
    "colab": {},
    "colab_type": "code",
    "id": "a6rxNntyJsfd",
    "outputId": "07c63ea8-c040-4663-f501-b5067ca45f13"
   },
   "outputs": [
    {
     "name": "stdout",
     "output_type": "stream",
     "text": [
      "傳入年月日: (2019, 7, 1)\n",
      "傳入年,使用預設的月日: (2019, 1, 1)\n"
     ]
    }
   ],
   "source": [
    "function date(year::Int64, month::Int64=1, day::Int64=1)\n",
    "    return year, month, day\n",
    "end\n",
    "\n",
    "println(\"傳入年月日: \", date(2019, 7, 1))\n",
    "println(\"傳入年,使用預設的月日: \", date(2019))"
   ]
  },
  {
   "cell_type": "code",
   "execution_count": 72,
   "metadata": {},
   "outputs": [
    {
     "name": "stdout",
     "output_type": "stream",
     "text": [
      "傳入年月日: (2019, 7, 1)\n",
      "傳入年,使用預設的月日: (2019, 1, 1)\n",
      "type:Tuple{Int64,Int64,Int64}\n"
     ]
    }
   ],
   "source": [
    "function date(year, month=1, day=1)\n",
    "    return year, month, day\n",
    "end\n",
    "\n",
    "println(\"傳入年月日: \", date(2019, 7, 1))\n",
    "println(\"傳入年,使用預設的月日: \", date(2019))\n",
    "println(\"type:\",typeof(date(2019)))"
   ]
  },
  {
   "cell_type": "markdown",
   "metadata": {
    "colab_type": "text",
    "id": "Ck4BNNtMJsfh"
   },
   "source": [
    "## 2. 匿名函式\n",
    "\n",
    "函式可以是匿名的，也就是沒有給函式名稱。"
   ]
  },
  {
   "cell_type": "code",
   "execution_count": 23,
   "metadata": {
    "colab": {},
    "colab_type": "code",
    "id": "9i-mKP--Jsfh",
    "outputId": "c5d7923f-a414-4a01-fd40-4034cf192a9c"
   },
   "outputs": [
    {
     "data": {
      "text/plain": [
       "#3 (generic function with 1 method)"
      ]
     },
     "execution_count": 23,
     "metadata": {},
     "output_type": "execute_result"
    }
   ],
   "source": [
    "# 匿名函式的寫法-1\n",
    "x -> x * 2 * π"
   ]
  },
  {
   "cell_type": "code",
   "execution_count": 24,
   "metadata": {},
   "outputs": [
    {
     "data": {
      "text/plain": [
       "12.566370614359172"
      ]
     },
     "execution_count": 24,
     "metadata": {},
     "output_type": "execute_result"
    }
   ],
   "source": [
    "fx = x -> x * 2 * π\n",
    "fx(2)"
   ]
  },
  {
   "cell_type": "code",
   "execution_count": 13,
   "metadata": {
    "colab": {},
    "colab_type": "code",
    "id": "ijf9MTUvJsfk",
    "outputId": "48e8e5bf-a571-4521-b9b0-3192600a2fe5"
   },
   "outputs": [
    {
     "data": {
      "text/plain": [
       "#5 (generic function with 1 method)"
      ]
     },
     "execution_count": 13,
     "metadata": {},
     "output_type": "execute_result"
    }
   ],
   "source": [
    "# 或是：匿名函式的寫法-2\n",
    "function (x)\n",
    "    x * 2 * π\n",
    "end"
   ]
  },
  {
   "cell_type": "markdown",
   "metadata": {
    "colab_type": "text",
    "id": "Jlua64nKJsfp"
   },
   "source": [
    "可以把匿名函式當做引數傳入到另一個函式。"
   ]
  },
  {
   "cell_type": "code",
   "execution_count": 25,
   "metadata": {
    "colab": {},
    "colab_type": "code",
    "id": "_bzxFFF6Jsfq",
    "outputId": "f1bfa2cf-c850-43b5-eef1-dd54d7108e31"
   },
   "outputs": [
    {
     "data": {
      "text/plain": [
       "3-element Array{Float64,1}:\n",
       " 12.566370614359172\n",
       " 25.132741228718345\n",
       " 37.69911184307752"
      ]
     },
     "execution_count": 25,
     "metadata": {},
     "output_type": "execute_result"
    }
   ],
   "source": [
    "# 透過匿名函式，計算半徑為 2, 4, 6 的圓周\n",
    "diameters = [2, 4, 6]\n",
    "map(x -> x * 2 * π, diameters)"
   ]
  },
  {
   "cell_type": "markdown",
   "metadata": {
    "colab_type": "text",
    "id": "Sd_sH0SGJsfu"
   },
   "source": [
    "## 3. 函式的點運算 (Dot Operation)\n",
    "\n",
    "相似於運算子的點運算，同樣的在函式數也可以使用點運算。\n",
    "\n",
    "以下範例將陣列做為引數傳入，透過函式的點運算，傳回陣列各元素的平方值。"
   ]
  },
  {
   "cell_type": "code",
   "execution_count": 29,
   "metadata": {},
   "outputs": [
    {
     "data": {
      "text/plain": [
       "B (generic function with 1 method)"
      ]
     },
     "execution_count": 29,
     "metadata": {},
     "output_type": "execute_result"
    }
   ],
   "source": [
    "A = [1.0, 2.0, 3.0]\n",
    "\n",
    "function B(x)\n",
    "    x ^= 2\n",
    "end\n",
    "# B(A) will result in error."
   ]
  },
  {
   "cell_type": "code",
   "execution_count": 30,
   "metadata": {
    "colab": {},
    "colab_type": "code",
    "id": "qdoze3ygJsfu",
    "outputId": "b5ab7f8a-7fa4-4031-f9f1-2341837443a3"
   },
   "outputs": [
    {
     "data": {
      "text/plain": [
       "3-element Array{Float64,1}:\n",
       " 1.0\n",
       " 4.0\n",
       " 9.0"
      ]
     },
     "execution_count": 30,
     "metadata": {},
     "output_type": "execute_result"
    }
   ],
   "source": [
    "B.(A)"
   ]
  },
  {
   "cell_type": "code",
   "execution_count": 31,
   "metadata": {
    "colab": {},
    "colab_type": "code",
    "id": "twIr79h1Jsfx",
    "outputId": "c0e0486a-fb63-42e1-bc77-e12cc385bdf2"
   },
   "outputs": [
    {
     "data": {
      "text/plain": [
       "3-element Array{Float64,1}:\n",
       " 1.0\n",
       " 4.0\n",
       " 9.0"
      ]
     },
     "execution_count": 31,
     "metadata": {},
     "output_type": "execute_result"
    }
   ],
   "source": [
    "@. B(A)"
   ]
  },
  {
   "cell_type": "markdown",
   "metadata": {
    "colab_type": "text",
    "id": "t4MVogf-Jsf6"
   },
   "source": [
    "## 4. 執行函式後引數值變更範例\n",
    "\n",
    "- 另外這邊也示範了，同一行 Julia 程式可以撰寫多個 expression，各個 expression 間以 \";\" 分隔。\n",
    "- `sort()` 是 Julia 的內建函式"
   ]
  },
  {
   "cell_type": "code",
   "execution_count": 17,
   "metadata": {
    "colab": {},
    "colab_type": "code",
    "id": "GkIJ1MEwJsf8",
    "outputId": "7974efc0-97ca-42ee-9ab5-7732a2cd4ee1"
   },
   "outputs": [
    {
     "data": {
      "text/plain": [
       "3-element Array{Int64,1}:\n",
       " 1\n",
       " 2\n",
       " 3"
      ]
     },
     "execution_count": 17,
     "metadata": {},
     "output_type": "execute_result"
    }
   ],
   "source": [
    "# 不變更 (non-modifying) 版本\n",
    "v = [3, 1, 2]; sort(v)"
   ]
  },
  {
   "cell_type": "code",
   "execution_count": 18,
   "metadata": {
    "colab": {},
    "colab_type": "code",
    "id": "6ii_xBYgJsgD",
    "outputId": "e8bf6bab-cb46-4fac-a8c9-e2e3edc49a82"
   },
   "outputs": [
    {
     "data": {
      "text/plain": [
       "3-element Array{Int64,1}:\n",
       " 3\n",
       " 1\n",
       " 2"
      ]
     },
     "execution_count": 18,
     "metadata": {},
     "output_type": "execute_result"
    }
   ],
   "source": [
    "# v 的原始排序並未改變\n",
    "v"
   ]
  },
  {
   "cell_type": "markdown",
   "metadata": {},
   "source": [
    "**(!) 在執行完 sort!() 後 v 的順序也已改變**"
   ]
  },
  {
   "cell_type": "code",
   "execution_count": 32,
   "metadata": {
    "colab": {},
    "colab_type": "code",
    "id": "QyY1iJWBJsgG",
    "outputId": "c9e2df69-b8ef-4d02-9c9c-b3b22094afd9"
   },
   "outputs": [
    {
     "data": {
      "text/plain": [
       "3-element Array{Int64,1}:\n",
       " 1\n",
       " 2\n",
       " 3"
      ]
     },
     "execution_count": 32,
     "metadata": {},
     "output_type": "execute_result"
    }
   ],
   "source": [
    "# 變更 (modifying) 版本，在執行完 sort!() 後 v 的順序也已改變\n",
    "v = [3, 1, 2]; sort!(v); v"
   ]
  },
  {
   "cell_type": "markdown",
   "metadata": {
    "colab_type": "text",
    "id": "RKEd4hzFJsgL"
   },
   "source": [
    "## 5. 多重分派 (Multiple Dispatch)\n",
    "\n",
    "- 有時候相同功能的函式，可能會需要處理不同型別的值，這時候我們可以透過多重分派 (或譯多態分發) 的方式，定義同名但是傳入或回傳不同型別。Julia 是動態程式語言，會在執行階段 (runtime) 進行判斷。\n",
    "- 這還可以用來擴充內建函式所能做的事(extended a built-in function with another method, by creating another function with the same name)\n",
    "    - https://github.com/tomasaschan/IJulia-Notebooks/blob/master/A%20more%20thorough%20look%20at%20Julia%27s%20%22double%20colon%22%20syntax.ipynb"
   ]
  },
  {
   "cell_type": "code",
   "execution_count": 73,
   "metadata": {
    "colab": {},
    "colab_type": "code",
    "id": "zgGGUgTQJsgM",
    "outputId": "f42f9dba-a679-4574-92a8-d127d2a55820"
   },
   "outputs": [
    {
     "data": {
      "text/plain": [
       "h (generic function with 2 methods)"
      ]
     },
     "execution_count": 73,
     "metadata": {},
     "output_type": "execute_result"
    }
   ],
   "source": [
    "function h(x::Int64, y::Int64)::Int64\n",
    "    println(\"Int64 版本\")\n",
    "    x + y\n",
    "end\n",
    "\n",
    "function h(x::Float64, y::Float64)::Float64\n",
    "    println(\"Float64 版本\")\n",
    "    x + y\n",
    "end"
   ]
  },
  {
   "cell_type": "code",
   "execution_count": 74,
   "metadata": {
    "colab": {},
    "colab_type": "code",
    "id": "fk60AzFRJsgQ",
    "outputId": "22f75d05-01f4-4316-b156-4a2ce65b8ecc"
   },
   "outputs": [
    {
     "name": "stdout",
     "output_type": "stream",
     "text": [
      "Float64 版本\n"
     ]
    },
    {
     "data": {
      "text/plain": [
       "5.0"
      ]
     },
     "execution_count": 74,
     "metadata": {},
     "output_type": "execute_result"
    }
   ],
   "source": [
    "h(2.0, 3.0)"
   ]
  },
  {
   "cell_type": "code",
   "execution_count": 75,
   "metadata": {
    "colab": {},
    "colab_type": "code",
    "id": "v5WMOiBvJsgU",
    "outputId": "08ca4933-76b1-4eab-8791-5053882485ef"
   },
   "outputs": [
    {
     "name": "stdout",
     "output_type": "stream",
     "text": [
      "Int64 版本\n"
     ]
    },
    {
     "data": {
      "text/plain": [
       "5"
      ]
     },
     "execution_count": 75,
     "metadata": {},
     "output_type": "execute_result"
    }
   ],
   "source": [
    "h(2, 3)"
   ]
  },
  {
   "cell_type": "code",
   "execution_count": 76,
   "metadata": {},
   "outputs": [
    {
     "data": {
      "text/plain": [
       "h (generic function with 2 methods)"
      ]
     },
     "execution_count": 76,
     "metadata": {},
     "output_type": "execute_result"
    }
   ],
   "source": [
    "function h(x::Int64, y::Int64)::Int64\n",
    "    println(\"Int64 版本\")\n",
    "    x + y\n",
    "end\n",
    "\n",
    "function h(x::Float64, y::Float64)::Float64\n",
    "    println(\"Float64* 版本\")\n",
    "    x * y\n",
    "end"
   ]
  },
  {
   "cell_type": "code",
   "execution_count": 77,
   "metadata": {},
   "outputs": [
    {
     "name": "stdout",
     "output_type": "stream",
     "text": [
      "Float64* 版本\n"
     ]
    },
    {
     "data": {
      "text/plain": [
       "6.0"
      ]
     },
     "execution_count": 77,
     "metadata": {},
     "output_type": "execute_result"
    }
   ],
   "source": [
    "h(2.0,3.0)"
   ]
  },
  {
   "cell_type": "markdown",
   "metadata": {},
   "source": [
    "**(!) 若輸入變數型態不合，則會造成錯誤**"
   ]
  },
  {
   "cell_type": "code",
   "execution_count": 78,
   "metadata": {},
   "outputs": [
    {
     "ename": "MethodError",
     "evalue": "MethodError: no method matching h(::Int64, ::Float64)\nClosest candidates are:\n  h(!Matched::Float64, ::Float64) at In[76]:7\n  h(::Int64, !Matched::Int64) at In[76]:2",
     "output_type": "error",
     "traceback": [
      "MethodError: no method matching h(::Int64, ::Float64)\nClosest candidates are:\n  h(!Matched::Float64, ::Float64) at In[76]:7\n  h(::Int64, !Matched::Int64) at In[76]:2",
      "",
      "Stacktrace:",
      " [1] top-level scope at In[78]:1"
     ]
    }
   ],
   "source": [
    "h(2,3.0)"
   ]
  },
  {
   "cell_type": "markdown",
   "metadata": {
    "colab_type": "text",
    "id": "MMyz-g89JsgY"
   },
   "source": [
    "## 6. 變數作用域 (Scope of Variable) 的示範\n",
    "\n",
    "Scope of Variable 在不同的程式區塊裡面有不同的影響，在這邊以函式做為範例說明。有關於 Scope of Variable 的詳細說明，請參照官方文件 [Scope of Variables](https://docs.julialang.org/en/v1/manual/variables-and-scoping/index.html)，後續的內容也會在相關的章節中提供更多的範例。"
   ]
  },
  {
   "cell_type": "code",
   "execution_count": 86,
   "metadata": {
    "colab": {},
    "colab_type": "code",
    "id": "HXD6io-3Jsga",
    "outputId": "eebdd49c-6276-470f-b98a-6420973c7431"
   },
   "outputs": [
    {
     "name": "stdout",
     "output_type": "stream",
     "text": [
      "baz(): 22\n",
      "global x = 1, y = 2\n"
     ]
    }
   ],
   "source": [
    "# 宣告 global 變數 x 與 y\n",
    "x, y = 1, 2\n",
    "\n",
    "function baz()\n",
    "    # 在函式內宣告一個新的 x，這裡的 x 是屬於 local 變數\n",
    "    # 有沒有 local 保留字都可以\n",
    "    local x = 2 \n",
    "    \n",
    "    function bar()\n",
    "        x = 10       # 賦予 local x 新的值\n",
    "    \n",
    "        return x + y \n",
    "        # y 是 global 變數，此 return 值應為 10 + 2\n",
    "        # 其中 10 是 local x 的新值 10\n",
    "    end\n",
    "    \n",
    "    return bar() + x # 回傳 bar() 函式傳回值與 local x 相加的值，應為 12 + 10\n",
    "\n",
    "end\n",
    "\n",
    "println(\"baz(): \", baz())\n",
    "\n",
    "println(\"global x = $x, y = $y\") # global x 與 y 值仍不變"
   ]
  },
  {
   "cell_type": "markdown",
   "metadata": {
    "colab_type": "text",
    "id": "39tmAkalJsge"
   },
   "source": [
    "### global 保留字\n",
    "\n",
    "如果我們要使用的是 global x 的話，在函式指定值時加上 global 保留字，例如下列程式第 6 行示範。"
   ]
  },
  {
   "cell_type": "code",
   "execution_count": 24,
   "metadata": {
    "colab": {},
    "colab_type": "code",
    "id": "73lm0iG0Jsgf",
    "outputId": "3f420f5b-fb41-4748-c34f-6c905eb36ec8"
   },
   "outputs": [
    {
     "name": "stdout",
     "output_type": "stream",
     "text": [
      "baz(): 42\n",
      "global x = 20, y = 2\n"
     ]
    }
   ],
   "source": [
    "# 宣告 global 變數 x 與 y\n",
    "x, y = 1, 2\n",
    "\n",
    "function baz()\n",
    "    # 加上 global 保留字，代表我們要使用的是 global x\n",
    "    global x = 20 \n",
    "    \n",
    "    function bar()\n",
    "        return x + y\n",
    "        # x, y 均是 global 變數，此 return 值應為 20 + 2\n",
    "    end\n",
    "    \n",
    "    return bar() + x # 回傳 bar() 函式傳回值與 local x 相加的值，應為 22 + 20\n",
    "\n",
    "end\n",
    "\n",
    "println(\"baz(): \", baz())\n",
    "\n",
    "println(\"global x = $x, y = $y\") # global x 已改變"
   ]
  },
  {
   "cell_type": "markdown",
   "metadata": {},
   "source": [
    "#### (!?) variable inside for-loop is local"
   ]
  },
  {
   "cell_type": "code",
   "execution_count": 37,
   "metadata": {
    "colab": {},
    "colab_type": "code",
    "id": "dcmMp30HJsgi"
   },
   "outputs": [
    {
     "ename": "UndefVarError",
     "evalue": "UndefVarError: xi_local not defined",
     "output_type": "error",
     "traceback": [
      "UndefVarError: xi_local not defined",
      "",
      "Stacktrace:",
      " [1] top-level scope at In[37]:4"
     ]
    }
   ],
   "source": [
    "for i = 1:10\n",
    "    xi_local = i\n",
    "end\n",
    "xi_local"
   ]
  },
  {
   "cell_type": "code",
   "execution_count": 39,
   "metadata": {},
   "outputs": [
    {
     "ename": "UndefVarError",
     "evalue": "UndefVarError: xi_local not defined",
     "output_type": "error",
     "traceback": [
      "UndefVarError: xi_local not defined",
      "",
      "Stacktrace:",
      " [1] forloop() at .\\In[39]:6",
      " [2] top-level scope at In[39]:8"
     ]
    }
   ],
   "source": [
    "function forloop()\n",
    "    for i = 1:10\n",
    "        local xi_local # xi only valid inside the for i = 1:10 loop\n",
    "        xi_local = i\n",
    "    end\n",
    "    xi_local\n",
    "end\n",
    "forloop()"
   ]
  },
  {
   "cell_type": "code",
   "execution_count": 41,
   "metadata": {},
   "outputs": [
    {
     "data": {
      "text/plain": [
       "10"
      ]
     },
     "execution_count": 41,
     "metadata": {},
     "output_type": "execute_result"
    }
   ],
   "source": [
    "function forloop()\n",
    "    local xi_local\n",
    "    for i = 1:10\n",
    "        xi_local = i\n",
    "    end\n",
    "    xi_local\n",
    "end\n",
    "forloop()"
   ]
  },
  {
   "cell_type": "code",
   "execution_count": 43,
   "metadata": {},
   "outputs": [
    {
     "data": {
      "text/plain": [
       "825"
      ]
     },
     "execution_count": 43,
     "metadata": {},
     "output_type": "execute_result"
    }
   ],
   "source": [
    "xi = 0 # This is necessary!\n",
    "for i = 1:10\n",
    "    for j = 1:5\n",
    "        xi += i*j\n",
    "    end\n",
    "end\n",
    "xi"
   ]
  },
  {
   "cell_type": "code",
   "execution_count": 48,
   "metadata": {},
   "outputs": [
    {
     "data": {
      "text/plain": [
       "20"
      ]
     },
     "execution_count": 48,
     "metadata": {},
     "output_type": "execute_result"
    }
   ],
   "source": [
    "function forloop()\n",
    "    global gxi # avoid doing this\n",
    "    for i = 1:10\n",
    "        for j = 1:2\n",
    "            gxi = i*j\n",
    "        end\n",
    "    end\n",
    "    gxi\n",
    "end\n",
    "forloop()"
   ]
  },
  {
   "cell_type": "code",
   "execution_count": 52,
   "metadata": {},
   "outputs": [
    {
     "name": "stdout",
     "output_type": "stream",
     "text": [
      "0\n"
     ]
    }
   ],
   "source": [
    "for i = 1:1\n",
    "    z = i\n",
    "        for j = 0:0\n",
    "        z = j\n",
    "        end\n",
    "    println(z)\n",
    "end"
   ]
  },
  {
   "cell_type": "code",
   "execution_count": 53,
   "metadata": {},
   "outputs": [
    {
     "ename": "UndefVarError",
     "evalue": "UndefVarError: z not defined",
     "output_type": "error",
     "traceback": [
      "UndefVarError: z not defined",
      "",
      "Stacktrace:",
      " [1] top-level scope at In[53]:1"
     ]
    }
   ],
   "source": [
    "z"
   ]
  },
  {
   "cell_type": "code",
   "execution_count": 55,
   "metadata": {},
   "outputs": [
    {
     "data": {
      "text/plain": [
       "4"
      ]
     },
     "execution_count": 55,
     "metadata": {},
     "output_type": "execute_result"
    }
   ],
   "source": [
    "x, y = 1, 2; # is global for function foo\n",
    "function foo()\n",
    "    x = 2 # assignment introduces a new local\n",
    "    return x + y # y refers to the global, but x is local\n",
    "end;\n",
    "foo()"
   ]
  },
  {
   "cell_type": "code",
   "execution_count": 57,
   "metadata": {},
   "outputs": [
    {
     "data": {
      "text/plain": [
       "1"
      ]
     },
     "execution_count": 57,
     "metadata": {},
     "output_type": "execute_result"
    }
   ],
   "source": [
    "x"
   ]
  },
  {
   "cell_type": "markdown",
   "metadata": {},
   "source": [
    "### Function Composition and piping (compose and pipeline)\n",
    "- compose: `(f∘g)(args...)` is the same as `f(g(args...))`\n",
    "- piping: `arg |> g |> f`"
   ]
  },
  {
   "cell_type": "code",
   "execution_count": 6,
   "metadata": {},
   "outputs": [
    {
     "data": {
      "text/plain": [
       "3.0"
      ]
     },
     "execution_count": 6,
     "metadata": {},
     "output_type": "execute_result"
    }
   ],
   "source": [
    "f(x) = x + 2\n",
    "g(x) = x * 3\n",
    "x = 1\n",
    "(sqrt∘g∘f)(x) # sqrt((1 + 2)*3)"
   ]
  },
  {
   "cell_type": "code",
   "execution_count": 7,
   "metadata": {},
   "outputs": [
    {
     "data": {
      "text/plain": [
       "3.0"
      ]
     },
     "execution_count": 7,
     "metadata": {},
     "output_type": "execute_result"
    }
   ],
   "source": [
    "x |> f |> g |> sqrt "
   ]
  },
  {
   "cell_type": "code",
   "execution_count": 8,
   "metadata": {},
   "outputs": [
    {
     "data": {
      "text/plain": [
       "4-element Array{Any,1}:\n",
       "  \"A\"\n",
       "  \"tsil\"\n",
       "  \"Of\"\n",
       " 7"
      ]
     },
     "execution_count": 8,
     "metadata": {},
     "output_type": "execute_result"
    }
   ],
   "source": [
    "[\"a\", \"list\", \"of\", \"strings\"] .|> [uppercase, reverse, titlecase, length]"
   ]
  },
  {
   "cell_type": "code",
   "execution_count": null,
   "metadata": {},
   "outputs": [],
   "source": []
  }
 ],
 "metadata": {
  "@webio": {
   "lastCommId": null,
   "lastKernelId": null
  },
  "colab": {
   "name": "julia_006_example.ipynb",
   "provenance": []
  },
  "kernelspec": {
   "display_name": "Julia 1.4.0",
   "language": "julia",
   "name": "julia-1.4"
  },
  "language_info": {
   "file_extension": ".jl",
   "mimetype": "application/julia",
   "name": "julia",
   "version": "1.4.0"
  }
 },
 "nbformat": 4,
 "nbformat_minor": 4
}
