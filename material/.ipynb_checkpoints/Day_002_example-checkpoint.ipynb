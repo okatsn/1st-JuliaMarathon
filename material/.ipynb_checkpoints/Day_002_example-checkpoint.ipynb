{
 "cells": [
  {
   "cell_type": "code",
   "execution_count": null,
   "metadata": {},
   "outputs": [],
   "source": [
    "d"
   ]
  },
  {
   "cell_type": "markdown",
   "metadata": {
    "colab_type": "text",
    "id": "yo_KmtB179Bc"
   },
   "source": [
    "# Markdown 與 LaTeX簡介\n",
    "\n",
    "每個範例內容將範例語法與輸出分為不同的 Cell 放置，雙擊 Cell 也可以查看原始碼，進行進一步的研究與實驗。\n",
    "\n",
    "## 1. Markdown 主要語法\n",
    "\n",
    "### 1.1 段落和斷行\n",
    "\n",
    "_範例語法：_\n",
    "```\n",
    "前軍至夏口，周瑜問：「荊州有人在前面接否？」人報：「劉皇叔使糜竺來見都督。」瑜喚至，問勞軍如何。糜竺曰：「主公皆準備安排下了。」瑜曰：「皇叔何在？」竺曰：「在荊州城門相等，與都督把盞。」瑜曰：「今為汝家之事，出兵遠征；勞軍之禮，休得輕易。」糜竺領了言語先回。<br />戰船密密排在江上，依次而進。\n",
    "```\n",
    "_輸出：(可以看到在\"戰船\"前面有換行)_"
   ]
  },
  {
   "cell_type": "markdown",
   "metadata": {
    "colab_type": "text",
    "id": "E9E9N52P79Bf"
   },
   "source": [
    "前軍至夏口，周瑜問：「荊州有人在前面接否？」人報：「劉皇叔使糜竺來見都督。」瑜喚至，問勞軍如何。糜竺曰：「主公皆準備安排下了。」瑜曰：「皇叔何在？」竺曰：「在荊州城門相等，與都督把盞。」瑜曰：「今為汝家之事，出兵遠征；勞軍之禮，休得輕易。」糜竺領了言語先回。<br />戰船密密排在江上，依次而進。"
   ]
  },
  {
   "cell_type": "markdown",
   "metadata": {
    "colab_type": "text",
    "id": "W6sZ9w5o79Bh"
   },
   "source": [
    "### 1.2 標題 (Heading)\n",
    "\n",
    "_範例語法：_\n",
    "\n",
    "```\n",
    "# 主標題 (等同於 HTML `<h1></h1>`)\n",
    "\n",
    "## 次標題 (等同於 `<h2></h12`)\n",
    "\n",
    "### 第三階 (等同於 `<h3></h3>`)\n",
    "\n",
    "#### 第四階 (等同於 `<h4></h4>`)\n",
    "\n",
    "##### 第五階 (等同於 `<h5></h5>`)\n",
    "\n",
    "###### 第六階 (等同於 `<h6></h6>`)\n",
    "```\n",
    "\n",
    "_輸出：_"
   ]
  },
  {
   "cell_type": "markdown",
   "metadata": {
    "colab_type": "text",
    "id": "31wSJ8Vl79Bi"
   },
   "source": [
    "# 主標題 (等同於 HTML `<h1></h1>`)\n",
    "\n",
    "## 次標題 (等同於 `<h2></h12`)\n",
    "\n",
    "### 第三階 (等同於 `<h3></h3>`)\n",
    "\n",
    "#### 第四階 (等同於 `<h4></h4>`)\n",
    "\n",
    "##### 第五階 (等同於 `<h5></h5>`)\n",
    "\n",
    "###### 第六階 (等同於 `<h6></h6>`)"
   ]
  },
  {
   "cell_type": "markdown",
   "metadata": {
    "colab_type": "text",
    "id": "zV89CqTa79Bj"
   },
   "source": [
    "### 1.3 無序號列表 (Bullet list)\n",
    "\n",
    "_範例語法：_\n",
    "\n",
    "```\n",
    "六都清單：\n",
    "- 台北市\n",
    "    - 大安區\n",
    "    - 大同區\n",
    "- 新北市\n",
    "* 桃園市\n",
    "* 台中市\n",
    "+ 台南市\n",
    "+ 高雄市\n",
    "```\n",
    "\n",
    "_輸出：_"
   ]
  },
  {
   "cell_type": "markdown",
   "metadata": {
    "colab_type": "text",
    "id": "MTlt4VDW79Bk"
   },
   "source": [
    "六都清單：\n",
    "- 台北市\n",
    "    - 大安區\n",
    "    - 大同區\n",
    "- 新北市\n",
    "* 桃園市\n",
    "* 台中市\n",
    "+ 台南市\n",
    "+ 高雄市"
   ]
  },
  {
   "cell_type": "markdown",
   "metadata": {
    "colab_type": "text",
    "id": "lf-lMBp679Bl"
   },
   "source": [
    "### 1.4 序號列表 (Numbered list)\n",
    "\n",
    "_範例語法：_\n",
    "\n",
    "```\n",
    "1. 第一項\n",
    "2. 第二項\n",
    "3. 第三項\n",
    "```\n",
    "\n",
    "_輸出：_"
   ]
  },
  {
   "cell_type": "markdown",
   "metadata": {
    "colab_type": "text",
    "id": "qPAOGnfC79Bl"
   },
   "source": [
    "1. 第一項\n",
    "2. 第二項\n",
    "3. 第三項"
   ]
  },
  {
   "cell_type": "markdown",
   "metadata": {
    "colab_type": "text",
    "id": "Aqfo0ZzW79Bm"
   },
   "source": [
    "### 1.5 區塊引言 (blockquoting)\n",
    "\n",
    "_範例語法：_\n",
    "\n",
    "```\n",
    "> 卻說魯肅回見周瑜，說玄德，孔明歡喜不疑，準備出城勞軍。周瑜大笑曰：「原來今番也中了吾計！」便教魯肅稟報吳侯，並遣程普引兵接應。周瑜此時箭瘡已漸平愈，身軀無事，使甘寧為先鋒，自與徐盛，丁奉為第二；淩統，呂蒙為後隊。水陸大兵五百萬，望荊州而來。\n",
    "\n",
    "周瑜在船中，時復歡笑，以為孔明中計。\n",
    "\n",
    "> 前軍至夏口，周瑜問：「荊州有人在前面接否？」人報：「劉皇叔使糜竺來見都督。」瑜喚至，問勞軍如何。\n",
    "```\n",
    "\n",
    "_輸出：_"
   ]
  },
  {
   "cell_type": "markdown",
   "metadata": {
    "colab_type": "text",
    "id": "m-ay4GN979Bn"
   },
   "source": [
    "> 卻說魯肅回見周瑜，說玄德，孔明歡喜不疑，準備出城勞軍。周瑜大笑曰：「原來今番也中了吾計！」便教魯肅稟報吳侯，並遣程普引兵接應。周瑜此時箭瘡已漸平愈，身軀無事，使甘寧為先鋒，自與徐盛，丁奉為第二；淩統，呂蒙為後隊。水陸大兵五百萬，望荊州而來。\n",
    "\n",
    "周瑜在船中，時復歡笑，以為孔明中計。\n",
    "\n",
    "> 前軍至夏口，周瑜問：「荊州有人在前面接否？」人報：「劉皇叔使糜竺來見都督。」瑜喚至，問勞軍如何。"
   ]
  },
  {
   "cell_type": "markdown",
   "metadata": {
    "colab_type": "text",
    "id": "wXaGVNR879Bo"
   },
   "source": [
    "### 1.6 程式碼區塊\n",
    "\n",
    "_範例語法：_\n",
    "\n",
    "\\`\\`\\`julia\n",
    "\n",
    "println(\"Hello Julia\")\n",
    "\n",
    "\\`\\`\\`\n",
    "\n",
    "_輸出：_"
   ]
  },
  {
   "cell_type": "markdown",
   "metadata": {
    "colab_type": "text",
    "id": "bDE2AmP979Bp"
   },
   "source": [
    "```julia\n",
    "println(\"Hello Julia\")\n",
    "```"
   ]
  },
  {
   "cell_type": "markdown",
   "metadata": {
    "colab_type": "text",
    "id": "BOD_yB2D79Bq"
   },
   "source": [
    "### 1.7 分隔線\n",
    "\n",
    "_範例語法：_\n",
    "\n",
    "```\n",
    "卻說魯肅回見周瑜，說玄德，孔明歡喜不疑，準備出城勞軍。周瑜大笑曰：「原來今番也中了吾計！」便教魯肅稟報吳侯，並遣程普引兵接應。周瑜此時箭瘡已漸平愈，身軀無事，使甘寧為先鋒，自與徐盛，丁奉為第二；淩統，呂蒙為後隊。水陸大兵五百萬，望荊州而來。周瑜在船中，時復歡笑，以為孔明中計。\n",
    "\n",
    "---\n",
    "\n",
    "前軍至夏口，周瑜問：「荊州有人在前面接否？」人報：「劉皇叔使糜竺來見都督。」瑜喚至，問勞軍如何。糜竺曰：「主公皆準備安排下了。」瑜曰：「皇叔何在？」竺曰：「在荊州城門相等，與都督把盞。」瑜曰：「今為汝家之事，出兵遠征；勞軍之禮，休得輕易。」糜竺領了言語先回。<br />戰船密密排在江上，依次而進。\n",
    "```\n",
    "\n",
    "_輸出：_"
   ]
  },
  {
   "cell_type": "markdown",
   "metadata": {
    "colab_type": "text",
    "id": "2hbt8mSp79Br"
   },
   "source": [
    "卻說魯肅回見周瑜，說玄德，孔明歡喜不疑，準備出城勞軍。周瑜大笑曰：「原來今番也中了吾計！」便教魯肅稟報吳侯，並遣程普引兵接應。周瑜此時箭瘡已漸平愈，身軀無事，使甘寧為先鋒，自與徐盛，丁奉為第二；淩統，呂蒙為後隊。水陸大兵五百萬，望荊州而來。周瑜在船中，時復歡笑，以為孔明中計。\n",
    "\n",
    "---\n",
    "\n",
    "前軍至夏口，周瑜問：「荊州有人在前面接否？」人報：「劉皇叔使糜竺來見都督。」瑜喚至，問勞軍如何。糜竺曰：「主公皆準備安排下了。」瑜曰：「皇叔何在？」竺曰：「在荊州城門相等，與都督把盞。」瑜曰：「今為汝家之事，出兵遠征；勞軍之禮，休得輕易。」糜竺領了言語先回。<br />戰船密密排在江上，依次而進。"
   ]
  },
  {
   "cell_type": "markdown",
   "metadata": {
    "colab_type": "text",
    "id": "D7r5Sp1P79Bs"
   },
   "source": [
    "### 1.8 超連結\n",
    "\n",
    "_範例語法：_\n",
    "\n",
    "```\n",
    "[Cupoy - 為你探索世界的新知](https://www.cupoy.com)\n",
    "```\n",
    "\n",
    "_輸出：_"
   ]
  },
  {
   "cell_type": "markdown",
   "metadata": {
    "colab_type": "text",
    "id": "_9KxLqIX79Bt"
   },
   "source": [
    "[Cupoy - 為你探索世界的新知](https://www.cupoy.com)"
   ]
  },
  {
   "cell_type": "markdown",
   "metadata": {
    "colab_type": "text",
    "id": "a_5jlRuV79Bu"
   },
   "source": [
    "### 1.9 嵌入圖片\n",
    "\n",
    "_範例語法：_\n",
    "\n",
    "```\n",
    "![](https://upload.wikimedia.org/wikipedia/commons/thumb/6/69/Julia_prog_language.svg/440px-Julia_prog_language.svg.png)\n",
    "```\n",
    "\n",
    "_輸出：_"
   ]
  },
  {
   "cell_type": "markdown",
   "metadata": {
    "colab_type": "text",
    "id": "U0taRCMM79Bv"
   },
   "source": [
    "![](https://upload.wikimedia.org/wikipedia/commons/thumb/6/69/Julia_prog_language.svg/440px-Julia_prog_language.svg.png)"
   ]
  },
  {
   "cell_type": "markdown",
   "metadata": {
    "colab_type": "text",
    "id": "K_NooWed79Bw"
   },
   "source": [
    "### 1.10 表格\n",
    "\n",
    "_範例語法：_\n",
    "\n",
    "```\n",
    "|姓名|國家|地址|年齡|\n",
    "|---|---|---|---|\n",
    "|John Doe|中華民國台灣|台北市大安區敦化街1號|25|\n",
    "```\n",
    "\n",
    "_輸出：_"
   ]
  },
  {
   "cell_type": "markdown",
   "metadata": {
    "colab_type": "text",
    "id": "BJFbb_yy79Bx"
   },
   "source": [
    "|姓名|國家|地址|年齡|\n",
    "|---|---|---|---|\n",
    "|John Doe|中華民國台灣|台北市大安區敦化街1號|25|"
   ]
  },
  {
   "cell_type": "markdown",
   "metadata": {
    "colab_type": "text",
    "id": "yjuaBJRq79By"
   },
   "source": [
    "## 2. 用 LaTeX 寫數學公式\n",
    "\n",
    "### 2.1 Inline 模式\n",
    "\n",
    "_範例語法：_\n",
    "\n",
    "```\n",
    "$\\LARGE f(\\displaystyle\\sum_i w_i x_i + b)$\n",
    "```\n",
    "\n",
    "_輸出：_"
   ]
  },
  {
   "cell_type": "markdown",
   "metadata": {
    "colab_type": "text",
    "id": "8x1ka_3k79Bz"
   },
   "source": [
    "$\\LARGE f(\\displaystyle\\sum_i w_i x_i + b)$"
   ]
  },
  {
   "cell_type": "markdown",
   "metadata": {
    "colab_type": "text",
    "id": "UK2kIDxJ79B0"
   },
   "source": [
    "### 2.2 Block 模式\n",
    "\n",
    "_範例語法：_\n",
    "\n",
    "```\n",
    "$$\\LARGE f(\\displaystyle\\sum_i w_i x_i + b)$$\n",
    "```\n",
    "\n",
    "_輸出：_"
   ]
  },
  {
   "cell_type": "markdown",
   "metadata": {
    "colab_type": "text",
    "id": "XLJ-77X279B1"
   },
   "source": [
    "$$\\LARGE f(\\displaystyle\\sum_i w_i x_i + b)$$"
   ]
  },
  {
   "cell_type": "markdown",
   "metadata": {
    "colab_type": "text",
    "id": "n97dRHz879B2"
   },
   "source": [
    "_範例語法：_\n",
    "\n",
    "```\n",
    "\\begin{equation}\n",
    "\\LARGE f(\\displaystyle\\sum_i w_i x_i + b)\n",
    "\\end{equation}\n",
    "```\n",
    "\n",
    "_輸出：_"
   ]
  },
  {
   "cell_type": "markdown",
   "metadata": {
    "colab_type": "text",
    "id": "dVbVv5n079B3"
   },
   "source": [
    "\\begin{equation}\n",
    "\\LARGE f(\\displaystyle\\sum_i w_i x_i + b)\n",
    "\\end{equation}"
   ]
  },
  {
   "cell_type": "markdown",
   "metadata": {
    "colab_type": "text",
    "id": "bOjfoNFL79B4"
   },
   "source": [
    "_範例語法：_\n",
    "\n",
    "```\n",
    "\\begin{align}\n",
    "\\LARGE f(\\displaystyle\\sum_i w_i x_i + b)\n",
    "\\end{align}\n",
    "```\n",
    "\n",
    "_輸出：_"
   ]
  },
  {
   "cell_type": "markdown",
   "metadata": {
    "colab_type": "text",
    "id": "h7Q7GAUQ79B5"
   },
   "source": [
    "\\begin{align}\n",
    "\\LARGE f(\\displaystyle\\sum_i w_i x_i + b)\n",
    "\\end{align}"
   ]
  },
  {
   "cell_type": "markdown",
   "metadata": {
    "colab_type": "text",
    "id": "SX8AuFmJ79B6"
   },
   "source": [
    "## 3. 結合 Markdown 和 LaTeX 數學公式\n",
    "\n",
    "_範例語法：_\n",
    "\n",
    "```\n",
    "公式 $\\LARGE f(\\displaystyle\\sum_i w_i x_i + b)$ 是 Deep Learning 課程中常會見到的基本公式\n",
    "\n",
    "![CS231n Convolutional Neural Networks for Visual Recognition](http://cs231n.github.io/assets/nn1/neuron_model.jpeg)\n",
    "\n",
    "結合 Markdown 和 LaTeX 數學公式，我們可以撰寫出漂亮的文件筆記，讓學習更有效率。\n",
    "```\n",
    "\n",
    "_輸出：_"
   ]
  },
  {
   "cell_type": "markdown",
   "metadata": {
    "colab_type": "text",
    "id": "XMQtqncV79B7"
   },
   "source": [
    "公式 $\\LARGE f(\\displaystyle\\sum_i w_i x_i + b)$ 是 Deep Learning 課程中常會見到的基本公式\n",
    "\n",
    "![CS231n Convolutional Neural Networks for Visual Recognition](http://cs231n.github.io/assets/nn1/neuron_model.jpeg)\n",
    "\n",
    "結合 Markdown 和 LaTeX 數學公式，我們可以撰寫出漂亮的文件筆記，讓學習更有效率。"
   ]
  },
  {
   "cell_type": "code",
   "execution_count": 0,
   "metadata": {
    "colab": {},
    "colab_type": "code",
    "id": "l8Lt6QUrBNet"
   },
   "outputs": [],
   "source": []
  }
 ],
 "metadata": {
  "@webio": {
   "lastCommId": null,
   "lastKernelId": null
  },
  "colab": {
   "name": "Day_002_example.ipynb",
   "provenance": []
  },
  "kernelspec": {
   "display_name": "Julia 1.4.0",
   "language": "julia",
   "name": "julia-1.4"
  },
  "language_info": {
   "file_extension": ".jl",
   "mimetype": "application/julia",
   "name": "julia",
   "version": "1.4.0"
  }
 },
 "nbformat": 4,
 "nbformat_minor": 1
}
