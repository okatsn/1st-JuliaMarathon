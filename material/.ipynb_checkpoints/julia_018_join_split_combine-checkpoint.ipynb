{
 "cells": [
  {
   "cell_type": "markdown",
   "metadata": {},
   "source": [
    "# DataFrames.jl 介紹 (二): Joins 與 Split-Apply-Combine Strategy\n",
    "\n",
    "![](https://juliadata.github.io/DataFrames.jl/stable/assets/logo.png)\n",
    "\n",
    "DataFrames.jl 官方網站: [https://juliadata.github.io/DataFrames.jl/stable/](https://juliadata.github.io/DataFrames.jl/stable/)\n",
    "\n",
    "DataFrames.jl GitHub: [https://github.com/JuliaData/DataFrames.jl/blob/master/docs/src/index.md](https://github.com/JuliaData/DataFrames.jl/blob/master/docs/src/index.md)"
   ]
  },
  {
   "cell_type": "code",
   "execution_count": 1,
   "metadata": {},
   "outputs": [],
   "source": [
    "using Pkg"
   ]
  },
  {
   "cell_type": "markdown",
   "metadata": {},
   "source": [
    "## 0. 安裝\n",
    "\n",
    "如果尚未安裝過 DataFrames.jl 的話, 執行 `Pkg.add()` 進行安裝"
   ]
  },
  {
   "cell_type": "code",
   "execution_count": 1,
   "metadata": {},
   "outputs": [
    {
     "name": "stdout",
     "output_type": "stream",
     "text": [
      "\u001b[32m\u001b[1m  Updating\u001b[22m\u001b[39m registry at `~/.julia/registries/General`\n",
      "\u001b[32m\u001b[1m  Updating\u001b[22m\u001b[39m git-repo `https://github.com/JuliaRegistries/General.git`\n",
      "\u001b[?25l\u001b[2K\u001b[?25h\u001b[32m\u001b[1m Resolving\u001b[22m\u001b[39m package versions...\n",
      "\u001b[32m\u001b[1m  Updating\u001b[22m\u001b[39m `~/.julia/environments/v1.2/Project.toml`\n",
      "\u001b[90m [no changes]\u001b[39m\n",
      "\u001b[32m\u001b[1m  Updating\u001b[22m\u001b[39m `~/.julia/environments/v1.2/Manifest.toml`\n",
      "\u001b[90m [no changes]\u001b[39m\n"
     ]
    }
   ],
   "source": [
    "Pkg.add(PackageSpec(name=\"DataFrames\", version=\"0.20.2\"))"
   ]
  },
  {
   "cell_type": "markdown",
   "metadata": {},
   "source": [
    "DataFrames 安裝的版本"
   ]
  },
  {
   "cell_type": "code",
   "execution_count": 3,
   "metadata": {},
   "outputs": [
    {
     "name": "stderr",
     "output_type": "stream",
     "text": [
      "┌ Warning: Pkg.installed() is deprecated\n",
      "└ @ Pkg D:\\buildbot\\worker\\package_win64\\build\\usr\\share\\julia\\stdlib\\v1.4\\Pkg\\src\\Pkg.jl:531\n"
     ]
    },
    {
     "data": {
      "text/plain": [
       "v\"0.20.2\""
      ]
     },
     "execution_count": 3,
     "metadata": {},
     "output_type": "execute_result"
    }
   ],
   "source": [
    "Pkg.installed()[\"DataFrames\"]"
   ]
  },
  {
   "cell_type": "markdown",
   "metadata": {},
   "source": [
    "## 1. 建立 DataFrame"
   ]
  },
  {
   "cell_type": "code",
   "execution_count": 2,
   "metadata": {},
   "outputs": [],
   "source": [
    "using DataFrames"
   ]
  },
  {
   "cell_type": "markdown",
   "metadata": {},
   "source": [
    "使用 column by column 的方式建立 DataFrame"
   ]
  },
  {
   "cell_type": "code",
   "execution_count": 5,
   "metadata": {},
   "outputs": [
    {
     "data": {
      "text/html": [
       "<table class=\"data-frame\"><thead><tr><th></th></tr><tr><th></th></tr></thead><tbody><p>0 rows × 0 columns</p></tbody></table>"
      ],
      "text/latex": [
       "\\begin{tabular}{r|}\n",
       "\t& \\\\\n",
       "\t\\hline\n",
       "\t& \\\\\n",
       "\t\\hline\n",
       "\\end{tabular}\n"
      ],
      "text/plain": [
       "0×0 DataFrame\n"
      ]
     },
     "execution_count": 5,
     "metadata": {},
     "output_type": "execute_result"
    }
   ],
   "source": [
    "# 使用建構子建立空的 DataFrame\n",
    "df1 = DataFrame()"
   ]
  },
  {
   "cell_type": "code",
   "execution_count": 6,
   "metadata": {},
   "outputs": [
    {
     "data": {
      "text/html": [
       "<table class=\"data-frame\"><thead><tr><th></th><th>ID</th><th>name</th></tr><tr><th></th><th>String</th><th>String</th></tr></thead><tbody><p>4 rows × 2 columns</p><tr><th>1</th><td>001</td><td>志明</td></tr><tr><th>2</th><td>002</td><td>志玲</td></tr><tr><th>3</th><td>003</td><td>大雄</td></tr><tr><th>4</th><td>005</td><td>阿文</td></tr></tbody></table>"
      ],
      "text/latex": [
       "\\begin{tabular}{r|cc}\n",
       "\t& ID & name\\\\\n",
       "\t\\hline\n",
       "\t& String & String\\\\\n",
       "\t\\hline\n",
       "\t1 & 001 & 志明 \\\\\n",
       "\t2 & 002 & 志玲 \\\\\n",
       "\t3 & 003 & 大雄 \\\\\n",
       "\t4 & 005 & 阿文 \\\\\n",
       "\\end{tabular}\n"
      ],
      "text/plain": [
       "4×2 DataFrame\n",
       "│ Row │ ID     │ name   │\n",
       "│     │ \u001b[90mString\u001b[39m │ \u001b[90mString\u001b[39m │\n",
       "├─────┼────────┼────────┤\n",
       "│ 1   │ 001    │ 志明   │\n",
       "│ 2   │ 002    │ 志玲   │\n",
       "│ 3   │ 003    │ 大雄   │\n",
       "│ 4   │ 005    │ 阿文   │"
      ]
     },
     "execution_count": 6,
     "metadata": {},
     "output_type": "execute_result"
    }
   ],
   "source": [
    "# 指定各個 column 及其值, 加入到 DataFrame 中\n",
    "df1.ID = [\"001\", \"002\", \"003\", \"005\"]\n",
    "df1.name = [\"志明\", \"志玲\", \"大雄\", \"阿文\"]\n",
    "\n",
    "df1"
   ]
  },
  {
   "cell_type": "code",
   "execution_count": 7,
   "metadata": {},
   "outputs": [
    {
     "data": {
      "text/html": [
       "<table class=\"data-frame\"><thead><tr><th></th><th>ID</th><th>job</th></tr><tr><th></th><th>String</th><th>String</th></tr></thead><tbody><p>4 rows × 2 columns</p><tr><th>1</th><td>001</td><td>軟體工程師</td></tr><tr><th>2</th><td>002</td><td>系統架構師</td></tr><tr><th>3</th><td>003</td><td>專案經理</td></tr><tr><th>4</th><td>006</td><td>測試工程師</td></tr></tbody></table>"
      ],
      "text/latex": [
       "\\begin{tabular}{r|cc}\n",
       "\t& ID & job\\\\\n",
       "\t\\hline\n",
       "\t& String & String\\\\\n",
       "\t\\hline\n",
       "\t1 & 001 & 軟體工程師 \\\\\n",
       "\t2 & 002 & 系統架構師 \\\\\n",
       "\t3 & 003 & 專案經理 \\\\\n",
       "\t4 & 006 & 測試工程師 \\\\\n",
       "\\end{tabular}\n"
      ],
      "text/plain": [
       "4×2 DataFrame\n",
       "│ Row │ ID     │ job        │\n",
       "│     │ \u001b[90mString\u001b[39m │ \u001b[90mString\u001b[39m     │\n",
       "├─────┼────────┼────────────┤\n",
       "│ 1   │ 001    │ 軟體工程師 │\n",
       "│ 2   │ 002    │ 系統架構師 │\n",
       "│ 3   │ 003    │ 專案經理   │\n",
       "│ 4   │ 006    │ 測試工程師 │"
      ]
     },
     "execution_count": 7,
     "metadata": {},
     "output_type": "execute_result"
    }
   ],
   "source": [
    "df2 = DataFrame()\n",
    "\n",
    "df2.ID = [\"001\", \"002\", \"003\", \"006\"]\n",
    "df2.job = [\"軟體工程師\", \"系統架構師\", \"專案經理\", \"測試工程師\"]\n",
    "\n",
    "df2"
   ]
  },
  {
   "cell_type": "markdown",
   "metadata": {},
   "source": [
    "## 2. Join\n",
    "\n",
    "DataFrames.jl 實作了類似關連式資料庫的 Join 功能, 可進行兩個 DataFrame 之間的 Join, 包含了:\n",
    "- Inner Join\n",
    "- Left Join\n",
    "- Right Join\n",
    "- Outer Join\n",
    "- Semi Join\n",
    "- Anti Join\n",
    "- Cross Join\n",
    "\n",
    "\n",
    "下列是各種 Join 的程式範例."
   ]
  },
  {
   "cell_type": "markdown",
   "metadata": {},
   "source": [
    "預設的 Join, 結果包含符合條件的資料及所有欄位."
   ]
  },
  {
   "cell_type": "code",
   "execution_count": 12,
   "metadata": {},
   "outputs": [
    {
     "data": {
      "text/html": [
       "<table class=\"data-frame\"><thead><tr><th></th><th>ID</th><th>name</th><th>job</th></tr><tr><th></th><th>String</th><th>String</th><th>String</th></tr></thead><tbody><p>3 rows × 3 columns</p><tr><th>1</th><td>001</td><td>志明</td><td>軟體工程師</td></tr><tr><th>2</th><td>002</td><td>志玲</td><td>系統架構師</td></tr><tr><th>3</th><td>003</td><td>大雄</td><td>專案經理</td></tr></tbody></table>"
      ],
      "text/latex": [
       "\\begin{tabular}{r|ccc}\n",
       "\t& ID & name & job\\\\\n",
       "\t\\hline\n",
       "\t& String & String & String\\\\\n",
       "\t\\hline\n",
       "\t1 & 001 & 志明 & 軟體工程師 \\\\\n",
       "\t2 & 002 & 志玲 & 系統架構師 \\\\\n",
       "\t3 & 003 & 大雄 & 專案經理 \\\\\n",
       "\\end{tabular}\n"
      ],
      "text/plain": [
       "3×3 DataFrame\n",
       "│ Row │ ID     │ name   │ job        │\n",
       "│     │ \u001b[90mString\u001b[39m │ \u001b[90mString\u001b[39m │ \u001b[90mString\u001b[39m     │\n",
       "├─────┼────────┼────────┼────────────┤\n",
       "│ 1   │ 001    │ 志明   │ 軟體工程師 │\n",
       "│ 2   │ 002    │ 志玲   │ 系統架構師 │\n",
       "│ 3   │ 003    │ 大雄   │ 專案經理   │"
      ]
     },
     "execution_count": 12,
     "metadata": {},
     "output_type": "execute_result"
    }
   ],
   "source": [
    "df3 = join(df1, df2, on=:ID) # The default is kind = :inner \n",
    "# output a combined dataframe of members whos ID occurs in both df1 and df2 "
   ]
  },
  {
   "cell_type": "markdown",
   "metadata": {},
   "source": [
    "### Inner Join (default)\n",
    "\n",
    "結果包含符合條件的資料及所有欄位.\n",
    "\n",
    "only include rows with keys that **match in both** df1 and df2"
   ]
  },
  {
   "cell_type": "code",
   "execution_count": 13,
   "metadata": {},
   "outputs": [
    {
     "data": {
      "text/html": [
       "<table class=\"data-frame\"><thead><tr><th></th><th>ID</th><th>name</th><th>job</th></tr><tr><th></th><th>String</th><th>String</th><th>String</th></tr></thead><tbody><p>3 rows × 3 columns</p><tr><th>1</th><td>001</td><td>志明</td><td>軟體工程師</td></tr><tr><th>2</th><td>002</td><td>志玲</td><td>系統架構師</td></tr><tr><th>3</th><td>003</td><td>大雄</td><td>專案經理</td></tr></tbody></table>"
      ],
      "text/latex": [
       "\\begin{tabular}{r|ccc}\n",
       "\t& ID & name & job\\\\\n",
       "\t\\hline\n",
       "\t& String & String & String\\\\\n",
       "\t\\hline\n",
       "\t1 & 001 & 志明 & 軟體工程師 \\\\\n",
       "\t2 & 002 & 志玲 & 系統架構師 \\\\\n",
       "\t3 & 003 & 大雄 & 專案經理 \\\\\n",
       "\\end{tabular}\n"
      ],
      "text/plain": [
       "3×3 DataFrame\n",
       "│ Row │ ID     │ name   │ job        │\n",
       "│     │ \u001b[90mString\u001b[39m │ \u001b[90mString\u001b[39m │ \u001b[90mString\u001b[39m     │\n",
       "├─────┼────────┼────────┼────────────┤\n",
       "│ 1   │ 001    │ 志明   │ 軟體工程師 │\n",
       "│ 2   │ 002    │ 志玲   │ 系統架構師 │\n",
       "│ 3   │ 003    │ 大雄   │ 專案經理   │"
      ]
     },
     "execution_count": 13,
     "metadata": {},
     "output_type": "execute_result"
    }
   ],
   "source": [
    "join(df1, df2, on = :ID, kind = :inner)"
   ]
  },
  {
   "cell_type": "markdown",
   "metadata": {},
   "source": [
    "### Left Join\n",
    "\n",
    "結果包含 df1 所有資料, 但若未對應到的 df2 欄位值則填入 missing."
   ]
  },
  {
   "cell_type": "code",
   "execution_count": 22,
   "metadata": {},
   "outputs": [
    {
     "name": "stdout",
     "output_type": "stream",
     "text": [
      "ID in df1:001,002,003,005,"
     ]
    },
    {
     "data": {
      "text/html": [
       "<table class=\"data-frame\"><thead><tr><th></th><th>ID</th><th>name</th><th>job</th></tr><tr><th></th><th>String</th><th>String</th><th>String⍰</th></tr></thead><tbody><p>4 rows × 3 columns</p><tr><th>1</th><td>001</td><td>志明</td><td>軟體工程師</td></tr><tr><th>2</th><td>002</td><td>志玲</td><td>系統架構師</td></tr><tr><th>3</th><td>003</td><td>大雄</td><td>專案經理</td></tr><tr><th>4</th><td>005</td><td>阿文</td><td>missing</td></tr></tbody></table>"
      ],
      "text/latex": [
       "\\begin{tabular}{r|ccc}\n",
       "\t& ID & name & job\\\\\n",
       "\t\\hline\n",
       "\t& String & String & String⍰\\\\\n",
       "\t\\hline\n",
       "\t1 & 001 & 志明 & 軟體工程師 \\\\\n",
       "\t2 & 002 & 志玲 & 系統架構師 \\\\\n",
       "\t3 & 003 & 大雄 & 專案經理 \\\\\n",
       "\t4 & 005 & 阿文 &  \\\\\n",
       "\\end{tabular}\n"
      ],
      "text/plain": [
       "4×3 DataFrame\n",
       "│ Row │ ID     │ name   │ job        │\n",
       "│     │ \u001b[90mString\u001b[39m │ \u001b[90mString\u001b[39m │ \u001b[90mString⍰\u001b[39m    │\n",
       "├─────┼────────┼────────┼────────────┤\n",
       "│ 1   │ 001    │ 志明   │ 軟體工程師 │\n",
       "│ 2   │ 002    │ 志玲   │ 系統架構師 │\n",
       "│ 3   │ 003    │ 大雄   │ 專案經理   │\n",
       "│ 4   │ 005    │ 阿文   │ \u001b[90mmissing\u001b[39m    │"
      ]
     },
     "execution_count": 22,
     "metadata": {},
     "output_type": "execute_result"
    }
   ],
   "source": [
    "print(\"ID in df1:\");[print(\"$(x),\") for x in df1.ID];\n",
    "join(df1, df2, on = :ID, kind = :left)"
   ]
  },
  {
   "cell_type": "markdown",
   "metadata": {},
   "source": [
    "### Right Join\n",
    "\n",
    "- 結果包含 df2 所有資料, 但若未對應到的 df1 欄位值則填入 missing.\n",
    "- include all rows from df2"
   ]
  },
  {
   "cell_type": "code",
   "execution_count": 23,
   "metadata": {},
   "outputs": [
    {
     "name": "stdout",
     "output_type": "stream",
     "text": [
      "ID in df2:001,002,003,006,"
     ]
    },
    {
     "data": {
      "text/html": [
       "<table class=\"data-frame\"><thead><tr><th></th><th>ID</th><th>name</th><th>job</th></tr><tr><th></th><th>String</th><th>String⍰</th><th>String</th></tr></thead><tbody><p>4 rows × 3 columns</p><tr><th>1</th><td>001</td><td>志明</td><td>軟體工程師</td></tr><tr><th>2</th><td>002</td><td>志玲</td><td>系統架構師</td></tr><tr><th>3</th><td>003</td><td>大雄</td><td>專案經理</td></tr><tr><th>4</th><td>006</td><td>missing</td><td>測試工程師</td></tr></tbody></table>"
      ],
      "text/latex": [
       "\\begin{tabular}{r|ccc}\n",
       "\t& ID & name & job\\\\\n",
       "\t\\hline\n",
       "\t& String & String⍰ & String\\\\\n",
       "\t\\hline\n",
       "\t1 & 001 & 志明 & 軟體工程師 \\\\\n",
       "\t2 & 002 & 志玲 & 系統架構師 \\\\\n",
       "\t3 & 003 & 大雄 & 專案經理 \\\\\n",
       "\t4 & 006 &  & 測試工程師 \\\\\n",
       "\\end{tabular}\n"
      ],
      "text/plain": [
       "4×3 DataFrame\n",
       "│ Row │ ID     │ name    │ job        │\n",
       "│     │ \u001b[90mString\u001b[39m │ \u001b[90mString⍰\u001b[39m │ \u001b[90mString\u001b[39m     │\n",
       "├─────┼────────┼─────────┼────────────┤\n",
       "│ 1   │ 001    │ 志明    │ 軟體工程師 │\n",
       "│ 2   │ 002    │ 志玲    │ 系統架構師 │\n",
       "│ 3   │ 003    │ 大雄    │ 專案經理   │\n",
       "│ 4   │ 006    │ \u001b[90mmissing\u001b[39m │ 測試工程師 │"
      ]
     },
     "execution_count": 23,
     "metadata": {},
     "output_type": "execute_result"
    }
   ],
   "source": [
    "print(\"ID in df2:\");[print(\"$(x),\") for x in df2.ID];\n",
    "join(df1, df2, on = :ID, kind = :right)"
   ]
  },
  {
   "cell_type": "markdown",
   "metadata": {},
   "source": [
    "### Outer Join\n",
    "\n",
    "- 結果包含 df1 和 df2 所有資料, 未對應到的欄位值則填入 missing.\n",
    "- include **all rows** from df1 and df2"
   ]
  },
  {
   "cell_type": "code",
   "execution_count": 34,
   "metadata": {},
   "outputs": [
    {
     "name": "stdout",
     "output_type": "stream",
     "text": [
      "all possible ID in df1 and df2: 001,002,003,005,006,"
     ]
    },
    {
     "data": {
      "text/html": [
       "<table class=\"data-frame\"><thead><tr><th></th><th>ID</th><th>name</th><th>job</th></tr><tr><th></th><th>String</th><th>String⍰</th><th>String⍰</th></tr></thead><tbody><p>5 rows × 3 columns</p><tr><th>1</th><td>001</td><td>志明</td><td>軟體工程師</td></tr><tr><th>2</th><td>002</td><td>志玲</td><td>系統架構師</td></tr><tr><th>3</th><td>003</td><td>大雄</td><td>專案經理</td></tr><tr><th>4</th><td>005</td><td>阿文</td><td>missing</td></tr><tr><th>5</th><td>006</td><td>missing</td><td>測試工程師</td></tr></tbody></table>"
      ],
      "text/latex": [
       "\\begin{tabular}{r|ccc}\n",
       "\t& ID & name & job\\\\\n",
       "\t\\hline\n",
       "\t& String & String⍰ & String⍰\\\\\n",
       "\t\\hline\n",
       "\t1 & 001 & 志明 & 軟體工程師 \\\\\n",
       "\t2 & 002 & 志玲 & 系統架構師 \\\\\n",
       "\t3 & 003 & 大雄 & 專案經理 \\\\\n",
       "\t4 & 005 & 阿文 &  \\\\\n",
       "\t5 & 006 &  & 測試工程師 \\\\\n",
       "\\end{tabular}\n"
      ],
      "text/plain": [
       "5×3 DataFrame\n",
       "│ Row │ ID     │ name    │ job        │\n",
       "│     │ \u001b[90mString\u001b[39m │ \u001b[90mString⍰\u001b[39m │ \u001b[90mString⍰\u001b[39m    │\n",
       "├─────┼────────┼─────────┼────────────┤\n",
       "│ 1   │ 001    │ 志明    │ 軟體工程師 │\n",
       "│ 2   │ 002    │ 志玲    │ 系統架構師 │\n",
       "│ 3   │ 003    │ 大雄    │ 專案經理   │\n",
       "│ 4   │ 005    │ 阿文    │ \u001b[90mmissing\u001b[39m    │\n",
       "│ 5   │ 006    │ \u001b[90mmissing\u001b[39m │ 測試工程師 │"
      ]
     },
     "execution_count": 34,
     "metadata": {},
     "output_type": "execute_result"
    }
   ],
   "source": [
    "print(\"all possible ID in df1 and df2: \"); \n",
    "[print(\"$(x),\") for x in unique([df1.ID; df2.ID])]\n",
    "join(df1, df2, on = :ID, kind = :outer)"
   ]
  },
  {
   "cell_type": "markdown",
   "metadata": {},
   "source": [
    "### Semi Join\n",
    "\n",
    "- 跟 Inner Join 相同, 但是結果僅包含 df1 的欄位.\n",
    "- return rows of df1 that match with the keys in df2"
   ]
  },
  {
   "cell_type": "code",
   "execution_count": 12,
   "metadata": {},
   "outputs": [
    {
     "data": {
      "text/html": [
       "<table class=\"data-frame\"><thead><tr><th></th><th>ID</th><th>name</th></tr><tr><th></th><th>String</th><th>String</th></tr></thead><tbody><p>3 rows × 2 columns</p><tr><th>1</th><td>001</td><td>志明</td></tr><tr><th>2</th><td>002</td><td>志玲</td></tr><tr><th>3</th><td>003</td><td>大雄</td></tr></tbody></table>"
      ],
      "text/latex": [
       "\\begin{tabular}{r|cc}\n",
       "\t& ID & name\\\\\n",
       "\t\\hline\n",
       "\t& String & String\\\\\n",
       "\t\\hline\n",
       "\t1 & 001 & 志明 \\\\\n",
       "\t2 & 002 & 志玲 \\\\\n",
       "\t3 & 003 & 大雄 \\\\\n",
       "\\end{tabular}\n"
      ],
      "text/plain": [
       "3×2 DataFrame\n",
       "│ Row │ ID     │ name   │\n",
       "│     │ \u001b[90mString\u001b[39m │ \u001b[90mString\u001b[39m │\n",
       "├─────┼────────┼────────┤\n",
       "│ 1   │ 001    │ 志明   │\n",
       "│ 2   │ 002    │ 志玲   │\n",
       "│ 3   │ 003    │ 大雄   │"
      ]
     },
     "execution_count": 12,
     "metadata": {},
     "output_type": "execute_result"
    }
   ],
   "source": [
    "join(df1, df2, on = :ID, kind = :semi)"
   ]
  },
  {
   "cell_type": "markdown",
   "metadata": {},
   "source": [
    "### Anti Join\n",
    "\n",
    "- 結果包含僅存在於 df1 的資料, 且僅包含 df1 的欄位.\n",
    "- return rows of df1 that do not match with the keys in df2"
   ]
  },
  {
   "cell_type": "code",
   "execution_count": 13,
   "metadata": {},
   "outputs": [
    {
     "data": {
      "text/html": [
       "<table class=\"data-frame\"><thead><tr><th></th><th>ID</th><th>name</th></tr><tr><th></th><th>String</th><th>String</th></tr></thead><tbody><p>1 rows × 2 columns</p><tr><th>1</th><td>005</td><td>阿文</td></tr></tbody></table>"
      ],
      "text/latex": [
       "\\begin{tabular}{r|cc}\n",
       "\t& ID & name\\\\\n",
       "\t\\hline\n",
       "\t& String & String\\\\\n",
       "\t\\hline\n",
       "\t1 & 005 & 阿文 \\\\\n",
       "\\end{tabular}\n"
      ],
      "text/plain": [
       "1×2 DataFrame\n",
       "│ Row │ ID     │ name   │\n",
       "│     │ \u001b[90mString\u001b[39m │ \u001b[90mString\u001b[39m │\n",
       "├─────┼────────┼────────┤\n",
       "│ 1   │ 005    │ 阿文   │"
      ]
     },
     "execution_count": 13,
     "metadata": {},
     "output_type": "execute_result"
    }
   ],
   "source": [
    "join(df1, df2, on = :ID, kind = :anti)"
   ]
  },
  {
   "cell_type": "markdown",
   "metadata": {},
   "source": [
    "### Cross Join\n",
    "\n",
    "- 可視為 df1 $\\times$ df2 的結果, 為 2 個 DataFrame 的乘積.\n",
    "- Cross Join 也是唯一一個**不需要 key 值**連接的 Join.\n",
    "- every row of df1 is matched with every row of df2"
   ]
  },
  {
   "cell_type": "code",
   "execution_count": 14,
   "metadata": {},
   "outputs": [
    {
     "data": {
      "text/html": [
       "<table class=\"data-frame\"><thead><tr><th></th><th>ID</th><th>name</th><th>ID_1</th><th>job</th></tr><tr><th></th><th>String</th><th>String</th><th>String</th><th>String</th></tr></thead><tbody><p>16 rows × 4 columns</p><tr><th>1</th><td>001</td><td>志明</td><td>001</td><td>軟體工程師</td></tr><tr><th>2</th><td>001</td><td>志明</td><td>002</td><td>系統架構師</td></tr><tr><th>3</th><td>001</td><td>志明</td><td>003</td><td>專案經理</td></tr><tr><th>4</th><td>001</td><td>志明</td><td>006</td><td>測試工程師</td></tr><tr><th>5</th><td>002</td><td>志玲</td><td>001</td><td>軟體工程師</td></tr><tr><th>6</th><td>002</td><td>志玲</td><td>002</td><td>系統架構師</td></tr><tr><th>7</th><td>002</td><td>志玲</td><td>003</td><td>專案經理</td></tr><tr><th>8</th><td>002</td><td>志玲</td><td>006</td><td>測試工程師</td></tr><tr><th>9</th><td>003</td><td>大雄</td><td>001</td><td>軟體工程師</td></tr><tr><th>10</th><td>003</td><td>大雄</td><td>002</td><td>系統架構師</td></tr><tr><th>11</th><td>003</td><td>大雄</td><td>003</td><td>專案經理</td></tr><tr><th>12</th><td>003</td><td>大雄</td><td>006</td><td>測試工程師</td></tr><tr><th>13</th><td>005</td><td>阿文</td><td>001</td><td>軟體工程師</td></tr><tr><th>14</th><td>005</td><td>阿文</td><td>002</td><td>系統架構師</td></tr><tr><th>15</th><td>005</td><td>阿文</td><td>003</td><td>專案經理</td></tr><tr><th>16</th><td>005</td><td>阿文</td><td>006</td><td>測試工程師</td></tr></tbody></table>"
      ],
      "text/latex": [
       "\\begin{tabular}{r|cccc}\n",
       "\t& ID & name & ID\\_1 & job\\\\\n",
       "\t\\hline\n",
       "\t& String & String & String & String\\\\\n",
       "\t\\hline\n",
       "\t1 & 001 & 志明 & 001 & 軟體工程師 \\\\\n",
       "\t2 & 001 & 志明 & 002 & 系統架構師 \\\\\n",
       "\t3 & 001 & 志明 & 003 & 專案經理 \\\\\n",
       "\t4 & 001 & 志明 & 006 & 測試工程師 \\\\\n",
       "\t5 & 002 & 志玲 & 001 & 軟體工程師 \\\\\n",
       "\t6 & 002 & 志玲 & 002 & 系統架構師 \\\\\n",
       "\t7 & 002 & 志玲 & 003 & 專案經理 \\\\\n",
       "\t8 & 002 & 志玲 & 006 & 測試工程師 \\\\\n",
       "\t9 & 003 & 大雄 & 001 & 軟體工程師 \\\\\n",
       "\t10 & 003 & 大雄 & 002 & 系統架構師 \\\\\n",
       "\t11 & 003 & 大雄 & 003 & 專案經理 \\\\\n",
       "\t12 & 003 & 大雄 & 006 & 測試工程師 \\\\\n",
       "\t13 & 005 & 阿文 & 001 & 軟體工程師 \\\\\n",
       "\t14 & 005 & 阿文 & 002 & 系統架構師 \\\\\n",
       "\t15 & 005 & 阿文 & 003 & 專案經理 \\\\\n",
       "\t16 & 005 & 阿文 & 006 & 測試工程師 \\\\\n",
       "\\end{tabular}\n"
      ],
      "text/plain": [
       "16×4 DataFrame\n",
       "│ Row │ ID     │ name   │ ID_1   │ job        │\n",
       "│     │ \u001b[90mString\u001b[39m │ \u001b[90mString\u001b[39m │ \u001b[90mString\u001b[39m │ \u001b[90mString\u001b[39m     │\n",
       "├─────┼────────┼────────┼────────┼────────────┤\n",
       "│ 1   │ 001    │ 志明   │ 001    │ 軟體工程師 │\n",
       "│ 2   │ 001    │ 志明   │ 002    │ 系統架構師 │\n",
       "│ 3   │ 001    │ 志明   │ 003    │ 專案經理   │\n",
       "│ 4   │ 001    │ 志明   │ 006    │ 測試工程師 │\n",
       "│ 5   │ 002    │ 志玲   │ 001    │ 軟體工程師 │\n",
       "│ 6   │ 002    │ 志玲   │ 002    │ 系統架構師 │\n",
       "│ 7   │ 002    │ 志玲   │ 003    │ 專案經理   │\n",
       "│ 8   │ 002    │ 志玲   │ 006    │ 測試工程師 │\n",
       "│ 9   │ 003    │ 大雄   │ 001    │ 軟體工程師 │\n",
       "│ 10  │ 003    │ 大雄   │ 002    │ 系統架構師 │\n",
       "│ 11  │ 003    │ 大雄   │ 003    │ 專案經理   │\n",
       "│ 12  │ 003    │ 大雄   │ 006    │ 測試工程師 │\n",
       "│ 13  │ 005    │ 阿文   │ 001    │ 軟體工程師 │\n",
       "│ 14  │ 005    │ 阿文   │ 002    │ 系統架構師 │\n",
       "│ 15  │ 005    │ 阿文   │ 003    │ 專案經理   │\n",
       "│ 16  │ 005    │ 阿文   │ 006    │ 測試工程師 │"
      ]
     },
     "execution_count": 14,
     "metadata": {},
     "output_type": "execute_result"
    }
   ],
   "source": [
    "# makeunique 設為 true, 在 Join 時同名欄位會依序編號顯示在結果中\n",
    "join(df1, df2, kind = :cross, makeunique = true)"
   ]
  },
  {
   "cell_type": "markdown",
   "metadata": {},
   "source": [
    "### Join 連接的 Key 值欄位名稱不一樣的話"
   ]
  },
  {
   "cell_type": "code",
   "execution_count": 15,
   "metadata": {},
   "outputs": [
    {
     "data": {
      "text/html": [
       "<table class=\"data-frame\"><thead><tr><th></th><th>IDnew</th><th>city</th></tr><tr><th></th><th>String</th><th>String</th></tr></thead><tbody><p>3 rows × 2 columns</p><tr><th>1</th><td>001</td><td>台北市</td></tr><tr><th>2</th><td>002</td><td>新竹市</td></tr><tr><th>3</th><td>003</td><td>台中市</td></tr></tbody></table>"
      ],
      "text/latex": [
       "\\begin{tabular}{r|cc}\n",
       "\t& IDnew & city\\\\\n",
       "\t\\hline\n",
       "\t& String & String\\\\\n",
       "\t\\hline\n",
       "\t1 & 001 & 台北市 \\\\\n",
       "\t2 & 002 & 新竹市 \\\\\n",
       "\t3 & 003 & 台中市 \\\\\n",
       "\\end{tabular}\n"
      ],
      "text/plain": [
       "3×2 DataFrame\n",
       "│ Row │ IDnew  │ city   │\n",
       "│     │ \u001b[90mString\u001b[39m │ \u001b[90mString\u001b[39m │\n",
       "├─────┼────────┼────────┤\n",
       "│ 1   │ 001    │ 台北市 │\n",
       "│ 2   │ 002    │ 新竹市 │\n",
       "│ 3   │ 003    │ 台中市 │"
      ]
     },
     "execution_count": 15,
     "metadata": {},
     "output_type": "execute_result"
    }
   ],
   "source": [
    "df3 = DataFrame()\n",
    "\n",
    "df3.IDnew = [\"001\", \"002\", \"003\"]\n",
    "df3.city = [\"台北市\", \"新竹市\", \"台中市\"]\n",
    "\n",
    "df3"
   ]
  },
  {
   "cell_type": "markdown",
   "metadata": {},
   "source": [
    "在 on 參數指定要連結的 Key 欄位名稱."
   ]
  },
  {
   "cell_type": "code",
   "execution_count": 16,
   "metadata": {},
   "outputs": [
    {
     "data": {
      "text/html": [
       "<table class=\"data-frame\"><thead><tr><th></th><th>ID</th><th>name</th><th>city</th></tr><tr><th></th><th>String</th><th>String</th><th>String</th></tr></thead><tbody><p>3 rows × 3 columns</p><tr><th>1</th><td>001</td><td>志明</td><td>台北市</td></tr><tr><th>2</th><td>002</td><td>志玲</td><td>新竹市</td></tr><tr><th>3</th><td>003</td><td>大雄</td><td>台中市</td></tr></tbody></table>"
      ],
      "text/latex": [
       "\\begin{tabular}{r|ccc}\n",
       "\t& ID & name & city\\\\\n",
       "\t\\hline\n",
       "\t& String & String & String\\\\\n",
       "\t\\hline\n",
       "\t1 & 001 & 志明 & 台北市 \\\\\n",
       "\t2 & 002 & 志玲 & 新竹市 \\\\\n",
       "\t3 & 003 & 大雄 & 台中市 \\\\\n",
       "\\end{tabular}\n"
      ],
      "text/plain": [
       "3×3 DataFrame\n",
       "│ Row │ ID     │ name   │ city   │\n",
       "│     │ \u001b[90mString\u001b[39m │ \u001b[90mString\u001b[39m │ \u001b[90mString\u001b[39m │\n",
       "├─────┼────────┼────────┼────────┤\n",
       "│ 1   │ 001    │ 志明   │ 台北市 │\n",
       "│ 2   │ 002    │ 志玲   │ 新竹市 │\n",
       "│ 3   │ 003    │ 大雄   │ 台中市 │"
      ]
     },
     "execution_count": 16,
     "metadata": {},
     "output_type": "execute_result"
    }
   ],
   "source": [
    "join(df1, df3, on = :ID => :IDnew)"
   ]
  },
  {
   "cell_type": "markdown",
   "metadata": {},
   "source": [
    "### Indicator\n",
    "\n",
    "使用 `indicator` 參數會在結果中加入一個 column 顯示資料是存在於 `left_only`, `right_only`, 或是 `both`\n",
    "- `indicator = :column_name`"
   ]
  },
  {
   "cell_type": "code",
   "execution_count": 17,
   "metadata": {},
   "outputs": [
    {
     "data": {
      "text/html": [
       "<table class=\"data-frame\"><thead><tr><th></th><th>ID</th><th>name</th><th>job</th><th>source</th></tr><tr><th></th><th>String</th><th>String⍰</th><th>String⍰</th><th>Categorical…</th></tr></thead><tbody><p>5 rows × 4 columns</p><tr><th>1</th><td>001</td><td>志明</td><td>軟體工程師</td><td>both</td></tr><tr><th>2</th><td>002</td><td>志玲</td><td>系統架構師</td><td>both</td></tr><tr><th>3</th><td>003</td><td>大雄</td><td>專案經理</td><td>both</td></tr><tr><th>4</th><td>005</td><td>阿文</td><td>missing</td><td>left_only</td></tr><tr><th>5</th><td>006</td><td>missing</td><td>測試工程師</td><td>right_only</td></tr></tbody></table>"
      ],
      "text/latex": [
       "\\begin{tabular}{r|cccc}\n",
       "\t& ID & name & job & source\\\\\n",
       "\t\\hline\n",
       "\t& String & String⍰ & String⍰ & Categorical…\\\\\n",
       "\t\\hline\n",
       "\t1 & 001 & 志明 & 軟體工程師 & both \\\\\n",
       "\t2 & 002 & 志玲 & 系統架構師 & both \\\\\n",
       "\t3 & 003 & 大雄 & 專案經理 & both \\\\\n",
       "\t4 & 005 & 阿文 &  & left\\_only \\\\\n",
       "\t5 & 006 &  & 測試工程師 & right\\_only \\\\\n",
       "\\end{tabular}\n"
      ],
      "text/plain": [
       "5×4 DataFrame\n",
       "│ Row │ ID     │ name    │ job        │ source       │\n",
       "│     │ \u001b[90mString\u001b[39m │ \u001b[90mString⍰\u001b[39m │ \u001b[90mString⍰\u001b[39m    │ \u001b[90mCategorical…\u001b[39m │\n",
       "├─────┼────────┼─────────┼────────────┼──────────────┤\n",
       "│ 1   │ 001    │ 志明    │ 軟體工程師 │ both         │\n",
       "│ 2   │ 002    │ 志玲    │ 系統架構師 │ both         │\n",
       "│ 3   │ 003    │ 大雄    │ 專案經理   │ both         │\n",
       "│ 4   │ 005    │ 阿文    │ \u001b[90mmissing\u001b[39m    │ left_only    │\n",
       "│ 5   │ 006    │ \u001b[90mmissing\u001b[39m │ 測試工程師 │ right_only   │"
      ]
     },
     "execution_count": 17,
     "metadata": {},
     "output_type": "execute_result"
    }
   ],
   "source": [
    "join(df1, df2, on = :ID, kind = :outer, indicator = :source)"
   ]
  },
  {
   "cell_type": "markdown",
   "metadata": {},
   "source": [
    "### Validate\n",
    "\n",
    "- 若要檢核要連接的 Key 值是否有重複, 可以使用 `validate` 參數, `validate` 的值可以為 tuple 或是 pair, 檢核 left 或是 right 資料來源.\n",
    "- In order to check that columns passed as the on argument define unique keys (according to isequal) in each input data frame you can set the validate keyword argument to a two-element tuple or a pair of Bool values, with each element indicating whether to run check for the corresponding data frame.\n",
    "    - with the first element indicating whether to run check for df1 and the second element for df2.\n",
    "\n",
    "下面的例子示範在 right 資料來源有重複的情況, 產生並提示錯誤訊息."
   ]
  },
  {
   "cell_type": "code",
   "execution_count": 7,
   "metadata": {},
   "outputs": [],
   "source": [
    "df4 = DataFrame()\n",
    "df4.ID = [\"001\", \"002\", \"003\", \"003\", \"006\"]\n",
    "df4.job = [\"軟體工程師\", \"系統架構師\", \"專案經理\", \"測試工程師\", missing]\n",
    "df5 = DataFrame()\n",
    "df5.ID = [\"001\", \"002\", \"003\", \"006\"]\n",
    "df5.name = [\"志明\", \"志玲\", \"大雄\", \"阿文\"];"
   ]
  },
  {
   "cell_type": "code",
   "execution_count": 8,
   "metadata": {},
   "outputs": [
    {
     "ename": "ArgumentError",
     "evalue": "ArgumentError: Merge key(s) in df1 are not unique. First duplicate at row 4",
     "output_type": "error",
     "traceback": [
      "ArgumentError: Merge key(s) in df1 are not unique. First duplicate at row 4",
      "",
      "Stacktrace:",
      " [1] join(::DataFrame, ::DataFrame; on::Symbol, kind::Symbol, makeunique::Bool, indicator::Symbol, validate::Tuple{Bool,Bool}) at C:\\Users\\HSI\\.julia\\packages\\DataFrames\\S3ZFo\\src\\abstractdataframe\\join.jl:355",
      " [2] top-level scope at In[8]:1"
     ]
    }
   ],
   "source": [
    "join(df4, df5, on = :ID, kind = :outer, indicator = :source, validate = (true, true))"
   ]
  },
  {
   "cell_type": "code",
   "execution_count": 10,
   "metadata": {},
   "outputs": [
    {
     "data": {
      "text/html": [
       "<table class=\"data-frame\"><thead><tr><th></th><th>ID</th><th>job</th><th>name</th><th>source</th></tr><tr><th></th><th>String⍰</th><th>String⍰</th><th>String⍰</th><th>Categorical…</th></tr></thead><tbody><p>5 rows × 4 columns</p><tr><th>1</th><td>001</td><td>軟體工程師</td><td>志明</td><td>both</td></tr><tr><th>2</th><td>002</td><td>系統架構師</td><td>志玲</td><td>both</td></tr><tr><th>3</th><td>003</td><td>專案經理</td><td>大雄</td><td>both</td></tr><tr><th>4</th><td>003</td><td>測試工程師</td><td>大雄</td><td>both</td></tr><tr><th>5</th><td>006</td><td>missing</td><td>阿文</td><td>both</td></tr></tbody></table>"
      ],
      "text/latex": [
       "\\begin{tabular}{r|cccc}\n",
       "\t& ID & job & name & source\\\\\n",
       "\t\\hline\n",
       "\t& String⍰ & String⍰ & String⍰ & Categorical…\\\\\n",
       "\t\\hline\n",
       "\t1 & 001 & 軟體工程師 & 志明 & both \\\\\n",
       "\t2 & 002 & 系統架構師 & 志玲 & both \\\\\n",
       "\t3 & 003 & 專案經理 & 大雄 & both \\\\\n",
       "\t4 & 003 & 測試工程師 & 大雄 & both \\\\\n",
       "\t5 & 006 &  & 阿文 & both \\\\\n",
       "\\end{tabular}\n"
      ],
      "text/plain": [
       "5×4 DataFrame\n",
       "│ Row │ ID      │ job        │ name    │ source       │\n",
       "│     │ \u001b[90mString⍰\u001b[39m │ \u001b[90mString⍰\u001b[39m    │ \u001b[90mString⍰\u001b[39m │ \u001b[90mCategorical…\u001b[39m │\n",
       "├─────┼─────────┼────────────┼─────────┼──────────────┤\n",
       "│ 1   │ 001     │ 軟體工程師 │ 志明    │ both         │\n",
       "│ 2   │ 002     │ 系統架構師 │ 志玲    │ both         │\n",
       "│ 3   │ 003     │ 專案經理   │ 大雄    │ both         │\n",
       "│ 4   │ 003     │ 測試工程師 │ 大雄    │ both         │\n",
       "│ 5   │ 006     │ \u001b[90mmissing\u001b[39m    │ 阿文    │ both         │"
      ]
     },
     "execution_count": 10,
     "metadata": {},
     "output_type": "execute_result"
    }
   ],
   "source": [
    "join(df4, df5, on = :ID, kind = :outer, indicator = :source, validate = (false, true)) # validate df2 only"
   ]
  },
  {
   "cell_type": "markdown",
   "metadata": {},
   "source": [
    "## 3. The Split-Apply-Combine Strategy\n",
    "\n",
    "DataFrames.jl 以 `by()` 函式來實作 Split-Apply-Combine 策略 (大陸有人譯做 \"化整為零策略\"), `by()` 函式的動作包含了 groupby、map、combine, 依行 (column) 或列 (row) 進行資料處理; 或將資料分組之後, 進行獨立的操作; 然後將處理完成的片段進行組合."
   ]
  },
  {
   "cell_type": "code",
   "execution_count": 11,
   "metadata": {},
   "outputs": [],
   "source": [
    "using CSV, Statistics"
   ]
  },
  {
   "cell_type": "code",
   "execution_count": 12,
   "metadata": {},
   "outputs": [
    {
     "data": {
      "text/html": [
       "<table class=\"data-frame\"><thead><tr><th></th><th>SepalLength</th><th>SepalWidth</th><th>PetalLength</th><th>PetalWidth</th><th>Class</th></tr><tr><th></th><th>Float64</th><th>Float64</th><th>Float64</th><th>Float64</th><th>String</th></tr></thead><tbody><p>5 rows × 5 columns</p><tr><th>1</th><td>5.1</td><td>3.5</td><td>1.4</td><td>0.2</td><td>Iris-setosa</td></tr><tr><th>2</th><td>4.9</td><td>3.0</td><td>1.4</td><td>0.2</td><td>Iris-setosa</td></tr><tr><th>3</th><td>4.7</td><td>3.2</td><td>1.3</td><td>0.2</td><td>Iris-setosa</td></tr><tr><th>4</th><td>4.6</td><td>3.1</td><td>1.5</td><td>0.2</td><td>Iris-setosa</td></tr><tr><th>5</th><td>5.0</td><td>3.6</td><td>1.4</td><td>0.2</td><td>Iris-setosa</td></tr></tbody></table>"
      ],
      "text/latex": [
       "\\begin{tabular}{r|ccccc}\n",
       "\t& SepalLength & SepalWidth & PetalLength & PetalWidth & Class\\\\\n",
       "\t\\hline\n",
       "\t& Float64 & Float64 & Float64 & Float64 & String\\\\\n",
       "\t\\hline\n",
       "\t1 & 5.1 & 3.5 & 1.4 & 0.2 & Iris-setosa \\\\\n",
       "\t2 & 4.9 & 3.0 & 1.4 & 0.2 & Iris-setosa \\\\\n",
       "\t3 & 4.7 & 3.2 & 1.3 & 0.2 & Iris-setosa \\\\\n",
       "\t4 & 4.6 & 3.1 & 1.5 & 0.2 & Iris-setosa \\\\\n",
       "\t5 & 5.0 & 3.6 & 1.4 & 0.2 & Iris-setosa \\\\\n",
       "\\end{tabular}\n"
      ],
      "text/plain": [
       "5×5 DataFrame\n",
       "│ Row │ SepalLength │ SepalWidth │ PetalLength │ PetalWidth │ Class       │\n",
       "│     │ \u001b[90mFloat64\u001b[39m     │ \u001b[90mFloat64\u001b[39m    │ \u001b[90mFloat64\u001b[39m     │ \u001b[90mFloat64\u001b[39m    │ \u001b[90mString\u001b[39m      │\n",
       "├─────┼─────────────┼────────────┼─────────────┼────────────┼─────────────┤\n",
       "│ 1   │ 5.1         │ 3.5        │ 1.4         │ 0.2        │ Iris-setosa │\n",
       "│ 2   │ 4.9         │ 3.0        │ 1.4         │ 0.2        │ Iris-setosa │\n",
       "│ 3   │ 4.7         │ 3.2        │ 1.3         │ 0.2        │ Iris-setosa │\n",
       "│ 4   │ 4.6         │ 3.1        │ 1.5         │ 0.2        │ Iris-setosa │\n",
       "│ 5   │ 5.0         │ 3.6        │ 1.4         │ 0.2        │ Iris-setosa │"
      ]
     },
     "execution_count": 12,
     "metadata": {},
     "output_type": "execute_result"
    }
   ],
   "source": [
    "df = CSV.read(\"iris.csv\", categorical=true)\n",
    "first(df, 5)"
   ]
  },
  {
   "cell_type": "markdown",
   "metadata": {},
   "source": [
    "### 使用 \"column => function\" pair\n",
    "- `by()`\n",
    "    - 下面範例是根據 Class 欄位, 產生各類別的花瓣長度平均值. 產生的欄位名稱會自動生成.\n",
    "    - Split-apply-combine in one step: apply f to each grouping in df based on grouping columns keys, and return a DataFrame.\n",
    "    -  `by(d, cols, f)` is equivalent to `combine(f, groupby(d, cols))` and to the less efficient `combine(map(f, groupby(d, cols)))`."
   ]
  },
  {
   "cell_type": "code",
   "execution_count": 23,
   "metadata": {},
   "outputs": [
    {
     "data": {
      "text/html": [
       "<table class=\"data-frame\"><thead><tr><th></th><th>Class</th><th>PetalLength_mean</th></tr><tr><th></th><th>String</th><th>Float64</th></tr></thead><tbody><p>3 rows × 2 columns</p><tr><th>1</th><td>Iris-setosa</td><td>1.464</td></tr><tr><th>2</th><td>Iris-versicolor</td><td>4.26</td></tr><tr><th>3</th><td>Iris-virginica</td><td>5.552</td></tr></tbody></table>"
      ],
      "text/latex": [
       "\\begin{tabular}{r|cc}\n",
       "\t& Class & PetalLength\\_mean\\\\\n",
       "\t\\hline\n",
       "\t& String & Float64\\\\\n",
       "\t\\hline\n",
       "\t1 & Iris-setosa & 1.464 \\\\\n",
       "\t2 & Iris-versicolor & 4.26 \\\\\n",
       "\t3 & Iris-virginica & 5.552 \\\\\n",
       "\\end{tabular}\n"
      ],
      "text/plain": [
       "3×2 DataFrame\n",
       "│ Row │ Class           │ PetalLength_mean │\n",
       "│     │ \u001b[90mString\u001b[39m          │ \u001b[90mFloat64\u001b[39m          │\n",
       "├─────┼─────────────────┼──────────────────┤\n",
       "│ 1   │ Iris-setosa     │ 1.464            │\n",
       "│ 2   │ Iris-versicolor │ 4.26             │\n",
       "│ 3   │ Iris-virginica  │ 5.552            │"
      ]
     },
     "execution_count": 23,
     "metadata": {},
     "output_type": "execute_result"
    }
   ],
   "source": [
    "by(df, :Class, :PetalLength => mean)\n",
    "# group df by column 'Class', and mean over :PetalLength in each class."
   ]
  },
  {
   "cell_type": "code",
   "execution_count": 27,
   "metadata": {},
   "outputs": [
    {
     "data": {
      "text/html": [
       "<table class=\"data-frame\"><thead><tr><th></th><th>Class</th><th>MeanPetalLength</th><th>SumPetalWidth</th></tr><tr><th></th><th>String</th><th>Float64</th><th>Float64</th></tr></thead><tbody><p>3 rows × 3 columns</p><tr><th>1</th><td>Iris-setosa</td><td>1.464</td><td>12.2</td></tr><tr><th>2</th><td>Iris-versicolor</td><td>4.26</td><td>66.3</td></tr><tr><th>3</th><td>Iris-virginica</td><td>5.552</td><td>101.3</td></tr></tbody></table>"
      ],
      "text/latex": [
       "\\begin{tabular}{r|ccc}\n",
       "\t& Class & MeanPetalLength & SumPetalWidth\\\\\n",
       "\t\\hline\n",
       "\t& String & Float64 & Float64\\\\\n",
       "\t\\hline\n",
       "\t1 & Iris-setosa & 1.464 & 12.2 \\\\\n",
       "\t2 & Iris-versicolor & 4.26 & 66.3 \\\\\n",
       "\t3 & Iris-virginica & 5.552 & 101.3 \\\\\n",
       "\\end{tabular}\n"
      ],
      "text/plain": [
       "3×3 DataFrame\n",
       "│ Row │ Class           │ MeanPetalLength │ SumPetalWidth │\n",
       "│     │ \u001b[90mString\u001b[39m          │ \u001b[90mFloat64\u001b[39m         │ \u001b[90mFloat64\u001b[39m       │\n",
       "├─────┼─────────────────┼─────────────────┼───────────────┤\n",
       "│ 1   │ Iris-setosa     │ 1.464           │ 12.2          │\n",
       "│ 2   │ Iris-versicolor │ 4.26            │ 66.3          │\n",
       "│ 3   │ Iris-virginica  │ 5.552           │ 101.3         │"
      ]
     },
     "execution_count": 27,
     "metadata": {},
     "output_type": "execute_result"
    }
   ],
   "source": [
    "by(df, :Class, MeanPetalLength = :PetalLength => mean, SumPetalWidth = :PetalWidth => sum)"
   ]
  },
  {
   "cell_type": "markdown",
   "metadata": {},
   "source": [
    "欄位名稱也可以用欄位 index 代替."
   ]
  },
  {
   "cell_type": "code",
   "execution_count": 23,
   "metadata": {},
   "outputs": [
    {
     "data": {
      "text/html": [
       "<table class=\"data-frame\"><thead><tr><th></th><th>Class</th><th>PetalLength_mean</th></tr><tr><th></th><th>String</th><th>Float64</th></tr></thead><tbody><p>3 rows × 2 columns</p><tr><th>1</th><td>Iris-setosa</td><td>1.464</td></tr><tr><th>2</th><td>Iris-versicolor</td><td>4.26</td></tr><tr><th>3</th><td>Iris-virginica</td><td>5.552</td></tr></tbody></table>"
      ],
      "text/latex": [
       "\\begin{tabular}{r|cc}\n",
       "\t& Class & PetalLength\\_mean\\\\\n",
       "\t\\hline\n",
       "\t& String & Float64\\\\\n",
       "\t\\hline\n",
       "\t1 & Iris-setosa & 1.464 \\\\\n",
       "\t2 & Iris-versicolor & 4.26 \\\\\n",
       "\t3 & Iris-virginica & 5.552 \\\\\n",
       "\\end{tabular}\n"
      ],
      "text/plain": [
       "3×2 DataFrame\n",
       "│ Row │ Class           │ PetalLength_mean │\n",
       "│     │ \u001b[90mString\u001b[39m          │ \u001b[90mFloat64\u001b[39m          │\n",
       "├─────┼─────────────────┼──────────────────┤\n",
       "│ 1   │ Iris-setosa     │ 1.464            │\n",
       "│ 2   │ Iris-versicolor │ 4.26             │\n",
       "│ 3   │ Iris-virginica  │ 5.552            │"
      ]
     },
     "execution_count": 23,
     "metadata": {},
     "output_type": "execute_result"
    }
   ],
   "source": [
    "by(df, 5, 3 => mean)"
   ]
  },
  {
   "cell_type": "markdown",
   "metadata": {},
   "source": [
    "可以給予 Pair 名稱, 做為產生的欄位名稱.\n",
    "\n",
    "下面的範例是將各 Class 的資料數命名為 `count`"
   ]
  },
  {
   "cell_type": "code",
   "execution_count": 24,
   "metadata": {},
   "outputs": [
    {
     "data": {
      "text/html": [
       "<table class=\"data-frame\"><thead><tr><th></th><th>Class</th><th>count</th></tr><tr><th></th><th>String</th><th>Int64</th></tr></thead><tbody><p>3 rows × 2 columns</p><tr><th>1</th><td>Iris-setosa</td><td>50</td></tr><tr><th>2</th><td>Iris-versicolor</td><td>50</td></tr><tr><th>3</th><td>Iris-virginica</td><td>50</td></tr></tbody></table>"
      ],
      "text/latex": [
       "\\begin{tabular}{r|cc}\n",
       "\t& Class & count\\\\\n",
       "\t\\hline\n",
       "\t& String & Int64\\\\\n",
       "\t\\hline\n",
       "\t1 & Iris-setosa & 50 \\\\\n",
       "\t2 & Iris-versicolor & 50 \\\\\n",
       "\t3 & Iris-virginica & 50 \\\\\n",
       "\\end{tabular}\n"
      ],
      "text/plain": [
       "3×2 DataFrame\n",
       "│ Row │ Class           │ count │\n",
       "│     │ \u001b[90mString\u001b[39m          │ \u001b[90mInt64\u001b[39m │\n",
       "├─────┼─────────────────┼───────┤\n",
       "│ 1   │ Iris-setosa     │ 50    │\n",
       "│ 2   │ Iris-versicolor │ 50    │\n",
       "│ 3   │ Iris-virginica  │ 50    │"
      ]
     },
     "execution_count": 24,
     "metadata": {},
     "output_type": "execute_result"
    }
   ],
   "source": [
    "by(df, :Class, count = :Class => length)"
   ]
  },
  {
   "cell_type": "markdown",
   "metadata": {},
   "source": [
    "### 使用 \"column => function\" pair 的 Tuple 或 Vector\n",
    "\n",
    "透過 `by()` 函式進行 groupby 時, \"column => function\" pair 可以有多組; 多組的 pair 也可以傳入 tuple 或 vector 類型, 如下面範例."
   ]
  },
  {
   "cell_type": "code",
   "execution_count": 25,
   "metadata": {},
   "outputs": [
    {
     "data": {
      "text/html": [
       "<table class=\"data-frame\"><thead><tr><th></th><th>Class</th><th>count</th><th>PetalLength_mean</th></tr><tr><th></th><th>String</th><th>Int64</th><th>Float64</th></tr></thead><tbody><p>3 rows × 3 columns</p><tr><th>1</th><td>Iris-setosa</td><td>50</td><td>1.464</td></tr><tr><th>2</th><td>Iris-versicolor</td><td>50</td><td>4.26</td></tr><tr><th>3</th><td>Iris-virginica</td><td>50</td><td>5.552</td></tr></tbody></table>"
      ],
      "text/latex": [
       "\\begin{tabular}{r|ccc}\n",
       "\t& Class & count & PetalLength\\_mean\\\\\n",
       "\t\\hline\n",
       "\t& String & Int64 & Float64\\\\\n",
       "\t\\hline\n",
       "\t1 & Iris-setosa & 50 & 1.464 \\\\\n",
       "\t2 & Iris-versicolor & 50 & 4.26 \\\\\n",
       "\t3 & Iris-virginica & 50 & 5.552 \\\\\n",
       "\\end{tabular}\n"
      ],
      "text/plain": [
       "3×3 DataFrame\n",
       "│ Row │ Class           │ count │ PetalLength_mean │\n",
       "│     │ \u001b[90mString\u001b[39m          │ \u001b[90mInt64\u001b[39m │ \u001b[90mFloat64\u001b[39m          │\n",
       "├─────┼─────────────────┼───────┼──────────────────┤\n",
       "│ 1   │ Iris-setosa     │ 50    │ 1.464            │\n",
       "│ 2   │ Iris-versicolor │ 50    │ 4.26             │\n",
       "│ 3   │ Iris-virginica  │ 50    │ 5.552            │"
      ]
     },
     "execution_count": 25,
     "metadata": {},
     "output_type": "execute_result"
    }
   ],
   "source": [
    "by(df, :Class, count = :Class => length, PetalLength_mean = :PetalLength => mean)"
   ]
  },
  {
   "cell_type": "markdown",
   "metadata": {},
   "source": [
    "使用 Tuple."
   ]
  },
  {
   "cell_type": "code",
   "execution_count": 26,
   "metadata": {},
   "outputs": [
    {
     "data": {
      "text/html": [
       "<table class=\"data-frame\"><thead><tr><th></th><th>Class</th><th>Class_length</th><th>PetalLength_mean</th></tr><tr><th></th><th>String</th><th>Int64</th><th>Float64</th></tr></thead><tbody><p>3 rows × 3 columns</p><tr><th>1</th><td>Iris-setosa</td><td>50</td><td>1.464</td></tr><tr><th>2</th><td>Iris-versicolor</td><td>50</td><td>4.26</td></tr><tr><th>3</th><td>Iris-virginica</td><td>50</td><td>5.552</td></tr></tbody></table>"
      ],
      "text/latex": [
       "\\begin{tabular}{r|ccc}\n",
       "\t& Class & Class\\_length & PetalLength\\_mean\\\\\n",
       "\t\\hline\n",
       "\t& String & Int64 & Float64\\\\\n",
       "\t\\hline\n",
       "\t1 & Iris-setosa & 50 & 1.464 \\\\\n",
       "\t2 & Iris-versicolor & 50 & 4.26 \\\\\n",
       "\t3 & Iris-virginica & 50 & 5.552 \\\\\n",
       "\\end{tabular}\n"
      ],
      "text/plain": [
       "3×3 DataFrame\n",
       "│ Row │ Class           │ Class_length │ PetalLength_mean │\n",
       "│     │ \u001b[90mString\u001b[39m          │ \u001b[90mInt64\u001b[39m        │ \u001b[90mFloat64\u001b[39m          │\n",
       "├─────┼─────────────────┼──────────────┼──────────────────┤\n",
       "│ 1   │ Iris-setosa     │ 50           │ 1.464            │\n",
       "│ 2   │ Iris-versicolor │ 50           │ 4.26             │\n",
       "│ 3   │ Iris-virginica  │ 50           │ 5.552            │"
      ]
     },
     "execution_count": 26,
     "metadata": {},
     "output_type": "execute_result"
    }
   ],
   "source": [
    "by(df, :Class, (:Class => length, :PetalLength => mean))"
   ]
  },
  {
   "cell_type": "markdown",
   "metadata": {},
   "source": [
    "使用 vector."
   ]
  },
  {
   "cell_type": "code",
   "execution_count": 27,
   "metadata": {},
   "outputs": [
    {
     "data": {
      "text/html": [
       "<table class=\"data-frame\"><thead><tr><th></th><th>Class</th><th>Class_length</th><th>PetalLength_mean</th></tr><tr><th></th><th>String</th><th>Int64</th><th>Float64</th></tr></thead><tbody><p>3 rows × 3 columns</p><tr><th>1</th><td>Iris-setosa</td><td>50</td><td>1.464</td></tr><tr><th>2</th><td>Iris-versicolor</td><td>50</td><td>4.26</td></tr><tr><th>3</th><td>Iris-virginica</td><td>50</td><td>5.552</td></tr></tbody></table>"
      ],
      "text/latex": [
       "\\begin{tabular}{r|ccc}\n",
       "\t& Class & Class\\_length & PetalLength\\_mean\\\\\n",
       "\t\\hline\n",
       "\t& String & Int64 & Float64\\\\\n",
       "\t\\hline\n",
       "\t1 & Iris-setosa & 50 & 1.464 \\\\\n",
       "\t2 & Iris-versicolor & 50 & 4.26 \\\\\n",
       "\t3 & Iris-virginica & 50 & 5.552 \\\\\n",
       "\\end{tabular}\n"
      ],
      "text/plain": [
       "3×3 DataFrame\n",
       "│ Row │ Class           │ Class_length │ PetalLength_mean │\n",
       "│     │ \u001b[90mString\u001b[39m          │ \u001b[90mInt64\u001b[39m        │ \u001b[90mFloat64\u001b[39m          │\n",
       "├─────┼─────────────────┼──────────────┼──────────────────┤\n",
       "│ 1   │ Iris-setosa     │ 50           │ 1.464            │\n",
       "│ 2   │ Iris-versicolor │ 50           │ 4.26             │\n",
       "│ 3   │ Iris-virginica  │ 50           │ 5.552            │"
      ]
     },
     "execution_count": 27,
     "metadata": {},
     "output_type": "execute_result"
    }
   ],
   "source": [
    "by(df, :Class, [:Class => length, :PetalLength => mean])"
   ]
  },
  {
   "cell_type": "markdown",
   "metadata": {},
   "source": [
    "It is ok to use **regular expression** for the name of columns to be grouped"
   ]
  },
  {
   "cell_type": "code",
   "execution_count": 33,
   "metadata": {},
   "outputs": [
    {
     "data": {
      "text/html": [
       "<p><b>GroupedDataFrame with 102 groups based on keys: PetalLength, PetalWidth</b></p><p><i>First Group (8 rows): PetalLength = 1.4, PetalWidth = 0.2</i></p><table class=\"data-frame\"><thead><tr><th></th><th>SepalLength</th><th>SepalWidth</th><th>PetalLength</th><th>PetalWidth</th><th>Class</th></tr><tr><th></th><th>Float64</th><th>Float64</th><th>Float64</th><th>Float64</th><th>String</th></tr></thead><tbody><tr><th>1</th><td>5.1</td><td>3.5</td><td>1.4</td><td>0.2</td><td>Iris-setosa</td></tr><tr><th>2</th><td>4.9</td><td>3.0</td><td>1.4</td><td>0.2</td><td>Iris-setosa</td></tr><tr><th>3</th><td>5.0</td><td>3.6</td><td>1.4</td><td>0.2</td><td>Iris-setosa</td></tr><tr><th>4</th><td>4.4</td><td>2.9</td><td>1.4</td><td>0.2</td><td>Iris-setosa</td></tr><tr><th>5</th><td>5.2</td><td>3.4</td><td>1.4</td><td>0.2</td><td>Iris-setosa</td></tr><tr><th>6</th><td>5.5</td><td>4.2</td><td>1.4</td><td>0.2</td><td>Iris-setosa</td></tr><tr><th>7</th><td>4.6</td><td>3.2</td><td>1.4</td><td>0.2</td><td>Iris-setosa</td></tr><tr><th>8</th><td>5.0</td><td>3.3</td><td>1.4</td><td>0.2</td><td>Iris-setosa</td></tr></tbody></table><p>&vellip;</p><p><i>Last Group (1 row): PetalLength = 5.1, PetalWidth = 1.8</i></p><table class=\"data-frame\"><thead><tr><th></th><th>SepalLength</th><th>SepalWidth</th><th>PetalLength</th><th>PetalWidth</th><th>Class</th></tr><tr><th></th><th>Float64</th><th>Float64</th><th>Float64</th><th>Float64</th><th>String</th></tr></thead><tbody><tr><th>1</th><td>5.9</td><td>3.0</td><td>5.1</td><td>1.8</td><td>Iris-virginica</td></tr></tbody></table>"
      ],
      "text/latex": [
       "GroupedDataFrame with 102 groups based on keys: PetalLength, PetalWidth\n",
       "\n",
       "First Group (8 rows): PetalLength = 1.4, PetalWidth = 0.2\n",
       "\n",
       "\\begin{tabular}{r|ccccc}\n",
       "\t& SepalLength & SepalWidth & PetalLength & PetalWidth & Class\\\\\n",
       "\t\\hline\n",
       "\t& Float64 & Float64 & Float64 & Float64 & String\\\\\n",
       "\t\\hline\n",
       "\t1 & 5.1 & 3.5 & 1.4 & 0.2 & Iris-setosa \\\\\n",
       "\t2 & 4.9 & 3.0 & 1.4 & 0.2 & Iris-setosa \\\\\n",
       "\t3 & 5.0 & 3.6 & 1.4 & 0.2 & Iris-setosa \\\\\n",
       "\t4 & 4.4 & 2.9 & 1.4 & 0.2 & Iris-setosa \\\\\n",
       "\t5 & 5.2 & 3.4 & 1.4 & 0.2 & Iris-setosa \\\\\n",
       "\t6 & 5.5 & 4.2 & 1.4 & 0.2 & Iris-setosa \\\\\n",
       "\t7 & 4.6 & 3.2 & 1.4 & 0.2 & Iris-setosa \\\\\n",
       "\t8 & 5.0 & 3.3 & 1.4 & 0.2 & Iris-setosa \\\\\n",
       "\\end{tabular}\n",
       "\n",
       "$\\dots$\n",
       "\n",
       "Last Group (1 row): PetalLength = 5.1, PetalWidth = 1.8\n",
       "\n",
       "\\begin{tabular}{r|ccccc}\n",
       "\t& SepalLength & SepalWidth & PetalLength & PetalWidth & Class\\\\\n",
       "\t\\hline\n",
       "\t& Float64 & Float64 & Float64 & Float64 & String\\\\\n",
       "\t\\hline\n",
       "\t1 & 5.9 & 3.0 & 5.1 & 1.8 & Iris-virginica \\\\\n",
       "\\end{tabular}\n"
      ],
      "text/plain": [
       "GroupedDataFrame with 102 groups based on keys: PetalLength, PetalWidth\n",
       "First Group (8 rows): PetalLength = 1.4, PetalWidth = 0.2\n",
       "│ Row │ SepalLength │ SepalWidth │ PetalLength │ PetalWidth │ Class       │\n",
       "│     │ \u001b[90mFloat64\u001b[39m     │ \u001b[90mFloat64\u001b[39m    │ \u001b[90mFloat64\u001b[39m     │ \u001b[90mFloat64\u001b[39m    │ \u001b[90mString\u001b[39m      │\n",
       "├─────┼─────────────┼────────────┼─────────────┼────────────┼─────────────┤\n",
       "│ 1   │ 5.1         │ 3.5        │ 1.4         │ 0.2        │ Iris-setosa │\n",
       "│ 2   │ 4.9         │ 3.0        │ 1.4         │ 0.2        │ Iris-setosa │\n",
       "│ 3   │ 5.0         │ 3.6        │ 1.4         │ 0.2        │ Iris-setosa │\n",
       "│ 4   │ 4.4         │ 2.9        │ 1.4         │ 0.2        │ Iris-setosa │\n",
       "│ 5   │ 5.2         │ 3.4        │ 1.4         │ 0.2        │ Iris-setosa │\n",
       "│ 6   │ 5.5         │ 4.2        │ 1.4         │ 0.2        │ Iris-setosa │\n",
       "│ 7   │ 4.6         │ 3.2        │ 1.4         │ 0.2        │ Iris-setosa │\n",
       "│ 8   │ 5.0         │ 3.3        │ 1.4         │ 0.2        │ Iris-setosa │\n",
       "⋮\n",
       "Last Group (1 row): PetalLength = 5.1, PetalWidth = 1.8\n",
       "│ Row │ SepalLength │ SepalWidth │ PetalLength │ PetalWidth │ Class          │\n",
       "│     │ \u001b[90mFloat64\u001b[39m     │ \u001b[90mFloat64\u001b[39m    │ \u001b[90mFloat64\u001b[39m     │ \u001b[90mFloat64\u001b[39m    │ \u001b[90mString\u001b[39m         │\n",
       "├─────┼─────────────┼────────────┼─────────────┼────────────┼────────────────┤\n",
       "│ 1   │ 5.9         │ 3.0        │ 5.1         │ 1.8        │ Iris-virginica │"
      ]
     },
     "execution_count": 33,
     "metadata": {},
     "output_type": "execute_result"
    }
   ],
   "source": [
    "groupby(df, r\"Petal.*\")"
   ]
  },
  {
   "cell_type": "markdown",
   "metadata": {},
   "source": [
    "`stack(df::AbstractDataFrame, [measure_vars], [id_vars];\n",
    "      variable_name=:variable, value_name=:value,\n",
    "      view::Bool=false, variable_eltype::Type=CategoricalValue{String})`\n",
    "- Stack a data frame df, i.e. convert it from wide to long format."
   ]
  },
  {
   "cell_type": "code",
   "execution_count": 43,
   "metadata": {},
   "outputs": [
    {
     "name": "stdout",
     "output_type": "stream",
     "text": [
      "12×5 DataFrame\n",
      "│ Row │ a     │ b     │ c         │ d          │ e      │\n",
      "│     │ \u001b[90mInt64\u001b[39m │ \u001b[90mInt64\u001b[39m │ \u001b[90mFloat64\u001b[39m   │ \u001b[90mFloat64\u001b[39m    │ \u001b[90mString\u001b[39m │\n",
      "├─────┼───────┼───────┼───────────┼────────────┼────────┤\n",
      "│ 1   │ 1     │ 1     │ 0.384978  │ -2.07613   │ a      │\n",
      "│ 2   │ 1     │ 1     │ -1.13122  │ 0.818782   │ b      │\n",
      "│ 3   │ 1     │ 1     │ 1.01707   │ 2.34398    │ c      │\n",
      "│ 4   │ 1     │ 2     │ 0.754478  │ -0.613375  │ d      │\n",
      "│ 5   │ 2     │ 2     │ 0.920078  │ -0.598828  │ e      │\n",
      "│ 6   │ 2     │ 2     │ -0.474515 │ -0.621555  │ f      │\n",
      "│ 7   │ 2     │ 3     │ -0.414077 │ -0.595243  │ g      │\n",
      "│ 8   │ 2     │ 3     │ 0.672416  │ 0.148809   │ h      │\n",
      "│ 9   │ 3     │ 3     │ 0.291337  │ 0.715675   │ i      │\n",
      "│ 10  │ 3     │ 4     │ 0.866452  │ -0.0915275 │ j      │\n",
      "│ 11  │ 3     │ 4     │ 1.17851   │ 0.972369   │ k      │\n",
      "│ 12  │ 3     │ 4     │ 1.07702   │ 0.383018   │ l      │24×5 DataFrame\n",
      "│ Row │ variable │ value      │ a     │ b     │ e      │\n",
      "│     │ \u001b[90mSymbol\u001b[39m   │ \u001b[90mFloat64\u001b[39m    │ \u001b[90mInt64\u001b[39m │ \u001b[90mInt64\u001b[39m │ \u001b[90mString\u001b[39m │\n",
      "├─────┼──────────┼────────────┼───────┼───────┼────────┤\n",
      "│ 1   │ c        │ 0.384978   │ 1     │ 1     │ a      │\n",
      "│ 2   │ c        │ -1.13122   │ 1     │ 1     │ b      │\n",
      "│ 3   │ c        │ 1.01707    │ 1     │ 1     │ c      │\n",
      "│ 4   │ c        │ 0.754478   │ 1     │ 2     │ d      │\n",
      "│ 5   │ c        │ 0.920078   │ 2     │ 2     │ e      │\n",
      "│ 6   │ c        │ -0.474515  │ 2     │ 2     │ f      │\n",
      "│ 7   │ c        │ -0.414077  │ 2     │ 3     │ g      │\n",
      "│ 8   │ c        │ 0.672416   │ 2     │ 3     │ h      │\n",
      "│ 9   │ c        │ 0.291337   │ 3     │ 3     │ i      │\n",
      "│ 10  │ c        │ 0.866452   │ 3     │ 4     │ j      │\n",
      "⋮\n",
      "│ 14  │ d        │ 0.818782   │ 1     │ 1     │ b      │\n",
      "│ 15  │ d        │ 2.34398    │ 1     │ 1     │ c      │\n",
      "│ 16  │ d        │ -0.613375  │ 1     │ 2     │ d      │\n",
      "│ 17  │ d        │ -0.598828  │ 2     │ 2     │ e      │\n",
      "│ 18  │ d        │ -0.621555  │ 2     │ 2     │ f      │\n",
      "│ 19  │ d        │ -0.595243  │ 2     │ 3     │ g      │\n",
      "│ 20  │ d        │ 0.148809   │ 2     │ 3     │ h      │\n",
      "│ 21  │ d        │ 0.715675   │ 3     │ 3     │ i      │\n",
      "│ 22  │ d        │ -0.0915275 │ 3     │ 4     │ j      │\n",
      "│ 23  │ d        │ 0.972369   │ 3     │ 4     │ k      │\n",
      "│ 24  │ d        │ 0.383018   │ 3     │ 4     │ l      │"
     ]
    }
   ],
   "source": [
    "d1 = DataFrame(a = repeat([1:3;], inner = [4]),\n",
    "               b = repeat([1:4;], inner = [3]),\n",
    "               c = randn(12),\n",
    "               d = randn(12),\n",
    "               e = map(string, 'a':'l'))\n",
    "show(d1)\n",
    "d1s = stack(d1,[:c,:d])\n",
    "show(d1s)"
   ]
  },
  {
   "cell_type": "code",
   "execution_count": 44,
   "metadata": {},
   "outputs": [
    {
     "data": {
      "text/html": [
       "<table class=\"data-frame\"><thead><tr><th></th><th>variable</th><th>value</th><th>a</th></tr><tr><th></th><th>Symbol</th><th>Float64</th><th>Int64</th></tr></thead><tbody><p>24 rows × 3 columns</p><tr><th>1</th><td>c</td><td>0.384978</td><td>1</td></tr><tr><th>2</th><td>c</td><td>-1.13122</td><td>1</td></tr><tr><th>3</th><td>c</td><td>1.01707</td><td>1</td></tr><tr><th>4</th><td>c</td><td>0.754478</td><td>1</td></tr><tr><th>5</th><td>c</td><td>0.920078</td><td>2</td></tr><tr><th>6</th><td>c</td><td>-0.474515</td><td>2</td></tr><tr><th>7</th><td>c</td><td>-0.414077</td><td>2</td></tr><tr><th>8</th><td>c</td><td>0.672416</td><td>2</td></tr><tr><th>9</th><td>c</td><td>0.291337</td><td>3</td></tr><tr><th>10</th><td>c</td><td>0.866452</td><td>3</td></tr><tr><th>11</th><td>c</td><td>1.17851</td><td>3</td></tr><tr><th>12</th><td>c</td><td>1.07702</td><td>3</td></tr><tr><th>13</th><td>d</td><td>-2.07613</td><td>1</td></tr><tr><th>14</th><td>d</td><td>0.818782</td><td>1</td></tr><tr><th>15</th><td>d</td><td>2.34398</td><td>1</td></tr><tr><th>16</th><td>d</td><td>-0.613375</td><td>1</td></tr><tr><th>17</th><td>d</td><td>-0.598828</td><td>2</td></tr><tr><th>18</th><td>d</td><td>-0.621555</td><td>2</td></tr><tr><th>19</th><td>d</td><td>-0.595243</td><td>2</td></tr><tr><th>20</th><td>d</td><td>0.148809</td><td>2</td></tr><tr><th>21</th><td>d</td><td>0.715675</td><td>3</td></tr><tr><th>22</th><td>d</td><td>-0.0915275</td><td>3</td></tr><tr><th>23</th><td>d</td><td>0.972369</td><td>3</td></tr><tr><th>24</th><td>d</td><td>0.383018</td><td>3</td></tr></tbody></table>"
      ],
      "text/latex": [
       "\\begin{tabular}{r|ccc}\n",
       "\t& variable & value & a\\\\\n",
       "\t\\hline\n",
       "\t& Symbol & Float64 & Int64\\\\\n",
       "\t\\hline\n",
       "\t1 & c & 0.384978 & 1 \\\\\n",
       "\t2 & c & -1.13122 & 1 \\\\\n",
       "\t3 & c & 1.01707 & 1 \\\\\n",
       "\t4 & c & 0.754478 & 1 \\\\\n",
       "\t5 & c & 0.920078 & 2 \\\\\n",
       "\t6 & c & -0.474515 & 2 \\\\\n",
       "\t7 & c & -0.414077 & 2 \\\\\n",
       "\t8 & c & 0.672416 & 2 \\\\\n",
       "\t9 & c & 0.291337 & 3 \\\\\n",
       "\t10 & c & 0.866452 & 3 \\\\\n",
       "\t11 & c & 1.17851 & 3 \\\\\n",
       "\t12 & c & 1.07702 & 3 \\\\\n",
       "\t13 & d & -2.07613 & 1 \\\\\n",
       "\t14 & d & 0.818782 & 1 \\\\\n",
       "\t15 & d & 2.34398 & 1 \\\\\n",
       "\t16 & d & -0.613375 & 1 \\\\\n",
       "\t17 & d & -0.598828 & 2 \\\\\n",
       "\t18 & d & -0.621555 & 2 \\\\\n",
       "\t19 & d & -0.595243 & 2 \\\\\n",
       "\t20 & d & 0.148809 & 2 \\\\\n",
       "\t21 & d & 0.715675 & 3 \\\\\n",
       "\t22 & d & -0.0915275 & 3 \\\\\n",
       "\t23 & d & 0.972369 & 3 \\\\\n",
       "\t24 & d & 0.383018 & 3 \\\\\n",
       "\\end{tabular}\n"
      ],
      "text/plain": [
       "24×3 DataFrame\n",
       "│ Row │ variable │ value      │ a     │\n",
       "│     │ \u001b[90mSymbol\u001b[39m   │ \u001b[90mFloat64\u001b[39m    │ \u001b[90mInt64\u001b[39m │\n",
       "├─────┼──────────┼────────────┼───────┤\n",
       "│ 1   │ c        │ 0.384978   │ 1     │\n",
       "│ 2   │ c        │ -1.13122   │ 1     │\n",
       "│ 3   │ c        │ 1.01707    │ 1     │\n",
       "│ 4   │ c        │ 0.754478   │ 1     │\n",
       "│ 5   │ c        │ 0.920078   │ 2     │\n",
       "│ 6   │ c        │ -0.474515  │ 2     │\n",
       "│ 7   │ c        │ -0.414077  │ 2     │\n",
       "│ 8   │ c        │ 0.672416   │ 2     │\n",
       "│ 9   │ c        │ 0.291337   │ 3     │\n",
       "│ 10  │ c        │ 0.866452   │ 3     │\n",
       "⋮\n",
       "│ 14  │ d        │ 0.818782   │ 1     │\n",
       "│ 15  │ d        │ 2.34398    │ 1     │\n",
       "│ 16  │ d        │ -0.613375  │ 1     │\n",
       "│ 17  │ d        │ -0.598828  │ 2     │\n",
       "│ 18  │ d        │ -0.621555  │ 2     │\n",
       "│ 19  │ d        │ -0.595243  │ 2     │\n",
       "│ 20  │ d        │ 0.148809   │ 2     │\n",
       "│ 21  │ d        │ 0.715675   │ 3     │\n",
       "│ 22  │ d        │ -0.0915275 │ 3     │\n",
       "│ 23  │ d        │ 0.972369   │ 3     │\n",
       "│ 24  │ d        │ 0.383018   │ 3     │"
      ]
     },
     "execution_count": 44,
     "metadata": {},
     "output_type": "execute_result"
    }
   ],
   "source": [
    "d1s2 = stack(d1, [:c, :d], [:a])"
   ]
  },
  {
   "cell_type": "code",
   "execution_count": null,
   "metadata": {},
   "outputs": [],
   "source": []
  }
 ],
 "metadata": {
  "@webio": {
   "lastCommId": null,
   "lastKernelId": null
  },
  "kernelspec": {
   "display_name": "Julia 1.4.0",
   "language": "julia",
   "name": "julia-1.4"
  },
  "language_info": {
   "file_extension": ".jl",
   "mimetype": "application/julia",
   "name": "julia",
   "version": "1.4.0"
  }
 },
 "nbformat": 4,
 "nbformat_minor": 4
}
