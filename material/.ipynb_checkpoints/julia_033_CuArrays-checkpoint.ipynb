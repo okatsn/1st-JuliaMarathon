{
 "cells": [
  {
   "cell_type": "markdown",
   "metadata": {},
   "source": [
    "# Julia 深度學習：卷積神經網路模型簡介"
   ]
  },
  {
   "cell_type": "markdown",
   "metadata": {},
   "source": [
    "本範例有可選用套件 CuArrays，請在執行以下範例前先安裝。\n",
    "\n",
    "```\n",
    "] add CuArrays\n",
    "```"
   ]
  },
  {
   "cell_type": "code",
   "execution_count": 1,
   "metadata": {},
   "outputs": [],
   "source": [
    "# using Pkg\n",
    "# Pkg.add(\"CuArrays\")"
   ]
  },
  {
   "cell_type": "code",
   "execution_count": 2,
   "metadata": {},
   "outputs": [],
   "source": [
    "# if error occurred during precompling Flux, close jupyter and re-open as administrator\n",
    "using Flux\n",
    "using Flux.Data: DataLoader\n",
    "using Flux: @epochs, onecold, onehotbatch, throttle, logitcrossentropy\n",
    "using MLDatasets\n",
    "using Statistics"
   ]
  },
  {
   "cell_type": "markdown",
   "metadata": {},
   "source": [
    "## 載入資料"
   ]
  },
  {
   "cell_type": "code",
   "execution_count": 3,
   "metadata": {},
   "outputs": [
    {
     "name": "stdout",
     "output_type": "stream",
     "text": [
      "Training data X: type = Array{Float32,3}, size = (28, 28, 60000)\n",
      "Training data y: type = Array{Int64,1}, size = (60000,)\n",
      "Testing data X: type = Array{Float32,3}, size = (28, 28, 10000)\n",
      "Testing data y: type = Array{Int64,1}, size = (10000,)\n"
     ]
    }
   ],
   "source": [
    "train_X, train_y = MNIST.traindata(Float32)\n",
    "test_X, test_y = MNIST.testdata(Float32)\n",
    "println(\"Training data X: type = $(typeof(train_X)), size = $(size(train_X))\")\n",
    "println(\"Training data y: type = $(typeof(train_y)), size = $(size(train_y))\")\n",
    "println(\"Testing data X: type = $(typeof(test_X)), size = $(size(test_X))\")\n",
    "println(\"Testing data y: type = $(typeof(test_y)), size = $(size(test_y))\")"
   ]
  },
  {
   "cell_type": "code",
   "execution_count": 4,
   "metadata": {},
   "outputs": [
    {
     "name": "stdout",
     "output_type": "stream",
     "text": [
      "Training data X: type = Array{Float32,4}, size = (28, 28, 1, 60000)\n",
      "Testing data X: type = Array{Float32,4}, size = (28, 28, 1, 10000)\n",
      "Training data y: type = Flux.OneHotMatrix{Array{Flux.OneHotVector,1}}, size = (10, 60000)\n",
      "Testing data y: type = Flux.OneHotMatrix{Array{Flux.OneHotVector,1}}, size = (10, 10000)\n"
     ]
    }
   ],
   "source": [
    "train_X = reshape(train_X, 28, 28, 1, :)\n",
    "test_X = reshape(test_X, 28, 28, 1, :)\n",
    "train_y = onehotbatch(train_y, 0:9)\n",
    "test_y = onehotbatch(test_y, 0:9)\n",
    "println(\"Training data X: type = $(typeof(train_X)), size = $(size(train_X))\")\n",
    "println(\"Testing data X: type = $(typeof(test_X)), size = $(size(test_X))\")\n",
    "println(\"Training data y: type = $(typeof(train_y)), size = $(size(train_y))\")\n",
    "println(\"Testing data y: type = $(typeof(test_y)), size = $(size(test_y))\")"
   ]
  },
  {
   "cell_type": "code",
   "execution_count": 5,
   "metadata": {},
   "outputs": [
    {
     "data": {
      "text/plain": [
       "DataLoader((Float32[0.0 0.0 … 0.0 0.0; 0.0 0.0 … 0.0 0.0; … ; 0.0 0.0 … 0.0 0.0; 0.0 0.0 … 0.0 0.0]\n",
       "\n",
       "Float32[0.0 0.0 … 0.0 0.0; 0.0 0.0 … 0.0 0.0; … ; 0.0 0.0 … 0.0 0.0; 0.0 0.0 … 0.0 0.0]\n",
       "\n",
       "Float32[0.0 0.0 … 0.0 0.0; 0.0 0.0 … 0.0 0.0; … ; 0.0 0.0 … 0.0 0.0; 0.0 0.0 … 0.0 0.0]\n",
       "\n",
       "...\n",
       "\n",
       "Float32[0.0 0.0 … 0.0 0.0; 0.0 0.0 … 0.0 0.0; … ; 0.0 0.0 … 0.0 0.0; 0.0 0.0 … 0.0 0.0]\n",
       "\n",
       "Float32[0.0 0.0 … 0.0 0.0; 0.0 0.0 … 0.0 0.0; … ; 0.0 0.0 … 0.0 0.0; 0.0 0.0 … 0.0 0.0]\n",
       "\n",
       "Float32[0.0 0.0 … 0.0 0.0; 0.0 0.0 … 0.0 0.0; … ; 0.0 0.0 … 0.0 0.0; 0.0 0.0 … 0.0 0.0], Bool[0 0 … 0 0; 0 0 … 0 0; … ; 0 0 … 0 0; 0 0 … 0 0]), 1024, 10000, true, 10000, [1, 2, 3, 4, 5, 6, 7, 8, 9, 10  …  9991, 9992, 9993, 9994, 9995, 9996, 9997, 9998, 9999, 10000], false)"
      ]
     },
     "execution_count": 5,
     "metadata": {},
     "output_type": "execute_result"
    }
   ],
   "source": [
    "batchsize = 1024\n",
    "train = DataLoader(train_X, train_y, batchsize=batchsize, shuffle=true)\n",
    "test = DataLoader(test_X, test_y, batchsize=batchsize)"
   ]
  },
  {
   "cell_type": "markdown",
   "metadata": {},
   "source": [
    "## CNN (convolutional neural networks) 模型"
   ]
  },
  {
   "cell_type": "markdown",
   "metadata": {},
   "source": [
    "\n",
    "\n",
    "#### `Flux.MaxPool`\n",
    "\n",
    "<img src=\"maxpoolExplain.png\" width=400/>\n",
    "\n",
    "- `MaxPool(k; pad = 0, stride = k)`\n",
    "    - Max pooling layer. k is the size of the window for each dimension of the input.\n",
    "    \n",
    "- [Max-pooling](https://computersciencewiki.org/index.php/Max-pooling_/_Pooling)\n",
    "    - a sample-based discretization process\n",
    "    - to down-sample an input representation\n",
    "    - to help over-fitting by providing an abstracted form of the representation\n",
    "    - reduces the computational cost \n",
    "    - `MeanPool` works in a similar way but using a `mean` filter instead of the `max`.\n",
    " \n",
    "#### convolutonal layer\n",
    "\n",
    "<img src=\"ConvExplain.png\" width=400/>\n",
    "\n",
    "- `Conv((3, 3), 1=>16, pad=(1,1), relu)`\n",
    "    - Apply a Conv layer to a **1**-channel input using a **3×3** window size, giving us a **16**-channel output. Output is activated with **ReLU**.\n",
    "- `Conv((3, 3), 16=>32, pad=(1,1), relu)`\n",
    "    - Apply a Conv layer to a **16**-channel input using a **3×3** window size, giving us a **32**-channel output. Output is activated with **ReLU**.\n",
    "\n",
    "Feature map\n",
    "\n",
    "- 一般卷積網路過程中，除了Input image不稱為Feature map外，中間產生的圖我們都稱之為Feature map，原因很簡單就是這些中間產生的圖都是為了「描繪出該任務所應該產生對應的特徵資料」\n",
    "    \n",
    "一個卷積計算基本上有幾個部份:\n",
    "\n",
    "- 輸入的圖: 假設大小是W × W。\n",
    "- Filter (kernel map)大小是 ks × ks\n",
    "- Stride: kernel map在移動時的步伐長度 S\n",
    "- 輸出的圖大小為 new_height × new_width\n",
    "\n",
    "Padding\n",
    "- 卷積後的圖內縮的格數。[更多](https://medium.com/@chih.sheng.huang821/%E5%8D%B7%E7%A9%8D%E7%A5%9E%E7%B6%93%E7%B6%B2%E8%B7%AF-convolutional-neural-network-cnn-%E5%8D%B7%E7%A9%8D%E8%A8%88%E7%AE%97%E4%B8%AD%E7%9A%84%E6%AD%A5%E4%BC%90-stride-%E5%92%8C%E5%A1%AB%E5%85%85-padding-94449e638e82)"
   ]
  },
  {
   "cell_type": "code",
   "execution_count": 6,
   "metadata": {},
   "outputs": [
    {
     "data": {
      "text/plain": [
       "Chain(Conv((3, 3), 1=>16, relu), MaxPool((2, 2), pad = (0, 0, 0, 0), stride = (2, 2)), Conv((3, 3), 16=>32, relu), MaxPool((2, 2), pad = (0, 0, 0, 0), stride = (2, 2)), Conv((3, 3), 32=>32, relu), MaxPool((2, 2), pad = (0, 0, 0, 0), stride = (2, 2)), flatten, Dense(288, 10), softmax)"
      ]
     },
     "execution_count": 6,
     "metadata": {},
     "output_type": "execute_result"
    }
   ],
   "source": [
    "model = Chain(\n",
    "    Conv((3, 3), 1=>16, pad=(1,1), relu),\n",
    "    MaxPool((2,2)),\n",
    "    Conv((3, 3), 16=>32, pad=(1,1), relu),\n",
    "    MaxPool((2,2)),\n",
    "    Conv((3, 3), 32=>32, pad=(1,1), relu),\n",
    "    MaxPool((2,2)),\n",
    "    flatten,\n",
    "    Dense(288, 10),\n",
    "    softmax)"
   ]
  },
  {
   "cell_type": "markdown",
   "metadata": {},
   "source": [
    "## 使用 CUDA"
   ]
  },
  {
   "cell_type": "code",
   "execution_count": 7,
   "metadata": {},
   "outputs": [],
   "source": [
    "using CuArrays"
   ]
  },
  {
   "cell_type": "code",
   "execution_count": 20,
   "metadata": {},
   "outputs": [
    {
     "data": {
      "text/plain": [
       "10×10000 Flux.OneHotMatrix{CuArray{Flux.OneHotVector,1,Nothing}}:\n",
       " 0  0  0  1  0  0  0  0  0  0  1  0  0  …  0  0  0  0  0  1  0  0  0  0  0  0\n",
       " 0  0  1  0  0  1  0  0  0  0  0  0  0     0  0  0  0  0  0  1  0  0  0  0  0\n",
       " 0  1  0  0  0  0  0  0  0  0  0  0  0     0  0  0  0  0  0  0  1  0  0  0  0\n",
       " 0  0  0  0  0  0  0  0  0  0  0  0  0     0  0  0  0  0  0  0  0  1  0  0  0\n",
       " 0  0  0  0  1  0  1  0  0  0  0  0  0     0  0  0  0  0  0  0  0  0  1  0  0\n",
       " 0  0  0  0  0  0  0  0  1  0  0  0  0  …  1  0  0  0  0  0  0  0  0  0  1  0\n",
       " 0  0  0  0  0  0  0  0  0  0  0  1  0     0  1  0  0  0  0  0  0  0  0  0  1\n",
       " 1  0  0  0  0  0  0  0  0  0  0  0  0     0  0  1  0  0  0  0  0  0  0  0  0\n",
       " 0  0  0  0  0  0  0  0  0  0  0  0  0     0  0  0  1  0  0  0  0  0  0  0  0\n",
       " 0  0  0  0  0  0  0  1  0  1  0  0  1     0  0  0  0  1  0  0  0  0  0  0  0"
      ]
     },
     "execution_count": 20,
     "metadata": {},
     "output_type": "execute_result"
    }
   ],
   "source": [
    "model = model |> gpu\n",
    "train_X = train_X |> gpu\n",
    "train_y = train_y |> gpu\n",
    "test_X = test_X |> gpu\n",
    "test_y = test_y |> gpu\n",
    "# there is a warning, feel free to ignore it (by ZK 2020-05-29)"
   ]
  },
  {
   "cell_type": "markdown",
   "metadata": {},
   "source": [
    "## 損失函數"
   ]
  },
  {
   "cell_type": "code",
   "execution_count": 21,
   "metadata": {},
   "outputs": [
    {
     "data": {
      "text/plain": [
       "loss (generic function with 1 method)"
      ]
     },
     "execution_count": 21,
     "metadata": {},
     "output_type": "execute_result"
    }
   ],
   "source": [
    "loss(x, y) = logitcrossentropy(model(x), y)"
   ]
  },
  {
   "cell_type": "markdown",
   "metadata": {},
   "source": [
    "## Callback 函式"
   ]
  },
  {
   "cell_type": "code",
   "execution_count": 22,
   "metadata": {},
   "outputs": [
    {
     "data": {
      "text/plain": [
       "evalcb (generic function with 1 method)"
      ]
     },
     "execution_count": 22,
     "metadata": {},
     "output_type": "execute_result"
    }
   ],
   "source": [
    "function test_loss()\n",
    "    l = 0f0\n",
    "    for (x, y) in test\n",
    "        l += loss(x, y)\n",
    "    end\n",
    "    l/length(test)\n",
    "end\n",
    "evalcb() = @show(test_loss())"
   ]
  },
  {
   "cell_type": "markdown",
   "metadata": {},
   "source": [
    "## 模型訓練"
   ]
  },
  {
   "cell_type": "markdown",
   "metadata": {},
   "source": [
    "#### hyper parameter"
   ]
  },
  {
   "cell_type": "code",
   "execution_count": 23,
   "metadata": {},
   "outputs": [],
   "source": [
    "# ZK's setting\n",
    "learining_rate = 0.002;\n",
    "decay = 0.1;\n",
    "decay_step = 1;\n",
    "clip = 1e-4;\n",
    "optimizer = Flux.Optimiser(ExpDecay(learining_rate, decay, decay_step, clip), ADAM(learining_rate));"
   ]
  },
  {
   "cell_type": "code",
   "execution_count": 24,
   "metadata": {},
   "outputs": [
    {
     "name": "stderr",
     "output_type": "stream",
     "text": [
      "┌ Info: Epoch 1\n",
      "└ @ Main C:\\Users\\HSI\\.julia\\packages\\Flux\\Fj3bt\\src\\optimise\\train.jl:121\n"
     ]
    },
    {
     "ename": "TaskFailedException",
     "evalue": "TaskFailedException:\nMethodError: no method matching gemm!(::Val{false}, ::Val{false}, ::Int64, ::Int64, ::Int64, ::Float32, ::Ptr{Float32}, ::CUDAdrv.CuPtr{Float32}, ::Float32, ::Ptr{Float32})\nClosest candidates are:\n  gemm!(::Val, ::Val, ::Int64, ::Int64, ::Int64, ::Float32, ::Ptr{Float32}, !Matched::Ptr{Float32}, ::Float32, ::Ptr{Float32}) at C:\\Users\\HSI\\.julia\\packages\\NNlib\\FAI3o\\src\\gemm.jl:35\n  gemm!(::Val, ::Val, ::Int64, ::Int64, ::Int64, !Matched::Float64, !Matched::Ptr{Float64}, !Matched::Ptr{Float64}, !Matched::Float64, !Matched::Ptr{Float64}) at C:\\Users\\HSI\\.julia\\packages\\NNlib\\FAI3o\\src\\gemm.jl:35\n  gemm!(::Val, ::Val, ::Int64, ::Int64, ::Int64, !Matched::Complex{Float64}, !Matched::Ptr{Complex{Float64}}, !Matched::Ptr{Complex{Float64}}, !Matched::Complex{Float64}, !Matched::Ptr{Complex{Float64}}) at C:\\Users\\HSI\\.julia\\packages\\NNlib\\FAI3o\\src\\gemm.jl:35\n  ...\nStacktrace:\n [1] macro expansion at C:\\Users\\HSI\\.julia\\packages\\NNlib\\FAI3o\\src\\impl\\conv_im2col.jl:58 [inlined]\n [2] (::NNlib.var\"#343#threadsfor_fun#160\"{Array{Float32,3},Float32,Float32,Array{Float32,5},Array{Float32,5},CuArray{Float32,5,CuArray{Float32,4,Nothing}},DenseConvDims{3,(3, 3, 1),1,16,(1, 1, 1),(1, 1, 1, 1, 0, 0),(1, 1, 1),false},Int64,Int64,Int64,UnitRange{Int64}})(::Bool) at .\\threadingconstructs.jl:61\n [3] (::NNlib.var\"#343#threadsfor_fun#160\"{Array{Float32,3},Float32,Float32,Array{Float32,5},Array{Float32,5},CuArray{Float32,5,CuArray{Float32,4,Nothing}},DenseConvDims{3,(3, 3, 1),1,16,(1, 1, 1),(1, 1, 1, 1, 0, 0),(1, 1, 1),false},Int64,Int64,Int64,UnitRange{Int64}})() at .\\threadingconstructs.jl:28",
     "output_type": "error",
     "traceback": [
      "TaskFailedException:\nMethodError: no method matching gemm!(::Val{false}, ::Val{false}, ::Int64, ::Int64, ::Int64, ::Float32, ::Ptr{Float32}, ::CUDAdrv.CuPtr{Float32}, ::Float32, ::Ptr{Float32})\nClosest candidates are:\n  gemm!(::Val, ::Val, ::Int64, ::Int64, ::Int64, ::Float32, ::Ptr{Float32}, !Matched::Ptr{Float32}, ::Float32, ::Ptr{Float32}) at C:\\Users\\HSI\\.julia\\packages\\NNlib\\FAI3o\\src\\gemm.jl:35\n  gemm!(::Val, ::Val, ::Int64, ::Int64, ::Int64, !Matched::Float64, !Matched::Ptr{Float64}, !Matched::Ptr{Float64}, !Matched::Float64, !Matched::Ptr{Float64}) at C:\\Users\\HSI\\.julia\\packages\\NNlib\\FAI3o\\src\\gemm.jl:35\n  gemm!(::Val, ::Val, ::Int64, ::Int64, ::Int64, !Matched::Complex{Float64}, !Matched::Ptr{Complex{Float64}}, !Matched::Ptr{Complex{Float64}}, !Matched::Complex{Float64}, !Matched::Ptr{Complex{Float64}}) at C:\\Users\\HSI\\.julia\\packages\\NNlib\\FAI3o\\src\\gemm.jl:35\n  ...\nStacktrace:\n [1] macro expansion at C:\\Users\\HSI\\.julia\\packages\\NNlib\\FAI3o\\src\\impl\\conv_im2col.jl:58 [inlined]\n [2] (::NNlib.var\"#343#threadsfor_fun#160\"{Array{Float32,3},Float32,Float32,Array{Float32,5},Array{Float32,5},CuArray{Float32,5,CuArray{Float32,4,Nothing}},DenseConvDims{3,(3, 3, 1),1,16,(1, 1, 1),(1, 1, 1, 1, 0, 0),(1, 1, 1),false},Int64,Int64,Int64,UnitRange{Int64}})(::Bool) at .\\threadingconstructs.jl:61\n [3] (::NNlib.var\"#343#threadsfor_fun#160\"{Array{Float32,3},Float32,Float32,Array{Float32,5},Array{Float32,5},CuArray{Float32,5,CuArray{Float32,4,Nothing}},DenseConvDims{3,(3, 3, 1),1,16,(1, 1, 1),(1, 1, 1, 1, 0, 0),(1, 1, 1),false},Int64,Int64,Int64,UnitRange{Int64}})() at .\\threadingconstructs.jl:28",
      "",
      "Stacktrace:",
      " [1] wait(::Task) at .\\task.jl:267",
      " [2] macro expansion at .\\threadingconstructs.jl:69 [inlined]",
      " [3] conv_im2col!(::Array{Float32,5}, ::Array{Float32,5}, ::CuArray{Float32,5,CuArray{Float32,4,Nothing}}, ::DenseConvDims{3,(3, 3, 1),1,16,(1, 1, 1),(1, 1, 1, 1, 0, 0),(1, 1, 1),false}; col::Array{Float32,3}, alpha::Float32, beta::Float32) at C:\\Users\\HSI\\.julia\\packages\\NNlib\\FAI3o\\src\\impl\\conv_im2col.jl:49",
      " [4] conv_im2col! at C:\\Users\\HSI\\.julia\\packages\\NNlib\\FAI3o\\src\\impl\\conv_im2col.jl:30 [inlined]",
      " [5] #conv!#41 at C:\\Users\\HSI\\.julia\\packages\\NNlib\\FAI3o\\src\\conv.jl:53 [inlined]",
      " [6] conv!(::Array{Float32,5}, ::Array{Float32,5}, ::CuArray{Float32,5,CuArray{Float32,4,Nothing}}, ::DenseConvDims{3,(3, 3, 1),1,16,(1, 1, 1),(1, 1, 1, 1, 0, 0),(1, 1, 1),false}) at C:\\Users\\HSI\\.julia\\packages\\NNlib\\FAI3o\\src\\conv.jl:53",
      " [7] conv!(::Array{Float32,4}, ::Array{Float32,4}, ::CuArray{Float32,4,Nothing}, ::DenseConvDims{2,(3, 3),1,16,(1, 1),(1, 1, 1, 1),(1, 1),false}; kwargs::Base.Iterators.Pairs{Union{},Union{},Tuple{},NamedTuple{(),Tuple{}}}) at C:\\Users\\HSI\\.julia\\packages\\NNlib\\FAI3o\\src\\conv.jl:70",
      " [8] conv! at C:\\Users\\HSI\\.julia\\packages\\NNlib\\FAI3o\\src\\conv.jl:70 [inlined]",
      " [9] conv(::Array{Float32,4}, ::CuArray{Float32,4,Nothing}, ::DenseConvDims{2,(3, 3),1,16,(1, 1),(1, 1, 1, 1),(1, 1),false}; kwargs::Base.Iterators.Pairs{Union{},Union{},Tuple{},NamedTuple{(),Tuple{}}}) at C:\\Users\\HSI\\.julia\\packages\\NNlib\\FAI3o\\src\\conv.jl:116",
      " [10] conv(::Array{Float32,4}, ::CuArray{Float32,4,Nothing}, ::DenseConvDims{2,(3, 3),1,16,(1, 1),(1, 1, 1, 1),(1, 1),false}) at C:\\Users\\HSI\\.julia\\packages\\NNlib\\FAI3o\\src\\conv.jl:114",
      " [11] #adjoint#1831 at C:\\Users\\HSI\\.julia\\packages\\Zygote\\YeCEW\\src\\lib\\nnlib.jl:26 [inlined]",
      " [12] adjoint at .\\none:0 [inlined]",
      " [13] _pullback at C:\\Users\\HSI\\.julia\\packages\\ZygoteRules\\6nssF\\src\\adjoint.jl:47 [inlined]",
      " [14] Conv at C:\\Users\\HSI\\.julia\\packages\\Flux\\Fj3bt\\src\\layers\\conv.jl:61 [inlined]",
      " [15] _pullback(::Zygote.Context, ::Conv{2,2,typeof(relu),CuArray{Float32,4,Nothing},CuArray{Float32,1,Nothing}}, ::Array{Float32,4}) at C:\\Users\\HSI\\.julia\\packages\\Zygote\\YeCEW\\src\\compiler\\interface2.jl:0",
      " [16] applychain at C:\\Users\\HSI\\.julia\\packages\\Flux\\Fj3bt\\src\\layers\\basic.jl:36 [inlined]",
      " [17] _pullback(::Zygote.Context, ::typeof(Flux.applychain), ::Tuple{Conv{2,2,typeof(relu),CuArray{Float32,4,Nothing},CuArray{Float32,1,Nothing}},MaxPool{2,4},Conv{2,2,typeof(relu),CuArray{Float32,4,Nothing},CuArray{Float32,1,Nothing}},MaxPool{2,4},Conv{2,2,typeof(relu),CuArray{Float32,4,Nothing},CuArray{Float32,1,Nothing}},MaxPool{2,4},typeof(flatten),Dense{typeof(identity),CuArray{Float32,2,Nothing},CuArray{Float32,1,Nothing}},typeof(softmax)}, ::Array{Float32,4}) at C:\\Users\\HSI\\.julia\\packages\\Zygote\\YeCEW\\src\\compiler\\interface2.jl:0",
      " [18] Chain at C:\\Users\\HSI\\.julia\\packages\\Flux\\Fj3bt\\src\\layers\\basic.jl:38 [inlined]",
      " [19] _pullback(::Zygote.Context, ::Chain{Tuple{Conv{2,2,typeof(relu),CuArray{Float32,4,Nothing},CuArray{Float32,1,Nothing}},MaxPool{2,4},Conv{2,2,typeof(relu),CuArray{Float32,4,Nothing},CuArray{Float32,1,Nothing}},MaxPool{2,4},Conv{2,2,typeof(relu),CuArray{Float32,4,Nothing},CuArray{Float32,1,Nothing}},MaxPool{2,4},typeof(flatten),Dense{typeof(identity),CuArray{Float32,2,Nothing},CuArray{Float32,1,Nothing}},typeof(softmax)}}, ::Array{Float32,4}) at C:\\Users\\HSI\\.julia\\packages\\Zygote\\YeCEW\\src\\compiler\\interface2.jl:0",
      " [20] loss at .\\In[21]:1 [inlined]",
      " [21] _pullback(::Zygote.Context, ::typeof(loss), ::Array{Float32,4}, ::Flux.OneHotMatrix{Array{Flux.OneHotVector,1}}) at C:\\Users\\HSI\\.julia\\packages\\Zygote\\YeCEW\\src\\compiler\\interface2.jl:0",
      " [22] adjoint at C:\\Users\\HSI\\.julia\\packages\\Zygote\\YeCEW\\src\\lib\\lib.jl:179 [inlined]",
      " [23] _pullback at C:\\Users\\HSI\\.julia\\packages\\ZygoteRules\\6nssF\\src\\adjoint.jl:47 [inlined]",
      " [24] #17 at C:\\Users\\HSI\\.julia\\packages\\Flux\\Fj3bt\\src\\optimise\\train.jl:89 [inlined]",
      " [25] _pullback(::Zygote.Context, ::Flux.Optimise.var\"#17#25\"{typeof(loss),Tuple{Array{Float32,4},Flux.OneHotMatrix{Array{Flux.OneHotVector,1}}}}) at C:\\Users\\HSI\\.julia\\packages\\Zygote\\YeCEW\\src\\compiler\\interface2.jl:0",
      " [26] pullback(::Function, ::Zygote.Params) at C:\\Users\\HSI\\.julia\\packages\\Zygote\\YeCEW\\src\\compiler\\interface.jl:174",
      " [27] gradient(::Function, ::Zygote.Params) at C:\\Users\\HSI\\.julia\\packages\\Zygote\\YeCEW\\src\\compiler\\interface.jl:54",
      " [28] macro expansion at C:\\Users\\HSI\\.julia\\packages\\Flux\\Fj3bt\\src\\optimise\\train.jl:88 [inlined]",
      " [29] macro expansion at C:\\Users\\HSI\\.julia\\packages\\Juno\\f8hj2\\src\\progress.jl:134 [inlined]",
      " [30] train!(::typeof(loss), ::Zygote.Params, ::DataLoader, ::ADAM; cb::Flux.var\"#throttled#20\"{Flux.var\"#throttled#16#21\"{Bool,Bool,typeof(evalcb),Int64}}) at C:\\Users\\HSI\\.julia\\packages\\Flux\\Fj3bt\\src\\optimise\\train.jl:81",
      " [31] top-level scope at C:\\Users\\HSI\\.julia\\packages\\Flux\\Fj3bt\\src\\optimise\\train.jl:122",
      " [32] top-level scope at C:\\Users\\HSI\\.julia\\packages\\Juno\\f8hj2\\src\\progress.jl:134",
      " [33] top-level scope at In[24]:2"
     ]
    }
   ],
   "source": [
    "epochs = 20\n",
    "@epochs epochs Flux.train!(loss, params(model), train, ADAM(0.005), cb=throttle(evalcb, 10))\n",
    "# @epochs epochs Flux.train!(loss, params(model), train, optimizer, cb=throttle(evalcb, 10))"
   ]
  },
  {
   "cell_type": "markdown",
   "metadata": {},
   "source": [
    "## 模型評估"
   ]
  },
  {
   "cell_type": "code",
   "execution_count": 13,
   "metadata": {},
   "outputs": [
    {
     "data": {
      "text/plain": [
       "accuracy (generic function with 1 method)"
      ]
     },
     "execution_count": 13,
     "metadata": {},
     "output_type": "execute_result"
    }
   ],
   "source": [
    "accuracy(x, y) = mean(onecold(model(x)) .== onecold(y))"
   ]
  },
  {
   "cell_type": "code",
   "execution_count": 14,
   "metadata": {},
   "outputs": [
    {
     "data": {
      "text/plain": [
       "0.1537"
      ]
     },
     "execution_count": 14,
     "metadata": {},
     "output_type": "execute_result"
    }
   ],
   "source": [
    "accuracy(test_X, test_y)"
   ]
  },
  {
   "cell_type": "code",
   "execution_count": null,
   "metadata": {},
   "outputs": [],
   "source": []
  }
 ],
 "metadata": {
  "kernelspec": {
   "display_name": "Julia 1.4.0",
   "language": "julia",
   "name": "julia-1.4"
  },
  "language_info": {
   "file_extension": ".jl",
   "mimetype": "application/julia",
   "name": "julia",
   "version": "1.4.0"
  }
 },
 "nbformat": 4,
 "nbformat_minor": 4
}
