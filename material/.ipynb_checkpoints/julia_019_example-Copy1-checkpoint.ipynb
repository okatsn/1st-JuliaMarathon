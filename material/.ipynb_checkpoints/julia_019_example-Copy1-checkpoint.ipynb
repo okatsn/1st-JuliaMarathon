{
 "cells": [
  {
   "cell_type": "markdown",
   "metadata": {
    "colab_type": "text",
    "id": "r2HQqUoBCZJB"
   },
   "source": [
    "# DataFrames.jl 介紹 (三): Reshaping / Sorting\n",
    "\n",
    "![](https://juliadata.github.io/DataFrames.jl/stable/assets/logo.png)\n",
    "\n",
    "DataFrames.jl 官方網站: [https://juliadata.github.io/DataFrames.jl/stable/](https://juliadata.github.io/DataFrames.jl/stable/)\n",
    "\n",
    "DataFrames.jl GitHub: [https://github.com/JuliaData/DataFrames.jl/blob/master/docs/src/index.md](https://github.com/JuliaData/DataFrames.jl/blob/master/docs/src/index.md)"
   ]
  },
  {
   "cell_type": "markdown",
   "metadata": {
    "colab_type": "text",
    "id": "yAjWWDsJCZJF"
   },
   "source": [
    "## 0. 安裝\n",
    "\n",
    "如果尚未安裝過 DataFrames.jl 的話, 執行 `Pkg.add()` 進行安裝"
   ]
  },
  {
   "cell_type": "code",
   "execution_count": 1,
   "metadata": {
    "colab": {},
    "colab_type": "code",
    "id": "yI8pN8oUCZJG",
    "outputId": "e39ed162-e02b-4378-c931-fd5a06800e2c"
   },
   "outputs": [
    {
     "name": "stdout",
     "output_type": "stream",
     "text": [
      "\u001b[32m\u001b[1m  Updating\u001b[22m\u001b[39m registry at `C:\\Users\\james\\.julia\\registries\\General`\n",
      "\u001b[32m\u001b[1m  Updating\u001b[22m\u001b[39m git-repo `https://github.com/JuliaRegistries/General.git`\n",
      "\u001b[?25l\u001b[2K\u001b[?25h\u001b[32m\u001b[1m Resolving\u001b[22m\u001b[39m package versions...\n",
      "\u001b[32m\u001b[1m  Updating\u001b[22m\u001b[39m `C:\\Users\\james\\.julia\\environments\\v1.2\\Project.toml`\n",
      "\u001b[90m [no changes]\u001b[39m\n",
      "\u001b[32m\u001b[1m  Updating\u001b[22m\u001b[39m `C:\\Users\\james\\.julia\\environments\\v1.2\\Manifest.toml`\n",
      "\u001b[90m [no changes]\u001b[39m\n"
     ]
    }
   ],
   "source": [
    "using Pkg\n",
    "Pkg.add(PackageSpec(name=\"DataFrames\", version=\"0.20.2\"))"
   ]
  },
  {
   "cell_type": "markdown",
   "metadata": {
    "colab_type": "text",
    "id": "xfm7E8WPCZJN"
   },
   "source": [
    "## 1. Reshaping"
   ]
  },
  {
   "cell_type": "code",
   "execution_count": 2,
   "metadata": {
    "colab": {},
    "colab_type": "code",
    "id": "vyBtS8dcCZJP"
   },
   "outputs": [
    {
     "name": "stderr",
     "output_type": "stream",
     "text": [
      "┌ Info: Recompiling stale cache file C:\\Users\\james\\.julia\\compiled\\v1.2\\CSV\\HHBkp.ji for CSV [336ed68f-0bac-5ca0-87d4-7b16caf5d00b]\n",
      "└ @ Base loading.jl:1240\n"
     ]
    }
   ],
   "source": [
    "using DataFrames, CSV"
   ]
  },
  {
   "cell_type": "code",
   "execution_count": 3,
   "metadata": {
    "colab": {},
    "colab_type": "code",
    "id": "s6Q-MngfCZJW",
    "outputId": "199506a0-92bd-4cbe-971b-fb819bc1b601"
   },
   "outputs": [
    {
     "data": {
      "text/html": [
       "<table class=\"data-frame\"><thead><tr><th></th><th>SepalLength</th><th>SepalWidth</th><th>PetalLength</th><th>PetalWidth</th><th>Class</th></tr><tr><th></th><th>Float64</th><th>Float64</th><th>Float64</th><th>Float64</th><th>String</th></tr></thead><tbody><p>5 rows × 5 columns</p><tr><th>1</th><td>5.1</td><td>3.5</td><td>1.4</td><td>0.2</td><td>Iris-setosa</td></tr><tr><th>2</th><td>4.9</td><td>3.0</td><td>1.4</td><td>0.2</td><td>Iris-setosa</td></tr><tr><th>3</th><td>4.7</td><td>3.2</td><td>1.3</td><td>0.2</td><td>Iris-setosa</td></tr><tr><th>4</th><td>4.6</td><td>3.1</td><td>1.5</td><td>0.2</td><td>Iris-setosa</td></tr><tr><th>5</th><td>5.0</td><td>3.6</td><td>1.4</td><td>0.2</td><td>Iris-setosa</td></tr></tbody></table>"
      ],
      "text/latex": [
       "\\begin{tabular}{r|ccccc}\n",
       "\t& SepalLength & SepalWidth & PetalLength & PetalWidth & Class\\\\\n",
       "\t\\hline\n",
       "\t& Float64 & Float64 & Float64 & Float64 & String\\\\\n",
       "\t\\hline\n",
       "\t1 & 5.1 & 3.5 & 1.4 & 0.2 & Iris-setosa \\\\\n",
       "\t2 & 4.9 & 3.0 & 1.4 & 0.2 & Iris-setosa \\\\\n",
       "\t3 & 4.7 & 3.2 & 1.3 & 0.2 & Iris-setosa \\\\\n",
       "\t4 & 4.6 & 3.1 & 1.5 & 0.2 & Iris-setosa \\\\\n",
       "\t5 & 5.0 & 3.6 & 1.4 & 0.2 & Iris-setosa \\\\\n",
       "\\end{tabular}\n"
      ],
      "text/plain": [
       "5×5 DataFrame\n",
       "│ Row │ SepalLength │ SepalWidth │ PetalLength │ PetalWidth │ Class       │\n",
       "│     │ \u001b[90mFloat64\u001b[39m     │ \u001b[90mFloat64\u001b[39m    │ \u001b[90mFloat64\u001b[39m     │ \u001b[90mFloat64\u001b[39m    │ \u001b[90mString\u001b[39m      │\n",
       "├─────┼─────────────┼────────────┼─────────────┼────────────┼─────────────┤\n",
       "│ 1   │ 5.1         │ 3.5        │ 1.4         │ 0.2        │ Iris-setosa │\n",
       "│ 2   │ 4.9         │ 3.0        │ 1.4         │ 0.2        │ Iris-setosa │\n",
       "│ 3   │ 4.7         │ 3.2        │ 1.3         │ 0.2        │ Iris-setosa │\n",
       "│ 4   │ 4.6         │ 3.1        │ 1.5         │ 0.2        │ Iris-setosa │\n",
       "│ 5   │ 5.0         │ 3.6        │ 1.4         │ 0.2        │ Iris-setosa │"
      ]
     },
     "execution_count": 3,
     "metadata": {},
     "output_type": "execute_result"
    }
   ],
   "source": [
    "df = CSV.read(\"iris.csv\", delim=\",\")\n",
    "first(df, 5)"
   ]
  },
  {
   "cell_type": "markdown",
   "metadata": {
    "colab_type": "text",
    "id": "peozUfupCZJb"
   },
   "source": [
    "### stack 與 stackdf"
   ]
  },
  {
   "cell_type": "markdown",
   "metadata": {
    "colab_type": "text",
    "id": "acgURDekCZJc"
   },
   "source": [
    "`stack()` 函式可將 DataFrame 的形狀改變成\"長\"形，也就是將各 column 展開轉為 row 及其對應值，並自動產生兩個新的 column 名為 `variable` 和 `value`。\n",
    "\n",
    "呼叫 `stack()` 指定要展開的 column 時，可以使用 index 值也可以使用 column 名稱。以下範例為使用 index 值，原先 DataFrame 的形狀為 (150, 5)，轉換後變成 (750, 2)。"
   ]
  },
  {
   "cell_type": "code",
   "execution_count": 4,
   "metadata": {
    "colab": {},
    "colab_type": "code",
    "id": "7ejDWYhHCZJd",
    "outputId": "092f08a9-49ba-4f03-90f4-6745cb7954ad"
   },
   "outputs": [
    {
     "data": {
      "text/plain": [
       "(750, 2)"
      ]
     },
     "execution_count": 4,
     "metadata": {},
     "output_type": "execute_result"
    }
   ],
   "source": [
    "longdf = stack(df, 1:5)\n",
    "size(longdf)"
   ]
  },
  {
   "cell_type": "code",
   "execution_count": 5,
   "metadata": {
    "colab": {},
    "colab_type": "code",
    "id": "DU76XEYzCZJi",
    "outputId": "10e45ff5-87b1-4a49-bf78-f0a00132325d"
   },
   "outputs": [
    {
     "data": {
      "text/html": [
       "<table class=\"data-frame\"><thead><tr><th></th><th>variable</th><th>value</th></tr><tr><th></th><th>Symbol</th><th>Any</th></tr></thead><tbody><p>5 rows × 2 columns</p><tr><th>1</th><td>SepalLength</td><td>5.1</td></tr><tr><th>2</th><td>SepalLength</td><td>4.9</td></tr><tr><th>3</th><td>SepalLength</td><td>4.7</td></tr><tr><th>4</th><td>SepalLength</td><td>4.6</td></tr><tr><th>5</th><td>SepalLength</td><td>5.0</td></tr></tbody></table>"
      ],
      "text/latex": [
       "\\begin{tabular}{r|cc}\n",
       "\t& variable & value\\\\\n",
       "\t\\hline\n",
       "\t& Symbol & Any\\\\\n",
       "\t\\hline\n",
       "\t1 & SepalLength & 5.1 \\\\\n",
       "\t2 & SepalLength & 4.9 \\\\\n",
       "\t3 & SepalLength & 4.7 \\\\\n",
       "\t4 & SepalLength & 4.6 \\\\\n",
       "\t5 & SepalLength & 5.0 \\\\\n",
       "\\end{tabular}\n"
      ],
      "text/plain": [
       "5×2 DataFrame\n",
       "│ Row │ variable    │ value │\n",
       "│     │ \u001b[90mSymbol\u001b[39m      │ \u001b[90mAny\u001b[39m   │\n",
       "├─────┼─────────────┼───────┤\n",
       "│ 1   │ SepalLength │ 5.1   │\n",
       "│ 2   │ SepalLength │ 4.9   │\n",
       "│ 3   │ SepalLength │ 4.7   │\n",
       "│ 4   │ SepalLength │ 4.6   │\n",
       "│ 5   │ SepalLength │ 5.0   │"
      ]
     },
     "execution_count": 5,
     "metadata": {},
     "output_type": "execute_result"
    }
   ],
   "source": [
    "first(longdf, 5)"
   ]
  },
  {
   "cell_type": "code",
   "execution_count": 6,
   "metadata": {
    "colab": {},
    "colab_type": "code",
    "id": "tE9B-5jwCZJo",
    "outputId": "2984a6dc-d92d-4b9b-c21e-270c19a1b1d4"
   },
   "outputs": [
    {
     "data": {
      "text/html": [
       "<table class=\"data-frame\"><thead><tr><th></th><th>variable</th><th>value</th></tr><tr><th></th><th>Symbol</th><th>Any</th></tr></thead><tbody><p>5 rows × 2 columns</p><tr><th>1</th><td>Class</td><td>Iris-virginica</td></tr><tr><th>2</th><td>Class</td><td>Iris-virginica</td></tr><tr><th>3</th><td>Class</td><td>Iris-virginica</td></tr><tr><th>4</th><td>Class</td><td>Iris-virginica</td></tr><tr><th>5</th><td>Class</td><td>Iris-virginica</td></tr></tbody></table>"
      ],
      "text/latex": [
       "\\begin{tabular}{r|cc}\n",
       "\t& variable & value\\\\\n",
       "\t\\hline\n",
       "\t& Symbol & Any\\\\\n",
       "\t\\hline\n",
       "\t1 & Class & Iris-virginica \\\\\n",
       "\t2 & Class & Iris-virginica \\\\\n",
       "\t3 & Class & Iris-virginica \\\\\n",
       "\t4 & Class & Iris-virginica \\\\\n",
       "\t5 & Class & Iris-virginica \\\\\n",
       "\\end{tabular}\n"
      ],
      "text/plain": [
       "5×2 DataFrame\n",
       "│ Row │ variable │ value          │\n",
       "│     │ \u001b[90mSymbol\u001b[39m   │ \u001b[90mAny\u001b[39m            │\n",
       "├─────┼──────────┼────────────────┤\n",
       "│ 1   │ Class    │ Iris-virginica │\n",
       "│ 2   │ Class    │ Iris-virginica │\n",
       "│ 3   │ Class    │ Iris-virginica │\n",
       "│ 4   │ Class    │ Iris-virginica │\n",
       "│ 5   │ Class    │ Iris-virginica │"
      ]
     },
     "execution_count": 6,
     "metadata": {},
     "output_type": "execute_result"
    }
   ],
   "source": [
    "last(longdf, 5)"
   ]
  },
  {
   "cell_type": "markdown",
   "metadata": {
    "colab_type": "text",
    "id": "sOyum4j-CZJs"
   },
   "source": [
    "`stackdf()` 函式的功能與 `stack()` 幾乎相同, 差異在於 `stackdf()` 提供的是原 DataFrame 的 view, 所以在記憶體上比較節省, 更適用於大的 dataset."
   ]
  },
  {
   "cell_type": "code",
   "execution_count": 28,
   "metadata": {
    "colab": {},
    "colab_type": "code",
    "id": "rP2Vsx1TCZJt",
    "outputId": "73d495da-29cd-4a6a-84e8-acc0bf7b7aba"
   },
   "outputs": [
    {
     "name": "stderr",
     "output_type": "stream",
     "text": [
      "┌ Warning: `stackdf(args...; kwargs...)` is deprecated, use `stack(args...; kwargs..., view=true)` instead.\n",
      "│   caller = ip:0x0\n",
      "└ @ Core :-1\n"
     ]
    },
    {
     "data": {
      "text/html": [
       "<table class=\"data-frame\"><thead><tr><th></th><th>variable</th><th>value</th><th>Class</th></tr><tr><th></th><th>Symbol</th><th>Any</th><th>String</th></tr></thead><tbody><p>5 rows × 3 columns</p><tr><th>1</th><td>SepalLength</td><td>5.1</td><td>Iris-setosa</td></tr><tr><th>2</th><td>SepalLength</td><td>4.9</td><td>Iris-setosa</td></tr><tr><th>3</th><td>SepalLength</td><td>4.7</td><td>Iris-setosa</td></tr><tr><th>4</th><td>SepalLength</td><td>4.6</td><td>Iris-setosa</td></tr><tr><th>5</th><td>SepalLength</td><td>5.0</td><td>Iris-setosa</td></tr></tbody></table>"
      ],
      "text/latex": [
       "\\begin{tabular}{r|ccc}\n",
       "\t& variable & value & Class\\\\\n",
       "\t\\hline\n",
       "\t& Symbol & Any & String\\\\\n",
       "\t\\hline\n",
       "\t1 & SepalLength & 5.1 & Iris-setosa \\\\\n",
       "\t2 & SepalLength & 4.9 & Iris-setosa \\\\\n",
       "\t3 & SepalLength & 4.7 & Iris-setosa \\\\\n",
       "\t4 & SepalLength & 4.6 & Iris-setosa \\\\\n",
       "\t5 & SepalLength & 5.0 & Iris-setosa \\\\\n",
       "\\end{tabular}\n"
      ],
      "text/plain": [
       "5×3 DataFrame\n",
       "│ Row │ variable    │ value │ Class       │\n",
       "│     │ \u001b[90mSymbol\u001b[39m      │ \u001b[90mAny\u001b[39m   │ \u001b[90mString\u001b[39m      │\n",
       "├─────┼─────────────┼───────┼─────────────┤\n",
       "│ 1   │ SepalLength │ 5.1   │ Iris-setosa │\n",
       "│ 2   │ SepalLength │ 4.9   │ Iris-setosa │\n",
       "│ 3   │ SepalLength │ 4.7   │ Iris-setosa │\n",
       "│ 4   │ SepalLength │ 4.6   │ Iris-setosa │\n",
       "│ 5   │ SepalLength │ 5.0   │ Iris-setosa │"
      ]
     },
     "execution_count": 28,
     "metadata": {},
     "output_type": "execute_result"
    }
   ],
   "source": [
    "stackdf(df)[1:5, :]"
   ]
  },
  {
   "cell_type": "markdown",
   "metadata": {
    "colab_type": "text",
    "id": "FfcmIPPlCZJx"
   },
   "source": [
    "以下範例為使用 column 名稱。"
   ]
  },
  {
   "cell_type": "code",
   "execution_count": 8,
   "metadata": {
    "colab": {},
    "colab_type": "code",
    "id": "ci3oolP9CZJy",
    "outputId": "5669b773-2661-4970-d7ba-42d0ac5b4619"
   },
   "outputs": [
    {
     "data": {
      "text/plain": [
       "(600, 3)"
      ]
     },
     "execution_count": 8,
     "metadata": {},
     "output_type": "execute_result"
    }
   ],
   "source": [
    "longdf = stack(df, [:SepalLength, :SepalWidth, :PetalLength, :PetalWidth])\n",
    "size(longdf)"
   ]
  },
  {
   "cell_type": "code",
   "execution_count": 9,
   "metadata": {
    "colab": {},
    "colab_type": "code",
    "id": "-5lBu6fOCZJ4",
    "outputId": "a6d856ab-7183-44b6-889a-852ed14e7f2f"
   },
   "outputs": [
    {
     "data": {
      "text/html": [
       "<table class=\"data-frame\"><thead><tr><th></th><th>variable</th><th>value</th><th>Class</th></tr><tr><th></th><th>Symbol</th><th>Float64</th><th>String</th></tr></thead><tbody><p>5 rows × 3 columns</p><tr><th>1</th><td>SepalLength</td><td>5.1</td><td>Iris-setosa</td></tr><tr><th>2</th><td>SepalLength</td><td>4.9</td><td>Iris-setosa</td></tr><tr><th>3</th><td>SepalLength</td><td>4.7</td><td>Iris-setosa</td></tr><tr><th>4</th><td>SepalLength</td><td>4.6</td><td>Iris-setosa</td></tr><tr><th>5</th><td>SepalLength</td><td>5.0</td><td>Iris-setosa</td></tr></tbody></table>"
      ],
      "text/latex": [
       "\\begin{tabular}{r|ccc}\n",
       "\t& variable & value & Class\\\\\n",
       "\t\\hline\n",
       "\t& Symbol & Float64 & String\\\\\n",
       "\t\\hline\n",
       "\t1 & SepalLength & 5.1 & Iris-setosa \\\\\n",
       "\t2 & SepalLength & 4.9 & Iris-setosa \\\\\n",
       "\t3 & SepalLength & 4.7 & Iris-setosa \\\\\n",
       "\t4 & SepalLength & 4.6 & Iris-setosa \\\\\n",
       "\t5 & SepalLength & 5.0 & Iris-setosa \\\\\n",
       "\\end{tabular}\n"
      ],
      "text/plain": [
       "5×3 DataFrame\n",
       "│ Row │ variable    │ value   │ Class       │\n",
       "│     │ \u001b[90mSymbol\u001b[39m      │ \u001b[90mFloat64\u001b[39m │ \u001b[90mString\u001b[39m      │\n",
       "├─────┼─────────────┼─────────┼─────────────┤\n",
       "│ 1   │ SepalLength │ 5.1     │ Iris-setosa │\n",
       "│ 2   │ SepalLength │ 4.9     │ Iris-setosa │\n",
       "│ 3   │ SepalLength │ 4.7     │ Iris-setosa │\n",
       "│ 4   │ SepalLength │ 4.6     │ Iris-setosa │\n",
       "│ 5   │ SepalLength │ 5.0     │ Iris-setosa │"
      ]
     },
     "execution_count": 9,
     "metadata": {},
     "output_type": "execute_result"
    }
   ],
   "source": [
    "first(longdf, 5)"
   ]
  },
  {
   "cell_type": "code",
   "execution_count": 10,
   "metadata": {
    "colab": {},
    "colab_type": "code",
    "id": "PjRHw_UYCZJ8",
    "outputId": "78db68e0-982d-4366-ca66-56e9dfc687e2"
   },
   "outputs": [
    {
     "data": {
      "text/html": [
       "<table class=\"data-frame\"><thead><tr><th></th><th>variable</th><th>value</th><th>Class</th></tr><tr><th></th><th>Symbol</th><th>Float64</th><th>String</th></tr></thead><tbody><p>5 rows × 3 columns</p><tr><th>1</th><td>PetalWidth</td><td>2.3</td><td>Iris-virginica</td></tr><tr><th>2</th><td>PetalWidth</td><td>1.9</td><td>Iris-virginica</td></tr><tr><th>3</th><td>PetalWidth</td><td>2.0</td><td>Iris-virginica</td></tr><tr><th>4</th><td>PetalWidth</td><td>2.3</td><td>Iris-virginica</td></tr><tr><th>5</th><td>PetalWidth</td><td>1.8</td><td>Iris-virginica</td></tr></tbody></table>"
      ],
      "text/latex": [
       "\\begin{tabular}{r|ccc}\n",
       "\t& variable & value & Class\\\\\n",
       "\t\\hline\n",
       "\t& Symbol & Float64 & String\\\\\n",
       "\t\\hline\n",
       "\t1 & PetalWidth & 2.3 & Iris-virginica \\\\\n",
       "\t2 & PetalWidth & 1.9 & Iris-virginica \\\\\n",
       "\t3 & PetalWidth & 2.0 & Iris-virginica \\\\\n",
       "\t4 & PetalWidth & 2.3 & Iris-virginica \\\\\n",
       "\t5 & PetalWidth & 1.8 & Iris-virginica \\\\\n",
       "\\end{tabular}\n"
      ],
      "text/plain": [
       "5×3 DataFrame\n",
       "│ Row │ variable   │ value   │ Class          │\n",
       "│     │ \u001b[90mSymbol\u001b[39m     │ \u001b[90mFloat64\u001b[39m │ \u001b[90mString\u001b[39m         │\n",
       "├─────┼────────────┼─────────┼────────────────┤\n",
       "│ 1   │ PetalWidth │ 2.3     │ Iris-virginica │\n",
       "│ 2   │ PetalWidth │ 1.9     │ Iris-virginica │\n",
       "│ 3   │ PetalWidth │ 2.0     │ Iris-virginica │\n",
       "│ 4   │ PetalWidth │ 2.3     │ Iris-virginica │\n",
       "│ 5   │ PetalWidth │ 1.8     │ Iris-virginica │"
      ]
     },
     "execution_count": 10,
     "metadata": {},
     "output_type": "execute_result"
    }
   ],
   "source": [
    "last(longdf, 5)"
   ]
  },
  {
   "cell_type": "markdown",
   "metadata": {
    "colab_type": "text",
    "id": "u-sr6lj_CZJ_"
   },
   "source": [
    "下列範例示範僅 stack 2 個欄位與指定其 ID 值 (Class 欄位)。"
   ]
  },
  {
   "cell_type": "code",
   "execution_count": 11,
   "metadata": {
    "colab": {},
    "colab_type": "code",
    "id": "7FYRQyw0CZKB",
    "outputId": "f6e9bd55-959f-4cac-b1f1-cd76a75e9a12"
   },
   "outputs": [
    {
     "data": {
      "text/html": [
       "<table class=\"data-frame\"><thead><tr><th></th><th>variable</th><th>value</th><th>Class</th></tr><tr><th></th><th>Symbol</th><th>Float64</th><th>String</th></tr></thead><tbody><p>5 rows × 3 columns</p><tr><th>1</th><td>SepalLength</td><td>5.1</td><td>Iris-setosa</td></tr><tr><th>2</th><td>SepalLength</td><td>4.9</td><td>Iris-setosa</td></tr><tr><th>3</th><td>SepalLength</td><td>4.7</td><td>Iris-setosa</td></tr><tr><th>4</th><td>SepalLength</td><td>4.6</td><td>Iris-setosa</td></tr><tr><th>5</th><td>SepalLength</td><td>5.0</td><td>Iris-setosa</td></tr></tbody></table>"
      ],
      "text/latex": [
       "\\begin{tabular}{r|ccc}\n",
       "\t& variable & value & Class\\\\\n",
       "\t\\hline\n",
       "\t& Symbol & Float64 & String\\\\\n",
       "\t\\hline\n",
       "\t1 & SepalLength & 5.1 & Iris-setosa \\\\\n",
       "\t2 & SepalLength & 4.9 & Iris-setosa \\\\\n",
       "\t3 & SepalLength & 4.7 & Iris-setosa \\\\\n",
       "\t4 & SepalLength & 4.6 & Iris-setosa \\\\\n",
       "\t5 & SepalLength & 5.0 & Iris-setosa \\\\\n",
       "\\end{tabular}\n"
      ],
      "text/plain": [
       "5×3 DataFrame\n",
       "│ Row │ variable    │ value   │ Class       │\n",
       "│     │ \u001b[90mSymbol\u001b[39m      │ \u001b[90mFloat64\u001b[39m │ \u001b[90mString\u001b[39m      │\n",
       "├─────┼─────────────┼─────────┼─────────────┤\n",
       "│ 1   │ SepalLength │ 5.1     │ Iris-setosa │\n",
       "│ 2   │ SepalLength │ 4.9     │ Iris-setosa │\n",
       "│ 3   │ SepalLength │ 4.7     │ Iris-setosa │\n",
       "│ 4   │ SepalLength │ 4.6     │ Iris-setosa │\n",
       "│ 5   │ SepalLength │ 5.0     │ Iris-setosa │"
      ]
     },
     "execution_count": 11,
     "metadata": {},
     "output_type": "execute_result"
    }
   ],
   "source": [
    "longdf = stack(df, [:SepalLength, :SepalWidth], :Class)\n",
    "first(longdf, 5)"
   ]
  },
  {
   "cell_type": "code",
   "execution_count": 12,
   "metadata": {
    "colab": {},
    "colab_type": "code",
    "id": "uLClt7v4CZKE",
    "outputId": "44301b1d-59dd-4d47-96eb-c6a7709e930c"
   },
   "outputs": [
    {
     "data": {
      "text/html": [
       "<table class=\"data-frame\"><thead><tr><th></th><th>variable</th><th>value</th><th>Class</th></tr><tr><th></th><th>Symbol</th><th>Float64</th><th>String</th></tr></thead><tbody><p>5 rows × 3 columns</p><tr><th>1</th><td>SepalWidth</td><td>3.0</td><td>Iris-virginica</td></tr><tr><th>2</th><td>SepalWidth</td><td>2.5</td><td>Iris-virginica</td></tr><tr><th>3</th><td>SepalWidth</td><td>3.0</td><td>Iris-virginica</td></tr><tr><th>4</th><td>SepalWidth</td><td>3.4</td><td>Iris-virginica</td></tr><tr><th>5</th><td>SepalWidth</td><td>3.0</td><td>Iris-virginica</td></tr></tbody></table>"
      ],
      "text/latex": [
       "\\begin{tabular}{r|ccc}\n",
       "\t& variable & value & Class\\\\\n",
       "\t\\hline\n",
       "\t& Symbol & Float64 & String\\\\\n",
       "\t\\hline\n",
       "\t1 & SepalWidth & 3.0 & Iris-virginica \\\\\n",
       "\t2 & SepalWidth & 2.5 & Iris-virginica \\\\\n",
       "\t3 & SepalWidth & 3.0 & Iris-virginica \\\\\n",
       "\t4 & SepalWidth & 3.4 & Iris-virginica \\\\\n",
       "\t5 & SepalWidth & 3.0 & Iris-virginica \\\\\n",
       "\\end{tabular}\n"
      ],
      "text/plain": [
       "5×3 DataFrame\n",
       "│ Row │ variable   │ value   │ Class          │\n",
       "│     │ \u001b[90mSymbol\u001b[39m     │ \u001b[90mFloat64\u001b[39m │ \u001b[90mString\u001b[39m         │\n",
       "├─────┼────────────┼─────────┼────────────────┤\n",
       "│ 1   │ SepalWidth │ 3.0     │ Iris-virginica │\n",
       "│ 2   │ SepalWidth │ 2.5     │ Iris-virginica │\n",
       "│ 3   │ SepalWidth │ 3.0     │ Iris-virginica │\n",
       "│ 4   │ SepalWidth │ 3.4     │ Iris-virginica │\n",
       "│ 5   │ SepalWidth │ 3.0     │ Iris-virginica │"
      ]
     },
     "execution_count": 12,
     "metadata": {},
     "output_type": "execute_result"
    }
   ],
   "source": [
    "last(longdf, 5)"
   ]
  },
  {
   "cell_type": "markdown",
   "metadata": {
    "colab_type": "text",
    "id": "PUnNGFiECZKI"
   },
   "source": [
    "### melt and meltdf\n",
    "\n",
    "`melt()` 函式是由 `stack()` 延伸出來，跟 `stack()` 不同的之處在於，呼叫 `melt()` 時指定 ID 欄位就可以進行形狀轉換。"
   ]
  },
  {
   "cell_type": "code",
   "execution_count": 32,
   "metadata": {
    "colab": {},
    "colab_type": "code",
    "id": "Z-e0IJhvCZKK",
    "outputId": "e4637e88-2100-4231-b956-b72b95e2fafa"
   },
   "outputs": [
    {
     "name": "stderr",
     "output_type": "stream",
     "text": [
      "┌ Warning: `melt(df::AbstractDataFrame, id_vars; variable_name::Symbol=:variable, value_name::Symbol=:value, view::Bool=false)` is deprecated, use `stack(df, Not(id_vars); variable_name=variable_name, value_name=value_name, view=view)` instead.\n",
      "│   caller = top-level scope at In[32]:1\n",
      "└ @ Core In[32]:1\n"
     ]
    },
    {
     "data": {
      "text/html": [
       "<table class=\"data-frame\"><thead><tr><th></th><th>variable</th><th>value</th><th>Class</th></tr><tr><th></th><th>Symbol</th><th>Float64</th><th>String</th></tr></thead><tbody><p>5 rows × 3 columns</p><tr><th>1</th><td>SepalLength</td><td>5.1</td><td>Iris-setosa</td></tr><tr><th>2</th><td>SepalLength</td><td>4.9</td><td>Iris-setosa</td></tr><tr><th>3</th><td>SepalLength</td><td>4.7</td><td>Iris-setosa</td></tr><tr><th>4</th><td>SepalLength</td><td>4.6</td><td>Iris-setosa</td></tr><tr><th>5</th><td>SepalLength</td><td>5.0</td><td>Iris-setosa</td></tr></tbody></table>"
      ],
      "text/latex": [
       "\\begin{tabular}{r|ccc}\n",
       "\t& variable & value & Class\\\\\n",
       "\t\\hline\n",
       "\t& Symbol & Float64 & String\\\\\n",
       "\t\\hline\n",
       "\t1 & SepalLength & 5.1 & Iris-setosa \\\\\n",
       "\t2 & SepalLength & 4.9 & Iris-setosa \\\\\n",
       "\t3 & SepalLength & 4.7 & Iris-setosa \\\\\n",
       "\t4 & SepalLength & 4.6 & Iris-setosa \\\\\n",
       "\t5 & SepalLength & 5.0 & Iris-setosa \\\\\n",
       "\\end{tabular}\n"
      ],
      "text/plain": [
       "5×3 DataFrame\n",
       "│ Row │ variable    │ value   │ Class       │\n",
       "│     │ \u001b[90mSymbol\u001b[39m      │ \u001b[90mFloat64\u001b[39m │ \u001b[90mString\u001b[39m      │\n",
       "├─────┼─────────────┼─────────┼─────────────┤\n",
       "│ 1   │ SepalLength │ 5.1     │ Iris-setosa │\n",
       "│ 2   │ SepalLength │ 4.9     │ Iris-setosa │\n",
       "│ 3   │ SepalLength │ 4.7     │ Iris-setosa │\n",
       "│ 4   │ SepalLength │ 4.6     │ Iris-setosa │\n",
       "│ 5   │ SepalLength │ 5.0     │ Iris-setosa │"
      ]
     },
     "execution_count": 32,
     "metadata": {},
     "output_type": "execute_result"
    }
   ],
   "source": [
    "longdf = melt(df, :Class)\n",
    "first(longdf, 5)"
   ]
  },
  {
   "cell_type": "code",
   "execution_count": 34,
   "metadata": {},
   "outputs": [
    {
     "data": {
      "text/html": [
       "<table class=\"data-frame\"><thead><tr><th></th><th>variable</th><th>value</th><th>Class</th></tr><tr><th></th><th>Symbol</th><th>Float64</th><th>String</th></tr></thead><tbody><p>5 rows × 3 columns</p><tr><th>1</th><td>SepalLength</td><td>5.1</td><td>Iris-setosa</td></tr><tr><th>2</th><td>SepalLength</td><td>4.9</td><td>Iris-setosa</td></tr><tr><th>3</th><td>SepalLength</td><td>4.7</td><td>Iris-setosa</td></tr><tr><th>4</th><td>SepalLength</td><td>4.6</td><td>Iris-setosa</td></tr><tr><th>5</th><td>SepalLength</td><td>5.0</td><td>Iris-setosa</td></tr></tbody></table>"
      ],
      "text/latex": [
       "\\begin{tabular}{r|ccc}\n",
       "\t& variable & value & Class\\\\\n",
       "\t\\hline\n",
       "\t& Symbol & Float64 & String\\\\\n",
       "\t\\hline\n",
       "\t1 & SepalLength & 5.1 & Iris-setosa \\\\\n",
       "\t2 & SepalLength & 4.9 & Iris-setosa \\\\\n",
       "\t3 & SepalLength & 4.7 & Iris-setosa \\\\\n",
       "\t4 & SepalLength & 4.6 & Iris-setosa \\\\\n",
       "\t5 & SepalLength & 5.0 & Iris-setosa \\\\\n",
       "\\end{tabular}\n"
      ],
      "text/plain": [
       "5×3 DataFrame\n",
       "│ Row │ variable    │ value   │ Class       │\n",
       "│     │ \u001b[90mSymbol\u001b[39m      │ \u001b[90mFloat64\u001b[39m │ \u001b[90mString\u001b[39m      │\n",
       "├─────┼─────────────┼─────────┼─────────────┤\n",
       "│ 1   │ SepalLength │ 5.1     │ Iris-setosa │\n",
       "│ 2   │ SepalLength │ 4.9     │ Iris-setosa │\n",
       "│ 3   │ SepalLength │ 4.7     │ Iris-setosa │\n",
       "│ 4   │ SepalLength │ 4.6     │ Iris-setosa │\n",
       "│ 5   │ SepalLength │ 5.0     │ Iris-setosa │"
      ]
     },
     "execution_count": 34,
     "metadata": {},
     "output_type": "execute_result"
    }
   ],
   "source": [
    "longdf = stack(df, Not(:Class))\n",
    "first(longdf, 5)"
   ]
  },
  {
   "cell_type": "markdown",
   "metadata": {
    "colab_type": "text",
    "id": "g9xD3H_6CZKS"
   },
   "source": [
    "`meltdf()` 函式的功能與 `melt()` 幾乎相同, 差異在於 `meltdf()` 提供的是原 DataFrame 的 view, 所以在記憶體上比較節省, 更適用於大的 dataset."
   ]
  },
  {
   "cell_type": "code",
   "execution_count": 14,
   "metadata": {
    "colab": {},
    "colab_type": "code",
    "id": "R9ha010ICZKT",
    "outputId": "4cfda1f9-7bff-4aaa-df1b-2a027eb21c53"
   },
   "outputs": [
    {
     "name": "stderr",
     "output_type": "stream",
     "text": [
      "┌ Warning: `meltdf(args...; kwargs...)` is deprecated, use `melt(args...; kwargs..., view=true)` instead.\n",
      "│   caller = top-level scope at In[14]:1\n",
      "└ @ Core In[14]:1\n",
      "┌ Warning: `melt(df::AbstractDataFrame, id_vars; variable_name::Symbol=:variable, value_name::Symbol=:value, view::Bool=false)` is deprecated, use `stack(df, Not(id_vars); variable_name=variable_name, value_name=value_name, view=view)` instead.\n",
      "│   caller = ip:0x0\n",
      "└ @ Core :-1\n"
     ]
    },
    {
     "data": {
      "text/html": [
       "<table class=\"data-frame\"><thead><tr><th></th><th>variable</th><th>value</th><th>Class</th></tr><tr><th></th><th>Symbol</th><th>Any</th><th>String</th></tr></thead><tbody><p>5 rows × 3 columns</p><tr><th>1</th><td>SepalLength</td><td>5.1</td><td>Iris-setosa</td></tr><tr><th>2</th><td>SepalLength</td><td>4.9</td><td>Iris-setosa</td></tr><tr><th>3</th><td>SepalLength</td><td>4.7</td><td>Iris-setosa</td></tr><tr><th>4</th><td>SepalLength</td><td>4.6</td><td>Iris-setosa</td></tr><tr><th>5</th><td>SepalLength</td><td>5.0</td><td>Iris-setosa</td></tr></tbody></table>"
      ],
      "text/latex": [
       "\\begin{tabular}{r|ccc}\n",
       "\t& variable & value & Class\\\\\n",
       "\t\\hline\n",
       "\t& Symbol & Any & String\\\\\n",
       "\t\\hline\n",
       "\t1 & SepalLength & 5.1 & Iris-setosa \\\\\n",
       "\t2 & SepalLength & 4.9 & Iris-setosa \\\\\n",
       "\t3 & SepalLength & 4.7 & Iris-setosa \\\\\n",
       "\t4 & SepalLength & 4.6 & Iris-setosa \\\\\n",
       "\t5 & SepalLength & 5.0 & Iris-setosa \\\\\n",
       "\\end{tabular}\n"
      ],
      "text/plain": [
       "5×3 DataFrame\n",
       "│ Row │ variable    │ value │ Class       │\n",
       "│     │ \u001b[90mSymbol\u001b[39m      │ \u001b[90mAny\u001b[39m   │ \u001b[90mString\u001b[39m      │\n",
       "├─────┼─────────────┼───────┼─────────────┤\n",
       "│ 1   │ SepalLength │ 5.1   │ Iris-setosa │\n",
       "│ 2   │ SepalLength │ 4.9   │ Iris-setosa │\n",
       "│ 3   │ SepalLength │ 4.7   │ Iris-setosa │\n",
       "│ 4   │ SepalLength │ 4.6   │ Iris-setosa │\n",
       "│ 5   │ SepalLength │ 5.0   │ Iris-setosa │"
      ]
     },
     "execution_count": 14,
     "metadata": {},
     "output_type": "execute_result"
    }
   ],
   "source": [
    "meltdf(df, :Class)[1:5, :]"
   ]
  },
  {
   "cell_type": "markdown",
   "metadata": {
    "colab_type": "text",
    "id": "4FMqgiT6CZKY"
   },
   "source": [
    "### unstack\n",
    "\n",
    "`unstack()` 的功能與 `stack()` / `melt()` 相反, 可將長形的 DataFrame 轉變為原先\"寬\"形的."
   ]
  },
  {
   "cell_type": "code",
   "execution_count": 38,
   "metadata": {
    "colab": {},
    "colab_type": "code",
    "id": "H0n7s104CZKZ",
    "outputId": "40854954-b324-4524-b25e-29a79866cb2e"
   },
   "outputs": [
    {
     "data": {
      "text/html": [
       "<table class=\"data-frame\"><thead><tr><th></th><th>variable</th><th>value</th><th>Class</th><th>id</th></tr><tr><th></th><th>Symbol</th><th>Float64</th><th>String</th><th>Int64</th></tr></thead><tbody><p>600 rows × 4 columns</p><tr><th>1</th><td>SepalLength</td><td>5.1</td><td>Iris-setosa</td><td>1</td></tr><tr><th>2</th><td>SepalLength</td><td>4.9</td><td>Iris-setosa</td><td>2</td></tr><tr><th>3</th><td>SepalLength</td><td>4.7</td><td>Iris-setosa</td><td>3</td></tr><tr><th>4</th><td>SepalLength</td><td>4.6</td><td>Iris-setosa</td><td>4</td></tr><tr><th>5</th><td>SepalLength</td><td>5.0</td><td>Iris-setosa</td><td>5</td></tr><tr><th>6</th><td>SepalLength</td><td>5.4</td><td>Iris-setosa</td><td>6</td></tr><tr><th>7</th><td>SepalLength</td><td>4.6</td><td>Iris-setosa</td><td>7</td></tr><tr><th>8</th><td>SepalLength</td><td>5.0</td><td>Iris-setosa</td><td>8</td></tr><tr><th>9</th><td>SepalLength</td><td>4.4</td><td>Iris-setosa</td><td>9</td></tr><tr><th>10</th><td>SepalLength</td><td>4.9</td><td>Iris-setosa</td><td>10</td></tr><tr><th>11</th><td>SepalLength</td><td>5.4</td><td>Iris-setosa</td><td>11</td></tr><tr><th>12</th><td>SepalLength</td><td>4.8</td><td>Iris-setosa</td><td>12</td></tr><tr><th>13</th><td>SepalLength</td><td>4.8</td><td>Iris-setosa</td><td>13</td></tr><tr><th>14</th><td>SepalLength</td><td>4.3</td><td>Iris-setosa</td><td>14</td></tr><tr><th>15</th><td>SepalLength</td><td>5.8</td><td>Iris-setosa</td><td>15</td></tr><tr><th>16</th><td>SepalLength</td><td>5.7</td><td>Iris-setosa</td><td>16</td></tr><tr><th>17</th><td>SepalLength</td><td>5.4</td><td>Iris-setosa</td><td>17</td></tr><tr><th>18</th><td>SepalLength</td><td>5.1</td><td>Iris-setosa</td><td>18</td></tr><tr><th>19</th><td>SepalLength</td><td>5.7</td><td>Iris-setosa</td><td>19</td></tr><tr><th>20</th><td>SepalLength</td><td>5.1</td><td>Iris-setosa</td><td>20</td></tr><tr><th>21</th><td>SepalLength</td><td>5.4</td><td>Iris-setosa</td><td>21</td></tr><tr><th>22</th><td>SepalLength</td><td>5.1</td><td>Iris-setosa</td><td>22</td></tr><tr><th>23</th><td>SepalLength</td><td>4.6</td><td>Iris-setosa</td><td>23</td></tr><tr><th>24</th><td>SepalLength</td><td>5.1</td><td>Iris-setosa</td><td>24</td></tr><tr><th>25</th><td>SepalLength</td><td>4.8</td><td>Iris-setosa</td><td>25</td></tr><tr><th>26</th><td>SepalLength</td><td>5.0</td><td>Iris-setosa</td><td>26</td></tr><tr><th>27</th><td>SepalLength</td><td>5.0</td><td>Iris-setosa</td><td>27</td></tr><tr><th>28</th><td>SepalLength</td><td>5.2</td><td>Iris-setosa</td><td>28</td></tr><tr><th>29</th><td>SepalLength</td><td>5.2</td><td>Iris-setosa</td><td>29</td></tr><tr><th>30</th><td>SepalLength</td><td>4.7</td><td>Iris-setosa</td><td>30</td></tr><tr><th>&vellip;</th><td>&vellip;</td><td>&vellip;</td><td>&vellip;</td><td>&vellip;</td></tr></tbody></table>"
      ],
      "text/latex": [
       "\\begin{tabular}{r|cccc}\n",
       "\t& variable & value & Class & id\\\\\n",
       "\t\\hline\n",
       "\t& Symbol & Float64 & String & Int64\\\\\n",
       "\t\\hline\n",
       "\t1 & SepalLength & 5.1 & Iris-setosa & 1 \\\\\n",
       "\t2 & SepalLength & 4.9 & Iris-setosa & 2 \\\\\n",
       "\t3 & SepalLength & 4.7 & Iris-setosa & 3 \\\\\n",
       "\t4 & SepalLength & 4.6 & Iris-setosa & 4 \\\\\n",
       "\t5 & SepalLength & 5.0 & Iris-setosa & 5 \\\\\n",
       "\t6 & SepalLength & 5.4 & Iris-setosa & 6 \\\\\n",
       "\t7 & SepalLength & 4.6 & Iris-setosa & 7 \\\\\n",
       "\t8 & SepalLength & 5.0 & Iris-setosa & 8 \\\\\n",
       "\t9 & SepalLength & 4.4 & Iris-setosa & 9 \\\\\n",
       "\t10 & SepalLength & 4.9 & Iris-setosa & 10 \\\\\n",
       "\t11 & SepalLength & 5.4 & Iris-setosa & 11 \\\\\n",
       "\t12 & SepalLength & 4.8 & Iris-setosa & 12 \\\\\n",
       "\t13 & SepalLength & 4.8 & Iris-setosa & 13 \\\\\n",
       "\t14 & SepalLength & 4.3 & Iris-setosa & 14 \\\\\n",
       "\t15 & SepalLength & 5.8 & Iris-setosa & 15 \\\\\n",
       "\t16 & SepalLength & 5.7 & Iris-setosa & 16 \\\\\n",
       "\t17 & SepalLength & 5.4 & Iris-setosa & 17 \\\\\n",
       "\t18 & SepalLength & 5.1 & Iris-setosa & 18 \\\\\n",
       "\t19 & SepalLength & 5.7 & Iris-setosa & 19 \\\\\n",
       "\t20 & SepalLength & 5.1 & Iris-setosa & 20 \\\\\n",
       "\t21 & SepalLength & 5.4 & Iris-setosa & 21 \\\\\n",
       "\t22 & SepalLength & 5.1 & Iris-setosa & 22 \\\\\n",
       "\t23 & SepalLength & 4.6 & Iris-setosa & 23 \\\\\n",
       "\t24 & SepalLength & 5.1 & Iris-setosa & 24 \\\\\n",
       "\t25 & SepalLength & 4.8 & Iris-setosa & 25 \\\\\n",
       "\t26 & SepalLength & 5.0 & Iris-setosa & 26 \\\\\n",
       "\t27 & SepalLength & 5.0 & Iris-setosa & 27 \\\\\n",
       "\t28 & SepalLength & 5.2 & Iris-setosa & 28 \\\\\n",
       "\t29 & SepalLength & 5.2 & Iris-setosa & 29 \\\\\n",
       "\t30 & SepalLength & 4.7 & Iris-setosa & 30 \\\\\n",
       "\t$\\dots$ & $\\dots$ & $\\dots$ & $\\dots$ & $\\dots$ \\\\\n",
       "\\end{tabular}\n"
      ],
      "text/plain": [
       "600×4 DataFrame\n",
       "│ Row │ variable    │ value   │ Class          │ id    │\n",
       "│     │ \u001b[90mSymbol\u001b[39m      │ \u001b[90mFloat64\u001b[39m │ \u001b[90mString\u001b[39m         │ \u001b[90mInt64\u001b[39m │\n",
       "├─────┼─────────────┼─────────┼────────────────┼───────┤\n",
       "│ 1   │ SepalLength │ 5.1     │ Iris-setosa    │ 1     │\n",
       "│ 2   │ SepalLength │ 4.9     │ Iris-setosa    │ 2     │\n",
       "│ 3   │ SepalLength │ 4.7     │ Iris-setosa    │ 3     │\n",
       "│ 4   │ SepalLength │ 4.6     │ Iris-setosa    │ 4     │\n",
       "│ 5   │ SepalLength │ 5.0     │ Iris-setosa    │ 5     │\n",
       "│ 6   │ SepalLength │ 5.4     │ Iris-setosa    │ 6     │\n",
       "│ 7   │ SepalLength │ 4.6     │ Iris-setosa    │ 7     │\n",
       "│ 8   │ SepalLength │ 5.0     │ Iris-setosa    │ 8     │\n",
       "│ 9   │ SepalLength │ 4.4     │ Iris-setosa    │ 9     │\n",
       "│ 10  │ SepalLength │ 4.9     │ Iris-setosa    │ 10    │\n",
       "⋮\n",
       "│ 590 │ PetalWidth  │ 2.1     │ Iris-virginica │ 140   │\n",
       "│ 591 │ PetalWidth  │ 2.4     │ Iris-virginica │ 141   │\n",
       "│ 592 │ PetalWidth  │ 2.3     │ Iris-virginica │ 142   │\n",
       "│ 593 │ PetalWidth  │ 1.9     │ Iris-virginica │ 143   │\n",
       "│ 594 │ PetalWidth  │ 2.3     │ Iris-virginica │ 144   │\n",
       "│ 595 │ PetalWidth  │ 2.5     │ Iris-virginica │ 145   │\n",
       "│ 596 │ PetalWidth  │ 2.3     │ Iris-virginica │ 146   │\n",
       "│ 597 │ PetalWidth  │ 1.9     │ Iris-virginica │ 147   │\n",
       "│ 598 │ PetalWidth  │ 2.0     │ Iris-virginica │ 148   │\n",
       "│ 599 │ PetalWidth  │ 2.3     │ Iris-virginica │ 149   │\n",
       "│ 600 │ PetalWidth  │ 1.8     │ Iris-virginica │ 150   │"
      ]
     },
     "execution_count": 38,
     "metadata": {},
     "output_type": "execute_result"
    }
   ],
   "source": [
    "# 為能正確執行 unstack, 需先在 DataFrame 中加入 index 欄位.\n",
    "df.id = 1:size(df, 1)\n",
    "# longdf = melt(df, [:Class, :id])\n",
    "longdf = stack(df, Not([:Class, :id]))"
   ]
  },
  {
   "cell_type": "markdown",
   "metadata": {
    "colab_type": "text",
    "id": "BXa0ZcSTCZKc"
   },
   "source": [
    "進行 unstack, 將長資料集轉換還原成原先的 shape."
   ]
  },
  {
   "cell_type": "code",
   "execution_count": 39,
   "metadata": {
    "colab": {},
    "colab_type": "code",
    "id": "yaHX7ZxBCZKd",
    "outputId": "17ba8793-0015-4cbf-a0c7-e339f09f8b3c"
   },
   "outputs": [
    {
     "data": {
      "text/plain": [
       "(150, 6)"
      ]
     },
     "execution_count": 39,
     "metadata": {},
     "output_type": "execute_result"
    }
   ],
   "source": [
    "widedf = unstack(longdf, :variable, :value)\n",
    "size(widedf)"
   ]
  },
  {
   "cell_type": "code",
   "execution_count": 40,
   "metadata": {
    "colab": {},
    "colab_type": "code",
    "id": "QhR96c0GCZKg",
    "outputId": "d6faac5f-f1bd-4d0f-fe30-a5996b4f51e6"
   },
   "outputs": [
    {
     "data": {
      "text/html": [
       "<table class=\"data-frame\"><thead><tr><th></th><th>Class</th><th>id</th><th>PetalLength</th><th>PetalWidth</th><th>SepalLength</th><th>SepalWidth</th></tr><tr><th></th><th>String</th><th>Int64</th><th>Float64⍰</th><th>Float64⍰</th><th>Float64⍰</th><th>Float64⍰</th></tr></thead><tbody><p>5 rows × 6 columns</p><tr><th>1</th><td>Iris-setosa</td><td>1</td><td>1.4</td><td>0.2</td><td>5.1</td><td>3.5</td></tr><tr><th>2</th><td>Iris-setosa</td><td>2</td><td>1.4</td><td>0.2</td><td>4.9</td><td>3.0</td></tr><tr><th>3</th><td>Iris-setosa</td><td>3</td><td>1.3</td><td>0.2</td><td>4.7</td><td>3.2</td></tr><tr><th>4</th><td>Iris-setosa</td><td>4</td><td>1.5</td><td>0.2</td><td>4.6</td><td>3.1</td></tr><tr><th>5</th><td>Iris-setosa</td><td>5</td><td>1.4</td><td>0.2</td><td>5.0</td><td>3.6</td></tr></tbody></table>"
      ],
      "text/latex": [
       "\\begin{tabular}{r|cccccc}\n",
       "\t& Class & id & PetalLength & PetalWidth & SepalLength & SepalWidth\\\\\n",
       "\t\\hline\n",
       "\t& String & Int64 & Float64⍰ & Float64⍰ & Float64⍰ & Float64⍰\\\\\n",
       "\t\\hline\n",
       "\t1 & Iris-setosa & 1 & 1.4 & 0.2 & 5.1 & 3.5 \\\\\n",
       "\t2 & Iris-setosa & 2 & 1.4 & 0.2 & 4.9 & 3.0 \\\\\n",
       "\t3 & Iris-setosa & 3 & 1.3 & 0.2 & 4.7 & 3.2 \\\\\n",
       "\t4 & Iris-setosa & 4 & 1.5 & 0.2 & 4.6 & 3.1 \\\\\n",
       "\t5 & Iris-setosa & 5 & 1.4 & 0.2 & 5.0 & 3.6 \\\\\n",
       "\\end{tabular}\n"
      ],
      "text/plain": [
       "5×6 DataFrame. Omitted printing of 1 columns\n",
       "│ Row │ Class       │ id    │ PetalLength │ PetalWidth │ SepalLength │\n",
       "│     │ \u001b[90mString\u001b[39m      │ \u001b[90mInt64\u001b[39m │ \u001b[90mFloat64⍰\u001b[39m    │ \u001b[90mFloat64⍰\u001b[39m   │ \u001b[90mFloat64⍰\u001b[39m    │\n",
       "├─────┼─────────────┼───────┼─────────────┼────────────┼─────────────┤\n",
       "│ 1   │ Iris-setosa │ 1     │ 1.4         │ 0.2        │ 5.1         │\n",
       "│ 2   │ Iris-setosa │ 2     │ 1.4         │ 0.2        │ 4.9         │\n",
       "│ 3   │ Iris-setosa │ 3     │ 1.3         │ 0.2        │ 4.7         │\n",
       "│ 4   │ Iris-setosa │ 4     │ 1.5         │ 0.2        │ 4.6         │\n",
       "│ 5   │ Iris-setosa │ 5     │ 1.4         │ 0.2        │ 5.0         │"
      ]
     },
     "execution_count": 40,
     "metadata": {},
     "output_type": "execute_result"
    }
   ],
   "source": [
    "first(widedf, 5)"
   ]
  },
  {
   "cell_type": "code",
   "execution_count": 18,
   "metadata": {
    "colab": {},
    "colab_type": "code",
    "id": "4k_ar2YWCZKn",
    "outputId": "545c82dd-66e9-4aad-b62e-6a5f0c3e9d1d"
   },
   "outputs": [
    {
     "data": {
      "text/html": [
       "<table class=\"data-frame\"><thead><tr><th></th><th>Class</th><th>id</th><th>PetalLength</th><th>PetalWidth</th><th>SepalLength</th><th>SepalWidth</th></tr><tr><th></th><th>String</th><th>Int64</th><th>Float64⍰</th><th>Float64⍰</th><th>Float64⍰</th><th>Float64⍰</th></tr></thead><tbody><p>5 rows × 6 columns</p><tr><th>1</th><td>Iris-virginica</td><td>146</td><td>5.2</td><td>2.3</td><td>6.7</td><td>3.0</td></tr><tr><th>2</th><td>Iris-virginica</td><td>147</td><td>5.0</td><td>1.9</td><td>6.3</td><td>2.5</td></tr><tr><th>3</th><td>Iris-virginica</td><td>148</td><td>5.2</td><td>2.0</td><td>6.5</td><td>3.0</td></tr><tr><th>4</th><td>Iris-virginica</td><td>149</td><td>5.4</td><td>2.3</td><td>6.2</td><td>3.4</td></tr><tr><th>5</th><td>Iris-virginica</td><td>150</td><td>5.1</td><td>1.8</td><td>5.9</td><td>3.0</td></tr></tbody></table>"
      ],
      "text/latex": [
       "\\begin{tabular}{r|cccccc}\n",
       "\t& Class & id & PetalLength & PetalWidth & SepalLength & SepalWidth\\\\\n",
       "\t\\hline\n",
       "\t& String & Int64 & Float64⍰ & Float64⍰ & Float64⍰ & Float64⍰\\\\\n",
       "\t\\hline\n",
       "\t1 & Iris-virginica & 146 & 5.2 & 2.3 & 6.7 & 3.0 \\\\\n",
       "\t2 & Iris-virginica & 147 & 5.0 & 1.9 & 6.3 & 2.5 \\\\\n",
       "\t3 & Iris-virginica & 148 & 5.2 & 2.0 & 6.5 & 3.0 \\\\\n",
       "\t4 & Iris-virginica & 149 & 5.4 & 2.3 & 6.2 & 3.4 \\\\\n",
       "\t5 & Iris-virginica & 150 & 5.1 & 1.8 & 5.9 & 3.0 \\\\\n",
       "\\end{tabular}\n"
      ],
      "text/plain": [
       "5×6 DataFrame. Omitted printing of 1 columns\n",
       "│ Row │ Class          │ id    │ PetalLength │ PetalWidth │ SepalLength │\n",
       "│     │ \u001b[90mString\u001b[39m         │ \u001b[90mInt64\u001b[39m │ \u001b[90mFloat64⍰\u001b[39m    │ \u001b[90mFloat64⍰\u001b[39m   │ \u001b[90mFloat64⍰\u001b[39m    │\n",
       "├─────┼────────────────┼───────┼─────────────┼────────────┼─────────────┤\n",
       "│ 1   │ Iris-virginica │ 146   │ 5.2         │ 2.3        │ 6.7         │\n",
       "│ 2   │ Iris-virginica │ 147   │ 5.0         │ 1.9        │ 6.3         │\n",
       "│ 3   │ Iris-virginica │ 148   │ 5.2         │ 2.0        │ 6.5         │\n",
       "│ 4   │ Iris-virginica │ 149   │ 5.4         │ 2.3        │ 6.2         │\n",
       "│ 5   │ Iris-virginica │ 150   │ 5.1         │ 1.8        │ 5.9         │"
      ]
     },
     "execution_count": 18,
     "metadata": {},
     "output_type": "execute_result"
    }
   ],
   "source": [
    "last(widedf, 5)"
   ]
  },
  {
   "cell_type": "markdown",
   "metadata": {
    "colab_type": "text",
    "id": "bt1wSqOYCZKq"
   },
   "source": [
    "## 2. Sorting\n",
    "\n",
    "排序的函式有 `sort()` 及 `sort!()`, 差異點在於 `sort!()` 會排序並更新原 DataFrame, 而 `sort()` 不會更新原 DataFrame."
   ]
  },
  {
   "cell_type": "code",
   "execution_count": 19,
   "metadata": {
    "colab": {},
    "colab_type": "code",
    "id": "asbpLVhSCZKs",
    "outputId": "f7f01eb4-d8f2-45fe-8eef-220d5694a8ce"
   },
   "outputs": [
    {
     "data": {
      "text/html": [
       "<table class=\"data-frame\"><thead><tr><th></th><th>SepalLength</th><th>SepalWidth</th><th>PetalLength</th><th>PetalWidth</th><th>Class</th></tr><tr><th></th><th>Float64</th><th>Float64</th><th>Float64</th><th>Float64</th><th>String</th></tr></thead><tbody><p>5 rows × 5 columns</p><tr><th>1</th><td>5.1</td><td>3.5</td><td>1.4</td><td>0.2</td><td>Iris-setosa</td></tr><tr><th>2</th><td>4.9</td><td>3.0</td><td>1.4</td><td>0.2</td><td>Iris-setosa</td></tr><tr><th>3</th><td>4.7</td><td>3.2</td><td>1.3</td><td>0.2</td><td>Iris-setosa</td></tr><tr><th>4</th><td>4.6</td><td>3.1</td><td>1.5</td><td>0.2</td><td>Iris-setosa</td></tr><tr><th>5</th><td>5.0</td><td>3.6</td><td>1.4</td><td>0.2</td><td>Iris-setosa</td></tr></tbody></table>"
      ],
      "text/latex": [
       "\\begin{tabular}{r|ccccc}\n",
       "\t& SepalLength & SepalWidth & PetalLength & PetalWidth & Class\\\\\n",
       "\t\\hline\n",
       "\t& Float64 & Float64 & Float64 & Float64 & String\\\\\n",
       "\t\\hline\n",
       "\t1 & 5.1 & 3.5 & 1.4 & 0.2 & Iris-setosa \\\\\n",
       "\t2 & 4.9 & 3.0 & 1.4 & 0.2 & Iris-setosa \\\\\n",
       "\t3 & 4.7 & 3.2 & 1.3 & 0.2 & Iris-setosa \\\\\n",
       "\t4 & 4.6 & 3.1 & 1.5 & 0.2 & Iris-setosa \\\\\n",
       "\t5 & 5.0 & 3.6 & 1.4 & 0.2 & Iris-setosa \\\\\n",
       "\\end{tabular}\n"
      ],
      "text/plain": [
       "5×5 DataFrame\n",
       "│ Row │ SepalLength │ SepalWidth │ PetalLength │ PetalWidth │ Class       │\n",
       "│     │ \u001b[90mFloat64\u001b[39m     │ \u001b[90mFloat64\u001b[39m    │ \u001b[90mFloat64\u001b[39m     │ \u001b[90mFloat64\u001b[39m    │ \u001b[90mString\u001b[39m      │\n",
       "├─────┼─────────────┼────────────┼─────────────┼────────────┼─────────────┤\n",
       "│ 1   │ 5.1         │ 3.5        │ 1.4         │ 0.2        │ Iris-setosa │\n",
       "│ 2   │ 4.9         │ 3.0        │ 1.4         │ 0.2        │ Iris-setosa │\n",
       "│ 3   │ 4.7         │ 3.2        │ 1.3         │ 0.2        │ Iris-setosa │\n",
       "│ 4   │ 4.6         │ 3.1        │ 1.5         │ 0.2        │ Iris-setosa │\n",
       "│ 5   │ 5.0         │ 3.6        │ 1.4         │ 0.2        │ Iris-setosa │"
      ]
     },
     "execution_count": 19,
     "metadata": {},
     "output_type": "execute_result"
    }
   ],
   "source": [
    "df = CSV.read(\"iris.csv\", delim=\",\") |> DataFrame\n",
    "first(df, 5)"
   ]
  },
  {
   "cell_type": "markdown",
   "metadata": {
    "colab_type": "text",
    "id": "lsGAVXVSCZKv"
   },
   "source": [
    "預設的排序是對每個 column 的值依序進行由小到大 (ascending) 的排序"
   ]
  },
  {
   "cell_type": "code",
   "execution_count": 20,
   "metadata": {
    "colab": {},
    "colab_type": "code",
    "id": "rpiOkuggCZKw",
    "outputId": "8726855e-9053-422f-c0df-196d469cdf47"
   },
   "outputs": [
    {
     "data": {
      "text/html": [
       "<table class=\"data-frame\"><thead><tr><th></th><th>SepalLength</th><th>SepalWidth</th><th>PetalLength</th><th>PetalWidth</th><th>Class</th></tr><tr><th></th><th>Float64</th><th>Float64</th><th>Float64</th><th>Float64</th><th>String</th></tr></thead><tbody><p>150 rows × 5 columns</p><tr><th>1</th><td>4.3</td><td>3.0</td><td>1.1</td><td>0.1</td><td>Iris-setosa</td></tr><tr><th>2</th><td>4.4</td><td>2.9</td><td>1.4</td><td>0.2</td><td>Iris-setosa</td></tr><tr><th>3</th><td>4.4</td><td>3.0</td><td>1.3</td><td>0.2</td><td>Iris-setosa</td></tr><tr><th>4</th><td>4.4</td><td>3.2</td><td>1.3</td><td>0.2</td><td>Iris-setosa</td></tr><tr><th>5</th><td>4.5</td><td>2.3</td><td>1.3</td><td>0.3</td><td>Iris-setosa</td></tr><tr><th>6</th><td>4.6</td><td>3.1</td><td>1.5</td><td>0.2</td><td>Iris-setosa</td></tr><tr><th>7</th><td>4.6</td><td>3.2</td><td>1.4</td><td>0.2</td><td>Iris-setosa</td></tr><tr><th>8</th><td>4.6</td><td>3.4</td><td>1.4</td><td>0.3</td><td>Iris-setosa</td></tr><tr><th>9</th><td>4.6</td><td>3.6</td><td>1.0</td><td>0.2</td><td>Iris-setosa</td></tr><tr><th>10</th><td>4.7</td><td>3.2</td><td>1.3</td><td>0.2</td><td>Iris-setosa</td></tr><tr><th>11</th><td>4.7</td><td>3.2</td><td>1.6</td><td>0.2</td><td>Iris-setosa</td></tr><tr><th>12</th><td>4.8</td><td>3.0</td><td>1.4</td><td>0.1</td><td>Iris-setosa</td></tr><tr><th>13</th><td>4.8</td><td>3.0</td><td>1.4</td><td>0.3</td><td>Iris-setosa</td></tr><tr><th>14</th><td>4.8</td><td>3.1</td><td>1.6</td><td>0.2</td><td>Iris-setosa</td></tr><tr><th>15</th><td>4.8</td><td>3.4</td><td>1.6</td><td>0.2</td><td>Iris-setosa</td></tr><tr><th>16</th><td>4.8</td><td>3.4</td><td>1.9</td><td>0.2</td><td>Iris-setosa</td></tr><tr><th>17</th><td>4.9</td><td>2.4</td><td>3.3</td><td>1.0</td><td>Iris-versicolor</td></tr><tr><th>18</th><td>4.9</td><td>2.5</td><td>4.5</td><td>1.7</td><td>Iris-virginica</td></tr><tr><th>19</th><td>4.9</td><td>3.0</td><td>1.4</td><td>0.2</td><td>Iris-setosa</td></tr><tr><th>20</th><td>4.9</td><td>3.1</td><td>1.5</td><td>0.1</td><td>Iris-setosa</td></tr><tr><th>21</th><td>4.9</td><td>3.1</td><td>1.5</td><td>0.1</td><td>Iris-setosa</td></tr><tr><th>22</th><td>4.9</td><td>3.1</td><td>1.5</td><td>0.1</td><td>Iris-setosa</td></tr><tr><th>23</th><td>5.0</td><td>2.0</td><td>3.5</td><td>1.0</td><td>Iris-versicolor</td></tr><tr><th>24</th><td>5.0</td><td>2.3</td><td>3.3</td><td>1.0</td><td>Iris-versicolor</td></tr><tr><th>25</th><td>5.0</td><td>3.0</td><td>1.6</td><td>0.2</td><td>Iris-setosa</td></tr><tr><th>26</th><td>5.0</td><td>3.2</td><td>1.2</td><td>0.2</td><td>Iris-setosa</td></tr><tr><th>27</th><td>5.0</td><td>3.3</td><td>1.4</td><td>0.2</td><td>Iris-setosa</td></tr><tr><th>28</th><td>5.0</td><td>3.4</td><td>1.5</td><td>0.2</td><td>Iris-setosa</td></tr><tr><th>29</th><td>5.0</td><td>3.4</td><td>1.6</td><td>0.4</td><td>Iris-setosa</td></tr><tr><th>30</th><td>5.0</td><td>3.5</td><td>1.3</td><td>0.3</td><td>Iris-setosa</td></tr><tr><th>&vellip;</th><td>&vellip;</td><td>&vellip;</td><td>&vellip;</td><td>&vellip;</td><td>&vellip;</td></tr></tbody></table>"
      ],
      "text/latex": [
       "\\begin{tabular}{r|ccccc}\n",
       "\t& SepalLength & SepalWidth & PetalLength & PetalWidth & Class\\\\\n",
       "\t\\hline\n",
       "\t& Float64 & Float64 & Float64 & Float64 & String\\\\\n",
       "\t\\hline\n",
       "\t1 & 4.3 & 3.0 & 1.1 & 0.1 & Iris-setosa \\\\\n",
       "\t2 & 4.4 & 2.9 & 1.4 & 0.2 & Iris-setosa \\\\\n",
       "\t3 & 4.4 & 3.0 & 1.3 & 0.2 & Iris-setosa \\\\\n",
       "\t4 & 4.4 & 3.2 & 1.3 & 0.2 & Iris-setosa \\\\\n",
       "\t5 & 4.5 & 2.3 & 1.3 & 0.3 & Iris-setosa \\\\\n",
       "\t6 & 4.6 & 3.1 & 1.5 & 0.2 & Iris-setosa \\\\\n",
       "\t7 & 4.6 & 3.2 & 1.4 & 0.2 & Iris-setosa \\\\\n",
       "\t8 & 4.6 & 3.4 & 1.4 & 0.3 & Iris-setosa \\\\\n",
       "\t9 & 4.6 & 3.6 & 1.0 & 0.2 & Iris-setosa \\\\\n",
       "\t10 & 4.7 & 3.2 & 1.3 & 0.2 & Iris-setosa \\\\\n",
       "\t11 & 4.7 & 3.2 & 1.6 & 0.2 & Iris-setosa \\\\\n",
       "\t12 & 4.8 & 3.0 & 1.4 & 0.1 & Iris-setosa \\\\\n",
       "\t13 & 4.8 & 3.0 & 1.4 & 0.3 & Iris-setosa \\\\\n",
       "\t14 & 4.8 & 3.1 & 1.6 & 0.2 & Iris-setosa \\\\\n",
       "\t15 & 4.8 & 3.4 & 1.6 & 0.2 & Iris-setosa \\\\\n",
       "\t16 & 4.8 & 3.4 & 1.9 & 0.2 & Iris-setosa \\\\\n",
       "\t17 & 4.9 & 2.4 & 3.3 & 1.0 & Iris-versicolor \\\\\n",
       "\t18 & 4.9 & 2.5 & 4.5 & 1.7 & Iris-virginica \\\\\n",
       "\t19 & 4.9 & 3.0 & 1.4 & 0.2 & Iris-setosa \\\\\n",
       "\t20 & 4.9 & 3.1 & 1.5 & 0.1 & Iris-setosa \\\\\n",
       "\t21 & 4.9 & 3.1 & 1.5 & 0.1 & Iris-setosa \\\\\n",
       "\t22 & 4.9 & 3.1 & 1.5 & 0.1 & Iris-setosa \\\\\n",
       "\t23 & 5.0 & 2.0 & 3.5 & 1.0 & Iris-versicolor \\\\\n",
       "\t24 & 5.0 & 2.3 & 3.3 & 1.0 & Iris-versicolor \\\\\n",
       "\t25 & 5.0 & 3.0 & 1.6 & 0.2 & Iris-setosa \\\\\n",
       "\t26 & 5.0 & 3.2 & 1.2 & 0.2 & Iris-setosa \\\\\n",
       "\t27 & 5.0 & 3.3 & 1.4 & 0.2 & Iris-setosa \\\\\n",
       "\t28 & 5.0 & 3.4 & 1.5 & 0.2 & Iris-setosa \\\\\n",
       "\t29 & 5.0 & 3.4 & 1.6 & 0.4 & Iris-setosa \\\\\n",
       "\t30 & 5.0 & 3.5 & 1.3 & 0.3 & Iris-setosa \\\\\n",
       "\t$\\dots$ & $\\dots$ & $\\dots$ & $\\dots$ & $\\dots$ & $\\dots$ \\\\\n",
       "\\end{tabular}\n"
      ],
      "text/plain": [
       "150×5 DataFrame\n",
       "│ Row │ SepalLength │ SepalWidth │ PetalLength │ PetalWidth │ Class          │\n",
       "│     │ \u001b[90mFloat64\u001b[39m     │ \u001b[90mFloat64\u001b[39m    │ \u001b[90mFloat64\u001b[39m     │ \u001b[90mFloat64\u001b[39m    │ \u001b[90mString\u001b[39m         │\n",
       "├─────┼─────────────┼────────────┼─────────────┼────────────┼────────────────┤\n",
       "│ 1   │ 4.3         │ 3.0        │ 1.1         │ 0.1        │ Iris-setosa    │\n",
       "│ 2   │ 4.4         │ 2.9        │ 1.4         │ 0.2        │ Iris-setosa    │\n",
       "│ 3   │ 4.4         │ 3.0        │ 1.3         │ 0.2        │ Iris-setosa    │\n",
       "│ 4   │ 4.4         │ 3.2        │ 1.3         │ 0.2        │ Iris-setosa    │\n",
       "│ 5   │ 4.5         │ 2.3        │ 1.3         │ 0.3        │ Iris-setosa    │\n",
       "│ 6   │ 4.6         │ 3.1        │ 1.5         │ 0.2        │ Iris-setosa    │\n",
       "│ 7   │ 4.6         │ 3.2        │ 1.4         │ 0.2        │ Iris-setosa    │\n",
       "│ 8   │ 4.6         │ 3.4        │ 1.4         │ 0.3        │ Iris-setosa    │\n",
       "│ 9   │ 4.6         │ 3.6        │ 1.0         │ 0.2        │ Iris-setosa    │\n",
       "│ 10  │ 4.7         │ 3.2        │ 1.3         │ 0.2        │ Iris-setosa    │\n",
       "⋮\n",
       "│ 140 │ 7.2         │ 3.0        │ 5.8         │ 1.6        │ Iris-virginica │\n",
       "│ 141 │ 7.2         │ 3.2        │ 6.0         │ 1.8        │ Iris-virginica │\n",
       "│ 142 │ 7.2         │ 3.6        │ 6.1         │ 2.5        │ Iris-virginica │\n",
       "│ 143 │ 7.3         │ 2.9        │ 6.3         │ 1.8        │ Iris-virginica │\n",
       "│ 144 │ 7.4         │ 2.8        │ 6.1         │ 1.9        │ Iris-virginica │\n",
       "│ 145 │ 7.6         │ 3.0        │ 6.6         │ 2.1        │ Iris-virginica │\n",
       "│ 146 │ 7.7         │ 2.6        │ 6.9         │ 2.3        │ Iris-virginica │\n",
       "│ 147 │ 7.7         │ 2.8        │ 6.7         │ 2.0        │ Iris-virginica │\n",
       "│ 148 │ 7.7         │ 3.0        │ 6.1         │ 2.3        │ Iris-virginica │\n",
       "│ 149 │ 7.7         │ 3.8        │ 6.7         │ 2.2        │ Iris-virginica │\n",
       "│ 150 │ 7.9         │ 3.8        │ 6.4         │ 2.0        │ Iris-virginica │"
      ]
     },
     "execution_count": 20,
     "metadata": {},
     "output_type": "execute_result"
    }
   ],
   "source": [
    "sort(df)"
   ]
  },
  {
   "cell_type": "markdown",
   "metadata": {
    "colab_type": "text",
    "id": "YfR9Hgy7CZKz"
   },
   "source": [
    "使用 `rev=true` 參數值, 進行由大到小 (descending) 排序."
   ]
  },
  {
   "cell_type": "code",
   "execution_count": 21,
   "metadata": {
    "colab": {},
    "colab_type": "code",
    "id": "6_jTmGMHCZK0",
    "outputId": "c828b923-aa9a-41f2-a52a-719750013dab"
   },
   "outputs": [
    {
     "data": {
      "text/html": [
       "<table class=\"data-frame\"><thead><tr><th></th><th>SepalLength</th><th>SepalWidth</th><th>PetalLength</th><th>PetalWidth</th><th>Class</th></tr><tr><th></th><th>Float64</th><th>Float64</th><th>Float64</th><th>Float64</th><th>String</th></tr></thead><tbody><p>150 rows × 5 columns</p><tr><th>1</th><td>7.9</td><td>3.8</td><td>6.4</td><td>2.0</td><td>Iris-virginica</td></tr><tr><th>2</th><td>7.7</td><td>3.8</td><td>6.7</td><td>2.2</td><td>Iris-virginica</td></tr><tr><th>3</th><td>7.7</td><td>3.0</td><td>6.1</td><td>2.3</td><td>Iris-virginica</td></tr><tr><th>4</th><td>7.7</td><td>2.8</td><td>6.7</td><td>2.0</td><td>Iris-virginica</td></tr><tr><th>5</th><td>7.7</td><td>2.6</td><td>6.9</td><td>2.3</td><td>Iris-virginica</td></tr><tr><th>6</th><td>7.6</td><td>3.0</td><td>6.6</td><td>2.1</td><td>Iris-virginica</td></tr><tr><th>7</th><td>7.4</td><td>2.8</td><td>6.1</td><td>1.9</td><td>Iris-virginica</td></tr><tr><th>8</th><td>7.3</td><td>2.9</td><td>6.3</td><td>1.8</td><td>Iris-virginica</td></tr><tr><th>9</th><td>7.2</td><td>3.6</td><td>6.1</td><td>2.5</td><td>Iris-virginica</td></tr><tr><th>10</th><td>7.2</td><td>3.2</td><td>6.0</td><td>1.8</td><td>Iris-virginica</td></tr><tr><th>11</th><td>7.2</td><td>3.0</td><td>5.8</td><td>1.6</td><td>Iris-virginica</td></tr><tr><th>12</th><td>7.1</td><td>3.0</td><td>5.9</td><td>2.1</td><td>Iris-virginica</td></tr><tr><th>13</th><td>7.0</td><td>3.2</td><td>4.7</td><td>1.4</td><td>Iris-versicolor</td></tr><tr><th>14</th><td>6.9</td><td>3.2</td><td>5.7</td><td>2.3</td><td>Iris-virginica</td></tr><tr><th>15</th><td>6.9</td><td>3.1</td><td>5.4</td><td>2.1</td><td>Iris-virginica</td></tr><tr><th>16</th><td>6.9</td><td>3.1</td><td>5.1</td><td>2.3</td><td>Iris-virginica</td></tr><tr><th>17</th><td>6.9</td><td>3.1</td><td>4.9</td><td>1.5</td><td>Iris-versicolor</td></tr><tr><th>18</th><td>6.8</td><td>3.2</td><td>5.9</td><td>2.3</td><td>Iris-virginica</td></tr><tr><th>19</th><td>6.8</td><td>3.0</td><td>5.5</td><td>2.1</td><td>Iris-virginica</td></tr><tr><th>20</th><td>6.8</td><td>2.8</td><td>4.8</td><td>1.4</td><td>Iris-versicolor</td></tr><tr><th>21</th><td>6.7</td><td>3.3</td><td>5.7</td><td>2.5</td><td>Iris-virginica</td></tr><tr><th>22</th><td>6.7</td><td>3.3</td><td>5.7</td><td>2.1</td><td>Iris-virginica</td></tr><tr><th>23</th><td>6.7</td><td>3.1</td><td>5.6</td><td>2.4</td><td>Iris-virginica</td></tr><tr><th>24</th><td>6.7</td><td>3.1</td><td>4.7</td><td>1.5</td><td>Iris-versicolor</td></tr><tr><th>25</th><td>6.7</td><td>3.1</td><td>4.4</td><td>1.4</td><td>Iris-versicolor</td></tr><tr><th>26</th><td>6.7</td><td>3.0</td><td>5.2</td><td>2.3</td><td>Iris-virginica</td></tr><tr><th>27</th><td>6.7</td><td>3.0</td><td>5.0</td><td>1.7</td><td>Iris-versicolor</td></tr><tr><th>28</th><td>6.7</td><td>2.5</td><td>5.8</td><td>1.8</td><td>Iris-virginica</td></tr><tr><th>29</th><td>6.6</td><td>3.0</td><td>4.4</td><td>1.4</td><td>Iris-versicolor</td></tr><tr><th>30</th><td>6.6</td><td>2.9</td><td>4.6</td><td>1.3</td><td>Iris-versicolor</td></tr><tr><th>&vellip;</th><td>&vellip;</td><td>&vellip;</td><td>&vellip;</td><td>&vellip;</td><td>&vellip;</td></tr></tbody></table>"
      ],
      "text/latex": [
       "\\begin{tabular}{r|ccccc}\n",
       "\t& SepalLength & SepalWidth & PetalLength & PetalWidth & Class\\\\\n",
       "\t\\hline\n",
       "\t& Float64 & Float64 & Float64 & Float64 & String\\\\\n",
       "\t\\hline\n",
       "\t1 & 7.9 & 3.8 & 6.4 & 2.0 & Iris-virginica \\\\\n",
       "\t2 & 7.7 & 3.8 & 6.7 & 2.2 & Iris-virginica \\\\\n",
       "\t3 & 7.7 & 3.0 & 6.1 & 2.3 & Iris-virginica \\\\\n",
       "\t4 & 7.7 & 2.8 & 6.7 & 2.0 & Iris-virginica \\\\\n",
       "\t5 & 7.7 & 2.6 & 6.9 & 2.3 & Iris-virginica \\\\\n",
       "\t6 & 7.6 & 3.0 & 6.6 & 2.1 & Iris-virginica \\\\\n",
       "\t7 & 7.4 & 2.8 & 6.1 & 1.9 & Iris-virginica \\\\\n",
       "\t8 & 7.3 & 2.9 & 6.3 & 1.8 & Iris-virginica \\\\\n",
       "\t9 & 7.2 & 3.6 & 6.1 & 2.5 & Iris-virginica \\\\\n",
       "\t10 & 7.2 & 3.2 & 6.0 & 1.8 & Iris-virginica \\\\\n",
       "\t11 & 7.2 & 3.0 & 5.8 & 1.6 & Iris-virginica \\\\\n",
       "\t12 & 7.1 & 3.0 & 5.9 & 2.1 & Iris-virginica \\\\\n",
       "\t13 & 7.0 & 3.2 & 4.7 & 1.4 & Iris-versicolor \\\\\n",
       "\t14 & 6.9 & 3.2 & 5.7 & 2.3 & Iris-virginica \\\\\n",
       "\t15 & 6.9 & 3.1 & 5.4 & 2.1 & Iris-virginica \\\\\n",
       "\t16 & 6.9 & 3.1 & 5.1 & 2.3 & Iris-virginica \\\\\n",
       "\t17 & 6.9 & 3.1 & 4.9 & 1.5 & Iris-versicolor \\\\\n",
       "\t18 & 6.8 & 3.2 & 5.9 & 2.3 & Iris-virginica \\\\\n",
       "\t19 & 6.8 & 3.0 & 5.5 & 2.1 & Iris-virginica \\\\\n",
       "\t20 & 6.8 & 2.8 & 4.8 & 1.4 & Iris-versicolor \\\\\n",
       "\t21 & 6.7 & 3.3 & 5.7 & 2.5 & Iris-virginica \\\\\n",
       "\t22 & 6.7 & 3.3 & 5.7 & 2.1 & Iris-virginica \\\\\n",
       "\t23 & 6.7 & 3.1 & 5.6 & 2.4 & Iris-virginica \\\\\n",
       "\t24 & 6.7 & 3.1 & 4.7 & 1.5 & Iris-versicolor \\\\\n",
       "\t25 & 6.7 & 3.1 & 4.4 & 1.4 & Iris-versicolor \\\\\n",
       "\t26 & 6.7 & 3.0 & 5.2 & 2.3 & Iris-virginica \\\\\n",
       "\t27 & 6.7 & 3.0 & 5.0 & 1.7 & Iris-versicolor \\\\\n",
       "\t28 & 6.7 & 2.5 & 5.8 & 1.8 & Iris-virginica \\\\\n",
       "\t29 & 6.6 & 3.0 & 4.4 & 1.4 & Iris-versicolor \\\\\n",
       "\t30 & 6.6 & 2.9 & 4.6 & 1.3 & Iris-versicolor \\\\\n",
       "\t$\\dots$ & $\\dots$ & $\\dots$ & $\\dots$ & $\\dots$ & $\\dots$ \\\\\n",
       "\\end{tabular}\n"
      ],
      "text/plain": [
       "150×5 DataFrame\n",
       "│ Row │ SepalLength │ SepalWidth │ PetalLength │ PetalWidth │ Class          │\n",
       "│     │ \u001b[90mFloat64\u001b[39m     │ \u001b[90mFloat64\u001b[39m    │ \u001b[90mFloat64\u001b[39m     │ \u001b[90mFloat64\u001b[39m    │ \u001b[90mString\u001b[39m         │\n",
       "├─────┼─────────────┼────────────┼─────────────┼────────────┼────────────────┤\n",
       "│ 1   │ 7.9         │ 3.8        │ 6.4         │ 2.0        │ Iris-virginica │\n",
       "│ 2   │ 7.7         │ 3.8        │ 6.7         │ 2.2        │ Iris-virginica │\n",
       "│ 3   │ 7.7         │ 3.0        │ 6.1         │ 2.3        │ Iris-virginica │\n",
       "│ 4   │ 7.7         │ 2.8        │ 6.7         │ 2.0        │ Iris-virginica │\n",
       "│ 5   │ 7.7         │ 2.6        │ 6.9         │ 2.3        │ Iris-virginica │\n",
       "│ 6   │ 7.6         │ 3.0        │ 6.6         │ 2.1        │ Iris-virginica │\n",
       "│ 7   │ 7.4         │ 2.8        │ 6.1         │ 1.9        │ Iris-virginica │\n",
       "│ 8   │ 7.3         │ 2.9        │ 6.3         │ 1.8        │ Iris-virginica │\n",
       "│ 9   │ 7.2         │ 3.6        │ 6.1         │ 2.5        │ Iris-virginica │\n",
       "│ 10  │ 7.2         │ 3.2        │ 6.0         │ 1.8        │ Iris-virginica │\n",
       "⋮\n",
       "│ 140 │ 4.7         │ 3.2        │ 1.6         │ 0.2        │ Iris-setosa    │\n",
       "│ 141 │ 4.7         │ 3.2        │ 1.3         │ 0.2        │ Iris-setosa    │\n",
       "│ 142 │ 4.6         │ 3.6        │ 1.0         │ 0.2        │ Iris-setosa    │\n",
       "│ 143 │ 4.6         │ 3.4        │ 1.4         │ 0.3        │ Iris-setosa    │\n",
       "│ 144 │ 4.6         │ 3.2        │ 1.4         │ 0.2        │ Iris-setosa    │\n",
       "│ 145 │ 4.6         │ 3.1        │ 1.5         │ 0.2        │ Iris-setosa    │\n",
       "│ 146 │ 4.5         │ 2.3        │ 1.3         │ 0.3        │ Iris-setosa    │\n",
       "│ 147 │ 4.4         │ 3.2        │ 1.3         │ 0.2        │ Iris-setosa    │\n",
       "│ 148 │ 4.4         │ 3.0        │ 1.3         │ 0.2        │ Iris-setosa    │\n",
       "│ 149 │ 4.4         │ 2.9        │ 1.4         │ 0.2        │ Iris-setosa    │\n",
       "│ 150 │ 4.3         │ 3.0        │ 1.1         │ 0.1        │ Iris-setosa    │"
      ]
     },
     "execution_count": 21,
     "metadata": {},
     "output_type": "execute_result"
    }
   ],
   "source": [
    "sort(df, rev = true)"
   ]
  },
  {
   "cell_type": "markdown",
   "metadata": {
    "colab_type": "text",
    "id": "fJj7suUnCZK3"
   },
   "source": [
    "指定欲排序的欄位, 可以用 index 也可以用欄位名."
   ]
  },
  {
   "cell_type": "code",
   "execution_count": 22,
   "metadata": {
    "colab": {},
    "colab_type": "code",
    "id": "xOs9EShXCZK5",
    "outputId": "73cd9c00-e966-4a0b-de4a-071132ab3d1e"
   },
   "outputs": [
    {
     "data": {
      "text/html": [
       "<table class=\"data-frame\"><thead><tr><th></th><th>SepalLength</th><th>SepalWidth</th><th>PetalLength</th><th>PetalWidth</th><th>Class</th></tr><tr><th></th><th>Float64</th><th>Float64</th><th>Float64</th><th>Float64</th><th>String</th></tr></thead><tbody><p>150 rows × 5 columns</p><tr><th>1</th><td>7.9</td><td>3.8</td><td>6.4</td><td>2.0</td><td>Iris-virginica</td></tr><tr><th>2</th><td>7.7</td><td>3.8</td><td>6.7</td><td>2.2</td><td>Iris-virginica</td></tr><tr><th>3</th><td>7.7</td><td>3.0</td><td>6.1</td><td>2.3</td><td>Iris-virginica</td></tr><tr><th>4</th><td>7.7</td><td>2.8</td><td>6.7</td><td>2.0</td><td>Iris-virginica</td></tr><tr><th>5</th><td>7.7</td><td>2.6</td><td>6.9</td><td>2.3</td><td>Iris-virginica</td></tr><tr><th>6</th><td>7.6</td><td>3.0</td><td>6.6</td><td>2.1</td><td>Iris-virginica</td></tr><tr><th>7</th><td>7.4</td><td>2.8</td><td>6.1</td><td>1.9</td><td>Iris-virginica</td></tr><tr><th>8</th><td>7.3</td><td>2.9</td><td>6.3</td><td>1.8</td><td>Iris-virginica</td></tr><tr><th>9</th><td>7.2</td><td>3.6</td><td>6.1</td><td>2.5</td><td>Iris-virginica</td></tr><tr><th>10</th><td>7.2</td><td>3.2</td><td>6.0</td><td>1.8</td><td>Iris-virginica</td></tr><tr><th>11</th><td>7.2</td><td>3.0</td><td>5.8</td><td>1.6</td><td>Iris-virginica</td></tr><tr><th>12</th><td>7.1</td><td>3.0</td><td>5.9</td><td>2.1</td><td>Iris-virginica</td></tr><tr><th>13</th><td>7.0</td><td>3.2</td><td>4.7</td><td>1.4</td><td>Iris-versicolor</td></tr><tr><th>14</th><td>6.9</td><td>3.2</td><td>5.7</td><td>2.3</td><td>Iris-virginica</td></tr><tr><th>15</th><td>6.9</td><td>3.1</td><td>5.4</td><td>2.1</td><td>Iris-virginica</td></tr><tr><th>16</th><td>6.9</td><td>3.1</td><td>5.1</td><td>2.3</td><td>Iris-virginica</td></tr><tr><th>17</th><td>6.9</td><td>3.1</td><td>4.9</td><td>1.5</td><td>Iris-versicolor</td></tr><tr><th>18</th><td>6.8</td><td>3.2</td><td>5.9</td><td>2.3</td><td>Iris-virginica</td></tr><tr><th>19</th><td>6.8</td><td>3.0</td><td>5.5</td><td>2.1</td><td>Iris-virginica</td></tr><tr><th>20</th><td>6.8</td><td>2.8</td><td>4.8</td><td>1.4</td><td>Iris-versicolor</td></tr><tr><th>21</th><td>6.7</td><td>3.3</td><td>5.7</td><td>2.5</td><td>Iris-virginica</td></tr><tr><th>22</th><td>6.7</td><td>3.3</td><td>5.7</td><td>2.1</td><td>Iris-virginica</td></tr><tr><th>23</th><td>6.7</td><td>3.1</td><td>5.6</td><td>2.4</td><td>Iris-virginica</td></tr><tr><th>24</th><td>6.7</td><td>3.1</td><td>4.7</td><td>1.5</td><td>Iris-versicolor</td></tr><tr><th>25</th><td>6.7</td><td>3.1</td><td>4.4</td><td>1.4</td><td>Iris-versicolor</td></tr><tr><th>26</th><td>6.7</td><td>3.0</td><td>5.2</td><td>2.3</td><td>Iris-virginica</td></tr><tr><th>27</th><td>6.7</td><td>3.0</td><td>5.0</td><td>1.7</td><td>Iris-versicolor</td></tr><tr><th>28</th><td>6.7</td><td>2.5</td><td>5.8</td><td>1.8</td><td>Iris-virginica</td></tr><tr><th>29</th><td>6.6</td><td>3.0</td><td>4.4</td><td>1.4</td><td>Iris-versicolor</td></tr><tr><th>30</th><td>6.6</td><td>2.9</td><td>4.6</td><td>1.3</td><td>Iris-versicolor</td></tr><tr><th>&vellip;</th><td>&vellip;</td><td>&vellip;</td><td>&vellip;</td><td>&vellip;</td><td>&vellip;</td></tr></tbody></table>"
      ],
      "text/latex": [
       "\\begin{tabular}{r|ccccc}\n",
       "\t& SepalLength & SepalWidth & PetalLength & PetalWidth & Class\\\\\n",
       "\t\\hline\n",
       "\t& Float64 & Float64 & Float64 & Float64 & String\\\\\n",
       "\t\\hline\n",
       "\t1 & 7.9 & 3.8 & 6.4 & 2.0 & Iris-virginica \\\\\n",
       "\t2 & 7.7 & 3.8 & 6.7 & 2.2 & Iris-virginica \\\\\n",
       "\t3 & 7.7 & 3.0 & 6.1 & 2.3 & Iris-virginica \\\\\n",
       "\t4 & 7.7 & 2.8 & 6.7 & 2.0 & Iris-virginica \\\\\n",
       "\t5 & 7.7 & 2.6 & 6.9 & 2.3 & Iris-virginica \\\\\n",
       "\t6 & 7.6 & 3.0 & 6.6 & 2.1 & Iris-virginica \\\\\n",
       "\t7 & 7.4 & 2.8 & 6.1 & 1.9 & Iris-virginica \\\\\n",
       "\t8 & 7.3 & 2.9 & 6.3 & 1.8 & Iris-virginica \\\\\n",
       "\t9 & 7.2 & 3.6 & 6.1 & 2.5 & Iris-virginica \\\\\n",
       "\t10 & 7.2 & 3.2 & 6.0 & 1.8 & Iris-virginica \\\\\n",
       "\t11 & 7.2 & 3.0 & 5.8 & 1.6 & Iris-virginica \\\\\n",
       "\t12 & 7.1 & 3.0 & 5.9 & 2.1 & Iris-virginica \\\\\n",
       "\t13 & 7.0 & 3.2 & 4.7 & 1.4 & Iris-versicolor \\\\\n",
       "\t14 & 6.9 & 3.2 & 5.7 & 2.3 & Iris-virginica \\\\\n",
       "\t15 & 6.9 & 3.1 & 5.4 & 2.1 & Iris-virginica \\\\\n",
       "\t16 & 6.9 & 3.1 & 5.1 & 2.3 & Iris-virginica \\\\\n",
       "\t17 & 6.9 & 3.1 & 4.9 & 1.5 & Iris-versicolor \\\\\n",
       "\t18 & 6.8 & 3.2 & 5.9 & 2.3 & Iris-virginica \\\\\n",
       "\t19 & 6.8 & 3.0 & 5.5 & 2.1 & Iris-virginica \\\\\n",
       "\t20 & 6.8 & 2.8 & 4.8 & 1.4 & Iris-versicolor \\\\\n",
       "\t21 & 6.7 & 3.3 & 5.7 & 2.5 & Iris-virginica \\\\\n",
       "\t22 & 6.7 & 3.3 & 5.7 & 2.1 & Iris-virginica \\\\\n",
       "\t23 & 6.7 & 3.1 & 5.6 & 2.4 & Iris-virginica \\\\\n",
       "\t24 & 6.7 & 3.1 & 4.7 & 1.5 & Iris-versicolor \\\\\n",
       "\t25 & 6.7 & 3.1 & 4.4 & 1.4 & Iris-versicolor \\\\\n",
       "\t26 & 6.7 & 3.0 & 5.2 & 2.3 & Iris-virginica \\\\\n",
       "\t27 & 6.7 & 3.0 & 5.0 & 1.7 & Iris-versicolor \\\\\n",
       "\t28 & 6.7 & 2.5 & 5.8 & 1.8 & Iris-virginica \\\\\n",
       "\t29 & 6.6 & 3.0 & 4.4 & 1.4 & Iris-versicolor \\\\\n",
       "\t30 & 6.6 & 2.9 & 4.6 & 1.3 & Iris-versicolor \\\\\n",
       "\t$\\dots$ & $\\dots$ & $\\dots$ & $\\dots$ & $\\dots$ & $\\dots$ \\\\\n",
       "\\end{tabular}\n"
      ],
      "text/plain": [
       "150×5 DataFrame\n",
       "│ Row │ SepalLength │ SepalWidth │ PetalLength │ PetalWidth │ Class          │\n",
       "│     │ \u001b[90mFloat64\u001b[39m     │ \u001b[90mFloat64\u001b[39m    │ \u001b[90mFloat64\u001b[39m     │ \u001b[90mFloat64\u001b[39m    │ \u001b[90mString\u001b[39m         │\n",
       "├─────┼─────────────┼────────────┼─────────────┼────────────┼────────────────┤\n",
       "│ 1   │ 7.9         │ 3.8        │ 6.4         │ 2.0        │ Iris-virginica │\n",
       "│ 2   │ 7.7         │ 3.8        │ 6.7         │ 2.2        │ Iris-virginica │\n",
       "│ 3   │ 7.7         │ 3.0        │ 6.1         │ 2.3        │ Iris-virginica │\n",
       "│ 4   │ 7.7         │ 2.8        │ 6.7         │ 2.0        │ Iris-virginica │\n",
       "│ 5   │ 7.7         │ 2.6        │ 6.9         │ 2.3        │ Iris-virginica │\n",
       "│ 6   │ 7.6         │ 3.0        │ 6.6         │ 2.1        │ Iris-virginica │\n",
       "│ 7   │ 7.4         │ 2.8        │ 6.1         │ 1.9        │ Iris-virginica │\n",
       "│ 8   │ 7.3         │ 2.9        │ 6.3         │ 1.8        │ Iris-virginica │\n",
       "│ 9   │ 7.2         │ 3.6        │ 6.1         │ 2.5        │ Iris-virginica │\n",
       "│ 10  │ 7.2         │ 3.2        │ 6.0         │ 1.8        │ Iris-virginica │\n",
       "⋮\n",
       "│ 140 │ 4.7         │ 3.2        │ 1.6         │ 0.2        │ Iris-setosa    │\n",
       "│ 141 │ 4.7         │ 3.2        │ 1.3         │ 0.2        │ Iris-setosa    │\n",
       "│ 142 │ 4.6         │ 3.6        │ 1.0         │ 0.2        │ Iris-setosa    │\n",
       "│ 143 │ 4.6         │ 3.4        │ 1.4         │ 0.3        │ Iris-setosa    │\n",
       "│ 144 │ 4.6         │ 3.2        │ 1.4         │ 0.2        │ Iris-setosa    │\n",
       "│ 145 │ 4.6         │ 3.1        │ 1.5         │ 0.2        │ Iris-setosa    │\n",
       "│ 146 │ 4.5         │ 2.3        │ 1.3         │ 0.3        │ Iris-setosa    │\n",
       "│ 147 │ 4.4         │ 3.2        │ 1.3         │ 0.2        │ Iris-setosa    │\n",
       "│ 148 │ 4.4         │ 3.0        │ 1.3         │ 0.2        │ Iris-setosa    │\n",
       "│ 149 │ 4.4         │ 2.9        │ 1.4         │ 0.2        │ Iris-setosa    │\n",
       "│ 150 │ 4.3         │ 3.0        │ 1.1         │ 0.1        │ Iris-setosa    │"
      ]
     },
     "execution_count": 22,
     "metadata": {},
     "output_type": "execute_result"
    }
   ],
   "source": [
    "sort(df, [1, 2, 3, 4], rev=true)\n",
    "# 結果上例完全相同"
   ]
  },
  {
   "cell_type": "markdown",
   "metadata": {
    "colab_type": "text",
    "id": "XPBlaSBHCZK8"
   },
   "source": [
    "若要針對 2 個欄位進行排序, 而且排序方法不同的話, 可依照下面示範."
   ]
  },
  {
   "cell_type": "code",
   "execution_count": 23,
   "metadata": {
    "colab": {},
    "colab_type": "code",
    "id": "X8lurCR5CZK9",
    "outputId": "4a53a1bb-b884-4d4c-955f-ae33980e05b2"
   },
   "outputs": [
    {
     "data": {
      "text/html": [
       "<table class=\"data-frame\"><thead><tr><th></th><th>SepalLength</th><th>SepalWidth</th><th>PetalLength</th><th>PetalWidth</th><th>Class</th></tr><tr><th></th><th>Float64</th><th>Float64</th><th>Float64</th><th>Float64</th><th>String</th></tr></thead><tbody><p>150 rows × 5 columns</p><tr><th>1</th><td>6.1</td><td>2.6</td><td>5.6</td><td>1.4</td><td>Iris-virginica</td></tr><tr><th>2</th><td>6.0</td><td>2.2</td><td>5.0</td><td>1.5</td><td>Iris-virginica</td></tr><tr><th>3</th><td>6.3</td><td>2.8</td><td>5.1</td><td>1.5</td><td>Iris-virginica</td></tr><tr><th>4</th><td>7.2</td><td>3.0</td><td>5.8</td><td>1.6</td><td>Iris-virginica</td></tr><tr><th>5</th><td>4.9</td><td>2.5</td><td>4.5</td><td>1.7</td><td>Iris-virginica</td></tr><tr><th>6</th><td>6.3</td><td>2.9</td><td>5.6</td><td>1.8</td><td>Iris-virginica</td></tr><tr><th>7</th><td>7.3</td><td>2.9</td><td>6.3</td><td>1.8</td><td>Iris-virginica</td></tr><tr><th>8</th><td>6.7</td><td>2.5</td><td>5.8</td><td>1.8</td><td>Iris-virginica</td></tr><tr><th>9</th><td>6.5</td><td>3.0</td><td>5.5</td><td>1.8</td><td>Iris-virginica</td></tr><tr><th>10</th><td>6.3</td><td>2.7</td><td>4.9</td><td>1.8</td><td>Iris-virginica</td></tr><tr><th>11</th><td>7.2</td><td>3.2</td><td>6.0</td><td>1.8</td><td>Iris-virginica</td></tr><tr><th>12</th><td>6.2</td><td>2.8</td><td>4.8</td><td>1.8</td><td>Iris-virginica</td></tr><tr><th>13</th><td>6.1</td><td>3.0</td><td>4.9</td><td>1.8</td><td>Iris-virginica</td></tr><tr><th>14</th><td>6.4</td><td>3.1</td><td>5.5</td><td>1.8</td><td>Iris-virginica</td></tr><tr><th>15</th><td>6.0</td><td>3.0</td><td>4.8</td><td>1.8</td><td>Iris-virginica</td></tr><tr><th>16</th><td>5.9</td><td>3.0</td><td>5.1</td><td>1.8</td><td>Iris-virginica</td></tr><tr><th>17</th><td>5.8</td><td>2.7</td><td>5.1</td><td>1.9</td><td>Iris-virginica</td></tr><tr><th>18</th><td>6.4</td><td>2.7</td><td>5.3</td><td>1.9</td><td>Iris-virginica</td></tr><tr><th>19</th><td>7.4</td><td>2.8</td><td>6.1</td><td>1.9</td><td>Iris-virginica</td></tr><tr><th>20</th><td>5.8</td><td>2.7</td><td>5.1</td><td>1.9</td><td>Iris-virginica</td></tr><tr><th>21</th><td>6.3</td><td>2.5</td><td>5.0</td><td>1.9</td><td>Iris-virginica</td></tr><tr><th>22</th><td>6.5</td><td>3.2</td><td>5.1</td><td>2.0</td><td>Iris-virginica</td></tr><tr><th>23</th><td>5.7</td><td>2.5</td><td>5.0</td><td>2.0</td><td>Iris-virginica</td></tr><tr><th>24</th><td>5.6</td><td>2.8</td><td>4.9</td><td>2.0</td><td>Iris-virginica</td></tr><tr><th>25</th><td>7.7</td><td>2.8</td><td>6.7</td><td>2.0</td><td>Iris-virginica</td></tr><tr><th>26</th><td>7.9</td><td>3.8</td><td>6.4</td><td>2.0</td><td>Iris-virginica</td></tr><tr><th>27</th><td>6.5</td><td>3.0</td><td>5.2</td><td>2.0</td><td>Iris-virginica</td></tr><tr><th>28</th><td>7.1</td><td>3.0</td><td>5.9</td><td>2.1</td><td>Iris-virginica</td></tr><tr><th>29</th><td>7.6</td><td>3.0</td><td>6.6</td><td>2.1</td><td>Iris-virginica</td></tr><tr><th>30</th><td>6.8</td><td>3.0</td><td>5.5</td><td>2.1</td><td>Iris-virginica</td></tr><tr><th>&vellip;</th><td>&vellip;</td><td>&vellip;</td><td>&vellip;</td><td>&vellip;</td><td>&vellip;</td></tr></tbody></table>"
      ],
      "text/latex": [
       "\\begin{tabular}{r|ccccc}\n",
       "\t& SepalLength & SepalWidth & PetalLength & PetalWidth & Class\\\\\n",
       "\t\\hline\n",
       "\t& Float64 & Float64 & Float64 & Float64 & String\\\\\n",
       "\t\\hline\n",
       "\t1 & 6.1 & 2.6 & 5.6 & 1.4 & Iris-virginica \\\\\n",
       "\t2 & 6.0 & 2.2 & 5.0 & 1.5 & Iris-virginica \\\\\n",
       "\t3 & 6.3 & 2.8 & 5.1 & 1.5 & Iris-virginica \\\\\n",
       "\t4 & 7.2 & 3.0 & 5.8 & 1.6 & Iris-virginica \\\\\n",
       "\t5 & 4.9 & 2.5 & 4.5 & 1.7 & Iris-virginica \\\\\n",
       "\t6 & 6.3 & 2.9 & 5.6 & 1.8 & Iris-virginica \\\\\n",
       "\t7 & 7.3 & 2.9 & 6.3 & 1.8 & Iris-virginica \\\\\n",
       "\t8 & 6.7 & 2.5 & 5.8 & 1.8 & Iris-virginica \\\\\n",
       "\t9 & 6.5 & 3.0 & 5.5 & 1.8 & Iris-virginica \\\\\n",
       "\t10 & 6.3 & 2.7 & 4.9 & 1.8 & Iris-virginica \\\\\n",
       "\t11 & 7.2 & 3.2 & 6.0 & 1.8 & Iris-virginica \\\\\n",
       "\t12 & 6.2 & 2.8 & 4.8 & 1.8 & Iris-virginica \\\\\n",
       "\t13 & 6.1 & 3.0 & 4.9 & 1.8 & Iris-virginica \\\\\n",
       "\t14 & 6.4 & 3.1 & 5.5 & 1.8 & Iris-virginica \\\\\n",
       "\t15 & 6.0 & 3.0 & 4.8 & 1.8 & Iris-virginica \\\\\n",
       "\t16 & 5.9 & 3.0 & 5.1 & 1.8 & Iris-virginica \\\\\n",
       "\t17 & 5.8 & 2.7 & 5.1 & 1.9 & Iris-virginica \\\\\n",
       "\t18 & 6.4 & 2.7 & 5.3 & 1.9 & Iris-virginica \\\\\n",
       "\t19 & 7.4 & 2.8 & 6.1 & 1.9 & Iris-virginica \\\\\n",
       "\t20 & 5.8 & 2.7 & 5.1 & 1.9 & Iris-virginica \\\\\n",
       "\t21 & 6.3 & 2.5 & 5.0 & 1.9 & Iris-virginica \\\\\n",
       "\t22 & 6.5 & 3.2 & 5.1 & 2.0 & Iris-virginica \\\\\n",
       "\t23 & 5.7 & 2.5 & 5.0 & 2.0 & Iris-virginica \\\\\n",
       "\t24 & 5.6 & 2.8 & 4.9 & 2.0 & Iris-virginica \\\\\n",
       "\t25 & 7.7 & 2.8 & 6.7 & 2.0 & Iris-virginica \\\\\n",
       "\t26 & 7.9 & 3.8 & 6.4 & 2.0 & Iris-virginica \\\\\n",
       "\t27 & 6.5 & 3.0 & 5.2 & 2.0 & Iris-virginica \\\\\n",
       "\t28 & 7.1 & 3.0 & 5.9 & 2.1 & Iris-virginica \\\\\n",
       "\t29 & 7.6 & 3.0 & 6.6 & 2.1 & Iris-virginica \\\\\n",
       "\t30 & 6.8 & 3.0 & 5.5 & 2.1 & Iris-virginica \\\\\n",
       "\t$\\dots$ & $\\dots$ & $\\dots$ & $\\dots$ & $\\dots$ & $\\dots$ \\\\\n",
       "\\end{tabular}\n"
      ],
      "text/plain": [
       "150×5 DataFrame\n",
       "│ Row │ SepalLength │ SepalWidth │ PetalLength │ PetalWidth │ Class          │\n",
       "│     │ \u001b[90mFloat64\u001b[39m     │ \u001b[90mFloat64\u001b[39m    │ \u001b[90mFloat64\u001b[39m     │ \u001b[90mFloat64\u001b[39m    │ \u001b[90mString\u001b[39m         │\n",
       "├─────┼─────────────┼────────────┼─────────────┼────────────┼────────────────┤\n",
       "│ 1   │ 6.1         │ 2.6        │ 5.6         │ 1.4        │ Iris-virginica │\n",
       "│ 2   │ 6.0         │ 2.2        │ 5.0         │ 1.5        │ Iris-virginica │\n",
       "│ 3   │ 6.3         │ 2.8        │ 5.1         │ 1.5        │ Iris-virginica │\n",
       "│ 4   │ 7.2         │ 3.0        │ 5.8         │ 1.6        │ Iris-virginica │\n",
       "│ 5   │ 4.9         │ 2.5        │ 4.5         │ 1.7        │ Iris-virginica │\n",
       "│ 6   │ 6.3         │ 2.9        │ 5.6         │ 1.8        │ Iris-virginica │\n",
       "│ 7   │ 7.3         │ 2.9        │ 6.3         │ 1.8        │ Iris-virginica │\n",
       "│ 8   │ 6.7         │ 2.5        │ 5.8         │ 1.8        │ Iris-virginica │\n",
       "│ 9   │ 6.5         │ 3.0        │ 5.5         │ 1.8        │ Iris-virginica │\n",
       "│ 10  │ 6.3         │ 2.7        │ 4.9         │ 1.8        │ Iris-virginica │\n",
       "⋮\n",
       "│ 140 │ 4.5         │ 2.3        │ 1.3         │ 0.3        │ Iris-setosa    │\n",
       "│ 141 │ 4.8         │ 3.0        │ 1.4         │ 0.3        │ Iris-setosa    │\n",
       "│ 142 │ 5.4         │ 3.9        │ 1.7         │ 0.4        │ Iris-setosa    │\n",
       "│ 143 │ 5.7         │ 4.4        │ 1.5         │ 0.4        │ Iris-setosa    │\n",
       "│ 144 │ 5.4         │ 3.9        │ 1.3         │ 0.4        │ Iris-setosa    │\n",
       "│ 145 │ 5.1         │ 3.7        │ 1.5         │ 0.4        │ Iris-setosa    │\n",
       "│ 146 │ 5.0         │ 3.4        │ 1.6         │ 0.4        │ Iris-setosa    │\n",
       "│ 147 │ 5.4         │ 3.4        │ 1.5         │ 0.4        │ Iris-setosa    │\n",
       "│ 148 │ 5.1         │ 3.8        │ 1.9         │ 0.4        │ Iris-setosa    │\n",
       "│ 149 │ 5.1         │ 3.3        │ 1.7         │ 0.5        │ Iris-setosa    │\n",
       "│ 150 │ 5.0         │ 3.5        │ 1.6         │ 0.6        │ Iris-setosa    │"
      ]
     },
     "execution_count": 23,
     "metadata": {},
     "output_type": "execute_result"
    }
   ],
   "source": [
    "# 一個欄位是 descending 排序, 一個是 ascending\n",
    "sort(df, (:Class, :PetalWidth), rev=(true,false))"
   ]
  },
  {
   "cell_type": "code",
   "execution_count": 24,
   "metadata": {
    "colab": {},
    "colab_type": "code",
    "id": "b3RXCKsvCZLB",
    "outputId": "cb7074db-b33d-4ce5-8209-0be55c0933a3"
   },
   "outputs": [
    {
     "data": {
      "text/html": [
       "<table class=\"data-frame\"><thead><tr><th></th><th>SepalLength</th><th>SepalWidth</th><th>PetalLength</th><th>PetalWidth</th><th>Class</th></tr><tr><th></th><th>Float64</th><th>Float64</th><th>Float64</th><th>Float64</th><th>String</th></tr></thead><tbody><p>150 rows × 5 columns</p><tr><th>1</th><td>6.1</td><td>2.6</td><td>5.6</td><td>1.4</td><td>Iris-virginica</td></tr><tr><th>2</th><td>6.0</td><td>2.2</td><td>5.0</td><td>1.5</td><td>Iris-virginica</td></tr><tr><th>3</th><td>6.3</td><td>2.8</td><td>5.1</td><td>1.5</td><td>Iris-virginica</td></tr><tr><th>4</th><td>7.2</td><td>3.0</td><td>5.8</td><td>1.6</td><td>Iris-virginica</td></tr><tr><th>5</th><td>4.9</td><td>2.5</td><td>4.5</td><td>1.7</td><td>Iris-virginica</td></tr><tr><th>6</th><td>6.3</td><td>2.9</td><td>5.6</td><td>1.8</td><td>Iris-virginica</td></tr><tr><th>7</th><td>7.3</td><td>2.9</td><td>6.3</td><td>1.8</td><td>Iris-virginica</td></tr><tr><th>8</th><td>6.7</td><td>2.5</td><td>5.8</td><td>1.8</td><td>Iris-virginica</td></tr><tr><th>9</th><td>6.5</td><td>3.0</td><td>5.5</td><td>1.8</td><td>Iris-virginica</td></tr><tr><th>10</th><td>6.3</td><td>2.7</td><td>4.9</td><td>1.8</td><td>Iris-virginica</td></tr><tr><th>11</th><td>7.2</td><td>3.2</td><td>6.0</td><td>1.8</td><td>Iris-virginica</td></tr><tr><th>12</th><td>6.2</td><td>2.8</td><td>4.8</td><td>1.8</td><td>Iris-virginica</td></tr><tr><th>13</th><td>6.1</td><td>3.0</td><td>4.9</td><td>1.8</td><td>Iris-virginica</td></tr><tr><th>14</th><td>6.4</td><td>3.1</td><td>5.5</td><td>1.8</td><td>Iris-virginica</td></tr><tr><th>15</th><td>6.0</td><td>3.0</td><td>4.8</td><td>1.8</td><td>Iris-virginica</td></tr><tr><th>16</th><td>5.9</td><td>3.0</td><td>5.1</td><td>1.8</td><td>Iris-virginica</td></tr><tr><th>17</th><td>5.8</td><td>2.7</td><td>5.1</td><td>1.9</td><td>Iris-virginica</td></tr><tr><th>18</th><td>6.4</td><td>2.7</td><td>5.3</td><td>1.9</td><td>Iris-virginica</td></tr><tr><th>19</th><td>7.4</td><td>2.8</td><td>6.1</td><td>1.9</td><td>Iris-virginica</td></tr><tr><th>20</th><td>5.8</td><td>2.7</td><td>5.1</td><td>1.9</td><td>Iris-virginica</td></tr><tr><th>21</th><td>6.3</td><td>2.5</td><td>5.0</td><td>1.9</td><td>Iris-virginica</td></tr><tr><th>22</th><td>6.5</td><td>3.2</td><td>5.1</td><td>2.0</td><td>Iris-virginica</td></tr><tr><th>23</th><td>5.7</td><td>2.5</td><td>5.0</td><td>2.0</td><td>Iris-virginica</td></tr><tr><th>24</th><td>5.6</td><td>2.8</td><td>4.9</td><td>2.0</td><td>Iris-virginica</td></tr><tr><th>25</th><td>7.7</td><td>2.8</td><td>6.7</td><td>2.0</td><td>Iris-virginica</td></tr><tr><th>26</th><td>7.9</td><td>3.8</td><td>6.4</td><td>2.0</td><td>Iris-virginica</td></tr><tr><th>27</th><td>6.5</td><td>3.0</td><td>5.2</td><td>2.0</td><td>Iris-virginica</td></tr><tr><th>28</th><td>7.1</td><td>3.0</td><td>5.9</td><td>2.1</td><td>Iris-virginica</td></tr><tr><th>29</th><td>7.6</td><td>3.0</td><td>6.6</td><td>2.1</td><td>Iris-virginica</td></tr><tr><th>30</th><td>6.8</td><td>3.0</td><td>5.5</td><td>2.1</td><td>Iris-virginica</td></tr><tr><th>&vellip;</th><td>&vellip;</td><td>&vellip;</td><td>&vellip;</td><td>&vellip;</td><td>&vellip;</td></tr></tbody></table>"
      ],
      "text/latex": [
       "\\begin{tabular}{r|ccccc}\n",
       "\t& SepalLength & SepalWidth & PetalLength & PetalWidth & Class\\\\\n",
       "\t\\hline\n",
       "\t& Float64 & Float64 & Float64 & Float64 & String\\\\\n",
       "\t\\hline\n",
       "\t1 & 6.1 & 2.6 & 5.6 & 1.4 & Iris-virginica \\\\\n",
       "\t2 & 6.0 & 2.2 & 5.0 & 1.5 & Iris-virginica \\\\\n",
       "\t3 & 6.3 & 2.8 & 5.1 & 1.5 & Iris-virginica \\\\\n",
       "\t4 & 7.2 & 3.0 & 5.8 & 1.6 & Iris-virginica \\\\\n",
       "\t5 & 4.9 & 2.5 & 4.5 & 1.7 & Iris-virginica \\\\\n",
       "\t6 & 6.3 & 2.9 & 5.6 & 1.8 & Iris-virginica \\\\\n",
       "\t7 & 7.3 & 2.9 & 6.3 & 1.8 & Iris-virginica \\\\\n",
       "\t8 & 6.7 & 2.5 & 5.8 & 1.8 & Iris-virginica \\\\\n",
       "\t9 & 6.5 & 3.0 & 5.5 & 1.8 & Iris-virginica \\\\\n",
       "\t10 & 6.3 & 2.7 & 4.9 & 1.8 & Iris-virginica \\\\\n",
       "\t11 & 7.2 & 3.2 & 6.0 & 1.8 & Iris-virginica \\\\\n",
       "\t12 & 6.2 & 2.8 & 4.8 & 1.8 & Iris-virginica \\\\\n",
       "\t13 & 6.1 & 3.0 & 4.9 & 1.8 & Iris-virginica \\\\\n",
       "\t14 & 6.4 & 3.1 & 5.5 & 1.8 & Iris-virginica \\\\\n",
       "\t15 & 6.0 & 3.0 & 4.8 & 1.8 & Iris-virginica \\\\\n",
       "\t16 & 5.9 & 3.0 & 5.1 & 1.8 & Iris-virginica \\\\\n",
       "\t17 & 5.8 & 2.7 & 5.1 & 1.9 & Iris-virginica \\\\\n",
       "\t18 & 6.4 & 2.7 & 5.3 & 1.9 & Iris-virginica \\\\\n",
       "\t19 & 7.4 & 2.8 & 6.1 & 1.9 & Iris-virginica \\\\\n",
       "\t20 & 5.8 & 2.7 & 5.1 & 1.9 & Iris-virginica \\\\\n",
       "\t21 & 6.3 & 2.5 & 5.0 & 1.9 & Iris-virginica \\\\\n",
       "\t22 & 6.5 & 3.2 & 5.1 & 2.0 & Iris-virginica \\\\\n",
       "\t23 & 5.7 & 2.5 & 5.0 & 2.0 & Iris-virginica \\\\\n",
       "\t24 & 5.6 & 2.8 & 4.9 & 2.0 & Iris-virginica \\\\\n",
       "\t25 & 7.7 & 2.8 & 6.7 & 2.0 & Iris-virginica \\\\\n",
       "\t26 & 7.9 & 3.8 & 6.4 & 2.0 & Iris-virginica \\\\\n",
       "\t27 & 6.5 & 3.0 & 5.2 & 2.0 & Iris-virginica \\\\\n",
       "\t28 & 7.1 & 3.0 & 5.9 & 2.1 & Iris-virginica \\\\\n",
       "\t29 & 7.6 & 3.0 & 6.6 & 2.1 & Iris-virginica \\\\\n",
       "\t30 & 6.8 & 3.0 & 5.5 & 2.1 & Iris-virginica \\\\\n",
       "\t$\\dots$ & $\\dots$ & $\\dots$ & $\\dots$ & $\\dots$ & $\\dots$ \\\\\n",
       "\\end{tabular}\n"
      ],
      "text/plain": [
       "150×5 DataFrame\n",
       "│ Row │ SepalLength │ SepalWidth │ PetalLength │ PetalWidth │ Class          │\n",
       "│     │ \u001b[90mFloat64\u001b[39m     │ \u001b[90mFloat64\u001b[39m    │ \u001b[90mFloat64\u001b[39m     │ \u001b[90mFloat64\u001b[39m    │ \u001b[90mString\u001b[39m         │\n",
       "├─────┼─────────────┼────────────┼─────────────┼────────────┼────────────────┤\n",
       "│ 1   │ 6.1         │ 2.6        │ 5.6         │ 1.4        │ Iris-virginica │\n",
       "│ 2   │ 6.0         │ 2.2        │ 5.0         │ 1.5        │ Iris-virginica │\n",
       "│ 3   │ 6.3         │ 2.8        │ 5.1         │ 1.5        │ Iris-virginica │\n",
       "│ 4   │ 7.2         │ 3.0        │ 5.8         │ 1.6        │ Iris-virginica │\n",
       "│ 5   │ 4.9         │ 2.5        │ 4.5         │ 1.7        │ Iris-virginica │\n",
       "│ 6   │ 6.3         │ 2.9        │ 5.6         │ 1.8        │ Iris-virginica │\n",
       "│ 7   │ 7.3         │ 2.9        │ 6.3         │ 1.8        │ Iris-virginica │\n",
       "│ 8   │ 6.7         │ 2.5        │ 5.8         │ 1.8        │ Iris-virginica │\n",
       "│ 9   │ 6.5         │ 3.0        │ 5.5         │ 1.8        │ Iris-virginica │\n",
       "│ 10  │ 6.3         │ 2.7        │ 4.9         │ 1.8        │ Iris-virginica │\n",
       "⋮\n",
       "│ 140 │ 4.5         │ 2.3        │ 1.3         │ 0.3        │ Iris-setosa    │\n",
       "│ 141 │ 4.8         │ 3.0        │ 1.4         │ 0.3        │ Iris-setosa    │\n",
       "│ 142 │ 5.4         │ 3.9        │ 1.7         │ 0.4        │ Iris-setosa    │\n",
       "│ 143 │ 5.7         │ 4.4        │ 1.5         │ 0.4        │ Iris-setosa    │\n",
       "│ 144 │ 5.4         │ 3.9        │ 1.3         │ 0.4        │ Iris-setosa    │\n",
       "│ 145 │ 5.1         │ 3.7        │ 1.5         │ 0.4        │ Iris-setosa    │\n",
       "│ 146 │ 5.0         │ 3.4        │ 1.6         │ 0.4        │ Iris-setosa    │\n",
       "│ 147 │ 5.4         │ 3.4        │ 1.5         │ 0.4        │ Iris-setosa    │\n",
       "│ 148 │ 5.1         │ 3.8        │ 1.9         │ 0.4        │ Iris-setosa    │\n",
       "│ 149 │ 5.1         │ 3.3        │ 1.7         │ 0.5        │ Iris-setosa    │\n",
       "│ 150 │ 5.0         │ 3.5        │ 1.6         │ 0.6        │ Iris-setosa    │"
      ]
     },
     "execution_count": 24,
     "metadata": {},
     "output_type": "execute_result"
    }
   ],
   "source": [
    "# 使用 order, 結果與上例完全相同\n",
    "sort(df, (order(:Class, rev=true), order(:PetalWidth, rev=false)))"
   ]
  },
  {
   "cell_type": "markdown",
   "metadata": {
    "colab_type": "text",
    "id": "Fbp7UbXiCZLH"
   },
   "source": [
    "下面範例是使用 `by` 參數根據欄位值長度 (Class名稱長度) 排序."
   ]
  },
  {
   "cell_type": "code",
   "execution_count": 25,
   "metadata": {
    "colab": {},
    "colab_type": "code",
    "id": "veL4fUkgCZLI",
    "outputId": "2b638d90-f20e-4b4e-d9cb-fae1eb29107c"
   },
   "outputs": [
    {
     "data": {
      "text/html": [
       "<table class=\"data-frame\"><thead><tr><th></th><th>SepalLength</th><th>SepalWidth</th><th>PetalLength</th><th>PetalWidth</th><th>Class</th></tr><tr><th></th><th>Float64</th><th>Float64</th><th>Float64</th><th>Float64</th><th>String</th></tr></thead><tbody><p>5 rows × 5 columns</p><tr><th>1</th><td>5.1</td><td>3.5</td><td>1.4</td><td>0.2</td><td>Iris-setosa</td></tr><tr><th>2</th><td>4.9</td><td>3.0</td><td>1.4</td><td>0.2</td><td>Iris-setosa</td></tr><tr><th>3</th><td>4.7</td><td>3.2</td><td>1.3</td><td>0.2</td><td>Iris-setosa</td></tr><tr><th>4</th><td>4.6</td><td>3.1</td><td>1.5</td><td>0.2</td><td>Iris-setosa</td></tr><tr><th>5</th><td>5.0</td><td>3.6</td><td>1.4</td><td>0.2</td><td>Iris-setosa</td></tr></tbody></table>"
      ],
      "text/latex": [
       "\\begin{tabular}{r|ccccc}\n",
       "\t& SepalLength & SepalWidth & PetalLength & PetalWidth & Class\\\\\n",
       "\t\\hline\n",
       "\t& Float64 & Float64 & Float64 & Float64 & String\\\\\n",
       "\t\\hline\n",
       "\t1 & 5.1 & 3.5 & 1.4 & 0.2 & Iris-setosa \\\\\n",
       "\t2 & 4.9 & 3.0 & 1.4 & 0.2 & Iris-setosa \\\\\n",
       "\t3 & 4.7 & 3.2 & 1.3 & 0.2 & Iris-setosa \\\\\n",
       "\t4 & 4.6 & 3.1 & 1.5 & 0.2 & Iris-setosa \\\\\n",
       "\t5 & 5.0 & 3.6 & 1.4 & 0.2 & Iris-setosa \\\\\n",
       "\\end{tabular}\n"
      ],
      "text/plain": [
       "5×5 DataFrame\n",
       "│ Row │ SepalLength │ SepalWidth │ PetalLength │ PetalWidth │ Class       │\n",
       "│     │ \u001b[90mFloat64\u001b[39m     │ \u001b[90mFloat64\u001b[39m    │ \u001b[90mFloat64\u001b[39m     │ \u001b[90mFloat64\u001b[39m    │ \u001b[90mString\u001b[39m      │\n",
       "├─────┼─────────────┼────────────┼─────────────┼────────────┼─────────────┤\n",
       "│ 1   │ 5.1         │ 3.5        │ 1.4         │ 0.2        │ Iris-setosa │\n",
       "│ 2   │ 4.9         │ 3.0        │ 1.4         │ 0.2        │ Iris-setosa │\n",
       "│ 3   │ 4.7         │ 3.2        │ 1.3         │ 0.2        │ Iris-setosa │\n",
       "│ 4   │ 4.6         │ 3.1        │ 1.5         │ 0.2        │ Iris-setosa │\n",
       "│ 5   │ 5.0         │ 3.6        │ 1.4         │ 0.2        │ Iris-setosa │"
      ]
     },
     "execution_count": 25,
     "metadata": {},
     "output_type": "execute_result"
    }
   ],
   "source": [
    "sort(df, :Class, by=length)\n",
    "first(df, 5)"
   ]
  },
  {
   "cell_type": "code",
   "execution_count": 26,
   "metadata": {
    "colab": {},
    "colab_type": "code",
    "id": "TGTp2550CZLM",
    "outputId": "89d5fbe3-09dd-439f-8ca4-8ddc54db6462"
   },
   "outputs": [
    {
     "data": {
      "text/html": [
       "<table class=\"data-frame\"><thead><tr><th></th><th>SepalLength</th><th>SepalWidth</th><th>PetalLength</th><th>PetalWidth</th><th>Class</th></tr><tr><th></th><th>Float64</th><th>Float64</th><th>Float64</th><th>Float64</th><th>String</th></tr></thead><tbody><p>5 rows × 5 columns</p><tr><th>1</th><td>6.7</td><td>3.0</td><td>5.2</td><td>2.3</td><td>Iris-virginica</td></tr><tr><th>2</th><td>6.3</td><td>2.5</td><td>5.0</td><td>1.9</td><td>Iris-virginica</td></tr><tr><th>3</th><td>6.5</td><td>3.0</td><td>5.2</td><td>2.0</td><td>Iris-virginica</td></tr><tr><th>4</th><td>6.2</td><td>3.4</td><td>5.4</td><td>2.3</td><td>Iris-virginica</td></tr><tr><th>5</th><td>5.9</td><td>3.0</td><td>5.1</td><td>1.8</td><td>Iris-virginica</td></tr></tbody></table>"
      ],
      "text/latex": [
       "\\begin{tabular}{r|ccccc}\n",
       "\t& SepalLength & SepalWidth & PetalLength & PetalWidth & Class\\\\\n",
       "\t\\hline\n",
       "\t& Float64 & Float64 & Float64 & Float64 & String\\\\\n",
       "\t\\hline\n",
       "\t1 & 6.7 & 3.0 & 5.2 & 2.3 & Iris-virginica \\\\\n",
       "\t2 & 6.3 & 2.5 & 5.0 & 1.9 & Iris-virginica \\\\\n",
       "\t3 & 6.5 & 3.0 & 5.2 & 2.0 & Iris-virginica \\\\\n",
       "\t4 & 6.2 & 3.4 & 5.4 & 2.3 & Iris-virginica \\\\\n",
       "\t5 & 5.9 & 3.0 & 5.1 & 1.8 & Iris-virginica \\\\\n",
       "\\end{tabular}\n"
      ],
      "text/plain": [
       "5×5 DataFrame\n",
       "│ Row │ SepalLength │ SepalWidth │ PetalLength │ PetalWidth │ Class          │\n",
       "│     │ \u001b[90mFloat64\u001b[39m     │ \u001b[90mFloat64\u001b[39m    │ \u001b[90mFloat64\u001b[39m     │ \u001b[90mFloat64\u001b[39m    │ \u001b[90mString\u001b[39m         │\n",
       "├─────┼─────────────┼────────────┼─────────────┼────────────┼────────────────┤\n",
       "│ 1   │ 6.7         │ 3.0        │ 5.2         │ 2.3        │ Iris-virginica │\n",
       "│ 2   │ 6.3         │ 2.5        │ 5.0         │ 1.9        │ Iris-virginica │\n",
       "│ 3   │ 6.5         │ 3.0        │ 5.2         │ 2.0        │ Iris-virginica │\n",
       "│ 4   │ 6.2         │ 3.4        │ 5.4         │ 2.3        │ Iris-virginica │\n",
       "│ 5   │ 5.9         │ 3.0        │ 5.1         │ 1.8        │ Iris-virginica │"
      ]
     },
     "execution_count": 26,
     "metadata": {},
     "output_type": "execute_result"
    }
   ],
   "source": [
    "last(df, 5)"
   ]
  },
  {
   "cell_type": "markdown",
   "metadata": {
    "colab_type": "text",
    "id": "FmRwlTWwCZLQ"
   },
   "source": [
    "#### unique\n",
    "\n",
    "使用 `Base.unique()` 函式，可以查看欄位中不重覆資料。"
   ]
  },
  {
   "cell_type": "code",
   "execution_count": 27,
   "metadata": {
    "colab": {},
    "colab_type": "code",
    "id": "BZ4NvgAfCZLR",
    "outputId": "b44b8496-cdc1-43b6-ca69-86c396785bb8"
   },
   "outputs": [
    {
     "data": {
      "text/plain": [
       "3-element Array{String,1}:\n",
       " \"Iris-setosa\"    \n",
       " \"Iris-versicolor\"\n",
       " \"Iris-virginica\" "
      ]
     },
     "execution_count": 27,
     "metadata": {},
     "output_type": "execute_result"
    }
   ],
   "source": [
    "unique(df[!, :Class])"
   ]
  },
  {
   "cell_type": "code",
   "execution_count": null,
   "metadata": {
    "colab": {},
    "colab_type": "code",
    "id": "Bz-g508NCZLV"
   },
   "outputs": [],
   "source": []
  }
 ],
 "metadata": {
  "@webio": {
   "lastCommId": null,
   "lastKernelId": null
  },
  "colab": {
   "name": "julia_019_example.ipynb",
   "provenance": []
  },
  "kernelspec": {
   "display_name": "Julia 1.4.0",
   "language": "julia",
   "name": "julia-1.4"
  },
  "language_info": {
   "file_extension": ".jl",
   "mimetype": "application/julia",
   "name": "julia",
   "version": "1.4.0"
  }
 },
 "nbformat": 4,
 "nbformat_minor": 4
}
