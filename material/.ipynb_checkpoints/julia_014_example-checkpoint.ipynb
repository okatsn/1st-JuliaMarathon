{
 "cells": [
  {
   "cell_type": "markdown",
   "metadata": {
    "colab_type": "text",
    "id": "l0GLe5A6wf7g"
   },
   "source": [
    "# Julia 檔案處理與資料庫連線\n",
    "\n",
    "## 1. 流 (Stream) 與 IO\n",
    "\n",
    "各種 Julia 不同 stream 的上層型別均為 IO，也都繼承了 read() 和 write() 函式。\n",
    "\n",
    "最常見的標準流為輸入 (stdin)、輸出 (stdout)、錯誤 (stderr)。\n",
    "\n",
    "### 1.1 標準輸入 (stdin)、輸出 (stdout)、錯誤 (stderr)"
   ]
  },
  {
   "cell_type": "code",
   "execution_count": null,
   "metadata": {
    "colab": {},
    "colab_type": "code",
    "id": "pClO34L-wf7p",
    "outputId": "0ff5ea71-e453-4692-8f81-91d057ec4297"
   },
   "outputs": [],
   "source": [
    "# 標準輸入 (stdin)\n",
    "# 並且將輸入值指定給變數 a\n",
    "a = readline()"
   ]
  },
  {
   "cell_type": "code",
   "execution_count": null,
   "metadata": {
    "colab": {},
    "colab_type": "code",
    "id": "PZjicxtCwf7z",
    "outputId": "6c307be3-22c9-46bd-8f4f-aa357b50e809"
   },
   "outputs": [],
   "source": [
    "a"
   ]
  },
  {
   "cell_type": "markdown",
   "metadata": {
    "colab_type": "text",
    "id": "RqaOfopwwf76"
   },
   "source": [
    "在 Jupyter / IJulia 環境中, 無法實現用 `read()` 函式來做為 stdin, IJulia 僅實作了 `readline()`\n",
    "\n",
    "在 REPL 中執行標準輸入 `read()`, 例如:\n",
    "```julia\n",
    "# 標準輸入, 並指定輸入值為 Char\n",
    "read(stdin, Char)\n",
    "```"
   ]
  },
  {
   "cell_type": "code",
   "execution_count": null,
   "metadata": {
    "colab": {},
    "colab_type": "code",
    "id": "b-Qe8TCIwf8D",
    "outputId": "351e1036-944b-43d0-cfa7-4c6da0351a07"
   },
   "outputs": [],
   "source": [
    "# 標準輸出 (stdout)\n",
    "write(stdout, \"Welcome to \\nJulia!\")"
   ]
  },
  {
   "cell_type": "code",
   "execution_count": null,
   "metadata": {
    "colab": {},
    "colab_type": "code",
    "id": "jirPraOHwf8I",
    "outputId": "37f19331-4472-424d-c406-60ff7af6b3a0"
   },
   "outputs": [],
   "source": [
    "# 上面的例子中, out 的部分也輸出了成功輸出的字元數, 如果不要顯示的話, 可以加入 ; 隠藏\n",
    "write(stdout, \"Welcome to \\nJulia!\");"
   ]
  },
  {
   "cell_type": "code",
   "execution_count": null,
   "metadata": {
    "colab": {},
    "colab_type": "code",
    "id": "zPSopKLBwf8M",
    "outputId": "0b288ac7-5d70-4d13-c9ef-dd5fc6141ad6"
   },
   "outputs": [],
   "source": [
    "# 標準錯誤 (stderr)\n",
    "write(stderr, \"This is an error.\")"
   ]
  },
  {
   "cell_type": "markdown",
   "metadata": {
    "colab_type": "text",
    "id": "ePQzRTsKwf8T"
   },
   "source": [
    "### 1.2 檔案讀取\n",
    "\n",
    "要操作文件檔案時，需要的時候可以透過函式 open() 及 close() 進行開啟和關閉。\n",
    "\n",
    "開啟檔案時，預設的模式是唯讀。若需要進行寫入或添加 (append) 的話，需要指定相對應的模式。\n",
    "\n",
    "|模式 (Mode)|操作說明|\n",
    "|---|---|\n",
    "|r|開啟並為唯讀。|\n",
    "|r+|開啟可讀且可寫入。|\n",
    "|w|檔案不存在時建立檔案、存在的話清空內容，可寫入。|\n",
    "|w+|可讀且可寫入，檔案不存在時建立檔案、存在的話清空內容。|\n",
    "|a|檔案不存在時建立檔案、存在的話添加內容，可寫入。|\n",
    "|a+|可讀且可寫入，檔案不存在時建立檔案、存在的話添加內容。|"
   ]
  },
  {
   "cell_type": "code",
   "execution_count": null,
   "metadata": {
    "colab": {},
    "colab_type": "code",
    "id": "_cjVI7Znwf8V",
    "outputId": "7eaaa8e6-bd04-4d2e-a38f-cf4af34f806b"
   },
   "outputs": [],
   "source": [
    "# 逐行讀取文字檔並顯示內容\n",
    "f = open(\"iris.names\")\n",
    "\n",
    "while !eof(f)\n",
    "    println(readline(f))\n",
    "end"
   ]
  },
  {
   "cell_type": "markdown",
   "metadata": {
    "colab_type": "text",
    "id": "mbmSFuz_wf8b"
   },
   "source": [
    "透過下列函式查詢 IOStream 物件的屬性。"
   ]
  },
  {
   "cell_type": "code",
   "execution_count": null,
   "metadata": {
    "colab": {},
    "colab_type": "code",
    "id": "v4FtC6tSwf8d",
    "outputId": "15731d2d-9be1-45bf-ecd9-416b464888b3"
   },
   "outputs": [],
   "source": [
    "println(\"已開啟的檔案物件的類型:\", typeof(f))\n",
    "\n",
    "# 察看 IOStream 的狀態\n",
    "println(\"是否已開啟: \", isopen(f))\n",
    "println(\"是否可讀取: \", isreadable(f))\n",
    "println(\"是否為唯讀: \", isreadonly(f)) # 預設未設定模式的話, 開啟後為唯讀\n",
    "println(\"是否可寫入: \", iswritable(f))"
   ]
  },
  {
   "cell_type": "code",
   "execution_count": null,
   "metadata": {
    "colab": {},
    "colab_type": "code",
    "id": "lwW8j6Knwf8i"
   },
   "outputs": [],
   "source": [
    "close(f)"
   ]
  },
  {
   "cell_type": "markdown",
   "metadata": {
    "colab_type": "text",
    "id": "HsOCGyzmwf8v"
   },
   "source": [
    "#### `readlines()` 函式"
   ]
  },
  {
   "cell_type": "code",
   "execution_count": null,
   "metadata": {
    "colab": {},
    "colab_type": "code",
    "id": "mg7OkDmywf8x",
    "outputId": "4dce0dde-522c-410c-d004-24294558234e"
   },
   "outputs": [],
   "source": [
    "f = open(\"iris.names\")\n",
    "# 使用 readlines() 函式逐行讀取內容, 傳回值為向量類型\n",
    "str_vec = readlines(f)\n",
    "close(f)\n",
    "\n",
    "typeof(str_vec)"
   ]
  },
  {
   "cell_type": "markdown",
   "metadata": {
    "colab_type": "text",
    "id": "E334I9cqwf88"
   },
   "source": [
    "### 1.3 檔案寫入"
   ]
  },
  {
   "cell_type": "code",
   "execution_count": null,
   "metadata": {
    "colab": {},
    "colab_type": "code",
    "id": "cbOC8EgAwf8-",
    "outputId": "d0ab6cee-6986-42e3-dd70-ddd3438f3cd6"
   },
   "outputs": [],
   "source": [
    "# 開啟檔案, 若檔案不存在就新建; 檔案存在的話, 寫入時不覆蓋原內容, 將新內容繼續添加至檔案中.\n",
    "f = open(\"hello.txt\", \"a+\")\n",
    "\n",
    "println(\"已開啟的檔案物件的類型:\", typeof(f))\n",
    "\n",
    "# 察看 IOStream 的狀態\n",
    "println(\"是否已開啟: \", isopen(f))\n",
    "println(\"是否可讀取: \", isreadable(f))\n",
    "println(\"是否為唯讀: \", isreadonly(f))\n",
    "println(\"是否可寫入: \", iswritable(f))\n",
    "\n",
    "write(f, \"Hello\\nJulia.\")\n",
    "write(f, \"Learning Julia is fun!\")\n",
    "\n",
    "close(f)"
   ]
  },
  {
   "cell_type": "markdown",
   "metadata": {
    "colab_type": "text",
    "id": "6h42i5r0wf9G"
   },
   "source": [
    "### 1.4 讀寫緩衝 (IOBuffer)\n",
    "\n",
    "有時候因為傳輸及處理的需求，我們需要先將 stream 裡面的資料暫存，再進行後續的處理，這時候就可以使用 `IOBuffer`。\n",
    "\n",
    "`IOBuffer` 內容除了資料流本身之外，也包含了豐富的屬性來標示及做為操作 buffer 之用。使用 `dump()` 函式可以列出資料及所有屬性及其值。\n",
    "\n",
    "透過 `take!()` 函式，可以取出 buffer 內容並重置 buffer。"
   ]
  },
  {
   "cell_type": "code",
   "execution_count": null,
   "metadata": {
    "colab": {},
    "colab_type": "code",
    "id": "Vbn0qDNiwf9H",
    "outputId": "503aafee-ed1b-4ee1-c137-45a97c2abaea"
   },
   "outputs": [],
   "source": [
    "# 初始化緩衝區, 設定最大大小為5個字元\n",
    "buff = IOBuffer(maxsize = 5)"
   ]
  },
  {
   "cell_type": "code",
   "execution_count": null,
   "metadata": {
    "colab": {},
    "colab_type": "code",
    "id": "PcP-JH9Kwf9V",
    "outputId": "61b9a23b-c03f-4e64-8c73-5a561b25635a"
   },
   "outputs": [],
   "source": [
    "# 可以看出緩衝區的內容\n",
    "buff.data"
   ]
  },
  {
   "cell_type": "code",
   "execution_count": null,
   "metadata": {
    "colab": {},
    "colab_type": "code",
    "id": "ieLmlmHTwf9b",
    "outputId": "694cd4fc-a116-4247-9bde-35b7cf2a3355"
   },
   "outputs": [],
   "source": [
    "# 欲寫入6個字元到 buffer內, 但因超過緩衝區 maxsize, 所以僅成功寫入5個字元\n",
    "write(buff, \"123456\")\n",
    "buff.data"
   ]
  },
  {
   "cell_type": "code",
   "execution_count": null,
   "metadata": {
    "colab": {},
    "colab_type": "code",
    "id": "I4xSkIEQwf9f",
    "outputId": "38e60b4b-e8d5-400a-a53c-60148e3a7b9a"
   },
   "outputs": [],
   "source": [
    "println(\"緩衝區大小: \", buff.size)\n",
    "println(\"緩衝區目前游標位置 (為 size = 1): \", buff.ptr)"
   ]
  },
  {
   "cell_type": "code",
   "execution_count": null,
   "metadata": {
    "colab": {},
    "colab_type": "code",
    "id": "qxWzWji2wf9j",
    "outputId": "721cd9c4-3960-4cc1-dde8-637ab849245f"
   },
   "outputs": [],
   "source": [
    "# 因為緩衝區已滿, 所以寫入成功字元數為 0\n",
    "write(buff, \"789\")"
   ]
  },
  {
   "cell_type": "code",
   "execution_count": null,
   "metadata": {
    "colab": {},
    "colab_type": "code",
    "id": "DJJ_-GrWwf98",
    "outputId": "6f096c3f-1e20-45ee-e7f6-b6cca89d86b1"
   },
   "outputs": [],
   "source": [
    "# 查看緩衝區狀態\n",
    "dump(buff)"
   ]
  },
  {
   "cell_type": "code",
   "execution_count": null,
   "metadata": {
    "colab": {},
    "colab_type": "code",
    "id": "VthVM7DPwf-N",
    "outputId": "cad6f893-40d5-4fc4-92b7-10108519b7f7"
   },
   "outputs": [],
   "source": [
    "# 取出緩衝區內容並且重置緩衝區\n",
    "take!(buff)"
   ]
  },
  {
   "cell_type": "code",
   "execution_count": null,
   "metadata": {
    "colab": {},
    "colab_type": "code",
    "id": "BhznCKuowf-T",
    "outputId": "7f018b43-8e6a-470a-8c31-36d2133af21b"
   },
   "outputs": [],
   "source": [
    "dump(buff)\n",
    "# 可以看出緩衝區已經被清空回到初始狀態"
   ]
  },
  {
   "cell_type": "markdown",
   "metadata": {
    "colab_type": "text",
    "id": "kp7zqwiuwf-h"
   },
   "source": [
    "### 1.5 序列化 (Serialization)\n",
    "\n",
    "序列化可以將資料在不同的類型與 stream 之間互相轉換，例如在資料傳輸之前先將字串 `serialize()`，在收到資料後進行反序列化 `deserialize()` 還原資料。"
   ]
  },
  {
   "cell_type": "code",
   "execution_count": null,
   "metadata": {
    "colab": {},
    "colab_type": "code",
    "id": "-rb9OSxQwf-u"
   },
   "outputs": [],
   "source": [
    "using Serialization"
   ]
  },
  {
   "cell_type": "code",
   "execution_count": null,
   "metadata": {
    "colab": {},
    "colab_type": "code",
    "id": "dE-NsK2xwf-z",
    "outputId": "137e0a00-3db5-4729-8c46-89014f8d4710"
   },
   "outputs": [],
   "source": [
    "# 序列化\n",
    "str = \"Hello Julia\"\n",
    "\n",
    "io = IOBuffer()\n",
    "s = Serializer(io)\n",
    "println(typeof(s))\n",
    "Serialization.writeheader(s)\n",
    "for i in str\n",
    "    serialize(s, i)\n",
    "end\n",
    "\n",
    "dump(io)"
   ]
  },
  {
   "cell_type": "code",
   "execution_count": null,
   "metadata": {
    "colab": {},
    "colab_type": "code",
    "id": "9-Buy8zkwf_i",
    "outputId": "a4ef5adc-6894-49a5-cfe3-b7366ed8fee9"
   },
   "outputs": [],
   "source": [
    "# 反序列化\n",
    "io = IOBuffer(take!(io))\n",
    "\n",
    "while !eof(io)\n",
    "    @show deserialize(io)\n",
    "end"
   ]
  },
  {
   "cell_type": "markdown",
   "metadata": {
    "colab_type": "text",
    "id": "H-KYsNxAwf_n"
   },
   "source": [
    "## 2. CSV 及 JSON 檔案讀取及寫入\n",
    "\n",
    "### 2.1 CSV.jl: 讀取及寫入 CSV 檔"
   ]
  },
  {
   "cell_type": "code",
   "execution_count": null,
   "metadata": {
    "colab": {},
    "colab_type": "code",
    "id": "h4Z2IRyQwf_o"
   },
   "outputs": [],
   "source": [
    "using Pkg"
   ]
  },
  {
   "cell_type": "code",
   "execution_count": null,
   "metadata": {
    "colab": {},
    "colab_type": "code",
    "id": "WVc6qaO_wf_t",
    "outputId": "8d6a94ae-7e1f-4337-d383-629c8144e3e2"
   },
   "outputs": [],
   "source": [
    "# 如果尚未安裝, 需先安裝套件\n",
    "Pkg.add(PackageSpec(name=\"CSV\", version=\"0.5.26\"))"
   ]
  },
  {
   "cell_type": "code",
   "execution_count": null,
   "metadata": {
    "colab": {},
    "colab_type": "code",
    "id": "TD67DlJWwf_x",
    "outputId": "2c854cec-b971-4647-b9bc-8f7b1ee71b8d"
   },
   "outputs": [],
   "source": [
    "# 目前安裝版本\n",
    "Pkg.installed()[\"CSV\"]"
   ]
  },
  {
   "cell_type": "code",
   "execution_count": null,
   "metadata": {
    "colab": {},
    "colab_type": "code",
    "id": "avm_57gWwf_3",
    "outputId": "212ec357-1804-4519-debc-a294ef6b88a1"
   },
   "outputs": [],
   "source": [
    "using CSV"
   ]
  },
  {
   "cell_type": "markdown",
   "metadata": {
    "colab_type": "text",
    "id": "5gcZA3r7wf_7"
   },
   "source": [
    "以下的資料集為 UCI Machine Learning Repository 的 Auto MPG Data Set\n",
    "\n",
    "如果沒有 header 的話, 可以設定 header 為 false. delim 可以指定分隔符號, 若未指定的話, 讀取時會自動判斷.\n",
    "\n",
    "在有空值的資料列, 讀取時會顯示 warning, 可以忽略"
   ]
  },
  {
   "cell_type": "code",
   "execution_count": null,
   "metadata": {
    "colab": {},
    "colab_type": "code",
    "id": "wh7cxPT5wf_8",
    "outputId": "f532f16f-6c23-4e5e-a64f-90c6107a27d0"
   },
   "outputs": [],
   "source": [
    "df = CSV.read(\"auto-mpg.data\", header=false, delim=\",\")"
   ]
  },
  {
   "cell_type": "markdown",
   "metadata": {
    "colab_type": "text",
    "id": "DV9cf7ouwgAA"
   },
   "source": [
    "空值會自動取代為 missing 值"
   ]
  },
  {
   "cell_type": "code",
   "execution_count": null,
   "metadata": {
    "colab": {},
    "colab_type": "code",
    "id": "z_C40Ae7wgAB",
    "outputId": "624fdc44-e1d8-4678-855d-4bd322de27fa"
   },
   "outputs": [],
   "source": [
    "df[29, :]"
   ]
  },
  {
   "cell_type": "markdown",
   "metadata": {
    "colab_type": "text",
    "id": "LC1bxzdxwgAG"
   },
   "source": [
    "如果沒有 header 的話, 也可以將 column 名稱設定至 header"
   ]
  },
  {
   "cell_type": "code",
   "execution_count": null,
   "metadata": {
    "colab": {},
    "colab_type": "code",
    "id": "N9-6kk-dwgAI",
    "outputId": "5072ee25-1081-416a-d9fd-4383cdffe59b",
    "scrolled": true
   },
   "outputs": [],
   "source": [
    "df = CSV.read(\"auto-mpg.data\", header=[\"mpg\", \"cylinders\", \"displacement\", \"horsepower\", \"weight\", \"acceleration\", \"model year\", \"origin\", \"car name\"], delim=',')"
   ]
  },
  {
   "cell_type": "code",
   "execution_count": null,
   "metadata": {
    "colab": {},
    "colab_type": "code",
    "id": "rhcJkyJZwgAM",
    "outputId": "e2057f0d-d22d-4dcc-cdd4-e9eec84b3b60"
   },
   "outputs": [],
   "source": [
    "# DataFrames 的用法, 會在之後的內容中進行詳細介紹和實作\n",
    "# 此處僅是呼叫 DataFrames.show() 函式來顯示所有 column\n",
    "\n",
    "# 如果尚未安裝, 需先安裝套件\n",
    "Pkg.add(PackageSpec(name=\"DataFrames\", version=\"0.20.2\"))\n",
    "\n",
    "using DataFrames\n",
    "\n",
    "# 顥示所有 column\n",
    "show(df[1:5, :], allcols=true)"
   ]
  },
  {
   "cell_type": "markdown",
   "metadata": {
    "colab_type": "text",
    "id": "vu4Vk1CbwgAQ"
   },
   "source": [
    "#### 從 Zip 壓縮檔讀取 CSV 檔案"
   ]
  },
  {
   "cell_type": "code",
   "execution_count": null,
   "metadata": {
    "colab": {},
    "colab_type": "code",
    "id": "4y0FSo4CwgAS",
    "outputId": "e2f26c20-2810-44eb-cbf8-9386566fb469"
   },
   "outputs": [],
   "source": [
    "# 如果尚未安裝, 需先安裝套件\n",
    "Pkg.add(PackageSpec(name=\"ZipFile\", version=\"0.8.4\"))"
   ]
  },
  {
   "cell_type": "code",
   "execution_count": null,
   "metadata": {
    "colab": {},
    "colab_type": "code",
    "id": "EPMmL_7mwgAc",
    "outputId": "8b3bae21-f777-40cd-de7e-52b28dbe8cd4"
   },
   "outputs": [],
   "source": [
    "using ZipFile\n",
    "\n",
    "z = ZipFile.Reader(\"iris.zip\")\n",
    "df = CSV.read(z.files[1], header=false)"
   ]
  },
  {
   "cell_type": "markdown",
   "metadata": {
    "colab_type": "text",
    "id": "rdGECiI1wgAg"
   },
   "source": [
    "#### 將 DataFrame 寫入 CSV 檔案"
   ]
  },
  {
   "cell_type": "code",
   "execution_count": null,
   "metadata": {
    "colab": {},
    "colab_type": "code",
    "id": "8YsYIZkBwgAh",
    "outputId": "f31af19e-497f-4f1f-85f8-16ec699f0718"
   },
   "outputs": [],
   "source": [
    "CSV.write(\"a.csv\", df, delim=\";\")"
   ]
  },
  {
   "cell_type": "markdown",
   "metadata": {
    "colab_type": "text",
    "id": "VKNf3FMOwgAx"
   },
   "source": [
    "### 2.2. JSON.jl: 讀取及寫入 JSON 檔"
   ]
  },
  {
   "cell_type": "code",
   "execution_count": null,
   "metadata": {
    "colab": {},
    "colab_type": "code",
    "id": "5zMwI32KwgAy",
    "outputId": "c2f84758-a109-4982-e5d7-c1aa22e2103a"
   },
   "outputs": [],
   "source": [
    "# 如果尚未安裝, 需先安裝套件\n",
    "Pkg.add(PackageSpec(name=\"JSON\", version=\"0.21.0\"))"
   ]
  },
  {
   "cell_type": "code",
   "execution_count": null,
   "metadata": {
    "colab": {},
    "colab_type": "code",
    "id": "vHLBbJ0uwgA6"
   },
   "outputs": [],
   "source": [
    "using JSON"
   ]
  },
  {
   "cell_type": "markdown",
   "metadata": {
    "colab_type": "text",
    "id": "hZYjqeiSwgA-"
   },
   "source": [
    "從 JSON 檔讀取 UCI Machine Learning Repository Iris data set"
   ]
  },
  {
   "cell_type": "code",
   "execution_count": null,
   "metadata": {
    "colab": {},
    "colab_type": "code",
    "id": "4pg0dnv3wgA_",
    "outputId": "c5ce4d3e-7fe6-482b-8ad7-7d599d7cd15d"
   },
   "outputs": [],
   "source": [
    "j = JSON.parsefile(\"iris.json\")"
   ]
  },
  {
   "cell_type": "code",
   "execution_count": null,
   "metadata": {
    "colab": {},
    "colab_type": "code",
    "id": "w_kv_A0XwgBE",
    "outputId": "695a0c1d-18d1-4537-8fe1-36b4fd8266b7"
   },
   "outputs": [],
   "source": [
    "typeof(j)"
   ]
  },
  {
   "cell_type": "markdown",
   "metadata": {
    "colab_type": "text",
    "id": "5rdm2kWzwgBI"
   },
   "source": [
    "#### 儲存 JSON 檔案\n",
    "\n",
    "將物件轉換為 JSON 字串, 並存入 JSON 檔案"
   ]
  },
  {
   "cell_type": "code",
   "execution_count": null,
   "metadata": {
    "colab": {},
    "colab_type": "code",
    "id": "XsHhEfQGwgBL",
    "outputId": "c64c76a0-e38e-454c-8c4d-8b068ff62f24"
   },
   "outputs": [],
   "source": [
    "str = JSON.json(j)"
   ]
  },
  {
   "cell_type": "code",
   "execution_count": null,
   "metadata": {
    "colab": {},
    "colab_type": "code",
    "id": "sdKFMRFQwgBY"
   },
   "outputs": [],
   "source": [
    "f = open(\"b.json\", \"w\")\n",
    "println(f, str)\n",
    "close(f)"
   ]
  },
  {
   "cell_type": "markdown",
   "metadata": {
    "colab_type": "text",
    "id": "j0j_ZZ0cwgBl"
   },
   "source": [
    "## 3. 資料庫連線\n",
    "\n",
    "![](https://avatars3.githubusercontent.com/u/6539129?s=200&v=4)\n",
    "\n",
    "以下範例將以 JuliaDatabases 的套件示範。\n",
    "\n",
    "GitHub: [https://github.com/JuliaDatabases](https://github.com/JuliaDatabases)\n",
    "\n",
    "### 3.1 透過 ODBC.jl 連接 SQLite 資料庫\n",
    "\n",
    "在 Windows 10 中要透過 ODBC 連接 SQLite 資料庫，須先安裝及設定 ODBC Driver for SQLite，範例中以 devart 的驅動程式為例。\n",
    "\n",
    "免費下載試用版路徑為 [ODBC Driver for SQLite](https://www.devart.com/odbc/sqlite/download.html)。\n",
    "\n",
    "設定 devart ODBC Driver for SQLite ，請參考文件：[Connecting to SQLite](https://www.devart.com/odbc/sqlite/docs/driver_configuration_and_conne.htm)\n",
    "\n",
    "另外，需安裝 `ODBC.jl` 套件，在 Julia 中呼叫 ODBC 介面。"
   ]
  },
  {
   "cell_type": "code",
   "execution_count": null,
   "metadata": {
    "colab": {},
    "colab_type": "code",
    "id": "WR8XREtLwgBm",
    "outputId": "118e7447-0e13-4981-e1a0-694fb3ece575"
   },
   "outputs": [],
   "source": [
    "# 如果尚未安裝, 需先安裝套件\n",
    "Pkg.add(\"ODBC\")"
   ]
  },
  {
   "cell_type": "code",
   "execution_count": null,
   "metadata": {
    "colab": {},
    "colab_type": "code",
    "id": "ZS6dt39twgBt",
    "outputId": "f20dd7d5-0444-4d19-e530-1a1c68575eeb"
   },
   "outputs": [],
   "source": [
    "using ODBC"
   ]
  },
  {
   "cell_type": "markdown",
   "metadata": {
    "colab_type": "text",
    "id": "8njB9XVjwgBz"
   },
   "source": [
    "利用 DSN 連接資料來源, 在 Windows 環境中, 須先到控制台的系統管理工具中, 設定 ODBC 資料來源, 下面範例的 DSN 名稱為 \"iris-dsn\", 資料庫中 table 名稱為 \"iris\".\n",
    "\n",
    "設定 DSN 時, 請將資料庫檔案為 iris_dataset.db"
   ]
  },
  {
   "cell_type": "code",
   "execution_count": null,
   "metadata": {
    "colab": {},
    "colab_type": "code",
    "id": "mn49SONbwgB1",
    "outputId": "082ac614-95f3-47f1-a739-9d375dcb1eb3"
   },
   "outputs": [],
   "source": [
    "dsn = ODBC.DSN(\"iris_dsn\")\n",
    "df = ODBC.query(dsn, \"select * from iris\")"
   ]
  },
  {
   "cell_type": "code",
   "execution_count": null,
   "metadata": {
    "colab": {},
    "colab_type": "code",
    "id": "a4S-7A5NwgB4"
   },
   "outputs": [],
   "source": [
    "ODBC.disconnect!(dsn)"
   ]
  },
  {
   "cell_type": "markdown",
   "metadata": {
    "colab_type": "text",
    "id": "9whA-W-owgB7"
   },
   "source": [
    "### 3.2 透過原生套件連接 SQLite 資料庫"
   ]
  },
  {
   "cell_type": "code",
   "execution_count": null,
   "metadata": {
    "colab": {},
    "colab_type": "code",
    "id": "DVmxlVsGwgB-",
    "outputId": "0d958e49-043c-472e-9faa-76d42302db3d"
   },
   "outputs": [],
   "source": [
    "# 如果尚未安裝, 需先安裝套件\n",
    "Pkg.add(PackageSpec(name=\"SQLite\", version=\"0.8.1\"))"
   ]
  },
  {
   "cell_type": "code",
   "execution_count": null,
   "metadata": {
    "colab": {},
    "colab_type": "code",
    "id": "Qc9q1_b4wgCE",
    "outputId": "49603796-4b7a-4495-efba-8da1a47bf128"
   },
   "outputs": [],
   "source": [
    "# 目前安裝版本\n",
    "Pkg.installed()[\"SQLite\"]"
   ]
  },
  {
   "cell_type": "code",
   "execution_count": null,
   "metadata": {
    "colab": {},
    "colab_type": "code",
    "id": "pvYCEWyQwgCI",
    "outputId": "281efb3b-5ad3-4c28-c410-ee11bcf8ee56"
   },
   "outputs": [],
   "source": [
    "using SQLite"
   ]
  },
  {
   "cell_type": "code",
   "execution_count": null,
   "metadata": {
    "colab": {},
    "colab_type": "code",
    "id": "Dor483MUwgCL",
    "outputId": "bdbab317-4d63-48d0-eda1-ec10a74e1b50"
   },
   "outputs": [],
   "source": [
    "# 從 SQLite 資料庫中讀取資料並傳回 DataFrame\n",
    "cond = \"Iris-setosa\"\n",
    "\n",
    "db = SQLite.DB(\"iris_dataset.db\")\n",
    "df = SQLite.Query(db, \"SELECT * FROM iris where species = \\'$cond\\'\") |> DataFrame"
   ]
  },
  {
   "cell_type": "code",
   "execution_count": null,
   "metadata": {
    "colab": {},
    "colab_type": "code",
    "id": "B7DmJbcfwgCP"
   },
   "outputs": [],
   "source": []
  }
 ],
 "metadata": {
  "@webio": {
   "lastCommId": null,
   "lastKernelId": null
  },
  "colab": {
   "name": "julia_013_example.ipynb",
   "provenance": []
  },
  "kernelspec": {
   "display_name": "Julia 1.4.0",
   "language": "julia",
   "name": "julia-1.4"
  },
  "language_info": {
   "file_extension": ".jl",
   "mimetype": "application/julia",
   "name": "julia",
   "version": "1.4.0"
  }
 },
 "nbformat": 4,
 "nbformat_minor": 4
}
