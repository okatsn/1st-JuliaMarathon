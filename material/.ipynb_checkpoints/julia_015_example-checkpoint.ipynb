{
 "cells": [
  {
   "cell_type": "markdown",
   "metadata": {},
   "source": [
    "# Julia 日誌與例外處理\n",
    "\n",
    "## 1. 日誌 (Logging)\n",
    "\n",
    "日誌的記錄是透過巨集加上要記錄的訊息字串組成。"
   ]
  },
  {
   "cell_type": "code",
   "execution_count": null,
   "metadata": {},
   "outputs": [],
   "source": [
    "i = 1\n",
    "\n",
    "@info \"start\"\n",
    "\n",
    "i += 1\n",
    "@debug \"debug 訊息預設不會顯示輸出\"\n",
    "\n",
    "@info \"end. Now i is $i.\" "
   ]
  },
  {
   "cell_type": "code",
   "execution_count": null,
   "metadata": {},
   "outputs": [],
   "source": [
    "using Logging"
   ]
  },
  {
   "cell_type": "markdown",
   "metadata": {},
   "source": [
    "### 1.1 Logger 及 Log Level\n",
    "\n",
    "日誌的輸出方式可以透過設定 logger 來指定，logger 有下列幾種： \n",
    "- ConsoleLogger，預設值，輸出到螢幕。\n",
    "- SimpleLogger，輸出到純文字檔案。\n",
    "- NullLogger，不輸出。\n",
    "\n",
    "範例中使用 SimpleLogger, 並將 log 以標準輸出 (stdout) 顯示。\n",
    "\n",
    "\n",
    "日誌是否要顯示或記錄是由 Log level (等級) 來控制，主要的 Log level 等級有：\n",
    "- Debug\n",
    "- Info\n",
    "- Warn\n",
    "- Error\n",
    "\n",
    "範例中 log level 設定為 debug。"
   ]
  },
  {
   "cell_type": "code",
   "execution_count": null,
   "metadata": {},
   "outputs": [],
   "source": [
    "logger = SimpleLogger(stdout, Logging.Debug)\n",
    "global_logger(logger)\n",
    "\n",
    "@info \"正常的日誌訊息\"\n",
    "@debug \"除錯用的訊息, 預設不會顯示\"\n",
    "\n",
    "try\n",
    "    @debug \"除錯用的訊息, 預設不會顯示\"\n",
    "    println(\"try 區塊內容\")\n",
    "catch\n",
    "    @error \"錯誤訊息\"\n",
    "end"
   ]
  },
  {
   "cell_type": "markdown",
   "metadata": {},
   "source": [
    "呼叫 `min_enabled_level()` 函式查看目前的 log level 設定。"
   ]
  },
  {
   "cell_type": "code",
   "execution_count": null,
   "metadata": {},
   "outputs": [],
   "source": [
    "Logging.min_enabled_level(logger)"
   ]
  },
  {
   "cell_type": "markdown",
   "metadata": {},
   "source": [
    "呼叫 `current_logger()` 函式查看目前 logger 的種類。"
   ]
  },
  {
   "cell_type": "code",
   "execution_count": null,
   "metadata": {},
   "outputs": [],
   "source": [
    "current_logger()"
   ]
  },
  {
   "cell_type": "markdown",
   "metadata": {},
   "source": [
    "### 1.2 task-local logger 與 global_logger\n",
    "\n",
    "Logger 可以分為 global_logger 與 task-local logger。"
   ]
  },
  {
   "cell_type": "code",
   "execution_count": null,
   "metadata": {},
   "outputs": [],
   "source": [
    "# task-local logger\n",
    "with_logger(logger) do\n",
    "    @info(\"a context specific log message\")\n",
    "end"
   ]
  },
  {
   "cell_type": "code",
   "execution_count": null,
   "metadata": {},
   "outputs": [],
   "source": [
    "# global_logger\n",
    "global_logger(logger)\n",
    "@info \"a global log message\""
   ]
  },
  {
   "cell_type": "markdown",
   "metadata": {},
   "source": [
    "### 1.3 將 Log 寫入到檔案\n",
    "\n",
    "將日誌 (Logging) 寫入文字檔案的流程如下：\n",
    "1. 開啟文字檔 IO，並照上兩頁的流程建立日誌。\n",
    "2. 記錄日誌訊息。\n",
    "3. 呼叫 flush() 函式，會將所有都暫存的日誌訊息寫入到文字檔案中。\n",
    "4. 最後記得要呼叫 close() 函式關閉檔案。"
   ]
  },
  {
   "cell_type": "code",
   "execution_count": null,
   "metadata": {},
   "outputs": [],
   "source": [
    "io = open(\"log.txt\", \"w+\")\n",
    "\n",
    "logger = SimpleLogger(io, Logging.Debug)\n",
    "\n",
    "global_logger(logger)\n",
    "\n",
    "@info(\"a global info log message\")\n",
    "@debug(\"a global debug log message\")"
   ]
  },
  {
   "cell_type": "code",
   "execution_count": null,
   "metadata": {},
   "outputs": [],
   "source": [
    "flush(io)"
   ]
  },
  {
   "cell_type": "code",
   "execution_count": null,
   "metadata": {},
   "outputs": [],
   "source": [
    "close(io)"
   ]
  },
  {
   "cell_type": "markdown",
   "metadata": {},
   "source": [
    "查看寫入 log 文字檔的內容。"
   ]
  },
  {
   "cell_type": "code",
   "execution_count": null,
   "metadata": {},
   "outputs": [],
   "source": [
    "f = open(\"log.txt\")\n",
    "readlines(f)"
   ]
  },
  {
   "cell_type": "code",
   "execution_count": null,
   "metadata": {},
   "outputs": [],
   "source": [
    "close(f)"
   ]
  },
  {
   "cell_type": "markdown",
   "metadata": {},
   "source": [
    "## 2. 例外處理 (Exception Handling)\n",
    "\n",
    "如果不可控制的情況發生，可能就會產生系統 Error，造成程式執行中斷，這時候我們就需要在適當的位置中，加入例外處理機制，讓我們可以捕捉到這些錯誤，並進行相對應的處理，以避免程式中斷而失去控制。\n",
    "\n",
    "例如開啟一個不存在的檔案，會造成程式中斷，無法繼續往下進行。"
   ]
  },
  {
   "cell_type": "code",
   "execution_count": null,
   "metadata": {},
   "outputs": [],
   "source": [
    "f = open(\"thisfiledoesnotexist.txt\")"
   ]
  },
  {
   "cell_type": "markdown",
   "metadata": {},
   "source": [
    "### 2.1 try-catch-finally\n",
    "\n",
    "使用 try-catch 例外處理。例如：\n",
    "- 開啟檔案時可能產生出錯，我們將有可能需要對例外進行測試的表達式放在 try 區塊中。\n",
    "- 若發生錯誤時，由 catch 區塊來處理捕捉到的錯誤，避免程式因為錯誤而異常中斷。"
   ]
  },
  {
   "cell_type": "code",
   "execution_count": null,
   "metadata": {},
   "outputs": [],
   "source": [
    "try\n",
    "    f = open(\"thisfiledoesnotexist.txt\")\n",
    "catch ex\n",
    "    println(\"檔案開啟錯誤，請檢查檔案是否存在。錯誤訊息：\")\n",
    "    println(\"Exception: \", ex)\n",
    "end"
   ]
  },
  {
   "cell_type": "markdown",
   "metadata": {},
   "source": [
    "finally 區塊是在處理過後，不論正常或有例外產生，一定會進入的區塊。可以將處理過後的訊息，或後續要執行的動作，在 finally 區塊中定義。"
   ]
  },
  {
   "cell_type": "code",
   "execution_count": null,
   "metadata": {},
   "outputs": [],
   "source": [
    "try\n",
    "    log(-10)\n",
    "catch ex\n",
    "    println(\"捕捉到例外情況，請檢查\")\n",
    "    println(\"Exception: \", ex, \"\\n\")\n",
    "finally\n",
    "    println(\"This is finally.\")\n",
    "end"
   ]
  },
  {
   "cell_type": "markdown",
   "metadata": {},
   "source": [
    "### 2.2 `throw()` 函式\n",
    "\n",
    "如果要很明確地產生例外情況，可以使用 `throw()` 函式。"
   ]
  },
  {
   "cell_type": "code",
   "execution_count": null,
   "metadata": {},
   "outputs": [],
   "source": [
    "foo(x) = x>=0 ? sqrt(x) : throw(DomainError(x, \"必須為正數\"))"
   ]
  },
  {
   "cell_type": "code",
   "execution_count": null,
   "metadata": {},
   "outputs": [],
   "source": [
    "foo(-4)"
   ]
  },
  {
   "cell_type": "markdown",
   "metadata": {},
   "source": [
    "### 2.3 自定 Error\n",
    "\n",
    "除了 Julia 提供的 Error 之外，也可以透過複合型別自訂 Error。"
   ]
  },
  {
   "cell_type": "code",
   "execution_count": null,
   "metadata": {},
   "outputs": [],
   "source": [
    "struct CustomException <: Exception \n",
    "    msg::AbstractString\n",
    "end"
   ]
  },
  {
   "cell_type": "markdown",
   "metadata": {},
   "source": [
    "### 2.4 `stacktrace()` 與 `backtrace()`\n",
    "\n",
    "如果想要了解程式執行該時間點的執行堆疊，可以呼叫 `stacktrace()` 函式，尤其是在處理例外情況發生時，例如可以依此堆疊追蹤錯誤發生時的程式、函式呼叫流程與順序，並判斷錯錯可能發生的原因。\n",
    "\n",
    "`backtrace()` 函式也是回傳堆疊追蹤的資訊，與 `stacktrace()` 不同的地方在於，`backtrace()` 會包含低階呼叫 C 語言的訊息。"
   ]
  },
  {
   "cell_type": "code",
   "execution_count": null,
   "metadata": {},
   "outputs": [],
   "source": [
    "stacktrace()"
   ]
  },
  {
   "cell_type": "code",
   "execution_count": null,
   "metadata": {},
   "outputs": [],
   "source": [
    "backtrace()"
   ]
  },
  {
   "cell_type": "code",
   "execution_count": null,
   "metadata": {},
   "outputs": [],
   "source": [
    "bad_function() = begin undeclared_variable end\n",
    "\n",
    "example() = try\n",
    "        bad_function()\n",
    "    catch\n",
    "        stacktrace()\n",
    "    end\n",
    "\n",
    "example()"
   ]
  },
  {
   "cell_type": "markdown",
   "metadata": {},
   "source": [
    "在上面的例子中，雖然可以正確地捕捉到 Error，但是回傳的錯誤發生行數在第 6 行，也就是 `stacktrace()` 被呼叫的那一行，對於要追蹤錯誤較不精確。下面示範搭配 `catch_backtrace()` 函式，可以看到錯誤發生的行數指向未宣告變數，也就是被呼叫函式的那一行 (第 1 行)，對於錯誤發生的來源能正確指出。"
   ]
  },
  {
   "cell_type": "code",
   "execution_count": null,
   "metadata": {},
   "outputs": [],
   "source": [
    "bad_function() = begin undeclared_variable end\n",
    "\n",
    "example() = try\n",
    "        bad_function()\n",
    "    catch\n",
    "        stacktrace(catch_backtrace())\n",
    "    end\n",
    "\n",
    "example()"
   ]
  },
  {
   "cell_type": "markdown",
   "metadata": {},
   "source": [
    "下面的範例是呼叫 `Base.catch_stack()` 函式，並將在堆疊中的 Exception 及 backtrace 印出。\n",
    "\n",
    "[註] `Base.catch_stack()` 函式是 Julia 1.1 之後推出的實驗性函式，未來名稱可能會改變。"
   ]
  },
  {
   "cell_type": "code",
   "execution_count": null,
   "metadata": {},
   "outputs": [],
   "source": [
    "bad_function() = begin undeclared_variable end\n",
    "\n",
    "example() = try\n",
    "        bad_function()\n",
    "    catch\n",
    "        for (ex, bt) in Base.catch_stack()\n",
    "            showerror(stdout, ex, bt)\n",
    "            println()\n",
    "        end\n",
    "    end\n",
    "\n",
    "example()"
   ]
  },
  {
   "cell_type": "code",
   "execution_count": null,
   "metadata": {},
   "outputs": [],
   "source": []
  }
 ],
 "metadata": {
  "@webio": {
   "lastCommId": null,
   "lastKernelId": null
  },
  "kernelspec": {
   "display_name": "Julia 1.4.0",
   "language": "julia",
   "name": "julia-1.4"
  },
  "language_info": {
   "file_extension": ".jl",
   "mimetype": "application/julia",
   "name": "julia",
   "version": "1.4.0"
  }
 },
 "nbformat": 4,
 "nbformat_minor": 4
}
