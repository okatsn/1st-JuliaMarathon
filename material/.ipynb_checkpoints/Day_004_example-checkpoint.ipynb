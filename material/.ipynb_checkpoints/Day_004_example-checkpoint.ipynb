{
 "cells": [
  {
   "cell_type": "markdown",
   "metadata": {},
   "source": [
    "# Julia 數值系統介紹\n",
    "\n",
    "Julia 數值系統型別 (Type) 階層，其最上層的父型別是 `Any`，也是 Julia 所有型別的父型別。數值系統的最上層父型別為 `Number`。\n",
    "\n",
    "![](Julia_Number.png)"
   ]
  },
  {
   "cell_type": "markdown",
   "metadata": {},
   "source": [
    "## 1. 整數 (Integer)\n",
    "\n",
    "整數是數值系統中最基本的型別，分為有正負號 (signed) 與無正負號 (unsigned) 整數型別，其最大和最小值也不同。\n",
    "\n",
    "|是否有正負號|型別|<div style=\"width:120px\">最大值</div>|<div style=\"width:120px\">最小值</div>|\n",
    "|---|---|---|---|\n",
    "|有|Int128, Int64, Int32, Int16, Int8|$2^{位元數-1}-1$|$-2^{位元數-1}$|\n",
    "|無|UInt128, UInt64, UInt32, UInt16, UInt8|$2^{位元數}-1$|$0$|\n",
    "\n",
    "\n",
    "### 1.1 範圍\n",
    "\n",
    "下面範例是呼叫 `typemax()` 與 `typemin()` 函式查看 Int64 型別的最大值和最小值。"
   ]
  },
  {
   "cell_type": "code",
   "execution_count": 1,
   "metadata": {},
   "outputs": [
    {
     "name": "stdout",
     "output_type": "stream",
     "text": [
      "Int64  : 最小值 -9223372036854775808, 最大值 9223372036854775807\n"
     ]
    }
   ],
   "source": [
    "println(\"$(rpad(Int64,7)): 最小值 $(typemin(Int64)), 最大值 $(typemax(Int64))\")"
   ]
  },
  {
   "cell_type": "markdown",
   "metadata": {},
   "source": [
    "> rpad(s,n,p)\n",
    ">> Stringify s and pad the resulting string on the right with p to make it n characters (code points) long. If s\n",
    "is already n characters long, an equal string is returned. Pad with spaces by default."
   ]
  },
  {
   "cell_type": "code",
   "execution_count": 5,
   "metadata": {},
   "outputs": [
    {
     "name": "stdout",
     "output_type": "stream",
     "text": [
      "Usage of println:\n",
      "a = 3\n"
     ]
    }
   ],
   "source": [
    "a = 3\n",
    "println(\"Usage of println:\")\n",
    "println(\"a = $(a)\")"
   ]
  },
  {
   "cell_type": "markdown",
   "metadata": {},
   "source": [
    "`BigInt` 型別是任意精度 (Arbitrary Precision)，若要呼叫 `typemax()` 或 `typemin()` 則會產生錯誤。"
   ]
  },
  {
   "cell_type": "code",
   "execution_count": 2,
   "metadata": {},
   "outputs": [
    {
     "ename": "MethodError",
     "evalue": "MethodError: no method matching typemax(::Type{BigInt})\nClosest candidates are:\n  typemax(!Matched::Type{Bool}) at bool.jl:7\n  typemax(!Matched::Type{Int8}) at int.jl:666\n  typemax(!Matched::Type{UInt8}) at int.jl:668\n  ...",
     "output_type": "error",
     "traceback": [
      "MethodError: no method matching typemax(::Type{BigInt})\nClosest candidates are:\n  typemax(!Matched::Type{Bool}) at bool.jl:7\n  typemax(!Matched::Type{Int8}) at int.jl:666\n  typemax(!Matched::Type{UInt8}) at int.jl:668\n  ...",
      "",
      "Stacktrace:",
      " [1] top-level scope at In[2]:1"
     ]
    }
   ],
   "source": [
    "typemax(BigInt)"
   ]
  },
  {
   "cell_type": "code",
   "execution_count": 3,
   "metadata": {},
   "outputs": [
    {
     "ename": "MethodError",
     "evalue": "MethodError: no method matching typemin(::Type{BigInt})\nClosest candidates are:\n  typemin(!Matched::Type{Bool}) at bool.jl:6\n  typemin(!Matched::Type{Int8}) at int.jl:665\n  typemin(!Matched::Type{UInt8}) at int.jl:667\n  ...",
     "output_type": "error",
     "traceback": [
      "MethodError: no method matching typemin(::Type{BigInt})\nClosest candidates are:\n  typemin(!Matched::Type{Bool}) at bool.jl:6\n  typemin(!Matched::Type{Int8}) at int.jl:665\n  typemin(!Matched::Type{UInt8}) at int.jl:667\n  ...",
      "",
      "Stacktrace:",
      " [1] top-level scope at In[3]:1"
     ]
    }
   ],
   "source": [
    "typemin(BigInt)"
   ]
  },
  {
   "cell_type": "markdown",
   "metadata": {},
   "source": [
    "### 1.2 使用與宣告變數\n",
    "\n",
    "Julia 會自動判斷適用的整數值型別，十進位的值會自動指定為有正負號的整數，預設的位數是以作業系統位元數為準，例如 64 位元的作業系統就會自動採用 `Int64` 型別。(註: 在不影響位元數的情況下，也就是未超過型別的最大值，且未指定型別。)\n",
    "\n",
    "若超過 `Int64` 最大值時，Julia 會自動判斷並將型別定為 `Int128`。"
   ]
  },
  {
   "cell_type": "code",
   "execution_count": 11,
   "metadata": {},
   "outputs": [
    {
     "data": {
      "text/plain": [
       "64"
      ]
     },
     "execution_count": 11,
     "metadata": {},
     "output_type": "execute_result"
    }
   ],
   "source": [
    "# 查看內部變數 Sys.WORD_SIZE，顯示作業系統為 32-bit 或 64-bit。\n",
    "Sys.WORD_SIZE"
   ]
  },
  {
   "cell_type": "code",
   "execution_count": 12,
   "metadata": {},
   "outputs": [
    {
     "data": {
      "text/plain": [
       "Int64"
      ]
     },
     "execution_count": 12,
     "metadata": {},
     "output_type": "execute_result"
    }
   ],
   "source": [
    "x = 3\n",
    "typeof(x)"
   ]
  },
  {
   "cell_type": "code",
   "execution_count": 13,
   "metadata": {},
   "outputs": [
    {
     "data": {
      "text/plain": [
       "Float64"
      ]
     },
     "execution_count": 13,
     "metadata": {},
     "output_type": "execute_result"
    }
   ],
   "source": [
    "x = 0.1 + x\n",
    "typeof(x)"
   ]
  },
  {
   "cell_type": "markdown",
   "metadata": {},
   "source": [
    "使用 `length()` 加上 `bitstring()` 函式可以看到不同整數型別的位元數。"
   ]
  },
  {
   "cell_type": "code",
   "execution_count": 18,
   "metadata": {},
   "outputs": [
    {
     "data": {
      "text/plain": [
       "\"0100000000001000110011001100110011001100110011001100110011001101\""
      ]
     },
     "execution_count": 18,
     "metadata": {},
     "output_type": "execute_result"
    }
   ],
   "source": [
    "bitstring(x)"
   ]
  },
  {
   "cell_type": "code",
   "execution_count": 17,
   "metadata": {},
   "outputs": [
    {
     "data": {
      "text/plain": [
       "64"
      ]
     },
     "execution_count": 17,
     "metadata": {},
     "output_type": "execute_result"
    }
   ],
   "source": [
    "length(bitstring(x))"
   ]
  },
  {
   "cell_type": "code",
   "execution_count": 7,
   "metadata": {},
   "outputs": [
    {
     "name": "stdout",
     "output_type": "stream",
     "text": [
      "Int64 的位元組數是: 8\n"
     ]
    }
   ],
   "source": [
    "println(\"Int64 的位元組數是: \", sizeof(x))"
   ]
  },
  {
   "cell_type": "markdown",
   "metadata": {},
   "source": [
    "###### 若是十六進位、八進位、二進位的整數值，則可以將 `0x`, `0o`, `0b` 放在數值之前，代表不同的進位制。\n",
    "下面的例子是十進位制的 20 在不同進位制的宣告。\n",
    "須留意十六進位、八進位、二進位之英文字母均需小寫。"
   ]
  },
  {
   "cell_type": "code",
   "execution_count": 8,
   "metadata": {},
   "outputs": [
    {
     "data": {
      "text/plain": [
       "20"
      ]
     },
     "execution_count": 8,
     "metadata": {},
     "output_type": "execute_result"
    }
   ],
   "source": [
    "# 十進位\n",
    "20"
   ]
  },
  {
   "cell_type": "code",
   "execution_count": 9,
   "metadata": {},
   "outputs": [
    {
     "data": {
      "text/plain": [
       "0x14"
      ]
     },
     "execution_count": 9,
     "metadata": {},
     "output_type": "execute_result"
    }
   ],
   "source": [
    "# 十六進位\n",
    "0x14"
   ]
  },
  {
   "cell_type": "code",
   "execution_count": 10,
   "metadata": {},
   "outputs": [
    {
     "data": {
      "text/plain": [
       "0x14"
      ]
     },
     "execution_count": 10,
     "metadata": {},
     "output_type": "execute_result"
    }
   ],
   "source": [
    "# 八進位\n",
    "0o24"
   ]
  },
  {
   "cell_type": "markdown",
   "metadata": {},
   "source": [
    "###### (!) 上面有提到，十進位的整數會自動判斷為有 signed 整數，但是十六/八/二進位則會自動判斷為 unsigned。"
   ]
  },
  {
   "cell_type": "code",
   "execution_count": 11,
   "metadata": {},
   "outputs": [
    {
     "data": {
      "text/plain": [
       "UInt8"
      ]
     },
     "execution_count": 11,
     "metadata": {},
     "output_type": "execute_result"
    }
   ],
   "source": [
    "typeof(0x14)"
   ]
  },
  {
   "cell_type": "markdown",
   "metadata": {},
   "source": [
    "### 1.3 指定型別與轉換\n",
    "\n",
    "型別的指定，只要在宣告時加上型別名稱即可。以下例來說，如果沒有指定的話，型別會是 `Int64`。"
   ]
  },
  {
   "cell_type": "code",
   "execution_count": 12,
   "metadata": {},
   "outputs": [
    {
     "data": {
      "text/plain": [
       "Int128"
      ]
     },
     "execution_count": 12,
     "metadata": {},
     "output_type": "execute_result"
    }
   ],
   "source": [
    "y = Int128(3)\n",
    "typeof(y)"
   ]
  },
  {
   "cell_type": "code",
   "execution_count": 13,
   "metadata": {},
   "outputs": [
    {
     "data": {
      "text/plain": [
       "128"
      ]
     },
     "execution_count": 13,
     "metadata": {},
     "output_type": "execute_result"
    }
   ],
   "source": [
    "length(bitstring(y))"
   ]
  },
  {
   "cell_type": "markdown",
   "metadata": {},
   "source": [
    "#### `signed()` 或 `unsigned()`\n",
    "\n",
    "有無正負號的轉換，可以透過 `signed()` 或 `unsigned()` 來進行。下面的例子就可以看到我們把 `Int64` 轉換為 `UInt64` 型別。"
   ]
  },
  {
   "cell_type": "code",
   "execution_count": 14,
   "metadata": {},
   "outputs": [
    {
     "data": {
      "text/plain": [
       "UInt64"
      ]
     },
     "execution_count": 14,
     "metadata": {},
     "output_type": "execute_result"
    }
   ],
   "source": [
    "typeof(unsigned(20))"
   ]
  },
  {
   "cell_type": "markdown",
   "metadata": {},
   "source": [
    "將 `UInt32` 轉為 `Int32`。"
   ]
  },
  {
   "cell_type": "code",
   "execution_count": 15,
   "metadata": {},
   "outputs": [
    {
     "data": {
      "text/plain": [
       "Int32"
      ]
     },
     "execution_count": 15,
     "metadata": {},
     "output_type": "execute_result"
    }
   ],
   "source": [
    "typeof(signed(UInt32(20)))"
   ]
  },
  {
   "cell_type": "markdown",
   "metadata": {},
   "source": [
    "###### (!) 要留意的是，`signed()` 轉換時，若造成轉換後溢位 (overflow)，系統並不會顯示錯誤。"
   ]
  },
  {
   "cell_type": "code",
   "execution_count": 16,
   "metadata": {},
   "outputs": [
    {
     "data": {
      "text/plain": [
       "-1"
      ]
     },
     "execution_count": 16,
     "metadata": {},
     "output_type": "execute_result"
    }
   ],
   "source": [
    "x = typemax(UInt8) # UInt8 最大值為 255\n",
    "signed(x) # 由於 Int8 的最大值為 127，所以轉換後會造成 overflow"
   ]
  },
  {
   "cell_type": "markdown",
   "metadata": {},
   "source": [
    "#### `BigInt`\n",
    "\n",
    "`BigInt` 可以用在當型別要超出精度時 (例如最大值加 1 或是最小值 - 1)，避免因此而造成溢位 (overflow)。"
   ]
  },
  {
   "cell_type": "code",
   "execution_count": 23,
   "metadata": {},
   "outputs": [
    {
     "name": "stdout",
     "output_type": "stream",
     "text": [
      "max of type Int64: 9223372036854775807\n",
      "max of type Int64 plus 1: -9223372036854775808 (which overflows)\n"
     ]
    }
   ],
   "source": [
    "# 溢位，結果為負數\n",
    "max_of_Int64 = typemax(Int64)\n",
    "println(\"max of type Int64: $(max_of_Int64)\")\n",
    "println(\"max of type Int64 plus 1: $(max_of_Int64+1) (which overflows)\")"
   ]
  },
  {
   "cell_type": "markdown",
   "metadata": {},
   "source": [
    "`BigInt` 必須明確 (explicitly) 宣告，無法自動被 promote。轉換為 `BigInt` 後就不會造成溢位了。"
   ]
  },
  {
   "cell_type": "code",
   "execution_count": 26,
   "metadata": {},
   "outputs": [
    {
     "name": "stdout",
     "output_type": "stream",
     "text": [
      "use BigInt: 9223372036854775808 (then not overflow)\n"
     ]
    }
   ],
   "source": [
    "println(\"use BigInt: $(BigInt(max_of_Int64) + 1) (then not overflow)\")"
   ]
  },
  {
   "cell_type": "markdown",
   "metadata": {},
   "source": [
    "### 1.4 Division Error\n",
    "\n",
    "相除取整數 (integer divide; 運算子為 $\\div$) 時，若是將整數 $\\div$ 零，會產生 `DivideError`。\n",
    "\n",
    "有關於運算及運算子，會在未來的內容中進行詳細介紹。"
   ]
  },
  {
   "cell_type": "code",
   "execution_count": 19,
   "metadata": {},
   "outputs": [
    {
     "ename": "DivideError",
     "evalue": "DivideError: integer division error",
     "output_type": "error",
     "traceback": [
      "DivideError: integer division error",
      "",
      "Stacktrace:",
      " [1] div(::Int64, ::Int64) at ./int.jl:228",
      " [2] top-level scope at In[19]:1"
     ]
    }
   ],
   "source": [
    "3 ÷ 0"
   ]
  },
  {
   "cell_type": "markdown",
   "metadata": {},
   "source": [
    "> type `\\div` + `tab` to get `÷`"
   ]
  },
  {
   "cell_type": "markdown",
   "metadata": {},
   "source": [
    "但是除法 (divide) 的分母可以為 0，其結果為無窮大。"
   ]
  },
  {
   "cell_type": "code",
   "execution_count": 27,
   "metadata": {},
   "outputs": [
    {
     "data": {
      "text/plain": [
       "Inf"
      ]
     },
     "execution_count": 27,
     "metadata": {},
     "output_type": "execute_result"
    }
   ],
   "source": [
    "3 / 0"
   ]
  },
  {
   "cell_type": "markdown",
   "metadata": {},
   "source": [
    "## 2. 布林值 (Bool)\n",
    "\n",
    "布林值是用 `true` 或 `false` 保留字來代表邏輯判斷的\"真\"或\"假\"。\n",
    "\n",
    "在型別系統上，`Bool` 是 `Integer` 的子型別。如果用 `bitstring()` 來查看的話，會發現 `true` / `false` 內部是以 `Int8` 型別表達。"
   ]
  },
  {
   "cell_type": "code",
   "execution_count": 28,
   "metadata": {},
   "outputs": [
    {
     "data": {
      "text/plain": [
       "(\"00000001\", \"00000000\")"
      ]
     },
     "execution_count": 28,
     "metadata": {},
     "output_type": "execute_result"
    }
   ],
   "source": [
    "bitstring(true), bitstring(false)"
   ]
  },
  {
   "cell_type": "markdown",
   "metadata": {},
   "source": [
    "### 轉換\n",
    "\n",
    "`Bool` 可以與整數型別進行互相轉換。"
   ]
  },
  {
   "cell_type": "code",
   "execution_count": 29,
   "metadata": {},
   "outputs": [
    {
     "data": {
      "text/plain": [
       "(1, 0)"
      ]
     },
     "execution_count": 29,
     "metadata": {},
     "output_type": "execute_result"
    }
   ],
   "source": [
    "# Bool 轉為整數，只要是整數型別都可以\n",
    "Int(true), Int8(false)"
   ]
  },
  {
   "cell_type": "code",
   "execution_count": 30,
   "metadata": {},
   "outputs": [
    {
     "data": {
      "text/plain": [
       "(true, false)"
      ]
     },
     "execution_count": 30,
     "metadata": {},
     "output_type": "execute_result"
    }
   ],
   "source": [
    "# 整數轉為 Bool\n",
    "Bool(Int64(1)), Bool(0)"
   ]
  },
  {
   "cell_type": "markdown",
   "metadata": {},
   "source": [
    "若嘗試將非 1 / 0 的整數值轉為 `Bool`，則會產生 `InexactError` 錯誤。"
   ]
  },
  {
   "cell_type": "code",
   "execution_count": 31,
   "metadata": {},
   "outputs": [
    {
     "ename": "InexactError",
     "evalue": "InexactError: Bool(10)",
     "output_type": "error",
     "traceback": [
      "InexactError: Bool(10)",
      "",
      "Stacktrace:",
      " [1] Bool(::Int64) at .\\float.jl:73",
      " [2] top-level scope at In[31]:1"
     ]
    }
   ],
   "source": [
    "Bool(10)"
   ]
  },
  {
   "cell_type": "markdown",
   "metadata": {},
   "source": [
    "###### (!)跟有些程式語言不同的是，在 Julia 中不能用 1 / 0 整數值來取代 `true` / `false`，會造成 `TypeError` 錯誤。"
   ]
  },
  {
   "cell_type": "code",
   "execution_count": 35,
   "metadata": {},
   "outputs": [
    {
     "ename": "TypeError",
     "evalue": "TypeError: non-boolean (Int64) used in boolean context",
     "output_type": "error",
     "traceback": [
      "TypeError: non-boolean (Int64) used in boolean context",
      "",
      "Stacktrace:",
      " [1] top-level scope at In[35]:1"
     ]
    }
   ],
   "source": [
    "if 1\n",
    "    println(\"true\")\n",
    "end"
   ]
  },
  {
   "cell_type": "code",
   "execution_count": 36,
   "metadata": {},
   "outputs": [
    {
     "name": "stdout",
     "output_type": "stream",
     "text": [
      "true\n"
     ]
    }
   ],
   "source": [
    "if Bool(1)\n",
    "    println(\"true\")\n",
    "end"
   ]
  },
  {
   "cell_type": "markdown",
   "metadata": {},
   "source": [
    "## 3. 浮點數 (Floating Point)\n",
    "\n",
    "浮點數沒有 signed / unsigned 的區分，而是分為不同的精度。\n",
    "\n",
    "|型別|精度|\n",
    "|---|---|\n",
    "|`Float16`|半精度(Half Precision)|\n",
    "|`Float32`|單精度(Single Precision)|\n",
    "|`Float64`|雙精度(Double Precision)|"
   ]
  },
  {
   "cell_type": "markdown",
   "metadata": {},
   "source": [
    "### 3.1 範圍\n",
    "\n",
    "浮點數是實數的子型別，其邊界值為無窮大或負無窮大。\n",
    "\n",
    "|型別|最小值|最大值|\n",
    "|---|---|---|\n",
    "|`Float64`|-Inf|Inf|\n",
    "|`Float32`|-Inf 或 -Inf32|Inf 或 Inf32|\n",
    "|`Float16`|-Inf 或 -Inf16|Inf 或 Inf16|\n",
    "\n",
    "無窮值 (`Inf` 及 `-Inf`) 在 Julia 都是正常的浮點數。下面範例是呼叫 `typemax()` 與 `typemin()` 函式可以查看 Float64 型別的最大值和最小值。"
   ]
  },
  {
   "cell_type": "code",
   "execution_count": 95,
   "metadata": {},
   "outputs": [
    {
     "name": "stdout",
     "output_type": "stream",
     "text": [
      "Float64: 最小值 -Inf, 最大值 Inf\n"
     ]
    }
   ],
   "source": [
    "println(\"$(rpad(Float64,7)): 最小值 $(typemin(Float64)), 最大值 $(typemax(Float64))\")"
   ]
  },
  {
   "cell_type": "code",
   "execution_count": 27,
   "metadata": {},
   "outputs": [
    {
     "data": {
      "text/plain": [
       "Inf16"
      ]
     },
     "execution_count": 27,
     "metadata": {},
     "output_type": "execute_result"
    }
   ],
   "source": [
    "typemax(Float16)"
   ]
  },
  {
   "cell_type": "markdown",
   "metadata": {},
   "source": [
    "### 3.2 宣告\n",
    "\n",
    "下列的方式均可宣告數值為浮點數。"
   ]
  },
  {
   "cell_type": "code",
   "execution_count": 28,
   "metadata": {},
   "outputs": [
    {
     "data": {
      "text/plain": [
       "(1.0, 1.0, 0.5, 0.5, -1.2)"
      ]
     },
     "execution_count": 28,
     "metadata": {},
     "output_type": "execute_result"
    }
   ],
   "source": [
    "1.0, 1., 0.5, .5, -1.2"
   ]
  },
  {
   "cell_type": "markdown",
   "metadata": {},
   "source": [
    "用科學記號的表示方式也可以。(similar or the same as Matlab)"
   ]
  },
  {
   "cell_type": "code",
   "execution_count": 29,
   "metadata": {},
   "outputs": [
    {
     "data": {
      "text/plain": [
       "(1.0e10, 0.001)"
      ]
     },
     "execution_count": 29,
     "metadata": {},
     "output_type": "execute_result"
    }
   ],
   "source": [
    "1.e10, 1.0e-3"
   ]
  },
  {
   "cell_type": "markdown",
   "metadata": {},
   "source": [
    "同樣的，預設的位數是以作業系統位元數為準，例如 64 位元的作業系統就會自動採用 `Float64` 型別。"
   ]
  },
  {
   "cell_type": "code",
   "execution_count": 30,
   "metadata": {},
   "outputs": [
    {
     "data": {
      "text/plain": [
       "Float64"
      ]
     },
     "execution_count": 30,
     "metadata": {},
     "output_type": "execute_result"
    }
   ],
   "source": [
    "typeof(1.)"
   ]
  },
  {
   "cell_type": "markdown",
   "metadata": {},
   "source": [
    "###### 若加上 f0 字串，則是宣告為 `Float32`。"
   ]
  },
  {
   "cell_type": "code",
   "execution_count": 46,
   "metadata": {},
   "outputs": [
    {
     "name": "stdout",
     "output_type": "stream",
     "text": [
      "value: 1.0; type: Float32\n"
     ]
    }
   ],
   "source": [
    "a = 1f0\n",
    "println(\"value: $(a); type: $(typeof(a))\")"
   ]
  },
  {
   "cell_type": "code",
   "execution_count": 32,
   "metadata": {},
   "outputs": [
    {
     "data": {
      "text/plain": [
       "Float32"
      ]
     },
     "execution_count": 32,
     "metadata": {},
     "output_type": "execute_result"
    }
   ],
   "source": [
    "# ans 是 Julia 將最後一個值指定給 ans 變數\n",
    "typeof(ans)"
   ]
  },
  {
   "cell_type": "markdown",
   "metadata": {},
   "source": [
    "除了上述 `Inf` 是浮點數外，`NaN` (not a number) 也是屬於特殊浮點數，有 `NaN`, `NaN64`, `NaN32`, `NaN16` 。"
   ]
  },
  {
   "cell_type": "code",
   "execution_count": 42,
   "metadata": {},
   "outputs": [
    {
     "data": {
      "text/plain": [
       "Float64"
      ]
     },
     "execution_count": 42,
     "metadata": {},
     "output_type": "execute_result"
    }
   ],
   "source": [
    "typeof(NaN)"
   ]
  },
  {
   "cell_type": "markdown",
   "metadata": {},
   "source": [
    "###### (!) 浮點數零比較特別，正零與負零均為零，請看下面範例。但是實際上正零與負零的位元內容不相同。"
   ]
  },
  {
   "cell_type": "code",
   "execution_count": 47,
   "metadata": {},
   "outputs": [
    {
     "data": {
      "text/plain": [
       "true"
      ]
     },
     "execution_count": 47,
     "metadata": {},
     "output_type": "execute_result"
    }
   ],
   "source": [
    "0.0 == -0.0"
   ]
  },
  {
   "cell_type": "code",
   "execution_count": 35,
   "metadata": {},
   "outputs": [
    {
     "data": {
      "text/plain": [
       "\"0000000000000000000000000000000000000000000000000000000000000000\""
      ]
     },
     "execution_count": 35,
     "metadata": {},
     "output_type": "execute_result"
    }
   ],
   "source": [
    "bitstring(0.0)"
   ]
  },
  {
   "cell_type": "code",
   "execution_count": 48,
   "metadata": {},
   "outputs": [
    {
     "data": {
      "text/plain": [
       "\"1000000000000000000000000000000000000000000000000000000000000000\""
      ]
     },
     "execution_count": 48,
     "metadata": {},
     "output_type": "execute_result"
    }
   ],
   "source": [
    "bitstring(-0.0)"
   ]
  },
  {
   "cell_type": "markdown",
   "metadata": {},
   "source": [
    "如果要避免混淆，可以透過 `zero()` 函式來宣告零浮點數。\n",
    "\n",
    "`zero()` 函式的用途很廣泛，未來會在相關應用時提供範例。"
   ]
  },
  {
   "cell_type": "code",
   "execution_count": 37,
   "metadata": {},
   "outputs": [
    {
     "data": {
      "text/plain": [
       "0.0"
      ]
     },
     "execution_count": 37,
     "metadata": {},
     "output_type": "execute_result"
    }
   ],
   "source": [
    "zero(Float64)"
   ]
  },
  {
   "cell_type": "code",
   "execution_count": 38,
   "metadata": {},
   "outputs": [
    {
     "data": {
      "text/plain": [
       "\"0000000000000000000000000000000000000000000000000000000000000000\""
      ]
     },
     "execution_count": 38,
     "metadata": {},
     "output_type": "execute_result"
    }
   ],
   "source": [
    "bitstring(ans)"
   ]
  },
  {
   "cell_type": "markdown",
   "metadata": {},
   "source": [
    "### 3.3 指定型別\n",
    "\n",
    "型別的指定，只要在宣告時加上型別名稱即可。"
   ]
  },
  {
   "cell_type": "code",
   "execution_count": 39,
   "metadata": {},
   "outputs": [
    {
     "data": {
      "text/plain": [
       "1.0f0"
      ]
     },
     "execution_count": 39,
     "metadata": {},
     "output_type": "execute_result"
    }
   ],
   "source": [
    "Float32(1.0)"
   ]
  },
  {
   "cell_type": "code",
   "execution_count": 40,
   "metadata": {},
   "outputs": [
    {
     "data": {
      "text/plain": [
       "Float32"
      ]
     },
     "execution_count": 40,
     "metadata": {},
     "output_type": "execute_result"
    }
   ],
   "source": [
    "typeof(ans)"
   ]
  },
  {
   "cell_type": "markdown",
   "metadata": {},
   "source": [
    "### 3.4 $\\epsilon$ (epsilon)\n",
    "\n",
    "Julia 提供了 `eps()` 函式來計算 epsilon。"
   ]
  },
  {
   "cell_type": "code",
   "execution_count": 41,
   "metadata": {},
   "outputs": [
    {
     "data": {
      "text/plain": [
       "2.220446049250313e-16"
      ]
     },
     "execution_count": 41,
     "metadata": {},
     "output_type": "execute_result"
    }
   ],
   "source": [
    "eps()"
   ]
  },
  {
   "cell_type": "code",
   "execution_count": 42,
   "metadata": {},
   "outputs": [
    {
     "data": {
      "text/plain": [
       "2.220446049250313e-16"
      ]
     },
     "execution_count": 42,
     "metadata": {},
     "output_type": "execute_result"
    }
   ],
   "source": [
    "# 預設即為 eps(Float64)\n",
    "eps(Float64)"
   ]
  },
  {
   "cell_type": "markdown",
   "metadata": {},
   "source": [
    "也可以計算某特定數值的 epsilon。"
   ]
  },
  {
   "cell_type": "code",
   "execution_count": 43,
   "metadata": {},
   "outputs": [
    {
     "data": {
      "text/plain": [
       "1.4210854715202004e-14"
      ]
     },
     "execution_count": 43,
     "metadata": {},
     "output_type": "execute_result"
    }
   ],
   "source": [
    "eps(100.0)"
   ]
  },
  {
   "cell_type": "markdown",
   "metadata": {},
   "source": [
    "100.0 的下一個可表現的浮點值如下例。"
   ]
  },
  {
   "cell_type": "code",
   "execution_count": 44,
   "metadata": {},
   "outputs": [
    {
     "data": {
      "text/plain": [
       "100.00000000000001"
      ]
     },
     "execution_count": 44,
     "metadata": {},
     "output_type": "execute_result"
    }
   ],
   "source": [
    "100.0 + eps(100.0)"
   ]
  },
  {
   "cell_type": "markdown",
   "metadata": {},
   "source": [
    "同樣的，我們也可以用 `nextfloat()` 或 `prevfloat()` 來取得下一個或上一個可表現的浮點數值。"
   ]
  },
  {
   "cell_type": "code",
   "execution_count": 45,
   "metadata": {},
   "outputs": [
    {
     "data": {
      "text/plain": [
       "100.00000000000001"
      ]
     },
     "execution_count": 45,
     "metadata": {},
     "output_type": "execute_result"
    }
   ],
   "source": [
    "nextfloat(100.0)"
   ]
  },
  {
   "cell_type": "markdown",
   "metadata": {},
   "source": [
    "### 3.5  Rounding\n",
    "\n",
    "在 Rounding 的方法部分，Julia 是採用 IEEE 754 規範，也就是 `RoundNearest`，**取最近的偶數(四捨；五取最近偶數)，而非我們一般講的四捨五入。**\n",
    "\n",
    "要採用不同的 rounding 方法，可在呼叫 `round()` 函式時加入不同的常數參數，列表如下:\n",
    "\n",
    "|常數|描述|\n",
    "|---|---|\n",
    "|RoundNearest (default)|四捨五取最近偶數(預設)|\n",
    "|RoundNearestTiesAway|四捨五取遠離0|\n",
    "|RoundNearestTiesUp|四捨五入|\n",
    "|RoundToZero|無條件捨去|\n",
    "|RoundFromZero (BigFloat only)|四捨五取遠離0|\n",
    "|RoundUp|無條件進位|\n",
    "|RoundDown|無條件退位|"
   ]
  },
  {
   "cell_type": "markdown",
   "metadata": {},
   "source": [
    "###### (!) default: round to the nearest integer. for .5, to nearest even number."
   ]
  },
  {
   "cell_type": "code",
   "execution_count": 5,
   "metadata": {},
   "outputs": [
    {
     "data": {
      "text/plain": [
       "1.0"
      ]
     },
     "execution_count": 5,
     "metadata": {},
     "output_type": "execute_result"
    }
   ],
   "source": [
    "round(1.2)"
   ]
  },
  {
   "cell_type": "code",
   "execution_count": 13,
   "metadata": {},
   "outputs": [
    {
     "data": {
      "text/plain": [
       "1.0"
      ]
     },
     "execution_count": 13,
     "metadata": {},
     "output_type": "execute_result"
    }
   ],
   "source": [
    "round(0.51)"
   ]
  },
  {
   "cell_type": "code",
   "execution_count": 12,
   "metadata": {},
   "outputs": [
    {
     "data": {
      "text/plain": [
       "0.0"
      ]
     },
     "execution_count": 12,
     "metadata": {},
     "output_type": "execute_result"
    }
   ],
   "source": [
    "# 最近的偶數為 0\n",
    "round(0.5)"
   ]
  },
  {
   "cell_type": "code",
   "execution_count": 7,
   "metadata": {},
   "outputs": [
    {
     "data": {
      "text/plain": [
       "(2.0, 2.0)"
      ]
     },
     "execution_count": 7,
     "metadata": {},
     "output_type": "execute_result"
    }
   ],
   "source": [
    "# 最近的偶數為 2\n",
    "round(1.5), round(2.5)"
   ]
  },
  {
   "cell_type": "markdown",
   "metadata": {},
   "source": [
    "###### (!) RoundNearestTiesUp: round to the nearest integer"
   ]
  },
  {
   "cell_type": "code",
   "execution_count": 4,
   "metadata": {},
   "outputs": [
    {
     "data": {
      "text/plain": [
       "(2.0, 2.0)"
      ]
     },
     "execution_count": 4,
     "metadata": {},
     "output_type": "execute_result"
    }
   ],
   "source": [
    "# 若要四捨五入, 加上 RoundNearestTiesUp 常數參數\n",
    "round(2.4, RoundNearestTiesUp), round(1.6, RoundNearestTiesUp)"
   ]
  },
  {
   "cell_type": "markdown",
   "metadata": {},
   "source": [
    "###### matlab `floor()` and `ceil()`"
   ]
  },
  {
   "cell_type": "code",
   "execution_count": 2,
   "metadata": {},
   "outputs": [
    {
     "data": {
      "text/plain": [
       "(-2.0, 1.0)"
      ]
     },
     "execution_count": 2,
     "metadata": {},
     "output_type": "execute_result"
    }
   ],
   "source": [
    "round(-1.5, RoundDown), round(1.5, RoundDown)"
   ]
  },
  {
   "cell_type": "markdown",
   "metadata": {},
   "source": [
    "## 4. 有理數 (Rational)\n",
    "\n",
    "### 4.1 宣告\n",
    "\n",
    "有理數是用 **\"分子//分母\"** 的格式宣告，有規則如下：\n",
    "- 分子、分母均需為整數\n",
    "- 分子、分母的整數型別不同時，會自動進行必要的轉換\n",
    "- 分子、分母可為正或負數，但是有理數會被約分為分母不為負數的形式\n",
    "- 分子及分母不可為浮點數\n",
    "- 分母或分子可為零，但是不可分子和分母同時為零"
   ]
  },
  {
   "cell_type": "code",
   "execution_count": 50,
   "metadata": {},
   "outputs": [
    {
     "data": {
      "text/plain": [
       "1//2"
      ]
     },
     "execution_count": 50,
     "metadata": {},
     "output_type": "execute_result"
    }
   ],
   "source": [
    "# 分子、分母均需為整數\n",
    "1//2"
   ]
  },
  {
   "cell_type": "code",
   "execution_count": 60,
   "metadata": {},
   "outputs": [
    {
     "name": "stdout",
     "output_type": "stream",
     "text": [
      "3\n"
     ]
    },
    {
     "data": {
      "text/plain": [
       "0x00000003"
      ]
     },
     "execution_count": 60,
     "metadata": {},
     "output_type": "execute_result"
    }
   ],
   "source": [
    "println(\"$(UInt32(3))\")\n",
    "UInt32(3)"
   ]
  },
  {
   "cell_type": "code",
   "execution_count": 61,
   "metadata": {},
   "outputs": [
    {
     "data": {
      "text/plain": [
       "5"
      ]
     },
     "execution_count": 61,
     "metadata": {},
     "output_type": "execute_result"
    }
   ],
   "source": [
    "Int8(5)"
   ]
  },
  {
   "cell_type": "code",
   "execution_count": 62,
   "metadata": {},
   "outputs": [
    {
     "data": {
      "text/plain": [
       "0x00000003//0x00000005"
      ]
     },
     "execution_count": 62,
     "metadata": {},
     "output_type": "execute_result"
    }
   ],
   "source": [
    "# 分子、分母的整數型別不同時，會自動進行必要的轉換\n",
    "UInt32(3)//Int8(5)"
   ]
  },
  {
   "cell_type": "code",
   "execution_count": 63,
   "metadata": {},
   "outputs": [
    {
     "data": {
      "text/plain": [
       "Rational{UInt32}"
      ]
     },
     "execution_count": 63,
     "metadata": {},
     "output_type": "execute_result"
    }
   ],
   "source": [
    "typeof(ans)"
   ]
  },
  {
   "cell_type": "code",
   "execution_count": 64,
   "metadata": {},
   "outputs": [
    {
     "data": {
      "text/plain": [
       "-2//1"
      ]
     },
     "execution_count": 64,
     "metadata": {},
     "output_type": "execute_result"
    }
   ],
   "source": [
    "# 分子、分母可為正或負數，但是有理數會被約分為分母不為負數的形式\n",
    "2//-1"
   ]
  },
  {
   "cell_type": "code",
   "execution_count": 65,
   "metadata": {},
   "outputs": [
    {
     "data": {
      "text/plain": [
       "1//2"
      ]
     },
     "execution_count": 65,
     "metadata": {},
     "output_type": "execute_result"
    }
   ],
   "source": [
    "# 約分\n",
    "3 // 6"
   ]
  },
  {
   "cell_type": "markdown",
   "metadata": {},
   "source": [
    "###### (!)分子及分母不可為浮點數"
   ]
  },
  {
   "cell_type": "code",
   "execution_count": 66,
   "metadata": {},
   "outputs": [
    {
     "ename": "MethodError",
     "evalue": "MethodError: no method matching //(::Float64, ::Int64)\nClosest candidates are:\n  //(!Matched::Integer, ::Integer) at rational.jl:50\n  //(!Matched::Rational, ::Integer) at rational.jl:53\n  //(!Matched::Complex, ::Real) at rational.jl:66\n  ...",
     "output_type": "error",
     "traceback": [
      "MethodError: no method matching //(::Float64, ::Int64)\nClosest candidates are:\n  //(!Matched::Integer, ::Integer) at rational.jl:50\n  //(!Matched::Rational, ::Integer) at rational.jl:53\n  //(!Matched::Complex, ::Real) at rational.jl:66\n  ...",
      "",
      "Stacktrace:",
      " [1] top-level scope at In[66]:1"
     ]
    }
   ],
   "source": [
    "1.1//2 # 分子及分母不可為浮點數"
   ]
  },
  {
   "cell_type": "code",
   "execution_count": 67,
   "metadata": {},
   "outputs": [
    {
     "data": {
      "text/plain": [
       "0//1"
      ]
     },
     "execution_count": 67,
     "metadata": {},
     "output_type": "execute_result"
    }
   ],
   "source": [
    "# 分母或分子可為零\n",
    "0//5"
   ]
  },
  {
   "cell_type": "code",
   "execution_count": 68,
   "metadata": {},
   "outputs": [
    {
     "ename": "ArgumentError",
     "evalue": "ArgumentError: invalid rational: zero(Int64)//zero(Int64)",
     "output_type": "error",
     "traceback": [
      "ArgumentError: invalid rational: zero(Int64)//zero(Int64)",
      "",
      "Stacktrace:",
      " [1] __throw_rational_argerror_zero(::Type{T} where T) at .\\rational.jl:24",
      " [2] Rational at .\\rational.jl:14 [inlined]",
      " [3] Rational at .\\rational.jl:27 [inlined]",
      " [4] //(::Int64, ::Int64) at .\\rational.jl:50",
      " [5] top-level scope at In[68]:1"
     ]
    }
   ],
   "source": [
    "# 分母或分子可為零，但是不可分子和分母同時為零\n",
    "0//0"
   ]
  },
  {
   "cell_type": "markdown",
   "metadata": {},
   "source": [
    "### 4.2 (!) 轉換\n",
    "\n",
    "有理數與浮點數之間可以進行轉換。"
   ]
  },
  {
   "cell_type": "code",
   "execution_count": 71,
   "metadata": {},
   "outputs": [
    {
     "data": {
      "text/plain": [
       "1.5"
      ]
     },
     "execution_count": 71,
     "metadata": {},
     "output_type": "execute_result"
    }
   ],
   "source": [
    "# 有理數轉為浮點數\n",
    "Float64(3//2)"
   ]
  },
  {
   "cell_type": "code",
   "execution_count": 72,
   "metadata": {},
   "outputs": [
    {
     "data": {
      "text/plain": [
       "-1//4"
      ]
     },
     "execution_count": 72,
     "metadata": {},
     "output_type": "execute_result"
    }
   ],
   "source": [
    "# 浮點數轉為有理數\n",
    "Rational(-0.25)"
   ]
  },
  {
   "cell_type": "markdown",
   "metadata": {},
   "source": [
    "### 4.3 `numerator()` 與 `denominator()` \n",
    "\n",
    "呼叫 `numerator()` 與 `denominator()` 函式分別可以取得有理數的分子或分母值。"
   ]
  },
  {
   "cell_type": "code",
   "execution_count": 73,
   "metadata": {},
   "outputs": [
    {
     "data": {
      "text/plain": [
       "2"
      ]
     },
     "execution_count": 73,
     "metadata": {},
     "output_type": "execute_result"
    }
   ],
   "source": [
    "r = 2//3\n",
    "\n",
    "# 取得有理數的分子\n",
    "numerator(r)"
   ]
  },
  {
   "cell_type": "code",
   "execution_count": 74,
   "metadata": {},
   "outputs": [
    {
     "data": {
      "text/plain": [
       "3"
      ]
     },
     "execution_count": 74,
     "metadata": {},
     "output_type": "execute_result"
    }
   ],
   "source": [
    "# 取得有理數的分母\n",
    "denominator(r)"
   ]
  },
  {
   "cell_type": "markdown",
   "metadata": {},
   "source": [
    "## 5. 複數 (Complex)\n",
    "\n",
    "### 5.1 宣告\n",
    "\n",
    "複數是由實部和虛部組成，格式為 \"實部+虛部im\"。實部和虛部可以是任何實數 (Real) 型別，包含整數、浮點數、有理數、無理數。"
   ]
  },
  {
   "cell_type": "code",
   "execution_count": 63,
   "metadata": {},
   "outputs": [
    {
     "data": {
      "text/plain": [
       "1 + 2im"
      ]
     },
     "execution_count": 63,
     "metadata": {},
     "output_type": "execute_result"
    }
   ],
   "source": [
    "1 + 2im"
   ]
  },
  {
   "cell_type": "markdown",
   "metadata": {},
   "source": [
    "若未提供實部或虛部值，則預設為 0。"
   ]
  },
  {
   "cell_type": "code",
   "execution_count": 64,
   "metadata": {},
   "outputs": [
    {
     "data": {
      "text/plain": [
       "1 + 0im"
      ]
     },
     "execution_count": 64,
     "metadata": {},
     "output_type": "execute_result"
    }
   ],
   "source": [
    "Complex(1)"
   ]
  },
  {
   "cell_type": "code",
   "execution_count": 65,
   "metadata": {},
   "outputs": [
    {
     "data": {
      "text/plain": [
       "0 + 2im"
      ]
     },
     "execution_count": 65,
     "metadata": {},
     "output_type": "execute_result"
    }
   ],
   "source": [
    "Complex(2im)"
   ]
  },
  {
   "cell_type": "markdown",
   "metadata": {},
   "source": [
    "若是使用變數來組成複數的實部和虛部，則在虛部的部分需要加上 `*`。"
   ]
  },
  {
   "cell_type": "code",
   "execution_count": 66,
   "metadata": {},
   "outputs": [
    {
     "data": {
      "text/plain": [
       "1 + 2im"
      ]
     },
     "execution_count": 66,
     "metadata": {},
     "output_type": "execute_result"
    }
   ],
   "source": [
    "a = 1; b = 2\n",
    "\n",
    "a + b * im"
   ]
  },
  {
   "cell_type": "markdown",
   "metadata": {},
   "source": [
    "但由於使用 `*` 的方式易與乘法混淆，為避免也可以使用 `complex()` 函式，或是指定型別來組成。"
   ]
  },
  {
   "cell_type": "code",
   "execution_count": 67,
   "metadata": {},
   "outputs": [
    {
     "data": {
      "text/plain": [
       "1 + 2im"
      ]
     },
     "execution_count": 67,
     "metadata": {},
     "output_type": "execute_result"
    }
   ],
   "source": [
    "complex(a, b)"
   ]
  },
  {
   "cell_type": "code",
   "execution_count": 68,
   "metadata": {},
   "outputs": [
    {
     "data": {
      "text/plain": [
       "Complex{Int64}"
      ]
     },
     "execution_count": 68,
     "metadata": {},
     "output_type": "execute_result"
    }
   ],
   "source": [
    "# 型別由 Julia 自動確定\n",
    "typeof(ans)"
   ]
  },
  {
   "cell_type": "code",
   "execution_count": 69,
   "metadata": {},
   "outputs": [
    {
     "data": {
      "text/plain": [
       "1 + 2im"
      ]
     },
     "execution_count": 69,
     "metadata": {},
     "output_type": "execute_result"
    }
   ],
   "source": [
    "Complex(a, b)"
   ]
  },
  {
   "cell_type": "markdown",
   "metadata": {},
   "source": [
    "實部及虛部為浮點數時，而且要指定型別時，可以使用下列方式宣告。\n",
    "\n",
    "|複數型別|別名|\n",
    "|---|---|\n",
    "|Complex{Float64}|ComplexF64|\n",
    "|Complex{Float32}|ComplexF32|\n",
    "|Complex{Float16}|ComplexF16|"
   ]
  },
  {
   "cell_type": "code",
   "execution_count": 70,
   "metadata": {},
   "outputs": [
    {
     "data": {
      "text/plain": [
       "1.0 + 2.0im"
      ]
     },
     "execution_count": 70,
     "metadata": {},
     "output_type": "execute_result"
    }
   ],
   "source": [
    "Complex{Float64}(1, 2)"
   ]
  },
  {
   "cell_type": "code",
   "execution_count": 71,
   "metadata": {},
   "outputs": [
    {
     "data": {
      "text/plain": [
       "1.0f0 + 2.0f0im"
      ]
     },
     "execution_count": 71,
     "metadata": {},
     "output_type": "execute_result"
    }
   ],
   "source": [
    "# 使用別名\n",
    "ComplexF32(1, 2)"
   ]
  },
  {
   "cell_type": "code",
   "execution_count": 72,
   "metadata": {},
   "outputs": [
    {
     "data": {
      "text/plain": [
       "Complex{Int64}"
      ]
     },
     "execution_count": 72,
     "metadata": {},
     "output_type": "execute_result"
    }
   ],
   "source": [
    "# 整數也可以\n",
    "typeof(Complex{Int64}(1, 2))"
   ]
  },
  {
   "cell_type": "markdown",
   "metadata": {},
   "source": [
    "### 5.2 複數常用函式\n",
    "\n",
    "|函式|說明|\n",
    "|---|---|\n",
    "|`real()`|取得實部|\n",
    "|`imag()`|取得虛部|\n",
    "|`reim()`|同時取得實部與虚部|\n",
    "|`conj()`|共軛|\n",
    "|`abs()`|絕對值，與0的距離|\n",
    "|`abs2()`|絕對值平方|\n",
    "|`angle()`|相角|"
   ]
  },
  {
   "cell_type": "code",
   "execution_count": 73,
   "metadata": {},
   "outputs": [
    {
     "data": {
      "text/plain": [
       "1.0 + 2.0im"
      ]
     },
     "execution_count": 73,
     "metadata": {},
     "output_type": "execute_result"
    }
   ],
   "source": [
    "x = Complex{Float64}(1, 2)"
   ]
  },
  {
   "cell_type": "code",
   "execution_count": 74,
   "metadata": {},
   "outputs": [
    {
     "data": {
      "text/plain": [
       "1.0"
      ]
     },
     "execution_count": 74,
     "metadata": {},
     "output_type": "execute_result"
    }
   ],
   "source": [
    "real(x)"
   ]
  },
  {
   "cell_type": "code",
   "execution_count": 75,
   "metadata": {},
   "outputs": [
    {
     "data": {
      "text/plain": [
       "2.0"
      ]
     },
     "execution_count": 75,
     "metadata": {},
     "output_type": "execute_result"
    }
   ],
   "source": [
    "imag(x)"
   ]
  },
  {
   "cell_type": "code",
   "execution_count": 76,
   "metadata": {},
   "outputs": [
    {
     "data": {
      "text/plain": [
       "(1.0, 2.0)"
      ]
     },
     "execution_count": 76,
     "metadata": {},
     "output_type": "execute_result"
    }
   ],
   "source": [
    "reim(x)"
   ]
  },
  {
   "cell_type": "code",
   "execution_count": 77,
   "metadata": {},
   "outputs": [
    {
     "data": {
      "text/plain": [
       "1.0 - 2.0im"
      ]
     },
     "execution_count": 77,
     "metadata": {},
     "output_type": "execute_result"
    }
   ],
   "source": [
    "conj(x)"
   ]
  },
  {
   "cell_type": "code",
   "execution_count": 78,
   "metadata": {},
   "outputs": [
    {
     "data": {
      "text/plain": [
       "2.23606797749979"
      ]
     },
     "execution_count": 78,
     "metadata": {},
     "output_type": "execute_result"
    }
   ],
   "source": [
    "abs(x)"
   ]
  },
  {
   "cell_type": "code",
   "execution_count": 79,
   "metadata": {},
   "outputs": [
    {
     "data": {
      "text/plain": [
       "5.0"
      ]
     },
     "execution_count": 79,
     "metadata": {},
     "output_type": "execute_result"
    }
   ],
   "source": [
    "abs2(x)"
   ]
  },
  {
   "cell_type": "code",
   "execution_count": 80,
   "metadata": {},
   "outputs": [
    {
     "data": {
      "text/plain": [
       "1.1071487177940904"
      ]
     },
     "execution_count": 80,
     "metadata": {},
     "output_type": "execute_result"
    }
   ],
   "source": [
    "angle(x)"
   ]
  },
  {
   "cell_type": "markdown",
   "metadata": {},
   "source": [
    "## 6. 無理數 (Irrational)\n",
    "\n",
    "無限不循環小數，例如 $\\pi$ 即為無理數。以下用 Julia 內建常數 $\\pi$ 與 ℯ 來做示範。"
   ]
  },
  {
   "cell_type": "code",
   "execution_count": 81,
   "metadata": {},
   "outputs": [
    {
     "data": {
      "text/plain": [
       "π = 3.1415926535897..."
      ]
     },
     "execution_count": 81,
     "metadata": {},
     "output_type": "execute_result"
    }
   ],
   "source": [
    "# π 為內建的數學常數，將在未來的內容介紹。\n",
    "pi"
   ]
  },
  {
   "cell_type": "code",
   "execution_count": 82,
   "metadata": {},
   "outputs": [
    {
     "data": {
      "text/plain": [
       "Irrational{:π}"
      ]
     },
     "execution_count": 82,
     "metadata": {},
     "output_type": "execute_result"
    }
   ],
   "source": [
    "typeof(pi)"
   ]
  },
  {
   "cell_type": "code",
   "execution_count": 83,
   "metadata": {},
   "outputs": [
    {
     "data": {
      "text/plain": [
       "Irrational{:ℯ}"
      ]
     },
     "execution_count": 83,
     "metadata": {},
     "output_type": "execute_result"
    }
   ],
   "source": [
    "# 歐拉數 (Euler's number)，為內建的數學常數，將在未來的內容介紹。\n",
    "typeof(ℯ)"
   ]
  },
  {
   "cell_type": "markdown",
   "metadata": {},
   "source": [
    "## 7. 隨機數\n",
    "\n",
    "|函式|描述|\n",
    "|--|--|\n",
    "|rand()|產生元素為隨機介於 \\[0, 1) 區間的均勻分布數字|\n",
    "|randn()|產生元素為隨機常態分布的數字|\n",
    "|randexp()|產生元素為隨機指數分布的數字|"
   ]
  },
  {
   "cell_type": "markdown",
   "metadata": {},
   "source": [
    "隨機產生 1000 個數字，簡單地用 Plots 套件觀察其分布。有關於圖表的部分，會在後續內容中進行詳細介紹。\n",
    "\n",
    "隨機數字的型別預設是 `Float64`。"
   ]
  },
  {
   "cell_type": "code",
   "execution_count": 1,
   "metadata": {},
   "outputs": [
    {
     "name": "stderr",
     "output_type": "stream",
     "text": [
      "\u001b[32m\u001b[1m   Updating\u001b[22m\u001b[39m registry at `C:\\Users\\HSI\\.julia\\registries\\General`\n"
     ]
    },
    {
     "name": "stdout",
     "output_type": "stream",
     "text": [
      "\u001b[?25l"
     ]
    },
    {
     "name": "stderr",
     "output_type": "stream",
     "text": [
      "\u001b[32m\u001b[1m   Updating\u001b[22m\u001b[39m git-repo `https://github.com/JuliaRegistries/General.git`\n"
     ]
    },
    {
     "name": "stdout",
     "output_type": "stream",
     "text": [
      "\u001b[2K\u001b[36m\u001b[1mFetching:\u001b[22m\u001b[39m [========================================>]  100.0 %36m\u001b[1mFetching:\u001b[22m\u001b[39m [====>                                    ]  8.9 %\u001b[36m\u001b[1mFetching:\u001b[22m\u001b[39m [=====>                                   ]  11.7 %14.6 %\u001b[36m\u001b[1mFetching:\u001b[22m\u001b[39m [========>                                ]  19.4 %\u001b[36m\u001b[1mFetching:\u001b[22m\u001b[39m [=========>                               ]  22.2 %\u001b[36m\u001b[1mFetching:\u001b[22m\u001b[39m [===========>                             ]  25.2 %\u001b[36m\u001b[1mFetching:\u001b[22m\u001b[39m [============>                            ]  28.4 %.2 %\u001b[36m\u001b[1mFetching:\u001b[22m\u001b[39m [===============>                         ]  36.7 %                        ]  39.2 %.9 % % [====================>                    ]  49.7 % %>                 ]  56.3 %58.1 %\u001b[36m\u001b[1mFetching:\u001b[22m\u001b[39m [==========================>              ]  62.7 %\u001b[36m\u001b[1mFetching:\u001b[22m\u001b[39m [===========================>             ]  66.3 %\u001b[36m\u001b[1mFetching:\u001b[22m\u001b[39m [============================>            ]  69.0 %\u001b[36m\u001b[1mFetching:\u001b[22m\u001b[39m [=============================>           ]  71.9 %77.4 % [=================================>       ]  80.2 %\u001b[36m\u001b[1mFetching:\u001b[22m\u001b[39m [==================================>      ]  83.4 %     ]  86.8 % %\u001b[36m\u001b[1mFetching:\u001b[22m\u001b[39m [======================================>  ]  93.1 %.6 %5 %\u001b[?25h"
     ]
    },
    {
     "name": "stderr",
     "output_type": "stream",
     "text": [
      "\u001b[32m\u001b[1m  Resolving\u001b[22m\u001b[39m package versions...\n",
      "\u001b[32m\u001b[1m  Installed\u001b[22m\u001b[39m OpenSSL_jll ─────── v1.1.1+2\n",
      "\u001b[32m\u001b[1m  Installed\u001b[22m\u001b[39m ZeroMQ_jll ──────── v4.3.2+2\n",
      "\u001b[32m\u001b[1m  Installed\u001b[22m\u001b[39m Bzip2_jll ───────── v1.0.6+2\n",
      "\u001b[32m\u001b[1m  Installed\u001b[22m\u001b[39m Measures ────────── v0.3.1\n",
      "\u001b[32m\u001b[1m  Installed\u001b[22m\u001b[39m RecipesPipeline ─── v0.1.3\n",
      "\u001b[32m\u001b[1m  Installed\u001b[22m\u001b[39m FriBidi_jll ─────── v1.0.5+2\n",
      "\u001b[32m\u001b[1m  Installed\u001b[22m\u001b[39m x264_jll ────────── v2019.5.25+1\n",
      "\u001b[32m\u001b[1m  Installed\u001b[22m\u001b[39m FFMPEG_jll ──────── v4.1.0+2\n",
      "\u001b[32m\u001b[1m  Installed\u001b[22m\u001b[39m FFMPEG ──────────── v0.3.0\n",
      "\u001b[32m\u001b[1m  Installed\u001b[22m\u001b[39m RecipesBase ─────── v1.0.0\n",
      "\u001b[32m\u001b[1m  Installed\u001b[22m\u001b[39m ColorTypes ──────── v0.10.0\n",
      "\u001b[32m\u001b[1m  Installed\u001b[22m\u001b[39m Plots ───────────── v1.0.9\n",
      "\u001b[32m\u001b[1m  Installed\u001b[22m\u001b[39m PlotUtils ───────── v0.6.5\n",
      "\u001b[32m\u001b[1m  Installed\u001b[22m\u001b[39m Ogg_jll ─────────── v1.3.3+0\n",
      "\u001b[32m\u001b[1m  Installed\u001b[22m\u001b[39m x265_jll ────────── v3.0.0+0\n",
      "\u001b[32m\u001b[1m  Installed\u001b[22m\u001b[39m PlotThemes ──────── v1.0.3\n",
      "\u001b[32m\u001b[1m  Installed\u001b[22m\u001b[39m libass_jll ──────── v0.14.0+1\n",
      "\u001b[32m\u001b[1m  Installed\u001b[22m\u001b[39m LAME_jll ────────── v3.100.0+0\n",
      "\u001b[32m\u001b[1m  Installed\u001b[22m\u001b[39m Zlib_jll ────────── v1.2.11+9\n",
      "\u001b[32m\u001b[1m  Installed\u001b[22m\u001b[39m libvorbis_jll ───── v1.3.6+2\n",
      "\u001b[32m\u001b[1m  Installed\u001b[22m\u001b[39m FreeType2_jll ───── v2.10.1+2\n",
      "\u001b[32m\u001b[1m  Installed\u001b[22m\u001b[39m libfdk_aac_jll ──── v0.1.6+1\n",
      "\u001b[32m\u001b[1m  Installed\u001b[22m\u001b[39m StatsBase ───────── v0.33.0\n",
      "\u001b[32m\u001b[1m  Installed\u001b[22m\u001b[39m Colors ──────────── v0.12.0\n",
      "\u001b[32m\u001b[1m  Installed\u001b[22m\u001b[39m NaNMath ─────────── v0.3.3\n",
      "\u001b[32m\u001b[1m  Installed\u001b[22m\u001b[39m LibVPX_jll ──────── v1.8.1+1\n",
      "\u001b[32m\u001b[1m  Installed\u001b[22m\u001b[39m Opus_jll ────────── v1.3.1+0\n",
      "\u001b[32m\u001b[1m  Installed\u001b[22m\u001b[39m Requires ────────── v1.0.1\n",
      "\u001b[32m\u001b[1m  Installed\u001b[22m\u001b[39m Contour ─────────── v0.5.2\n",
      "\u001b[32m\u001b[1m  Installed\u001b[22m\u001b[39m GeometryTypes ───── v0.8.2\n",
      "\u001b[32m\u001b[1m  Installed\u001b[22m\u001b[39m StaticArrays ────── v0.12.1\n",
      "\u001b[32m\u001b[1m  Installed\u001b[22m\u001b[39m GR ──────────────── v0.48.0\n",
      "\u001b[32m\u001b[1m  Installed\u001b[22m\u001b[39m Showoff ─────────── v0.3.1\n",
      "\u001b[32m\u001b[1m  Installed\u001b[22m\u001b[39m FixedPointNumbers ─ v0.8.0\n",
      "\u001b[32m\u001b[1m   Updating\u001b[22m\u001b[39m `C:\\Users\\HSI\\.julia\\environments\\v1.4\\Project.toml`\n",
      " \u001b[90m [91a5bcdd]\u001b[39m\u001b[92m + Plots v1.0.9\u001b[39m\n",
      "\u001b[32m\u001b[1m   Updating\u001b[22m\u001b[39m `C:\\Users\\HSI\\.julia\\environments\\v1.4\\Manifest.toml`\n",
      " \u001b[90m [6e34b625]\u001b[39m\u001b[92m + Bzip2_jll v1.0.6+2\u001b[39m\n",
      " \u001b[90m [3da002f7]\u001b[39m\u001b[92m + ColorTypes v0.10.0\u001b[39m\n",
      " \u001b[90m [5ae59095]\u001b[39m\u001b[92m + Colors v0.12.0\u001b[39m\n",
      " \u001b[90m [d38c429a]\u001b[39m\u001b[92m + Contour v0.5.2\u001b[39m\n",
      " \u001b[90m [c87230d0]\u001b[39m\u001b[92m + FFMPEG v0.3.0\u001b[39m\n",
      " \u001b[90m [b22a6f82]\u001b[39m\u001b[92m + FFMPEG_jll v4.1.0+2\u001b[39m\n",
      " \u001b[90m [53c48c17]\u001b[39m\u001b[92m + FixedPointNumbers v0.8.0\u001b[39m\n",
      " \u001b[90m [d7e528f0]\u001b[39m\u001b[92m + FreeType2_jll v2.10.1+2\u001b[39m\n",
      " \u001b[90m [559328eb]\u001b[39m\u001b[92m + FriBidi_jll v1.0.5+2\u001b[39m\n",
      " \u001b[90m [28b8d3ca]\u001b[39m\u001b[92m + GR v0.48.0\u001b[39m\n",
      " \u001b[90m [4d00f742]\u001b[39m\u001b[92m + GeometryTypes v0.8.2\u001b[39m\n",
      " \u001b[90m [c1c5ebd0]\u001b[39m\u001b[92m + LAME_jll v3.100.0+0\u001b[39m\n",
      " \u001b[90m [dd192d2f]\u001b[39m\u001b[92m + LibVPX_jll v1.8.1+1\u001b[39m\n",
      " \u001b[90m [442fdcdd]\u001b[39m\u001b[92m + Measures v0.3.1\u001b[39m\n",
      " \u001b[90m [77ba4419]\u001b[39m\u001b[92m + NaNMath v0.3.3\u001b[39m\n",
      " \u001b[90m [e7412a2a]\u001b[39m\u001b[92m + Ogg_jll v1.3.3+0\u001b[39m\n",
      " \u001b[90m [458c3c95]\u001b[39m\u001b[92m + OpenSSL_jll v1.1.1+2\u001b[39m\n",
      " \u001b[90m [91d4177d]\u001b[39m\u001b[92m + Opus_jll v1.3.1+0\u001b[39m\n",
      " \u001b[90m [ccf2f8ad]\u001b[39m\u001b[92m + PlotThemes v1.0.3\u001b[39m\n",
      " \u001b[90m [995b91a9]\u001b[39m\u001b[92m + PlotUtils v0.6.5\u001b[39m\n",
      " \u001b[90m [91a5bcdd]\u001b[39m\u001b[92m + Plots v1.0.9\u001b[39m\n",
      " \u001b[90m [3cdcf5f2]\u001b[39m\u001b[92m + RecipesBase v1.0.0\u001b[39m\n",
      " \u001b[90m [01d81517]\u001b[39m\u001b[92m + RecipesPipeline v0.1.3\u001b[39m\n",
      " \u001b[90m [ae029012]\u001b[39m\u001b[92m + Requires v1.0.1\u001b[39m\n",
      " \u001b[90m [992d4aef]\u001b[39m\u001b[92m + Showoff v0.3.1\u001b[39m\n",
      " \u001b[90m [90137ffa]\u001b[39m\u001b[92m + StaticArrays v0.12.1\u001b[39m\n",
      " \u001b[90m [2913bbd2]\u001b[39m\u001b[92m + StatsBase v0.33.0\u001b[39m\n",
      " \u001b[90m [8f1865be]\u001b[39m\u001b[93m ↑ ZeroMQ_jll v4.3.2+1 ⇒ v4.3.2+2\u001b[39m\n",
      " \u001b[90m [83775a58]\u001b[39m\u001b[92m + Zlib_jll v1.2.11+9\u001b[39m\n",
      " \u001b[90m [0ac62f75]\u001b[39m\u001b[92m + libass_jll v0.14.0+1\u001b[39m\n",
      " \u001b[90m [f638f0a6]\u001b[39m\u001b[92m + libfdk_aac_jll v0.1.6+1\u001b[39m\n",
      " \u001b[90m [f27f6e37]\u001b[39m\u001b[92m + libvorbis_jll v1.3.6+2\u001b[39m\n",
      " \u001b[90m [1270edf5]\u001b[39m\u001b[92m + x264_jll v2019.5.25+1\u001b[39m\n",
      " \u001b[90m [dfaa095f]\u001b[39m\u001b[92m + x265_jll v3.0.0+0\u001b[39m\n",
      "\u001b[32m\u001b[1m   Building\u001b[22m\u001b[39m GR ───→ `C:\\Users\\HSI\\.julia\\packages\\GR\\yMV3y\\deps\\build.log`\n",
      "\u001b[32m\u001b[1m   Building\u001b[22m\u001b[39m Plots → `C:\\Users\\HSI\\.julia\\packages\\Plots\\NVH6y\\deps\\build.log`\n"
     ]
    }
   ],
   "source": [
    "# 若未曾安裝 Plots 套件, 請先安裝\n",
    "using Pkg\n",
    "Pkg.add(\"Plots\")"
   ]
  },
  {
   "cell_type": "code",
   "execution_count": 4,
   "metadata": {},
   "outputs": [],
   "source": [
    "using Plots"
   ]
  },
  {
   "cell_type": "code",
   "execution_count": 5,
   "metadata": {},
   "outputs": [
    {
     "data": {
      "image/svg+xml": [
       "<?xml version=\"1.0\" encoding=\"utf-8\"?>\n",
       "<svg xmlns=\"http://www.w3.org/2000/svg\" xmlns:xlink=\"http://www.w3.org/1999/xlink\" width=\"600\" height=\"400\" viewBox=\"0 0 2400 1600\">\n",
       "<defs>\n",
       "  <clipPath id=\"clip9600\">\n",
       "    <rect x=\"0\" y=\"0\" width=\"2400\" height=\"1600\"/>\n",
       "  </clipPath>\n",
       "</defs>\n",
       "<path clip-path=\"url(#clip9600)\" d=\"\n",
       "M0 1600 L2400 1600 L2400 0 L0 0  Z\n",
       "  \" fill=\"#ffffff\" fill-rule=\"evenodd\" fill-opacity=\"1\"/>\n",
       "<defs>\n",
       "  <clipPath id=\"clip9601\">\n",
       "    <rect x=\"480\" y=\"0\" width=\"1681\" height=\"1600\"/>\n",
       "  </clipPath>\n",
       "</defs>\n",
       "<path clip-path=\"url(#clip9600)\" d=\"\n",
       "M161.598 1486.45 L2352.76 1486.45 L2352.76 47.2441 L161.598 47.2441  Z\n",
       "  \" fill=\"#ffffff\" fill-rule=\"evenodd\" fill-opacity=\"1\"/>\n",
       "<defs>\n",
       "  <clipPath id=\"clip9602\">\n",
       "    <rect x=\"161\" y=\"47\" width=\"2192\" height=\"1440\"/>\n",
       "  </clipPath>\n",
       "</defs>\n",
       "<polyline clip-path=\"url(#clip9602)\" style=\"stroke:#000000; stroke-width:2; stroke-opacity:0.1; fill:none\" points=\"\n",
       "  282.116,1486.45 282.116,47.2441 \n",
       "  \"/>\n",
       "<polyline clip-path=\"url(#clip9602)\" style=\"stroke:#000000; stroke-width:2; stroke-opacity:0.1; fill:none\" points=\"\n",
       "  769.646,1486.45 769.646,47.2441 \n",
       "  \"/>\n",
       "<polyline clip-path=\"url(#clip9602)\" style=\"stroke:#000000; stroke-width:2; stroke-opacity:0.1; fill:none\" points=\"\n",
       "  1257.18,1486.45 1257.18,47.2441 \n",
       "  \"/>\n",
       "<polyline clip-path=\"url(#clip9602)\" style=\"stroke:#000000; stroke-width:2; stroke-opacity:0.1; fill:none\" points=\"\n",
       "  1744.71,1486.45 1744.71,47.2441 \n",
       "  \"/>\n",
       "<polyline clip-path=\"url(#clip9602)\" style=\"stroke:#000000; stroke-width:2; stroke-opacity:0.1; fill:none\" points=\"\n",
       "  2232.24,1486.45 2232.24,47.2441 \n",
       "  \"/>\n",
       "<polyline clip-path=\"url(#clip9602)\" style=\"stroke:#000000; stroke-width:2; stroke-opacity:0.1; fill:none\" points=\"\n",
       "  161.598,1445.72 2352.76,1445.72 \n",
       "  \"/>\n",
       "<polyline clip-path=\"url(#clip9602)\" style=\"stroke:#000000; stroke-width:2; stroke-opacity:0.1; fill:none\" points=\"\n",
       "  161.598,1147.97 2352.76,1147.97 \n",
       "  \"/>\n",
       "<polyline clip-path=\"url(#clip9602)\" style=\"stroke:#000000; stroke-width:2; stroke-opacity:0.1; fill:none\" points=\"\n",
       "  161.598,850.216 2352.76,850.216 \n",
       "  \"/>\n",
       "<polyline clip-path=\"url(#clip9602)\" style=\"stroke:#000000; stroke-width:2; stroke-opacity:0.1; fill:none\" points=\"\n",
       "  161.598,552.466 2352.76,552.466 \n",
       "  \"/>\n",
       "<polyline clip-path=\"url(#clip9602)\" style=\"stroke:#000000; stroke-width:2; stroke-opacity:0.1; fill:none\" points=\"\n",
       "  161.598,254.716 2352.76,254.716 \n",
       "  \"/>\n",
       "<polyline clip-path=\"url(#clip9600)\" style=\"stroke:#000000; stroke-width:4; stroke-opacity:1; fill:none\" points=\"\n",
       "  161.598,1486.45 2352.76,1486.45 \n",
       "  \"/>\n",
       "<polyline clip-path=\"url(#clip9600)\" style=\"stroke:#000000; stroke-width:4; stroke-opacity:1; fill:none\" points=\"\n",
       "  161.598,1486.45 161.598,47.2441 \n",
       "  \"/>\n",
       "<polyline clip-path=\"url(#clip9600)\" style=\"stroke:#000000; stroke-width:4; stroke-opacity:1; fill:none\" points=\"\n",
       "  282.116,1486.45 282.116,1469.18 \n",
       "  \"/>\n",
       "<polyline clip-path=\"url(#clip9600)\" style=\"stroke:#000000; stroke-width:4; stroke-opacity:1; fill:none\" points=\"\n",
       "  769.646,1486.45 769.646,1469.18 \n",
       "  \"/>\n",
       "<polyline clip-path=\"url(#clip9600)\" style=\"stroke:#000000; stroke-width:4; stroke-opacity:1; fill:none\" points=\"\n",
       "  1257.18,1486.45 1257.18,1469.18 \n",
       "  \"/>\n",
       "<polyline clip-path=\"url(#clip9600)\" style=\"stroke:#000000; stroke-width:4; stroke-opacity:1; fill:none\" points=\"\n",
       "  1744.71,1486.45 1744.71,1469.18 \n",
       "  \"/>\n",
       "<polyline clip-path=\"url(#clip9600)\" style=\"stroke:#000000; stroke-width:4; stroke-opacity:1; fill:none\" points=\"\n",
       "  2232.24,1486.45 2232.24,1469.18 \n",
       "  \"/>\n",
       "<polyline clip-path=\"url(#clip9600)\" style=\"stroke:#000000; stroke-width:4; stroke-opacity:1; fill:none\" points=\"\n",
       "  161.598,1445.72 187.892,1445.72 \n",
       "  \"/>\n",
       "<polyline clip-path=\"url(#clip9600)\" style=\"stroke:#000000; stroke-width:4; stroke-opacity:1; fill:none\" points=\"\n",
       "  161.598,1147.97 187.892,1147.97 \n",
       "  \"/>\n",
       "<polyline clip-path=\"url(#clip9600)\" style=\"stroke:#000000; stroke-width:4; stroke-opacity:1; fill:none\" points=\"\n",
       "  161.598,850.216 187.892,850.216 \n",
       "  \"/>\n",
       "<polyline clip-path=\"url(#clip9600)\" style=\"stroke:#000000; stroke-width:4; stroke-opacity:1; fill:none\" points=\"\n",
       "  161.598,552.466 187.892,552.466 \n",
       "  \"/>\n",
       "<polyline clip-path=\"url(#clip9600)\" style=\"stroke:#000000; stroke-width:4; stroke-opacity:1; fill:none\" points=\"\n",
       "  161.598,254.716 187.892,254.716 \n",
       "  \"/>\n",
       "<path clip-path=\"url(#clip9600)\" d=\"M 0 0 M250.125 1508.44 Q246.514 1508.44 244.685 1512 Q242.88 1515.55 242.88 1522.67 Q242.88 1529.78 244.685 1533.35 Q246.514 1536.89 250.125 1536.89 Q253.759 1536.89 255.565 1533.35 Q257.394 1529.78 257.394 1522.67 Q257.394 1515.55 255.565 1512 Q253.759 1508.44 250.125 1508.44 M250.125 1504.73 Q255.935 1504.73 258.991 1509.34 Q262.07 1513.92 262.07 1522.67 Q262.07 1531.4 258.991 1536.01 Q255.935 1540.59 250.125 1540.59 Q244.315 1540.59 241.236 1536.01 Q238.181 1531.4 238.181 1522.67 Q238.181 1513.92 241.236 1509.34 Q244.315 1504.73 250.125 1504.73 Z\" fill=\"#000000\" fill-rule=\"evenodd\" fill-opacity=\"1\" /><path clip-path=\"url(#clip9600)\" d=\"M 0 0 M267.139 1534.04 L272.023 1534.04 L272.023 1539.92 L267.139 1539.92 L267.139 1534.04 Z\" fill=\"#000000\" fill-rule=\"evenodd\" fill-opacity=\"1\" /><path clip-path=\"url(#clip9600)\" d=\"M 0 0 M287.093 1508.44 Q283.482 1508.44 281.653 1512 Q279.847 1515.55 279.847 1522.67 Q279.847 1529.78 281.653 1533.35 Q283.482 1536.89 287.093 1536.89 Q290.727 1536.89 292.532 1533.35 Q294.361 1529.78 294.361 1522.67 Q294.361 1515.55 292.532 1512 Q290.727 1508.44 287.093 1508.44 M287.093 1504.73 Q292.903 1504.73 295.958 1509.34 Q299.037 1513.92 299.037 1522.67 Q299.037 1531.4 295.958 1536.01 Q292.903 1540.59 287.093 1540.59 Q281.282 1540.59 278.204 1536.01 Q275.148 1531.4 275.148 1522.67 Q275.148 1513.92 278.204 1509.34 Q281.282 1504.73 287.093 1504.73 Z\" fill=\"#000000\" fill-rule=\"evenodd\" fill-opacity=\"1\" /><path clip-path=\"url(#clip9600)\" d=\"M 0 0 M314.106 1508.44 Q310.495 1508.44 308.667 1512 Q306.861 1515.55 306.861 1522.67 Q306.861 1529.78 308.667 1533.35 Q310.495 1536.89 314.106 1536.89 Q317.741 1536.89 319.546 1533.35 Q321.375 1529.78 321.375 1522.67 Q321.375 1515.55 319.546 1512 Q317.741 1508.44 314.106 1508.44 M314.106 1504.73 Q319.917 1504.73 322.972 1509.34 Q326.051 1513.92 326.051 1522.67 Q326.051 1531.4 322.972 1536.01 Q319.917 1540.59 314.106 1540.59 Q308.296 1540.59 305.218 1536.01 Q302.162 1531.4 302.162 1522.67 Q302.162 1513.92 305.218 1509.34 Q308.296 1504.73 314.106 1504.73 Z\" fill=\"#000000\" fill-rule=\"evenodd\" fill-opacity=\"1\" /><path clip-path=\"url(#clip9600)\" d=\"M 0 0 M738.952 1508.44 Q735.341 1508.44 733.512 1512 Q731.707 1515.55 731.707 1522.67 Q731.707 1529.78 733.512 1533.35 Q735.341 1536.89 738.952 1536.89 Q742.586 1536.89 744.392 1533.35 Q746.221 1529.78 746.221 1522.67 Q746.221 1515.55 744.392 1512 Q742.586 1508.44 738.952 1508.44 M738.952 1504.73 Q744.762 1504.73 747.818 1509.34 Q750.897 1513.92 750.897 1522.67 Q750.897 1531.4 747.818 1536.01 Q744.762 1540.59 738.952 1540.59 Q733.142 1540.59 730.063 1536.01 Q727.008 1531.4 727.008 1522.67 Q727.008 1513.92 730.063 1509.34 Q733.142 1504.73 738.952 1504.73 Z\" fill=\"#000000\" fill-rule=\"evenodd\" fill-opacity=\"1\" /><path clip-path=\"url(#clip9600)\" d=\"M 0 0 M755.966 1534.04 L760.85 1534.04 L760.85 1539.92 L755.966 1539.92 L755.966 1534.04 Z\" fill=\"#000000\" fill-rule=\"evenodd\" fill-opacity=\"1\" /><path clip-path=\"url(#clip9600)\" d=\"M 0 0 M769.947 1535.98 L786.267 1535.98 L786.267 1539.92 L764.322 1539.92 L764.322 1535.98 Q766.984 1533.23 771.568 1528.6 Q776.174 1523.95 777.355 1522.61 Q779.6 1520.08 780.48 1518.35 Q781.382 1516.59 781.382 1514.9 Q781.382 1512.14 779.438 1510.41 Q777.517 1508.67 774.415 1508.67 Q772.216 1508.67 769.762 1509.43 Q767.332 1510.2 764.554 1511.75 L764.554 1507.03 Q767.378 1505.89 769.832 1505.31 Q772.285 1504.73 774.322 1504.73 Q779.693 1504.73 782.887 1507.42 Q786.082 1510.11 786.082 1514.6 Q786.082 1516.73 785.271 1518.65 Q784.484 1520.54 782.378 1523.14 Q781.799 1523.81 778.697 1527.03 Q775.595 1530.22 769.947 1535.98 Z\" fill=\"#000000\" fill-rule=\"evenodd\" fill-opacity=\"1\" /><path clip-path=\"url(#clip9600)\" d=\"M 0 0 M791.382 1505.36 L809.739 1505.36 L809.739 1509.3 L795.665 1509.3 L795.665 1517.77 Q796.683 1517.42 797.702 1517.26 Q798.72 1517.07 799.739 1517.07 Q805.526 1517.07 808.905 1520.24 Q812.285 1523.42 812.285 1528.83 Q812.285 1534.41 808.813 1537.51 Q805.341 1540.59 799.021 1540.59 Q796.845 1540.59 794.577 1540.22 Q792.331 1539.85 789.924 1539.11 L789.924 1534.41 Q792.007 1535.54 794.23 1536.1 Q796.452 1536.66 798.929 1536.66 Q802.933 1536.66 805.271 1534.55 Q807.609 1532.44 807.609 1528.83 Q807.609 1525.22 805.271 1523.11 Q802.933 1521.01 798.929 1521.01 Q797.054 1521.01 795.179 1521.42 Q793.327 1521.84 791.382 1522.72 L791.382 1505.36 Z\" fill=\"#000000\" fill-rule=\"evenodd\" fill-opacity=\"1\" /><path clip-path=\"url(#clip9600)\" d=\"M 0 0 M1225.68 1508.44 Q1222.07 1508.44 1220.24 1512 Q1218.44 1515.55 1218.44 1522.67 Q1218.44 1529.78 1220.24 1533.35 Q1222.07 1536.89 1225.68 1536.89 Q1229.32 1536.89 1231.12 1533.35 Q1232.95 1529.78 1232.95 1522.67 Q1232.95 1515.55 1231.12 1512 Q1229.32 1508.44 1225.68 1508.44 M1225.68 1504.73 Q1231.49 1504.73 1234.55 1509.34 Q1237.63 1513.92 1237.63 1522.67 Q1237.63 1531.4 1234.55 1536.01 Q1231.49 1540.59 1225.68 1540.59 Q1219.87 1540.59 1216.8 1536.01 Q1213.74 1531.4 1213.74 1522.67 Q1213.74 1513.92 1216.8 1509.34 Q1219.87 1504.73 1225.68 1504.73 Z\" fill=\"#000000\" fill-rule=\"evenodd\" fill-opacity=\"1\" /><path clip-path=\"url(#clip9600)\" d=\"M 0 0 M1242.7 1534.04 L1247.58 1534.04 L1247.58 1539.92 L1242.7 1539.92 L1242.7 1534.04 Z\" fill=\"#000000\" fill-rule=\"evenodd\" fill-opacity=\"1\" /><path clip-path=\"url(#clip9600)\" d=\"M 0 0 M1252.7 1505.36 L1271.05 1505.36 L1271.05 1509.3 L1256.98 1509.3 L1256.98 1517.77 Q1258 1517.42 1259.02 1517.26 Q1260.04 1517.07 1261.05 1517.07 Q1266.84 1517.07 1270.22 1520.24 Q1273.6 1523.42 1273.6 1528.83 Q1273.6 1534.41 1270.13 1537.51 Q1266.66 1540.59 1260.34 1540.59 Q1258.16 1540.59 1255.89 1540.22 Q1253.65 1539.85 1251.24 1539.11 L1251.24 1534.41 Q1253.32 1535.54 1255.55 1536.1 Q1257.77 1536.66 1260.24 1536.66 Q1264.25 1536.66 1266.59 1534.55 Q1268.92 1532.44 1268.92 1528.83 Q1268.92 1525.22 1266.59 1523.11 Q1264.25 1521.01 1260.24 1521.01 Q1258.37 1521.01 1256.49 1521.42 Q1254.64 1521.84 1252.7 1522.72 L1252.7 1505.36 Z\" fill=\"#000000\" fill-rule=\"evenodd\" fill-opacity=\"1\" /><path clip-path=\"url(#clip9600)\" d=\"M 0 0 M1288.67 1508.44 Q1285.06 1508.44 1283.23 1512 Q1281.42 1515.55 1281.42 1522.67 Q1281.42 1529.78 1283.23 1533.35 Q1285.06 1536.89 1288.67 1536.89 Q1292.3 1536.89 1294.11 1533.35 Q1295.94 1529.78 1295.94 1522.67 Q1295.94 1515.55 1294.11 1512 Q1292.3 1508.44 1288.67 1508.44 M1288.67 1504.73 Q1294.48 1504.73 1297.54 1509.34 Q1300.61 1513.92 1300.61 1522.67 Q1300.61 1531.4 1297.54 1536.01 Q1294.48 1540.59 1288.67 1540.59 Q1282.86 1540.59 1279.78 1536.01 Q1276.73 1531.4 1276.73 1522.67 Q1276.73 1513.92 1279.78 1509.34 Q1282.86 1504.73 1288.67 1504.73 Z\" fill=\"#000000\" fill-rule=\"evenodd\" fill-opacity=\"1\" /><path clip-path=\"url(#clip9600)\" d=\"M 0 0 M1713.67 1508.44 Q1710.06 1508.44 1708.23 1512 Q1706.42 1515.55 1706.42 1522.67 Q1706.42 1529.78 1708.23 1533.35 Q1710.06 1536.89 1713.67 1536.89 Q1717.3 1536.89 1719.11 1533.35 Q1720.93 1529.78 1720.93 1522.67 Q1720.93 1515.55 1719.11 1512 Q1717.3 1508.44 1713.67 1508.44 M1713.67 1504.73 Q1719.48 1504.73 1722.53 1509.34 Q1725.61 1513.92 1725.61 1522.67 Q1725.61 1531.4 1722.53 1536.01 Q1719.48 1540.59 1713.67 1540.59 Q1707.86 1540.59 1704.78 1536.01 Q1701.72 1531.4 1701.72 1522.67 Q1701.72 1513.92 1704.78 1509.34 Q1707.86 1504.73 1713.67 1504.73 Z\" fill=\"#000000\" fill-rule=\"evenodd\" fill-opacity=\"1\" /><path clip-path=\"url(#clip9600)\" d=\"M 0 0 M1730.68 1534.04 L1735.56 1534.04 L1735.56 1539.92 L1730.68 1539.92 L1730.68 1534.04 Z\" fill=\"#000000\" fill-rule=\"evenodd\" fill-opacity=\"1\" /><path clip-path=\"url(#clip9600)\" d=\"M 0 0 M1739.45 1505.36 L1761.68 1505.36 L1761.68 1507.35 L1749.13 1539.92 L1744.24 1539.92 L1756.05 1509.3 L1739.45 1509.3 L1739.45 1505.36 Z\" fill=\"#000000\" fill-rule=\"evenodd\" fill-opacity=\"1\" /><path clip-path=\"url(#clip9600)\" d=\"M 0 0 M1766.79 1505.36 L1785.15 1505.36 L1785.15 1509.3 L1771.07 1509.3 L1771.07 1517.77 Q1772.09 1517.42 1773.11 1517.26 Q1774.13 1517.07 1775.15 1517.07 Q1780.93 1517.07 1784.31 1520.24 Q1787.69 1523.42 1787.69 1528.83 Q1787.69 1534.41 1784.22 1537.51 Q1780.75 1540.59 1774.43 1540.59 Q1772.25 1540.59 1769.99 1540.22 Q1767.74 1539.85 1765.33 1539.11 L1765.33 1534.41 Q1767.42 1535.54 1769.64 1536.1 Q1771.86 1536.66 1774.34 1536.66 Q1778.34 1536.66 1780.68 1534.55 Q1783.02 1532.44 1783.02 1528.83 Q1783.02 1525.22 1780.68 1523.11 Q1778.34 1521.01 1774.34 1521.01 Q1772.46 1521.01 1770.59 1521.42 Q1768.74 1521.84 1766.79 1522.72 L1766.79 1505.36 Z\" fill=\"#000000\" fill-rule=\"evenodd\" fill-opacity=\"1\" /><path clip-path=\"url(#clip9600)\" d=\"M 0 0 M2190.63 1535.98 L2198.27 1535.98 L2198.27 1509.62 L2189.96 1511.29 L2189.96 1507.03 L2198.22 1505.36 L2202.9 1505.36 L2202.9 1535.98 L2210.54 1535.98 L2210.54 1539.92 L2190.63 1539.92 L2190.63 1535.98 Z\" fill=\"#000000\" fill-rule=\"evenodd\" fill-opacity=\"1\" /><path clip-path=\"url(#clip9600)\" d=\"M 0 0 M2215.61 1534.04 L2220.49 1534.04 L2220.49 1539.92 L2215.61 1539.92 L2215.61 1534.04 Z\" fill=\"#000000\" fill-rule=\"evenodd\" fill-opacity=\"1\" /><path clip-path=\"url(#clip9600)\" d=\"M 0 0 M2235.56 1508.44 Q2231.95 1508.44 2230.12 1512 Q2228.31 1515.55 2228.31 1522.67 Q2228.31 1529.78 2230.12 1533.35 Q2231.95 1536.89 2235.56 1536.89 Q2239.19 1536.89 2241 1533.35 Q2242.83 1529.78 2242.83 1522.67 Q2242.83 1515.55 2241 1512 Q2239.19 1508.44 2235.56 1508.44 M2235.56 1504.73 Q2241.37 1504.73 2244.43 1509.34 Q2247.5 1513.92 2247.5 1522.67 Q2247.5 1531.4 2244.43 1536.01 Q2241.37 1540.59 2235.56 1540.59 Q2229.75 1540.59 2226.67 1536.01 Q2223.62 1531.4 2223.62 1522.67 Q2223.62 1513.92 2226.67 1509.34 Q2229.75 1504.73 2235.56 1504.73 Z\" fill=\"#000000\" fill-rule=\"evenodd\" fill-opacity=\"1\" /><path clip-path=\"url(#clip9600)\" d=\"M 0 0 M2262.57 1508.44 Q2258.96 1508.44 2257.13 1512 Q2255.33 1515.55 2255.33 1522.67 Q2255.33 1529.78 2257.13 1533.35 Q2258.96 1536.89 2262.57 1536.89 Q2266.21 1536.89 2268.01 1533.35 Q2269.84 1529.78 2269.84 1522.67 Q2269.84 1515.55 2268.01 1512 Q2266.21 1508.44 2262.57 1508.44 M2262.57 1504.73 Q2268.38 1504.73 2271.44 1509.34 Q2274.52 1513.92 2274.52 1522.67 Q2274.52 1531.4 2271.44 1536.01 Q2268.38 1540.59 2262.57 1540.59 Q2256.76 1540.59 2253.68 1536.01 Q2250.63 1531.4 2250.63 1522.67 Q2250.63 1513.92 2253.68 1509.34 Q2256.76 1504.73 2262.57 1504.73 Z\" fill=\"#000000\" fill-rule=\"evenodd\" fill-opacity=\"1\" /><path clip-path=\"url(#clip9600)\" d=\"M 0 0 M125.654 1431.51 Q122.043 1431.51 120.214 1435.08 Q118.408 1438.62 118.408 1445.75 Q118.408 1452.86 120.214 1456.42 Q122.043 1459.96 125.654 1459.96 Q129.288 1459.96 131.094 1456.42 Q132.922 1452.86 132.922 1445.75 Q132.922 1438.62 131.094 1435.08 Q129.288 1431.51 125.654 1431.51 M125.654 1427.81 Q131.464 1427.81 134.52 1432.42 Q137.598 1437 137.598 1445.75 Q137.598 1454.48 134.52 1459.08 Q131.464 1463.67 125.654 1463.67 Q119.844 1463.67 116.765 1459.08 Q113.709 1454.48 113.709 1445.75 Q113.709 1437 116.765 1432.42 Q119.844 1427.81 125.654 1427.81 Z\" fill=\"#000000\" fill-rule=\"evenodd\" fill-opacity=\"1\" /><path clip-path=\"url(#clip9600)\" d=\"M 0 0 M95.2605 1161.31 L111.58 1161.31 L111.58 1165.25 L89.6355 1165.25 L89.6355 1161.31 Q92.2975 1158.56 96.8808 1153.93 Q101.487 1149.27 102.668 1147.93 Q104.913 1145.41 105.793 1143.67 Q106.696 1141.91 106.696 1140.22 Q106.696 1137.47 104.751 1135.73 Q102.83 1134 99.728 1134 Q97.529 1134 95.0753 1134.76 Q92.6447 1135.52 89.867 1137.07 L89.867 1132.35 Q92.691 1131.22 95.1447 1130.64 Q97.5984 1130.06 99.6354 1130.06 Q105.006 1130.06 108.2 1132.75 Q111.395 1135.43 111.395 1139.92 Q111.395 1142.05 110.584 1143.97 Q109.797 1145.87 107.691 1148.46 Q107.112 1149.13 104.01 1152.35 Q100.909 1155.55 95.2605 1161.31 Z\" fill=\"#000000\" fill-rule=\"evenodd\" fill-opacity=\"1\" /><path clip-path=\"url(#clip9600)\" d=\"M 0 0 M116.696 1130.69 L135.052 1130.69 L135.052 1134.62 L120.978 1134.62 L120.978 1143.09 Q121.996 1142.75 123.015 1142.58 Q124.033 1142.4 125.052 1142.4 Q130.839 1142.4 134.219 1145.57 Q137.598 1148.74 137.598 1154.16 Q137.598 1159.74 134.126 1162.84 Q130.654 1165.92 124.334 1165.92 Q122.158 1165.92 119.89 1165.55 Q117.645 1165.18 115.237 1164.44 L115.237 1159.74 Q117.321 1160.87 119.543 1161.43 Q121.765 1161.98 124.242 1161.98 Q128.246 1161.98 130.584 1159.88 Q132.922 1157.77 132.922 1154.16 Q132.922 1150.55 130.584 1148.44 Q128.246 1146.33 124.242 1146.33 Q122.367 1146.33 120.492 1146.75 Q118.64 1147.17 116.696 1148.05 L116.696 1130.69 Z\" fill=\"#000000\" fill-rule=\"evenodd\" fill-opacity=\"1\" /><path clip-path=\"url(#clip9600)\" d=\"M 0 0 M89.6818 832.936 L108.038 832.936 L108.038 836.871 L93.9642 836.871 L93.9642 845.343 Q94.9827 844.996 96.0012 844.834 Q97.0197 844.649 98.0382 844.649 Q103.825 844.649 107.205 847.82 Q110.584 850.991 110.584 856.408 Q110.584 861.987 107.112 865.089 Q103.64 868.167 97.3206 868.167 Q95.1447 868.167 92.8762 867.797 Q90.6309 867.427 88.2235 866.686 L88.2235 861.987 Q90.3068 863.121 92.529 863.677 Q94.7512 864.232 97.2281 864.232 Q101.233 864.232 103.571 862.126 Q105.909 860.019 105.909 856.408 Q105.909 852.797 103.571 850.69 Q101.233 848.584 97.2281 848.584 Q95.3531 848.584 93.4781 849.001 Q91.6262 849.417 89.6818 850.297 L89.6818 832.936 Z\" fill=\"#000000\" fill-rule=\"evenodd\" fill-opacity=\"1\" /><path clip-path=\"url(#clip9600)\" d=\"M 0 0 M125.654 836.015 Q122.043 836.015 120.214 839.579 Q118.408 843.121 118.408 850.251 Q118.408 857.357 120.214 860.922 Q122.043 864.464 125.654 864.464 Q129.288 864.464 131.094 860.922 Q132.922 857.357 132.922 850.251 Q132.922 843.121 131.094 839.579 Q129.288 836.015 125.654 836.015 M125.654 832.311 Q131.464 832.311 134.52 836.917 Q137.598 841.501 137.598 850.251 Q137.598 858.977 134.52 863.584 Q131.464 868.167 125.654 868.167 Q119.844 868.167 116.765 863.584 Q113.709 858.977 113.709 850.251 Q113.709 841.501 116.765 836.917 Q119.844 832.311 125.654 832.311 Z\" fill=\"#000000\" fill-rule=\"evenodd\" fill-opacity=\"1\" /><path clip-path=\"url(#clip9600)\" d=\"M 0 0 M89.3577 535.186 L111.58 535.186 L111.58 537.177 L99.0336 569.746 L94.1494 569.746 L105.955 539.121 L89.3577 539.121 L89.3577 535.186 Z\" fill=\"#000000\" fill-rule=\"evenodd\" fill-opacity=\"1\" /><path clip-path=\"url(#clip9600)\" d=\"M 0 0 M116.696 535.186 L135.052 535.186 L135.052 539.121 L120.978 539.121 L120.978 547.593 Q121.996 547.246 123.015 547.084 Q124.033 546.899 125.052 546.899 Q130.839 546.899 134.219 550.07 Q137.598 553.242 137.598 558.658 Q137.598 564.237 134.126 567.339 Q130.654 570.417 124.334 570.417 Q122.158 570.417 119.89 570.047 Q117.645 569.677 115.237 568.936 L115.237 564.237 Q117.321 565.371 119.543 565.927 Q121.765 566.482 124.242 566.482 Q128.246 566.482 130.584 564.376 Q132.922 562.269 132.922 558.658 Q132.922 555.047 130.584 552.941 Q128.246 550.834 124.242 550.834 Q122.367 550.834 120.492 551.251 Q118.64 551.667 116.696 552.547 L116.696 535.186 Z\" fill=\"#000000\" fill-rule=\"evenodd\" fill-opacity=\"1\" /><path clip-path=\"url(#clip9600)\" d=\"M 0 0 M63.6634 268.061 L71.3023 268.061 L71.3023 241.695 L62.9921 243.362 L62.9921 239.103 L71.256 237.436 L75.9319 237.436 L75.9319 268.061 L83.5707 268.061 L83.5707 271.996 L63.6634 271.996 L63.6634 268.061 Z\" fill=\"#000000\" fill-rule=\"evenodd\" fill-opacity=\"1\" /><path clip-path=\"url(#clip9600)\" d=\"M 0 0 M98.6401 240.515 Q95.029 240.515 93.2003 244.08 Q91.3948 247.621 91.3948 254.751 Q91.3948 261.857 93.2003 265.422 Q95.029 268.964 98.6401 268.964 Q102.274 268.964 104.08 265.422 Q105.909 261.857 105.909 254.751 Q105.909 247.621 104.08 244.08 Q102.274 240.515 98.6401 240.515 M98.6401 236.811 Q104.45 236.811 107.506 241.418 Q110.584 246.001 110.584 254.751 Q110.584 263.478 107.506 268.084 Q104.45 272.667 98.6401 272.667 Q92.8299 272.667 89.7512 268.084 Q86.6957 263.478 86.6957 254.751 Q86.6957 246.001 89.7512 241.418 Q92.8299 236.811 98.6401 236.811 Z\" fill=\"#000000\" fill-rule=\"evenodd\" fill-opacity=\"1\" /><path clip-path=\"url(#clip9600)\" d=\"M 0 0 M125.654 240.515 Q122.043 240.515 120.214 244.08 Q118.408 247.621 118.408 254.751 Q118.408 261.857 120.214 265.422 Q122.043 268.964 125.654 268.964 Q129.288 268.964 131.094 265.422 Q132.922 261.857 132.922 254.751 Q132.922 247.621 131.094 244.08 Q129.288 240.515 125.654 240.515 M125.654 236.811 Q131.464 236.811 134.52 241.418 Q137.598 246.001 137.598 254.751 Q137.598 263.478 134.52 268.084 Q131.464 272.667 125.654 272.667 Q119.844 272.667 116.765 268.084 Q113.709 263.478 113.709 254.751 Q113.709 246.001 116.765 241.418 Q119.844 236.811 125.654 236.811 Z\" fill=\"#000000\" fill-rule=\"evenodd\" fill-opacity=\"1\" /><path clip-path=\"url(#clip9602)\" d=\"\n",
       "M282.116 147.526 L282.116 1445.72 L477.128 1445.72 L477.128 147.526 L282.116 147.526 L282.116 147.526  Z\n",
       "  \" fill=\"#009af9\" fill-rule=\"evenodd\" fill-opacity=\"1\"/>\n",
       "<polyline clip-path=\"url(#clip9602)\" style=\"stroke:#000000; stroke-width:4; stroke-opacity:1; fill:none\" points=\"\n",
       "  282.116,147.526 282.116,1445.72 477.128,1445.72 477.128,147.526 282.116,147.526 \n",
       "  \"/>\n",
       "<path clip-path=\"url(#clip9602)\" d=\"\n",
       "M477.128 397.636 L477.128 1445.72 L672.14 1445.72 L672.14 397.636 L477.128 397.636 L477.128 397.636  Z\n",
       "  \" fill=\"#009af9\" fill-rule=\"evenodd\" fill-opacity=\"1\"/>\n",
       "<polyline clip-path=\"url(#clip9602)\" style=\"stroke:#000000; stroke-width:4; stroke-opacity:1; fill:none\" points=\"\n",
       "  477.128,397.636 477.128,1445.72 672.14,1445.72 672.14,397.636 477.128,397.636 \n",
       "  \"/>\n",
       "<path clip-path=\"url(#clip9602)\" d=\"\n",
       "M672.14 171.346 L672.14 1445.72 L867.153 1445.72 L867.153 171.346 L672.14 171.346 L672.14 171.346  Z\n",
       "  \" fill=\"#009af9\" fill-rule=\"evenodd\" fill-opacity=\"1\"/>\n",
       "<polyline clip-path=\"url(#clip9602)\" style=\"stroke:#000000; stroke-width:4; stroke-opacity:1; fill:none\" points=\"\n",
       "  672.14,171.346 672.14,1445.72 867.153,1445.72 867.153,171.346 672.14,171.346 \n",
       "  \"/>\n",
       "<path clip-path=\"url(#clip9602)\" d=\"\n",
       "M867.153 195.166 L867.153 1445.72 L1062.16 1445.72 L1062.16 195.166 L867.153 195.166 L867.153 195.166  Z\n",
       "  \" fill=\"#009af9\" fill-rule=\"evenodd\" fill-opacity=\"1\"/>\n",
       "<polyline clip-path=\"url(#clip9602)\" style=\"stroke:#000000; stroke-width:4; stroke-opacity:1; fill:none\" points=\"\n",
       "  867.153,195.166 867.153,1445.72 1062.16,1445.72 1062.16,195.166 867.153,195.166 \n",
       "  \"/>\n",
       "<path clip-path=\"url(#clip9602)\" d=\"\n",
       "M1062.16 421.456 L1062.16 1445.72 L1257.18 1445.72 L1257.18 421.456 L1062.16 421.456 L1062.16 421.456  Z\n",
       "  \" fill=\"#009af9\" fill-rule=\"evenodd\" fill-opacity=\"1\"/>\n",
       "<polyline clip-path=\"url(#clip9602)\" style=\"stroke:#000000; stroke-width:4; stroke-opacity:1; fill:none\" points=\"\n",
       "  1062.16,421.456 1062.16,1445.72 1257.18,1445.72 1257.18,421.456 1062.16,421.456 \n",
       "  \"/>\n",
       "<path clip-path=\"url(#clip9602)\" d=\"\n",
       "M1257.18 397.636 L1257.18 1445.72 L1452.19 1445.72 L1452.19 397.636 L1257.18 397.636 L1257.18 397.636  Z\n",
       "  \" fill=\"#009af9\" fill-rule=\"evenodd\" fill-opacity=\"1\"/>\n",
       "<polyline clip-path=\"url(#clip9602)\" style=\"stroke:#000000; stroke-width:4; stroke-opacity:1; fill:none\" points=\"\n",
       "  1257.18,397.636 1257.18,1445.72 1452.19,1445.72 1452.19,397.636 1257.18,397.636 \n",
       "  \"/>\n",
       "<path clip-path=\"url(#clip9602)\" d=\"\n",
       "M1452.19 242.806 L1452.19 1445.72 L1647.2 1445.72 L1647.2 242.806 L1452.19 242.806 L1452.19 242.806  Z\n",
       "  \" fill=\"#009af9\" fill-rule=\"evenodd\" fill-opacity=\"1\"/>\n",
       "<polyline clip-path=\"url(#clip9602)\" style=\"stroke:#000000; stroke-width:4; stroke-opacity:1; fill:none\" points=\"\n",
       "  1452.19,242.806 1452.19,1445.72 1647.2,1445.72 1647.2,242.806 1452.19,242.806 \n",
       "  \"/>\n",
       "<path clip-path=\"url(#clip9602)\" d=\"\n",
       "M1647.2 361.906 L1647.2 1445.72 L1842.21 1445.72 L1842.21 361.906 L1647.2 361.906 L1647.2 361.906  Z\n",
       "  \" fill=\"#009af9\" fill-rule=\"evenodd\" fill-opacity=\"1\"/>\n",
       "<polyline clip-path=\"url(#clip9602)\" style=\"stroke:#000000; stroke-width:4; stroke-opacity:1; fill:none\" points=\"\n",
       "  1647.2,361.906 1647.2,1445.72 1842.21,1445.72 1842.21,361.906 1647.2,361.906 \n",
       "  \"/>\n",
       "<path clip-path=\"url(#clip9602)\" d=\"\n",
       "M1842.21 87.9763 L1842.21 1445.72 L2037.23 1445.72 L2037.23 87.9763 L1842.21 87.9763 L1842.21 87.9763  Z\n",
       "  \" fill=\"#009af9\" fill-rule=\"evenodd\" fill-opacity=\"1\"/>\n",
       "<polyline clip-path=\"url(#clip9602)\" style=\"stroke:#000000; stroke-width:4; stroke-opacity:1; fill:none\" points=\"\n",
       "  1842.21,87.9763 1842.21,1445.72 2037.23,1445.72 2037.23,87.9763 1842.21,87.9763 \n",
       "  \"/>\n",
       "<path clip-path=\"url(#clip9602)\" d=\"\n",
       "M2037.23 123.706 L2037.23 1445.72 L2232.24 1445.72 L2232.24 123.706 L2037.23 123.706 L2037.23 123.706  Z\n",
       "  \" fill=\"#009af9\" fill-rule=\"evenodd\" fill-opacity=\"1\"/>\n",
       "<polyline clip-path=\"url(#clip9602)\" style=\"stroke:#000000; stroke-width:4; stroke-opacity:1; fill:none\" points=\"\n",
       "  2037.23,123.706 2037.23,1445.72 2232.24,1445.72 2232.24,123.706 2037.23,123.706 \n",
       "  \"/>\n",
       "<path clip-path=\"url(#clip9600)\" d=\"\n",
       "M1989.74 251.724 L2280.76 251.724 L2280.76 130.764 L1989.74 130.764  Z\n",
       "  \" fill=\"#ffffff\" fill-rule=\"evenodd\" fill-opacity=\"1\"/>\n",
       "<polyline clip-path=\"url(#clip9600)\" style=\"stroke:#000000; stroke-width:4; stroke-opacity:1; fill:none\" points=\"\n",
       "  1989.74,251.724 2280.76,251.724 2280.76,130.764 1989.74,130.764 1989.74,251.724 \n",
       "  \"/>\n",
       "<path clip-path=\"url(#clip9600)\" d=\"\n",
       "M2013.74 215.436 L2157.74 215.436 L2157.74 167.052 L2013.74 167.052 L2013.74 215.436  Z\n",
       "  \" fill=\"#009af9\" fill-rule=\"evenodd\" fill-opacity=\"1\"/>\n",
       "<polyline clip-path=\"url(#clip9600)\" style=\"stroke:#000000; stroke-width:4; stroke-opacity:1; fill:none\" points=\"\n",
       "  2013.74,215.436 2157.74,215.436 2157.74,167.052 2013.74,167.052 2013.74,215.436 \n",
       "  \"/>\n",
       "<path clip-path=\"url(#clip9600)\" d=\"M 0 0 M2195.58 210.931 Q2193.77 215.561 2192.06 216.973 Q2190.35 218.385 2187.48 218.385 L2184.08 218.385 L2184.08 214.82 L2186.58 214.82 Q2188.33 214.82 2189.31 213.987 Q2190.28 213.154 2191.46 210.052 L2192.22 208.107 L2181.74 182.598 L2186.25 182.598 L2194.35 202.876 L2202.46 182.598 L2206.97 182.598 L2195.58 210.931 Z\" fill=\"#000000\" fill-rule=\"evenodd\" fill-opacity=\"1\" /><path clip-path=\"url(#clip9600)\" d=\"M 0 0 M2212.85 204.589 L2220.49 204.589 L2220.49 178.223 L2212.18 179.89 L2212.18 175.631 L2220.44 173.964 L2225.12 173.964 L2225.12 204.589 L2232.76 204.589 L2232.76 208.524 L2212.85 208.524 L2212.85 204.589 Z\" fill=\"#000000\" fill-rule=\"evenodd\" fill-opacity=\"1\" /></svg>\n"
      ]
     },
     "execution_count": 5,
     "metadata": {},
     "output_type": "execute_result"
    }
   ],
   "source": [
    "histogram(rand(1000))"
   ]
  },
  {
   "cell_type": "markdown",
   "metadata": {},
   "source": [
    "下面範例是加入 range 定義，產生 10 個 1 到 100 之間的隨機數字。"
   ]
  },
  {
   "cell_type": "code",
   "execution_count": 9,
   "metadata": {},
   "outputs": [
    {
     "data": {
      "text/plain": [
       "UnitRange{Int64}"
      ]
     },
     "execution_count": 9,
     "metadata": {},
     "output_type": "execute_result"
    }
   ],
   "source": [
    "typeof(1:100)"
   ]
  },
  {
   "cell_type": "code",
   "execution_count": 6,
   "metadata": {},
   "outputs": [
    {
     "data": {
      "text/plain": [
       "10-element Array{Int64,1}:\n",
       " 80\n",
       " 42\n",
       " 19\n",
       " 44\n",
       " 28\n",
       " 36\n",
       " 82\n",
       " 39\n",
       " 21\n",
       " 19"
      ]
     },
     "execution_count": 6,
     "metadata": {},
     "output_type": "execute_result"
    }
   ],
   "source": [
    "rand(1:100, 10)"
   ]
  },
  {
   "cell_type": "markdown",
   "metadata": {},
   "source": [
    "產生隨機常態分布數字。"
   ]
  },
  {
   "cell_type": "code",
   "execution_count": 10,
   "metadata": {},
   "outputs": [
    {
     "data": {
      "image/svg+xml": [
       "<?xml version=\"1.0\" encoding=\"utf-8\"?>\n",
       "<svg xmlns=\"http://www.w3.org/2000/svg\" xmlns:xlink=\"http://www.w3.org/1999/xlink\" width=\"600\" height=\"400\" viewBox=\"0 0 2400 1600\">\n",
       "<defs>\n",
       "  <clipPath id=\"clip0000\">\n",
       "    <rect x=\"0\" y=\"0\" width=\"2400\" height=\"1600\"/>\n",
       "  </clipPath>\n",
       "</defs>\n",
       "<path clip-path=\"url(#clip0000)\" d=\"\n",
       "M0 1600 L2400 1600 L2400 0 L0 0  Z\n",
       "  \" fill=\"#ffffff\" fill-rule=\"evenodd\" fill-opacity=\"1\"/>\n",
       "<defs>\n",
       "  <clipPath id=\"clip0001\">\n",
       "    <rect x=\"480\" y=\"0\" width=\"1681\" height=\"1600\"/>\n",
       "  </clipPath>\n",
       "</defs>\n",
       "<path clip-path=\"url(#clip0000)\" d=\"\n",
       "M162.964 1486.45 L2352.76 1486.45 L2352.76 47.2441 L162.964 47.2441  Z\n",
       "  \" fill=\"#ffffff\" fill-rule=\"evenodd\" fill-opacity=\"1\"/>\n",
       "<defs>\n",
       "  <clipPath id=\"clip0002\">\n",
       "    <rect x=\"162\" y=\"47\" width=\"2191\" height=\"1440\"/>\n",
       "  </clipPath>\n",
       "</defs>\n",
       "<polyline clip-path=\"url(#clip0002)\" style=\"stroke:#000000; stroke-width:2; stroke-opacity:0.1; fill:none\" points=\"\n",
       "  405.213,1486.45 405.213,47.2441 \n",
       "  \"/>\n",
       "<polyline clip-path=\"url(#clip0002)\" style=\"stroke:#000000; stroke-width:2; stroke-opacity:0.1; fill:none\" points=\"\n",
       "  892.44,1486.45 892.44,47.2441 \n",
       "  \"/>\n",
       "<polyline clip-path=\"url(#clip0002)\" style=\"stroke:#000000; stroke-width:2; stroke-opacity:0.1; fill:none\" points=\"\n",
       "  1379.67,1486.45 1379.67,47.2441 \n",
       "  \"/>\n",
       "<polyline clip-path=\"url(#clip0002)\" style=\"stroke:#000000; stroke-width:2; stroke-opacity:0.1; fill:none\" points=\"\n",
       "  1866.89,1486.45 1866.89,47.2441 \n",
       "  \"/>\n",
       "<polyline clip-path=\"url(#clip0002)\" style=\"stroke:#000000; stroke-width:2; stroke-opacity:0.1; fill:none\" points=\"\n",
       "  162.964,1445.72 2352.76,1445.72 \n",
       "  \"/>\n",
       "<polyline clip-path=\"url(#clip0002)\" style=\"stroke:#000000; stroke-width:2; stroke-opacity:0.1; fill:none\" points=\"\n",
       "  162.964,1112.94 2352.76,1112.94 \n",
       "  \"/>\n",
       "<polyline clip-path=\"url(#clip0002)\" style=\"stroke:#000000; stroke-width:2; stroke-opacity:0.1; fill:none\" points=\"\n",
       "  162.964,780.157 2352.76,780.157 \n",
       "  \"/>\n",
       "<polyline clip-path=\"url(#clip0002)\" style=\"stroke:#000000; stroke-width:2; stroke-opacity:0.1; fill:none\" points=\"\n",
       "  162.964,447.378 2352.76,447.378 \n",
       "  \"/>\n",
       "<polyline clip-path=\"url(#clip0002)\" style=\"stroke:#000000; stroke-width:2; stroke-opacity:0.1; fill:none\" points=\"\n",
       "  162.964,114.599 2352.76,114.599 \n",
       "  \"/>\n",
       "<polyline clip-path=\"url(#clip0000)\" style=\"stroke:#000000; stroke-width:4; stroke-opacity:1; fill:none\" points=\"\n",
       "  162.964,1486.45 2352.76,1486.45 \n",
       "  \"/>\n",
       "<polyline clip-path=\"url(#clip0000)\" style=\"stroke:#000000; stroke-width:4; stroke-opacity:1; fill:none\" points=\"\n",
       "  162.964,1486.45 162.964,47.2441 \n",
       "  \"/>\n",
       "<polyline clip-path=\"url(#clip0000)\" style=\"stroke:#000000; stroke-width:4; stroke-opacity:1; fill:none\" points=\"\n",
       "  405.213,1486.45 405.213,1469.18 \n",
       "  \"/>\n",
       "<polyline clip-path=\"url(#clip0000)\" style=\"stroke:#000000; stroke-width:4; stroke-opacity:1; fill:none\" points=\"\n",
       "  892.44,1486.45 892.44,1469.18 \n",
       "  \"/>\n",
       "<polyline clip-path=\"url(#clip0000)\" style=\"stroke:#000000; stroke-width:4; stroke-opacity:1; fill:none\" points=\"\n",
       "  1379.67,1486.45 1379.67,1469.18 \n",
       "  \"/>\n",
       "<polyline clip-path=\"url(#clip0000)\" style=\"stroke:#000000; stroke-width:4; stroke-opacity:1; fill:none\" points=\"\n",
       "  1866.89,1486.45 1866.89,1469.18 \n",
       "  \"/>\n",
       "<polyline clip-path=\"url(#clip0000)\" style=\"stroke:#000000; stroke-width:4; stroke-opacity:1; fill:none\" points=\"\n",
       "  162.964,1445.72 189.241,1445.72 \n",
       "  \"/>\n",
       "<polyline clip-path=\"url(#clip0000)\" style=\"stroke:#000000; stroke-width:4; stroke-opacity:1; fill:none\" points=\"\n",
       "  162.964,1112.94 189.241,1112.94 \n",
       "  \"/>\n",
       "<polyline clip-path=\"url(#clip0000)\" style=\"stroke:#000000; stroke-width:4; stroke-opacity:1; fill:none\" points=\"\n",
       "  162.964,780.157 189.241,780.157 \n",
       "  \"/>\n",
       "<polyline clip-path=\"url(#clip0000)\" style=\"stroke:#000000; stroke-width:4; stroke-opacity:1; fill:none\" points=\"\n",
       "  162.964,447.378 189.241,447.378 \n",
       "  \"/>\n",
       "<polyline clip-path=\"url(#clip0000)\" style=\"stroke:#000000; stroke-width:4; stroke-opacity:1; fill:none\" points=\"\n",
       "  162.964,114.599 189.241,114.599 \n",
       "  \"/>\n",
       "<path clip-path=\"url(#clip0000)\" d=\"M 0 0 M385.225 1525.04 L397.702 1525.04 L397.702 1528.83 L385.225 1528.83 L385.225 1525.04 Z\" fill=\"#000000\" fill-rule=\"evenodd\" fill-opacity=\"1\" /><path clip-path=\"url(#clip0000)\" d=\"M 0 0 M415.618 1509.43 L403.813 1527.88 L415.618 1527.88 L415.618 1509.43 M414.391 1505.36 L420.271 1505.36 L420.271 1527.88 L425.201 1527.88 L425.201 1531.77 L420.271 1531.77 L420.271 1539.92 L415.618 1539.92 L415.618 1531.77 L400.016 1531.77 L400.016 1527.26 L414.391 1505.36 Z\" fill=\"#000000\" fill-rule=\"evenodd\" fill-opacity=\"1\" /><path clip-path=\"url(#clip0000)\" d=\"M 0 0 M873.493 1525.04 L885.97 1525.04 L885.97 1528.83 L873.493 1528.83 L873.493 1525.04 Z\" fill=\"#000000\" fill-rule=\"evenodd\" fill-opacity=\"1\" /><path clip-path=\"url(#clip0000)\" d=\"M 0 0 M895.067 1535.98 L911.387 1535.98 L911.387 1539.92 L889.442 1539.92 L889.442 1535.98 Q892.104 1533.23 896.688 1528.6 Q901.294 1523.95 902.475 1522.61 Q904.72 1520.08 905.6 1518.35 Q906.502 1516.59 906.502 1514.9 Q906.502 1512.14 904.558 1510.41 Q902.637 1508.67 899.535 1508.67 Q897.336 1508.67 894.882 1509.43 Q892.451 1510.2 889.674 1511.75 L889.674 1507.03 Q892.498 1505.89 894.951 1505.31 Q897.405 1504.73 899.442 1504.73 Q904.812 1504.73 908.007 1507.42 Q911.201 1510.11 911.201 1514.6 Q911.201 1516.73 910.391 1518.65 Q909.604 1520.54 907.498 1523.14 Q906.919 1523.81 903.817 1527.03 Q900.715 1530.22 895.067 1535.98 Z\" fill=\"#000000\" fill-rule=\"evenodd\" fill-opacity=\"1\" /><path clip-path=\"url(#clip0000)\" d=\"M 0 0 M1379.67 1508.44 Q1376.06 1508.44 1374.23 1512 Q1372.42 1515.55 1372.42 1522.67 Q1372.42 1529.78 1374.23 1533.35 Q1376.06 1536.89 1379.67 1536.89 Q1383.3 1536.89 1385.11 1533.35 Q1386.94 1529.78 1386.94 1522.67 Q1386.94 1515.55 1385.11 1512 Q1383.3 1508.44 1379.67 1508.44 M1379.67 1504.73 Q1385.48 1504.73 1388.53 1509.34 Q1391.61 1513.92 1391.61 1522.67 Q1391.61 1531.4 1388.53 1536.01 Q1385.48 1540.59 1379.67 1540.59 Q1373.86 1540.59 1370.78 1536.01 Q1367.72 1531.4 1367.72 1522.67 Q1367.72 1513.92 1370.78 1509.34 Q1373.86 1504.73 1379.67 1504.73 Z\" fill=\"#000000\" fill-rule=\"evenodd\" fill-opacity=\"1\" /><path clip-path=\"url(#clip0000)\" d=\"M 0 0 M1861.55 1535.98 L1877.87 1535.98 L1877.87 1539.92 L1855.92 1539.92 L1855.92 1535.98 Q1858.58 1533.23 1863.17 1528.6 Q1867.77 1523.95 1868.95 1522.61 Q1871.2 1520.08 1872.08 1518.35 Q1872.98 1516.59 1872.98 1514.9 Q1872.98 1512.14 1871.04 1510.41 Q1869.12 1508.67 1866.01 1508.67 Q1863.81 1508.67 1861.36 1509.43 Q1858.93 1510.2 1856.15 1511.75 L1856.15 1507.03 Q1858.98 1505.89 1861.43 1505.31 Q1863.88 1504.73 1865.92 1504.73 Q1871.29 1504.73 1874.49 1507.42 Q1877.68 1510.11 1877.68 1514.6 Q1877.68 1516.73 1876.87 1518.65 Q1876.08 1520.54 1873.98 1523.14 Q1873.4 1523.81 1870.3 1527.03 Q1867.19 1530.22 1861.55 1535.98 Z\" fill=\"#000000\" fill-rule=\"evenodd\" fill-opacity=\"1\" /><path clip-path=\"url(#clip0000)\" d=\"M 0 0 M127.02 1431.51 Q123.408 1431.51 121.58 1435.08 Q119.774 1438.62 119.774 1445.75 Q119.774 1452.86 121.58 1456.42 Q123.408 1459.96 127.02 1459.96 Q130.654 1459.96 132.459 1456.42 Q134.288 1452.86 134.288 1445.75 Q134.288 1438.62 132.459 1435.08 Q130.654 1431.51 127.02 1431.51 M127.02 1427.81 Q132.83 1427.81 135.885 1432.42 Q138.964 1437 138.964 1445.75 Q138.964 1454.48 135.885 1459.08 Q132.83 1463.67 127.02 1463.67 Q121.209 1463.67 118.131 1459.08 Q115.075 1454.48 115.075 1445.75 Q115.075 1437 118.131 1432.42 Q121.209 1427.81 127.02 1427.81 Z\" fill=\"#000000\" fill-rule=\"evenodd\" fill-opacity=\"1\" /><path clip-path=\"url(#clip0000)\" d=\"M 0 0 M91.0475 1095.66 L109.404 1095.66 L109.404 1099.59 L95.3299 1099.59 L95.3299 1108.06 Q96.3484 1107.72 97.3669 1107.55 Q98.3855 1107.37 99.404 1107.37 Q105.191 1107.37 108.571 1110.54 Q111.95 1113.71 111.95 1119.13 Q111.95 1124.71 108.478 1127.81 Q105.006 1130.89 98.6864 1130.89 Q96.5105 1130.89 94.242 1130.52 Q91.9966 1130.15 89.5892 1129.41 L89.5892 1124.71 Q91.6725 1125.84 93.8947 1126.4 Q96.1169 1126.95 98.5938 1126.95 Q102.598 1126.95 104.936 1124.85 Q107.274 1122.74 107.274 1119.13 Q107.274 1115.52 104.936 1113.41 Q102.598 1111.3 98.5938 1111.3 Q96.7188 1111.3 94.8438 1111.72 Q92.992 1112.14 91.0475 1113.02 L91.0475 1095.66 Z\" fill=\"#000000\" fill-rule=\"evenodd\" fill-opacity=\"1\" /><path clip-path=\"url(#clip0000)\" d=\"M 0 0 M127.02 1098.74 Q123.408 1098.74 121.58 1102.3 Q119.774 1105.84 119.774 1112.97 Q119.774 1120.08 121.58 1123.64 Q123.408 1127.18 127.02 1127.18 Q130.654 1127.18 132.459 1123.64 Q134.288 1120.08 134.288 1112.97 Q134.288 1105.84 132.459 1102.3 Q130.654 1098.74 127.02 1098.74 M127.02 1095.03 Q132.83 1095.03 135.885 1099.64 Q138.964 1104.22 138.964 1112.97 Q138.964 1121.7 135.885 1126.3 Q132.83 1130.89 127.02 1130.89 Q121.209 1130.89 118.131 1126.3 Q115.075 1121.7 115.075 1112.97 Q115.075 1104.22 118.131 1099.64 Q121.209 1095.03 127.02 1095.03 Z\" fill=\"#000000\" fill-rule=\"evenodd\" fill-opacity=\"1\" /><path clip-path=\"url(#clip0000)\" d=\"M 0 0 M65.0292 793.502 L72.668 793.502 L72.668 767.136 L64.3579 768.803 L64.3579 764.544 L72.6217 762.877 L77.2976 762.877 L77.2976 793.502 L84.9365 793.502 L84.9365 797.437 L65.0292 797.437 L65.0292 793.502 Z\" fill=\"#000000\" fill-rule=\"evenodd\" fill-opacity=\"1\" /><path clip-path=\"url(#clip0000)\" d=\"M 0 0 M100.006 765.956 Q96.3947 765.956 94.566 769.521 Q92.7605 773.062 92.7605 780.192 Q92.7605 787.298 94.566 790.863 Q96.3947 794.405 100.006 794.405 Q103.64 794.405 105.446 790.863 Q107.274 787.298 107.274 780.192 Q107.274 773.062 105.446 769.521 Q103.64 765.956 100.006 765.956 M100.006 762.252 Q105.816 762.252 108.872 766.859 Q111.95 771.442 111.95 780.192 Q111.95 788.919 108.872 793.525 Q105.816 798.108 100.006 798.108 Q94.1957 798.108 91.117 793.525 Q88.0614 788.919 88.0614 780.192 Q88.0614 771.442 91.117 766.859 Q94.1957 762.252 100.006 762.252 Z\" fill=\"#000000\" fill-rule=\"evenodd\" fill-opacity=\"1\" /><path clip-path=\"url(#clip0000)\" d=\"M 0 0 M127.02 765.956 Q123.408 765.956 121.58 769.521 Q119.774 773.062 119.774 780.192 Q119.774 787.298 121.58 790.863 Q123.408 794.405 127.02 794.405 Q130.654 794.405 132.459 790.863 Q134.288 787.298 134.288 780.192 Q134.288 773.062 132.459 769.521 Q130.654 765.956 127.02 765.956 M127.02 762.252 Q132.83 762.252 135.885 766.859 Q138.964 771.442 138.964 780.192 Q138.964 788.919 135.885 793.525 Q132.83 798.108 127.02 798.108 Q121.209 798.108 118.131 793.525 Q115.075 788.919 115.075 780.192 Q115.075 771.442 118.131 766.859 Q121.209 762.252 127.02 762.252 Z\" fill=\"#000000\" fill-rule=\"evenodd\" fill-opacity=\"1\" /><path clip-path=\"url(#clip0000)\" d=\"M 0 0 M66.0245 460.723 L73.6634 460.723 L73.6634 434.357 L65.3532 436.024 L65.3532 431.765 L73.6171 430.098 L78.293 430.098 L78.293 460.723 L85.9318 460.723 L85.9318 464.658 L66.0245 464.658 L66.0245 460.723 Z\" fill=\"#000000\" fill-rule=\"evenodd\" fill-opacity=\"1\" /><path clip-path=\"url(#clip0000)\" d=\"M 0 0 M91.0475 430.098 L109.404 430.098 L109.404 434.033 L95.3299 434.033 L95.3299 442.505 Q96.3484 442.158 97.3669 441.996 Q98.3855 441.811 99.404 441.811 Q105.191 441.811 108.571 444.982 Q111.95 448.153 111.95 453.57 Q111.95 459.149 108.478 462.25 Q105.006 465.329 98.6864 465.329 Q96.5105 465.329 94.242 464.959 Q91.9966 464.588 89.5892 463.848 L89.5892 459.149 Q91.6725 460.283 93.8947 460.838 Q96.1169 461.394 98.5938 461.394 Q102.598 461.394 104.936 459.288 Q107.274 457.181 107.274 453.57 Q107.274 449.959 104.936 447.852 Q102.598 445.746 98.5938 445.746 Q96.7188 445.746 94.8438 446.163 Q92.992 446.579 91.0475 447.459 L91.0475 430.098 Z\" fill=\"#000000\" fill-rule=\"evenodd\" fill-opacity=\"1\" /><path clip-path=\"url(#clip0000)\" d=\"M 0 0 M127.02 433.177 Q123.408 433.177 121.58 436.741 Q119.774 440.283 119.774 447.413 Q119.774 454.519 121.58 458.084 Q123.408 461.625 127.02 461.625 Q130.654 461.625 132.459 458.084 Q134.288 454.519 134.288 447.413 Q134.288 440.283 132.459 436.741 Q130.654 433.177 127.02 433.177 M127.02 429.473 Q132.83 429.473 135.885 434.079 Q138.964 438.663 138.964 447.413 Q138.964 456.139 135.885 460.746 Q132.83 465.329 127.02 465.329 Q121.209 465.329 118.131 460.746 Q115.075 456.139 115.075 447.413 Q115.075 438.663 118.131 434.079 Q121.209 429.473 127.02 429.473 Z\" fill=\"#000000\" fill-rule=\"evenodd\" fill-opacity=\"1\" /><path clip-path=\"url(#clip0000)\" d=\"M 0 0 M68.6171 127.943 L84.9365 127.943 L84.9365 131.879 L62.9921 131.879 L62.9921 127.943 Q65.6541 125.189 70.2375 120.559 Q74.8439 115.906 76.0245 114.564 Q78.2698 112.041 79.1494 110.305 Q80.0522 108.545 80.0522 106.856 Q80.0522 104.101 78.1078 102.365 Q76.1865 100.629 73.0847 100.629 Q70.8856 100.629 68.4319 101.393 Q66.0014 102.157 63.2236 103.707 L63.2236 98.9853 Q66.0477 97.851 68.5014 97.2723 Q70.955 96.6936 72.9921 96.6936 Q78.3624 96.6936 81.5568 99.3788 Q84.7513 102.064 84.7513 106.555 Q84.7513 108.684 83.9411 110.606 Q83.1541 112.504 81.0476 115.096 Q80.4689 115.768 77.367 118.985 Q74.2652 122.18 68.6171 127.943 Z\" fill=\"#000000\" fill-rule=\"evenodd\" fill-opacity=\"1\" /><path clip-path=\"url(#clip0000)\" d=\"M 0 0 M100.006 100.397 Q96.3947 100.397 94.566 103.962 Q92.7605 107.504 92.7605 114.633 Q92.7605 121.74 94.566 125.305 Q96.3947 128.846 100.006 128.846 Q103.64 128.846 105.446 125.305 Q107.274 121.74 107.274 114.633 Q107.274 107.504 105.446 103.962 Q103.64 100.397 100.006 100.397 M100.006 96.6936 Q105.816 96.6936 108.872 101.3 Q111.95 105.883 111.95 114.633 Q111.95 123.36 108.872 127.967 Q105.816 132.55 100.006 132.55 Q94.1957 132.55 91.117 127.967 Q88.0614 123.36 88.0614 114.633 Q88.0614 105.883 91.117 101.3 Q94.1957 96.6936 100.006 96.6936 Z\" fill=\"#000000\" fill-rule=\"evenodd\" fill-opacity=\"1\" /><path clip-path=\"url(#clip0000)\" d=\"M 0 0 M127.02 100.397 Q123.408 100.397 121.58 103.962 Q119.774 107.504 119.774 114.633 Q119.774 121.74 121.58 125.305 Q123.408 128.846 127.02 128.846 Q130.654 128.846 132.459 125.305 Q134.288 121.74 134.288 114.633 Q134.288 107.504 132.459 103.962 Q130.654 100.397 127.02 100.397 M127.02 96.6936 Q132.83 96.6936 135.885 101.3 Q138.964 105.883 138.964 114.633 Q138.964 123.36 135.885 127.967 Q132.83 132.55 127.02 132.55 Q121.209 132.55 118.131 127.967 Q115.075 123.36 115.075 114.633 Q115.075 105.883 118.131 101.3 Q121.209 96.6936 127.02 96.6936 Z\" fill=\"#000000\" fill-rule=\"evenodd\" fill-opacity=\"1\" /><path clip-path=\"url(#clip0002)\" d=\"\n",
       "M283.406 1439.06 L283.406 1445.72 L405.213 1445.72 L405.213 1439.06 L283.406 1439.06 L283.406 1439.06  Z\n",
       "  \" fill=\"#009af9\" fill-rule=\"evenodd\" fill-opacity=\"1\"/>\n",
       "<polyline clip-path=\"url(#clip0002)\" style=\"stroke:#000000; stroke-width:4; stroke-opacity:1; fill:none\" points=\"\n",
       "  283.406,1439.06 283.406,1445.72 405.213,1445.72 405.213,1439.06 283.406,1439.06 \n",
       "  \"/>\n",
       "<path clip-path=\"url(#clip0002)\" d=\"\n",
       "M405.213 1445.72 L405.213 1445.72 L527.02 1445.72 L527.02 1445.72 L405.213 1445.72 L405.213 1445.72  Z\n",
       "  \" fill=\"#009af9\" fill-rule=\"evenodd\" fill-opacity=\"1\"/>\n",
       "<polyline clip-path=\"url(#clip0002)\" style=\"stroke:#000000; stroke-width:4; stroke-opacity:1; fill:none\" points=\"\n",
       "  405.213,1445.72 405.213,1445.72 527.02,1445.72 405.213,1445.72 \n",
       "  \"/>\n",
       "<path clip-path=\"url(#clip0002)\" d=\"\n",
       "M527.02 1445.72 L527.02 1445.72 L648.826 1445.72 L648.826 1445.72 L527.02 1445.72 L527.02 1445.72  Z\n",
       "  \" fill=\"#009af9\" fill-rule=\"evenodd\" fill-opacity=\"1\"/>\n",
       "<polyline clip-path=\"url(#clip0002)\" style=\"stroke:#000000; stroke-width:4; stroke-opacity:1; fill:none\" points=\"\n",
       "  527.02,1445.72 527.02,1445.72 648.826,1445.72 527.02,1445.72 \n",
       "  \"/>\n",
       "<path clip-path=\"url(#clip0002)\" d=\"\n",
       "M648.826 1419.09 L648.826 1445.72 L770.633 1445.72 L770.633 1419.09 L648.826 1419.09 L648.826 1419.09  Z\n",
       "  \" fill=\"#009af9\" fill-rule=\"evenodd\" fill-opacity=\"1\"/>\n",
       "<polyline clip-path=\"url(#clip0002)\" style=\"stroke:#000000; stroke-width:4; stroke-opacity:1; fill:none\" points=\"\n",
       "  648.826,1419.09 648.826,1445.72 770.633,1445.72 770.633,1419.09 648.826,1419.09 \n",
       "  \"/>\n",
       "<path clip-path=\"url(#clip0002)\" d=\"\n",
       "M770.633 1279.33 L770.633 1445.72 L892.44 1445.72 L892.44 1279.33 L770.633 1279.33 L770.633 1279.33  Z\n",
       "  \" fill=\"#009af9\" fill-rule=\"evenodd\" fill-opacity=\"1\"/>\n",
       "<polyline clip-path=\"url(#clip0002)\" style=\"stroke:#000000; stroke-width:4; stroke-opacity:1; fill:none\" points=\"\n",
       "  770.633,1279.33 770.633,1445.72 892.44,1445.72 892.44,1279.33 770.633,1279.33 \n",
       "  \"/>\n",
       "<path clip-path=\"url(#clip0002)\" d=\"\n",
       "M892.44 1226.08 L892.44 1445.72 L1014.25 1445.72 L1014.25 1226.08 L892.44 1226.08 L892.44 1226.08  Z\n",
       "  \" fill=\"#009af9\" fill-rule=\"evenodd\" fill-opacity=\"1\"/>\n",
       "<polyline clip-path=\"url(#clip0002)\" style=\"stroke:#000000; stroke-width:4; stroke-opacity:1; fill:none\" points=\"\n",
       "  892.44,1226.08 892.44,1445.72 1014.25,1445.72 1014.25,1226.08 892.44,1226.08 \n",
       "  \"/>\n",
       "<path clip-path=\"url(#clip0002)\" d=\"\n",
       "M1014.25 786.813 L1014.25 1445.72 L1136.05 1445.72 L1136.05 786.813 L1014.25 786.813 L1014.25 786.813  Z\n",
       "  \" fill=\"#009af9\" fill-rule=\"evenodd\" fill-opacity=\"1\"/>\n",
       "<polyline clip-path=\"url(#clip0002)\" style=\"stroke:#000000; stroke-width:4; stroke-opacity:1; fill:none\" points=\"\n",
       "  1014.25,786.813 1014.25,1445.72 1136.05,1445.72 1136.05,786.813 1014.25,786.813 \n",
       "  \"/>\n",
       "<path clip-path=\"url(#clip0002)\" d=\"\n",
       "M1136.05 540.556 L1136.05 1445.72 L1257.86 1445.72 L1257.86 540.556 L1136.05 540.556 L1136.05 540.556  Z\n",
       "  \" fill=\"#009af9\" fill-rule=\"evenodd\" fill-opacity=\"1\"/>\n",
       "<polyline clip-path=\"url(#clip0002)\" style=\"stroke:#000000; stroke-width:4; stroke-opacity:1; fill:none\" points=\"\n",
       "  1136.05,540.556 1136.05,1445.72 1257.86,1445.72 1257.86,540.556 1136.05,540.556 \n",
       "  \"/>\n",
       "<path clip-path=\"url(#clip0002)\" d=\"\n",
       "M1257.86 87.9763 L1257.86 1445.72 L1379.67 1445.72 L1379.67 87.9763 L1257.86 87.9763 L1257.86 87.9763  Z\n",
       "  \" fill=\"#009af9\" fill-rule=\"evenodd\" fill-opacity=\"1\"/>\n",
       "<polyline clip-path=\"url(#clip0002)\" style=\"stroke:#000000; stroke-width:4; stroke-opacity:1; fill:none\" points=\"\n",
       "  1257.86,87.9763 1257.86,1445.72 1379.67,1445.72 1379.67,87.9763 1257.86,87.9763 \n",
       "  \"/>\n",
       "<path clip-path=\"url(#clip0002)\" d=\"\n",
       "M1379.67 187.81 L1379.67 1445.72 L1501.47 1445.72 L1501.47 187.81 L1379.67 187.81 L1379.67 187.81  Z\n",
       "  \" fill=\"#009af9\" fill-rule=\"evenodd\" fill-opacity=\"1\"/>\n",
       "<polyline clip-path=\"url(#clip0002)\" style=\"stroke:#000000; stroke-width:4; stroke-opacity:1; fill:none\" points=\"\n",
       "  1379.67,187.81 1379.67,1445.72 1501.47,1445.72 1501.47,187.81 1379.67,187.81 \n",
       "  \"/>\n",
       "<path clip-path=\"url(#clip0002)\" d=\"\n",
       "M1501.47 474 L1501.47 1445.72 L1623.28 1445.72 L1623.28 474 L1501.47 474 L1501.47 474  Z\n",
       "  \" fill=\"#009af9\" fill-rule=\"evenodd\" fill-opacity=\"1\"/>\n",
       "<polyline clip-path=\"url(#clip0002)\" style=\"stroke:#000000; stroke-width:4; stroke-opacity:1; fill:none\" points=\"\n",
       "  1501.47,474 1501.47,1445.72 1623.28,1445.72 1623.28,474 1501.47,474 \n",
       "  \"/>\n",
       "<path clip-path=\"url(#clip0002)\" d=\"\n",
       "M1623.28 899.958 L1623.28 1445.72 L1745.09 1445.72 L1745.09 899.958 L1623.28 899.958 L1623.28 899.958  Z\n",
       "  \" fill=\"#009af9\" fill-rule=\"evenodd\" fill-opacity=\"1\"/>\n",
       "<polyline clip-path=\"url(#clip0002)\" style=\"stroke:#000000; stroke-width:4; stroke-opacity:1; fill:none\" points=\"\n",
       "  1623.28,899.958 1623.28,1445.72 1745.09,1445.72 1745.09,899.958 1623.28,899.958 \n",
       "  \"/>\n",
       "<path clip-path=\"url(#clip0002)\" d=\"\n",
       "M1745.09 1092.97 L1745.09 1445.72 L1866.89 1445.72 L1866.89 1092.97 L1745.09 1092.97 L1745.09 1092.97  Z\n",
       "  \" fill=\"#009af9\" fill-rule=\"evenodd\" fill-opacity=\"1\"/>\n",
       "<polyline clip-path=\"url(#clip0002)\" style=\"stroke:#000000; stroke-width:4; stroke-opacity:1; fill:none\" points=\"\n",
       "  1745.09,1092.97 1745.09,1445.72 1866.89,1445.72 1866.89,1092.97 1745.09,1092.97 \n",
       "  \"/>\n",
       "<path clip-path=\"url(#clip0002)\" d=\"\n",
       "M1866.89 1319.26 L1866.89 1445.72 L1988.7 1445.72 L1988.7 1319.26 L1866.89 1319.26 L1866.89 1319.26  Z\n",
       "  \" fill=\"#009af9\" fill-rule=\"evenodd\" fill-opacity=\"1\"/>\n",
       "<polyline clip-path=\"url(#clip0002)\" style=\"stroke:#000000; stroke-width:4; stroke-opacity:1; fill:none\" points=\"\n",
       "  1866.89,1319.26 1866.89,1445.72 1988.7,1445.72 1988.7,1319.26 1866.89,1319.26 \n",
       "  \"/>\n",
       "<path clip-path=\"url(#clip0002)\" d=\"\n",
       "M1988.7 1405.78 L1988.7 1445.72 L2110.51 1445.72 L2110.51 1405.78 L1988.7 1405.78 L1988.7 1405.78  Z\n",
       "  \" fill=\"#009af9\" fill-rule=\"evenodd\" fill-opacity=\"1\"/>\n",
       "<polyline clip-path=\"url(#clip0002)\" style=\"stroke:#000000; stroke-width:4; stroke-opacity:1; fill:none\" points=\"\n",
       "  1988.7,1405.78 1988.7,1445.72 2110.51,1445.72 2110.51,1405.78 1988.7,1405.78 \n",
       "  \"/>\n",
       "<path clip-path=\"url(#clip0002)\" d=\"\n",
       "M2110.51 1425.75 L2110.51 1445.72 L2232.31 1445.72 L2232.31 1425.75 L2110.51 1425.75 L2110.51 1425.75  Z\n",
       "  \" fill=\"#009af9\" fill-rule=\"evenodd\" fill-opacity=\"1\"/>\n",
       "<polyline clip-path=\"url(#clip0002)\" style=\"stroke:#000000; stroke-width:4; stroke-opacity:1; fill:none\" points=\"\n",
       "  2110.51,1425.75 2110.51,1445.72 2232.31,1445.72 2232.31,1425.75 2110.51,1425.75 \n",
       "  \"/>\n",
       "<path clip-path=\"url(#clip0000)\" d=\"\n",
       "M1989.74 251.724 L2280.76 251.724 L2280.76 130.764 L1989.74 130.764  Z\n",
       "  \" fill=\"#ffffff\" fill-rule=\"evenodd\" fill-opacity=\"1\"/>\n",
       "<polyline clip-path=\"url(#clip0000)\" style=\"stroke:#000000; stroke-width:4; stroke-opacity:1; fill:none\" points=\"\n",
       "  1989.74,251.724 2280.76,251.724 2280.76,130.764 1989.74,130.764 1989.74,251.724 \n",
       "  \"/>\n",
       "<path clip-path=\"url(#clip0000)\" d=\"\n",
       "M2013.74 215.436 L2157.74 215.436 L2157.74 167.052 L2013.74 167.052 L2013.74 215.436  Z\n",
       "  \" fill=\"#009af9\" fill-rule=\"evenodd\" fill-opacity=\"1\"/>\n",
       "<polyline clip-path=\"url(#clip0000)\" style=\"stroke:#000000; stroke-width:4; stroke-opacity:1; fill:none\" points=\"\n",
       "  2013.74,215.436 2157.74,215.436 2157.74,167.052 2013.74,167.052 2013.74,215.436 \n",
       "  \"/>\n",
       "<path clip-path=\"url(#clip0000)\" d=\"M 0 0 M2195.58 210.931 Q2193.77 215.561 2192.06 216.973 Q2190.35 218.385 2187.48 218.385 L2184.08 218.385 L2184.08 214.82 L2186.58 214.82 Q2188.33 214.82 2189.31 213.987 Q2190.28 213.154 2191.46 210.052 L2192.22 208.107 L2181.74 182.598 L2186.25 182.598 L2194.35 202.876 L2202.46 182.598 L2206.97 182.598 L2195.58 210.931 Z\" fill=\"#000000\" fill-rule=\"evenodd\" fill-opacity=\"1\" /><path clip-path=\"url(#clip0000)\" d=\"M 0 0 M2212.85 204.589 L2220.49 204.589 L2220.49 178.223 L2212.18 179.89 L2212.18 175.631 L2220.44 173.964 L2225.12 173.964 L2225.12 204.589 L2232.76 204.589 L2232.76 208.524 L2212.85 208.524 L2212.85 204.589 Z\" fill=\"#000000\" fill-rule=\"evenodd\" fill-opacity=\"1\" /></svg>\n"
      ]
     },
     "execution_count": 10,
     "metadata": {},
     "output_type": "execute_result"
    }
   ],
   "source": [
    "histogram(randn(1000))"
   ]
  },
  {
   "cell_type": "markdown",
   "metadata": {},
   "source": [
    "產生隨機指數分布數字。`randexp()` 預設的數值型別也是 `Float64`。"
   ]
  },
  {
   "cell_type": "code",
   "execution_count": 11,
   "metadata": {},
   "outputs": [
    {
     "data": {
      "image/svg+xml": [
       "<?xml version=\"1.0\" encoding=\"utf-8\"?>\n",
       "<svg xmlns=\"http://www.w3.org/2000/svg\" xmlns:xlink=\"http://www.w3.org/1999/xlink\" width=\"600\" height=\"400\" viewBox=\"0 0 2400 1600\">\n",
       "<defs>\n",
       "  <clipPath id=\"clip0400\">\n",
       "    <rect x=\"0\" y=\"0\" width=\"2400\" height=\"1600\"/>\n",
       "  </clipPath>\n",
       "</defs>\n",
       "<path clip-path=\"url(#clip0400)\" d=\"\n",
       "M0 1600 L2400 1600 L2400 0 L0 0  Z\n",
       "  \" fill=\"#ffffff\" fill-rule=\"evenodd\" fill-opacity=\"1\"/>\n",
       "<defs>\n",
       "  <clipPath id=\"clip0401\">\n",
       "    <rect x=\"480\" y=\"0\" width=\"1681\" height=\"1600\"/>\n",
       "  </clipPath>\n",
       "</defs>\n",
       "<path clip-path=\"url(#clip0400)\" d=\"\n",
       "M162.964 1486.45 L2352.76 1486.45 L2352.76 47.2441 L162.964 47.2441  Z\n",
       "  \" fill=\"#ffffff\" fill-rule=\"evenodd\" fill-opacity=\"1\"/>\n",
       "<defs>\n",
       "  <clipPath id=\"clip0402\">\n",
       "    <rect x=\"162\" y=\"47\" width=\"2191\" height=\"1440\"/>\n",
       "  </clipPath>\n",
       "</defs>\n",
       "<polyline clip-path=\"url(#clip0402)\" style=\"stroke:#000000; stroke-width:2; stroke-opacity:0.1; fill:none\" points=\"\n",
       "  283.406,1486.45 283.406,47.2441 \n",
       "  \"/>\n",
       "<polyline clip-path=\"url(#clip0402)\" style=\"stroke:#000000; stroke-width:2; stroke-opacity:0.1; fill:none\" points=\"\n",
       "  780.577,1486.45 780.577,47.2441 \n",
       "  \"/>\n",
       "<polyline clip-path=\"url(#clip0402)\" style=\"stroke:#000000; stroke-width:2; stroke-opacity:0.1; fill:none\" points=\"\n",
       "  1277.75,1486.45 1277.75,47.2441 \n",
       "  \"/>\n",
       "<polyline clip-path=\"url(#clip0402)\" style=\"stroke:#000000; stroke-width:2; stroke-opacity:0.1; fill:none\" points=\"\n",
       "  1774.92,1486.45 1774.92,47.2441 \n",
       "  \"/>\n",
       "<polyline clip-path=\"url(#clip0402)\" style=\"stroke:#000000; stroke-width:2; stroke-opacity:0.1; fill:none\" points=\"\n",
       "  2272.09,1486.45 2272.09,47.2441 \n",
       "  \"/>\n",
       "<polyline clip-path=\"url(#clip0402)\" style=\"stroke:#000000; stroke-width:2; stroke-opacity:0.1; fill:none\" points=\"\n",
       "  162.964,1445.72 2352.76,1445.72 \n",
       "  \"/>\n",
       "<polyline clip-path=\"url(#clip0402)\" style=\"stroke:#000000; stroke-width:2; stroke-opacity:0.1; fill:none\" points=\"\n",
       "  162.964,1120.9 2352.76,1120.9 \n",
       "  \"/>\n",
       "<polyline clip-path=\"url(#clip0402)\" style=\"stroke:#000000; stroke-width:2; stroke-opacity:0.1; fill:none\" points=\"\n",
       "  162.964,796.08 2352.76,796.08 \n",
       "  \"/>\n",
       "<polyline clip-path=\"url(#clip0402)\" style=\"stroke:#000000; stroke-width:2; stroke-opacity:0.1; fill:none\" points=\"\n",
       "  162.964,471.262 2352.76,471.262 \n",
       "  \"/>\n",
       "<polyline clip-path=\"url(#clip0402)\" style=\"stroke:#000000; stroke-width:2; stroke-opacity:0.1; fill:none\" points=\"\n",
       "  162.964,146.444 2352.76,146.444 \n",
       "  \"/>\n",
       "<polyline clip-path=\"url(#clip0400)\" style=\"stroke:#000000; stroke-width:4; stroke-opacity:1; fill:none\" points=\"\n",
       "  162.964,1486.45 2352.76,1486.45 \n",
       "  \"/>\n",
       "<polyline clip-path=\"url(#clip0400)\" style=\"stroke:#000000; stroke-width:4; stroke-opacity:1; fill:none\" points=\"\n",
       "  162.964,1486.45 162.964,47.2441 \n",
       "  \"/>\n",
       "<polyline clip-path=\"url(#clip0400)\" style=\"stroke:#000000; stroke-width:4; stroke-opacity:1; fill:none\" points=\"\n",
       "  283.406,1486.45 283.406,1469.18 \n",
       "  \"/>\n",
       "<polyline clip-path=\"url(#clip0400)\" style=\"stroke:#000000; stroke-width:4; stroke-opacity:1; fill:none\" points=\"\n",
       "  780.577,1486.45 780.577,1469.18 \n",
       "  \"/>\n",
       "<polyline clip-path=\"url(#clip0400)\" style=\"stroke:#000000; stroke-width:4; stroke-opacity:1; fill:none\" points=\"\n",
       "  1277.75,1486.45 1277.75,1469.18 \n",
       "  \"/>\n",
       "<polyline clip-path=\"url(#clip0400)\" style=\"stroke:#000000; stroke-width:4; stroke-opacity:1; fill:none\" points=\"\n",
       "  1774.92,1486.45 1774.92,1469.18 \n",
       "  \"/>\n",
       "<polyline clip-path=\"url(#clip0400)\" style=\"stroke:#000000; stroke-width:4; stroke-opacity:1; fill:none\" points=\"\n",
       "  2272.09,1486.45 2272.09,1469.18 \n",
       "  \"/>\n",
       "<polyline clip-path=\"url(#clip0400)\" style=\"stroke:#000000; stroke-width:4; stroke-opacity:1; fill:none\" points=\"\n",
       "  162.964,1445.72 189.241,1445.72 \n",
       "  \"/>\n",
       "<polyline clip-path=\"url(#clip0400)\" style=\"stroke:#000000; stroke-width:4; stroke-opacity:1; fill:none\" points=\"\n",
       "  162.964,1120.9 189.241,1120.9 \n",
       "  \"/>\n",
       "<polyline clip-path=\"url(#clip0400)\" style=\"stroke:#000000; stroke-width:4; stroke-opacity:1; fill:none\" points=\"\n",
       "  162.964,796.08 189.241,796.08 \n",
       "  \"/>\n",
       "<polyline clip-path=\"url(#clip0400)\" style=\"stroke:#000000; stroke-width:4; stroke-opacity:1; fill:none\" points=\"\n",
       "  162.964,471.262 189.241,471.262 \n",
       "  \"/>\n",
       "<polyline clip-path=\"url(#clip0400)\" style=\"stroke:#000000; stroke-width:4; stroke-opacity:1; fill:none\" points=\"\n",
       "  162.964,146.444 189.241,146.444 \n",
       "  \"/>\n",
       "<path clip-path=\"url(#clip0400)\" d=\"M 0 0 M264.923 1508.44 Q261.312 1508.44 259.483 1512 Q257.677 1515.55 257.677 1522.67 Q257.677 1529.78 259.483 1533.35 Q261.312 1536.89 264.923 1536.89 Q268.557 1536.89 270.362 1533.35 Q272.191 1529.78 272.191 1522.67 Q272.191 1515.55 270.362 1512 Q268.557 1508.44 264.923 1508.44 M264.923 1504.73 Q270.733 1504.73 273.788 1509.34 Q276.867 1513.92 276.867 1522.67 Q276.867 1531.4 273.788 1536.01 Q270.733 1540.59 264.923 1540.59 Q259.113 1540.59 256.034 1536.01 Q252.978 1531.4 252.978 1522.67 Q252.978 1513.92 256.034 1509.34 Q259.113 1504.73 264.923 1504.73 Z\" fill=\"#000000\" fill-rule=\"evenodd\" fill-opacity=\"1\" /><path clip-path=\"url(#clip0400)\" d=\"M 0 0 M281.936 1534.04 L286.821 1534.04 L286.821 1539.92 L281.936 1539.92 L281.936 1534.04 Z\" fill=\"#000000\" fill-rule=\"evenodd\" fill-opacity=\"1\" /><path clip-path=\"url(#clip0400)\" d=\"M 0 0 M301.89 1508.44 Q298.279 1508.44 296.45 1512 Q294.645 1515.55 294.645 1522.67 Q294.645 1529.78 296.45 1533.35 Q298.279 1536.89 301.89 1536.89 Q305.524 1536.89 307.33 1533.35 Q309.159 1529.78 309.159 1522.67 Q309.159 1515.55 307.33 1512 Q305.524 1508.44 301.89 1508.44 M301.89 1504.73 Q307.7 1504.73 310.756 1509.34 Q313.834 1513.92 313.834 1522.67 Q313.834 1531.4 310.756 1536.01 Q307.7 1540.59 301.89 1540.59 Q296.08 1540.59 293.001 1536.01 Q289.946 1531.4 289.946 1522.67 Q289.946 1513.92 293.001 1509.34 Q296.08 1504.73 301.89 1504.73 Z\" fill=\"#000000\" fill-rule=\"evenodd\" fill-opacity=\"1\" /><path clip-path=\"url(#clip0400)\" d=\"M 0 0 M757.243 1535.98 L773.563 1535.98 L773.563 1539.92 L751.618 1539.92 L751.618 1535.98 Q754.28 1533.23 758.864 1528.6 Q763.47 1523.95 764.651 1522.61 Q766.896 1520.08 767.776 1518.35 Q768.678 1516.59 768.678 1514.9 Q768.678 1512.14 766.734 1510.41 Q764.813 1508.67 761.711 1508.67 Q759.512 1508.67 757.058 1509.43 Q754.628 1510.2 751.85 1511.75 L751.85 1507.03 Q754.674 1505.89 757.128 1505.31 Q759.581 1504.73 761.618 1504.73 Q766.989 1504.73 770.183 1507.42 Q773.378 1510.11 773.378 1514.6 Q773.378 1516.73 772.567 1518.65 Q771.78 1520.54 769.674 1523.14 Q769.095 1523.81 765.993 1527.03 Q762.891 1530.22 757.243 1535.98 Z\" fill=\"#000000\" fill-rule=\"evenodd\" fill-opacity=\"1\" /><path clip-path=\"url(#clip0400)\" d=\"M 0 0 M778.632 1534.04 L783.516 1534.04 L783.516 1539.92 L778.632 1539.92 L778.632 1534.04 Z\" fill=\"#000000\" fill-rule=\"evenodd\" fill-opacity=\"1\" /><path clip-path=\"url(#clip0400)\" d=\"M 0 0 M788.632 1505.36 L806.988 1505.36 L806.988 1509.3 L792.914 1509.3 L792.914 1517.77 Q793.933 1517.42 794.951 1517.26 Q795.97 1517.07 796.989 1517.07 Q802.776 1517.07 806.155 1520.24 Q809.535 1523.42 809.535 1528.83 Q809.535 1534.41 806.063 1537.51 Q802.59 1540.59 796.271 1540.59 Q794.095 1540.59 791.827 1540.22 Q789.581 1539.85 787.174 1539.11 L787.174 1534.41 Q789.257 1535.54 791.479 1536.1 Q793.701 1536.66 796.178 1536.66 Q800.183 1536.66 802.521 1534.55 Q804.859 1532.44 804.859 1528.83 Q804.859 1525.22 802.521 1523.11 Q800.183 1521.01 796.178 1521.01 Q794.303 1521.01 792.428 1521.42 Q790.577 1521.84 788.632 1522.72 L788.632 1505.36 Z\" fill=\"#000000\" fill-rule=\"evenodd\" fill-opacity=\"1\" /><path clip-path=\"url(#clip0400)\" d=\"M 0 0 M1249.54 1505.36 L1267.9 1505.36 L1267.9 1509.3 L1253.82 1509.3 L1253.82 1517.77 Q1254.84 1517.42 1255.86 1517.26 Q1256.88 1517.07 1257.9 1517.07 Q1263.68 1517.07 1267.06 1520.24 Q1270.44 1523.42 1270.44 1528.83 Q1270.44 1534.41 1266.97 1537.51 Q1263.5 1540.59 1257.18 1540.59 Q1255 1540.59 1252.74 1540.22 Q1250.49 1539.85 1248.08 1539.11 L1248.08 1534.41 Q1250.17 1535.54 1252.39 1536.1 Q1254.61 1536.66 1257.09 1536.66 Q1261.09 1536.66 1263.43 1534.55 Q1265.77 1532.44 1265.77 1528.83 Q1265.77 1525.22 1263.43 1523.11 Q1261.09 1521.01 1257.09 1521.01 Q1255.21 1521.01 1253.34 1521.42 Q1251.49 1521.84 1249.54 1522.72 L1249.54 1505.36 Z\" fill=\"#000000\" fill-rule=\"evenodd\" fill-opacity=\"1\" /><path clip-path=\"url(#clip0400)\" d=\"M 0 0 M1275.51 1534.04 L1280.4 1534.04 L1280.4 1539.92 L1275.51 1539.92 L1275.51 1534.04 Z\" fill=\"#000000\" fill-rule=\"evenodd\" fill-opacity=\"1\" /><path clip-path=\"url(#clip0400)\" d=\"M 0 0 M1295.47 1508.44 Q1291.86 1508.44 1290.03 1512 Q1288.22 1515.55 1288.22 1522.67 Q1288.22 1529.78 1290.03 1533.35 Q1291.86 1536.89 1295.47 1536.89 Q1299.1 1536.89 1300.91 1533.35 Q1302.74 1529.78 1302.74 1522.67 Q1302.74 1515.55 1300.91 1512 Q1299.1 1508.44 1295.47 1508.44 M1295.47 1504.73 Q1301.28 1504.73 1304.33 1509.34 Q1307.41 1513.92 1307.41 1522.67 Q1307.41 1531.4 1304.33 1536.01 Q1301.28 1540.59 1295.47 1540.59 Q1289.66 1540.59 1286.58 1536.01 Q1283.52 1531.4 1283.52 1522.67 Q1283.52 1513.92 1286.58 1509.34 Q1289.66 1504.73 1295.47 1504.73 Z\" fill=\"#000000\" fill-rule=\"evenodd\" fill-opacity=\"1\" /><path clip-path=\"url(#clip0400)\" d=\"M 0 0 M1745.82 1505.36 L1768.04 1505.36 L1768.04 1507.35 L1755.5 1539.92 L1750.61 1539.92 L1762.42 1509.3 L1745.82 1509.3 L1745.82 1505.36 Z\" fill=\"#000000\" fill-rule=\"evenodd\" fill-opacity=\"1\" /><path clip-path=\"url(#clip0400)\" d=\"M 0 0 M1773.11 1534.04 L1778 1534.04 L1778 1539.92 L1773.11 1539.92 L1773.11 1534.04 Z\" fill=\"#000000\" fill-rule=\"evenodd\" fill-opacity=\"1\" /><path clip-path=\"url(#clip0400)\" d=\"M 0 0 M1783.11 1505.36 L1801.47 1505.36 L1801.47 1509.3 L1787.39 1509.3 L1787.39 1517.77 Q1788.41 1517.42 1789.43 1517.26 Q1790.45 1517.07 1791.47 1517.07 Q1797.25 1517.07 1800.63 1520.24 Q1804.01 1523.42 1804.01 1528.83 Q1804.01 1534.41 1800.54 1537.51 Q1797.07 1540.59 1790.75 1540.59 Q1788.57 1540.59 1786.31 1540.22 Q1784.06 1539.85 1781.65 1539.11 L1781.65 1534.41 Q1783.74 1535.54 1785.96 1536.1 Q1788.18 1536.66 1790.66 1536.66 Q1794.66 1536.66 1797 1534.55 Q1799.34 1532.44 1799.34 1528.83 Q1799.34 1525.22 1797 1523.11 Q1794.66 1521.01 1790.66 1521.01 Q1788.78 1521.01 1786.91 1521.42 Q1785.06 1521.84 1783.11 1522.72 L1783.11 1505.36 Z\" fill=\"#000000\" fill-rule=\"evenodd\" fill-opacity=\"1\" /><path clip-path=\"url(#clip0400)\" d=\"M 0 0 M2230.48 1535.98 L2238.12 1535.98 L2238.12 1509.62 L2229.81 1511.29 L2229.81 1507.03 L2238.07 1505.36 L2242.75 1505.36 L2242.75 1535.98 L2250.39 1535.98 L2250.39 1539.92 L2230.48 1539.92 L2230.48 1535.98 Z\" fill=\"#000000\" fill-rule=\"evenodd\" fill-opacity=\"1\" /><path clip-path=\"url(#clip0400)\" d=\"M 0 0 M2265.46 1508.44 Q2261.84 1508.44 2260.02 1512 Q2258.21 1515.55 2258.21 1522.67 Q2258.21 1529.78 2260.02 1533.35 Q2261.84 1536.89 2265.46 1536.89 Q2269.09 1536.89 2270.89 1533.35 Q2272.72 1529.78 2272.72 1522.67 Q2272.72 1515.55 2270.89 1512 Q2269.09 1508.44 2265.46 1508.44 M2265.46 1504.73 Q2271.27 1504.73 2274.32 1509.34 Q2277.4 1513.92 2277.4 1522.67 Q2277.4 1531.4 2274.32 1536.01 Q2271.27 1540.59 2265.46 1540.59 Q2259.65 1540.59 2256.57 1536.01 Q2253.51 1531.4 2253.51 1522.67 Q2253.51 1513.92 2256.57 1509.34 Q2259.65 1504.73 2265.46 1504.73 Z\" fill=\"#000000\" fill-rule=\"evenodd\" fill-opacity=\"1\" /><path clip-path=\"url(#clip0400)\" d=\"M 0 0 M2282.47 1534.04 L2287.35 1534.04 L2287.35 1539.92 L2282.47 1539.92 L2282.47 1534.04 Z\" fill=\"#000000\" fill-rule=\"evenodd\" fill-opacity=\"1\" /><path clip-path=\"url(#clip0400)\" d=\"M 0 0 M2302.42 1508.44 Q2298.81 1508.44 2296.98 1512 Q2295.18 1515.55 2295.18 1522.67 Q2295.18 1529.78 2296.98 1533.35 Q2298.81 1536.89 2302.42 1536.89 Q2306.06 1536.89 2307.86 1533.35 Q2309.69 1529.78 2309.69 1522.67 Q2309.69 1515.55 2307.86 1512 Q2306.06 1508.44 2302.42 1508.44 M2302.42 1504.73 Q2308.23 1504.73 2311.29 1509.34 Q2314.37 1513.92 2314.37 1522.67 Q2314.37 1531.4 2311.29 1536.01 Q2308.23 1540.59 2302.42 1540.59 Q2296.61 1540.59 2293.53 1536.01 Q2290.48 1531.4 2290.48 1522.67 Q2290.48 1513.92 2293.53 1509.34 Q2296.61 1504.73 2302.42 1504.73 Z\" fill=\"#000000\" fill-rule=\"evenodd\" fill-opacity=\"1\" /><path clip-path=\"url(#clip0400)\" d=\"M 0 0 M127.02 1431.51 Q123.408 1431.51 121.58 1435.08 Q119.774 1438.62 119.774 1445.75 Q119.774 1452.86 121.58 1456.42 Q123.408 1459.96 127.02 1459.96 Q130.654 1459.96 132.459 1456.42 Q134.288 1452.86 134.288 1445.75 Q134.288 1438.62 132.459 1435.08 Q130.654 1431.51 127.02 1431.51 M127.02 1427.81 Q132.83 1427.81 135.885 1432.42 Q138.964 1437 138.964 1445.75 Q138.964 1454.48 135.885 1459.08 Q132.83 1463.67 127.02 1463.67 Q121.209 1463.67 118.131 1459.08 Q115.075 1454.48 115.075 1445.75 Q115.075 1437 118.131 1432.42 Q121.209 1427.81 127.02 1427.81 Z\" fill=\"#000000\" fill-rule=\"evenodd\" fill-opacity=\"1\" /><path clip-path=\"url(#clip0400)\" d=\"M 0 0 M91.0475 1103.62 L109.404 1103.62 L109.404 1107.55 L95.3299 1107.55 L95.3299 1116.02 Q96.3484 1115.68 97.3669 1115.52 Q98.3855 1115.33 99.404 1115.33 Q105.191 1115.33 108.571 1118.5 Q111.95 1121.67 111.95 1127.09 Q111.95 1132.67 108.478 1135.77 Q105.006 1138.85 98.6864 1138.85 Q96.5105 1138.85 94.242 1138.48 Q91.9966 1138.11 89.5892 1137.37 L89.5892 1132.67 Q91.6725 1133.8 93.8947 1134.36 Q96.1169 1134.91 98.5938 1134.91 Q102.598 1134.91 104.936 1132.81 Q107.274 1130.7 107.274 1127.09 Q107.274 1123.48 104.936 1121.37 Q102.598 1119.27 98.5938 1119.27 Q96.7188 1119.27 94.8438 1119.68 Q92.992 1120.1 91.0475 1120.98 L91.0475 1103.62 Z\" fill=\"#000000\" fill-rule=\"evenodd\" fill-opacity=\"1\" /><path clip-path=\"url(#clip0400)\" d=\"M 0 0 M127.02 1106.7 Q123.408 1106.7 121.58 1110.26 Q119.774 1113.8 119.774 1120.93 Q119.774 1128.04 121.58 1131.6 Q123.408 1135.15 127.02 1135.15 Q130.654 1135.15 132.459 1131.6 Q134.288 1128.04 134.288 1120.93 Q134.288 1113.8 132.459 1110.26 Q130.654 1106.7 127.02 1106.7 M127.02 1102.99 Q132.83 1102.99 135.885 1107.6 Q138.964 1112.18 138.964 1120.93 Q138.964 1129.66 135.885 1134.27 Q132.83 1138.85 127.02 1138.85 Q121.209 1138.85 118.131 1134.27 Q115.075 1129.66 115.075 1120.93 Q115.075 1112.18 118.131 1107.6 Q121.209 1102.99 127.02 1102.99 Z\" fill=\"#000000\" fill-rule=\"evenodd\" fill-opacity=\"1\" /><path clip-path=\"url(#clip0400)\" d=\"M 0 0 M65.0292 809.424 L72.668 809.424 L72.668 783.059 L64.3579 784.726 L64.3579 780.466 L72.6217 778.8 L77.2976 778.8 L77.2976 809.424 L84.9365 809.424 L84.9365 813.36 L65.0292 813.36 L65.0292 809.424 Z\" fill=\"#000000\" fill-rule=\"evenodd\" fill-opacity=\"1\" /><path clip-path=\"url(#clip0400)\" d=\"M 0 0 M100.006 781.878 Q96.3947 781.878 94.566 785.443 Q92.7605 788.985 92.7605 796.114 Q92.7605 803.221 94.566 806.786 Q96.3947 810.327 100.006 810.327 Q103.64 810.327 105.446 806.786 Q107.274 803.221 107.274 796.114 Q107.274 788.985 105.446 785.443 Q103.64 781.878 100.006 781.878 M100.006 778.175 Q105.816 778.175 108.872 782.781 Q111.95 787.364 111.95 796.114 Q111.95 804.841 108.872 809.448 Q105.816 814.031 100.006 814.031 Q94.1957 814.031 91.117 809.448 Q88.0614 804.841 88.0614 796.114 Q88.0614 787.364 91.117 782.781 Q94.1957 778.175 100.006 778.175 Z\" fill=\"#000000\" fill-rule=\"evenodd\" fill-opacity=\"1\" /><path clip-path=\"url(#clip0400)\" d=\"M 0 0 M127.02 781.878 Q123.408 781.878 121.58 785.443 Q119.774 788.985 119.774 796.114 Q119.774 803.221 121.58 806.786 Q123.408 810.327 127.02 810.327 Q130.654 810.327 132.459 806.786 Q134.288 803.221 134.288 796.114 Q134.288 788.985 132.459 785.443 Q130.654 781.878 127.02 781.878 M127.02 778.175 Q132.83 778.175 135.885 782.781 Q138.964 787.364 138.964 796.114 Q138.964 804.841 135.885 809.448 Q132.83 814.031 127.02 814.031 Q121.209 814.031 118.131 809.448 Q115.075 804.841 115.075 796.114 Q115.075 787.364 118.131 782.781 Q121.209 778.175 127.02 778.175 Z\" fill=\"#000000\" fill-rule=\"evenodd\" fill-opacity=\"1\" /><path clip-path=\"url(#clip0400)\" d=\"M 0 0 M66.0245 484.606 L73.6634 484.606 L73.6634 458.241 L65.3532 459.907 L65.3532 455.648 L73.6171 453.982 L78.293 453.982 L78.293 484.606 L85.9318 484.606 L85.9318 488.542 L66.0245 488.542 L66.0245 484.606 Z\" fill=\"#000000\" fill-rule=\"evenodd\" fill-opacity=\"1\" /><path clip-path=\"url(#clip0400)\" d=\"M 0 0 M91.0475 453.982 L109.404 453.982 L109.404 457.917 L95.3299 457.917 L95.3299 466.389 Q96.3484 466.042 97.3669 465.88 Q98.3855 465.694 99.404 465.694 Q105.191 465.694 108.571 468.866 Q111.95 472.037 111.95 477.454 Q111.95 483.032 108.478 486.134 Q105.006 489.213 98.6864 489.213 Q96.5105 489.213 94.242 488.842 Q91.9966 488.472 89.5892 487.731 L89.5892 483.032 Q91.6725 484.167 93.8947 484.722 Q96.1169 485.278 98.5938 485.278 Q102.598 485.278 104.936 483.171 Q107.274 481.065 107.274 477.454 Q107.274 473.843 104.936 471.736 Q102.598 469.63 98.5938 469.63 Q96.7188 469.63 94.8438 470.046 Q92.992 470.463 91.0475 471.343 L91.0475 453.982 Z\" fill=\"#000000\" fill-rule=\"evenodd\" fill-opacity=\"1\" /><path clip-path=\"url(#clip0400)\" d=\"M 0 0 M127.02 457.06 Q123.408 457.06 121.58 460.625 Q119.774 464.167 119.774 471.296 Q119.774 478.403 121.58 481.968 Q123.408 485.509 127.02 485.509 Q130.654 485.509 132.459 481.968 Q134.288 478.403 134.288 471.296 Q134.288 464.167 132.459 460.625 Q130.654 457.06 127.02 457.06 M127.02 453.357 Q132.83 453.357 135.885 457.963 Q138.964 462.546 138.964 471.296 Q138.964 480.023 135.885 484.63 Q132.83 489.213 127.02 489.213 Q121.209 489.213 118.131 484.63 Q115.075 480.023 115.075 471.296 Q115.075 462.546 118.131 457.963 Q121.209 453.357 127.02 453.357 Z\" fill=\"#000000\" fill-rule=\"evenodd\" fill-opacity=\"1\" /><path clip-path=\"url(#clip0400)\" d=\"M 0 0 M68.6171 159.788 L84.9365 159.788 L84.9365 163.724 L62.9921 163.724 L62.9921 159.788 Q65.6541 157.034 70.2375 152.404 Q74.8439 147.751 76.0245 146.409 Q78.2698 143.886 79.1494 142.15 Q80.0522 140.39 80.0522 138.701 Q80.0522 135.946 78.1078 134.21 Q76.1865 132.474 73.0847 132.474 Q70.8856 132.474 68.4319 133.238 Q66.0014 134.001 63.2236 135.552 L63.2236 130.83 Q66.0477 129.696 68.5014 129.117 Q70.955 128.539 72.9921 128.539 Q78.3624 128.539 81.5568 131.224 Q84.7513 133.909 84.7513 138.4 Q84.7513 140.529 83.9411 142.45 Q83.1541 144.349 81.0476 146.941 Q80.4689 147.612 77.367 150.83 Q74.2652 154.025 68.6171 159.788 Z\" fill=\"#000000\" fill-rule=\"evenodd\" fill-opacity=\"1\" /><path clip-path=\"url(#clip0400)\" d=\"M 0 0 M100.006 132.242 Q96.3947 132.242 94.566 135.807 Q92.7605 139.349 92.7605 146.478 Q92.7605 153.585 94.566 157.149 Q96.3947 160.691 100.006 160.691 Q103.64 160.691 105.446 157.149 Q107.274 153.585 107.274 146.478 Q107.274 139.349 105.446 135.807 Q103.64 132.242 100.006 132.242 M100.006 128.539 Q105.816 128.539 108.872 133.145 Q111.95 137.728 111.95 146.478 Q111.95 155.205 108.872 159.812 Q105.816 164.395 100.006 164.395 Q94.1957 164.395 91.117 159.812 Q88.0614 155.205 88.0614 146.478 Q88.0614 137.728 91.117 133.145 Q94.1957 128.539 100.006 128.539 Z\" fill=\"#000000\" fill-rule=\"evenodd\" fill-opacity=\"1\" /><path clip-path=\"url(#clip0400)\" d=\"M 0 0 M127.02 132.242 Q123.408 132.242 121.58 135.807 Q119.774 139.349 119.774 146.478 Q119.774 153.585 121.58 157.149 Q123.408 160.691 127.02 160.691 Q130.654 160.691 132.459 157.149 Q134.288 153.585 134.288 146.478 Q134.288 139.349 132.459 135.807 Q130.654 132.242 127.02 132.242 M127.02 128.539 Q132.83 128.539 135.885 133.145 Q138.964 137.728 138.964 146.478 Q138.964 155.205 135.885 159.812 Q132.83 164.395 127.02 164.395 Q121.209 164.395 118.131 159.812 Q115.075 155.205 115.075 146.478 Q115.075 137.728 118.131 133.145 Q121.209 128.539 127.02 128.539 Z\" fill=\"#000000\" fill-rule=\"evenodd\" fill-opacity=\"1\" /><path clip-path=\"url(#clip0402)\" d=\"\n",
       "M283.406 87.9763 L283.406 1445.72 L323.18 1445.72 L323.18 87.9763 L283.406 87.9763 L283.406 87.9763  Z\n",
       "  \" fill=\"#009af9\" fill-rule=\"evenodd\" fill-opacity=\"1\"/>\n",
       "<polyline clip-path=\"url(#clip0402)\" style=\"stroke:#000000; stroke-width:4; stroke-opacity:1; fill:none\" points=\"\n",
       "  283.406,87.9763 283.406,1445.72 323.18,1445.72 323.18,87.9763 283.406,87.9763 \n",
       "  \"/>\n",
       "<path clip-path=\"url(#clip0402)\" d=\"\n",
       "M323.18 562.211 L323.18 1445.72 L362.954 1445.72 L362.954 562.211 L323.18 562.211 L323.18 562.211  Z\n",
       "  \" fill=\"#009af9\" fill-rule=\"evenodd\" fill-opacity=\"1\"/>\n",
       "<polyline clip-path=\"url(#clip0402)\" style=\"stroke:#000000; stroke-width:4; stroke-opacity:1; fill:none\" points=\"\n",
       "  323.18,562.211 323.18,1445.72 362.954,1445.72 362.954,562.211 323.18,562.211 \n",
       "  \"/>\n",
       "<path clip-path=\"url(#clip0402)\" d=\"\n",
       "M362.954 705.131 L362.954 1445.72 L402.727 1445.72 L402.727 705.131 L362.954 705.131 L362.954 705.131  Z\n",
       "  \" fill=\"#009af9\" fill-rule=\"evenodd\" fill-opacity=\"1\"/>\n",
       "<polyline clip-path=\"url(#clip0402)\" style=\"stroke:#000000; stroke-width:4; stroke-opacity:1; fill:none\" points=\"\n",
       "  362.954,705.131 362.954,1445.72 402.727,1445.72 402.727,705.131 362.954,705.131 \n",
       "  \"/>\n",
       "<path clip-path=\"url(#clip0402)\" d=\"\n",
       "M402.727 861.043 L402.727 1445.72 L442.501 1445.72 L442.501 861.043 L402.727 861.043 L402.727 861.043  Z\n",
       "  \" fill=\"#009af9\" fill-rule=\"evenodd\" fill-opacity=\"1\"/>\n",
       "<polyline clip-path=\"url(#clip0402)\" style=\"stroke:#000000; stroke-width:4; stroke-opacity:1; fill:none\" points=\"\n",
       "  402.727,861.043 402.727,1445.72 442.501,1445.72 442.501,861.043 402.727,861.043 \n",
       "  \"/>\n",
       "<path clip-path=\"url(#clip0402)\" d=\"\n",
       "M442.501 906.518 L442.501 1445.72 L482.274 1445.72 L482.274 906.518 L442.501 906.518 L442.501 906.518  Z\n",
       "  \" fill=\"#009af9\" fill-rule=\"evenodd\" fill-opacity=\"1\"/>\n",
       "<polyline clip-path=\"url(#clip0402)\" style=\"stroke:#000000; stroke-width:4; stroke-opacity:1; fill:none\" points=\"\n",
       "  442.501,906.518 442.501,1445.72 482.274,1445.72 482.274,906.518 442.501,906.518 \n",
       "  \"/>\n",
       "<path clip-path=\"url(#clip0402)\" d=\"\n",
       "M482.274 919.51 L482.274 1445.72 L522.048 1445.72 L522.048 919.51 L482.274 919.51 L482.274 919.51  Z\n",
       "  \" fill=\"#009af9\" fill-rule=\"evenodd\" fill-opacity=\"1\"/>\n",
       "<polyline clip-path=\"url(#clip0402)\" style=\"stroke:#000000; stroke-width:4; stroke-opacity:1; fill:none\" points=\"\n",
       "  482.274,919.51 482.274,1445.72 522.048,1445.72 522.048,919.51 482.274,919.51 \n",
       "  \"/>\n",
       "<path clip-path=\"url(#clip0402)\" d=\"\n",
       "M522.048 1049.44 L522.048 1445.72 L561.822 1445.72 L561.822 1049.44 L522.048 1049.44 L522.048 1049.44  Z\n",
       "  \" fill=\"#009af9\" fill-rule=\"evenodd\" fill-opacity=\"1\"/>\n",
       "<polyline clip-path=\"url(#clip0402)\" style=\"stroke:#000000; stroke-width:4; stroke-opacity:1; fill:none\" points=\"\n",
       "  522.048,1049.44 522.048,1445.72 561.822,1445.72 561.822,1049.44 522.048,1049.44 \n",
       "  \"/>\n",
       "<path clip-path=\"url(#clip0402)\" d=\"\n",
       "M561.822 1205.35 L561.822 1445.72 L601.595 1445.72 L601.595 1205.35 L561.822 1205.35 L561.822 1205.35  Z\n",
       "  \" fill=\"#009af9\" fill-rule=\"evenodd\" fill-opacity=\"1\"/>\n",
       "<polyline clip-path=\"url(#clip0402)\" style=\"stroke:#000000; stroke-width:4; stroke-opacity:1; fill:none\" points=\"\n",
       "  561.822,1205.35 561.822,1445.72 601.595,1445.72 601.595,1205.35 561.822,1205.35 \n",
       "  \"/>\n",
       "<path clip-path=\"url(#clip0402)\" d=\"\n",
       "M601.595 1192.36 L601.595 1445.72 L641.369 1445.72 L641.369 1192.36 L601.595 1192.36 L601.595 1192.36  Z\n",
       "  \" fill=\"#009af9\" fill-rule=\"evenodd\" fill-opacity=\"1\"/>\n",
       "<polyline clip-path=\"url(#clip0402)\" style=\"stroke:#000000; stroke-width:4; stroke-opacity:1; fill:none\" points=\"\n",
       "  601.595,1192.36 601.595,1445.72 641.369,1445.72 641.369,1192.36 601.595,1192.36 \n",
       "  \"/>\n",
       "<path clip-path=\"url(#clip0402)\" d=\"\n",
       "M641.369 1231.34 L641.369 1445.72 L681.143 1445.72 L681.143 1231.34 L641.369 1231.34 L641.369 1231.34  Z\n",
       "  \" fill=\"#009af9\" fill-rule=\"evenodd\" fill-opacity=\"1\"/>\n",
       "<polyline clip-path=\"url(#clip0402)\" style=\"stroke:#000000; stroke-width:4; stroke-opacity:1; fill:none\" points=\"\n",
       "  641.369,1231.34 641.369,1445.72 681.143,1445.72 681.143,1231.34 641.369,1231.34 \n",
       "  \"/>\n",
       "<path clip-path=\"url(#clip0402)\" d=\"\n",
       "M681.143 1302.8 L681.143 1445.72 L720.916 1445.72 L720.916 1302.8 L681.143 1302.8 L681.143 1302.8  Z\n",
       "  \" fill=\"#009af9\" fill-rule=\"evenodd\" fill-opacity=\"1\"/>\n",
       "<polyline clip-path=\"url(#clip0402)\" style=\"stroke:#000000; stroke-width:4; stroke-opacity:1; fill:none\" points=\"\n",
       "  681.143,1302.8 681.143,1445.72 720.916,1445.72 720.916,1302.8 681.143,1302.8 \n",
       "  \"/>\n",
       "<path clip-path=\"url(#clip0402)\" d=\"\n",
       "M720.916 1380.75 L720.916 1445.72 L760.69 1445.72 L760.69 1380.75 L720.916 1380.75 L720.916 1380.75  Z\n",
       "  \" fill=\"#009af9\" fill-rule=\"evenodd\" fill-opacity=\"1\"/>\n",
       "<polyline clip-path=\"url(#clip0402)\" style=\"stroke:#000000; stroke-width:4; stroke-opacity:1; fill:none\" points=\"\n",
       "  720.916,1380.75 720.916,1445.72 760.69,1445.72 760.69,1380.75 720.916,1380.75 \n",
       "  \"/>\n",
       "<path clip-path=\"url(#clip0402)\" d=\"\n",
       "M760.69 1328.78 L760.69 1445.72 L800.463 1445.72 L800.463 1328.78 L760.69 1328.78 L760.69 1328.78  Z\n",
       "  \" fill=\"#009af9\" fill-rule=\"evenodd\" fill-opacity=\"1\"/>\n",
       "<polyline clip-path=\"url(#clip0402)\" style=\"stroke:#000000; stroke-width:4; stroke-opacity:1; fill:none\" points=\"\n",
       "  760.69,1328.78 760.69,1445.72 800.463,1445.72 800.463,1328.78 760.69,1328.78 \n",
       "  \"/>\n",
       "<path clip-path=\"url(#clip0402)\" d=\"\n",
       "M800.463 1361.26 L800.463 1445.72 L840.237 1445.72 L840.237 1361.26 L800.463 1361.26 L800.463 1361.26  Z\n",
       "  \" fill=\"#009af9\" fill-rule=\"evenodd\" fill-opacity=\"1\"/>\n",
       "<polyline clip-path=\"url(#clip0402)\" style=\"stroke:#000000; stroke-width:4; stroke-opacity:1; fill:none\" points=\"\n",
       "  800.463,1361.26 800.463,1445.72 840.237,1445.72 840.237,1361.26 800.463,1361.26 \n",
       "  \"/>\n",
       "<path clip-path=\"url(#clip0402)\" d=\"\n",
       "M840.237 1393.74 L840.237 1445.72 L880.011 1445.72 L880.011 1393.74 L840.237 1393.74 L840.237 1393.74  Z\n",
       "  \" fill=\"#009af9\" fill-rule=\"evenodd\" fill-opacity=\"1\"/>\n",
       "<polyline clip-path=\"url(#clip0402)\" style=\"stroke:#000000; stroke-width:4; stroke-opacity:1; fill:none\" points=\"\n",
       "  840.237,1393.74 840.237,1445.72 880.011,1445.72 880.011,1393.74 840.237,1393.74 \n",
       "  \"/>\n",
       "<path clip-path=\"url(#clip0402)\" d=\"\n",
       "M880.011 1367.76 L880.011 1445.72 L919.784 1445.72 L919.784 1367.76 L880.011 1367.76 L880.011 1367.76  Z\n",
       "  \" fill=\"#009af9\" fill-rule=\"evenodd\" fill-opacity=\"1\"/>\n",
       "<polyline clip-path=\"url(#clip0402)\" style=\"stroke:#000000; stroke-width:4; stroke-opacity:1; fill:none\" points=\"\n",
       "  880.011,1367.76 880.011,1445.72 919.784,1445.72 919.784,1367.76 880.011,1367.76 \n",
       "  \"/>\n",
       "<path clip-path=\"url(#clip0402)\" d=\"\n",
       "M919.784 1406.74 L919.784 1445.72 L959.558 1445.72 L959.558 1406.74 L919.784 1406.74 L919.784 1406.74  Z\n",
       "  \" fill=\"#009af9\" fill-rule=\"evenodd\" fill-opacity=\"1\"/>\n",
       "<polyline clip-path=\"url(#clip0402)\" style=\"stroke:#000000; stroke-width:4; stroke-opacity:1; fill:none\" points=\"\n",
       "  919.784,1406.74 919.784,1445.72 959.558,1445.72 959.558,1406.74 919.784,1406.74 \n",
       "  \"/>\n",
       "<path clip-path=\"url(#clip0402)\" d=\"\n",
       "M959.558 1419.73 L959.558 1445.72 L999.331 1445.72 L999.331 1419.73 L959.558 1419.73 L959.558 1419.73  Z\n",
       "  \" fill=\"#009af9\" fill-rule=\"evenodd\" fill-opacity=\"1\"/>\n",
       "<polyline clip-path=\"url(#clip0402)\" style=\"stroke:#000000; stroke-width:4; stroke-opacity:1; fill:none\" points=\"\n",
       "  959.558,1419.73 959.558,1445.72 999.331,1445.72 999.331,1419.73 959.558,1419.73 \n",
       "  \"/>\n",
       "<path clip-path=\"url(#clip0402)\" d=\"\n",
       "M999.331 1432.72 L999.331 1445.72 L1039.11 1445.72 L1039.11 1432.72 L999.331 1432.72 L999.331 1432.72  Z\n",
       "  \" fill=\"#009af9\" fill-rule=\"evenodd\" fill-opacity=\"1\"/>\n",
       "<polyline clip-path=\"url(#clip0402)\" style=\"stroke:#000000; stroke-width:4; stroke-opacity:1; fill:none\" points=\"\n",
       "  999.331,1432.72 999.331,1445.72 1039.11,1445.72 1039.11,1432.72 999.331,1432.72 \n",
       "  \"/>\n",
       "<path clip-path=\"url(#clip0402)\" d=\"\n",
       "M1039.11 1439.22 L1039.11 1445.72 L1078.88 1445.72 L1078.88 1439.22 L1039.11 1439.22 L1039.11 1439.22  Z\n",
       "  \" fill=\"#009af9\" fill-rule=\"evenodd\" fill-opacity=\"1\"/>\n",
       "<polyline clip-path=\"url(#clip0402)\" style=\"stroke:#000000; stroke-width:4; stroke-opacity:1; fill:none\" points=\"\n",
       "  1039.11,1439.22 1039.11,1445.72 1078.88,1445.72 1078.88,1439.22 1039.11,1439.22 \n",
       "  \"/>\n",
       "<path clip-path=\"url(#clip0402)\" d=\"\n",
       "M1078.88 1426.23 L1078.88 1445.72 L1118.65 1445.72 L1118.65 1426.23 L1078.88 1426.23 L1078.88 1426.23  Z\n",
       "  \" fill=\"#009af9\" fill-rule=\"evenodd\" fill-opacity=\"1\"/>\n",
       "<polyline clip-path=\"url(#clip0402)\" style=\"stroke:#000000; stroke-width:4; stroke-opacity:1; fill:none\" points=\"\n",
       "  1078.88,1426.23 1078.88,1445.72 1118.65,1445.72 1118.65,1426.23 1078.88,1426.23 \n",
       "  \"/>\n",
       "<path clip-path=\"url(#clip0402)\" d=\"\n",
       "M1118.65 1419.73 L1118.65 1445.72 L1158.43 1445.72 L1158.43 1419.73 L1118.65 1419.73 L1118.65 1419.73  Z\n",
       "  \" fill=\"#009af9\" fill-rule=\"evenodd\" fill-opacity=\"1\"/>\n",
       "<polyline clip-path=\"url(#clip0402)\" style=\"stroke:#000000; stroke-width:4; stroke-opacity:1; fill:none\" points=\"\n",
       "  1118.65,1419.73 1118.65,1445.72 1158.43,1445.72 1158.43,1419.73 1118.65,1419.73 \n",
       "  \"/>\n",
       "<path clip-path=\"url(#clip0402)\" d=\"\n",
       "M1158.43 1439.22 L1158.43 1445.72 L1198.2 1445.72 L1198.2 1439.22 L1158.43 1439.22 L1158.43 1439.22  Z\n",
       "  \" fill=\"#009af9\" fill-rule=\"evenodd\" fill-opacity=\"1\"/>\n",
       "<polyline clip-path=\"url(#clip0402)\" style=\"stroke:#000000; stroke-width:4; stroke-opacity:1; fill:none\" points=\"\n",
       "  1158.43,1439.22 1158.43,1445.72 1198.2,1445.72 1198.2,1439.22 1158.43,1439.22 \n",
       "  \"/>\n",
       "<path clip-path=\"url(#clip0402)\" d=\"\n",
       "M1198.2 1426.23 L1198.2 1445.72 L1237.97 1445.72 L1237.97 1426.23 L1198.2 1426.23 L1198.2 1426.23  Z\n",
       "  \" fill=\"#009af9\" fill-rule=\"evenodd\" fill-opacity=\"1\"/>\n",
       "<polyline clip-path=\"url(#clip0402)\" style=\"stroke:#000000; stroke-width:4; stroke-opacity:1; fill:none\" points=\"\n",
       "  1198.2,1426.23 1198.2,1445.72 1237.97,1445.72 1237.97,1426.23 1198.2,1426.23 \n",
       "  \"/>\n",
       "<path clip-path=\"url(#clip0402)\" d=\"\n",
       "M1237.97 1426.23 L1237.97 1445.72 L1277.75 1445.72 L1277.75 1426.23 L1237.97 1426.23 L1237.97 1426.23  Z\n",
       "  \" fill=\"#009af9\" fill-rule=\"evenodd\" fill-opacity=\"1\"/>\n",
       "<polyline clip-path=\"url(#clip0402)\" style=\"stroke:#000000; stroke-width:4; stroke-opacity:1; fill:none\" points=\"\n",
       "  1237.97,1426.23 1237.97,1445.72 1277.75,1445.72 1277.75,1426.23 1237.97,1426.23 \n",
       "  \"/>\n",
       "<path clip-path=\"url(#clip0402)\" d=\"\n",
       "M1277.75 1426.23 L1277.75 1445.72 L1317.52 1445.72 L1317.52 1426.23 L1277.75 1426.23 L1277.75 1426.23  Z\n",
       "  \" fill=\"#009af9\" fill-rule=\"evenodd\" fill-opacity=\"1\"/>\n",
       "<polyline clip-path=\"url(#clip0402)\" style=\"stroke:#000000; stroke-width:4; stroke-opacity:1; fill:none\" points=\"\n",
       "  1277.75,1426.23 1277.75,1445.72 1317.52,1445.72 1317.52,1426.23 1277.75,1426.23 \n",
       "  \"/>\n",
       "<path clip-path=\"url(#clip0402)\" d=\"\n",
       "M1317.52 1445.72 L1317.52 1445.72 L1357.29 1445.72 L1357.29 1445.72 L1317.52 1445.72 L1317.52 1445.72  Z\n",
       "  \" fill=\"#009af9\" fill-rule=\"evenodd\" fill-opacity=\"1\"/>\n",
       "<polyline clip-path=\"url(#clip0402)\" style=\"stroke:#000000; stroke-width:4; stroke-opacity:1; fill:none\" points=\"\n",
       "  1317.52,1445.72 1317.52,1445.72 1357.29,1445.72 1317.52,1445.72 \n",
       "  \"/>\n",
       "<path clip-path=\"url(#clip0402)\" d=\"\n",
       "M1357.29 1439.22 L1357.29 1445.72 L1397.07 1445.72 L1397.07 1439.22 L1357.29 1439.22 L1357.29 1439.22  Z\n",
       "  \" fill=\"#009af9\" fill-rule=\"evenodd\" fill-opacity=\"1\"/>\n",
       "<polyline clip-path=\"url(#clip0402)\" style=\"stroke:#000000; stroke-width:4; stroke-opacity:1; fill:none\" points=\"\n",
       "  1357.29,1439.22 1357.29,1445.72 1397.07,1445.72 1397.07,1439.22 1357.29,1439.22 \n",
       "  \"/>\n",
       "<path clip-path=\"url(#clip0402)\" d=\"\n",
       "M1397.07 1445.72 L1397.07 1445.72 L1436.84 1445.72 L1436.84 1445.72 L1397.07 1445.72 L1397.07 1445.72  Z\n",
       "  \" fill=\"#009af9\" fill-rule=\"evenodd\" fill-opacity=\"1\"/>\n",
       "<polyline clip-path=\"url(#clip0402)\" style=\"stroke:#000000; stroke-width:4; stroke-opacity:1; fill:none\" points=\"\n",
       "  1397.07,1445.72 1397.07,1445.72 1436.84,1445.72 1397.07,1445.72 \n",
       "  \"/>\n",
       "<path clip-path=\"url(#clip0402)\" d=\"\n",
       "M1436.84 1445.72 L1436.84 1445.72 L1476.61 1445.72 L1476.61 1445.72 L1436.84 1445.72 L1436.84 1445.72  Z\n",
       "  \" fill=\"#009af9\" fill-rule=\"evenodd\" fill-opacity=\"1\"/>\n",
       "<polyline clip-path=\"url(#clip0402)\" style=\"stroke:#000000; stroke-width:4; stroke-opacity:1; fill:none\" points=\"\n",
       "  1436.84,1445.72 1436.84,1445.72 1476.61,1445.72 1436.84,1445.72 \n",
       "  \"/>\n",
       "<path clip-path=\"url(#clip0402)\" d=\"\n",
       "M1476.61 1439.22 L1476.61 1445.72 L1516.39 1445.72 L1516.39 1439.22 L1476.61 1439.22 L1476.61 1439.22  Z\n",
       "  \" fill=\"#009af9\" fill-rule=\"evenodd\" fill-opacity=\"1\"/>\n",
       "<polyline clip-path=\"url(#clip0402)\" style=\"stroke:#000000; stroke-width:4; stroke-opacity:1; fill:none\" points=\"\n",
       "  1476.61,1439.22 1476.61,1445.72 1516.39,1445.72 1516.39,1439.22 1476.61,1439.22 \n",
       "  \"/>\n",
       "<path clip-path=\"url(#clip0402)\" d=\"\n",
       "M1516.39 1445.72 L1516.39 1445.72 L1556.16 1445.72 L1556.16 1445.72 L1516.39 1445.72 L1516.39 1445.72  Z\n",
       "  \" fill=\"#009af9\" fill-rule=\"evenodd\" fill-opacity=\"1\"/>\n",
       "<polyline clip-path=\"url(#clip0402)\" style=\"stroke:#000000; stroke-width:4; stroke-opacity:1; fill:none\" points=\"\n",
       "  1516.39,1445.72 1516.39,1445.72 1556.16,1445.72 1516.39,1445.72 \n",
       "  \"/>\n",
       "<path clip-path=\"url(#clip0402)\" d=\"\n",
       "M1556.16 1439.22 L1556.16 1445.72 L1595.94 1445.72 L1595.94 1439.22 L1556.16 1439.22 L1556.16 1439.22  Z\n",
       "  \" fill=\"#009af9\" fill-rule=\"evenodd\" fill-opacity=\"1\"/>\n",
       "<polyline clip-path=\"url(#clip0402)\" style=\"stroke:#000000; stroke-width:4; stroke-opacity:1; fill:none\" points=\"\n",
       "  1556.16,1439.22 1556.16,1445.72 1595.94,1445.72 1595.94,1439.22 1556.16,1439.22 \n",
       "  \"/>\n",
       "<path clip-path=\"url(#clip0402)\" d=\"\n",
       "M1595.94 1445.72 L1595.94 1445.72 L1635.71 1445.72 L1635.71 1445.72 L1595.94 1445.72 L1595.94 1445.72  Z\n",
       "  \" fill=\"#009af9\" fill-rule=\"evenodd\" fill-opacity=\"1\"/>\n",
       "<polyline clip-path=\"url(#clip0402)\" style=\"stroke:#000000; stroke-width:4; stroke-opacity:1; fill:none\" points=\"\n",
       "  1595.94,1445.72 1595.94,1445.72 1635.71,1445.72 1595.94,1445.72 \n",
       "  \"/>\n",
       "<path clip-path=\"url(#clip0402)\" d=\"\n",
       "M1635.71 1445.72 L1635.71 1445.72 L1675.48 1445.72 L1675.48 1445.72 L1635.71 1445.72 L1635.71 1445.72  Z\n",
       "  \" fill=\"#009af9\" fill-rule=\"evenodd\" fill-opacity=\"1\"/>\n",
       "<polyline clip-path=\"url(#clip0402)\" style=\"stroke:#000000; stroke-width:4; stroke-opacity:1; fill:none\" points=\"\n",
       "  1635.71,1445.72 1635.71,1445.72 1675.48,1445.72 1635.71,1445.72 \n",
       "  \"/>\n",
       "<path clip-path=\"url(#clip0402)\" d=\"\n",
       "M1675.48 1445.72 L1675.48 1445.72 L1715.26 1445.72 L1715.26 1445.72 L1675.48 1445.72 L1675.48 1445.72  Z\n",
       "  \" fill=\"#009af9\" fill-rule=\"evenodd\" fill-opacity=\"1\"/>\n",
       "<polyline clip-path=\"url(#clip0402)\" style=\"stroke:#000000; stroke-width:4; stroke-opacity:1; fill:none\" points=\"\n",
       "  1675.48,1445.72 1675.48,1445.72 1715.26,1445.72 1675.48,1445.72 \n",
       "  \"/>\n",
       "<path clip-path=\"url(#clip0402)\" d=\"\n",
       "M1715.26 1445.72 L1715.26 1445.72 L1755.03 1445.72 L1755.03 1445.72 L1715.26 1445.72 L1715.26 1445.72  Z\n",
       "  \" fill=\"#009af9\" fill-rule=\"evenodd\" fill-opacity=\"1\"/>\n",
       "<polyline clip-path=\"url(#clip0402)\" style=\"stroke:#000000; stroke-width:4; stroke-opacity:1; fill:none\" points=\"\n",
       "  1715.26,1445.72 1715.26,1445.72 1755.03,1445.72 1715.26,1445.72 \n",
       "  \"/>\n",
       "<path clip-path=\"url(#clip0402)\" d=\"\n",
       "M1755.03 1445.72 L1755.03 1445.72 L1794.8 1445.72 L1794.8 1445.72 L1755.03 1445.72 L1755.03 1445.72  Z\n",
       "  \" fill=\"#009af9\" fill-rule=\"evenodd\" fill-opacity=\"1\"/>\n",
       "<polyline clip-path=\"url(#clip0402)\" style=\"stroke:#000000; stroke-width:4; stroke-opacity:1; fill:none\" points=\"\n",
       "  1755.03,1445.72 1755.03,1445.72 1794.8,1445.72 1755.03,1445.72 \n",
       "  \"/>\n",
       "<path clip-path=\"url(#clip0402)\" d=\"\n",
       "M1794.8 1445.72 L1794.8 1445.72 L1834.58 1445.72 L1834.58 1445.72 L1794.8 1445.72 L1794.8 1445.72  Z\n",
       "  \" fill=\"#009af9\" fill-rule=\"evenodd\" fill-opacity=\"1\"/>\n",
       "<polyline clip-path=\"url(#clip0402)\" style=\"stroke:#000000; stroke-width:4; stroke-opacity:1; fill:none\" points=\"\n",
       "  1794.8,1445.72 1794.8,1445.72 1834.58,1445.72 1794.8,1445.72 \n",
       "  \"/>\n",
       "<path clip-path=\"url(#clip0402)\" d=\"\n",
       "M1834.58 1445.72 L1834.58 1445.72 L1874.35 1445.72 L1874.35 1445.72 L1834.58 1445.72 L1834.58 1445.72  Z\n",
       "  \" fill=\"#009af9\" fill-rule=\"evenodd\" fill-opacity=\"1\"/>\n",
       "<polyline clip-path=\"url(#clip0402)\" style=\"stroke:#000000; stroke-width:4; stroke-opacity:1; fill:none\" points=\"\n",
       "  1834.58,1445.72 1834.58,1445.72 1874.35,1445.72 1834.58,1445.72 \n",
       "  \"/>\n",
       "<path clip-path=\"url(#clip0402)\" d=\"\n",
       "M1874.35 1445.72 L1874.35 1445.72 L1914.12 1445.72 L1914.12 1445.72 L1874.35 1445.72 L1874.35 1445.72  Z\n",
       "  \" fill=\"#009af9\" fill-rule=\"evenodd\" fill-opacity=\"1\"/>\n",
       "<polyline clip-path=\"url(#clip0402)\" style=\"stroke:#000000; stroke-width:4; stroke-opacity:1; fill:none\" points=\"\n",
       "  1874.35,1445.72 1874.35,1445.72 1914.12,1445.72 1874.35,1445.72 \n",
       "  \"/>\n",
       "<path clip-path=\"url(#clip0402)\" d=\"\n",
       "M1914.12 1445.72 L1914.12 1445.72 L1953.9 1445.72 L1953.9 1445.72 L1914.12 1445.72 L1914.12 1445.72  Z\n",
       "  \" fill=\"#009af9\" fill-rule=\"evenodd\" fill-opacity=\"1\"/>\n",
       "<polyline clip-path=\"url(#clip0402)\" style=\"stroke:#000000; stroke-width:4; stroke-opacity:1; fill:none\" points=\"\n",
       "  1914.12,1445.72 1914.12,1445.72 1953.9,1445.72 1914.12,1445.72 \n",
       "  \"/>\n",
       "<path clip-path=\"url(#clip0402)\" d=\"\n",
       "M1953.9 1445.72 L1953.9 1445.72 L1993.67 1445.72 L1993.67 1445.72 L1953.9 1445.72 L1953.9 1445.72  Z\n",
       "  \" fill=\"#009af9\" fill-rule=\"evenodd\" fill-opacity=\"1\"/>\n",
       "<polyline clip-path=\"url(#clip0402)\" style=\"stroke:#000000; stroke-width:4; stroke-opacity:1; fill:none\" points=\"\n",
       "  1953.9,1445.72 1953.9,1445.72 1993.67,1445.72 1953.9,1445.72 \n",
       "  \"/>\n",
       "<path clip-path=\"url(#clip0402)\" d=\"\n",
       "M1993.67 1445.72 L1993.67 1445.72 L2033.45 1445.72 L2033.45 1445.72 L1993.67 1445.72 L1993.67 1445.72  Z\n",
       "  \" fill=\"#009af9\" fill-rule=\"evenodd\" fill-opacity=\"1\"/>\n",
       "<polyline clip-path=\"url(#clip0402)\" style=\"stroke:#000000; stroke-width:4; stroke-opacity:1; fill:none\" points=\"\n",
       "  1993.67,1445.72 1993.67,1445.72 2033.45,1445.72 1993.67,1445.72 \n",
       "  \"/>\n",
       "<path clip-path=\"url(#clip0402)\" d=\"\n",
       "M2033.45 1445.72 L2033.45 1445.72 L2073.22 1445.72 L2073.22 1445.72 L2033.45 1445.72 L2033.45 1445.72  Z\n",
       "  \" fill=\"#009af9\" fill-rule=\"evenodd\" fill-opacity=\"1\"/>\n",
       "<polyline clip-path=\"url(#clip0402)\" style=\"stroke:#000000; stroke-width:4; stroke-opacity:1; fill:none\" points=\"\n",
       "  2033.45,1445.72 2033.45,1445.72 2073.22,1445.72 2033.45,1445.72 \n",
       "  \"/>\n",
       "<path clip-path=\"url(#clip0402)\" d=\"\n",
       "M2073.22 1445.72 L2073.22 1445.72 L2112.99 1445.72 L2112.99 1445.72 L2073.22 1445.72 L2073.22 1445.72  Z\n",
       "  \" fill=\"#009af9\" fill-rule=\"evenodd\" fill-opacity=\"1\"/>\n",
       "<polyline clip-path=\"url(#clip0402)\" style=\"stroke:#000000; stroke-width:4; stroke-opacity:1; fill:none\" points=\"\n",
       "  2073.22,1445.72 2073.22,1445.72 2112.99,1445.72 2073.22,1445.72 \n",
       "  \"/>\n",
       "<path clip-path=\"url(#clip0402)\" d=\"\n",
       "M2112.99 1445.72 L2112.99 1445.72 L2152.77 1445.72 L2152.77 1445.72 L2112.99 1445.72 L2112.99 1445.72  Z\n",
       "  \" fill=\"#009af9\" fill-rule=\"evenodd\" fill-opacity=\"1\"/>\n",
       "<polyline clip-path=\"url(#clip0402)\" style=\"stroke:#000000; stroke-width:4; stroke-opacity:1; fill:none\" points=\"\n",
       "  2112.99,1445.72 2112.99,1445.72 2152.77,1445.72 2112.99,1445.72 \n",
       "  \"/>\n",
       "<path clip-path=\"url(#clip0402)\" d=\"\n",
       "M2152.77 1445.72 L2152.77 1445.72 L2192.54 1445.72 L2192.54 1445.72 L2152.77 1445.72 L2152.77 1445.72  Z\n",
       "  \" fill=\"#009af9\" fill-rule=\"evenodd\" fill-opacity=\"1\"/>\n",
       "<polyline clip-path=\"url(#clip0402)\" style=\"stroke:#000000; stroke-width:4; stroke-opacity:1; fill:none\" points=\"\n",
       "  2152.77,1445.72 2152.77,1445.72 2192.54,1445.72 2152.77,1445.72 \n",
       "  \"/>\n",
       "<path clip-path=\"url(#clip0402)\" d=\"\n",
       "M2192.54 1439.22 L2192.54 1445.72 L2232.31 1445.72 L2232.31 1439.22 L2192.54 1439.22 L2192.54 1439.22  Z\n",
       "  \" fill=\"#009af9\" fill-rule=\"evenodd\" fill-opacity=\"1\"/>\n",
       "<polyline clip-path=\"url(#clip0402)\" style=\"stroke:#000000; stroke-width:4; stroke-opacity:1; fill:none\" points=\"\n",
       "  2192.54,1439.22 2192.54,1445.72 2232.31,1445.72 2232.31,1439.22 2192.54,1439.22 \n",
       "  \"/>\n",
       "<path clip-path=\"url(#clip0400)\" d=\"\n",
       "M1989.74 251.724 L2280.76 251.724 L2280.76 130.764 L1989.74 130.764  Z\n",
       "  \" fill=\"#ffffff\" fill-rule=\"evenodd\" fill-opacity=\"1\"/>\n",
       "<polyline clip-path=\"url(#clip0400)\" style=\"stroke:#000000; stroke-width:4; stroke-opacity:1; fill:none\" points=\"\n",
       "  1989.74,251.724 2280.76,251.724 2280.76,130.764 1989.74,130.764 1989.74,251.724 \n",
       "  \"/>\n",
       "<path clip-path=\"url(#clip0400)\" d=\"\n",
       "M2013.74 215.436 L2157.74 215.436 L2157.74 167.052 L2013.74 167.052 L2013.74 215.436  Z\n",
       "  \" fill=\"#009af9\" fill-rule=\"evenodd\" fill-opacity=\"1\"/>\n",
       "<polyline clip-path=\"url(#clip0400)\" style=\"stroke:#000000; stroke-width:4; stroke-opacity:1; fill:none\" points=\"\n",
       "  2013.74,215.436 2157.74,215.436 2157.74,167.052 2013.74,167.052 2013.74,215.436 \n",
       "  \"/>\n",
       "<path clip-path=\"url(#clip0400)\" d=\"M 0 0 M2195.58 210.931 Q2193.77 215.561 2192.06 216.973 Q2190.35 218.385 2187.48 218.385 L2184.08 218.385 L2184.08 214.82 L2186.58 214.82 Q2188.33 214.82 2189.31 213.987 Q2190.28 213.154 2191.46 210.052 L2192.22 208.107 L2181.74 182.598 L2186.25 182.598 L2194.35 202.876 L2202.46 182.598 L2206.97 182.598 L2195.58 210.931 Z\" fill=\"#000000\" fill-rule=\"evenodd\" fill-opacity=\"1\" /><path clip-path=\"url(#clip0400)\" d=\"M 0 0 M2212.85 204.589 L2220.49 204.589 L2220.49 178.223 L2212.18 179.89 L2212.18 175.631 L2220.44 173.964 L2225.12 173.964 L2225.12 204.589 L2232.76 204.589 L2232.76 208.524 L2212.85 208.524 L2212.85 204.589 Z\" fill=\"#000000\" fill-rule=\"evenodd\" fill-opacity=\"1\" /></svg>\n"
      ]
     },
     "execution_count": 11,
     "metadata": {},
     "output_type": "execute_result"
    }
   ],
   "source": [
    "using Random\n",
    "\n",
    "histogram(randexp(1000))"
   ]
  },
  {
   "cell_type": "code",
   "execution_count": null,
   "metadata": {},
   "outputs": [],
   "source": []
  }
 ],
 "metadata": {
  "@webio": {
   "lastCommId": null,
   "lastKernelId": null
  },
  "kernelspec": {
   "display_name": "Julia 1.4.0",
   "language": "julia",
   "name": "julia-1.4"
  },
  "language_info": {
   "file_extension": ".jl",
   "mimetype": "application/julia",
   "name": "julia",
   "version": "1.4.0"
  }
 },
 "nbformat": 4,
 "nbformat_minor": 4
}
