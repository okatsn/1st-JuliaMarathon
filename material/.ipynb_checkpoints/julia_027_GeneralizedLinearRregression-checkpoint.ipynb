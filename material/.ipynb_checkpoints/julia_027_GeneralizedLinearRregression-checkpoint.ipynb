{
 "cells": [
  {
   "cell_type": "code",
   "execution_count": 6,
   "metadata": {},
   "outputs": [
    {
     "data": {
      "text/html": [
       "<table class=\"data-frame\"><thead><tr><th></th><th>X</th><th>Y</th><th>Z</th></tr><tr><th></th><th>Float64</th><th>Float64</th><th>Float64</th></tr></thead><tbody><p>10 rows × 3 columns</p><tr><th>1</th><td>0.389203</td><td>2.34689</td><td>-0.440957</td></tr><tr><th>2</th><td>0.56465</td><td>-0.221797</td><td>-1.94105</td></tr><tr><th>3</th><td>0.414717</td><td>-1.69326</td><td>-1.10214</td></tr><tr><th>4</th><td>-0.853607</td><td>-0.728896</td><td>0.655548</td></tr><tr><th>5</th><td>-0.0294756</td><td>-0.151353</td><td>1.41474</td></tr><tr><th>6</th><td>1.80554</td><td>0.0292788</td><td>-0.285455</td></tr><tr><th>7</th><td>1.33699</td><td>-0.380223</td><td>0.328522</td></tr><tr><th>8</th><td>1.1036</td><td>-0.111131</td><td>-0.955398</td></tr><tr><th>9</th><td>-0.951919</td><td>-0.155664</td><td>0.183512</td></tr><tr><th>10</th><td>-0.539093</td><td>1.55723</td><td>1.08663</td></tr></tbody></table>"
      ],
      "text/latex": [
       "\\begin{tabular}{r|ccc}\n",
       "\t& X & Y & Z\\\\\n",
       "\t\\hline\n",
       "\t& Float64 & Float64 & Float64\\\\\n",
       "\t\\hline\n",
       "\t1 & 0.389203 & 2.34689 & -0.440957 \\\\\n",
       "\t2 & 0.56465 & -0.221797 & -1.94105 \\\\\n",
       "\t3 & 0.414717 & -1.69326 & -1.10214 \\\\\n",
       "\t4 & -0.853607 & -0.728896 & 0.655548 \\\\\n",
       "\t5 & -0.0294756 & -0.151353 & 1.41474 \\\\\n",
       "\t6 & 1.80554 & 0.0292788 & -0.285455 \\\\\n",
       "\t7 & 1.33699 & -0.380223 & 0.328522 \\\\\n",
       "\t8 & 1.1036 & -0.111131 & -0.955398 \\\\\n",
       "\t9 & -0.951919 & -0.155664 & 0.183512 \\\\\n",
       "\t10 & -0.539093 & 1.55723 & 1.08663 \\\\\n",
       "\\end{tabular}\n"
      ],
      "text/plain": [
       "10×3 DataFrame\n",
       "│ Row │ X          │ Y         │ Z         │\n",
       "│     │ \u001b[90mFloat64\u001b[39m    │ \u001b[90mFloat64\u001b[39m   │ \u001b[90mFloat64\u001b[39m   │\n",
       "├─────┼────────────┼───────────┼───────────┤\n",
       "│ 1   │ 0.389203   │ 2.34689   │ -0.440957 │\n",
       "│ 2   │ 0.56465    │ -0.221797 │ -1.94105  │\n",
       "│ 3   │ 0.414717   │ -1.69326  │ -1.10214  │\n",
       "│ 4   │ -0.853607  │ -0.728896 │ 0.655548  │\n",
       "│ 5   │ -0.0294756 │ -0.151353 │ 1.41474   │\n",
       "│ 6   │ 1.80554    │ 0.0292788 │ -0.285455 │\n",
       "│ 7   │ 1.33699    │ -0.380223 │ 0.328522  │\n",
       "│ 8   │ 1.1036     │ -0.111131 │ -0.955398 │\n",
       "│ 9   │ -0.951919  │ -0.155664 │ 0.183512  │\n",
       "│ 10  │ -0.539093  │ 1.55723   │ 1.08663   │"
      ]
     },
     "execution_count": 6,
     "metadata": {},
     "output_type": "execute_result"
    }
   ],
   "source": [
    "using DataFrames\n",
    "df0 = DataFrame(X = randn(10), Y = randn(10), Z = randn(10))"
   ]
  },
  {
   "cell_type": "code",
   "execution_count": 28,
   "metadata": {},
   "outputs": [
    {
     "data": {
      "text/plain": [
       "10×3 Array{Float64,2}:\n",
       " 1.0   0.389203    2.34689\n",
       " 1.0   0.56465    -0.221797\n",
       " 1.0   0.414717   -1.69326\n",
       " 1.0  -0.853607   -0.728896\n",
       " 1.0  -0.0294756  -0.151353\n",
       " 1.0   1.80554     0.0292788\n",
       " 1.0   1.33699    -0.380223\n",
       " 1.0   1.1036     -0.111131\n",
       " 1.0  -0.951919   -0.155664\n",
       " 1.0  -0.539093    1.55723"
      ]
     },
     "execution_count": 28,
     "metadata": {},
     "output_type": "execute_result"
    }
   ],
   "source": [
    "# model: Z = a*X + b*Y + c\n",
    "mf = ModelFrame(@formula(Z ~ X + Y), df0)\n",
    "mm = ModelMatrix(mf)\n",
    "d = df0.Z; # response\n",
    "G = mm.m # predictors of constant term (G[:,1]), X (G[:,2]), Y(G[:,3]) "
   ]
  },
  {
   "cell_type": "code",
   "execution_count": 49,
   "metadata": {},
   "outputs": [
    {
     "data": {
      "text/plain": [
       "3-element Array{Float64,1}:\n",
       "  0.04265593272317243\n",
       " -0.4825797328490245\n",
       "  0.1654418160874117"
      ]
     },
     "execution_count": 49,
     "metadata": {},
     "output_type": "execute_result"
    }
   ],
   "source": [
    "m = G \\ d # coefficient (That is \"c,a,b\" in c + aX + bY)"
   ]
  },
  {
   "cell_type": "markdown",
   "metadata": {},
   "source": [
    "# Julia 機器學習：GLM 線性迴歸"
   ]
  },
  {
   "cell_type": "markdown",
   "metadata": {},
   "source": [
    "本範例需要使用到的套件有 GLM、RDatasets、MLDataUtils，請在執行以下範例前先安裝。\n",
    "\n",
    "```\n",
    "] add GLM\n",
    "] add RDatasets\n",
    "] add MLDataUtils\n",
    "```"
   ]
  },
  {
   "cell_type": "code",
   "execution_count": 50,
   "metadata": {},
   "outputs": [
    {
     "name": "stderr",
     "output_type": "stream",
     "text": [
      "\u001b[32m\u001b[1m  Resolving\u001b[22m\u001b[39m package versions...\n",
      "\u001b[32m\u001b[1m   Updating\u001b[22m\u001b[39m `C:\\Users\\HSI\\.julia\\environments\\v1.4\\Project.toml`\n",
      "\u001b[90m [no changes]\u001b[39m\n",
      "\u001b[32m\u001b[1m   Updating\u001b[22m\u001b[39m `C:\\Users\\HSI\\.julia\\environments\\v1.4\\Manifest.toml`\n",
      "\u001b[90m [no changes]\u001b[39m\n"
     ]
    }
   ],
   "source": [
    "using Pkg\n",
    "Pkg.add([\"GLM\",\"RDatasets\",\"MLDataUtils\",\"Statistics\"])"
   ]
  },
  {
   "cell_type": "code",
   "execution_count": 3,
   "metadata": {},
   "outputs": [
    {
     "name": "stderr",
     "output_type": "stream",
     "text": [
      "┌ Info: Precompiling GLM [38e38edf-8417-5370-95a0-9cbb8c7f171a]\n",
      "└ @ Base loading.jl:1260\n",
      "┌ Info: Precompiling RDatasets [ce6b1742-4840-55fa-b093-852dadbb1d8b]\n",
      "└ @ Base loading.jl:1260\n",
      "┌ Info: Precompiling MLDataUtils [cc2ba9b6-d476-5e6d-8eaf-a92d5412d41d]\n",
      "└ @ Base loading.jl:1260\n"
     ]
    }
   ],
   "source": [
    "using GLM\n",
    "using RDatasets\n",
    "using MLDataUtils\n",
    "using Statistics"
   ]
  },
  {
   "cell_type": "markdown",
   "metadata": {},
   "source": [
    "## 單純線性迴歸模型示範"
   ]
  },
  {
   "cell_type": "markdown",
   "metadata": {},
   "source": [
    "## 載入資料"
   ]
  },
  {
   "cell_type": "code",
   "execution_count": 4,
   "metadata": {},
   "outputs": [
    {
     "data": {
      "text/html": [
       "<table class=\"data-frame\"><thead><tr><th></th><th>Year</th><th>GNPDeflator</th><th>GNP</th><th>Unemployed</th><th>ArmedForces</th><th>Population</th><th>Year_1</th><th>Employed</th></tr><tr><th></th><th>Int64</th><th>Float64</th><th>Float64</th><th>Float64</th><th>Float64</th><th>Float64</th><th>Int64</th><th>Float64</th></tr></thead><tbody><p>16 rows × 8 columns</p><tr><th>1</th><td>1947</td><td>83.0</td><td>234.289</td><td>235.6</td><td>159.0</td><td>107.608</td><td>1947</td><td>60.323</td></tr><tr><th>2</th><td>1948</td><td>88.5</td><td>259.426</td><td>232.5</td><td>145.6</td><td>108.632</td><td>1948</td><td>61.122</td></tr><tr><th>3</th><td>1949</td><td>88.2</td><td>258.054</td><td>368.2</td><td>161.6</td><td>109.773</td><td>1949</td><td>60.171</td></tr><tr><th>4</th><td>1950</td><td>89.5</td><td>284.599</td><td>335.1</td><td>165.0</td><td>110.929</td><td>1950</td><td>61.187</td></tr><tr><th>5</th><td>1951</td><td>96.2</td><td>328.975</td><td>209.9</td><td>309.9</td><td>112.075</td><td>1951</td><td>63.221</td></tr><tr><th>6</th><td>1952</td><td>98.1</td><td>346.999</td><td>193.2</td><td>359.4</td><td>113.27</td><td>1952</td><td>63.639</td></tr><tr><th>7</th><td>1953</td><td>99.0</td><td>365.385</td><td>187.0</td><td>354.7</td><td>115.094</td><td>1953</td><td>64.989</td></tr><tr><th>8</th><td>1954</td><td>100.0</td><td>363.112</td><td>357.8</td><td>335.0</td><td>116.219</td><td>1954</td><td>63.761</td></tr><tr><th>9</th><td>1955</td><td>101.2</td><td>397.469</td><td>290.4</td><td>304.8</td><td>117.388</td><td>1955</td><td>66.019</td></tr><tr><th>10</th><td>1956</td><td>104.6</td><td>419.18</td><td>282.2</td><td>285.7</td><td>118.734</td><td>1956</td><td>67.857</td></tr><tr><th>11</th><td>1957</td><td>108.4</td><td>442.769</td><td>293.6</td><td>279.8</td><td>120.445</td><td>1957</td><td>68.169</td></tr><tr><th>12</th><td>1958</td><td>110.8</td><td>444.546</td><td>468.1</td><td>263.7</td><td>121.95</td><td>1958</td><td>66.513</td></tr><tr><th>13</th><td>1959</td><td>112.6</td><td>482.704</td><td>381.3</td><td>255.2</td><td>123.366</td><td>1959</td><td>68.655</td></tr><tr><th>14</th><td>1960</td><td>114.2</td><td>502.601</td><td>393.1</td><td>251.4</td><td>125.368</td><td>1960</td><td>69.564</td></tr><tr><th>15</th><td>1961</td><td>115.7</td><td>518.173</td><td>480.6</td><td>257.2</td><td>127.852</td><td>1961</td><td>69.331</td></tr><tr><th>16</th><td>1962</td><td>116.9</td><td>554.894</td><td>400.7</td><td>282.7</td><td>130.081</td><td>1962</td><td>70.551</td></tr></tbody></table>"
      ],
      "text/latex": [
       "\\begin{tabular}{r|cccccccc}\n",
       "\t& Year & GNPDeflator & GNP & Unemployed & ArmedForces & Population & Year\\_1 & Employed\\\\\n",
       "\t\\hline\n",
       "\t& Int64 & Float64 & Float64 & Float64 & Float64 & Float64 & Int64 & Float64\\\\\n",
       "\t\\hline\n",
       "\t1 & 1947 & 83.0 & 234.289 & 235.6 & 159.0 & 107.608 & 1947 & 60.323 \\\\\n",
       "\t2 & 1948 & 88.5 & 259.426 & 232.5 & 145.6 & 108.632 & 1948 & 61.122 \\\\\n",
       "\t3 & 1949 & 88.2 & 258.054 & 368.2 & 161.6 & 109.773 & 1949 & 60.171 \\\\\n",
       "\t4 & 1950 & 89.5 & 284.599 & 335.1 & 165.0 & 110.929 & 1950 & 61.187 \\\\\n",
       "\t5 & 1951 & 96.2 & 328.975 & 209.9 & 309.9 & 112.075 & 1951 & 63.221 \\\\\n",
       "\t6 & 1952 & 98.1 & 346.999 & 193.2 & 359.4 & 113.27 & 1952 & 63.639 \\\\\n",
       "\t7 & 1953 & 99.0 & 365.385 & 187.0 & 354.7 & 115.094 & 1953 & 64.989 \\\\\n",
       "\t8 & 1954 & 100.0 & 363.112 & 357.8 & 335.0 & 116.219 & 1954 & 63.761 \\\\\n",
       "\t9 & 1955 & 101.2 & 397.469 & 290.4 & 304.8 & 117.388 & 1955 & 66.019 \\\\\n",
       "\t10 & 1956 & 104.6 & 419.18 & 282.2 & 285.7 & 118.734 & 1956 & 67.857 \\\\\n",
       "\t11 & 1957 & 108.4 & 442.769 & 293.6 & 279.8 & 120.445 & 1957 & 68.169 \\\\\n",
       "\t12 & 1958 & 110.8 & 444.546 & 468.1 & 263.7 & 121.95 & 1958 & 66.513 \\\\\n",
       "\t13 & 1959 & 112.6 & 482.704 & 381.3 & 255.2 & 123.366 & 1959 & 68.655 \\\\\n",
       "\t14 & 1960 & 114.2 & 502.601 & 393.1 & 251.4 & 125.368 & 1960 & 69.564 \\\\\n",
       "\t15 & 1961 & 115.7 & 518.173 & 480.6 & 257.2 & 127.852 & 1961 & 69.331 \\\\\n",
       "\t16 & 1962 & 116.9 & 554.894 & 400.7 & 282.7 & 130.081 & 1962 & 70.551 \\\\\n",
       "\\end{tabular}\n"
      ],
      "text/plain": [
       "16×8 DataFrame. Omitted printing of 2 columns\n",
       "│ Row │ Year  │ GNPDeflator │ GNP     │ Unemployed │ ArmedForces │ Population │\n",
       "│     │ \u001b[90mInt64\u001b[39m │ \u001b[90mFloat64\u001b[39m     │ \u001b[90mFloat64\u001b[39m │ \u001b[90mFloat64\u001b[39m    │ \u001b[90mFloat64\u001b[39m     │ \u001b[90mFloat64\u001b[39m    │\n",
       "├─────┼───────┼─────────────┼─────────┼────────────┼─────────────┼────────────┤\n",
       "│ 1   │ 1947  │ 83.0        │ 234.289 │ 235.6      │ 159.0       │ 107.608    │\n",
       "│ 2   │ 1948  │ 88.5        │ 259.426 │ 232.5      │ 145.6       │ 108.632    │\n",
       "│ 3   │ 1949  │ 88.2        │ 258.054 │ 368.2      │ 161.6       │ 109.773    │\n",
       "│ 4   │ 1950  │ 89.5        │ 284.599 │ 335.1      │ 165.0       │ 110.929    │\n",
       "│ 5   │ 1951  │ 96.2        │ 328.975 │ 209.9      │ 309.9       │ 112.075    │\n",
       "│ 6   │ 1952  │ 98.1        │ 346.999 │ 193.2      │ 359.4       │ 113.27     │\n",
       "│ 7   │ 1953  │ 99.0        │ 365.385 │ 187.0      │ 354.7       │ 115.094    │\n",
       "│ 8   │ 1954  │ 100.0       │ 363.112 │ 357.8      │ 335.0       │ 116.219    │\n",
       "│ 9   │ 1955  │ 101.2       │ 397.469 │ 290.4      │ 304.8       │ 117.388    │\n",
       "│ 10  │ 1956  │ 104.6       │ 419.18  │ 282.2      │ 285.7       │ 118.734    │\n",
       "│ 11  │ 1957  │ 108.4       │ 442.769 │ 293.6      │ 279.8       │ 120.445    │\n",
       "│ 12  │ 1958  │ 110.8       │ 444.546 │ 468.1      │ 263.7       │ 121.95     │\n",
       "│ 13  │ 1959  │ 112.6       │ 482.704 │ 381.3      │ 255.2       │ 123.366    │\n",
       "│ 14  │ 1960  │ 114.2       │ 502.601 │ 393.1      │ 251.4       │ 125.368    │\n",
       "│ 15  │ 1961  │ 115.7       │ 518.173 │ 480.6      │ 257.2       │ 127.852    │\n",
       "│ 16  │ 1962  │ 116.9       │ 554.894 │ 400.7      │ 282.7       │ 130.081    │"
      ]
     },
     "execution_count": 4,
     "metadata": {},
     "output_type": "execute_result"
    }
   ],
   "source": [
    "data = RDatasets.dataset(\"datasets\", \"longley\")"
   ]
  },
  {
   "cell_type": "markdown",
   "metadata": {},
   "source": [
    "## 線性迴歸模型"
   ]
  },
  {
   "cell_type": "code",
   "execution_count": 35,
   "metadata": {},
   "outputs": [
    {
     "data": {
      "text/plain": [
       "StatsModels.TableRegressionModel{LinearModel{GLM.LmResp{Array{Float64,1}},GLM.DensePredChol{Float64,LinearAlgebra.Cholesky{Float64,Array{Float64,2}}}},Array{Float64,2}}\n",
       "\n",
       "Employed ~ 1 + GNP\n",
       "\n",
       "Coefficients:\n",
       "──────────────────────────────────────────────────────────────────────────────\n",
       "               Estimate  Std. Error  t value  Pr(>|t|)   Lower 95%   Upper 95%\n",
       "──────────────────────────────────────────────────────────────────────────────\n",
       "(Intercept)  51.8436     0.681372    76.0871    <1e-19  50.3822     53.305\n",
       "GNP           0.0347523  0.00170571  20.3741    <1e-11   0.0310939   0.0384107\n",
       "──────────────────────────────────────────────────────────────────────────────"
      ]
     },
     "execution_count": 35,
     "metadata": {},
     "output_type": "execute_result"
    }
   ],
   "source": [
    "# model:  Employed (response) ~ a*GNP(predictor) + b\n",
    "model = GLM.lm(@formula(Employed ~ GNP), data)"
   ]
  },
  {
   "cell_type": "code",
   "execution_count": 36,
   "metadata": {},
   "outputs": [
    {
     "data": {
      "text/plain": [
       "2-element Array{Float64,1}:\n",
       " 51.84358978188421\n",
       "  0.03475229434762888"
      ]
     },
     "execution_count": 36,
     "metadata": {},
     "output_type": "execute_result"
    }
   ],
   "source": [
    "intercept, slope = coef(model) \n",
    "# find coefficient (i.e. b,a in Employed = b + a*GNP)"
   ]
  },
  {
   "cell_type": "markdown",
   "metadata": {},
   "source": [
    "## 預測"
   ]
  },
  {
   "cell_type": "code",
   "execution_count": 51,
   "metadata": {},
   "outputs": [
    {
     "data": {
      "text/html": [
       "<table class=\"data-frame\"><thead><tr><th></th><th>GNP</th></tr><tr><th></th><th>Float64</th></tr></thead><tbody><p>3 rows × 1 columns</p><tr><th>1</th><td>300.0</td></tr><tr><th>2</th><td>400.0</td></tr><tr><th>3</th><td>500.0</td></tr></tbody></table>"
      ],
      "text/latex": [
       "\\begin{tabular}{r|c}\n",
       "\t& GNP\\\\\n",
       "\t\\hline\n",
       "\t& Float64\\\\\n",
       "\t\\hline\n",
       "\t1 & 300.0 \\\\\n",
       "\t2 & 400.0 \\\\\n",
       "\t3 & 500.0 \\\\\n",
       "\\end{tabular}\n"
      ],
      "text/plain": [
       "3×1 DataFrame\n",
       "│ Row │ GNP     │\n",
       "│     │ \u001b[90mFloat64\u001b[39m │\n",
       "├─────┼─────────┤\n",
       "│ 1   │ 300.0   │\n",
       "│ 2   │ 400.0   │\n",
       "│ 3   │ 500.0   │"
      ]
     },
     "execution_count": 51,
     "metadata": {},
     "output_type": "execute_result"
    }
   ],
   "source": [
    "new_X = DataFrame(GNP=[300., 400., 500.]) # a new predictor for X"
   ]
  },
  {
   "cell_type": "code",
   "execution_count": 46,
   "metadata": {},
   "outputs": [
    {
     "data": {
      "text/plain": [
       "3-element Array{Union{Missing, Float64},1}:\n",
       " 62.269278086172875\n",
       " 65.74450752093577\n",
       " 69.21973695569865"
      ]
     },
     "execution_count": 46,
     "metadata": {},
     "output_type": "execute_result"
    }
   ],
   "source": [
    "predict(model, new_X)# model are parameters"
   ]
  },
  {
   "cell_type": "markdown",
   "metadata": {},
   "source": [
    "## 模型評估"
   ]
  },
  {
   "cell_type": "code",
   "execution_count": 47,
   "metadata": {},
   "outputs": [
    {
     "data": {
      "text/plain": [
       "0.9673737718541232"
      ]
     },
     "execution_count": 47,
     "metadata": {},
     "output_type": "execute_result"
    }
   ],
   "source": [
    "GLM.r2(model) # rsquare of model. higher, fits better."
   ]
  },
  {
   "cell_type": "code",
   "execution_count": 48,
   "metadata": {},
   "outputs": [
    {
     "data": {
      "text/plain": [
       "0.9650433269865606"
      ]
     },
     "execution_count": 48,
     "metadata": {},
     "output_type": "execute_result"
    }
   ],
   "source": [
    "GLM.adjr2(model)"
   ]
  },
  {
   "cell_type": "markdown",
   "metadata": {},
   "source": [
    "## 多元線性迴歸模型"
   ]
  },
  {
   "cell_type": "markdown",
   "metadata": {},
   "source": [
    "## 載入資料"
   ]
  },
  {
   "cell_type": "code",
   "execution_count": 52,
   "metadata": {},
   "outputs": [
    {
     "data": {
      "text/html": [
       "<table class=\"data-frame\"><thead><tr><th></th><th>Model</th><th>MPG</th><th>Cyl</th><th>Disp</th><th>HP</th><th>DRat</th><th>WT</th><th>QSec</th><th>VS</th></tr><tr><th></th><th>String</th><th>Float64</th><th>Int64</th><th>Float64</th><th>Int64</th><th>Float64</th><th>Float64</th><th>Float64</th><th>Int64</th></tr></thead><tbody><p>6 rows × 12 columns (omitted printing of 3 columns)</p><tr><th>1</th><td>Mazda RX4</td><td>21.0</td><td>6</td><td>160.0</td><td>110</td><td>3.9</td><td>2.62</td><td>16.46</td><td>0</td></tr><tr><th>2</th><td>Mazda RX4 Wag</td><td>21.0</td><td>6</td><td>160.0</td><td>110</td><td>3.9</td><td>2.875</td><td>17.02</td><td>0</td></tr><tr><th>3</th><td>Datsun 710</td><td>22.8</td><td>4</td><td>108.0</td><td>93</td><td>3.85</td><td>2.32</td><td>18.61</td><td>1</td></tr><tr><th>4</th><td>Hornet 4 Drive</td><td>21.4</td><td>6</td><td>258.0</td><td>110</td><td>3.08</td><td>3.215</td><td>19.44</td><td>1</td></tr><tr><th>5</th><td>Hornet Sportabout</td><td>18.7</td><td>8</td><td>360.0</td><td>175</td><td>3.15</td><td>3.44</td><td>17.02</td><td>0</td></tr><tr><th>6</th><td>Valiant</td><td>18.1</td><td>6</td><td>225.0</td><td>105</td><td>2.76</td><td>3.46</td><td>20.22</td><td>1</td></tr></tbody></table>"
      ],
      "text/latex": [
       "\\begin{tabular}{r|cccccccccc}\n",
       "\t& Model & MPG & Cyl & Disp & HP & DRat & WT & QSec & VS & \\\\\n",
       "\t\\hline\n",
       "\t& String & Float64 & Int64 & Float64 & Int64 & Float64 & Float64 & Float64 & Int64 & \\\\\n",
       "\t\\hline\n",
       "\t1 & Mazda RX4 & 21.0 & 6 & 160.0 & 110 & 3.9 & 2.62 & 16.46 & 0 & $\\dots$ \\\\\n",
       "\t2 & Mazda RX4 Wag & 21.0 & 6 & 160.0 & 110 & 3.9 & 2.875 & 17.02 & 0 & $\\dots$ \\\\\n",
       "\t3 & Datsun 710 & 22.8 & 4 & 108.0 & 93 & 3.85 & 2.32 & 18.61 & 1 & $\\dots$ \\\\\n",
       "\t4 & Hornet 4 Drive & 21.4 & 6 & 258.0 & 110 & 3.08 & 3.215 & 19.44 & 1 & $\\dots$ \\\\\n",
       "\t5 & Hornet Sportabout & 18.7 & 8 & 360.0 & 175 & 3.15 & 3.44 & 17.02 & 0 & $\\dots$ \\\\\n",
       "\t6 & Valiant & 18.1 & 6 & 225.0 & 105 & 2.76 & 3.46 & 20.22 & 1 & $\\dots$ \\\\\n",
       "\\end{tabular}\n"
      ],
      "text/plain": [
       "6×12 DataFrame. Omitted printing of 6 columns\n",
       "│ Row │ Model             │ MPG     │ Cyl   │ Disp    │ HP    │ DRat    │\n",
       "│     │ \u001b[90mString\u001b[39m            │ \u001b[90mFloat64\u001b[39m │ \u001b[90mInt64\u001b[39m │ \u001b[90mFloat64\u001b[39m │ \u001b[90mInt64\u001b[39m │ \u001b[90mFloat64\u001b[39m │\n",
       "├─────┼───────────────────┼─────────┼───────┼─────────┼───────┼─────────┤\n",
       "│ 1   │ Mazda RX4         │ 21.0    │ 6     │ 160.0   │ 110   │ 3.9     │\n",
       "│ 2   │ Mazda RX4 Wag     │ 21.0    │ 6     │ 160.0   │ 110   │ 3.9     │\n",
       "│ 3   │ Datsun 710        │ 22.8    │ 4     │ 108.0   │ 93    │ 3.85    │\n",
       "│ 4   │ Hornet 4 Drive    │ 21.4    │ 6     │ 258.0   │ 110   │ 3.08    │\n",
       "│ 5   │ Hornet Sportabout │ 18.7    │ 8     │ 360.0   │ 175   │ 3.15    │\n",
       "│ 6   │ Valiant           │ 18.1    │ 6     │ 225.0   │ 105   │ 2.76    │"
      ]
     },
     "execution_count": 52,
     "metadata": {},
     "output_type": "execute_result"
    }
   ],
   "source": [
    "data = RDatasets.dataset(\"datasets\", \"mtcars\")\n",
    "first(data, 6)"
   ]
  },
  {
   "cell_type": "markdown",
   "metadata": {},
   "source": [
    "## 切分訓練資料及測試資料"
   ]
  },
  {
   "cell_type": "markdown",
   "metadata": {},
   "source": [
    "- `train, test = splitobs(X, at = 0.7)`: Split data into train/test subsets. at 0.7 means 70% of data are used for training; 30%, for validation.\n",
    "- `nrow(data)` number of rows"
   ]
  },
  {
   "cell_type": "code",
   "execution_count": 54,
   "metadata": {},
   "outputs": [
    {
     "data": {
      "text/plain": [
       "10-element view(::Array{Int64,1}, [3, 8, 4, 10, 1, 5, 2, 7, 9, 6]) with eltype Int64:\n",
       "  3\n",
       "  8\n",
       "  4\n",
       " 10\n",
       "  1\n",
       "  5\n",
       "  2\n",
       "  7\n",
       "  9\n",
       "  6"
      ]
     },
     "execution_count": 54,
     "metadata": {},
     "output_type": "execute_result"
    }
   ],
   "source": [
    "MLDataUtils.shuffleobs(collect(1:10))"
   ]
  },
  {
   "cell_type": "code",
   "execution_count": 55,
   "metadata": {},
   "outputs": [],
   "source": [
    "# using MLDataUtils\n",
    "indecies = MLDataUtils.shuffleobs(collect(1:nrow(data)))\n",
    "train_ind, test_ind = MLDataUtils.splitobs(indecies, at = 0.8);"
   ]
  },
  {
   "cell_type": "code",
   "execution_count": 56,
   "metadata": {},
   "outputs": [
    {
     "data": {
      "text/html": [
       "<table class=\"data-frame\"><thead><tr><th></th><th>Model</th><th>MPG</th><th>Cyl</th><th>Disp</th><th>HP</th><th>DRat</th><th>WT</th><th>QSec</th><th>VS</th></tr><tr><th></th><th>String</th><th>Float64</th><th>Int64</th><th>Float64</th><th>Int64</th><th>Float64</th><th>Float64</th><th>Float64</th><th>Int64</th></tr></thead><tbody><p>6 rows × 12 columns (omitted printing of 3 columns)</p><tr><th>1</th><td>Valiant</td><td>18.1</td><td>6</td><td>225.0</td><td>105</td><td>2.76</td><td>3.46</td><td>20.22</td><td>1</td></tr><tr><th>2</th><td>Hornet Sportabout</td><td>18.7</td><td>8</td><td>360.0</td><td>175</td><td>3.15</td><td>3.44</td><td>17.02</td><td>0</td></tr><tr><th>3</th><td>Lotus Europa</td><td>30.4</td><td>4</td><td>95.1</td><td>113</td><td>3.77</td><td>1.513</td><td>16.9</td><td>1</td></tr><tr><th>4</th><td>Fiat 128</td><td>32.4</td><td>4</td><td>78.7</td><td>66</td><td>4.08</td><td>2.2</td><td>19.47</td><td>1</td></tr><tr><th>5</th><td>Merc 450SL</td><td>17.3</td><td>8</td><td>275.8</td><td>180</td><td>3.07</td><td>3.73</td><td>17.6</td><td>0</td></tr><tr><th>6</th><td>Honda Civic</td><td>30.4</td><td>4</td><td>75.7</td><td>52</td><td>4.93</td><td>1.615</td><td>18.52</td><td>1</td></tr></tbody></table>"
      ],
      "text/latex": [
       "\\begin{tabular}{r|cccccccccc}\n",
       "\t& Model & MPG & Cyl & Disp & HP & DRat & WT & QSec & VS & \\\\\n",
       "\t\\hline\n",
       "\t& String & Float64 & Int64 & Float64 & Int64 & Float64 & Float64 & Float64 & Int64 & \\\\\n",
       "\t\\hline\n",
       "\t1 & Valiant & 18.1 & 6 & 225.0 & 105 & 2.76 & 3.46 & 20.22 & 1 & $\\dots$ \\\\\n",
       "\t2 & Hornet Sportabout & 18.7 & 8 & 360.0 & 175 & 3.15 & 3.44 & 17.02 & 0 & $\\dots$ \\\\\n",
       "\t3 & Lotus Europa & 30.4 & 4 & 95.1 & 113 & 3.77 & 1.513 & 16.9 & 1 & $\\dots$ \\\\\n",
       "\t4 & Fiat 128 & 32.4 & 4 & 78.7 & 66 & 4.08 & 2.2 & 19.47 & 1 & $\\dots$ \\\\\n",
       "\t5 & Merc 450SL & 17.3 & 8 & 275.8 & 180 & 3.07 & 3.73 & 17.6 & 0 & $\\dots$ \\\\\n",
       "\t6 & Honda Civic & 30.4 & 4 & 75.7 & 52 & 4.93 & 1.615 & 18.52 & 1 & $\\dots$ \\\\\n",
       "\\end{tabular}\n"
      ],
      "text/plain": [
       "6×12 DataFrame. Omitted printing of 6 columns\n",
       "│ Row │ Model             │ MPG     │ Cyl   │ Disp    │ HP    │ DRat    │\n",
       "│     │ \u001b[90mString\u001b[39m            │ \u001b[90mFloat64\u001b[39m │ \u001b[90mInt64\u001b[39m │ \u001b[90mFloat64\u001b[39m │ \u001b[90mInt64\u001b[39m │ \u001b[90mFloat64\u001b[39m │\n",
       "├─────┼───────────────────┼─────────┼───────┼─────────┼───────┼─────────┤\n",
       "│ 1   │ Valiant           │ 18.1    │ 6     │ 225.0   │ 105   │ 2.76    │\n",
       "│ 2   │ Hornet Sportabout │ 18.7    │ 8     │ 360.0   │ 175   │ 3.15    │\n",
       "│ 3   │ Lotus Europa      │ 30.4    │ 4     │ 95.1    │ 113   │ 3.77    │\n",
       "│ 4   │ Fiat 128          │ 32.4    │ 4     │ 78.7    │ 66    │ 4.08    │\n",
       "│ 5   │ Merc 450SL        │ 17.3    │ 8     │ 275.8   │ 180   │ 3.07    │\n",
       "│ 6   │ Honda Civic       │ 30.4    │ 4     │ 75.7    │ 52    │ 4.93    │"
      ]
     },
     "execution_count": 56,
     "metadata": {},
     "output_type": "execute_result"
    }
   ],
   "source": [
    "train = data[train_ind, :]\n",
    "test = data[test_ind, :]"
   ]
  },
  {
   "cell_type": "markdown",
   "metadata": {},
   "source": [
    "## 線性迴歸模型"
   ]
  },
  {
   "cell_type": "code",
   "execution_count": 57,
   "metadata": {},
   "outputs": [
    {
     "data": {
      "text/plain": [
       "StatsModels.TableRegressionModel{LinearModel{GLM.LmResp{Array{Float64,1}},GLM.DensePredChol{Float64,LinearAlgebra.Cholesky{Float64,Array{Float64,2}}}},Array{Float64,2}}\n",
       "\n",
       "MPG ~ 1 + Cyl + Disp + HP + DRat + WT + QSec + VS + AM + Gear + Carb\n",
       "\n",
       "Coefficients:\n",
       "──────────────────────────────────────────────────────────────────────────────────\n",
       "               Estimate  Std. Error     t value  Pr(>|t|)    Lower 95%   Upper 95%\n",
       "──────────────────────────────────────────────────────────────────────────────────\n",
       "(Intercept)  10.2563     19.9573      0.51391      0.6148  -32.2818     52.7943\n",
       "Cyl          -0.188639    1.08727    -0.173497     0.8646   -2.5061      2.12882\n",
       "Disp          0.010952    0.0210366   0.520615     0.6102   -0.0338865   0.0557905\n",
       "HP           -0.0209598   0.0235468  -0.890135     0.3874   -0.0711486   0.029229\n",
       "DRat          0.782688    2.27135     0.344592     0.7352   -4.05857     5.62395\n",
       "WT           -3.26929     2.14867    -1.52154      0.1489   -7.84906     1.31049\n",
       "QSec          0.912095    0.754753    1.20847      0.2456   -0.696623    2.52081\n",
       "VS           -0.205381    2.24691    -0.0914062    0.9284   -4.99455     4.58379\n",
       "AM            2.07493     2.15451     0.963066     0.3508   -2.5173      6.66717\n",
       "Gear          0.539265    1.68668     0.31972      0.7536   -3.05581     4.13434\n",
       "Carb         -0.0619807   0.926363   -0.0669076    0.9475   -2.03648     1.91252\n",
       "──────────────────────────────────────────────────────────────────────────────────"
      ]
     },
     "execution_count": 57,
     "metadata": {},
     "output_type": "execute_result"
    }
   ],
   "source": [
    "formula1 = @formula(MPG ~ Cyl + Disp + HP + DRat + WT + QSec + VS + AM + Gear + Carb)\n",
    "ols = GLM.lm(formula1, train)"
   ]
  },
  {
   "cell_type": "markdown",
   "metadata": {},
   "source": [
    "## 預測"
   ]
  },
  {
   "cell_type": "code",
   "execution_count": 13,
   "metadata": {},
   "outputs": [
    {
     "data": {
      "text/plain": [
       "6-element Array{Union{Missing, Float64},1}:\n",
       "  8.496598093805257\n",
       "  9.030992773507528\n",
       " 18.621382867454177\n",
       " 18.027041085959784\n",
       " 30.587331103734062\n",
       " 26.97025204036086"
      ]
     },
     "execution_count": 13,
     "metadata": {},
     "output_type": "execute_result"
    }
   ],
   "source": [
    "predict(ols, test)"
   ]
  },
  {
   "cell_type": "markdown",
   "metadata": {},
   "source": [
    "## 模型評估"
   ]
  },
  {
   "cell_type": "code",
   "execution_count": 14,
   "metadata": {},
   "outputs": [
    {
     "data": {
      "text/plain": [
       "0.8648482400356198"
      ]
     },
     "execution_count": 14,
     "metadata": {},
     "output_type": "execute_result"
    }
   ],
   "source": [
    "GLM.r²(ols)"
   ]
  },
  {
   "cell_type": "code",
   "execution_count": 15,
   "metadata": {},
   "outputs": [
    {
     "data": {
      "text/plain": [
       "0.774747066726033"
      ]
     },
     "execution_count": 15,
     "metadata": {},
     "output_type": "execute_result"
    }
   ],
   "source": [
    "GLM.adjr²(ols)"
   ]
  },
  {
   "cell_type": "markdown",
   "metadata": {},
   "source": [
    "## 羅吉斯迴歸模型示範"
   ]
  },
  {
   "cell_type": "markdown",
   "metadata": {},
   "source": [
    "## 載入資料"
   ]
  },
  {
   "cell_type": "code",
   "execution_count": 60,
   "metadata": {},
   "outputs": [
    {
     "data": {
      "text/html": [
       "<table class=\"data-frame\"><thead><tr><th></th><th>Default</th><th>Student</th><th>Balance</th><th>Income</th></tr><tr><th></th><th>Categorical…</th><th>Categorical…</th><th>Float64</th><th>Float64</th></tr></thead><tbody><p>6 rows × 4 columns</p><tr><th>1</th><td>No</td><td>No</td><td>729.526</td><td>44361.6</td></tr><tr><th>2</th><td>No</td><td>Yes</td><td>817.18</td><td>12106.1</td></tr><tr><th>3</th><td>No</td><td>No</td><td>1073.55</td><td>31767.1</td></tr><tr><th>4</th><td>No</td><td>No</td><td>529.251</td><td>35704.5</td></tr><tr><th>5</th><td>No</td><td>No</td><td>785.656</td><td>38463.5</td></tr><tr><th>6</th><td>No</td><td>Yes</td><td>919.589</td><td>7491.56</td></tr></tbody></table>"
      ],
      "text/latex": [
       "\\begin{tabular}{r|cccc}\n",
       "\t& Default & Student & Balance & Income\\\\\n",
       "\t\\hline\n",
       "\t& Categorical… & Categorical… & Float64 & Float64\\\\\n",
       "\t\\hline\n",
       "\t1 & No & No & 729.526 & 44361.6 \\\\\n",
       "\t2 & No & Yes & 817.18 & 12106.1 \\\\\n",
       "\t3 & No & No & 1073.55 & 31767.1 \\\\\n",
       "\t4 & No & No & 529.251 & 35704.5 \\\\\n",
       "\t5 & No & No & 785.656 & 38463.5 \\\\\n",
       "\t6 & No & Yes & 919.589 & 7491.56 \\\\\n",
       "\\end{tabular}\n"
      ],
      "text/plain": [
       "6×4 DataFrame\n",
       "│ Row │ Default      │ Student      │ Balance │ Income  │\n",
       "│     │ \u001b[90mCategorical…\u001b[39m │ \u001b[90mCategorical…\u001b[39m │ \u001b[90mFloat64\u001b[39m │ \u001b[90mFloat64\u001b[39m │\n",
       "├─────┼──────────────┼──────────────┼─────────┼─────────┤\n",
       "│ 1   │ No           │ No           │ 729.526 │ 44361.6 │\n",
       "│ 2   │ No           │ Yes          │ 817.18  │ 12106.1 │\n",
       "│ 3   │ No           │ No           │ 1073.55 │ 31767.1 │\n",
       "│ 4   │ No           │ No           │ 529.251 │ 35704.5 │\n",
       "│ 5   │ No           │ No           │ 785.656 │ 38463.5 │\n",
       "│ 6   │ No           │ Yes          │ 919.589 │ 7491.56 │"
      ]
     },
     "execution_count": 60,
     "metadata": {},
     "output_type": "execute_result"
    }
   ],
   "source": [
    "data = RDatasets.dataset(\"ISLR\", \"Default\")\n",
    "first(data, 6)"
   ]
  },
  {
   "cell_type": "markdown",
   "metadata": {},
   "source": [
    "## 前處理"
   ]
  },
  {
   "cell_type": "code",
   "execution_count": 61,
   "metadata": {},
   "outputs": [
    {
     "data": {
      "text/html": [
       "<table class=\"data-frame\"><thead><tr><th></th><th>Default</th><th>Student</th><th>Balance</th><th>Income</th><th>DefaultNum</th><th>StudentNum</th></tr><tr><th></th><th>Categorical…</th><th>Categorical…</th><th>Float64</th><th>Float64</th><th>Float64</th><th>Float64</th></tr></thead><tbody><p>6 rows × 6 columns</p><tr><th>1</th><td>No</td><td>No</td><td>729.526</td><td>44361.6</td><td>0.0</td><td>0.0</td></tr><tr><th>2</th><td>No</td><td>Yes</td><td>817.18</td><td>12106.1</td><td>0.0</td><td>1.0</td></tr><tr><th>3</th><td>No</td><td>No</td><td>1073.55</td><td>31767.1</td><td>0.0</td><td>0.0</td></tr><tr><th>4</th><td>No</td><td>No</td><td>529.251</td><td>35704.5</td><td>0.0</td><td>0.0</td></tr><tr><th>5</th><td>No</td><td>No</td><td>785.656</td><td>38463.5</td><td>0.0</td><td>0.0</td></tr><tr><th>6</th><td>No</td><td>Yes</td><td>919.589</td><td>7491.56</td><td>0.0</td><td>1.0</td></tr></tbody></table>"
      ],
      "text/latex": [
       "\\begin{tabular}{r|cccccc}\n",
       "\t& Default & Student & Balance & Income & DefaultNum & StudentNum\\\\\n",
       "\t\\hline\n",
       "\t& Categorical… & Categorical… & Float64 & Float64 & Float64 & Float64\\\\\n",
       "\t\\hline\n",
       "\t1 & No & No & 729.526 & 44361.6 & 0.0 & 0.0 \\\\\n",
       "\t2 & No & Yes & 817.18 & 12106.1 & 0.0 & 1.0 \\\\\n",
       "\t3 & No & No & 1073.55 & 31767.1 & 0.0 & 0.0 \\\\\n",
       "\t4 & No & No & 529.251 & 35704.5 & 0.0 & 0.0 \\\\\n",
       "\t5 & No & No & 785.656 & 38463.5 & 0.0 & 0.0 \\\\\n",
       "\t6 & No & Yes & 919.589 & 7491.56 & 0.0 & 1.0 \\\\\n",
       "\\end{tabular}\n"
      ],
      "text/plain": [
       "6×6 DataFrame. Omitted printing of 1 columns\n",
       "│ Row │ Default      │ Student      │ Balance │ Income  │ DefaultNum │\n",
       "│     │ \u001b[90mCategorical…\u001b[39m │ \u001b[90mCategorical…\u001b[39m │ \u001b[90mFloat64\u001b[39m │ \u001b[90mFloat64\u001b[39m │ \u001b[90mFloat64\u001b[39m    │\n",
       "├─────┼──────────────┼──────────────┼─────────┼─────────┼────────────┤\n",
       "│ 1   │ No           │ No           │ 729.526 │ 44361.6 │ 0.0        │\n",
       "│ 2   │ No           │ Yes          │ 817.18  │ 12106.1 │ 0.0        │\n",
       "│ 3   │ No           │ No           │ 1073.55 │ 31767.1 │ 0.0        │\n",
       "│ 4   │ No           │ No           │ 529.251 │ 35704.5 │ 0.0        │\n",
       "│ 5   │ No           │ No           │ 785.656 │ 38463.5 │ 0.0        │\n",
       "│ 6   │ No           │ Yes          │ 919.589 │ 7491.56 │ 0.0        │"
      ]
     },
     "execution_count": 61,
     "metadata": {},
     "output_type": "execute_result"
    }
   ],
   "source": [
    "isyes(x) = x == \"Yes\" ? 1.0 : 0.0\n",
    "\n",
    "data[!, :DefaultNum] = isyes.(data[!, :Default])\n",
    "data[!, :StudentNum] = isyes.(data[!, :Student])\n",
    "first(data, 6)"
   ]
  },
  {
   "cell_type": "markdown",
   "metadata": {},
   "source": [
    "## 切分訓練資料及測試資料"
   ]
  },
  {
   "cell_type": "code",
   "execution_count": 62,
   "metadata": {},
   "outputs": [],
   "source": [
    "indecies = MLDataUtils.shuffleobs(collect(1:nrow(data)))\n",
    "train_ind, test_ind = MLDataUtils.splitobs(indecies, at=0.8);"
   ]
  },
  {
   "cell_type": "code",
   "execution_count": 63,
   "metadata": {},
   "outputs": [
    {
     "data": {
      "text/html": [
       "<table class=\"data-frame\"><thead><tr><th></th><th>Default</th><th>Student</th><th>Balance</th><th>Income</th><th>DefaultNum</th><th>StudentNum</th></tr><tr><th></th><th>Categorical…</th><th>Categorical…</th><th>Float64</th><th>Float64</th><th>Float64</th><th>Float64</th></tr></thead><tbody><p>2,000 rows × 6 columns</p><tr><th>1</th><td>No</td><td>No</td><td>1175.19</td><td>50921.3</td><td>0.0</td><td>0.0</td></tr><tr><th>2</th><td>No</td><td>No</td><td>956.151</td><td>44086.7</td><td>0.0</td><td>0.0</td></tr><tr><th>3</th><td>No</td><td>Yes</td><td>1334.78</td><td>20468.4</td><td>0.0</td><td>1.0</td></tr><tr><th>4</th><td>No</td><td>No</td><td>217.362</td><td>45083.1</td><td>0.0</td><td>0.0</td></tr><tr><th>5</th><td>No</td><td>No</td><td>291.409</td><td>54408.8</td><td>0.0</td><td>0.0</td></tr><tr><th>6</th><td>No</td><td>Yes</td><td>940.435</td><td>18939.8</td><td>0.0</td><td>1.0</td></tr><tr><th>7</th><td>No</td><td>No</td><td>0.0</td><td>22535.5</td><td>0.0</td><td>0.0</td></tr><tr><th>8</th><td>No</td><td>No</td><td>560.968</td><td>43254.7</td><td>0.0</td><td>0.0</td></tr><tr><th>9</th><td>No</td><td>No</td><td>313.805</td><td>37720.8</td><td>0.0</td><td>0.0</td></tr><tr><th>10</th><td>No</td><td>Yes</td><td>914.108</td><td>19053.0</td><td>0.0</td><td>1.0</td></tr><tr><th>11</th><td>No</td><td>No</td><td>1152.55</td><td>27346.0</td><td>0.0</td><td>0.0</td></tr><tr><th>12</th><td>No</td><td>Yes</td><td>1082.75</td><td>26096.3</td><td>0.0</td><td>1.0</td></tr><tr><th>13</th><td>No</td><td>No</td><td>1068.58</td><td>26315.0</td><td>0.0</td><td>0.0</td></tr><tr><th>14</th><td>No</td><td>No</td><td>888.643</td><td>19942.6</td><td>0.0</td><td>0.0</td></tr><tr><th>15</th><td>No</td><td>No</td><td>890.15</td><td>38350.3</td><td>0.0</td><td>0.0</td></tr><tr><th>16</th><td>No</td><td>No</td><td>659.04</td><td>47942.2</td><td>0.0</td><td>0.0</td></tr><tr><th>17</th><td>No</td><td>No</td><td>952.335</td><td>44864.2</td><td>0.0</td><td>0.0</td></tr><tr><th>18</th><td>No</td><td>Yes</td><td>847.819</td><td>15978.6</td><td>0.0</td><td>1.0</td></tr><tr><th>19</th><td>No</td><td>No</td><td>206.821</td><td>49221.1</td><td>0.0</td><td>0.0</td></tr><tr><th>20</th><td>No</td><td>No</td><td>1100.97</td><td>50237.3</td><td>0.0</td><td>0.0</td></tr><tr><th>21</th><td>No</td><td>No</td><td>718.987</td><td>21044.7</td><td>0.0</td><td>0.0</td></tr><tr><th>22</th><td>No</td><td>No</td><td>113.571</td><td>32803.8</td><td>0.0</td><td>0.0</td></tr><tr><th>23</th><td>No</td><td>Yes</td><td>719.554</td><td>17195.7</td><td>0.0</td><td>1.0</td></tr><tr><th>24</th><td>No</td><td>No</td><td>837.413</td><td>37400.5</td><td>0.0</td><td>0.0</td></tr><tr><th>25</th><td>No</td><td>Yes</td><td>886.059</td><td>10378.6</td><td>0.0</td><td>1.0</td></tr><tr><th>26</th><td>No</td><td>Yes</td><td>963.188</td><td>12799.5</td><td>0.0</td><td>1.0</td></tr><tr><th>27</th><td>No</td><td>No</td><td>1112.11</td><td>29229.5</td><td>0.0</td><td>0.0</td></tr><tr><th>28</th><td>No</td><td>Yes</td><td>1277.89</td><td>20649.9</td><td>0.0</td><td>1.0</td></tr><tr><th>29</th><td>No</td><td>No</td><td>132.081</td><td>51694.7</td><td>0.0</td><td>0.0</td></tr><tr><th>30</th><td>No</td><td>Yes</td><td>1149.68</td><td>16907.7</td><td>0.0</td><td>1.0</td></tr><tr><th>&vellip;</th><td>&vellip;</td><td>&vellip;</td><td>&vellip;</td><td>&vellip;</td><td>&vellip;</td><td>&vellip;</td></tr></tbody></table>"
      ],
      "text/latex": [
       "\\begin{tabular}{r|cccccc}\n",
       "\t& Default & Student & Balance & Income & DefaultNum & StudentNum\\\\\n",
       "\t\\hline\n",
       "\t& Categorical… & Categorical… & Float64 & Float64 & Float64 & Float64\\\\\n",
       "\t\\hline\n",
       "\t1 & No & No & 1175.19 & 50921.3 & 0.0 & 0.0 \\\\\n",
       "\t2 & No & No & 956.151 & 44086.7 & 0.0 & 0.0 \\\\\n",
       "\t3 & No & Yes & 1334.78 & 20468.4 & 0.0 & 1.0 \\\\\n",
       "\t4 & No & No & 217.362 & 45083.1 & 0.0 & 0.0 \\\\\n",
       "\t5 & No & No & 291.409 & 54408.8 & 0.0 & 0.0 \\\\\n",
       "\t6 & No & Yes & 940.435 & 18939.8 & 0.0 & 1.0 \\\\\n",
       "\t7 & No & No & 0.0 & 22535.5 & 0.0 & 0.0 \\\\\n",
       "\t8 & No & No & 560.968 & 43254.7 & 0.0 & 0.0 \\\\\n",
       "\t9 & No & No & 313.805 & 37720.8 & 0.0 & 0.0 \\\\\n",
       "\t10 & No & Yes & 914.108 & 19053.0 & 0.0 & 1.0 \\\\\n",
       "\t11 & No & No & 1152.55 & 27346.0 & 0.0 & 0.0 \\\\\n",
       "\t12 & No & Yes & 1082.75 & 26096.3 & 0.0 & 1.0 \\\\\n",
       "\t13 & No & No & 1068.58 & 26315.0 & 0.0 & 0.0 \\\\\n",
       "\t14 & No & No & 888.643 & 19942.6 & 0.0 & 0.0 \\\\\n",
       "\t15 & No & No & 890.15 & 38350.3 & 0.0 & 0.0 \\\\\n",
       "\t16 & No & No & 659.04 & 47942.2 & 0.0 & 0.0 \\\\\n",
       "\t17 & No & No & 952.335 & 44864.2 & 0.0 & 0.0 \\\\\n",
       "\t18 & No & Yes & 847.819 & 15978.6 & 0.0 & 1.0 \\\\\n",
       "\t19 & No & No & 206.821 & 49221.1 & 0.0 & 0.0 \\\\\n",
       "\t20 & No & No & 1100.97 & 50237.3 & 0.0 & 0.0 \\\\\n",
       "\t21 & No & No & 718.987 & 21044.7 & 0.0 & 0.0 \\\\\n",
       "\t22 & No & No & 113.571 & 32803.8 & 0.0 & 0.0 \\\\\n",
       "\t23 & No & Yes & 719.554 & 17195.7 & 0.0 & 1.0 \\\\\n",
       "\t24 & No & No & 837.413 & 37400.5 & 0.0 & 0.0 \\\\\n",
       "\t25 & No & Yes & 886.059 & 10378.6 & 0.0 & 1.0 \\\\\n",
       "\t26 & No & Yes & 963.188 & 12799.5 & 0.0 & 1.0 \\\\\n",
       "\t27 & No & No & 1112.11 & 29229.5 & 0.0 & 0.0 \\\\\n",
       "\t28 & No & Yes & 1277.89 & 20649.9 & 0.0 & 1.0 \\\\\n",
       "\t29 & No & No & 132.081 & 51694.7 & 0.0 & 0.0 \\\\\n",
       "\t30 & No & Yes & 1149.68 & 16907.7 & 0.0 & 1.0 \\\\\n",
       "\t$\\dots$ & $\\dots$ & $\\dots$ & $\\dots$ & $\\dots$ & $\\dots$ & $\\dots$ \\\\\n",
       "\\end{tabular}\n"
      ],
      "text/plain": [
       "2000×6 DataFrame. Omitted printing of 1 columns\n",
       "│ Row  │ Default      │ Student      │ Balance │ Income  │ DefaultNum │\n",
       "│      │ \u001b[90mCategorical…\u001b[39m │ \u001b[90mCategorical…\u001b[39m │ \u001b[90mFloat64\u001b[39m │ \u001b[90mFloat64\u001b[39m │ \u001b[90mFloat64\u001b[39m    │\n",
       "├──────┼──────────────┼──────────────┼─────────┼─────────┼────────────┤\n",
       "│ 1    │ No           │ No           │ 1175.19 │ 50921.3 │ 0.0        │\n",
       "│ 2    │ No           │ No           │ 956.151 │ 44086.7 │ 0.0        │\n",
       "│ 3    │ No           │ Yes          │ 1334.78 │ 20468.4 │ 0.0        │\n",
       "│ 4    │ No           │ No           │ 217.362 │ 45083.1 │ 0.0        │\n",
       "│ 5    │ No           │ No           │ 291.409 │ 54408.8 │ 0.0        │\n",
       "│ 6    │ No           │ Yes          │ 940.435 │ 18939.8 │ 0.0        │\n",
       "│ 7    │ No           │ No           │ 0.0     │ 22535.5 │ 0.0        │\n",
       "│ 8    │ No           │ No           │ 560.968 │ 43254.7 │ 0.0        │\n",
       "│ 9    │ No           │ No           │ 313.805 │ 37720.8 │ 0.0        │\n",
       "│ 10   │ No           │ Yes          │ 914.108 │ 19053.0 │ 0.0        │\n",
       "⋮\n",
       "│ 1990 │ No           │ No           │ 857.069 │ 26655.7 │ 0.0        │\n",
       "│ 1991 │ No           │ Yes          │ 1188.74 │ 22867.1 │ 0.0        │\n",
       "│ 1992 │ No           │ No           │ 1092.0  │ 34704.5 │ 0.0        │\n",
       "│ 1993 │ No           │ No           │ 799.733 │ 45702.4 │ 0.0        │\n",
       "│ 1994 │ No           │ No           │ 260.619 │ 42125.1 │ 0.0        │\n",
       "│ 1995 │ No           │ No           │ 380.333 │ 30890.1 │ 0.0        │\n",
       "│ 1996 │ No           │ No           │ 1272.48 │ 42671.3 │ 0.0        │\n",
       "│ 1997 │ No           │ No           │ 708.58  │ 21728.8 │ 0.0        │\n",
       "│ 1998 │ No           │ No           │ 71.5777 │ 61588.3 │ 0.0        │\n",
       "│ 1999 │ No           │ Yes          │ 1575.24 │ 24469.5 │ 0.0        │\n",
       "│ 2000 │ No           │ Yes          │ 604.574 │ 16153.4 │ 0.0        │"
      ]
     },
     "execution_count": 63,
     "metadata": {},
     "output_type": "execute_result"
    }
   ],
   "source": [
    "train = data[train_ind, :]\n",
    "test = data[test_ind, :]"
   ]
  },
  {
   "cell_type": "markdown",
   "metadata": {},
   "source": [
    "## 羅吉斯迴歸模型\n",
    "-  `GLM.glm(formula, data, family, link)`\n",
    "    - `formula`: uses column symbols from the DataFrame data, for example, if names(data)=[:Y,:X1,:X2], then a valid formula is @formula(Y ~ X1 + X2)\n",
    "    - `data`: a DataFrame which may contain NA values, any rows with NA values are ignored\n",
    "    - `family`: chosen from Bernoulli(), Binomial(), Gamma(), Normal(), or Poisson()\n",
    "    - `link`: chosen from the list below, for example, LogitLink() is a valid link for the Binomial() family\n",
    "        - `LogitLink` The canonical Link01 for Distributions.Bernoulli and Distributions.Binomial. The inverse link, linkinv, is the c.d.f. of the standard logistic distribution, Distributions.Logistic.\n",
    "        - [Link Function](https://en.wikipedia.org/wiki/Generalized_linear_model#Link_function): The link function provides the relationship between the linear predictor and the mean of the distribution function.\n"
   ]
  },
  {
   "cell_type": "code",
   "execution_count": 67,
   "metadata": {},
   "outputs": [
    {
     "data": {
      "text/plain": [
       "StatsModels.TableRegressionModel{GeneralizedLinearModel{GLM.GlmResp{Array{Float64,1},Binomial{Float64},LogitLink},GLM.DensePredChol{Float64,LinearAlgebra.Cholesky{Float64,Array{Float64,2}}}},Array{Float64,2}}\n",
       "\n",
       "DefaultNum ~ 1 + Balance + Income\n",
       "\n",
       "Coefficients:\n",
       "───────────────────────────────────────────────────────────────────────────────────────\n",
       "                 Estimate   Std. Error    z value  Pr(>|z|)     Lower 95%     Upper 95%\n",
       "───────────────────────────────────────────────────────────────────────────────────────\n",
       "(Intercept)  -11.8173      0.506825     -23.3163     <1e-99  -12.8106      -10.8239\n",
       "Balance        0.00572872  0.000262255   21.8441     <1e-99    0.00521471    0.00624273\n",
       "Income         2.3683e-5   5.68915e-6     4.16284    <1e-4     1.25325e-5    3.48336e-5\n",
       "───────────────────────────────────────────────────────────────────────────────────────"
      ]
     },
     "execution_count": 67,
     "metadata": {},
     "output_type": "execute_result"
    }
   ],
   "source": [
    "fm2 = @formula(DefaultNum ~ Balance + Income)\n",
    "logreg = glm(fm2, train, Binomial(), LogitLink()) # returns coefficients"
   ]
  },
  {
   "cell_type": "markdown",
   "metadata": {},
   "source": [
    "## 預測"
   ]
  },
  {
   "cell_type": "code",
   "execution_count": 68,
   "metadata": {},
   "outputs": [
    {
     "data": {
      "text/plain": [
       "2000-element Array{Union{Missing, Float64},1}:\n",
       " 0.02025332786615267\n",
       " 0.004988314375659067\n",
       " 0.02446008546984941\n",
       " 7.451948170719091e-5\n",
       " 0.00014203150993051528\n",
       " 0.0025193227765044498\n",
       " 1.2577684831478206e-5\n",
       " 0.0005106817315643327\n",
       " 0.00010876191711802899\n",
       " 0.002173188747430373\n",
       " 0.01028214658376935\n",
       " 0.006716245024597242\n",
       " 0.0062277760860254055\n",
       " ⋮\n",
       " 0.003448439217167635\n",
       " 0.0018772086691601722\n",
       " 0.011365488786673737\n",
       " 0.008666219584655764\n",
       " 0.0021215810976834564\n",
       " 8.901467028217239e-5\n",
       " 0.00013543382967660803\n",
       " 0.028831393538162938\n",
       " 0.0007143475204673329\n",
       " 4.779042387231051e-5\n",
       " 0.09852874417078895\n",
       " 0.00034511537218687773"
      ]
     },
     "execution_count": 68,
     "metadata": {},
     "output_type": "execute_result"
    }
   ],
   "source": [
    "pred = predict(logreg, test)"
   ]
  },
  {
   "cell_type": "markdown",
   "metadata": {},
   "source": [
    "## 模型評估"
   ]
  },
  {
   "cell_type": "code",
   "execution_count": 69,
   "metadata": {},
   "outputs": [
    {
     "data": {
      "text/plain": [
       "accuracy (generic function with 1 method)"
      ]
     },
     "execution_count": 69,
     "metadata": {},
     "output_type": "execute_result"
    }
   ],
   "source": [
    "error(x, y) = ((x > 0.5) ? 1.0 : 0.0) == y\n",
    "accuracy(xs, ys) = mean(error.(xs, ys))"
   ]
  },
  {
   "cell_type": "code",
   "execution_count": 70,
   "metadata": {},
   "outputs": [
    {
     "data": {
      "text/plain": [
       "0.969"
      ]
     },
     "execution_count": 70,
     "metadata": {},
     "output_type": "execute_result"
    }
   ],
   "source": [
    "accuracy(pred, test[!, :DefaultNum])"
   ]
  },
  {
   "cell_type": "code",
   "execution_count": null,
   "metadata": {},
   "outputs": [],
   "source": []
  }
 ],
 "metadata": {
  "kernelspec": {
   "display_name": "Julia 1.4.0",
   "language": "julia",
   "name": "julia-1.4"
  },
  "language_info": {
   "file_extension": ".jl",
   "mimetype": "application/julia",
   "name": "julia",
   "version": "1.4.0"
  }
 },
 "nbformat": 4,
 "nbformat_minor": 4
}
