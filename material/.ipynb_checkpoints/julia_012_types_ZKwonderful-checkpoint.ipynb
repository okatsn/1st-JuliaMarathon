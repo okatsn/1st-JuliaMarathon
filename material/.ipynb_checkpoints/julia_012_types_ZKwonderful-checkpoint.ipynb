{
 "cells": [
  {
   "cell_type": "markdown",
   "metadata": {
    "colab_type": "text",
    "id": "08isk0O73t5T"
   },
   "source": [
    "# Julia 型別 (Types) 系統簡介"
   ]
  },
  {
   "cell_type": "markdown",
   "metadata": {
    "colab_type": "text",
    "id": "ZV6XpKzW3t5j"
   },
   "source": [
    "## 1. 型別 (Type) 的宣告\n",
    "\n",
    "型別的宣告是使用 `::` 運算子  可以針對變數、表達式 (expression)、與函式進行型別的宣告."
   ]
  },
  {
   "cell_type": "markdown",
   "metadata": {
    "colab_type": "text",
    "id": "XAE9sZnA3t5n"
   },
   "source": [
    "### 變數 (variable)\n",
    "\n",
    "宣告變數型別, 只能針對 local 變數, 若宣告 global 變數的型別時會產生錯誤."
   ]
  },
  {
   "cell_type": "code",
   "execution_count": 1,
   "metadata": {
    "colab": {},
    "colab_type": "code",
    "id": "rVz6KcE-3t5q",
    "outputId": "3e5d6cfc-8415-4097-c2c7-540b6cc6a176"
   },
   "outputs": [
    {
     "data": {
      "text/plain": [
       "10"
      ]
     },
     "execution_count": 1,
     "metadata": {},
     "output_type": "execute_result"
    }
   ],
   "source": [
    "local x::Int8 = 10"
   ]
  },
  {
   "cell_type": "code",
   "execution_count": 2,
   "metadata": {
    "colab": {},
    "colab_type": "code",
    "id": "SdjDZ85V3t6D",
    "outputId": "0a22ef57-3284-47f2-bf35-f1c5ef294244"
   },
   "outputs": [
    {
     "ename": "ErrorException",
     "evalue": "syntax: type declarations on global variables are not yet supported",
     "output_type": "error",
     "traceback": [
      "syntax: type declarations on global variables are not yet supported",
      "",
      "Stacktrace:",
      " [1] top-level scope at C:\\Users\\HSI\\.julia\\packages\\IJulia\\yLI42\\src\\kernel.jl:52"
     ]
    }
   ],
   "source": [
    "# global 變數\n",
    "y::Int64 = 10"
   ]
  },
  {
   "cell_type": "code",
   "execution_count": 3,
   "metadata": {
    "colab": {},
    "colab_type": "code",
    "id": "_RyGN7dK3t6K",
    "outputId": "71606dc3-c45e-480d-cfaf-f6af2e1425b6"
   },
   "outputs": [
    {
     "data": {
      "text/plain": [
       "100"
      ]
     },
     "execution_count": 3,
     "metadata": {},
     "output_type": "execute_result"
    }
   ],
   "source": [
    "function foo()\n",
    "    x::Int32 = 100\n",
    "    x\n",
    "end\n",
    "\n",
    "foo()"
   ]
  },
  {
   "cell_type": "markdown",
   "metadata": {
    "colab_type": "text",
    "id": "4v23MD0V3t6P"
   },
   "source": [
    "呼叫 `foo()` 後, 我們可以看到回傳值的型別是 `Int32`"
   ]
  },
  {
   "cell_type": "code",
   "execution_count": 4,
   "metadata": {
    "colab": {},
    "colab_type": "code",
    "id": "Rxb0d8NH3t6S",
    "outputId": "267e27fc-7eb4-4df9-fd20-5b627249ecf7"
   },
   "outputs": [
    {
     "data": {
      "text/plain": [
       "Int32"
      ]
     },
     "execution_count": 4,
     "metadata": {},
     "output_type": "execute_result"
    }
   ],
   "source": [
    "# ans 是 Julia 語言保留字, 代表的是目前最後計算值\n",
    "typeof(ans)"
   ]
  },
  {
   "cell_type": "markdown",
   "metadata": {
    "colab_type": "text",
    "id": "5awkYHGL3t6Z"
   },
   "source": [
    "### 表達式 (expression)"
   ]
  },
  {
   "cell_type": "markdown",
   "metadata": {
    "colab_type": "text",
    "id": "HwXdB0jZ3t6g"
   },
   "source": [
    "#### Type assertion\n",
    "- The `::` operator can be used to attach type annotations to expressions and variables in programs. There are two primary reasons to do this:\n",
    "\n",
    "    1. As an assertion to help confirm that your program works the way you expect,\n",
    "    2. To provide extra type information to the compiler, which can then improve performance in some cases\n",
    "\n",
    "- the `::` operator is read as **\"is an instance of\"**\n",
    "- to assert that the value of the expression on the left is an instance of the type on the right \n",
    "- When the type on the right is \n",
    "    - concrete, the value on the left must have that type as its implementation – recall that all concrete types are final, so no implementation is a subtype of any other. \n",
    "    - abstract, it suffices for the value to be implemented by a concrete type that is a subtype of the abstract type. "
   ]
  },
  {
   "cell_type": "markdown",
   "metadata": {},
   "source": [
    "If the type assertion is not true, an exception is thrown, otherwise, the left-hand value is returned"
   ]
  },
  {
   "cell_type": "code",
   "execution_count": 2,
   "metadata": {
    "colab": {},
    "colab_type": "code",
    "id": "c7Yo3HhB3t6h",
    "outputId": "a1353d9b-7f05-462b-ffb5-9505ad7fa85d",
    "scrolled": true
   },
   "outputs": [
    {
     "ename": "TypeError",
     "evalue": "TypeError: in typeassert, expected Float64, got Int64",
     "output_type": "error",
     "traceback": [
      "TypeError: in typeassert, expected Float64, got Int64",
      "",
      "Stacktrace:",
      " [1] top-level scope at In[2]:1"
     ]
    }
   ],
   "source": [
    "(1+2)::Float64"
   ]
  },
  {
   "cell_type": "code",
   "execution_count": 4,
   "metadata": {
    "colab": {},
    "colab_type": "code",
    "id": "pLuHa2gB3t6a",
    "outputId": "2999902a-a5a0-4d38-f94e-add25b5a496e"
   },
   "outputs": [
    {
     "data": {
      "text/plain": [
       "3"
      ]
     },
     "execution_count": 4,
     "metadata": {},
     "output_type": "execute_result"
    }
   ],
   "source": [
    "(1+2)::Int64"
   ]
  },
  {
   "cell_type": "markdown",
   "metadata": {},
   "source": [
    "As part of a **local declaration**, it declares the variable to always have the specified type"
   ]
  },
  {
   "cell_type": "code",
   "execution_count": 7,
   "metadata": {},
   "outputs": [
    {
     "ename": "ErrorException",
     "evalue": "syntax: type declarations on global variables are not yet supported",
     "output_type": "error",
     "traceback": [
      "syntax: type declarations on global variables are not yet supported",
      "",
      "Stacktrace:",
      " [1] top-level scope at C:\\Users\\HSI\\.julia\\packages\\IJulia\\yLI42\\src\\kernel.jl:52"
     ]
    }
   ],
   "source": [
    "# here a is global\n",
    "a::Int8 = 12"
   ]
  },
  {
   "cell_type": "code",
   "execution_count": 8,
   "metadata": {},
   "outputs": [
    {
     "data": {
      "text/plain": [
       "12"
      ]
     },
     "execution_count": 8,
     "metadata": {},
     "output_type": "execute_result"
    }
   ],
   "source": [
    "function foo()\n",
    "    # here a is local\n",
    "    a::Int8 = 12\n",
    "end\n",
    "foo()"
   ]
  },
  {
   "cell_type": "code",
   "execution_count": 26,
   "metadata": {},
   "outputs": [
    {
     "data": {
      "text/plain": [
       "12"
      ]
     },
     "execution_count": 26,
     "metadata": {},
     "output_type": "execute_result"
    }
   ],
   "source": [
    "local Lc::Int8 = 12"
   ]
  },
  {
   "cell_type": "code",
   "execution_count": 11,
   "metadata": {},
   "outputs": [
    {
     "ename": "ErrorException",
     "evalue": "syntax: type declarations on global variables are not yet supported",
     "output_type": "error",
     "traceback": [
      "syntax: type declarations on global variables are not yet supported",
      "",
      "Stacktrace:",
      " [1] top-level scope at C:\\Users\\HSI\\.julia\\packages\\IJulia\\yLI42\\src\\kernel.jl:52"
     ]
    }
   ],
   "source": [
    "local Lc2\n",
    "Lc2::Int8 = 11"
   ]
  },
  {
   "cell_type": "markdown",
   "metadata": {
    "colab_type": "text",
    "id": "CySLWPn93t6t"
   },
   "source": [
    "### 函式 (function)"
   ]
  },
  {
   "cell_type": "markdown",
   "metadata": {
    "colab_type": "text",
    "id": "OI9OlG7A3t6u"
   },
   "source": [
    "若宣告函式回傳型別的話, **回傳**值會進行**轉型為指定的型別**, 若無法轉型的話則會產生錯誤."
   ]
  },
  {
   "cell_type": "markdown",
   "metadata": {},
   "source": [
    "Returning from this function behaves just like an assignment to a variable with a declared type: the value is always converted to Float64."
   ]
  },
  {
   "cell_type": "code",
   "execution_count": 12,
   "metadata": {
    "colab": {},
    "colab_type": "code",
    "id": "NMNmsBWD3t6v",
    "outputId": "4536c4ad-728a-4707-9ef5-ba8109943799",
    "scrolled": true
   },
   "outputs": [
    {
     "data": {
      "text/plain": [
       "1.0"
      ]
     },
     "execution_count": 12,
     "metadata": {},
     "output_type": "execute_result"
    }
   ],
   "source": [
    "function foo()::Float64\n",
    "    return 2 / 2\n",
    "end\n",
    "\n",
    "foo()"
   ]
  },
  {
   "cell_type": "markdown",
   "metadata": {
    "colab_type": "text",
    "id": "ZEjACAyK3t61"
   },
   "source": [
    "## 2. 常用函式與型別階層\n",
    "\n",
    "下圖為 `Number` 及其子型別，`Any` 為所有型別的父型別。\n",
    "\n",
    "![](Julia_Number.png)\n",
    "\n",
    "呼叫 `supertype()` 函式查看某一型別的父型別."
   ]
  },
  {
   "cell_type": "code",
   "execution_count": 6,
   "metadata": {
    "colab": {},
    "colab_type": "code",
    "id": "f2Bv_USs3t63",
    "outputId": "2a632164-487f-46b6-e9e8-e54a0edb2124"
   },
   "outputs": [
    {
     "data": {
      "text/plain": [
       "Number"
      ]
     },
     "execution_count": 6,
     "metadata": {},
     "output_type": "execute_result"
    }
   ],
   "source": [
    "supertype(Real)"
   ]
  },
  {
   "cell_type": "markdown",
   "metadata": {
    "colab_type": "text",
    "id": "btJdVrj23t69"
   },
   "source": [
    "呼叫 `subtypes()` 函式查看某一型別的子型別."
   ]
  },
  {
   "cell_type": "code",
   "execution_count": 7,
   "metadata": {
    "colab": {},
    "colab_type": "code",
    "id": "z-NxwuGn3t6_",
    "outputId": "199dd9ce-ecb3-48b5-ade8-a397d061fc5d"
   },
   "outputs": [
    {
     "data": {
      "text/plain": [
       "2-element Array{Any,1}:\n",
       " Complex\n",
       " Real"
      ]
     },
     "execution_count": 7,
     "metadata": {},
     "output_type": "execute_result"
    }
   ],
   "source": [
    "subtypes(Number)"
   ]
  },
  {
   "cell_type": "markdown",
   "metadata": {
    "colab_type": "text",
    "id": "EaUqnv__3t7O"
   },
   "source": [
    "型別的父、子關係，是使用 `<:` 與 `>:` 運算子來指定。\n",
    "\n",
    "查看型別之間是否為父子關係。"
   ]
  },
  {
   "cell_type": "code",
   "execution_count": 10,
   "metadata": {
    "colab": {},
    "colab_type": "code",
    "id": "aToWcH_K3t7Q",
    "outputId": "f94898da-e24a-4bc6-d03f-e439e27ef80c"
   },
   "outputs": [
    {
     "data": {
      "text/plain": [
       "true"
      ]
     },
     "execution_count": 10,
     "metadata": {},
     "output_type": "execute_result"
    }
   ],
   "source": [
    "<:(Integer, Number)"
   ]
  },
  {
   "cell_type": "code",
   "execution_count": 11,
   "metadata": {
    "colab": {},
    "colab_type": "code",
    "id": "InW0fpPq3t7a",
    "outputId": "d0d3dc6b-9c96-439f-fbc3-cb7035e31637"
   },
   "outputs": [
    {
     "data": {
      "text/plain": [
       "false"
      ]
     },
     "execution_count": 11,
     "metadata": {},
     "output_type": "execute_result"
    }
   ],
   "source": [
    "# 也可以直接使用運算子\n",
    "Integer <: AbstractFloat"
   ]
  },
  {
   "cell_type": "code",
   "execution_count": 10,
   "metadata": {},
   "outputs": [
    {
     "data": {
      "text/plain": [
       "true"
      ]
     },
     "execution_count": 10,
     "metadata": {},
     "output_type": "execute_result"
    }
   ],
   "source": [
    "Number >: Real >: AbstractFloat >: Float64"
   ]
  },
  {
   "cell_type": "code",
   "execution_count": 11,
   "metadata": {
    "colab": {},
    "colab_type": "code",
    "id": "FW-6AnrV3t7g",
    "outputId": "8122d539-edc7-460c-ce0a-d9542d4d4894"
   },
   "outputs": [
    {
     "data": {
      "text/plain": [
       "true"
      ]
     },
     "execution_count": 11,
     "metadata": {},
     "output_type": "execute_result"
    }
   ],
   "source": [
    "# Integer 也是 Int64 的父型別\n",
    "Integer >: Int64"
   ]
  },
  {
   "cell_type": "markdown",
   "metadata": {
    "colab_type": "text",
    "id": "yE9mVq5u3t7n"
   },
   "source": [
    "## 3. 抽象型別 (Abstract Type)\n",
    "\n",
    "抽象型別有幾個特性：\n",
    "- 無法被實例化 (Instantiate)\n",
    "    - (in c#) The process of creating an object from a class is called instantiation because an object is an instance of a class.\n",
    "- 抽象是可以延伸的, 可以有多層次\n",
    "- 可以運用抽象型別來撰寫泛用 (generic) 函式，以做為函式的基本行為 (behavior)\n",
    "\n",
    "抽象型別的最上層是 `Any`, 也是所有型別的最上層父型別; 抽象型別的最下層則是 `Union{}`, 也是所有型別的子型別.\n",
    "\n",
    "以 `Number` 型別為例, 可以看到其為所有數值型別的父型別, 而且是抽象型別."
   ]
  },
  {
   "cell_type": "code",
   "execution_count": 13,
   "metadata": {
    "colab": {},
    "colab_type": "code",
    "id": "l3YFByDU3t7o",
    "outputId": "e378eb27-d68d-42f2-a7c7-64904bede058"
   },
   "outputs": [
    {
     "name": "stdout",
     "output_type": "stream",
     "text": [
      "search: \u001b[0m\u001b[1mN\u001b[22m\u001b[0m\u001b[1mu\u001b[22m\u001b[0m\u001b[1mm\u001b[22m\u001b[0m\u001b[1mb\u001b[22m\u001b[0m\u001b[1me\u001b[22m\u001b[0m\u001b[1mr\u001b[22m Li\u001b[0m\u001b[1mn\u001b[22meN\u001b[0m\u001b[1mu\u001b[22m\u001b[0m\u001b[1mm\u001b[22m\u001b[0m\u001b[1mb\u001b[22m\u001b[0m\u001b[1me\u001b[22m\u001b[0m\u001b[1mr\u001b[22mNode Versio\u001b[0m\u001b[1mn\u001b[22mN\u001b[0m\u001b[1mu\u001b[22m\u001b[0m\u001b[1mm\u001b[22m\u001b[0m\u001b[1mb\u001b[22m\u001b[0m\u001b[1me\u001b[22m\u001b[0m\u001b[1mr\u001b[22m\n",
      "\n"
     ]
    },
    {
     "data": {
      "text/latex": [
       "\\begin{verbatim}\n",
       "Number\n",
       "\\end{verbatim}\n",
       "Abstract supertype for all number types.\n",
       "\n"
      ],
      "text/markdown": [
       "```\n",
       "Number\n",
       "```\n",
       "\n",
       "Abstract supertype for all number types.\n"
      ],
      "text/plain": [
       "\u001b[36m  Number\u001b[39m\n",
       "\n",
       "  Abstract supertype for all number types."
      ]
     },
     "execution_count": 13,
     "metadata": {},
     "output_type": "execute_result"
    }
   ],
   "source": [
    "? Number"
   ]
  },
  {
   "cell_type": "markdown",
   "metadata": {
    "colab_type": "text",
    "id": "F4GQItGE3t7u"
   },
   "source": [
    "### 抽象型別的宣告\n",
    "\n",
    "`abstract type <<name>> end`\n",
    "\n",
    "宣告時可使用 `<:` 運算子指定其父型別. 如果**沒有指定的話, 則父型別為 `Any`**.\n",
    "\n",
    "`abstract type <<name>> <: <<supertype>> end`"
   ]
  },
  {
   "cell_type": "code",
   "execution_count": 14,
   "metadata": {
    "colab": {},
    "colab_type": "code",
    "id": "CNSBNdDT3t71"
   },
   "outputs": [],
   "source": [
    "abstract type YetAnotherNumber <: Number end"
   ]
  },
  {
   "cell_type": "markdown",
   "metadata": {
    "colab_type": "text",
    "id": "UC_tb5Z-3t75"
   },
   "source": [
    "下列範例是當函式沒有指定型別時其型別為抽象型別 `Any`, 傳入整數引數 (argument) 值時, Julia 會內部定義並編譯符合整數引數的 Method 並執行, 所以仍然可以正確地計算出整數之回傳值."
   ]
  },
  {
   "cell_type": "code",
   "execution_count": 15,
   "metadata": {
    "colab": {},
    "colab_type": "code",
    "id": "Is9sdEQj3t77",
    "outputId": "b40ce6ac-51b0-48e7-9699-106544dae4a7"
   },
   "outputs": [
    {
     "data": {
      "text/plain": [
       "xyplus (generic function with 1 method)"
      ]
     },
     "execution_count": 15,
     "metadata": {},
     "output_type": "execute_result"
    }
   ],
   "source": [
    "function xyplus(x, y)\n",
    "    x + y\n",
    "end"
   ]
  },
  {
   "cell_type": "code",
   "execution_count": 16,
   "metadata": {
    "colab": {},
    "colab_type": "code",
    "id": "7MTdv0x-3t8C",
    "outputId": "6d4c5479-d654-4fce-edb0-0f74925b5263"
   },
   "outputs": [
    {
     "data": {
      "text/plain": [
       "7"
      ]
     },
     "execution_count": 16,
     "metadata": {},
     "output_type": "execute_result"
    }
   ],
   "source": [
    "xyplus(2, 5)"
   ]
  },
  {
   "cell_type": "markdown",
   "metadata": {
    "colab_type": "text",
    "id": "z2dk-wJA3t8S"
   },
   "source": [
    "## 4. 原始型別 (Primitive Type)\n",
    "\n",
    "### 原始型別的宣告\n",
    "\n",
    "`primitive type <<name>> <<bits>> end`\n",
    "\n",
    "宣告時可使用 `<:` 運算子指定其父型別. 如果沒有指定的話, 則父型別為 `Any`.\n",
    "\n",
    "`primitive type <<name>> <: <<supertype>> <<bits>> end`\n",
    "\n",
    "bits 數字是指定型別需要的儲存空間.\n",
    "\n",
    "範例: Int64 的宣告\n",
    "\n",
    "`primitive type Int64 <: Signed 64 end`"
   ]
  },
  {
   "cell_type": "code",
   "execution_count": 16,
   "metadata": {
    "colab": {},
    "colab_type": "code",
    "id": "-dX88bRm3t8g"
   },
   "outputs": [],
   "source": [
    "primitive type AnotherNumericType <: Signed 64 end"
   ]
  },
  {
   "cell_type": "markdown",
   "metadata": {
    "colab_type": "text",
    "id": "tgPRxwWt3t8n"
   },
   "source": [
    "## 5. 複合型別 (Composite Type)\n",
    "\n",
    "複合型別是用關鍵字 `struct` 來進行宣告，成員可以指定型別或不指定，不指定即為 `Any` 型別；成員的型別也可以是另一個複合型別。\n",
    "\n",
    "`struct` 可分為可變 (mutable) 與不可變的，其差異在於在實例化 (instantiate) 之後 mutable struct 的成員值是可以被改變的，而不可變複合型別成員值不可以被改變，嘗試改變時會產生錯誤。\n",
    "\n",
    "下例為宣告宣告不可變的複合型別。"
   ]
  },
  {
   "cell_type": "code",
   "execution_count": 13,
   "metadata": {
    "colab": {},
    "colab_type": "code",
    "id": "zk-84qFc3t8u"
   },
   "outputs": [],
   "source": [
    "struct Bar\n",
    "    m::Int64\n",
    "    n::Float64\n",
    "end"
   ]
  },
  {
   "cell_type": "code",
   "execution_count": 14,
   "metadata": {
    "colab": {},
    "colab_type": "code",
    "id": "FB8UuBkH3t81"
   },
   "outputs": [],
   "source": [
    "struct Foo\n",
    "    aa::Bar\n",
    "    bb::Int\n",
    "    cc::Float64\n",
    "end"
   ]
  },
  {
   "cell_type": "code",
   "execution_count": 15,
   "metadata": {},
   "outputs": [
    {
     "data": {
      "text/plain": [
       "3"
      ]
     },
     "execution_count": 15,
     "metadata": {},
     "output_type": "execute_result"
    }
   ],
   "source": [
    "b1 = Foo(Bar(3,2),1,1.5)\n",
    "b1.aa.m"
   ]
  },
  {
   "cell_type": "markdown",
   "metadata": {},
   "source": [
    "The behavior of type assertion in struct seems to be just like `local Lc::Int8 = 12.0` and `local Lc::Int8 = 12.1`"
   ]
  },
  {
   "cell_type": "code",
   "execution_count": 27,
   "metadata": {},
   "outputs": [
    {
     "data": {
      "text/plain": [
       "Foo(Bar(3, 0.0), 1, 1.5)"
      ]
     },
     "execution_count": 27,
     "metadata": {},
     "output_type": "execute_result"
    }
   ],
   "source": [
    "# automatically convert the input argument to the asserted type\n",
    "b2 = Foo(Bar(3.0,0),1,1.5)"
   ]
  },
  {
   "cell_type": "code",
   "execution_count": 28,
   "metadata": {},
   "outputs": [
    {
     "ename": "InexactError",
     "evalue": "InexactError: Int64(3.1)",
     "output_type": "error",
     "traceback": [
      "InexactError: Int64(3.1)",
      "",
      "Stacktrace:",
      " [1] Int64 at .\\float.jl:710 [inlined]",
      " [2] convert at .\\number.jl:7 [inlined]",
      " [3] Bar(::Float64, ::Int64) at .\\In[13]:2",
      " [4] top-level scope at In[28]:1"
     ]
    }
   ],
   "source": [
    "# error occurred if it cannot be converted to the asserted type\n",
    "b2 = Foo(Bar(3.1,0),1,1.5)"
   ]
  },
  {
   "cell_type": "markdown",
   "metadata": {},
   "source": [
    "複合型別的成員是可以被存取的，例如："
   ]
  },
  {
   "cell_type": "code",
   "execution_count": 88,
   "metadata": {
    "scrolled": true
   },
   "outputs": [
    {
     "data": {
      "text/plain": [
       "1.5"
      ]
     },
     "execution_count": 88,
     "metadata": {},
     "output_type": "execute_result"
    }
   ],
   "source": [
    "b1.cc"
   ]
  },
  {
   "cell_type": "code",
   "execution_count": 6,
   "metadata": {},
   "outputs": [
    {
     "ename": "ErrorException",
     "evalue": "setfield! immutable struct of type Bar cannot be changed",
     "output_type": "error",
     "traceback": [
      "setfield! immutable struct of type Bar cannot be changed",
      "",
      "Stacktrace:",
      " [1] setproperty!(::Bar, ::Symbol, ::Int64) at .\\sysimg.jl:19",
      " [2] top-level scope at In[6]:1"
     ]
    }
   ],
   "source": [
    "b1.aa.m = 5 # immutable in default"
   ]
  },
  {
   "cell_type": "markdown",
   "metadata": {
    "colab_type": "text",
    "id": "W4xueQQD3t9M"
   },
   "source": [
    "可變的複合型別，在宣告時使用 `mutable` 保留字。"
   ]
  },
  {
   "cell_type": "code",
   "execution_count": 7,
   "metadata": {
    "colab": {},
    "colab_type": "code",
    "id": "HIWiwD5G3t9N"
   },
   "outputs": [
    {
     "ename": "ErrorException",
     "evalue": "syntax: \"aa::Bar = 1\" inside type definition is reserved",
     "output_type": "error",
     "traceback": [
      "syntax: \"aa::Bar = 1\" inside type definition is reserved",
      ""
     ]
    }
   ],
   "source": [
    "mutable struct Foo2\n",
    "    aa::Bar\n",
    "    bb::Int\n",
    "    cc::Float64\n",
    "end"
   ]
  },
  {
   "cell_type": "code",
   "execution_count": 28,
   "metadata": {
    "colab": {},
    "colab_type": "code",
    "id": "48gvfAuN3t9R",
    "outputId": "71b38acc-3679-4677-dbfa-77cd166be40b"
   },
   "outputs": [
    {
     "data": {
      "text/plain": [
       "Foo2(Bar(1, 2.0), 3, 4.0)"
      ]
     },
     "execution_count": 28,
     "metadata": {},
     "output_type": "execute_result"
    }
   ],
   "source": [
    "b2 = Foo2(Bar(1, 2.0), 3, 4.0)"
   ]
  },
  {
   "cell_type": "code",
   "execution_count": 29,
   "metadata": {
    "colab": {},
    "colab_type": "code",
    "id": "L_cRFBlB3t9V",
    "outputId": "24d4849b-faa4-4310-c32a-da5cc01349f2",
    "scrolled": true
   },
   "outputs": [
    {
     "data": {
      "text/plain": [
       "2"
      ]
     },
     "execution_count": 29,
     "metadata": {},
     "output_type": "execute_result"
    }
   ],
   "source": [
    "b2.bb = 2"
   ]
  },
  {
   "cell_type": "code",
   "execution_count": 30,
   "metadata": {
    "colab": {},
    "colab_type": "code",
    "id": "lxNfa2vH3t9v",
    "outputId": "1efd184f-bae3-4676-e17e-0bb9c9e6147e"
   },
   "outputs": [
    {
     "data": {
      "text/plain": [
       "Bar(1, 2.0)"
      ]
     },
     "execution_count": 30,
     "metadata": {},
     "output_type": "execute_result"
    }
   ],
   "source": [
    "b2.aa"
   ]
  },
  {
   "cell_type": "markdown",
   "metadata": {
    "colab_type": "text",
    "id": "yXTqUlYy3t93"
   },
   "source": [
    "在複合型別內的複合型別成員透過下列語法存取。"
   ]
  },
  {
   "cell_type": "code",
   "execution_count": 31,
   "metadata": {
    "colab": {},
    "colab_type": "code",
    "id": "e1Oqhhbo3t94",
    "outputId": "d16a788d-bac2-43ae-fd91-1189e578f359"
   },
   "outputs": [
    {
     "data": {
      "text/plain": [
       "2.0"
      ]
     },
     "execution_count": 31,
     "metadata": {},
     "output_type": "execute_result"
    }
   ],
   "source": [
    "b2.aa.n"
   ]
  },
  {
   "cell_type": "markdown",
   "metadata": {
    "colab_type": "text",
    "id": "lPQwfAzf3t87"
   },
   "source": [
    "呼叫 `dump()` 函式可以查看複合型別的內部結構。"
   ]
  },
  {
   "cell_type": "code",
   "execution_count": 19,
   "metadata": {
    "colab": {},
    "colab_type": "code",
    "id": "ozdOVN7R3t89",
    "outputId": "b025d1db-aec0-486c-c626-a1acc58bbe48"
   },
   "outputs": [
    {
     "name": "stdout",
     "output_type": "stream",
     "text": [
      "Foo <: Any\n",
      "  aa::Bar\n",
      "  bb::Int64\n",
      "  cc::Float64\n"
     ]
    }
   ],
   "source": [
    "dump(Foo)"
   ]
  },
  {
   "cell_type": "code",
   "execution_count": 20,
   "metadata": {
    "scrolled": false
   },
   "outputs": [
    {
     "name": "stdout",
     "output_type": "stream",
     "text": [
      "Bar <: Any\n",
      "  m::Int64\n",
      "  n::Float64\n"
     ]
    }
   ],
   "source": [
    "dump(Bar)"
   ]
  },
  {
   "cell_type": "markdown",
   "metadata": {
    "colab_type": "text",
    "id": "0VpgRuTZ3t9H"
   },
   "source": [
    "在複合型別內的複合型別成員透過下列語法存取。"
   ]
  },
  {
   "cell_type": "code",
   "execution_count": 21,
   "metadata": {
    "colab": {},
    "colab_type": "code",
    "id": "4xtvXaIs3t9I",
    "outputId": "4a99901f-f9a0-4192-c7fe-680b841533ec"
   },
   "outputs": [
    {
     "data": {
      "text/plain": [
       "(:aa, :bb, :cc)"
      ]
     },
     "execution_count": 21,
     "metadata": {},
     "output_type": "execute_result"
    }
   ],
   "source": [
    "fieldnames(Foo)"
   ]
  },
  {
   "cell_type": "markdown",
   "metadata": {
    "colab_type": "text",
    "id": "8kJyvnzK3t-R"
   },
   "source": [
    "## 6. 型別聯合 (Union)\n",
    "\n",
    "型別聯合是透過 Union 的方式，可以讓物件的型別限定在數個指定的型別之內，但又不需要使用更高層級或是抽象型別來宣告，例如：下列語法示範了，如果我們希望型別可能是 Int64、Int32、或是 Float64 時，可以透過 Union 來達到。"
   ]
  },
  {
   "cell_type": "code",
   "execution_count": 37,
   "metadata": {
    "colab": {},
    "colab_type": "code",
    "id": "HBk-Ufsz3t-S",
    "outputId": "3c67d993-8f39-4229-fafc-846a65b1cc3c"
   },
   "outputs": [
    {
     "data": {
      "text/plain": [
       "Union{Float64, Int32, Int64}"
      ]
     },
     "execution_count": 37,
     "metadata": {},
     "output_type": "execute_result"
    }
   ],
   "source": [
    "Int64OrInt32OrFloat64 = Union{Int64, Float64, Int32}"
   ]
  },
  {
   "cell_type": "code",
   "execution_count": 38,
   "metadata": {
    "colab": {},
    "colab_type": "code",
    "id": "_jSOvEUI3t-Z",
    "outputId": "f64c6a6f-3d3a-4888-9eda-a771c009df98"
   },
   "outputs": [
    {
     "data": {
      "text/plain": [
       "1"
      ]
     },
     "execution_count": 38,
     "metadata": {},
     "output_type": "execute_result"
    }
   ],
   "source": [
    "Int64OrInt32OrFloat64(1)"
   ]
  },
  {
   "cell_type": "code",
   "execution_count": 41,
   "metadata": {},
   "outputs": [
    {
     "name": "stdout",
     "output_type": "stream",
     "text": [
      "Rational{Int64}\n"
     ]
    },
    {
     "ename": "MethodError",
     "evalue": "MethodError: no method matching Union{Float64, Int32, Int64}(::Rational{Int64})\nClosest candidates are:\n  Union{Float64, Int32, Int64}(::T) where T<:Number at boot.jl:715\n  Union{Float64, Int32, Int64}(!Matched::Complex) where T<:Real at complex.jl:37\n  Union{Float64, Int32, Int64}(!Matched::Base.TwicePrecision) where T<:Number at twiceprecision.jl:243\n  ...",
     "output_type": "error",
     "traceback": [
      "MethodError: no method matching Union{Float64, Int32, Int64}(::Rational{Int64})\nClosest candidates are:\n  Union{Float64, Int32, Int64}(::T) where T<:Number at boot.jl:715\n  Union{Float64, Int32, Int64}(!Matched::Complex) where T<:Real at complex.jl:37\n  Union{Float64, Int32, Int64}(!Matched::Base.TwicePrecision) where T<:Number at twiceprecision.jl:243\n  ...",
      "",
      "Stacktrace:",
      " [1] top-level scope at In[41]:3"
     ]
    }
   ],
   "source": [
    "not_in_union = 5//3;\n",
    "println(typeof(not_in_union))\n",
    "Int64OrInt32OrFloat64(not_in_union)"
   ]
  },
  {
   "cell_type": "markdown",
   "metadata": {
    "colab_type": "text",
    "id": "j7aJIXGe3t-q"
   },
   "source": [
    "如果型別不在 Union 中，則會出現 `TypeError`。"
   ]
  },
  {
   "cell_type": "code",
   "execution_count": 42,
   "metadata": {
    "colab": {},
    "colab_type": "code",
    "id": "GXzYlH5J3t-r",
    "outputId": "e3875c95-ee15-4698-9b65-9a9ce2ef2f66"
   },
   "outputs": [
    {
     "ename": "TypeError",
     "evalue": "TypeError: in typeassert, expected Union{Float64, Int32, Int64}, got Int8",
     "output_type": "error",
     "traceback": [
      "TypeError: in typeassert, expected Union{Float64, Int32, Int64}, got Int8",
      "",
      "Stacktrace:",
      " [1] top-level scope at In[42]:2"
     ]
    }
   ],
   "source": [
    "a = Int8(1)\n",
    "a::Int64OrInt32OrFloat64"
   ]
  },
  {
   "cell_type": "code",
   "execution_count": 123,
   "metadata": {},
   "outputs": [
    {
     "data": {
      "text/plain": [
       "Int64"
      ]
     },
     "execution_count": 123,
     "metadata": {},
     "output_type": "execute_result"
    }
   ],
   "source": [
    "function a_function()\n",
    "    a2::Int64OrInt32OrFloat64 = 52 # or try 52.0\n",
    "    typeof(a2)\n",
    "end\n",
    "a_function()"
   ]
  },
  {
   "cell_type": "code",
   "execution_count": 53,
   "metadata": {
    "colab": {},
    "colab_type": "code",
    "id": "l0pRYL2V3t-y",
    "outputId": "694e8e6f-9c5a-40b2-db1b-8dca3f78fdbc"
   },
   "outputs": [
    {
     "data": {
      "text/plain": [
       "Union"
      ]
     },
     "execution_count": 53,
     "metadata": {},
     "output_type": "execute_result"
    }
   ],
   "source": [
    "typeof(Int64OrInt32OrFloat64)"
   ]
  },
  {
   "cell_type": "markdown",
   "metadata": {
    "colab_type": "text",
    "id": "YJM2fQA73t-7"
   },
   "source": [
    "可以看到 Union 的型別是 `DataType`。"
   ]
  },
  {
   "cell_type": "code",
   "execution_count": 54,
   "metadata": {
    "colab": {},
    "colab_type": "code",
    "id": "fX55xeG43t-8",
    "outputId": "a8f0d433-ab6d-4c41-d45a-bcb565956df0"
   },
   "outputs": [
    {
     "data": {
      "text/plain": [
       "DataType"
      ]
     },
     "execution_count": 54,
     "metadata": {},
     "output_type": "execute_result"
    }
   ],
   "source": [
    "typeof(Union)"
   ]
  },
  {
   "cell_type": "markdown",
   "metadata": {
    "colab_type": "text",
    "id": "TUNsKZS93t_H"
   },
   "source": [
    "其父型別為 `Type{T}`，是參數化型別。"
   ]
  },
  {
   "cell_type": "code",
   "execution_count": 55,
   "metadata": {
    "colab": {},
    "colab_type": "code",
    "id": "NfNv5Uj63t_I",
    "outputId": "634c2ec3-dbf5-4692-ab2b-ea22f6620b8f",
    "scrolled": true
   },
   "outputs": [
    {
     "data": {
      "text/plain": [
       "Type{T}"
      ]
     },
     "execution_count": 55,
     "metadata": {},
     "output_type": "execute_result"
    }
   ],
   "source": [
    "supertype(Union)"
   ]
  },
  {
   "cell_type": "code",
   "execution_count": 83,
   "metadata": {},
   "outputs": [
    {
     "ename": "UndefVarError",
     "evalue": "UndefVarError: subtype not defined",
     "output_type": "error",
     "traceback": [
      "UndefVarError: subtype not defined",
      "",
      "Stacktrace:",
      " [1] top-level scope at In[83]:1"
     ]
    }
   ],
   "source": [
    "subtype(Union)"
   ]
  },
  {
   "cell_type": "code",
   "execution_count": 85,
   "metadata": {},
   "outputs": [
    {
     "data": {
      "text/plain": [
       "true"
      ]
     },
     "execution_count": 85,
     "metadata": {},
     "output_type": "execute_result"
    }
   ],
   "source": [
    "Any >: Type >: Union "
   ]
  },
  {
   "cell_type": "code",
   "execution_count": 105,
   "metadata": {},
   "outputs": [
    {
     "name": "stdout",
     "output_type": "stream",
     "text": [
      "typeof(Any) is DataType\n",
      "typeof(Type) is UnionAll\n",
      "typeof(Union) is DataType\n"
     ]
    }
   ],
   "source": [
    "println(\"typeof(Any) is $(typeof(Any))\")\n",
    "println(\"typeof(Type) is $(typeof(Type))\")\n",
    "println(\"typeof(Union) is $(typeof(Union))\")"
   ]
  },
  {
   "cell_type": "markdown",
   "metadata": {
    "colab_type": "text",
    "id": "dhtA33xq3t_N"
   },
   "source": [
    "如果 `Union` 內參數為空，即 `Union{}`，則其為特殊型別，是最底層的型別，是所有型別的子型別。"
   ]
  },
  {
   "cell_type": "code",
   "execution_count": 76,
   "metadata": {
    "colab": {},
    "colab_type": "code",
    "id": "w-48WY2j3t_t",
    "outputId": "d8b79033-1d36-4760-d823-c40bcf09c68e"
   },
   "outputs": [
    {
     "data": {
      "text/plain": [
       "Core.TypeofBottom"
      ]
     },
     "execution_count": 76,
     "metadata": {},
     "output_type": "execute_result"
    }
   ],
   "source": [
    "typeof(Union{})"
   ]
  },
  {
   "cell_type": "code",
   "execution_count": 77,
   "metadata": {},
   "outputs": [
    {
     "data": {
      "text/plain": [
       "DataType"
      ]
     },
     "execution_count": 77,
     "metadata": {},
     "output_type": "execute_result"
    }
   ],
   "source": [
    "# in comparison\n",
    "typeof(Union{Int64})"
   ]
  },
  {
   "cell_type": "code",
   "execution_count": 78,
   "metadata": {},
   "outputs": [
    {
     "data": {
      "text/plain": [
       "Union"
      ]
     },
     "execution_count": 78,
     "metadata": {},
     "output_type": "execute_result"
    }
   ],
   "source": [
    "# in comparison\n",
    "typeof(Union{Int64,Int32})"
   ]
  },
  {
   "cell_type": "code",
   "execution_count": 79,
   "metadata": {
    "colab": {},
    "colab_type": "code",
    "id": "nrXf3S_13uAA",
    "outputId": "c54fea18-83a1-4581-f65f-7da7d3778924",
    "scrolled": true
   },
   "outputs": [
    {
     "data": {
      "text/plain": [
       "0-element Array{Type,1}"
      ]
     },
     "execution_count": 79,
     "metadata": {},
     "output_type": "execute_result"
    }
   ],
   "source": [
    "subtypes(Union{})"
   ]
  },
  {
   "cell_type": "code",
   "execution_count": 80,
   "metadata": {},
   "outputs": [
    {
     "data": {
      "text/plain": [
       "0-element Array{Type,1}"
      ]
     },
     "execution_count": 80,
     "metadata": {},
     "output_type": "execute_result"
    }
   ],
   "source": [
    "# in comparison\n",
    "subtypes(Union{Int64,Int32})"
   ]
  },
  {
   "cell_type": "markdown",
   "metadata": {
    "colab_type": "text",
    "id": "isxvuM0Q3uBJ"
   },
   "source": [
    "## 7. 型別參數化 (Parametric Types)\n",
    "\n",
    "- 型別參數化可以彈性地型別，而不影響程式的彈性及重覆使用性，也能降低程式的複雜度。型別參數化分為兩個部分介紹：\n",
    "    - 複合型別參數化\n",
    "    - 抽象型別參數化\n",
    "- 型別參數化相較於抽象型別可以使程式碼被執行得更快(因為，以下`struct Point`為例，`x`的型別在實例化的時候就會被確定，之後投入運算會更有效率)，但代價是實例化後就不能變更域值的型別(見julia 1.4 doc 43.5 Type Declarations)"
   ]
  },
  {
   "cell_type": "markdown",
   "metadata": {
    "colab_type": "text",
    "id": "fdf3iFxH3uBK"
   },
   "source": [
    "### 複合型別參數化\n",
    "\n",
    "複合型別參數化的宣告語法：`struct <<name>>{T}`"
   ]
  },
  {
   "cell_type": "code",
   "execution_count": 130,
   "metadata": {
    "colab": {},
    "colab_type": "code",
    "id": "LCw_ccBK3uBL"
   },
   "outputs": [],
   "source": [
    "struct Point{T}\n",
    "    x::T\n",
    "end"
   ]
  },
  {
   "cell_type": "code",
   "execution_count": 1,
   "metadata": {},
   "outputs": [
    {
     "data": {
      "text/plain": [
       "Rational{Int64}"
      ]
     },
     "execution_count": 1,
     "metadata": {},
     "output_type": "execute_result"
    }
   ],
   "source": [
    "typeof(5//2)"
   ]
  },
  {
   "cell_type": "code",
   "execution_count": 131,
   "metadata": {},
   "outputs": [
    {
     "data": {
      "text/plain": [
       "Point{Rational{Int64}}(5//2)"
      ]
     },
     "execution_count": 131,
     "metadata": {},
     "output_type": "execute_result"
    }
   ],
   "source": [
    "x1 = 5//2\n",
    "t1 = Point(x1)"
   ]
  },
  {
   "cell_type": "code",
   "execution_count": 133,
   "metadata": {},
   "outputs": [
    {
     "ename": "MethodError",
     "evalue": "MethodError: no method matching *(::Point{Rational{Int64}}, ::Int64)\nClosest candidates are:\n  *(::Any, ::Any, !Matched::Any, !Matched::Any...) at operators.jl:529\n  *(!Matched::Complex{Bool}, ::Real) at complex.jl:309\n  *(!Matched::Missing, ::Number) at missing.jl:115\n  ...",
     "output_type": "error",
     "traceback": [
      "MethodError: no method matching *(::Point{Rational{Int64}}, ::Int64)\nClosest candidates are:\n  *(::Any, ::Any, !Matched::Any, !Matched::Any...) at operators.jl:529\n  *(!Matched::Complex{Bool}, ::Real) at complex.jl:309\n  *(!Matched::Missing, ::Number) at missing.jl:115\n  ...",
      "",
      "Stacktrace:",
      " [1] top-level scope at In[133]:1"
     ]
    }
   ],
   "source": [
    "t1 * 2"
   ]
  },
  {
   "cell_type": "code",
   "execution_count": 134,
   "metadata": {},
   "outputs": [
    {
     "data": {
      "text/plain": [
       "Point{Float64}(1.0e10)"
      ]
     },
     "execution_count": 134,
     "metadata": {},
     "output_type": "execute_result"
    }
   ],
   "source": [
    "x1 = 1e10\n",
    "t1 = Point(x1)"
   ]
  },
  {
   "cell_type": "code",
   "execution_count": 127,
   "metadata": {},
   "outputs": [
    {
     "data": {
      "text/plain": [
       "Point{Float64}"
      ]
     },
     "execution_count": 127,
     "metadata": {},
     "output_type": "execute_result"
    }
   ],
   "source": [
    "typeof(t1)"
   ]
  },
  {
   "cell_type": "code",
   "execution_count": 128,
   "metadata": {},
   "outputs": [
    {
     "data": {
      "text/plain": [
       "UnionAll"
      ]
     },
     "execution_count": 128,
     "metadata": {},
     "output_type": "execute_result"
    }
   ],
   "source": [
    "typeof(Point)"
   ]
  },
  {
   "cell_type": "markdown",
   "metadata": {},
   "source": [
    "`Vector` to create an array is in fact a struct (parametric types)"
   ]
  },
  {
   "cell_type": "code",
   "execution_count": 16,
   "metadata": {
    "scrolled": false
   },
   "outputs": [
    {
     "name": "stdout",
     "output_type": "stream",
     "text": [
      "UnionAll\n",
      "  var: TypeVar\n",
      "    name: Symbol T\n",
      "    lb: Core.TypeofBottom Union{}\n",
      "    ub: Any\n",
      "  body: Array{T,1} <: DenseArray{T,1}\n"
     ]
    }
   ],
   "source": [
    "dump(Vector)"
   ]
  },
  {
   "cell_type": "code",
   "execution_count": 17,
   "metadata": {
    "scrolled": true
   },
   "outputs": [
    {
     "data": {
      "text/plain": [
       "Union{}"
      ]
     },
     "execution_count": 17,
     "metadata": {},
     "output_type": "execute_result"
    }
   ],
   "source": [
    "Vector.var.lb"
   ]
  },
  {
   "cell_type": "code",
   "execution_count": 18,
   "metadata": {
    "scrolled": true
   },
   "outputs": [
    {
     "data": {
      "text/plain": [
       ":T"
      ]
     },
     "execution_count": 18,
     "metadata": {},
     "output_type": "execute_result"
    }
   ],
   "source": [
    "Vector.var.name"
   ]
  },
  {
   "cell_type": "code",
   "execution_count": 21,
   "metadata": {},
   "outputs": [
    {
     "data": {
      "text/plain": [
       "Array{T,1}"
      ]
     },
     "execution_count": 21,
     "metadata": {},
     "output_type": "execute_result"
    }
   ],
   "source": [
    "Vector.body"
   ]
  },
  {
   "cell_type": "code",
   "execution_count": 22,
   "metadata": {},
   "outputs": [
    {
     "data": {
      "text/plain": [
       "Array{Int64,1}"
      ]
     },
     "execution_count": 22,
     "metadata": {},
     "output_type": "execute_result"
    }
   ],
   "source": [
    "Vector{Int64}"
   ]
  },
  {
   "cell_type": "code",
   "execution_count": 23,
   "metadata": {},
   "outputs": [
    {
     "ename": "UndefVarError",
     "evalue": "UndefVarError: T not defined",
     "output_type": "error",
     "traceback": [
      "UndefVarError: T not defined",
      "",
      "Stacktrace:",
      " [1] top-level scope at none:0"
     ]
    }
   ],
   "source": [
    "# T is not a type such as Int64 or Any\n",
    "# it is also OK to use other words/letters to replace T\n",
    "struct PointAnyType{Int64}\n",
    "    x::T\n",
    "end"
   ]
  },
  {
   "cell_type": "code",
   "execution_count": 28,
   "metadata": {},
   "outputs": [
    {
     "data": {
      "text/plain": [
       "DataType"
      ]
     },
     "execution_count": 28,
     "metadata": {},
     "output_type": "execute_result"
    }
   ],
   "source": [
    "struct PointF64\n",
    "    x::Float64\n",
    "end\n",
    "typeof(PointF64) # compare to typeof(Point) above"
   ]
  },
  {
   "cell_type": "code",
   "execution_count": 110,
   "metadata": {},
   "outputs": [
    {
     "data": {
      "text/plain": [
       "Point64"
      ]
     },
     "execution_count": 110,
     "metadata": {},
     "output_type": "execute_result"
    }
   ],
   "source": [
    "Point64"
   ]
  },
  {
   "cell_type": "code",
   "execution_count": 111,
   "metadata": {},
   "outputs": [
    {
     "data": {
      "text/plain": [
       "Any"
      ]
     },
     "execution_count": 111,
     "metadata": {},
     "output_type": "execute_result"
    }
   ],
   "source": [
    "Any"
   ]
  },
  {
   "cell_type": "code",
   "execution_count": 112,
   "metadata": {},
   "outputs": [
    {
     "data": {
      "text/plain": [
       "Int64"
      ]
     },
     "execution_count": 112,
     "metadata": {},
     "output_type": "execute_result"
    }
   ],
   "source": [
    "Int64"
   ]
  },
  {
   "cell_type": "markdown",
   "metadata": {
    "colab_type": "text",
    "id": "6I3OrpSt3uBi"
   },
   "source": [
    "### 抽象型別參數化\n",
    "\n",
    "下例是抽象型別 `Pointy` 參數化，而 `Pointy` 有三個子型別，分別代表一維、二維、三維座標型別而有不同的成員。型別階層如下圖：\n",
    "\n",
    "![](pointy.png)\n",
    "\n",
    "抽象化型別參數化的宣告語法：`abstract type <<name>>:{T} end`"
   ]
  },
  {
   "cell_type": "code",
   "execution_count": 29,
   "metadata": {
    "colab": {},
    "colab_type": "code",
    "id": "duXj0PMu3uBk"
   },
   "outputs": [],
   "source": [
    "abstract type Pointy{T} end"
   ]
  },
  {
   "cell_type": "code",
   "execution_count": 30,
   "metadata": {},
   "outputs": [
    {
     "data": {
      "text/plain": [
       "Pointy"
      ]
     },
     "execution_count": 30,
     "metadata": {},
     "output_type": "execute_result"
    }
   ],
   "source": [
    "Pointy"
   ]
  },
  {
   "cell_type": "code",
   "execution_count": 31,
   "metadata": {
    "colab": {},
    "colab_type": "code",
    "id": "tlbzbJRa3uBs"
   },
   "outputs": [],
   "source": [
    "struct Point1D{T} <: Pointy{T}\n",
    "    x::T\n",
    "end"
   ]
  },
  {
   "cell_type": "code",
   "execution_count": 32,
   "metadata": {
    "colab": {},
    "colab_type": "code",
    "id": "3L3HfWPM3uBw"
   },
   "outputs": [],
   "source": [
    "struct Point2D{T} <: Pointy{T}\n",
    "    x::T\n",
    "    y::T\n",
    "end"
   ]
  },
  {
   "cell_type": "code",
   "execution_count": 54,
   "metadata": {
    "colab": {},
    "colab_type": "code",
    "id": "CVFCmUMb3uCj"
   },
   "outputs": [],
   "source": [
    "struct Point3D{T} <: Pointy{T}\n",
    "    x::T\n",
    "    y::T\n",
    "    z::T\n",
    "    struct N3DS\n",
    "        switch::Int\n",
    "    end    ## struct in struct won't cause error but is effectiveless at all.\n",
    "end"
   ]
  },
  {
   "cell_type": "code",
   "execution_count": 55,
   "metadata": {},
   "outputs": [
    {
     "data": {
      "text/plain": [
       "Point3D{Int64}(3, 2, 1)"
      ]
     },
     "execution_count": 55,
     "metadata": {},
     "output_type": "execute_result"
    }
   ],
   "source": [
    "a = Point3D{Int64}(3,2,1)"
   ]
  },
  {
   "cell_type": "code",
   "execution_count": 56,
   "metadata": {},
   "outputs": [
    {
     "data": {
      "text/plain": [
       "Point3D{Int64}"
      ]
     },
     "execution_count": 56,
     "metadata": {},
     "output_type": "execute_result"
    }
   ],
   "source": [
    "typeof(a)"
   ]
  },
  {
   "cell_type": "code",
   "execution_count": 57,
   "metadata": {},
   "outputs": [
    {
     "name": "stdout",
     "output_type": "stream",
     "text": [
      "UnionAll\n",
      "  var: TypeVar\n",
      "    name: Symbol T\n",
      "    lb: Core.TypeofBottom Union{}\n",
      "    ub: Any\n",
      "  body: Point3D{T} <: Pointy{T}\n",
      "    x::T\n",
      "    y::T\n",
      "    z::T\n"
     ]
    }
   ],
   "source": [
    "dump(Point3D)"
   ]
  },
  {
   "cell_type": "markdown",
   "metadata": {},
   "source": [
    "Comparing to `Vector`"
   ]
  },
  {
   "cell_type": "code",
   "execution_count": 58,
   "metadata": {},
   "outputs": [
    {
     "name": "stdout",
     "output_type": "stream",
     "text": [
      "UnionAll\n",
      "  var: TypeVar\n",
      "    name: Symbol T\n",
      "    lb: Core.TypeofBottom Union{}\n",
      "    ub: Any\n",
      "  body: Array{T,1} <: DenseArray{T,1}\n"
     ]
    }
   ],
   "source": [
    "dump(Vector)"
   ]
  },
  {
   "cell_type": "code",
   "execution_count": 59,
   "metadata": {},
   "outputs": [
    {
     "data": {
      "text/plain": [
       "3-element Array{Int64,1}:\n",
       " 1\n",
       " 2\n",
       " 3"
      ]
     },
     "execution_count": 59,
     "metadata": {},
     "output_type": "execute_result"
    }
   ],
   "source": [
    "b = Vector{Int64}(1:3)"
   ]
  },
  {
   "cell_type": "code",
   "execution_count": 39,
   "metadata": {},
   "outputs": [
    {
     "data": {
      "text/plain": [
       "Array{Int64,1}"
      ]
     },
     "execution_count": 39,
     "metadata": {},
     "output_type": "execute_result"
    }
   ],
   "source": [
    "typeof(b)"
   ]
  },
  {
   "cell_type": "markdown",
   "metadata": {
    "colab_type": "text",
    "id": "BjHYHeRx3uC5"
   },
   "source": [
    "函式之引數宣告為抽象型別，在函式內判斷傳入的複合型別為何，並印出傳入的成員值。\n",
    "\n",
    "透過 `isa()` 函式判斷型別，若型別相同則為 `true`，若不同則為 `false`。"
   ]
  },
  {
   "cell_type": "code",
   "execution_count": 159,
   "metadata": {
    "colab": {},
    "colab_type": "code",
    "id": "tz6MOWFH3uC7",
    "outputId": "70a4c246-9859-47a5-c7a6-a0d3e0a66340"
   },
   "outputs": [
    {
     "data": {
      "text/plain": [
       "print_members (generic function with 1 method)"
      ]
     },
     "execution_count": 159,
     "metadata": {},
     "output_type": "execute_result"
    }
   ],
   "source": [
    "function print_members(p::Pointy)\n",
    "    if isa(p, Point1D)\n",
    "        println(p.x)\n",
    "    elseif isa(p, Point2D)\n",
    "        println(p.x, \" \", p.y)\n",
    "    else\n",
    "        println(p.x, \" \", p.y, \" \", p.z)\n",
    "    end\n",
    "end"
   ]
  },
  {
   "cell_type": "code",
   "execution_count": 160,
   "metadata": {
    "colab": {},
    "colab_type": "code",
    "id": "CaUHOGEV3uDC",
    "outputId": "863d20de-54eb-41ca-e4b0-e83696a1be0b"
   },
   "outputs": [
    {
     "data": {
      "text/plain": [
       "Point2D{Float64}(1.0, 2.0)"
      ]
     },
     "execution_count": 160,
     "metadata": {},
     "output_type": "execute_result"
    }
   ],
   "source": [
    "p2 = Point2D(1.0, 2.0)"
   ]
  },
  {
   "cell_type": "code",
   "execution_count": 161,
   "metadata": {
    "colab": {},
    "colab_type": "code",
    "id": "Zmosc9KC3uD0",
    "outputId": "bb086b82-caa2-44b7-c685-225863081d6e"
   },
   "outputs": [
    {
     "name": "stdout",
     "output_type": "stream",
     "text": [
      "1.0 2.0\n"
     ]
    }
   ],
   "source": [
    "print_members(p2)"
   ]
  },
  {
   "cell_type": "markdown",
   "metadata": {
    "colab": {},
    "colab_type": "code",
    "id": "8G_kE0I03uD5"
   },
   "source": [
    "Also see:\n",
    "https://medium.com/@dboyliao/julia-%E7%8E%A9%E6%A8%82%E7%AD%86%E8%A8%98-type-system-378edeab7577"
   ]
  },
  {
   "cell_type": "markdown",
   "metadata": {},
   "source": [
    "# julia 玩樂筆記: Type System\n",
    "## TL;DR\n",
    "\n",
    "- 分別有 abstract type 與 concrete type 兩種\n",
    "    - abstract type 可以被繼承，但不能生成實例；\n",
    "    - concrete type 可以生成實例，但不能被繼承。\n",
    "    - Julia 主要是透過 abstract type 去確立各種 type 之間的階層關係，而 concrete type 才真的實作了物件如何生成。\n",
    "- 不可以多重繼承。\n",
    "    - 每個 type 的 supertype 都只會有一個\n",
    "- UnionAll: 所有帶有未知參數的 parametric type 的 type\n",
    "- Type: 一個 singleton parametric type，isa(A, Type{B}) = true if and only if A === B\n",
    "- DataType: 所有未帶有任何未知參數的 type 的 type\n",
    "- Any: 所有 type 的 supertype\n",
    "- Union{}: 所有 type 的 subtype，不會有任何 type 會是 Union{} 的 subtype 。\n",
    "\n",
    "> **(!) 為了幫助理解，本資源可能含有不正確的資訊。**\n",
    "> **Please also refer to https://yuehhua.github.io/2017/06/05/state-centered-behavior-centered-oop/?fbclid=IwAR1knUVQubIC_MAZt1hcOJv1Z6w42VnQgfVer_yz7dEmogYnTBwQEEcCkVA for a more canonical interpretation.**"
   ]
  },
  {
   "cell_type": "code",
   "execution_count": 162,
   "metadata": {},
   "outputs": [
    {
     "data": {
      "text/plain": [
       "supertypes (generic function with 1 method)"
      ]
     },
     "execution_count": 162,
     "metadata": {},
     "output_type": "execute_result"
    }
   ],
   "source": [
    "function supertypes(type)\n",
    "    if type === Any\n",
    "        return [Any]\n",
    "    end\n",
    "    supers = []\n",
    "    while true\n",
    "        if type === Any\n",
    "            break\n",
    "        end\n",
    "        type = supertype(type)\n",
    "        push!(supers, type)\n",
    "    end\n",
    "    supers\n",
    "end"
   ]
  },
  {
   "cell_type": "code",
   "execution_count": 163,
   "metadata": {},
   "outputs": [
    {
     "data": {
      "text/plain": [
       "5-element Array{Any,1}:\n",
       " Signed\n",
       " Integer\n",
       " Real\n",
       " Number\n",
       " Any"
      ]
     },
     "execution_count": 163,
     "metadata": {},
     "output_type": "execute_result"
    }
   ],
   "source": [
    "supertypes(Int64)"
   ]
  },
  {
   "cell_type": "code",
   "execution_count": 164,
   "metadata": {},
   "outputs": [
    {
     "data": {
      "text/plain": [
       "true"
      ]
     },
     "execution_count": 164,
     "metadata": {},
     "output_type": "execute_result"
    }
   ],
   "source": [
    "# that is\n",
    "Int64 <: Signed <: Integer <: Real <: Number <: Any"
   ]
  },
  {
   "cell_type": "code",
   "execution_count": 166,
   "metadata": {},
   "outputs": [
    {
     "name": "stdout",
     "output_type": "stream",
     "text": [
      "Int64 <: Signed <: Integer <: Real <: Number <: Any"
     ]
    }
   ],
   "source": [
    "# or use the built-in function:\n",
    "Base.show_supertypes(Int64)"
   ]
  },
  {
   "cell_type": "markdown",
   "metadata": {},
   "source": [
    "- Any 是所有 type 的 supertype，是 type graph 最頂端\n",
    "- Union{} 是 type graph 的最底層。也就是說沒有任何物件的型別會是 Union{} ，而 Union{} 會是所有 type 的 subtype"
   ]
  },
  {
   "cell_type": "code",
   "execution_count": 197,
   "metadata": {},
   "outputs": [
    {
     "data": {
      "text/plain": [
       "0-element Array{Type,1}"
      ]
     },
     "execution_count": 197,
     "metadata": {},
     "output_type": "execute_result"
    }
   ],
   "source": [
    "subtypes(Union)"
   ]
  },
  {
   "cell_type": "code",
   "execution_count": 199,
   "metadata": {},
   "outputs": [
    {
     "data": {
      "text/plain": [
       "0-element Array{Type,1}"
      ]
     },
     "execution_count": 199,
     "metadata": {},
     "output_type": "execute_result"
    }
   ],
   "source": [
    "subtypes(Union{Int64,Float64})"
   ]
  },
  {
   "cell_type": "markdown",
   "metadata": {},
   "source": [
    "## Type, DataType and Union\n",
    "\n",
    "在 Julia 裡所有的值都是 object ，所有的 object 都會有個 type 。 \n",
    "- 1.0 (值)是一個 Float64 (type) \n",
    "- 宣告函數時可以指定變數的型別，這能幫助 Julia compiler 優化效能， 譬如說 foo(x::Float64) 、 foo(x::Int32) \n",
    "- `Int64`, `Float32`... belong to **concrete type**, are instances of `DataType`\n",
    "    - they (e.g `Int64`) have a certain supertype,\n",
    "    - they can create instances, such as x = Int64; y = Int64;"
   ]
  },
  {
   "cell_type": "markdown",
   "metadata": {},
   "source": [
    "in julia, every value/parameter is an object, and every object has a type\n",
    "- instances can be created with *parameters and values*. E.g. Complex{Int64}.\n",
    "- a *parameter or value* is an object (an instance created, and can create instance)."
   ]
  },
  {
   "cell_type": "code",
   "execution_count": 204,
   "metadata": {},
   "outputs": [
    {
     "data": {
      "text/plain": [
       "(Int64, Int64)"
      ]
     },
     "execution_count": 204,
     "metadata": {},
     "output_type": "execute_result"
    }
   ],
   "source": [
    "x = 3 # x is an instance of Int64 with its value 3\n",
    "y = 4 # x is another instance of Int64 with its value 4\n",
    "typeof(y),typeof(x)"
   ]
  },
  {
   "cell_type": "code",
   "execution_count": 205,
   "metadata": {},
   "outputs": [
    {
     "data": {
      "text/plain": [
       "DataType"
      ]
     },
     "execution_count": 205,
     "metadata": {},
     "output_type": "execute_result"
    }
   ],
   "source": [
    "x = Int64 # an instance of DataType\n",
    "typeof(x)"
   ]
  },
  {
   "cell_type": "code",
   "execution_count": 206,
   "metadata": {},
   "outputs": [
    {
     "data": {
      "text/plain": [
       "(DataType, DataType, DataType)"
      ]
     },
     "execution_count": 206,
     "metadata": {},
     "output_type": "execute_result"
    }
   ],
   "source": [
    "typeof(Int64),typeof(Any),typeof(Union) # these 'types' are instances of Class 'DataType'"
   ]
  },
  {
   "cell_type": "code",
   "execution_count": 207,
   "metadata": {},
   "outputs": [
    {
     "name": "stdout",
     "output_type": "stream",
     "text": [
      "DataType <: Type{T} <: Any"
     ]
    }
   ],
   "source": [
    "Base.show_supertypes(DataType)"
   ]
  },
  {
   "cell_type": "code",
   "execution_count": 208,
   "metadata": {},
   "outputs": [
    {
     "data": {
      "text/plain": [
       "0-element Array{Type,1}"
      ]
     },
     "execution_count": 208,
     "metadata": {},
     "output_type": "execute_result"
    }
   ],
   "source": [
    "subtypes(DataType)"
   ]
  },
  {
   "cell_type": "markdown",
   "metadata": {},
   "source": [
    "field name of DataType and Int64\n",
    "- if **`xxx.mutable`** is true, its **field value can be modified**."
   ]
  },
  {
   "cell_type": "code",
   "execution_count": 213,
   "metadata": {},
   "outputs": [
    {
     "data": {
      "text/plain": [
       "(Int64, 8, Signed, false)"
      ]
     },
     "execution_count": 213,
     "metadata": {},
     "output_type": "execute_result"
    }
   ],
   "source": [
    "Int64.name, Int64.size, Int64.super, Int64.mutable"
   ]
  },
  {
   "cell_type": "code",
   "execution_count": 217,
   "metadata": {},
   "outputs": [
    {
     "data": {
      "text/plain": [
       "(DataType, 96, Type{T}, true)"
      ]
     },
     "execution_count": 217,
     "metadata": {},
     "output_type": "execute_result"
    }
   ],
   "source": [
    "DataType.name, DataType.size, DataType.super, DataType.mutable \n",
    "# Although DataType is mutable, but don't change its field values, it may crashed."
   ]
  },
  {
   "cell_type": "markdown",
   "metadata": {},
   "source": [
    " `Type{T}`\n",
    " - parametric singleton type\n",
    " - 在給定一個 T (例如 Float64) ，它唯一的實例就會是 T \n",
    " - is abstract\n",
    "     - `Float64 === Type{Float64}` is true, because Type{Float64} can never has an instance."
   ]
  },
  {
   "cell_type": "code",
   "execution_count": 236,
   "metadata": {},
   "outputs": [
    {
     "data": {
      "text/plain": [
       "true"
      ]
     },
     "execution_count": 236,
     "metadata": {},
     "output_type": "execute_result"
    }
   ],
   "source": [
    "isa(Float64,Type{Float64})"
   ]
  },
  {
   "cell_type": "markdown",
   "metadata": {},
   "source": [
    "UnionAll 即所有帶有未知參數的參數化型別的 type 。但當一個 parametric type 中的所有參數都為已知時，即變成一個 DataType 的實例；反之，若有任何未知參數，仍舊會是 UnionAll 的實例。"
   ]
  },
  {
   "cell_type": "code",
   "execution_count": 244,
   "metadata": {},
   "outputs": [
    {
     "data": {
      "text/plain": [
       "UnionAll"
      ]
     },
     "execution_count": 244,
     "metadata": {},
     "output_type": "execute_result"
    }
   ],
   "source": [
    "typeof(Type)"
   ]
  },
  {
   "cell_type": "code",
   "execution_count": 245,
   "metadata": {},
   "outputs": [
    {
     "data": {
      "text/plain": [
       "DataType"
      ]
     },
     "execution_count": 245,
     "metadata": {},
     "output_type": "execute_result"
    }
   ],
   "source": [
    "typeof(Type{Float64})"
   ]
  },
  {
   "cell_type": "code",
   "execution_count": 246,
   "metadata": {},
   "outputs": [
    {
     "data": {
      "text/plain": [
       "1-element Array{Any,1}:\n",
       " Type{Float64}"
      ]
     },
     "execution_count": 246,
     "metadata": {},
     "output_type": "execute_result"
    }
   ],
   "source": [
    "subtypes(Type{Float64})"
   ]
  },
  {
   "cell_type": "code",
   "execution_count": 247,
   "metadata": {},
   "outputs": [
    {
     "name": "stdout",
     "output_type": "stream",
     "text": [
      "Type{Float64} <: Any"
     ]
    }
   ],
   "source": [
    "Base.show_supertypes(Type{Float64})"
   ]
  },
  {
   "cell_type": "code",
   "execution_count": 248,
   "metadata": {},
   "outputs": [
    {
     "data": {
      "text/plain": [
       "4-element Array{Any,1}:\n",
       " Core.TypeofBottom\n",
       " DataType\n",
       " Union\n",
       " UnionAll"
      ]
     },
     "execution_count": 248,
     "metadata": {},
     "output_type": "execute_result"
    }
   ],
   "source": [
    "subtypes(Type)"
   ]
  },
  {
   "cell_type": "code",
   "execution_count": 249,
   "metadata": {},
   "outputs": [
    {
     "ename": "MethodError",
     "evalue": "MethodError: no method matching show_supertypes(::Type{Type})\nClosest candidates are:\n  show_supertypes(!Matched::IO, !Matched::DataType) at show.jl:595\n  show_supertypes(!Matched::DataType) at show.jl:602",
     "output_type": "error",
     "traceback": [
      "MethodError: no method matching show_supertypes(::Type{Type})\nClosest candidates are:\n  show_supertypes(!Matched::IO, !Matched::DataType) at show.jl:595\n  show_supertypes(!Matched::DataType) at show.jl:602",
      "",
      "Stacktrace:",
      " [1] top-level scope at In[249]:1"
     ]
    }
   ],
   "source": [
    "Base.show_supertypes(Type)"
   ]
  },
  {
   "cell_type": "markdown",
   "metadata": {},
   "source": [
    "因為 Julia 是採 multiple dispatching ，所以當在設計 package 並且需要給 type annotation 時，以上四種宣告方式會被呼叫的狀況與方式都不盡相同。\n",
    "\n",
    "- foo(x :: Float64)\n",
    "    - 適用於 x 是 Float64 的實例時，例如 x = 1.0\n",
    "- foo(x :: DataType)\n",
    "- foo(x :: Type)\n",
    "- foo(x :: UnionAll)\n",
    "    - 適用的狀況是 x 是 UnionAll 的實例時，例如 x = Complex"
   ]
  },
  {
   "cell_type": "code",
   "execution_count": null,
   "metadata": {},
   "outputs": [],
   "source": []
  }
 ],
 "metadata": {
  "@webio": {
   "lastCommId": null,
   "lastKernelId": null
  },
  "colab": {
   "name": "julia_012_example.ipynb",
   "provenance": []
  },
  "kernelspec": {
   "display_name": "Julia 1.4.0",
   "language": "julia",
   "name": "julia-1.4"
  },
  "language_info": {
   "file_extension": ".jl",
   "mimetype": "application/julia",
   "name": "julia",
   "version": "1.4.0"
  }
 },
 "nbformat": 4,
 "nbformat_minor": 1
}
