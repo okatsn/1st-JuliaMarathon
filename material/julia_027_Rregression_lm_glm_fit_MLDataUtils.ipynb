{
 "cells": [
  {
   "cell_type": "code",
   "execution_count": 11,
   "metadata": {},
   "outputs": [],
   "source": [
    "using Pkg"
   ]
  },
  {
   "cell_type": "code",
   "execution_count": 12,
   "metadata": {
    "scrolled": true
   },
   "outputs": [
    {
     "name": "stderr",
     "output_type": "stream",
     "text": [
      "\u001b[32m\u001b[1m   Updating\u001b[22m\u001b[39m registry at `C:\\Users\\HSI\\.julia\\registries\\General`\n",
      "\u001b[32m\u001b[1m   Updating\u001b[22m\u001b[39m git-repo `https://github.com/JuliaRegistries/General.git`\n"
     ]
    },
    {
     "name": "stdout",
     "output_type": "stream",
     "text": [
      "\u001b[2K\u001b[36m\u001b[1mFetching:\u001b[22m\u001b[39m [========================================>]  100.0 %.0 % [=====>                                   ]  11.4 %7 %.8 %.3 %>                            ]  29.2 %\u001b[36m\u001b[1mFetching:\u001b[22m\u001b[39m [==============>                          ]  33.6 %\u001b[36m\u001b[1mFetching:\u001b[22m\u001b[39m [================>                        ]  39.4 %.6 % [=====================>                   ]  50.6 % [=======================>                 ]  56.7 %]  64.7 %75.3 %]  82.2 %\u001b[36m\u001b[1mFetching:\u001b[22m\u001b[39m [=====================================>   ]  91.1 % %\u001b[?25h"
     ]
    },
    {
     "name": "stderr",
     "output_type": "stream",
     "text": [
      "\u001b[32m\u001b[1m  Resolving\u001b[22m\u001b[39m package versions...\n",
      "\u001b[32m\u001b[1m   Updating\u001b[22m\u001b[39m `C:\\Users\\HSI\\.julia\\environments\\v1.4\\Project.toml`\n",
      " \u001b[90m [3eaba693]\u001b[39m\u001b[92m + StatsModels v0.6.11\u001b[39m\n",
      "\u001b[32m\u001b[1m   Updating\u001b[22m\u001b[39m `C:\\Users\\HSI\\.julia\\environments\\v1.4\\Manifest.toml`\n",
      "\u001b[90m [no changes]\u001b[39m\n"
     ]
    }
   ],
   "source": [
    "Pkg.add(\"StatsModels\")"
   ]
  },
  {
   "cell_type": "code",
   "execution_count": 7,
   "metadata": {},
   "outputs": [],
   "source": [
    "using DataFrames\n",
    "using StatsModels"
   ]
  },
  {
   "cell_type": "code",
   "execution_count": 17,
   "metadata": {},
   "outputs": [
    {
     "data": {
      "text/latex": [
       "\\begin{tabular}\n",
       "{l | r | l}\n",
       "name & size & summary \\\\\n",
       "\\hline\n",
       "@formula & 0 bytes & StatsModels.var\"\\#@formula\" \\\\\n",
       "AbstractContrasts & 176 bytes & DataType \\\\\n",
       "AbstractTerm & 176 bytes & DataType \\\\\n",
       "CategoricalTerm & 120 bytes & UnionAll \\\\\n",
       "ConstantTerm & 40 bytes & UnionAll \\\\\n",
       "ContinuousTerm & 40 bytes & UnionAll \\\\\n",
       "ContrastsCoding & 80 bytes & UnionAll \\\\\n",
       "DummyCoding & 256 bytes & DataType \\\\\n",
       "EffectsCoding & 256 bytes & DataType \\\\\n",
       "FormulaTerm & 80 bytes & UnionAll \\\\\n",
       "FunctionTerm & 120 bytes & UnionAll \\\\\n",
       "HelmertCoding & 256 bytes & DataType \\\\\n",
       "HypothesisCoding & 120 bytes & UnionAll \\\\\n",
       "InteractionTerm & 40 bytes & UnionAll \\\\\n",
       "InterceptTerm & 40 bytes & UnionAll \\\\\n",
       "MatrixTerm & 80 bytes & UnionAll \\\\\n",
       "ModelFrame & 80 bytes & UnionAll \\\\\n",
       "ModelMatrix & 80 bytes & UnionAll \\\\\n",
       "RegressionModel & 176 bytes & DataType \\\\\n",
       "SeqDiffCoding & 256 bytes & DataType \\\\\n",
       "StatisticalModel & 176 bytes & DataType \\\\\n",
       "StatsModels & 594.785 KiB & Module \\\\\n",
       "Term & 192 bytes & DataType \\\\\n",
       "apply\\_schema & 0 bytes & typeof(apply\\_schema) \\\\\n",
       "coefnames & 0 bytes & typeof(coefnames) \\\\\n",
       "concrete\\_term & 0 bytes & typeof(concrete\\_term) \\\\\n",
       "drop\\_term & 0 bytes & typeof(drop\\_term) \\\\\n",
       "lag & 0 bytes & typeof(lag) \\\\\n",
       "lead & 0 bytes & typeof(lead) \\\\\n",
       "modelcols & 0 bytes & typeof(modelcols) \\\\\n",
       "modelmatrix & 0 bytes & typeof(modelmatrix) \\\\\n",
       "response & 0 bytes & typeof(response) \\\\\n",
       "schema & 0 bytes & typeof(schema) \\\\\n",
       "setcontrasts! & 0 bytes & typeof(setcontrasts!) \\\\\n",
       "term & 0 bytes & typeof(term) \\\\\n",
       "terms & 0 bytes & typeof(terms) \\\\\n",
       "width & 0 bytes & typeof(width) \\\\\n",
       "\\end{tabular}\n"
      ],
      "text/markdown": [
       "| name              |        size | summary                    |\n",
       "|:----------------- | -----------:|:-------------------------- |\n",
       "| @formula          |     0 bytes | StatsModels.var\"#@formula\" |\n",
       "| AbstractContrasts |   176 bytes | DataType                   |\n",
       "| AbstractTerm      |   176 bytes | DataType                   |\n",
       "| CategoricalTerm   |   120 bytes | UnionAll                   |\n",
       "| ConstantTerm      |    40 bytes | UnionAll                   |\n",
       "| ContinuousTerm    |    40 bytes | UnionAll                   |\n",
       "| ContrastsCoding   |    80 bytes | UnionAll                   |\n",
       "| DummyCoding       |   256 bytes | DataType                   |\n",
       "| EffectsCoding     |   256 bytes | DataType                   |\n",
       "| FormulaTerm       |    80 bytes | UnionAll                   |\n",
       "| FunctionTerm      |   120 bytes | UnionAll                   |\n",
       "| HelmertCoding     |   256 bytes | DataType                   |\n",
       "| HypothesisCoding  |   120 bytes | UnionAll                   |\n",
       "| InteractionTerm   |    40 bytes | UnionAll                   |\n",
       "| InterceptTerm     |    40 bytes | UnionAll                   |\n",
       "| MatrixTerm        |    80 bytes | UnionAll                   |\n",
       "| ModelFrame        |    80 bytes | UnionAll                   |\n",
       "| ModelMatrix       |    80 bytes | UnionAll                   |\n",
       "| RegressionModel   |   176 bytes | DataType                   |\n",
       "| SeqDiffCoding     |   256 bytes | DataType                   |\n",
       "| StatisticalModel  |   176 bytes | DataType                   |\n",
       "| StatsModels       | 594.785 KiB | Module                     |\n",
       "| Term              |   192 bytes | DataType                   |\n",
       "| apply_schema      |     0 bytes | typeof(apply_schema)       |\n",
       "| coefnames         |     0 bytes | typeof(coefnames)          |\n",
       "| concrete_term     |     0 bytes | typeof(concrete_term)      |\n",
       "| drop_term         |     0 bytes | typeof(drop_term)          |\n",
       "| lag               |     0 bytes | typeof(lag)                |\n",
       "| lead              |     0 bytes | typeof(lead)               |\n",
       "| modelcols         |     0 bytes | typeof(modelcols)          |\n",
       "| modelmatrix       |     0 bytes | typeof(modelmatrix)        |\n",
       "| response          |     0 bytes | typeof(response)           |\n",
       "| schema            |     0 bytes | typeof(schema)             |\n",
       "| setcontrasts!     |     0 bytes | typeof(setcontrasts!)      |\n",
       "| term              |     0 bytes | typeof(term)               |\n",
       "| terms             |     0 bytes | typeof(terms)              |\n",
       "| width             |     0 bytes | typeof(width)              |\n"
      ],
      "text/plain": [
       "  name                     size summary                   \n",
       "  ––––––––––––––––– ––––––––––– ––––––––––––––––––––––––––\n",
       "  @formula              0 bytes StatsModels.var\"#@formula\"\n",
       "  AbstractContrasts   176 bytes DataType                  \n",
       "  AbstractTerm        176 bytes DataType                  \n",
       "  CategoricalTerm     120 bytes UnionAll                  \n",
       "  ConstantTerm         40 bytes UnionAll                  \n",
       "  ContinuousTerm       40 bytes UnionAll                  \n",
       "  ContrastsCoding      80 bytes UnionAll                  \n",
       "  DummyCoding         256 bytes DataType                  \n",
       "  EffectsCoding       256 bytes DataType                  \n",
       "  FormulaTerm          80 bytes UnionAll                  \n",
       "  FunctionTerm        120 bytes UnionAll                  \n",
       "  HelmertCoding       256 bytes DataType                  \n",
       "  HypothesisCoding    120 bytes UnionAll                  \n",
       "  InteractionTerm      40 bytes UnionAll                  \n",
       "  InterceptTerm        40 bytes UnionAll                  \n",
       "  MatrixTerm           80 bytes UnionAll                  \n",
       "  ModelFrame           80 bytes UnionAll                  \n",
       "  ModelMatrix          80 bytes UnionAll                  \n",
       "  RegressionModel     176 bytes DataType                  \n",
       "  SeqDiffCoding       256 bytes DataType                  \n",
       "  StatisticalModel    176 bytes DataType                  \n",
       "  StatsModels       594.785 KiB Module                    \n",
       "  Term                192 bytes DataType                  \n",
       "  apply_schema          0 bytes typeof(apply_schema)      \n",
       "  coefnames             0 bytes typeof(coefnames)         \n",
       "  concrete_term         0 bytes typeof(concrete_term)     \n",
       "  drop_term             0 bytes typeof(drop_term)         \n",
       "  lag                   0 bytes typeof(lag)               \n",
       "  lead                  0 bytes typeof(lead)              \n",
       "  modelcols             0 bytes typeof(modelcols)         \n",
       "  modelmatrix           0 bytes typeof(modelmatrix)       \n",
       "  response              0 bytes typeof(response)          \n",
       "  schema                0 bytes typeof(schema)            \n",
       "  setcontrasts!         0 bytes typeof(setcontrasts!)     \n",
       "  term                  0 bytes typeof(term)              \n",
       "  terms                 0 bytes typeof(terms)             \n",
       "  width                 0 bytes typeof(width)             "
      ]
     },
     "execution_count": 17,
     "metadata": {},
     "output_type": "execute_result"
    }
   ],
   "source": [
    "varinfo(StatsModels) # @formula moves from DataFrames to StatsModels"
   ]
  },
  {
   "cell_type": "code",
   "execution_count": 18,
   "metadata": {},
   "outputs": [
    {
     "data": {
      "text/html": [
       "<table class=\"data-frame\"><thead><tr><th></th><th>X</th><th>Y</th><th>Z</th></tr><tr><th></th><th>Float64</th><th>Float64</th><th>Float64</th></tr></thead><tbody><p>10 rows × 3 columns</p><tr><th>1</th><td>-1.89257</td><td>-0.373101</td><td>-0.175116</td></tr><tr><th>2</th><td>-1.86395</td><td>-1.83284</td><td>1.01722</td></tr><tr><th>3</th><td>1.01318</td><td>0.0370604</td><td>1.36016</td></tr><tr><th>4</th><td>0.971787</td><td>1.12404</td><td>-0.690931</td></tr><tr><th>5</th><td>-1.87841</td><td>-1.00884</td><td>1.55139</td></tr><tr><th>6</th><td>-0.820467</td><td>0.00635946</td><td>-0.384611</td></tr><tr><th>7</th><td>-0.227944</td><td>1.52437</td><td>-1.13833</td></tr><tr><th>8</th><td>0.449975</td><td>-0.354565</td><td>-1.55742</td></tr><tr><th>9</th><td>0.46765</td><td>-0.233596</td><td>-0.591067</td></tr><tr><th>10</th><td>0.903586</td><td>1.42543</td><td>-0.383819</td></tr></tbody></table>"
      ],
      "text/latex": [
       "\\begin{tabular}{r|ccc}\n",
       "\t& X & Y & Z\\\\\n",
       "\t\\hline\n",
       "\t& Float64 & Float64 & Float64\\\\\n",
       "\t\\hline\n",
       "\t1 & -1.89257 & -0.373101 & -0.175116 \\\\\n",
       "\t2 & -1.86395 & -1.83284 & 1.01722 \\\\\n",
       "\t3 & 1.01318 & 0.0370604 & 1.36016 \\\\\n",
       "\t4 & 0.971787 & 1.12404 & -0.690931 \\\\\n",
       "\t5 & -1.87841 & -1.00884 & 1.55139 \\\\\n",
       "\t6 & -0.820467 & 0.00635946 & -0.384611 \\\\\n",
       "\t7 & -0.227944 & 1.52437 & -1.13833 \\\\\n",
       "\t8 & 0.449975 & -0.354565 & -1.55742 \\\\\n",
       "\t9 & 0.46765 & -0.233596 & -0.591067 \\\\\n",
       "\t10 & 0.903586 & 1.42543 & -0.383819 \\\\\n",
       "\\end{tabular}\n"
      ],
      "text/plain": [
       "10×3 DataFrame\n",
       "│ Row │ X         │ Y          │ Z         │\n",
       "│     │ \u001b[90mFloat64\u001b[39m   │ \u001b[90mFloat64\u001b[39m    │ \u001b[90mFloat64\u001b[39m   │\n",
       "├─────┼───────────┼────────────┼───────────┤\n",
       "│ 1   │ -1.89257  │ -0.373101  │ -0.175116 │\n",
       "│ 2   │ -1.86395  │ -1.83284   │ 1.01722   │\n",
       "│ 3   │ 1.01318   │ 0.0370604  │ 1.36016   │\n",
       "│ 4   │ 0.971787  │ 1.12404    │ -0.690931 │\n",
       "│ 5   │ -1.87841  │ -1.00884   │ 1.55139   │\n",
       "│ 6   │ -0.820467 │ 0.00635946 │ -0.384611 │\n",
       "│ 7   │ -0.227944 │ 1.52437    │ -1.13833  │\n",
       "│ 8   │ 0.449975  │ -0.354565  │ -1.55742  │\n",
       "│ 9   │ 0.46765   │ -0.233596  │ -0.591067 │\n",
       "│ 10  │ 0.903586  │ 1.42543    │ -0.383819 │"
      ]
     },
     "execution_count": 18,
     "metadata": {},
     "output_type": "execute_result"
    }
   ],
   "source": [
    "df0 = DataFrame(X = randn(10), Y = randn(10), Z = randn(10))"
   ]
  },
  {
   "cell_type": "markdown",
   "metadata": {},
   "source": [
    "### Regression\n",
    "Regression **coefficients** are estimates of the unknown population parameters and describe the relationship between a **predictor** variable and the **response**. \n",
    "- $G_\\text{(predictor)}m_\\text{(coefficient)}=d_\\text{(response)}$\n",
    "- $y = 3_\\text{(coefficient)}X_\\text{(predictor)} +5$\n",
    "    - The coefficient value: the mean change in the response given a one unit change in the predictor. \n",
    "    - For example, if a coefficient is +3, the mean response value increases by 3 for every one unit change in the predictor.\n",
    "    - [Source](https://statisticsbyjim.com/glossary/regression-coefficient/)"
   ]
  },
  {
   "cell_type": "code",
   "execution_count": 19,
   "metadata": {},
   "outputs": [
    {
     "data": {
      "text/plain": [
       "10×3 Array{Float64,2}:\n",
       " 1.0  -1.89257   -0.373101\n",
       " 1.0  -1.86395   -1.83284\n",
       " 1.0   1.01318    0.0370604\n",
       " 1.0   0.971787   1.12404\n",
       " 1.0  -1.87841   -1.00884\n",
       " 1.0  -0.820467   0.00635946\n",
       " 1.0  -0.227944   1.52437\n",
       " 1.0   0.449975  -0.354565\n",
       " 1.0   0.46765   -0.233596\n",
       " 1.0   0.903586   1.42543"
      ]
     },
     "execution_count": 19,
     "metadata": {},
     "output_type": "execute_result"
    }
   ],
   "source": [
    "# model: Z = a*X + b*Y + c\n",
    "mf = ModelFrame(@formula(Z ~ X + Y), df0)\n",
    "mm = ModelMatrix(mf)\n",
    "d = df0.Z; # response\n",
    "G = mm.m # predictors of constant term (G[:,1]), X (G[:,2]), Y(G[:,3]) "
   ]
  },
  {
   "cell_type": "code",
   "execution_count": 49,
   "metadata": {},
   "outputs": [
    {
     "data": {
      "text/plain": [
       "3-element Array{Float64,1}:\n",
       "  0.04265593272317243\n",
       " -0.4825797328490245\n",
       "  0.1654418160874117"
      ]
     },
     "execution_count": 49,
     "metadata": {},
     "output_type": "execute_result"
    }
   ],
   "source": [
    "m = G \\ d # coefficient (That is \"c,a,b\" in c + aX + bY)"
   ]
  },
  {
   "cell_type": "markdown",
   "metadata": {},
   "source": [
    "# Julia 機器學習：GLM 線性迴歸"
   ]
  },
  {
   "cell_type": "markdown",
   "metadata": {},
   "source": [
    "本範例需要使用到的套件有 GLM、RDatasets、MLDataUtils，請在執行以下範例前先安裝。\n",
    "\n",
    "```\n",
    "] add GLM\n",
    "] add RDatasets\n",
    "] add MLDataUtils\n",
    "```"
   ]
  },
  {
   "cell_type": "code",
   "execution_count": 50,
   "metadata": {},
   "outputs": [
    {
     "name": "stderr",
     "output_type": "stream",
     "text": [
      "\u001b[32m\u001b[1m  Resolving\u001b[22m\u001b[39m package versions...\n",
      "\u001b[32m\u001b[1m   Updating\u001b[22m\u001b[39m `C:\\Users\\HSI\\.julia\\environments\\v1.4\\Project.toml`\n",
      "\u001b[90m [no changes]\u001b[39m\n",
      "\u001b[32m\u001b[1m   Updating\u001b[22m\u001b[39m `C:\\Users\\HSI\\.julia\\environments\\v1.4\\Manifest.toml`\n",
      "\u001b[90m [no changes]\u001b[39m\n"
     ]
    }
   ],
   "source": [
    "using Pkg\n",
    "Pkg.add([\"GLM\",\"RDatasets\",\"MLDataUtils\",\"Statistics\"])"
   ]
  },
  {
   "cell_type": "code",
   "execution_count": 21,
   "metadata": {},
   "outputs": [
    {
     "name": "stderr",
     "output_type": "stream",
     "text": [
      "┌ Info: Precompiling GLM [38e38edf-8417-5370-95a0-9cbb8c7f171a]\n",
      "└ @ Base loading.jl:1260\n",
      "┌ Info: Precompiling MLDataUtils [cc2ba9b6-d476-5e6d-8eaf-a92d5412d41d]\n",
      "└ @ Base loading.jl:1260\n"
     ]
    }
   ],
   "source": [
    "using GLM\n",
    "using RDatasets\n",
    "using MLDataUtils\n",
    "using Statistics"
   ]
  },
  {
   "cell_type": "markdown",
   "metadata": {},
   "source": [
    "## 單純線性迴歸模型示範"
   ]
  },
  {
   "cell_type": "markdown",
   "metadata": {},
   "source": [
    "## 載入資料"
   ]
  },
  {
   "cell_type": "code",
   "execution_count": 22,
   "metadata": {},
   "outputs": [
    {
     "data": {
      "text/html": [
       "<table class=\"data-frame\"><thead><tr><th></th><th>Year</th><th>GNPDeflator</th><th>GNP</th><th>Unemployed</th><th>ArmedForces</th><th>Population</th><th>Year_1</th><th>Employed</th></tr><tr><th></th><th>Int64</th><th>Float64</th><th>Float64</th><th>Float64</th><th>Float64</th><th>Float64</th><th>Int64</th><th>Float64</th></tr></thead><tbody><p>5 rows × 8 columns</p><tr><th>1</th><td>1947</td><td>83.0</td><td>234.289</td><td>235.6</td><td>159.0</td><td>107.608</td><td>1947</td><td>60.323</td></tr><tr><th>2</th><td>1948</td><td>88.5</td><td>259.426</td><td>232.5</td><td>145.6</td><td>108.632</td><td>1948</td><td>61.122</td></tr><tr><th>3</th><td>1949</td><td>88.2</td><td>258.054</td><td>368.2</td><td>161.6</td><td>109.773</td><td>1949</td><td>60.171</td></tr><tr><th>4</th><td>1950</td><td>89.5</td><td>284.599</td><td>335.1</td><td>165.0</td><td>110.929</td><td>1950</td><td>61.187</td></tr><tr><th>5</th><td>1951</td><td>96.2</td><td>328.975</td><td>209.9</td><td>309.9</td><td>112.075</td><td>1951</td><td>63.221</td></tr></tbody></table>"
      ],
      "text/latex": [
       "\\begin{tabular}{r|cccccccc}\n",
       "\t& Year & GNPDeflator & GNP & Unemployed & ArmedForces & Population & Year\\_1 & Employed\\\\\n",
       "\t\\hline\n",
       "\t& Int64 & Float64 & Float64 & Float64 & Float64 & Float64 & Int64 & Float64\\\\\n",
       "\t\\hline\n",
       "\t1 & 1947 & 83.0 & 234.289 & 235.6 & 159.0 & 107.608 & 1947 & 60.323 \\\\\n",
       "\t2 & 1948 & 88.5 & 259.426 & 232.5 & 145.6 & 108.632 & 1948 & 61.122 \\\\\n",
       "\t3 & 1949 & 88.2 & 258.054 & 368.2 & 161.6 & 109.773 & 1949 & 60.171 \\\\\n",
       "\t4 & 1950 & 89.5 & 284.599 & 335.1 & 165.0 & 110.929 & 1950 & 61.187 \\\\\n",
       "\t5 & 1951 & 96.2 & 328.975 & 209.9 & 309.9 & 112.075 & 1951 & 63.221 \\\\\n",
       "\\end{tabular}\n"
      ],
      "text/plain": [
       "5×8 DataFrame. Omitted printing of 2 columns\n",
       "│ Row │ Year  │ GNPDeflator │ GNP     │ Unemployed │ ArmedForces │ Population │\n",
       "│     │ \u001b[90mInt64\u001b[39m │ \u001b[90mFloat64\u001b[39m     │ \u001b[90mFloat64\u001b[39m │ \u001b[90mFloat64\u001b[39m    │ \u001b[90mFloat64\u001b[39m     │ \u001b[90mFloat64\u001b[39m    │\n",
       "├─────┼───────┼─────────────┼─────────┼────────────┼─────────────┼────────────┤\n",
       "│ 1   │ 1947  │ 83.0        │ 234.289 │ 235.6      │ 159.0       │ 107.608    │\n",
       "│ 2   │ 1948  │ 88.5        │ 259.426 │ 232.5      │ 145.6       │ 108.632    │\n",
       "│ 3   │ 1949  │ 88.2        │ 258.054 │ 368.2      │ 161.6       │ 109.773    │\n",
       "│ 4   │ 1950  │ 89.5        │ 284.599 │ 335.1      │ 165.0       │ 110.929    │\n",
       "│ 5   │ 1951  │ 96.2        │ 328.975 │ 209.9      │ 309.9       │ 112.075    │"
      ]
     },
     "execution_count": 22,
     "metadata": {},
     "output_type": "execute_result"
    }
   ],
   "source": [
    "data = RDatasets.dataset(\"datasets\", \"longley\")\n",
    "first(data,5)"
   ]
  },
  {
   "cell_type": "markdown",
   "metadata": {},
   "source": [
    "## 線性迴歸模型\n",
    "`lm(X, y, allowrankdeficient::Bool=false; wts=similar(y, 0))`\n",
    "- An alias for `fit(LinearModel, X, y, allowrankdeficient)`"
   ]
  },
  {
   "cell_type": "code",
   "execution_count": 25,
   "metadata": {},
   "outputs": [
    {
     "data": {
      "text/plain": [
       "StatsModels.TableRegressionModel{LinearModel{GLM.LmResp{Array{Float64,1}},GLM.DensePredChol{Float64,LinearAlgebra.Cholesky{Float64,Array{Float64,2}}}},Array{Float64,2}}\n",
       "\n",
       "Employed ~ 1 + GNP\n",
       "\n",
       "Coefficients:\n",
       "──────────────────────────────────────────────────────────────────────────────\n",
       "               Estimate  Std. Error  t value  Pr(>|t|)   Lower 95%   Upper 95%\n",
       "──────────────────────────────────────────────────────────────────────────────\n",
       "(Intercept)  51.8436     0.681372    76.0871    <1e-19  50.3822     53.305\n",
       "GNP           0.0347523  0.00170571  20.3741    <1e-11   0.0310939   0.0384107\n",
       "──────────────────────────────────────────────────────────────────────────────"
      ]
     },
     "execution_count": 25,
     "metadata": {},
     "output_type": "execute_result"
    }
   ],
   "source": [
    "# model(coefficients):  Employed (response) ~ a*GNP(predictor) + b\n",
    "model = GLM.lm(@formula(Employed ~ GNP), data)"
   ]
  },
  {
   "cell_type": "code",
   "execution_count": 36,
   "metadata": {},
   "outputs": [
    {
     "data": {
      "text/plain": [
       "2-element Array{Float64,1}:\n",
       " 51.84358978188421\n",
       "  0.03475229434762888"
      ]
     },
     "execution_count": 36,
     "metadata": {},
     "output_type": "execute_result"
    }
   ],
   "source": [
    "intercept, slope = coef(model) \n",
    "# find coefficient (i.e. b,a in Employed = b + a*GNP)"
   ]
  },
  {
   "cell_type": "markdown",
   "metadata": {},
   "source": [
    "## 預測"
   ]
  },
  {
   "cell_type": "code",
   "execution_count": 26,
   "metadata": {},
   "outputs": [
    {
     "data": {
      "text/html": [
       "<table class=\"data-frame\"><thead><tr><th></th><th>GNP</th></tr><tr><th></th><th>Float64</th></tr></thead><tbody><p>3 rows × 1 columns</p><tr><th>1</th><td>300.0</td></tr><tr><th>2</th><td>400.0</td></tr><tr><th>3</th><td>500.0</td></tr></tbody></table>"
      ],
      "text/latex": [
       "\\begin{tabular}{r|c}\n",
       "\t& GNP\\\\\n",
       "\t\\hline\n",
       "\t& Float64\\\\\n",
       "\t\\hline\n",
       "\t1 & 300.0 \\\\\n",
       "\t2 & 400.0 \\\\\n",
       "\t3 & 500.0 \\\\\n",
       "\\end{tabular}\n"
      ],
      "text/plain": [
       "3×1 DataFrame\n",
       "│ Row │ GNP     │\n",
       "│     │ \u001b[90mFloat64\u001b[39m │\n",
       "├─────┼─────────┤\n",
       "│ 1   │ 300.0   │\n",
       "│ 2   │ 400.0   │\n",
       "│ 3   │ 500.0   │"
      ]
     },
     "execution_count": 26,
     "metadata": {},
     "output_type": "execute_result"
    }
   ],
   "source": [
    "new_X = DataFrame(GNP=[300., 400., 500.]) # a new predictor for X"
   ]
  },
  {
   "cell_type": "code",
   "execution_count": 27,
   "metadata": {},
   "outputs": [
    {
     "data": {
      "text/plain": [
       "3-element Array{Union{Missing, Float64},1}:\n",
       " 62.269278086172875\n",
       " 65.74450752093577\n",
       " 69.21973695569865"
      ]
     },
     "execution_count": 27,
     "metadata": {},
     "output_type": "execute_result"
    }
   ],
   "source": [
    "response_pred = predict(model, new_X)# model are parameters"
   ]
  },
  {
   "cell_type": "markdown",
   "metadata": {},
   "source": [
    "## 模型評估"
   ]
  },
  {
   "cell_type": "code",
   "execution_count": 28,
   "metadata": {},
   "outputs": [
    {
     "data": {
      "text/plain": [
       "0.9673737718541232"
      ]
     },
     "execution_count": 28,
     "metadata": {},
     "output_type": "execute_result"
    }
   ],
   "source": [
    "GLM.r2(model) # rsquare of model. higher, fits better."
   ]
  },
  {
   "cell_type": "code",
   "execution_count": 29,
   "metadata": {},
   "outputs": [
    {
     "data": {
      "text/plain": [
       "0.9650433269865606"
      ]
     },
     "execution_count": 29,
     "metadata": {},
     "output_type": "execute_result"
    }
   ],
   "source": [
    "GLM.adjr2(model)"
   ]
  },
  {
   "cell_type": "markdown",
   "metadata": {},
   "source": [
    "## 多元線性迴歸模型"
   ]
  },
  {
   "cell_type": "markdown",
   "metadata": {},
   "source": [
    "## 載入資料"
   ]
  },
  {
   "cell_type": "code",
   "execution_count": 30,
   "metadata": {},
   "outputs": [
    {
     "data": {
      "text/html": [
       "<table class=\"data-frame\"><thead><tr><th></th><th>Model</th><th>MPG</th><th>Cyl</th><th>Disp</th><th>HP</th><th>DRat</th><th>WT</th><th>QSec</th><th>VS</th></tr><tr><th></th><th>String</th><th>Float64</th><th>Int64</th><th>Float64</th><th>Int64</th><th>Float64</th><th>Float64</th><th>Float64</th><th>Int64</th></tr></thead><tbody><p>6 rows × 12 columns (omitted printing of 3 columns)</p><tr><th>1</th><td>Mazda RX4</td><td>21.0</td><td>6</td><td>160.0</td><td>110</td><td>3.9</td><td>2.62</td><td>16.46</td><td>0</td></tr><tr><th>2</th><td>Mazda RX4 Wag</td><td>21.0</td><td>6</td><td>160.0</td><td>110</td><td>3.9</td><td>2.875</td><td>17.02</td><td>0</td></tr><tr><th>3</th><td>Datsun 710</td><td>22.8</td><td>4</td><td>108.0</td><td>93</td><td>3.85</td><td>2.32</td><td>18.61</td><td>1</td></tr><tr><th>4</th><td>Hornet 4 Drive</td><td>21.4</td><td>6</td><td>258.0</td><td>110</td><td>3.08</td><td>3.215</td><td>19.44</td><td>1</td></tr><tr><th>5</th><td>Hornet Sportabout</td><td>18.7</td><td>8</td><td>360.0</td><td>175</td><td>3.15</td><td>3.44</td><td>17.02</td><td>0</td></tr><tr><th>6</th><td>Valiant</td><td>18.1</td><td>6</td><td>225.0</td><td>105</td><td>2.76</td><td>3.46</td><td>20.22</td><td>1</td></tr></tbody></table>"
      ],
      "text/latex": [
       "\\begin{tabular}{r|cccccccccc}\n",
       "\t& Model & MPG & Cyl & Disp & HP & DRat & WT & QSec & VS & \\\\\n",
       "\t\\hline\n",
       "\t& String & Float64 & Int64 & Float64 & Int64 & Float64 & Float64 & Float64 & Int64 & \\\\\n",
       "\t\\hline\n",
       "\t1 & Mazda RX4 & 21.0 & 6 & 160.0 & 110 & 3.9 & 2.62 & 16.46 & 0 & $\\dots$ \\\\\n",
       "\t2 & Mazda RX4 Wag & 21.0 & 6 & 160.0 & 110 & 3.9 & 2.875 & 17.02 & 0 & $\\dots$ \\\\\n",
       "\t3 & Datsun 710 & 22.8 & 4 & 108.0 & 93 & 3.85 & 2.32 & 18.61 & 1 & $\\dots$ \\\\\n",
       "\t4 & Hornet 4 Drive & 21.4 & 6 & 258.0 & 110 & 3.08 & 3.215 & 19.44 & 1 & $\\dots$ \\\\\n",
       "\t5 & Hornet Sportabout & 18.7 & 8 & 360.0 & 175 & 3.15 & 3.44 & 17.02 & 0 & $\\dots$ \\\\\n",
       "\t6 & Valiant & 18.1 & 6 & 225.0 & 105 & 2.76 & 3.46 & 20.22 & 1 & $\\dots$ \\\\\n",
       "\\end{tabular}\n"
      ],
      "text/plain": [
       "6×12 DataFrame. Omitted printing of 6 columns\n",
       "│ Row │ Model             │ MPG     │ Cyl   │ Disp    │ HP    │ DRat    │\n",
       "│     │ \u001b[90mString\u001b[39m            │ \u001b[90mFloat64\u001b[39m │ \u001b[90mInt64\u001b[39m │ \u001b[90mFloat64\u001b[39m │ \u001b[90mInt64\u001b[39m │ \u001b[90mFloat64\u001b[39m │\n",
       "├─────┼───────────────────┼─────────┼───────┼─────────┼───────┼─────────┤\n",
       "│ 1   │ Mazda RX4         │ 21.0    │ 6     │ 160.0   │ 110   │ 3.9     │\n",
       "│ 2   │ Mazda RX4 Wag     │ 21.0    │ 6     │ 160.0   │ 110   │ 3.9     │\n",
       "│ 3   │ Datsun 710        │ 22.8    │ 4     │ 108.0   │ 93    │ 3.85    │\n",
       "│ 4   │ Hornet 4 Drive    │ 21.4    │ 6     │ 258.0   │ 110   │ 3.08    │\n",
       "│ 5   │ Hornet Sportabout │ 18.7    │ 8     │ 360.0   │ 175   │ 3.15    │\n",
       "│ 6   │ Valiant           │ 18.1    │ 6     │ 225.0   │ 105   │ 2.76    │"
      ]
     },
     "execution_count": 30,
     "metadata": {},
     "output_type": "execute_result"
    }
   ],
   "source": [
    "data = RDatasets.dataset(\"datasets\", \"mtcars\")\n",
    "first(data, 6)"
   ]
  },
  {
   "cell_type": "markdown",
   "metadata": {},
   "source": [
    "## 切分訓練資料及測試資料"
   ]
  },
  {
   "cell_type": "markdown",
   "metadata": {},
   "source": [
    "- `train, test = splitobs(X, at = 0.7)`: Split data into train/test subsets. `at = 0.7` means 70% of data are used for training; 30%, for validation.\n",
    "- `nrow(data)` number of rows"
   ]
  },
  {
   "cell_type": "code",
   "execution_count": 31,
   "metadata": {},
   "outputs": [
    {
     "data": {
      "text/plain": [
       "10-element view(::Array{Int64,1}, [1, 4, 2, 7, 8, 3, 10, 6, 5, 9]) with eltype Int64:\n",
       "  1\n",
       "  4\n",
       "  2\n",
       "  7\n",
       "  8\n",
       "  3\n",
       " 10\n",
       "  6\n",
       "  5\n",
       "  9"
      ]
     },
     "execution_count": 31,
     "metadata": {},
     "output_type": "execute_result"
    }
   ],
   "source": [
    "MLDataUtils.shuffleobs(collect(1:10))"
   ]
  },
  {
   "cell_type": "code",
   "execution_count": 42,
   "metadata": {},
   "outputs": [],
   "source": [
    "# using MLDataUtils\n",
    "indecies = MLDataUtils.shuffleobs(collect(1:nrow(data))); # shuffle first"
   ]
  },
  {
   "cell_type": "code",
   "execution_count": 44,
   "metadata": {},
   "outputs": [
    {
     "data": {
      "text/plain": [
       "([11, 4, 7, 23, 10, 18, 20, 22, 27, 31  …  2, 29, 17, 9, 26, 28, 6, 8, 15, 13], [5, 1, 32, 16, 25, 14])"
      ]
     },
     "execution_count": 44,
     "metadata": {},
     "output_type": "execute_result"
    }
   ],
   "source": [
    "train_ind, test_ind = MLDataUtils.splitobs(indecies, at = 0.8); # then split the indicies into two sets. \n",
    "# train_ind is indecies(1:26); test_ind is indecies(27:32)"
   ]
  },
  {
   "cell_type": "code",
   "execution_count": 45,
   "metadata": {},
   "outputs": [
    {
     "data": {
      "text/html": [
       "<table class=\"data-frame\"><thead><tr><th></th><th>Model</th><th>MPG</th><th>Cyl</th><th>Disp</th><th>HP</th><th>DRat</th><th>WT</th><th>QSec</th></tr><tr><th></th><th>String</th><th>Float64</th><th>Int64</th><th>Float64</th><th>Int64</th><th>Float64</th><th>Float64</th><th>Float64</th></tr></thead><tbody><p>6 rows × 12 columns (omitted printing of 4 columns)</p><tr><th>1</th><td>Hornet Sportabout</td><td>18.7</td><td>8</td><td>360.0</td><td>175</td><td>3.15</td><td>3.44</td><td>17.02</td></tr><tr><th>2</th><td>Mazda RX4</td><td>21.0</td><td>6</td><td>160.0</td><td>110</td><td>3.9</td><td>2.62</td><td>16.46</td></tr><tr><th>3</th><td>Volvo 142E</td><td>21.4</td><td>4</td><td>121.0</td><td>109</td><td>4.11</td><td>2.78</td><td>18.6</td></tr><tr><th>4</th><td>Lincoln Continental</td><td>10.4</td><td>8</td><td>460.0</td><td>215</td><td>3.0</td><td>5.424</td><td>17.82</td></tr><tr><th>5</th><td>Pontiac Firebird</td><td>19.2</td><td>8</td><td>400.0</td><td>175</td><td>3.08</td><td>3.845</td><td>17.05</td></tr><tr><th>6</th><td>Merc 450SLC</td><td>15.2</td><td>8</td><td>275.8</td><td>180</td><td>3.07</td><td>3.78</td><td>18.0</td></tr></tbody></table>"
      ],
      "text/latex": [
       "\\begin{tabular}{r|ccccccccc}\n",
       "\t& Model & MPG & Cyl & Disp & HP & DRat & WT & QSec & \\\\\n",
       "\t\\hline\n",
       "\t& String & Float64 & Int64 & Float64 & Int64 & Float64 & Float64 & Float64 & \\\\\n",
       "\t\\hline\n",
       "\t1 & Hornet Sportabout & 18.7 & 8 & 360.0 & 175 & 3.15 & 3.44 & 17.02 & $\\dots$ \\\\\n",
       "\t2 & Mazda RX4 & 21.0 & 6 & 160.0 & 110 & 3.9 & 2.62 & 16.46 & $\\dots$ \\\\\n",
       "\t3 & Volvo 142E & 21.4 & 4 & 121.0 & 109 & 4.11 & 2.78 & 18.6 & $\\dots$ \\\\\n",
       "\t4 & Lincoln Continental & 10.4 & 8 & 460.0 & 215 & 3.0 & 5.424 & 17.82 & $\\dots$ \\\\\n",
       "\t5 & Pontiac Firebird & 19.2 & 8 & 400.0 & 175 & 3.08 & 3.845 & 17.05 & $\\dots$ \\\\\n",
       "\t6 & Merc 450SLC & 15.2 & 8 & 275.8 & 180 & 3.07 & 3.78 & 18.0 & $\\dots$ \\\\\n",
       "\\end{tabular}\n"
      ],
      "text/plain": [
       "6×12 DataFrame. Omitted printing of 6 columns\n",
       "│ Row │ Model               │ MPG     │ Cyl   │ Disp    │ HP    │ DRat    │\n",
       "│     │ \u001b[90mString\u001b[39m              │ \u001b[90mFloat64\u001b[39m │ \u001b[90mInt64\u001b[39m │ \u001b[90mFloat64\u001b[39m │ \u001b[90mInt64\u001b[39m │ \u001b[90mFloat64\u001b[39m │\n",
       "├─────┼─────────────────────┼─────────┼───────┼─────────┼───────┼─────────┤\n",
       "│ 1   │ Hornet Sportabout   │ 18.7    │ 8     │ 360.0   │ 175   │ 3.15    │\n",
       "│ 2   │ Mazda RX4           │ 21.0    │ 6     │ 160.0   │ 110   │ 3.9     │\n",
       "│ 3   │ Volvo 142E          │ 21.4    │ 4     │ 121.0   │ 109   │ 4.11    │\n",
       "│ 4   │ Lincoln Continental │ 10.4    │ 8     │ 460.0   │ 215   │ 3.0     │\n",
       "│ 5   │ Pontiac Firebird    │ 19.2    │ 8     │ 400.0   │ 175   │ 3.08    │\n",
       "│ 6   │ Merc 450SLC         │ 15.2    │ 8     │ 275.8   │ 180   │ 3.07    │"
      ]
     },
     "execution_count": 45,
     "metadata": {},
     "output_type": "execute_result"
    }
   ],
   "source": [
    "train = data[train_ind, :]\n",
    "test = data[test_ind, :]"
   ]
  },
  {
   "cell_type": "markdown",
   "metadata": {},
   "source": [
    "## 線性迴歸模型"
   ]
  },
  {
   "cell_type": "code",
   "execution_count": 55,
   "metadata": {},
   "outputs": [
    {
     "data": {
      "text/plain": [
       "StatsModels.TableRegressionModel{LinearModel{GLM.LmResp{Array{Float64,1}},GLM.DensePredChol{Float64,LinearAlgebra.Cholesky{Float64,Array{Float64,2}}}},Array{Float64,2}}\n",
       "\n",
       "MPG ~ 1 + Cyl + Disp + HP + DRat + WT + QSec + VS + AM + Gear + Carb\n",
       "\n",
       "Coefficients:\n",
       "──────────────────────────────────────────────────────────────────────────────────\n",
       "                Estimate  Std. Error    t value  Pr(>|t|)    Lower 95%   Upper 95%\n",
       "──────────────────────────────────────────────────────────────────────────────────\n",
       "(Intercept)  18.7508      20.2054      0.92801     0.3681  -24.3159     61.8174\n",
       "Cyl          -0.436741     1.15456    -0.378275    0.7105   -2.89763     2.02415\n",
       "Disp         -0.00462664   0.0223922  -0.206619    0.8391   -0.0523544   0.0431011\n",
       "HP           -0.0107914    0.0260159  -0.414801    0.6842   -0.0662431   0.0446602\n",
       "DRat          0.938703     1.71        0.548949    0.5911   -2.70608     4.58348\n",
       "WT           -1.44019      2.39935    -0.60024     0.5573   -6.55429     3.67391\n",
       "QSec          0.4523       0.808944    0.559124    0.5843   -1.27192     2.17652\n",
       "VS            0.841237     2.30877     0.364366    0.7207   -4.07979     5.76226\n",
       "AM            4.20017      2.34317     1.79251     0.0932   -0.794182    9.19452\n",
       "Gear         -0.266327     1.63771    -0.162622    0.8730   -3.75702     3.22437\n",
       "Carb         -0.415435     0.954817   -0.435094    0.6697   -2.45058     1.61971\n",
       "──────────────────────────────────────────────────────────────────────────────────"
      ]
     },
     "execution_count": 55,
     "metadata": {},
     "output_type": "execute_result"
    }
   ],
   "source": [
    "formula1 = @formula(MPG ~ Cyl + Disp + HP + DRat + WT + QSec + VS + AM + Gear + Carb)\n",
    "ols = GLM.lm(formula1, train)"
   ]
  },
  {
   "cell_type": "code",
   "execution_count": 57,
   "metadata": {},
   "outputs": [],
   "source": [
    "coef(ols); # Return: intercept, coeff_Cyl, coeff_Disp, ..., coeff_Carb"
   ]
  },
  {
   "cell_type": "markdown",
   "metadata": {},
   "source": [
    "## 預測"
   ]
  },
  {
   "cell_type": "code",
   "execution_count": 59,
   "metadata": {},
   "outputs": [
    {
     "data": {
      "text/plain": [
       "6-element Array{Union{Missing, Float64},1}:\n",
       " 15.773703920315734\n",
       " 23.00861969206955\n",
       " 26.68005922123519\n",
       " 11.4122136148105\n",
       " 14.953221890462753\n",
       " 15.572368650202993"
      ]
     },
     "execution_count": 59,
     "metadata": {},
     "output_type": "execute_result"
    }
   ],
   "source": [
    "MPG_predicted = predict(ols, test)"
   ]
  },
  {
   "cell_type": "markdown",
   "metadata": {},
   "source": [
    "## 模型評估"
   ]
  },
  {
   "cell_type": "code",
   "execution_count": 60,
   "metadata": {},
   "outputs": [
    {
     "data": {
      "text/plain": [
       "0.885125382474817"
      ]
     },
     "execution_count": 60,
     "metadata": {},
     "output_type": "execute_result"
    }
   ],
   "source": [
    "GLM.r²(ols)"
   ]
  },
  {
   "cell_type": "code",
   "execution_count": 61,
   "metadata": {},
   "outputs": [
    {
     "data": {
      "text/plain": [
       "0.808542304124695"
      ]
     },
     "execution_count": 61,
     "metadata": {},
     "output_type": "execute_result"
    }
   ],
   "source": [
    "GLM.adjr²(ols)"
   ]
  },
  {
   "cell_type": "markdown",
   "metadata": {},
   "source": [
    "## 羅吉斯迴歸模型示範"
   ]
  },
  {
   "cell_type": "markdown",
   "metadata": {},
   "source": [
    "## 載入資料"
   ]
  },
  {
   "cell_type": "code",
   "execution_count": 62,
   "metadata": {},
   "outputs": [
    {
     "data": {
      "text/html": [
       "<table class=\"data-frame\"><thead><tr><th></th><th>Default</th><th>Student</th><th>Balance</th><th>Income</th></tr><tr><th></th><th>Categorical…</th><th>Categorical…</th><th>Float64</th><th>Float64</th></tr></thead><tbody><p>6 rows × 4 columns</p><tr><th>1</th><td>No</td><td>No</td><td>729.526</td><td>44361.6</td></tr><tr><th>2</th><td>No</td><td>Yes</td><td>817.18</td><td>12106.1</td></tr><tr><th>3</th><td>No</td><td>No</td><td>1073.55</td><td>31767.1</td></tr><tr><th>4</th><td>No</td><td>No</td><td>529.251</td><td>35704.5</td></tr><tr><th>5</th><td>No</td><td>No</td><td>785.656</td><td>38463.5</td></tr><tr><th>6</th><td>No</td><td>Yes</td><td>919.589</td><td>7491.56</td></tr></tbody></table>"
      ],
      "text/latex": [
       "\\begin{tabular}{r|cccc}\n",
       "\t& Default & Student & Balance & Income\\\\\n",
       "\t\\hline\n",
       "\t& Categorical… & Categorical… & Float64 & Float64\\\\\n",
       "\t\\hline\n",
       "\t1 & No & No & 729.526 & 44361.6 \\\\\n",
       "\t2 & No & Yes & 817.18 & 12106.1 \\\\\n",
       "\t3 & No & No & 1073.55 & 31767.1 \\\\\n",
       "\t4 & No & No & 529.251 & 35704.5 \\\\\n",
       "\t5 & No & No & 785.656 & 38463.5 \\\\\n",
       "\t6 & No & Yes & 919.589 & 7491.56 \\\\\n",
       "\\end{tabular}\n"
      ],
      "text/plain": [
       "6×4 DataFrame\n",
       "│ Row │ Default      │ Student      │ Balance │ Income  │\n",
       "│     │ \u001b[90mCategorical…\u001b[39m │ \u001b[90mCategorical…\u001b[39m │ \u001b[90mFloat64\u001b[39m │ \u001b[90mFloat64\u001b[39m │\n",
       "├─────┼──────────────┼──────────────┼─────────┼─────────┤\n",
       "│ 1   │ No           │ No           │ 729.526 │ 44361.6 │\n",
       "│ 2   │ No           │ Yes          │ 817.18  │ 12106.1 │\n",
       "│ 3   │ No           │ No           │ 1073.55 │ 31767.1 │\n",
       "│ 4   │ No           │ No           │ 529.251 │ 35704.5 │\n",
       "│ 5   │ No           │ No           │ 785.656 │ 38463.5 │\n",
       "│ 6   │ No           │ Yes          │ 919.589 │ 7491.56 │"
      ]
     },
     "execution_count": 62,
     "metadata": {},
     "output_type": "execute_result"
    }
   ],
   "source": [
    "data = RDatasets.dataset(\"ISLR\", \"Default\")\n",
    "first(data, 6)"
   ]
  },
  {
   "cell_type": "markdown",
   "metadata": {},
   "source": [
    "## 前處理"
   ]
  },
  {
   "cell_type": "code",
   "execution_count": 66,
   "metadata": {},
   "outputs": [
    {
     "data": {
      "text/plain": [
       "isyes (generic function with 1 method)"
      ]
     },
     "execution_count": 66,
     "metadata": {},
     "output_type": "execute_result"
    }
   ],
   "source": [
    "isyes(x) = x == \"Yes\" ? 1.0 : 0.0 # if x == \"Yes\" then evaluate 1.0. Else, 0.0"
   ]
  },
  {
   "cell_type": "code",
   "execution_count": 67,
   "metadata": {},
   "outputs": [
    {
     "data": {
      "text/html": [
       "<table class=\"data-frame\"><thead><tr><th></th><th>Default</th><th>Student</th><th>Balance</th><th>Income</th><th>DefaultNum</th><th>StudentNum</th></tr><tr><th></th><th>Categorical…</th><th>Categorical…</th><th>Float64</th><th>Float64</th><th>Float64</th><th>Float64</th></tr></thead><tbody><p>6 rows × 6 columns</p><tr><th>1</th><td>No</td><td>No</td><td>729.526</td><td>44361.6</td><td>0.0</td><td>0.0</td></tr><tr><th>2</th><td>No</td><td>Yes</td><td>817.18</td><td>12106.1</td><td>0.0</td><td>1.0</td></tr><tr><th>3</th><td>No</td><td>No</td><td>1073.55</td><td>31767.1</td><td>0.0</td><td>0.0</td></tr><tr><th>4</th><td>No</td><td>No</td><td>529.251</td><td>35704.5</td><td>0.0</td><td>0.0</td></tr><tr><th>5</th><td>No</td><td>No</td><td>785.656</td><td>38463.5</td><td>0.0</td><td>0.0</td></tr><tr><th>6</th><td>No</td><td>Yes</td><td>919.589</td><td>7491.56</td><td>0.0</td><td>1.0</td></tr></tbody></table>"
      ],
      "text/latex": [
       "\\begin{tabular}{r|cccccc}\n",
       "\t& Default & Student & Balance & Income & DefaultNum & StudentNum\\\\\n",
       "\t\\hline\n",
       "\t& Categorical… & Categorical… & Float64 & Float64 & Float64 & Float64\\\\\n",
       "\t\\hline\n",
       "\t1 & No & No & 729.526 & 44361.6 & 0.0 & 0.0 \\\\\n",
       "\t2 & No & Yes & 817.18 & 12106.1 & 0.0 & 1.0 \\\\\n",
       "\t3 & No & No & 1073.55 & 31767.1 & 0.0 & 0.0 \\\\\n",
       "\t4 & No & No & 529.251 & 35704.5 & 0.0 & 0.0 \\\\\n",
       "\t5 & No & No & 785.656 & 38463.5 & 0.0 & 0.0 \\\\\n",
       "\t6 & No & Yes & 919.589 & 7491.56 & 0.0 & 1.0 \\\\\n",
       "\\end{tabular}\n"
      ],
      "text/plain": [
       "6×6 DataFrame. Omitted printing of 1 columns\n",
       "│ Row │ Default      │ Student      │ Balance │ Income  │ DefaultNum │\n",
       "│     │ \u001b[90mCategorical…\u001b[39m │ \u001b[90mCategorical…\u001b[39m │ \u001b[90mFloat64\u001b[39m │ \u001b[90mFloat64\u001b[39m │ \u001b[90mFloat64\u001b[39m    │\n",
       "├─────┼──────────────┼──────────────┼─────────┼─────────┼────────────┤\n",
       "│ 1   │ No           │ No           │ 729.526 │ 44361.6 │ 0.0        │\n",
       "│ 2   │ No           │ Yes          │ 817.18  │ 12106.1 │ 0.0        │\n",
       "│ 3   │ No           │ No           │ 1073.55 │ 31767.1 │ 0.0        │\n",
       "│ 4   │ No           │ No           │ 529.251 │ 35704.5 │ 0.0        │\n",
       "│ 5   │ No           │ No           │ 785.656 │ 38463.5 │ 0.0        │\n",
       "│ 6   │ No           │ Yes          │ 919.589 │ 7491.56 │ 0.0        │"
      ]
     },
     "execution_count": 67,
     "metadata": {},
     "output_type": "execute_result"
    }
   ],
   "source": [
    "data[!, :DefaultNum] = isyes.(data[!, :Default])\n",
    "data[!, :StudentNum] = isyes.(data[!, :Student])\n",
    "first(data, 6)"
   ]
  },
  {
   "cell_type": "markdown",
   "metadata": {},
   "source": [
    "## 切分訓練資料及測試資料"
   ]
  },
  {
   "cell_type": "code",
   "execution_count": 68,
   "metadata": {},
   "outputs": [],
   "source": [
    "indecies = MLDataUtils.shuffleobs(collect(1:nrow(data)))\n",
    "train_ind, test_ind = MLDataUtils.splitobs(indecies, at=0.8);"
   ]
  },
  {
   "cell_type": "code",
   "execution_count": 69,
   "metadata": {},
   "outputs": [],
   "source": [
    "train = data[train_ind, :];\n",
    "test = data[test_ind, :];"
   ]
  },
  {
   "cell_type": "markdown",
   "metadata": {},
   "source": [
    "## 羅吉斯迴歸模型\n",
    "-  `GLM.glm(formula, data, family, link)`\n",
    "    - `formula`: uses column symbols from the DataFrame data, for example, if names(data)=[:Y,:X1,:X2], then a valid formula is @formula(Y ~ X1 + X2)\n",
    "    - `data`: a DataFrame which may contain NA values, any rows with NA values are ignored\n",
    "    - `family`: chosen from Bernoulli(), Binomial(), Gamma(), Normal(), or Poisson()\n",
    "    - `link`: chosen from the list below, for example, LogitLink() is a valid link for the Binomial() family\n",
    "        - `LogitLink` The canonical Link01 for Distributions.Bernoulli and Distributions.Binomial. The inverse link, linkinv, is the c.d.f. of the standard logistic distribution, Distributions.Logistic.\n",
    "        - [Link Function](https://en.wikipedia.org/wiki/Generalized_linear_model#Link_function): The link function provides the relationship between the linear predictor and the mean of the distribution function.\n"
   ]
  },
  {
   "cell_type": "code",
   "execution_count": 67,
   "metadata": {},
   "outputs": [
    {
     "data": {
      "text/plain": [
       "StatsModels.TableRegressionModel{GeneralizedLinearModel{GLM.GlmResp{Array{Float64,1},Binomial{Float64},LogitLink},GLM.DensePredChol{Float64,LinearAlgebra.Cholesky{Float64,Array{Float64,2}}}},Array{Float64,2}}\n",
       "\n",
       "DefaultNum ~ 1 + Balance + Income\n",
       "\n",
       "Coefficients:\n",
       "───────────────────────────────────────────────────────────────────────────────────────\n",
       "                 Estimate   Std. Error    z value  Pr(>|z|)     Lower 95%     Upper 95%\n",
       "───────────────────────────────────────────────────────────────────────────────────────\n",
       "(Intercept)  -11.8173      0.506825     -23.3163     <1e-99  -12.8106      -10.8239\n",
       "Balance        0.00572872  0.000262255   21.8441     <1e-99    0.00521471    0.00624273\n",
       "Income         2.3683e-5   5.68915e-6     4.16284    <1e-4     1.25325e-5    3.48336e-5\n",
       "───────────────────────────────────────────────────────────────────────────────────────"
      ]
     },
     "execution_count": 67,
     "metadata": {},
     "output_type": "execute_result"
    }
   ],
   "source": [
    "fm2 = @formula(DefaultNum ~ Balance + Income)\n",
    "logreg = glm(fm2, train, Binomial(), LogitLink()) # returns coefficients"
   ]
  },
  {
   "cell_type": "markdown",
   "metadata": {},
   "source": [
    "## 預測"
   ]
  },
  {
   "cell_type": "code",
   "execution_count": 68,
   "metadata": {},
   "outputs": [
    {
     "data": {
      "text/plain": [
       "2000-element Array{Union{Missing, Float64},1}:\n",
       " 0.02025332786615267\n",
       " 0.004988314375659067\n",
       " 0.02446008546984941\n",
       " 7.451948170719091e-5\n",
       " 0.00014203150993051528\n",
       " 0.0025193227765044498\n",
       " 1.2577684831478206e-5\n",
       " 0.0005106817315643327\n",
       " 0.00010876191711802899\n",
       " 0.002173188747430373\n",
       " 0.01028214658376935\n",
       " 0.006716245024597242\n",
       " 0.0062277760860254055\n",
       " ⋮\n",
       " 0.003448439217167635\n",
       " 0.0018772086691601722\n",
       " 0.011365488786673737\n",
       " 0.008666219584655764\n",
       " 0.0021215810976834564\n",
       " 8.901467028217239e-5\n",
       " 0.00013543382967660803\n",
       " 0.028831393538162938\n",
       " 0.0007143475204673329\n",
       " 4.779042387231051e-5\n",
       " 0.09852874417078895\n",
       " 0.00034511537218687773"
      ]
     },
     "execution_count": 68,
     "metadata": {},
     "output_type": "execute_result"
    }
   ],
   "source": [
    "pred = predict(logreg, test)"
   ]
  },
  {
   "cell_type": "markdown",
   "metadata": {},
   "source": [
    "## 模型評估"
   ]
  },
  {
   "cell_type": "code",
   "execution_count": 69,
   "metadata": {},
   "outputs": [
    {
     "data": {
      "text/plain": [
       "accuracy (generic function with 1 method)"
      ]
     },
     "execution_count": 69,
     "metadata": {},
     "output_type": "execute_result"
    }
   ],
   "source": [
    "error(x, y) = ((x > 0.5) ? 1.0 : 0.0) == y\n",
    "accuracy(xs, ys) = mean(error.(xs, ys))"
   ]
  },
  {
   "cell_type": "code",
   "execution_count": 70,
   "metadata": {},
   "outputs": [
    {
     "data": {
      "text/plain": [
       "0.969"
      ]
     },
     "execution_count": 70,
     "metadata": {},
     "output_type": "execute_result"
    }
   ],
   "source": [
    "accuracy(pred, test[!, :DefaultNum])"
   ]
  },
  {
   "cell_type": "code",
   "execution_count": null,
   "metadata": {},
   "outputs": [],
   "source": []
  }
 ],
 "metadata": {
  "kernelspec": {
   "display_name": "Julia 1.4.0",
   "language": "julia",
   "name": "julia-1.4"
  },
  "language_info": {
   "file_extension": ".jl",
   "mimetype": "application/julia",
   "name": "julia",
   "version": "1.4.0"
  }
 },
 "nbformat": 4,
 "nbformat_minor": 4
}
