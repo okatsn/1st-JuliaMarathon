{
 "cells": [
  {
   "cell_type": "markdown",
   "metadata": {},
   "source": [
    "# Julia 深度學習：卷積神經網路模型簡介"
   ]
  },
  {
   "cell_type": "markdown",
   "metadata": {},
   "source": [
    "本範例有可選用套件 CuArrays，請在執行以下範例前先安裝。\n",
    "\n",
    "```\n",
    "] add CuArrays\n",
    "```"
   ]
  },
  {
   "cell_type": "code",
   "execution_count": 1,
   "metadata": {},
   "outputs": [],
   "source": [
    "using Flux\n",
    "using Flux.Data: DataLoader\n",
    "using Flux: @epochs, onecold, onehotbatch, throttle, logitcrossentropy\n",
    "using MLDatasets\n",
    "using Statistics"
   ]
  },
  {
   "cell_type": "markdown",
   "metadata": {},
   "source": [
    "## 載入資料"
   ]
  },
  {
   "cell_type": "code",
   "execution_count": 2,
   "metadata": {},
   "outputs": [
    {
     "data": {
      "text/plain": [
       "(Float32[0.0 0.0 … 0.0 0.0; 0.0 0.0 … 0.0 0.0; … ; 0.0 0.0 … 0.0 0.0; 0.0 0.0 … 0.0 0.0]\n",
       "\n",
       "Float32[0.0 0.0 … 0.0 0.0; 0.0 0.0 … 0.0 0.0; … ; 0.0 0.0 … 0.0 0.0; 0.0 0.0 … 0.0 0.0]\n",
       "\n",
       "Float32[0.0 0.0 … 0.0 0.0; 0.0 0.0 … 0.0 0.0; … ; 0.0 0.0 … 0.0 0.0; 0.0 0.0 … 0.0 0.0]\n",
       "\n",
       "...\n",
       "\n",
       "Float32[0.0 0.0 … 0.0 0.0; 0.0 0.0 … 0.0 0.0; … ; 0.0 0.0 … 0.0 0.0; 0.0 0.0 … 0.0 0.0]\n",
       "\n",
       "Float32[0.0 0.0 … 0.0 0.0; 0.0 0.0 … 0.0 0.0; … ; 0.0 0.0 … 0.0 0.0; 0.0 0.0 … 0.0 0.0]\n",
       "\n",
       "Float32[0.0 0.0 … 0.0 0.0; 0.0 0.0 … 0.0 0.0; … ; 0.0 0.0 … 0.0 0.0; 0.0 0.0 … 0.0 0.0], [7, 2, 1, 0, 4, 1, 4, 9, 5, 9  …  7, 8, 9, 0, 1, 2, 3, 4, 5, 6])"
      ]
     },
     "execution_count": 2,
     "metadata": {},
     "output_type": "execute_result"
    }
   ],
   "source": [
    "train_X, train_y = MNIST.traindata(Float32)\n",
    "test_X, test_y = MNIST.testdata(Float32)"
   ]
  },
  {
   "cell_type": "code",
   "execution_count": 3,
   "metadata": {},
   "outputs": [
    {
     "data": {
      "text/plain": [
       "10×10000 Flux.OneHotMatrix{Array{Flux.OneHotVector,1}}:\n",
       " 0  0  0  1  0  0  0  0  0  0  1  0  0  …  0  0  0  0  0  1  0  0  0  0  0  0\n",
       " 0  0  1  0  0  1  0  0  0  0  0  0  0     0  0  0  0  0  0  1  0  0  0  0  0\n",
       " 0  1  0  0  0  0  0  0  0  0  0  0  0     0  0  0  0  0  0  0  1  0  0  0  0\n",
       " 0  0  0  0  0  0  0  0  0  0  0  0  0     0  0  0  0  0  0  0  0  1  0  0  0\n",
       " 0  0  0  0  1  0  1  0  0  0  0  0  0     0  0  0  0  0  0  0  0  0  1  0  0\n",
       " 0  0  0  0  0  0  0  0  1  0  0  0  0  …  1  0  0  0  0  0  0  0  0  0  1  0\n",
       " 0  0  0  0  0  0  0  0  0  0  0  1  0     0  1  0  0  0  0  0  0  0  0  0  1\n",
       " 1  0  0  0  0  0  0  0  0  0  0  0  0     0  0  1  0  0  0  0  0  0  0  0  0\n",
       " 0  0  0  0  0  0  0  0  0  0  0  0  0     0  0  0  1  0  0  0  0  0  0  0  0\n",
       " 0  0  0  0  0  0  0  1  0  1  0  0  1     0  0  0  0  1  0  0  0  0  0  0  0"
      ]
     },
     "execution_count": 3,
     "metadata": {},
     "output_type": "execute_result"
    }
   ],
   "source": [
    "train_X = reshape(train_X, 28, 28, 1, :)\n",
    "test_X = reshape(test_X, 28, 28, 1, :)\n",
    "train_y = onehotbatch(train_y, 0:9)\n",
    "test_y = onehotbatch(test_y, 0:9)"
   ]
  },
  {
   "cell_type": "code",
   "execution_count": 4,
   "metadata": {},
   "outputs": [
    {
     "data": {
      "text/plain": [
       "DataLoader((Float32[0.0 0.0 … 0.0 0.0; 0.0 0.0 … 0.0 0.0; … ; 0.0 0.0 … 0.0 0.0; 0.0 0.0 … 0.0 0.0]\n",
       "\n",
       "Float32[0.0 0.0 … 0.0 0.0; 0.0 0.0 … 0.0 0.0; … ; 0.0 0.0 … 0.0 0.0; 0.0 0.0 … 0.0 0.0]\n",
       "\n",
       "Float32[0.0 0.0 … 0.0 0.0; 0.0 0.0 … 0.0 0.0; … ; 0.0 0.0 … 0.0 0.0; 0.0 0.0 … 0.0 0.0]\n",
       "\n",
       "...\n",
       "\n",
       "Float32[0.0 0.0 … 0.0 0.0; 0.0 0.0 … 0.0 0.0; … ; 0.0 0.0 … 0.0 0.0; 0.0 0.0 … 0.0 0.0]\n",
       "\n",
       "Float32[0.0 0.0 … 0.0 0.0; 0.0 0.0 … 0.0 0.0; … ; 0.0 0.0 … 0.0 0.0; 0.0 0.0 … 0.0 0.0]\n",
       "\n",
       "Float32[0.0 0.0 … 0.0 0.0; 0.0 0.0 … 0.0 0.0; … ; 0.0 0.0 … 0.0 0.0; 0.0 0.0 … 0.0 0.0], Bool[0 0 … 0 0; 0 0 … 0 0; … ; 0 0 … 0 0; 0 0 … 0 0]), 1024, 10000, true, 10000, [1, 2, 3, 4, 5, 6, 7, 8, 9, 10  …  9991, 9992, 9993, 9994, 9995, 9996, 9997, 9998, 9999, 10000], false)"
      ]
     },
     "execution_count": 4,
     "metadata": {},
     "output_type": "execute_result"
    }
   ],
   "source": [
    "batchsize = 1024\n",
    "train = DataLoader(train_X, train_y, batchsize=batchsize, shuffle=true)\n",
    "test = DataLoader(test_X, test_y, batchsize=batchsize)"
   ]
  },
  {
   "cell_type": "markdown",
   "metadata": {},
   "source": [
    "## CNN 模型"
   ]
  },
  {
   "cell_type": "code",
   "execution_count": 5,
   "metadata": {},
   "outputs": [
    {
     "data": {
      "text/plain": [
       "Chain(Conv((3, 3), 1=>16, relu), MaxPool((2, 2), pad = (0, 0, 0, 0), stride = (2, 2)), Conv((3, 3), 16=>32, relu), MaxPool((2, 2), pad = (0, 0, 0, 0), stride = (2, 2)), Conv((3, 3), 32=>32, relu), MaxPool((2, 2), pad = (0, 0, 0, 0), stride = (2, 2)), flatten, Dense(288, 10), softmax)"
      ]
     },
     "execution_count": 5,
     "metadata": {},
     "output_type": "execute_result"
    }
   ],
   "source": [
    "model = Chain(\n",
    "    Conv((3, 3), 1=>16, pad=(1,1), relu),\n",
    "    MaxPool((2,2)),\n",
    "    Conv((3, 3), 16=>32, pad=(1,1), relu),\n",
    "    MaxPool((2,2)),\n",
    "    Conv((3, 3), 32=>32, pad=(1,1), relu),\n",
    "    MaxPool((2,2)),\n",
    "    flatten,\n",
    "    Dense(288, 10),\n",
    "    softmax)"
   ]
  },
  {
   "cell_type": "markdown",
   "metadata": {},
   "source": [
    "## 使用 CUDA"
   ]
  },
  {
   "cell_type": "code",
   "execution_count": null,
   "metadata": {},
   "outputs": [],
   "source": [
    "using CuArrays\n",
    "model = model |> gpu\n",
    "train_X = train_X |> gpu\n",
    "train_y = train_y |> gpu\n",
    "test_X = test_X |> gpu\n",
    "test_y = test_y |> gpu"
   ]
  },
  {
   "cell_type": "markdown",
   "metadata": {},
   "source": [
    "## 損失函數"
   ]
  },
  {
   "cell_type": "code",
   "execution_count": 6,
   "metadata": {},
   "outputs": [
    {
     "data": {
      "text/plain": [
       "loss (generic function with 1 method)"
      ]
     },
     "execution_count": 6,
     "metadata": {},
     "output_type": "execute_result"
    }
   ],
   "source": [
    "loss(x, y) = logitcrossentropy(model(x), y)"
   ]
  },
  {
   "cell_type": "markdown",
   "metadata": {},
   "source": [
    "## Callback 函式"
   ]
  },
  {
   "cell_type": "code",
   "execution_count": 7,
   "metadata": {},
   "outputs": [
    {
     "data": {
      "text/plain": [
       "test_loss (generic function with 1 method)"
      ]
     },
     "execution_count": 7,
     "metadata": {},
     "output_type": "execute_result"
    }
   ],
   "source": [
    "function test_loss()\n",
    "    l = 0f0\n",
    "    for (x, y) in test\n",
    "        l += loss(x, y)\n",
    "    end\n",
    "    l/length(test)\n",
    "end"
   ]
  },
  {
   "cell_type": "code",
   "execution_count": 8,
   "metadata": {},
   "outputs": [
    {
     "data": {
      "text/plain": [
       "evalcb (generic function with 1 method)"
      ]
     },
     "execution_count": 8,
     "metadata": {},
     "output_type": "execute_result"
    }
   ],
   "source": [
    "evalcb() = @show(test_loss())"
   ]
  },
  {
   "cell_type": "markdown",
   "metadata": {},
   "source": [
    "## 模型訓練"
   ]
  },
  {
   "cell_type": "code",
   "execution_count": 9,
   "metadata": {},
   "outputs": [
    {
     "name": "stderr",
     "output_type": "stream",
     "text": [
      "┌ Info: Epoch 1\n",
      "└ @ Main C:\\Users\\a504082002\\.julia\\packages\\Flux\\Fj3bt\\src\\optimise\\train.jl:121\n"
     ]
    },
    {
     "name": "stdout",
     "output_type": "stream",
     "text": [
      "test_loss() = 2.2978976f0\n",
      "test_loss() = 2.2789884f0\n",
      "test_loss() = 2.1853604f0\n",
      "test_loss() = 2.0578403f0\n",
      "test_loss() = 1.9240929f0\n",
      "test_loss() = 1.7921705f0\n",
      "test_loss() = 1.7451874f0\n",
      "test_loss() = 1.7059281f0\n",
      "test_loss() = 1.6573483f0\n",
      "test_loss() = 1.6132984f0\n",
      "test_loss() = 1.5923207f0\n",
      "test_loss() = 1.5754845f0\n",
      "test_loss() = 1.5417564f0\n",
      "test_loss() = 1.5450425f0\n",
      "test_loss() = 1.5310905f0\n",
      "test_loss() = 1.5230321f0\n",
      "test_loss() = 1.5199292f0\n",
      "test_loss() = 1.5120493f0\n",
      "test_loss() = 1.5137494f0\n"
     ]
    },
    {
     "name": "stderr",
     "output_type": "stream",
     "text": [
      "┌ Info: Epoch 2\n",
      "└ @ Main C:\\Users\\a504082002\\.julia\\packages\\Flux\\Fj3bt\\src\\optimise\\train.jl:121\n"
     ]
    },
    {
     "name": "stdout",
     "output_type": "stream",
     "text": [
      "test_loss() = 1.7913816f0\n",
      "test_loss() = 1.6230695f0\n",
      "test_loss() = 1.5913196f0\n",
      "test_loss() = 1.5229938f0\n",
      "test_loss() = 1.5260439f0\n",
      "test_loss() = 1.5142108f0\n",
      "test_loss() = 1.5061481f0\n",
      "test_loss() = 1.508243f0\n",
      "test_loss() = 1.5036813f0\n",
      "test_loss() = 1.4985608f0\n",
      "test_loss() = 1.4992458f0\n",
      "test_loss() = 1.4971577f0\n",
      "test_loss() = 1.4953554f0\n",
      "test_loss() = 1.4960064f0\n"
     ]
    },
    {
     "name": "stderr",
     "output_type": "stream",
     "text": [
      "┌ Info: Epoch 3\n",
      "└ @ Main C:\\Users\\a504082002\\.julia\\packages\\Flux\\Fj3bt\\src\\optimise\\train.jl:121\n"
     ]
    },
    {
     "name": "stdout",
     "output_type": "stream",
     "text": [
      "test_loss() = 1.5907446f0\n",
      "test_loss() = 1.5168704f0\n",
      "test_loss() = 1.4997327f0\n",
      "test_loss() = 1.4964569f0\n",
      "test_loss() = 1.4931753f0\n",
      "test_loss() = 1.4914868f0\n",
      "test_loss() = 1.4889532f0\n",
      "test_loss() = 1.4870672f0\n",
      "test_loss() = 1.4858781f0\n",
      "test_loss() = 1.487088f0\n"
     ]
    },
    {
     "name": "stderr",
     "output_type": "stream",
     "text": [
      "┌ Info: Epoch 4\n",
      "└ @ Main C:\\Users\\a504082002\\.julia\\packages\\Flux\\Fj3bt\\src\\optimise\\train.jl:121\n"
     ]
    },
    {
     "name": "stdout",
     "output_type": "stream",
     "text": [
      "test_loss() = 1.5270383f0\n",
      "test_loss() = 1.501784f0\n",
      "test_loss() = 1.4860046f0\n",
      "test_loss() = 1.486741f0\n",
      "test_loss() = 1.4888632f0\n",
      "test_loss() = 1.4846393f0\n",
      "test_loss() = 1.4837285f0\n",
      "test_loss() = 1.4818413f0\n",
      "test_loss() = 1.4804108f0\n",
      "test_loss() = 1.481487f0\n",
      "test_loss() = 1.4816033f0\n"
     ]
    },
    {
     "name": "stderr",
     "output_type": "stream",
     "text": [
      "┌ Info: Epoch 5\n",
      "└ @ Main C:\\Users\\a504082002\\.julia\\packages\\Flux\\Fj3bt\\src\\optimise\\train.jl:121\n"
     ]
    },
    {
     "name": "stdout",
     "output_type": "stream",
     "text": [
      "test_loss() = 1.54195f0\n",
      "test_loss() = 1.4928869f0\n",
      "test_loss() = 1.4933684f0\n",
      "test_loss() = 1.4838496f0\n",
      "test_loss() = 1.4836721f0\n",
      "test_loss() = 1.4814281f0\n",
      "test_loss() = 1.4807993f0\n",
      "test_loss() = 1.4787683f0\n",
      "test_loss() = 1.4787748f0\n"
     ]
    },
    {
     "name": "stderr",
     "output_type": "stream",
     "text": [
      "┌ Info: Epoch 6\n",
      "└ @ Main C:\\Users\\a504082002\\.julia\\packages\\Flux\\Fj3bt\\src\\optimise\\train.jl:121\n"
     ]
    },
    {
     "name": "stdout",
     "output_type": "stream",
     "text": [
      "test_loss() = 1.4866855f0\n",
      "test_loss() = 1.4833381f0\n",
      "test_loss() = 1.4785788f0\n",
      "test_loss() = 1.4784076f0\n",
      "test_loss() = 1.4766492f0\n",
      "test_loss() = 1.4811774f0\n",
      "test_loss() = 1.4783374f0\n",
      "test_loss() = 1.477644f0\n",
      "test_loss() = 1.4787384f0\n",
      "test_loss() = 1.4801744f0\n"
     ]
    },
    {
     "name": "stderr",
     "output_type": "stream",
     "text": [
      "┌ Info: Epoch 7\n",
      "└ @ Main C:\\Users\\a504082002\\.julia\\packages\\Flux\\Fj3bt\\src\\optimise\\train.jl:121\n"
     ]
    },
    {
     "name": "stdout",
     "output_type": "stream",
     "text": [
      "test_loss() = 1.4807535f0\n",
      "test_loss() = 1.4781666f0\n",
      "test_loss() = 1.4771869f0\n",
      "test_loss() = 1.4781823f0\n",
      "test_loss() = 1.4768536f0\n",
      "test_loss() = 1.4777421f0\n",
      "test_loss() = 1.4762697f0\n",
      "test_loss() = 1.479347f0\n",
      "test_loss() = 1.4777881f0\n"
     ]
    },
    {
     "name": "stderr",
     "output_type": "stream",
     "text": [
      "┌ Info: Epoch 8\n",
      "└ @ Main C:\\Users\\a504082002\\.julia\\packages\\Flux\\Fj3bt\\src\\optimise\\train.jl:121\n"
     ]
    },
    {
     "name": "stdout",
     "output_type": "stream",
     "text": [
      "test_loss() = 1.4922698f0\n",
      "test_loss() = 1.4822038f0\n",
      "test_loss() = 1.4794185f0\n",
      "test_loss() = 1.4758564f0\n",
      "test_loss() = 1.4751989f0\n",
      "test_loss() = 1.4750103f0\n",
      "test_loss() = 1.473592f0\n",
      "test_loss() = 1.4743056f0\n",
      "test_loss() = 1.4761794f0\n"
     ]
    },
    {
     "name": "stderr",
     "output_type": "stream",
     "text": [
      "┌ Info: Epoch 9\n",
      "└ @ Main C:\\Users\\a504082002\\.julia\\packages\\Flux\\Fj3bt\\src\\optimise\\train.jl:121\n"
     ]
    },
    {
     "name": "stdout",
     "output_type": "stream",
     "text": [
      "test_loss() = 1.4817325f0\n",
      "test_loss() = 1.477107f0\n",
      "test_loss() = 1.4735678f0\n",
      "test_loss() = 1.4750202f0\n",
      "test_loss() = 1.4733527f0\n",
      "test_loss() = 1.4732502f0\n",
      "test_loss() = 1.4725465f0\n",
      "test_loss() = 1.4748254f0\n",
      "test_loss() = 1.4736216f0\n",
      "test_loss() = 1.4749984f0\n"
     ]
    },
    {
     "name": "stderr",
     "output_type": "stream",
     "text": [
      "┌ Info: Epoch 10\n",
      "└ @ Main C:\\Users\\a504082002\\.julia\\packages\\Flux\\Fj3bt\\src\\optimise\\train.jl:121\n"
     ]
    },
    {
     "name": "stdout",
     "output_type": "stream",
     "text": [
      "test_loss() = 1.4800218f0\n",
      "test_loss() = 1.479654f0\n",
      "test_loss() = 1.4761113f0\n",
      "test_loss() = 1.4775395f0\n",
      "test_loss() = 1.4758223f0\n",
      "test_loss() = 1.4735091f0\n",
      "test_loss() = 1.4725626f0\n",
      "test_loss() = 1.4742231f0\n",
      "test_loss() = 1.4736973f0\n",
      "test_loss() = 1.4773171f0\n"
     ]
    },
    {
     "name": "stderr",
     "output_type": "stream",
     "text": [
      "┌ Info: Epoch 11\n",
      "└ @ Main C:\\Users\\a504082002\\.julia\\packages\\Flux\\Fj3bt\\src\\optimise\\train.jl:121\n"
     ]
    },
    {
     "name": "stdout",
     "output_type": "stream",
     "text": [
      "test_loss() = 1.4768846f0\n",
      "test_loss() = 1.479492f0\n",
      "test_loss() = 1.4774454f0\n",
      "test_loss() = 1.4745609f0\n",
      "test_loss() = 1.4727247f0\n",
      "test_loss() = 1.4741137f0\n",
      "test_loss() = 1.4719459f0\n",
      "test_loss() = 1.4725258f0\n",
      "test_loss() = 1.472803f0\n",
      "test_loss() = 1.47312f0\n"
     ]
    },
    {
     "name": "stderr",
     "output_type": "stream",
     "text": [
      "┌ Info: Epoch 12\n",
      "└ @ Main C:\\Users\\a504082002\\.julia\\packages\\Flux\\Fj3bt\\src\\optimise\\train.jl:121\n"
     ]
    },
    {
     "name": "stdout",
     "output_type": "stream",
     "text": [
      "test_loss() = 1.4766366f0\n",
      "test_loss() = 1.4750843f0\n",
      "test_loss() = 1.4754581f0\n",
      "test_loss() = 1.4741789f0\n",
      "test_loss() = 1.472761f0\n",
      "test_loss() = 1.4742647f0\n",
      "test_loss() = 1.4740795f0\n",
      "test_loss() = 1.4765557f0\n",
      "test_loss() = 1.4737076f0\n",
      "test_loss() = 1.4759524f0\n"
     ]
    },
    {
     "name": "stderr",
     "output_type": "stream",
     "text": [
      "┌ Info: Epoch 13\n",
      "└ @ Main C:\\Users\\a504082002\\.julia\\packages\\Flux\\Fj3bt\\src\\optimise\\train.jl:121\n"
     ]
    },
    {
     "name": "stdout",
     "output_type": "stream",
     "text": [
      "test_loss() = 1.4732893f0\n",
      "test_loss() = 1.4735943f0\n",
      "test_loss() = 1.472098f0\n",
      "test_loss() = 1.4747585f0\n",
      "test_loss() = 1.4718629f0\n",
      "test_loss() = 1.4733273f0\n",
      "test_loss() = 1.4734657f0\n",
      "test_loss() = 1.4733093f0\n",
      "test_loss() = 1.4717783f0\n",
      "test_loss() = 1.4728162f0\n"
     ]
    },
    {
     "name": "stderr",
     "output_type": "stream",
     "text": [
      "┌ Info: Epoch 14\n",
      "└ @ Main C:\\Users\\a504082002\\.julia\\packages\\Flux\\Fj3bt\\src\\optimise\\train.jl:121\n"
     ]
    },
    {
     "name": "stdout",
     "output_type": "stream",
     "text": [
      "test_loss() = 1.4781401f0\n",
      "test_loss() = 1.4748608f0\n",
      "test_loss() = 1.4730949f0\n",
      "test_loss() = 1.4728426f0\n",
      "test_loss() = 1.4734312f0\n",
      "test_loss() = 1.473737f0\n",
      "test_loss() = 1.470443f0\n",
      "test_loss() = 1.4713682f0\n",
      "test_loss() = 1.4722526f0\n",
      "test_loss() = 1.4743897f0\n"
     ]
    },
    {
     "name": "stderr",
     "output_type": "stream",
     "text": [
      "┌ Info: Epoch 15\n",
      "└ @ Main C:\\Users\\a504082002\\.julia\\packages\\Flux\\Fj3bt\\src\\optimise\\train.jl:121\n"
     ]
    },
    {
     "name": "stdout",
     "output_type": "stream",
     "text": [
      "test_loss() = 1.4713981f0\n",
      "test_loss() = 1.4728194f0\n",
      "test_loss() = 1.4742932f0\n",
      "test_loss() = 1.4718525f0\n",
      "test_loss() = 1.4718033f0\n",
      "test_loss() = 1.4727321f0\n",
      "test_loss() = 1.473615f0\n",
      "test_loss() = 1.4747195f0\n",
      "test_loss() = 1.4757246f0\n"
     ]
    },
    {
     "name": "stderr",
     "output_type": "stream",
     "text": [
      "┌ Info: Epoch 16\n",
      "└ @ Main C:\\Users\\a504082002\\.julia\\packages\\Flux\\Fj3bt\\src\\optimise\\train.jl:121\n"
     ]
    },
    {
     "name": "stdout",
     "output_type": "stream",
     "text": [
      "test_loss() = 1.4750302f0\n",
      "test_loss() = 1.4723918f0\n",
      "test_loss() = 1.4726839f0\n",
      "test_loss() = 1.4748596f0\n",
      "test_loss() = 1.4722831f0\n",
      "test_loss() = 1.4727223f0\n",
      "test_loss() = 1.4718499f0\n",
      "test_loss() = 1.4718846f0\n",
      "test_loss() = 1.471999f0\n",
      "test_loss() = 1.4715056f0\n"
     ]
    },
    {
     "name": "stderr",
     "output_type": "stream",
     "text": [
      "┌ Info: Epoch 17\n",
      "└ @ Main C:\\Users\\a504082002\\.julia\\packages\\Flux\\Fj3bt\\src\\optimise\\train.jl:121\n"
     ]
    },
    {
     "name": "stdout",
     "output_type": "stream",
     "text": [
      "test_loss() = 1.4722729f0\n",
      "test_loss() = 1.4761654f0\n",
      "test_loss() = 1.47306f0\n",
      "test_loss() = 1.4733088f0\n",
      "test_loss() = 1.4711387f0\n",
      "test_loss() = 1.4729732f0\n",
      "test_loss() = 1.4707854f0\n",
      "test_loss() = 1.4731753f0\n",
      "test_loss() = 1.4728383f0\n",
      "test_loss() = 1.4743974f0\n"
     ]
    },
    {
     "name": "stderr",
     "output_type": "stream",
     "text": [
      "┌ Info: Epoch 18\n",
      "└ @ Main C:\\Users\\a504082002\\.julia\\packages\\Flux\\Fj3bt\\src\\optimise\\train.jl:121\n"
     ]
    },
    {
     "name": "stdout",
     "output_type": "stream",
     "text": [
      "test_loss() = 1.4781134f0\n",
      "test_loss() = 1.4787269f0\n",
      "test_loss() = 1.4742867f0\n",
      "test_loss() = 1.4734752f0\n",
      "test_loss() = 1.4720042f0\n",
      "test_loss() = 1.4712938f0\n",
      "test_loss() = 1.4738601f0\n",
      "test_loss() = 1.4712892f0\n",
      "test_loss() = 1.4710546f0\n",
      "test_loss() = 1.47231f0\n",
      "test_loss() = 1.4713365f0\n"
     ]
    },
    {
     "name": "stderr",
     "output_type": "stream",
     "text": [
      "┌ Info: Epoch 19\n",
      "└ @ Main C:\\Users\\a504082002\\.julia\\packages\\Flux\\Fj3bt\\src\\optimise\\train.jl:121\n"
     ]
    },
    {
     "name": "stdout",
     "output_type": "stream",
     "text": [
      "test_loss() = 1.4725168f0\n",
      "test_loss() = 1.4741551f0\n",
      "test_loss() = 1.472223f0\n",
      "test_loss() = 1.4724032f0\n",
      "test_loss() = 1.4727005f0\n",
      "test_loss() = 1.4727395f0\n",
      "test_loss() = 1.472049f0\n",
      "test_loss() = 1.4701542f0\n",
      "test_loss() = 1.472879f0\n",
      "test_loss() = 1.4708837f0\n",
      "test_loss() = 1.4722389f0\n"
     ]
    },
    {
     "name": "stderr",
     "output_type": "stream",
     "text": [
      "┌ Info: Epoch 20\n",
      "└ @ Main C:\\Users\\a504082002\\.julia\\packages\\Flux\\Fj3bt\\src\\optimise\\train.jl:121\n"
     ]
    },
    {
     "name": "stdout",
     "output_type": "stream",
     "text": [
      "test_loss() = 1.4711142f0\n",
      "test_loss() = 1.471599f0\n",
      "test_loss() = 1.4719744f0\n",
      "test_loss() = 1.4710052f0\n",
      "test_loss() = 1.4710711f0\n",
      "test_loss() = 1.4725395f0\n",
      "test_loss() = 1.4716108f0\n",
      "test_loss() = 1.4729892f0\n",
      "test_loss() = 1.474802f0\n",
      "test_loss() = 1.4719163f0\n",
      "test_loss() = 1.4706767f0\n",
      "test_loss() = 1.4706908f0\n"
     ]
    }
   ],
   "source": [
    "epochs = 20\n",
    "@epochs epochs Flux.train!(loss, params(model), train, ADAM(0.005), cb=throttle(evalcb, 10))"
   ]
  },
  {
   "cell_type": "markdown",
   "metadata": {},
   "source": [
    "## 模型評估"
   ]
  },
  {
   "cell_type": "code",
   "execution_count": 10,
   "metadata": {},
   "outputs": [
    {
     "data": {
      "text/plain": [
       "accuracy (generic function with 1 method)"
      ]
     },
     "execution_count": 10,
     "metadata": {},
     "output_type": "execute_result"
    }
   ],
   "source": [
    "accuracy(x, y) = mean(onecold(model(x)) .== onecold(y))"
   ]
  },
  {
   "cell_type": "code",
   "execution_count": 11,
   "metadata": {},
   "outputs": [
    {
     "data": {
      "text/plain": [
       "0.9904"
      ]
     },
     "execution_count": 11,
     "metadata": {},
     "output_type": "execute_result"
    }
   ],
   "source": [
    "accuracy(test_X, test_y)"
   ]
  },
  {
   "cell_type": "code",
   "execution_count": null,
   "metadata": {},
   "outputs": [],
   "source": []
  }
 ],
 "metadata": {
  "kernelspec": {
   "display_name": "Julia 1.4.1",
   "language": "julia",
   "name": "julia-1.4"
  },
  "language_info": {
   "file_extension": ".jl",
   "mimetype": "application/julia",
   "name": "julia",
   "version": "1.4.1"
  }
 },
 "nbformat": 4,
 "nbformat_minor": 4
}
