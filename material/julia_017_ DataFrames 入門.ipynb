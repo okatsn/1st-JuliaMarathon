{
 "cells": [
  {
   "cell_type": "markdown",
   "metadata": {
    "colab_type": "text",
    "id": "4W-eT7QP_pR1"
   },
   "source": [
    "# Julia DataFrames.jl 介紹 (一): 入門操作\n",
    "\n",
    "![](https://juliadata.github.io/DataFrames.jl/stable/assets/logo.png)\n",
    "\n",
    "DataFrames.jl 官方網站: [https://juliadata.github.io/DataFrames.jl/stable/](https://juliadata.github.io/DataFrames.jl/stable/)\n",
    "\n",
    "DataFrames.jl GitHub: [https://github.com/JuliaData/DataFrames.jl/blob/master/docs/src/index.md](https://github.com/JuliaData/DataFrames.jl/blob/master/docs/src/index.md)"
   ]
  },
  {
   "cell_type": "markdown",
   "metadata": {
    "colab_type": "text",
    "id": "FNL58Y-X_pR8"
   },
   "source": [
    "## 0. 安裝\n",
    "\n",
    "如果尚未安裝過 DataFrames.jl 的話, 執行 `Pkg.add()` 進行安裝"
   ]
  },
  {
   "cell_type": "code",
   "execution_count": 1,
   "metadata": {
    "colab": {},
    "colab_type": "code",
    "id": "Sy-255Z-_pSA",
    "outputId": "a6183c16-4952-4309-a6bd-aeffe9dca29a"
   },
   "outputs": [
    {
     "name": "stderr",
     "output_type": "stream",
     "text": [
      "\u001b[32m\u001b[1m   Updating\u001b[22m\u001b[39m registry at `C:\\Users\\HSI\\.julia\\registries\\General`\n"
     ]
    },
    {
     "name": "stdout",
     "output_type": "stream",
     "text": [
      "\u001b[?25l"
     ]
    },
    {
     "name": "stderr",
     "output_type": "stream",
     "text": [
      "\u001b[32m\u001b[1m   Updating\u001b[22m\u001b[39m git-repo `https://github.com/JuliaRegistries/General.git`\n"
     ]
    },
    {
     "name": "stdout",
     "output_type": "stream",
     "text": [
      "\u001b[2K\u001b[36m\u001b[1mFetching:\u001b[22m\u001b[39m [========================================>]  100.0 %[36m\u001b[1mFetching:\u001b[22m\u001b[39m [=====>                                   ]  10.9 % [=======>                                 ]  16.4 %.4 %]  31.8 % %]  49.5 % %\u001b[36m\u001b[1mFetching:\u001b[22m\u001b[39m [==========================>              ]  64.1 %]  67.7 %.1 %\u001b[36m\u001b[1mFetching:\u001b[22m\u001b[39m [===============================>         ]  77.4 %\u001b[36m\u001b[1mFetching:\u001b[22m\u001b[39m [==================================>      ]  83.2 %    ]  88.1 % %]  95.9 %\u001b[?25h"
     ]
    },
    {
     "name": "stderr",
     "output_type": "stream",
     "text": [
      "\u001b[32m\u001b[1m  Resolving\u001b[22m\u001b[39m package versions...\n",
      "\u001b[32m\u001b[1m   Updating\u001b[22m\u001b[39m `C:\\Users\\HSI\\.julia\\environments\\v1.4\\Project.toml`\n",
      "\u001b[90m [no changes]\u001b[39m\n",
      "\u001b[32m\u001b[1m   Updating\u001b[22m\u001b[39m `C:\\Users\\HSI\\.julia\\environments\\v1.4\\Manifest.toml`\n",
      "\u001b[90m [no changes]\u001b[39m\n"
     ]
    }
   ],
   "source": [
    "using Pkg\n",
    "Pkg.add(PackageSpec(name=\"DataFrames\", version=\"0.20.2\"))"
   ]
  },
  {
   "cell_type": "markdown",
   "metadata": {
    "colab_type": "text",
    "id": "4KpQKlJp_pSn"
   },
   "source": [
    "## 1. 建立 DataFrame"
   ]
  },
  {
   "cell_type": "code",
   "execution_count": 2,
   "metadata": {
    "colab": {},
    "colab_type": "code",
    "id": "75atHhXY_pSr"
   },
   "outputs": [],
   "source": [
    "using DataFrames"
   ]
  },
  {
   "cell_type": "code",
   "execution_count": null,
   "metadata": {},
   "outputs": [],
   "source": [
    "list1 = [:F1,:F2,:F3]\n",
    "dfx = DataFrame();\n",
    "for i in list1\n",
    "    dfx[:,i] = 1:3\n",
    "end\n",
    "\n",
    "dfx"
   ]
  },
  {
   "cell_type": "markdown",
   "metadata": {
    "colab_type": "text",
    "id": "OhTCJmN-_pS4"
   },
   "source": [
    "### 1.1 使用向量建立 DataFrame"
   ]
  },
  {
   "cell_type": "code",
   "execution_count": 9,
   "metadata": {},
   "outputs": [
    {
     "data": {
      "text/html": [
       "# 22 methods for type constructor:<ul><li> DataFrame(df::<b>DataFrame</b>; <i>copycols</i>) in DataFrames at <a href=\"file://C:/Users/HSI/.julia/packages/DataFrames/S3ZFo/src/dataframe/dataframe.jl\" target=\"_blank\">C:\\Users\\HSI\\.julia\\packages\\DataFrames\\S3ZFo\\src\\dataframe\\dataframe.jl:133</a></li> <li> DataFrame(; <i>kwargs...</i>) in DataFrames at <a href=\"file://C:/Users/HSI/.julia/packages/DataFrames/S3ZFo/src/dataframe/dataframe.jl\" target=\"_blank\">C:\\Users\\HSI\\.julia\\packages\\DataFrames\\S3ZFo\\src\\dataframe\\dataframe.jl:154</a></li> <li> DataFrame(columns::<b>Union{Array{AbstractArray{T,1} where T,1}, Array{Any,1}}</b>, colindex::<b>DataFrames.Index</b>; <i>copycols</i>) in DataFrames at <a href=\"file://C:/Users/HSI/.julia/packages/DataFrames/S3ZFo/src/dataframe/dataframe.jl\" target=\"_blank\">C:\\Users\\HSI\\.julia\\packages\\DataFrames\\S3ZFo\\src\\dataframe\\dataframe.jl:96</a></li> <li> DataFrame(pairs::<b>Pair{Symbol,#s26} where #s26...</b>; <i>makeunique, copycols</i>) in DataFrames at <a href=\"file://C:/Users/HSI/.julia/packages/DataFrames/S3ZFo/src/dataframe/dataframe.jl\" target=\"_blank\">C:\\Users\\HSI\\.julia\\packages\\DataFrames\\S3ZFo\\src\\dataframe\\dataframe.jl:137</a></li> <li> DataFrame(d::<b>AbstractDict</b>; <i>copycols</i>) in DataFrames at <a href=\"file://C:/Users/HSI/.julia/packages/DataFrames/S3ZFo/src/dataframe/dataframe.jl\" target=\"_blank\">C:\\Users\\HSI\\.julia\\packages\\DataFrames\\S3ZFo\\src\\dataframe\\dataframe.jl:143</a></li> <li> DataFrame(columns::<b>AbstractArray{#s32,1} where #s32<:(AbstractArray{T,1} where T)</b>) in DataFrames at <a href=\"file://C:/Users/HSI/.julia/packages/DataFrames/S3ZFo/src/dataframe/dataframe.jl\" target=\"_blank\">C:\\Users\\HSI\\.julia\\packages\\DataFrames\\S3ZFo\\src\\dataframe\\dataframe.jl:189</a></li> <li> DataFrame(columns::<b>AbstractArray{#s31,1} where #s31<:(AbstractArray{T,1} where T)</b>, cnames::<b>AbstractArray{Symbol,1}</b>; <i>makeunique, copycols</i>) in DataFrames at <a href=\"file://C:/Users/HSI/.julia/packages/DataFrames/S3ZFo/src/dataframe/dataframe.jl\" target=\"_blank\">C:\\Users\\HSI\\.julia\\packages\\DataFrames\\S3ZFo\\src\\dataframe\\dataframe.jl:189</a></li> <li> DataFrame(column_eltypes::<b>AbstractArray{T,1}</b>, cnames::<b>AbstractArray{Symbol,1}</b>)<i> where T<:Type</i> in DataFrames at <a href=\"file://C:/Users/HSI/.julia/packages/DataFrames/S3ZFo/src/dataframe/dataframe.jl\" target=\"_blank\">C:\\Users\\HSI\\.julia\\packages\\DataFrames\\S3ZFo\\src\\dataframe\\dataframe.jl:210</a></li> <li> DataFrame(column_eltypes::<b>AbstractArray{T,1}</b>, cnames::<b>AbstractArray{Symbol,1}</b>, nrows::<b>Integer</b>; <i>makeunique</i>)<i> where T<:Type</i> in DataFrames at <a href=\"file://C:/Users/HSI/.julia/packages/DataFrames/S3ZFo/src/dataframe/dataframe.jl\" target=\"_blank\">C:\\Users\\HSI\\.julia\\packages\\DataFrames\\S3ZFo\\src\\dataframe\\dataframe.jl:210</a></li> <li> DataFrame(column_eltypes::<b>AbstractArray{T,1}</b>, cnames::<b>AbstractArray{Symbol,1}</b>, categorical::<b>AbstractArray{Bool,1}</b>, nrows::<b>Integer</b>; <i>makeunique</i>)<i> where T<:Type</i> in DataFrames at <a href=\"file://C:/Users/HSI/.julia/packages/DataFrames/S3ZFo/src/deprecated.jl\" target=\"_blank\">C:\\Users\\HSI\\.julia\\packages\\DataFrames\\S3ZFo\\src\\deprecated.jl:11</a></li> <li> DataFrame(x::<b>AbstractArray{NamedTuple{names,T},1}</b>; <i>copycols</i>)<i> where {names, T}</i> in DataFrames at <a href=\"file://C:/Users/HSI/.julia/packages/DataFrames/S3ZFo/src/other/tables.jl\" target=\"_blank\">C:\\Users\\HSI\\.julia\\packages\\DataFrames\\S3ZFo\\src\\other\\tables.jl:54</a></li> <li> DataFrame(columns::<b>AbstractArray{T,1} where T</b>, cnames::<b>AbstractArray{Symbol,1}</b>; <i>makeunique, copycols</i>) in DataFrames at <a href=\"file://C:/Users/HSI/.julia/packages/DataFrames/S3ZFo/src/dataframe/dataframe.jl\" target=\"_blank\">C:\\Users\\HSI\\.julia\\packages\\DataFrames\\S3ZFo\\src\\dataframe\\dataframe.jl:178</a></li> <li> DataFrame(columns::<b>Tuple{Vararg{AbstractArray{T,1} where T,N}}</b>; <i>copycols</i>)<i> where N</i> in DataFrames at <a href=\"file://C:/Users/HSI/.julia/packages/DataFrames/S3ZFo/src/dataframe/dataframe.jl\" target=\"_blank\">C:\\Users\\HSI\\.julia\\packages\\DataFrames\\S3ZFo\\src\\dataframe\\dataframe.jl:199</a></li> <li> DataFrame(columns::<b>Tuple{Vararg{AbstractArray{T,1} where T,N}}</b>, cnames::<b>Tuple{Vararg{Symbol,N}}</b>; <i>makeunique, copycols</i>)<i> where N</i> in DataFrames at <a href=\"file://C:/Users/HSI/.julia/packages/DataFrames/S3ZFo/src/dataframe/dataframe.jl\" target=\"_blank\">C:\\Users\\HSI\\.julia\\packages\\DataFrames\\S3ZFo\\src\\dataframe\\dataframe.jl:195</a></li> <li> DataFrame(columns::<b>AbstractArray{T,2} where T</b>) in DataFrames at <a href=\"file://C:/Users/HSI/.julia/packages/DataFrames/S3ZFo/src/dataframe/dataframe.jl\" target=\"_blank\">C:\\Users\\HSI\\.julia\\packages\\DataFrames\\S3ZFo\\src\\dataframe\\dataframe.jl:204</a></li> <li> DataFrame(columns::<b>AbstractArray{T,2} where T</b>, cnames::<b>AbstractArray{Symbol,1}</b>; <i>makeunique</i>) in DataFrames at <a href=\"file://C:/Users/HSI/.julia/packages/DataFrames/S3ZFo/src/dataframe/dataframe.jl\" target=\"_blank\">C:\\Users\\HSI\\.julia\\packages\\DataFrames\\S3ZFo\\src\\dataframe\\dataframe.jl:204</a></li> <li> DataFrame(sdf::<b>SubDataFrame</b>; <i>copycols</i>) in DataFrames at <a href=\"file://C:/Users/HSI/.julia/packages/DataFrames/S3ZFo/src/subdataframe/subdataframe.jl\" target=\"_blank\">C:\\Users\\HSI\\.julia\\packages\\DataFrames\\S3ZFo\\src\\subdataframe\\subdataframe.jl:169</a></li> <li> DataFrame(dfr::<b>DataFrameRow</b>) in DataFrames at <a href=\"file://C:/Users/HSI/.julia/packages/DataFrames/S3ZFo/src/dataframerow/dataframerow.jl\" target=\"_blank\">C:\\Users\\HSI\\.julia\\packages\\DataFrames\\S3ZFo\\src\\dataframerow\\dataframerow.jl:273</a></li> <li> DataFrame(gd::<b>GroupedDataFrame</b>; <i>copycols</i>) in DataFrames at <a href=\"file://C:/Users/HSI/.julia/packages/DataFrames/S3ZFo/src/groupeddataframe/grouping.jl\" target=\"_blank\">C:\\Users\\HSI\\.julia\\packages\\DataFrames\\S3ZFo\\src\\groupeddataframe\\grouping.jl:1518</a></li> <li> DataFrame(t::<b>Type</b>, nrows::<b>Integer</b>, ncols::<b>Integer</b>) in DataFrames at <a href=\"file://C:\\Users\\HSI\\AppData\\Local\\Programs\\Julia\\Julia-1.4.0\\bin\\..\\share\\julia\\base\\deprecated.jl\" target=\"_blank\">deprecated.jl:65</a></li> <li> DataFrame(column_eltypes::<b>AbstractArray{#s198,1} where #s198<:Type</b>, nrows::<b>Integer</b>) in DataFrames at <a href=\"file://C:\\Users\\HSI\\AppData\\Local\\Programs\\Julia\\Julia-1.4.0\\bin\\..\\share\\julia\\base\\deprecated.jl\" target=\"_blank\">deprecated.jl:65</a></li> <li> DataFrame(x::<b>T</b>; <i>copycols</i>)<i> where T</i> in DataFrames at <a href=\"file://C:/Users/HSI/.julia/packages/DataFrames/S3ZFo/src/other/tables.jl\" target=\"_blank\">C:\\Users\\HSI\\.julia\\packages\\DataFrames\\S3ZFo\\src\\other\\tables.jl:31</a></li> </ul>"
      ],
      "text/plain": [
       "# 22 methods for type constructor:\n",
       "[1] DataFrame(df::DataFrame; copycols) in DataFrames at C:\\Users\\HSI\\.julia\\packages\\DataFrames\\S3ZFo\\src\\dataframe\\dataframe.jl:133\n",
       "[2] DataFrame(; kwargs...) in DataFrames at C:\\Users\\HSI\\.julia\\packages\\DataFrames\\S3ZFo\\src\\dataframe\\dataframe.jl:154\n",
       "[3] DataFrame(columns::Union{Array{AbstractArray{T,1} where T,1}, Array{Any,1}}, colindex::DataFrames.Index; copycols) in DataFrames at C:\\Users\\HSI\\.julia\\packages\\DataFrames\\S3ZFo\\src\\dataframe\\dataframe.jl:96\n",
       "[4] DataFrame(pairs::Pair{Symbol,#s26} where #s26...; makeunique, copycols) in DataFrames at C:\\Users\\HSI\\.julia\\packages\\DataFrames\\S3ZFo\\src\\dataframe\\dataframe.jl:137\n",
       "[5] DataFrame(d::AbstractDict; copycols) in DataFrames at C:\\Users\\HSI\\.julia\\packages\\DataFrames\\S3ZFo\\src\\dataframe\\dataframe.jl:143\n",
       "[6] DataFrame(columns::AbstractArray{#s32,1} where #s32<:(AbstractArray{T,1} where T)) in DataFrames at C:\\Users\\HSI\\.julia\\packages\\DataFrames\\S3ZFo\\src\\dataframe\\dataframe.jl:189\n",
       "[7] DataFrame(columns::AbstractArray{#s31,1} where #s31<:(AbstractArray{T,1} where T), cnames::AbstractArray{Symbol,1}; makeunique, copycols) in DataFrames at C:\\Users\\HSI\\.julia\\packages\\DataFrames\\S3ZFo\\src\\dataframe\\dataframe.jl:189\n",
       "[8] DataFrame(column_eltypes::AbstractArray{T,1}, cnames::AbstractArray{Symbol,1}) where T<:Type in DataFrames at C:\\Users\\HSI\\.julia\\packages\\DataFrames\\S3ZFo\\src\\dataframe\\dataframe.jl:210\n",
       "[9] DataFrame(column_eltypes::AbstractArray{T,1}, cnames::AbstractArray{Symbol,1}, nrows::Integer; makeunique) where T<:Type in DataFrames at C:\\Users\\HSI\\.julia\\packages\\DataFrames\\S3ZFo\\src\\dataframe\\dataframe.jl:210\n",
       "[10] DataFrame(column_eltypes::AbstractArray{T,1}, cnames::AbstractArray{Symbol,1}, categorical::AbstractArray{Bool,1}, nrows::Integer; makeunique) where T<:Type in DataFrames at C:\\Users\\HSI\\.julia\\packages\\DataFrames\\S3ZFo\\src\\deprecated.jl:11\n",
       "[11] DataFrame(x::AbstractArray{NamedTuple{names,T},1}; copycols) where {names, T} in DataFrames at C:\\Users\\HSI\\.julia\\packages\\DataFrames\\S3ZFo\\src\\other\\tables.jl:54\n",
       "[12] DataFrame(columns::AbstractArray{T,1} where T, cnames::AbstractArray{Symbol,1}; makeunique, copycols) in DataFrames at C:\\Users\\HSI\\.julia\\packages\\DataFrames\\S3ZFo\\src\\dataframe\\dataframe.jl:178\n",
       "[13] DataFrame(columns::Tuple{Vararg{AbstractArray{T,1} where T,N}}; copycols) where N in DataFrames at C:\\Users\\HSI\\.julia\\packages\\DataFrames\\S3ZFo\\src\\dataframe\\dataframe.jl:199\n",
       "[14] DataFrame(columns::Tuple{Vararg{AbstractArray{T,1} where T,N}}, cnames::Tuple{Vararg{Symbol,N}}; makeunique, copycols) where N in DataFrames at C:\\Users\\HSI\\.julia\\packages\\DataFrames\\S3ZFo\\src\\dataframe\\dataframe.jl:195\n",
       "[15] DataFrame(columns::AbstractArray{T,2} where T) in DataFrames at C:\\Users\\HSI\\.julia\\packages\\DataFrames\\S3ZFo\\src\\dataframe\\dataframe.jl:204\n",
       "[16] DataFrame(columns::AbstractArray{T,2} where T, cnames::AbstractArray{Symbol,1}; makeunique) in DataFrames at C:\\Users\\HSI\\.julia\\packages\\DataFrames\\S3ZFo\\src\\dataframe\\dataframe.jl:204\n",
       "[17] DataFrame(sdf::SubDataFrame; copycols) in DataFrames at C:\\Users\\HSI\\.julia\\packages\\DataFrames\\S3ZFo\\src\\subdataframe\\subdataframe.jl:169\n",
       "[18] DataFrame(dfr::DataFrameRow) in DataFrames at C:\\Users\\HSI\\.julia\\packages\\DataFrames\\S3ZFo\\src\\dataframerow\\dataframerow.jl:273\n",
       "[19] DataFrame(gd::GroupedDataFrame; copycols) in DataFrames at C:\\Users\\HSI\\.julia\\packages\\DataFrames\\S3ZFo\\src\\groupeddataframe\\grouping.jl:1518\n",
       "[20] DataFrame(t::Type, nrows::Integer, ncols::Integer) in DataFrames at deprecated.jl:65\n",
       "[21] DataFrame(column_eltypes::AbstractArray{#s198,1} where #s198<:Type, nrows::Integer) in DataFrames at deprecated.jl:65\n",
       "[22] DataFrame(x::T; copycols) where T in DataFrames at C:\\Users\\HSI\\.julia\\packages\\DataFrames\\S3ZFo\\src\\other\\tables.jl:31"
      ]
     },
     "execution_count": 9,
     "metadata": {},
     "output_type": "execute_result"
    }
   ],
   "source": [
    "methods(DataFrame)"
   ]
  },
  {
   "cell_type": "code",
   "execution_count": 7,
   "metadata": {
    "colab": {},
    "colab_type": "code",
    "id": "B2mSqb3i_pS9",
    "outputId": "faac1d71-df93-4fe2-912e-f5634e44f98a"
   },
   "outputs": [
    {
     "data": {
      "text/html": [
       "<table class=\"data-frame\"><thead><tr><th></th><th>col1</th><th>col2</th></tr><tr><th></th><th>Int64</th><th>String⍰</th></tr></thead><tbody><p>5 rows × 2 columns</p><tr><th>1</th><td>1</td><td>M</td></tr><tr><th>2</th><td>2</td><td>F</td></tr><tr><th>3</th><td>3</td><td>F</td></tr><tr><th>4</th><td>4</td><td>missing</td></tr><tr><th>5</th><td>5</td><td>M</td></tr></tbody></table>"
      ],
      "text/latex": [
       "\\begin{tabular}{r|cc}\n",
       "\t& col1 & col2\\\\\n",
       "\t\\hline\n",
       "\t& Int64 & String⍰\\\\\n",
       "\t\\hline\n",
       "\t1 & 1 & M \\\\\n",
       "\t2 & 2 & F \\\\\n",
       "\t3 & 3 & F \\\\\n",
       "\t4 & 4 &  \\\\\n",
       "\t5 & 5 & M \\\\\n",
       "\\end{tabular}\n"
      ],
      "text/plain": [
       "5×2 DataFrame\n",
       "│ Row │ col1  │ col2    │\n",
       "│     │ \u001b[90mInt64\u001b[39m │ \u001b[90mString⍰\u001b[39m │\n",
       "├─────┼───────┼─────────┤\n",
       "│ 1   │ 1     │ M       │\n",
       "│ 2   │ 2     │ F       │\n",
       "│ 3   │ 3     │ F       │\n",
       "│ 4   │ 4     │ \u001b[90mmissing\u001b[39m │\n",
       "│ 5   │ 5     │ M       │"
      ]
     },
     "execution_count": 7,
     "metadata": {},
     "output_type": "execute_result"
    }
   ],
   "source": [
    "df = DataFrame(col1 = 1:5, col2 = [\"M\", \"F\", \"F\", missing, \"M\"])\n",
    "# df = DataFrame(1:5, [\"M\", \"F\", \"F\", missing, \"M\"]) # This fails."
   ]
  },
  {
   "cell_type": "markdown",
   "metadata": {
    "colab_type": "text",
    "id": "xz6UvJ1P_pTN"
   },
   "source": [
    "### 1.2 使用 column by column 的方式建立 DataFrame"
   ]
  },
  {
   "cell_type": "code",
   "execution_count": 191,
   "metadata": {
    "colab": {},
    "colab_type": "code",
    "id": "dxic6O0e_pTU",
    "outputId": "01f47cde-3f42-4918-d8dd-83a8dc384c82"
   },
   "outputs": [
    {
     "data": {
      "text/html": [
       "<table class=\"data-frame\"><thead><tr><th></th></tr><tr><th></th></tr></thead><tbody><p>0 rows × 0 columns</p></tbody></table>"
      ],
      "text/latex": [
       "\\begin{tabular}{r|}\n",
       "\t& \\\\\n",
       "\t\\hline\n",
       "\t& \\\\\n",
       "\t\\hline\n",
       "\\end{tabular}\n"
      ],
      "text/plain": [
       "0×0 DataFrame\n"
      ]
     },
     "execution_count": 191,
     "metadata": {},
     "output_type": "execute_result"
    }
   ],
   "source": [
    "# 使用建構子建立空的 DataFrame\n",
    "df = DataFrame()"
   ]
  },
  {
   "cell_type": "code",
   "execution_count": 192,
   "metadata": {
    "colab": {},
    "colab_type": "code",
    "id": "DrJMb1hf_pTi",
    "outputId": "912db97a-db86-49d1-c3ae-3c78f42a6d7c"
   },
   "outputs": [
    {
     "name": "stdout",
     "output_type": "stream",
     "text": [
      "5×2 DataFrame\n",
      "│ Row │ col1  │ col2    │\n",
      "│     │ \u001b[90mInt64\u001b[39m │ \u001b[90mString⍰\u001b[39m │\n",
      "├─────┼───────┼─────────┤\n",
      "│ 1   │ 1     │ M       │\n",
      "│ 2   │ 2     │ F       │\n",
      "│ 3   │ 3     │ F       │\n",
      "│ 4   │ 4     │ \u001b[90mmissing\u001b[39m │\n",
      "│ 5   │ 5     │ M       │"
     ]
    }
   ],
   "source": [
    "# 指定各個 column 及其值, 加入到 DataFrame 中\n",
    "df.col1 = 1:5\n",
    "df.col2 = [\"M\", \"F\", \"F\", missing, \"M\"]\n",
    "\n",
    "# DataFrames.show() 函式顯示 DataFrame\n",
    "show(df)"
   ]
  },
  {
   "cell_type": "markdown",
   "metadata": {
    "colab_type": "text",
    "id": "oX8mvT9__pTw"
   },
   "source": [
    "### 1.3 新增 row 資料列到 DataFrame\n",
    "\n",
    "新增 row 到 DataFrame, 資料值的部分可以使用 tuple, vector, 或是 dictionary"
   ]
  },
  {
   "cell_type": "code",
   "execution_count": 32,
   "metadata": {
    "colab": {},
    "colab_type": "code",
    "id": "F10j3oph_pT1",
    "outputId": "019c146b-9dac-4548-ec39-3a01bf1d56ff"
   },
   "outputs": [
    {
     "data": {
      "text/html": [
       "<table class=\"data-frame\"><thead><tr><th></th><th>col1</th><th>col2</th></tr><tr><th></th><th>Int64</th><th>String⍰</th></tr></thead><tbody><p>6 rows × 2 columns</p><tr><th>1</th><td>1</td><td>M</td></tr><tr><th>2</th><td>2</td><td>F</td></tr><tr><th>3</th><td>3</td><td>F</td></tr><tr><th>4</th><td>4</td><td>missing</td></tr><tr><th>5</th><td>5</td><td>M</td></tr><tr><th>6</th><td>1</td><td>M</td></tr></tbody></table>"
      ],
      "text/latex": [
       "\\begin{tabular}{r|cc}\n",
       "\t& col1 & col2\\\\\n",
       "\t\\hline\n",
       "\t& Int64 & String⍰\\\\\n",
       "\t\\hline\n",
       "\t1 & 1 & M \\\\\n",
       "\t2 & 2 & F \\\\\n",
       "\t3 & 3 & F \\\\\n",
       "\t4 & 4 &  \\\\\n",
       "\t5 & 5 & M \\\\\n",
       "\t6 & 1 & M \\\\\n",
       "\\end{tabular}\n"
      ],
      "text/plain": [
       "6×2 DataFrame\n",
       "│ Row │ col1  │ col2    │\n",
       "│     │ \u001b[90mInt64\u001b[39m │ \u001b[90mString⍰\u001b[39m │\n",
       "├─────┼───────┼─────────┤\n",
       "│ 1   │ 1     │ M       │\n",
       "│ 2   │ 2     │ F       │\n",
       "│ 3   │ 3     │ F       │\n",
       "│ 4   │ 4     │ \u001b[90mmissing\u001b[39m │\n",
       "│ 5   │ 5     │ M       │\n",
       "│ 6   │ 1     │ M       │"
      ]
     },
     "execution_count": 32,
     "metadata": {},
     "output_type": "execute_result"
    }
   ],
   "source": [
    "# 使用 tuple\n",
    "push!(df, (1, \"M\"))"
   ]
  },
  {
   "cell_type": "code",
   "execution_count": 33,
   "metadata": {
    "colab": {},
    "colab_type": "code",
    "id": "ZbnymBxo_pUA",
    "outputId": "5b5e9d85-5e2b-40a6-f313-06d336c430e5"
   },
   "outputs": [
    {
     "data": {
      "text/html": [
       "<table class=\"data-frame\"><thead><tr><th></th><th>col1</th><th>col2</th></tr><tr><th></th><th>Int64</th><th>String⍰</th></tr></thead><tbody><p>7 rows × 2 columns</p><tr><th>1</th><td>1</td><td>M</td></tr><tr><th>2</th><td>2</td><td>F</td></tr><tr><th>3</th><td>3</td><td>F</td></tr><tr><th>4</th><td>4</td><td>missing</td></tr><tr><th>5</th><td>5</td><td>M</td></tr><tr><th>6</th><td>1</td><td>M</td></tr><tr><th>7</th><td>2</td><td>f</td></tr></tbody></table>"
      ],
      "text/latex": [
       "\\begin{tabular}{r|cc}\n",
       "\t& col1 & col2\\\\\n",
       "\t\\hline\n",
       "\t& Int64 & String⍰\\\\\n",
       "\t\\hline\n",
       "\t1 & 1 & M \\\\\n",
       "\t2 & 2 & F \\\\\n",
       "\t3 & 3 & F \\\\\n",
       "\t4 & 4 &  \\\\\n",
       "\t5 & 5 & M \\\\\n",
       "\t6 & 1 & M \\\\\n",
       "\t7 & 2 & f \\\\\n",
       "\\end{tabular}\n"
      ],
      "text/plain": [
       "7×2 DataFrame\n",
       "│ Row │ col1  │ col2    │\n",
       "│     │ \u001b[90mInt64\u001b[39m │ \u001b[90mString⍰\u001b[39m │\n",
       "├─────┼───────┼─────────┤\n",
       "│ 1   │ 1     │ M       │\n",
       "│ 2   │ 2     │ F       │\n",
       "│ 3   │ 3     │ F       │\n",
       "│ 4   │ 4     │ \u001b[90mmissing\u001b[39m │\n",
       "│ 5   │ 5     │ M       │\n",
       "│ 6   │ 1     │ M       │\n",
       "│ 7   │ 2     │ f       │"
      ]
     },
     "execution_count": 33,
     "metadata": {},
     "output_type": "execute_result"
    }
   ],
   "source": [
    "# 使用 vector\n",
    "push!(df, [2, \"f\"])"
   ]
  },
  {
   "cell_type": "code",
   "execution_count": 209,
   "metadata": {},
   "outputs": [
    {
     "data": {
      "text/html": [
       "<table class=\"data-frame\"><thead><tr><th></th><th>variable</th><th>mean</th><th>min</th><th>median</th><th>max</th><th>nunique</th><th>nmissing</th><th>eltype</th></tr><tr><th></th><th>Symbol</th><th>Nothing</th><th>String</th><th>Nothing</th><th>String</th><th>Int64</th><th>Int64</th><th>Union</th></tr></thead><tbody><p>1 rows × 8 columns</p><tr><th>1</th><td>col2</td><td></td><td>F</td><td></td><td>M</td><td>2</td><td>1</td><td>Union{Missing, String}</td></tr></tbody></table>"
      ],
      "text/latex": [
       "\\begin{tabular}{r|cccccccc}\n",
       "\t& variable & mean & min & median & max & nunique & nmissing & eltype\\\\\n",
       "\t\\hline\n",
       "\t& Symbol & Nothing & String & Nothing & String & Int64 & Int64 & Union\\\\\n",
       "\t\\hline\n",
       "\t1 & col2 &  & F &  & M & 2 & 1 & Union\\{Missing, String\\} \\\\\n",
       "\\end{tabular}\n"
      ],
      "text/plain": [
       "1×8 DataFrame. Omitted printing of 1 columns\n",
       "│ Row │ variable │ mean    │ min    │ median  │ max    │ nunique │ nmissing │\n",
       "│     │ \u001b[90mSymbol\u001b[39m   │ \u001b[90mNothing\u001b[39m │ \u001b[90mString\u001b[39m │ \u001b[90mNothing\u001b[39m │ \u001b[90mString\u001b[39m │ \u001b[90mInt64\u001b[39m   │ \u001b[90mInt64\u001b[39m    │\n",
       "├─────┼──────────┼─────────┼────────┼─────────┼────────┼─────────┼──────────┤\n",
       "│ 1   │ col2     │         │ F      │         │ M      │ 2       │ 1        │"
      ]
     },
     "execution_count": 209,
     "metadata": {},
     "output_type": "execute_result"
    }
   ],
   "source": [
    "describe(df[:,[:col2]])"
   ]
  },
  {
   "cell_type": "code",
   "execution_count": 211,
   "metadata": {
    "colab": {},
    "colab_type": "code",
    "id": "cB-jpSyB_pUX",
    "outputId": "18313ca7-0933-46e6-f5c2-8f17d9638db0",
    "scrolled": true
   },
   "outputs": [
    {
     "data": {
      "text/html": [
       "<table class=\"data-frame\"><thead><tr><th></th><th>col1</th><th>col2</th></tr><tr><th></th><th>Int64</th><th>String⍰</th></tr></thead><tbody><p>7 rows × 2 columns</p><tr><th>1</th><td>1</td><td>M</td></tr><tr><th>2</th><td>2</td><td>F</td></tr><tr><th>3</th><td>3</td><td>F</td></tr><tr><th>4</th><td>4</td><td>missing</td></tr><tr><th>5</th><td>5</td><td>M</td></tr><tr><th>6</th><td>2</td><td>F</td></tr><tr><th>7</th><td>2</td><td>F</td></tr></tbody></table>"
      ],
      "text/latex": [
       "\\begin{tabular}{r|cc}\n",
       "\t& col1 & col2\\\\\n",
       "\t\\hline\n",
       "\t& Int64 & String⍰\\\\\n",
       "\t\\hline\n",
       "\t1 & 1 & M \\\\\n",
       "\t2 & 2 & F \\\\\n",
       "\t3 & 3 & F \\\\\n",
       "\t4 & 4 &  \\\\\n",
       "\t5 & 5 & M \\\\\n",
       "\t6 & 2 & F \\\\\n",
       "\t7 & 2 & F \\\\\n",
       "\\end{tabular}\n"
      ],
      "text/plain": [
       "7×2 DataFrame\n",
       "│ Row │ col1  │ col2    │\n",
       "│     │ \u001b[90mInt64\u001b[39m │ \u001b[90mString⍰\u001b[39m │\n",
       "├─────┼───────┼─────────┤\n",
       "│ 1   │ 1     │ M       │\n",
       "│ 2   │ 2     │ F       │\n",
       "│ 3   │ 3     │ F       │\n",
       "│ 4   │ 4     │ \u001b[90mmissing\u001b[39m │\n",
       "│ 5   │ 5     │ M       │\n",
       "│ 6   │ 2     │ F       │\n",
       "│ 7   │ 2     │ F       │"
      ]
     },
     "execution_count": 211,
     "metadata": {},
     "output_type": "execute_result"
    }
   ],
   "source": [
    "# 使用 Dict\n",
    "push!(df, Dict(:col2 => \"F\", :col1 => 2)) \n",
    "# question mark in a column title indicates that there are missing in the array"
   ]
  },
  {
   "cell_type": "code",
   "execution_count": 35,
   "metadata": {},
   "outputs": [
    {
     "name": "stderr",
     "output_type": "stream",
     "text": [
      "┌ Error: Error adding value to column :col1.\n",
      "└ @ DataFrames C:\\Users\\HSI\\.julia\\packages\\DataFrames\\S3ZFo\\src\\dataframe\\dataframe.jl:1316\n"
     ]
    },
    {
     "ename": "KeyError",
     "evalue": "KeyError: key :col1 not found",
     "output_type": "error",
     "traceback": [
      "KeyError: key :col1 not found",
      "",
      "Stacktrace:",
      " [1] getindex at .\\dict.jl:477 [inlined]",
      " [2] push!(::DataFrame, ::Dict{String,Any}; cols::Symbol, columns::Nothing) at C:\\Users\\HSI\\.julia\\packages\\DataFrames\\S3ZFo\\src\\dataframe\\dataframe.jl:1303",
      " [3] push!(::DataFrame, ::Dict{String,Any}) at C:\\Users\\HSI\\.julia\\packages\\DataFrames\\S3ZFo\\src\\dataframe\\dataframe.jl:1259",
      " [4] top-level scope at In[35]:1"
     ]
    }
   ],
   "source": [
    "push!(df, Dict(\"col2\" => \"F\", \"col1\" => 2))"
   ]
  },
  {
   "cell_type": "code",
   "execution_count": 187,
   "metadata": {},
   "outputs": [
    {
     "data": {
      "text/plain": [
       "Dict{Symbol,Int64} with 2 entries:\n",
       "  :key2 => 2\n",
       "  :key1 => 1"
      ]
     },
     "execution_count": 187,
     "metadata": {},
     "output_type": "execute_result"
    }
   ],
   "source": [
    "dict1 = Dict(:key1 => 1,:key2 => 2)"
   ]
  },
  {
   "cell_type": "code",
   "execution_count": 184,
   "metadata": {},
   "outputs": [
    {
     "data": {
      "text/plain": [
       "Dict{Any,Int64} with 2 entries:\n",
       "  :key2  => 2\n",
       "  \"key1\" => 1"
      ]
     },
     "execution_count": 184,
     "metadata": {},
     "output_type": "execute_result"
    }
   ],
   "source": [
    "dict1 = Dict(\"key1\" => 1,:key2 => 2)"
   ]
  },
  {
   "cell_type": "markdown",
   "metadata": {
    "colab_type": "text",
    "id": "Ck9f9aMF_pUo"
   },
   "source": [
    "### 1.4 刪除 Row 資料\n",
    "\n",
    "呼叫 `deleterows!()` 函式可將 DataFrame 中指定的 row 刪除"
   ]
  },
  {
   "cell_type": "code",
   "execution_count": 24,
   "metadata": {
    "colab": {},
    "colab_type": "code",
    "id": "kCR2JWxQ_pUq",
    "outputId": "c094374a-cce7-4615-b73d-4df898c84a8c"
   },
   "outputs": [
    {
     "data": {
      "text/html": [
       "<table class=\"data-frame\"><thead><tr><th></th><th>col1</th><th>col2</th></tr><tr><th></th><th>Int64</th><th>String⍰</th></tr></thead><tbody><p>8 rows × 2 columns</p><tr><th>1</th><td>1</td><td>M</td></tr><tr><th>2</th><td>2</td><td>F</td></tr><tr><th>3</th><td>3</td><td>F</td></tr><tr><th>4</th><td>4</td><td>missing</td></tr><tr><th>5</th><td>5</td><td>M</td></tr><tr><th>6</th><td>1</td><td>M</td></tr><tr><th>7</th><td>2</td><td>f</td></tr><tr><th>8</th><td>1</td><td>M</td></tr></tbody></table>"
      ],
      "text/latex": [
       "\\begin{tabular}{r|cc}\n",
       "\t& col1 & col2\\\\\n",
       "\t\\hline\n",
       "\t& Int64 & String⍰\\\\\n",
       "\t\\hline\n",
       "\t1 & 1 & M \\\\\n",
       "\t2 & 2 & F \\\\\n",
       "\t3 & 3 & F \\\\\n",
       "\t4 & 4 &  \\\\\n",
       "\t5 & 5 & M \\\\\n",
       "\t6 & 1 & M \\\\\n",
       "\t7 & 2 & f \\\\\n",
       "\t8 & 1 & M \\\\\n",
       "\\end{tabular}\n"
      ],
      "text/plain": [
       "8×2 DataFrame\n",
       "│ Row │ col1  │ col2    │\n",
       "│     │ \u001b[90mInt64\u001b[39m │ \u001b[90mString⍰\u001b[39m │\n",
       "├─────┼───────┼─────────┤\n",
       "│ 1   │ 1     │ M       │\n",
       "│ 2   │ 2     │ F       │\n",
       "│ 3   │ 3     │ F       │\n",
       "│ 4   │ 4     │ \u001b[90mmissing\u001b[39m │\n",
       "│ 5   │ 5     │ M       │\n",
       "│ 6   │ 1     │ M       │\n",
       "│ 7   │ 2     │ f       │\n",
       "│ 8   │ 1     │ M       │"
      ]
     },
     "execution_count": 24,
     "metadata": {},
     "output_type": "execute_result"
    }
   ],
   "source": [
    "deleterows!(df, 7:8)"
   ]
  },
  {
   "cell_type": "markdown",
   "metadata": {
    "colab_type": "text",
    "id": "33vJyfJR_pUy"
   },
   "source": [
    "### 1.5 載入資料集\n",
    "\n",
    "延續先前範例, 使用 CSV 載入 UCI Machine Learning Repository 的 Auto MPG Data Set, 資料集的物件為 DataFrames 類型.\n",
    "\n",
    "若尚未安裝 CSV.jl 的話請先安裝."
   ]
  },
  {
   "cell_type": "code",
   "execution_count": 10,
   "metadata": {
    "colab": {},
    "colab_type": "code",
    "id": "5H-JmKGP_pU0",
    "outputId": "1b6de7ae-21d0-4882-d080-6eb3b4765bea"
   },
   "outputs": [
    {
     "name": "stdout",
     "output_type": "stream",
     "text": [
      "\u001b[32m\u001b[1m Resolving\u001b[22m\u001b[39m package versions...\n",
      "\u001b[32m\u001b[1m  Updating\u001b[22m\u001b[39m `~/.julia/environments/v1.2/Project.toml`\n",
      "\u001b[90m [no changes]\u001b[39m\n",
      "\u001b[32m\u001b[1m  Updating\u001b[22m\u001b[39m `~/.julia/environments/v1.2/Manifest.toml`\n",
      "\u001b[90m [no changes]\u001b[39m\n"
     ]
    }
   ],
   "source": [
    "Pkg.add(\"CSV\")"
   ]
  },
  {
   "cell_type": "code",
   "execution_count": 25,
   "metadata": {
    "colab": {},
    "colab_type": "code",
    "id": "jT8yudzE_pU7",
    "outputId": "1371dc3d-be81-4e5a-e36a-ae79f4584ccf"
   },
   "outputs": [],
   "source": [
    "using CSV"
   ]
  },
  {
   "cell_type": "markdown",
   "metadata": {
    "colab_type": "text",
    "id": "t-wGjx-0_pVI"
   },
   "source": [
    "使用 CSV.jl 透過 `read()` 函式將 CSV 資料產生為 DataFrame, `CSV.read()` 之回傳資料類別即為 DataFrame 型別.\n",
    "\n",
    "warning 的訊息是正常的，原因是資料集裡面有缺值，所以載入 CSV 時會有警告訊息."
   ]
  },
  {
   "cell_type": "code",
   "execution_count": 53,
   "metadata": {
    "colab": {},
    "colab_type": "code",
    "id": "ew3OpGYj_pVK",
    "outputId": "ced38c3e-0783-47ac-dc99-7a8eb8baaeba"
   },
   "outputs": [
    {
     "name": "stdout",
     "output_type": "stream",
     "text": [
      "thread = 1 warning: parsed expected 9 columns, but didn't reach end of line on data row: 29. Ignoring any extra columns on this row\n",
      "thread = 1 warning: parsed expected 9 columns, but didn't reach end of line on data row: 33. Ignoring any extra columns on this row\n",
      "thread = 1 warning: parsed expected 9 columns, but didn't reach end of line on data row: 127. Ignoring any extra columns on this row\n",
      "thread = 1 warning: parsed expected 9 columns, but didn't reach end of line on data row: 331. Ignoring any extra columns on this row\n",
      "thread = 1 warning: parsed expected 9 columns, but didn't reach end of line on data row: 337. Ignoring any extra columns on this row\n",
      "thread = 1 warning: parsed expected 9 columns, but didn't reach end of line on data row: 355. Ignoring any extra columns on this row\n",
      "thread = 1 warning: parsed expected 9 columns, but didn't reach end of line on data row: 375. Ignoring any extra columns on this row\n"
     ]
    },
    {
     "data": {
      "text/html": [
       "<table class=\"data-frame\"><thead><tr><th></th><th>mpg</th><th>cylinders</th><th>displacement</th><th>horsepower</th><th>weight</th><th>acceleration</th><th>model year</th></tr><tr><th></th><th>Float64</th><th>Int64⍰</th><th>Float64</th><th>String</th><th>Float64⍰</th><th>Float64⍰</th><th>Float64</th></tr></thead><tbody><p>398 rows × 9 columns (omitted printing of 2 columns)</p><tr><th>1</th><td>18.0</td><td>8</td><td>307.0</td><td>130.0</td><td>3504.0</td><td>12.0</td><td>70.0</td></tr><tr><th>2</th><td>15.0</td><td>8</td><td>350.0</td><td>165.0</td><td>3693.0</td><td>11.5</td><td>70.0</td></tr><tr><th>3</th><td>18.0</td><td>8</td><td>318.0</td><td>150.0</td><td>3436.0</td><td>11.0</td><td>70.0</td></tr><tr><th>4</th><td>16.0</td><td>8</td><td>304.0</td><td>150.0</td><td>3433.0</td><td>12.0</td><td>70.0</td></tr><tr><th>5</th><td>17.0</td><td>8</td><td>302.0</td><td>140.0</td><td>3449.0</td><td>10.5</td><td>70.0</td></tr><tr><th>6</th><td>15.0</td><td>8</td><td>429.0</td><td>198.0</td><td>4341.0</td><td>10.0</td><td>70.0</td></tr><tr><th>7</th><td>14.0</td><td>8</td><td>454.0</td><td>220.0</td><td>4354.0</td><td>9.0</td><td>70.0</td></tr><tr><th>8</th><td>14.0</td><td>8</td><td>440.0</td><td>215.0</td><td>4312.0</td><td>8.5</td><td>70.0</td></tr><tr><th>9</th><td>14.0</td><td>8</td><td>455.0</td><td>225.0</td><td>4425.0</td><td>10.0</td><td>70.0</td></tr><tr><th>10</th><td>15.0</td><td>8</td><td>390.0</td><td>190.0</td><td>3850.0</td><td>8.5</td><td>70.0</td></tr><tr><th>11</th><td>15.0</td><td>8</td><td>383.0</td><td>170.0</td><td>3563.0</td><td>10.0</td><td>70.0</td></tr><tr><th>12</th><td>14.0</td><td>8</td><td>340.0</td><td>160.0</td><td>3609.0</td><td>8.0</td><td>70.0</td></tr><tr><th>13</th><td>15.0</td><td>8</td><td>400.0</td><td>150.0</td><td>3761.0</td><td>9.5</td><td>70.0</td></tr><tr><th>14</th><td>14.0</td><td>8</td><td>455.0</td><td>225.0</td><td>3086.0</td><td>10.0</td><td>70.0</td></tr><tr><th>15</th><td>24.0</td><td>4</td><td>113.0</td><td>95.00</td><td>2372.0</td><td>15.0</td><td>70.0</td></tr><tr><th>16</th><td>22.0</td><td>6</td><td>198.0</td><td>95.00</td><td>2833.0</td><td>15.5</td><td>70.0</td></tr><tr><th>17</th><td>18.0</td><td>6</td><td>199.0</td><td>97.00</td><td>2774.0</td><td>15.5</td><td>70.0</td></tr><tr><th>18</th><td>21.0</td><td>6</td><td>200.0</td><td>85.00</td><td>2587.0</td><td>16.0</td><td>70.0</td></tr><tr><th>19</th><td>27.0</td><td>4</td><td>97.0</td><td>88.00</td><td>2130.0</td><td>14.5</td><td>70.0</td></tr><tr><th>20</th><td>26.0</td><td>4</td><td>97.0</td><td>46.00</td><td>1835.0</td><td>20.5</td><td>70.0</td></tr><tr><th>21</th><td>25.0</td><td>4</td><td>110.0</td><td>87.00</td><td>2672.0</td><td>17.5</td><td>70.0</td></tr><tr><th>22</th><td>24.0</td><td>4</td><td>107.0</td><td>90.00</td><td>2430.0</td><td>14.5</td><td>70.0</td></tr><tr><th>23</th><td>25.0</td><td>4</td><td>104.0</td><td>95.00</td><td>2375.0</td><td>17.5</td><td>70.0</td></tr><tr><th>24</th><td>26.0</td><td>4</td><td>121.0</td><td>113.0</td><td>2234.0</td><td>12.5</td><td>70.0</td></tr><tr><th>25</th><td>21.0</td><td>6</td><td>199.0</td><td>90.00</td><td>2648.0</td><td>15.0</td><td>70.0</td></tr><tr><th>26</th><td>10.0</td><td>8</td><td>360.0</td><td>215.0</td><td>4615.0</td><td>14.0</td><td>70.0</td></tr><tr><th>27</th><td>10.0</td><td>8</td><td>307.0</td><td>200.0</td><td>4376.0</td><td>15.0</td><td>70.0</td></tr><tr><th>28</th><td>11.0</td><td>8</td><td>318.0</td><td>210.0</td><td>4382.0</td><td>13.5</td><td>70.0</td></tr><tr><th>29</th><td>9.0</td><td>missing</td><td>8.0</td><td> 304.0</td><td>193.0</td><td>4732.0</td><td>18.5</td></tr><tr><th>30</th><td>27.0</td><td>4</td><td>97.0</td><td>88.00</td><td>2130.0</td><td>14.5</td><td>71.0</td></tr><tr><th>&vellip;</th><td>&vellip;</td><td>&vellip;</td><td>&vellip;</td><td>&vellip;</td><td>&vellip;</td><td>&vellip;</td><td>&vellip;</td></tr></tbody></table>"
      ],
      "text/latex": [
       "\\begin{tabular}{r|cccccccc}\n",
       "\t& mpg & cylinders & displacement & horsepower & weight & acceleration & model year & \\\\\n",
       "\t\\hline\n",
       "\t& Float64 & Int64⍰ & Float64 & String & Float64⍰ & Float64⍰ & Float64 & \\\\\n",
       "\t\\hline\n",
       "\t1 & 18.0 & 8 & 307.0 & 130.0 & 3504.0 & 12.0 & 70.0 & $\\dots$ \\\\\n",
       "\t2 & 15.0 & 8 & 350.0 & 165.0 & 3693.0 & 11.5 & 70.0 & $\\dots$ \\\\\n",
       "\t3 & 18.0 & 8 & 318.0 & 150.0 & 3436.0 & 11.0 & 70.0 & $\\dots$ \\\\\n",
       "\t4 & 16.0 & 8 & 304.0 & 150.0 & 3433.0 & 12.0 & 70.0 & $\\dots$ \\\\\n",
       "\t5 & 17.0 & 8 & 302.0 & 140.0 & 3449.0 & 10.5 & 70.0 & $\\dots$ \\\\\n",
       "\t6 & 15.0 & 8 & 429.0 & 198.0 & 4341.0 & 10.0 & 70.0 & $\\dots$ \\\\\n",
       "\t7 & 14.0 & 8 & 454.0 & 220.0 & 4354.0 & 9.0 & 70.0 & $\\dots$ \\\\\n",
       "\t8 & 14.0 & 8 & 440.0 & 215.0 & 4312.0 & 8.5 & 70.0 & $\\dots$ \\\\\n",
       "\t9 & 14.0 & 8 & 455.0 & 225.0 & 4425.0 & 10.0 & 70.0 & $\\dots$ \\\\\n",
       "\t10 & 15.0 & 8 & 390.0 & 190.0 & 3850.0 & 8.5 & 70.0 & $\\dots$ \\\\\n",
       "\t11 & 15.0 & 8 & 383.0 & 170.0 & 3563.0 & 10.0 & 70.0 & $\\dots$ \\\\\n",
       "\t12 & 14.0 & 8 & 340.0 & 160.0 & 3609.0 & 8.0 & 70.0 & $\\dots$ \\\\\n",
       "\t13 & 15.0 & 8 & 400.0 & 150.0 & 3761.0 & 9.5 & 70.0 & $\\dots$ \\\\\n",
       "\t14 & 14.0 & 8 & 455.0 & 225.0 & 3086.0 & 10.0 & 70.0 & $\\dots$ \\\\\n",
       "\t15 & 24.0 & 4 & 113.0 & 95.00 & 2372.0 & 15.0 & 70.0 & $\\dots$ \\\\\n",
       "\t16 & 22.0 & 6 & 198.0 & 95.00 & 2833.0 & 15.5 & 70.0 & $\\dots$ \\\\\n",
       "\t17 & 18.0 & 6 & 199.0 & 97.00 & 2774.0 & 15.5 & 70.0 & $\\dots$ \\\\\n",
       "\t18 & 21.0 & 6 & 200.0 & 85.00 & 2587.0 & 16.0 & 70.0 & $\\dots$ \\\\\n",
       "\t19 & 27.0 & 4 & 97.0 & 88.00 & 2130.0 & 14.5 & 70.0 & $\\dots$ \\\\\n",
       "\t20 & 26.0 & 4 & 97.0 & 46.00 & 1835.0 & 20.5 & 70.0 & $\\dots$ \\\\\n",
       "\t21 & 25.0 & 4 & 110.0 & 87.00 & 2672.0 & 17.5 & 70.0 & $\\dots$ \\\\\n",
       "\t22 & 24.0 & 4 & 107.0 & 90.00 & 2430.0 & 14.5 & 70.0 & $\\dots$ \\\\\n",
       "\t23 & 25.0 & 4 & 104.0 & 95.00 & 2375.0 & 17.5 & 70.0 & $\\dots$ \\\\\n",
       "\t24 & 26.0 & 4 & 121.0 & 113.0 & 2234.0 & 12.5 & 70.0 & $\\dots$ \\\\\n",
       "\t25 & 21.0 & 6 & 199.0 & 90.00 & 2648.0 & 15.0 & 70.0 & $\\dots$ \\\\\n",
       "\t26 & 10.0 & 8 & 360.0 & 215.0 & 4615.0 & 14.0 & 70.0 & $\\dots$ \\\\\n",
       "\t27 & 10.0 & 8 & 307.0 & 200.0 & 4376.0 & 15.0 & 70.0 & $\\dots$ \\\\\n",
       "\t28 & 11.0 & 8 & 318.0 & 210.0 & 4382.0 & 13.5 & 70.0 & $\\dots$ \\\\\n",
       "\t29 & 9.0 &  & 8.0 &  304.0 & 193.0 & 4732.0 & 18.5 & $\\dots$ \\\\\n",
       "\t30 & 27.0 & 4 & 97.0 & 88.00 & 2130.0 & 14.5 & 71.0 & $\\dots$ \\\\\n",
       "\t$\\dots$ & $\\dots$ & $\\dots$ & $\\dots$ & $\\dots$ & $\\dots$ & $\\dots$ & $\\dots$ &  \\\\\n",
       "\\end{tabular}\n"
      ],
      "text/plain": [
       "398×9 DataFrame. Omitted printing of 4 columns\n",
       "│ Row │ mpg     │ cylinders │ displacement │ horsepower │ weight   │\n",
       "│     │ \u001b[90mFloat64\u001b[39m │ \u001b[90mInt64⍰\u001b[39m    │ \u001b[90mFloat64\u001b[39m      │ \u001b[90mString\u001b[39m     │ \u001b[90mFloat64⍰\u001b[39m │\n",
       "├─────┼─────────┼───────────┼──────────────┼────────────┼──────────┤\n",
       "│ 1   │ 18.0    │ 8         │ 307.0        │ 130.0      │ 3504.0   │\n",
       "│ 2   │ 15.0    │ 8         │ 350.0        │ 165.0      │ 3693.0   │\n",
       "│ 3   │ 18.0    │ 8         │ 318.0        │ 150.0      │ 3436.0   │\n",
       "│ 4   │ 16.0    │ 8         │ 304.0        │ 150.0      │ 3433.0   │\n",
       "│ 5   │ 17.0    │ 8         │ 302.0        │ 140.0      │ 3449.0   │\n",
       "│ 6   │ 15.0    │ 8         │ 429.0        │ 198.0      │ 4341.0   │\n",
       "│ 7   │ 14.0    │ 8         │ 454.0        │ 220.0      │ 4354.0   │\n",
       "│ 8   │ 14.0    │ 8         │ 440.0        │ 215.0      │ 4312.0   │\n",
       "│ 9   │ 14.0    │ 8         │ 455.0        │ 225.0      │ 4425.0   │\n",
       "│ 10  │ 15.0    │ 8         │ 390.0        │ 190.0      │ 3850.0   │\n",
       "⋮\n",
       "│ 388 │ 38.0    │ 6         │ 262.0        │ 85.00      │ 3015.0   │\n",
       "│ 389 │ 26.0    │ 4         │ 156.0        │ 92.00      │ 2585.0   │\n",
       "│ 390 │ 22.0    │ 6         │ 232.0        │ 112.0      │ 2835.0   │\n",
       "│ 391 │ 32.0    │ 4         │ 144.0        │ 96.00      │ 2665.0   │\n",
       "│ 392 │ 36.0    │ 4         │ 135.0        │ 84.00      │ 2370.0   │\n",
       "│ 393 │ 27.0    │ 4         │ 151.0        │ 90.00      │ 2950.0   │\n",
       "│ 394 │ 27.0    │ 4         │ 140.0        │ 86.00      │ 2790.0   │\n",
       "│ 395 │ 44.0    │ 4         │ 97.0         │ 52.00      │ 2130.0   │\n",
       "│ 396 │ 32.0    │ 4         │ 135.0        │ 84.00      │ 2295.0   │\n",
       "│ 397 │ 28.0    │ 4         │ 120.0        │ 79.00      │ 2625.0   │\n",
       "│ 398 │ 31.0    │ 4         │ 119.0        │ 82.00      │ 2720.0   │"
      ]
     },
     "execution_count": 53,
     "metadata": {},
     "output_type": "execute_result"
    }
   ],
   "source": [
    "df = CSV.read(\"auto-mpg_D17.data\", delim=',')"
   ]
  },
  {
   "cell_type": "code",
   "execution_count": 27,
   "metadata": {
    "colab": {},
    "colab_type": "code",
    "id": "rj0iUmR6_pVW",
    "outputId": "d7611fb5-111e-44f0-b86d-24fd6b89dcc2"
   },
   "outputs": [
    {
     "name": "stdout",
     "output_type": "stream",
     "text": [
      "5×9 DataFrame\n",
      "│ Row │ mpg     │ cylinders │ displacement │ horsepower │ weight   │\n",
      "│     │ \u001b[90mFloat64\u001b[39m │ \u001b[90mInt64⍰\u001b[39m    │ \u001b[90mFloat64\u001b[39m      │ \u001b[90mString\u001b[39m     │ \u001b[90mFloat64⍰\u001b[39m │\n",
      "├─────┼─────────┼───────────┼──────────────┼────────────┼──────────┤\n",
      "│ 1   │ 18.0    │ 8         │ 307.0        │ 130.0      │ 3504.0   │\n",
      "│ 2   │ 15.0    │ 8         │ 350.0        │ 165.0      │ 3693.0   │\n",
      "│ 3   │ 18.0    │ 8         │ 318.0        │ 150.0      │ 3436.0   │\n",
      "│ 4   │ 16.0    │ 8         │ 304.0        │ 150.0      │ 3433.0   │\n",
      "│ 5   │ 17.0    │ 8         │ 302.0        │ 140.0      │ 3449.0   │\n",
      "\n",
      "│ Row │ acceleration │ model year │ origin  │ car name                  │\n",
      "│     │ \u001b[90mFloat64⍰\u001b[39m     │ \u001b[90mFloat64\u001b[39m    │ \u001b[90mFloat64\u001b[39m │ \u001b[90mString\u001b[39m                    │\n",
      "├─────┼──────────────┼────────────┼─────────┼───────────────────────────┤\n",
      "│ 1   │ 12.0         │ 70.0       │ 1.0     │ chevrolet chevelle malibu │\n",
      "│ 2   │ 11.5         │ 70.0       │ 1.0     │ buick skylark 320         │\n",
      "│ 3   │ 11.0         │ 70.0       │ 1.0     │ plymouth satellite        │\n",
      "│ 4   │ 12.0         │ 70.0       │ 1.0     │ amc rebel sst             │\n",
      "│ 5   │ 10.5         │ 70.0       │ 1.0     │ ford torino               │"
     ]
    }
   ],
   "source": [
    "# 要顯示所有 column 或 row 的話, 可以透過 `show()` 函式\n",
    "# 下面示範顯示第 1 - 5筆資料列的所有 column\n",
    "show(df[1:5, :], allcols=true)"
   ]
  },
  {
   "cell_type": "markdown",
   "metadata": {
    "colab_type": "text",
    "id": "KagMlWS1_pVl"
   },
   "source": [
    "### 1.6 複製 DataFrame\n",
    "\n",
    "呼叫 `copy()` 函式可以複製並建立一個新的 DataFrame"
   ]
  },
  {
   "cell_type": "code",
   "execution_count": 79,
   "metadata": {
    "colab": {},
    "colab_type": "code",
    "id": "zMfc7qoM_pVo",
    "outputId": "ac5a2a6c-9165-4d97-c16e-0e6e5c9f65c4"
   },
   "outputs": [
    {
     "data": {
      "text/html": [
       "<table class=\"data-frame\"><thead><tr><th></th><th>variable</th><th>mean</th><th>min</th><th>median</th><th>max</th><th>nunique</th><th>nmissing</th><th>eltype</th></tr><tr><th></th><th>Symbol</th><th>Union…</th><th>Any</th><th>Union…</th><th>Any</th><th>Union…</th><th>Union…</th><th>Type</th></tr></thead><tbody><p>2 rows × 8 columns</p><tr><th>1</th><td>col1</td><td>3.0</td><td>1</td><td>3.0</td><td>5</td><td></td><td></td><td>Int64</td></tr><tr><th>2</th><td>col2</td><td></td><td>F</td><td></td><td>M</td><td>2</td><td>1</td><td>Union{Missing, String}</td></tr></tbody></table>"
      ],
      "text/latex": [
       "\\begin{tabular}{r|cccccccc}\n",
       "\t& variable & mean & min & median & max & nunique & nmissing & eltype\\\\\n",
       "\t\\hline\n",
       "\t& Symbol & Union… & Any & Union… & Any & Union… & Union… & Type\\\\\n",
       "\t\\hline\n",
       "\t1 & col1 & 3.0 & 1 & 3.0 & 5 &  &  & Int64 \\\\\n",
       "\t2 & col2 &  & F &  & M & 2 & 1 & Union\\{Missing, String\\} \\\\\n",
       "\\end{tabular}\n"
      ],
      "text/plain": [
       "2×8 DataFrame. Omitted printing of 1 columns\n",
       "│ Row │ variable │ mean   │ min │ median │ max │ nunique │ nmissing │\n",
       "│     │ \u001b[90mSymbol\u001b[39m   │ \u001b[90mUnion…\u001b[39m │ \u001b[90mAny\u001b[39m │ \u001b[90mUnion…\u001b[39m │ \u001b[90mAny\u001b[39m │ \u001b[90mUnion…\u001b[39m  │ \u001b[90mUnion…\u001b[39m   │\n",
       "├─────┼──────────┼────────┼─────┼────────┼─────┼─────────┼──────────┤\n",
       "│ 1   │ col1     │ 3.0    │ 1   │ 3.0    │ 5   │         │          │\n",
       "│ 2   │ col2     │        │ F   │        │ M   │ 2       │ 1        │"
      ]
     },
     "execution_count": 79,
     "metadata": {},
     "output_type": "execute_result"
    }
   ],
   "source": [
    "df2 = copy(df)\n",
    "# df2 和 df 的內容相同\n",
    "describe(df2) # For an object x, print descriptive statistics to io."
   ]
  },
  {
   "cell_type": "markdown",
   "metadata": {},
   "source": [
    "You must use `df2 = copy(df)` or `df2 = df[:,:]` to duplicate an entire dataframe. Otherwise, modifications on one also apply to the other."
   ]
  },
  {
   "cell_type": "code",
   "execution_count": 248,
   "metadata": {},
   "outputs": [],
   "source": [
    "df = DataFrame();\n",
    "df.col1 = 1:6\n",
    "df.col2 = [\"row 1\", \"row 2\", \"row 3\", \"row 4\",missing, \"row 6\"];"
   ]
  },
  {
   "cell_type": "code",
   "execution_count": 249,
   "metadata": {},
   "outputs": [
    {
     "data": {
      "text/html": [
       "<table class=\"data-frame\"><thead><tr><th></th><th>col1</th><th>col2</th></tr><tr><th></th><th>Int64</th><th>String⍰</th></tr></thead><tbody><p>6 rows × 2 columns</p><tr><th>1</th><td>1</td><td>row 1</td></tr><tr><th>2</th><td>2</td><td>row 2</td></tr><tr><th>3</th><td>3</td><td>row 3</td></tr><tr><th>4</th><td>4</td><td>row 4</td></tr><tr><th>5</th><td>5</td><td>missing</td></tr><tr><th>6</th><td>6</td><td>row 6</td></tr></tbody></table>"
      ],
      "text/latex": [
       "\\begin{tabular}{r|cc}\n",
       "\t& col1 & col2\\\\\n",
       "\t\\hline\n",
       "\t& Int64 & String⍰\\\\\n",
       "\t\\hline\n",
       "\t1 & 1 & row 1 \\\\\n",
       "\t2 & 2 & row 2 \\\\\n",
       "\t3 & 3 & row 3 \\\\\n",
       "\t4 & 4 & row 4 \\\\\n",
       "\t5 & 5 &  \\\\\n",
       "\t6 & 6 & row 6 \\\\\n",
       "\\end{tabular}\n"
      ],
      "text/plain": [
       "6×2 DataFrame\n",
       "│ Row │ col1  │ col2    │\n",
       "│     │ \u001b[90mInt64\u001b[39m │ \u001b[90mString⍰\u001b[39m │\n",
       "├─────┼───────┼─────────┤\n",
       "│ 1   │ 1     │ row 1   │\n",
       "│ 2   │ 2     │ row 2   │\n",
       "│ 3   │ 3     │ row 3   │\n",
       "│ 4   │ 4     │ row 4   │\n",
       "│ 5   │ 5     │ \u001b[90mmissing\u001b[39m │\n",
       "│ 6   │ 6     │ row 6   │"
      ]
     },
     "execution_count": 249,
     "metadata": {},
     "output_type": "execute_result"
    }
   ],
   "source": [
    "df2 = df # df2 just points to df. No duplication\n",
    "df3 = copy(df) # this duplicates\n",
    "df4 = df[:,:] # this duplicates\n",
    "df6 = first(df,5) # this duplicates\n",
    "df5 = view(df,2,:) # return indices that point to df1. No duplication\n",
    "df7 = df[!,:]"
   ]
  },
  {
   "cell_type": "code",
   "execution_count": 254,
   "metadata": {
    "scrolled": true
   },
   "outputs": [
    {
     "ename": "BoundsError",
     "evalue": "BoundsError: attempt to access 1-element Array{Int64,1} at index [4]",
     "output_type": "error",
     "traceback": [
      "BoundsError: attempt to access 1-element Array{Int64,1} at index [4]",
      "",
      "Stacktrace:",
      " [1] _deleteat! at .\\array.jl:881 [inlined]",
      " [2] deleteat! at .\\array.jl:1237 [inlined]",
      " [3] (::DataFrames.var\"#120#121\"{Int64})(::Array{Int64,1}) at C:\\Users\\HSI\\.julia\\packages\\DataFrames\\S3ZFo\\src\\dataframe\\dataframe.jl:738",
      " [4] foreach(::DataFrames.var\"#120#121\"{Int64}, ::Array{AbstractArray{T,1} where T,1}) at .\\abstractarray.jl:1919",
      " [5] deleterows!(::DataFrame, ::Int64) at C:\\Users\\HSI\\.julia\\packages\\DataFrames\\S3ZFo\\src\\dataframe\\dataframe.jl:738",
      " [6] top-level scope at In[254]:2"
     ]
    }
   ],
   "source": [
    "deleterows!(df,[2,3]) # delete row 2, 3\n",
    "deleterows!(df2,4) # delete row 4 (previous row 6)\n",
    "deleterows!(df3,5)\n",
    "deleterows!(df4,1:4)\n",
    "show(df); show(df2); show(df3); show(df4); show(df6);"
   ]
  },
  {
   "cell_type": "code",
   "execution_count": 251,
   "metadata": {},
   "outputs": [
    {
     "data": {
      "text/html": [
       "<table class=\"data-frame\"><thead><tr><th></th><th>col1</th><th>col2</th></tr><tr><th></th><th>Int64</th><th>String⍰</th></tr></thead><tbody><p>3 rows × 2 columns</p><tr><th>1</th><td>1</td><td>row 1</td></tr><tr><th>2</th><td>4</td><td>row 4</td></tr><tr><th>3</th><td>5</td><td>missing</td></tr></tbody></table>"
      ],
      "text/latex": [
       "\\begin{tabular}{r|cc}\n",
       "\t& col1 & col2\\\\\n",
       "\t\\hline\n",
       "\t& Int64 & String⍰\\\\\n",
       "\t\\hline\n",
       "\t1 & 1 & row 1 \\\\\n",
       "\t2 & 4 & row 4 \\\\\n",
       "\t3 & 5 &  \\\\\n",
       "\\end{tabular}\n"
      ],
      "text/plain": [
       "3×2 DataFrame\n",
       "│ Row │ col1  │ col2    │\n",
       "│     │ \u001b[90mInt64\u001b[39m │ \u001b[90mString⍰\u001b[39m │\n",
       "├─────┼───────┼─────────┤\n",
       "│ 1   │ 1     │ row 1   │\n",
       "│ 2   │ 4     │ row 4   │\n",
       "│ 3   │ 5     │ \u001b[90mmissing\u001b[39m │"
      ]
     },
     "execution_count": 251,
     "metadata": {},
     "output_type": "execute_result"
    }
   ],
   "source": [
    "df"
   ]
  },
  {
   "cell_type": "markdown",
   "metadata": {},
   "source": [
    "`df5 = view(df,2,:)` views the 1st row in df. Since the rows 2,3,6 of df are deleted previously, the 2nd row is now the previous 4th row."
   ]
  },
  {
   "cell_type": "code",
   "execution_count": 252,
   "metadata": {},
   "outputs": [
    {
     "data": {
      "text/html": [
       "<p>DataFrameRow (2 columns)</p><table class=\"data-frame\"><thead><tr><th></th><th>col1</th><th>col2</th></tr><tr><th></th><th>Int64</th><th>String⍰</th></tr></thead><tbody><tr><th>2</th><td>4</td><td>row 4</td></tr></tbody></table>"
      ],
      "text/latex": [
       "\\begin{tabular}{r|cc}\n",
       "\t& col1 & col2\\\\\n",
       "\t\\hline\n",
       "\t& Int64 & String⍰\\\\\n",
       "\t\\hline\n",
       "\t2 & 4 & row 4 \\\\\n",
       "\\end{tabular}\n"
      ],
      "text/plain": [
       "DataFrameRow\n",
       "│ Row │ col1  │ col2    │\n",
       "│     │ \u001b[90mInt64\u001b[39m │ \u001b[90mString⍰\u001b[39m │\n",
       "├─────┼───────┼─────────┤\n",
       "│ 2   │ 4     │ row 4   │"
      ]
     },
     "execution_count": 252,
     "metadata": {},
     "output_type": "execute_result"
    }
   ],
   "source": [
    "df5"
   ]
  },
  {
   "cell_type": "code",
   "execution_count": 253,
   "metadata": {},
   "outputs": [
    {
     "data": {
      "text/html": [
       "<table class=\"data-frame\"><thead><tr><th></th><th>col1</th><th>col2</th></tr><tr><th></th><th>Int64</th><th>String⍰</th></tr></thead><tbody><p>3 rows × 2 columns</p><tr><th>1</th><td>1</td><td>row 1</td></tr><tr><th>2</th><td>4</td><td>row 4</td></tr><tr><th>3</th><td>5</td><td>missing</td></tr></tbody></table>"
      ],
      "text/latex": [
       "\\begin{tabular}{r|cc}\n",
       "\t& col1 & col2\\\\\n",
       "\t\\hline\n",
       "\t& Int64 & String⍰\\\\\n",
       "\t\\hline\n",
       "\t1 & 1 & row 1 \\\\\n",
       "\t2 & 4 & row 4 \\\\\n",
       "\t3 & 5 &  \\\\\n",
       "\\end{tabular}\n"
      ],
      "text/plain": [
       "3×2 DataFrame\n",
       "│ Row │ col1  │ col2    │\n",
       "│     │ \u001b[90mInt64\u001b[39m │ \u001b[90mString⍰\u001b[39m │\n",
       "├─────┼───────┼─────────┤\n",
       "│ 1   │ 1     │ row 1   │\n",
       "│ 2   │ 4     │ row 4   │\n",
       "│ 3   │ 5     │ \u001b[90mmissing\u001b[39m │"
      ]
     },
     "execution_count": 253,
     "metadata": {},
     "output_type": "execute_result"
    }
   ],
   "source": [
    "df7"
   ]
  },
  {
   "cell_type": "code",
   "execution_count": 218,
   "metadata": {},
   "outputs": [
    {
     "name": "stdout",
     "output_type": "stream",
     "text": [
      "18105907993406196748\n",
      "18105907993406196748\n",
      "62453577532054375\n",
      "12534539854090992422\n",
      "17500274004664766282\n",
      "10794258277842078017\n",
      "5241647470823125230\n"
     ]
    }
   ],
   "source": [
    "println(objectid(df))\n",
    "println(objectid(df2))\n",
    "println(objectid(df3))\n",
    "println(objectid(df4))\n",
    "println(objectid(df5))\n",
    "println(objectid(df6))\n",
    "println(objectid(df7)) # memory location"
   ]
  },
  {
   "cell_type": "markdown",
   "metadata": {
    "colab_type": "text",
    "id": "kID1E-pb_pV_"
   },
   "source": [
    "## 2. 將 DataFrame 儲存到 CSV 檔案"
   ]
  },
  {
   "cell_type": "code",
   "execution_count": 134,
   "metadata": {
    "colab": {},
    "colab_type": "code",
    "id": "KtarlWcK_pWG",
    "outputId": "35faf4b7-7fa8-4ddf-82ab-a82cabb7120b"
   },
   "outputs": [
    {
     "name": "stdout",
     "output_type": "stream",
     "text": [
      "thread = 1 warning: parsed expected 9 columns, but didn't reach end of line on data row: 29. Ignoring any extra columns on this row\n",
      "thread = 1 warning: parsed expected 9 columns, but didn't reach end of line on data row: 33. Ignoring any extra columns on this row\n",
      "thread = 1 warning: parsed expected 9 columns, but didn't reach end of line on data row: 127. Ignoring any extra columns on this row\n",
      "thread = 1 warning: parsed expected 9 columns, but didn't reach end of line on data row: 331. Ignoring any extra columns on this row\n",
      "thread = 1 warning: parsed expected 9 columns, but didn't reach end of line on data row: 337. Ignoring any extra columns on this row\n",
      "thread = 1 warning: parsed expected 9 columns, but didn't reach end of line on data row: 355. Ignoring any extra columns on this row\n",
      "thread = 1 warning: parsed expected 9 columns, but didn't reach end of line on data row: 375. Ignoring any extra columns on this row\n"
     ]
    },
    {
     "data": {
      "text/plain": [
       "\"a_D17.csv\""
      ]
     },
     "execution_count": 134,
     "metadata": {},
     "output_type": "execute_result"
    }
   ],
   "source": [
    "df = CSV.read(\"auto-mpg_D17.data\", delim=',')\n",
    "CSV.write(\"a_D17.csv\", df)"
   ]
  },
  {
   "cell_type": "markdown",
   "metadata": {
    "colab_type": "text",
    "id": "SkTPm7ar_pWS"
   },
   "source": [
    "從目錄中可以看到 csv 檔案已寫入"
   ]
  },
  {
   "cell_type": "code",
   "execution_count": 135,
   "metadata": {
    "colab": {},
    "colab_type": "code",
    "id": "x-mBgFs0_pW_",
    "outputId": "92724630-3cb7-4fba-ec72-77bd1fef917b"
   },
   "outputs": [
    {
     "data": {
      "text/plain": [
       "50-element Array{String,1}:\n",
       " \".ipynb_checkpoints\"\n",
       " \"04-02-2020.csv\"\n",
       " \"04-02-2020_D18.csv\"\n",
       " \"04-02-2020_D19.csv\"\n",
       " \"AbstractArray.png\"\n",
       " \"Julia_Number (2).png\"\n",
       " \"Julia_Number.png\"\n",
       " \"Questions to ask.ipynb\"\n",
       " \"a.csv\"\n",
       " \"a_D17.csv\"\n",
       " \"auto-mpg.data\"\n",
       " \"auto-mpg_D17.data\"\n",
       " \"b.json\"\n",
       " ⋮\n",
       " \"julia_014_database_IO_csv_json_SQL.ipynb\"\n",
       " \"julia_015_Logging.ipynb\"\n",
       " \"julia_016_Multiple Dispatch.ipynb\"\n",
       " \"julia_017_ DataFrames 入門.ipynb\"\n",
       " \"julia_018_example.ipynb\"\n",
       " \"julia_019_example-Copy1.ipynb\"\n",
       " \"julia_019_example.ipynb\"\n",
       " \"julia_020_example.ipynb\"\n",
       " \"log.txt\"\n",
       " \"pointy.png\"\n",
       " \"scalar_index.png\"\n",
       " \"train.csv\""
      ]
     },
     "execution_count": 135,
     "metadata": {},
     "output_type": "execute_result"
    }
   ],
   "source": [
    "readdir()"
   ]
  },
  {
   "cell_type": "code",
   "execution_count": 136,
   "metadata": {
    "colab": {},
    "colab_type": "code",
    "id": "Vs5bnnCo_pXQ",
    "outputId": "0a7e9f2b-8133-47cc-cb5a-390785c57f57"
   },
   "outputs": [],
   "source": [
    "# 使用 Julia 內建的 DelimitedFiles library \n",
    "using DelimitedFiles"
   ]
  },
  {
   "cell_type": "code",
   "execution_count": 137,
   "metadata": {},
   "outputs": [
    {
     "data": {
      "text/plain": [
       "6-element Array{Any,1}:\n",
       " \"mpg,cylinders,displacement,horsepower,weight,acceleration,model\"\n",
       " \"18.0,8,307.0,130.0,3504.0,12.0,70.0,1.0,chevrolet\"\n",
       " \"15.0,8,350.0,165.0,3693.0,11.5,70.0,1.0,buick\"\n",
       " \"18.0,8,318.0,150.0,3436.0,11.0,70.0,1.0,plymouth\"\n",
       " \"16.0,8,304.0,150.0,3433.0,12.0,70.0,1.0,amc\"\n",
       " \"17.0,8,302.0,140.0,3449.0,10.5,70.0,1.0,ford\""
      ]
     },
     "execution_count": 137,
     "metadata": {},
     "output_type": "execute_result"
    }
   ],
   "source": [
    "# 驗證檔案 header 與前 5 筆資料\n",
    "readdlm(\"a_D17.csv\")[1:6]"
   ]
  },
  {
   "cell_type": "markdown",
   "metadata": {
    "colab_type": "text",
    "id": "MtyxZP-h_pXc"
   },
   "source": [
    "## 3. DataFrame 的操作\n",
    "\n",
    "### 3.1 檢視 DataFrame"
   ]
  },
  {
   "cell_type": "code",
   "execution_count": 138,
   "metadata": {
    "colab": {},
    "colab_type": "code",
    "id": "JAzNtEJ0_pXe",
    "outputId": "3fb9c7db-ef62-4856-fb97-9445576dc307"
   },
   "outputs": [
    {
     "data": {
      "text/plain": [
       "(398, 9)"
      ]
     },
     "execution_count": 138,
     "metadata": {},
     "output_type": "execute_result"
    }
   ],
   "source": [
    "# 檢視 DataFrame 的尺寸\n",
    "size(df)"
   ]
  },
  {
   "cell_type": "code",
   "execution_count": 139,
   "metadata": {
    "colab": {},
    "colab_type": "code",
    "id": "90ydVHjN_pXt",
    "outputId": "83ed8ad5-46b2-4ede-eac4-dd592029a10f"
   },
   "outputs": [
    {
     "data": {
      "text/html": [
       "<table class=\"data-frame\"><thead><tr><th></th><th>variable</th><th>mean</th><th>min</th><th>median</th><th>max</th><th>nunique</th><th>nmissing</th><th>eltype</th></tr><tr><th></th><th>Symbol</th><th>Union…</th><th>Any</th><th>Union…</th><th>Any</th><th>Union…</th><th>Union…</th><th>Type</th></tr></thead><tbody><p>9 rows × 8 columns</p><tr><th>1</th><td>mpg</td><td>23.5146</td><td>9.0</td><td>23.0</td><td>46.6</td><td></td><td></td><td>Float64</td></tr><tr><th>2</th><td>cylinders</td><td>5.44836</td><td>3</td><td>4.0</td><td>8</td><td></td><td>1</td><td>Union{Missing, Int64}</td></tr><tr><th>3</th><td>displacement</td><td>192.682</td><td>8.0</td><td>146.0</td><td>455.0</td><td></td><td></td><td>Float64</td></tr><tr><th>4</th><td>horsepower</td><td></td><td> 304.0</td><td></td><td>?</td><td>94</td><td></td><td>String</td></tr><tr><th>5</th><td>weight</td><td>2966.01</td><td>193.0</td><td>2797.5</td><td>5140.0</td><td></td><td>6</td><td>Union{Missing, Float64}</td></tr><tr><th>6</th><td>acceleration</td><td>27.5656</td><td>8.0</td><td>15.5</td><td>4732.0</td><td></td><td>6</td><td>Union{Missing, Float64}</td></tr><tr><th>7</th><td>model year</td><td>112.433</td><td>18.5</td><td>76.0</td><td>3035.0</td><td></td><td></td><td>Float64</td></tr><tr><th>8</th><td>origin</td><td>1.98719</td><td>1.0</td><td>1.0</td><td>70.0</td><td></td><td></td><td>Float64</td></tr><tr><th>9</th><td>car name</td><td></td><td> 71</td><td></td><td>vw rabbit custom</td><td>306</td><td></td><td>String</td></tr></tbody></table>"
      ],
      "text/latex": [
       "\\begin{tabular}{r|cccccccc}\n",
       "\t& variable & mean & min & median & max & nunique & nmissing & eltype\\\\\n",
       "\t\\hline\n",
       "\t& Symbol & Union… & Any & Union… & Any & Union… & Union… & Type\\\\\n",
       "\t\\hline\n",
       "\t1 & mpg & 23.5146 & 9.0 & 23.0 & 46.6 &  &  & Float64 \\\\\n",
       "\t2 & cylinders & 5.44836 & 3 & 4.0 & 8 &  & 1 & Union\\{Missing, Int64\\} \\\\\n",
       "\t3 & displacement & 192.682 & 8.0 & 146.0 & 455.0 &  &  & Float64 \\\\\n",
       "\t4 & horsepower &  &  304.0 &  & ? & 94 &  & String \\\\\n",
       "\t5 & weight & 2966.01 & 193.0 & 2797.5 & 5140.0 &  & 6 & Union\\{Missing, Float64\\} \\\\\n",
       "\t6 & acceleration & 27.5656 & 8.0 & 15.5 & 4732.0 &  & 6 & Union\\{Missing, Float64\\} \\\\\n",
       "\t7 & model year & 112.433 & 18.5 & 76.0 & 3035.0 &  &  & Float64 \\\\\n",
       "\t8 & origin & 1.98719 & 1.0 & 1.0 & 70.0 &  &  & Float64 \\\\\n",
       "\t9 & car name &  &  71 &  & vw rabbit custom & 306 &  & String \\\\\n",
       "\\end{tabular}\n"
      ],
      "text/plain": [
       "9×8 DataFrame. Omitted printing of 2 columns\n",
       "│ Row │ variable     │ mean    │ min    │ median │ max              │ nunique │\n",
       "│     │ \u001b[90mSymbol\u001b[39m       │ \u001b[90mUnion…\u001b[39m  │ \u001b[90mAny\u001b[39m    │ \u001b[90mUnion…\u001b[39m │ \u001b[90mAny\u001b[39m              │ \u001b[90mUnion…\u001b[39m  │\n",
       "├─────┼──────────────┼─────────┼────────┼────────┼──────────────────┼─────────┤\n",
       "│ 1   │ mpg          │ 23.5146 │ 9.0    │ 23.0   │ 46.6             │         │\n",
       "│ 2   │ cylinders    │ 5.44836 │ 3      │ 4.0    │ 8                │         │\n",
       "│ 3   │ displacement │ 192.682 │ 8.0    │ 146.0  │ 455.0            │         │\n",
       "│ 4   │ horsepower   │         │  304.0 │        │ ?                │ 94      │\n",
       "│ 5   │ weight       │ 2966.01 │ 193.0  │ 2797.5 │ 5140.0           │         │\n",
       "│ 6   │ acceleration │ 27.5656 │ 8.0    │ 15.5   │ 4732.0           │         │\n",
       "│ 7   │ model year   │ 112.433 │ 18.5   │ 76.0   │ 3035.0           │         │\n",
       "│ 8   │ origin       │ 1.98719 │ 1.0    │ 1.0    │ 70.0             │         │\n",
       "│ 9   │ car name     │         │  71    │        │ vw rabbit custom │ 306     │"
      ]
     },
     "execution_count": 139,
     "metadata": {},
     "output_type": "execute_result"
    }
   ],
   "source": [
    "# 彙總 DataFrame 資訊\n",
    "describe(df)"
   ]
  },
  {
   "cell_type": "markdown",
   "metadata": {
    "colab_type": "text",
    "id": "8BhWHJgU_pX1"
   },
   "source": [
    "下面三行程式, 均可列出所有的 row 與 column"
   ]
  },
  {
   "cell_type": "code",
   "execution_count": 60,
   "metadata": {
    "colab": {},
    "colab_type": "code",
    "id": "1dr4LWOA_pX2",
    "outputId": "4251c1c1-d03a-412c-bd5b-2a727b4244ed",
    "scrolled": true
   },
   "outputs": [
    {
     "data": {
      "text/html": [
       "<table class=\"data-frame\"><thead><tr><th></th><th>mpg</th><th>cylinders</th><th>displacement</th><th>horsepower</th><th>weight</th><th>acceleration</th><th>model year</th></tr><tr><th></th><th>Float64</th><th>Int64⍰</th><th>Float64</th><th>String</th><th>Float64⍰</th><th>Float64⍰</th><th>Float64</th></tr></thead><tbody><p>398 rows × 9 columns (omitted printing of 2 columns)</p><tr><th>1</th><td>18.0</td><td>8</td><td>307.0</td><td>130.0</td><td>3504.0</td><td>12.0</td><td>70.0</td></tr><tr><th>2</th><td>15.0</td><td>8</td><td>350.0</td><td>165.0</td><td>3693.0</td><td>11.5</td><td>70.0</td></tr><tr><th>3</th><td>18.0</td><td>8</td><td>318.0</td><td>150.0</td><td>3436.0</td><td>11.0</td><td>70.0</td></tr><tr><th>4</th><td>16.0</td><td>8</td><td>304.0</td><td>150.0</td><td>3433.0</td><td>12.0</td><td>70.0</td></tr><tr><th>5</th><td>17.0</td><td>8</td><td>302.0</td><td>140.0</td><td>3449.0</td><td>10.5</td><td>70.0</td></tr><tr><th>6</th><td>15.0</td><td>8</td><td>429.0</td><td>198.0</td><td>4341.0</td><td>10.0</td><td>70.0</td></tr><tr><th>7</th><td>14.0</td><td>8</td><td>454.0</td><td>220.0</td><td>4354.0</td><td>9.0</td><td>70.0</td></tr><tr><th>8</th><td>14.0</td><td>8</td><td>440.0</td><td>215.0</td><td>4312.0</td><td>8.5</td><td>70.0</td></tr><tr><th>9</th><td>14.0</td><td>8</td><td>455.0</td><td>225.0</td><td>4425.0</td><td>10.0</td><td>70.0</td></tr><tr><th>10</th><td>15.0</td><td>8</td><td>390.0</td><td>190.0</td><td>3850.0</td><td>8.5</td><td>70.0</td></tr><tr><th>11</th><td>15.0</td><td>8</td><td>383.0</td><td>170.0</td><td>3563.0</td><td>10.0</td><td>70.0</td></tr><tr><th>12</th><td>14.0</td><td>8</td><td>340.0</td><td>160.0</td><td>3609.0</td><td>8.0</td><td>70.0</td></tr><tr><th>13</th><td>15.0</td><td>8</td><td>400.0</td><td>150.0</td><td>3761.0</td><td>9.5</td><td>70.0</td></tr><tr><th>14</th><td>14.0</td><td>8</td><td>455.0</td><td>225.0</td><td>3086.0</td><td>10.0</td><td>70.0</td></tr><tr><th>15</th><td>24.0</td><td>4</td><td>113.0</td><td>95.00</td><td>2372.0</td><td>15.0</td><td>70.0</td></tr><tr><th>16</th><td>22.0</td><td>6</td><td>198.0</td><td>95.00</td><td>2833.0</td><td>15.5</td><td>70.0</td></tr><tr><th>17</th><td>18.0</td><td>6</td><td>199.0</td><td>97.00</td><td>2774.0</td><td>15.5</td><td>70.0</td></tr><tr><th>18</th><td>21.0</td><td>6</td><td>200.0</td><td>85.00</td><td>2587.0</td><td>16.0</td><td>70.0</td></tr><tr><th>19</th><td>27.0</td><td>4</td><td>97.0</td><td>88.00</td><td>2130.0</td><td>14.5</td><td>70.0</td></tr><tr><th>20</th><td>26.0</td><td>4</td><td>97.0</td><td>46.00</td><td>1835.0</td><td>20.5</td><td>70.0</td></tr><tr><th>21</th><td>25.0</td><td>4</td><td>110.0</td><td>87.00</td><td>2672.0</td><td>17.5</td><td>70.0</td></tr><tr><th>22</th><td>24.0</td><td>4</td><td>107.0</td><td>90.00</td><td>2430.0</td><td>14.5</td><td>70.0</td></tr><tr><th>23</th><td>25.0</td><td>4</td><td>104.0</td><td>95.00</td><td>2375.0</td><td>17.5</td><td>70.0</td></tr><tr><th>24</th><td>26.0</td><td>4</td><td>121.0</td><td>113.0</td><td>2234.0</td><td>12.5</td><td>70.0</td></tr><tr><th>25</th><td>21.0</td><td>6</td><td>199.0</td><td>90.00</td><td>2648.0</td><td>15.0</td><td>70.0</td></tr><tr><th>26</th><td>10.0</td><td>8</td><td>360.0</td><td>215.0</td><td>4615.0</td><td>14.0</td><td>70.0</td></tr><tr><th>27</th><td>10.0</td><td>8</td><td>307.0</td><td>200.0</td><td>4376.0</td><td>15.0</td><td>70.0</td></tr><tr><th>28</th><td>11.0</td><td>8</td><td>318.0</td><td>210.0</td><td>4382.0</td><td>13.5</td><td>70.0</td></tr><tr><th>29</th><td>9.0</td><td>missing</td><td>8.0</td><td> 304.0</td><td>193.0</td><td>4732.0</td><td>18.5</td></tr><tr><th>30</th><td>27.0</td><td>4</td><td>97.0</td><td>88.00</td><td>2130.0</td><td>14.5</td><td>71.0</td></tr><tr><th>&vellip;</th><td>&vellip;</td><td>&vellip;</td><td>&vellip;</td><td>&vellip;</td><td>&vellip;</td><td>&vellip;</td><td>&vellip;</td></tr></tbody></table>"
      ],
      "text/latex": [
       "\\begin{tabular}{r|cccccccc}\n",
       "\t& mpg & cylinders & displacement & horsepower & weight & acceleration & model year & \\\\\n",
       "\t\\hline\n",
       "\t& Float64 & Int64⍰ & Float64 & String & Float64⍰ & Float64⍰ & Float64 & \\\\\n",
       "\t\\hline\n",
       "\t1 & 18.0 & 8 & 307.0 & 130.0 & 3504.0 & 12.0 & 70.0 & $\\dots$ \\\\\n",
       "\t2 & 15.0 & 8 & 350.0 & 165.0 & 3693.0 & 11.5 & 70.0 & $\\dots$ \\\\\n",
       "\t3 & 18.0 & 8 & 318.0 & 150.0 & 3436.0 & 11.0 & 70.0 & $\\dots$ \\\\\n",
       "\t4 & 16.0 & 8 & 304.0 & 150.0 & 3433.0 & 12.0 & 70.0 & $\\dots$ \\\\\n",
       "\t5 & 17.0 & 8 & 302.0 & 140.0 & 3449.0 & 10.5 & 70.0 & $\\dots$ \\\\\n",
       "\t6 & 15.0 & 8 & 429.0 & 198.0 & 4341.0 & 10.0 & 70.0 & $\\dots$ \\\\\n",
       "\t7 & 14.0 & 8 & 454.0 & 220.0 & 4354.0 & 9.0 & 70.0 & $\\dots$ \\\\\n",
       "\t8 & 14.0 & 8 & 440.0 & 215.0 & 4312.0 & 8.5 & 70.0 & $\\dots$ \\\\\n",
       "\t9 & 14.0 & 8 & 455.0 & 225.0 & 4425.0 & 10.0 & 70.0 & $\\dots$ \\\\\n",
       "\t10 & 15.0 & 8 & 390.0 & 190.0 & 3850.0 & 8.5 & 70.0 & $\\dots$ \\\\\n",
       "\t11 & 15.0 & 8 & 383.0 & 170.0 & 3563.0 & 10.0 & 70.0 & $\\dots$ \\\\\n",
       "\t12 & 14.0 & 8 & 340.0 & 160.0 & 3609.0 & 8.0 & 70.0 & $\\dots$ \\\\\n",
       "\t13 & 15.0 & 8 & 400.0 & 150.0 & 3761.0 & 9.5 & 70.0 & $\\dots$ \\\\\n",
       "\t14 & 14.0 & 8 & 455.0 & 225.0 & 3086.0 & 10.0 & 70.0 & $\\dots$ \\\\\n",
       "\t15 & 24.0 & 4 & 113.0 & 95.00 & 2372.0 & 15.0 & 70.0 & $\\dots$ \\\\\n",
       "\t16 & 22.0 & 6 & 198.0 & 95.00 & 2833.0 & 15.5 & 70.0 & $\\dots$ \\\\\n",
       "\t17 & 18.0 & 6 & 199.0 & 97.00 & 2774.0 & 15.5 & 70.0 & $\\dots$ \\\\\n",
       "\t18 & 21.0 & 6 & 200.0 & 85.00 & 2587.0 & 16.0 & 70.0 & $\\dots$ \\\\\n",
       "\t19 & 27.0 & 4 & 97.0 & 88.00 & 2130.0 & 14.5 & 70.0 & $\\dots$ \\\\\n",
       "\t20 & 26.0 & 4 & 97.0 & 46.00 & 1835.0 & 20.5 & 70.0 & $\\dots$ \\\\\n",
       "\t21 & 25.0 & 4 & 110.0 & 87.00 & 2672.0 & 17.5 & 70.0 & $\\dots$ \\\\\n",
       "\t22 & 24.0 & 4 & 107.0 & 90.00 & 2430.0 & 14.5 & 70.0 & $\\dots$ \\\\\n",
       "\t23 & 25.0 & 4 & 104.0 & 95.00 & 2375.0 & 17.5 & 70.0 & $\\dots$ \\\\\n",
       "\t24 & 26.0 & 4 & 121.0 & 113.0 & 2234.0 & 12.5 & 70.0 & $\\dots$ \\\\\n",
       "\t25 & 21.0 & 6 & 199.0 & 90.00 & 2648.0 & 15.0 & 70.0 & $\\dots$ \\\\\n",
       "\t26 & 10.0 & 8 & 360.0 & 215.0 & 4615.0 & 14.0 & 70.0 & $\\dots$ \\\\\n",
       "\t27 & 10.0 & 8 & 307.0 & 200.0 & 4376.0 & 15.0 & 70.0 & $\\dots$ \\\\\n",
       "\t28 & 11.0 & 8 & 318.0 & 210.0 & 4382.0 & 13.5 & 70.0 & $\\dots$ \\\\\n",
       "\t29 & 9.0 &  & 8.0 &  304.0 & 193.0 & 4732.0 & 18.5 & $\\dots$ \\\\\n",
       "\t30 & 27.0 & 4 & 97.0 & 88.00 & 2130.0 & 14.5 & 71.0 & $\\dots$ \\\\\n",
       "\t$\\dots$ & $\\dots$ & $\\dots$ & $\\dots$ & $\\dots$ & $\\dots$ & $\\dots$ & $\\dots$ &  \\\\\n",
       "\\end{tabular}\n"
      ],
      "text/plain": [
       "398×9 DataFrame. Omitted printing of 4 columns\n",
       "│ Row │ mpg     │ cylinders │ displacement │ horsepower │ weight   │\n",
       "│     │ \u001b[90mFloat64\u001b[39m │ \u001b[90mInt64⍰\u001b[39m    │ \u001b[90mFloat64\u001b[39m      │ \u001b[90mString\u001b[39m     │ \u001b[90mFloat64⍰\u001b[39m │\n",
       "├─────┼─────────┼───────────┼──────────────┼────────────┼──────────┤\n",
       "│ 1   │ 18.0    │ 8         │ 307.0        │ 130.0      │ 3504.0   │\n",
       "│ 2   │ 15.0    │ 8         │ 350.0        │ 165.0      │ 3693.0   │\n",
       "│ 3   │ 18.0    │ 8         │ 318.0        │ 150.0      │ 3436.0   │\n",
       "│ 4   │ 16.0    │ 8         │ 304.0        │ 150.0      │ 3433.0   │\n",
       "│ 5   │ 17.0    │ 8         │ 302.0        │ 140.0      │ 3449.0   │\n",
       "│ 6   │ 15.0    │ 8         │ 429.0        │ 198.0      │ 4341.0   │\n",
       "│ 7   │ 14.0    │ 8         │ 454.0        │ 220.0      │ 4354.0   │\n",
       "│ 8   │ 14.0    │ 8         │ 440.0        │ 215.0      │ 4312.0   │\n",
       "│ 9   │ 14.0    │ 8         │ 455.0        │ 225.0      │ 4425.0   │\n",
       "│ 10  │ 15.0    │ 8         │ 390.0        │ 190.0      │ 3850.0   │\n",
       "⋮\n",
       "│ 388 │ 38.0    │ 6         │ 262.0        │ 85.00      │ 3015.0   │\n",
       "│ 389 │ 26.0    │ 4         │ 156.0        │ 92.00      │ 2585.0   │\n",
       "│ 390 │ 22.0    │ 6         │ 232.0        │ 112.0      │ 2835.0   │\n",
       "│ 391 │ 32.0    │ 4         │ 144.0        │ 96.00      │ 2665.0   │\n",
       "│ 392 │ 36.0    │ 4         │ 135.0        │ 84.00      │ 2370.0   │\n",
       "│ 393 │ 27.0    │ 4         │ 151.0        │ 90.00      │ 2950.0   │\n",
       "│ 394 │ 27.0    │ 4         │ 140.0        │ 86.00      │ 2790.0   │\n",
       "│ 395 │ 44.0    │ 4         │ 97.0         │ 52.00      │ 2130.0   │\n",
       "│ 396 │ 32.0    │ 4         │ 135.0        │ 84.00      │ 2295.0   │\n",
       "│ 397 │ 28.0    │ 4         │ 120.0        │ 79.00      │ 2625.0   │\n",
       "│ 398 │ 31.0    │ 4         │ 119.0        │ 82.00      │ 2720.0   │"
      ]
     },
     "execution_count": 60,
     "metadata": {},
     "output_type": "execute_result"
    }
   ],
   "source": [
    "df\n",
    "df[!, :]\n",
    "df[:, :]"
   ]
  },
  {
   "cell_type": "markdown",
   "metadata": {
    "colab_type": "text",
    "id": "REk3tojm_pYF"
   },
   "source": [
    "在 Jupyter Notebook 環境中, 預設顯示螢幕容許大小的資料, 因此可能不會顯示所有 column 和 row. 使用 `show()` 函式, 可以有效地控制顯示. 下面的例子是設定 `allcols=true` 及 `allrows=true` 以顯示所有 column 及 row."
   ]
  },
  {
   "cell_type": "code",
   "execution_count": 22,
   "metadata": {
    "colab": {},
    "colab_type": "code",
    "id": "a8Spj9Jk_pYG",
    "outputId": "e159a0da-b610-4064-bf08-13f64355daaa"
   },
   "outputs": [
    {
     "name": "stdout",
     "output_type": "stream",
     "text": [
      "398×9 DataFrame\n",
      "│ Row │ mpg     │ cylinders │ displacement │ horsepower │ weight   │\n",
      "│     │ \u001b[90mFloat64\u001b[39m │ \u001b[90mInt64⍰\u001b[39m    │ \u001b[90mFloat64\u001b[39m      │ \u001b[90mString\u001b[39m     │ \u001b[90mFloat64⍰\u001b[39m │\n",
      "├─────┼─────────┼───────────┼──────────────┼────────────┼──────────┤\n",
      "│ 1   │ 18.0    │ 8         │ 307.0        │ 130.0      │ 3504.0   │\n",
      "│ 2   │ 15.0    │ 8         │ 350.0        │ 165.0      │ 3693.0   │\n",
      "│ 3   │ 18.0    │ 8         │ 318.0        │ 150.0      │ 3436.0   │\n",
      "│ 4   │ 16.0    │ 8         │ 304.0        │ 150.0      │ 3433.0   │\n",
      "│ 5   │ 17.0    │ 8         │ 302.0        │ 140.0      │ 3449.0   │\n",
      "│ 6   │ 15.0    │ 8         │ 429.0        │ 198.0      │ 4341.0   │\n",
      "│ 7   │ 14.0    │ 8         │ 454.0        │ 220.0      │ 4354.0   │\n",
      "│ 8   │ 14.0    │ 8         │ 440.0        │ 215.0      │ 4312.0   │\n",
      "│ 9   │ 14.0    │ 8         │ 455.0        │ 225.0      │ 4425.0   │\n",
      "│ 10  │ 15.0    │ 8         │ 390.0        │ 190.0      │ 3850.0   │\n",
      "│ 11  │ 15.0    │ 8         │ 383.0        │ 170.0      │ 3563.0   │\n",
      "│ 12  │ 14.0    │ 8         │ 340.0        │ 160.0      │ 3609.0   │\n",
      "│ 13  │ 15.0    │ 8         │ 400.0        │ 150.0      │ 3761.0   │\n",
      "│ 14  │ 14.0    │ 8         │ 455.0        │ 225.0      │ 3086.0   │\n",
      "│ 15  │ 24.0    │ 4         │ 113.0        │ 95.00      │ 2372.0   │\n",
      "│ 16  │ 22.0    │ 6         │ 198.0        │ 95.00      │ 2833.0   │\n",
      "│ 17  │ 18.0    │ 6         │ 199.0        │ 97.00      │ 2774.0   │\n",
      "│ 18  │ 21.0    │ 6         │ 200.0        │ 85.00      │ 2587.0   │\n",
      "│ 19  │ 27.0    │ 4         │ 97.0         │ 88.00      │ 2130.0   │\n",
      "│ 20  │ 26.0    │ 4         │ 97.0         │ 46.00      │ 1835.0   │\n",
      "│ 21  │ 25.0    │ 4         │ 110.0        │ 87.00      │ 2672.0   │\n",
      "│ 22  │ 24.0    │ 4         │ 107.0        │ 90.00      │ 2430.0   │\n",
      "│ 23  │ 25.0    │ 4         │ 104.0        │ 95.00      │ 2375.0   │\n",
      "│ 24  │ 26.0    │ 4         │ 121.0        │ 113.0      │ 2234.0   │\n",
      "│ 25  │ 21.0    │ 6         │ 199.0        │ 90.00      │ 2648.0   │\n",
      "│ 26  │ 10.0    │ 8         │ 360.0        │ 215.0      │ 4615.0   │\n",
      "│ 27  │ 10.0    │ 8         │ 307.0        │ 200.0      │ 4376.0   │\n",
      "│ 28  │ 11.0    │ 8         │ 318.0        │ 210.0      │ 4382.0   │\n",
      "│ 29  │ 9.0     │ \u001b[90mmissing\u001b[39m   │ 8.0          │  304.0     │ 193.0    │\n",
      "│ 30  │ 27.0    │ 4         │ 97.0         │ 88.00      │ 2130.0   │\n",
      "│ 31  │ 28.0    │ 4         │ 140.0        │ 90.00      │ 2264.0   │\n",
      "│ 32  │ 25.0    │ 4         │ 113.0        │ 95.00      │ 2228.0   │\n",
      "│ 33  │ 25.0    │ 4         │ 98.0         │ ?          │ \u001b[90mmissing\u001b[39m  │\n",
      "│ 34  │ 19.0    │ 6         │ 232.0        │ 100.0      │ 2634.0   │\n",
      "│ 35  │ 16.0    │ 6         │ 225.0        │ 105.0      │ 3439.0   │\n",
      "│ 36  │ 17.0    │ 6         │ 250.0        │ 100.0      │ 3329.0   │\n",
      "│ 37  │ 19.0    │ 6         │ 250.0        │ 88.00      │ 3302.0   │\n",
      "│ 38  │ 18.0    │ 6         │ 232.0        │ 100.0      │ 3288.0   │\n",
      "│ 39  │ 14.0    │ 8         │ 350.0        │ 165.0      │ 4209.0   │\n",
      "│ 40  │ 14.0    │ 8         │ 400.0        │ 175.0      │ 4464.0   │\n",
      "│ 41  │ 14.0    │ 8         │ 351.0        │ 153.0      │ 4154.0   │\n",
      "│ 42  │ 14.0    │ 8         │ 318.0        │ 150.0      │ 4096.0   │\n",
      "│ 43  │ 12.0    │ 8         │ 383.0        │ 180.0      │ 4955.0   │\n",
      "│ 44  │ 13.0    │ 8         │ 400.0        │ 170.0      │ 4746.0   │\n",
      "│ 45  │ 13.0    │ 8         │ 400.0        │ 175.0      │ 5140.0   │\n",
      "│ 46  │ 18.0    │ 6         │ 258.0        │ 110.0      │ 2962.0   │\n",
      "│ 47  │ 22.0    │ 4         │ 140.0        │ 72.00      │ 2408.0   │\n",
      "│ 48  │ 19.0    │ 6         │ 250.0        │ 100.0      │ 3282.0   │\n",
      "│ 49  │ 18.0    │ 6         │ 250.0        │ 88.00      │ 3139.0   │\n",
      "│ 50  │ 23.0    │ 4         │ 122.0        │ 86.00      │ 2220.0   │\n",
      "│ 51  │ 28.0    │ 4         │ 116.0        │ 90.00      │ 2123.0   │\n",
      "│ 52  │ 30.0    │ 4         │ 79.0         │ 70.00      │ 2074.0   │\n",
      "│ 53  │ 30.0    │ 4         │ 88.0         │ 76.00      │ 2065.0   │\n",
      "│ 54  │ 31.0    │ 4         │ 71.0         │ 65.00      │ 1773.0   │\n",
      "│ 55  │ 35.0    │ 4         │ 72.0         │ 69.00      │ 1613.0   │\n",
      "│ 56  │ 27.0    │ 4         │ 97.0         │ 60.00      │ 1834.0   │\n",
      "│ 57  │ 26.0    │ 4         │ 91.0         │ 70.00      │ 1955.0   │\n",
      "│ 58  │ 24.0    │ 4         │ 113.0        │ 95.00      │ 2278.0   │\n",
      "│ 59  │ 25.0    │ 4         │ 97.5         │ 80.00      │ 2126.0   │\n",
      "│ 60  │ 23.0    │ 4         │ 97.0         │ 54.00      │ 2254.0   │\n",
      "│ 61  │ 20.0    │ 4         │ 140.0        │ 90.00      │ 2408.0   │\n",
      "│ 62  │ 21.0    │ 4         │ 122.0        │ 86.00      │ 2226.0   │\n",
      "│ 63  │ 13.0    │ 8         │ 350.0        │ 165.0      │ 4274.0   │\n",
      "│ 64  │ 14.0    │ 8         │ 400.0        │ 175.0      │ 4385.0   │\n",
      "│ 65  │ 15.0    │ 8         │ 318.0        │ 150.0      │ 4135.0   │\n",
      "│ 66  │ 14.0    │ 8         │ 351.0        │ 153.0      │ 4129.0   │\n",
      "│ 67  │ 17.0    │ 8         │ 304.0        │ 150.0      │ 3672.0   │\n",
      "│ 68  │ 11.0    │ 8         │ 429.0        │ 208.0      │ 4633.0   │\n",
      "│ 69  │ 13.0    │ 8         │ 350.0        │ 155.0      │ 4502.0   │\n",
      "│ 70  │ 12.0    │ 8         │ 350.0        │ 160.0      │ 4456.0   │\n",
      "│ 71  │ 13.0    │ 8         │ 400.0        │ 190.0      │ 4422.0   │\n",
      "│ 72  │ 19.0    │ 3         │ 70.0         │ 97.00      │ 2330.0   │\n",
      "│ 73  │ 15.0    │ 8         │ 304.0        │ 150.0      │ 3892.0   │\n",
      "│ 74  │ 13.0    │ 8         │ 307.0        │ 130.0      │ 4098.0   │\n",
      "│ 75  │ 13.0    │ 8         │ 302.0        │ 140.0      │ 4294.0   │\n",
      "│ 76  │ 14.0    │ 8         │ 318.0        │ 150.0      │ 4077.0   │\n",
      "│ 77  │ 18.0    │ 4         │ 121.0        │ 112.0      │ 2933.0   │\n",
      "│ 78  │ 22.0    │ 4         │ 121.0        │ 76.00      │ 2511.0   │\n",
      "│ 79  │ 21.0    │ 4         │ 120.0        │ 87.00      │ 2979.0   │\n",
      "│ 80  │ 26.0    │ 4         │ 96.0         │ 69.00      │ 2189.0   │\n",
      "│ 81  │ 22.0    │ 4         │ 122.0        │ 86.00      │ 2395.0   │\n",
      "│ 82  │ 28.0    │ 4         │ 97.0         │ 92.00      │ 2288.0   │\n",
      "│ 83  │ 23.0    │ 4         │ 120.0        │ 97.00      │ 2506.0   │\n",
      "│ 84  │ 28.0    │ 4         │ 98.0         │ 80.00      │ 2164.0   │\n",
      "│ 85  │ 27.0    │ 4         │ 97.0         │ 88.00      │ 2100.0   │\n",
      "│ 86  │ 13.0    │ 8         │ 350.0        │ 175.0      │ 4100.0   │\n",
      "│ 87  │ 14.0    │ 8         │ 304.0        │ 150.0      │ 3672.0   │\n",
      "│ 88  │ 13.0    │ 8         │ 350.0        │ 145.0      │ 3988.0   │\n",
      "│ 89  │ 14.0    │ 8         │ 302.0        │ 137.0      │ 4042.0   │\n",
      "│ 90  │ 15.0    │ 8         │ 318.0        │ 150.0      │ 3777.0   │\n",
      "│ 91  │ 12.0    │ 8         │ 429.0        │ 198.0      │ 4952.0   │\n",
      "│ 92  │ 13.0    │ 8         │ 400.0        │ 150.0      │ 4464.0   │\n",
      "│ 93  │ 13.0    │ 8         │ 351.0        │ 158.0      │ 4363.0   │\n",
      "│ 94  │ 14.0    │ 8         │ 318.0        │ 150.0      │ 4237.0   │\n",
      "│ 95  │ 13.0    │ 8         │ 440.0        │ 215.0      │ 4735.0   │\n",
      "│ 96  │ 12.0    │ 8         │ 455.0        │ 225.0      │ 4951.0   │\n",
      "│ 97  │ 13.0    │ 8         │ 360.0        │ 175.0      │ 3821.0   │\n",
      "│ 98  │ 18.0    │ 6         │ 225.0        │ 105.0      │ 3121.0   │\n",
      "│ 99  │ 16.0    │ 6         │ 250.0        │ 100.0      │ 3278.0   │\n",
      "│ 100 │ 18.0    │ 6         │ 232.0        │ 100.0      │ 2945.0   │\n",
      "│ 101 │ 18.0    │ 6         │ 250.0        │ 88.00      │ 3021.0   │\n",
      "│ 102 │ 23.0    │ 6         │ 198.0        │ 95.00      │ 2904.0   │\n",
      "│ 103 │ 26.0    │ 4         │ 97.0         │ 46.00      │ 1950.0   │\n",
      "│ 104 │ 11.0    │ 8         │ 400.0        │ 150.0      │ 4997.0   │\n",
      "│ 105 │ 12.0    │ 8         │ 400.0        │ 167.0      │ 4906.0   │\n",
      "│ 106 │ 13.0    │ 8         │ 360.0        │ 170.0      │ 4654.0   │\n",
      "│ 107 │ 12.0    │ 8         │ 350.0        │ 180.0      │ 4499.0   │\n",
      "│ 108 │ 18.0    │ 6         │ 232.0        │ 100.0      │ 2789.0   │\n",
      "│ 109 │ 20.0    │ 4         │ 97.0         │ 88.00      │ 2279.0   │\n",
      "│ 110 │ 21.0    │ 4         │ 140.0        │ 72.00      │ 2401.0   │\n",
      "│ 111 │ 22.0    │ 4         │ 108.0        │ 94.00      │ 2379.0   │\n",
      "│ 112 │ 18.0    │ 3         │ 70.0         │ 90.00      │ 2124.0   │\n",
      "│ 113 │ 19.0    │ 4         │ 122.0        │ 85.00      │ 2310.0   │\n",
      "│ 114 │ 21.0    │ 6         │ 155.0        │ 107.0      │ 2472.0   │\n",
      "│ 115 │ 26.0    │ 4         │ 98.0         │ 90.00      │ 2265.0   │\n",
      "│ 116 │ 15.0    │ 8         │ 350.0        │ 145.0      │ 4082.0   │\n",
      "│ 117 │ 16.0    │ 8         │ 400.0        │ 230.0      │ 4278.0   │\n",
      "│ 118 │ 29.0    │ 4         │ 68.0         │ 49.00      │ 1867.0   │\n",
      "│ 119 │ 24.0    │ 4         │ 116.0        │ 75.00      │ 2158.0   │\n",
      "│ 120 │ 20.0    │ 4         │ 114.0        │ 91.00      │ 2582.0   │\n",
      "│ 121 │ 19.0    │ 4         │ 121.0        │ 112.0      │ 2868.0   │\n",
      "│ 122 │ 15.0    │ 8         │ 318.0        │ 150.0      │ 3399.0   │\n",
      "│ 123 │ 24.0    │ 4         │ 121.0        │ 110.0      │ 2660.0   │\n",
      "│ 124 │ 20.0    │ 6         │ 156.0        │ 122.0      │ 2807.0   │\n",
      "│ 125 │ 11.0    │ 8         │ 350.0        │ 180.0      │ 3664.0   │\n",
      "│ 126 │ 20.0    │ 6         │ 198.0        │ 95.00      │ 3102.0   │\n",
      "│ 127 │ 21.0    │ 6         │ 200.0        │ ?          │ \u001b[90mmissing\u001b[39m  │\n",
      "│ 128 │ 19.0    │ 6         │ 232.0        │ 100.0      │ 2901.0   │\n",
      "│ 129 │ 15.0    │ 6         │ 250.0        │ 100.0      │ 3336.0   │\n",
      "│ 130 │ 31.0    │ 4         │ 79.0         │ 67.00      │ 1950.0   │\n",
      "│ 131 │ 26.0    │ 4         │ 122.0        │ 80.00      │ 2451.0   │\n",
      "│ 132 │ 32.0    │ 4         │ 71.0         │ 65.00      │ 1836.0   │\n",
      "│ 133 │ 25.0    │ 4         │ 140.0        │ 75.00      │ 2542.0   │\n",
      "│ 134 │ 16.0    │ 6         │ 250.0        │ 100.0      │ 3781.0   │\n",
      "│ 135 │ 16.0    │ 6         │ 258.0        │ 110.0      │ 3632.0   │\n",
      "│ 136 │ 18.0    │ 6         │ 225.0        │ 105.0      │ 3613.0   │\n",
      "│ 137 │ 16.0    │ 8         │ 302.0        │ 140.0      │ 4141.0   │\n",
      "│ 138 │ 13.0    │ 8         │ 350.0        │ 150.0      │ 4699.0   │\n",
      "│ 139 │ 14.0    │ 8         │ 318.0        │ 150.0      │ 4457.0   │\n",
      "│ 140 │ 14.0    │ 8         │ 302.0        │ 140.0      │ 4638.0   │\n",
      "│ 141 │ 14.0    │ 8         │ 304.0        │ 150.0      │ 4257.0   │\n",
      "│ 142 │ 29.0    │ 4         │ 98.0         │ 83.00      │ 2219.0   │\n",
      "│ 143 │ 26.0    │ 4         │ 79.0         │ 67.00      │ 1963.0   │\n",
      "│ 144 │ 26.0    │ 4         │ 97.0         │ 78.00      │ 2300.0   │\n",
      "│ 145 │ 31.0    │ 4         │ 76.0         │ 52.00      │ 1649.0   │\n",
      "│ 146 │ 32.0    │ 4         │ 83.0         │ 61.00      │ 2003.0   │\n",
      "│ 147 │ 28.0    │ 4         │ 90.0         │ 75.00      │ 2125.0   │\n",
      "│ 148 │ 24.0    │ 4         │ 90.0         │ 75.00      │ 2108.0   │\n",
      "│ 149 │ 26.0    │ 4         │ 116.0        │ 75.00      │ 2246.0   │\n",
      "│ 150 │ 24.0    │ 4         │ 120.0        │ 97.00      │ 2489.0   │\n",
      "│ 151 │ 26.0    │ 4         │ 108.0        │ 93.00      │ 2391.0   │\n",
      "│ 152 │ 31.0    │ 4         │ 79.0         │ 67.00      │ 2000.0   │\n",
      "│ 153 │ 19.0    │ 6         │ 225.0        │ 95.00      │ 3264.0   │\n",
      "│ 154 │ 18.0    │ 6         │ 250.0        │ 105.0      │ 3459.0   │\n",
      "│ 155 │ 15.0    │ 6         │ 250.0        │ 72.00      │ 3432.0   │\n",
      "│ 156 │ 15.0    │ 6         │ 250.0        │ 72.00      │ 3158.0   │\n",
      "│ 157 │ 16.0    │ 8         │ 400.0        │ 170.0      │ 4668.0   │\n",
      "│ 158 │ 15.0    │ 8         │ 350.0        │ 145.0      │ 4440.0   │\n",
      "│ 159 │ 16.0    │ 8         │ 318.0        │ 150.0      │ 4498.0   │\n",
      "│ 160 │ 14.0    │ 8         │ 351.0        │ 148.0      │ 4657.0   │\n",
      "│ 161 │ 17.0    │ 6         │ 231.0        │ 110.0      │ 3907.0   │\n",
      "│ 162 │ 16.0    │ 6         │ 250.0        │ 105.0      │ 3897.0   │\n",
      "│ 163 │ 15.0    │ 6         │ 258.0        │ 110.0      │ 3730.0   │\n",
      "│ 164 │ 18.0    │ 6         │ 225.0        │ 95.00      │ 3785.0   │\n",
      "│ 165 │ 21.0    │ 6         │ 231.0        │ 110.0      │ 3039.0   │\n",
      "│ 166 │ 20.0    │ 8         │ 262.0        │ 110.0      │ 3221.0   │\n",
      "│ 167 │ 13.0    │ 8         │ 302.0        │ 129.0      │ 3169.0   │\n",
      "│ 168 │ 29.0    │ 4         │ 97.0         │ 75.00      │ 2171.0   │\n",
      "│ 169 │ 23.0    │ 4         │ 140.0        │ 83.00      │ 2639.0   │\n",
      "│ 170 │ 20.0    │ 6         │ 232.0        │ 100.0      │ 2914.0   │\n",
      "│ 171 │ 23.0    │ 4         │ 140.0        │ 78.00      │ 2592.0   │\n",
      "│ 172 │ 24.0    │ 4         │ 134.0        │ 96.00      │ 2702.0   │\n",
      "│ 173 │ 25.0    │ 4         │ 90.0         │ 71.00      │ 2223.0   │\n",
      "│ 174 │ 24.0    │ 4         │ 119.0        │ 97.00      │ 2545.0   │\n",
      "│ 175 │ 18.0    │ 6         │ 171.0        │ 97.00      │ 2984.0   │\n",
      "│ 176 │ 29.0    │ 4         │ 90.0         │ 70.00      │ 1937.0   │\n",
      "│ 177 │ 19.0    │ 6         │ 232.0        │ 90.00      │ 3211.0   │\n",
      "│ 178 │ 23.0    │ 4         │ 115.0        │ 95.00      │ 2694.0   │\n",
      "│ 179 │ 23.0    │ 4         │ 120.0        │ 88.00      │ 2957.0   │\n",
      "│ 180 │ 22.0    │ 4         │ 121.0        │ 98.00      │ 2945.0   │\n",
      "│ 181 │ 25.0    │ 4         │ 121.0        │ 115.0      │ 2671.0   │\n",
      "│ 182 │ 33.0    │ 4         │ 91.0         │ 53.00      │ 1795.0   │\n",
      "│ 183 │ 28.0    │ 4         │ 107.0        │ 86.00      │ 2464.0   │\n",
      "│ 184 │ 25.0    │ 4         │ 116.0        │ 81.00      │ 2220.0   │\n",
      "│ 185 │ 25.0    │ 4         │ 140.0        │ 92.00      │ 2572.0   │\n",
      "│ 186 │ 26.0    │ 4         │ 98.0         │ 79.00      │ 2255.0   │\n",
      "│ 187 │ 27.0    │ 4         │ 101.0        │ 83.00      │ 2202.0   │\n",
      "│ 188 │ 17.5    │ 8         │ 305.0        │ 140.0      │ 4215.0   │\n",
      "│ 189 │ 16.0    │ 8         │ 318.0        │ 150.0      │ 4190.0   │\n",
      "│ 190 │ 15.5    │ 8         │ 304.0        │ 120.0      │ 3962.0   │\n",
      "│ 191 │ 14.5    │ 8         │ 351.0        │ 152.0      │ 4215.0   │\n",
      "│ 192 │ 22.0    │ 6         │ 225.0        │ 100.0      │ 3233.0   │\n",
      "│ 193 │ 22.0    │ 6         │ 250.0        │ 105.0      │ 3353.0   │\n",
      "│ 194 │ 24.0    │ 6         │ 200.0        │ 81.00      │ 3012.0   │\n",
      "│ 195 │ 22.5    │ 6         │ 232.0        │ 90.00      │ 3085.0   │\n",
      "│ 196 │ 29.0    │ 4         │ 85.0         │ 52.00      │ 2035.0   │\n",
      "│ 197 │ 24.5    │ 4         │ 98.0         │ 60.00      │ 2164.0   │\n",
      "│ 198 │ 29.0    │ 4         │ 90.0         │ 70.00      │ 1937.0   │\n",
      "│ 199 │ 33.0    │ 4         │ 91.0         │ 53.00      │ 1795.0   │\n",
      "│ 200 │ 20.0    │ 6         │ 225.0        │ 100.0      │ 3651.0   │\n",
      "│ 201 │ 18.0    │ 6         │ 250.0        │ 78.00      │ 3574.0   │\n",
      "│ 202 │ 18.5    │ 6         │ 250.0        │ 110.0      │ 3645.0   │\n",
      "│ 203 │ 17.5    │ 6         │ 258.0        │ 95.00      │ 3193.0   │\n",
      "│ 204 │ 29.5    │ 4         │ 97.0         │ 71.00      │ 1825.0   │\n",
      "│ 205 │ 32.0    │ 4         │ 85.0         │ 70.00      │ 1990.0   │\n",
      "│ 206 │ 28.0    │ 4         │ 97.0         │ 75.00      │ 2155.0   │\n",
      "│ 207 │ 26.5    │ 4         │ 140.0        │ 72.00      │ 2565.0   │\n",
      "│ 208 │ 20.0    │ 4         │ 130.0        │ 102.0      │ 3150.0   │\n",
      "│ 209 │ 13.0    │ 8         │ 318.0        │ 150.0      │ 3940.0   │\n",
      "│ 210 │ 19.0    │ 4         │ 120.0        │ 88.00      │ 3270.0   │\n",
      "│ 211 │ 19.0    │ 6         │ 156.0        │ 108.0      │ 2930.0   │\n",
      "│ 212 │ 16.5    │ 6         │ 168.0        │ 120.0      │ 3820.0   │\n",
      "│ 213 │ 16.5    │ 8         │ 350.0        │ 180.0      │ 4380.0   │\n",
      "│ 214 │ 13.0    │ 8         │ 350.0        │ 145.0      │ 4055.0   │\n",
      "│ 215 │ 13.0    │ 8         │ 302.0        │ 130.0      │ 3870.0   │\n",
      "│ 216 │ 13.0    │ 8         │ 318.0        │ 150.0      │ 3755.0   │\n",
      "│ 217 │ 31.5    │ 4         │ 98.0         │ 68.00      │ 2045.0   │\n",
      "│ 218 │ 30.0    │ 4         │ 111.0        │ 80.00      │ 2155.0   │\n",
      "│ 219 │ 36.0    │ 4         │ 79.0         │ 58.00      │ 1825.0   │\n",
      "│ 220 │ 25.5    │ 4         │ 122.0        │ 96.00      │ 2300.0   │\n",
      "│ 221 │ 33.5    │ 4         │ 85.0         │ 70.00      │ 1945.0   │\n",
      "│ 222 │ 17.5    │ 8         │ 305.0        │ 145.0      │ 3880.0   │\n",
      "│ 223 │ 17.0    │ 8         │ 260.0        │ 110.0      │ 4060.0   │\n",
      "│ 224 │ 15.5    │ 8         │ 318.0        │ 145.0      │ 4140.0   │\n",
      "│ 225 │ 15.0    │ 8         │ 302.0        │ 130.0      │ 4295.0   │\n",
      "│ 226 │ 17.5    │ 6         │ 250.0        │ 110.0      │ 3520.0   │\n",
      "│ 227 │ 20.5    │ 6         │ 231.0        │ 105.0      │ 3425.0   │\n",
      "│ 228 │ 19.0    │ 6         │ 225.0        │ 100.0      │ 3630.0   │\n",
      "│ 229 │ 18.5    │ 6         │ 250.0        │ 98.00      │ 3525.0   │\n",
      "│ 230 │ 16.0    │ 8         │ 400.0        │ 180.0      │ 4220.0   │\n",
      "│ 231 │ 15.5    │ 8         │ 350.0        │ 170.0      │ 4165.0   │\n",
      "│ 232 │ 15.5    │ 8         │ 400.0        │ 190.0      │ 4325.0   │\n",
      "│ 233 │ 16.0    │ 8         │ 351.0        │ 149.0      │ 4335.0   │\n",
      "│ 234 │ 29.0    │ 4         │ 97.0         │ 78.00      │ 1940.0   │\n",
      "│ 235 │ 24.5    │ 4         │ 151.0        │ 88.00      │ 2740.0   │\n",
      "│ 236 │ 26.0    │ 4         │ 97.0         │ 75.00      │ 2265.0   │\n",
      "│ 237 │ 25.5    │ 4         │ 140.0        │ 89.00      │ 2755.0   │\n",
      "│ 238 │ 30.5    │ 4         │ 98.0         │ 63.00      │ 2051.0   │\n",
      "│ 239 │ 33.5    │ 4         │ 98.0         │ 83.00      │ 2075.0   │\n",
      "│ 240 │ 30.0    │ 4         │ 97.0         │ 67.00      │ 1985.0   │\n",
      "│ 241 │ 30.5    │ 4         │ 97.0         │ 78.00      │ 2190.0   │\n",
      "│ 242 │ 22.0    │ 6         │ 146.0        │ 97.00      │ 2815.0   │\n",
      "│ 243 │ 21.5    │ 4         │ 121.0        │ 110.0      │ 2600.0   │\n",
      "│ 244 │ 21.5    │ 3         │ 80.0         │ 110.0      │ 2720.0   │\n",
      "│ 245 │ 43.1    │ 4         │ 90.0         │ 48.00      │ 1985.0   │\n",
      "│ 246 │ 36.1    │ 4         │ 98.0         │ 66.00      │ 1800.0   │\n",
      "│ 247 │ 32.8    │ 4         │ 78.0         │ 52.00      │ 1985.0   │\n",
      "│ 248 │ 39.4    │ 4         │ 85.0         │ 70.00      │ 2070.0   │\n",
      "│ 249 │ 36.1    │ 4         │ 91.0         │ 60.00      │ 1800.0   │\n",
      "│ 250 │ 19.9    │ 8         │ 260.0        │ 110.0      │ 3365.0   │\n",
      "│ 251 │ 19.4    │ 8         │ 318.0        │ 140.0      │ 3735.0   │\n",
      "│ 252 │ 20.2    │ 8         │ 302.0        │ 139.0      │ 3570.0   │\n",
      "│ 253 │ 19.2    │ 6         │ 231.0        │ 105.0      │ 3535.0   │\n",
      "│ 254 │ 20.5    │ 6         │ 200.0        │ 95.00      │ 3155.0   │\n",
      "│ 255 │ 20.2    │ 6         │ 200.0        │ 85.00      │ 2965.0   │\n",
      "│ 256 │ 25.1    │ 4         │ 140.0        │ 88.00      │ 2720.0   │\n",
      "│ 257 │ 20.5    │ 6         │ 225.0        │ 100.0      │ 3430.0   │\n",
      "│ 258 │ 19.4    │ 6         │ 232.0        │ 90.00      │ 3210.0   │\n",
      "│ 259 │ 20.6    │ 6         │ 231.0        │ 105.0      │ 3380.0   │\n",
      "│ 260 │ 20.8    │ 6         │ 200.0        │ 85.00      │ 3070.0   │\n",
      "│ 261 │ 18.6    │ 6         │ 225.0        │ 110.0      │ 3620.0   │\n",
      "│ 262 │ 18.1    │ 6         │ 258.0        │ 120.0      │ 3410.0   │\n",
      "│ 263 │ 19.2    │ 8         │ 305.0        │ 145.0      │ 3425.0   │\n",
      "│ 264 │ 17.7    │ 6         │ 231.0        │ 165.0      │ 3445.0   │\n",
      "│ 265 │ 18.1    │ 8         │ 302.0        │ 139.0      │ 3205.0   │\n",
      "│ 266 │ 17.5    │ 8         │ 318.0        │ 140.0      │ 4080.0   │\n",
      "│ 267 │ 30.0    │ 4         │ 98.0         │ 68.00      │ 2155.0   │\n",
      "│ 268 │ 27.5    │ 4         │ 134.0        │ 95.00      │ 2560.0   │\n",
      "│ 269 │ 27.2    │ 4         │ 119.0        │ 97.00      │ 2300.0   │\n",
      "│ 270 │ 30.9    │ 4         │ 105.0        │ 75.00      │ 2230.0   │\n",
      "│ 271 │ 21.1    │ 4         │ 134.0        │ 95.00      │ 2515.0   │\n",
      "│ 272 │ 23.2    │ 4         │ 156.0        │ 105.0      │ 2745.0   │\n",
      "│ 273 │ 23.8    │ 4         │ 151.0        │ 85.00      │ 2855.0   │\n",
      "│ 274 │ 23.9    │ 4         │ 119.0        │ 97.00      │ 2405.0   │\n",
      "│ 275 │ 20.3    │ 5         │ 131.0        │ 103.0      │ 2830.0   │\n",
      "│ 276 │ 17.0    │ 6         │ 163.0        │ 125.0      │ 3140.0   │\n",
      "│ 277 │ 21.6    │ 4         │ 121.0        │ 115.0      │ 2795.0   │\n",
      "│ 278 │ 16.2    │ 6         │ 163.0        │ 133.0      │ 3410.0   │\n",
      "│ 279 │ 31.5    │ 4         │ 89.0         │ 71.00      │ 1990.0   │\n",
      "│ 280 │ 29.5    │ 4         │ 98.0         │ 68.00      │ 2135.0   │\n",
      "│ 281 │ 21.5    │ 6         │ 231.0        │ 115.0      │ 3245.0   │\n",
      "│ 282 │ 19.8    │ 6         │ 200.0        │ 85.00      │ 2990.0   │\n",
      "│ 283 │ 22.3    │ 4         │ 140.0        │ 88.00      │ 2890.0   │\n",
      "│ 284 │ 20.2    │ 6         │ 232.0        │ 90.00      │ 3265.0   │\n",
      "│ 285 │ 20.6    │ 6         │ 225.0        │ 110.0      │ 3360.0   │\n",
      "│ 286 │ 17.0    │ 8         │ 305.0        │ 130.0      │ 3840.0   │\n",
      "│ 287 │ 17.6    │ 8         │ 302.0        │ 129.0      │ 3725.0   │\n",
      "│ 288 │ 16.5    │ 8         │ 351.0        │ 138.0      │ 3955.0   │\n",
      "│ 289 │ 18.2    │ 8         │ 318.0        │ 135.0      │ 3830.0   │\n",
      "│ 290 │ 16.9    │ 8         │ 350.0        │ 155.0      │ 4360.0   │\n",
      "│ 291 │ 15.5    │ 8         │ 351.0        │ 142.0      │ 4054.0   │\n",
      "│ 292 │ 19.2    │ 8         │ 267.0        │ 125.0      │ 3605.0   │\n",
      "│ 293 │ 18.5    │ 8         │ 360.0        │ 150.0      │ 3940.0   │\n",
      "│ 294 │ 31.9    │ 4         │ 89.0         │ 71.00      │ 1925.0   │\n",
      "│ 295 │ 34.1    │ 4         │ 86.0         │ 65.00      │ 1975.0   │\n",
      "│ 296 │ 35.7    │ 4         │ 98.0         │ 80.00      │ 1915.0   │\n",
      "│ 297 │ 27.4    │ 4         │ 121.0        │ 80.00      │ 2670.0   │\n",
      "│ 298 │ 25.4    │ 5         │ 183.0        │ 77.00      │ 3530.0   │\n",
      "│ 299 │ 23.0    │ 8         │ 350.0        │ 125.0      │ 3900.0   │\n",
      "│ 300 │ 27.2    │ 4         │ 141.0        │ 71.00      │ 3190.0   │\n",
      "│ 301 │ 23.9    │ 8         │ 260.0        │ 90.00      │ 3420.0   │\n",
      "│ 302 │ 34.2    │ 4         │ 105.0        │ 70.00      │ 2200.0   │\n",
      "│ 303 │ 34.5    │ 4         │ 105.0        │ 70.00      │ 2150.0   │\n",
      "│ 304 │ 31.8    │ 4         │ 85.0         │ 65.00      │ 2020.0   │\n",
      "│ 305 │ 37.3    │ 4         │ 91.0         │ 69.00      │ 2130.0   │\n",
      "│ 306 │ 28.4    │ 4         │ 151.0        │ 90.00      │ 2670.0   │\n",
      "│ 307 │ 28.8    │ 6         │ 173.0        │ 115.0      │ 2595.0   │\n",
      "│ 308 │ 26.8    │ 6         │ 173.0        │ 115.0      │ 2700.0   │\n",
      "│ 309 │ 33.5    │ 4         │ 151.0        │ 90.00      │ 2556.0   │\n",
      "│ 310 │ 41.5    │ 4         │ 98.0         │ 76.00      │ 2144.0   │\n",
      "│ 311 │ 38.1    │ 4         │ 89.0         │ 60.00      │ 1968.0   │\n",
      "│ 312 │ 32.1    │ 4         │ 98.0         │ 70.00      │ 2120.0   │\n",
      "│ 313 │ 37.2    │ 4         │ 86.0         │ 65.00      │ 2019.0   │\n",
      "│ 314 │ 28.0    │ 4         │ 151.0        │ 90.00      │ 2678.0   │\n",
      "│ 315 │ 26.4    │ 4         │ 140.0        │ 88.00      │ 2870.0   │\n",
      "│ 316 │ 24.3    │ 4         │ 151.0        │ 90.00      │ 3003.0   │\n",
      "│ 317 │ 19.1    │ 6         │ 225.0        │ 90.00      │ 3381.0   │\n",
      "│ 318 │ 34.3    │ 4         │ 97.0         │ 78.00      │ 2188.0   │\n",
      "│ 319 │ 29.8    │ 4         │ 134.0        │ 90.00      │ 2711.0   │\n",
      "│ 320 │ 31.3    │ 4         │ 120.0        │ 75.00      │ 2542.0   │\n",
      "│ 321 │ 37.0    │ 4         │ 119.0        │ 92.00      │ 2434.0   │\n",
      "│ 322 │ 32.2    │ 4         │ 108.0        │ 75.00      │ 2265.0   │\n",
      "│ 323 │ 46.6    │ 4         │ 86.0         │ 65.00      │ 2110.0   │\n",
      "│ 324 │ 27.9    │ 4         │ 156.0        │ 105.0      │ 2800.0   │\n",
      "│ 325 │ 40.8    │ 4         │ 85.0         │ 65.00      │ 2110.0   │\n",
      "│ 326 │ 44.3    │ 4         │ 90.0         │ 48.00      │ 2085.0   │\n",
      "│ 327 │ 43.4    │ 4         │ 90.0         │ 48.00      │ 2335.0   │\n",
      "│ 328 │ 36.4    │ 5         │ 121.0        │ 67.00      │ 2950.0   │\n",
      "│ 329 │ 30.0    │ 4         │ 146.0        │ 67.00      │ 3250.0   │\n",
      "│ 330 │ 44.6    │ 4         │ 91.0         │ 67.00      │ 1850.0   │\n",
      "│ 331 │ 40.9    │ 4         │ 85.0         │ ?          │ \u001b[90mmissing\u001b[39m  │\n",
      "│ 332 │ 33.8    │ 4         │ 97.0         │ 67.00      │ 2145.0   │\n",
      "│ 333 │ 29.8    │ 4         │ 89.0         │ 62.00      │ 1845.0   │\n",
      "│ 334 │ 32.7    │ 6         │ 168.0        │ 132.0      │ 2910.0   │\n",
      "│ 335 │ 23.7    │ 3         │ 70.0         │ 100.0      │ 2420.0   │\n",
      "│ 336 │ 35.0    │ 4         │ 122.0        │ 88.00      │ 2500.0   │\n",
      "│ 337 │ 23.6    │ 4         │ 140.0        │ ?          │ \u001b[90mmissing\u001b[39m  │\n",
      "│ 338 │ 32.4    │ 4         │ 107.0        │ 72.00      │ 2290.0   │\n",
      "│ 339 │ 27.2    │ 4         │ 135.0        │ 84.00      │ 2490.0   │\n",
      "│ 340 │ 26.6    │ 4         │ 151.0        │ 84.00      │ 2635.0   │\n",
      "│ 341 │ 25.8    │ 4         │ 156.0        │ 92.00      │ 2620.0   │\n",
      "│ 342 │ 23.5    │ 6         │ 173.0        │ 110.0      │ 2725.0   │\n",
      "│ 343 │ 30.0    │ 4         │ 135.0        │ 84.00      │ 2385.0   │\n",
      "│ 344 │ 39.1    │ 4         │ 79.0         │ 58.00      │ 1755.0   │\n",
      "│ 345 │ 39.0    │ 4         │ 86.0         │ 64.00      │ 1875.0   │\n",
      "│ 346 │ 35.1    │ 4         │ 81.0         │ 60.00      │ 1760.0   │\n",
      "│ 347 │ 32.3    │ 4         │ 97.0         │ 67.00      │ 2065.0   │\n",
      "│ 348 │ 37.0    │ 4         │ 85.0         │ 65.00      │ 1975.0   │\n",
      "│ 349 │ 37.7    │ 4         │ 89.0         │ 62.00      │ 2050.0   │\n",
      "│ 350 │ 34.1    │ 4         │ 91.0         │ 68.00      │ 1985.0   │\n",
      "│ 351 │ 34.7    │ 4         │ 105.0        │ 63.00      │ 2215.0   │\n",
      "│ 352 │ 34.4    │ 4         │ 98.0         │ 65.00      │ 2045.0   │\n",
      "│ 353 │ 29.9    │ 4         │ 98.0         │ 65.00      │ 2380.0   │\n",
      "│ 354 │ 33.0    │ 4         │ 105.0        │ 74.00      │ 2190.0   │\n",
      "│ 355 │ 34.5    │ 4         │ 100.0        │ ?          │ \u001b[90mmissing\u001b[39m  │\n",
      "│ 356 │ 33.7    │ 4         │ 107.0        │ 75.00      │ 2210.0   │\n",
      "│ 357 │ 32.4    │ 4         │ 108.0        │ 75.00      │ 2350.0   │\n",
      "│ 358 │ 32.9    │ 4         │ 119.0        │ 100.0      │ 2615.0   │\n",
      "│ 359 │ 31.6    │ 4         │ 120.0        │ 74.00      │ 2635.0   │\n",
      "│ 360 │ 28.1    │ 4         │ 141.0        │ 80.00      │ 3230.0   │\n",
      "│ 361 │ 30.7    │ 6         │ 145.0        │ 76.00      │ 3160.0   │\n",
      "│ 362 │ 25.4    │ 6         │ 168.0        │ 116.0      │ 2900.0   │\n",
      "│ 363 │ 24.2    │ 6         │ 146.0        │ 120.0      │ 2930.0   │\n",
      "│ 364 │ 22.4    │ 6         │ 231.0        │ 110.0      │ 3415.0   │\n",
      "│ 365 │ 26.6    │ 8         │ 350.0        │ 105.0      │ 3725.0   │\n",
      "│ 366 │ 20.2    │ 6         │ 200.0        │ 88.00      │ 3060.0   │\n",
      "│ 367 │ 17.6    │ 6         │ 225.0        │ 85.00      │ 3465.0   │\n",
      "│ 368 │ 28.0    │ 4         │ 112.0        │ 88.00      │ 2605.0   │\n",
      "│ 369 │ 27.0    │ 4         │ 112.0        │ 88.00      │ 2640.0   │\n",
      "│ 370 │ 34.0    │ 4         │ 112.0        │ 88.00      │ 2395.0   │\n",
      "│ 371 │ 31.0    │ 4         │ 112.0        │ 85.00      │ 2575.0   │\n",
      "│ 372 │ 29.0    │ 4         │ 135.0        │ 84.00      │ 2525.0   │\n",
      "│ 373 │ 27.0    │ 4         │ 151.0        │ 90.00      │ 2735.0   │\n",
      "│ 374 │ 24.0    │ 4         │ 140.0        │ 92.00      │ 2865.0   │\n",
      "│ 375 │ 23.0    │ 4         │ 151.0        │ ?          │ \u001b[90mmissing\u001b[39m  │\n",
      "│ 376 │ 36.0    │ 4         │ 105.0        │ 74.00      │ 1980.0   │\n",
      "│ 377 │ 37.0    │ 4         │ 91.0         │ 68.00      │ 2025.0   │\n",
      "│ 378 │ 31.0    │ 4         │ 91.0         │ 68.00      │ 1970.0   │\n",
      "│ 379 │ 38.0    │ 4         │ 105.0        │ 63.00      │ 2125.0   │\n",
      "│ 380 │ 36.0    │ 4         │ 98.0         │ 70.00      │ 2125.0   │\n",
      "│ 381 │ 36.0    │ 4         │ 120.0        │ 88.00      │ 2160.0   │\n",
      "│ 382 │ 36.0    │ 4         │ 107.0        │ 75.00      │ 2205.0   │\n",
      "│ 383 │ 34.0    │ 4         │ 108.0        │ 70.00      │ 2245.0   │\n",
      "│ 384 │ 38.0    │ 4         │ 91.0         │ 67.00      │ 1965.0   │\n",
      "│ 385 │ 32.0    │ 4         │ 91.0         │ 67.00      │ 1965.0   │\n",
      "│ 386 │ 38.0    │ 4         │ 91.0         │ 67.00      │ 1995.0   │\n",
      "│ 387 │ 25.0    │ 6         │ 181.0        │ 110.0      │ 2945.0   │\n",
      "│ 388 │ 38.0    │ 6         │ 262.0        │ 85.00      │ 3015.0   │\n",
      "│ 389 │ 26.0    │ 4         │ 156.0        │ 92.00      │ 2585.0   │\n",
      "│ 390 │ 22.0    │ 6         │ 232.0        │ 112.0      │ 2835.0   │\n",
      "│ 391 │ 32.0    │ 4         │ 144.0        │ 96.00      │ 2665.0   │\n",
      "│ 392 │ 36.0    │ 4         │ 135.0        │ 84.00      │ 2370.0   │\n",
      "│ 393 │ 27.0    │ 4         │ 151.0        │ 90.00      │ 2950.0   │\n",
      "│ 394 │ 27.0    │ 4         │ 140.0        │ 86.00      │ 2790.0   │\n",
      "│ 395 │ 44.0    │ 4         │ 97.0         │ 52.00      │ 2130.0   │\n",
      "│ 396 │ 32.0    │ 4         │ 135.0        │ 84.00      │ 2295.0   │\n",
      "│ 397 │ 28.0    │ 4         │ 120.0        │ 79.00      │ 2625.0   │\n",
      "│ 398 │ 31.0    │ 4         │ 119.0        │ 82.00      │ 2720.0   │\n",
      "\n",
      "│ Row │ acceleration │ model year │ origin  │\n",
      "│     │ \u001b[90mFloat64⍰\u001b[39m     │ \u001b[90mFloat64\u001b[39m    │ \u001b[90mFloat64\u001b[39m │\n",
      "├─────┼──────────────┼────────────┼─────────┤\n",
      "│ 1   │ 12.0         │ 70.0       │ 1.0     │\n",
      "│ 2   │ 11.5         │ 70.0       │ 1.0     │\n",
      "│ 3   │ 11.0         │ 70.0       │ 1.0     │\n",
      "│ 4   │ 12.0         │ 70.0       │ 1.0     │\n",
      "│ 5   │ 10.5         │ 70.0       │ 1.0     │\n",
      "│ 6   │ 10.0         │ 70.0       │ 1.0     │\n",
      "│ 7   │ 9.0          │ 70.0       │ 1.0     │\n",
      "│ 8   │ 8.5          │ 70.0       │ 1.0     │\n",
      "│ 9   │ 10.0         │ 70.0       │ 1.0     │\n",
      "│ 10  │ 8.5          │ 70.0       │ 1.0     │\n",
      "│ 11  │ 10.0         │ 70.0       │ 1.0     │\n",
      "│ 12  │ 8.0          │ 70.0       │ 1.0     │\n",
      "│ 13  │ 9.5          │ 70.0       │ 1.0     │\n",
      "│ 14  │ 10.0         │ 70.0       │ 1.0     │\n",
      "│ 15  │ 15.0         │ 70.0       │ 3.0     │\n",
      "│ 16  │ 15.5         │ 70.0       │ 1.0     │\n",
      "│ 17  │ 15.5         │ 70.0       │ 1.0     │\n",
      "│ 18  │ 16.0         │ 70.0       │ 1.0     │\n",
      "│ 19  │ 14.5         │ 70.0       │ 3.0     │\n",
      "│ 20  │ 20.5         │ 70.0       │ 2.0     │\n",
      "│ 21  │ 17.5         │ 70.0       │ 2.0     │\n",
      "│ 22  │ 14.5         │ 70.0       │ 2.0     │\n",
      "│ 23  │ 17.5         │ 70.0       │ 2.0     │\n",
      "│ 24  │ 12.5         │ 70.0       │ 2.0     │\n",
      "│ 25  │ 15.0         │ 70.0       │ 1.0     │\n",
      "│ 26  │ 14.0         │ 70.0       │ 1.0     │\n",
      "│ 27  │ 15.0         │ 70.0       │ 1.0     │\n",
      "│ 28  │ 13.5         │ 70.0       │ 1.0     │\n",
      "│ 29  │ 4732.0       │ 18.5       │ 70.0    │\n",
      "│ 30  │ 14.5         │ 71.0       │ 3.0     │\n",
      "│ 31  │ 15.5         │ 71.0       │ 1.0     │\n",
      "│ 32  │ 14.0         │ 71.0       │ 3.0     │\n",
      "│ 33  │ \u001b[90mmissing\u001b[39m      │ 2046.0     │ 19.0    │\n",
      "│ 34  │ 13.0         │ 71.0       │ 1.0     │\n",
      "│ 35  │ 15.5         │ 71.0       │ 1.0     │\n",
      "│ 36  │ 15.5         │ 71.0       │ 1.0     │\n",
      "│ 37  │ 15.5         │ 71.0       │ 1.0     │\n",
      "│ 38  │ 15.5         │ 71.0       │ 1.0     │\n",
      "│ 39  │ 12.0         │ 71.0       │ 1.0     │\n",
      "│ 40  │ 11.5         │ 71.0       │ 1.0     │\n",
      "│ 41  │ 13.5         │ 71.0       │ 1.0     │\n",
      "│ 42  │ 13.0         │ 71.0       │ 1.0     │\n",
      "│ 43  │ 11.5         │ 71.0       │ 1.0     │\n",
      "│ 44  │ 12.0         │ 71.0       │ 1.0     │\n",
      "│ 45  │ 12.0         │ 71.0       │ 1.0     │\n",
      "│ 46  │ 13.5         │ 71.0       │ 1.0     │\n",
      "│ 47  │ 19.0         │ 71.0       │ 1.0     │\n",
      "│ 48  │ 15.0         │ 71.0       │ 1.0     │\n",
      "│ 49  │ 14.5         │ 71.0       │ 1.0     │\n",
      "│ 50  │ 14.0         │ 71.0       │ 1.0     │\n",
      "│ 51  │ 14.0         │ 71.0       │ 2.0     │\n",
      "│ 52  │ 19.5         │ 71.0       │ 2.0     │\n",
      "│ 53  │ 14.5         │ 71.0       │ 2.0     │\n",
      "│ 54  │ 19.0         │ 71.0       │ 3.0     │\n",
      "│ 55  │ 18.0         │ 71.0       │ 3.0     │\n",
      "│ 56  │ 19.0         │ 71.0       │ 2.0     │\n",
      "│ 57  │ 20.5         │ 71.0       │ 1.0     │\n",
      "│ 58  │ 15.5         │ 72.0       │ 3.0     │\n",
      "│ 59  │ 17.0         │ 72.0       │ 1.0     │\n",
      "│ 60  │ 23.5         │ 72.0       │ 2.0     │\n",
      "│ 61  │ 19.5         │ 72.0       │ 1.0     │\n",
      "│ 62  │ 16.5         │ 72.0       │ 1.0     │\n",
      "│ 63  │ 12.0         │ 72.0       │ 1.0     │\n",
      "│ 64  │ 12.0         │ 72.0       │ 1.0     │\n",
      "│ 65  │ 13.5         │ 72.0       │ 1.0     │\n",
      "│ 66  │ 13.0         │ 72.0       │ 1.0     │\n",
      "│ 67  │ 11.5         │ 72.0       │ 1.0     │\n",
      "│ 68  │ 11.0         │ 72.0       │ 1.0     │\n",
      "│ 69  │ 13.5         │ 72.0       │ 1.0     │\n",
      "│ 70  │ 13.5         │ 72.0       │ 1.0     │\n",
      "│ 71  │ 12.5         │ 72.0       │ 1.0     │\n",
      "│ 72  │ 13.5         │ 72.0       │ 3.0     │\n",
      "│ 73  │ 12.5         │ 72.0       │ 1.0     │\n",
      "│ 74  │ 14.0         │ 72.0       │ 1.0     │\n",
      "│ 75  │ 16.0         │ 72.0       │ 1.0     │\n",
      "│ 76  │ 14.0         │ 72.0       │ 1.0     │\n",
      "│ 77  │ 14.5         │ 72.0       │ 2.0     │\n",
      "│ 78  │ 18.0         │ 72.0       │ 2.0     │\n",
      "│ 79  │ 19.5         │ 72.0       │ 2.0     │\n",
      "│ 80  │ 18.0         │ 72.0       │ 2.0     │\n",
      "│ 81  │ 16.0         │ 72.0       │ 1.0     │\n",
      "│ 82  │ 17.0         │ 72.0       │ 3.0     │\n",
      "│ 83  │ 14.5         │ 72.0       │ 3.0     │\n",
      "│ 84  │ 15.0         │ 72.0       │ 1.0     │\n",
      "│ 85  │ 16.5         │ 72.0       │ 3.0     │\n",
      "│ 86  │ 13.0         │ 73.0       │ 1.0     │\n",
      "│ 87  │ 11.5         │ 73.0       │ 1.0     │\n",
      "│ 88  │ 13.0         │ 73.0       │ 1.0     │\n",
      "│ 89  │ 14.5         │ 73.0       │ 1.0     │\n",
      "│ 90  │ 12.5         │ 73.0       │ 1.0     │\n",
      "│ 91  │ 11.5         │ 73.0       │ 1.0     │\n",
      "│ 92  │ 12.0         │ 73.0       │ 1.0     │\n",
      "│ 93  │ 13.0         │ 73.0       │ 1.0     │\n",
      "│ 94  │ 14.5         │ 73.0       │ 1.0     │\n",
      "│ 95  │ 11.0         │ 73.0       │ 1.0     │\n",
      "│ 96  │ 11.0         │ 73.0       │ 1.0     │\n",
      "│ 97  │ 11.0         │ 73.0       │ 1.0     │\n",
      "│ 98  │ 16.5         │ 73.0       │ 1.0     │\n",
      "│ 99  │ 18.0         │ 73.0       │ 1.0     │\n",
      "│ 100 │ 16.0         │ 73.0       │ 1.0     │\n",
      "│ 101 │ 16.5         │ 73.0       │ 1.0     │\n",
      "│ 102 │ 16.0         │ 73.0       │ 1.0     │\n",
      "│ 103 │ 21.0         │ 73.0       │ 2.0     │\n",
      "│ 104 │ 14.0         │ 73.0       │ 1.0     │\n",
      "│ 105 │ 12.5         │ 73.0       │ 1.0     │\n",
      "│ 106 │ 13.0         │ 73.0       │ 1.0     │\n",
      "│ 107 │ 12.5         │ 73.0       │ 1.0     │\n",
      "│ 108 │ 15.0         │ 73.0       │ 1.0     │\n",
      "│ 109 │ 19.0         │ 73.0       │ 3.0     │\n",
      "│ 110 │ 19.5         │ 73.0       │ 1.0     │\n",
      "│ 111 │ 16.5         │ 73.0       │ 3.0     │\n",
      "│ 112 │ 13.5         │ 73.0       │ 3.0     │\n",
      "│ 113 │ 18.5         │ 73.0       │ 1.0     │\n",
      "│ 114 │ 14.0         │ 73.0       │ 1.0     │\n",
      "│ 115 │ 15.5         │ 73.0       │ 2.0     │\n",
      "│ 116 │ 13.0         │ 73.0       │ 1.0     │\n",
      "│ 117 │ 9.5          │ 73.0       │ 1.0     │\n",
      "│ 118 │ 19.5         │ 73.0       │ 2.0     │\n",
      "│ 119 │ 15.5         │ 73.0       │ 2.0     │\n",
      "│ 120 │ 14.0         │ 73.0       │ 2.0     │\n",
      "│ 121 │ 15.5         │ 73.0       │ 2.0     │\n",
      "│ 122 │ 11.0         │ 73.0       │ 1.0     │\n",
      "│ 123 │ 14.0         │ 73.0       │ 2.0     │\n",
      "│ 124 │ 13.5         │ 73.0       │ 3.0     │\n",
      "│ 125 │ 11.0         │ 73.0       │ 1.0     │\n",
      "│ 126 │ 16.5         │ 74.0       │ 1.0     │\n",
      "│ 127 │ \u001b[90mmissing\u001b[39m      │ 2875.0     │ 17.0    │\n",
      "│ 128 │ 16.0         │ 74.0       │ 1.0     │\n",
      "│ 129 │ 17.0         │ 74.0       │ 1.0     │\n",
      "│ 130 │ 19.0         │ 74.0       │ 3.0     │\n",
      "│ 131 │ 16.5         │ 74.0       │ 1.0     │\n",
      "│ 132 │ 21.0         │ 74.0       │ 3.0     │\n",
      "│ 133 │ 17.0         │ 74.0       │ 1.0     │\n",
      "│ 134 │ 17.0         │ 74.0       │ 1.0     │\n",
      "│ 135 │ 18.0         │ 74.0       │ 1.0     │\n",
      "│ 136 │ 16.5         │ 74.0       │ 1.0     │\n",
      "│ 137 │ 14.0         │ 74.0       │ 1.0     │\n",
      "│ 138 │ 14.5         │ 74.0       │ 1.0     │\n",
      "│ 139 │ 13.5         │ 74.0       │ 1.0     │\n",
      "│ 140 │ 16.0         │ 74.0       │ 1.0     │\n",
      "│ 141 │ 15.5         │ 74.0       │ 1.0     │\n",
      "│ 142 │ 16.5         │ 74.0       │ 2.0     │\n",
      "│ 143 │ 15.5         │ 74.0       │ 2.0     │\n",
      "│ 144 │ 14.5         │ 74.0       │ 2.0     │\n",
      "│ 145 │ 16.5         │ 74.0       │ 3.0     │\n",
      "│ 146 │ 19.0         │ 74.0       │ 3.0     │\n",
      "│ 147 │ 14.5         │ 74.0       │ 1.0     │\n",
      "│ 148 │ 15.5         │ 74.0       │ 2.0     │\n",
      "│ 149 │ 14.0         │ 74.0       │ 2.0     │\n",
      "│ 150 │ 15.0         │ 74.0       │ 3.0     │\n",
      "│ 151 │ 15.5         │ 74.0       │ 3.0     │\n",
      "│ 152 │ 16.0         │ 74.0       │ 2.0     │\n",
      "│ 153 │ 16.0         │ 75.0       │ 1.0     │\n",
      "│ 154 │ 16.0         │ 75.0       │ 1.0     │\n",
      "│ 155 │ 21.0         │ 75.0       │ 1.0     │\n",
      "│ 156 │ 19.5         │ 75.0       │ 1.0     │\n",
      "│ 157 │ 11.5         │ 75.0       │ 1.0     │\n",
      "│ 158 │ 14.0         │ 75.0       │ 1.0     │\n",
      "│ 159 │ 14.5         │ 75.0       │ 1.0     │\n",
      "│ 160 │ 13.5         │ 75.0       │ 1.0     │\n",
      "│ 161 │ 21.0         │ 75.0       │ 1.0     │\n",
      "│ 162 │ 18.5         │ 75.0       │ 1.0     │\n",
      "│ 163 │ 19.0         │ 75.0       │ 1.0     │\n",
      "│ 164 │ 19.0         │ 75.0       │ 1.0     │\n",
      "│ 165 │ 15.0         │ 75.0       │ 1.0     │\n",
      "│ 166 │ 13.5         │ 75.0       │ 1.0     │\n",
      "│ 167 │ 12.0         │ 75.0       │ 1.0     │\n",
      "│ 168 │ 16.0         │ 75.0       │ 3.0     │\n",
      "│ 169 │ 17.0         │ 75.0       │ 1.0     │\n",
      "│ 170 │ 16.0         │ 75.0       │ 1.0     │\n",
      "│ 171 │ 18.5         │ 75.0       │ 1.0     │\n",
      "│ 172 │ 13.5         │ 75.0       │ 3.0     │\n",
      "│ 173 │ 16.5         │ 75.0       │ 2.0     │\n",
      "│ 174 │ 17.0         │ 75.0       │ 3.0     │\n",
      "│ 175 │ 14.5         │ 75.0       │ 1.0     │\n",
      "│ 176 │ 14.0         │ 75.0       │ 2.0     │\n",
      "│ 177 │ 17.0         │ 75.0       │ 1.0     │\n",
      "│ 178 │ 15.0         │ 75.0       │ 2.0     │\n",
      "│ 179 │ 17.0         │ 75.0       │ 2.0     │\n",
      "│ 180 │ 14.5         │ 75.0       │ 2.0     │\n",
      "│ 181 │ 13.5         │ 75.0       │ 2.0     │\n",
      "│ 182 │ 17.5         │ 75.0       │ 3.0     │\n",
      "│ 183 │ 15.5         │ 76.0       │ 2.0     │\n",
      "│ 184 │ 16.9         │ 76.0       │ 2.0     │\n",
      "│ 185 │ 14.9         │ 76.0       │ 1.0     │\n",
      "│ 186 │ 17.7         │ 76.0       │ 1.0     │\n",
      "│ 187 │ 15.3         │ 76.0       │ 2.0     │\n",
      "│ 188 │ 13.0         │ 76.0       │ 1.0     │\n",
      "│ 189 │ 13.0         │ 76.0       │ 1.0     │\n",
      "│ 190 │ 13.9         │ 76.0       │ 1.0     │\n",
      "│ 191 │ 12.8         │ 76.0       │ 1.0     │\n",
      "│ 192 │ 15.4         │ 76.0       │ 1.0     │\n",
      "│ 193 │ 14.5         │ 76.0       │ 1.0     │\n",
      "│ 194 │ 17.6         │ 76.0       │ 1.0     │\n",
      "│ 195 │ 17.6         │ 76.0       │ 1.0     │\n",
      "│ 196 │ 22.2         │ 76.0       │ 1.0     │\n",
      "│ 197 │ 22.1         │ 76.0       │ 1.0     │\n",
      "│ 198 │ 14.2         │ 76.0       │ 2.0     │\n",
      "│ 199 │ 17.4         │ 76.0       │ 3.0     │\n",
      "│ 200 │ 17.7         │ 76.0       │ 1.0     │\n",
      "│ 201 │ 21.0         │ 76.0       │ 1.0     │\n",
      "│ 202 │ 16.2         │ 76.0       │ 1.0     │\n",
      "│ 203 │ 17.8         │ 76.0       │ 1.0     │\n",
      "│ 204 │ 12.2         │ 76.0       │ 2.0     │\n",
      "│ 205 │ 17.0         │ 76.0       │ 3.0     │\n",
      "│ 206 │ 16.4         │ 76.0       │ 3.0     │\n",
      "│ 207 │ 13.6         │ 76.0       │ 1.0     │\n",
      "│ 208 │ 15.7         │ 76.0       │ 2.0     │\n",
      "│ 209 │ 13.2         │ 76.0       │ 1.0     │\n",
      "│ 210 │ 21.9         │ 76.0       │ 2.0     │\n",
      "│ 211 │ 15.5         │ 76.0       │ 3.0     │\n",
      "│ 212 │ 16.7         │ 76.0       │ 2.0     │\n",
      "│ 213 │ 12.1         │ 76.0       │ 1.0     │\n",
      "│ 214 │ 12.0         │ 76.0       │ 1.0     │\n",
      "│ 215 │ 15.0         │ 76.0       │ 1.0     │\n",
      "│ 216 │ 14.0         │ 76.0       │ 1.0     │\n",
      "│ 217 │ 18.5         │ 77.0       │ 3.0     │\n",
      "│ 218 │ 14.8         │ 77.0       │ 1.0     │\n",
      "│ 219 │ 18.6         │ 77.0       │ 2.0     │\n",
      "│ 220 │ 15.5         │ 77.0       │ 1.0     │\n",
      "│ 221 │ 16.8         │ 77.0       │ 3.0     │\n",
      "│ 222 │ 12.5         │ 77.0       │ 1.0     │\n",
      "│ 223 │ 19.0         │ 77.0       │ 1.0     │\n",
      "│ 224 │ 13.7         │ 77.0       │ 1.0     │\n",
      "│ 225 │ 14.9         │ 77.0       │ 1.0     │\n",
      "│ 226 │ 16.4         │ 77.0       │ 1.0     │\n",
      "│ 227 │ 16.9         │ 77.0       │ 1.0     │\n",
      "│ 228 │ 17.7         │ 77.0       │ 1.0     │\n",
      "│ 229 │ 19.0         │ 77.0       │ 1.0     │\n",
      "│ 230 │ 11.1         │ 77.0       │ 1.0     │\n",
      "│ 231 │ 11.4         │ 77.0       │ 1.0     │\n",
      "│ 232 │ 12.2         │ 77.0       │ 1.0     │\n",
      "│ 233 │ 14.5         │ 77.0       │ 1.0     │\n",
      "│ 234 │ 14.5         │ 77.0       │ 2.0     │\n",
      "│ 235 │ 16.0         │ 77.0       │ 1.0     │\n",
      "│ 236 │ 18.2         │ 77.0       │ 3.0     │\n",
      "│ 237 │ 15.8         │ 77.0       │ 1.0     │\n",
      "│ 238 │ 17.0         │ 77.0       │ 1.0     │\n",
      "│ 239 │ 15.9         │ 77.0       │ 1.0     │\n",
      "│ 240 │ 16.4         │ 77.0       │ 3.0     │\n",
      "│ 241 │ 14.1         │ 77.0       │ 2.0     │\n",
      "│ 242 │ 14.5         │ 77.0       │ 3.0     │\n",
      "│ 243 │ 12.8         │ 77.0       │ 2.0     │\n",
      "│ 244 │ 13.5         │ 77.0       │ 3.0     │\n",
      "│ 245 │ 21.5         │ 78.0       │ 2.0     │\n",
      "│ 246 │ 14.4         │ 78.0       │ 1.0     │\n",
      "│ 247 │ 19.4         │ 78.0       │ 3.0     │\n",
      "│ 248 │ 18.6         │ 78.0       │ 3.0     │\n",
      "│ 249 │ 16.4         │ 78.0       │ 3.0     │\n",
      "│ 250 │ 15.5         │ 78.0       │ 1.0     │\n",
      "│ 251 │ 13.2         │ 78.0       │ 1.0     │\n",
      "│ 252 │ 12.8         │ 78.0       │ 1.0     │\n",
      "│ 253 │ 19.2         │ 78.0       │ 1.0     │\n",
      "│ 254 │ 18.2         │ 78.0       │ 1.0     │\n",
      "│ 255 │ 15.8         │ 78.0       │ 1.0     │\n",
      "│ 256 │ 15.4         │ 78.0       │ 1.0     │\n",
      "│ 257 │ 17.2         │ 78.0       │ 1.0     │\n",
      "│ 258 │ 17.2         │ 78.0       │ 1.0     │\n",
      "│ 259 │ 15.8         │ 78.0       │ 1.0     │\n",
      "│ 260 │ 16.7         │ 78.0       │ 1.0     │\n",
      "│ 261 │ 18.7         │ 78.0       │ 1.0     │\n",
      "│ 262 │ 15.1         │ 78.0       │ 1.0     │\n",
      "│ 263 │ 13.2         │ 78.0       │ 1.0     │\n",
      "│ 264 │ 13.4         │ 78.0       │ 1.0     │\n",
      "│ 265 │ 11.2         │ 78.0       │ 1.0     │\n",
      "│ 266 │ 13.7         │ 78.0       │ 1.0     │\n",
      "│ 267 │ 16.5         │ 78.0       │ 1.0     │\n",
      "│ 268 │ 14.2         │ 78.0       │ 3.0     │\n",
      "│ 269 │ 14.7         │ 78.0       │ 3.0     │\n",
      "│ 270 │ 14.5         │ 78.0       │ 1.0     │\n",
      "│ 271 │ 14.8         │ 78.0       │ 3.0     │\n",
      "│ 272 │ 16.7         │ 78.0       │ 1.0     │\n",
      "│ 273 │ 17.6         │ 78.0       │ 1.0     │\n",
      "│ 274 │ 14.9         │ 78.0       │ 3.0     │\n",
      "│ 275 │ 15.9         │ 78.0       │ 2.0     │\n",
      "│ 276 │ 13.6         │ 78.0       │ 2.0     │\n",
      "│ 277 │ 15.7         │ 78.0       │ 2.0     │\n",
      "│ 278 │ 15.8         │ 78.0       │ 2.0     │\n",
      "│ 279 │ 14.9         │ 78.0       │ 2.0     │\n",
      "│ 280 │ 16.6         │ 78.0       │ 3.0     │\n",
      "│ 281 │ 15.4         │ 79.0       │ 1.0     │\n",
      "│ 282 │ 18.2         │ 79.0       │ 1.0     │\n",
      "│ 283 │ 17.3         │ 79.0       │ 1.0     │\n",
      "│ 284 │ 18.2         │ 79.0       │ 1.0     │\n",
      "│ 285 │ 16.6         │ 79.0       │ 1.0     │\n",
      "│ 286 │ 15.4         │ 79.0       │ 1.0     │\n",
      "│ 287 │ 13.4         │ 79.0       │ 1.0     │\n",
      "│ 288 │ 13.2         │ 79.0       │ 1.0     │\n",
      "│ 289 │ 15.2         │ 79.0       │ 1.0     │\n",
      "│ 290 │ 14.9         │ 79.0       │ 1.0     │\n",
      "│ 291 │ 14.3         │ 79.0       │ 1.0     │\n",
      "│ 292 │ 15.0         │ 79.0       │ 1.0     │\n",
      "│ 293 │ 13.0         │ 79.0       │ 1.0     │\n",
      "│ 294 │ 14.0         │ 79.0       │ 2.0     │\n",
      "│ 295 │ 15.2         │ 79.0       │ 3.0     │\n",
      "│ 296 │ 14.4         │ 79.0       │ 1.0     │\n",
      "│ 297 │ 15.0         │ 79.0       │ 1.0     │\n",
      "│ 298 │ 20.1         │ 79.0       │ 2.0     │\n",
      "│ 299 │ 17.4         │ 79.0       │ 1.0     │\n",
      "│ 300 │ 24.8         │ 79.0       │ 2.0     │\n",
      "│ 301 │ 22.2         │ 79.0       │ 1.0     │\n",
      "│ 302 │ 13.2         │ 79.0       │ 1.0     │\n",
      "│ 303 │ 14.9         │ 79.0       │ 1.0     │\n",
      "│ 304 │ 19.2         │ 79.0       │ 3.0     │\n",
      "│ 305 │ 14.7         │ 79.0       │ 2.0     │\n",
      "│ 306 │ 16.0         │ 79.0       │ 1.0     │\n",
      "│ 307 │ 11.3         │ 79.0       │ 1.0     │\n",
      "│ 308 │ 12.9         │ 79.0       │ 1.0     │\n",
      "│ 309 │ 13.2         │ 79.0       │ 1.0     │\n",
      "│ 310 │ 14.7         │ 80.0       │ 2.0     │\n",
      "│ 311 │ 18.8         │ 80.0       │ 3.0     │\n",
      "│ 312 │ 15.5         │ 80.0       │ 1.0     │\n",
      "│ 313 │ 16.4         │ 80.0       │ 3.0     │\n",
      "│ 314 │ 16.5         │ 80.0       │ 1.0     │\n",
      "│ 315 │ 18.1         │ 80.0       │ 1.0     │\n",
      "│ 316 │ 20.1         │ 80.0       │ 1.0     │\n",
      "│ 317 │ 18.7         │ 80.0       │ 1.0     │\n",
      "│ 318 │ 15.8         │ 80.0       │ 2.0     │\n",
      "│ 319 │ 15.5         │ 80.0       │ 3.0     │\n",
      "│ 320 │ 17.5         │ 80.0       │ 3.0     │\n",
      "│ 321 │ 15.0         │ 80.0       │ 3.0     │\n",
      "│ 322 │ 15.2         │ 80.0       │ 3.0     │\n",
      "│ 323 │ 17.9         │ 80.0       │ 3.0     │\n",
      "│ 324 │ 14.4         │ 80.0       │ 1.0     │\n",
      "│ 325 │ 19.2         │ 80.0       │ 3.0     │\n",
      "│ 326 │ 21.7         │ 80.0       │ 2.0     │\n",
      "│ 327 │ 23.7         │ 80.0       │ 2.0     │\n",
      "│ 328 │ 19.9         │ 80.0       │ 2.0     │\n",
      "│ 329 │ 21.8         │ 80.0       │ 2.0     │\n",
      "│ 330 │ 13.8         │ 80.0       │ 3.0     │\n",
      "│ 331 │ \u001b[90mmissing\u001b[39m      │ 1835.0     │ 17.3    │\n",
      "│ 332 │ 18.0         │ 80.0       │ 3.0     │\n",
      "│ 333 │ 15.3         │ 80.0       │ 2.0     │\n",
      "│ 334 │ 11.4         │ 80.0       │ 3.0     │\n",
      "│ 335 │ 12.5         │ 80.0       │ 3.0     │\n",
      "│ 336 │ 15.1         │ 80.0       │ 2.0     │\n",
      "│ 337 │ \u001b[90mmissing\u001b[39m      │ 2905.0     │ 14.3    │\n",
      "│ 338 │ 17.0         │ 80.0       │ 3.0     │\n",
      "│ 339 │ 15.7         │ 81.0       │ 1.0     │\n",
      "│ 340 │ 16.4         │ 81.0       │ 1.0     │\n",
      "│ 341 │ 14.4         │ 81.0       │ 1.0     │\n",
      "│ 342 │ 12.6         │ 81.0       │ 1.0     │\n",
      "│ 343 │ 12.9         │ 81.0       │ 1.0     │\n",
      "│ 344 │ 16.9         │ 81.0       │ 3.0     │\n",
      "│ 345 │ 16.4         │ 81.0       │ 1.0     │\n",
      "│ 346 │ 16.1         │ 81.0       │ 3.0     │\n",
      "│ 347 │ 17.8         │ 81.0       │ 3.0     │\n",
      "│ 348 │ 19.4         │ 81.0       │ 3.0     │\n",
      "│ 349 │ 17.3         │ 81.0       │ 3.0     │\n",
      "│ 350 │ 16.0         │ 81.0       │ 3.0     │\n",
      "│ 351 │ 14.9         │ 81.0       │ 1.0     │\n",
      "│ 352 │ 16.2         │ 81.0       │ 1.0     │\n",
      "│ 353 │ 20.7         │ 81.0       │ 1.0     │\n",
      "│ 354 │ 14.2         │ 81.0       │ 2.0     │\n",
      "│ 355 │ \u001b[90mmissing\u001b[39m      │ 2320.0     │ 15.8    │\n",
      "│ 356 │ 14.4         │ 81.0       │ 3.0     │\n",
      "│ 357 │ 16.8         │ 81.0       │ 3.0     │\n",
      "│ 358 │ 14.8         │ 81.0       │ 3.0     │\n",
      "│ 359 │ 18.3         │ 81.0       │ 3.0     │\n",
      "│ 360 │ 20.4         │ 81.0       │ 2.0     │\n",
      "│ 361 │ 19.6         │ 81.0       │ 2.0     │\n",
      "│ 362 │ 12.6         │ 81.0       │ 3.0     │\n",
      "│ 363 │ 13.8         │ 81.0       │ 3.0     │\n",
      "│ 364 │ 15.8         │ 81.0       │ 1.0     │\n",
      "│ 365 │ 19.0         │ 81.0       │ 1.0     │\n",
      "│ 366 │ 17.1         │ 81.0       │ 1.0     │\n",
      "│ 367 │ 16.6         │ 81.0       │ 1.0     │\n",
      "│ 368 │ 19.6         │ 82.0       │ 1.0     │\n",
      "│ 369 │ 18.6         │ 82.0       │ 1.0     │\n",
      "│ 370 │ 18.0         │ 82.0       │ 1.0     │\n",
      "│ 371 │ 16.2         │ 82.0       │ 1.0     │\n",
      "│ 372 │ 16.0         │ 82.0       │ 1.0     │\n",
      "│ 373 │ 18.0         │ 82.0       │ 1.0     │\n",
      "│ 374 │ 16.4         │ 82.0       │ 1.0     │\n",
      "│ 375 │ \u001b[90mmissing\u001b[39m      │ 3035.0     │ 20.5    │\n",
      "│ 376 │ 15.3         │ 82.0       │ 2.0     │\n",
      "│ 377 │ 18.2         │ 82.0       │ 3.0     │\n",
      "│ 378 │ 17.6         │ 82.0       │ 3.0     │\n",
      "│ 379 │ 14.7         │ 82.0       │ 1.0     │\n",
      "│ 380 │ 17.3         │ 82.0       │ 1.0     │\n",
      "│ 381 │ 14.5         │ 82.0       │ 3.0     │\n",
      "│ 382 │ 14.5         │ 82.0       │ 3.0     │\n",
      "│ 383 │ 16.9         │ 82.0       │ 3.0     │\n",
      "│ 384 │ 15.0         │ 82.0       │ 3.0     │\n",
      "│ 385 │ 15.7         │ 82.0       │ 3.0     │\n",
      "│ 386 │ 16.2         │ 82.0       │ 3.0     │\n",
      "│ 387 │ 16.4         │ 82.0       │ 1.0     │\n",
      "│ 388 │ 17.0         │ 82.0       │ 1.0     │\n",
      "│ 389 │ 14.5         │ 82.0       │ 1.0     │\n",
      "│ 390 │ 14.7         │ 82.0       │ 1.0     │\n",
      "│ 391 │ 13.9         │ 82.0       │ 3.0     │\n",
      "│ 392 │ 13.0         │ 82.0       │ 1.0     │\n",
      "│ 393 │ 17.3         │ 82.0       │ 1.0     │\n",
      "│ 394 │ 15.6         │ 82.0       │ 1.0     │\n",
      "│ 395 │ 24.6         │ 82.0       │ 2.0     │\n",
      "│ 396 │ 11.6         │ 82.0       │ 1.0     │\n",
      "│ 397 │ 18.6         │ 82.0       │ 1.0     │\n",
      "│ 398 │ 19.4         │ 82.0       │ 1.0     │\n",
      "\n",
      "│ Row │ car name                             │\n",
      "│     │ \u001b[90mString\u001b[39m                               │\n",
      "├─────┼──────────────────────────────────────┤\n",
      "│ 1   │ chevrolet chevelle malibu            │\n",
      "│ 2   │ buick skylark 320                    │\n",
      "│ 3   │ plymouth satellite                   │\n",
      "│ 4   │ amc rebel sst                        │\n",
      "│ 5   │ ford torino                          │\n",
      "│ 6   │ ford galaxie 500                     │\n",
      "│ 7   │ chevrolet impala                     │\n",
      "│ 8   │ plymouth fury iii                    │\n",
      "│ 9   │ pontiac catalina                     │\n",
      "│ 10  │ amc ambassador dpl                   │\n",
      "│ 11  │ dodge challenger se                  │\n",
      "│ 12  │ plymouth 'cuda 340                   │\n",
      "│ 13  │ chevrolet monte carlo                │\n",
      "│ 14  │ buick estate wagon (sw)              │\n",
      "│ 15  │ toyota corona mark ii                │\n",
      "│ 16  │ plymouth duster                      │\n",
      "│ 17  │ amc hornet                           │\n",
      "│ 18  │ ford maverick                        │\n",
      "│ 19  │ datsun pl510                         │\n",
      "│ 20  │ volkswagen 1131 deluxe sedan         │\n",
      "│ 21  │ peugeot 504                          │\n",
      "│ 22  │ audi 100 ls                          │\n",
      "│ 23  │ saab 99e                             │\n",
      "│ 24  │ bmw 2002                             │\n",
      "│ 25  │ amc gremlin                          │\n",
      "│ 26  │ ford f250                            │\n",
      "│ 27  │ chevy c20                            │\n",
      "│ 28  │ dodge d200                           │\n",
      "│ 29  │ 1                                    │\n",
      "│ 30  │ datsun pl510                         │\n",
      "│ 31  │ chevrolet vega 2300                  │\n",
      "│ 32  │ toyota corona                        │\n",
      "│ 33  │  71                                  │\n",
      "│ 34  │ amc gremlin                          │\n",
      "│ 35  │ plymouth satellite custom            │\n",
      "│ 36  │ chevrolet chevelle malibu            │\n",
      "│ 37  │ ford torino 500                      │\n",
      "│ 38  │ amc matador                          │\n",
      "│ 39  │ chevrolet impala                     │\n",
      "│ 40  │ pontiac catalina brougham            │\n",
      "│ 41  │ ford galaxie 500                     │\n",
      "│ 42  │ plymouth fury iii                    │\n",
      "│ 43  │ dodge monaco (sw)                    │\n",
      "│ 44  │ ford country squire (sw)             │\n",
      "│ 45  │ pontiac safari (sw)                  │\n",
      "│ 46  │ amc hornet sportabout (sw)           │\n",
      "│ 47  │ chevrolet vega (sw)                  │\n",
      "│ 48  │ pontiac firebird                     │\n",
      "│ 49  │ ford mustang                         │\n",
      "│ 50  │ mercury capri 2000                   │\n",
      "│ 51  │ opel 1900                            │\n",
      "│ 52  │ peugeot 304                          │\n",
      "│ 53  │ fiat 124b                            │\n",
      "│ 54  │ toyota corolla 1200                  │\n",
      "│ 55  │ datsun 1200                          │\n",
      "│ 56  │ volkswagen model 111                 │\n",
      "│ 57  │ plymouth cricket                     │\n",
      "│ 58  │ toyota corona hardtop                │\n",
      "│ 59  │ dodge colt hardtop                   │\n",
      "│ 60  │ volkswagen type 3                    │\n",
      "│ 61  │ chevrolet vega                       │\n",
      "│ 62  │ ford pinto runabout                  │\n",
      "│ 63  │ chevrolet impala                     │\n",
      "│ 64  │ pontiac catalina                     │\n",
      "│ 65  │ plymouth fury iii                    │\n",
      "│ 66  │ ford galaxie 500                     │\n",
      "│ 67  │ amc ambassador sst                   │\n",
      "│ 68  │ mercury marquis                      │\n",
      "│ 69  │ buick lesabre custom                 │\n",
      "│ 70  │ oldsmobile delta 88 royale           │\n",
      "│ 71  │ chrysler newport royal               │\n",
      "│ 72  │ mazda rx2 coupe                      │\n",
      "│ 73  │ amc matador (sw)                     │\n",
      "│ 74  │ chevrolet chevelle concours (sw)     │\n",
      "│ 75  │ ford gran torino (sw)                │\n",
      "│ 76  │ plymouth satellite custom (sw)       │\n",
      "│ 77  │ volvo 145e (sw)                      │\n",
      "│ 78  │ volkswagen 411 (sw)                  │\n",
      "│ 79  │ peugeot 504 (sw)                     │\n",
      "│ 80  │ renault 12 (sw)                      │\n",
      "│ 81  │ ford pinto (sw)                      │\n",
      "│ 82  │ datsun 510 (sw)                      │\n",
      "│ 83  │ toyouta corona mark ii (sw)          │\n",
      "│ 84  │ dodge colt (sw)                      │\n",
      "│ 85  │ toyota corolla 1600 (sw)             │\n",
      "│ 86  │ buick century 350                    │\n",
      "│ 87  │ amc matador                          │\n",
      "│ 88  │ chevrolet malibu                     │\n",
      "│ 89  │ ford gran torino                     │\n",
      "│ 90  │ dodge coronet custom                 │\n",
      "│ 91  │ mercury marquis brougham             │\n",
      "│ 92  │ chevrolet caprice classic            │\n",
      "│ 93  │ ford ltd                             │\n",
      "│ 94  │ plymouth fury gran sedan             │\n",
      "│ 95  │ chrysler new yorker brougham         │\n",
      "│ 96  │ buick electra 225 custom             │\n",
      "│ 97  │ amc ambassador brougham              │\n",
      "│ 98  │ plymouth valiant                     │\n",
      "│ 99  │ chevrolet nova custom                │\n",
      "│ 100 │ amc hornet                           │\n",
      "│ 101 │ ford maverick                        │\n",
      "│ 102 │ plymouth duster                      │\n",
      "│ 103 │ volkswagen super beetle              │\n",
      "│ 104 │ chevrolet impala                     │\n",
      "│ 105 │ ford country                         │\n",
      "│ 106 │ plymouth custom suburb               │\n",
      "│ 107 │ oldsmobile vista cruiser             │\n",
      "│ 108 │ amc gremlin                          │\n",
      "│ 109 │ toyota carina                        │\n",
      "│ 110 │ chevrolet vega                       │\n",
      "│ 111 │ datsun 610                           │\n",
      "│ 112 │ maxda rx3                            │\n",
      "│ 113 │ ford pinto                           │\n",
      "│ 114 │ mercury capri v6                     │\n",
      "│ 115 │ fiat 124 sport coupe                 │\n",
      "│ 116 │ chevrolet monte carlo s              │\n",
      "│ 117 │ pontiac grand prix                   │\n",
      "│ 118 │ fiat 128                             │\n",
      "│ 119 │ opel manta                           │\n",
      "│ 120 │ audi 100ls                           │\n",
      "│ 121 │ volvo 144ea                          │\n",
      "│ 122 │ dodge dart custom                    │\n",
      "│ 123 │ saab 99le                            │\n",
      "│ 124 │ toyota mark ii                       │\n",
      "│ 125 │ oldsmobile omega                     │\n",
      "│ 126 │ plymouth duster                      │\n",
      "│ 127 │  74                                  │\n",
      "│ 128 │ amc hornet                           │\n",
      "│ 129 │ chevrolet nova                       │\n",
      "│ 130 │ datsun b210                          │\n",
      "│ 131 │ ford pinto                           │\n",
      "│ 132 │ toyota corolla 1200                  │\n",
      "│ 133 │ chevrolet vega                       │\n",
      "│ 134 │ chevrolet chevelle malibu classic    │\n",
      "│ 135 │ amc matador                          │\n",
      "│ 136 │ plymouth satellite sebring           │\n",
      "│ 137 │ ford gran torino                     │\n",
      "│ 138 │ buick century luxus (sw)             │\n",
      "│ 139 │ dodge coronet custom (sw)            │\n",
      "│ 140 │ ford gran torino (sw)                │\n",
      "│ 141 │ amc matador (sw)                     │\n",
      "│ 142 │ audi fox                             │\n",
      "│ 143 │ volkswagen dasher                    │\n",
      "│ 144 │ opel manta                           │\n",
      "│ 145 │ toyota corona                        │\n",
      "│ 146 │ datsun 710                           │\n",
      "│ 147 │ dodge colt                           │\n",
      "│ 148 │ fiat 128                             │\n",
      "│ 149 │ fiat 124 tc                          │\n",
      "│ 150 │ honda civic                          │\n",
      "│ 151 │ subaru                               │\n",
      "│ 152 │ fiat x1.9                            │\n",
      "│ 153 │ plymouth valiant custom              │\n",
      "│ 154 │ chevrolet nova                       │\n",
      "│ 155 │ mercury monarch                      │\n",
      "│ 156 │ ford maverick                        │\n",
      "│ 157 │ pontiac catalina                     │\n",
      "│ 158 │ chevrolet bel air                    │\n",
      "│ 159 │ plymouth grand fury                  │\n",
      "│ 160 │ ford ltd                             │\n",
      "│ 161 │ buick century                        │\n",
      "│ 162 │ chevroelt chevelle malibu            │\n",
      "│ 163 │ amc matador                          │\n",
      "│ 164 │ plymouth fury                        │\n",
      "│ 165 │ buick skyhawk                        │\n",
      "│ 166 │ chevrolet monza 2+2                  │\n",
      "│ 167 │ ford mustang ii                      │\n",
      "│ 168 │ toyota corolla                       │\n",
      "│ 169 │ ford pinto                           │\n",
      "│ 170 │ amc gremlin                          │\n",
      "│ 171 │ pontiac astro                        │\n",
      "│ 172 │ toyota corona                        │\n",
      "│ 173 │ volkswagen dasher                    │\n",
      "│ 174 │ datsun 710                           │\n",
      "│ 175 │ ford pinto                           │\n",
      "│ 176 │ volkswagen rabbit                    │\n",
      "│ 177 │ amc pacer                            │\n",
      "│ 178 │ audi 100ls                           │\n",
      "│ 179 │ peugeot 504                          │\n",
      "│ 180 │ volvo 244dl                          │\n",
      "│ 181 │ saab 99le                            │\n",
      "│ 182 │ honda civic cvcc                     │\n",
      "│ 183 │ fiat 131                             │\n",
      "│ 184 │ opel 1900                            │\n",
      "│ 185 │ capri ii                             │\n",
      "│ 186 │ dodge colt                           │\n",
      "│ 187 │ renault 12tl                         │\n",
      "│ 188 │ chevrolet chevelle malibu classic    │\n",
      "│ 189 │ dodge coronet brougham               │\n",
      "│ 190 │ amc matador                          │\n",
      "│ 191 │ ford gran torino                     │\n",
      "│ 192 │ plymouth valiant                     │\n",
      "│ 193 │ chevrolet nova                       │\n",
      "│ 194 │ ford maverick                        │\n",
      "│ 195 │ amc hornet                           │\n",
      "│ 196 │ chevrolet chevette                   │\n",
      "│ 197 │ chevrolet woody                      │\n",
      "│ 198 │ vw rabbit                            │\n",
      "│ 199 │ honda civic                          │\n",
      "│ 200 │ dodge aspen se                       │\n",
      "│ 201 │ ford granada ghia                    │\n",
      "│ 202 │ pontiac ventura sj                   │\n",
      "│ 203 │ amc pacer d/l                        │\n",
      "│ 204 │ volkswagen rabbit                    │\n",
      "│ 205 │ datsun b-210                         │\n",
      "│ 206 │ toyota corolla                       │\n",
      "│ 207 │ ford pinto                           │\n",
      "│ 208 │ volvo 245                            │\n",
      "│ 209 │ plymouth volare premier v8           │\n",
      "│ 210 │ peugeot 504                          │\n",
      "│ 211 │ toyota mark ii                       │\n",
      "│ 212 │ mercedes-benz 280s                   │\n",
      "│ 213 │ cadillac seville                     │\n",
      "│ 214 │ chevy c10                            │\n",
      "│ 215 │ ford f108                            │\n",
      "│ 216 │ dodge d100                           │\n",
      "│ 217 │ honda accord cvcc                    │\n",
      "│ 218 │ buick opel isuzu deluxe              │\n",
      "│ 219 │ renault 5 gtl                        │\n",
      "│ 220 │ plymouth arrow gs                    │\n",
      "│ 221 │ datsun f-10 hatchback                │\n",
      "│ 222 │ chevrolet caprice classic            │\n",
      "│ 223 │ oldsmobile cutlass supreme           │\n",
      "│ 224 │ dodge monaco brougham                │\n",
      "│ 225 │ mercury cougar brougham              │\n",
      "│ 226 │ chevrolet concours                   │\n",
      "│ 227 │ buick skylark                        │\n",
      "│ 228 │ plymouth volare custom               │\n",
      "│ 229 │ ford granada                         │\n",
      "│ 230 │ pontiac grand prix lj                │\n",
      "│ 231 │ chevrolet monte carlo landau         │\n",
      "│ 232 │ chrysler cordoba                     │\n",
      "│ 233 │ ford thunderbird                     │\n",
      "│ 234 │ volkswagen rabbit custom             │\n",
      "│ 235 │ pontiac sunbird coupe                │\n",
      "│ 236 │ toyota corolla liftback              │\n",
      "│ 237 │ ford mustang ii 2+2                  │\n",
      "│ 238 │ chevrolet chevette                   │\n",
      "│ 239 │ dodge colt m/m                       │\n",
      "│ 240 │ subaru dl                            │\n",
      "│ 241 │ volkswagen dasher                    │\n",
      "│ 242 │ datsun 810                           │\n",
      "│ 243 │ bmw 320i                             │\n",
      "│ 244 │ mazda rx-4                           │\n",
      "│ 245 │ volkswagen rabbit custom diesel      │\n",
      "│ 246 │ ford fiesta                          │\n",
      "│ 247 │ mazda glc deluxe                     │\n",
      "│ 248 │ datsun b210 gx                       │\n",
      "│ 249 │ honda civic cvcc                     │\n",
      "│ 250 │ oldsmobile cutlass salon brougham    │\n",
      "│ 251 │ dodge diplomat                       │\n",
      "│ 252 │ mercury monarch ghia                 │\n",
      "│ 253 │ pontiac phoenix lj                   │\n",
      "│ 254 │ chevrolet malibu                     │\n",
      "│ 255 │ ford fairmont (auto)                 │\n",
      "│ 256 │ ford fairmont (man)                  │\n",
      "│ 257 │ plymouth volare                      │\n",
      "│ 258 │ amc concord                          │\n",
      "│ 259 │ buick century special                │\n",
      "│ 260 │ mercury zephyr                       │\n",
      "│ 261 │ dodge aspen                          │\n",
      "│ 262 │ amc concord d/l                      │\n",
      "│ 263 │ chevrolet monte carlo landau         │\n",
      "│ 264 │ buick regal sport coupe (turbo)      │\n",
      "│ 265 │ ford futura                          │\n",
      "│ 266 │ dodge magnum xe                      │\n",
      "│ 267 │ chevrolet chevette                   │\n",
      "│ 268 │ toyota corona                        │\n",
      "│ 269 │ datsun 510                           │\n",
      "│ 270 │ dodge omni                           │\n",
      "│ 271 │ toyota celica gt liftback            │\n",
      "│ 272 │ plymouth sapporo                     │\n",
      "│ 273 │ oldsmobile starfire sx               │\n",
      "│ 274 │ datsun 200-sx                        │\n",
      "│ 275 │ audi 5000                            │\n",
      "│ 276 │ volvo 264gl                          │\n",
      "│ 277 │ saab 99gle                           │\n",
      "│ 278 │ peugeot 604sl                        │\n",
      "│ 279 │ volkswagen scirocco                  │\n",
      "│ 280 │ honda accord lx                      │\n",
      "│ 281 │ pontiac lemans v6                    │\n",
      "│ 282 │ mercury zephyr 6                     │\n",
      "│ 283 │ ford fairmont 4                      │\n",
      "│ 284 │ amc concord dl 6                     │\n",
      "│ 285 │ dodge aspen 6                        │\n",
      "│ 286 │ chevrolet caprice classic            │\n",
      "│ 287 │ ford ltd landau                      │\n",
      "│ 288 │ mercury grand marquis                │\n",
      "│ 289 │ dodge st. regis                      │\n",
      "│ 290 │ buick estate wagon (sw)              │\n",
      "│ 291 │ ford country squire (sw)             │\n",
      "│ 292 │ chevrolet malibu classic (sw)        │\n",
      "│ 293 │ chrysler lebaron town @ country (sw) │\n",
      "│ 294 │ vw rabbit custom                     │\n",
      "│ 295 │ maxda glc deluxe                     │\n",
      "│ 296 │ dodge colt hatchback custom          │\n",
      "│ 297 │ amc spirit dl                        │\n",
      "│ 298 │ mercedes benz 300d                   │\n",
      "│ 299 │ cadillac eldorado                    │\n",
      "│ 300 │ peugeot 504                          │\n",
      "│ 301 │ oldsmobile cutlass salon brougham    │\n",
      "│ 302 │ plymouth horizon                     │\n",
      "│ 303 │ plymouth horizon tc3                 │\n",
      "│ 304 │ datsun 210                           │\n",
      "│ 305 │ fiat strada custom                   │\n",
      "│ 306 │ buick skylark limited                │\n",
      "│ 307 │ chevrolet citation                   │\n",
      "│ 308 │ oldsmobile omega brougham            │\n",
      "│ 309 │ pontiac phoenix                      │\n",
      "│ 310 │ vw rabbit                            │\n",
      "│ 311 │ toyota corolla tercel                │\n",
      "│ 312 │ chevrolet chevette                   │\n",
      "│ 313 │ datsun 310                           │\n",
      "│ 314 │ chevrolet citation                   │\n",
      "│ 315 │ ford fairmont                        │\n",
      "│ 316 │ amc concord                          │\n",
      "│ 317 │ dodge aspen                          │\n",
      "│ 318 │ audi 4000                            │\n",
      "│ 319 │ toyota corona liftback               │\n",
      "│ 320 │ mazda 626                            │\n",
      "│ 321 │ datsun 510 hatchback                 │\n",
      "│ 322 │ toyota corolla                       │\n",
      "│ 323 │ mazda glc                            │\n",
      "│ 324 │ dodge colt                           │\n",
      "│ 325 │ datsun 210                           │\n",
      "│ 326 │ vw rabbit c (diesel)                 │\n",
      "│ 327 │ vw dasher (diesel)                   │\n",
      "│ 328 │ audi 5000s (diesel)                  │\n",
      "│ 329 │ mercedes-benz 240d                   │\n",
      "│ 330 │ honda civic 1500 gl                  │\n",
      "│ 331 │  80                                  │\n",
      "│ 332 │ subaru dl                            │\n",
      "│ 333 │ vokswagen rabbit                     │\n",
      "│ 334 │ datsun 280-zx                        │\n",
      "│ 335 │ mazda rx-7 gs                        │\n",
      "│ 336 │ triumph tr7 coupe                    │\n",
      "│ 337 │  80                                  │\n",
      "│ 338 │ honda accord                         │\n",
      "│ 339 │ plymouth reliant                     │\n",
      "│ 340 │ buick skylark                        │\n",
      "│ 341 │ dodge aries wagon (sw)               │\n",
      "│ 342 │ chevrolet citation                   │\n",
      "│ 343 │ plymouth reliant                     │\n",
      "│ 344 │ toyota starlet                       │\n",
      "│ 345 │ plymouth champ                       │\n",
      "│ 346 │ honda civic 1300                     │\n",
      "│ 347 │ subaru                               │\n",
      "│ 348 │ datsun 210 mpg                       │\n",
      "│ 349 │ toyota tercel                        │\n",
      "│ 350 │ mazda glc 4                          │\n",
      "│ 351 │ plymouth horizon 4                   │\n",
      "│ 352 │ ford escort 4w                       │\n",
      "│ 353 │ ford escort 2h                       │\n",
      "│ 354 │ volkswagen jetta                     │\n",
      "│ 355 │  81                                  │\n",
      "│ 356 │ honda prelude                        │\n",
      "│ 357 │ toyota corolla                       │\n",
      "│ 358 │ datsun 200sx                         │\n",
      "│ 359 │ mazda 626                            │\n",
      "│ 360 │ peugeot 505s turbo diesel            │\n",
      "│ 361 │ volvo diesel                         │\n",
      "│ 362 │ toyota cressida                      │\n",
      "│ 363 │ datsun 810 maxima                    │\n",
      "│ 364 │ buick century                        │\n",
      "│ 365 │ oldsmobile cutlass ls                │\n",
      "│ 366 │ ford granada gl                      │\n",
      "│ 367 │ chrysler lebaron salon               │\n",
      "│ 368 │ chevrolet cavalier                   │\n",
      "│ 369 │ chevrolet cavalier wagon             │\n",
      "│ 370 │ chevrolet cavalier 2-door            │\n",
      "│ 371 │ pontiac j2000 se hatchback           │\n",
      "│ 372 │ dodge aries se                       │\n",
      "│ 373 │ pontiac phoenix                      │\n",
      "│ 374 │ ford fairmont futura                 │\n",
      "│ 375 │  82                                  │\n",
      "│ 376 │ volkswagen rabbit l                  │\n",
      "│ 377 │ mazda glc custom l                   │\n",
      "│ 378 │ mazda glc custom                     │\n",
      "│ 379 │ plymouth horizon miser               │\n",
      "│ 380 │ mercury lynx l                       │\n",
      "│ 381 │ nissan stanza xe                     │\n",
      "│ 382 │ honda accord                         │\n",
      "│ 383 │ toyota corolla                       │\n",
      "│ 384 │ honda civic                          │\n",
      "│ 385 │ honda civic (auto)                   │\n",
      "│ 386 │ datsun 310 gx                        │\n",
      "│ 387 │ buick century limited                │\n",
      "│ 388 │ oldsmobile cutlass ciera (diesel)    │\n",
      "│ 389 │ chrysler lebaron medallion           │\n",
      "│ 390 │ ford granada l                       │\n",
      "│ 391 │ toyota celica gt                     │\n",
      "│ 392 │ dodge charger 2.2                    │\n",
      "│ 393 │ chevrolet camaro                     │\n",
      "│ 394 │ ford mustang gl                      │\n",
      "│ 395 │ vw pickup                            │\n",
      "│ 396 │ dodge rampage                        │\n",
      "│ 397 │ ford ranger                          │\n",
      "│ 398 │ chevy s-10                           │"
     ]
    }
   ],
   "source": [
    "show(df, allcols=true, allrows=true)"
   ]
  },
  {
   "cell_type": "markdown",
   "metadata": {
    "colab_type": "text",
    "id": "Y459CiQG_pYT"
   },
   "source": [
    "`first()` 和 `last()` 函式用來顯示 DataFrame 中的前 n 筆或後 n 筆的資料"
   ]
  },
  {
   "cell_type": "code",
   "execution_count": 140,
   "metadata": {
    "colab": {},
    "colab_type": "code",
    "id": "9JAticb4_pYU",
    "outputId": "8ae40cd9-df1e-4a33-a578-927fe3968359"
   },
   "outputs": [
    {
     "data": {
      "text/html": [
       "<table class=\"data-frame\"><thead><tr><th></th><th>mpg</th><th>cylinders</th><th>displacement</th><th>horsepower</th><th>weight</th><th>acceleration</th><th>model year</th></tr><tr><th></th><th>Float64</th><th>Int64⍰</th><th>Float64</th><th>String</th><th>Float64⍰</th><th>Float64⍰</th><th>Float64</th></tr></thead><tbody><p>5 rows × 9 columns (omitted printing of 2 columns)</p><tr><th>1</th><td>18.0</td><td>8</td><td>307.0</td><td>130.0</td><td>3504.0</td><td>12.0</td><td>70.0</td></tr><tr><th>2</th><td>15.0</td><td>8</td><td>350.0</td><td>165.0</td><td>3693.0</td><td>11.5</td><td>70.0</td></tr><tr><th>3</th><td>18.0</td><td>8</td><td>318.0</td><td>150.0</td><td>3436.0</td><td>11.0</td><td>70.0</td></tr><tr><th>4</th><td>16.0</td><td>8</td><td>304.0</td><td>150.0</td><td>3433.0</td><td>12.0</td><td>70.0</td></tr><tr><th>5</th><td>17.0</td><td>8</td><td>302.0</td><td>140.0</td><td>3449.0</td><td>10.5</td><td>70.0</td></tr></tbody></table>"
      ],
      "text/latex": [
       "\\begin{tabular}{r|cccccccc}\n",
       "\t& mpg & cylinders & displacement & horsepower & weight & acceleration & model year & \\\\\n",
       "\t\\hline\n",
       "\t& Float64 & Int64⍰ & Float64 & String & Float64⍰ & Float64⍰ & Float64 & \\\\\n",
       "\t\\hline\n",
       "\t1 & 18.0 & 8 & 307.0 & 130.0 & 3504.0 & 12.0 & 70.0 & $\\dots$ \\\\\n",
       "\t2 & 15.0 & 8 & 350.0 & 165.0 & 3693.0 & 11.5 & 70.0 & $\\dots$ \\\\\n",
       "\t3 & 18.0 & 8 & 318.0 & 150.0 & 3436.0 & 11.0 & 70.0 & $\\dots$ \\\\\n",
       "\t4 & 16.0 & 8 & 304.0 & 150.0 & 3433.0 & 12.0 & 70.0 & $\\dots$ \\\\\n",
       "\t5 & 17.0 & 8 & 302.0 & 140.0 & 3449.0 & 10.5 & 70.0 & $\\dots$ \\\\\n",
       "\\end{tabular}\n"
      ],
      "text/plain": [
       "5×9 DataFrame. Omitted printing of 4 columns\n",
       "│ Row │ mpg     │ cylinders │ displacement │ horsepower │ weight   │\n",
       "│     │ \u001b[90mFloat64\u001b[39m │ \u001b[90mInt64⍰\u001b[39m    │ \u001b[90mFloat64\u001b[39m      │ \u001b[90mString\u001b[39m     │ \u001b[90mFloat64⍰\u001b[39m │\n",
       "├─────┼─────────┼───────────┼──────────────┼────────────┼──────────┤\n",
       "│ 1   │ 18.0    │ 8         │ 307.0        │ 130.0      │ 3504.0   │\n",
       "│ 2   │ 15.0    │ 8         │ 350.0        │ 165.0      │ 3693.0   │\n",
       "│ 3   │ 18.0    │ 8         │ 318.0        │ 150.0      │ 3436.0   │\n",
       "│ 4   │ 16.0    │ 8         │ 304.0        │ 150.0      │ 3433.0   │\n",
       "│ 5   │ 17.0    │ 8         │ 302.0        │ 140.0      │ 3449.0   │"
      ]
     },
     "execution_count": 140,
     "metadata": {},
     "output_type": "execute_result"
    }
   ],
   "source": [
    "first(df, 5)"
   ]
  },
  {
   "cell_type": "markdown",
   "metadata": {
    "colab_type": "text",
    "id": "lzB50i6s_pYp"
   },
   "source": [
    "### 3.2 DataFrame 子集\n",
    "\n",
    "要查看 DataFrame 子集, 可以使用 `df[<row index>, <column index>]`"
   ]
  },
  {
   "cell_type": "code",
   "execution_count": 141,
   "metadata": {
    "colab": {},
    "colab_type": "code",
    "id": "V6fqRO7l_pYr",
    "outputId": "a0e75b5f-4dda-4a55-b9d4-93c08bed2ed6"
   },
   "outputs": [
    {
     "data": {
      "text/html": [
       "<table class=\"data-frame\"><thead><tr><th></th><th>mpg</th><th>cylinders</th><th>displacement</th><th>horsepower</th><th>weight</th><th>acceleration</th><th>model year</th></tr><tr><th></th><th>Float64</th><th>Int64⍰</th><th>Float64</th><th>String</th><th>Float64⍰</th><th>Float64⍰</th><th>Float64</th></tr></thead><tbody><p>5 rows × 9 columns (omitted printing of 2 columns)</p><tr><th>1</th><td>18.0</td><td>8</td><td>307.0</td><td>130.0</td><td>3504.0</td><td>12.0</td><td>70.0</td></tr><tr><th>2</th><td>15.0</td><td>8</td><td>350.0</td><td>165.0</td><td>3693.0</td><td>11.5</td><td>70.0</td></tr><tr><th>3</th><td>18.0</td><td>8</td><td>318.0</td><td>150.0</td><td>3436.0</td><td>11.0</td><td>70.0</td></tr><tr><th>4</th><td>16.0</td><td>8</td><td>304.0</td><td>150.0</td><td>3433.0</td><td>12.0</td><td>70.0</td></tr><tr><th>5</th><td>17.0</td><td>8</td><td>302.0</td><td>140.0</td><td>3449.0</td><td>10.5</td><td>70.0</td></tr></tbody></table>"
      ],
      "text/latex": [
       "\\begin{tabular}{r|cccccccc}\n",
       "\t& mpg & cylinders & displacement & horsepower & weight & acceleration & model year & \\\\\n",
       "\t\\hline\n",
       "\t& Float64 & Int64⍰ & Float64 & String & Float64⍰ & Float64⍰ & Float64 & \\\\\n",
       "\t\\hline\n",
       "\t1 & 18.0 & 8 & 307.0 & 130.0 & 3504.0 & 12.0 & 70.0 & $\\dots$ \\\\\n",
       "\t2 & 15.0 & 8 & 350.0 & 165.0 & 3693.0 & 11.5 & 70.0 & $\\dots$ \\\\\n",
       "\t3 & 18.0 & 8 & 318.0 & 150.0 & 3436.0 & 11.0 & 70.0 & $\\dots$ \\\\\n",
       "\t4 & 16.0 & 8 & 304.0 & 150.0 & 3433.0 & 12.0 & 70.0 & $\\dots$ \\\\\n",
       "\t5 & 17.0 & 8 & 302.0 & 140.0 & 3449.0 & 10.5 & 70.0 & $\\dots$ \\\\\n",
       "\\end{tabular}\n"
      ],
      "text/plain": [
       "5×9 DataFrame. Omitted printing of 4 columns\n",
       "│ Row │ mpg     │ cylinders │ displacement │ horsepower │ weight   │\n",
       "│     │ \u001b[90mFloat64\u001b[39m │ \u001b[90mInt64⍰\u001b[39m    │ \u001b[90mFloat64\u001b[39m      │ \u001b[90mString\u001b[39m     │ \u001b[90mFloat64⍰\u001b[39m │\n",
       "├─────┼─────────┼───────────┼──────────────┼────────────┼──────────┤\n",
       "│ 1   │ 18.0    │ 8         │ 307.0        │ 130.0      │ 3504.0   │\n",
       "│ 2   │ 15.0    │ 8         │ 350.0        │ 165.0      │ 3693.0   │\n",
       "│ 3   │ 18.0    │ 8         │ 318.0        │ 150.0      │ 3436.0   │\n",
       "│ 4   │ 16.0    │ 8         │ 304.0        │ 150.0      │ 3433.0   │\n",
       "│ 5   │ 17.0    │ 8         │ 302.0        │ 140.0      │ 3449.0   │"
      ]
     },
     "execution_count": 141,
     "metadata": {},
     "output_type": "execute_result"
    }
   ],
   "source": [
    "df[1:5, :]"
   ]
  },
  {
   "cell_type": "code",
   "execution_count": 142,
   "metadata": {
    "colab": {},
    "colab_type": "code",
    "id": "cXR2yAt6_pYy",
    "outputId": "79b81bb8-0b62-4314-bbee-6fec6dc528ba"
   },
   "outputs": [
    {
     "name": "stdout",
     "output_type": "stream",
     "text": [
      "5×9 DataFrame\n",
      "│ Row │ mpg     │ cylinders │ displacement │ horsepower │ weight   │\n",
      "│     │ \u001b[90mFloat64\u001b[39m │ \u001b[90mInt64⍰\u001b[39m    │ \u001b[90mFloat64\u001b[39m      │ \u001b[90mString\u001b[39m     │ \u001b[90mFloat64⍰\u001b[39m │\n",
      "├─────┼─────────┼───────────┼──────────────┼────────────┼──────────┤\n",
      "│ 1   │ 18.0    │ 8         │ 307.0        │ 130.0      │ 3504.0   │\n",
      "│ 2   │ 15.0    │ 8         │ 350.0        │ 165.0      │ 3693.0   │\n",
      "│ 3   │ 18.0    │ 8         │ 318.0        │ 150.0      │ 3436.0   │\n",
      "│ 4   │ 16.0    │ 8         │ 304.0        │ 150.0      │ 3433.0   │\n",
      "│ 5   │ 17.0    │ 8         │ 302.0        │ 140.0      │ 3449.0   │\n",
      "\n",
      "│ Row │ acceleration │ model year │ origin  │ car name                  │\n",
      "│     │ \u001b[90mFloat64⍰\u001b[39m     │ \u001b[90mFloat64\u001b[39m    │ \u001b[90mFloat64\u001b[39m │ \u001b[90mString\u001b[39m                    │\n",
      "├─────┼──────────────┼────────────┼─────────┼───────────────────────────┤\n",
      "│ 1   │ 12.0         │ 70.0       │ 1.0     │ chevrolet chevelle malibu │\n",
      "│ 2   │ 11.5         │ 70.0       │ 1.0     │ buick skylark 320         │\n",
      "│ 3   │ 11.0         │ 70.0       │ 1.0     │ plymouth satellite        │\n",
      "│ 4   │ 12.0         │ 70.0       │ 1.0     │ amc rebel sst             │\n",
      "│ 5   │ 10.5         │ 70.0       │ 1.0     │ ford torino               │"
     ]
    }
   ],
   "source": [
    "# 如前述, 顯示所有 column\n",
    "show(df[1:5, :], allcols=true)"
   ]
  },
  {
   "cell_type": "code",
   "execution_count": 143,
   "metadata": {
    "colab": {},
    "colab_type": "code",
    "id": "hgDEf2_V_pY3",
    "outputId": "72b76fbb-23d2-4e6f-e8d9-0111a5d590c0"
   },
   "outputs": [
    {
     "data": {
      "text/html": [
       "<table class=\"data-frame\"><thead><tr><th></th><th>mpg</th><th>cylinders</th><th>car name</th></tr><tr><th></th><th>Float64</th><th>Int64⍰</th><th>String</th></tr></thead><tbody><p>3 rows × 3 columns</p><tr><th>1</th><td>18.0</td><td>8</td><td>chevrolet chevelle malibu</td></tr><tr><th>2</th><td>18.0</td><td>8</td><td>plymouth satellite</td></tr><tr><th>3</th><td>17.0</td><td>8</td><td>ford torino</td></tr></tbody></table>"
      ],
      "text/latex": [
       "\\begin{tabular}{r|ccc}\n",
       "\t& mpg & cylinders & car name\\\\\n",
       "\t\\hline\n",
       "\t& Float64 & Int64⍰ & String\\\\\n",
       "\t\\hline\n",
       "\t1 & 18.0 & 8 & chevrolet chevelle malibu \\\\\n",
       "\t2 & 18.0 & 8 & plymouth satellite \\\\\n",
       "\t3 & 17.0 & 8 & ford torino \\\\\n",
       "\\end{tabular}\n"
      ],
      "text/plain": [
       "3×3 DataFrame\n",
       "│ Row │ mpg     │ cylinders │ car name                  │\n",
       "│     │ \u001b[90mFloat64\u001b[39m │ \u001b[90mInt64⍰\u001b[39m    │ \u001b[90mString\u001b[39m                    │\n",
       "├─────┼─────────┼───────────┼───────────────────────────┤\n",
       "│ 1   │ 18.0    │ 8         │ chevrolet chevelle malibu │\n",
       "│ 2   │ 18.0    │ 8         │ plymouth satellite        │\n",
       "│ 3   │ 17.0    │ 8         │ ford torino               │"
      ]
     },
     "execution_count": 143,
     "metadata": {},
     "output_type": "execute_result"
    }
   ],
   "source": [
    "# 可以指定特定要查看的 row / column\n",
    "df[[1, 3, 5], [1, 2, 9]]"
   ]
  },
  {
   "cell_type": "markdown",
   "metadata": {
    "colab_type": "text",
    "id": "q7UaRjMY_pY8"
   },
   "source": [
    "指定 column 可以使用 index, 也可以使用 column 名稱, 使用的方式為 \":\" 加上 column 名稱. 示範如下:"
   ]
  },
  {
   "cell_type": "code",
   "execution_count": 144,
   "metadata": {
    "colab": {},
    "colab_type": "code",
    "id": "TPZimRkV_pY-",
    "outputId": "79d3defe-d646-4ff8-e329-76c46af98b6c"
   },
   "outputs": [
    {
     "data": {
      "text/html": [
       "<table class=\"data-frame\"><thead><tr><th></th><th>mpg</th><th>displacement</th><th>horsepower</th></tr><tr><th></th><th>Float64</th><th>Float64</th><th>String</th></tr></thead><tbody><p>5 rows × 3 columns</p><tr><th>1</th><td>18.0</td><td>307.0</td><td>130.0</td></tr><tr><th>2</th><td>15.0</td><td>350.0</td><td>165.0</td></tr><tr><th>3</th><td>18.0</td><td>318.0</td><td>150.0</td></tr><tr><th>4</th><td>16.0</td><td>304.0</td><td>150.0</td></tr><tr><th>5</th><td>17.0</td><td>302.0</td><td>140.0</td></tr></tbody></table>"
      ],
      "text/latex": [
       "\\begin{tabular}{r|ccc}\n",
       "\t& mpg & displacement & horsepower\\\\\n",
       "\t\\hline\n",
       "\t& Float64 & Float64 & String\\\\\n",
       "\t\\hline\n",
       "\t1 & 18.0 & 307.0 & 130.0 \\\\\n",
       "\t2 & 15.0 & 350.0 & 165.0 \\\\\n",
       "\t3 & 18.0 & 318.0 & 150.0 \\\\\n",
       "\t4 & 16.0 & 304.0 & 150.0 \\\\\n",
       "\t5 & 17.0 & 302.0 & 140.0 \\\\\n",
       "\\end{tabular}\n"
      ],
      "text/plain": [
       "5×3 DataFrame\n",
       "│ Row │ mpg     │ displacement │ horsepower │\n",
       "│     │ \u001b[90mFloat64\u001b[39m │ \u001b[90mFloat64\u001b[39m      │ \u001b[90mString\u001b[39m     │\n",
       "├─────┼─────────┼──────────────┼────────────┤\n",
       "│ 1   │ 18.0    │ 307.0        │ 130.0      │\n",
       "│ 2   │ 15.0    │ 350.0        │ 165.0      │\n",
       "│ 3   │ 18.0    │ 318.0        │ 150.0      │\n",
       "│ 4   │ 16.0    │ 304.0        │ 150.0      │\n",
       "│ 5   │ 17.0    │ 302.0        │ 140.0      │"
      ]
     },
     "execution_count": 144,
     "metadata": {},
     "output_type": "execute_result"
    }
   ],
   "source": [
    "df[1:5, [:mpg, :displacement, :horsepower]]"
   ]
  },
  {
   "cell_type": "markdown",
   "metadata": {
    "colab_type": "text",
    "id": "3wKReHCU_pZD"
   },
   "source": [
    "### 3.3 `select()` 及 `select!()`\n",
    "\n",
    "如果要篩選 DataFrame 中的 column, 可以使用 `select()` 和 `select!()` 函式. 兩者不同之處在於, `select()` 不會變更原 DataFrame 而會傳回傳變更後的 DataFrame, 而 `select!()`會變更原 DataFrame."
   ]
  },
  {
   "cell_type": "code",
   "execution_count": 29,
   "metadata": {
    "colab": {},
    "colab_type": "code",
    "id": "hJrbPmdr_pZF",
    "outputId": "e450f4d6-2e6e-407b-a6c5-e5000bbcd8e2"
   },
   "outputs": [
    {
     "data": {
      "text/html": [
       "<table class=\"data-frame\"><thead><tr><th></th><th>mpg</th><th>cylinders</th><th>displacement</th></tr><tr><th></th><th>Float64</th><th>Int64⍰</th><th>Float64</th></tr></thead><tbody><p>398 rows × 3 columns</p><tr><th>1</th><td>18.0</td><td>8</td><td>307.0</td></tr><tr><th>2</th><td>15.0</td><td>8</td><td>350.0</td></tr><tr><th>3</th><td>18.0</td><td>8</td><td>318.0</td></tr><tr><th>4</th><td>16.0</td><td>8</td><td>304.0</td></tr><tr><th>5</th><td>17.0</td><td>8</td><td>302.0</td></tr><tr><th>6</th><td>15.0</td><td>8</td><td>429.0</td></tr><tr><th>7</th><td>14.0</td><td>8</td><td>454.0</td></tr><tr><th>8</th><td>14.0</td><td>8</td><td>440.0</td></tr><tr><th>9</th><td>14.0</td><td>8</td><td>455.0</td></tr><tr><th>10</th><td>15.0</td><td>8</td><td>390.0</td></tr><tr><th>11</th><td>15.0</td><td>8</td><td>383.0</td></tr><tr><th>12</th><td>14.0</td><td>8</td><td>340.0</td></tr><tr><th>13</th><td>15.0</td><td>8</td><td>400.0</td></tr><tr><th>14</th><td>14.0</td><td>8</td><td>455.0</td></tr><tr><th>15</th><td>24.0</td><td>4</td><td>113.0</td></tr><tr><th>16</th><td>22.0</td><td>6</td><td>198.0</td></tr><tr><th>17</th><td>18.0</td><td>6</td><td>199.0</td></tr><tr><th>18</th><td>21.0</td><td>6</td><td>200.0</td></tr><tr><th>19</th><td>27.0</td><td>4</td><td>97.0</td></tr><tr><th>20</th><td>26.0</td><td>4</td><td>97.0</td></tr><tr><th>21</th><td>25.0</td><td>4</td><td>110.0</td></tr><tr><th>22</th><td>24.0</td><td>4</td><td>107.0</td></tr><tr><th>23</th><td>25.0</td><td>4</td><td>104.0</td></tr><tr><th>24</th><td>26.0</td><td>4</td><td>121.0</td></tr><tr><th>25</th><td>21.0</td><td>6</td><td>199.0</td></tr><tr><th>26</th><td>10.0</td><td>8</td><td>360.0</td></tr><tr><th>27</th><td>10.0</td><td>8</td><td>307.0</td></tr><tr><th>28</th><td>11.0</td><td>8</td><td>318.0</td></tr><tr><th>29</th><td>9.0</td><td>missing</td><td>8.0</td></tr><tr><th>30</th><td>27.0</td><td>4</td><td>97.0</td></tr><tr><th>&vellip;</th><td>&vellip;</td><td>&vellip;</td><td>&vellip;</td></tr></tbody></table>"
      ],
      "text/latex": [
       "\\begin{tabular}{r|ccc}\n",
       "\t& mpg & cylinders & displacement\\\\\n",
       "\t\\hline\n",
       "\t& Float64 & Int64⍰ & Float64\\\\\n",
       "\t\\hline\n",
       "\t1 & 18.0 & 8 & 307.0 \\\\\n",
       "\t2 & 15.0 & 8 & 350.0 \\\\\n",
       "\t3 & 18.0 & 8 & 318.0 \\\\\n",
       "\t4 & 16.0 & 8 & 304.0 \\\\\n",
       "\t5 & 17.0 & 8 & 302.0 \\\\\n",
       "\t6 & 15.0 & 8 & 429.0 \\\\\n",
       "\t7 & 14.0 & 8 & 454.0 \\\\\n",
       "\t8 & 14.0 & 8 & 440.0 \\\\\n",
       "\t9 & 14.0 & 8 & 455.0 \\\\\n",
       "\t10 & 15.0 & 8 & 390.0 \\\\\n",
       "\t11 & 15.0 & 8 & 383.0 \\\\\n",
       "\t12 & 14.0 & 8 & 340.0 \\\\\n",
       "\t13 & 15.0 & 8 & 400.0 \\\\\n",
       "\t14 & 14.0 & 8 & 455.0 \\\\\n",
       "\t15 & 24.0 & 4 & 113.0 \\\\\n",
       "\t16 & 22.0 & 6 & 198.0 \\\\\n",
       "\t17 & 18.0 & 6 & 199.0 \\\\\n",
       "\t18 & 21.0 & 6 & 200.0 \\\\\n",
       "\t19 & 27.0 & 4 & 97.0 \\\\\n",
       "\t20 & 26.0 & 4 & 97.0 \\\\\n",
       "\t21 & 25.0 & 4 & 110.0 \\\\\n",
       "\t22 & 24.0 & 4 & 107.0 \\\\\n",
       "\t23 & 25.0 & 4 & 104.0 \\\\\n",
       "\t24 & 26.0 & 4 & 121.0 \\\\\n",
       "\t25 & 21.0 & 6 & 199.0 \\\\\n",
       "\t26 & 10.0 & 8 & 360.0 \\\\\n",
       "\t27 & 10.0 & 8 & 307.0 \\\\\n",
       "\t28 & 11.0 & 8 & 318.0 \\\\\n",
       "\t29 & 9.0 &  & 8.0 \\\\\n",
       "\t30 & 27.0 & 4 & 97.0 \\\\\n",
       "\t$\\dots$ & $\\dots$ & $\\dots$ & $\\dots$ \\\\\n",
       "\\end{tabular}\n"
      ],
      "text/plain": [
       "398×3 DataFrame\n",
       "│ Row │ mpg     │ cylinders │ displacement │\n",
       "│     │ \u001b[90mFloat64\u001b[39m │ \u001b[90mInt64⍰\u001b[39m    │ \u001b[90mFloat64\u001b[39m      │\n",
       "├─────┼─────────┼───────────┼──────────────┤\n",
       "│ 1   │ 18.0    │ 8         │ 307.0        │\n",
       "│ 2   │ 15.0    │ 8         │ 350.0        │\n",
       "│ 3   │ 18.0    │ 8         │ 318.0        │\n",
       "│ 4   │ 16.0    │ 8         │ 304.0        │\n",
       "│ 5   │ 17.0    │ 8         │ 302.0        │\n",
       "│ 6   │ 15.0    │ 8         │ 429.0        │\n",
       "│ 7   │ 14.0    │ 8         │ 454.0        │\n",
       "│ 8   │ 14.0    │ 8         │ 440.0        │\n",
       "│ 9   │ 14.0    │ 8         │ 455.0        │\n",
       "│ 10  │ 15.0    │ 8         │ 390.0        │\n",
       "⋮\n",
       "│ 388 │ 38.0    │ 6         │ 262.0        │\n",
       "│ 389 │ 26.0    │ 4         │ 156.0        │\n",
       "│ 390 │ 22.0    │ 6         │ 232.0        │\n",
       "│ 391 │ 32.0    │ 4         │ 144.0        │\n",
       "│ 392 │ 36.0    │ 4         │ 135.0        │\n",
       "│ 393 │ 27.0    │ 4         │ 151.0        │\n",
       "│ 394 │ 27.0    │ 4         │ 140.0        │\n",
       "│ 395 │ 44.0    │ 4         │ 97.0         │\n",
       "│ 396 │ 32.0    │ 4         │ 135.0        │\n",
       "│ 397 │ 28.0    │ 4         │ 120.0        │\n",
       "│ 398 │ 31.0    │ 4         │ 119.0        │"
      ]
     },
     "execution_count": 29,
     "metadata": {},
     "output_type": "execute_result"
    }
   ],
   "source": [
    "select(df2, 1:3)"
   ]
  },
  {
   "cell_type": "code",
   "execution_count": 30,
   "metadata": {
    "colab": {},
    "colab_type": "code",
    "id": "576aaega_pZL",
    "outputId": "93f0790e-f567-4554-f363-9a4f78667931"
   },
   "outputs": [
    {
     "data": {
      "text/plain": [
       "(398, 9)"
      ]
     },
     "execution_count": 30,
     "metadata": {},
     "output_type": "execute_result"
    }
   ],
   "source": [
    "# df2 未改變\n",
    "size(df2)"
   ]
  },
  {
   "cell_type": "code",
   "execution_count": 31,
   "metadata": {
    "colab": {},
    "colab_type": "code",
    "id": "aJI6-VLC_pZV",
    "outputId": "6a14b1f5-14d1-404e-8ef6-1ccab9f9c941"
   },
   "outputs": [
    {
     "data": {
      "text/plain": [
       "(398, 3)"
      ]
     },
     "execution_count": 31,
     "metadata": {},
     "output_type": "execute_result"
    }
   ],
   "source": [
    "# 呼叫 select!() 後 df2 被變更, 僅剩下被篩選的 3 個 column\n",
    "select!(df2, 1:3)\n",
    "size(df2)"
   ]
  },
  {
   "cell_type": "markdown",
   "metadata": {
    "colab_type": "text",
    "id": "47JbzOSA_pZa"
   },
   "source": [
    "### 3.4 行 (column) 的操作\n",
    "\n",
    "#### Aggregate\n",
    "\n",
    "`aggregate` 函式可以套用到 column 中的每一個值, 例如如果要計算及找出汽車油耗 (mpg) 與排氣量 (displacement) 的平均數和中位數, 可以透過下列的示範來達成. 計算平均數和中位數時, 我們運用 Statistics 模組的 `mean` 及 `median` 函式來計算."
   ]
  },
  {
   "cell_type": "code",
   "execution_count": 165,
   "metadata": {},
   "outputs": [
    {
     "data": {
      "text/html": [
       "<table class=\"data-frame\"><thead><tr><th></th><th>mpg</th><th>cylinders</th><th>displacement</th><th>horsepower</th><th>weight</th><th>acceleration</th><th>model year</th></tr><tr><th></th><th>Float64</th><th>Int64⍰</th><th>Float64</th><th>String</th><th>Float64⍰</th><th>Float64⍰</th><th>Float64</th></tr></thead><tbody><p>6 rows × 9 columns (omitted printing of 2 columns)</p><tr><th>1</th><td>18.0</td><td>8</td><td>307.0</td><td>130.0</td><td>3504.0</td><td>12.0</td><td>70.0</td></tr><tr><th>2</th><td>15.0</td><td>8</td><td>350.0</td><td>165.0</td><td>3693.0</td><td>11.5</td><td>70.0</td></tr><tr><th>3</th><td>18.0</td><td>8</td><td>318.0</td><td>150.0</td><td>3436.0</td><td>11.0</td><td>70.0</td></tr><tr><th>4</th><td>16.0</td><td>8</td><td>304.0</td><td>150.0</td><td>3433.0</td><td>12.0</td><td>70.0</td></tr><tr><th>5</th><td>17.0</td><td>8</td><td>302.0</td><td>140.0</td><td>3449.0</td><td>10.5</td><td>70.0</td></tr><tr><th>6</th><td>15.0</td><td>8</td><td>429.0</td><td>198.0</td><td>4341.0</td><td>10.0</td><td>70.0</td></tr></tbody></table>"
      ],
      "text/latex": [
       "\\begin{tabular}{r|cccccccc}\n",
       "\t& mpg & cylinders & displacement & horsepower & weight & acceleration & model year & \\\\\n",
       "\t\\hline\n",
       "\t& Float64 & Int64⍰ & Float64 & String & Float64⍰ & Float64⍰ & Float64 & \\\\\n",
       "\t\\hline\n",
       "\t1 & 18.0 & 8 & 307.0 & 130.0 & 3504.0 & 12.0 & 70.0 & $\\dots$ \\\\\n",
       "\t2 & 15.0 & 8 & 350.0 & 165.0 & 3693.0 & 11.5 & 70.0 & $\\dots$ \\\\\n",
       "\t3 & 18.0 & 8 & 318.0 & 150.0 & 3436.0 & 11.0 & 70.0 & $\\dots$ \\\\\n",
       "\t4 & 16.0 & 8 & 304.0 & 150.0 & 3433.0 & 12.0 & 70.0 & $\\dots$ \\\\\n",
       "\t5 & 17.0 & 8 & 302.0 & 140.0 & 3449.0 & 10.5 & 70.0 & $\\dots$ \\\\\n",
       "\t6 & 15.0 & 8 & 429.0 & 198.0 & 4341.0 & 10.0 & 70.0 & $\\dots$ \\\\\n",
       "\\end{tabular}\n"
      ],
      "text/plain": [
       "6×9 DataFrame. Omitted printing of 4 columns\n",
       "│ Row │ mpg     │ cylinders │ displacement │ horsepower │ weight   │\n",
       "│     │ \u001b[90mFloat64\u001b[39m │ \u001b[90mInt64⍰\u001b[39m    │ \u001b[90mFloat64\u001b[39m      │ \u001b[90mString\u001b[39m     │ \u001b[90mFloat64⍰\u001b[39m │\n",
       "├─────┼─────────┼───────────┼──────────────┼────────────┼──────────┤\n",
       "│ 1   │ 18.0    │ 8         │ 307.0        │ 130.0      │ 3504.0   │\n",
       "│ 2   │ 15.0    │ 8         │ 350.0        │ 165.0      │ 3693.0   │\n",
       "│ 3   │ 18.0    │ 8         │ 318.0        │ 150.0      │ 3436.0   │\n",
       "│ 4   │ 16.0    │ 8         │ 304.0        │ 150.0      │ 3433.0   │\n",
       "│ 5   │ 17.0    │ 8         │ 302.0        │ 140.0      │ 3449.0   │\n",
       "│ 6   │ 15.0    │ 8         │ 429.0        │ 198.0      │ 4341.0   │"
      ]
     },
     "execution_count": 165,
     "metadata": {},
     "output_type": "execute_result"
    }
   ],
   "source": [
    "df3 = CSV.read(\"a_D17.csv\")\n",
    "df3 = df[1:6,:]"
   ]
  },
  {
   "cell_type": "code",
   "execution_count": 166,
   "metadata": {
    "colab": {},
    "colab_type": "code",
    "id": "sZ68hnbh_pZb",
    "outputId": "d4388a18-bb97-4aa2-c930-da78784c42b0"
   },
   "outputs": [
    {
     "data": {
      "text/html": [
       "<table class=\"data-frame\"><thead><tr><th></th><th>mpg</th><th>displacement</th><th>weight</th></tr><tr><th></th><th>Float64</th><th>Float64</th><th>Float64⍰</th></tr></thead><tbody><p>5 rows × 3 columns</p><tr><th>1</th><td>18.0</td><td>307.0</td><td>3504.0</td></tr><tr><th>2</th><td>15.0</td><td>350.0</td><td>3693.0</td></tr><tr><th>3</th><td>18.0</td><td>318.0</td><td>3436.0</td></tr><tr><th>4</th><td>16.0</td><td>304.0</td><td>3433.0</td></tr><tr><th>5</th><td>17.0</td><td>302.0</td><td>3449.0</td></tr></tbody></table>"
      ],
      "text/latex": [
       "\\begin{tabular}{r|ccc}\n",
       "\t& mpg & displacement & weight\\\\\n",
       "\t\\hline\n",
       "\t& Float64 & Float64 & Float64⍰\\\\\n",
       "\t\\hline\n",
       "\t1 & 18.0 & 307.0 & 3504.0 \\\\\n",
       "\t2 & 15.0 & 350.0 & 3693.0 \\\\\n",
       "\t3 & 18.0 & 318.0 & 3436.0 \\\\\n",
       "\t4 & 16.0 & 304.0 & 3433.0 \\\\\n",
       "\t5 & 17.0 & 302.0 & 3449.0 \\\\\n",
       "\\end{tabular}\n"
      ],
      "text/plain": [
       "5×3 DataFrame\n",
       "│ Row │ mpg     │ displacement │ weight   │\n",
       "│     │ \u001b[90mFloat64\u001b[39m │ \u001b[90mFloat64\u001b[39m      │ \u001b[90mFloat64⍰\u001b[39m │\n",
       "├─────┼─────────┼──────────────┼──────────┤\n",
       "│ 1   │ 18.0    │ 307.0        │ 3504.0   │\n",
       "│ 2   │ 15.0    │ 350.0        │ 3693.0   │\n",
       "│ 3   │ 18.0    │ 318.0        │ 3436.0   │\n",
       "│ 4   │ 16.0    │ 304.0        │ 3433.0   │\n",
       "│ 5   │ 17.0    │ 302.0        │ 3449.0   │"
      ]
     },
     "execution_count": 166,
     "metadata": {},
     "output_type": "execute_result"
    }
   ],
   "source": [
    "df3 = df[1:5, [:mpg, :displacement, :weight]]"
   ]
  },
  {
   "cell_type": "code",
   "execution_count": 148,
   "metadata": {},
   "outputs": [],
   "source": [
    "using Statistics"
   ]
  },
  {
   "cell_type": "code",
   "execution_count": 167,
   "metadata": {
    "colab": {},
    "colab_type": "code",
    "id": "2hDFOEx9_pZq",
    "outputId": "6044eb44-ea00-4b54-94e0-78d0cc6c6383"
   },
   "outputs": [
    {
     "data": {
      "text/html": [
       "<table class=\"data-frame\"><thead><tr><th></th><th>mpg_mean</th><th>displacement_mean</th><th>weight_mean</th><th>mpg_median</th><th>displacement_median</th><th>weight_median</th></tr><tr><th></th><th>Float64</th><th>Float64</th><th>Float64</th><th>Float64</th><th>Float64</th><th>Float64</th></tr></thead><tbody><p>1 rows × 6 columns</p><tr><th>1</th><td>16.8</td><td>316.2</td><td>3503.0</td><td>17.0</td><td>307.0</td><td>3449.0</td></tr></tbody></table>"
      ],
      "text/latex": [
       "\\begin{tabular}{r|cccccc}\n",
       "\t& mpg\\_mean & displacement\\_mean & weight\\_mean & mpg\\_median & displacement\\_median & weight\\_median\\\\\n",
       "\t\\hline\n",
       "\t& Float64 & Float64 & Float64 & Float64 & Float64 & Float64\\\\\n",
       "\t\\hline\n",
       "\t1 & 16.8 & 316.2 & 3503.0 & 17.0 & 307.0 & 3449.0 \\\\\n",
       "\\end{tabular}\n"
      ],
      "text/plain": [
       "1×6 DataFrame. Omitted printing of 2 columns\n",
       "│ Row │ mpg_mean │ displacement_mean │ weight_mean │ mpg_median │\n",
       "│     │ \u001b[90mFloat64\u001b[39m  │ \u001b[90mFloat64\u001b[39m           │ \u001b[90mFloat64\u001b[39m     │ \u001b[90mFloat64\u001b[39m    │\n",
       "├─────┼──────────┼───────────────────┼─────────────┼────────────┤\n",
       "│ 1   │ 16.8     │ 316.2             │ 3503.0      │ 17.0       │"
      ]
     },
     "execution_count": 167,
     "metadata": {},
     "output_type": "execute_result"
    }
   ],
   "source": [
    "aggregate(df3, [mean, median])"
   ]
  },
  {
   "cell_type": "code",
   "execution_count": 170,
   "metadata": {},
   "outputs": [
    {
     "data": {
      "text/html": [
       "<table class=\"data-frame\"><thead><tr><th></th><th>mpg</th><th>weight</th><th>displacement_function</th></tr><tr><th></th><th>Float64</th><th>Float64⍰</th><th>Float64</th></tr></thead><tbody><p>5 rows × 3 columns</p><tr><th>1</th><td>18.0</td><td>3504.0</td><td>614.0</td></tr><tr><th>2</th><td>15.0</td><td>3693.0</td><td>700.0</td></tr><tr><th>3</th><td>18.0</td><td>3436.0</td><td>636.0</td></tr><tr><th>4</th><td>16.0</td><td>3433.0</td><td>608.0</td></tr><tr><th>5</th><td>17.0</td><td>3449.0</td><td>604.0</td></tr></tbody></table>"
      ],
      "text/latex": [
       "\\begin{tabular}{r|ccc}\n",
       "\t& mpg & weight & displacement\\_function\\\\\n",
       "\t\\hline\n",
       "\t& Float64 & Float64⍰ & Float64\\\\\n",
       "\t\\hline\n",
       "\t1 & 18.0 & 3504.0 & 614.0 \\\\\n",
       "\t2 & 15.0 & 3693.0 & 700.0 \\\\\n",
       "\t3 & 18.0 & 3436.0 & 636.0 \\\\\n",
       "\t4 & 16.0 & 3433.0 & 608.0 \\\\\n",
       "\t5 & 17.0 & 3449.0 & 604.0 \\\\\n",
       "\\end{tabular}\n"
      ],
      "text/plain": [
       "5×3 DataFrame\n",
       "│ Row │ mpg     │ weight   │ displacement_function │\n",
       "│     │ \u001b[90mFloat64\u001b[39m │ \u001b[90mFloat64⍰\u001b[39m │ \u001b[90mFloat64\u001b[39m               │\n",
       "├─────┼─────────┼──────────┼───────────────────────┤\n",
       "│ 1   │ 18.0    │ 3504.0   │ 614.0                 │\n",
       "│ 2   │ 15.0    │ 3693.0   │ 700.0                 │\n",
       "│ 3   │ 18.0    │ 3436.0   │ 636.0                 │\n",
       "│ 4   │ 16.0    │ 3433.0   │ 608.0                 │\n",
       "│ 5   │ 17.0    │ 3449.0   │ 604.0                 │"
      ]
     },
     "execution_count": 170,
     "metadata": {},
     "output_type": "execute_result"
    }
   ],
   "source": [
    "x2 = x -> x*2\n",
    "aggregate(df3,[:mpg,:weight], x2)"
   ]
  },
  {
   "cell_type": "code",
   "execution_count": 172,
   "metadata": {},
   "outputs": [
    {
     "data": {
      "text/html": [
       "<table class=\"data-frame\"><thead><tr><th></th><th>a</th><th>b</th><th>c</th></tr><tr><th></th><th>Int64</th><th>Int64</th><th>Int64</th></tr></thead><tbody><p>8 rows × 3 columns</p><tr><th>1</th><td>1</td><td>2</td><td>1</td></tr><tr><th>2</th><td>2</td><td>1</td><td>2</td></tr><tr><th>3</th><td>3</td><td>2</td><td>3</td></tr><tr><th>4</th><td>4</td><td>1</td><td>4</td></tr><tr><th>5</th><td>1</td><td>2</td><td>5</td></tr><tr><th>6</th><td>2</td><td>1</td><td>6</td></tr><tr><th>7</th><td>3</td><td>2</td><td>7</td></tr><tr><th>8</th><td>4</td><td>1</td><td>8</td></tr></tbody></table>"
      ],
      "text/latex": [
       "\\begin{tabular}{r|ccc}\n",
       "\t& a & b & c\\\\\n",
       "\t\\hline\n",
       "\t& Int64 & Int64 & Int64\\\\\n",
       "\t\\hline\n",
       "\t1 & 1 & 2 & 1 \\\\\n",
       "\t2 & 2 & 1 & 2 \\\\\n",
       "\t3 & 3 & 2 & 3 \\\\\n",
       "\t4 & 4 & 1 & 4 \\\\\n",
       "\t5 & 1 & 2 & 5 \\\\\n",
       "\t6 & 2 & 1 & 6 \\\\\n",
       "\t7 & 3 & 2 & 7 \\\\\n",
       "\t8 & 4 & 1 & 8 \\\\\n",
       "\\end{tabular}\n"
      ],
      "text/plain": [
       "8×3 DataFrame\n",
       "│ Row │ a     │ b     │ c     │\n",
       "│     │ \u001b[90mInt64\u001b[39m │ \u001b[90mInt64\u001b[39m │ \u001b[90mInt64\u001b[39m │\n",
       "├─────┼───────┼───────┼───────┤\n",
       "│ 1   │ 1     │ 2     │ 1     │\n",
       "│ 2   │ 2     │ 1     │ 2     │\n",
       "│ 3   │ 3     │ 2     │ 3     │\n",
       "│ 4   │ 4     │ 1     │ 4     │\n",
       "│ 5   │ 1     │ 2     │ 5     │\n",
       "│ 6   │ 2     │ 1     │ 6     │\n",
       "│ 7   │ 3     │ 2     │ 7     │\n",
       "│ 8   │ 4     │ 1     │ 8     │"
      ]
     },
     "execution_count": 172,
     "metadata": {},
     "output_type": "execute_result"
    }
   ],
   "source": [
    "df = DataFrame(a = repeat([1, 2, 3, 4], outer=[2]),\n",
    "                      b = repeat([2, 1], outer=[4]),\n",
    "                      c = 1:8)"
   ]
  },
  {
   "cell_type": "code",
   "execution_count": 177,
   "metadata": {},
   "outputs": [
    {
     "data": {
      "text/html": [
       "<table class=\"data-frame\"><thead><tr><th></th><th>a</th><th>b</th><th>c_sum</th></tr><tr><th></th><th>Int64</th><th>Int64</th><th>Int64</th></tr></thead><tbody><p>4 rows × 3 columns</p><tr><th>1</th><td>1</td><td>2</td><td>6</td></tr><tr><th>2</th><td>2</td><td>1</td><td>8</td></tr><tr><th>3</th><td>3</td><td>2</td><td>10</td></tr><tr><th>4</th><td>4</td><td>1</td><td>12</td></tr></tbody></table>"
      ],
      "text/latex": [
       "\\begin{tabular}{r|ccc}\n",
       "\t& a & b & c\\_sum\\\\\n",
       "\t\\hline\n",
       "\t& Int64 & Int64 & Int64\\\\\n",
       "\t\\hline\n",
       "\t1 & 1 & 2 & 6 \\\\\n",
       "\t2 & 2 & 1 & 8 \\\\\n",
       "\t3 & 3 & 2 & 10 \\\\\n",
       "\t4 & 4 & 1 & 12 \\\\\n",
       "\\end{tabular}\n"
      ],
      "text/plain": [
       "4×3 DataFrame\n",
       "│ Row │ a     │ b     │ c_sum │\n",
       "│     │ \u001b[90mInt64\u001b[39m │ \u001b[90mInt64\u001b[39m │ \u001b[90mInt64\u001b[39m │\n",
       "├─────┼───────┼───────┼───────┤\n",
       "│ 1   │ 1     │ 2     │ 6     │\n",
       "│ 2   │ 2     │ 1     │ 8     │\n",
       "│ 3   │ 3     │ 2     │ 10    │\n",
       "│ 4   │ 4     │ 1     │ 12    │"
      ]
     },
     "execution_count": 177,
     "metadata": {},
     "output_type": "execute_result"
    }
   ],
   "source": [
    "aggregate(df, :a, sum) # it seems that it sums the rows who's 'a' is the same."
   ]
  },
  {
   "cell_type": "markdown",
   "metadata": {
    "colab_type": "text",
    "id": "7wmOjMkg_pZ2"
   },
   "source": [
    "#### Sort 簡介\n",
    "\n",
    "Sorting 在之後的內容會有更詳細的介紹"
   ]
  },
  {
   "cell_type": "markdown",
   "metadata": {
    "colab_type": "text",
    "id": "nuEl08CD_paH"
   },
   "source": [
    "`sort()` 排序後不會改變原來的 DataFrame"
   ]
  },
  {
   "cell_type": "code",
   "execution_count": 34,
   "metadata": {
    "colab": {},
    "colab_type": "code",
    "id": "4zjIEc2K_paP",
    "outputId": "592974d2-deec-4a2a-f69d-1342059768aa"
   },
   "outputs": [
    {
     "data": {
      "text/html": [
       "<table class=\"data-frame\"><thead><tr><th></th><th>mpg</th><th>displacement</th></tr><tr><th></th><th>Float64</th><th>Float64</th></tr></thead><tbody><p>5 rows × 2 columns</p><tr><th>1</th><td>15.0</td><td>350.0</td></tr><tr><th>2</th><td>16.0</td><td>304.0</td></tr><tr><th>3</th><td>17.0</td><td>302.0</td></tr><tr><th>4</th><td>18.0</td><td>307.0</td></tr><tr><th>5</th><td>18.0</td><td>318.0</td></tr></tbody></table>"
      ],
      "text/latex": [
       "\\begin{tabular}{r|cc}\n",
       "\t& mpg & displacement\\\\\n",
       "\t\\hline\n",
       "\t& Float64 & Float64\\\\\n",
       "\t\\hline\n",
       "\t1 & 15.0 & 350.0 \\\\\n",
       "\t2 & 16.0 & 304.0 \\\\\n",
       "\t3 & 17.0 & 302.0 \\\\\n",
       "\t4 & 18.0 & 307.0 \\\\\n",
       "\t5 & 18.0 & 318.0 \\\\\n",
       "\\end{tabular}\n"
      ],
      "text/plain": [
       "5×2 DataFrame\n",
       "│ Row │ mpg     │ displacement │\n",
       "│     │ \u001b[90mFloat64\u001b[39m │ \u001b[90mFloat64\u001b[39m      │\n",
       "├─────┼─────────┼──────────────┤\n",
       "│ 1   │ 15.0    │ 350.0        │\n",
       "│ 2   │ 16.0    │ 304.0        │\n",
       "│ 3   │ 17.0    │ 302.0        │\n",
       "│ 4   │ 18.0    │ 307.0        │\n",
       "│ 5   │ 18.0    │ 318.0        │"
      ]
     },
     "execution_count": 34,
     "metadata": {},
     "output_type": "execute_result"
    }
   ],
   "source": [
    "sort(df3)"
   ]
  },
  {
   "cell_type": "code",
   "execution_count": 35,
   "metadata": {
    "colab": {},
    "colab_type": "code",
    "id": "RrRK2aKY_paX",
    "outputId": "1f3aaa1a-de43-4262-86ab-deb0b5b4f573"
   },
   "outputs": [
    {
     "data": {
      "text/html": [
       "<table class=\"data-frame\"><thead><tr><th></th><th>mpg</th><th>displacement</th></tr><tr><th></th><th>Float64</th><th>Float64</th></tr></thead><tbody><p>5 rows × 2 columns</p><tr><th>1</th><td>18.0</td><td>307.0</td></tr><tr><th>2</th><td>15.0</td><td>350.0</td></tr><tr><th>3</th><td>18.0</td><td>318.0</td></tr><tr><th>4</th><td>16.0</td><td>304.0</td></tr><tr><th>5</th><td>17.0</td><td>302.0</td></tr></tbody></table>"
      ],
      "text/latex": [
       "\\begin{tabular}{r|cc}\n",
       "\t& mpg & displacement\\\\\n",
       "\t\\hline\n",
       "\t& Float64 & Float64\\\\\n",
       "\t\\hline\n",
       "\t1 & 18.0 & 307.0 \\\\\n",
       "\t2 & 15.0 & 350.0 \\\\\n",
       "\t3 & 18.0 & 318.0 \\\\\n",
       "\t4 & 16.0 & 304.0 \\\\\n",
       "\t5 & 17.0 & 302.0 \\\\\n",
       "\\end{tabular}\n"
      ],
      "text/plain": [
       "5×2 DataFrame\n",
       "│ Row │ mpg     │ displacement │\n",
       "│     │ \u001b[90mFloat64\u001b[39m │ \u001b[90mFloat64\u001b[39m      │\n",
       "├─────┼─────────┼──────────────┤\n",
       "│ 1   │ 18.0    │ 307.0        │\n",
       "│ 2   │ 15.0    │ 350.0        │\n",
       "│ 3   │ 18.0    │ 318.0        │\n",
       "│ 4   │ 16.0    │ 304.0        │\n",
       "│ 5   │ 17.0    │ 302.0        │"
      ]
     },
     "execution_count": 35,
     "metadata": {},
     "output_type": "execute_result"
    }
   ],
   "source": [
    "df3"
   ]
  },
  {
   "cell_type": "markdown",
   "metadata": {
    "colab_type": "text",
    "id": "t9Ad5iaX_pah"
   },
   "source": [
    "`sort!()` 排序後會改變原來的 DataFrame\n",
    "\n",
    "下面範例是依 displacement 反序排序"
   ]
  },
  {
   "cell_type": "code",
   "execution_count": 178,
   "metadata": {
    "colab": {},
    "colab_type": "code",
    "id": "fd1MHdpZ_paj",
    "outputId": "a33ddfc1-68f4-4ed3-8928-c8d989f58173"
   },
   "outputs": [
    {
     "data": {
      "text/html": [
       "<table class=\"data-frame\"><thead><tr><th></th><th>mpg</th><th>displacement</th><th>weight</th></tr><tr><th></th><th>Float64</th><th>Float64</th><th>Float64⍰</th></tr></thead><tbody><p>5 rows × 3 columns</p><tr><th>1</th><td>15.0</td><td>350.0</td><td>3693.0</td></tr><tr><th>2</th><td>18.0</td><td>318.0</td><td>3436.0</td></tr><tr><th>3</th><td>18.0</td><td>307.0</td><td>3504.0</td></tr><tr><th>4</th><td>16.0</td><td>304.0</td><td>3433.0</td></tr><tr><th>5</th><td>17.0</td><td>302.0</td><td>3449.0</td></tr></tbody></table>"
      ],
      "text/latex": [
       "\\begin{tabular}{r|ccc}\n",
       "\t& mpg & displacement & weight\\\\\n",
       "\t\\hline\n",
       "\t& Float64 & Float64 & Float64⍰\\\\\n",
       "\t\\hline\n",
       "\t1 & 15.0 & 350.0 & 3693.0 \\\\\n",
       "\t2 & 18.0 & 318.0 & 3436.0 \\\\\n",
       "\t3 & 18.0 & 307.0 & 3504.0 \\\\\n",
       "\t4 & 16.0 & 304.0 & 3433.0 \\\\\n",
       "\t5 & 17.0 & 302.0 & 3449.0 \\\\\n",
       "\\end{tabular}\n"
      ],
      "text/plain": [
       "5×3 DataFrame\n",
       "│ Row │ mpg     │ displacement │ weight   │\n",
       "│     │ \u001b[90mFloat64\u001b[39m │ \u001b[90mFloat64\u001b[39m      │ \u001b[90mFloat64⍰\u001b[39m │\n",
       "├─────┼─────────┼──────────────┼──────────┤\n",
       "│ 1   │ 15.0    │ 350.0        │ 3693.0   │\n",
       "│ 2   │ 18.0    │ 318.0        │ 3436.0   │\n",
       "│ 3   │ 18.0    │ 307.0        │ 3504.0   │\n",
       "│ 4   │ 16.0    │ 304.0        │ 3433.0   │\n",
       "│ 5   │ 17.0    │ 302.0        │ 3449.0   │"
      ]
     },
     "execution_count": 178,
     "metadata": {},
     "output_type": "execute_result"
    }
   ],
   "source": [
    "sort!(df3, :displacement, rev=true)"
   ]
  },
  {
   "cell_type": "code",
   "execution_count": 37,
   "metadata": {
    "colab": {},
    "colab_type": "code",
    "id": "OT75okd-_pap",
    "outputId": "8a1806fd-a66e-481c-ed87-c67c417f3939"
   },
   "outputs": [
    {
     "data": {
      "text/html": [
       "<table class=\"data-frame\"><thead><tr><th></th><th>mpg</th><th>displacement</th></tr><tr><th></th><th>Float64</th><th>Float64</th></tr></thead><tbody><p>5 rows × 2 columns</p><tr><th>1</th><td>15.0</td><td>350.0</td></tr><tr><th>2</th><td>18.0</td><td>318.0</td></tr><tr><th>3</th><td>18.0</td><td>307.0</td></tr><tr><th>4</th><td>16.0</td><td>304.0</td></tr><tr><th>5</th><td>17.0</td><td>302.0</td></tr></tbody></table>"
      ],
      "text/latex": [
       "\\begin{tabular}{r|cc}\n",
       "\t& mpg & displacement\\\\\n",
       "\t\\hline\n",
       "\t& Float64 & Float64\\\\\n",
       "\t\\hline\n",
       "\t1 & 15.0 & 350.0 \\\\\n",
       "\t2 & 18.0 & 318.0 \\\\\n",
       "\t3 & 18.0 & 307.0 \\\\\n",
       "\t4 & 16.0 & 304.0 \\\\\n",
       "\t5 & 17.0 & 302.0 \\\\\n",
       "\\end{tabular}\n"
      ],
      "text/plain": [
       "5×2 DataFrame\n",
       "│ Row │ mpg     │ displacement │\n",
       "│     │ \u001b[90mFloat64\u001b[39m │ \u001b[90mFloat64\u001b[39m      │\n",
       "├─────┼─────────┼──────────────┤\n",
       "│ 1   │ 15.0    │ 350.0        │\n",
       "│ 2   │ 18.0    │ 318.0        │\n",
       "│ 3   │ 18.0    │ 307.0        │\n",
       "│ 4   │ 16.0    │ 304.0        │\n",
       "│ 5   │ 17.0    │ 302.0        │"
      ]
     },
     "execution_count": 37,
     "metadata": {},
     "output_type": "execute_result"
    }
   ],
   "source": [
    "df3"
   ]
  },
  {
   "cell_type": "code",
   "execution_count": 180,
   "metadata": {},
   "outputs": [
    {
     "data": {
      "text/html": [
       "<table class=\"data-frame\"><thead><tr><th></th><th>mpg</th><th>displacement</th><th>weight</th></tr><tr><th></th><th>Float64</th><th>Float64</th><th>Float64⍰</th></tr></thead><tbody><p>5 rows × 3 columns</p><tr><th>1</th><td>15.0</td><td>350.0</td><td>3693.0</td></tr><tr><th>2</th><td>16.0</td><td>304.0</td><td>3433.0</td></tr><tr><th>3</th><td>17.0</td><td>302.0</td><td>3449.0</td></tr><tr><th>4</th><td>18.0</td><td>318.0</td><td>3436.0</td></tr><tr><th>5</th><td>18.0</td><td>307.0</td><td>3504.0</td></tr></tbody></table>"
      ],
      "text/latex": [
       "\\begin{tabular}{r|ccc}\n",
       "\t& mpg & displacement & weight\\\\\n",
       "\t\\hline\n",
       "\t& Float64 & Float64 & Float64⍰\\\\\n",
       "\t\\hline\n",
       "\t1 & 15.0 & 350.0 & 3693.0 \\\\\n",
       "\t2 & 16.0 & 304.0 & 3433.0 \\\\\n",
       "\t3 & 17.0 & 302.0 & 3449.0 \\\\\n",
       "\t4 & 18.0 & 318.0 & 3436.0 \\\\\n",
       "\t5 & 18.0 & 307.0 & 3504.0 \\\\\n",
       "\\end{tabular}\n"
      ],
      "text/plain": [
       "5×3 DataFrame\n",
       "│ Row │ mpg     │ displacement │ weight   │\n",
       "│     │ \u001b[90mFloat64\u001b[39m │ \u001b[90mFloat64\u001b[39m      │ \u001b[90mFloat64⍰\u001b[39m │\n",
       "├─────┼─────────┼──────────────┼──────────┤\n",
       "│ 1   │ 15.0    │ 350.0        │ 3693.0   │\n",
       "│ 2   │ 16.0    │ 304.0        │ 3433.0   │\n",
       "│ 3   │ 17.0    │ 302.0        │ 3449.0   │\n",
       "│ 4   │ 18.0    │ 318.0        │ 3436.0   │\n",
       "│ 5   │ 18.0    │ 307.0        │ 3504.0   │"
      ]
     },
     "execution_count": 180,
     "metadata": {},
     "output_type": "execute_result"
    }
   ],
   "source": [
    "sort(df3, :mpg)"
   ]
  },
  {
   "cell_type": "code",
   "execution_count": null,
   "metadata": {
    "colab": {},
    "colab_type": "code",
    "id": "-DARsX0M_paz"
   },
   "outputs": [],
   "source": []
  }
 ],
 "metadata": {
  "@webio": {
   "lastCommId": null,
   "lastKernelId": null
  },
  "colab": {
   "name": "julia_017_example.ipynb",
   "provenance": []
  },
  "kernelspec": {
   "display_name": "Julia 1.4.0",
   "language": "julia",
   "name": "julia-1.4"
  },
  "language_info": {
   "file_extension": ".jl",
   "mimetype": "application/julia",
   "name": "julia",
   "version": "1.4.0"
  }
 },
 "nbformat": 4,
 "nbformat_minor": 4
}
