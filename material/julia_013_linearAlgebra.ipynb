{
 "cells": [
  {
   "cell_type": "markdown",
   "metadata": {
    "colab_type": "text",
    "id": "OlATKCZXRPCc"
   },
   "source": [
    "# Julia 線性代數內建標準庫介紹 (Linear Algebra)\n",
    "\n",
    "\n",
    "## 1. 矩陣 (Matrix) 的建立\n",
    "\n",
    "矩陣本身在 Julia 即為二維陣列 (Array)。"
   ]
  },
  {
   "cell_type": "code",
   "execution_count": 1,
   "metadata": {
    "colab": {},
    "colab_type": "code",
    "id": "842ZMzo6RPCe",
    "outputId": "7910b140-228f-4525-da3f-9af577be4570"
   },
   "outputs": [
    {
     "data": {
      "text/plain": [
       "3×3 Array{Int64,2}:\n",
       " 3  0  -1\n",
       " 2  4   1\n",
       " 7  2   3"
      ]
     },
     "execution_count": 1,
     "metadata": {},
     "output_type": "execute_result"
    }
   ],
   "source": [
    "A = [3 0 -1; 2 4 1; 7 2 3]"
   ]
  },
  {
   "cell_type": "markdown",
   "metadata": {
    "colab_type": "text",
    "id": "tpy5zyA7RPCi"
   },
   "source": [
    "也可以用 `Matrix` 別名建立。"
   ]
  },
  {
   "cell_type": "code",
   "execution_count": 5,
   "metadata": {
    "colab": {},
    "colab_type": "code",
    "id": "3v08VkTIRPCj",
    "outputId": "4b5392e2-6473-4853-cf09-8d4e4aebed51"
   },
   "outputs": [
    {
     "data": {
      "text/plain": [
       "3×3 Array{Int64,2}:\n",
       " 3  6  8\n",
       " 7  6  3\n",
       " 8  4  8"
      ]
     },
     "execution_count": 5,
     "metadata": {},
     "output_type": "execute_result"
    }
   ],
   "source": [
    "B0 = rand(0:10, 3, 3)\n",
    "B = Matrix(B0)"
   ]
  },
  {
   "cell_type": "code",
   "execution_count": 6,
   "metadata": {},
   "outputs": [
    {
     "data": {
      "text/plain": [
       "true"
      ]
     },
     "execution_count": 6,
     "metadata": {},
     "output_type": "execute_result"
    }
   ],
   "source": [
    "B0 == B"
   ]
  },
  {
   "cell_type": "markdown",
   "metadata": {
    "colab_type": "text",
    "id": "vPlL0mDyRPCm"
   },
   "source": [
    "使用 using 開始使用內建的線性代數模組"
   ]
  },
  {
   "cell_type": "code",
   "execution_count": 7,
   "metadata": {
    "colab": {},
    "colab_type": "code",
    "id": "F-CnM75mRPCn"
   },
   "outputs": [],
   "source": [
    "using LinearAlgebra"
   ]
  },
  {
   "cell_type": "markdown",
   "metadata": {
    "colab_type": "text",
    "id": "2jWY6keORPCr"
   },
   "source": [
    "透過 `LinearAlgebra.BLAS.vendor()` 函式可以查看 BLAS (Basic Linear Algebra Subprograms) 的程式庫是用哪一個，例如 OpenBLAS、MKL、或其他。"
   ]
  },
  {
   "cell_type": "code",
   "execution_count": 8,
   "metadata": {
    "colab": {},
    "colab_type": "code",
    "id": "3bki8b_sRPCs",
    "outputId": "f4cf1a07-1176-40a0-93bd-676dbf28c36c"
   },
   "outputs": [
    {
     "data": {
      "text/plain": [
       ":openblas64"
      ]
     },
     "execution_count": 8,
     "metadata": {},
     "output_type": "execute_result"
    }
   ],
   "source": [
    "LinearAlgebra.BLAS.vendor()"
   ]
  },
  {
   "cell_type": "markdown",
   "metadata": {
    "colab_type": "text",
    "id": "RzgUTYP8RPCw"
   },
   "source": [
    "## 2. 矩陣 (Matrix) 操作"
   ]
  },
  {
   "cell_type": "markdown",
   "metadata": {
    "colab_type": "text",
    "id": "eH6H-lIRRPCz"
   },
   "source": [
    "### 2.1 跡 (Trace)\n",
    "\n",
    "$\n",
    "A = \\begin{bmatrix}\n",
    "a_{11} & a_{12} & a_{13} \\\\\n",
    "a_{21} & a_{22} & a_{23} \\\\\n",
    "a_{31} & a_{32} & a_{33}\n",
    "\\end{bmatrix}\n",
    "$\n",
    "\n",
    "$\n",
    "tr(A) = a_{11} + a_{22} + a_{33}\n",
    "$\n",
    "\n",
    "跡的運算可以透過 `tr()` 函式求得："
   ]
  },
  {
   "cell_type": "code",
   "execution_count": 9,
   "metadata": {
    "colab": {},
    "colab_type": "code",
    "id": "uTMJ9bNhRPC0",
    "outputId": "ae52d953-e63c-41ef-b77e-09a17cdf3518"
   },
   "outputs": [
    {
     "data": {
      "text/plain": [
       "10"
      ]
     },
     "execution_count": 9,
     "metadata": {},
     "output_type": "execute_result"
    }
   ],
   "source": [
    "tr(A)"
   ]
  },
  {
   "cell_type": "code",
   "execution_count": 10,
   "metadata": {
    "colab": {},
    "colab_type": "code",
    "id": "2aKtrbtTRPC3",
    "outputId": "54924d82-8cf7-4057-9223-fd03c79a678b"
   },
   "outputs": [
    {
     "ename": "DimensionMismatch",
     "evalue": "DimensionMismatch(\"matrix is not square: dimensions are (3, 2)\")",
     "output_type": "error",
     "traceback": [
      "DimensionMismatch(\"matrix is not square: dimensions are (3, 2)\")",
      "",
      "Stacktrace:",
      " [1] tr(::Array{Float64,2}) at C:\\Users\\julia\\AppData\\Local\\Julia-1.1.1\\share\\julia\\stdlib\\v1.1\\LinearAlgebra\\src\\LinearAlgebra.jl:214",
      " [2] top-level scope at In[10]:3"
     ]
    }
   ],
   "source": [
    "# 若矩陣非方陣 (square)，則會產生錯誤\n",
    "B = rand(3, 2)\n",
    "tr(B)"
   ]
  },
  {
   "cell_type": "markdown",
   "metadata": {
    "colab_type": "text",
    "id": "xjfPW4oFRPC7"
   },
   "source": [
    "### 2.2 行列式 (Determinant)\n",
    "\n",
    "$\\vert A \\vert= \\begin{vmatrix}\n",
    "a_{11} & a_{12} & a_{13} \\\\\n",
    "a_{21} & a_{22} & a_{23} \\\\\n",
    "a_{31} & a_{32} & a_{33}\n",
    "\\end{vmatrix}\\\\\n",
    "= a_{11}\\space a_{22}\\space a_{33} + a_{12}\\space a_{23}\\space a_{31} + a_{13}\\space a_{21}\\space a_{32}\n",
    "- a_{13}\\space a_{22}\\space a_{31} - a_{23}\\space a_{32}\\space a_{11} - a_{33}\\space a_{12}\\space a_{21}\n",
    "$\n",
    "\n",
    "圖解行列式運算 (Source: Wikipedia)\n",
    "![](https://upload.wikimedia.org/wikipedia/commons/4/4d/Determinant-columns.png)\n",
    "\n",
    "行列式的運算可以透過 `det()` 函式求得："
   ]
  },
  {
   "cell_type": "code",
   "execution_count": 11,
   "metadata": {
    "colab": {},
    "colab_type": "code",
    "id": "AYP_9gF4RPC9",
    "outputId": "c8851ac4-b140-465b-f6da-4fbc136d0748"
   },
   "outputs": [
    {
     "data": {
      "text/plain": [
       "54.0"
      ]
     },
     "execution_count": 11,
     "metadata": {},
     "output_type": "execute_result"
    }
   ],
   "source": [
    "det(A)"
   ]
  },
  {
   "cell_type": "code",
   "execution_count": 12,
   "metadata": {
    "colab": {},
    "colab_type": "code",
    "id": "O3upSxeWRPC_",
    "outputId": "d9656525-bb8a-4d0a-ea40-032cc6e9937e"
   },
   "outputs": [
    {
     "ename": "DimensionMismatch",
     "evalue": "DimensionMismatch(\"matrix is not square: dimensions are (3, 2)\")",
     "output_type": "error",
     "traceback": [
      "DimensionMismatch(\"matrix is not square: dimensions are (3, 2)\")",
      "",
      "Stacktrace:",
      " [1] checksquare at C:\\Users\\julia\\AppData\\Local\\Julia-1.1.1\\share\\julia\\stdlib\\v1.1\\LinearAlgebra\\src\\LinearAlgebra.jl:214 [inlined]",
      " [2] det(::LU{Float64,Array{Float64,2}}) at C:\\Users\\julia\\AppData\\Local\\Julia-1.1.1\\share\\julia\\stdlib\\v1.1\\LinearAlgebra\\src\\lu.jl:378",
      " [3] det(::Array{Float64,2}) at C:\\Users\\julia\\AppData\\Local\\Julia-1.1.1\\share\\julia\\stdlib\\v1.1\\LinearAlgebra\\src\\generic.jl:1277",
      " [4] top-level scope at In[12]:3"
     ]
    }
   ],
   "source": [
    "# 若矩陣非方陣 (square)，則會產生錯誤\n",
    "B = rand(3, 2)\n",
    "det(B)"
   ]
  },
  {
   "cell_type": "markdown",
   "metadata": {
    "colab_type": "text",
    "id": "DkBOX9eqRPDC"
   },
   "source": [
    "### 2.3 反矩陣 (Inverse)\n",
    "\n",
    "以三階矩陣為例：\n",
    "\n",
    "$\n",
    "A = \\left[\\begin{array}{ccc|ccc}\n",
    "a_{11} & a_{12} & a_{13} & 1 & 0 & 0\\\\\n",
    "a_{21} & a_{22} & a_{23} & 0 & 1 & 0\\\\\n",
    "a_{31} & a_{32} & a_{33} & 0 & 0 & 1\n",
    "\\end{array}\\right]\n",
    "$\n",
    "\n",
    "透過高斯約當法 (Gaussian Elimination)，可以得到右邊的矩陣即為 A 的反矩陣\n",
    "\n",
    "$\n",
    "A^{-1} = \\left[\\begin{array}{ccc|ccc}\n",
    "1 & 0 & 0 & b_{11} & b_{12} & b_{13} \\\\\n",
    "0 & 1 & 0 & b_{21} & b_{22} & b_{23}\\\\\n",
    "0 & 0 & 1 & b_{31} & b_{32} & b_{33}\n",
    "\\end{array}\\right]\n",
    "$\n",
    "\n",
    "呼叫 `inv()` 函式可以得到反矩陣。"
   ]
  },
  {
   "cell_type": "code",
   "execution_count": 34,
   "metadata": {},
   "outputs": [
    {
     "data": {
      "text/plain": [
       "3×3 Array{Int64,2}:\n",
       " -2  -4  2\n",
       " -2   1  2\n",
       "  4   2  5"
      ]
     },
     "execution_count": 34,
     "metadata": {},
     "output_type": "execute_result"
    }
   ],
   "source": [
    "A"
   ]
  },
  {
   "cell_type": "code",
   "execution_count": 35,
   "metadata": {
    "colab": {},
    "colab_type": "code",
    "id": "BKFnBycKRPDD",
    "outputId": "03dd2342-93f1-4bc9-edcb-69a8dd23ad0d"
   },
   "outputs": [
    {
     "data": {
      "text/plain": [
       "3×3 Array{Float64,2}:\n",
       " -0.0111111  -0.266667  0.111111   \n",
       " -0.2         0.2       1.38778e-17\n",
       "  0.0888889   0.133333  0.111111   "
      ]
     },
     "execution_count": 35,
     "metadata": {},
     "output_type": "execute_result"
    }
   ],
   "source": [
    "inv(A)"
   ]
  },
  {
   "cell_type": "markdown",
   "metadata": {},
   "source": [
    "$AA^{-1} = I$"
   ]
  },
  {
   "cell_type": "code",
   "execution_count": 38,
   "metadata": {},
   "outputs": [
    {
     "data": {
      "text/plain": [
       "3×3 Array{Float64,2}:\n",
       "  1.0          -5.55112e-17  -5.55112e-17\n",
       " -2.77556e-17   1.0           0.0        \n",
       "  5.55112e-17   0.0           1.0        "
      ]
     },
     "execution_count": 38,
     "metadata": {},
     "output_type": "execute_result"
    }
   ],
   "source": [
    "A*inv(A)"
   ]
  },
  {
   "cell_type": "markdown",
   "metadata": {},
   "source": [
    "$det(A^{-1})=\\frac{1}{det(A)}$"
   ]
  },
  {
   "cell_type": "code",
   "execution_count": 42,
   "metadata": {},
   "outputs": [
    {
     "data": {
      "text/plain": [
       "3.469446951953614e-18"
      ]
     },
     "execution_count": 42,
     "metadata": {},
     "output_type": "execute_result"
    }
   ],
   "source": [
    "det(inv(A)) - det(A)^-1"
   ]
  },
  {
   "cell_type": "code",
   "execution_count": 20,
   "metadata": {
    "colab": {},
    "colab_type": "code",
    "id": "j_D4mKzWRPDG",
    "outputId": "aeb1daf9-f185-4af5-ab6b-e4505ee81580"
   },
   "outputs": [
    {
     "ename": "DimensionMismatch",
     "evalue": "DimensionMismatch(\"matrix is not square: dimensions are (3, 2)\")",
     "output_type": "error",
     "traceback": [
      "DimensionMismatch(\"matrix is not square: dimensions are (3, 2)\")",
      "",
      "Stacktrace:",
      " [1] inv(::Array{Float64,2}) at C:\\Users\\julia\\AppData\\Local\\Julia-1.1.1\\share\\julia\\stdlib\\v1.1\\LinearAlgebra\\src\\LinearAlgebra.jl:214",
      " [2] top-level scope at In[20]:3"
     ]
    }
   ],
   "source": [
    "# 若矩陣非方陣 (square)，則會產生錯誤\n",
    "B = rand(3, 2)\n",
    "inv(B)"
   ]
  },
  {
   "cell_type": "markdown",
   "metadata": {
    "colab_type": "text",
    "id": "hr5fKJtERPDJ"
   },
   "source": [
    "### 2.4 轉置 (Transpose)\n",
    "\n",
    "$\n",
    "A = \\begin{bmatrix}\n",
    "a_{11} & a_{12} & a_{13} \\\\\n",
    "a_{21} & a_{22} & a_{23} \\\\\n",
    "a_{31} & a_{32} & a_{33}\n",
    "\\end{bmatrix}\n",
    "$\n",
    "\n",
    "$\n",
    "A^T = \\begin{bmatrix}\n",
    "a_{11} & a_{21} & a_{31} \\\\\n",
    "a_{12} & a_{22} & a_{23} \\\\\n",
    "a_{13} & a_{23} & a_{33}\n",
    "\\end{bmatrix}\n",
    "$\n",
    "\n",
    "轉置矩陣可透過下列 2 種方式：`transpose()` 函式或是矩陣加單引號，範例如下。\n",
    "\n",
    "把A的直行寫為橫列，把橫列寫為的直行，即為轉置的矩陣 $A^T$"
   ]
  },
  {
   "cell_type": "code",
   "execution_count": 21,
   "metadata": {
    "colab": {},
    "colab_type": "code",
    "id": "J8FZ5wUaRPDK",
    "outputId": "935a2ada-b8d9-4a92-d5ff-5d7ac191ebd5"
   },
   "outputs": [
    {
     "data": {
      "text/plain": [
       "3×3 Transpose{Int64,Array{Int64,2}}:\n",
       "  3  2  7\n",
       "  0  4  2\n",
       " -1  1  3"
      ]
     },
     "execution_count": 21,
     "metadata": {},
     "output_type": "execute_result"
    }
   ],
   "source": [
    "transpose(A)"
   ]
  },
  {
   "cell_type": "code",
   "execution_count": 23,
   "metadata": {
    "colab": {},
    "colab_type": "code",
    "id": "MlFh3eaZRPDQ",
    "outputId": "15941e8f-452a-4e1e-eb18-80f0164ed2a3"
   },
   "outputs": [
    {
     "data": {
      "text/plain": [
       "3×3 Adjoint{Int64,Array{Int64,2}}:\n",
       "  3  2  7\n",
       "  0  4  2\n",
       " -1  1  3"
      ]
     },
     "execution_count": 23,
     "metadata": {},
     "output_type": "execute_result"
    }
   ],
   "source": [
    "A'"
   ]
  },
  {
   "cell_type": "code",
   "execution_count": 26,
   "metadata": {},
   "outputs": [
    {
     "data": {
      "text/plain": [
       "true"
      ]
     },
     "execution_count": 26,
     "metadata": {},
     "output_type": "execute_result"
    }
   ],
   "source": [
    "transpose(A) == A'"
   ]
  },
  {
   "cell_type": "code",
   "execution_count": 24,
   "metadata": {
    "colab": {},
    "colab_type": "code",
    "id": "GhZl6oaARPDU",
    "outputId": "4bd25037-7a91-42fd-c9d7-0652c38cfea8"
   },
   "outputs": [
    {
     "data": {
      "text/plain": [
       "2×3 Adjoint{Float64,Array{Float64,2}}:\n",
       " 0.151086  0.179105  0.43135  \n",
       " 0.87097   0.172697  0.0496049"
      ]
     },
     "execution_count": 24,
     "metadata": {},
     "output_type": "execute_result"
    }
   ],
   "source": [
    "# 矩陣非方陣 (square) 範例\n",
    "B = rand(3, 2)\n",
    "B'"
   ]
  },
  {
   "cell_type": "markdown",
   "metadata": {
    "colab_type": "text",
    "id": "-u1wJiamRPDW"
   },
   "source": [
    "### 2.5 特徵值 (Eigenvalue) 與特徵向量 (Eigenvector)"
   ]
  },
  {
   "cell_type": "code",
   "execution_count": 31,
   "metadata": {
    "colab": {},
    "colab_type": "code",
    "id": "qU51LZGYRPDX",
    "outputId": "23870ac2-a396-49a3-aaa5-b28d816408a9"
   },
   "outputs": [
    {
     "data": {
      "text/plain": [
       "3×3 Array{Int64,2}:\n",
       " -2  -4  2\n",
       " -2   1  2\n",
       "  4   2  5"
      ]
     },
     "execution_count": 31,
     "metadata": {},
     "output_type": "execute_result"
    }
   ],
   "source": [
    "# A = [4 -3 0; 4 -1 -2; 1 -3 3]\n",
    "A = [-2 -4 2; -2 1 2; 4 2 5]"
   ]
  },
  {
   "cell_type": "code",
   "execution_count": 32,
   "metadata": {},
   "outputs": [
    {
     "data": {
      "text/plain": [
       "-90.0"
      ]
     },
     "execution_count": 32,
     "metadata": {},
     "output_type": "execute_result"
    }
   ],
   "source": [
    "det(A)"
   ]
  },
  {
   "cell_type": "markdown",
   "metadata": {
    "colab_type": "text",
    "id": "-pjY7WgnRPDb"
   },
   "source": [
    "`eigvals()` 回傳矩陣的 eigenvalues。"
   ]
  },
  {
   "cell_type": "code",
   "execution_count": 33,
   "metadata": {
    "colab": {},
    "colab_type": "code",
    "id": "KAoG_nmgRPDc",
    "outputId": "2de97e60-8c0a-4df2-aa52-adb3dac1d108"
   },
   "outputs": [
    {
     "data": {
      "text/plain": [
       "3-element Array{Float64,1}:\n",
       " -5.000000000000005\n",
       "  3.0              \n",
       "  6.0              "
      ]
     },
     "execution_count": 33,
     "metadata": {},
     "output_type": "execute_result"
    }
   ],
   "source": [
    "# round.(Int64, eigvals(A))\n",
    "eigvals(A)"
   ]
  },
  {
   "cell_type": "markdown",
   "metadata": {
    "colab_type": "text",
    "id": "ILCsxbMIRPDf"
   },
   "source": [
    "`eigvecs()` 回傳矩陣的 eigenvectors。"
   ]
  },
  {
   "cell_type": "code",
   "execution_count": 29,
   "metadata": {
    "colab": {},
    "colab_type": "code",
    "id": "ZiM1-FWFRPDg",
    "outputId": "ae694cdb-73b4-4ab6-ec63-344cf7bbc7f8"
   },
   "outputs": [
    {
     "data": {
      "text/plain": [
       "3×3 Array{Float64,2}:\n",
       "  0.816497   0.534522  0.0584206\n",
       "  0.408248  -0.801784  0.350524 \n",
       " -0.408248  -0.267261  0.93473  "
      ]
     },
     "execution_count": 29,
     "metadata": {},
     "output_type": "execute_result"
    }
   ],
   "source": [
    "eigvecs(A)"
   ]
  },
  {
   "cell_type": "markdown",
   "metadata": {
    "colab_type": "text",
    "id": "nCTlBHZcRPDj"
   },
   "source": [
    "或是呼叫 `eigen()` 函式回傳 eigenvalues 及 eigenvectors。"
   ]
  },
  {
   "cell_type": "code",
   "execution_count": 17,
   "metadata": {
    "colab": {},
    "colab_type": "code",
    "id": "izAVBfL9RPDk",
    "outputId": "b6d4a0c1-af8f-49c1-c95b-6bcfc08d8c9e"
   },
   "outputs": [
    {
     "data": {
      "text/plain": [
       "Eigen{Float64,Float64,Array{Float64,2},Array{Float64,1}}\n",
       "values:\n",
       "3-element Array{Float64,1}:\n",
       " -5.000000000000005\n",
       "  3.0\n",
       "  6.0\n",
       "vectors:\n",
       "3×3 Array{Float64,2}:\n",
       "  0.816497   0.534522  0.0584206\n",
       "  0.408248  -0.801784  0.350524\n",
       " -0.408248  -0.267261  0.93473"
      ]
     },
     "execution_count": 17,
     "metadata": {},
     "output_type": "execute_result"
    }
   ],
   "source": [
    "eigen(A)"
   ]
  },
  {
   "cell_type": "markdown",
   "metadata": {
    "colab_type": "text",
    "id": "gyoT67bORPDq"
   },
   "source": [
    "透過 `values` 和 `vectors` 成員可以分別取得 eigenvalues 及 eigenvectors。"
   ]
  },
  {
   "cell_type": "code",
   "execution_count": 18,
   "metadata": {
    "colab": {},
    "colab_type": "code",
    "id": "N1v1ycfNRPDs",
    "outputId": "7a52ff40-79e8-4183-e75b-177ee1cd5453"
   },
   "outputs": [
    {
     "data": {
      "text/plain": [
       "3-element Array{Float64,1}:\n",
       " -5.000000000000005\n",
       "  3.0\n",
       "  6.0"
      ]
     },
     "execution_count": 18,
     "metadata": {},
     "output_type": "execute_result"
    }
   ],
   "source": [
    "eigen(A).values"
   ]
  },
  {
   "cell_type": "code",
   "execution_count": 19,
   "metadata": {
    "colab": {},
    "colab_type": "code",
    "id": "3Pj9gkG6RPDw",
    "outputId": "a2b79335-2466-4850-b8c6-d687efac2a63"
   },
   "outputs": [
    {
     "data": {
      "text/plain": [
       "3×3 Array{Float64,2}:\n",
       "  0.816497   0.534522  0.0584206\n",
       "  0.408248  -0.801784  0.350524\n",
       " -0.408248  -0.267261  0.93473"
      ]
     },
     "execution_count": 19,
     "metadata": {},
     "output_type": "execute_result"
    }
   ],
   "source": [
    "eigen(A).vectors"
   ]
  },
  {
   "cell_type": "markdown",
   "metadata": {},
   "source": [
    "$det(A-\\lambda I) = 0$"
   ]
  },
  {
   "cell_type": "code",
   "execution_count": 52,
   "metadata": {},
   "outputs": [
    {
     "data": {
      "text/plain": [
       "3×3 Array{Int64,2}:\n",
       " 1  0  0\n",
       " 0  1  0\n",
       " 0  0  1"
      ]
     },
     "execution_count": 52,
     "metadata": {},
     "output_type": "execute_result"
    }
   ],
   "source": [
    "identitymatrix = Matrix{Int}(I,size(A))"
   ]
  },
  {
   "cell_type": "code",
   "execution_count": 56,
   "metadata": {},
   "outputs": [
    {
     "data": {
      "text/plain": [
       "3-element Array{Float64,1}:\n",
       " -5.000000000000005\n",
       "  3.0              \n",
       "  6.0              "
      ]
     },
     "execution_count": 56,
     "metadata": {},
     "output_type": "execute_result"
    }
   ],
   "source": [
    "λ=eigvals(A)"
   ]
  },
  {
   "cell_type": "code",
   "execution_count": 60,
   "metadata": {},
   "outputs": [
    {
     "name": "stdout",
     "output_type": "stream",
     "text": [
      "4.973799150320705e-13\n",
      "-2.664535259100376e-15\n",
      "0.0\n"
     ]
    }
   ],
   "source": [
    "for i = 1:length(λ)\n",
    "    println(det(A-λ[i]*identitymatrix))\n",
    "end"
   ]
  },
  {
   "cell_type": "markdown",
   "metadata": {
    "colab_type": "text",
    "id": "dsYCHSGORPDy"
   },
   "source": [
    "## 3. 特殊矩陣"
   ]
  },
  {
   "cell_type": "code",
   "execution_count": 61,
   "metadata": {
    "colab": {},
    "colab_type": "code",
    "id": "dP3OSSm2RPD0",
    "outputId": "99ce48b9-8367-4077-f73f-c53314bb0ccd"
   },
   "outputs": [
    {
     "data": {
      "text/plain": [
       "3×3 Array{Int64,2}:\n",
       " 4  0  2\n",
       " 0  1  0\n",
       " 1  4  7"
      ]
     },
     "execution_count": 61,
     "metadata": {},
     "output_type": "execute_result"
    }
   ],
   "source": [
    "A = rand(0:10, 3, 3)"
   ]
  },
  {
   "cell_type": "markdown",
   "metadata": {
    "colab_type": "text",
    "id": "1nywCzUyRPD3"
   },
   "source": [
    "### 3.1 對稱矩陣 (Symmetric)"
   ]
  },
  {
   "cell_type": "code",
   "execution_count": 62,
   "metadata": {
    "colab": {},
    "colab_type": "code",
    "id": "7jJS0Tz2RPD5",
    "outputId": "2912f12d-5dc4-4c75-8628-84e8a78a8ab0"
   },
   "outputs": [
    {
     "data": {
      "text/plain": [
       "3×3 Symmetric{Int64,Array{Int64,2}}:\n",
       " 4  0  2\n",
       " 0  1  0\n",
       " 2  0  7"
      ]
     },
     "execution_count": 62,
     "metadata": {},
     "output_type": "execute_result"
    }
   ],
   "source": [
    "Symmetric(A)"
   ]
  },
  {
   "cell_type": "markdown",
   "metadata": {
    "colab_type": "text",
    "id": "ifRm1jp6RPD8"
   },
   "source": [
    "### 3.2 單對角矩陣 (Diagonal)、雙對角矩陣 (Bidiagonal)、三對角矩陣 (Tridiagonal)"
   ]
  },
  {
   "cell_type": "code",
   "execution_count": 63,
   "metadata": {
    "colab": {},
    "colab_type": "code",
    "id": "inq_XAoKRPD9",
    "outputId": "839a7897-c744-452a-bdd9-5496f714ef54"
   },
   "outputs": [
    {
     "data": {
      "text/plain": [
       "3×3 Diagonal{Int64,Array{Int64,1}}:\n",
       " 4  ⋅  ⋅\n",
       " ⋅  1  ⋅\n",
       " ⋅  ⋅  7"
      ]
     },
     "execution_count": 63,
     "metadata": {},
     "output_type": "execute_result"
    }
   ],
   "source": [
    "Diagonal(A)"
   ]
  },
  {
   "cell_type": "code",
   "execution_count": 66,
   "metadata": {
    "colab": {},
    "colab_type": "code",
    "id": "FrQLPMj2RPEA",
    "outputId": "2519c5af-3145-4c29-b689-5f07e6a8811b"
   },
   "outputs": [
    {
     "data": {
      "text/plain": [
       "3×3 Bidiagonal{Int64,Array{Int64,1}}:\n",
       " 4  ⋅  ⋅\n",
       " 0  1  ⋅\n",
       " ⋅  4  7"
      ]
     },
     "execution_count": 66,
     "metadata": {},
     "output_type": "execute_result"
    }
   ],
   "source": [
    "Bidiagonal(A, :L)"
   ]
  },
  {
   "cell_type": "code",
   "execution_count": 67,
   "metadata": {
    "colab": {},
    "colab_type": "code",
    "id": "9a2tarmDRPEC",
    "outputId": "9be1f0c4-8031-45d9-b403-616f52bf27b6"
   },
   "outputs": [
    {
     "data": {
      "text/plain": [
       "3×3 Bidiagonal{Int64,Array{Int64,1}}:\n",
       " 4  0  ⋅\n",
       " ⋅  1  0\n",
       " ⋅  ⋅  7"
      ]
     },
     "execution_count": 67,
     "metadata": {},
     "output_type": "execute_result"
    }
   ],
   "source": [
    "Bidiagonal(A, :U)"
   ]
  },
  {
   "cell_type": "code",
   "execution_count": 68,
   "metadata": {
    "colab": {},
    "colab_type": "code",
    "id": "G7phbG9mRPEF",
    "outputId": "cf48f8bf-a8a3-4769-cb98-0f7cd56b191f"
   },
   "outputs": [
    {
     "data": {
      "text/plain": [
       "3×3 Tridiagonal{Int64,Array{Int64,1}}:\n",
       " 4  0  ⋅\n",
       " 0  1  0\n",
       " ⋅  4  7"
      ]
     },
     "execution_count": 68,
     "metadata": {},
     "output_type": "execute_result"
    }
   ],
   "source": [
    "Tridiagonal(A)"
   ]
  },
  {
   "cell_type": "markdown",
   "metadata": {
    "colab_type": "text",
    "id": "YNfAWQjlRPEI"
   },
   "source": [
    "### 3.3 上三角矩陣 (Upper Triangular)、下三角矩陣 (Lower Triangular)"
   ]
  },
  {
   "cell_type": "code",
   "execution_count": 69,
   "metadata": {
    "colab": {},
    "colab_type": "code",
    "id": "sNZizB4VRPEJ",
    "outputId": "10b7188f-6a49-495c-87f7-d9f1e753a81f"
   },
   "outputs": [
    {
     "data": {
      "text/plain": [
       "3×3 UpperTriangular{Int64,Array{Int64,2}}:\n",
       " 4  0  2\n",
       " ⋅  1  0\n",
       " ⋅  ⋅  7"
      ]
     },
     "execution_count": 69,
     "metadata": {},
     "output_type": "execute_result"
    }
   ],
   "source": [
    "UpperTriangular(A)"
   ]
  },
  {
   "cell_type": "code",
   "execution_count": 70,
   "metadata": {
    "colab": {},
    "colab_type": "code",
    "id": "aycD3ngsRPEM",
    "outputId": "fd6bccd1-23db-40ac-de07-3cfbc9646c4d"
   },
   "outputs": [
    {
     "data": {
      "text/plain": [
       "3×3 LowerTriangular{Int64,Array{Int64,2}}:\n",
       " 4  ⋅  ⋅\n",
       " 0  1  ⋅\n",
       " 1  4  7"
      ]
     },
     "execution_count": 70,
     "metadata": {},
     "output_type": "execute_result"
    }
   ],
   "source": [
    "LowerTriangular(A)"
   ]
  },
  {
   "cell_type": "markdown",
   "metadata": {
    "colab_type": "text",
    "id": "Me3CM1YzRPEP"
   },
   "source": [
    "### 3.4 均勻縮放矩陣 (Uniform Scaling)"
   ]
  },
  {
   "cell_type": "code",
   "execution_count": 71,
   "metadata": {
    "colab": {},
    "colab_type": "code",
    "id": "oSorjkVIRPEQ",
    "outputId": "aab89a34-322c-44a4-8d08-bc8ba9a5f2bc"
   },
   "outputs": [
    {
     "data": {
      "text/plain": [
       "3×3 Array{Int64,2}:\n",
       " 8  0   4\n",
       " 0  2   0\n",
       " 2  8  14"
      ]
     },
     "execution_count": 71,
     "metadata": {},
     "output_type": "execute_result"
    }
   ],
   "source": [
    "UniformScaling(2) * A"
   ]
  },
  {
   "cell_type": "markdown",
   "metadata": {
    "colab_type": "text",
    "id": "QT4Tx2QgRPET"
   },
   "source": [
    "### 3.5 單位下三角矩陣 (Unit Lower Triangular)"
   ]
  },
  {
   "cell_type": "code",
   "execution_count": 72,
   "metadata": {
    "colab": {},
    "colab_type": "code",
    "id": "g6uvkk9vRPET",
    "outputId": "1e61f54d-66a2-405c-ef55-3f256918e969"
   },
   "outputs": [
    {
     "data": {
      "text/plain": [
       "3×3 UnitLowerTriangular{Int64,Array{Int64,2}}:\n",
       " 1  ⋅  ⋅\n",
       " 0  1  ⋅\n",
       " 1  4  1"
      ]
     },
     "execution_count": 72,
     "metadata": {},
     "output_type": "execute_result"
    }
   ],
   "source": [
    "UnitLowerTriangular(A)"
   ]
  },
  {
   "cell_type": "markdown",
   "metadata": {
    "colab_type": "text",
    "id": "pCZ6gWIFRPEW"
   },
   "source": [
    "### 3.6 對稱三對角矩陣 (Symmetric Tridiagonal Matrix)"
   ]
  },
  {
   "cell_type": "code",
   "execution_count": 73,
   "metadata": {
    "colab": {},
    "colab_type": "code",
    "id": "XjlNodooRPEW",
    "outputId": "04542b70-d222-435d-c7be-ece413281694"
   },
   "outputs": [
    {
     "data": {
      "text/plain": [
       "3×3 SymTridiagonal{Int64,Array{Int64,1}}:\n",
       " 4  0  ⋅\n",
       " 0  1  0\n",
       " ⋅  0  7"
      ]
     },
     "execution_count": 73,
     "metadata": {},
     "output_type": "execute_result"
    }
   ],
   "source": [
    "SymTridiagonal(Symmetric(A))"
   ]
  },
  {
   "cell_type": "markdown",
   "metadata": {
    "colab_type": "text",
    "id": "SlbP208FRPEZ"
   },
   "source": [
    "### 3.6 埃爾米特矩陣 (Hermitian Matrix)"
   ]
  },
  {
   "cell_type": "code",
   "execution_count": 77,
   "metadata": {
    "colab": {},
    "colab_type": "code",
    "id": "alYQFvr_RPEa",
    "outputId": "d8bf1224-0c56-4bfa-f1b3-f67983f60dd1"
   },
   "outputs": [
    {
     "data": {
      "text/plain": [
       "3×3 Array{Complex{Int64},2}:\n",
       " 1+0im  1-1im  2+0im\n",
       " 1+1im  0+1im  3+0im\n",
       " 2+0im  0-1im  0+0im"
      ]
     },
     "execution_count": 77,
     "metadata": {},
     "output_type": "execute_result"
    }
   ],
   "source": [
    "H = [1 1-im 2; 1+im im 3; 2 -im 0]"
   ]
  },
  {
   "cell_type": "code",
   "execution_count": 78,
   "metadata": {
    "colab": {},
    "colab_type": "code",
    "id": "HcAMTOEmRPEp",
    "outputId": "b83fb8e9-89d6-447e-abea-86884232fc0c"
   },
   "outputs": [
    {
     "data": {
      "text/plain": [
       "3×3 Array{Complex{Int64},2}:\n",
       " 1+0im  1+1im  2+0im\n",
       " 1-1im  0-1im  3+0im\n",
       " 2+0im  0+1im  0+0im"
      ]
     },
     "execution_count": 78,
     "metadata": {},
     "output_type": "execute_result"
    }
   ],
   "source": [
    "conj(H)"
   ]
  },
  {
   "cell_type": "code",
   "execution_count": 79,
   "metadata": {
    "colab": {},
    "colab_type": "code",
    "id": "TH2XPy-zRPEt",
    "outputId": "79a2a870-0da4-4634-d652-d2be56c7790d"
   },
   "outputs": [
    {
     "data": {
      "text/plain": [
       "3×3 Transpose{Complex{Int64},Array{Complex{Int64},2}}:\n",
       " 1+0im  1-1im  2+0im\n",
       " 1+1im  0-1im  0+1im\n",
       " 2+0im  3+0im  0+0im"
      ]
     },
     "execution_count": 79,
     "metadata": {},
     "output_type": "execute_result"
    }
   ],
   "source": [
    "transpose(conj(H))"
   ]
  },
  {
   "cell_type": "code",
   "execution_count": 80,
   "metadata": {
    "colab": {},
    "colab_type": "code",
    "id": "9IuI0p7ZRPEw",
    "outputId": "64173482-814f-451d-afe8-2b25436a20a3"
   },
   "outputs": [
    {
     "data": {
      "text/plain": [
       "3×3 Hermitian{Complex{Int64},Array{Complex{Int64},2}}:\n",
       " 1+0im  1-1im  2+0im\n",
       " 1+1im  0+0im  3+0im\n",
       " 2+0im  3+0im  0+0im"
      ]
     },
     "execution_count": 80,
     "metadata": {},
     "output_type": "execute_result"
    }
   ],
   "source": [
    "Hermitian(H)"
   ]
  },
  {
   "cell_type": "markdown",
   "metadata": {
    "colab_type": "text",
    "id": "kff7kLroRPE0"
   },
   "source": [
    "## 4. 矩陣分解 (Factorization)"
   ]
  },
  {
   "cell_type": "code",
   "execution_count": 81,
   "metadata": {
    "colab": {},
    "colab_type": "code",
    "id": "3P23ts0XRPE1",
    "outputId": "ad2e8bea-5d42-45be-e533-d8ed52b34c93"
   },
   "outputs": [
    {
     "data": {
      "text/plain": [
       "2×2 Array{Int64,2}:\n",
       " 1   2\n",
       " 2  50"
      ]
     },
     "execution_count": 81,
     "metadata": {},
     "output_type": "execute_result"
    }
   ],
   "source": [
    "A = [1 2; 2 50]"
   ]
  },
  {
   "cell_type": "markdown",
   "metadata": {
    "colab_type": "text",
    "id": "jMV5vYJaRPE3"
   },
   "source": [
    "### 4.1 Cholesky 分解\n",
    "\n",
    "矩陣必須是對稱正定矩陣或是埃爾米特矩陣才能進行 Cholesky 分解。"
   ]
  },
  {
   "cell_type": "code",
   "execution_count": 82,
   "metadata": {
    "colab": {},
    "colab_type": "code",
    "id": "iQDZo1khRPE4",
    "outputId": "20c2410e-7659-4f96-971d-46b2cb291c9f"
   },
   "outputs": [
    {
     "data": {
      "text/plain": [
       "true"
      ]
     },
     "execution_count": 82,
     "metadata": {},
     "output_type": "execute_result"
    }
   ],
   "source": [
    "issymmetric(A)"
   ]
  },
  {
   "cell_type": "code",
   "execution_count": 83,
   "metadata": {
    "colab": {},
    "colab_type": "code",
    "id": "c5E9NKwGRPE9",
    "outputId": "4daa8d5e-a2cd-46c6-8576-42799c6af26b"
   },
   "outputs": [
    {
     "data": {
      "text/plain": [
       "Cholesky{Float64,Array{Float64,2}}\n",
       "U factor:\n",
       "2×2 UpperTriangular{Float64,Array{Float64,2}}:\n",
       " 1.0  2.0    \n",
       "  ⋅   6.78233"
      ]
     },
     "execution_count": 83,
     "metadata": {},
     "output_type": "execute_result"
    }
   ],
   "source": [
    "C = cholesky(A)"
   ]
  },
  {
   "cell_type": "markdown",
   "metadata": {
    "colab_type": "text",
    "id": "Y7tmJib2RPFE"
   },
   "source": [
    "### 4.2 QR 分解"
   ]
  },
  {
   "cell_type": "code",
   "execution_count": 84,
   "metadata": {
    "colab": {},
    "colab_type": "code",
    "id": "aJys0F-QRPFF",
    "outputId": "9f2383da-b5f7-4e3b-e7a3-80fd51f690f8"
   },
   "outputs": [
    {
     "data": {
      "text/plain": [
       "LinearAlgebra.QRCompactWY{Float64,Array{Float64,2}}\n",
       "Q factor:\n",
       "2×2 LinearAlgebra.QRCompactWYQ{Float64,Array{Float64,2}}:\n",
       " -0.447214  -0.894427\n",
       " -0.894427   0.447214\n",
       "R factor:\n",
       "2×2 Array{Float64,2}:\n",
       " -2.23607  -45.6158\n",
       "  0.0       20.5718"
      ]
     },
     "execution_count": 84,
     "metadata": {},
     "output_type": "execute_result"
    }
   ],
   "source": [
    "Q, R = qr(A)"
   ]
  },
  {
   "cell_type": "markdown",
   "metadata": {
    "colab_type": "text",
    "id": "DaSjiEv5RPFH"
   },
   "source": [
    "### 4.3 LU 分解"
   ]
  },
  {
   "cell_type": "code",
   "execution_count": 85,
   "metadata": {
    "colab": {},
    "colab_type": "code",
    "id": "zJ0A0ItrRPFI",
    "outputId": "0aaca9dc-9c2b-42ff-df91-9cb2e07b749e"
   },
   "outputs": [
    {
     "data": {
      "text/plain": [
       "LU{Float64,Array{Float64,2}}\n",
       "L factor:\n",
       "2×2 Array{Float64,2}:\n",
       " 1.0  0.0\n",
       " 2.0  1.0\n",
       "U factor:\n",
       "2×2 Array{Float64,2}:\n",
       " 1.0   2.0\n",
       " 0.0  46.0"
      ]
     },
     "execution_count": 85,
     "metadata": {},
     "output_type": "execute_result"
    }
   ],
   "source": [
    "lu(A)"
   ]
  },
  {
   "cell_type": "markdown",
   "metadata": {
    "colab_type": "text",
    "id": "_57fzyS9RPFL"
   },
   "source": [
    "### 4.4 SVD 分解"
   ]
  },
  {
   "cell_type": "code",
   "execution_count": 86,
   "metadata": {
    "colab": {},
    "colab_type": "code",
    "id": "kE_mjyotRPFM",
    "outputId": "e728644d-f1c9-4fc1-a133-e5d9d2168f95"
   },
   "outputs": [
    {
     "data": {
      "text/plain": [
       "SVD{Float64,Float64,Array{Float64,2}}([0.0407148 0.999171; 0.999171 -0.0407148], [50.0815, 0.918503], [0.0407148 0.999171; 0.999171 -0.0407148])"
      ]
     },
     "execution_count": 86,
     "metadata": {},
     "output_type": "execute_result"
    }
   ],
   "source": [
    "U, S, V = svd(A)"
   ]
  },
  {
   "cell_type": "code",
   "execution_count": 87,
   "metadata": {
    "colab": {},
    "colab_type": "code",
    "id": "0CjDIr4ORPFP",
    "outputId": "2fc276cb-1ed2-4086-85a2-d5c952cbe892"
   },
   "outputs": [
    {
     "data": {
      "text/plain": [
       "2×2 Array{Float64,2}:\n",
       " 0.0407148   0.999171 \n",
       " 0.999171   -0.0407148"
      ]
     },
     "execution_count": 87,
     "metadata": {},
     "output_type": "execute_result"
    }
   ],
   "source": [
    "U"
   ]
  },
  {
   "cell_type": "code",
   "execution_count": 88,
   "metadata": {
    "colab": {},
    "colab_type": "code",
    "id": "8tTOcWu8RPFW",
    "outputId": "70ca1098-e4b5-40ff-bfb6-85099f1c09dc"
   },
   "outputs": [
    {
     "data": {
      "text/plain": [
       "2-element Array{Float64,1}:\n",
       " 50.08149710656371  \n",
       "  0.9185028934362912"
      ]
     },
     "execution_count": 88,
     "metadata": {},
     "output_type": "execute_result"
    }
   ],
   "source": [
    "S"
   ]
  },
  {
   "cell_type": "code",
   "execution_count": 89,
   "metadata": {
    "colab": {},
    "colab_type": "code",
    "id": "4kDqsCQERPFY",
    "outputId": "61f943bd-fd12-4dff-cdef-75d628e6c3b6"
   },
   "outputs": [
    {
     "data": {
      "text/plain": [
       "2×2 Adjoint{Float64,Array{Float64,2}}:\n",
       " 0.0407148   0.999171 \n",
       " 0.999171   -0.0407148"
      ]
     },
     "execution_count": 89,
     "metadata": {},
     "output_type": "execute_result"
    }
   ],
   "source": [
    "V"
   ]
  },
  {
   "cell_type": "markdown",
   "metadata": {
    "colab_type": "text",
    "id": "V-xG4JXQRPFa"
   },
   "source": [
    "### 4.5 `factorize()` 函式\n",
    "\n",
    "`factorize()` 函式，能夠根據矩陣的類型，自動選置有效的分解方法。\n",
    "\n",
    "![](factorize.png)"
   ]
  },
  {
   "cell_type": "markdown",
   "metadata": {
    "colab_type": "text",
    "id": "lWvEDEOoRPFc"
   },
   "source": [
    "範例是示範對雙對角矩陣進行分解時，`factorize()` 函式自動選擇 Bidiagonal。"
   ]
  },
  {
   "cell_type": "code",
   "execution_count": 90,
   "metadata": {
    "colab": {},
    "colab_type": "code",
    "id": "57hrtz-fRPFe",
    "outputId": "22165dee-640e-42ab-b849-7c9d52d7600b"
   },
   "outputs": [
    {
     "data": {
      "text/plain": [
       "3×3 Array{Float64,2}:\n",
       " 3.0  3.0  0.0\n",
       " 0.0  3.0  3.0\n",
       " 0.0  0.0  3.0"
      ]
     },
     "execution_count": 90,
     "metadata": {},
     "output_type": "execute_result"
    }
   ],
   "source": [
    "A = Array(Bidiagonal(fill(3.0, (3, 3)), :U))"
   ]
  },
  {
   "cell_type": "code",
   "execution_count": 91,
   "metadata": {
    "colab": {},
    "colab_type": "code",
    "id": "YQ3sePwJRPFh",
    "outputId": "508499ba-50e1-4e12-ab0d-c25f225f9478"
   },
   "outputs": [
    {
     "data": {
      "text/plain": [
       "3×3 Bidiagonal{Float64,Array{Float64,1}}:\n",
       " 3.0  3.0   ⋅ \n",
       "  ⋅   3.0  3.0\n",
       "  ⋅    ⋅   3.0"
      ]
     },
     "execution_count": 91,
     "metadata": {},
     "output_type": "execute_result"
    }
   ],
   "source": [
    "factorize(A)"
   ]
  },
  {
   "cell_type": "code",
   "execution_count": null,
   "metadata": {
    "colab": {},
    "colab_type": "code",
    "id": "IBeeZfEERPFk"
   },
   "outputs": [],
   "source": []
  }
 ],
 "metadata": {
  "@webio": {
   "lastCommId": null,
   "lastKernelId": null
  },
  "colab": {
   "name": "julia_013_example.ipynb",
   "provenance": []
  },
  "kernelspec": {
   "display_name": "Julia 1.4.0",
   "language": "julia",
   "name": "julia-1.4"
  },
  "language_info": {
   "file_extension": ".jl",
   "mimetype": "application/julia",
   "name": "julia",
   "version": "1.4.0"
  }
 },
 "nbformat": 4,
 "nbformat_minor": 4
}
