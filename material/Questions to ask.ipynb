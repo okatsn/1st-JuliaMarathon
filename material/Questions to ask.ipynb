{
 "cells": [
  {
   "cell_type": "markdown",
   "metadata": {},
   "source": [
    "# 官方文件中敘述看不懂的部分"
   ]
  },
  {
   "cell_type": "markdown",
   "metadata": {},
   "source": [
    "## type assertion/ type declarations\n",
    "When the type on the right is concrete, the value on the left must have that type as its implementation – recall that all concrete types are final, so no implementation is a subtype of any other."
   ]
  },
  {
   "cell_type": "markdown",
   "metadata": {},
   "source": [
    "## IO\n",
    "### Base.eof\n",
    "- why \"it is always safe to read one byte after seeing eof return false.\""
   ]
  },
  {
   "cell_type": "markdown",
   "metadata": {},
   "source": [
    "## DataFrame\n",
    "### D17\n",
    "- what is the colon `:` in `push!(df, Dict(:col2 => \"F\", :col1 => 2))`?\n",
    "-  why `df[!, :]` is equivalent to `df[:, :]`\n",
    "    - methods(!)\n",
    "        - !(::Missing) in Base at missing.jl:100\n",
    "        - !(x::Bool) in Base at bool.jl:35\n",
    "        - !(f::Function) in Base at operators.jl:880\n"
   ]
  },
  {
   "cell_type": "code",
   "execution_count": 1,
   "metadata": {
    "scrolled": true
   },
   "outputs": [],
   "source": [
    "using DataFrames"
   ]
  },
  {
   "cell_type": "code",
   "execution_count": 3,
   "metadata": {},
   "outputs": [
    {
     "ename": "MethodError",
     "evalue": "MethodError: objects of type Pair{Array{Symbol,1},var\"#5#6\"} are not callable",
     "output_type": "error",
     "traceback": [
      "MethodError: objects of type Pair{Array{Symbol,1},var\"#5#6\"} are not callable",
      "",
      "Stacktrace:",
      " [1] (::DataFrames.var\"#60#61\"{Pair{Array{Symbol,1},var\"#5#6\"}})(::DataFrameRow{DataFrame,DataFrames.Index}) at .\\none:0",
      " [2] iterate at .\\generator.jl:47 [inlined]",
      " [3] collect at .\\array.jl:665 [inlined]",
      " [4] filter(::Pair{Array{Symbol,1},var\"#5#6\"}, ::DataFrame) at C:\\Users\\HSI\\.julia\\packages\\DataFrames\\S3ZFo\\src\\abstractdataframe\\abstractdataframe.jl:866",
      " [5] top-level scope at In[3]:2"
     ]
    }
   ],
   "source": [
    "df = DataFrame(x = [3, 1, 2, 1], y = [\"b\", \"c\", \"a\", \"b\"])\n",
    "filter([:x, :y] => (x, y) -> x == 1 || y == \"b\", df)\n",
    "# the same as doc but it failed.\n",
    "# https://juliadata.github.io/DataFrames.jl/stable/lib/functions/#Base.filter"
   ]
  },
  {
   "cell_type": "markdown",
   "metadata": {},
   "source": [
    "How this works?"
   ]
  },
  {
   "cell_type": "code",
   "execution_count": 4,
   "metadata": {},
   "outputs": [
    {
     "data": {
      "text/plain": [
       "5-element BitArray{1}:\n",
       " 1\n",
       " 1\n",
       " 1\n",
       " 0\n",
       " 0"
      ]
     },
     "execution_count": 4,
     "metadata": {},
     "output_type": "execute_result"
    }
   ],
   "source": [
    "∈([1,2,3]).([1,2,3,4,5])"
   ]
  },
  {
   "cell_type": "code",
   "execution_count": 6,
   "metadata": {},
   "outputs": [
    {
     "data": {
      "text/plain": [
       "3-element BitArray{1}:\n",
       " 1\n",
       " 0\n",
       " 0"
      ]
     },
     "execution_count": 6,
     "metadata": {},
     "output_type": "execute_result"
    }
   ],
   "source": [
    "isequal(\"US\").([\"US\",\"Canada\",\"Mexico\"])"
   ]
  },
  {
   "cell_type": "markdown",
   "metadata": {},
   "source": [
    "D19"
   ]
  },
  {
   "cell_type": "code",
   "execution_count": 1,
   "metadata": {},
   "outputs": [
    {
     "ename": "UndefVarError",
     "evalue": "UndefVarError: CSV not defined",
     "output_type": "error",
     "traceback": [
      "UndefVarError: CSV not defined",
      "",
      "Stacktrace:",
      " [1] top-level scope at In[1]:1"
     ]
    }
   ],
   "source": [
    "# why using piping?\n",
    "df1 = CSV.read(\"iris.csv\", delim=\",\") |> DataFrame;"
   ]
  },
  {
   "cell_type": "markdown",
   "metadata": {},
   "source": [
    "### D23\n",
    "- cannot find doc for e.g. marginalhist()\n",
    "- what does gr() from StatsPlots do?"
   ]
  },
  {
   "cell_type": "markdown",
   "metadata": {},
   "source": [
    "### D24 \n",
    "p = plot(iris, x=\"SepalWidth\", xintercept=[mean(iris[!, :SepalWidth])],\n",
    "    Geom.vline(color=[\"black\"]), Geom.histogram)"
   ]
  },
  {
   "cell_type": "code",
   "execution_count": null,
   "metadata": {},
   "outputs": [],
   "source": []
  }
 ],
 "metadata": {
  "kernelspec": {
   "display_name": "Julia 1.4.0",
   "language": "julia",
   "name": "julia-1.4"
  },
  "language_info": {
   "file_extension": ".jl",
   "mimetype": "application/julia",
   "name": "julia",
   "version": "1.4.0"
  }
 },
 "nbformat": 4,
 "nbformat_minor": 4
}
