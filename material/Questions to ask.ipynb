{
 "cells": [
  {
   "cell_type": "markdown",
   "metadata": {},
   "source": [
    "# 官方文件中敘述看不懂的部分"
   ]
  },
  {
   "cell_type": "markdown",
   "metadata": {},
   "source": [
    "## type assertion/ type declarations\n",
    "When the type on the right is concrete, the value on the left must have that type as its implementation – recall that all concrete types are final, so no implementation is a subtype of any other."
   ]
  },
  {
   "cell_type": "markdown",
   "metadata": {},
   "source": [
    "## IO\n",
    "### Base.eof\n",
    "- why \"it is always safe to read one byte after seeing eof return false.\""
   ]
  },
  {
   "cell_type": "markdown",
   "metadata": {},
   "source": [
    "## DataFrame\n",
    "### D17\n",
    "- what is the colon `:` in `push!(df, Dict(:col2 => \"F\", :col1 => 2))`?\n",
    "-  why `df[!, :]` is equivalent to `df[:, :]`\n",
    "    - methods(!)\n",
    "        - !(::Missing) in Base at missing.jl:100\n",
    "        - !(x::Bool) in Base at bool.jl:35\n",
    "        - !(f::Function) in Base at operators.jl:880\n"
   ]
  },
  {
   "cell_type": "code",
   "execution_count": 9,
   "metadata": {},
   "outputs": [
    {
     "data": {
      "text/plain": [
       "Symbol"
      ]
     },
     "execution_count": 9,
     "metadata": {},
     "output_type": "execute_result"
    }
   ],
   "source": [
    "typeof(:col)"
   ]
  },
  {
   "cell_type": "code",
   "execution_count": 10,
   "metadata": {},
   "outputs": [
    {
     "name": "stdout",
     "output_type": "stream",
     "text": [
      "search: \u001b[0m\u001b[1mS\u001b[22m\u001b[0m\u001b[1my\u001b[22m\u001b[0m\u001b[1mm\u001b[22m\u001b[0m\u001b[1mb\u001b[22m\u001b[0m\u001b[1mo\u001b[22m\u001b[0m\u001b[1ml\u001b[22m\n",
      "\n"
     ]
    },
    {
     "data": {
      "text/latex": [
       "\\begin{verbatim}\n",
       "Symbol\n",
       "\\end{verbatim}\n",
       "The type of object used to represent identifiers in parsed julia code (ASTs). Also often used as a name or label to identify an entity (e.g. as a dictionary key). \\texttt{Symbol}s can be entered using the \\texttt{:} quote operator:\n",
       "\n",
       "\\begin{verbatim}\n",
       "julia> :name\n",
       ":name\n",
       "\n",
       "julia> typeof(:name)\n",
       "Symbol\n",
       "\n",
       "julia> x = 42\n",
       "42\n",
       "\n",
       "julia> eval(:x)\n",
       "42\n",
       "\\end{verbatim}\n",
       "\\texttt{Symbol}s can also be constructed from strings or other values by calling the constructor \\texttt{Symbol(x...)}.\n",
       "\n",
       "\\texttt{Symbol}s are immutable and should be compared using \\texttt{===}. The implementation re-uses the same object for all \\texttt{Symbol}s with the same name, so comparison tends to be efficient (it can just compare pointers).\n",
       "\n",
       "Unlike strings, \\texttt{Symbol}s are \"atomic\" or \"scalar\" entities that do not support iteration over characters.\n",
       "\n",
       "\\rule{\\textwidth}{1pt}\n",
       "\\begin{verbatim}\n",
       "Symbol(x...) -> Symbol\n",
       "\\end{verbatim}\n",
       "Create a \\href{@ref}{\\texttt{Symbol}} by concatenating the string representations of the arguments together.\n",
       "\n",
       "\\section{Examples}\n",
       "\\begin{verbatim}\n",
       "julia> Symbol(\"my\", \"name\")\n",
       ":myname\n",
       "\n",
       "julia> Symbol(\"day\", 4)\n",
       ":day4\n",
       "\\end{verbatim}\n"
      ],
      "text/markdown": [
       "```\n",
       "Symbol\n",
       "```\n",
       "\n",
       "The type of object used to represent identifiers in parsed julia code (ASTs). Also often used as a name or label to identify an entity (e.g. as a dictionary key). `Symbol`s can be entered using the `:` quote operator:\n",
       "\n",
       "```jldoctest\n",
       "julia> :name\n",
       ":name\n",
       "\n",
       "julia> typeof(:name)\n",
       "Symbol\n",
       "\n",
       "julia> x = 42\n",
       "42\n",
       "\n",
       "julia> eval(:x)\n",
       "42\n",
       "```\n",
       "\n",
       "`Symbol`s can also be constructed from strings or other values by calling the constructor `Symbol(x...)`.\n",
       "\n",
       "`Symbol`s are immutable and should be compared using `===`. The implementation re-uses the same object for all `Symbol`s with the same name, so comparison tends to be efficient (it can just compare pointers).\n",
       "\n",
       "Unlike strings, `Symbol`s are \"atomic\" or \"scalar\" entities that do not support iteration over characters.\n",
       "\n",
       "---\n",
       "\n",
       "```\n",
       "Symbol(x...) -> Symbol\n",
       "```\n",
       "\n",
       "Create a [`Symbol`](@ref) by concatenating the string representations of the arguments together.\n",
       "\n",
       "# Examples\n",
       "\n",
       "```jldoctest\n",
       "julia> Symbol(\"my\", \"name\")\n",
       ":myname\n",
       "\n",
       "julia> Symbol(\"day\", 4)\n",
       ":day4\n",
       "```\n"
      ],
      "text/plain": [
       "\u001b[36m  Symbol\u001b[39m\n",
       "\n",
       "  The type of object used to represent identifiers in parsed julia code\n",
       "  (ASTs). Also often used as a name or label to identify an entity (e.g. as a\n",
       "  dictionary key). \u001b[36mSymbol\u001b[39ms can be entered using the \u001b[36m:\u001b[39m quote operator:\n",
       "\n",
       "\u001b[36m  julia> :name\u001b[39m\n",
       "\u001b[36m  :name\u001b[39m\n",
       "\u001b[36m  \u001b[39m\n",
       "\u001b[36m  julia> typeof(:name)\u001b[39m\n",
       "\u001b[36m  Symbol\u001b[39m\n",
       "\u001b[36m  \u001b[39m\n",
       "\u001b[36m  julia> x = 42\u001b[39m\n",
       "\u001b[36m  42\u001b[39m\n",
       "\u001b[36m  \u001b[39m\n",
       "\u001b[36m  julia> eval(:x)\u001b[39m\n",
       "\u001b[36m  42\u001b[39m\n",
       "\n",
       "  \u001b[36mSymbol\u001b[39ms can also be constructed from strings or other values by calling the\n",
       "  constructor \u001b[36mSymbol(x...)\u001b[39m.\n",
       "\n",
       "  \u001b[36mSymbol\u001b[39ms are immutable and should be compared using \u001b[36m===\u001b[39m. The implementation\n",
       "  re-uses the same object for all \u001b[36mSymbol\u001b[39ms with the same name, so comparison\n",
       "  tends to be efficient (it can just compare pointers).\n",
       "\n",
       "  Unlike strings, \u001b[36mSymbol\u001b[39ms are \"atomic\" or \"scalar\" entities that do not\n",
       "  support iteration over characters.\n",
       "\n",
       "  ────────────────────────────────────────────────────────────────────────────\n",
       "\n",
       "\u001b[36m  Symbol(x...) -> Symbol\u001b[39m\n",
       "\n",
       "  Create a \u001b[36mSymbol\u001b[39m by concatenating the string representations of the arguments\n",
       "  together.\n",
       "\n",
       "\u001b[1m  Examples\u001b[22m\n",
       "\u001b[1m  ≡≡≡≡≡≡≡≡≡≡\u001b[22m\n",
       "\n",
       "\u001b[36m  julia> Symbol(\"my\", \"name\")\u001b[39m\n",
       "\u001b[36m  :myname\u001b[39m\n",
       "\u001b[36m  \u001b[39m\n",
       "\u001b[36m  julia> Symbol(\"day\", 4)\u001b[39m\n",
       "\u001b[36m  :day4\u001b[39m"
      ]
     },
     "execution_count": 10,
     "metadata": {},
     "output_type": "execute_result"
    }
   ],
   "source": [
    "?Symbol"
   ]
  },
  {
   "cell_type": "code",
   "execution_count": 7,
   "metadata": {},
   "outputs": [
    {
     "data": {
      "text/html": [
       "<table class=\"data-frame\"><thead><tr><th></th><th>a</th><th>b</th><th>c</th></tr><tr><th></th><th>Int64</th><th>Int64</th><th>Int64</th></tr></thead><tbody><p>8 rows × 3 columns</p><tr><th>1</th><td>1</td><td>2</td><td>1</td></tr><tr><th>2</th><td>2</td><td>1</td><td>2</td></tr><tr><th>3</th><td>3</td><td>2</td><td>3</td></tr><tr><th>4</th><td>4</td><td>1</td><td>4</td></tr><tr><th>5</th><td>1</td><td>2</td><td>5</td></tr><tr><th>6</th><td>2</td><td>1</td><td>6</td></tr><tr><th>7</th><td>3</td><td>2</td><td>7</td></tr><tr><th>8</th><td>4</td><td>1</td><td>8</td></tr></tbody></table>"
      ],
      "text/latex": [
       "\\begin{tabular}{r|ccc}\n",
       "\t& a & b & c\\\\\n",
       "\t\\hline\n",
       "\t& Int64 & Int64 & Int64\\\\\n",
       "\t\\hline\n",
       "\t1 & 1 & 2 & 1 \\\\\n",
       "\t2 & 2 & 1 & 2 \\\\\n",
       "\t3 & 3 & 2 & 3 \\\\\n",
       "\t4 & 4 & 1 & 4 \\\\\n",
       "\t5 & 1 & 2 & 5 \\\\\n",
       "\t6 & 2 & 1 & 6 \\\\\n",
       "\t7 & 3 & 2 & 7 \\\\\n",
       "\t8 & 4 & 1 & 8 \\\\\n",
       "\\end{tabular}\n"
      ],
      "text/plain": [
       "8×3 DataFrame\n",
       "│ Row │ a     │ b     │ c     │\n",
       "│     │ \u001b[90mInt64\u001b[39m │ \u001b[90mInt64\u001b[39m │ \u001b[90mInt64\u001b[39m │\n",
       "├─────┼───────┼───────┼───────┤\n",
       "│ 1   │ 1     │ 2     │ 1     │\n",
       "│ 2   │ 2     │ 1     │ 2     │\n",
       "│ 3   │ 3     │ 2     │ 3     │\n",
       "│ 4   │ 4     │ 1     │ 4     │\n",
       "│ 5   │ 1     │ 2     │ 5     │\n",
       "│ 6   │ 2     │ 1     │ 6     │\n",
       "│ 7   │ 3     │ 2     │ 7     │\n",
       "│ 8   │ 4     │ 1     │ 8     │"
      ]
     },
     "execution_count": 7,
     "metadata": {},
     "output_type": "execute_result"
    }
   ],
   "source": [
    "using DataFrames\n",
    "df = DataFrame(a = repeat([1, 2, 3, 4], outer=[2]),\n",
    "                      b = repeat([2, 1], outer=[4]),\n",
    "                      c = 1:8)"
   ]
  },
  {
   "cell_type": "code",
   "execution_count": 8,
   "metadata": {},
   "outputs": [
    {
     "data": {
      "text/html": [
       "<table class=\"data-frame\"><thead><tr><th></th><th>a</th><th>b_sum</th><th>c_sum</th></tr><tr><th></th><th>Int64</th><th>Int64</th><th>Int64</th></tr></thead><tbody><p>4 rows × 3 columns</p><tr><th>1</th><td>1</td><td>4</td><td>6</td></tr><tr><th>2</th><td>2</td><td>2</td><td>8</td></tr><tr><th>3</th><td>3</td><td>4</td><td>10</td></tr><tr><th>4</th><td>4</td><td>2</td><td>12</td></tr></tbody></table>"
      ],
      "text/latex": [
       "\\begin{tabular}{r|ccc}\n",
       "\t& a & b\\_sum & c\\_sum\\\\\n",
       "\t\\hline\n",
       "\t& Int64 & Int64 & Int64\\\\\n",
       "\t\\hline\n",
       "\t1 & 1 & 4 & 6 \\\\\n",
       "\t2 & 2 & 2 & 8 \\\\\n",
       "\t3 & 3 & 4 & 10 \\\\\n",
       "\t4 & 4 & 2 & 12 \\\\\n",
       "\\end{tabular}\n"
      ],
      "text/plain": [
       "4×3 DataFrame\n",
       "│ Row │ a     │ b_sum │ c_sum │\n",
       "│     │ \u001b[90mInt64\u001b[39m │ \u001b[90mInt64\u001b[39m │ \u001b[90mInt64\u001b[39m │\n",
       "├─────┼───────┼───────┼───────┤\n",
       "│ 1   │ 1     │ 4     │ 6     │\n",
       "│ 2   │ 2     │ 2     │ 8     │\n",
       "│ 3   │ 3     │ 4     │ 10    │\n",
       "│ 4   │ 4     │ 2     │ 12    │"
      ]
     },
     "execution_count": 8,
     "metadata": {},
     "output_type": "execute_result"
    }
   ],
   "source": [
    "aggregate(df, :a, sum) # why"
   ]
  },
  {
   "cell_type": "code",
   "execution_count": null,
   "metadata": {},
   "outputs": [],
   "source": []
  }
 ],
 "metadata": {
  "kernelspec": {
   "display_name": "Julia 1.4.0",
   "language": "julia",
   "name": "julia-1.4"
  },
  "language_info": {
   "file_extension": ".jl",
   "mimetype": "application/julia",
   "name": "julia",
   "version": "1.4.0"
  }
 },
 "nbformat": 4,
 "nbformat_minor": 4
}
