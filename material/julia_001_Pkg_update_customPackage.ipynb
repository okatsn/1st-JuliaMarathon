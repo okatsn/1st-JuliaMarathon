{
 "cells": [
  {
   "cell_type": "markdown",
   "metadata": {
    "colab_type": "text",
    "id": "lRjH7kTOuAie"
   },
   "source": [
    "# Julia 安裝及簡介\n",
    "\n",
    "\n",
    "## 1. 查看 Julia 安裝版本及系統資訊\n",
    "\n",
    "呼叫 `versioninfo()` 互動式工具 (Interactive Utilities) 函式 (Function)\n",
    "\n",
    "確認 Julia, IJulia 環境安裝成功，並顯示 Julia 版本以及系統資訊"
   ]
  },
  {
   "cell_type": "code",
   "execution_count": null,
   "metadata": {
    "colab": {},
    "colab_type": "code",
    "id": "dev1xg2IuAim",
    "outputId": "db608f87-4488-4684-adeb-02975b6bd624"
   },
   "outputs": [
    {
     "name": "stdout",
     "output_type": "stream",
     "text": [
      "Julia Version 1.2.0\n",
      "Commit c6da87ff4b (2019-08-20 00:03 UTC)\n",
      "Platform Info:\n",
      "  OS: Windows (x86_64-w64-mingw32)\n",
      "  CPU: Intel(R) Core(TM) i7-8750H CPU @ 2.20GHz\n",
      "  WORD_SIZE: 64\n",
      "  LIBM: libopenlibm\n",
      "  LLVM: libLLVM-6.0.1 (ORCJIT, skylake)\n"
     ]
    }
   ],
   "source": [
    "versioninfo()"
   ]
  },
  {
   "cell_type": "markdown",
   "metadata": {
    "colab_type": "text",
    "id": "F0bcpyUWuAjE"
   },
   "source": [
    "## 2. Hello Julia\n",
    "\n",
    "第一個 Julia 程式：透過 `println` 函式，印出 Hello Julia 字串"
   ]
  },
  {
   "cell_type": "code",
   "execution_count": null,
   "metadata": {
    "colab": {},
    "colab_type": "code",
    "id": "N9QFB3z9uAjK",
    "outputId": "df22f8a3-5a62-48f4-c459-f3d83fc4af15"
   },
   "outputs": [
    {
     "name": "stdout",
     "output_type": "stream",
     "text": [
      "Hello Julia\n"
     ]
    }
   ],
   "source": [
    "println(\"Hello Julia\")"
   ]
  },
  {
   "cell_type": "markdown",
   "metadata": {
    "colab_type": "text",
    "id": "uFVzX7aXuAjh"
   },
   "source": [
    "## 3. 套件管理\n",
    "\n",
    "使用內建的套件管理 (Package Management) 工具，查看目前已安裝的套件及版本。\n",
    "\n",
    "- using `Pkg.status()` to see `...\\JuliaPro_v1.1.1.1\\environments\\v1.1\\Project.toml`\n",
    "    - `Project.toml` list all available \n",
    "    - under the same path, `Manifest.toml` shows all package available in this local machine.\n",
    "    - use both `Project.toml` and `Manifest.toml` that under `...\\JuliaPro_v1.1.1.1\\environments\\v1.1\\' to reconstruct the environment.\n",
    "    - for more information, see [深入淺出-julia-套件管理](https://medium.com/@jamescchuang/%E6%B7%B1%E5%85%A5%E6%B7%BA%E5%87%BA-julia-%E5%A5%97%E4%BB%B6%E7%AE%A1%E7%90%86-package-management-617b424d1d1d)\n",
    "- using `Pkg.installed()` (deprecated in v1.4) to list installed packages"
   ]
  },
  {
   "cell_type": "code",
   "execution_count": 1,
   "metadata": {
    "colab": {},
    "colab_type": "code",
    "id": "XbZwHdO3uAjn",
    "outputId": "8ff5c4be-46fe-4b40-90d9-64712b521ea7"
   },
   "outputs": [
    {
     "name": "stderr",
     "output_type": "stream",
     "text": [
      "┌ Warning: Pkg.installed() is deprecated\n",
      "└ @ Pkg D:\\buildbot\\worker\\package_win64\\build\\usr\\share\\julia\\stdlib\\v1.5\\Pkg\\src\\Pkg.jl:554\n"
     ]
    },
    {
     "data": {
      "text/plain": [
       "Dict{String,VersionNumber} with 3 entries:\n",
       "  \"Conda\"      => v\"1.4.1\"\n",
       "  \"IJulia\"     => v\"1.21.3\"\n",
       "  \"DataFrames\" => v\"0.21.6\""
      ]
     },
     "execution_count": 1,
     "metadata": {},
     "output_type": "execute_result"
    }
   ],
   "source": [
    "using Pkg\n",
    "Pkg.installed()"
   ]
  },
  {
   "cell_type": "code",
   "execution_count": 2,
   "metadata": {},
   "outputs": [
    {
     "name": "stdout",
     "output_type": "stream",
     "text": [
      "\u001b[32m\u001b[1mStatus\u001b[22m\u001b[39m `C:\\Users\\HSI\\.julia\\environments\\v1.5\\Project.toml`\n",
      " \u001b[90m [8f4d0f93] \u001b[39m\u001b[37mConda v1.4.1\u001b[39m\n",
      " \u001b[90m [a93c6f00] \u001b[39m\u001b[37mDataFrames v0.21.6\u001b[39m\n",
      " \u001b[90m [7073ff75] \u001b[39m\u001b[37mIJulia v1.21.3\u001b[39m\n",
      " \u001b[90m [ade2ca70] \u001b[39m\u001b[37mDates\u001b[39m\n"
     ]
    }
   ],
   "source": [
    "# or using\n",
    "Pkg.status()"
   ]
  },
  {
   "cell_type": "code",
   "execution_count": 2,
   "metadata": {},
   "outputs": [
    {
     "data": {
      "text/plain": [
       "v\"1.21.1\""
      ]
     },
     "execution_count": 2,
     "metadata": {},
     "output_type": "execute_result"
    }
   ],
   "source": [
    "# 目前安裝版本\n",
    "Pkg.installed()[\"IJulia\"]"
   ]
  },
  {
   "cell_type": "markdown",
   "metadata": {},
   "source": [
    "The source code of `Pkg.installed()`:"
   ]
  },
  {
   "cell_type": "code",
   "execution_count": 31,
   "metadata": {},
   "outputs": [
    {
     "name": "stderr",
     "output_type": "stream",
     "text": [
      "┌ Warning: Pkg.installed() is deprecated\n",
      "└ @ Main In[31]:1\n"
     ]
    },
    {
     "data": {
      "text/plain": [
       "Dict{String,VersionNumber} with 37 entries:\n",
       "  \"CSV\"               => v\"0.5.26\"\n",
       "  \"StatsModels\"       => v\"0.6.11\"\n",
       "  \"TimeZones\"         => v\"0.10.2\"\n",
       "  \"Fontconfig\"        => v\"0.4.0\"\n",
       "  \"SQLite\"            => v\"0.8.1\"\n",
       "  \"Atom\"              => v\"0.12.10\"\n",
       "  \"ZipFile\"           => v\"0.8.4\"\n",
       "  \"StatsPlots\"        => v\"0.14.6\"\n",
       "  \"Juno\"              => v\"0.8.1\"\n",
       "  \"MLDatasets\"        => v\"0.5.2\"\n",
       "  \"MLDataUtils\"       => v\"0.5.1\"\n",
       "  \"ScikitLearn\"       => v\"0.5.1\"\n",
       "  \"PyCall\"            => v\"1.91.4\"\n",
       "  \"JSON\"              => v\"0.21.0\"\n",
       "  \"StatsBase\"         => v\"0.32.2\"\n",
       "  \"Images\"            => v\"0.22.2\"\n",
       "  \"IJulia\"            => v\"1.21.1\"\n",
       "  \"CuArrays\"          => v\"2.2.0\"\n",
       "  \"Plots\"             => v\"1.0.9\"\n",
       "  \"CategoricalArrays\" => v\"0.7.7\"\n",
       "  \"ImageMagick\"       => v\"1.1.5\"\n",
       "  \"Colors\"            => v\"0.12.1\"\n",
       "  \"Flux\"              => v\"0.10.4\"\n",
       "  \"Clustering\"        => v\"0.14.0\"\n",
       "  \"RDatasets\"         => v\"0.6.7\"\n",
       "  ⋮                   => ⋮"
      ]
     },
     "execution_count": 31,
     "metadata": {},
     "output_type": "execute_result"
    }
   ],
   "source": [
    "@warn \"Pkg.installed() is deprecated\"\n",
    "deps = Pkg.dependencies()\n",
    "installs = Dict{String, VersionNumber}()\n",
    "for (uuid, dep) in deps\n",
    "    dep.is_direct_dep || continue\n",
    "    dep.version === nothing && continue\n",
    "    installs[dep.name] = dep.version\n",
    "end\n",
    "installs"
   ]
  },
  {
   "cell_type": "code",
   "execution_count": 43,
   "metadata": {},
   "outputs": [
    {
     "name": "stdout",
     "output_type": "stream",
     "text": [
      "CSV\n",
      "StatsModels\n",
      "TimeZones\n",
      "Fontconfig\n",
      "SQLite\n",
      "Atom\n",
      "ZipFile\n",
      "StatsPlots\n",
      "Juno\n",
      "MLDatasets\n",
      "MLDataUtils\n",
      "ScikitLearn\n",
      "PyCall\n",
      "JSON\n",
      "StatsBase\n",
      "Images\n",
      "IJulia\n",
      "CuArrays\n",
      "Plots\n",
      "CategoricalArrays\n",
      "ImageMagick\n",
      "Colors\n",
      "Flux\n",
      "Clustering\n",
      "RDatasets\n",
      "DecisionTree\n",
      "ODBC\n",
      "Distances\n",
      "Gadfly\n",
      "ImageIO\n",
      "Zygote\n",
      "Cairo\n",
      "ImageView\n",
      "DataFrames\n",
      "LIBSVM\n",
      "Requires\n",
      "GLM\n"
     ]
    }
   ],
   "source": [
    "k = collect(keys(installs))\n",
    "for name in k\n",
    "    println(name)\n",
    "end"
   ]
  },
  {
   "cell_type": "code",
   "execution_count": 40,
   "metadata": {},
   "outputs": [
    {
     "data": {
      "text/plain": [
       "Base.KeySet{String,Dict{String,VersionNumber}}"
      ]
     },
     "execution_count": 40,
     "metadata": {},
     "output_type": "execute_result"
    }
   ],
   "source": [
    "typeof(k)"
   ]
  },
  {
   "cell_type": "markdown",
   "metadata": {},
   "source": [
    "### 3.x Update\n",
    "A token is required in order to install (add) or update package from offical site.\n",
    "- If an error occurred, go to https://pkg.juliacomputing.com/, log in, and download a token to e.g. D:\\Users\\HSI\\.juliapro\\ as instructed. Then, do `Pkg.update()` again.\n"
   ]
  },
  {
   "cell_type": "code",
   "execution_count": 7,
   "metadata": {},
   "outputs": [
    {
     "name": "stdout",
     "output_type": "stream",
     "text": [
      "\u001b[32m\u001b[1m  Updating\u001b[22m\u001b[39m registry at `D:\\Users\\HSI\\.juliapro\\JuliaPro_v1.1.1.1\\registries\\JuliaPro`\n",
      "\u001b[32m\u001b[1m  Updating\u001b[22m\u001b[39m git-repo `https://pkg.juliacomputing.com//registry/JuliaPro`\n",
      "\u001b[?25l\u001b[2K\u001b[?25h\u001b[32m\u001b[1m Resolving\u001b[22m\u001b[39m package versions...\n",
      "\u001b[32m\u001b[1m  Updating\u001b[22m\u001b[39m `D:\\Users\\HSI\\.juliapro\\JuliaPro_v1.1.1.1\\environments\\v1.1\\Project.toml`\n",
      "\u001b[90m [no changes]\u001b[39m\n",
      "\u001b[32m\u001b[1m  Updating\u001b[22m\u001b[39m `D:\\Users\\HSI\\.juliapro\\JuliaPro_v1.1.1.1\\environments\\v1.1\\Manifest.toml`\n",
      "\u001b[90m [no changes]\u001b[39m\n"
     ]
    }
   ],
   "source": [
    "using Pkg\n",
    "Pkg.update()"
   ]
  },
  {
   "cell_type": "code",
   "execution_count": 3,
   "metadata": {},
   "outputs": [],
   "source": [
    "# Pkg.add(\"Conda\") \n",
    "# this is dangerous because you already use anaconda. IJulia crushed after Pkg.add(\"Conda\") at 2020/04/30 Desktop in Lab."
   ]
  },
  {
   "cell_type": "code",
   "execution_count": 4,
   "metadata": {
    "scrolled": true
   },
   "outputs": [
    {
     "name": "stdout",
     "output_type": "stream",
     "text": [
      "\u001b[32m\u001b[1m    Status\u001b[22m\u001b[39m `D:\\Users\\HSI\\.juliapro\\JuliaPro_v1.1.1.1\\environments\\v1.1\\Project.toml`\n",
      " \u001b[90m [c52e3926]\u001b[39m\u001b[37m Atom v0.12.10\u001b[39m\n",
      " \u001b[90m [8f4d0f93]\u001b[39m\u001b[37m Conda v1.4.1\u001b[39m\n",
      " \u001b[90m [7073ff75]\u001b[39m\u001b[37m IJulia v1.21.1\u001b[39m\n",
      " \u001b[90m [e5e0dc1b]\u001b[39m\u001b[37m Juno v0.8.1\u001b[39m\n"
     ]
    }
   ],
   "source": [
    "Pkg.status()"
   ]
  },
  {
   "cell_type": "markdown",
   "metadata": {
    "colab_type": "text",
    "id": "JGkXrvNHuAj5"
   },
   "source": [
    "## 安裝套件\n",
    "\n",
    "試著用 Pkg 安裝新的套件\n",
    "\n",
    "在這邊我們安裝 DataFrames 套件，會在之後的課程中用到"
   ]
  },
  {
   "cell_type": "code",
   "execution_count": 2,
   "metadata": {
    "colab": {},
    "colab_type": "code",
    "id": "Rsn65UPQuAj_",
    "outputId": "d31fcff5-8283-4c91-d05a-87580b87c11c"
   },
   "outputs": [
    {
     "name": "stderr",
     "output_type": "stream",
     "text": [
      "\u001b[32m\u001b[1m   Updating\u001b[22m\u001b[39m registry at `C:\\Users\\HSI\\.julia\\registries\\General`"
     ]
    },
    {
     "name": "stdout",
     "output_type": "stream",
     "text": [
      "\u001b[?25l"
     ]
    },
    {
     "name": "stderr",
     "output_type": "stream",
     "text": [
      "\n",
      "\u001b[32m\u001b[1m   Updating\u001b[22m\u001b[39m git-repo `https://github.com/JuliaRegistries/General.git`\n"
     ]
    },
    {
     "name": "stdout",
     "output_type": "stream",
     "text": [
      "\u001b[2K\u001b[?25h[1mFetching:\u001b[22m\u001b[39m [========================================>]  100.0 %"
     ]
    },
    {
     "name": "stderr",
     "output_type": "stream",
     "text": [
      "\u001b[32m\u001b[1m  Resolving\u001b[22m\u001b[39m package versions...\n",
      "\u001b[32m\u001b[1m  Installed\u001b[22m\u001b[39m SortingAlgorithms ─────────── v0.3.1\n",
      "\u001b[32m\u001b[1m  Installed\u001b[22m\u001b[39m DataValueInterfaces ───────── v1.0.0\n",
      "\u001b[32m\u001b[1m  Installed\u001b[22m\u001b[39m PooledArrays ──────────────── v0.5.3\n",
      "\u001b[32m\u001b[1m  Installed\u001b[22m\u001b[39m Missings ──────────────────── v0.4.3\n",
      "\u001b[32m\u001b[1m  Installed\u001b[22m\u001b[39m DataAPI ───────────────────── v1.1.0\n",
      "\u001b[32m\u001b[1m  Installed\u001b[22m\u001b[39m CategoricalArrays ─────────── v0.7.7\n",
      "\u001b[32m\u001b[1m  Installed\u001b[22m\u001b[39m DataStructures ────────────── v0.17.10\n",
      "\u001b[32m\u001b[1m  Installed\u001b[22m\u001b[39m DataFrames ────────────────── v0.20.2\n",
      "\u001b[32m\u001b[1m  Installed\u001b[22m\u001b[39m InvertedIndices ───────────── v1.0.0\n",
      "\u001b[32m\u001b[1m  Installed\u001b[22m\u001b[39m Reexport ──────────────────── v0.2.0\n",
      "\u001b[32m\u001b[1m  Installed\u001b[22m\u001b[39m IteratorInterfaceExtensions ─ v1.0.0\n",
      "\u001b[32m\u001b[1m  Installed\u001b[22m\u001b[39m Compat ────────────────────── v3.8.0\n",
      "\u001b[32m\u001b[1m  Installed\u001b[22m\u001b[39m OrderedCollections ────────── v1.1.0\n",
      "\u001b[32m\u001b[1m  Installed\u001b[22m\u001b[39m Tables ────────────────────── v1.0.3\n",
      "\u001b[32m\u001b[1m  Installed\u001b[22m\u001b[39m TableTraits ───────────────── v1.0.0\n",
      "\u001b[32m\u001b[1m   Updating\u001b[22m\u001b[39m `C:\\Users\\HSI\\.julia\\environments\\v1.4\\Project.toml`\n",
      " \u001b[90m [a93c6f00]\u001b[39m\u001b[92m + DataFrames v0.20.2\u001b[39m\n",
      "\u001b[32m\u001b[1m   Updating\u001b[22m\u001b[39m `C:\\Users\\HSI\\.julia\\environments\\v1.4\\Manifest.toml`\n",
      " \u001b[90m [324d7699]\u001b[39m\u001b[92m + CategoricalArrays v0.7.7\u001b[39m\n",
      " \u001b[90m [34da2185]\u001b[39m\u001b[92m + Compat v3.8.0\u001b[39m\n",
      " \u001b[90m [9a962f9c]\u001b[39m\u001b[92m + DataAPI v1.1.0\u001b[39m\n",
      " \u001b[90m [a93c6f00]\u001b[39m\u001b[92m + DataFrames v0.20.2\u001b[39m\n",
      " \u001b[90m [864edb3b]\u001b[39m\u001b[92m + DataStructures v0.17.10\u001b[39m\n",
      " \u001b[90m [e2d170a0]\u001b[39m\u001b[92m + DataValueInterfaces v1.0.0\u001b[39m\n",
      " \u001b[90m [41ab1584]\u001b[39m\u001b[92m + InvertedIndices v1.0.0\u001b[39m\n",
      " \u001b[90m [82899510]\u001b[39m\u001b[92m + IteratorInterfaceExtensions v1.0.0\u001b[39m\n",
      " \u001b[90m [e1d29d7a]\u001b[39m\u001b[92m + Missings v0.4.3\u001b[39m\n",
      " \u001b[90m [bac558e1]\u001b[39m\u001b[92m + OrderedCollections v1.1.0\u001b[39m\n",
      " \u001b[90m [2dfb63ee]\u001b[39m\u001b[92m + PooledArrays v0.5.3\u001b[39m\n",
      " \u001b[90m [189a3867]\u001b[39m\u001b[92m + Reexport v0.2.0\u001b[39m\n",
      " \u001b[90m [a2af1166]\u001b[39m\u001b[92m + SortingAlgorithms v0.3.1\u001b[39m\n",
      " \u001b[90m [3783bdb8]\u001b[39m\u001b[92m + TableTraits v1.0.0\u001b[39m\n",
      " \u001b[90m [bd369af6]\u001b[39m\u001b[92m + Tables v1.0.3\u001b[39m\n",
      " \u001b[90m [8bb1440f]\u001b[39m\u001b[92m + DelimitedFiles \u001b[39m\n",
      " \u001b[90m [9fa8497b]\u001b[39m\u001b[92m + Future \u001b[39m\n",
      " \u001b[90m [37e2e46d]\u001b[39m\u001b[92m + LinearAlgebra \u001b[39m\n",
      " \u001b[90m [1a1011a3]\u001b[39m\u001b[92m + SharedArrays \u001b[39m\n",
      " \u001b[90m [2f01184e]\u001b[39m\u001b[92m + SparseArrays \u001b[39m\n",
      " \u001b[90m [10745b16]\u001b[39m\u001b[92m + Statistics \u001b[39m\n"
     ]
    }
   ],
   "source": [
    "Pkg.add(\"DataFrames\")"
   ]
  },
  {
   "cell_type": "markdown",
   "metadata": {
    "colab_type": "text",
    "id": "8iWdb2JLuAkN"
   },
   "source": [
    "## 移除套件"
   ]
  },
  {
   "cell_type": "code",
   "execution_count": null,
   "metadata": {
    "colab": {},
    "colab_type": "code",
    "id": "yWTGGI6yuAkS",
    "outputId": "304da5d4-be6f-4dab-f50c-c0a13d0afa5d"
   },
   "outputs": [
    {
     "name": "stdout",
     "output_type": "stream",
     "text": [
      "\u001b[32m\u001b[1m  Updating\u001b[22m\u001b[39m `C:\\Users\\james\\.julia\\environments\\v1.2\\Project.toml`\n",
      " \u001b[90m [a93c6f00]\u001b[39m\u001b[91m - DataFrames v0.20.2\u001b[39m\n",
      "\u001b[32m\u001b[1m  Updating\u001b[22m\u001b[39m `C:\\Users\\james\\.julia\\environments\\v1.2\\Manifest.toml`\n",
      " \u001b[90m [324d7699]\u001b[39m\u001b[91m - CategoricalArrays v0.7.7\u001b[39m\n",
      " \u001b[90m [34da2185]\u001b[39m\u001b[91m - Compat v3.8.0\u001b[39m\n",
      " \u001b[90m [9a962f9c]\u001b[39m\u001b[91m - DataAPI v1.1.0\u001b[39m\n",
      " \u001b[90m [a93c6f00]\u001b[39m\u001b[91m - DataFrames v0.20.2\u001b[39m\n",
      " \u001b[90m [864edb3b]\u001b[39m\u001b[91m - DataStructures v0.17.10\u001b[39m\n",
      " \u001b[90m [e2d170a0]\u001b[39m\u001b[91m - DataValueInterfaces v1.0.0\u001b[39m\n",
      " \u001b[90m [41ab1584]\u001b[39m\u001b[91m - InvertedIndices v1.0.0\u001b[39m\n",
      " \u001b[90m [82899510]\u001b[39m\u001b[91m - IteratorInterfaceExtensions v1.0.0\u001b[39m\n",
      " \u001b[90m [e1d29d7a]\u001b[39m\u001b[91m - Missings v0.4.3\u001b[39m\n",
      " \u001b[90m [bac558e1]\u001b[39m\u001b[91m - OrderedCollections v1.1.0\u001b[39m\n",
      " \u001b[90m [2dfb63ee]\u001b[39m\u001b[91m - PooledArrays v0.5.3\u001b[39m\n",
      " \u001b[90m [189a3867]\u001b[39m\u001b[91m - Reexport v0.2.0\u001b[39m\n",
      " \u001b[90m [a2af1166]\u001b[39m\u001b[91m - SortingAlgorithms v0.3.1\u001b[39m\n",
      " \u001b[90m [3783bdb8]\u001b[39m\u001b[91m - TableTraits v1.0.0\u001b[39m\n",
      " \u001b[90m [bd369af6]\u001b[39m\u001b[91m - Tables v1.0.3\u001b[39m\n",
      " \u001b[90m [8bb1440f]\u001b[39m\u001b[91m - DelimitedFiles \u001b[39m\n",
      " \u001b[90m [9fa8497b]\u001b[39m\u001b[91m - Future \u001b[39m\n",
      " \u001b[90m [37e2e46d]\u001b[39m\u001b[91m - LinearAlgebra \u001b[39m\n",
      " \u001b[90m [1a1011a3]\u001b[39m\u001b[91m - SharedArrays \u001b[39m\n",
      " \u001b[90m [2f01184e]\u001b[39m\u001b[91m - SparseArrays \u001b[39m\n",
      " \u001b[90m [10745b16]\u001b[39m\u001b[91m - Statistics \u001b[39m\n"
     ]
    }
   ],
   "source": [
    "Pkg.rm(\"DataFrames\")"
   ]
  },
  {
   "cell_type": "code",
   "execution_count": null,
   "metadata": {},
   "outputs": [],
   "source": [
    "Pkg.gc() # remove artifacts. Manually delete the files or remove_artifact() is strongly not recommened."
   ]
  },
  {
   "cell_type": "markdown",
   "metadata": {
    "colab_type": "text",
    "id": "YG0HB_WIuAkp"
   },
   "source": [
    "## 4. 內建函式 include\n",
    "\n",
    "透過 include 來執行 (或包含) 既有的 Julia 程式\n",
    "\n",
    "在 \"hello_julia.jl\" 程式裡面，程式內容是列印字串\n",
    "```julia\n",
    "println(\"Hello Julia\")\n",
    "```\n",
    "\n",
    "[\"It’s best to think of include as copy-pasting source code into the location from which include is called.\"](https://discourse.julialang.org/t/how-to-organise-files-and-modules/4842)"
   ]
  },
  {
   "cell_type": "code",
   "execution_count": 3,
   "metadata": {
    "colab": {},
    "colab_type": "code",
    "id": "MMm-o_UFuAkt",
    "outputId": "33d1d6bf-e8a4-48ea-b439-5a10a3b1e17f"
   },
   "outputs": [
    {
     "name": "stdout",
     "output_type": "stream",
     "text": [
      "hello julia\n"
     ]
    }
   ],
   "source": [
    "include(\"hello_julia.jl\")"
   ]
  },
  {
   "cell_type": "code",
   "execution_count": 10,
   "metadata": {
    "colab": {},
    "colab_type": "code",
    "id": "_mA1txXbD3zG"
   },
   "outputs": [
    {
     "ename": "LoadError",
     "evalue": "syntax: extra token \"hello_julia\" after end of expression",
     "output_type": "error",
     "traceback": [
      "syntax: extra token \"hello_julia\" after end of expression",
      ""
     ]
    }
   ],
   "source": [
    "julia hello_julia"
   ]
  },
  {
   "cell_type": "code",
   "execution_count": 7,
   "metadata": {},
   "outputs": [
    {
     "data": {
      "text/plain": [
       "\"D:\\\\GoogleDrive\\\\1MyResearch\\\\GitHub_Desktop\\\\1st-JuliaMarathon\\\\material\""
      ]
     },
     "execution_count": 7,
     "metadata": {},
     "output_type": "execute_result"
    }
   ],
   "source": [
    "pwd()"
   ]
  },
  {
   "cell_type": "markdown",
   "metadata": {},
   "source": [
    "## Create your own package"
   ]
  },
  {
   "cell_type": "markdown",
   "metadata": {},
   "source": [
    "### using template\n",
    "**warning**: using `PkgTemplates.Template` is recommended by official document (rather than `Pkg.generate` and `Pkg.activate`); however, `PkgTemplates.Template` automatically create git repository that causes conflicts when I want to create my own git repository and submit it to my github account."
   ]
  },
  {
   "cell_type": "code",
   "execution_count": 1,
   "metadata": {},
   "outputs": [],
   "source": [
    "using PkgTemplates\n",
    "using Pkg"
   ]
  },
  {
   "cell_type": "code",
   "execution_count": 9,
   "metadata": {},
   "outputs": [
    {
     "name": "stderr",
     "output_type": "stream",
     "text": [
      "┌ Info: Running prehooks\n",
      "└ @ PkgTemplates C:\\Users\\HSI\\.julia\\packages\\PkgTemplates\\xrOu5\\src\\template.jl:130\n",
      "┌ Info: Running hooks\n",
      "└ @ PkgTemplates C:\\Users\\HSI\\.julia\\packages\\PkgTemplates\\xrOu5\\src\\template.jl:130\n",
      "\u001b[32m\u001b[1m Activating\u001b[22m\u001b[39m environment at `D:\\GoogleDrive\\1Programming\\julia\\MyTools\\Project.toml`\n",
      "\u001b[32m\u001b[1m   Updating\u001b[22m\u001b[39m registry at `C:\\Users\\HSI\\.julia\\registries\\General`\n"
     ]
    },
    {
     "name": "stdout",
     "output_type": "stream",
     "text": [
      "\u001b[?25l"
     ]
    },
    {
     "name": "stderr",
     "output_type": "stream",
     "text": [
      "\u001b[32m\u001b[1m   Updating\u001b[22m\u001b[39m git-repo `https://github.com/JuliaRegistries/General.git`\n"
     ]
    },
    {
     "name": "stdout",
     "output_type": "stream",
     "text": [
      "\u001b[2K\u001b[?25h[1mFetching:\u001b[22m\u001b[39m [========================================>]  100.0 %"
     ]
    },
    {
     "name": "stderr",
     "output_type": "stream",
     "text": [
      "\u001b[32m\u001b[1m   Updating\u001b[22m\u001b[39m `D:\\GoogleDrive\\1Programming\\julia\\MyTools\\Project.toml`\n",
      "\u001b[90m [no changes]\u001b[39m\n",
      "\u001b[32m\u001b[1m   Updating\u001b[22m\u001b[39m `D:\\GoogleDrive\\1Programming\\julia\\MyTools\\Manifest.toml`\n",
      "\u001b[90m [no changes]\u001b[39m\n",
      "\u001b[32m\u001b[1m Activating\u001b[22m\u001b[39m environment at `D:\\GoogleDrive\\1Programming\\julia\\MyTools\\Project.toml`\n",
      "┌ Info: Running posthooks\n",
      "└ @ PkgTemplates C:\\Users\\HSI\\.julia\\packages\\PkgTemplates\\xrOu5\\src\\template.jl:130\n",
      "┌ Info: New package is at D:\\GoogleDrive\\1Programming\\julia\\MyTools\n",
      "└ @ PkgTemplates C:\\Users\\HSI\\.julia\\packages\\PkgTemplates\\xrOu5\\src\\template.jl:140\n"
     ]
    }
   ],
   "source": [
    "t12 = Template(;\n",
    "    user=\"okatsn\", \n",
    "    host = \"github.com\\\\okatsn\",\n",
    "    dir = \"D:\\\\GoogleDrive\\\\1Programming\\\\julia\",\n",
    "    plugins = [\n",
    "    Git(;\n",
    "        # ignore=String[], #  Patterns to add to the .gitignore\n",
    "        name=\"okatsn\", # Your real name, if you have not set user.name with Git.\n",
    "        email=\"okatsn@gmail.com\", # Your email address, if you have not set user.email with Git.\n",
    "        # ssh=false, # Whether or not to use SSH for the remote. If left unset, HTTPS is used.\n",
    "        # jl=true, # Whether or not to add a .jl suffix to the remote URL.\n",
    "        # manifest=true, # Whether or not to commit Manifest.toml.\n",
    "        # gpgsign=false, # Whether or not to sign commits with your GPG key. This option requires that the Git CLI is installed, and for you to have a GPG key associated with your committer identity\n",
    "        )\n",
    "    ]\n",
    ")\n",
    "t12(\"MyTools\"); # generate"
   ]
  },
  {
   "cell_type": "code",
   "execution_count": 4,
   "metadata": {},
   "outputs": [
    {
     "name": "stderr",
     "output_type": "stream",
     "text": [
      "\u001b[32m\u001b[1m Activating\u001b[22m\u001b[39m environment at `D:\\GoogleDrive\\1Programming\\julia\\MyTools\\Project.toml`\n"
     ]
    }
   ],
   "source": [
    "Pkg.activate(\"D:\\\\GoogleDrive\\\\1Programming\\\\julia\\\\MyTools\")"
   ]
  },
  {
   "cell_type": "code",
   "execution_count": 6,
   "metadata": {},
   "outputs": [
    {
     "name": "stderr",
     "output_type": "stream",
     "text": [
      "┌ Info: Precompiling MyTools [7dfe14ee-dfb7-4847-a5ac-9b8c855d490b]\n",
      "└ @ Base loading.jl:1260\n"
     ]
    }
   ],
   "source": [
    "using MyTools"
   ]
  },
  {
   "cell_type": "markdown",
   "metadata": {},
   "source": [
    "Now you can use the functions in `MyTools\\src`.\n",
    "\n",
    "note that functions have to be included in `MyTools.jl`. E.g.:\n",
    "\n",
    "```julia\n",
    "module BaseHSI\n",
    " include(\"test_add.jl\")\n",
    "end\n",
    "```\n",
    "\n",
    "where in `test_add.jl`:\n",
    "```julia\n",
    "function test_add(a,b)\n",
    "    a + b;\n",
    "end\n",
    "```\n",
    "and hence we can:\n",
    "`MyPkg4.test_add(2,3)` that will return 5."
   ]
  },
  {
   "cell_type": "markdown",
   "metadata": {},
   "source": [
    "### The minimal way\n",
    "- in this way, git repository will not be automatically created."
   ]
  },
  {
   "cell_type": "code",
   "execution_count": 17,
   "metadata": {},
   "outputs": [
    {
     "name": "stderr",
     "output_type": "stream",
     "text": [
      "\u001b[32m\u001b[1m Generating\u001b[22m\u001b[39m  project MyToolBox:\n",
      "    D:\\GoogleDrive\\1Programming\\julia\\MyToolBox\\Project.toml\n",
      "    D:\\GoogleDrive\\1Programming\\julia\\MyToolBox\\src/MyToolBox.jl\n"
     ]
    },
    {
     "data": {
      "text/plain": [
       "Dict{String,Base.UUID} with 1 entry:\n",
       "  \"MyToolBox\" => UUID(\"875cf155-d595-4b15-bf89-2801d5c36c38\")"
      ]
     },
     "execution_count": 17,
     "metadata": {},
     "output_type": "execute_result"
    }
   ],
   "source": [
    "using Pkg\n",
    "Pkg.generate(\"D:\\\\GoogleDrive\\\\1Programming\\\\julia\\\\MyToolBox\")"
   ]
  },
  {
   "cell_type": "code",
   "execution_count": 18,
   "metadata": {},
   "outputs": [
    {
     "name": "stderr",
     "output_type": "stream",
     "text": [
      "\u001b[32m\u001b[1m Activating\u001b[22m\u001b[39m environment at `D:\\GoogleDrive\\1Programming\\julia\\MyToolBox\\Project.toml`\n"
     ]
    }
   ],
   "source": [
    "Pkg.activate(\"D:\\\\GoogleDrive\\\\1Programming\\\\julia\\\\MyToolBox\")"
   ]
  },
  {
   "cell_type": "code",
   "execution_count": 19,
   "metadata": {},
   "outputs": [
    {
     "name": "stderr",
     "output_type": "stream",
     "text": [
      "┌ Info: Precompiling MyToolBox [875cf155-d595-4b15-bf89-2801d5c36c38]\n",
      "└ @ Base loading.jl:1260\n"
     ]
    }
   ],
   "source": [
    "using MyToolBox"
   ]
  },
  {
   "cell_type": "markdown",
   "metadata": {},
   "source": [
    "## Good way to structure your functions\n",
    "If your project gets really big, then you make folders for related files, and files of related functions. I like to then have the module essentially do this: using packages at the top, deprecation warnings next, include the files for the functions, and then put everything that you’re exporting at the bottom. That way the module gives you an “at a glance” take on your whole package.\n",
    "\n",
    "Don’t forget tests. Start by writing them all in one file, but after awhile break them up by topic and just include them (not that you can put an `@testset on an included file:\n",
    "\n",
    "@testset begin include(\"test_this_functionality.jl\") end\n",
    "\n",
    "and then all of the @test in one file is a single testset.\n",
    "\n",
    "I find that this structure scales really nicely.\n",
    "\n",
    "[Source](https://discourse.julialang.org/t/where-do-i-put-my-functions/328/3)\n",
    "\n",
    "[Unit Test brief instruction](https://ithelp.ithome.com.tw/articles/10204464)"
   ]
  },
  {
   "cell_type": "markdown",
   "metadata": {},
   "source": [
    "## My list of package installation/upgrade"
   ]
  },
  {
   "cell_type": "code",
   "execution_count": 2,
   "metadata": {},
   "outputs": [],
   "source": [
    "using Pkg"
   ]
  },
  {
   "cell_type": "markdown",
   "metadata": {},
   "source": [
    "#### Almost Reqired"
   ]
  },
  {
   "cell_type": "code",
   "execution_count": 4,
   "metadata": {},
   "outputs": [
    {
     "name": "stderr",
     "output_type": "stream",
     "text": [
      "\u001b[32m\u001b[1m  Resolving\u001b[22m\u001b[39m package versions...\n",
      "\u001b[32m\u001b[1mNo Changes\u001b[22m\u001b[39m to `C:\\Users\\HSI\\.julia\\environments\\v1.5\\Project.toml`\n",
      "\u001b[32m\u001b[1mNo Changes\u001b[22m\u001b[39m to `C:\\Users\\HSI\\.julia\\environments\\v1.5\\Manifest.toml`\n"
     ]
    }
   ],
   "source": [
    "Pkg.add([\"CSV\",\"DataFrames\",\"Plots\",\"Dates\"])"
   ]
  },
  {
   "cell_type": "markdown",
   "metadata": {},
   "source": [
    "#### Good Tools"
   ]
  },
  {
   "cell_type": "code",
   "execution_count": 5,
   "metadata": {},
   "outputs": [
    {
     "name": "stderr",
     "output_type": "stream",
     "text": [
      "\u001b[32m\u001b[1m  Resolving\u001b[22m\u001b[39m package versions...\n",
      "\u001b[32m\u001b[1mUpdating\u001b[22m\u001b[39m `C:\\Users\\HSI\\.julia\\environments\\v1.5\\Project.toml`\n",
      " \u001b[90m [7f904dfe] \u001b[39m\u001b[92m+ PlutoUI v0.6.1\u001b[39m\n",
      "\u001b[32m\u001b[1mUpdating\u001b[22m\u001b[39m `C:\\Users\\HSI\\.julia\\environments\\v1.5\\Manifest.toml`\n",
      " \u001b[90m [7f904dfe] \u001b[39m\u001b[92m+ PlutoUI v0.6.1\u001b[39m\n"
     ]
    }
   ],
   "source": [
    "Pkg.add([\"PlutoUI\",\"Pluto\"])"
   ]
  },
  {
   "cell_type": "code",
   "execution_count": 7,
   "metadata": {},
   "outputs": [
    {
     "name": "stdout",
     "output_type": "stream",
     "text": [
      "\u001b[32m\u001b[1mStatus\u001b[22m\u001b[39m `C:\\Users\\HSI\\.julia\\environments\\v1.5\\Project.toml`\n",
      " \u001b[90m [336ed68f] \u001b[39m\u001b[37mCSV v0.7.7\u001b[39m\n",
      " \u001b[90m [8f4d0f93] \u001b[39m\u001b[37mConda v1.4.1\u001b[39m\n",
      " \u001b[90m [a93c6f00] \u001b[39m\u001b[37mDataFrames v0.21.6\u001b[39m\n",
      " \u001b[90m [7073ff75] \u001b[39m\u001b[37mIJulia v1.21.3\u001b[39m\n",
      " \u001b[90m [ade2ca70] \u001b[39m\u001b[37mDates\u001b[39m\n"
     ]
    }
   ],
   "source": [
    "Pkg.status()"
   ]
  },
  {
   "cell_type": "code",
   "execution_count": null,
   "metadata": {},
   "outputs": [],
   "source": []
  }
 ],
 "metadata": {
  "@webio": {
   "lastCommId": null,
   "lastKernelId": null
  },
  "colab": {
   "name": "julia_001_example.ipynb",
   "provenance": []
  },
  "kernelspec": {
   "display_name": "Julia 1.5.0",
   "language": "julia",
   "name": "julia-1.5"
  },
  "language_info": {
   "file_extension": ".jl",
   "mimetype": "application/julia",
   "name": "julia",
   "version": "1.5.0"
  }
 },
 "nbformat": 4,
 "nbformat_minor": 4
}
