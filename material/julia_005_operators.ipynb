{
 "cells": [
  {
   "cell_type": "markdown",
   "metadata": {},
   "source": [
    "# Julia 變數 (Variables)、常數 (Constants) 與內建數學常數、與運算"
   ]
  },
  {
   "cell_type": "markdown",
   "metadata": {},
   "source": [
    "## 1. 變數\n",
    "\n",
    "變數的宣告和指定變數值"
   ]
  },
  {
   "cell_type": "code",
   "execution_count": 2,
   "metadata": {},
   "outputs": [
    {
     "data": {
      "text/plain": [
       "10"
      ]
     },
     "execution_count": 2,
     "metadata": {},
     "output_type": "execute_result"
    }
   ],
   "source": [
    "x = 10"
   ]
  },
  {
   "cell_type": "markdown",
   "metadata": {},
   "source": [
    "也可以宣告字串變數，字串會在後續的內容中詳細介紹。"
   ]
  },
  {
   "cell_type": "code",
   "execution_count": 3,
   "metadata": {},
   "outputs": [
    {
     "data": {
      "text/plain": [
       "\"Hello Julia\""
      ]
     },
     "execution_count": 3,
     "metadata": {},
     "output_type": "execute_result"
    }
   ],
   "source": [
    "s = \"Hello Julia\""
   ]
  },
  {
   "cell_type": "markdown",
   "metadata": {},
   "source": [
    "宣告 x 和 y，並將值均指定為 3。"
   ]
  },
  {
   "cell_type": "code",
   "execution_count": 4,
   "metadata": {},
   "outputs": [
    {
     "data": {
      "text/plain": [
       "3"
      ]
     },
     "execution_count": 4,
     "metadata": {},
     "output_type": "execute_result"
    }
   ],
   "source": [
    "x = y = 3"
   ]
  },
  {
   "cell_type": "markdown",
   "metadata": {},
   "source": [
    "Unicode 字元做為變數名稱，以 θ 宇元為例，輸入的方法是：\\theta[tab]，就可以轉變為 Unicode 字元。"
   ]
  },
  {
   "cell_type": "code",
   "execution_count": 5,
   "metadata": {},
   "outputs": [
    {
     "data": {
      "text/plain": [
       "2"
      ]
     },
     "execution_count": 5,
     "metadata": {},
     "output_type": "execute_result"
    }
   ],
   "source": [
    "θ = 2"
   ]
  },
  {
   "cell_type": "markdown",
   "metadata": {},
   "source": [
    "## 2. 常數"
   ]
  },
  {
   "cell_type": "code",
   "execution_count": 6,
   "metadata": {},
   "outputs": [
    {
     "data": {
      "text/plain": [
       "10"
      ]
     },
     "execution_count": 6,
     "metadata": {},
     "output_type": "execute_result"
    }
   ],
   "source": [
    "const z = 10"
   ]
  },
  {
   "cell_type": "markdown",
   "metadata": {},
   "source": [
    "**(!) 下例要注意的地方是，m 會是常數，而 n 不是。**"
   ]
  },
  {
   "cell_type": "code",
   "execution_count": 7,
   "metadata": {},
   "outputs": [
    {
     "data": {
      "text/plain": [
       "3"
      ]
     },
     "execution_count": 7,
     "metadata": {},
     "output_type": "execute_result"
    }
   ],
   "source": [
    "const m = n = 3"
   ]
  },
  {
   "cell_type": "markdown",
   "metadata": {},
   "source": [
    "在 Julia 中，常數的值是可以改變的，但是會有 WARNING 訊息。"
   ]
  },
  {
   "cell_type": "code",
   "execution_count": 8,
   "metadata": {},
   "outputs": [
    {
     "name": "stderr",
     "output_type": "stream",
     "text": [
      "WARNING: redefining constant m\n"
     ]
    },
    {
     "data": {
      "text/plain": [
       "2"
      ]
     },
     "execution_count": 8,
     "metadata": {},
     "output_type": "execute_result"
    }
   ],
   "source": [
    "m = 2"
   ]
  },
  {
   "cell_type": "markdown",
   "metadata": {},
   "source": [
    "**(!) 若用已存在的變數名稱來宣告常數，會產生 error。**"
   ]
  },
  {
   "cell_type": "code",
   "execution_count": 9,
   "metadata": {},
   "outputs": [
    {
     "ename": "ErrorException",
     "evalue": "cannot declare x constant; it already has a value",
     "output_type": "error",
     "traceback": [
      "cannot declare x constant; it already has a value",
      "",
      "Stacktrace:",
      " [1] top-level scope at In[9]:1"
     ]
    }
   ],
   "source": [
    "const x = 3"
   ]
  },
  {
   "cell_type": "markdown",
   "metadata": {},
   "source": [
    "declaring constant fixes the type"
   ]
  },
  {
   "cell_type": "code",
   "execution_count": 12,
   "metadata": {},
   "outputs": [
    {
     "data": {
      "text/plain": [
       "Int64"
      ]
     },
     "execution_count": 12,
     "metadata": {},
     "output_type": "execute_result"
    }
   ],
   "source": [
    "const x1 = 1\n",
    "typeof(x1)"
   ]
  },
  {
   "cell_type": "code",
   "execution_count": 13,
   "metadata": {},
   "outputs": [
    {
     "ename": "ErrorException",
     "evalue": "invalid redefinition of constant x1",
     "output_type": "error",
     "traceback": [
      "invalid redefinition of constant x1",
      "",
      "Stacktrace:",
      " [1] top-level scope at In[13]:1"
     ]
    }
   ],
   "source": [
    "x1 = 2.7"
   ]
  },
  {
   "cell_type": "markdown",
   "metadata": {},
   "source": [
    "> 1. constant seems to be **global** and performance will be improved. (check required)"
   ]
  },
  {
   "cell_type": "markdown",
   "metadata": {},
   "source": [
    "### 內建數學常數\n",
    "\n",
    "Julia 內建許多數學常數，部分常數也可以透過 Unicode 字元數學符號來使用。\n",
    "\n",
    "#### 圓周率 $\\pi$"
   ]
  },
  {
   "cell_type": "code",
   "execution_count": 14,
   "metadata": {},
   "outputs": [
    {
     "data": {
      "text/plain": [
       "π = 3.1415926535897..."
      ]
     },
     "execution_count": 14,
     "metadata": {},
     "output_type": "execute_result"
    }
   ],
   "source": [
    "Base.MathConstants.pi"
   ]
  },
  {
   "cell_type": "markdown",
   "metadata": {},
   "source": [
    "或是輸入 \\pi[tab]"
   ]
  },
  {
   "cell_type": "code",
   "execution_count": 15,
   "metadata": {},
   "outputs": [
    {
     "data": {
      "text/plain": [
       "π = 3.1415926535897..."
      ]
     },
     "execution_count": 15,
     "metadata": {},
     "output_type": "execute_result"
    }
   ],
   "source": [
    "π"
   ]
  },
  {
   "cell_type": "markdown",
   "metadata": {},
   "source": [
    "或是直接用 pi"
   ]
  },
  {
   "cell_type": "code",
   "execution_count": 16,
   "metadata": {},
   "outputs": [
    {
     "data": {
      "text/plain": [
       "π = 3.1415926535897..."
      ]
     },
     "execution_count": 16,
     "metadata": {},
     "output_type": "execute_result"
    }
   ],
   "source": [
    "pi"
   ]
  },
  {
   "cell_type": "markdown",
   "metadata": {},
   "source": [
    "#### 歐拉數 (Euler's number)"
   ]
  },
  {
   "cell_type": "code",
   "execution_count": 17,
   "metadata": {},
   "outputs": [
    {
     "data": {
      "text/plain": [
       "ℯ = 2.7182818284590..."
      ]
     },
     "execution_count": 17,
     "metadata": {},
     "output_type": "execute_result"
    }
   ],
   "source": [
    "Base.MathConstants.e"
   ]
  },
  {
   "cell_type": "markdown",
   "metadata": {},
   "source": [
    "或是輸入 \\euler[tab]"
   ]
  },
  {
   "cell_type": "code",
   "execution_count": 18,
   "metadata": {},
   "outputs": [
    {
     "data": {
      "text/plain": [
       "ℯ = 2.7182818284590..."
      ]
     },
     "execution_count": 18,
     "metadata": {},
     "output_type": "execute_result"
    }
   ],
   "source": [
    "ℯ"
   ]
  },
  {
   "cell_type": "markdown",
   "metadata": {},
   "source": [
    "#### 卡塔蘭常數"
   ]
  },
  {
   "cell_type": "code",
   "execution_count": 19,
   "metadata": {},
   "outputs": [
    {
     "data": {
      "text/plain": [
       "catalan = 0.9159655941772..."
      ]
     },
     "execution_count": 19,
     "metadata": {},
     "output_type": "execute_result"
    }
   ],
   "source": [
    "Base.MathConstants.catalan"
   ]
  },
  {
   "cell_type": "markdown",
   "metadata": {},
   "source": [
    "#### 歐拉常數（Euler-Mascheroni constant)"
   ]
  },
  {
   "cell_type": "code",
   "execution_count": 20,
   "metadata": {},
   "outputs": [
    {
     "data": {
      "text/plain": [
       "γ = 0.5772156649015..."
      ]
     },
     "execution_count": 20,
     "metadata": {},
     "output_type": "execute_result"
    }
   ],
   "source": [
    "Base.MathConstants.eulergamma"
   ]
  },
  {
   "cell_type": "markdown",
   "metadata": {},
   "source": [
    "#### 黃金比例"
   ]
  },
  {
   "cell_type": "code",
   "execution_count": 21,
   "metadata": {},
   "outputs": [
    {
     "data": {
      "text/plain": [
       "φ = 1.6180339887498..."
      ]
     },
     "execution_count": 21,
     "metadata": {},
     "output_type": "execute_result"
    }
   ],
   "source": [
    "Base.MathConstants.golden"
   ]
  },
  {
   "cell_type": "markdown",
   "metadata": {},
   "source": [
    "## 3. 運算"
   ]
  },
  {
   "cell_type": "markdown",
   "metadata": {},
   "source": [
    "### 3.1 運算子\n",
    "\n",
    "常用運算子可分為下列幾種類型：\n",
    "- 算術運算子\n",
    "- 位元運算子\n",
    "- 指定/更新運算子\n",
    "- 比較運算子\n",
    "- 點運算\n",
    "\n",
    "詳細的運算子請參考文件及投影片說明。\n",
    "\n",
    "Julia 運算子就是函式，例如加法。"
   ]
  },
  {
   "cell_type": "code",
   "execution_count": 1,
   "metadata": {},
   "outputs": [
    {
     "data": {
      "text/plain": [
       "3"
      ]
     },
     "execution_count": 1,
     "metadata": {},
     "output_type": "execute_result"
    }
   ],
   "source": [
    "a = 1\n",
    "b = 2\n",
    "\n",
    "a + b"
   ]
  },
  {
   "cell_type": "markdown",
   "metadata": {},
   "source": [
    "也可以用函式方式來進行加法。"
   ]
  },
  {
   "cell_type": "code",
   "execution_count": 23,
   "metadata": {},
   "outputs": [
    {
     "data": {
      "text/plain": [
       "3"
      ]
     },
     "execution_count": 23,
     "metadata": {},
     "output_type": "execute_result"
    }
   ],
   "source": [
    "+(a, b)"
   ]
  },
  {
   "cell_type": "markdown",
   "metadata": {},
   "source": [
    "同樣的，部分運算子也可以用相對應的 Unicode 字元來做運算。例如相除取整數，輸入 \\div[tab]。"
   ]
  },
  {
   "cell_type": "code",
   "execution_count": 24,
   "metadata": {},
   "outputs": [
    {
     "data": {
      "text/plain": [
       "0"
      ]
     },
     "execution_count": 24,
     "metadata": {},
     "output_type": "execute_result"
    }
   ],
   "source": [
    "a ÷ b"
   ]
  },
  {
   "cell_type": "markdown",
   "metadata": {},
   "source": [
    "或是"
   ]
  },
  {
   "cell_type": "code",
   "execution_count": null,
   "metadata": {},
   "outputs": [],
   "source": [
    "÷(a, b)"
   ]
  },
  {
   "cell_type": "markdown",
   "metadata": {},
   "source": [
    "或是也可以使用 `div()` 函式。"
   ]
  },
  {
   "cell_type": "code",
   "execution_count": null,
   "metadata": {},
   "outputs": [],
   "source": [
    "div(a, b)"
   ]
  },
  {
   "cell_type": "markdown",
   "metadata": {},
   "source": [
    "÷ seems to be python's 'floor division'"
   ]
  },
  {
   "cell_type": "code",
   "execution_count": 28,
   "metadata": {},
   "outputs": [
    {
     "data": {
      "text/plain": [
       "1.0"
      ]
     },
     "execution_count": 28,
     "metadata": {},
     "output_type": "execute_result"
    }
   ],
   "source": [
    "(1.9*3) ÷ 3"
   ]
  },
  {
   "cell_type": "markdown",
   "metadata": {},
   "source": [
    "下面範例是 bitwise XOR，輸入 \\xor[tab]\n",
    "> XOR: if the two bits are the same, return false; different, true."
   ]
  },
  {
   "cell_type": "code",
   "execution_count": 30,
   "metadata": {},
   "outputs": [
    {
     "data": {
      "text/plain": [
       "1011"
      ]
     },
     "execution_count": 30,
     "metadata": {},
     "output_type": "execute_result"
    }
   ],
   "source": [
    "c = 0001\n",
    "d = 1010\n",
    "\n",
    "c ⊻ d"
   ]
  },
  {
   "cell_type": "markdown",
   "metadata": {},
   "source": [
    "另外，有一些運算子也另有相對應的函式可以呼叫，結果都是相同的。以 == 為例："
   ]
  },
  {
   "cell_type": "code",
   "execution_count": 31,
   "metadata": {},
   "outputs": [
    {
     "data": {
      "text/plain": [
       "false"
      ]
     },
     "execution_count": 31,
     "metadata": {},
     "output_type": "execute_result"
    }
   ],
   "source": [
    "a == b"
   ]
  },
  {
   "cell_type": "code",
   "execution_count": 32,
   "metadata": {},
   "outputs": [
    {
     "data": {
      "text/plain": [
       "false"
      ]
     },
     "execution_count": 32,
     "metadata": {},
     "output_type": "execute_result"
    }
   ],
   "source": [
    "==(a, b)"
   ]
  },
  {
   "cell_type": "code",
   "execution_count": 33,
   "metadata": {},
   "outputs": [
    {
     "data": {
      "text/plain": [
       "false"
      ]
     },
     "execution_count": 33,
     "metadata": {},
     "output_type": "execute_result"
    }
   ],
   "source": [
    "# 也可以用 isequal()\n",
    "isequal(a, b)"
   ]
  },
  {
   "cell_type": "markdown",
   "metadata": {},
   "source": [
    "**triple equals `===`**\n",
    "- `x === y` is true when two objects are programmatically indistinguishable – i.e. you cannot write code that demonstrates any difference between x and y.\n",
    "- https://stackoverflow.com/questions/38601141/what-is-the-difference-between-and-comparison-operators-in-julia"
   ]
  },
  {
   "cell_type": "code",
   "execution_count": 10,
   "metadata": {},
   "outputs": [
    {
     "data": {
      "text/plain": [
       "false"
      ]
     },
     "execution_count": 10,
     "metadata": {},
     "output_type": "execute_result"
    }
   ],
   "source": [
    "1.0 === 1 "
   ]
  },
  {
   "cell_type": "code",
   "execution_count": 11,
   "metadata": {},
   "outputs": [
    {
     "data": {
      "text/plain": [
       "true"
      ]
     },
     "execution_count": 11,
     "metadata": {},
     "output_type": "execute_result"
    }
   ],
   "source": [
    "1.0 == 1"
   ]
  },
  {
   "cell_type": "code",
   "execution_count": 13,
   "metadata": {},
   "outputs": [
    {
     "data": {
      "text/plain": [
       "false"
      ]
     },
     "execution_count": 13,
     "metadata": {},
     "output_type": "execute_result"
    }
   ],
   "source": [
    "-0.0 === 0.0"
   ]
  },
  {
   "cell_type": "code",
   "execution_count": 14,
   "metadata": {},
   "outputs": [
    {
     "data": {
      "text/plain": [
       "true"
      ]
     },
     "execution_count": 14,
     "metadata": {},
     "output_type": "execute_result"
    }
   ],
   "source": [
    "-0.0 == 0.0"
   ]
  },
  {
   "cell_type": "markdown",
   "metadata": {},
   "source": [
    "#### 點運算 (Dot Operation)\n",
    "\n",
    "對於一維陣列 (向量) 來說，點運算是很方便可以用來運算的方式。例如說我們要對向量中的每一個元素進行平方，用 `.^ 2` 就可以。\n",
    "\n",
    "下面例子是兩種不同的寫法是用運算子和函式表達，結果均相同。點運算進行了**”廣播” (broadcast)**的運算完成對陣列每個元素平方的運算。\n",
    "\n",
    "有關於陣列及其運算，在未來的內容裡會有更詳細的介紹。"
   ]
  },
  {
   "cell_type": "code",
   "execution_count": 34,
   "metadata": {},
   "outputs": [
    {
     "data": {
      "text/plain": [
       "2"
      ]
     },
     "execution_count": 34,
     "metadata": {},
     "output_type": "execute_result"
    }
   ],
   "source": [
    "a = [1, 2, 3]\n",
    "b = 2"
   ]
  },
  {
   "cell_type": "code",
   "execution_count": 35,
   "metadata": {},
   "outputs": [
    {
     "data": {
      "text/plain": [
       "3-element Array{Int64,1}:\n",
       " 1\n",
       " 4\n",
       " 9"
      ]
     },
     "execution_count": 35,
     "metadata": {},
     "output_type": "execute_result"
    }
   ],
   "source": [
    "a .^ b"
   ]
  },
  {
   "cell_type": "code",
   "execution_count": 36,
   "metadata": {},
   "outputs": [
    {
     "data": {
      "text/plain": [
       "3-element Array{Int64,1}:\n",
       " 1\n",
       " 4\n",
       " 9"
      ]
     },
     "execution_count": 36,
     "metadata": {},
     "output_type": "execute_result"
    }
   ],
   "source": [
    "# 或\n",
    "(^).(a, b)"
   ]
  },
  {
   "cell_type": "markdown",
   "metadata": {},
   "source": [
    "### 3.2 常用運算函式"
   ]
  },
  {
   "cell_type": "markdown",
   "metadata": {},
   "source": [
    "#### 3.2.1 常用 Rounding 函式\n",
    "\n",
    "|函式|說明|\n",
    "|---|---|\n",
    "|`round(x)`|round 至最近的整數|\n",
    "|`floor(x)`|往 -Inf round 至最近的整數|\n",
    "|`ceil(x)`|往 Inf round 至最近的整數|\n",
    "|`trunc(x)`|往 0 round 至最近的整數|\n",
    "\n",
    "在先前的內容中曾詳細介紹 `round()` 函式及不同的 `round()` 方式，有需要的話可以參考**Julia 數值系統介紹**內容，今天的範例就不重複。\n",
    "\n",
    "在 Rounding 的方法部分，Julia 是採用 IEEE 754 規範，也就是 `RoundNearest`，取最近的偶數(四捨五取最近偶數)，而非我們一般講的四捨五入。\n",
    "\n",
    "要採用不同的 rounding 方法，可在呼叫 `round()` 函式時加入不同的常數參數，列表如下:\n",
    "\n",
    "|常數|描述|\n",
    "|---|---|\n",
    "|RoundNearest (default)|四捨五取最近偶數(預設)|\n",
    "|RoundNearestTiesAway|四捨五取遠離0|\n",
    "|RoundNearestTiesUp|四捨五入|\n",
    "|RoundToZero|無條件捨去|\n",
    "|RoundFromZero (BigFloat only)|四捨五取遠離0|\n",
    "|RoundUp|無條件進位|\n",
    "|RoundDown|無條件退位|"
   ]
  },
  {
   "cell_type": "markdown",
   "metadata": {},
   "source": [
    "`floor()` 函式是往 `-Inf` 捨至最接近的整數。"
   ]
  },
  {
   "cell_type": "code",
   "execution_count": 37,
   "metadata": {},
   "outputs": [
    {
     "data": {
      "text/plain": [
       "2.0"
      ]
     },
     "execution_count": 37,
     "metadata": {},
     "output_type": "execute_result"
    }
   ],
   "source": [
    "floor(2.3)"
   ]
  },
  {
   "cell_type": "code",
   "execution_count": 38,
   "metadata": {},
   "outputs": [
    {
     "data": {
      "text/plain": [
       "-3.0"
      ]
     },
     "execution_count": 38,
     "metadata": {},
     "output_type": "execute_result"
    }
   ],
   "source": [
    "floor(-2.3)"
   ]
  },
  {
   "cell_type": "markdown",
   "metadata": {},
   "source": [
    "`ceil()` 函式是往 `Inf` 進至最接近的整數。"
   ]
  },
  {
   "cell_type": "code",
   "execution_count": 39,
   "metadata": {},
   "outputs": [
    {
     "data": {
      "text/plain": [
       "3.0"
      ]
     },
     "execution_count": 39,
     "metadata": {},
     "output_type": "execute_result"
    }
   ],
   "source": [
    "ceil(2.3)"
   ]
  },
  {
   "cell_type": "code",
   "execution_count": 40,
   "metadata": {},
   "outputs": [
    {
     "data": {
      "text/plain": [
       "-2.0"
      ]
     },
     "execution_count": 40,
     "metadata": {},
     "output_type": "execute_result"
    }
   ],
   "source": [
    "ceil(-2.3)"
   ]
  },
  {
   "cell_type": "markdown",
   "metadata": {},
   "source": [
    "`trunc()` 函式是往 0 round 至最接近的整數。"
   ]
  },
  {
   "cell_type": "code",
   "execution_count": 41,
   "metadata": {},
   "outputs": [
    {
     "data": {
      "text/plain": [
       "-2.0"
      ]
     },
     "execution_count": 41,
     "metadata": {},
     "output_type": "execute_result"
    }
   ],
   "source": [
    "trunc(-2.3)"
   ]
  },
  {
   "cell_type": "markdown",
   "metadata": {},
   "source": [
    "#### 3.2.2 常用 Division 函式\n",
    "\n",
    "|函式|說明|\n",
    "|---|---|\n",
    "|`div(x,y)`, `x÷y`|相除取整數|\n",
    "|`fld(x,y)`|相除向 -Inf 取整數|\n",
    "|`cld(x,y)`|相除向 +Inf 取整數 |\n",
    "|`rem(x,y)`|餘數|\n",
    "|`mod(x,y)`|同餘|\n",
    "|`divrem(x,y)`|回傳 `div(x,y)` 與 `rem(x,y)`|\n",
    "|`fldmod(x,y)`|回傳 `fld(x,y)` 與 `mod(x,y)`|\n",
    "|`gcd(x, y)`|最大公因數|\n",
    "|`lcm(x, y)`|最小公倍數|\n",
    "\n",
    "> `mod()` and `rem()` gives identical results in the positive case. \n",
    "\n",
    "> `mod()` is computed by `x - y*floor(x/y)`;\n",
    "> `rem()` directly calls `rem_float`"
   ]
  },
  {
   "cell_type": "code",
   "execution_count": 47,
   "metadata": {},
   "outputs": [
    {
     "data": {
      "text/plain": [
       "true"
      ]
     },
     "execution_count": 47,
     "metadata": {},
     "output_type": "execute_result"
    }
   ],
   "source": [
    "mod(0.95,0.01) == rem(0.95,0.01)"
   ]
  },
  {
   "cell_type": "code",
   "execution_count": 48,
   "metadata": {},
   "outputs": [
    {
     "data": {
      "text/plain": [
       "1.0"
      ]
     },
     "execution_count": 48,
     "metadata": {},
     "output_type": "execute_result"
    }
   ],
   "source": [
    "7.3 ÷ 5.5"
   ]
  },
  {
   "cell_type": "code",
   "execution_count": 49,
   "metadata": {},
   "outputs": [
    {
     "data": {
      "text/plain": [
       "-2.0"
      ]
     },
     "execution_count": 49,
     "metadata": {},
     "output_type": "execute_result"
    }
   ],
   "source": [
    "fld(-7.3,5.5)"
   ]
  },
  {
   "cell_type": "code",
   "execution_count": 50,
   "metadata": {},
   "outputs": [
    {
     "data": {
      "text/plain": [
       "3.0"
      ]
     },
     "execution_count": 50,
     "metadata": {},
     "output_type": "execute_result"
    }
   ],
   "source": [
    "cld(5.5,2.2)"
   ]
  },
  {
   "cell_type": "code",
   "execution_count": 51,
   "metadata": {},
   "outputs": [
    {
     "data": {
      "text/plain": [
       "3"
      ]
     },
     "execution_count": 51,
     "metadata": {},
     "output_type": "execute_result"
    }
   ],
   "source": [
    "rem(15, 4)"
   ]
  },
  {
   "cell_type": "markdown",
   "metadata": {},
   "source": [
    "**(?) what does 0:2 for?**"
   ]
  },
  {
   "cell_type": "code",
   "execution_count": 5,
   "metadata": {},
   "outputs": [
    {
     "data": {
      "text/plain": [
       "3-element Array{Int64,1}:\n",
       " 0\n",
       " 1\n",
       " 2"
      ]
     },
     "execution_count": 5,
     "metadata": {},
     "output_type": "execute_result"
    }
   ],
   "source": [
    "collect(0:2)"
   ]
  },
  {
   "cell_type": "code",
   "execution_count": 8,
   "metadata": {},
   "outputs": [
    {
     "data": {
      "text/plain": [
       "1"
      ]
     },
     "execution_count": 8,
     "metadata": {},
     "output_type": "execute_result"
    }
   ],
   "source": [
    "mod(3,2)"
   ]
  },
  {
   "cell_type": "markdown",
   "metadata": {},
   "source": [
    "`mod(x::Integer, r::AbstractUnitRange)`\n",
    "- Find y in the range r such that xy(modn), where n = length(r), i.e. y = mod(x - first(r), n) + first(r)."
   ]
  },
  {
   "cell_type": "code",
   "execution_count": 2,
   "metadata": {
    "scrolled": true
   },
   "outputs": [
    {
     "data": {
      "text/plain": [
       "0"
      ]
     },
     "execution_count": 2,
     "metadata": {},
     "output_type": "execute_result"
    }
   ],
   "source": [
    "mod(3, 0:2)"
   ]
  },
  {
   "cell_type": "code",
   "execution_count": 3,
   "metadata": {},
   "outputs": [
    {
     "data": {
      "text/plain": [
       "(3, 3)"
      ]
     },
     "execution_count": 3,
     "metadata": {},
     "output_type": "execute_result"
    }
   ],
   "source": [
    "divrem(15, 4)"
   ]
  },
  {
   "cell_type": "code",
   "execution_count": 61,
   "metadata": {},
   "outputs": [
    {
     "data": {
      "text/plain": [
       "(1.0, 1.7999999999999998)"
      ]
     },
     "execution_count": 61,
     "metadata": {},
     "output_type": "execute_result"
    }
   ],
   "source": [
    "fldmod(7.3,5.5)"
   ]
  },
  {
   "cell_type": "code",
   "execution_count": 62,
   "metadata": {},
   "outputs": [
    {
     "data": {
      "text/plain": [
       "6"
      ]
     },
     "execution_count": 62,
     "metadata": {},
     "output_type": "execute_result"
    }
   ],
   "source": [
    "gcd(30, 12)"
   ]
  },
  {
   "cell_type": "code",
   "execution_count": 63,
   "metadata": {},
   "outputs": [
    {
     "data": {
      "text/plain": [
       "60"
      ]
     },
     "execution_count": 63,
     "metadata": {},
     "output_type": "execute_result"
    }
   ],
   "source": [
    "lcm(30, 12)"
   ]
  },
  {
   "cell_type": "markdown",
   "metadata": {},
   "source": [
    "#### 3.2.3 常用正負號與絕對值函式\n",
    "\n",
    "|函式|說明|\n",
    "|---|---|\n",
    "|`abs(x)`|絕對值|\n",
    "|`abs2(x)`|絕對值平方|\n",
    "|`sign(x)`|正負號, 回傳 -1 (負號), 0 (x 為 0), or +1 (正號)|\n",
    "|`signbit(x)`|是否有正負號, 回傳 `true` / `false`|\n",
    "|`copysign(x,y)`|a value with the magnitude of x and the sign of y|\n",
    "|`flipsign(x,y)`|a value with the magnitude of x and the sign of x*y|"
   ]
  },
  {
   "cell_type": "code",
   "execution_count": 64,
   "metadata": {},
   "outputs": [
    {
     "data": {
      "text/plain": [
       "3"
      ]
     },
     "execution_count": 64,
     "metadata": {},
     "output_type": "execute_result"
    }
   ],
   "source": [
    "abs(-3)"
   ]
  },
  {
   "cell_type": "code",
   "execution_count": 65,
   "metadata": {},
   "outputs": [
    {
     "data": {
      "text/plain": [
       "9"
      ]
     },
     "execution_count": 65,
     "metadata": {},
     "output_type": "execute_result"
    }
   ],
   "source": [
    "abs2(-3)"
   ]
  },
  {
   "cell_type": "code",
   "execution_count": 66,
   "metadata": {},
   "outputs": [
    {
     "data": {
      "text/plain": [
       "-1"
      ]
     },
     "execution_count": 66,
     "metadata": {},
     "output_type": "execute_result"
    }
   ],
   "source": [
    "sign(-3)"
   ]
  },
  {
   "cell_type": "code",
   "execution_count": 67,
   "metadata": {},
   "outputs": [
    {
     "data": {
      "text/plain": [
       "0"
      ]
     },
     "execution_count": 67,
     "metadata": {},
     "output_type": "execute_result"
    }
   ],
   "source": [
    "sign(0)"
   ]
  },
  {
   "cell_type": "code",
   "execution_count": 68,
   "metadata": {},
   "outputs": [
    {
     "data": {
      "text/plain": [
       "false"
      ]
     },
     "execution_count": 68,
     "metadata": {},
     "output_type": "execute_result"
    }
   ],
   "source": [
    "# UInt 是沒有正負號的, 所以回傳值為 false\n",
    "signbit(UInt(3))"
   ]
  },
  {
   "cell_type": "code",
   "execution_count": 72,
   "metadata": {},
   "outputs": [
    {
     "data": {
      "text/plain": [
       "false"
      ]
     },
     "execution_count": 72,
     "metadata": {},
     "output_type": "execute_result"
    }
   ],
   "source": [
    "signbit(Int(3))"
   ]
  },
  {
   "cell_type": "code",
   "execution_count": 73,
   "metadata": {},
   "outputs": [
    {
     "data": {
      "text/plain": [
       "true"
      ]
     },
     "execution_count": 73,
     "metadata": {},
     "output_type": "execute_result"
    }
   ],
   "source": [
    "signbit(Int(-3))"
   ]
  },
  {
   "cell_type": "code",
   "execution_count": 76,
   "metadata": {},
   "outputs": [
    {
     "data": {
      "text/plain": [
       "3"
      ]
     },
     "execution_count": 76,
     "metadata": {},
     "output_type": "execute_result"
    }
   ],
   "source": [
    "copysign(-3, 2) # sign(2)*abs(-3)"
   ]
  },
  {
   "cell_type": "code",
   "execution_count": 77,
   "metadata": {},
   "outputs": [
    {
     "data": {
      "text/plain": [
       "3"
      ]
     },
     "execution_count": 77,
     "metadata": {},
     "output_type": "execute_result"
    }
   ],
   "source": [
    "flipsign(-3, -2) # sign(-3*-2)*abs(-3)"
   ]
  },
  {
   "cell_type": "markdown",
   "metadata": {},
   "source": [
    "#### 3.2.4 常用 Powers, logs and roots 函式\n",
    "\n",
    "|函式|說明|\n",
    "|---|---|\n",
    "|`sqrt(x)`, `√x`|平方根|\n",
    "|`cbrt(x)`, `∛x`|立方根|\n",
    "|`hypot(x,y)`|直角三角形求斜邊長 (`hypot` for *hypotenuse*)|\n",
    "|`exp(x)`|自然指數函式 (natural exponential function), 即 $e^x$|\n",
    "|`exp2(x)`|$2^x$|\n",
    "|`exp10(x)`|$10^x$|\n",
    "|`log(x)`|$log x$ (i.e. natural log $\\ln x$)|\n",
    "|`log(b,x)`|$log_b x$|\n",
    "|`log2(x)`|$log_2 x$|\n",
    "|`log10(x)`|$log_{10} x$|\n",
    "\n",
    "> type `\\sqrt` + `[tab]` to get `√`"
   ]
  },
  {
   "cell_type": "code",
   "execution_count": 79,
   "metadata": {},
   "outputs": [
    {
     "name": "stdout",
     "output_type": "stream",
     "text": [
      "2.0\n",
      "4.0\n"
     ]
    }
   ],
   "source": [
    "println(sqrt(4))\n",
    "println(√16)"
   ]
  },
  {
   "cell_type": "code",
   "execution_count": 80,
   "metadata": {},
   "outputs": [
    {
     "name": "stdout",
     "output_type": "stream",
     "text": [
      "2.0\n",
      "3.0\n"
     ]
    }
   ],
   "source": [
    "println(cbrt(8))\n",
    "println(∛27)"
   ]
  },
  {
   "cell_type": "code",
   "execution_count": 81,
   "metadata": {},
   "outputs": [
    {
     "data": {
      "text/plain": [
       "13.0"
      ]
     },
     "execution_count": 81,
     "metadata": {},
     "output_type": "execute_result"
    }
   ],
   "source": [
    "hypot(12, 5)"
   ]
  },
  {
   "cell_type": "code",
   "execution_count": 82,
   "metadata": {},
   "outputs": [
    {
     "data": {
      "text/plain": [
       "2.718281828459045"
      ]
     },
     "execution_count": 82,
     "metadata": {},
     "output_type": "execute_result"
    }
   ],
   "source": [
    "exp(1)"
   ]
  },
  {
   "cell_type": "code",
   "execution_count": 83,
   "metadata": {},
   "outputs": [
    {
     "data": {
      "text/plain": [
       "2.302585092994046"
      ]
     },
     "execution_count": 83,
     "metadata": {},
     "output_type": "execute_result"
    }
   ],
   "source": [
    "log(10)"
   ]
  },
  {
   "cell_type": "code",
   "execution_count": 89,
   "metadata": {},
   "outputs": [
    {
     "data": {
      "text/plain": [
       "1.0"
      ]
     },
     "execution_count": 89,
     "metadata": {},
     "output_type": "execute_result"
    }
   ],
   "source": [
    "log(exp(1))"
   ]
  },
  {
   "cell_type": "code",
   "execution_count": 84,
   "metadata": {},
   "outputs": [
    {
     "data": {
      "text/plain": [
       "2.0"
      ]
     },
     "execution_count": 84,
     "metadata": {},
     "output_type": "execute_result"
    }
   ],
   "source": [
    "log(2, 4)"
   ]
  },
  {
   "cell_type": "code",
   "execution_count": 85,
   "metadata": {},
   "outputs": [
    {
     "data": {
      "text/plain": [
       "2.0"
      ]
     },
     "execution_count": 85,
     "metadata": {},
     "output_type": "execute_result"
    }
   ],
   "source": [
    "log2(4)"
   ]
  },
  {
   "cell_type": "code",
   "execution_count": 86,
   "metadata": {},
   "outputs": [
    {
     "data": {
      "text/plain": [
       "2.0"
      ]
     },
     "execution_count": 86,
     "metadata": {},
     "output_type": "execute_result"
    }
   ],
   "source": [
    "log10(100)"
   ]
  },
  {
   "cell_type": "markdown",
   "metadata": {},
   "source": [
    "#### 3.2.5 常用 三角函數與雙曲函數 (Trigonometric and hyperbolic functions)"
   ]
  },
  {
   "cell_type": "markdown",
   "metadata": {},
   "source": [
    "使用弧度 (radian) 的三角函數:\n",
    "\n",
    "|-|-|-|-|-|-|\n",
    "|---|---|---|---|---|---|\n",
    "|sin    |cos|    tan    |cot|    sec|    csc|\n",
    "|sinh  | cosh|   tanh  | coth|   sech|   csch|\n",
    "|asin |  acos |  atan  | acot |  asec |  acsc|\n",
    "|asinh|  acosh | atanh|  acoth | asech | acsch|\n",
    "|sinc|   cosc  |sinpi|  cospi|\n",
    "\n",
    "使用角度 (degree) 的三角函數:\n",
    "\n",
    "|-|-|-|-|-|-|\n",
    "|---|---|---|---|---|---|\n",
    "|sind|   cosd|   tand|   cotd|   secd|   cscd|\n",
    "|asind|  acosd|  atand|  acotd|  asecd|  acscd|"
   ]
  },
  {
   "cell_type": "markdown",
   "metadata": {},
   "source": [
    "# others"
   ]
  },
  {
   "cell_type": "markdown",
   "metadata": {},
   "source": [
    "## double colon `::`"
   ]
  },
  {
   "cell_type": "code",
   "execution_count": 12,
   "metadata": {},
   "outputs": [
    {
     "name": "stdout",
     "output_type": "stream",
     "text": [
      "search: \u001b[0m\u001b[1mV\u001b[22m\u001b[0m\u001b[1me\u001b[22m\u001b[0m\u001b[1mc\u001b[22m\u001b[0m\u001b[1mt\u001b[22m\u001b[0m\u001b[1mo\u001b[22m\u001b[0m\u001b[1mr\u001b[22m Bit\u001b[0m\u001b[1mV\u001b[22m\u001b[0m\u001b[1me\u001b[22m\u001b[0m\u001b[1mc\u001b[22m\u001b[0m\u001b[1mt\u001b[22m\u001b[0m\u001b[1mo\u001b[22m\u001b[0m\u001b[1mr\u001b[22m Dense\u001b[0m\u001b[1mV\u001b[22m\u001b[0m\u001b[1me\u001b[22m\u001b[0m\u001b[1mc\u001b[22m\u001b[0m\u001b[1mt\u001b[22m\u001b[0m\u001b[1mo\u001b[22m\u001b[0m\u001b[1mr\u001b[22m Strided\u001b[0m\u001b[1mV\u001b[22m\u001b[0m\u001b[1me\u001b[22m\u001b[0m\u001b[1mc\u001b[22m\u001b[0m\u001b[1mt\u001b[22m\u001b[0m\u001b[1mo\u001b[22m\u001b[0m\u001b[1mr\u001b[22m Abstract\u001b[0m\u001b[1mV\u001b[22m\u001b[0m\u001b[1me\u001b[22m\u001b[0m\u001b[1mc\u001b[22m\u001b[0m\u001b[1mt\u001b[22m\u001b[0m\u001b[1mo\u001b[22m\u001b[0m\u001b[1mr\u001b[22m\n",
      "\n"
     ]
    },
    {
     "data": {
      "text/latex": [
       "\\begin{verbatim}\n",
       "Vector{T} <: AbstractVector{T}\n",
       "\\end{verbatim}\n",
       "One-dimensional dense array with elements of type \\texttt{T}, often used to represent a mathematical vector. Alias for \\href{@ref}{\\texttt{Array\\{T,1\\}}}.\n",
       "\n",
       "\\rule{\\textwidth}{1pt}\n",
       "\\begin{verbatim}\n",
       "Vector{T}(undef, n)\n",
       "\\end{verbatim}\n",
       "Construct an uninitialized \\href{@ref}{\\texttt{Vector\\{T\\}}} of length \\texttt{n}. See \\href{@ref}{\\texttt{undef}}.\n",
       "\n",
       "\\section{Examples}\n",
       "\\begin{verbatim}\n",
       "julia> Vector{Float64}(undef, 3)\n",
       "3-element Array{Float64,1}:\n",
       " 6.90966e-310\n",
       " 6.90966e-310\n",
       " 6.90966e-310\n",
       "\\end{verbatim}\n",
       "\\rule{\\textwidth}{1pt}\n",
       "\\begin{verbatim}\n",
       "Vector{T}(nothing, m)\n",
       "\\end{verbatim}\n",
       "Construct a \\href{@ref}{\\texttt{Vector\\{T\\}}} of length \\texttt{m}, initialized with \\href{@ref}{\\texttt{nothing}} entries. Element type \\texttt{T} must be able to hold these values, i.e. \\texttt{Nothing <: T}.\n",
       "\n",
       "\\section{Examples}\n",
       "\\begin{verbatim}\n",
       "julia> Vector{Union{Nothing, String}}(nothing, 2)\n",
       "2-element Array{Union{Nothing, String},1}:\n",
       " nothing\n",
       " nothing\n",
       "\\end{verbatim}\n",
       "\\rule{\\textwidth}{1pt}\n",
       "\\begin{verbatim}\n",
       "Vector{T}(missing, m)\n",
       "\\end{verbatim}\n",
       "Construct a \\href{@ref}{\\texttt{Vector\\{T\\}}} of length \\texttt{m}, initialized with \\href{@ref}{\\texttt{missing}} entries. Element type \\texttt{T} must be able to hold these values, i.e. \\texttt{Missing <: T}.\n",
       "\n",
       "\\section{Examples}\n",
       "\\begin{verbatim}\n",
       "julia> Vector{Union{Missing, String}}(missing, 2)\n",
       "2-element Array{Union{Missing, String},1}:\n",
       " missing\n",
       " missing\n",
       "\\end{verbatim}\n"
      ],
      "text/markdown": [
       "```\n",
       "Vector{T} <: AbstractVector{T}\n",
       "```\n",
       "\n",
       "One-dimensional dense array with elements of type `T`, often used to represent a mathematical vector. Alias for [`Array{T,1}`](@ref).\n",
       "\n",
       "---\n",
       "\n",
       "```\n",
       "Vector{T}(undef, n)\n",
       "```\n",
       "\n",
       "Construct an uninitialized [`Vector{T}`](@ref) of length `n`. See [`undef`](@ref).\n",
       "\n",
       "# Examples\n",
       "\n",
       "```julia-repl\n",
       "julia> Vector{Float64}(undef, 3)\n",
       "3-element Array{Float64,1}:\n",
       " 6.90966e-310\n",
       " 6.90966e-310\n",
       " 6.90966e-310\n",
       "```\n",
       "\n",
       "---\n",
       "\n",
       "```\n",
       "Vector{T}(nothing, m)\n",
       "```\n",
       "\n",
       "Construct a [`Vector{T}`](@ref) of length `m`, initialized with [`nothing`](@ref) entries. Element type `T` must be able to hold these values, i.e. `Nothing <: T`.\n",
       "\n",
       "# Examples\n",
       "\n",
       "```jldoctest\n",
       "julia> Vector{Union{Nothing, String}}(nothing, 2)\n",
       "2-element Array{Union{Nothing, String},1}:\n",
       " nothing\n",
       " nothing\n",
       "```\n",
       "\n",
       "---\n",
       "\n",
       "```\n",
       "Vector{T}(missing, m)\n",
       "```\n",
       "\n",
       "Construct a [`Vector{T}`](@ref) of length `m`, initialized with [`missing`](@ref) entries. Element type `T` must be able to hold these values, i.e. `Missing <: T`.\n",
       "\n",
       "# Examples\n",
       "\n",
       "```jldoctest\n",
       "julia> Vector{Union{Missing, String}}(missing, 2)\n",
       "2-element Array{Union{Missing, String},1}:\n",
       " missing\n",
       " missing\n",
       "```\n"
      ],
      "text/plain": [
       "\u001b[36m  Vector{T} <: AbstractVector{T}\u001b[39m\n",
       "\n",
       "  One-dimensional dense array with elements of type \u001b[36mT\u001b[39m, often used to represent\n",
       "  a mathematical vector. Alias for \u001b[36mArray{T,1}\u001b[39m.\n",
       "\n",
       "  ────────────────────────────────────────────────────────────────────────────\n",
       "\n",
       "\u001b[36m  Vector{T}(undef, n)\u001b[39m\n",
       "\n",
       "  Construct an uninitialized \u001b[36mVector{T}\u001b[39m of length \u001b[36mn\u001b[39m. See \u001b[36mundef\u001b[39m.\n",
       "\n",
       "\u001b[1m  Examples\u001b[22m\n",
       "\u001b[1m  ≡≡≡≡≡≡≡≡≡≡\u001b[22m\n",
       "\n",
       "\u001b[36m  julia> Vector{Float64}(undef, 3)\u001b[39m\n",
       "\u001b[36m  3-element Array{Float64,1}:\u001b[39m\n",
       "\u001b[36m   6.90966e-310\u001b[39m\n",
       "\u001b[36m   6.90966e-310\u001b[39m\n",
       "\u001b[36m   6.90966e-310\u001b[39m\n",
       "\n",
       "  ────────────────────────────────────────────────────────────────────────────\n",
       "\n",
       "\u001b[36m  Vector{T}(nothing, m)\u001b[39m\n",
       "\n",
       "  Construct a \u001b[36mVector{T}\u001b[39m of length \u001b[36mm\u001b[39m, initialized with \u001b[36mnothing\u001b[39m entries. Element\n",
       "  type \u001b[36mT\u001b[39m must be able to hold these values, i.e. \u001b[36mNothing <: T\u001b[39m.\n",
       "\n",
       "\u001b[1m  Examples\u001b[22m\n",
       "\u001b[1m  ≡≡≡≡≡≡≡≡≡≡\u001b[22m\n",
       "\n",
       "\u001b[36m  julia> Vector{Union{Nothing, String}}(nothing, 2)\u001b[39m\n",
       "\u001b[36m  2-element Array{Union{Nothing, String},1}:\u001b[39m\n",
       "\u001b[36m   nothing\u001b[39m\n",
       "\u001b[36m   nothing\u001b[39m\n",
       "\n",
       "  ────────────────────────────────────────────────────────────────────────────\n",
       "\n",
       "\u001b[36m  Vector{T}(missing, m)\u001b[39m\n",
       "\n",
       "  Construct a \u001b[36mVector{T}\u001b[39m of length \u001b[36mm\u001b[39m, initialized with \u001b[36mmissing\u001b[39m entries. Element\n",
       "  type \u001b[36mT\u001b[39m must be able to hold these values, i.e. \u001b[36mMissing <: T\u001b[39m.\n",
       "\n",
       "\u001b[1m  Examples\u001b[22m\n",
       "\u001b[1m  ≡≡≡≡≡≡≡≡≡≡\u001b[22m\n",
       "\n",
       "\u001b[36m  julia> Vector{Union{Missing, String}}(missing, 2)\u001b[39m\n",
       "\u001b[36m  2-element Array{Union{Missing, String},1}:\u001b[39m\n",
       "\u001b[36m   missing\u001b[39m\n",
       "\u001b[36m   missing\u001b[39m"
      ]
     },
     "execution_count": 12,
     "metadata": {},
     "output_type": "execute_result"
    }
   ],
   "source": [
    "? Vector"
   ]
  },
  {
   "cell_type": "code",
   "execution_count": 10,
   "metadata": {},
   "outputs": [
    {
     "data": {
      "text/plain": [
       "Array{Float64,1}"
      ]
     },
     "execution_count": 10,
     "metadata": {},
     "output_type": "execute_result"
    }
   ],
   "source": [
    "Vector{Float64}"
   ]
  },
  {
   "cell_type": "code",
   "execution_count": 13,
   "metadata": {},
   "outputs": [
    {
     "name": "stdout",
     "output_type": "stream",
     "text": [
      "Array{Int64,1} <: DenseArray{Int64,1}\n"
     ]
    }
   ],
   "source": [
    "dump(Vector{Int})"
   ]
  },
  {
   "cell_type": "code",
   "execution_count": 11,
   "metadata": {},
   "outputs": [
    {
     "data": {
      "text/plain": [
       "(Int64, 1.0, Float64)"
      ]
     },
     "execution_count": 11,
     "metadata": {},
     "output_type": "execute_result"
    }
   ],
   "source": [
    "function foo(x)\n",
    "    y::Float64 = x\n",
    "    y # this is required!\n",
    "end\n",
    "z = 1\n",
    "(typeof(z), foo(z),typeof(foo(z)))"
   ]
  },
  {
   "cell_type": "code",
   "execution_count": 22,
   "metadata": {},
   "outputs": [
    {
     "data": {
      "text/plain": [
       "3.0"
      ]
     },
     "execution_count": 22,
     "metadata": {},
     "output_type": "execute_result"
    }
   ],
   "source": [
    "function bar(x::Int64, y::Int64)::Float64 # input Int64, Int64; output Int64\n",
    "    x + y\n",
    "end\n",
    "bar(1,2)"
   ]
  },
  {
   "cell_type": "code",
   "execution_count": 23,
   "metadata": {},
   "outputs": [
    {
     "ename": "MethodError",
     "evalue": "MethodError: no method matching bar(::Float64, ::Float64)",
     "output_type": "error",
     "traceback": [
      "MethodError: no method matching bar(::Float64, ::Float64)",
      "",
      "Stacktrace:",
      " [1] top-level scope at In[23]:1"
     ]
    }
   ],
   "source": [
    "bar(1.0,2.0) # error occurs because of the type of inputargument do not match"
   ]
  },
  {
   "cell_type": "code",
   "execution_count": 24,
   "metadata": {},
   "outputs": [
    {
     "ename": "UndefVarError",
     "evalue": "UndefVarError: y not defined",
     "output_type": "error",
     "traceback": [
      "UndefVarError: y not defined",
      "",
      "Stacktrace:",
      " [1] top-level scope at In[24]:1"
     ]
    }
   ],
   "source": [
    "y::Float64"
   ]
  },
  {
   "cell_type": "code",
   "execution_count": 25,
   "metadata": {},
   "outputs": [
    {
     "ename": "TypeError",
     "evalue": "TypeError: in typeassert, expected Float64, got Int64",
     "output_type": "error",
     "traceback": [
      "TypeError: in typeassert, expected Float64, got Int64",
      "",
      "Stacktrace:",
      " [1] top-level scope at In[25]:2"
     ]
    }
   ],
   "source": [
    "y = 1\n",
    "y::Float64"
   ]
  },
  {
   "cell_type": "code",
   "execution_count": 26,
   "metadata": {},
   "outputs": [
    {
     "data": {
      "text/plain": [
       "1"
      ]
     },
     "execution_count": 26,
     "metadata": {},
     "output_type": "execute_result"
    }
   ],
   "source": [
    "y::Int64"
   ]
  },
  {
   "cell_type": "markdown",
   "metadata": {},
   "source": [
    "# Other\n",
    "## Help"
   ]
  },
  {
   "cell_type": "code",
   "execution_count": 1,
   "metadata": {},
   "outputs": [
    {
     "name": "stdout",
     "output_type": "stream",
     "text": [
      "search: \u001b[0m\u001b[1mf\u001b[22m\u001b[0m\u001b[1mi\u001b[22m\u001b[0m\u001b[1ml\u001b[22m\u001b[0m\u001b[1ml\u001b[22m \u001b[0m\u001b[1mf\u001b[22m\u001b[0m\u001b[1mi\u001b[22m\u001b[0m\u001b[1ml\u001b[22m\u001b[0m\u001b[1ml\u001b[22m! \u001b[0m\u001b[1mf\u001b[22m\u001b[0m\u001b[1mi\u001b[22mna\u001b[0m\u001b[1ml\u001b[22m\u001b[0m\u001b[1ml\u001b[22my \u001b[0m\u001b[1mf\u001b[22m\u001b[0m\u001b[1mi\u001b[22mnda\u001b[0m\u001b[1ml\u001b[22m\u001b[0m\u001b[1ml\u001b[22m \u001b[0m\u001b[1mf\u001b[22m\u001b[0m\u001b[1mi\u001b[22m\u001b[0m\u001b[1ml\u001b[22mter \u001b[0m\u001b[1mf\u001b[22m\u001b[0m\u001b[1mi\u001b[22m\u001b[0m\u001b[1ml\u001b[22mter! \u001b[0m\u001b[1mf\u001b[22m\u001b[0m\u001b[1mi\u001b[22m\u001b[0m\u001b[1ml\u001b[22mesize \u001b[0m\u001b[1mf\u001b[22m\u001b[0m\u001b[1mi\u001b[22m\u001b[0m\u001b[1ml\u001b[22memode is\u001b[0m\u001b[1mf\u001b[22m\u001b[0m\u001b[1mi\u001b[22m\u001b[0m\u001b[1ml\u001b[22me\n",
      "\n"
     ]
    },
    {
     "data": {
      "text/latex": [
       "\\begin{verbatim}\n",
       "fill(x, dims)\n",
       "\\end{verbatim}\n",
       "Create an array filled with the value \\texttt{x}. For example, \\texttt{fill(1.0, (5,5))} returns a 5×5 array of floats, with each element initialized to \\texttt{1.0}.\n",
       "\n",
       "\\section{Examples}\n",
       "\\begin{verbatim}\n",
       "julia> fill(1.0, (5,5))\n",
       "5×5 Array{Float64,2}:\n",
       " 1.0  1.0  1.0  1.0  1.0\n",
       " 1.0  1.0  1.0  1.0  1.0\n",
       " 1.0  1.0  1.0  1.0  1.0\n",
       " 1.0  1.0  1.0  1.0  1.0\n",
       " 1.0  1.0  1.0  1.0  1.0\n",
       "\\end{verbatim}\n",
       "If \\texttt{x} is an object reference, all elements will refer to the same object. \\texttt{fill(Foo(), dims)} will return an array filled with the result of evaluating \\texttt{Foo()} once.\n",
       "\n"
      ],
      "text/markdown": [
       "```\n",
       "fill(x, dims)\n",
       "```\n",
       "\n",
       "Create an array filled with the value `x`. For example, `fill(1.0, (5,5))` returns a 5×5 array of floats, with each element initialized to `1.0`.\n",
       "\n",
       "# Examples\n",
       "\n",
       "```jldoctest\n",
       "julia> fill(1.0, (5,5))\n",
       "5×5 Array{Float64,2}:\n",
       " 1.0  1.0  1.0  1.0  1.0\n",
       " 1.0  1.0  1.0  1.0  1.0\n",
       " 1.0  1.0  1.0  1.0  1.0\n",
       " 1.0  1.0  1.0  1.0  1.0\n",
       " 1.0  1.0  1.0  1.0  1.0\n",
       "```\n",
       "\n",
       "If `x` is an object reference, all elements will refer to the same object. `fill(Foo(), dims)` will return an array filled with the result of evaluating `Foo()` once.\n"
      ],
      "text/plain": [
       "\u001b[36m  fill(x, dims)\u001b[39m\n",
       "\n",
       "  Create an array filled with the value \u001b[36mx\u001b[39m. For example, \u001b[36mfill(1.0, (5,5))\u001b[39m\n",
       "  returns a 5×5 array of floats, with each element initialized to \u001b[36m1.0\u001b[39m.\n",
       "\n",
       "\u001b[1m  Examples\u001b[22m\n",
       "\u001b[1m  ≡≡≡≡≡≡≡≡≡≡\u001b[22m\n",
       "\n",
       "\u001b[36m  julia> fill(1.0, (5,5))\u001b[39m\n",
       "\u001b[36m  5×5 Array{Float64,2}:\u001b[39m\n",
       "\u001b[36m   1.0  1.0  1.0  1.0  1.0\u001b[39m\n",
       "\u001b[36m   1.0  1.0  1.0  1.0  1.0\u001b[39m\n",
       "\u001b[36m   1.0  1.0  1.0  1.0  1.0\u001b[39m\n",
       "\u001b[36m   1.0  1.0  1.0  1.0  1.0\u001b[39m\n",
       "\u001b[36m   1.0  1.0  1.0  1.0  1.0\u001b[39m\n",
       "\n",
       "  If \u001b[36mx\u001b[39m is an object reference, all elements will refer to the same object.\n",
       "  \u001b[36mfill(Foo(), dims)\u001b[39m will return an array filled with the result of evaluating\n",
       "  \u001b[36mFoo()\u001b[39m once."
      ]
     },
     "execution_count": 1,
     "metadata": {},
     "output_type": "execute_result"
    }
   ],
   "source": [
    "? fill # show me help of a function"
   ]
  },
  {
   "cell_type": "code",
   "execution_count": 2,
   "metadata": {},
   "outputs": [
    {
     "name": "stdout",
     "output_type": "stream",
     "text": [
      "search: \u001b[0m\u001b[1mN\u001b[22m\u001b[0m\u001b[1mu\u001b[22m\u001b[0m\u001b[1mm\u001b[22m\u001b[0m\u001b[1mb\u001b[22m\u001b[0m\u001b[1me\u001b[22m\u001b[0m\u001b[1mr\u001b[22m Li\u001b[0m\u001b[1mn\u001b[22meN\u001b[0m\u001b[1mu\u001b[22m\u001b[0m\u001b[1mm\u001b[22m\u001b[0m\u001b[1mb\u001b[22m\u001b[0m\u001b[1me\u001b[22m\u001b[0m\u001b[1mr\u001b[22mNode Versio\u001b[0m\u001b[1mn\u001b[22mN\u001b[0m\u001b[1mu\u001b[22m\u001b[0m\u001b[1mm\u001b[22m\u001b[0m\u001b[1mb\u001b[22m\u001b[0m\u001b[1me\u001b[22m\u001b[0m\u001b[1mr\u001b[22m\n",
      "\n"
     ]
    },
    {
     "data": {
      "text/latex": [
       "\\begin{verbatim}\n",
       "Number\n",
       "\\end{verbatim}\n",
       "Abstract supertype for all number types.\n",
       "\n"
      ],
      "text/markdown": [
       "```\n",
       "Number\n",
       "```\n",
       "\n",
       "Abstract supertype for all number types.\n"
      ],
      "text/plain": [
       "\u001b[36m  Number\u001b[39m\n",
       "\n",
       "  Abstract supertype for all number types."
      ]
     },
     "execution_count": 2,
     "metadata": {},
     "output_type": "execute_result"
    }
   ],
   "source": [
    "? Number # show me help of a certain type"
   ]
  },
  {
   "cell_type": "code",
   "execution_count": 3,
   "metadata": {},
   "outputs": [
    {
     "name": "stdout",
     "output_type": "stream",
     "text": [
      "search: \u001b[0m\u001b[1mI\u001b[22m\u001b[0m\u001b[1mn\u001b[22m\u001b[0m\u001b[1mt\u001b[22m\u001b[0m\u001b[1m6\u001b[22m\u001b[0m\u001b[1m4\u001b[22m U\u001b[0m\u001b[1mI\u001b[22m\u001b[0m\u001b[1mn\u001b[22m\u001b[0m\u001b[1mt\u001b[22m\u001b[0m\u001b[1m6\u001b[22m\u001b[0m\u001b[1m4\u001b[22m \u001b[0m\u001b[1mI\u001b[22m\u001b[0m\u001b[1mn\u001b[22m\u001b[0m\u001b[1mt\u001b[22m1\u001b[0m\u001b[1m6\u001b[22m U\u001b[0m\u001b[1mI\u001b[22m\u001b[0m\u001b[1mn\u001b[22m\u001b[0m\u001b[1mt\u001b[22m1\u001b[0m\u001b[1m6\u001b[22m\n",
      "\n"
     ]
    },
    {
     "data": {
      "text/latex": [
       "\\begin{verbatim}\n",
       "Int64 <: Signed\n",
       "\\end{verbatim}\n",
       "64-bit signed integer type.\n",
       "\n"
      ],
      "text/markdown": [
       "```\n",
       "Int64 <: Signed\n",
       "```\n",
       "\n",
       "64-bit signed integer type.\n"
      ],
      "text/plain": [
       "\u001b[36m  Int64 <: Signed\u001b[39m\n",
       "\n",
       "  64-bit signed integer type."
      ]
     },
     "execution_count": 3,
     "metadata": {},
     "output_type": "execute_result"
    }
   ],
   "source": [
    "? Int64"
   ]
  },
  {
   "cell_type": "code",
   "execution_count": 4,
   "metadata": {},
   "outputs": [
    {
     "name": "stdout",
     "output_type": "stream",
     "text": [
      "search: \u001b[0m\u001b[1mT\u001b[22m\u001b[0m\u001b[1my\u001b[22m\u001b[0m\u001b[1mp\u001b[22m\u001b[0m\u001b[1me\u001b[22m \u001b[0m\u001b[1mt\u001b[22m\u001b[0m\u001b[1my\u001b[22m\u001b[0m\u001b[1mp\u001b[22m\u001b[0m\u001b[1me\u001b[22mof \u001b[0m\u001b[1mT\u001b[22m\u001b[0m\u001b[1my\u001b[22m\u001b[0m\u001b[1mp\u001b[22m\u001b[0m\u001b[1me\u001b[22mVar \u001b[0m\u001b[1mt\u001b[22m\u001b[0m\u001b[1my\u001b[22m\u001b[0m\u001b[1mp\u001b[22m\u001b[0m\u001b[1me\u001b[22mmin \u001b[0m\u001b[1mt\u001b[22m\u001b[0m\u001b[1my\u001b[22m\u001b[0m\u001b[1mp\u001b[22m\u001b[0m\u001b[1me\u001b[22mmax \u001b[0m\u001b[1mT\u001b[22m\u001b[0m\u001b[1my\u001b[22m\u001b[0m\u001b[1mp\u001b[22m\u001b[0m\u001b[1me\u001b[22mError \u001b[0m\u001b[1mt\u001b[22m\u001b[0m\u001b[1my\u001b[22m\u001b[0m\u001b[1mp\u001b[22m\u001b[0m\u001b[1me\u001b[22mjoin \u001b[0m\u001b[1mt\u001b[22m\u001b[0m\u001b[1my\u001b[22m\u001b[0m\u001b[1mp\u001b[22m\u001b[0m\u001b[1me\u001b[22massert\n",
      "\n"
     ]
    },
    {
     "data": {
      "text/latex": [
       "No documentation found.\n",
       "\n",
       "\\texttt{Core.Type} is of type \\texttt{UnionAll}.\n",
       "\n",
       "\\section{Summary}\n",
       "\\begin{verbatim}\n",
       "struct UnionAll <: Type{T}\n",
       "\\end{verbatim}\n",
       "\\section{Fields}\n",
       "\\begin{verbatim}\n",
       "var  :: TypeVar\n",
       "body :: Any\n",
       "\\end{verbatim}\n",
       "\\section{Supertype Hierarchy}\n",
       "\\begin{verbatim}\n",
       "UnionAll <: Type{T} <: Any\n",
       "\\end{verbatim}\n"
      ],
      "text/markdown": [
       "No documentation found.\n",
       "\n",
       "`Core.Type` is of type `UnionAll`.\n",
       "\n",
       "# Summary\n",
       "\n",
       "```\n",
       "struct UnionAll <: Type{T}\n",
       "```\n",
       "\n",
       "# Fields\n",
       "\n",
       "```\n",
       "var  :: TypeVar\n",
       "body :: Any\n",
       "```\n",
       "\n",
       "# Supertype Hierarchy\n",
       "\n",
       "```\n",
       "UnionAll <: Type{T} <: Any\n",
       "```\n"
      ],
      "text/plain": [
       "  No documentation found.\n",
       "\n",
       "  \u001b[36mCore.Type\u001b[39m is of type \u001b[36mUnionAll\u001b[39m.\n",
       "\n",
       "\u001b[1m  Summary\u001b[22m\n",
       "\u001b[1m  ≡≡≡≡≡≡≡≡≡\u001b[22m\n",
       "\n",
       "\u001b[36m  struct UnionAll <: Type{T}\u001b[39m\n",
       "\n",
       "\u001b[1m  Fields\u001b[22m\n",
       "\u001b[1m  ≡≡≡≡≡≡≡≡\u001b[22m\n",
       "\n",
       "\u001b[36m  var  :: TypeVar\u001b[39m\n",
       "\u001b[36m  body :: Any\u001b[39m\n",
       "\n",
       "\u001b[1m  Supertype Hierarchy\u001b[22m\n",
       "\u001b[1m  ≡≡≡≡≡≡≡≡≡≡≡≡≡≡≡≡≡≡≡≡≡\u001b[22m\n",
       "\n",
       "\u001b[36m  UnionAll <: Type{T} <: Any\u001b[39m"
      ]
     },
     "execution_count": 4,
     "metadata": {},
     "output_type": "execute_result"
    }
   ],
   "source": [
    "? Type"
   ]
  },
  {
   "cell_type": "code",
   "execution_count": 5,
   "metadata": {},
   "outputs": [
    {
     "name": "stdout",
     "output_type": "stream",
     "text": [
      "search: \u001b[0m\u001b[1mD\u001b[22m\u001b[0m\u001b[1ma\u001b[22m\u001b[0m\u001b[1mt\u001b[22m\u001b[0m\u001b[1ma\u001b[22m\u001b[0m\u001b[1mT\u001b[22m\u001b[0m\u001b[1my\u001b[22m\u001b[0m\u001b[1mp\u001b[22m\u001b[0m\u001b[1me\u001b[22m\n",
      "\n"
     ]
    },
    {
     "data": {
      "text/latex": [
       "No documentation found.\n",
       "\n",
       "\\section{Summary}\n",
       "\\begin{verbatim}\n",
       "mutable struct DataType <: Type{T}\n",
       "\\end{verbatim}\n",
       "\\section{Fields}\n",
       "\\begin{verbatim}\n",
       "name             :: Core.TypeName\n",
       "super            :: DataType\n",
       "parameters       :: Core.SimpleVector\n",
       "types            :: Core.SimpleVector\n",
       "names            :: Core.SimpleVector\n",
       "instance         :: Any\n",
       "layout           :: Ptr{Nothing}\n",
       "size             :: Int32\n",
       "ninitialized     :: Int32\n",
       "uid              :: Int32\n",
       "abstract         :: Bool\n",
       "mutable          :: Bool\n",
       "hasfreetypevars  :: Bool\n",
       "isconcretetype   :: Bool\n",
       "isdispatchtuple  :: Bool\n",
       "isbitstype       :: Bool\n",
       "zeroinit         :: Bool\n",
       "isinlinealloc    :: Bool\n",
       "llvm::StructType :: Ptr{Nothing}\n",
       "llvm::DIType     :: Ptr{Nothing}\n",
       "\\end{verbatim}\n",
       "\\section{Supertype Hierarchy}\n",
       "\\begin{verbatim}\n",
       "DataType <: Type{T} <: Any\n",
       "\\end{verbatim}\n"
      ],
      "text/markdown": [
       "No documentation found.\n",
       "\n",
       "# Summary\n",
       "\n",
       "```\n",
       "mutable struct DataType <: Type{T}\n",
       "```\n",
       "\n",
       "# Fields\n",
       "\n",
       "```\n",
       "name             :: Core.TypeName\n",
       "super            :: DataType\n",
       "parameters       :: Core.SimpleVector\n",
       "types            :: Core.SimpleVector\n",
       "names            :: Core.SimpleVector\n",
       "instance         :: Any\n",
       "layout           :: Ptr{Nothing}\n",
       "size             :: Int32\n",
       "ninitialized     :: Int32\n",
       "uid              :: Int32\n",
       "abstract         :: Bool\n",
       "mutable          :: Bool\n",
       "hasfreetypevars  :: Bool\n",
       "isconcretetype   :: Bool\n",
       "isdispatchtuple  :: Bool\n",
       "isbitstype       :: Bool\n",
       "zeroinit         :: Bool\n",
       "isinlinealloc    :: Bool\n",
       "llvm::StructType :: Ptr{Nothing}\n",
       "llvm::DIType     :: Ptr{Nothing}\n",
       "```\n",
       "\n",
       "# Supertype Hierarchy\n",
       "\n",
       "```\n",
       "DataType <: Type{T} <: Any\n",
       "```\n"
      ],
      "text/plain": [
       "  No documentation found.\n",
       "\n",
       "\u001b[1m  Summary\u001b[22m\n",
       "\u001b[1m  ≡≡≡≡≡≡≡≡≡\u001b[22m\n",
       "\n",
       "\u001b[36m  mutable struct DataType <: Type{T}\u001b[39m\n",
       "\n",
       "\u001b[1m  Fields\u001b[22m\n",
       "\u001b[1m  ≡≡≡≡≡≡≡≡\u001b[22m\n",
       "\n",
       "\u001b[36m  name             :: Core.TypeName\u001b[39m\n",
       "\u001b[36m  super            :: DataType\u001b[39m\n",
       "\u001b[36m  parameters       :: Core.SimpleVector\u001b[39m\n",
       "\u001b[36m  types            :: Core.SimpleVector\u001b[39m\n",
       "\u001b[36m  names            :: Core.SimpleVector\u001b[39m\n",
       "\u001b[36m  instance         :: Any\u001b[39m\n",
       "\u001b[36m  layout           :: Ptr{Nothing}\u001b[39m\n",
       "\u001b[36m  size             :: Int32\u001b[39m\n",
       "\u001b[36m  ninitialized     :: Int32\u001b[39m\n",
       "\u001b[36m  uid              :: Int32\u001b[39m\n",
       "\u001b[36m  abstract         :: Bool\u001b[39m\n",
       "\u001b[36m  mutable          :: Bool\u001b[39m\n",
       "\u001b[36m  hasfreetypevars  :: Bool\u001b[39m\n",
       "\u001b[36m  isconcretetype   :: Bool\u001b[39m\n",
       "\u001b[36m  isdispatchtuple  :: Bool\u001b[39m\n",
       "\u001b[36m  isbitstype       :: Bool\u001b[39m\n",
       "\u001b[36m  zeroinit         :: Bool\u001b[39m\n",
       "\u001b[36m  isinlinealloc    :: Bool\u001b[39m\n",
       "\u001b[36m  llvm::StructType :: Ptr{Nothing}\u001b[39m\n",
       "\u001b[36m  llvm::DIType     :: Ptr{Nothing}\u001b[39m\n",
       "\n",
       "\u001b[1m  Supertype Hierarchy\u001b[22m\n",
       "\u001b[1m  ≡≡≡≡≡≡≡≡≡≡≡≡≡≡≡≡≡≡≡≡≡\u001b[22m\n",
       "\n",
       "\u001b[36m  DataType <: Type{T} <: Any\u001b[39m"
      ]
     },
     "execution_count": 5,
     "metadata": {},
     "output_type": "execute_result"
    }
   ],
   "source": [
    "? DataType"
   ]
  },
  {
   "cell_type": "code",
   "execution_count": 6,
   "metadata": {},
   "outputs": [
    {
     "name": "stdout",
     "output_type": "stream",
     "text": [
      "\"\u001b[36m∈\u001b[39m\" can be typed by \u001b[36m\\in<tab>\u001b[39m\n",
      "\n",
      "search: \u001b[0m\u001b[1m∈\u001b[22m\n",
      "\n"
     ]
    },
    {
     "data": {
      "text/latex": [
       "\\begin{verbatim}\n",
       "in(x)\n",
       "\\end{verbatim}\n",
       "Create a function that checks whether its argument is \\href{@ref}{\\texttt{in}} \\texttt{x}, i.e. a function equivalent to \\texttt{y -> y in x}.\n",
       "\n",
       "The returned function is of type \\texttt{Base.Fix2\\{typeof(in)\\}}, which can be used to implement specialized methods.\n",
       "\n",
       "\\rule{\\textwidth}{1pt}\n",
       "\\begin{verbatim}\n",
       "in(item, collection) -> Bool\n",
       "∈(item, collection) -> Bool\n",
       "∋(collection, item) -> Bool\n",
       "\\end{verbatim}\n",
       "Determine whether an item is in the given collection, in the sense that it is \\href{@ref}{\\texttt{==}} to one of the values generated by iterating over the collection. Returns a \\texttt{Bool} value, except if \\texttt{item} is \\href{@ref}{\\texttt{missing}} or \\texttt{collection} contains \\texttt{missing} but not \\texttt{item}, in which case \\texttt{missing} is returned (\\href{https://en.wikipedia.org/wiki/Three-valued_logic}{three-valued logic}, matching the behavior of \\href{@ref}{\\texttt{any}} and \\href{@ref}{\\texttt{==}}).\n",
       "\n",
       "Some collections follow a slightly different definition. For example, \\href{@ref}{\\texttt{Set}}s check whether the item \\href{@ref}{\\texttt{isequal}} to one of the elements. \\href{@ref}{\\texttt{Dict}}s look for \\texttt{key=>value} pairs, and the key is compared using \\href{@ref}{\\texttt{isequal}}. To test for the presence of a key in a dictionary, use \\href{@ref}{\\texttt{haskey}} or \\texttt{k in keys(dict)}. For these collections, the result is always a \\texttt{Bool} and never \\texttt{missing}.\n",
       "\n",
       "\\section{Examples}\n",
       "\\begin{verbatim}\n",
       "julia> a = 1:3:20\n",
       "1:3:19\n",
       "\n",
       "julia> 4 in a\n",
       "true\n",
       "\n",
       "julia> 5 in a\n",
       "false\n",
       "\n",
       "julia> missing in [1, 2]\n",
       "missing\n",
       "\n",
       "julia> 1 in [2, missing]\n",
       "missing\n",
       "\n",
       "julia> 1 in [1, missing]\n",
       "true\n",
       "\n",
       "julia> missing in Set([1, 2])\n",
       "false\n",
       "\\end{verbatim}\n"
      ],
      "text/markdown": [
       "```\n",
       "in(x)\n",
       "```\n",
       "\n",
       "Create a function that checks whether its argument is [`in`](@ref) `x`, i.e. a function equivalent to `y -> y in x`.\n",
       "\n",
       "The returned function is of type `Base.Fix2{typeof(in)}`, which can be used to implement specialized methods.\n",
       "\n",
       "---\n",
       "\n",
       "```\n",
       "in(item, collection) -> Bool\n",
       "∈(item, collection) -> Bool\n",
       "∋(collection, item) -> Bool\n",
       "```\n",
       "\n",
       "Determine whether an item is in the given collection, in the sense that it is [`==`](@ref) to one of the values generated by iterating over the collection. Returns a `Bool` value, except if `item` is [`missing`](@ref) or `collection` contains `missing` but not `item`, in which case `missing` is returned ([three-valued logic](https://en.wikipedia.org/wiki/Three-valued_logic), matching the behavior of [`any`](@ref) and [`==`](@ref)).\n",
       "\n",
       "Some collections follow a slightly different definition. For example, [`Set`](@ref)s check whether the item [`isequal`](@ref) to one of the elements. [`Dict`](@ref)s look for `key=>value` pairs, and the key is compared using [`isequal`](@ref). To test for the presence of a key in a dictionary, use [`haskey`](@ref) or `k in keys(dict)`. For these collections, the result is always a `Bool` and never `missing`.\n",
       "\n",
       "# Examples\n",
       "\n",
       "```jldoctest\n",
       "julia> a = 1:3:20\n",
       "1:3:19\n",
       "\n",
       "julia> 4 in a\n",
       "true\n",
       "\n",
       "julia> 5 in a\n",
       "false\n",
       "\n",
       "julia> missing in [1, 2]\n",
       "missing\n",
       "\n",
       "julia> 1 in [2, missing]\n",
       "missing\n",
       "\n",
       "julia> 1 in [1, missing]\n",
       "true\n",
       "\n",
       "julia> missing in Set([1, 2])\n",
       "false\n",
       "```\n"
      ],
      "text/plain": [
       "\u001b[36m  in(x)\u001b[39m\n",
       "\n",
       "  Create a function that checks whether its argument is \u001b[36min\u001b[39m \u001b[36mx\u001b[39m, i.e. a function\n",
       "  equivalent to \u001b[36my -> y in x\u001b[39m.\n",
       "\n",
       "  The returned function is of type \u001b[36mBase.Fix2{typeof(in)}\u001b[39m, which can be used to\n",
       "  implement specialized methods.\n",
       "\n",
       "  ────────────────────────────────────────────────────────────────────────────\n",
       "\n",
       "\u001b[36m  in(item, collection) -> Bool\u001b[39m\n",
       "\u001b[36m  ∈(item, collection) -> Bool\u001b[39m\n",
       "\u001b[36m  ∋(collection, item) -> Bool\u001b[39m\n",
       "\n",
       "  Determine whether an item is in the given collection, in the sense that it\n",
       "  is \u001b[36m==\u001b[39m to one of the values generated by iterating over the collection.\n",
       "  Returns a \u001b[36mBool\u001b[39m value, except if \u001b[36mitem\u001b[39m is \u001b[36mmissing\u001b[39m or \u001b[36mcollection\u001b[39m contains\n",
       "  \u001b[36mmissing\u001b[39m but not \u001b[36mitem\u001b[39m, in which case \u001b[36mmissing\u001b[39m is returned (three-valued logic\n",
       "  (https://en.wikipedia.org/wiki/Three-valued_logic), matching the behavior of\n",
       "  \u001b[36many\u001b[39m and \u001b[36m==\u001b[39m).\n",
       "\n",
       "  Some collections follow a slightly different definition. For example, \u001b[36mSet\u001b[39ms\n",
       "  check whether the item \u001b[36misequal\u001b[39m to one of the elements. \u001b[36mDict\u001b[39ms look for\n",
       "  \u001b[36mkey=>value\u001b[39m pairs, and the key is compared using \u001b[36misequal\u001b[39m. To test for the\n",
       "  presence of a key in a dictionary, use \u001b[36mhaskey\u001b[39m or \u001b[36mk in keys(dict)\u001b[39m. For these\n",
       "  collections, the result is always a \u001b[36mBool\u001b[39m and never \u001b[36mmissing\u001b[39m.\n",
       "\n",
       "\u001b[1m  Examples\u001b[22m\n",
       "\u001b[1m  ≡≡≡≡≡≡≡≡≡≡\u001b[22m\n",
       "\n",
       "\u001b[36m  julia> a = 1:3:20\u001b[39m\n",
       "\u001b[36m  1:3:19\u001b[39m\n",
       "\u001b[36m  \u001b[39m\n",
       "\u001b[36m  julia> 4 in a\u001b[39m\n",
       "\u001b[36m  true\u001b[39m\n",
       "\u001b[36m  \u001b[39m\n",
       "\u001b[36m  julia> 5 in a\u001b[39m\n",
       "\u001b[36m  false\u001b[39m\n",
       "\u001b[36m  \u001b[39m\n",
       "\u001b[36m  julia> missing in [1, 2]\u001b[39m\n",
       "\u001b[36m  missing\u001b[39m\n",
       "\u001b[36m  \u001b[39m\n",
       "\u001b[36m  julia> 1 in [2, missing]\u001b[39m\n",
       "\u001b[36m  missing\u001b[39m\n",
       "\u001b[36m  \u001b[39m\n",
       "\u001b[36m  julia> 1 in [1, missing]\u001b[39m\n",
       "\u001b[36m  true\u001b[39m\n",
       "\u001b[36m  \u001b[39m\n",
       "\u001b[36m  julia> missing in Set([1, 2])\u001b[39m\n",
       "\u001b[36m  false\u001b[39m"
      ]
     },
     "execution_count": 6,
     "metadata": {},
     "output_type": "execute_result"
    }
   ],
   "source": [
    "? ∈ # show how to type a character"
   ]
  },
  {
   "cell_type": "markdown",
   "metadata": {},
   "source": [
    "### Symbol"
   ]
  },
  {
   "cell_type": "code",
   "execution_count": 1,
   "metadata": {},
   "outputs": [],
   "source": [
    "using DataFrames"
   ]
  },
  {
   "cell_type": "code",
   "execution_count": 2,
   "metadata": {},
   "outputs": [
    {
     "data": {
      "text/plain": [
       "Dict{Symbol,Any} with 2 entries:\n",
       "  :col2 => \"F\"\n",
       "  :col1 => 2"
      ]
     },
     "execution_count": 2,
     "metadata": {},
     "output_type": "execute_result"
    }
   ],
   "source": [
    "row2append = Dict(:col2 => \"F\", :col1 => 2)"
   ]
  },
  {
   "cell_type": "code",
   "execution_count": 3,
   "metadata": {},
   "outputs": [
    {
     "name": "stdout",
     "output_type": "stream",
     "text": [
      "5×2 DataFrame\n",
      "│ Row │ col1  │ col2    │\n",
      "│     │ \u001b[90mInt64\u001b[39m │ \u001b[90mString⍰\u001b[39m │\n",
      "├─────┼───────┼─────────┤\n",
      "│ 1   │ 1     │ M       │\n",
      "│ 2   │ 2     │ F       │\n",
      "│ 3   │ 3     │ F       │\n",
      "│ 4   │ 4     │ \u001b[90mmissing\u001b[39m │\n",
      "│ 5   │ 5     │ M       │6×2 DataFrame\n",
      "│ Row │ col1  │ col2    │\n",
      "│     │ \u001b[90mInt64\u001b[39m │ \u001b[90mString⍰\u001b[39m │\n",
      "├─────┼───────┼─────────┤\n",
      "│ 1   │ 1     │ M       │\n",
      "│ 2   │ 2     │ F       │\n",
      "│ 3   │ 3     │ F       │\n",
      "│ 4   │ 4     │ \u001b[90mmissing\u001b[39m │\n",
      "│ 5   │ 5     │ M       │\n",
      "│ 6   │ 2     │ F       │"
     ]
    }
   ],
   "source": [
    "df = DataFrame()\n",
    "df.col1 = 1:5\n",
    "df.col2 = [\"M\", \"F\", \"F\", missing, \"M\"]\n",
    "show(df)\n",
    "push!(df, row2append)\n",
    "show(df)"
   ]
  },
  {
   "cell_type": "code",
   "execution_count": 4,
   "metadata": {},
   "outputs": [
    {
     "data": {
      "text/plain": [
       "Symbol"
      ]
     },
     "execution_count": 4,
     "metadata": {},
     "output_type": "execute_result"
    }
   ],
   "source": [
    "typeof(:col1)"
   ]
  },
  {
   "cell_type": "code",
   "execution_count": 5,
   "metadata": {},
   "outputs": [
    {
     "data": {
      "text/plain": [
       "6-element Array{Int64,1}:\n",
       " 1\n",
       " 2\n",
       " 3\n",
       " 4\n",
       " 5\n",
       " 2"
      ]
     },
     "execution_count": 5,
     "metadata": {},
     "output_type": "execute_result"
    }
   ],
   "source": [
    "df[:,:col1] # use symbol to locate"
   ]
  },
  {
   "cell_type": "code",
   "execution_count": 6,
   "metadata": {},
   "outputs": [
    {
     "data": {
      "text/html": [
       "<table class=\"data-frame\"><thead><tr><th></th><th>col1</th></tr><tr><th></th><th>Int64</th></tr></thead><tbody><p>6 rows × 1 columns</p><tr><th>1</th><td>1</td></tr><tr><th>2</th><td>2</td></tr><tr><th>3</th><td>3</td></tr><tr><th>4</th><td>4</td></tr><tr><th>5</th><td>5</td></tr><tr><th>6</th><td>2</td></tr></tbody></table>"
      ],
      "text/latex": [
       "\\begin{tabular}{r|c}\n",
       "\t& col1\\\\\n",
       "\t\\hline\n",
       "\t& Int64\\\\\n",
       "\t\\hline\n",
       "\t1 & 1 \\\\\n",
       "\t2 & 2 \\\\\n",
       "\t3 & 3 \\\\\n",
       "\t4 & 4 \\\\\n",
       "\t5 & 5 \\\\\n",
       "\t6 & 2 \\\\\n",
       "\\end{tabular}\n"
      ],
      "text/plain": [
       "6×1 DataFrame\n",
       "│ Row │ col1  │\n",
       "│     │ \u001b[90mInt64\u001b[39m │\n",
       "├─────┼───────┤\n",
       "│ 1   │ 1     │\n",
       "│ 2   │ 2     │\n",
       "│ 3   │ 3     │\n",
       "│ 4   │ 4     │\n",
       "│ 5   │ 5     │\n",
       "│ 6   │ 2     │"
      ]
     },
     "execution_count": 6,
     "metadata": {},
     "output_type": "execute_result"
    }
   ],
   "source": [
    "df[:,[:col1]] # use symbol to locate"
   ]
  },
  {
   "cell_type": "code",
   "execution_count": null,
   "metadata": {},
   "outputs": [],
   "source": []
  }
 ],
 "metadata": {
  "@webio": {
   "lastCommId": null,
   "lastKernelId": null
  },
  "kernelspec": {
   "display_name": "Julia 1.4.0",
   "language": "julia",
   "name": "julia-1.4"
  },
  "language_info": {
   "file_extension": ".jl",
   "mimetype": "application/julia",
   "name": "julia",
   "version": "1.4.0"
  }
 },
 "nbformat": 4,
 "nbformat_minor": 4
}
