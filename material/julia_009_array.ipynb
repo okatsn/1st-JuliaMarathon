{
 "cells": [
  {
   "cell_type": "markdown",
   "metadata": {
    "colab_type": "text",
    "id": "hBMjbwshORhN"
   },
   "source": [
    "# 陣列 (Array)\n",
    "\n",
    "陣列的介紹包含了一維到多維陣列，通常一維陣列也稱為向量 (vector)，二維陣列稱為矩陣 (matrix)。有關於陣列相關的父型別，最主要是由 `AbstractArray`、`AbstractVector`、`AbstractMatrix` 組成，分別可以用來代表 N 維、一維、二維的陣列的抽象型別。\n",
    "\n",
    "![](AbstractArray.png)\n",
    "\n",
    "[註1] 在多維陣列提到索引或元素的位置時，我們將採用”直”行(column) ”橫”列(row) 來表示。\n",
    "\n",
    "[註2] 型別系統將會在後續的內容中進行詳細介紹。"
   ]
  },
  {
   "cell_type": "markdown",
   "metadata": {
    "colab_type": "text",
    "id": "wMJwrZ5DORhQ"
   },
   "source": [
    "## 1. 陣列的建立"
   ]
  },
  {
   "cell_type": "markdown",
   "metadata": {},
   "source": [
    "create an empty string array of dimension 1."
   ]
  },
  {
   "cell_type": "code",
   "execution_count": 1,
   "metadata": {},
   "outputs": [
    {
     "data": {
      "text/plain": [
       "0-element Array{String,1}"
      ]
     },
     "execution_count": 1,
     "metadata": {},
     "output_type": "execute_result"
    }
   ],
   "source": [
    "Array{String}(undef,0)"
   ]
  },
  {
   "cell_type": "markdown",
   "metadata": {},
   "source": [
    "最簡單的 array 創建方式，用中括號 `[ ]` 包含所有陣列元素 (element)。"
   ]
  },
  {
   "cell_type": "code",
   "execution_count": 1,
   "metadata": {
    "colab": {},
    "colab_type": "code",
    "id": "T9YX6r2EORhS",
    "outputId": "776d7324-5833-4fcf-829a-7b4805a69d12"
   },
   "outputs": [
    {
     "data": {
      "text/plain": [
       "1×3 Array{Int64,2}:\n",
       " 1  5  3"
      ]
     },
     "execution_count": 1,
     "metadata": {},
     "output_type": "execute_result"
    }
   ],
   "source": [
    "A = [1 5 3]"
   ]
  },
  {
   "cell_type": "markdown",
   "metadata": {
    "colab_type": "text",
    "id": "HWBjFQMmORhX"
   },
   "source": [
    "陣列中的元素可以具備不同的資料型別值。可以讓 Julia 自動識別元素類型而不指定，而 Julia 回傳的型別則會是 `Any`。"
   ]
  },
  {
   "cell_type": "code",
   "execution_count": 2,
   "metadata": {
    "colab": {},
    "colab_type": "code",
    "id": "b3swHPmgORhY",
    "outputId": "873f2125-4d40-45c5-cc9f-a3d6b8528535"
   },
   "outputs": [
    {
     "data": {
      "text/plain": [
       "1×3 Array{Any,2}:\n",
       " 1.0  \"a string\"  3"
      ]
     },
     "execution_count": 2,
     "metadata": {},
     "output_type": "execute_result"
    }
   ],
   "source": [
    "A = [1.0 \"a string\" 3]"
   ]
  },
  {
   "cell_type": "markdown",
   "metadata": {
    "colab_type": "text",
    "id": "qPeQJmGPORhb"
   },
   "source": [
    "使用 `fill()` 函式也可以產生陣列。下例是產生一個 2 x 3 的陣列，陣列內的值均為數字 1。"
   ]
  },
  {
   "cell_type": "code",
   "execution_count": 3,
   "metadata": {
    "colab": {},
    "colab_type": "code",
    "id": "DWvYAujcORhc",
    "outputId": "47589b30-7501-4b7c-c81b-4a71f42fb95c",
    "scrolled": true
   },
   "outputs": [
    {
     "data": {
      "text/plain": [
       "2×3 Array{Int64,2}:\n",
       " 1  1  1\n",
       " 1  1  1"
      ]
     },
     "execution_count": 3,
     "metadata": {},
     "output_type": "execute_result"
    }
   ],
   "source": [
    "fill(1, (2, 3))"
   ]
  },
  {
   "cell_type": "markdown",
   "metadata": {},
   "source": [
    "`fill(x, dims::Tuple)` OR `fill(x, dims...)`\n",
    "`fill!(array_A, value_x)`"
   ]
  },
  {
   "cell_type": "code",
   "execution_count": 13,
   "metadata": {},
   "outputs": [
    {
     "data": {
      "text/plain": [
       "true"
      ]
     },
     "execution_count": 13,
     "metadata": {},
     "output_type": "execute_result"
    }
   ],
   "source": [
    "fill(0,2,3) == fill(0,(2,3))"
   ]
  },
  {
   "cell_type": "markdown",
   "metadata": {
    "colab_type": "text",
    "id": "OMoCMN3HORhg"
   },
   "source": [
    "若是要值填入一個既有的陣列，可以使用 `fill!()` 函式。"
   ]
  },
  {
   "cell_type": "code",
   "execution_count": 144,
   "metadata": {
    "colab": {},
    "colab_type": "code",
    "id": "JQ3hbyXzORhh",
    "outputId": "6d8f30d4-1c36-45fd-89fa-943cd03b4718"
   },
   "outputs": [
    {
     "data": {
      "text/plain": [
       "2×3 Array{Float64,2}:\n",
       " 0.0  0.0  0.0\n",
       " 0.0  0.0  0.0"
      ]
     },
     "execution_count": 144,
     "metadata": {},
     "output_type": "execute_result"
    }
   ],
   "source": [
    "a = zeros(2, 3)"
   ]
  },
  {
   "cell_type": "code",
   "execution_count": 146,
   "metadata": {
    "colab": {},
    "colab_type": "code",
    "id": "vvXnjmIBORhl",
    "outputId": "779b3287-5895-448d-f6b4-564f34b6f146"
   },
   "outputs": [
    {
     "data": {
      "text/plain": [
       "2×3 Array{Float64,2}:\n",
       " 3.0  3.0  3.0\n",
       " 3.0  3.0  3.0"
      ]
     },
     "execution_count": 146,
     "metadata": {},
     "output_type": "execute_result"
    }
   ],
   "source": [
    "fill!(a, 3)"
   ]
  },
  {
   "cell_type": "markdown",
   "metadata": {},
   "source": [
    "The difference is that Vector is a 1-dimensional Array, so when you write e.g. Vector{Int} it is a shorthand to Array{Int, 1}:"
   ]
  },
  {
   "cell_type": "code",
   "execution_count": 147,
   "metadata": {},
   "outputs": [
    {
     "data": {
      "text/plain": [
       "3-element Array{Array{Float64,1},1}:\n",
       " #undef\n",
       " #undef\n",
       " #undef"
      ]
     },
     "execution_count": 147,
     "metadata": {},
     "output_type": "execute_result"
    }
   ],
   "source": [
    "b_64 = Vector{Vector{Float64}}(undef, 3)"
   ]
  },
  {
   "cell_type": "code",
   "execution_count": 148,
   "metadata": {
    "scrolled": true
   },
   "outputs": [
    {
     "data": {
      "text/plain": [
       "3-element Array{Array{Float64,1},1}:\n",
       " [1.1, 1.1, 1.1]\n",
       " [1.1, 1.1, 1.1]\n",
       " [1.1, 1.1, 1.1]"
      ]
     },
     "execution_count": 148,
     "metadata": {},
     "output_type": "execute_result"
    }
   ],
   "source": [
    "fill!(b_64, [1.1; 1.1; 1.1] )"
   ]
  },
  {
   "cell_type": "code",
   "execution_count": 150,
   "metadata": {},
   "outputs": [
    {
     "data": {
      "text/plain": [
       "3-element Array{Array{Float64,1},1}:\n",
       " [1.0, 1.0, 1.0]\n",
       " [1.0, 1.0, 1.0]\n",
       " [1.0, 1.0, 1.0]"
      ]
     },
     "execution_count": 150,
     "metadata": {},
     "output_type": "execute_result"
    }
   ],
   "source": [
    "fill!(b_64, [1; 1; 1]) # it is ok to fill Int into Float"
   ]
  },
  {
   "cell_type": "markdown",
   "metadata": {},
   "source": [
    "some error\n",
    "-  `fill!([1;2], [1 1])`: Error occurrs because element to be replaced (Int64) is different from element to fill (Array{Int64,1})\n",
    "- `fill!([1;2], 1.1)`: Error occurrs because element to be replaced (Int64) is different from element to fill (Float64); that is, filling Float64 into Int64\n",
    " is NOT OK. However, filling Int64 into Float64 is OK."
   ]
  },
  {
   "cell_type": "code",
   "execution_count": 185,
   "metadata": {
    "scrolled": true
   },
   "outputs": [
    {
     "ename": "MethodError",
     "evalue": "MethodError: Cannot `convert` an object of type Array{Int64,2} to an object of type Int64\nClosest candidates are:\n  convert(::Type{T}, !Matched::T) where T<:Number at number.jl:6\n  convert(::Type{T}, !Matched::Number) where T<:Number at number.jl:7\n  convert(::Type{T}, !Matched::Ptr) where T<:Integer at pointer.jl:23\n  ...",
     "output_type": "error",
     "traceback": [
      "MethodError: Cannot `convert` an object of type Array{Int64,2} to an object of type Int64\nClosest candidates are:\n  convert(::Type{T}, !Matched::T) where T<:Number at number.jl:6\n  convert(::Type{T}, !Matched::Number) where T<:Number at number.jl:7\n  convert(::Type{T}, !Matched::Ptr) where T<:Integer at pointer.jl:23\n  ...",
      "",
      "Stacktrace:",
      " [1] fill!(::Array{Int64,1}, ::Array{Int64,2}) at .\\array.jl:336",
      " [2] top-level scope at In[185]:1"
     ]
    }
   ],
   "source": [
    "fill!([1;1], [1 1]) # because dimension not matched"
   ]
  },
  {
   "cell_type": "code",
   "execution_count": 166,
   "metadata": {},
   "outputs": [
    {
     "ename": "InexactError",
     "evalue": "InexactError: Int64(1.1)",
     "output_type": "error",
     "traceback": [
      "InexactError: Int64(1.1)",
      "",
      "Stacktrace:",
      " [1] Int64 at .\\float.jl:710 [inlined]",
      " [2] convert at .\\number.jl:7 [inlined]",
      " [3] fill!(::Array{Int64,1}, ::Float64) at .\\array.jl:336",
      " [4] top-level scope at In[166]:1"
     ]
    }
   ],
   "source": [
    "fill!([1;1], 1.1) # we can't fill Float64 into Int64 (but reverse it is ok)"
   ]
  },
  {
   "cell_type": "code",
   "execution_count": 171,
   "metadata": {
    "scrolled": true
   },
   "outputs": [
    {
     "ename": "MethodError",
     "evalue": "MethodError: Cannot `convert` an object of type Int64 to an object of type Array{Int64,1}\nClosest candidates are:\n  convert(::Type{T}, !Matched::AbstractArray) where T<:Array at array.jl:533\n  convert(::Type{T}, !Matched::T) where T<:AbstractArray at abstractarray.jl:14\n  convert(::Type{T}, !Matched::LinearAlgebra.Factorization) where T<:AbstractArray at D:\\buildbot\\worker\\package_win64\\build\\usr\\share\\julia\\stdlib\\v1.4\\LinearAlgebra\\src\\factorization.jl:55\n  ...",
     "output_type": "error",
     "traceback": [
      "MethodError: Cannot `convert` an object of type Int64 to an object of type Array{Int64,1}\nClosest candidates are:\n  convert(::Type{T}, !Matched::AbstractArray) where T<:Array at array.jl:533\n  convert(::Type{T}, !Matched::T) where T<:AbstractArray at abstractarray.jl:14\n  convert(::Type{T}, !Matched::LinearAlgebra.Factorization) where T<:AbstractArray at D:\\buildbot\\worker\\package_win64\\build\\usr\\share\\julia\\stdlib\\v1.4\\LinearAlgebra\\src\\factorization.jl:55\n  ...",
      "",
      "Stacktrace:",
      " [1] fill!(::Array{Array{Int64,1},1}, ::Int64) at .\\array.jl:336",
      " [2] top-level scope at In[171]:1"
     ]
    }
   ],
   "source": [
    "fill!(Vector{Vector{Int}}(undef, 3), 1) # also dimension not matched"
   ]
  },
  {
   "cell_type": "code",
   "execution_count": 172,
   "metadata": {},
   "outputs": [
    {
     "data": {
      "text/plain": [
       "3-element Array{Array{Int64,1},1}:\n",
       " [1]\n",
       " [1]\n",
       " [1]"
      ]
     },
     "execution_count": 172,
     "metadata": {},
     "output_type": "execute_result"
    }
   ],
   "source": [
    "fill!(Vector{Vector{Int}}(undef, 3), [1]) \n",
    "# this is OK, since [1] belongs to Vector{Int}"
   ]
  },
  {
   "cell_type": "markdown",
   "metadata": {},
   "source": [
    "**More about fill and fill!**\n",
    "- fill!(a,b) keeps the type of a\n",
    "- fill(b,size(a)) creates a new array with Any or auto-detected type (By Zheng Kai)"
   ]
  },
  {
   "cell_type": "code",
   "execution_count": 353,
   "metadata": {},
   "outputs": [
    {
     "data": {
      "text/plain": [
       "2-element Array{Any,1}:\n",
       " 1\n",
       " 1"
      ]
     },
     "execution_count": 353,
     "metadata": {},
     "output_type": "execute_result"
    }
   ],
   "source": [
    "a = fill!(Vector(undef,2),1)"
   ]
  },
  {
   "cell_type": "code",
   "execution_count": 354,
   "metadata": {},
   "outputs": [
    {
     "data": {
      "text/plain": [
       "2-element Array{Int64,1}:\n",
       " 1\n",
       " 1"
      ]
     },
     "execution_count": 354,
     "metadata": {},
     "output_type": "execute_result"
    }
   ],
   "source": [
    "b = [1;1] # [[1];[1]] either"
   ]
  },
  {
   "cell_type": "code",
   "execution_count": 355,
   "metadata": {},
   "outputs": [
    {
     "data": {
      "text/plain": [
       "true"
      ]
     },
     "execution_count": 355,
     "metadata": {},
     "output_type": "execute_result"
    }
   ],
   "source": [
    "a == b"
   ]
  },
  {
   "cell_type": "code",
   "execution_count": 250,
   "metadata": {},
   "outputs": [
    {
     "data": {
      "text/plain": [
       "2-element Array{Any,1}:\n",
       " [1 1]\n",
       " [1 1]"
      ]
     },
     "execution_count": 250,
     "metadata": {},
     "output_type": "execute_result"
    }
   ],
   "source": [
    "fill!(a, [1 1]) "
   ]
  },
  {
   "cell_type": "code",
   "execution_count": 251,
   "metadata": {},
   "outputs": [
    {
     "ename": "MethodError",
     "evalue": "MethodError: Cannot `convert` an object of type Array{Int64,2} to an object of type Int64\nClosest candidates are:\n  convert(::Type{T}, !Matched::T) where T<:Number at number.jl:6\n  convert(::Type{T}, !Matched::Number) where T<:Number at number.jl:7\n  convert(::Type{T}, !Matched::Ptr) where T<:Integer at pointer.jl:23\n  ...",
     "output_type": "error",
     "traceback": [
      "MethodError: Cannot `convert` an object of type Array{Int64,2} to an object of type Int64\nClosest candidates are:\n  convert(::Type{T}, !Matched::T) where T<:Number at number.jl:6\n  convert(::Type{T}, !Matched::Number) where T<:Number at number.jl:7\n  convert(::Type{T}, !Matched::Ptr) where T<:Integer at pointer.jl:23\n  ...",
      "",
      "Stacktrace:",
      " [1] fill!(::Array{Int64,1}, ::Array{Int64,2}) at .\\array.jl:336",
      " [2] top-level scope at In[251]:1"
     ]
    }
   ],
   "source": [
    "fill!(b, [1 1])"
   ]
  },
  {
   "cell_type": "code",
   "execution_count": 295,
   "metadata": {},
   "outputs": [
    {
     "data": {
      "text/plain": [
       "2-element Array{Array{Int64,2},1}:\n",
       " [1 1]\n",
       " [1 1]"
      ]
     },
     "execution_count": 295,
     "metadata": {},
     "output_type": "execute_result"
    }
   ],
   "source": [
    "fill([1 1],size(a))"
   ]
  },
  {
   "cell_type": "code",
   "execution_count": 296,
   "metadata": {
    "scrolled": true
   },
   "outputs": [
    {
     "data": {
      "text/plain": [
       "2-element Array{Array{Int64,2},1}:\n",
       " [1 1]\n",
       " [1 1]"
      ]
     },
     "execution_count": 296,
     "metadata": {},
     "output_type": "execute_result"
    }
   ],
   "source": [
    "fill([1 1],size(b))"
   ]
  },
  {
   "cell_type": "markdown",
   "metadata": {},
   "source": [
    "**fill array with anything**"
   ]
  },
  {
   "cell_type": "code",
   "execution_count": 362,
   "metadata": {},
   "outputs": [
    {
     "data": {
      "text/plain": [
       "2×3 Array{String,2}:\n",
       " \"text1\"  \"text1\"  \"text1\"\n",
       " \"text1\"  \"text1\"  \"text1\""
      ]
     },
     "execution_count": 362,
     "metadata": {},
     "output_type": "execute_result"
    }
   ],
   "source": [
    "fill(\"text1\",(2,3))"
   ]
  },
  {
   "cell_type": "code",
   "execution_count": 363,
   "metadata": {},
   "outputs": [
    {
     "data": {
      "text/plain": [
       "2-element Array{Any,1}:\n",
       " [\"text1\", \"text2\"]\n",
       " [\"text1\", \"text2\"]"
      ]
     },
     "execution_count": 363,
     "metadata": {},
     "output_type": "execute_result"
    }
   ],
   "source": [
    "fill!(a,[\"text1\",\"text2\"])"
   ]
  },
  {
   "cell_type": "code",
   "execution_count": 364,
   "metadata": {
    "scrolled": true
   },
   "outputs": [
    {
     "data": {
      "text/plain": [
       "3×2 Array{Any,2}:\n",
       " [\"123\", \"sdf\"]  [\"123\", \"sdf\"]\n",
       " [\"123\", \"sdf\"]  [\"123\", \"sdf\"]\n",
       " [\"123\", \"sdf\"]  [\"123\", \"sdf\"]"
      ]
     },
     "execution_count": 364,
     "metadata": {},
     "output_type": "execute_result"
    }
   ],
   "source": [
    "a2 = Matrix{Any}(undef, 3, 2)\n",
    "fill!(a2,[\"123\",\"sdf\"])"
   ]
  },
  {
   "cell_type": "markdown",
   "metadata": {
    "colab_type": "text",
    "id": "cXX3dkGYORhq"
   },
   "source": [
    "若要查看陣列的維度，可以使用 `ndims()` 函式回傳陣列的維度數。要注意的是，列陣列的維度也會是 2。"
   ]
  },
  {
   "cell_type": "code",
   "execution_count": 75,
   "metadata": {
    "colab": {},
    "colab_type": "code",
    "id": "zYJQAYI9ORhr",
    "outputId": "8e5b58ad-ea85-41c0-bc1d-02f6513a10b6"
   },
   "outputs": [
    {
     "data": {
      "text/plain": [
       "1×3 Array{Int64,2}:\n",
       " 1  5  3"
      ]
     },
     "execution_count": 75,
     "metadata": {},
     "output_type": "execute_result"
    }
   ],
   "source": [
    "A = [1 5 3]"
   ]
  },
  {
   "cell_type": "code",
   "execution_count": 76,
   "metadata": {
    "colab": {},
    "colab_type": "code",
    "id": "oaRkjmzuORhu",
    "outputId": "c4e4f320-f75d-4ccd-999e-018355d55cd2"
   },
   "outputs": [
    {
     "data": {
      "text/plain": [
       "2"
      ]
     },
     "execution_count": 76,
     "metadata": {},
     "output_type": "execute_result"
    }
   ],
   "source": [
    "ndims(A)"
   ]
  },
  {
   "cell_type": "markdown",
   "metadata": {
    "colab_type": "text",
    "id": "btDzdR2OORhy"
   },
   "source": [
    "行陣列 (或稱行向量) 的維度則會是 1。"
   ]
  },
  {
   "cell_type": "code",
   "execution_count": 68,
   "metadata": {
    "colab": {},
    "colab_type": "code",
    "id": "98VJby0zORhz",
    "outputId": "20f5e7c9-5a50-4a5e-cf33-c5b3860eceae"
   },
   "outputs": [
    {
     "data": {
      "text/plain": [
       "1"
      ]
     },
     "execution_count": 68,
     "metadata": {},
     "output_type": "execute_result"
    }
   ],
   "source": [
    "A = [1, 5, 3]\n",
    "ndims(A)"
   ]
  },
  {
   "cell_type": "markdown",
   "metadata": {
    "colab_type": "text",
    "id": "HrWXI71eORh3"
   },
   "source": [
    "在創建行陣列 (或稱行向量) 時可以用逗號或分號換列，但是在創建二維陣列 (矩陣) 時則不能用逗號換列。所以在**創建向量時**建議可以**統一用分號**，就不會混淆了。\n",
    "\n",
    "**(!) ';' and ',' do matter on concatenating vectors**"
   ]
  },
  {
   "cell_type": "code",
   "execution_count": 77,
   "metadata": {},
   "outputs": [
    {
     "data": {
      "text/plain": [
       "true"
      ]
     },
     "execution_count": 77,
     "metadata": {},
     "output_type": "execute_result"
    }
   ],
   "source": [
    "[1,2,3] == [1;2;3]"
   ]
  },
  {
   "cell_type": "code",
   "execution_count": 70,
   "metadata": {
    "colab": {},
    "colab_type": "code",
    "id": "vRpc7keCORh4",
    "outputId": "cad0a22d-a174-4903-999d-c193939df2e3"
   },
   "outputs": [
    {
     "data": {
      "text/plain": [
       "3×2 Array{Int64,2}:\n",
       " 1  2\n",
       " 3  4\n",
       " 5  6"
      ]
     },
     "execution_count": 70,
     "metadata": {},
     "output_type": "execute_result"
    }
   ],
   "source": [
    "A = [1 2; 3 4; 5 6]"
   ]
  },
  {
   "cell_type": "markdown",
   "metadata": {
    "colab_type": "text",
    "id": "Dammy1b8ORh7"
   },
   "source": [
    "用逗號則會產生錯誤。"
   ]
  },
  {
   "cell_type": "code",
   "execution_count": null,
   "metadata": {
    "colab": {},
    "colab_type": "code",
    "id": "5w2bssX-ORh8",
    "outputId": "e292d788-aeb3-4c8d-a143-2377b205d580"
   },
   "outputs": [
    {
     "ename": "LoadError",
     "evalue": "syntax: unexpected comma in matrix expression",
     "output_type": "error",
     "traceback": [
      "syntax: unexpected comma in matrix expression",
      ""
     ]
    }
   ],
   "source": [
    "A = [1 2, 3 4, 5 6]"
   ]
  },
  {
   "cell_type": "code",
   "execution_count": 398,
   "metadata": {},
   "outputs": [
    {
     "data": {
      "text/plain": [
       "true"
      ]
     },
     "execution_count": 398,
     "metadata": {},
     "output_type": "execute_result"
    }
   ],
   "source": [
    "[1,2,2,2] == [1;2;2;2]"
   ]
  },
  {
   "cell_type": "code",
   "execution_count": 400,
   "metadata": {
    "scrolled": true
   },
   "outputs": [
    {
     "ename": "ErrorException",
     "evalue": "syntax: unexpected semicolon in array expression",
     "output_type": "error",
     "traceback": [
      "syntax: unexpected semicolon in array expression",
      "",
      "Stacktrace:",
      " [1] top-level scope at C:\\Users\\HSI\\.julia\\packages\\IJulia\\yLI42\\src\\kernel.jl:52"
     ]
    }
   ],
   "source": [
    "[1,2;2;2] # error occurred when semicolon and comma are both used in creating 2d array (matrix)"
   ]
  },
  {
   "cell_type": "markdown",
   "metadata": {},
   "source": [
    "**difference between 1d and 2d array**"
   ]
  },
  {
   "cell_type": "code",
   "execution_count": 407,
   "metadata": {},
   "outputs": [
    {
     "data": {
      "text/plain": [
       "1×2 Array{Int64,2}:\n",
       " 1  2"
      ]
     },
     "execution_count": 407,
     "metadata": {},
     "output_type": "execute_result"
    }
   ],
   "source": [
    "[1 2] # 2d array"
   ]
  },
  {
   "cell_type": "code",
   "execution_count": 409,
   "metadata": {},
   "outputs": [
    {
     "data": {
      "text/plain": [
       "2-element Array{Int64,1}:\n",
       " 1\n",
       " 2"
      ]
     },
     "execution_count": 409,
     "metadata": {},
     "output_type": "execute_result"
    }
   ],
   "source": [
    "[1;2] # (!) This create 1d array\n",
    "# this is also identical to [1,2]"
   ]
  },
  {
   "cell_type": "markdown",
   "metadata": {
    "colab_type": "text",
    "id": "gEjjw0XpORiA"
   },
   "source": [
    "### 向量 (Vector) 與矩陣 (Matrix)\n",
    "\n",
    "如同一開始所提，向量和矩陣分別是一維和二維的陣列，在 Julia 中也提供了 `Vector` 和 `Matrix` 別名 (alias)。"
   ]
  },
  {
   "cell_type": "code",
   "execution_count": 78,
   "metadata": {
    "colab": {},
    "colab_type": "code",
    "id": "PlpQoZgRORiC",
    "outputId": "a0a57cfd-8a62-4831-ddc2-de473f9196a5"
   },
   "outputs": [
    {
     "data": {
      "text/plain": [
       "Array{T,1} where T"
      ]
     },
     "execution_count": 78,
     "metadata": {},
     "output_type": "execute_result"
    }
   ],
   "source": [
    "Vector"
   ]
  },
  {
   "cell_type": "code",
   "execution_count": 79,
   "metadata": {
    "colab": {},
    "colab_type": "code",
    "id": "GDmczikmORiH",
    "outputId": "09298280-b0c5-4b06-a15f-d04bf01cb87e"
   },
   "outputs": [
    {
     "data": {
      "text/plain": [
       "3-element Array{Float64,1}:\n",
       " 4.275804334e-315\n",
       " 4.275804493e-315\n",
       " 4.27580465e-315"
      ]
     },
     "execution_count": 79,
     "metadata": {},
     "output_type": "execute_result"
    }
   ],
   "source": [
    "Vector{Float64}(undef, 3)"
   ]
  },
  {
   "cell_type": "code",
   "execution_count": 176,
   "metadata": {},
   "outputs": [
    {
     "data": {
      "text/plain": [
       "3-element Array{Array{Float64,1},1}:\n",
       " #undef\n",
       " #undef\n",
       " #undef"
      ]
     },
     "execution_count": 176,
     "metadata": {},
     "output_type": "execute_result"
    }
   ],
   "source": [
    "Vector{Vector{Float64}}(undef, 3)"
   ]
  },
  {
   "cell_type": "code",
   "execution_count": 100,
   "metadata": {
    "colab": {},
    "colab_type": "code",
    "id": "EhuPM3NWORiK",
    "outputId": "ea59113c-9e73-4c87-fbd8-c39fd90afad5"
   },
   "outputs": [
    {
     "data": {
      "text/plain": [
       "Array{T,2} where T"
      ]
     },
     "execution_count": 100,
     "metadata": {},
     "output_type": "execute_result"
    }
   ],
   "source": [
    "Matrix"
   ]
  },
  {
   "cell_type": "code",
   "execution_count": 360,
   "metadata": {},
   "outputs": [
    {
     "data": {
      "text/plain": [
       "3×2 Array{Float64,2}:\n",
       " 2.122e-314    6.36599e-314\n",
       " 2.122e-314    6.36599e-314\n",
       " 4.24399e-314  1.5e-323"
      ]
     },
     "execution_count": 360,
     "metadata": {},
     "output_type": "execute_result"
    }
   ],
   "source": [
    "Matrix{Float64}(undef, 3, 2)"
   ]
  },
  {
   "cell_type": "markdown",
   "metadata": {},
   "source": [
    "### different approaches to create array"
   ]
  },
  {
   "cell_type": "code",
   "execution_count": 252,
   "metadata": {},
   "outputs": [
    {
     "data": {
      "text/plain": [
       "false"
      ]
     },
     "execution_count": 252,
     "metadata": {},
     "output_type": "execute_result"
    }
   ],
   "source": [
    "[1 1] == [1;1] # 2D 1by 2 array (left); 1D 2-element array (right)"
   ]
  },
  {
   "cell_type": "code",
   "execution_count": 253,
   "metadata": {
    "scrolled": true
   },
   "outputs": [
    {
     "data": {
      "text/plain": [
       "2×2 Array{Any,2}:\n",
       " 1  1\n",
       " 1  1"
      ]
     },
     "execution_count": 253,
     "metadata": {},
     "output_type": "execute_result"
    }
   ],
   "source": [
    "f1 = fill!(Matrix(undef,2,2),1)"
   ]
  },
  {
   "cell_type": "code",
   "execution_count": 254,
   "metadata": {},
   "outputs": [
    {
     "data": {
      "text/plain": [
       "2×2 Array{Float64,2}:\n",
       " 1.0  1.0\n",
       " 1.0  1.0"
      ]
     },
     "execution_count": 254,
     "metadata": {},
     "output_type": "execute_result"
    }
   ],
   "source": [
    "f2 = ones(2,2) "
   ]
  },
  {
   "cell_type": "code",
   "execution_count": 255,
   "metadata": {},
   "outputs": [
    {
     "data": {
      "text/plain": [
       "2×2 Array{Int64,2}:\n",
       " 1  1\n",
       " 1  1"
      ]
     },
     "execution_count": 255,
     "metadata": {},
     "output_type": "execute_result"
    }
   ],
   "source": [
    "f3 = [[1 1];[1 1]]"
   ]
  },
  {
   "cell_type": "code",
   "execution_count": 256,
   "metadata": {},
   "outputs": [
    {
     "data": {
      "text/plain": [
       "2×2 Array{Int64,2}:\n",
       " 1  1\n",
       " 1  1"
      ]
     },
     "execution_count": 256,
     "metadata": {},
     "output_type": "execute_result"
    }
   ],
   "source": [
    "f4 = [1 1;1 1]"
   ]
  },
  {
   "cell_type": "code",
   "execution_count": 261,
   "metadata": {
    "scrolled": true
   },
   "outputs": [
    {
     "data": {
      "text/plain": [
       "true"
      ]
     },
     "execution_count": 261,
     "metadata": {},
     "output_type": "execute_result"
    }
   ],
   "source": [
    "f1 == f2 == f3 == f4"
   ]
  },
  {
   "cell_type": "markdown",
   "metadata": {},
   "source": [
    "### Vector contantenation\n"
   ]
  },
  {
   "cell_type": "markdown",
   "metadata": {},
   "source": [
    "#### comma and semicolon do the same things when creating a 1d-array of elements."
   ]
  },
  {
   "cell_type": "code",
   "execution_count": 297,
   "metadata": {},
   "outputs": [
    {
     "data": {
      "text/plain": [
       "true"
      ]
     },
     "execution_count": 297,
     "metadata": {},
     "output_type": "execute_result"
    }
   ],
   "source": [
    "[1,1] == [1;1] == fill!(Vector(undef,2), 1)"
   ]
  },
  {
   "cell_type": "markdown",
   "metadata": {},
   "source": [
    "#### But comma and semicolon works differently on contantenation."
   ]
  },
  {
   "cell_type": "code",
   "execution_count": 304,
   "metadata": {},
   "outputs": [
    {
     "data": {
      "text/plain": [
       "2-element Array{Any,1}:\n",
       " [1, 1]\n",
       " [1, 1]"
      ]
     },
     "execution_count": 304,
     "metadata": {},
     "output_type": "execute_result"
    }
   ],
   "source": [
    "f5 = fill!(Vector(undef,2), [1, 1])"
   ]
  },
  {
   "cell_type": "code",
   "execution_count": 312,
   "metadata": {},
   "outputs": [
    {
     "data": {
      "text/plain": [
       "2-element Array{Array{Any,1},1}:\n",
       " [1, 1]\n",
       " [1, 1]"
      ]
     },
     "execution_count": 312,
     "metadata": {},
     "output_type": "execute_result"
    }
   ],
   "source": [
    "f6c = [fill!(Vector(undef,2),1),fill!(Vector(undef,2),1)]"
   ]
  },
  {
   "cell_type": "code",
   "execution_count": 337,
   "metadata": {},
   "outputs": [
    {
     "data": {
      "text/plain": [
       "2-element Array{Array{Int64,1},1}:\n",
       " [1, 1]\n",
       " [1, 1]"
      ]
     },
     "execution_count": 337,
     "metadata": {},
     "output_type": "execute_result"
    }
   ],
   "source": [
    "f7c = [[1;1],[1;1]] # the same as [[1,1],[1,1]],"
   ]
  },
  {
   "cell_type": "code",
   "execution_count": 314,
   "metadata": {},
   "outputs": [
    {
     "data": {
      "text/plain": [
       "4-element Array{Any,1}:\n",
       " 1\n",
       " 1\n",
       " 1\n",
       " 1"
      ]
     },
     "execution_count": 314,
     "metadata": {},
     "output_type": "execute_result"
    }
   ],
   "source": [
    "f6s = [fill!(Vector(undef,2),1);fill!(Vector(undef,2),1)]"
   ]
  },
  {
   "cell_type": "code",
   "execution_count": 338,
   "metadata": {
    "scrolled": true
   },
   "outputs": [
    {
     "data": {
      "text/plain": [
       "4-element Array{Int64,1}:\n",
       " 1\n",
       " 1\n",
       " 1\n",
       " 1"
      ]
     },
     "execution_count": 338,
     "metadata": {},
     "output_type": "execute_result"
    }
   ],
   "source": [
    "f7s = [[1;1];[1;1]] # the same as [[1,1];[1,1]]"
   ]
  },
  {
   "cell_type": "code",
   "execution_count": 339,
   "metadata": {},
   "outputs": [
    {
     "data": {
      "text/plain": [
       "true"
      ]
     },
     "execution_count": 339,
     "metadata": {},
     "output_type": "execute_result"
    }
   ],
   "source": [
    "f4 != f5 == f6c == f7c != f6s == f7s"
   ]
  },
  {
   "cell_type": "code",
   "execution_count": 340,
   "metadata": {},
   "outputs": [
    {
     "data": {
      "text/plain": [
       "2-element Array{Array{Any,1},1}:\n",
       " [#undef, #undef]\n",
       " [#undef, #undef]"
      ]
     },
     "execution_count": 340,
     "metadata": {},
     "output_type": "execute_result"
    }
   ],
   "source": [
    "[Vector(undef,2),Vector(undef,2)]"
   ]
  },
  {
   "cell_type": "code",
   "execution_count": 341,
   "metadata": {},
   "outputs": [
    {
     "data": {
      "text/plain": [
       "4-element Array{Any,1}:\n",
       " #undef\n",
       " #undef\n",
       " #undef\n",
       " #undef"
      ]
     },
     "execution_count": 341,
     "metadata": {},
     "output_type": "execute_result"
    }
   ],
   "source": [
    "Vector(undef,4)"
   ]
  },
  {
   "cell_type": "markdown",
   "metadata": {
    "colab_type": "text",
    "id": "OmZ79f2AORiO"
   },
   "source": [
    "### 指定陣列元素的型別\n",
    "\n",
    "創建陣列時，可以讓 Julia 自動識別元素型別而不指定。要指定型別的話，在陣列前面加上型別即可。"
   ]
  },
  {
   "cell_type": "code",
   "execution_count": 319,
   "metadata": {
    "colab": {},
    "colab_type": "code",
    "id": "JiM-OpL-ORiP",
    "outputId": "bc06703a-7ce1-4796-e4f1-0b9586ec7f42"
   },
   "outputs": [
    {
     "data": {
      "text/plain": [
       "4-element Array{Float32,1}:\n",
       " 1.0\n",
       " 2.0\n",
       " 3.0\n",
       " 4.0"
      ]
     },
     "execution_count": 319,
     "metadata": {},
     "output_type": "execute_result"
    }
   ],
   "source": [
    "Float32[1, 2, 3, 4]"
   ]
  },
  {
   "cell_type": "markdown",
   "metadata": {
    "colab_type": "text",
    "id": "LcdlA5epORiS"
   },
   "source": [
    "如果指定的類型無法被精確轉型時 (例如欲將浮點轉為整數)，系統會拋出 error。"
   ]
  },
  {
   "cell_type": "code",
   "execution_count": 320,
   "metadata": {
    "colab": {},
    "colab_type": "code",
    "id": "l_d7c3DOORiT",
    "outputId": "33efbdbb-db98-4ba3-9b4a-13a9109b6ad8"
   },
   "outputs": [
    {
     "ename": "InexactError",
     "evalue": "InexactError: Int32(1.1)",
     "output_type": "error",
     "traceback": [
      "InexactError: Int32(1.1)",
      "",
      "Stacktrace:",
      " [1] Int32 at .\\float.jl:689 [inlined]",
      " [2] convert at .\\number.jl:7 [inlined]",
      " [3] setindex! at .\\array.jl:827 [inlined]",
      " [4] hvcat_fill(::Array{Int32,2}, ::Tuple{Float64,Int64,Int64}) at .\\abstractarray.jl:1707",
      " [5] typed_hcat(::Type{Int32}, ::Float64, ::Int64, ::Int64) at .\\abstractarray.jl:1284",
      " [6] top-level scope at In[320]:1"
     ]
    }
   ],
   "source": [
    "Int32[1.1 2 3]"
   ]
  },
  {
   "cell_type": "markdown",
   "metadata": {
    "colab_type": "text",
    "id": "RNvRmWbMORiW"
   },
   "source": [
    "### 常用函式建立並初始化陣列中的元素\n",
    "\n",
    "下列為常用的函式，可以用來建立陣列並初始化陣列中的元素。\n",
    "\n",
    "|函式|描述|\n",
    "|--|--|\n",
    "|zeros()|陣列元素初始化為 0|\n",
    "|ones()|陣列元素初始化為 1|\n",
    "|trues()|陣列元素初始化為 true 的 BitArray 類型|\n",
    "|falses()|陣列元素初始化為 false 的 BitArray 類型|\n",
    "|rand()|產生元素為隨機介於 \\[0, 1 區間的均勻分布數字|\n",
    "|randn()|產生元素為隨機常態分布的數字|"
   ]
  },
  {
   "cell_type": "code",
   "execution_count": 321,
   "metadata": {
    "colab": {},
    "colab_type": "code",
    "id": "b9R4gjPvORiX",
    "outputId": "bcfbfcaf-e165-4d3c-a7df-197197ffc7e0"
   },
   "outputs": [
    {
     "data": {
      "text/plain": [
       "2×3 Array{Float64,2}:\n",
       " 0.0  0.0  0.0\n",
       " 0.0  0.0  0.0"
      ]
     },
     "execution_count": 321,
     "metadata": {},
     "output_type": "execute_result"
    }
   ],
   "source": [
    "zeros((2,3))"
   ]
  },
  {
   "cell_type": "code",
   "execution_count": 322,
   "metadata": {
    "colab": {},
    "colab_type": "code",
    "id": "ryWEoWnTORia",
    "outputId": "09d5dab8-c5af-46e5-93e5-b58b94dad9ca"
   },
   "outputs": [
    {
     "data": {
      "text/plain": [
       "2×3 Array{Float64,2}:\n",
       " 1.0  1.0  1.0\n",
       " 1.0  1.0  1.0"
      ]
     },
     "execution_count": 322,
     "metadata": {},
     "output_type": "execute_result"
    }
   ],
   "source": [
    "ones((2,3))"
   ]
  },
  {
   "cell_type": "code",
   "execution_count": 323,
   "metadata": {
    "colab": {},
    "colab_type": "code",
    "id": "zbbkuG2jORih",
    "outputId": "59531fca-a8aa-47eb-9fcf-bf1f20fa3c13"
   },
   "outputs": [
    {
     "data": {
      "text/plain": [
       "2×3 BitArray{2}:\n",
       " 1  1  1\n",
       " 1  1  1"
      ]
     },
     "execution_count": 323,
     "metadata": {},
     "output_type": "execute_result"
    }
   ],
   "source": [
    "trues((2,3))"
   ]
  },
  {
   "cell_type": "code",
   "execution_count": 324,
   "metadata": {
    "colab": {},
    "colab_type": "code",
    "id": "eZlAlUAuORim",
    "outputId": "389d4be0-8e06-496c-c3c1-88ae2678c48a"
   },
   "outputs": [
    {
     "data": {
      "text/plain": [
       "2×3 BitArray{2}:\n",
       " 0  0  0\n",
       " 0  0  0"
      ]
     },
     "execution_count": 324,
     "metadata": {},
     "output_type": "execute_result"
    }
   ],
   "source": [
    "falses((2,3))"
   ]
  },
  {
   "cell_type": "code",
   "execution_count": 325,
   "metadata": {
    "colab": {},
    "colab_type": "code",
    "id": "rSD0hxbxORip",
    "outputId": "32ab63c5-e430-4bea-eb93-a9f496b5e65e"
   },
   "outputs": [
    {
     "data": {
      "text/plain": [
       "3×2 Array{Float32,2}:\n",
       " 0.204952  0.0273652\n",
       " 0.5824    0.502131\n",
       " 0.683241  0.298419"
      ]
     },
     "execution_count": 325,
     "metadata": {},
     "output_type": "execute_result"
    }
   ],
   "source": [
    "rand(Float32, 3, 2)"
   ]
  },
  {
   "cell_type": "code",
   "execution_count": 326,
   "metadata": {
    "colab": {},
    "colab_type": "code",
    "id": "NS0KWTZLORis",
    "outputId": "e355860c-5a12-4952-ef20-8994d13c8ca7"
   },
   "outputs": [
    {
     "data": {
      "text/plain": [
       "3×2 Array{Float64,2}:\n",
       " 1.22079   2.19893\n",
       " 0.404534  1.10186\n",
       " 0.571348  0.345732"
      ]
     },
     "execution_count": 326,
     "metadata": {},
     "output_type": "execute_result"
    }
   ],
   "source": [
    "randn(3, 2)"
   ]
  },
  {
   "cell_type": "markdown",
   "metadata": {
    "colab_type": "text",
    "id": "G197nwVmORiv"
   },
   "source": [
    "### 使用 `collect()` 函式建立陣列 \n",
    "\n",
    "使用 `collect()` 函式來建立陣列。在下列範例中並搭配 `reshape()` 函式，改變陣列維度以建立多維陣列。"
   ]
  },
  {
   "cell_type": "code",
   "execution_count": 328,
   "metadata": {},
   "outputs": [
    {
     "data": {
      "text/plain": [
       "1:2:9"
      ]
     },
     "execution_count": 328,
     "metadata": {},
     "output_type": "execute_result"
    }
   ],
   "source": [
    "range1 = 1:2:10"
   ]
  },
  {
   "cell_type": "code",
   "execution_count": 329,
   "metadata": {},
   "outputs": [
    {
     "data": {
      "text/plain": [
       "StepRange{Int64,Int64}"
      ]
     },
     "execution_count": 329,
     "metadata": {},
     "output_type": "execute_result"
    }
   ],
   "source": [
    "typeof(range1)"
   ]
  },
  {
   "cell_type": "code",
   "execution_count": 330,
   "metadata": {
    "colab": {},
    "colab_type": "code",
    "id": "oP4p1YvIORiw",
    "outputId": "31d2a0ad-4761-4ae6-c4c9-32f795879e5a",
    "scrolled": true
   },
   "outputs": [
    {
     "data": {
      "text/plain": [
       "5-element Array{Int64,1}:\n",
       " 1\n",
       " 3\n",
       " 5\n",
       " 7\n",
       " 9"
      ]
     },
     "execution_count": 330,
     "metadata": {},
     "output_type": "execute_result"
    }
   ],
   "source": [
    "# 建立一維陣列，起始值為 1，數值間隔 2，結束值 10\n",
    "collect(1:2:10)"
   ]
  },
  {
   "cell_type": "code",
   "execution_count": 333,
   "metadata": {
    "colab": {},
    "colab_type": "code",
    "id": "j-78AoNfORiz",
    "outputId": "429870f5-45f6-4473-a810-f3fb4a29f2da",
    "scrolled": true
   },
   "outputs": [
    {
     "data": {
      "text/plain": [
       "5×2 Array{Float64,2}:\n",
       " 1.0   6.0\n",
       " 2.0   7.0\n",
       " 3.0   8.0\n",
       " 4.0   9.0\n",
       " 5.0  10.0"
      ]
     },
     "execution_count": 333,
     "metadata": {},
     "output_type": "execute_result"
    }
   ],
   "source": [
    "# 建立 5x2 陣列 (and assign type Float64)\n",
    "reshape(collect(Float64,1:1:10), (5, 2))"
   ]
  },
  {
   "cell_type": "code",
   "execution_count": 334,
   "metadata": {},
   "outputs": [
    {
     "data": {
      "text/plain": [
       "true"
      ]
     },
     "execution_count": 334,
     "metadata": {},
     "output_type": "execute_result"
    }
   ],
   "source": [
    "1:1:10 == 1:10"
   ]
  },
  {
   "cell_type": "markdown",
   "metadata": {
    "colab_type": "text",
    "id": "CUrGBb_rORi2"
   },
   "source": [
    "## 2. 陣列的相關操作\n",
    "\n",
    "### 索引\n",
    "\n",
    "透過索引取得陣列元素值，有**線性索引**和**笛卡兒索引**兩種方式。\n",
    "\n",
    "需特別留意的是，Julia 的索引值起始是 1 而非 0，和多數程式語言不同。"
   ]
  },
  {
   "cell_type": "code",
   "execution_count": 335,
   "metadata": {
    "colab": {},
    "colab_type": "code",
    "id": "3Fvvrz5fORi3",
    "outputId": "55a59e0a-3760-4070-ccd4-8c730e744cee"
   },
   "outputs": [
    {
     "data": {
      "text/plain": [
       "4×3 Array{Int64,2}:\n",
       "  1   2   3\n",
       "  4   5   6\n",
       "  7   8   9\n",
       " 10  11  12"
      ]
     },
     "execution_count": 335,
     "metadata": {},
     "output_type": "execute_result"
    }
   ],
   "source": [
    "A = [1 2 3; 4 5 6; 7 8 9; 10 11 12]"
   ]
  },
  {
   "cell_type": "markdown",
   "metadata": {
    "colab_type": "text",
    "id": "I_dY2VFLORi6"
   },
   "source": [
    "線性索引的順序如圖，所以在下列範例中 A[7] 會得到 A[3, 2] 的值。\n",
    "\n",
    "![](scalar_index.png)"
   ]
  },
  {
   "cell_type": "code",
   "execution_count": 336,
   "metadata": {
    "colab": {},
    "colab_type": "code",
    "id": "NHMhqXaMORi7",
    "outputId": "c326caeb-4eb5-40f1-ef35-30faca7e57bd"
   },
   "outputs": [
    {
     "data": {
      "text/plain": [
       "8"
      ]
     },
     "execution_count": 336,
     "metadata": {},
     "output_type": "execute_result"
    }
   ],
   "source": [
    "# 線性索引，得到 A[3, 2] 的值\n",
    "A[7]"
   ]
  },
  {
   "cell_type": "markdown",
   "metadata": {
    "colab_type": "text",
    "id": "R4BDX9MuORi_"
   },
   "source": [
    "笛卡兒索引是用 `A[<<row index>>, <<column index>>]` 的方式，取得該位置的值。"
   ]
  },
  {
   "cell_type": "code",
   "execution_count": null,
   "metadata": {
    "colab": {},
    "colab_type": "code",
    "id": "tVPBRfsaORjA",
    "outputId": "9fc85064-5098-4cc2-fd3a-dc2b1c706c15"
   },
   "outputs": [
    {
     "data": {
      "text/plain": [
       "8"
      ]
     },
     "execution_count": 26,
     "metadata": {
      "tags": []
     },
     "output_type": "execute_result"
    }
   ],
   "source": [
    "# 笛卡兒索引\n",
    "A[3, 2]"
   ]
  },
  {
   "cell_type": "markdown",
   "metadata": {
    "colab_type": "text",
    "id": "RV0fheSDORjD"
   },
   "source": [
    "索引也可以使用範圍 (range) 來指定。"
   ]
  },
  {
   "cell_type": "code",
   "execution_count": null,
   "metadata": {
    "colab": {},
    "colab_type": "code",
    "id": "yANp-zDwORjF",
    "outputId": "da66dcb9-a593-466d-d045-12d89666fc51"
   },
   "outputs": [
    {
     "data": {
      "text/plain": [
       "2-element Array{Int64,1}:\n",
       " 1\n",
       " 2"
      ]
     },
     "execution_count": 27,
     "metadata": {
      "tags": []
     },
     "output_type": "execute_result"
    }
   ],
   "source": [
    "A[1, 1:2]"
   ]
  },
  {
   "cell_type": "markdown",
   "metadata": {
    "colab_type": "text",
    "id": "6_DedXUCORjI"
   },
   "source": [
    "使用 `getindex()` 也可以取得該索引位置的值。"
   ]
  },
  {
   "cell_type": "code",
   "execution_count": 343,
   "metadata": {},
   "outputs": [
    {
     "data": {
      "text/plain": [
       "4×3 reshape(::UnitRange{Int64}, 4, 3) with eltype Int64:\n",
       "  9  13  17\n",
       " 10  14  18\n",
       " 11  15  19\n",
       " 12  16  20"
      ]
     },
     "execution_count": 343,
     "metadata": {},
     "output_type": "execute_result"
    }
   ],
   "source": [
    "B = reshape(9:20,(4,3))"
   ]
  },
  {
   "cell_type": "code",
   "execution_count": 345,
   "metadata": {
    "colab": {},
    "colab_type": "code",
    "id": "91eYLFvXORjJ",
    "outputId": "df73b2d2-719f-4b12-c89c-8a943d249cd2"
   },
   "outputs": [
    {
     "data": {
      "text/plain": [
       "15"
      ]
     },
     "execution_count": 345,
     "metadata": {},
     "output_type": "execute_result"
    }
   ],
   "source": [
    "getindex(B, 3, 2) # get the value of B from index 3,2"
   ]
  },
  {
   "cell_type": "markdown",
   "metadata": {
    "colab_type": "text",
    "id": "ngmUwqwQORjM"
   },
   "source": [
    "###  遍歷 (Traversal)"
   ]
  },
  {
   "cell_type": "code",
   "execution_count": 365,
   "metadata": {
    "colab": {},
    "colab_type": "code",
    "id": "jybgxqU_ORjN",
    "outputId": "af7ac52c-04da-47db-a93c-20869f79d693"
   },
   "outputs": [
    {
     "name": "stdout",
     "output_type": "stream",
     "text": [
      "1 2 3 4 5 6 7 8 9 10 11 12 "
     ]
    }
   ],
   "source": [
    "# 使用笛卡兒索引將陣列中所有元素印出\n",
    "A = [1 2 3; 4 5 6; 7 8 9; 10 11 12]\n",
    "\n",
    "for i = 1:size(A, 1), j = 1:size(A, 2)\n",
    "    print(A[i, j], \" \")\n",
    "end"
   ]
  },
  {
   "cell_type": "code",
   "execution_count": 366,
   "metadata": {
    "colab": {},
    "colab_type": "code",
    "id": "_Nyt_c1fORjR",
    "outputId": "cab5140a-227a-49cc-8a68-c5bd0d67d500"
   },
   "outputs": [
    {
     "name": "stdout",
     "output_type": "stream",
     "text": [
      "1 4 7 10 2 5 8 11 3 6 9 12 "
     ]
    }
   ],
   "source": [
    "# 使用線性索引將陣列中所有元素印出\n",
    "for i = 1:lastindex(A)\n",
    "    print(A[i], \" \")\n",
    "end"
   ]
  },
  {
   "cell_type": "code",
   "execution_count": 367,
   "metadata": {
    "colab": {},
    "colab_type": "code",
    "id": "1GfneLxfORjU",
    "outputId": "c48794ae-e7b0-471e-8dbd-f8e484b23dfb"
   },
   "outputs": [
    {
     "name": "stdout",
     "output_type": "stream",
     "text": [
      "1 4 7 10 2 5 8 11 3 6 9 12 "
     ]
    }
   ],
   "source": [
    "# 用迭代的方式將陣列中所有元素印出\n",
    "# 也可以用 in 取代 ∈\n",
    "for x ∈ A\n",
    "    print(x, \" \")\n",
    "end"
   ]
  },
  {
   "cell_type": "markdown",
   "metadata": {
    "colab_type": "text",
    "id": "fLoOETYSORjX"
   },
   "source": [
    "### 加入或剔除陣列的元素 (Push & Pop)\n",
    "\n",
    "要加入或加入或剔除陣列的元素，可以透過下列函式：\n",
    "\n",
    "|函式|說明|\n",
    "|---|---|\n",
    "|push!()|加入元素到陣列的尾端|\n",
    "|pushfirst!()|加入元素到陣列成為第一個元素|\n",
    "|pop!()|將陣列的最後一個元素剔除|\n",
    "|popfirst!()|將陣列的第一個元素剔除|\n",
    "\n",
    "以上函式都會直接變更原陣列。"
   ]
  },
  {
   "cell_type": "code",
   "execution_count": 370,
   "metadata": {
    "colab": {},
    "colab_type": "code",
    "id": "zOqKw9sCORjY",
    "outputId": "e742b14b-ab11-42f8-fd15-8a1e8a088a7d"
   },
   "outputs": [
    {
     "data": {
      "text/plain": [
       "5-element Array{Int64,1}:\n",
       " 1\n",
       " 2\n",
       " 3\n",
       " 4\n",
       " 5"
      ]
     },
     "execution_count": 370,
     "metadata": {},
     "output_type": "execute_result"
    }
   ],
   "source": [
    "A = collect(1:5)"
   ]
  },
  {
   "cell_type": "code",
   "execution_count": 373,
   "metadata": {
    "colab": {},
    "colab_type": "code",
    "id": "VhJABG8oORjc",
    "outputId": "ee253a2b-ea7d-4407-c7c1-a031ea9ccbe6"
   },
   "outputs": [
    {
     "data": {
      "text/plain": [
       "8-element Array{Int64,1}:\n",
       " 1\n",
       " 2\n",
       " 3\n",
       " 4\n",
       " 5\n",
       " 6\n",
       " 6\n",
       " 6"
      ]
     },
     "execution_count": 373,
     "metadata": {},
     "output_type": "execute_result"
    }
   ],
   "source": [
    "push!(A, 6)"
   ]
  },
  {
   "cell_type": "code",
   "execution_count": 376,
   "metadata": {
    "colab": {},
    "colab_type": "code",
    "id": "K7rkdzwAORjf",
    "outputId": "fffe220a-046e-4e14-a9b5-6ccd1901cd65"
   },
   "outputs": [
    {
     "data": {
      "text/plain": [
       "11-element Array{Int64,1}:\n",
       " 0\n",
       " 0\n",
       " 0\n",
       " 1\n",
       " 2\n",
       " 3\n",
       " 4\n",
       " 5\n",
       " 6\n",
       " 6\n",
       " 6"
      ]
     },
     "execution_count": 376,
     "metadata": {},
     "output_type": "execute_result"
    }
   ],
   "source": [
    "pushfirst!(A, 0)"
   ]
  },
  {
   "cell_type": "code",
   "execution_count": 379,
   "metadata": {
    "colab": {},
    "colab_type": "code",
    "id": "nxOgNBXSORjj",
    "outputId": "787b3fca-3e90-4795-b16f-0a6d3bcfa5b2"
   },
   "outputs": [
    {
     "data": {
      "text/plain": [
       "8-element Array{Int64,1}:\n",
       " 0\n",
       " 0\n",
       " 0\n",
       " 1\n",
       " 2\n",
       " 3\n",
       " 4\n",
       " 5"
      ]
     },
     "execution_count": 379,
     "metadata": {},
     "output_type": "execute_result"
    }
   ],
   "source": [
    "pop!(A)\n",
    "A"
   ]
  },
  {
   "cell_type": "code",
   "execution_count": 383,
   "metadata": {
    "colab": {},
    "colab_type": "code",
    "id": "TBvxVGGPORjn",
    "outputId": "e88141b6-aa11-41fe-8e24-261b969d8fb7"
   },
   "outputs": [
    {
     "data": {
      "text/plain": [
       "4-element Array{Int64,1}:\n",
       " 2\n",
       " 3\n",
       " 4\n",
       " 5"
      ]
     },
     "execution_count": 383,
     "metadata": {},
     "output_type": "execute_result"
    }
   ],
   "source": [
    "popfirst!(A)\n",
    "A"
   ]
  },
  {
   "cell_type": "markdown",
   "metadata": {
    "colab_type": "text",
    "id": "5vrz_VShORjr"
   },
   "source": [
    "### 陣列的組合"
   ]
  },
  {
   "cell_type": "markdown",
   "metadata": {
    "colab_type": "text",
    "id": "IJapNoHJORjs"
   },
   "source": [
    "若陣列中含有陣列 (或稱巢狀陣列)，Julia 會自動依維度展開。"
   ]
  },
  {
   "cell_type": "code",
   "execution_count": 384,
   "metadata": {
    "colab": {},
    "colab_type": "code",
    "id": "JyrLbn1oORju",
    "outputId": "75b9c706-422b-4301-8f57-457792205184"
   },
   "outputs": [
    {
     "data": {
      "text/plain": [
       "1×4 Array{Int64,2}:\n",
       " 1  2  3  4"
      ]
     },
     "execution_count": 384,
     "metadata": {},
     "output_type": "execute_result"
    }
   ],
   "source": [
    "[1 2 [3 4]] # noted that it is 2d"
   ]
  },
  {
   "cell_type": "code",
   "execution_count": 436,
   "metadata": {},
   "outputs": [
    {
     "data": {
      "text/plain": [
       "2-element Array{Array{Int64,2},1}:\n",
       " [1 2]\n",
       " [3 4]"
      ]
     },
     "execution_count": 436,
     "metadata": {},
     "output_type": "execute_result"
    }
   ],
   "source": [
    "[[1 2],[3 4]]"
   ]
  },
  {
   "cell_type": "code",
   "execution_count": 437,
   "metadata": {},
   "outputs": [
    {
     "data": {
      "text/plain": [
       "2×2 Array{Int64,2}:\n",
       " 1  2\n",
       " 3  4"
      ]
     },
     "execution_count": 437,
     "metadata": {},
     "output_type": "execute_result"
    }
   ],
   "source": [
    "[[1 2];[3 4]]"
   ]
  },
  {
   "cell_type": "code",
   "execution_count": 387,
   "metadata": {},
   "outputs": [
    {
     "data": {
      "text/plain": [
       "2×2 Array{Int64,2}:\n",
       " 1  2\n",
       " 3  4"
      ]
     },
     "execution_count": 387,
     "metadata": {},
     "output_type": "execute_result"
    }
   ],
   "source": [
    "[1 2 ;[3 4]]"
   ]
  },
  {
   "cell_type": "markdown",
   "metadata": {
    "colab_type": "text",
    "id": "yC-Jgg6qORjy"
   },
   "source": [
    "巢狀內外陣列維度不相同會產生 error。"
   ]
  },
  {
   "cell_type": "code",
   "execution_count": null,
   "metadata": {
    "colab": {},
    "colab_type": "code",
    "id": "wau8Hs8nORj_",
    "outputId": "b38b9b09-e505-46d7-e520-19b252e571fc"
   },
   "outputs": [
    {
     "ename": "DimensionMismatch",
     "evalue": "DimensionMismatch(\"mismatch in dimension 1 (expected 1 got 2)\")",
     "output_type": "error",
     "traceback": [
      "DimensionMismatch(\"mismatch in dimension 1 (expected 1 got 2)\")",
      "",
      "Stacktrace:",
      " [1] cat_shape(::Tuple{Bool,Bool}, ::Tuple{Int64,Int64}, ::Tuple{Int64}) at .\\abstractarray.jl:1421",
      " [2] cat_shape(::Tuple{Bool,Bool}, ::Tuple{}, ::Tuple{Int64}, ::Tuple{Int64}, ::Vararg{Tuple,N} where N) at .\\abstractarray.jl:1396",
      " [3] _cat_t(::Val{2}, ::Type, ::Int64, ::Vararg{Any,N} where N) at .\\abstractarray.jl:1441",
      " [4] #cat_t#103(::Val{2}, ::typeof(Base.cat_t), ::Type{Int64}, ::Int64, ::Vararg{Any,N} where N) at .\\abstractarray.jl:1438",
      " [5] (::Base.var\"#kw##cat_t\")(::NamedTuple{(:dims,),Tuple{Val{2}}}, ::typeof(Base.cat_t), ::Type{Int64}, ::Int64, ::Vararg{Any,N} where N) at .\\none:0",
      " [6] typed_hcat(::Type, ::Int64, ::Array{Int64,1}) at .\\abstractarray.jl:1548",
      " [7] typed_hvcat(::Type{Int64}, ::Tuple{Int64,Int64}, ::Int64, ::Vararg{Any,N} where N) at .\\abstractarray.jl:1738",
      " [8] hvcat(::Tuple{Int64,Int64}, ::Int64, ::Vararg{Any,N} where N) at .\\abstractarray.jl:1716",
      " [9] top-level scope at In[38]:1"
     ]
    }
   ],
   "source": [
    "[1; 2 [3; 4]]"
   ]
  },
  {
   "cell_type": "markdown",
   "metadata": {
    "colab_type": "text",
    "id": "I_30CgBcORkB"
   },
   "source": [
    "陣列組合的背後，其實是呼叫了 `cat()`、`vcat()`、`hcat()`、或 `hvcat()` 函式。使用範例如下："
   ]
  },
  {
   "cell_type": "code",
   "execution_count": 416,
   "metadata": {
    "colab": {},
    "colab_type": "code",
    "id": "LVH0wnJ2ORkC",
    "outputId": "aedd76ee-ea21-4f18-b34e-02ea869affcd"
   },
   "outputs": [
    {
     "data": {
      "text/plain": [
       "1×6 Array{Int64,2}:\n",
       " 1  2  3  4  5  6"
      ]
     },
     "execution_count": 416,
     "metadata": {},
     "output_type": "execute_result"
    }
   ],
   "source": [
    "W = [1 2]\n",
    "X = [3 4]\n",
    "Z = [5 6]\n",
    "\n",
    "# 合併陣列為列向量\n",
    "cat(W, X, Z, dims=2)"
   ]
  },
  {
   "cell_type": "code",
   "execution_count": 417,
   "metadata": {
    "colab": {},
    "colab_type": "code",
    "id": "jPYppoJsORkF",
    "outputId": "bf64cde2-d2d5-4b83-b72b-e33e7e7c175a"
   },
   "outputs": [
    {
     "data": {
      "text/plain": [
       "1×6 Array{Int64,2}:\n",
       " 1  2  3  4  5  6"
      ]
     },
     "execution_count": 417,
     "metadata": {},
     "output_type": "execute_result"
    }
   ],
   "source": [
    "W = [1 2]\n",
    "X = [3 4]\n",
    "Z = [5 6]\n",
    "\n",
    "# 依\"行\"合併陣列\n",
    "# 此範例合併陣列為列向量\n",
    "hcat(W, X, Z)"
   ]
  },
  {
   "cell_type": "code",
   "execution_count": 418,
   "metadata": {
    "colab": {},
    "colab_type": "code",
    "id": "biERCextORkJ",
    "outputId": "147f8c88-7ffb-416b-ca4c-8d1e169d0431"
   },
   "outputs": [
    {
     "data": {
      "text/plain": [
       "3×2 Array{Int64,2}:\n",
       " 1  2\n",
       " 3  4\n",
       " 5  6"
      ]
     },
     "execution_count": 418,
     "metadata": {},
     "output_type": "execute_result"
    }
   ],
   "source": [
    "# 依\"列\"合併陣列\n",
    "# 等同於cat(W, X, Z, dims=1)\n",
    "vcat(W, X, Z)"
   ]
  },
  {
   "cell_type": "code",
   "execution_count": null,
   "metadata": {
    "colab": {},
    "colab_type": "code",
    "id": "bpIHpzZqORkO",
    "outputId": "6a5783e8-80c3-463d-8403-124dcf03909f"
   },
   "outputs": [
    {
     "data": {
      "text/plain": [
       "2×3 Array{Int64,2}:\n",
       " 1  2  3\n",
       " 4  5  6"
      ]
     },
     "execution_count": 42,
     "metadata": {
      "tags": []
     },
     "output_type": "execute_result"
    }
   ],
   "source": [
    "# 依照指定每列的行數合併數值成為陣列\n",
    "D = hvcat((3, 3), 1, 2, 3, 4, 5, 6)"
   ]
  },
  {
   "cell_type": "markdown",
   "metadata": {},
   "source": [
    "**concatenation of 1d array**"
   ]
  },
  {
   "cell_type": "code",
   "execution_count": 428,
   "metadata": {
    "scrolled": true
   },
   "outputs": [
    {
     "data": {
      "text/plain": [
       "2-element Array{Array{Int64,1},1}:\n",
       " [1, 2]\n",
       " [3, 4]"
      ]
     },
     "execution_count": 428,
     "metadata": {},
     "output_type": "execute_result"
    }
   ],
   "source": [
    "[[1;2],[3;4]] # noted that [1,1] is equivalent to [1;1]"
   ]
  },
  {
   "cell_type": "code",
   "execution_count": 415,
   "metadata": {
    "scrolled": false
   },
   "outputs": [
    {
     "data": {
      "text/plain": [
       "4-element Array{Int64,1}:\n",
       " 1\n",
       " 2\n",
       " 3\n",
       " 4"
      ]
     },
     "execution_count": 415,
     "metadata": {},
     "output_type": "execute_result"
    }
   ],
   "source": [
    "[[1;2];[3;4]] # but [[1],[1]] is NOT equivalent to [[1];[1]]"
   ]
  },
  {
   "cell_type": "code",
   "execution_count": 434,
   "metadata": {},
   "outputs": [
    {
     "data": {
      "text/plain": [
       "false"
      ]
     },
     "execution_count": 434,
     "metadata": {},
     "output_type": "execute_result"
    }
   ],
   "source": [
    "[[1],[1]] == [[1];[1]]"
   ]
  },
  {
   "cell_type": "code",
   "execution_count": 435,
   "metadata": {},
   "outputs": [
    {
     "data": {
      "text/plain": [
       "true"
      ]
     },
     "execution_count": 435,
     "metadata": {},
     "output_type": "execute_result"
    }
   ],
   "source": [
    "[1,1] == [1;1]"
   ]
  },
  {
   "cell_type": "code",
   "execution_count": 421,
   "metadata": {
    "scrolled": true
   },
   "outputs": [
    {
     "data": {
      "text/plain": [
       "4-element Array{Int64,1}:\n",
       " 1\n",
       " 2\n",
       " 3\n",
       " 4"
      ]
     },
     "execution_count": 421,
     "metadata": {},
     "output_type": "execute_result"
    }
   ],
   "source": [
    "cat([1;2],[3;4],dims=1) # cat two 1d array vertically, output 1d"
   ]
  },
  {
   "cell_type": "code",
   "execution_count": 427,
   "metadata": {},
   "outputs": [
    {
     "data": {
      "text/plain": [
       "2×2 Array{Int64,2}:\n",
       " 1  3\n",
       " 2  4"
      ]
     },
     "execution_count": 427,
     "metadata": {},
     "output_type": "execute_result"
    }
   ],
   "source": [
    "cat([1;2],[3;4],dims=2) # cat two 1d array horizontally, output 2d"
   ]
  },
  {
   "cell_type": "markdown",
   "metadata": {},
   "source": [
    "**(!)note the difference**"
   ]
  },
  {
   "cell_type": "code",
   "execution_count": 440,
   "metadata": {},
   "outputs": [
    {
     "data": {
      "text/plain": [
       "false"
      ]
     },
     "execution_count": 440,
     "metadata": {},
     "output_type": "execute_result"
    }
   ],
   "source": [
    "cat([1;2],[3;4],dims=2) == [[1;2],[3;4]]# the behavior is different from using comma!"
   ]
  },
  {
   "cell_type": "code",
   "execution_count": 441,
   "metadata": {},
   "outputs": [
    {
     "data": {
      "text/plain": [
       "true"
      ]
     },
     "execution_count": 441,
     "metadata": {},
     "output_type": "execute_result"
    }
   ],
   "source": [
    "cat([1;2],[3;4],dims=1) == [[1;2];[3;4]]"
   ]
  },
  {
   "cell_type": "markdown",
   "metadata": {
    "colab_type": "text",
    "id": "GnOVqatvORkW"
   },
   "source": [
    "### 切片(Slicing)和視圖(View)\n",
    "\n",
    "#### 切片\n",
    "\n",
    "陣列切片，也就是將陣列中的子陣列擷取出來；使用 `view()` 函式可以產生陣列的視圖，擷取出來的視圖，其型別為 `SubArray`。\n",
    "\n",
    "在效能表現上，視圖會比切片快很多。"
   ]
  },
  {
   "cell_type": "code",
   "execution_count": 442,
   "metadata": {
    "colab": {},
    "colab_type": "code",
    "id": "YacKjWEMORkX",
    "outputId": "7e447c2e-f9ad-426c-d103-a5aaef231ec7"
   },
   "outputs": [
    {
     "data": {
      "text/plain": [
       "3×5 Array{Int64,2}:\n",
       " 1  4  7  10  13\n",
       " 2  5  8  11  14\n",
       " 3  6  9  12  15"
      ]
     },
     "execution_count": 442,
     "metadata": {},
     "output_type": "execute_result"
    }
   ],
   "source": [
    "A = reshape(collect(1:15), 3, 5)"
   ]
  },
  {
   "cell_type": "code",
   "execution_count": 443,
   "metadata": {
    "colab": {},
    "colab_type": "code",
    "id": "zM_bxo4aORkb",
    "outputId": "5b2527e9-3155-4517-d7d1-9512d6a2c1f6"
   },
   "outputs": [
    {
     "data": {
      "text/plain": [
       "4"
      ]
     },
     "execution_count": 443,
     "metadata": {},
     "output_type": "execute_result"
    }
   ],
   "source": [
    "# 使用笛卡兒索引切片\n",
    "A[1, 2]"
   ]
  },
  {
   "cell_type": "code",
   "execution_count": 444,
   "metadata": {
    "colab": {},
    "colab_type": "code",
    "id": "3AZTtjydORke",
    "outputId": "d0bc862c-71ac-46fc-bb6e-dec3e4a5285d"
   },
   "outputs": [
    {
     "data": {
      "text/plain": [
       "4-element Array{Int64,1}:\n",
       "  5\n",
       "  8\n",
       " 11\n",
       " 14"
      ]
     },
     "execution_count": 444,
     "metadata": {},
     "output_type": "execute_result"
    }
   ],
   "source": [
    "# 使用範圍取得子陣列\n",
    "A[2, 2:end]"
   ]
  },
  {
   "cell_type": "markdown",
   "metadata": {
    "colab_type": "text",
    "id": "PvkFDbRuORkh"
   },
   "source": [
    "使用條件式切片回傳的將會是一維陣列。"
   ]
  },
  {
   "cell_type": "code",
   "execution_count": 445,
   "metadata": {
    "colab": {},
    "colab_type": "code",
    "id": "bv_T8-XFORki",
    "outputId": "763ec47b-20da-4425-e362-9be699348223"
   },
   "outputs": [
    {
     "data": {
      "text/plain": [
       "7-element Array{Int64,1}:\n",
       "  9\n",
       " 10\n",
       " 11\n",
       " 12\n",
       " 13\n",
       " 14\n",
       " 15"
      ]
     },
     "execution_count": 445,
     "metadata": {},
     "output_type": "execute_result"
    }
   ],
   "source": [
    "A[A .> 8]"
   ]
  },
  {
   "cell_type": "code",
   "execution_count": 447,
   "metadata": {
    "scrolled": true
   },
   "outputs": [
    {
     "data": {
      "text/plain": [
       "3×5 BitArray{2}:\n",
       " 0  0  0  1  1\n",
       " 0  0  0  1  1\n",
       " 0  0  1  1  1"
      ]
     },
     "execution_count": 447,
     "metadata": {},
     "output_type": "execute_result"
    }
   ],
   "source": [
    "A .> 8"
   ]
  },
  {
   "cell_type": "code",
   "execution_count": 450,
   "metadata": {},
   "outputs": [
    {
     "data": {
      "text/plain": [
       "2×2 Array{Int64,2}:\n",
       " 5  8\n",
       " 6  9"
      ]
     },
     "execution_count": 450,
     "metadata": {},
     "output_type": "execute_result"
    }
   ],
   "source": [
    "A_slice = A[2:3,2:3]"
   ]
  },
  {
   "cell_type": "markdown",
   "metadata": {
    "colab_type": "text",
    "id": "1dSrT1vvORkl"
   },
   "source": [
    "#### 視圖"
   ]
  },
  {
   "cell_type": "code",
   "execution_count": 453,
   "metadata": {
    "colab": {},
    "colab_type": "code",
    "id": "S7hVCT20ORkm",
    "outputId": "468878bd-9e09-4d24-f842-b50dbbbc7e49"
   },
   "outputs": [
    {
     "data": {
      "text/plain": [
       "2×2 view(::Array{Int64,2}, 2:3, 2:3) with eltype Int64:\n",
       " 100  8\n",
       "   6  9"
      ]
     },
     "execution_count": 453,
     "metadata": {},
     "output_type": "execute_result"
    }
   ],
   "source": [
    "A_view = view(A, 2:3, 2:3)"
   ]
  },
  {
   "cell_type": "markdown",
   "metadata": {
    "colab_type": "text",
    "id": "d9IU19knORkp"
   },
   "source": [
    "視圖也可以透過跟陣列一樣的方式進行操作，但是特別要留意的是，視圖中的元素值被改變時，原始陣列對應的元素值也會被改變。"
   ]
  },
  {
   "cell_type": "code",
   "execution_count": 454,
   "metadata": {
    "colab": {},
    "colab_type": "code",
    "id": "_TLf_1_zORkq",
    "outputId": "5c063bca-22ea-4e45-d723-521a33b13046"
   },
   "outputs": [
    {
     "data": {
      "text/plain": [
       "100"
      ]
     },
     "execution_count": 454,
     "metadata": {},
     "output_type": "execute_result"
    }
   ],
   "source": [
    "A_view[1, 1] = 100"
   ]
  },
  {
   "cell_type": "code",
   "execution_count": 455,
   "metadata": {
    "colab": {},
    "colab_type": "code",
    "id": "vPdSOIgeORks",
    "outputId": "964e65dc-f0e1-4565-e8a5-6e5458f63181"
   },
   "outputs": [
    {
     "data": {
      "text/plain": [
       "3×5 Array{Int64,2}:\n",
       " 1    4  7  10  13\n",
       " 2  100  8  11  14\n",
       " 3    6  9  12  15"
      ]
     },
     "execution_count": 455,
     "metadata": {},
     "output_type": "execute_result"
    }
   ],
   "source": [
    "A"
   ]
  },
  {
   "cell_type": "markdown",
   "metadata": {
    "colab_type": "text",
    "id": "dV7zSqP2ORku"
   },
   "source": [
    "## 3. 點運算 (Vectorized Operation)\n",
    "\n",
    "陣列對點運算的支援提供了很方便的機制，來進行對陣列中元素的處理和操作，而不需要再用遍歷的方式 (例如：迴圈) 來操作陣列。下面的範例是透過點運算，將陣列中的每個元素進行 `round()` (IEEE 754 捨入)、加法、及三次方的語法示範。\n",
    "\n",
    "### 點運算適用的運算子 (operator)\n",
    "\n",
    "||運算子|\n",
    "|---|---|\n",
    "|一元運算子|-, +|\n",
    "|二元運算子|-, +, *, /, \\\\, ^|\n",
    "|比較運算子|==, !=, ≈ (isapprox), ≉|"
   ]
  },
  {
   "cell_type": "code",
   "execution_count": 456,
   "metadata": {
    "colab": {},
    "colab_type": "code",
    "id": "tkbUUo4bORku",
    "outputId": "9f538a36-b1c9-48b5-f728-6d8176d99330"
   },
   "outputs": [
    {
     "data": {
      "text/plain": [
       "3-element Array{Int64,1}:\n",
       "  1\n",
       "  8\n",
       " 27"
      ]
     },
     "execution_count": 456,
     "metadata": {},
     "output_type": "execute_result"
    }
   ],
   "source": [
    "[1, 2, 3] .^ 3"
   ]
  },
  {
   "cell_type": "markdown",
   "metadata": {
    "colab_type": "text",
    "id": "ih0nQ97kORk0"
   },
   "source": [
    "### Broadcasting"
   ]
  },
  {
   "cell_type": "code",
   "execution_count": 458,
   "metadata": {
    "colab": {},
    "colab_type": "code",
    "id": "eW4AmX-tORk0",
    "outputId": "d3281f79-a141-4c2a-e21d-141a4472500b"
   },
   "outputs": [
    {
     "data": {
      "text/plain": [
       "3-element Array{Float64,1}:\n",
       " 3.1\n",
       " 4.2\n",
       " 5.5"
      ]
     },
     "execution_count": 458,
     "metadata": {},
     "output_type": "execute_result"
    }
   ],
   "source": [
    "A = [1.1, 2.2, 3.5]\n",
    "broadcast(+, A, 2)"
   ]
  },
  {
   "cell_type": "code",
   "execution_count": 465,
   "metadata": {},
   "outputs": [
    {
     "data": {
      "text/plain": [
       "3-element Array{Float64,1}:\n",
       " 3.1\n",
       " 4.2\n",
       " 5.5"
      ]
     },
     "execution_count": 465,
     "metadata": {},
     "output_type": "execute_result"
    }
   ],
   "source": [
    "A.+2"
   ]
  },
  {
   "cell_type": "markdown",
   "metadata": {
    "colab_type": "text",
    "id": "OcEMGfj7ORk4"
   },
   "source": [
    "若不使用 broadcast 與加法的話，下列程式也可以得到相同的結果。"
   ]
  },
  {
   "cell_type": "code",
   "execution_count": 466,
   "metadata": {
    "colab": {},
    "colab_type": "code",
    "id": "h2hMLfnSORk5",
    "outputId": "6491f8f9-e7e0-49c6-b2fa-2bd5ed6b39bc"
   },
   "outputs": [
    {
     "data": {
      "text/plain": [
       "3-element Array{Float64,1}:\n",
       " 3.1\n",
       " 4.2\n",
       " 5.5"
      ]
     },
     "execution_count": 466,
     "metadata": {},
     "output_type": "execute_result"
    }
   ],
   "source": [
    "function f(x)\n",
    "    x += 2\n",
    "end\n",
    "\n",
    "map(f, A)"
   ]
  },
  {
   "cell_type": "markdown",
   "metadata": {
    "colab_type": "text",
    "id": "ahndn3mMORk-"
   },
   "source": [
    "## 4. 排序 (Sort)\n",
    "\n",
    "預設的 Sort 是 QuickSort，排序是以由小到大排序。\n",
    "\n",
    "`sort()` 在排序後不會改變原來陣列的元素值順序，如果要改變的話，可以呼叫 `sort!()`。"
   ]
  },
  {
   "cell_type": "code",
   "execution_count": 467,
   "metadata": {
    "colab": {},
    "colab_type": "code",
    "id": "eyT7UIX9ORk_",
    "outputId": "bc2c6292-8618-40ad-f14b-9b2363101919"
   },
   "outputs": [
    {
     "data": {
      "text/plain": [
       "5-element Array{Int64,1}:\n",
       " 1\n",
       " 2\n",
       " 3\n",
       " 4\n",
       " 5"
      ]
     },
     "execution_count": 467,
     "metadata": {},
     "output_type": "execute_result"
    }
   ],
   "source": [
    "sort([2, 1, 4, 3, 5])"
   ]
  },
  {
   "cell_type": "markdown",
   "metadata": {
    "colab_type": "text",
    "id": "UzLQ3QA3ORlD"
   },
   "source": [
    "若要反序排序 (由大到小)，可以加上 `rev=true` 參數。"
   ]
  },
  {
   "cell_type": "code",
   "execution_count": 468,
   "metadata": {
    "colab": {},
    "colab_type": "code",
    "id": "z_o7Y8L6ORlE",
    "outputId": "0b049bdb-7f2b-4ea6-a76d-58dc9f0e6c29"
   },
   "outputs": [
    {
     "data": {
      "text/plain": [
       "5-element Array{Int64,1}:\n",
       " 5\n",
       " 4\n",
       " 3\n",
       " 2\n",
       " 1"
      ]
     },
     "execution_count": 468,
     "metadata": {},
     "output_type": "execute_result"
    }
   ],
   "source": [
    "sort([2, 1, 4, 3, 5], rev=true)"
   ]
  },
  {
   "cell_type": "markdown",
   "metadata": {
    "colab_type": "text",
    "id": "1Hm2lMHzORlH"
   },
   "source": [
    "在排序時可以同時進行轉換，例如依據 `abs` 絕對值排序，不過如下面範例所示，`by` 並不會改變原本陣列的元素值，但是排序會依轉換後的值做排序。\n",
    "\n",
    "如果陣列裡面的元素是其他集合型別，例如是 Tuple、Pair、Dictionary 的話，也可以用 `by` 來指定排序依據。在介紹到其他集合型別時會有更多範例說明。"
   ]
  },
  {
   "cell_type": "code",
   "execution_count": 469,
   "metadata": {
    "colab": {},
    "colab_type": "code",
    "id": "SgHdNBEtORlI",
    "outputId": "6cf80741-0249-434c-e758-655550d9cc57"
   },
   "outputs": [
    {
     "data": {
      "text/plain": [
       "5-element Array{Int64,1}:\n",
       " -5\n",
       " -4\n",
       "  3\n",
       " -2\n",
       "  1"
      ]
     },
     "execution_count": 469,
     "metadata": {},
     "output_type": "execute_result"
    }
   ],
   "source": [
    "sort([-2, 1, -4, 3, -5], by=abs, rev=true)"
   ]
  },
  {
   "cell_type": "code",
   "execution_count": 474,
   "metadata": {},
   "outputs": [
    {
     "data": {
      "text/plain": [
       "5-element Array{Int64,1}:\n",
       " -5\n",
       " -4\n",
       "  3\n",
       " -2\n",
       "  1"
      ]
     },
     "execution_count": 474,
     "metadata": {},
     "output_type": "execute_result"
    }
   ],
   "source": [
    "function square(x)\n",
    "    x = x^2\n",
    "end\n",
    "sort([-2, 1, -4, 3, -5], by=square, rev=true)"
   ]
  },
  {
   "cell_type": "code",
   "execution_count": 483,
   "metadata": {},
   "outputs": [
    {
     "data": {
      "text/plain": [
       "3-element Array{Tuple{Int64,String},1}:\n",
       " (1, \"c\")\n",
       " (2, \"b\")\n",
       " (3, \"a\")"
      ]
     },
     "execution_count": 483,
     "metadata": {},
     "output_type": "execute_result"
    }
   ],
   "source": [
    "v = [(1, \"c\"), (3, \"a\"), (2, \"b\")]\n",
    "sort(v, by = x -> x[1])"
   ]
  },
  {
   "cell_type": "markdown",
   "metadata": {
    "colab_type": "text",
    "id": "HT9XE6ZNORlM"
   },
   "source": [
    "對於多維陣列，排序時必須指定 `dims` 參數，指定排序旳維度，否則會產生錯誤。"
   ]
  },
  {
   "cell_type": "code",
   "execution_count": 475,
   "metadata": {
    "colab": {},
    "colab_type": "code",
    "id": "g0EUl4H3ORlQ",
    "outputId": "9ef07904-7bab-403e-ea4c-f63dd800a060"
   },
   "outputs": [
    {
     "data": {
      "text/plain": [
       "3×3 Array{Int64,2}:\n",
       " 2  1  3\n",
       " 4  5  6\n",
       " 1  3  5"
      ]
     },
     "execution_count": 475,
     "metadata": {},
     "output_type": "execute_result"
    }
   ],
   "source": [
    "A = [2 1 3; 4 5 6; 1 3 5]"
   ]
  },
  {
   "cell_type": "markdown",
   "metadata": {
    "colab_type": "text",
    "id": "jubAUJhrORlS"
   },
   "source": [
    "下例是指定依照列 (row) 值排序。"
   ]
  },
  {
   "cell_type": "code",
   "execution_count": 477,
   "metadata": {
    "colab": {},
    "colab_type": "code",
    "id": "hoDmf3hSORlT",
    "outputId": "a96d3ff6-c363-4bbd-e821-52781156f922"
   },
   "outputs": [
    {
     "data": {
      "text/plain": [
       "3×3 Array{Int64,2}:\n",
       " 1  1  3\n",
       " 2  3  5\n",
       " 4  5  6"
      ]
     },
     "execution_count": 477,
     "metadata": {},
     "output_type": "execute_result"
    }
   ],
   "source": [
    "sort(A, dims=1)"
   ]
  },
  {
   "cell_type": "code",
   "execution_count": null,
   "metadata": {
    "colab": {},
    "colab_type": "code",
    "id": "vZE3q8UZORlV",
    "outputId": "8aac5175-e294-4e01-86aa-dd855c2ebb9e"
   },
   "outputs": [
    {
     "data": {
      "text/plain": [
       "5-element Array{Int64,1}:\n",
       " 1\n",
       " 2\n",
       " 3\n",
       " 4\n",
       " 5"
      ]
     },
     "execution_count": 58,
     "metadata": {
      "tags": []
     },
     "output_type": "execute_result"
    }
   ],
   "source": [
    "sort([2, 1, 4, 3, 5], alg=InsertionSort)"
   ]
  },
  {
   "cell_type": "code",
   "execution_count": 485,
   "metadata": {},
   "outputs": [
    {
     "data": {
      "text/plain": [
       "3×3 Array{Int64,2}:\n",
       " -1   6  4\n",
       "  7   3  5\n",
       "  9  -2  8"
      ]
     },
     "execution_count": 485,
     "metadata": {},
     "output_type": "execute_result"
    }
   ],
   "source": [
    "sortslices([7 3 5; -1 6 4; 9 -2 8], dims=1) # Sort rows"
   ]
  },
  {
   "cell_type": "markdown",
   "metadata": {
    "colab_type": "text",
    "id": "Uj6UyoySORlX"
   },
   "source": [
    "Julia 內建支援幾種不同的排序演算法：\n",
    "\n",
    "- InsertionSort\n",
    "- QuickSort\n",
    "- PartialQuickSort(k)\n",
    "- MergeSort\n",
    "\n",
    "有關於 QuickSort 排序演算法的使用範例如下。首先我們先用 `rand()` 隨機產生 100 個 1 到 500 之間的數字。在範例中也運用 `@time` 巨集來輸出各種不同排序的執行時間進行比較。\n",
    "\n",
    "對於各種不同排序的詳細說明及比較，請見參考資料：[[演算法] 排序演算法(Sort Algorithm)](http://notepad.yehyeh.net/Content/Algorithm/Sort/Sort.php)"
   ]
  },
  {
   "cell_type": "code",
   "execution_count": 486,
   "metadata": {
    "colab": {},
    "colab_type": "code",
    "id": "Rd34TGC2ORlY",
    "outputId": "04c9d5c9-68cf-4040-8ab8-f426044f6716"
   },
   "outputs": [
    {
     "data": {
      "text/plain": [
       "10-element Array{Int64,1}:\n",
       " 99\n",
       "  6\n",
       " 23\n",
       "  4\n",
       " 70\n",
       " 75\n",
       " 55\n",
       " 42\n",
       " 75\n",
       " 46"
      ]
     },
     "execution_count": 486,
     "metadata": {},
     "output_type": "execute_result"
    }
   ],
   "source": [
    "x = rand(1:100, 10)"
   ]
  },
  {
   "cell_type": "code",
   "execution_count": 487,
   "metadata": {
    "colab": {},
    "colab_type": "code",
    "id": "Xs5w5uQNORla",
    "outputId": "3e34959f-0b61-4e09-d3bf-a7dda141ceb0"
   },
   "outputs": [
    {
     "name": "stdout",
     "output_type": "stream",
     "text": [
      "  0.000005 seconds (1 allocation: 160 bytes)\n"
     ]
    },
    {
     "data": {
      "text/plain": [
       "10-element Array{Int64,1}:\n",
       "  4\n",
       "  6\n",
       " 23\n",
       " 42\n",
       " 46\n",
       " 55\n",
       " 70\n",
       " 75\n",
       " 75\n",
       " 99"
      ]
     },
     "execution_count": 487,
     "metadata": {},
     "output_type": "execute_result"
    }
   ],
   "source": [
    "@time s = sort(x; alg=QuickSort)"
   ]
  },
  {
   "cell_type": "code",
   "execution_count": 488,
   "metadata": {},
   "outputs": [
    {
     "name": "stdout",
     "output_type": "stream",
     "text": [
      "  0.000005 seconds (1 allocation: 160 bytes)\n"
     ]
    },
    {
     "data": {
      "text/plain": [
       "10-element Array{Int64,1}:\n",
       "  4\n",
       "  6\n",
       " 23\n",
       " 42\n",
       " 46\n",
       " 55\n",
       " 70\n",
       " 75\n",
       " 75\n",
       " 99"
      ]
     },
     "execution_count": 488,
     "metadata": {},
     "output_type": "execute_result"
    }
   ],
   "source": [
    "@time s = sort(x)"
   ]
  },
  {
   "cell_type": "markdown",
   "metadata": {
    "colab_type": "text",
    "id": "DG_SP43dORlk"
   },
   "source": [
    "## 5. 搜尋 (Search)"
   ]
  },
  {
   "cell_type": "markdown",
   "metadata": {
    "colab_type": "text",
    "id": "C7JhSdbiORll"
   },
   "source": [
    "搜尋某值是否存在於陣列中，可以用 `in`，回傳值為 true 或 false。"
   ]
  },
  {
   "cell_type": "code",
   "execution_count": 489,
   "metadata": {
    "colab": {},
    "colab_type": "code",
    "id": "JqjLCuQZORll",
    "outputId": "b974e624-70be-4a66-b16e-d89a5ff691e7"
   },
   "outputs": [
    {
     "data": {
      "text/plain": [
       "true"
      ]
     },
     "execution_count": 489,
     "metadata": {},
     "output_type": "execute_result"
    }
   ],
   "source": [
    "in(3, [1, 3, 5, 7, 9])"
   ]
  },
  {
   "cell_type": "code",
   "execution_count": 490,
   "metadata": {},
   "outputs": [
    {
     "data": {
      "text/plain": [
       "true"
      ]
     },
     "execution_count": 490,
     "metadata": {},
     "output_type": "execute_result"
    }
   ],
   "source": [
    "3 in [1, 3, 5, 7, 9]"
   ]
  },
  {
   "cell_type": "code",
   "execution_count": 493,
   "metadata": {},
   "outputs": [
    {
     "name": "stdout",
     "output_type": "stream",
     "text": [
      "ac579"
     ]
    }
   ],
   "source": [
    "for x in [\"a\", \"c\", 5, 7, 9]\n",
    "    print(x)\n",
    "end"
   ]
  },
  {
   "cell_type": "markdown",
   "metadata": {
    "colab_type": "text",
    "id": "cySlOAbfORlo"
   },
   "source": [
    "使用 `findall()` 函式，搜尋並回傳結果值的索引。\n",
    "- `findall(A)`\n",
    "- `findall(f::Function, A)`"
   ]
  },
  {
   "cell_type": "code",
   "execution_count": 504,
   "metadata": {},
   "outputs": [
    {
     "data": {
      "text/plain": [
       "2×2 Array{Bool,2}:\n",
       " 1  0\n",
       " 0  1"
      ]
     },
     "execution_count": 504,
     "metadata": {},
     "output_type": "execute_result"
    }
   ],
   "source": [
    "TF2d = [true false; false true]"
   ]
  },
  {
   "cell_type": "code",
   "execution_count": 505,
   "metadata": {},
   "outputs": [
    {
     "data": {
      "text/plain": [
       "2-element Array{CartesianIndex{2},1}:\n",
       " CartesianIndex(1, 1)\n",
       " CartesianIndex(2, 2)"
      ]
     },
     "execution_count": 505,
     "metadata": {},
     "output_type": "execute_result"
    }
   ],
   "source": [
    "trueind = findall(TF2d)"
   ]
  },
  {
   "cell_type": "code",
   "execution_count": 507,
   "metadata": {},
   "outputs": [
    {
     "data": {
      "text/plain": [
       "2-element Array{CartesianIndex{2},1}:\n",
       " CartesianIndex(1, 2)\n",
       " CartesianIndex(2, 2)"
      ]
     },
     "execution_count": 507,
     "metadata": {},
     "output_type": "execute_result"
    }
   ],
   "source": [
    "findall(x -> x>3,[-1 7;2 9])"
   ]
  },
  {
   "cell_type": "code",
   "execution_count": 508,
   "metadata": {},
   "outputs": [
    {
     "data": {
      "text/plain": [
       "1-element Array{CartesianIndex{2},1}:\n",
       " CartesianIndex(1, 1)"
      ]
     },
     "execution_count": 508,
     "metadata": {},
     "output_type": "execute_result"
    }
   ],
   "source": [
    "findall(iszero,[0 7;2 9])"
   ]
  },
  {
   "cell_type": "code",
   "execution_count": 511,
   "metadata": {
    "colab": {},
    "colab_type": "code",
    "id": "ZcWQEp4JORlp",
    "outputId": "cf13a805-0f1b-4b6c-981b-5b9c9e80912f"
   },
   "outputs": [
    {
     "data": {
      "text/plain": [
       "1-element Array{Int64,1}:\n",
       " 4"
      ]
     },
     "execution_count": 511,
     "metadata": {},
     "output_type": "execute_result"
    }
   ],
   "source": [
    "findall(in(1), [5, 3, 2, 1])"
   ]
  },
  {
   "cell_type": "code",
   "execution_count": 523,
   "metadata": {},
   "outputs": [
    {
     "name": "stdout",
     "output_type": "stream",
     "text": [
      "  0.030166 seconds (95.43 k allocations: 4.576 MiB)\n"
     ]
    },
    {
     "data": {
      "text/plain": [
       "1-element Array{Int64,1}:\n",
       " 4"
      ]
     },
     "execution_count": 523,
     "metadata": {},
     "output_type": "execute_result"
    }
   ],
   "source": [
    "@time findall(x->in(1,x), [5, 3, 2, 1])"
   ]
  },
  {
   "cell_type": "markdown",
   "metadata": {
    "colab_type": "text",
    "id": "p13r0NJWORls"
   },
   "source": [
    "使用 `findmax()` 及 `findmin()` 函式，回傳找到的最大值或最小值，及其索引值。"
   ]
  },
  {
   "cell_type": "code",
   "execution_count": 513,
   "metadata": {
    "colab": {},
    "colab_type": "code",
    "id": "rH198JvaORls",
    "outputId": "a6f8c566-2435-4b62-a370-8aa6269c822c"
   },
   "outputs": [
    {
     "data": {
      "text/plain": [
       "(5, 4)"
      ]
     },
     "execution_count": 513,
     "metadata": {},
     "output_type": "execute_result"
    }
   ],
   "source": [
    "findmax([2, 3, 1, 5]) # return (maxvalue, index_of_maxvalue)"
   ]
  },
  {
   "cell_type": "code",
   "execution_count": 514,
   "metadata": {
    "colab": {},
    "colab_type": "code",
    "id": "xPig2Sr7ORlv",
    "outputId": "7bc1c3c5-fcd2-4be0-ebdb-bf112111bdf7"
   },
   "outputs": [
    {
     "data": {
      "text/plain": [
       "(1, 3)"
      ]
     },
     "execution_count": 514,
     "metadata": {},
     "output_type": "execute_result"
    }
   ],
   "source": [
    "@time findmin([2, 3, 1, 5]) "
   ]
  },
  {
   "cell_type": "markdown",
   "metadata": {
    "colab_type": "text",
    "id": "BRUJKeGeORl2"
   },
   "source": [
    "若是陣列已排序，可以使用 `searchsorted()`, `searchsortedfirst()`, `searchsortedlast()`，取得該值的索引值。\n",
    "\n",
    "特別注意的是 `searchsorted()` 回傳的是索引值範圍 (range)。"
   ]
  },
  {
   "cell_type": "code",
   "execution_count": 537,
   "metadata": {
    "colab": {},
    "colab_type": "code",
    "id": "rHyFJSCeORl3",
    "outputId": "a56cea28-51bb-482f-f87d-b3f6008d7295"
   },
   "outputs": [
    {
     "name": "stdout",
     "output_type": "stream",
     "text": [
      "  0.000001 seconds (1 allocation: 128 bytes)\n"
     ]
    },
    {
     "data": {
      "text/plain": [
       "1:2"
      ]
     },
     "execution_count": 537,
     "metadata": {},
     "output_type": "execute_result"
    }
   ],
   "source": [
    "@time searchsorted([1,1, 2, 3, 5], 1) # this is much faster"
   ]
  },
  {
   "cell_type": "code",
   "execution_count": 541,
   "metadata": {},
   "outputs": [
    {
     "data": {
      "text/plain": [
       "3:2"
      ]
     },
     "execution_count": 541,
     "metadata": {},
     "output_type": "execute_result"
    }
   ],
   "source": [
    "searchsorted([1, 1, 3, 3, 5], 2)# if x not in A of searchsorted(A,x), return the place that x should be inserted"
   ]
  },
  {
   "cell_type": "code",
   "execution_count": 542,
   "metadata": {},
   "outputs": [
    {
     "data": {
      "text/plain": [
       "3:3"
      ]
     },
     "execution_count": 542,
     "metadata": {},
     "output_type": "execute_result"
    }
   ],
   "source": [
    "searchsorted([1, 1, 2, 3, 2, 5], 2)# no error occurred if A is not sorted in searchsorted(A,x)"
   ]
  },
  {
   "cell_type": "code",
   "execution_count": 543,
   "metadata": {},
   "outputs": [
    {
     "data": {
      "text/plain": [
       "3:2"
      ]
     },
     "execution_count": 543,
     "metadata": {},
     "output_type": "execute_result"
    }
   ],
   "source": [
    "searchsorted([1, 1, 3, 2, 5], 2)# it behaves as no x in A, of searchsorted(A,x)"
   ]
  },
  {
   "cell_type": "markdown",
   "metadata": {},
   "source": [
    "- `searchsorted(A,x)`: Return the range of indices of a which compare as equal to x\n",
    "- `searchsortedfirst(A,x)`: Return the index of the first value in a greater than or equal to x,\n",
    "- `searchsortedlast(A,x)`: Return the index of the last value in a less than or equal to x,\n",
    "- `by=<transform>, lt=<comparison>, rev=false` are available"
   ]
  },
  {
   "cell_type": "code",
   "execution_count": 557,
   "metadata": {
    "colab": {},
    "colab_type": "code",
    "id": "_xvvMeP7ORl6",
    "outputId": "baca970e-7ffd-42d0-de6e-cc412ecaef4f"
   },
   "outputs": [
    {
     "data": {
      "text/plain": [
       "3"
      ]
     },
     "execution_count": 557,
     "metadata": {},
     "output_type": "execute_result"
    }
   ],
   "source": [
    "searchsortedfirst([1, 2, 3, 5, 3], 3) # also no error occurred if A is not sorted"
   ]
  },
  {
   "cell_type": "code",
   "execution_count": 558,
   "metadata": {},
   "outputs": [
    {
     "data": {
      "text/plain": [
       "1"
      ]
     },
     "execution_count": 558,
     "metadata": {},
     "output_type": "execute_result"
    }
   ],
   "source": [
    "searchsortedfirst([5, 3, 2, 1], 1) # no matched. insert at the start (index =1)"
   ]
  },
  {
   "cell_type": "code",
   "execution_count": 559,
   "metadata": {},
   "outputs": [
    {
     "data": {
      "text/plain": [
       "4"
      ]
     },
     "execution_count": 559,
     "metadata": {},
     "output_type": "execute_result"
    }
   ],
   "source": [
    "searchsortedfirst([5, 3, 2, 1], 1, rev=true)"
   ]
  },
  {
   "cell_type": "code",
   "execution_count": 560,
   "metadata": {
    "colab": {},
    "colab_type": "code",
    "id": "C9uR9AztORl-",
    "outputId": "116c89b8-52bb-4107-907f-90a49eba9ce1"
   },
   "outputs": [
    {
     "data": {
      "text/plain": [
       "4"
      ]
     },
     "execution_count": 560,
     "metadata": {},
     "output_type": "execute_result"
    }
   ],
   "source": [
    "searchsortedlast([1, 2, 3, 8 ,9], 8)"
   ]
  },
  {
   "cell_type": "markdown",
   "metadata": {
    "colab_type": "text",
    "id": "lQzdWkF5ORmA"
   },
   "source": [
    "若要判斷是否已排序，可以透過 `issorted()` 函式，`rev` 參數判斷是由小到大或是由大到小排序。"
   ]
  },
  {
   "cell_type": "code",
   "execution_count": 561,
   "metadata": {
    "colab": {},
    "colab_type": "code",
    "id": "wtd2OxrEORmB",
    "outputId": "be729098-62b7-4c02-a0b7-aa0aed1bef63"
   },
   "outputs": [
    {
     "data": {
      "text/plain": [
       "true"
      ]
     },
     "execution_count": 561,
     "metadata": {},
     "output_type": "execute_result"
    }
   ],
   "source": [
    "issorted([5, 3, 2, 1], rev=true)"
   ]
  },
  {
   "cell_type": "markdown",
   "metadata": {
    "colab_type": "text",
    "id": "7omPLT_lORmD"
   },
   "source": [
    "## 6. 陣列常用函式範例\n",
    "\n",
    "|函式|說明|\n",
    "|---|---|\n",
    "|eltype(A)|\t陣列A中的元素類型。|\n",
    "|length(A)|\t陣列A中的元素總數，例如 3x2 的陣列其元素總數為 6。|\n",
    "|ndims(A)\t|陣列A的維度數，例如二維陣列維度數為2。|\n",
    "|size(A)|\t陣列A的維度，回傳值是 tuple 類型，例如 3x2 的陣列其回傳值為 (3, 2)。|\n",
    "|eachindex(A)|\t陣列A所有索引值。|\n",
    "|lastindex(A)|\t陣列A最後一個索引值。|\n",
    "|axes(A)|\t陣列A所有維度的有效索引值，回傳值是 tuple 類型。|\n",
    "|strides(A)|\t陣列A各維度在記憶體中的距離(元素數目) ，回傳值是 tuple 類型。|"
   ]
  },
  {
   "cell_type": "code",
   "execution_count": 562,
   "metadata": {
    "colab": {},
    "colab_type": "code",
    "id": "Fjbb8VLcORmD",
    "outputId": "f2a8aa29-e5f5-4af2-bebd-d91916376f92"
   },
   "outputs": [
    {
     "data": {
      "text/plain": [
       "3×2 Array{Int64,2}:\n",
       " 1  2\n",
       " 3  4\n",
       " 5  6"
      ]
     },
     "execution_count": 562,
     "metadata": {},
     "output_type": "execute_result"
    }
   ],
   "source": [
    "A = [1 2; 3 4; 5 6]"
   ]
  },
  {
   "cell_type": "code",
   "execution_count": 563,
   "metadata": {
    "colab": {},
    "colab_type": "code",
    "id": "ITkH_InEORmG",
    "outputId": "9a625f3e-ac09-4c8d-d1a7-bc91404954dd"
   },
   "outputs": [
    {
     "data": {
      "text/plain": [
       "Int64"
      ]
     },
     "execution_count": 563,
     "metadata": {},
     "output_type": "execute_result"
    }
   ],
   "source": [
    "eltype(A)"
   ]
  },
  {
   "cell_type": "code",
   "execution_count": 564,
   "metadata": {
    "colab": {},
    "colab_type": "code",
    "id": "_KWCRnJRORmJ",
    "outputId": "c37b50e0-e4ed-4463-dfff-9e03bf76c897"
   },
   "outputs": [
    {
     "data": {
      "text/plain": [
       "6"
      ]
     },
     "execution_count": 564,
     "metadata": {},
     "output_type": "execute_result"
    }
   ],
   "source": [
    "length(A)"
   ]
  },
  {
   "cell_type": "code",
   "execution_count": 565,
   "metadata": {
    "colab": {},
    "colab_type": "code",
    "id": "NfFXn5s8ORmK",
    "outputId": "91a38332-16b3-47db-81bd-d0d54331ae0e"
   },
   "outputs": [
    {
     "data": {
      "text/plain": [
       "2"
      ]
     },
     "execution_count": 565,
     "metadata": {},
     "output_type": "execute_result"
    }
   ],
   "source": [
    "ndims(A)"
   ]
  },
  {
   "cell_type": "code",
   "execution_count": 566,
   "metadata": {
    "colab": {},
    "colab_type": "code",
    "id": "GNgnT-tPORmR",
    "outputId": "148d871d-a6b4-42bc-c555-1778541a2d49"
   },
   "outputs": [
    {
     "data": {
      "text/plain": [
       "(3, 2)"
      ]
     },
     "execution_count": 566,
     "metadata": {},
     "output_type": "execute_result"
    }
   ],
   "source": [
    "size(A)"
   ]
  },
  {
   "cell_type": "code",
   "execution_count": 567,
   "metadata": {
    "colab": {},
    "colab_type": "code",
    "id": "ORRRMSffORmT",
    "outputId": "b1e2dbb4-aea9-470b-aa80-023c059da765"
   },
   "outputs": [
    {
     "data": {
      "text/plain": [
       "2"
      ]
     },
     "execution_count": 567,
     "metadata": {},
     "output_type": "execute_result"
    }
   ],
   "source": [
    "size(A, 2)"
   ]
  },
  {
   "cell_type": "code",
   "execution_count": 568,
   "metadata": {
    "colab": {},
    "colab_type": "code",
    "id": "nht9-yp7ORmY",
    "outputId": "3c625fac-6187-457e-b252-b2a61e18d1e3"
   },
   "outputs": [
    {
     "data": {
      "text/plain": [
       "(Base.OneTo(3), Base.OneTo(2))"
      ]
     },
     "execution_count": 568,
     "metadata": {},
     "output_type": "execute_result"
    }
   ],
   "source": [
    "axes(A)"
   ]
  },
  {
   "cell_type": "code",
   "execution_count": 569,
   "metadata": {
    "colab": {},
    "colab_type": "code",
    "id": "7CL8ZRniORma",
    "outputId": "cdec4242-f5f6-4d02-a25a-c7fb98f35ced"
   },
   "outputs": [
    {
     "data": {
      "text/plain": [
       "Base.OneTo(2)"
      ]
     },
     "execution_count": 569,
     "metadata": {},
     "output_type": "execute_result"
    }
   ],
   "source": [
    "axes(A, 2)"
   ]
  },
  {
   "cell_type": "code",
   "execution_count": 570,
   "metadata": {
    "colab": {},
    "colab_type": "code",
    "id": "jG9jMZOBORmc",
    "outputId": "aae41214-8ef5-4cda-8bdc-6e64c944a782"
   },
   "outputs": [
    {
     "data": {
      "text/plain": [
       "Base.OneTo(6)"
      ]
     },
     "execution_count": 570,
     "metadata": {},
     "output_type": "execute_result"
    }
   ],
   "source": [
    "eachindex(A)"
   ]
  },
  {
   "cell_type": "code",
   "execution_count": 571,
   "metadata": {
    "colab": {},
    "colab_type": "code",
    "id": "njpnBZjxORmg",
    "outputId": "b69fcfae-0bb9-49e6-9896-8a655b26508b"
   },
   "outputs": [
    {
     "data": {
      "text/plain": [
       "6"
      ]
     },
     "execution_count": 571,
     "metadata": {},
     "output_type": "execute_result"
    }
   ],
   "source": [
    "lastindex(A)"
   ]
  },
  {
   "cell_type": "code",
   "execution_count": 572,
   "metadata": {
    "colab": {},
    "colab_type": "code",
    "id": "bw_Y36L3ORmi",
    "outputId": "87411c5e-b8e0-4b14-9213-b9a82ad396f4"
   },
   "outputs": [
    {
     "data": {
      "text/plain": [
       "(1, 3)"
      ]
     },
     "execution_count": 572,
     "metadata": {},
     "output_type": "execute_result"
    }
   ],
   "source": [
    "strides(A)"
   ]
  },
  {
   "cell_type": "code",
   "execution_count": 573,
   "metadata": {
    "colab": {},
    "colab_type": "code",
    "id": "ajICmN55ORmj",
    "outputId": "0fdced37-9938-410f-9a1c-cdd871a959ea"
   },
   "outputs": [
    {
     "data": {
      "text/plain": [
       "3"
      ]
     },
     "execution_count": 573,
     "metadata": {},
     "output_type": "execute_result"
    }
   ],
   "source": [
    "stride(A, 2)"
   ]
  },
  {
   "cell_type": "markdown",
   "metadata": {},
   "source": [
    "`permutedims(A::AbstractArray, perm)`\n",
    "- Permute the dimensions of array `A`. `perm` is a vector specifying a permutation of length `ndims(A)`."
   ]
  },
  {
   "cell_type": "code",
   "execution_count": 1,
   "metadata": {},
   "outputs": [
    {
     "data": {
      "text/plain": [
       "2×2×2 Array{Int64,3}:\n",
       "[:, :, 1] =\n",
       " 1  3\n",
       " 2  4\n",
       "\n",
       "[:, :, 2] =\n",
       " 5  7\n",
       " 6  8"
      ]
     },
     "execution_count": 1,
     "metadata": {},
     "output_type": "execute_result"
    }
   ],
   "source": [
    "A = reshape(Vector(1:8), (2,2,2))"
   ]
  },
  {
   "cell_type": "code",
   "execution_count": 4,
   "metadata": {},
   "outputs": [
    {
     "data": {
      "text/plain": [
       "2×2×2 Array{Int64,3}:\n",
       "[:, :, 1] =\n",
       " 1  3\n",
       " 5  7\n",
       "\n",
       "[:, :, 2] =\n",
       " 2  4\n",
       " 6  8"
      ]
     },
     "execution_count": 4,
     "metadata": {},
     "output_type": "execute_result"
    }
   ],
   "source": [
    "B = permutedims(A, [3, 2, 1])"
   ]
  },
  {
   "cell_type": "code",
   "execution_count": 5,
   "metadata": {},
   "outputs": [
    {
     "data": {
      "text/plain": [
       "2×2 Array{Int64,2}:\n",
       " 1  2\n",
       " 3  4"
      ]
     },
     "execution_count": 5,
     "metadata": {},
     "output_type": "execute_result"
    }
   ],
   "source": [
    "B[1,:,:]"
   ]
  },
  {
   "cell_type": "code",
   "execution_count": 6,
   "metadata": {},
   "outputs": [
    {
     "data": {
      "text/plain": [
       "2×2 Array{Int64,2}:\n",
       " 5  6\n",
       " 7  8"
      ]
     },
     "execution_count": 6,
     "metadata": {},
     "output_type": "execute_result"
    }
   ],
   "source": [
    "B[2,:,:]"
   ]
  }
 ],
 "metadata": {
  "@webio": {
   "lastCommId": null,
   "lastKernelId": null
  },
  "colab": {
   "name": "julia_009_example.ipynb",
   "provenance": []
  },
  "kernelspec": {
   "display_name": "Julia 1.4.0",
   "language": "julia",
   "name": "julia-1.4"
  },
  "language_info": {
   "file_extension": ".jl",
   "mimetype": "application/julia",
   "name": "julia",
   "version": "1.4.0"
  }
 },
 "nbformat": 4,
 "nbformat_minor": 4
}
