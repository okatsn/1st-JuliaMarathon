{
 "cells": [
  {
   "cell_type": "markdown",
   "metadata": {},
   "source": [
    "# DataFrames.jl 介紹 (四): Categorical Data 及 Missing Data\n",
    "\n",
    "![](https://juliadata.github.io/DataFrames.jl/stable/assets/logo.png)\n",
    "\n",
    "DataFrames.jl 官方網站: [https://juliadata.github.io/DataFrames.jl/stable/](https://juliadata.github.io/DataFrames.jl/stable/)\n",
    "\n",
    "DataFrames.jl GitHub: [https://github.com/JuliaData/DataFrames.jl/blob/master/docs/src/index.md](https://github.com/JuliaData/DataFrames.jl/blob/master/docs/src/index.md)\n",
    "\n",
    "本範例需要用到的套件: `DataFrames`, `CSV`, `CategoricalArrays`"
   ]
  },
  {
   "cell_type": "markdown",
   "metadata": {},
   "source": [
    "## 0. 安裝"
   ]
  },
  {
   "cell_type": "markdown",
   "metadata": {},
   "source": [
    "如果尚未安裝過 DataFrames.jl 的話, 執行 `Pkg.add()` 進行安裝"
   ]
  },
  {
   "cell_type": "code",
   "execution_count": 1,
   "metadata": {},
   "outputs": [],
   "source": [
    "using Pkg"
   ]
  },
  {
   "cell_type": "code",
   "execution_count": 2,
   "metadata": {},
   "outputs": [
    {
     "name": "stdout",
     "output_type": "stream",
     "text": [
      "\u001b[32m\u001b[1m  Updating\u001b[22m\u001b[39m registry at `~/.julia/registries/General`\n",
      "\u001b[32m\u001b[1m  Updating\u001b[22m\u001b[39m git-repo `https://github.com/JuliaRegistries/General.git`\n",
      "\u001b[2K\u001b[?25h[1mFetching:\u001b[22m\u001b[39m [========================================>]  100.0 %.0 %\u001b[32m\u001b[1m Resolving\u001b[22m\u001b[39m package versions...\n",
      "\u001b[32m\u001b[1m  Updating\u001b[22m\u001b[39m `~/.julia/environments/v1.2/Project.toml`\n",
      "\u001b[90m [no changes]\u001b[39m\n",
      "\u001b[32m\u001b[1m  Updating\u001b[22m\u001b[39m `~/.julia/environments/v1.2/Manifest.toml`\n",
      "\u001b[90m [no changes]\u001b[39m\n"
     ]
    }
   ],
   "source": [
    "Pkg.add(PackageSpec(name=\"DataFrames\", version=\"0.20.2\"))"
   ]
  },
  {
   "cell_type": "markdown",
   "metadata": {},
   "source": [
    "如果尚未安裝過 CategoricalArrays.jl 的話, 執行 `Pkg.add()` 進行安裝"
   ]
  },
  {
   "cell_type": "code",
   "execution_count": 3,
   "metadata": {},
   "outputs": [
    {
     "name": "stdout",
     "output_type": "stream",
     "text": [
      "\u001b[32m\u001b[1m Resolving\u001b[22m\u001b[39m package versions...\n",
      "\u001b[32m\u001b[1m  Updating\u001b[22m\u001b[39m `~/.julia/environments/v1.2/Project.toml`\n",
      " \u001b[90m [324d7699]\u001b[39m\u001b[93m ↑ CategoricalArrays v0.7.1 ⇒ v0.7.7\u001b[39m\n",
      "\u001b[32m\u001b[1m  Updating\u001b[22m\u001b[39m `~/.julia/environments/v1.2/Manifest.toml`\n",
      " \u001b[90m [324d7699]\u001b[39m\u001b[93m ↑ CategoricalArrays v0.7.1 ⇒ v0.7.7\u001b[39m\n"
     ]
    }
   ],
   "source": [
    "Pkg.add(PackageSpec(name=\"CategoricalArrays\", version=\"0.7.7\"))"
   ]
  },
  {
   "cell_type": "markdown",
   "metadata": {},
   "source": [
    "安裝的版本"
   ]
  },
  {
   "cell_type": "code",
   "execution_count": 4,
   "metadata": {},
   "outputs": [
    {
     "data": {
      "text/plain": [
       "v\"0.7.7\""
      ]
     },
     "execution_count": 4,
     "metadata": {},
     "output_type": "execute_result"
    }
   ],
   "source": [
    "Pkg.installed()[\"CategoricalArrays\"]"
   ]
  },
  {
   "cell_type": "markdown",
   "metadata": {},
   "source": [
    "## 1. 建立 CategoricalArray\n",
    "\n",
    "建立 CategoricalArray 的方式有兩種:\n",
    "- 透過建構子 `CategoricalArray()`\n",
    "- 透過 `categorical()` 函式"
   ]
  },
  {
   "cell_type": "code",
   "execution_count": 5,
   "metadata": {},
   "outputs": [
    {
     "name": "stderr",
     "output_type": "stream",
     "text": [
      "┌ Info: Recompiling stale cache file /Users/yellowcc/.julia/compiled/v1.2/CategoricalArrays/RHXoP.ji for CategoricalArrays [324d7699-5711-5eae-9e2f-1d82baa6b597]\n",
      "└ @ Base loading.jl:1240\n"
     ]
    }
   ],
   "source": [
    "using CategoricalArrays"
   ]
  },
  {
   "cell_type": "markdown",
   "metadata": {},
   "source": [
    "### 透過建構子 `CategoricalArray()` 來建立"
   ]
  },
  {
   "cell_type": "code",
   "execution_count": 6,
   "metadata": {},
   "outputs": [
    {
     "data": {
      "text/plain": [
       "5-element CategoricalArray{Union{Missing, String},1,UInt32}:\n",
       " \"B\"    \n",
       " \"A\"    \n",
       " missing\n",
       " \"B\"    \n",
       " \"B\"    "
      ]
     },
     "execution_count": 6,
     "metadata": {},
     "output_type": "execute_result"
    }
   ],
   "source": [
    "cv = CategoricalArray([\"B\", \"A\", missing, \"B\", \"B\"])"
   ]
  },
  {
   "cell_type": "markdown",
   "metadata": {},
   "source": [
    "### 透過 `categorical()` 函式"
   ]
  },
  {
   "cell_type": "code",
   "execution_count": 7,
   "metadata": {},
   "outputs": [
    {
     "data": {
      "text/plain": [
       "5-element CategoricalArray{Union{Missing, String},1,UInt8}:\n",
       " \"B\"    \n",
       " \"A\"    \n",
       " missing\n",
       " \"B\"    \n",
       " \"B\"    "
      ]
     },
     "execution_count": 7,
     "metadata": {},
     "output_type": "execute_result"
    }
   ],
   "source": [
    "cv2 = categorical([\"B\", \"A\", missing, \"B\", \"B\"], true, ordered=true)"
   ]
  },
  {
   "cell_type": "markdown",
   "metadata": {},
   "source": [
    "### `levels()` 與 `levels!()`\n",
    "\n",
    "呼叫 `levels()` 產生 CategoricalArray 中可出現的類別. 以 cv 的例子來說, A 和 B 是可出現的類別."
   ]
  },
  {
   "cell_type": "code",
   "execution_count": 8,
   "metadata": {},
   "outputs": [
    {
     "data": {
      "text/plain": [
       "2-element Array{String,1}:\n",
       " \"A\"\n",
       " \"B\""
      ]
     },
     "execution_count": 8,
     "metadata": {},
     "output_type": "execute_result"
    }
   ],
   "source": [
    "levels(cv)"
   ]
  },
  {
   "cell_type": "markdown",
   "metadata": {},
   "source": [
    "`levels!()` 函式可以改變取出的順序, 執行過後取出 cv 中類別的順序已改變."
   ]
  },
  {
   "cell_type": "code",
   "execution_count": 9,
   "metadata": {},
   "outputs": [
    {
     "data": {
      "text/plain": [
       "5-element CategoricalArray{Union{Missing, String},1,UInt32}:\n",
       " \"B\"    \n",
       " \"A\"    \n",
       " missing\n",
       " \"B\"    \n",
       " \"B\"    "
      ]
     },
     "execution_count": 9,
     "metadata": {},
     "output_type": "execute_result"
    }
   ],
   "source": [
    "levels!(cv, [\"B\", \"A\"])"
   ]
  },
  {
   "cell_type": "code",
   "execution_count": 10,
   "metadata": {},
   "outputs": [
    {
     "data": {
      "text/plain": [
       "2-element Array{String,1}:\n",
       " \"B\"\n",
       " \"A\""
      ]
     },
     "execution_count": 10,
     "metadata": {},
     "output_type": "execute_result"
    }
   ],
   "source": [
    "levels(cv)"
   ]
  },
  {
   "cell_type": "code",
   "execution_count": 11,
   "metadata": {},
   "outputs": [
    {
     "data": {
      "text/plain": [
       "3-element Array{Union{Missing, String},1}:\n",
       " \"B\"    \n",
       " \"A\"    \n",
       " missing"
      ]
     },
     "execution_count": 11,
     "metadata": {},
     "output_type": "execute_result"
    }
   ],
   "source": [
    "unique(cv)"
   ]
  },
  {
   "cell_type": "markdown",
   "metadata": {},
   "source": [
    "### `compress()`\n",
    "\n",
    "`compress()` 函式可以壓縮 CategoricalArray 以節省記憶體的用量."
   ]
  },
  {
   "cell_type": "code",
   "execution_count": 12,
   "metadata": {},
   "outputs": [
    {
     "name": "stdout",
     "output_type": "stream",
     "text": [
      "原始大小: 818 bytes\n"
     ]
    }
   ],
   "source": [
    "cv = CategoricalArray([\"B\", \"A\", missing, \"B\", \"B\"])\n",
    "\n",
    "# 呼叫 Base.summarysize() 函式查看物件的記憶體使用量\n",
    "println(\"原始大小: \", Base.summarysize(cv), \" bytes\")"
   ]
  },
  {
   "cell_type": "code",
   "execution_count": 13,
   "metadata": {},
   "outputs": [
    {
     "name": "stdout",
     "output_type": "stream",
     "text": [
      "壓縮後: 749 bytes\n"
     ]
    }
   ],
   "source": [
    "cv = compress(cv)\n",
    "println(\"壓縮後: \", Base.summarysize(cv), \" bytes\")"
   ]
  },
  {
   "cell_type": "markdown",
   "metadata": {},
   "source": [
    "如前面範例, 呼叫 `categorical()` 函式時, 設定 compress 變數為 true 時, 就可以在建立 CategoricalArray 時同時進行壓縮."
   ]
  },
  {
   "cell_type": "code",
   "execution_count": 14,
   "metadata": {},
   "outputs": [
    {
     "data": {
      "text/plain": [
       "749"
      ]
     },
     "execution_count": 14,
     "metadata": {},
     "output_type": "execute_result"
    }
   ],
   "source": [
    "cv2 = categorical([\"B\", \"A\", missing, \"B\", \"B\"], true)\n",
    "Base.summarysize(cv2)"
   ]
  },
  {
   "cell_type": "markdown",
   "metadata": {},
   "source": [
    "## 2. 將 DataFrame 中的字串 (String) 欄位轉換為 CategoricalString\n",
    "\n",
    "在 DataFrame 中如果需要將定欄位轉換為類別型態的話, 可以使用 `categorical!()` 函式.\n",
    "\n",
    "首先先建立一個 DataFrame, 包含 Int64, String, String 資料型態的 3 個欄位."
   ]
  },
  {
   "cell_type": "code",
   "execution_count": 15,
   "metadata": {},
   "outputs": [
    {
     "name": "stderr",
     "output_type": "stream",
     "text": [
      "┌ Info: Recompiling stale cache file /Users/yellowcc/.julia/compiled/v1.2/DataFrames/AR9oZ.ji for DataFrames [a93c6f00-e57d-5684-b7b6-d8193f3e46c0]\n",
      "└ @ Base loading.jl:1240\n"
     ]
    },
    {
     "data": {
      "text/html": [
       "<table class=\"data-frame\"><thead><tr><th></th><th>index</th><th>name</th><th>industry</th></tr><tr><th></th><th>Int64</th><th>String</th><th>String</th></tr></thead><tbody><p>5 rows × 3 columns</p><tr><th>1</th><td>1</td><td>James</td><td>製造業</td></tr><tr><th>2</th><td>2</td><td>Jim</td><td>營建工程業</td></tr><tr><th>3</th><td>3</td><td>Adam</td><td>批發及零售業</td></tr><tr><th>4</th><td>4</td><td>Dawn</td><td>資通訊服務業</td></tr><tr><th>5</th><td>5</td><td>Jason</td><td>金融及保險業</td></tr></tbody></table>"
      ],
      "text/latex": [
       "\\begin{tabular}{r|ccc}\n",
       "\t& index & name & industry\\\\\n",
       "\t\\hline\n",
       "\t& Int64 & String & String\\\\\n",
       "\t\\hline\n",
       "\t1 & 1 & James & 製造業 \\\\\n",
       "\t2 & 2 & Jim & 營建工程業 \\\\\n",
       "\t3 & 3 & Adam & 批發及零售業 \\\\\n",
       "\t4 & 4 & Dawn & 資通訊服務業 \\\\\n",
       "\t5 & 5 & Jason & 金融及保險業 \\\\\n",
       "\\end{tabular}\n"
      ],
      "text/plain": [
       "5×3 DataFrame\n",
       "│ Row │ index │ name   │ industry     │\n",
       "│     │ \u001b[90mInt64\u001b[39m │ \u001b[90mString\u001b[39m │ \u001b[90mString\u001b[39m       │\n",
       "├─────┼───────┼────────┼──────────────┤\n",
       "│ 1   │ 1     │ James  │ 製造業       │\n",
       "│ 2   │ 2     │ Jim    │ 營建工程業   │\n",
       "│ 3   │ 3     │ Adam   │ 批發及零售業 │\n",
       "│ 4   │ 4     │ Dawn   │ 資通訊服務業 │\n",
       "│ 5   │ 5     │ Jason  │ 金融及保險業 │"
      ]
     },
     "execution_count": 15,
     "metadata": {},
     "output_type": "execute_result"
    }
   ],
   "source": [
    "using DataFrames\n",
    "\n",
    "df = DataFrame(index = [1, 2, 3, 4, 5],\n",
    "               name = [\"James\", \"Jim\", \"Adam\", \"Dawn\", \"Jason\"],\n",
    "               industry = [\"製造業\", \"營建工程業\", \"批發及零售業\", \"資通訊服務業\", \"金融及保險業\"])"
   ]
  },
  {
   "cell_type": "code",
   "execution_count": 16,
   "metadata": {},
   "outputs": [
    {
     "data": {
      "text/plain": [
       "3-element Array{DataType,1}:\n",
       " Int64 \n",
       " String\n",
       " String"
      ]
     },
     "execution_count": 16,
     "metadata": {},
     "output_type": "execute_result"
    }
   ],
   "source": [
    "# 查看欄位中的元素的資料型態\n",
    "eltype.(eachcol(df))"
   ]
  },
  {
   "cell_type": "markdown",
   "metadata": {},
   "source": [
    "呼叫 `categorical!()` 函式, 將 industry 欄位轉換為 CategoricalString 型態."
   ]
  },
  {
   "cell_type": "code",
   "execution_count": 17,
   "metadata": {},
   "outputs": [
    {
     "data": {
      "text/html": [
       "<table class=\"data-frame\"><thead><tr><th></th><th>index</th><th>name</th><th>industry</th></tr><tr><th></th><th>Int64</th><th>String</th><th>Categorical…</th></tr></thead><tbody><p>5 rows × 3 columns</p><tr><th>1</th><td>1</td><td>James</td><td>製造業</td></tr><tr><th>2</th><td>2</td><td>Jim</td><td>營建工程業</td></tr><tr><th>3</th><td>3</td><td>Adam</td><td>批發及零售業</td></tr><tr><th>4</th><td>4</td><td>Dawn</td><td>資通訊服務業</td></tr><tr><th>5</th><td>5</td><td>Jason</td><td>金融及保險業</td></tr></tbody></table>"
      ],
      "text/latex": [
       "\\begin{tabular}{r|ccc}\n",
       "\t& index & name & industry\\\\\n",
       "\t\\hline\n",
       "\t& Int64 & String & Categorical…\\\\\n",
       "\t\\hline\n",
       "\t1 & 1 & James & 製造業 \\\\\n",
       "\t2 & 2 & Jim & 營建工程業 \\\\\n",
       "\t3 & 3 & Adam & 批發及零售業 \\\\\n",
       "\t4 & 4 & Dawn & 資通訊服務業 \\\\\n",
       "\t5 & 5 & Jason & 金融及保險業 \\\\\n",
       "\\end{tabular}\n"
      ],
      "text/plain": [
       "5×3 DataFrame\n",
       "│ Row │ index │ name   │ industry     │\n",
       "│     │ \u001b[90mInt64\u001b[39m │ \u001b[90mString\u001b[39m │ \u001b[90mCategorical…\u001b[39m │\n",
       "├─────┼───────┼────────┼──────────────┤\n",
       "│ 1   │ 1     │ James  │ 製造業       │\n",
       "│ 2   │ 2     │ Jim    │ 營建工程業   │\n",
       "│ 3   │ 3     │ Adam   │ 批發及零售業 │\n",
       "│ 4   │ 4     │ Dawn   │ 資通訊服務業 │\n",
       "│ 5   │ 5     │ Jason  │ 金融及保險業 │"
      ]
     },
     "execution_count": 17,
     "metadata": {},
     "output_type": "execute_result"
    }
   ],
   "source": [
    "categorical!(df, :industry, compress=true)"
   ]
  },
  {
   "cell_type": "code",
   "execution_count": 18,
   "metadata": {},
   "outputs": [
    {
     "data": {
      "text/plain": [
       "3-element Array{DataType,1}:\n",
       " Int64                   \n",
       " String                  \n",
       " CategoricalString{UInt8}"
      ]
     },
     "execution_count": 18,
     "metadata": {},
     "output_type": "execute_result"
    }
   ],
   "source": [
    "eltype.(eachcol(df))"
   ]
  },
  {
   "cell_type": "markdown",
   "metadata": {},
   "source": [
    "## 3. Missing 的處理\n",
    "\n",
    "Julia 提供 Missing 型別來代表當資料中有缺值的情況發生時, 類比於 SQL 的 NULL、R 語言中的 NA."
   ]
  },
  {
   "cell_type": "code",
   "execution_count": 19,
   "metadata": {},
   "outputs": [
    {
     "data": {
      "text/html": [
       "<table class=\"data-frame\"><thead><tr><th></th><th>index</th><th>name</th><th>industry</th><th>age</th></tr><tr><th></th><th>Int64</th><th>String</th><th>Categorical…</th><th>Int64⍰</th></tr></thead><tbody><p>5 rows × 4 columns</p><tr><th>1</th><td>1</td><td>James</td><td>製造業</td><td>23</td></tr><tr><th>2</th><td>2</td><td>Jim</td><td>營建工程業</td><td>34</td></tr><tr><th>3</th><td>3</td><td>Adam</td><td>批發及零售業</td><td>missing</td></tr><tr><th>4</th><td>4</td><td>Dawn</td><td>資通訊服務業</td><td>56</td></tr><tr><th>5</th><td>5</td><td>Jason</td><td>金融及保險業</td><td>33</td></tr></tbody></table>"
      ],
      "text/latex": [
       "\\begin{tabular}{r|cccc}\n",
       "\t& index & name & industry & age\\\\\n",
       "\t\\hline\n",
       "\t& Int64 & String & Categorical… & Int64⍰\\\\\n",
       "\t\\hline\n",
       "\t1 & 1 & James & 製造業 & 23 \\\\\n",
       "\t2 & 2 & Jim & 營建工程業 & 34 \\\\\n",
       "\t3 & 3 & Adam & 批發及零售業 &  \\\\\n",
       "\t4 & 4 & Dawn & 資通訊服務業 & 56 \\\\\n",
       "\t5 & 5 & Jason & 金融及保險業 & 33 \\\\\n",
       "\\end{tabular}\n"
      ],
      "text/plain": [
       "5×4 DataFrame\n",
       "│ Row │ index │ name   │ industry     │ age     │\n",
       "│     │ \u001b[90mInt64\u001b[39m │ \u001b[90mString\u001b[39m │ \u001b[90mCategorical…\u001b[39m │ \u001b[90mInt64⍰\u001b[39m  │\n",
       "├─────┼───────┼────────┼──────────────┼─────────┤\n",
       "│ 1   │ 1     │ James  │ 製造業       │ 23      │\n",
       "│ 2   │ 2     │ Jim    │ 營建工程業   │ 34      │\n",
       "│ 3   │ 3     │ Adam   │ 批發及零售業 │ \u001b[90mmissing\u001b[39m │\n",
       "│ 4   │ 4     │ Dawn   │ 資通訊服務業 │ 56      │\n",
       "│ 5   │ 5     │ Jason  │ 金融及保險業 │ 33      │"
      ]
     },
     "execution_count": 19,
     "metadata": {},
     "output_type": "execute_result"
    }
   ],
   "source": [
    "# 新增 age 欄位 (column)\n",
    "df.age = [23, 34, missing, 56, 33]\n",
    "df"
   ]
  },
  {
   "cell_type": "code",
   "execution_count": 20,
   "metadata": {},
   "outputs": [
    {
     "data": {
      "text/plain": [
       "5-element Array{Union{Missing, Int64},1}:\n",
       " 23       \n",
       " 34       \n",
       "   missing\n",
       " 56       \n",
       " 33       "
      ]
     },
     "execution_count": 20,
     "metadata": {},
     "output_type": "execute_result"
    }
   ],
   "source": [
    "x = df[!, 4]"
   ]
  },
  {
   "cell_type": "markdown",
   "metadata": {},
   "source": [
    "### `skipmissing`\n",
    "\n",
    "使用 `Base.skipmissing()` 函式, 將 vector 中的 missing 值去掉. 呼叫後可以看到回傳的是 Int64 與 missing 聯集的 vector."
   ]
  },
  {
   "cell_type": "code",
   "execution_count": 21,
   "metadata": {},
   "outputs": [
    {
     "data": {
      "text/plain": [
       "Base.SkipMissing{Array{Union{Missing, Int64},1}}(Union{Missing, Int64}[23, 34, missing, 56, 33])"
      ]
     },
     "execution_count": 21,
     "metadata": {},
     "output_type": "execute_result"
    }
   ],
   "source": [
    "skipmissing(x)"
   ]
  },
  {
   "cell_type": "markdown",
   "metadata": {},
   "source": [
    "取出非 missing 值."
   ]
  },
  {
   "cell_type": "code",
   "execution_count": 22,
   "metadata": {},
   "outputs": [
    {
     "data": {
      "text/plain": [
       "4-element Array{Int64,1}:\n",
       " 23\n",
       " 34\n",
       " 56\n",
       " 33"
      ]
     },
     "execution_count": 22,
     "metadata": {},
     "output_type": "execute_result"
    }
   ],
   "source": [
    "collect(skipmissing(x))"
   ]
  },
  {
   "cell_type": "markdown",
   "metadata": {},
   "source": [
    "以上面 DataFrame 為例, 希望計算年齡的平均值, 但是需要去掉 missing 值才能計算出正確的平均值."
   ]
  },
  {
   "cell_type": "code",
   "execution_count": 23,
   "metadata": {},
   "outputs": [
    {
     "data": {
      "text/plain": [
       "36.5"
      ]
     },
     "execution_count": 23,
     "metadata": {},
     "output_type": "execute_result"
    }
   ],
   "source": [
    "using Statistics\n",
    "\n",
    "mean(skipmissing(x))"
   ]
  },
  {
   "cell_type": "markdown",
   "metadata": {},
   "source": [
    "### `coalesce()`\n",
    "\n",
    "配合 `skipmissing()`, 呼叫 `Base.coalesce()` 取代 missing, 下面範例是將 vector 中的 missing 值以年齡的平均值取代."
   ]
  },
  {
   "cell_type": "code",
   "execution_count": 24,
   "metadata": {},
   "outputs": [
    {
     "data": {
      "text/plain": [
       "5-element Array{Real,1}:\n",
       " 23  \n",
       " 34  \n",
       " 36.5\n",
       " 56  \n",
       " 33  "
      ]
     },
     "execution_count": 24,
     "metadata": {},
     "output_type": "execute_result"
    }
   ],
   "source": [
    "coalesce.(x, mean(skipmissing(x)))"
   ]
  },
  {
   "cell_type": "markdown",
   "metadata": {},
   "source": [
    "### `dropmissing()` 與 `dropmissing!()`\n",
    "\n",
    "在 DataFrames 中提供 `dropmissing()` 與 `dropmissing!()`, 可將 DataFrame 中含有 missing 的 row 去掉. 兩者不同點在於, `dropmissing!()` 會 in-place 改變 DataFrame.\n",
    "\n",
    "以上面 DataFrame 為例, 呼叫 `dropmissing()` 後僅剩下一個 row."
   ]
  },
  {
   "cell_type": "code",
   "execution_count": 25,
   "metadata": {},
   "outputs": [
    {
     "data": {
      "text/html": [
       "<table class=\"data-frame\"><thead><tr><th></th><th>index</th><th>name</th><th>industry</th><th>age</th></tr><tr><th></th><th>Int64</th><th>String</th><th>Categorical…</th><th>Int64</th></tr></thead><tbody><p>4 rows × 4 columns</p><tr><th>1</th><td>1</td><td>James</td><td>製造業</td><td>23</td></tr><tr><th>2</th><td>2</td><td>Jim</td><td>營建工程業</td><td>34</td></tr><tr><th>3</th><td>4</td><td>Dawn</td><td>資通訊服務業</td><td>56</td></tr><tr><th>4</th><td>5</td><td>Jason</td><td>金融及保險業</td><td>33</td></tr></tbody></table>"
      ],
      "text/latex": [
       "\\begin{tabular}{r|cccc}\n",
       "\t& index & name & industry & age\\\\\n",
       "\t\\hline\n",
       "\t& Int64 & String & Categorical… & Int64\\\\\n",
       "\t\\hline\n",
       "\t1 & 1 & James & 製造業 & 23 \\\\\n",
       "\t2 & 2 & Jim & 營建工程業 & 34 \\\\\n",
       "\t3 & 4 & Dawn & 資通訊服務業 & 56 \\\\\n",
       "\t4 & 5 & Jason & 金融及保險業 & 33 \\\\\n",
       "\\end{tabular}\n"
      ],
      "text/plain": [
       "4×4 DataFrame\n",
       "│ Row │ index │ name   │ industry     │ age   │\n",
       "│     │ \u001b[90mInt64\u001b[39m │ \u001b[90mString\u001b[39m │ \u001b[90mCategorical…\u001b[39m │ \u001b[90mInt64\u001b[39m │\n",
       "├─────┼───────┼────────┼──────────────┼───────┤\n",
       "│ 1   │ 1     │ James  │ 製造業       │ 23    │\n",
       "│ 2   │ 2     │ Jim    │ 營建工程業   │ 34    │\n",
       "│ 3   │ 4     │ Dawn   │ 資通訊服務業 │ 56    │\n",
       "│ 4   │ 5     │ Jason  │ 金融及保險業 │ 33    │"
      ]
     },
     "execution_count": 25,
     "metadata": {},
     "output_type": "execute_result"
    }
   ],
   "source": [
    "dropmissing(df)"
   ]
  },
  {
   "cell_type": "markdown",
   "metadata": {},
   "source": [
    "可針對特定欄位 (column) 進行處理."
   ]
  },
  {
   "cell_type": "code",
   "execution_count": 26,
   "metadata": {},
   "outputs": [
    {
     "data": {
      "text/html": [
       "<table class=\"data-frame\"><thead><tr><th></th><th>index</th><th>name</th><th>industry</th><th>age</th></tr><tr><th></th><th>Int64</th><th>String</th><th>Categorical…</th><th>Int64⍰</th></tr></thead><tbody><p>5 rows × 4 columns</p><tr><th>1</th><td>1</td><td>James</td><td>製造業</td><td>23</td></tr><tr><th>2</th><td>2</td><td>Jim</td><td>營建工程業</td><td>34</td></tr><tr><th>3</th><td>3</td><td>Adam</td><td>批發及零售業</td><td>missing</td></tr><tr><th>4</th><td>4</td><td>Dawn</td><td>資通訊服務業</td><td>56</td></tr><tr><th>5</th><td>5</td><td>Jason</td><td>金融及保險業</td><td>33</td></tr></tbody></table>"
      ],
      "text/latex": [
       "\\begin{tabular}{r|cccc}\n",
       "\t& index & name & industry & age\\\\\n",
       "\t\\hline\n",
       "\t& Int64 & String & Categorical… & Int64⍰\\\\\n",
       "\t\\hline\n",
       "\t1 & 1 & James & 製造業 & 23 \\\\\n",
       "\t2 & 2 & Jim & 營建工程業 & 34 \\\\\n",
       "\t3 & 3 & Adam & 批發及零售業 &  \\\\\n",
       "\t4 & 4 & Dawn & 資通訊服務業 & 56 \\\\\n",
       "\t5 & 5 & Jason & 金融及保險業 & 33 \\\\\n",
       "\\end{tabular}\n"
      ],
      "text/plain": [
       "5×4 DataFrame\n",
       "│ Row │ index │ name   │ industry     │ age     │\n",
       "│     │ \u001b[90mInt64\u001b[39m │ \u001b[90mString\u001b[39m │ \u001b[90mCategorical…\u001b[39m │ \u001b[90mInt64⍰\u001b[39m  │\n",
       "├─────┼───────┼────────┼──────────────┼─────────┤\n",
       "│ 1   │ 1     │ James  │ 製造業       │ 23      │\n",
       "│ 2   │ 2     │ Jim    │ 營建工程業   │ 34      │\n",
       "│ 3   │ 3     │ Adam   │ 批發及零售業 │ \u001b[90mmissing\u001b[39m │\n",
       "│ 4   │ 4     │ Dawn   │ 資通訊服務業 │ 56      │\n",
       "│ 5   │ 5     │ Jason  │ 金融及保險業 │ 33      │"
      ]
     },
     "execution_count": 26,
     "metadata": {},
     "output_type": "execute_result"
    }
   ],
   "source": [
    "dropmissing(df, :name)"
   ]
  },
  {
   "cell_type": "code",
   "execution_count": null,
   "metadata": {},
   "outputs": [],
   "source": []
  }
 ],
 "metadata": {
  "@webio": {
   "lastCommId": null,
   "lastKernelId": null
  },
  "kernelspec": {
   "display_name": "Julia 1.2.0",
   "language": "julia",
   "name": "julia-1.2"
  },
  "language_info": {
   "file_extension": ".jl",
   "mimetype": "application/julia",
   "name": "julia",
   "version": "1.2.0"
  }
 },
 "nbformat": 4,
 "nbformat_minor": 4
}
