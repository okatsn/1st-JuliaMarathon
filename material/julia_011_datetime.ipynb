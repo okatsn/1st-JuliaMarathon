{
 "cells": [
  {
   "cell_type": "markdown",
   "metadata": {
    "colab_type": "text",
    "id": "C53tnp-lRMY7"
   },
   "source": [
    "# Julia 日期與時間\n",
    "\n",
    "Julia 提供了不同的型別和大量的函式，讓開發和研究人員可以方便的操作日期與時間資料，今天的內容要介紹日期與時間型別及其操作。\n",
    "\n",
    "Date 與 DateTime 型別對於日期的計算遵循 ISO 8601 的日期和時間的表示方法，要留意的是依照 ISO 8601 的定義方式週的第一天為週一。\n",
    "\n",
    "## 1. 日期與時間的建立\n",
    "\n",
    "日期與時間相關的屬性與函式定義在 Dates 模組內，開始使用前先用 using 引入。\n",
    "\n",
    "最常用的型別有 Date、DateTime、Time。"
   ]
  },
  {
   "cell_type": "code",
   "execution_count": 1,
   "metadata": {
    "colab": {},
    "colab_type": "code",
    "id": "bTFnaoQqRMZG"
   },
   "outputs": [],
   "source": [
    "using Dates"
   ]
  },
  {
   "cell_type": "markdown",
   "metadata": {
    "colab_type": "text",
    "id": "r30HcCMGRMZS"
   },
   "source": [
    "`Dates.now()` 方法會回傳目前系統日期時間。"
   ]
  },
  {
   "cell_type": "code",
   "execution_count": 6,
   "metadata": {
    "colab": {},
    "colab_type": "code",
    "id": "s_8Ah5gGRMZZ",
    "outputId": "6dac3524-1735-4cbe-99f8-9fb572098b83"
   },
   "outputs": [
    {
     "data": {
      "text/plain": [
       "2020-04-20T21:15:56.34"
      ]
     },
     "execution_count": 6,
     "metadata": {},
     "output_type": "execute_result"
    }
   ],
   "source": [
    "now()"
   ]
  },
  {
   "cell_type": "code",
   "execution_count": 7,
   "metadata": {},
   "outputs": [
    {
     "data": {
      "text/plain": [
       "2020-04-20T21:15:56.824"
      ]
     },
     "execution_count": 7,
     "metadata": {},
     "output_type": "execute_result"
    }
   ],
   "source": [
    "Dates.now()"
   ]
  },
  {
   "cell_type": "code",
   "execution_count": 9,
   "metadata": {
    "colab": {},
    "colab_type": "code",
    "id": "folZ10qvRMZo",
    "outputId": "32b0c038-9eaa-496a-9f8b-ffe18547a0e6"
   },
   "outputs": [
    {
     "data": {
      "text/plain": [
       "2020-04-20"
      ]
     },
     "execution_count": 9,
     "metadata": {},
     "output_type": "execute_result"
    }
   ],
   "source": [
    "today()"
   ]
  },
  {
   "cell_type": "code",
   "execution_count": 11,
   "metadata": {},
   "outputs": [
    {
     "data": {
      "text/plain": [
       "Date"
      ]
     },
     "execution_count": 11,
     "metadata": {},
     "output_type": "execute_result"
    }
   ],
   "source": [
    "typeof(today())"
   ]
  },
  {
   "cell_type": "code",
   "execution_count": 12,
   "metadata": {},
   "outputs": [
    {
     "data": {
      "text/plain": [
       "DateTime"
      ]
     },
     "execution_count": 12,
     "metadata": {},
     "output_type": "execute_result"
    }
   ],
   "source": [
    "typeof(now())"
   ]
  },
  {
   "cell_type": "markdown",
   "metadata": {
    "colab_type": "text",
    "id": "I96BlLLgRMZv"
   },
   "source": [
    "使用 **`Date()` 建構子建立日期**，下例是透過建構子將目前系統日期時間轉換為日期。"
   ]
  },
  {
   "cell_type": "code",
   "execution_count": 4,
   "metadata": {
    "colab": {},
    "colab_type": "code",
    "id": "Q3Tx4tO6RMZy",
    "outputId": "3ad2ad3a-d66e-4b32-bc6d-c71760a100fa"
   },
   "outputs": [
    {
     "data": {
      "text/plain": [
       "2020-04-17"
      ]
     },
     "execution_count": 4,
     "metadata": {},
     "output_type": "execute_result"
    }
   ],
   "source": [
    "# 等同於呼叫 today()\n",
    "Date(now())"
   ]
  },
  {
   "cell_type": "markdown",
   "metadata": {
    "colab_type": "text",
    "id": "is9f1tBfRMZ-"
   },
   "source": [
    "使用 `DateTime()`、`Date()`、`Time()` 建構子建立日期與時間，除了第一個值是必要輸入的之外，其他未輸入的值會以預設值自動帶入。"
   ]
  },
  {
   "cell_type": "code",
   "execution_count": 14,
   "metadata": {
    "colab": {},
    "colab_type": "code",
    "id": "b6laqSRhRMaA",
    "outputId": "919375a3-d725-46e3-e774-27cad0923c1e"
   },
   "outputs": [
    {
     "data": {
      "text/plain": [
       "2013-01-01T00:00:00"
      ]
     },
     "execution_count": 14,
     "metadata": {},
     "output_type": "execute_result"
    }
   ],
   "source": [
    "DateTime(2013)"
   ]
  },
  {
   "cell_type": "markdown",
   "metadata": {
    "colab_type": "text",
    "id": "db2o40nORMaN"
   },
   "source": [
    "除了使用建構子外，也可以使用 Period 型別指定。請留意 Period 型別為可變參數其均以大寫開頭。"
   ]
  },
  {
   "cell_type": "code",
   "execution_count": 15,
   "metadata": {
    "colab": {},
    "colab_type": "code",
    "id": "U9Ep59jlRMaP",
    "outputId": "846b1948-da7c-4875-e4ec-96b35b0e5a41"
   },
   "outputs": [
    {
     "data": {
      "text/plain": [
       "2019-10-01T00:00:00.1"
      ]
     },
     "execution_count": 15,
     "metadata": {},
     "output_type": "execute_result"
    }
   ],
   "source": [
    "DateTime(Month(10), Millisecond(100), Year(2019))"
   ]
  },
  {
   "cell_type": "code",
   "execution_count": 20,
   "metadata": {},
   "outputs": [
    {
     "name": "stdout",
     "output_type": "stream",
     "text": [
      "Time = 21:20:51.156, and its type = Time\n"
     ]
    }
   ],
   "source": [
    "Time1 = Time(now())\n",
    "typeofTime = typeof(Time1)\n",
    "println(\"Time = $Time1, and its type = $typeofTime\")"
   ]
  },
  {
   "cell_type": "markdown",
   "metadata": {
    "colab_type": "text",
    "id": "Uv-7CLbjRMaa"
   },
   "source": [
    "## 2. 從日期與時間取得各周期值\n",
    "\n",
    "透過函式或 Period 型別，可以取得各周期值。\n",
    "\n",
    "|函式或 Period|說明|\n",
    "|---|---|\n",
    "|year(), Year()|取得年，回傳值分別為 Int64 和 Period 型別。|\n",
    "|month(), Month()|取得月，回傳值分別為 Int64 和 Period 型別。|\n",
    "|week(), Week()|取得週數 (從年初起算) ，回傳值分別為 Int64 和 Period 型別。|\n",
    "|day(), Day()|取得日，回傳值分別為 Int64 和 Period 型別。|\n",
    "|yearmonth()|取得 (年, 月)，回傳值為 Tuple。|\n",
    "|monthday()|取得 (月, 日)，回傳值為 Tuple。|\n",
    "|yearmonthday()|取得 (年, 月, 日)，回傳值為 Tuple。|\n",
    "|value()|距離公元第一天的總天數|\n",
    "|dayofweek()|the nth day of this week|\n",
    "\n",
    "例如：呼叫 `monthday()` 取得目前的月與日，回傳值為 Tuple。"
   ]
  },
  {
   "cell_type": "code",
   "execution_count": 27,
   "metadata": {
    "colab": {},
    "colab_type": "code",
    "id": "-vIWiYKGRMad",
    "outputId": "fea60ada-0872-4eb3-82cc-986cd10757e5"
   },
   "outputs": [
    {
     "data": {
      "text/plain": [
       "(4, 20)"
      ]
     },
     "execution_count": 27,
     "metadata": {},
     "output_type": "execute_result"
    }
   ],
   "source": [
    "md = monthday(now())"
   ]
  },
  {
   "cell_type": "markdown",
   "metadata": {
    "colab_type": "text",
    "id": "FOFS2njFRMak"
   },
   "source": [
    "呼叫 `yearmonthday()` 回傳年、月、日的 Tuple。"
   ]
  },
  {
   "cell_type": "code",
   "execution_count": 28,
   "metadata": {
    "colab": {},
    "colab_type": "code",
    "id": "2nc3FODORMaq",
    "outputId": "599e78b4-ccc4-491c-fccb-32852053a167"
   },
   "outputs": [
    {
     "data": {
      "text/plain": [
       "(2019, 11, 11)"
      ]
     },
     "execution_count": 28,
     "metadata": {},
     "output_type": "execute_result"
    }
   ],
   "source": [
    "yearmonthday(Date(2019, 11, 11))"
   ]
  },
  {
   "cell_type": "markdown",
   "metadata": {
    "colab_type": "text",
    "id": "fx_eGhHlRMa2"
   },
   "source": [
    "透過 `Week()` 得到 2019/11/11 是第 49 週。"
   ]
  },
  {
   "cell_type": "code",
   "execution_count": 29,
   "metadata": {
    "colab": {},
    "colab_type": "code",
    "id": "NmnArVfzRMa-",
    "outputId": "1cab9ba2-7d5b-4c8e-c3db-3e6580c0cb8b"
   },
   "outputs": [
    {
     "data": {
      "text/plain": [
       "46 weeks"
      ]
     },
     "execution_count": 29,
     "metadata": {},
     "output_type": "execute_result"
    }
   ],
   "source": [
    "Week(Date(2019, 11, 11))"
   ]
  },
  {
   "cell_type": "markdown",
   "metadata": {
    "colab_type": "text",
    "id": "0neghuovRMbI"
   },
   "source": [
    "本週的第幾天是以~星期日一起算。~以星期一為第一天。\n",
    "-  use constants such as Dates.Monday"
   ]
  },
  {
   "cell_type": "code",
   "execution_count": 101,
   "metadata": {
    "colab": {},
    "colab_type": "code",
    "id": "7U0xlZP6RMbM",
    "outputId": "0c154daf-a224-4e97-90f7-e2bc012564fb"
   },
   "outputs": [
    {
     "data": {
      "text/plain": [
       "1"
      ]
     },
     "execution_count": 101,
     "metadata": {},
     "output_type": "execute_result"
    }
   ],
   "source": [
    "dayofweek(now())"
   ]
  },
  {
   "cell_type": "code",
   "execution_count": 102,
   "metadata": {},
   "outputs": [
    {
     "data": {
      "text/plain": [
       "5"
      ]
     },
     "execution_count": 102,
     "metadata": {},
     "output_type": "execute_result"
    }
   ],
   "source": [
    "t = Date(2014, 1, 31)\n",
    "dayofweekofmonth(t) # 5th Friday of January"
   ]
  },
  {
   "cell_type": "code",
   "execution_count": 103,
   "metadata": {},
   "outputs": [
    {
     "data": {
      "text/plain": [
       "5"
      ]
     },
     "execution_count": 103,
     "metadata": {},
     "output_type": "execute_result"
    }
   ],
   "source": [
    "Dates.Friday"
   ]
  },
  {
   "cell_type": "code",
   "execution_count": 38,
   "metadata": {},
   "outputs": [
    {
     "data": {
      "text/plain": [
       "31"
      ]
     },
     "execution_count": 38,
     "metadata": {},
     "output_type": "execute_result"
    }
   ],
   "source": [
    "dayofyear(t)"
   ]
  },
  {
   "cell_type": "markdown",
   "metadata": {},
   "source": [
    "### Convert date and time to serial date number\n",
    "- python: datetime.date.toordinal\n",
    "- matlab: "
   ]
  },
  {
   "cell_type": "code",
   "execution_count": 40,
   "metadata": {
    "colab": {},
    "colab_type": "code",
    "id": "20rH04QHRMbT",
    "outputId": "81c81e6c-e9bc-40f4-c1fd-d8f3ddf4172e"
   },
   "outputs": [
    {
     "data": {
      "text/plain": [
       "63723101778146"
      ]
     },
     "execution_count": 40,
     "metadata": {},
     "output_type": "execute_result"
    }
   ],
   "source": [
    "# 距離公元第一天的總天數 ()\n",
    "Dates.value(now())"
   ]
  },
  {
   "cell_type": "markdown",
   "metadata": {
    "colab_type": "text",
    "id": "XaiYiSHmRMbb"
   },
   "source": [
    "## 3. 轉換\n",
    "\n",
    "### 3.1 日期與時間的轉換\n",
    "\n",
    "Date、DateTime、Time 之間互相轉換有部分的限制，請參考下表及範例。\n",
    "\n",
    "|轉換|能否轉換|\t說明|\n",
    "|---|---|---|\n",
    "|DateTime 轉成 Date|\tY|\t時、分、秒會被捨去|\n",
    "|Date 轉成 DateTime|\tY|\t時、分、秒會採預設值 0|\n",
    "|DateTime 轉成 Time|\tY|\t日期會被捨去|\n",
    "|Time 轉成 DateTime|\tN||\t\n",
    "|Date 轉成 Time|\tN\t||\n",
    "|Time 轉成 Date|\tN\t||"
   ]
  },
  {
   "cell_type": "markdown",
   "metadata": {
    "colab_type": "text",
    "id": "NQC_u0PLRMbe"
   },
   "source": [
    "範例：DateTime 轉成 Date，時、分、秒會被捨去。"
   ]
  },
  {
   "cell_type": "code",
   "execution_count": 41,
   "metadata": {
    "colab": {},
    "colab_type": "code",
    "id": "1FtApM1wRMbg",
    "outputId": "423842d2-fc21-4d55-8a6e-265668aa0b01"
   },
   "outputs": [
    {
     "data": {
      "text/plain": [
       "2020-04-20"
      ]
     },
     "execution_count": 41,
     "metadata": {},
     "output_type": "execute_result"
    }
   ],
   "source": [
    "Date(DateTime(now()))"
   ]
  },
  {
   "cell_type": "markdown",
   "metadata": {
    "colab_type": "text",
    "id": "IbERsCa2RMbn"
   },
   "source": [
    "Date 轉成 DateTime，時、分、秒會採預設值 0。"
   ]
  },
  {
   "cell_type": "code",
   "execution_count": 42,
   "metadata": {
    "colab": {},
    "colab_type": "code",
    "id": "rnHag60fRMbt",
    "outputId": "0c05b534-4584-4e92-9892-ccafbeaf5a07"
   },
   "outputs": [
    {
     "data": {
      "text/plain": [
       "2020-04-20T00:00:00"
      ]
     },
     "execution_count": 42,
     "metadata": {},
     "output_type": "execute_result"
    }
   ],
   "source": [
    "DateTime(Date(now()))"
   ]
  },
  {
   "cell_type": "markdown",
   "metadata": {
    "colab_type": "text",
    "id": "LS0WxYetRMb0"
   },
   "source": [
    "範例：DateTime 轉 Time，日期會被捨去。"
   ]
  },
  {
   "cell_type": "code",
   "execution_count": 43,
   "metadata": {
    "colab": {},
    "colab_type": "code",
    "id": "5wGE4H29RMb2",
    "outputId": "88e515c5-932c-4fde-a404-6d3a72727d5b"
   },
   "outputs": [
    {
     "data": {
      "text/plain": [
       "21:36:57.614"
      ]
     },
     "execution_count": 43,
     "metadata": {},
     "output_type": "execute_result"
    }
   ],
   "source": [
    "Time(DateTime(now()))"
   ]
  },
  {
   "cell_type": "markdown",
   "metadata": {
    "colab_type": "text",
    "id": "5MtAk0QzRMb9"
   },
   "source": [
    "以下 3 種轉換則不支援。\n",
    "- Time 轉成 DateTime\n",
    "- Date 轉成 Time\n",
    "- Time 轉成 Date"
   ]
  },
  {
   "cell_type": "code",
   "execution_count": 44,
   "metadata": {
    "colab": {},
    "colab_type": "code",
    "id": "SlzcLpMtRMb_",
    "outputId": "5bd50c07-9b81-481e-9cfc-5f503dfe2910"
   },
   "outputs": [
    {
     "ename": "MethodError",
     "evalue": "MethodError: Cannot `convert` an object of type Time to an object of type DateTime\nClosest candidates are:\n  convert(::Type{DateTime}, !Matched::Date) at D:\\buildbot\\worker\\package_win64\\build\\usr\\share\\julia\\stdlib\\v1.4\\Dates\\src\\conversions.jl:30\n  convert(::Type{DateTime}, !Matched::Millisecond) at D:\\buildbot\\worker\\package_win64\\build\\usr\\share\\julia\\stdlib\\v1.4\\Dates\\src\\conversions.jl:34\n  convert(::Type{T}, !Matched::T) where T at essentials.jl:171\n  ...",
     "output_type": "error",
     "traceback": [
      "MethodError: Cannot `convert` an object of type Time to an object of type DateTime\nClosest candidates are:\n  convert(::Type{DateTime}, !Matched::Date) at D:\\buildbot\\worker\\package_win64\\build\\usr\\share\\julia\\stdlib\\v1.4\\Dates\\src\\conversions.jl:30\n  convert(::Type{DateTime}, !Matched::Millisecond) at D:\\buildbot\\worker\\package_win64\\build\\usr\\share\\julia\\stdlib\\v1.4\\Dates\\src\\conversions.jl:34\n  convert(::Type{T}, !Matched::T) where T at essentials.jl:171\n  ...",
      "",
      "Stacktrace:",
      " [1] DateTime(::Time) at D:\\buildbot\\worker\\package_win64\\build\\usr\\share\\julia\\stdlib\\v1.4\\Dates\\src\\conversions.jl:20",
      " [2] top-level scope at In[44]:2"
     ]
    }
   ],
   "source": [
    "tm = Time(now())\n",
    "DateTime(tm)"
   ]
  },
  {
   "cell_type": "code",
   "execution_count": 45,
   "metadata": {
    "colab": {},
    "colab_type": "code",
    "id": "db8zJC5QRMcF",
    "outputId": "89533464-d0ba-4898-cf1f-9c76d24a9330"
   },
   "outputs": [
    {
     "ename": "MethodError",
     "evalue": "MethodError: no method matching Int64(::Date)\nClosest candidates are:\n  Int64(!Matched::Union{Bool, Int32, Int64, UInt32, UInt64, UInt8, Int128, Int16, Int8, UInt128, UInt16}) at boot.jl:707\n  Int64(!Matched::Ptr) at boot.jl:717\n  Int64(!Matched::Float32) at float.jl:707\n  ...",
     "output_type": "error",
     "traceback": [
      "MethodError: no method matching Int64(::Date)\nClosest candidates are:\n  Int64(!Matched::Union{Bool, Int32, Int64, UInt32, UInt64, UInt8, Int128, Int16, Int8, UInt128, UInt16}) at boot.jl:707\n  Int64(!Matched::Ptr) at boot.jl:717\n  Int64(!Matched::Float32) at float.jl:707\n  ...",
      "",
      "Stacktrace:",
      " [1] Time(::Date, ::Int64, ::Int64, ::Int64, ::Int64, ::Int64, ::Dates.AMPM) at D:\\buildbot\\worker\\package_win64\\build\\usr\\share\\julia\\stdlib\\v1.4\\Dates\\src\\types.jl:369 (repeats 2 times)",
      " [2] top-level scope at In[45]:1"
     ]
    }
   ],
   "source": [
    "Time(Date(now()))"
   ]
  },
  {
   "cell_type": "code",
   "execution_count": 46,
   "metadata": {
    "colab": {},
    "colab_type": "code",
    "id": "NgQwBNxZRMcQ",
    "outputId": "e6a736b3-afa7-4c51-ba19-f1fa2ac59c42",
    "scrolled": true
   },
   "outputs": [
    {
     "ename": "MethodError",
     "evalue": "MethodError: Cannot `convert` an object of type Time to an object of type Date\nClosest candidates are:\n  convert(::Type{Date}, !Matched::DateTime) at D:\\buildbot\\worker\\package_win64\\build\\usr\\share\\julia\\stdlib\\v1.4\\Dates\\src\\conversions.jl:31\n  convert(::Type{Date}, !Matched::Day) at D:\\buildbot\\worker\\package_win64\\build\\usr\\share\\julia\\stdlib\\v1.4\\Dates\\src\\conversions.jl:36\n  convert(::Type{T}, !Matched::T) where T at essentials.jl:171\n  ...",
     "output_type": "error",
     "traceback": [
      "MethodError: Cannot `convert` an object of type Time to an object of type Date\nClosest candidates are:\n  convert(::Type{Date}, !Matched::DateTime) at D:\\buildbot\\worker\\package_win64\\build\\usr\\share\\julia\\stdlib\\v1.4\\Dates\\src\\conversions.jl:31\n  convert(::Type{Date}, !Matched::Day) at D:\\buildbot\\worker\\package_win64\\build\\usr\\share\\julia\\stdlib\\v1.4\\Dates\\src\\conversions.jl:36\n  convert(::Type{T}, !Matched::T) where T at essentials.jl:171\n  ...",
      "",
      "Stacktrace:",
      " [1] Date(::Time) at D:\\buildbot\\worker\\package_win64\\build\\usr\\share\\julia\\stdlib\\v1.4\\Dates\\src\\conversions.jl:12",
      " [2] top-level scope at In[46]:1"
     ]
    }
   ],
   "source": [
    "Date(Time(now()))"
   ]
  },
  {
   "cell_type": "markdown",
   "metadata": {
    "colab_type": "text",
    "id": "_1bhTffTRMcY"
   },
   "source": [
    "### 3.2 日期時間與字串的轉換\n",
    "\n",
    "日期/時間與字串之間互相轉換用的格式定義碼\n",
    "\n",
    "|格式|說明|\n",
    "|---|---|\n",
    "|y|西元年份, 可用來控制年份顯示位數|\n",
    "|Y|最小位數的西元年份數值|\n",
    "|m|最小位數的月份數值|\n",
    "|u|月份的英文縮寫|\n",
    "|U|月份的英文全名|\n",
    "|d|日|\n",
    "|H|24小時制的小時數值|\n",
    "|M|分鐘|\n",
    "|S|秒|\n",
    "|s|毫秒|\n",
    "|e|星期幾的英文縮寫|\n",
    "|E|星期幾的英文全名|\n"
   ]
  },
  {
   "cell_type": "markdown",
   "metadata": {},
   "source": [
    "#### 將日期時間轉換為字串\n",
    "\n",
    "透過 `Dates.format()` 函式\n",
    "- matlab: `datestr(now,formatOut)`"
   ]
  },
  {
   "cell_type": "code",
   "execution_count": 47,
   "metadata": {
    "colab": {},
    "colab_type": "code",
    "id": "__GZKLi9RMcZ",
    "outputId": "690509b3-7379-4462-f715-b28861624951"
   },
   "outputs": [
    {
     "data": {
      "text/plain": [
       "\"2020-04-20 Monday 21:37:40\""
      ]
     },
     "execution_count": 47,
     "metadata": {},
     "output_type": "execute_result"
    }
   ],
   "source": [
    "s = Dates.format(now(), \"yyyy-mm-dd E HH:MM:SS\")"
   ]
  },
  {
   "cell_type": "code",
   "execution_count": 49,
   "metadata": {
    "colab": {},
    "colab_type": "code",
    "id": "h1xCJ-pHRMfm",
    "outputId": "b475bb4b-8758-46f2-8165-20f1428a59e5"
   },
   "outputs": [
    {
     "data": {
      "text/plain": [
       "String"
      ]
     },
     "execution_count": 49,
     "metadata": {},
     "output_type": "execute_result"
    }
   ],
   "source": [
    "typeof(s)"
   ]
  },
  {
   "cell_type": "code",
   "execution_count": 50,
   "metadata": {
    "colab": {},
    "colab_type": "code",
    "id": "IWaJhYMnRMfs",
    "outputId": "ae708398-ba40-425b-a255-d8065d7bc0db"
   },
   "outputs": [
    {
     "data": {
      "text/plain": [
       "\"2020年4月20日 21時39分05秒\""
      ]
     },
     "execution_count": 50,
     "metadata": {},
     "output_type": "execute_result"
    }
   ],
   "source": [
    "Dates.format(now(), \"Y年m月d日 HH時MM分SS秒\")"
   ]
  },
  {
   "cell_type": "markdown",
   "metadata": {
    "colab_type": "text",
    "id": "vBiEwWotRMfw"
   },
   "source": [
    "#### 將字串轉換為日期/時間\n",
    "\n",
    "透過 Date、DateTime、Time 建構子，配合格式定義完成。\n",
    "- matlab: `datetime(DateStrings,'InputFormat',infmt)`"
   ]
  },
  {
   "cell_type": "code",
   "execution_count": 52,
   "metadata": {
    "colab": {},
    "colab_type": "code",
    "id": "0KUd1XHtRMfy",
    "outputId": "82b65c1b-a1d9-4485-e593-324e4a9cc6d6"
   },
   "outputs": [
    {
     "data": {
      "text/plain": [
       "2015-01-01"
      ]
     },
     "execution_count": 52,
     "metadata": {},
     "output_type": "execute_result"
    }
   ],
   "source": [
    "Date(\"2015-01-01\",\"y-m-d\")"
   ]
  },
  {
   "cell_type": "code",
   "execution_count": 53,
   "metadata": {
    "colab": {},
    "colab_type": "code",
    "id": "G8JO0XxuRMf3",
    "outputId": "0cc4e43a-3ef2-48a2-b2c3-607ddb617645"
   },
   "outputs": [
    {
     "data": {
      "text/plain": [
       "2015-01-01T00:00:00"
      ]
     },
     "execution_count": 53,
     "metadata": {},
     "output_type": "execute_result"
    }
   ],
   "source": [
    "DateTime(\"20150101\",\"yyyymmdd\")"
   ]
  },
  {
   "cell_type": "code",
   "execution_count": 54,
   "metadata": {
    "colab": {},
    "colab_type": "code",
    "id": "VjPgfEGGRMf8",
    "outputId": "077b74e2-3c11-4a03-cf39-a50e7f640a04"
   },
   "outputs": [
    {
     "data": {
      "text/plain": [
       "12:01:03"
      ]
     },
     "execution_count": 54,
     "metadata": {},
     "output_type": "execute_result"
    }
   ],
   "source": [
    "Time(\"12:01:03\", \"HH:MM:SS\")"
   ]
  },
  {
   "cell_type": "markdown",
   "metadata": {
    "colab_type": "text",
    "id": "cDA21esZRMgB"
   },
   "source": [
    "將字串轉換為日期/時間，若先利用 **DateFormat** 轉換格式定義，可以**大幅提昇效能**。"
   ]
  },
  {
   "cell_type": "code",
   "execution_count": 59,
   "metadata": {
    "colab": {},
    "colab_type": "code",
    "id": "B-v-ku8JRMgC",
    "outputId": "9293007f-bf27-4045-d8fb-9bdd0c38f61a"
   },
   "outputs": [
    {
     "name": "stdout",
     "output_type": "stream",
     "text": [
      "  0.000076 seconds (59 allocations: 2.922 KiB)\n"
     ]
    },
    {
     "data": {
      "text/plain": [
       "2015-01-01"
      ]
     },
     "execution_count": 59,
     "metadata": {},
     "output_type": "execute_result"
    }
   ],
   "source": [
    "# 先前字串轉換為日期所需要的時間\n",
    "@time Date(\"2015-01-01\",\"y-m-d\")"
   ]
  },
  {
   "cell_type": "code",
   "execution_count": 60,
   "metadata": {
    "colab": {},
    "colab_type": "code",
    "id": "3b1Ck4IGRMgH",
    "outputId": "90316772-bea4-4579-9761-2ffb2b989d8b"
   },
   "outputs": [
    {
     "name": "stdout",
     "output_type": "stream",
     "text": [
      "  0.000005 seconds (1 allocation: 16 bytes)\n"
     ]
    },
    {
     "data": {
      "text/plain": [
       "2015-01-01"
      ]
     },
     "execution_count": 60,
     "metadata": {},
     "output_type": "execute_result"
    }
   ],
   "source": [
    "# 利用 DateFormat 轉換格式定義，再轉換為字串為日期\n",
    "df = DateFormat(\"y-m-d\")\n",
    "@time d = Date(\"2015-01-01\", df)"
   ]
  },
  {
   "cell_type": "markdown",
   "metadata": {
    "colab_type": "text",
    "id": "ewl8ySMDRMgK"
   },
   "source": [
    "## 4. 日期與時間的運算\n",
    "\n",
    "### 4.1 比較\n",
    "\n",
    "DateTime 之間、 Date 之間、 Time 之間可以運用比較運算子互相比較。"
   ]
  },
  {
   "cell_type": "code",
   "execution_count": 61,
   "metadata": {
    "colab": {},
    "colab_type": "code",
    "id": "VOrVJMgJRMgL",
    "outputId": "4e350450-554f-4882-bbe9-2ce126bd952c"
   },
   "outputs": [
    {
     "data": {
      "text/plain": [
       "true"
      ]
     },
     "execution_count": 61,
     "metadata": {},
     "output_type": "execute_result"
    }
   ],
   "source": [
    "dt1 = Date(2019, 8, 15)\n",
    "dt2 = Date(2019, 8, 15)\n",
    "\n",
    "dt1 === dt2"
   ]
  },
  {
   "cell_type": "markdown",
   "metadata": {
    "colab_type": "text",
    "id": "i4-lozNiRMgP"
   },
   "source": [
    "下面的例子比較特別，DateTime 與 Date 互相比較，DateTime 採用預設的時分秒，雖然**精度不同，但年、月、日相同就算相同**。不過，如果建立時時**分秒非 0** 的話，就會被判斷為**不同**。\n",
    "- similar to 1.0 == 1"
   ]
  },
  {
   "cell_type": "code",
   "execution_count": 68,
   "metadata": {
    "colab": {},
    "colab_type": "code",
    "id": "oVLANF2jRMgQ",
    "outputId": "172479db-07c5-4490-ed07-59c8b3ecbe31"
   },
   "outputs": [
    {
     "data": {
      "text/plain": [
       "2019-08-15T00:00:00"
      ]
     },
     "execution_count": 68,
     "metadata": {},
     "output_type": "execute_result"
    }
   ],
   "source": [
    "dt3 = DateTime(2019, 8, 15)"
   ]
  },
  {
   "cell_type": "code",
   "execution_count": 69,
   "metadata": {
    "colab": {},
    "colab_type": "code",
    "id": "t--cXNYdRMgT",
    "outputId": "e0526653-88e9-4ab5-b1cc-2f1920e3e436"
   },
   "outputs": [
    {
     "data": {
      "text/plain": [
       "true"
      ]
     },
     "execution_count": 69,
     "metadata": {},
     "output_type": "execute_result"
    }
   ],
   "source": [
    "dt1 == dt3"
   ]
  },
  {
   "cell_type": "code",
   "execution_count": 70,
   "metadata": {},
   "outputs": [
    {
     "data": {
      "text/plain": [
       "true"
      ]
     },
     "execution_count": 70,
     "metadata": {},
     "output_type": "execute_result"
    }
   ],
   "source": [
    "1.0 == 1"
   ]
  },
  {
   "cell_type": "markdown",
   "metadata": {
    "colab_type": "text",
    "id": "JdQvyAYSRMgX"
   },
   "source": [
    "**(!) Time 與 DateTime 或是 Date 之間不能互相比較。**"
   ]
  },
  {
   "cell_type": "code",
   "execution_count": 29,
   "metadata": {
    "colab": {},
    "colab_type": "code",
    "id": "80GQQUamRMgY",
    "outputId": "ef0033f4-ab1b-4b4b-eccb-18ec61202c8b"
   },
   "outputs": [
    {
     "ename": "ErrorException",
     "evalue": "promotion of types Time and Date failed to change any arguments",
     "output_type": "error",
     "traceback": [
      "promotion of types Time and Date failed to change any arguments",
      "",
      "Stacktrace:",
      " [1] error(::String, ::String, ::String) at .\\error.jl:42",
      " [2] sametype_error(::Tuple{Time,Date}) at .\\promotion.jl:306",
      " [3] not_sametype(::Tuple{Time,Date}, ::Tuple{Time,Date}) at .\\promotion.jl:300",
      " [4] promote at .\\promotion.jl:283 [inlined]",
      " [5] isless(::Time, ::Date) at D:\\buildbot\\worker\\package_win64\\build\\usr\\share\\julia\\stdlib\\v1.4\\Dates\\src\\types.jl:398",
      " [6] <(::Time, ::Date) at .\\operators.jl:268",
      " [7] >(::Date, ::Time) at .\\operators.jl:294",
      " [8] top-level scope at In[29]:2"
     ]
    }
   ],
   "source": [
    "t = Time(\"12:01:03\", \"HH:MM:SS\")\n",
    "dt1 > t"
   ]
  },
  {
   "cell_type": "markdown",
   "metadata": {
    "colab_type": "text",
    "id": "yGeN50FQRMgb"
   },
   "source": [
    "### 4.2 時間差異 (加減法)"
   ]
  },
  {
   "cell_type": "markdown",
   "metadata": {
    "colab_type": "text",
    "id": "dD5UufYCRMgc"
   },
   "source": [
    "2 個日期/時間之間的差異，可以透過減法，在同型別之間可以直接相減。\n",
    "\n",
    "下例是 2 個日期相減，回傳值是以日為單位。"
   ]
  },
  {
   "cell_type": "code",
   "execution_count": 72,
   "metadata": {
    "colab": {},
    "colab_type": "code",
    "id": "0wq-z5XgRMgd",
    "outputId": "7d534155-3969-4a21-f41b-a00312bab201"
   },
   "outputs": [
    {
     "data": {
      "text/plain": [
       "-1 day"
      ]
     },
     "execution_count": 72,
     "metadata": {},
     "output_type": "execute_result"
    }
   ],
   "source": [
    "dt1 = Date(2019, 8, 15)\n",
    "dt2 = Date(2019, 8, 16)\n",
    "\n",
    "diffdt = dt1 - dt2"
   ]
  },
  {
   "cell_type": "code",
   "execution_count": 74,
   "metadata": {},
   "outputs": [
    {
     "data": {
      "text/plain": [
       "Day"
      ]
     },
     "execution_count": 74,
     "metadata": {},
     "output_type": "execute_result"
    }
   ],
   "source": [
    "typeof(diffdt)"
   ]
  },
  {
   "cell_type": "markdown",
   "metadata": {
    "colab_type": "text",
    "id": "gwO2cmVYRMgf"
   },
   "source": [
    "在不同的型別之間，不能直接加減，但是可以與 Period 型別之物件進行加減。"
   ]
  },
  {
   "cell_type": "code",
   "execution_count": 75,
   "metadata": {
    "colab": {},
    "colab_type": "code",
    "id": "1qrJD0GzRMgg",
    "outputId": "ab4631e9-70c0-4bd9-9bad-555ba7015055"
   },
   "outputs": [
    {
     "data": {
      "text/plain": [
       "2021-08-15"
      ]
     },
     "execution_count": 75,
     "metadata": {},
     "output_type": "execute_result"
    }
   ],
   "source": [
    "dt1 + Year(2)"
   ]
  },
  {
   "cell_type": "markdown",
   "metadata": {
    "colab_type": "text",
    "id": "jCI6nagURMgj"
   },
   "source": [
    "Period 型別的物件，可以**跨型別**運算，其回傳的型別為 **`Dates.CompoundPeriod`**。"
   ]
  },
  {
   "cell_type": "code",
   "execution_count": 78,
   "metadata": {
    "colab": {},
    "colab_type": "code",
    "id": "zMH-FC4_RMgj",
    "outputId": "925b4234-65cd-4401-ae54-c165b385af95"
   },
   "outputs": [
    {
     "data": {
      "text/plain": [
       "2 months, 3 days"
      ]
     },
     "execution_count": 78,
     "metadata": {},
     "output_type": "execute_result"
    }
   ],
   "source": [
    "md = Month(2) + Day(3)"
   ]
  },
  {
   "cell_type": "code",
   "execution_count": 79,
   "metadata": {
    "colab": {},
    "colab_type": "code",
    "id": "jgZWpRaKRMgm",
    "outputId": "7f728828-01f1-4fa9-c0c0-d4a02fb03a2b"
   },
   "outputs": [
    {
     "data": {
      "text/plain": [
       "Dates.CompoundPeriod"
      ]
     },
     "execution_count": 79,
     "metadata": {},
     "output_type": "execute_result"
    }
   ],
   "source": [
    "typeof(md)"
   ]
  },
  {
   "cell_type": "markdown",
   "metadata": {
    "colab_type": "text",
    "id": "B5vzLZ6KRMgp"
   },
   "source": [
    "Period 型別的物件同型別之間支援除法。"
   ]
  },
  {
   "cell_type": "code",
   "execution_count": 80,
   "metadata": {
    "colab": {},
    "colab_type": "code",
    "id": "IjdaG0iORMgq",
    "outputId": "1a041bc9-ee81-42ff-c519-5c60cf2b2172"
   },
   "outputs": [
    {
     "data": {
      "text/plain": [
       "0.6666666666666666"
      ]
     },
     "execution_count": 80,
     "metadata": {},
     "output_type": "execute_result"
    }
   ],
   "source": [
    "Month(2) / Month(3)"
   ]
  },
  {
   "cell_type": "markdown",
   "metadata": {
    "colab_type": "text",
    "id": "8g80t6S-RMgu"
   },
   "source": [
    "### 4.3 產生時間序列\n",
    "\n",
    "搭配 range 以及 Period 型別，可以產生時間序列，其回傳值型別為 StepRange。\n",
    "\n",
    "Date、DateTime、Time 均可以透過相同的方式產生序列。\n",
    "\n",
    "例如：`Date(2019, 8, 31) : Month(1) : Date(2020, 12, 31)`，宣告了起始日期、區間、結束日期，產生 2019 年每個月底的時間序列。\n",
    "- 透過迭代的方式可以列出序列中的每個日期\n",
    "- 序列型別為 StepRange{Date,Month}"
   ]
  },
  {
   "cell_type": "code",
   "execution_count": 87,
   "metadata": {
    "colab": {},
    "colab_type": "code",
    "id": "f3JICv1fRMgv",
    "outputId": "caed1a95-3935-493c-de19-1968b34f0f64"
   },
   "outputs": [
    {
     "data": {
      "text/plain": [
       "2019-08-31:1 month:2020-12-31"
      ]
     },
     "execution_count": 87,
     "metadata": {},
     "output_type": "execute_result"
    }
   ],
   "source": [
    "dt = Date(2019, 8, 31) : Month(1) : Date(2020, 12, 31)"
   ]
  },
  {
   "cell_type": "code",
   "execution_count": 88,
   "metadata": {},
   "outputs": [
    {
     "name": "stdout",
     "output_type": "stream",
     "text": [
      "2019-08-31\n",
      "2019-09-30\n",
      "2019-10-31\n",
      "2019-11-30\n",
      "2019-12-31\n",
      "2020-01-31\n",
      "2020-02-29\n",
      "2020-03-31\n",
      "2020-04-30\n",
      "2020-05-31\n",
      "2020-06-30\n",
      "2020-07-31\n",
      "2020-08-31\n",
      "2020-09-30\n",
      "2020-10-31\n",
      "2020-11-30\n",
      "2020-12-31\n"
     ]
    },
    {
     "data": {
      "text/plain": [
       "StepRange{Date,Month}"
      ]
     },
     "execution_count": 88,
     "metadata": {},
     "output_type": "execute_result"
    }
   ],
   "source": [
    "for i in dt # for d ∈ dt\n",
    "    println(i)\n",
    "end\n",
    "typeof(dt)"
   ]
  },
  {
   "cell_type": "markdown",
   "metadata": {
    "colab_type": "text",
    "id": "MdS5HVMARMg_"
   },
   "source": [
    "## 5. 日期與時間對照函式 (Mapping Function)\n",
    "\n",
    "在實務應用上，我們常會根據日期去得到或查詢某些屬性，例如是星期幾，或是該年是否為閏年… 等，Julia 也提供了許多內建的對照函式可以直接使用。\n",
    "\n",
    "|函式|說明|\n",
    "|---|---|\n",
    "|`monthname()`|該月份的英文名稱|\n",
    "|`isleapyear()`|該年是否為閏年|\n",
    "|`dayofyear()`|該天是該年的第幾天|\n",
    "|`quarterofyear()`|該天是屬於第幾季|\n",
    "|`dayofquarter()`|該天是該季的第幾天|"
   ]
  },
  {
   "cell_type": "code",
   "execution_count": 89,
   "metadata": {
    "colab": {},
    "colab_type": "code",
    "id": "_gMe_8SgRMhA",
    "outputId": "5c8f51fe-ba2d-4eb8-c8f1-9943cddea2f2"
   },
   "outputs": [
    {
     "data": {
      "text/plain": [
       "\"November\""
      ]
     },
     "execution_count": 89,
     "metadata": {},
     "output_type": "execute_result"
    }
   ],
   "source": [
    "monthname(Date(2019, 11, 11))"
   ]
  },
  {
   "cell_type": "code",
   "execution_count": 90,
   "metadata": {
    "colab": {},
    "colab_type": "code",
    "id": "V5e21cpyRMhD",
    "outputId": "46ebcec5-983e-46a8-ebb5-affca23e45c6"
   },
   "outputs": [
    {
     "data": {
      "text/plain": [
       "true"
      ]
     },
     "execution_count": 90,
     "metadata": {},
     "output_type": "execute_result"
    }
   ],
   "source": [
    "isleapyear(Date(2020))"
   ]
  },
  {
   "cell_type": "code",
   "execution_count": 91,
   "metadata": {
    "colab": {},
    "colab_type": "code",
    "id": "ylIZ_zm-RMhG",
    "outputId": "2f846b8c-049a-4d23-ee9a-7d2a1b5fd7e6"
   },
   "outputs": [
    {
     "data": {
      "text/plain": [
       "283"
      ]
     },
     "execution_count": 91,
     "metadata": {},
     "output_type": "execute_result"
    }
   ],
   "source": [
    "dayofyear(Date(2019, 10, 10))"
   ]
  },
  {
   "cell_type": "code",
   "execution_count": 92,
   "metadata": {
    "colab": {},
    "colab_type": "code",
    "id": "e11KgJy_RMhL",
    "outputId": "3ef6835d-e4fa-4764-a4b7-732823a5f4ce"
   },
   "outputs": [
    {
     "data": {
      "text/plain": [
       "2"
      ]
     },
     "execution_count": 92,
     "metadata": {},
     "output_type": "execute_result"
    }
   ],
   "source": [
    "quarterofyear(Date(2020, 5, 1))"
   ]
  },
  {
   "cell_type": "code",
   "execution_count": 93,
   "metadata": {
    "colab": {},
    "colab_type": "code",
    "id": "hMVrNcd_RMhN",
    "outputId": "4f4db46b-84b9-4c97-85c0-c725e79ff020"
   },
   "outputs": [
    {
     "data": {
      "text/plain": [
       "32"
      ]
     },
     "execution_count": 93,
     "metadata": {},
     "output_type": "execute_result"
    }
   ],
   "source": [
    "dayofquarter(Date(2020, 5, 1))"
   ]
  },
  {
   "cell_type": "markdown",
   "metadata": {
    "colab_type": "text",
    "id": "xW1-TUYeRMhQ"
   },
   "source": [
    "|函式|說明|\n",
    "|---|---|\n",
    "|`firstdayofweek()`|該週第一天的日期|\n",
    "|`lastdayofweek()`|該週最後一天的日期|\n",
    "|`lastdayofquarter()`|該季最後一天的日期|\n",
    "\n",
    "在範例中，2020/5/1 是週五，依照 ISO 8601 的定義方式週的第一天為週一，所以該週的第一天週一是 4/27，該週最後一天週日是 5/3。"
   ]
  },
  {
   "cell_type": "code",
   "execution_count": 96,
   "metadata": {
    "colab": {},
    "colab_type": "code",
    "id": "tTfYsEcvRMhR",
    "outputId": "4c486d55-7d55-4bce-c29b-948f519eb6d4"
   },
   "outputs": [
    {
     "data": {
      "text/plain": [
       "2020-04-27"
      ]
     },
     "execution_count": 96,
     "metadata": {},
     "output_type": "execute_result"
    }
   ],
   "source": [
    "firstdayofweek(Date(2020, 5, 1))"
   ]
  },
  {
   "cell_type": "code",
   "execution_count": 97,
   "metadata": {
    "colab": {},
    "colab_type": "code",
    "id": "kwN3ED1JRMhU",
    "outputId": "251fb333-1c84-49d5-edc2-44df22872ffd"
   },
   "outputs": [
    {
     "data": {
      "text/plain": [
       "2020-05-03"
      ]
     },
     "execution_count": 97,
     "metadata": {},
     "output_type": "execute_result"
    }
   ],
   "source": [
    "lastdayofweek(Date(2020, 5, 1))"
   ]
  },
  {
   "cell_type": "code",
   "execution_count": 98,
   "metadata": {
    "colab": {},
    "colab_type": "code",
    "id": "hUstST7GRMhX",
    "outputId": "ec258e09-ac62-47e3-8fd1-f79fc288f483"
   },
   "outputs": [
    {
     "data": {
      "text/plain": [
       "2020-06-30"
      ]
     },
     "execution_count": 98,
     "metadata": {},
     "output_type": "execute_result"
    }
   ],
   "source": [
    "lastdayofquarter(Date(2020, 5, 1))"
   ]
  },
  {
   "cell_type": "markdown",
   "metadata": {
    "colab_type": "text",
    "id": "q62o0TCJRMha"
   },
   "source": [
    "|函式|說明|\n",
    "|---|---|\n",
    "|`toprev()`|尋找前一個符合條件的日期|\n",
    "|`tonext()`|尋找前一個符合條件的日期|\n",
    "\n",
    "利用 `Dates.Sunday` 常數判斷是否為週日，在範例中 2019/12/25 是週三，所以前一個週日是 12/22，而後一個週日是12/29。"
   ]
  },
  {
   "cell_type": "code",
   "execution_count": 104,
   "metadata": {
    "colab": {},
    "colab_type": "code",
    "id": "58ZWoP2JRMhc",
    "outputId": "fd5d022f-9e46-4106-9fed-b98a88fd53ea"
   },
   "outputs": [
    {
     "data": {
      "text/plain": [
       "2019-12-22"
      ]
     },
     "execution_count": 104,
     "metadata": {},
     "output_type": "execute_result"
    }
   ],
   "source": [
    "issunday = x->Dates.dayofweek(x) == Dates.Sunday\n",
    "\n",
    "Dates.toprev(issunday, Date(2019, 12, 25))"
   ]
  },
  {
   "cell_type": "code",
   "execution_count": 105,
   "metadata": {
    "colab": {},
    "colab_type": "code",
    "id": "CobMeG5bRMhf",
    "outputId": "768dcc91-1594-4589-f964-f2dd1eb24ae1"
   },
   "outputs": [
    {
     "data": {
      "text/plain": [
       "2019-12-29"
      ]
     },
     "execution_count": 105,
     "metadata": {},
     "output_type": "execute_result"
    }
   ],
   "source": [
    "tonext(issunday, Date(2019, 12, 25))"
   ]
  },
  {
   "cell_type": "markdown",
   "metadata": {
    "colab_type": "text",
    "id": "qfrKDdyBRMhh"
   },
   "source": [
    "## 5. TimeZones.jl\n",
    "\n",
    "由於 Julia 本身的 DateTime 不具備時區的概念，所以如果需要處理時區相關的日期/時間，需藉助其他套件。Time Zones 套件根據 IANA 資料庫，提供 Julia的使用者取得時區資料，並且可以以類似 DateTime 的方式操作日期與時間資料。"
   ]
  },
  {
   "cell_type": "code",
   "execution_count": 48,
   "metadata": {
    "colab": {},
    "colab_type": "code",
    "id": "EMq_Ti0ERMhi",
    "outputId": "6c96f5d4-b3e6-4f0b-e2ae-a937e6a40387"
   },
   "outputs": [
    {
     "name": "stderr",
     "output_type": "stream",
     "text": [
      "\u001b[32m\u001b[1m   Updating\u001b[22m\u001b[39m registry at `C:\\Users\\HSI\\.julia\\registries\\General`\n",
      "\u001b[32m\u001b[1m   Updating\u001b[22m\u001b[39m git-repo `https://github.com/JuliaRegistries/General.git`\n"
     ]
    },
    {
     "name": "stdout",
     "output_type": "stream",
     "text": [
      "\u001b[2K\u001b[36m\u001b[1mFetching:\u001b[22m\u001b[39m [========================================>]  100.0 %.0 %==>                                      ]  3.5 %.8 % %]  5.8 % [===>                                     ]  6.3 %.9 %8.1 % %                                    ]  9.8 % %=====>                                   ]  12.5 %>                                  ]  13.1 % [======>                                  ]  14.3 %14.9 % %17.4 %9 %========>                                ]  18.6 %6 %6 %23.0 %.6 %==========>                              ]  25.0 %\u001b[36m\u001b[1mFetching:\u001b[22m\u001b[39m [===========>                             ]  25.9 %>                            ]  27.7 %7 %=============>                           ]  30.3 %.1 %.2 %                        ]  37.8 %\u001b[36m\u001b[1mFetching:\u001b[22m\u001b[39m [=================>                       ]  40.3 %3 %                      ]  44.9 % [===================>                     ]  45.7 %\u001b[36m\u001b[1mFetching:\u001b[22m\u001b[39m [===================>                     ]  47.1 %====================>                    ]  48.7 %50.0 % %>                   ]  52.0 %\u001b[36m\u001b[1mFetching:\u001b[22m\u001b[39m [======================>                  ]  52.9 %=======================>                 ]  55.6 %                 ]  57.4 %58.1 %8 %]  63.3 %              ]  64.0 %===========================>             ]  65.0 %             ]  66.4 %===========================>             ]  66.8 %============================>            ]  68.9 %           ]  70.2 %]  72.1 %==============================>          ]  73.0 %73.7 %>          ]  75.0 %5 %4 %        ]  78.0 %>        ]  79.3 % [================================>        ]  79.9 % %\u001b[36m\u001b[1mFetching:\u001b[22m\u001b[39m [=================================>       ]  82.2 %83.1 %     ]  85.2 %9 %1 %>    ]  88.1 %8 %90.9 % % %.2 %6 % %99.6 %\u001b[?25h"
     ]
    },
    {
     "name": "stderr",
     "output_type": "stream",
     "text": [
      "\u001b[32m\u001b[1m  Resolving\u001b[22m\u001b[39m package versions...\n",
      "\u001b[32m\u001b[1m  Installed\u001b[22m\u001b[39m Mocking ─── v0.7.1\n",
      "\u001b[32m\u001b[1m  Installed\u001b[22m\u001b[39m ExprTools ─ v0.1.1\n",
      "\u001b[32m\u001b[1m  Installed\u001b[22m\u001b[39m EzXML ───── v0.9.5\n",
      "\u001b[32m\u001b[1m  Installed\u001b[22m\u001b[39m TimeZones ─ v0.10.2\n",
      "\u001b[32m\u001b[1m   Updating\u001b[22m\u001b[39m `C:\\Users\\HSI\\.julia\\environments\\v1.4\\Project.toml`\n",
      " \u001b[90m [f269a46b]\u001b[39m\u001b[92m + TimeZones v0.10.2\u001b[39m\n",
      "\u001b[32m\u001b[1m   Updating\u001b[22m\u001b[39m `C:\\Users\\HSI\\.julia\\environments\\v1.4\\Manifest.toml`\n",
      " \u001b[90m [e2ba6199]\u001b[39m\u001b[92m + ExprTools v0.1.1\u001b[39m\n",
      " \u001b[90m [8f5d6c58]\u001b[39m\u001b[92m + EzXML v0.9.5\u001b[39m\n",
      " \u001b[90m [78c3b35d]\u001b[39m\u001b[92m + Mocking v0.7.1\u001b[39m\n",
      " \u001b[90m [f269a46b]\u001b[39m\u001b[92m + TimeZones v0.10.2\u001b[39m\n",
      "\u001b[32m\u001b[1m   Building\u001b[22m\u001b[39m EzXML ────→ `C:\\Users\\HSI\\.julia\\packages\\EzXML\\QtGgF\\deps\\build.log`\n",
      "\u001b[32m\u001b[1m   Building\u001b[22m\u001b[39m TimeZones → `C:\\Users\\HSI\\.julia\\packages\\TimeZones\\A5RcB\\deps\\build.log`\n",
      "┌ Error: Error building `TimeZones`: \n",
      "│ [ Info: Downloading 2019c tzdata\n",
      "│ ERROR: LoadError: IOError: could not spawn `'C:\\Users\\HSI\\AppData\\Local\\Programs\\Julia\\Julia-1.4.0\\bin\\7z.exe' t 'C:\\Users\\HSI\\.julia\\packages\\TimeZones\\A5RcB\\deps\\tzarchive\\tzdata2019c.tar.gz' -y`: no such file or directory (ENOENT)\n",
      "│ Stacktrace:\n",
      "│  [1] _spawn_primitive(::String, ::Cmd, ::Array{Any,1}) at .\\process.jl:99\n",
      "│  [2] #550 at .\\process.jl:112 [inlined]\n",
      "│  [3] setup_stdios(::Base.var\"#550#551\"{Cmd}, ::Array{Any,1}) at .\\process.jl:196\n",
      "│  [4] _spawn at .\\process.jl:111 [inlined]\n",
      "│  [5] _spawn at .\\process.jl:106 [inlined]\n",
      "│  [6] success(::Cmd) at .\\process.jl:496\n",
      "│  [7] isarchive(::String) at C:\\Users\\HSI\\.julia\\packages\\TimeZones\\A5RcB\\src\\tzdata\\archive.jl:29\n",
      "│  [8] tzdata_download(::String, ::String) at C:\\Users\\HSI\\.julia\\packages\\TimeZones\\A5RcB\\src\\tzdata\\download.jl:93\n",
      "│  [9] build(::String, ::Array{String,1}, ::String, ::String, ::String; verbose::Bool) at C:\\Users\\HSI\\.julia\\packages\\TimeZones\\A5RcB\\src\\tzdata\\build.jl:46\n",
      "│  [10] build(::String) at C:\\Users\\HSI\\.julia\\packages\\TimeZones\\A5RcB\\src\\tzdata\\build.jl:82\n",
      "│  [11] build(::String; force::Bool) at C:\\Users\\HSI\\.julia\\packages\\TimeZones\\A5RcB\\src\\build.jl:9\n",
      "│  [12] build(::String) at C:\\Users\\HSI\\.julia\\packages\\TimeZones\\A5RcB\\src\\build.jl:9\n",
      "│  [13] top-level scope at C:\\Users\\HSI\\.julia\\packages\\TimeZones\\A5RcB\\deps\\build.jl:6\n",
      "│  [14] include(::String) at .\\client.jl:439\n",
      "│  [15] top-level scope at none:5\n",
      "│ in expression starting at C:\\Users\\HSI\\.julia\\packages\\TimeZones\\A5RcB\\deps\\build.jl:6\n",
      "└ @ Pkg.Operations D:\\buildbot\\worker\\package_win64\\build\\usr\\share\\julia\\stdlib\\v1.4\\Pkg\\src\\Operations.jl:892\n"
     ]
    }
   ],
   "source": [
    "using Pkg\n",
    "Pkg.add(PackageSpec(name=\"TimeZones\", version=\"0.10.2\"))"
   ]
  },
  {
   "cell_type": "code",
   "execution_count": 106,
   "metadata": {
    "colab": {},
    "colab_type": "code",
    "id": "CtHEWVyBRMhk",
    "outputId": "2e4d5c07-cef6-4c20-fb7a-776b8186c86b"
   },
   "outputs": [],
   "source": [
    "using TimeZones"
   ]
  },
  {
   "cell_type": "markdown",
   "metadata": {
    "colab_type": "text",
    "id": "3BHbbHCsRMhm"
   },
   "source": [
    "Time Zone 的指定可以使用 tz Database 中的名稱，也可以使用 UTC Offset。\n",
    "\n",
    "完整的 Time Zone 名稱清單，可以參考 [Wikipedia: List of tz database time zones](https://en.wikipedia.org/wiki/List_of_tz_database_time_zones)\n",
    "\n",
    "下例為目前的格林威治時間。"
   ]
  },
  {
   "cell_type": "code",
   "execution_count": 107,
   "metadata": {
    "colab": {},
    "colab_type": "code",
    "id": "6PDtK8X0RMhn",
    "outputId": "1905ec5c-416c-4ee7-b7b9-6d5d8e2f401f"
   },
   "outputs": [
    {
     "data": {
      "text/plain": [
       "2020-04-20T13:59:49.738+00:00"
      ]
     },
     "execution_count": 107,
     "metadata": {},
     "output_type": "execute_result"
    }
   ],
   "source": [
    "now(tz\"UTC\")"
   ]
  },
  {
   "cell_type": "markdown",
   "metadata": {
    "colab_type": "text",
    "id": "pIISahkURMhp"
   },
   "source": [
    "目前的日期。在使用目前的日期時，須留意不同的時區可能因為跨日的問題而有日期的差異。"
   ]
  },
  {
   "cell_type": "code",
   "execution_count": 108,
   "metadata": {
    "colab": {},
    "colab_type": "code",
    "id": "gTNfxRd7RMhq",
    "outputId": "6013320f-c127-44cf-dd62-c14f8706e74f"
   },
   "outputs": [
    {
     "data": {
      "text/plain": [
       "2020-04-20"
      ]
     },
     "execution_count": 108,
     "metadata": {},
     "output_type": "execute_result"
    }
   ],
   "source": [
    "today(tz\"UTC+8\")"
   ]
  },
  {
   "cell_type": "markdown",
   "metadata": {
    "colab_type": "text",
    "id": "P4w_M2U8RMhs"
   },
   "source": [
    "其型別為 `ZonedDateTime`。"
   ]
  },
  {
   "cell_type": "code",
   "execution_count": 109,
   "metadata": {
    "colab": {},
    "colab_type": "code",
    "id": "iIFU7cQpRMhw",
    "outputId": "3fa63ca6-ba58-4010-f015-bc211581a053"
   },
   "outputs": [
    {
     "data": {
      "text/plain": [
       "ZonedDateTime"
      ]
     },
     "execution_count": 109,
     "metadata": {},
     "output_type": "execute_result"
    }
   ],
   "source": [
    "typeof(now(tz\"UTC\"))"
   ]
  },
  {
   "cell_type": "markdown",
   "metadata": {
    "colab_type": "text",
    "id": "6V2TEbU8RMhz"
   },
   "source": [
    "透過 ZonedDateTime 建構子建立具有時區的日期，並進行算出不同時區之間的時間差異\n",
    "\n",
    "例如台北時間和格林威治時間差 28800000 毫秒，即為 8 小時。"
   ]
  },
  {
   "cell_type": "code",
   "execution_count": 110,
   "metadata": {
    "colab": {},
    "colab_type": "code",
    "id": "s18Bbl5CRMh0",
    "outputId": "46f8e2ce-2a32-405a-f0f9-45660dadb981"
   },
   "outputs": [
    {
     "data": {
      "text/plain": [
       "28800000 milliseconds"
      ]
     },
     "execution_count": 110,
     "metadata": {},
     "output_type": "execute_result"
    }
   ],
   "source": [
    "ZonedDateTime(2016, 1, 1, 12, tz\"UTC\") - ZonedDateTime(2016, 1, 1, 12, tz\"UTC+8\") # tz\"Asia/Taipei\""
   ]
  },
  {
   "cell_type": "code",
   "execution_count": null,
   "metadata": {
    "colab": {},
    "colab_type": "code",
    "id": "3DLVjXuFRMh3"
   },
   "outputs": [],
   "source": []
  },
  {
   "cell_type": "code",
   "execution_count": null,
   "metadata": {},
   "outputs": [],
   "source": []
  }
 ],
 "metadata": {
  "@webio": {
   "lastCommId": null,
   "lastKernelId": null
  },
  "colab": {
   "name": "julia_011_example.ipynb",
   "provenance": []
  },
  "kernelspec": {
   "display_name": "Julia 1.4.0",
   "language": "julia",
   "name": "julia-1.4"
  },
  "language_info": {
   "file_extension": ".jl",
   "mimetype": "application/julia",
   "name": "julia",
   "version": "1.4.0"
  }
 },
 "nbformat": 4,
 "nbformat_minor": 4
}
