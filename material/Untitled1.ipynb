{
 "cells": [
  {
   "cell_type": "code",
   "execution_count": 4,
   "metadata": {},
   "outputs": [
    {
     "data": {
      "text/plain": [
       "csum (generic function with 1 method)"
      ]
     },
     "execution_count": 4,
     "metadata": {},
     "output_type": "execute_result"
    }
   ],
   "source": [
    "function csum(array2sum)\n",
    "\"\"\"\n",
    "% this function add elements of inputnumarray one-by-one, and return an\n",
    "% cumulatively summed array of the same size.\n",
    "% e.g.\n",
    "%     inputnumarray = [1,3,2,4];\n",
    "%     cumulative_added_array will hence be [1,4,6,10]\n",
    "\"\"\"\n",
    "    numelarray = length(array2sum);\n",
    "\n",
    "    for i = 2:numelarray\n",
    "        array2sum[i] = array2sum[i] + array2sum[i-1];\n",
    "    end\n",
    "\n",
    "    return array2sum\n",
    "\n",
    "end"
   ]
  },
  {
   "cell_type": "code",
   "execution_count": 5,
   "metadata": {},
   "outputs": [
    {
     "data": {
      "text/plain": [
       "19-element Array{Float64,1}:\n",
       "   1.0\n",
       "   2.5\n",
       "   4.5\n",
       "   7.0\n",
       "  10.0\n",
       "  13.5\n",
       "  17.5\n",
       "  22.0\n",
       "  27.0\n",
       "  32.5\n",
       "  38.5\n",
       "  45.0\n",
       "  52.0\n",
       "  59.5\n",
       "  67.5\n",
       "  76.0\n",
       "  85.0\n",
       "  94.5\n",
       " 104.5"
      ]
     },
     "execution_count": 5,
     "metadata": {},
     "output_type": "execute_result"
    }
   ],
   "source": [
    "csum(collect(1:0.5:10))"
   ]
  },
  {
   "cell_type": "code",
   "execution_count": null,
   "metadata": {},
   "outputs": [],
   "source": []
  }
 ],
 "metadata": {
  "kernelspec": {
   "display_name": "Julia 1.4.0",
   "language": "julia",
   "name": "julia-1.4"
  },
  "language_info": {
   "file_extension": ".jl",
   "mimetype": "application/julia",
   "name": "julia",
   "version": "1.4.0"
  }
 },
 "nbformat": 4,
 "nbformat_minor": 4
}
