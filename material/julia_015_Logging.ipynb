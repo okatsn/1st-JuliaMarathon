{
 "cells": [
  {
   "cell_type": "markdown",
   "metadata": {},
   "source": [
    "# Julia 日誌與例外處理\n",
    "\n",
    "## 1. 日誌 (Logging)\n",
    "\n",
    "日誌的記錄是透過巨集加上要記錄的訊息字串組成。"
   ]
  },
  {
   "cell_type": "code",
   "execution_count": 1,
   "metadata": {},
   "outputs": [
    {
     "name": "stderr",
     "output_type": "stream",
     "text": [
      "┌ Info: start\n",
      "└ @ Main In[1]:3\n",
      "┌ Info: end. Now i is 2.\n",
      "└ @ Main In[1]:8\n"
     ]
    }
   ],
   "source": [
    "i = 1\n",
    "\n",
    "@info \"start\"\n",
    "\n",
    "i += 1\n",
    "@debug \"debug 訊息預設不會顯示輸出\"\n",
    "\n",
    "@info \"end. Now i is $i.\" "
   ]
  },
  {
   "cell_type": "code",
   "execution_count": 2,
   "metadata": {},
   "outputs": [],
   "source": [
    "using Logging"
   ]
  },
  {
   "cell_type": "markdown",
   "metadata": {},
   "source": [
    "### 1.1 Logger 及 Log Level\n",
    "\n",
    "日誌的輸出方式可以透過設定 logger 來指定，logger 有下列幾種： \n",
    "- ConsoleLogger，預設值，輸出到螢幕。\n",
    "- SimpleLogger，輸出到純文字檔案。\n",
    "- NullLogger，不輸出。\n",
    "\n",
    "範例中使用 SimpleLogger, 並將 log 以標準輸出 (stdout) 顯示。\n",
    "\n",
    "\n",
    "日誌是否要顯示或記錄是由 Log level (等級) 來控制，主要的 Log level 等級有：\n",
    "- Debug\n",
    "- Info\n",
    "- Warn\n",
    "- Error\n",
    "\n",
    "範例中 log level 設定為 debug。"
   ]
  },
  {
   "cell_type": "markdown",
   "metadata": {},
   "source": [
    "**Logging.SimpleLogger**\n",
    "- `SimpleLogger(stream=stderr, min_level=Info)`\n",
    "- Simplistic logger for logging all messages with level greater than or equal to min_level to stream."
   ]
  },
  {
   "cell_type": "code",
   "execution_count": 5,
   "metadata": {},
   "outputs": [
    {
     "name": "stdout",
     "output_type": "stream",
     "text": [
      "┌ Info: 正常的日誌訊息\n",
      "└ @ Main In[5]:4\n",
      "┌ Debug: 除錯用的訊息, 預設不會顯示\n",
      "└ @ Main In[5]:5\n",
      "┌ Debug: 除錯用的訊息, 預設不會顯示\n",
      "└ @ Main In[5]:8\n",
      "try 區塊內容\n"
     ]
    }
   ],
   "source": [
    "logger = SimpleLogger(stdout, Logging.Debug)\n",
    "global_logger(logger)\n",
    "\n",
    "@info \"正常的日誌訊息\"\n",
    "@debug \"除錯用的訊息, 預設不會顯示\"\n",
    "\n",
    "try\n",
    "    @debug \"除錯用的訊息, 預設不會顯示\"\n",
    "    println(\"try 區塊內容\")\n",
    "catch\n",
    "    @error \"錯誤訊息\" # or error(\"錯誤訊息\")\n",
    "#     error(\"錯誤訊息\")\n",
    "end"
   ]
  },
  {
   "cell_type": "code",
   "execution_count": 10,
   "metadata": {},
   "outputs": [
    {
     "ename": "ErrorException",
     "evalue": "錯誤訊息",
     "output_type": "error",
     "traceback": [
      "錯誤訊息",
      "",
      "Stacktrace:",
      " [1] error(::String) at .\\error.jl:33",
      " [2] top-level scope at In[10]:1"
     ]
    }
   ],
   "source": [
    "error(\"錯誤訊息\")\n",
    "1 + 1"
   ]
  },
  {
   "cell_type": "code",
   "execution_count": 11,
   "metadata": {},
   "outputs": [
    {
     "name": "stdout",
     "output_type": "stream",
     "text": [
      "┌ Error: 錯誤訊息但是可以繼續跑下面的東東\n",
      "└ @ Main In[11]:1\n"
     ]
    },
    {
     "data": {
      "text/plain": [
       "2"
      ]
     },
     "execution_count": 11,
     "metadata": {},
     "output_type": "execute_result"
    }
   ],
   "source": [
    "@error \"錯誤訊息但是可以繼續跑下面的東東\"\n",
    "1 + 1"
   ]
  },
  {
   "cell_type": "markdown",
   "metadata": {},
   "source": [
    "呼叫 `min_enabled_level()` 函式查看目前的 log level 設定。"
   ]
  },
  {
   "cell_type": "code",
   "execution_count": 28,
   "metadata": {},
   "outputs": [
    {
     "data": {
      "text/plain": [
       "Debug"
      ]
     },
     "execution_count": 28,
     "metadata": {},
     "output_type": "execute_result"
    }
   ],
   "source": [
    "Logging.min_enabled_level(logger)"
   ]
  },
  {
   "cell_type": "markdown",
   "metadata": {},
   "source": [
    "呼叫 `current_logger()` 函式查看目前 logger 的種類。"
   ]
  },
  {
   "cell_type": "code",
   "execution_count": 29,
   "metadata": {},
   "outputs": [
    {
     "data": {
      "text/plain": [
       "Base.CoreLogging.SimpleLogger(IJulia.IJuliaStdio{Base.PipeEndpoint}(IOContext(Base.PipeEndpoint(Base.Libc.WindowsRawSocket(0x0000000000000450) open, 0 bytes waiting))), Debug, Dict{Any,Int64}())"
      ]
     },
     "execution_count": 29,
     "metadata": {},
     "output_type": "execute_result"
    }
   ],
   "source": [
    "current_logger()"
   ]
  },
  {
   "cell_type": "markdown",
   "metadata": {},
   "source": [
    "### 1.2 task-local logger 與 global_logger\n",
    "\n",
    "Logger 可以分為 global_logger 與 task-local logger。"
   ]
  },
  {
   "cell_type": "code",
   "execution_count": 30,
   "metadata": {},
   "outputs": [
    {
     "name": "stdout",
     "output_type": "stream",
     "text": [
      "┌ Info: a context specific log message\n",
      "└ @ Main In[30]:3\n"
     ]
    }
   ],
   "source": [
    "# task-local logger\n",
    "with_logger(logger) do\n",
    "    @info(\"a context specific log message\")\n",
    "end"
   ]
  },
  {
   "cell_type": "code",
   "execution_count": 31,
   "metadata": {},
   "outputs": [
    {
     "name": "stdout",
     "output_type": "stream",
     "text": [
      "┌ Info: a global log message\n",
      "└ @ Main In[31]:3\n"
     ]
    }
   ],
   "source": [
    "# global_logger\n",
    "global_logger(logger)\n",
    "@info \"a global log message\""
   ]
  },
  {
   "cell_type": "markdown",
   "metadata": {},
   "source": [
    "### 1.3 將 Log 寫入到檔案\n",
    "\n",
    "將日誌 (Logging) 寫入文字檔案的流程如下：\n",
    "1. 開啟文字檔 IO，並照上兩頁的流程建立日誌。\n",
    "2. 記錄日誌訊息。\n",
    "3. 呼叫 flush() 函式，會將所有都暫存的日誌訊息寫入到文字檔案中。\n",
    "4. 最後記得要呼叫 close() 函式關閉檔案。"
   ]
  },
  {
   "cell_type": "code",
   "execution_count": 32,
   "metadata": {},
   "outputs": [],
   "source": [
    "io = open(\"log.txt\", \"w+\")\n",
    "\n",
    "logger = SimpleLogger(io, Logging.Debug)\n",
    "\n",
    "global_logger(logger)\n",
    "\n",
    "@info(\"a global info log message\")\n",
    "@debug(\"a global debug log message\")"
   ]
  },
  {
   "cell_type": "code",
   "execution_count": 33,
   "metadata": {},
   "outputs": [],
   "source": [
    "flush(io)"
   ]
  },
  {
   "cell_type": "code",
   "execution_count": 34,
   "metadata": {},
   "outputs": [],
   "source": [
    "close(io)"
   ]
  },
  {
   "cell_type": "markdown",
   "metadata": {},
   "source": [
    "查看寫入 log 文字檔的內容。"
   ]
  },
  {
   "cell_type": "code",
   "execution_count": 35,
   "metadata": {},
   "outputs": [
    {
     "data": {
      "text/plain": [
       "4-element Array{String,1}:\n",
       " \"┌ Info: a global info log message\"\n",
       " \"└ @ Main In[32]:7\"\n",
       " \"┌ Debug: a global debug log message\"\n",
       " \"└ @ Main In[32]:8\""
      ]
     },
     "execution_count": 35,
     "metadata": {},
     "output_type": "execute_result"
    }
   ],
   "source": [
    "f = open(\"log.txt\")\n",
    "readlines(f)"
   ]
  },
  {
   "cell_type": "code",
   "execution_count": 36,
   "metadata": {},
   "outputs": [],
   "source": [
    "close(f)"
   ]
  },
  {
   "cell_type": "markdown",
   "metadata": {},
   "source": [
    "## 2. 例外處理 (Exception Handling)\n",
    "\n",
    "如果不可控制的情況發生，可能就會產生系統 Error，造成程式執行中斷，這時候我們就需要在適當的位置中，加入例外處理機制，讓我們可以捕捉到這些錯誤，並進行相對應的處理，以避免程式中斷而失去控制。\n",
    "\n",
    "例如開啟一個不存在的檔案，會造成程式中斷，無法繼續往下進行。"
   ]
  },
  {
   "cell_type": "code",
   "execution_count": 37,
   "metadata": {},
   "outputs": [
    {
     "ename": "SystemError",
     "evalue": "SystemError: opening file \"thisfiledoesnotexist.txt\": No such file or directory",
     "output_type": "error",
     "traceback": [
      "SystemError: opening file \"thisfiledoesnotexist.txt\": No such file or directory",
      "",
      "Stacktrace:",
      " [1] systemerror(::String, ::Int32; extrainfo::Nothing) at .\\error.jl:168",
      " [2] #systemerror#50 at .\\error.jl:167 [inlined]",
      " [3] systemerror at .\\error.jl:167 [inlined]",
      " [4] open(::String; read::Nothing, write::Nothing, create::Nothing, truncate::Nothing, append::Nothing) at .\\iostream.jl:254",
      " [5] open(::String) at .\\iostream.jl:246",
      " [6] top-level scope at In[37]:1"
     ]
    }
   ],
   "source": [
    "f = open(\"thisfiledoesnotexist.txt\")"
   ]
  },
  {
   "cell_type": "markdown",
   "metadata": {},
   "source": [
    "### 2.1 try-catch-finally\n",
    "\n",
    "使用 try-catch 例外處理。例如：\n",
    "- 開啟檔案時可能產生出錯，我們將有可能需要對例外進行測試的表達式放在 try 區塊中。\n",
    "- 若發生錯誤時，由 catch 區塊來處理捕捉到的錯誤，避免程式因為錯誤而異常中斷。"
   ]
  },
  {
   "cell_type": "code",
   "execution_count": 38,
   "metadata": {},
   "outputs": [
    {
     "name": "stdout",
     "output_type": "stream",
     "text": [
      "檔案開啟錯誤，請檢查檔案是否存在。錯誤訊息：\n",
      "Exception: SystemError(\"opening file \\\"thisfiledoesnotexist.txt\\\"\", 2, nothing)\n"
     ]
    }
   ],
   "source": [
    "try\n",
    "    f = open(\"thisfiledoesnotexist.txt\")\n",
    "catch ex\n",
    "    println(\"檔案開啟錯誤，請檢查檔案是否存在。錯誤訊息：\")\n",
    "    println(\"Exception: \", ex)\n",
    "end"
   ]
  },
  {
   "cell_type": "markdown",
   "metadata": {},
   "source": [
    "finally 區塊是在處理過後，不論正常或有例外產生，一定會進入的區塊。可以將處理過後的訊息，或後續要執行的動作，在 finally 區塊中定義。"
   ]
  },
  {
   "cell_type": "code",
   "execution_count": 39,
   "metadata": {},
   "outputs": [
    {
     "name": "stdout",
     "output_type": "stream",
     "text": [
      "捕捉到例外情況，請檢查\n",
      "Exception: DomainError(-10.0, \"log will only return a complex result if called with a complex argument. Try log(Complex(x)).\")\n",
      "\n",
      "This is finally.\n"
     ]
    }
   ],
   "source": [
    "try\n",
    "    log(-10)\n",
    "catch ex\n",
    "    println(\"捕捉到例外情況，請檢查\")\n",
    "    println(\"Exception: \", ex, \"\\n\")\n",
    "finally\n",
    "    println(\"This is finally.\")\n",
    "end"
   ]
  },
  {
   "cell_type": "markdown",
   "metadata": {},
   "source": [
    "### 2.2 `throw()` 函式\n",
    "\n",
    "如果要很明確地產生例外情況，可以使用 `throw()` 函式。"
   ]
  },
  {
   "cell_type": "code",
   "execution_count": 40,
   "metadata": {},
   "outputs": [
    {
     "data": {
      "text/plain": [
       "foo (generic function with 1 method)"
      ]
     },
     "execution_count": 40,
     "metadata": {},
     "output_type": "execute_result"
    }
   ],
   "source": [
    "foo(x) = x>=0 ? sqrt(x) : throw(DomainError(x, \"必須為正數\"))"
   ]
  },
  {
   "cell_type": "code",
   "execution_count": 41,
   "metadata": {},
   "outputs": [
    {
     "ename": "DomainError",
     "evalue": "DomainError with -4:\n必須為正數",
     "output_type": "error",
     "traceback": [
      "DomainError with -4:\n必須為正數",
      "",
      "Stacktrace:",
      " [1] foo(::Int64) at .\\In[40]:1",
      " [2] top-level scope at In[41]:1"
     ]
    }
   ],
   "source": [
    "foo(-4)"
   ]
  },
  {
   "cell_type": "markdown",
   "metadata": {},
   "source": [
    "### 2.3 自定 Error\n",
    "\n",
    "除了 Julia 提供的 Error 之外，也可以透過複合型別自訂 Error。"
   ]
  },
  {
   "cell_type": "code",
   "execution_count": 42,
   "metadata": {},
   "outputs": [],
   "source": [
    "struct CustomException <: Exception \n",
    "    msg::AbstractString\n",
    "end"
   ]
  },
  {
   "cell_type": "markdown",
   "metadata": {},
   "source": [
    "### 2.4 `stacktrace()` 與 `backtrace()`\n",
    "\n",
    "如果想要了解程式執行該時間點的執行堆疊，可以呼叫 `stacktrace()` 函式，尤其是在處理例外情況發生時，例如可以依此堆疊追蹤錯誤發生時的程式、函式呼叫流程與順序，並判斷錯錯可能發生的原因。\n",
    "\n",
    "`backtrace()` 函式也是回傳堆疊追蹤的資訊，與 `stacktrace()` 不同的地方在於，`backtrace()` 會包含低階呼叫 C 語言的訊息。"
   ]
  },
  {
   "cell_type": "code",
   "execution_count": 43,
   "metadata": {},
   "outputs": [
    {
     "data": {
      "text/plain": [
       "8-element Array{Base.StackTraces.StackFrame,1}:\n",
       " top-level scope at In[43]:1\n",
       " eval at boot.jl:331 [inlined]\n",
       " softscope_include_string(::Module, ::String, ::String) at SoftGlobalScope.jl:218\n",
       " execute_request(::ZMQ.Socket, ::IJulia.Msg) at execute_request.jl:67\n",
       " #invokelatest#1 at essentials.jl:712 [inlined]\n",
       " invokelatest at essentials.jl:711 [inlined]\n",
       " eventloop(::ZMQ.Socket) at eventloop.jl:8\n",
       " (::IJulia.var\"#15#18\")() at task.jl:358"
      ]
     },
     "execution_count": 43,
     "metadata": {},
     "output_type": "execute_result"
    }
   ],
   "source": [
    "stacktrace()"
   ]
  },
  {
   "cell_type": "code",
   "execution_count": 44,
   "metadata": {},
   "outputs": [
    {
     "data": {
      "text/plain": [
       "16-element Array{Union{Ptr{Nothing}, Base.InterpreterIP},1}:\n",
       " Ptr{Nothing} @0x000000000afadf9e\n",
       " Ptr{Nothing} @0x00000000668c81fc\n",
       " Ptr{Nothing} @0x00000000668c7ec1\n",
       " Ptr{Nothing} @0x00000000668c9420\n",
       " Ptr{Nothing} @0x00000000668c9dc5\n",
       " Base.InterpreterIP in top-level CodeInfo for Main at statement 0\n",
       " Ptr{Nothing} @0x00000000668e6f4d\n",
       " Ptr{Nothing} @0x00000000668e8068\n",
       " Ptr{Nothing} @0x000000002e5654a0\n",
       " Ptr{Nothing} @0x000000002e5616cd\n",
       " Ptr{Nothing} @0x00000000668bf2b8\n",
       " Ptr{Nothing} @0x00000000668bfa5a\n",
       " Ptr{Nothing} @0x000000002e5590eb\n",
       " Ptr{Nothing} @0x000000002e5592c8\n",
       " Ptr{Nothing} @0x000000002e5592e3\n",
       " Ptr{Nothing} @0x00000000668cdbcf"
      ]
     },
     "execution_count": 44,
     "metadata": {},
     "output_type": "execute_result"
    }
   ],
   "source": [
    "backtrace()"
   ]
  },
  {
   "cell_type": "code",
   "execution_count": 45,
   "metadata": {},
   "outputs": [
    {
     "data": {
      "text/plain": [
       "9-element Array{Base.StackTraces.StackFrame,1}:\n",
       " example() at In[45]:6\n",
       " top-level scope at In[45]:8\n",
       " eval at boot.jl:331 [inlined]\n",
       " softscope_include_string(::Module, ::String, ::String) at SoftGlobalScope.jl:218\n",
       " execute_request(::ZMQ.Socket, ::IJulia.Msg) at execute_request.jl:67\n",
       " #invokelatest#1 at essentials.jl:712 [inlined]\n",
       " invokelatest at essentials.jl:711 [inlined]\n",
       " eventloop(::ZMQ.Socket) at eventloop.jl:8\n",
       " (::IJulia.var\"#15#18\")() at task.jl:358"
      ]
     },
     "execution_count": 45,
     "metadata": {},
     "output_type": "execute_result"
    }
   ],
   "source": [
    "bad_function() = begin undeclared_variable end\n",
    "\n",
    "example() = try\n",
    "        bad_function()\n",
    "    catch\n",
    "        stacktrace()\n",
    "    end\n",
    "\n",
    "example()"
   ]
  },
  {
   "cell_type": "markdown",
   "metadata": {},
   "source": [
    "在上面的例子中，雖然可以正確地捕捉到 Error，但是回傳的錯誤發生行數在第 6 行，也就是 `stacktrace()` 被呼叫的那一行，對於要追蹤錯誤較不精確。下面示範搭配 `catch_backtrace()` 函式，可以看到錯誤發生的行數指向未宣告變數，也就是被呼叫函式的那一行 (第 1 行)，對於錯誤發生的來源能正確指出。"
   ]
  },
  {
   "cell_type": "code",
   "execution_count": 46,
   "metadata": {},
   "outputs": [
    {
     "data": {
      "text/plain": [
       "10-element Array{Base.StackTraces.StackFrame,1}:\n",
       " bad_function at In[46]:1 [inlined]\n",
       " example() at In[46]:4\n",
       " top-level scope at In[46]:8\n",
       " eval at boot.jl:331 [inlined]\n",
       " softscope_include_string(::Module, ::String, ::String) at SoftGlobalScope.jl:218\n",
       " execute_request(::ZMQ.Socket, ::IJulia.Msg) at execute_request.jl:67\n",
       " #invokelatest#1 at essentials.jl:712 [inlined]\n",
       " invokelatest at essentials.jl:711 [inlined]\n",
       " eventloop(::ZMQ.Socket) at eventloop.jl:8\n",
       " (::IJulia.var\"#15#18\")() at task.jl:358"
      ]
     },
     "execution_count": 46,
     "metadata": {},
     "output_type": "execute_result"
    }
   ],
   "source": [
    "bad_function() = begin undeclared_variable end\n",
    "\n",
    "example() = try\n",
    "        bad_function()\n",
    "    catch\n",
    "        stacktrace(catch_backtrace())\n",
    "    end\n",
    "\n",
    "example()"
   ]
  },
  {
   "cell_type": "markdown",
   "metadata": {},
   "source": [
    "下面的範例是呼叫 `Base.catch_stack()` 函式，並將在堆疊中的 Exception 及 backtrace 印出。\n",
    "\n",
    "[註] `Base.catch_stack()` 函式是 Julia 1.1 之後推出的實驗性函式，未來名稱可能會改變。"
   ]
  },
  {
   "cell_type": "code",
   "execution_count": 47,
   "metadata": {},
   "outputs": [
    {
     "name": "stdout",
     "output_type": "stream",
     "text": [
      "\u001b[91mUndefVarError: undeclared_variable not defined\u001b[39m\n",
      "Stacktrace:\n",
      " [1] \u001b[1mbad_function\u001b[22m at \u001b[1m.\\In[47]:1\u001b[22m [inlined]\n",
      " [2] \u001b[1mexample\u001b[22m\u001b[1m(\u001b[22m\u001b[1m)\u001b[22m at \u001b[1m.\\In[47]:4\u001b[22m\n",
      " [3] top-level scope at \u001b[1mIn[47]:11\u001b[22m\n",
      " [4] \u001b[1meval\u001b[22m at \u001b[1m.\\boot.jl:331\u001b[22m [inlined]\n",
      " [5] \u001b[1msoftscope_include_string\u001b[22m\u001b[1m(\u001b[22m::Module, ::String, ::String\u001b[1m)\u001b[22m at \u001b[1mC:\\Users\\HSI\\.julia\\packages\\SoftGlobalScope\\cSbw5\\src\\SoftGlobalScope.jl:218\u001b[22m\n",
      " [6] \u001b[1mexecute_request\u001b[22m\u001b[1m(\u001b[22m::ZMQ.Socket, ::IJulia.Msg\u001b[1m)\u001b[22m at \u001b[1mC:\\Users\\HSI\\.julia\\packages\\IJulia\\yLI42\\src\\execute_request.jl:67\u001b[22m\n",
      " [7] \u001b[1m#invokelatest#1\u001b[22m at \u001b[1m.\\essentials.jl:712\u001b[22m [inlined]\n",
      " [8] \u001b[1minvokelatest\u001b[22m at \u001b[1m.\\essentials.jl:711\u001b[22m [inlined]\n",
      " [9] \u001b[1meventloop\u001b[22m\u001b[1m(\u001b[22m::ZMQ.Socket\u001b[1m)\u001b[22m at \u001b[1mC:\\Users\\HSI\\.julia\\packages\\IJulia\\yLI42\\src\\eventloop.jl:8\u001b[22m\n",
      " [10] \u001b[1m(::IJulia.var\"#15#18\")\u001b[22m\u001b[1m(\u001b[22m\u001b[1m)\u001b[22m at \u001b[1m.\\task.jl:358\u001b[22m\n"
     ]
    }
   ],
   "source": [
    "bad_function() = begin undeclared_variable end\n",
    "\n",
    "example() = try\n",
    "        bad_function()\n",
    "    catch\n",
    "        for (ex, bt) in Base.catch_stack()\n",
    "            showerror(stdout, ex, bt)\n",
    "            println()\n",
    "        end\n",
    "    end\n",
    "\n",
    "example()"
   ]
  },
  {
   "cell_type": "code",
   "execution_count": null,
   "metadata": {},
   "outputs": [],
   "source": []
  },
  {
   "cell_type": "code",
   "execution_count": null,
   "metadata": {},
   "outputs": [],
   "source": []
  }
 ],
 "metadata": {
  "@webio": {
   "lastCommId": null,
   "lastKernelId": null
  },
  "kernelspec": {
   "display_name": "Julia 1.1.1",
   "language": "julia",
   "name": "julia-1.1"
  },
  "language_info": {
   "file_extension": ".jl",
   "mimetype": "application/julia",
   "name": "julia",
   "version": "1.1.1"
  }
 },
 "nbformat": 4,
 "nbformat_minor": 4
}
