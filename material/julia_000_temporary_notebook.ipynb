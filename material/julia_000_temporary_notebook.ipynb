{
 "cells": [
  {
   "cell_type": "markdown",
   "metadata": {},
   "source": [
    "# code testing board\n",
    "- This is the board for testing codes, everything is temporary and deletable.\n",
    "- Do not keep important result here"
   ]
  },
  {
   "cell_type": "code",
   "execution_count": 2,
   "metadata": {},
   "outputs": [
    {
     "data": {
      "text/plain": [
       "\"readdir\""
      ]
     },
     "execution_count": 2,
     "metadata": {},
     "output_type": "execute_result"
    }
   ],
   "source": [
    "target = \"D:\\\\GoogleDrive\\\\1Programming\\\\julia\"\n",
    "find =  \"folder\"\n",
    "dirfunc = \"readdir\" # \"readdir\", \"walkdir\", or \"both\""
   ]
  },
  {
   "cell_type": "code",
   "execution_count": 4,
   "metadata": {},
   "outputs": [],
   "source": []
  },
  {
   "cell_type": "code",
   "execution_count": 5,
   "metadata": {},
   "outputs": [
    {
     "data": {
      "text/plain": [
       "4-element Array{String,1}:\n",
       " \"D:\\\\GoogleDrive\\\\1Programming\\\\julia\\\\MyToolBox\"\n",
       " \"D:\\\\GoogleDrive\\\\1Programming\\\\julia\\\\current_works.jl\"\n",
       " \"D:\\\\GoogleDrive\\\\1Programming\\\\julia\\\\include_all.jl\"\n",
       " \"D:\\\\GoogleDrive\\\\1Programming\\\\julia\\\\notes.md\""
      ]
     },
     "execution_count": 5,
     "metadata": {},
     "output_type": "execute_result"
    }
   ],
   "source": []
  },
  {
   "cell_type": "code",
   "execution_count": 6,
   "metadata": {},
   "outputs": [
    {
     "data": {
      "text/plain": [
       "true"
      ]
     },
     "execution_count": 6,
     "metadata": {},
     "output_type": "execute_result"
    }
   ],
   "source": [
    "findfolders"
   ]
  },
  {
   "cell_type": "code",
   "execution_count": null,
   "metadata": {},
   "outputs": [],
   "source": []
  }
 ],
 "metadata": {
  "kernelspec": {
   "display_name": "Julia 1.4.0",
   "language": "julia",
   "name": "julia-1.4"
  },
  "language_info": {
   "file_extension": ".jl",
   "mimetype": "application/julia",
   "name": "julia",
   "version": "1.4.0"
  }
 },
 "nbformat": 4,
 "nbformat_minor": 4
}
