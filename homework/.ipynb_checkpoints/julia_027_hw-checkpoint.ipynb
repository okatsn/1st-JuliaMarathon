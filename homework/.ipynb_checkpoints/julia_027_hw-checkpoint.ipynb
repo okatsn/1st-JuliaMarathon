{
 "cells": [
  {
   "cell_type": "markdown",
   "metadata": {},
   "source": [
    "# Julia 機器學習：GLM 線性迴歸\n",
    "\n",
    "## 作業 027：波士頓房價預測資料集\n",
    "\n",
    "請使用 GLM 中的模型，建立一個預測模型來預測波士頓的房價(MedV)。"
   ]
  },
  {
   "cell_type": "code",
   "execution_count": 1,
   "metadata": {},
   "outputs": [],
   "source": [
    "using GLM, RDatasets, MLDataUtils"
   ]
  },
  {
   "cell_type": "markdown",
   "metadata": {},
   "source": [
    "## 讀取資料"
   ]
  },
  {
   "cell_type": "code",
   "execution_count": 3,
   "metadata": {},
   "outputs": [
    {
     "data": {
      "text/html": [
       "<table class=\"data-frame\"><thead><tr><th></th><th>variable</th><th>mean</th><th>min</th><th>median</th><th>max</th><th>nunique</th><th>nmissing</th><th>eltype</th></tr><tr><th></th><th>Symbol</th><th>Float64</th><th>Real</th><th>Float64</th><th>Real</th><th>Nothing</th><th>Nothing</th><th>DataType</th></tr></thead><tbody><p>14 rows × 8 columns</p><tr><th>1</th><td>Crim</td><td>3.61352</td><td>0.00632</td><td>0.25651</td><td>88.9762</td><td></td><td></td><td>Float64</td></tr><tr><th>2</th><td>Zn</td><td>11.3636</td><td>0.0</td><td>0.0</td><td>100.0</td><td></td><td></td><td>Float64</td></tr><tr><th>3</th><td>Indus</td><td>11.1368</td><td>0.46</td><td>9.69</td><td>27.74</td><td></td><td></td><td>Float64</td></tr><tr><th>4</th><td>Chas</td><td>0.06917</td><td>0</td><td>0.0</td><td>1</td><td></td><td></td><td>Int64</td></tr><tr><th>5</th><td>NOx</td><td>0.554695</td><td>0.385</td><td>0.538</td><td>0.871</td><td></td><td></td><td>Float64</td></tr><tr><th>6</th><td>Rm</td><td>6.28463</td><td>3.561</td><td>6.2085</td><td>8.78</td><td></td><td></td><td>Float64</td></tr><tr><th>7</th><td>Age</td><td>68.5749</td><td>2.9</td><td>77.5</td><td>100.0</td><td></td><td></td><td>Float64</td></tr><tr><th>8</th><td>Dis</td><td>3.79504</td><td>1.1296</td><td>3.20745</td><td>12.1265</td><td></td><td></td><td>Float64</td></tr><tr><th>9</th><td>Rad</td><td>9.54941</td><td>1</td><td>5.0</td><td>24</td><td></td><td></td><td>Int64</td></tr><tr><th>10</th><td>Tax</td><td>408.237</td><td>187</td><td>330.0</td><td>711</td><td></td><td></td><td>Int64</td></tr><tr><th>11</th><td>PTRatio</td><td>18.4555</td><td>12.6</td><td>19.05</td><td>22.0</td><td></td><td></td><td>Float64</td></tr><tr><th>12</th><td>Black</td><td>356.674</td><td>0.32</td><td>391.44</td><td>396.9</td><td></td><td></td><td>Float64</td></tr><tr><th>13</th><td>LStat</td><td>12.6531</td><td>1.73</td><td>11.36</td><td>37.97</td><td></td><td></td><td>Float64</td></tr><tr><th>14</th><td>MedV</td><td>22.5328</td><td>5.0</td><td>21.2</td><td>50.0</td><td></td><td></td><td>Float64</td></tr></tbody></table>"
      ],
      "text/latex": [
       "\\begin{tabular}{r|cccccccc}\n",
       "\t& variable & mean & min & median & max & nunique & nmissing & eltype\\\\\n",
       "\t\\hline\n",
       "\t& Symbol & Float64 & Real & Float64 & Real & Nothing & Nothing & DataType\\\\\n",
       "\t\\hline\n",
       "\t1 & Crim & 3.61352 & 0.00632 & 0.25651 & 88.9762 &  &  & Float64 \\\\\n",
       "\t2 & Zn & 11.3636 & 0.0 & 0.0 & 100.0 &  &  & Float64 \\\\\n",
       "\t3 & Indus & 11.1368 & 0.46 & 9.69 & 27.74 &  &  & Float64 \\\\\n",
       "\t4 & Chas & 0.06917 & 0 & 0.0 & 1 &  &  & Int64 \\\\\n",
       "\t5 & NOx & 0.554695 & 0.385 & 0.538 & 0.871 &  &  & Float64 \\\\\n",
       "\t6 & Rm & 6.28463 & 3.561 & 6.2085 & 8.78 &  &  & Float64 \\\\\n",
       "\t7 & Age & 68.5749 & 2.9 & 77.5 & 100.0 &  &  & Float64 \\\\\n",
       "\t8 & Dis & 3.79504 & 1.1296 & 3.20745 & 12.1265 &  &  & Float64 \\\\\n",
       "\t9 & Rad & 9.54941 & 1 & 5.0 & 24 &  &  & Int64 \\\\\n",
       "\t10 & Tax & 408.237 & 187 & 330.0 & 711 &  &  & Int64 \\\\\n",
       "\t11 & PTRatio & 18.4555 & 12.6 & 19.05 & 22.0 &  &  & Float64 \\\\\n",
       "\t12 & Black & 356.674 & 0.32 & 391.44 & 396.9 &  &  & Float64 \\\\\n",
       "\t13 & LStat & 12.6531 & 1.73 & 11.36 & 37.97 &  &  & Float64 \\\\\n",
       "\t14 & MedV & 22.5328 & 5.0 & 21.2 & 50.0 &  &  & Float64 \\\\\n",
       "\\end{tabular}\n"
      ],
      "text/plain": [
       "14×8 DataFrame. Omitted printing of 1 columns\n",
       "│ Row │ variable │ mean     │ min     │ median  │ max     │ nunique │ nmissing │\n",
       "│     │ \u001b[90mSymbol\u001b[39m   │ \u001b[90mFloat64\u001b[39m  │ \u001b[90mReal\u001b[39m    │ \u001b[90mFloat64\u001b[39m │ \u001b[90mReal\u001b[39m    │ \u001b[90mNothing\u001b[39m │ \u001b[90mNothing\u001b[39m  │\n",
       "├─────┼──────────┼──────────┼─────────┼─────────┼─────────┼─────────┼──────────┤\n",
       "│ 1   │ Crim     │ 3.61352  │ 0.00632 │ 0.25651 │ 88.9762 │         │          │\n",
       "│ 2   │ Zn       │ 11.3636  │ 0.0     │ 0.0     │ 100.0   │         │          │\n",
       "│ 3   │ Indus    │ 11.1368  │ 0.46    │ 9.69    │ 27.74   │         │          │\n",
       "│ 4   │ Chas     │ 0.06917  │ 0       │ 0.0     │ 1       │         │          │\n",
       "│ 5   │ NOx      │ 0.554695 │ 0.385   │ 0.538   │ 0.871   │         │          │\n",
       "│ 6   │ Rm       │ 6.28463  │ 3.561   │ 6.2085  │ 8.78    │         │          │\n",
       "│ 7   │ Age      │ 68.5749  │ 2.9     │ 77.5    │ 100.0   │         │          │\n",
       "│ 8   │ Dis      │ 3.79504  │ 1.1296  │ 3.20745 │ 12.1265 │         │          │\n",
       "│ 9   │ Rad      │ 9.54941  │ 1       │ 5.0     │ 24      │         │          │\n",
       "│ 10  │ Tax      │ 408.237  │ 187     │ 330.0   │ 711     │         │          │\n",
       "│ 11  │ PTRatio  │ 18.4555  │ 12.6    │ 19.05   │ 22.0    │         │          │\n",
       "│ 12  │ Black    │ 356.674  │ 0.32    │ 391.44  │ 396.9   │         │          │\n",
       "│ 13  │ LStat    │ 12.6531  │ 1.73    │ 11.36   │ 37.97   │         │          │\n",
       "│ 14  │ MedV     │ 22.5328  │ 5.0     │ 21.2    │ 50.0    │         │          │"
      ]
     },
     "execution_count": 3,
     "metadata": {},
     "output_type": "execute_result"
    }
   ],
   "source": [
    "boston = dataset(\"MASS\", \"Boston\")\n",
    "# first(boston, 10)\n",
    "describe(boston)"
   ]
  },
  {
   "cell_type": "code",
   "execution_count": 7,
   "metadata": {},
   "outputs": [
    {
     "name": "stdout",
     "output_type": "stream",
     "text": [
      "506×14 DataFrame\n",
      "│ Row │ Crim    │ Zn      │ Indus   │ Chas  │ NOx     │ Rm      │ Age     │\n",
      "│     │ \u001b[90mFloat64\u001b[39m │ \u001b[90mFloat64\u001b[39m │ \u001b[90mFloat64\u001b[39m │ \u001b[90mInt64\u001b[39m │ \u001b[90mFloat64\u001b[39m │ \u001b[90mFloat64\u001b[39m │ \u001b[90mFloat64\u001b[39m │\n",
      "├─────┼─────────┼─────────┼─────────┼───────┼─────────┼─────────┼─────────┤\n",
      "│ 1   │ 0.00632 │ 18.0    │ 2.31    │ 0     │ 0.538   │ 6.575   │ 65.2    │\n",
      "│ 2   │ 0.02731 │ 0.0     │ 7.07    │ 0     │ 0.469   │ 6.421   │ 78.9    │\n",
      "│ 3   │ 0.02729 │ 0.0     │ 7.07    │ 0     │ 0.469   │ 7.185   │ 61.1    │\n",
      "│ 4   │ 0.03237 │ 0.0     │ 2.18    │ 0     │ 0.458   │ 6.998   │ 45.8    │\n",
      "│ 5   │ 0.06905 │ 0.0     │ 2.18    │ 0     │ 0.458   │ 7.147   │ 54.2    │\n",
      "│ 6   │ 0.02985 │ 0.0     │ 2.18    │ 0     │ 0.458   │ 6.43    │ 58.7    │\n",
      "│ 7   │ 0.08829 │ 12.5    │ 7.87    │ 0     │ 0.524   │ 6.012   │ 66.6    │\n",
      "│ 8   │ 0.14455 │ 12.5    │ 7.87    │ 0     │ 0.524   │ 6.172   │ 96.1    │\n",
      "│ 9   │ 0.21124 │ 12.5    │ 7.87    │ 0     │ 0.524   │ 5.631   │ 100.0   │\n",
      "│ 10  │ 0.17004 │ 12.5    │ 7.87    │ 0     │ 0.524   │ 6.004   │ 85.9    │\n",
      "⋮\n",
      "│ 496 │ 0.17899 │ 0.0     │ 9.69    │ 0     │ 0.585   │ 5.67    │ 28.8    │\n",
      "│ 497 │ 0.2896  │ 0.0     │ 9.69    │ 0     │ 0.585   │ 5.39    │ 72.9    │\n",
      "│ 498 │ 0.26838 │ 0.0     │ 9.69    │ 0     │ 0.585   │ 5.794   │ 70.6    │\n",
      "│ 499 │ 0.23912 │ 0.0     │ 9.69    │ 0     │ 0.585   │ 6.019   │ 65.3    │\n",
      "│ 500 │ 0.17783 │ 0.0     │ 9.69    │ 0     │ 0.585   │ 5.569   │ 73.5    │\n",
      "│ 501 │ 0.22438 │ 0.0     │ 9.69    │ 0     │ 0.585   │ 6.027   │ 79.7    │\n",
      "│ 502 │ 0.06263 │ 0.0     │ 11.93   │ 0     │ 0.573   │ 6.593   │ 69.1    │\n",
      "│ 503 │ 0.04527 │ 0.0     │ 11.93   │ 0     │ 0.573   │ 6.12    │ 76.7    │\n",
      "│ 504 │ 0.06076 │ 0.0     │ 11.93   │ 0     │ 0.573   │ 6.976   │ 91.0    │\n",
      "│ 505 │ 0.10959 │ 0.0     │ 11.93   │ 0     │ 0.573   │ 6.794   │ 89.3    │\n",
      "│ 506 │ 0.04741 │ 0.0     │ 11.93   │ 0     │ 0.573   │ 6.03    │ 80.8    │\n",
      "\n",
      "│ Row │ Dis     │ Rad   │ Tax   │ PTRatio │ Black   │ LStat   │ MedV    │\n",
      "│     │ \u001b[90mFloat64\u001b[39m │ \u001b[90mInt64\u001b[39m │ \u001b[90mInt64\u001b[39m │ \u001b[90mFloat64\u001b[39m │ \u001b[90mFloat64\u001b[39m │ \u001b[90mFloat64\u001b[39m │ \u001b[90mFloat64\u001b[39m │\n",
      "├─────┼─────────┼───────┼───────┼─────────┼─────────┼─────────┼─────────┤\n",
      "│ 1   │ 4.09    │ 1     │ 296   │ 15.3    │ 396.9   │ 4.98    │ 24.0    │\n",
      "│ 2   │ 4.9671  │ 2     │ 242   │ 17.8    │ 396.9   │ 9.14    │ 21.6    │\n",
      "│ 3   │ 4.9671  │ 2     │ 242   │ 17.8    │ 392.83  │ 4.03    │ 34.7    │\n",
      "│ 4   │ 6.0622  │ 3     │ 222   │ 18.7    │ 394.63  │ 2.94    │ 33.4    │\n",
      "│ 5   │ 6.0622  │ 3     │ 222   │ 18.7    │ 396.9   │ 5.33    │ 36.2    │\n",
      "│ 6   │ 6.0622  │ 3     │ 222   │ 18.7    │ 394.12  │ 5.21    │ 28.7    │\n",
      "│ 7   │ 5.5605  │ 5     │ 311   │ 15.2    │ 395.6   │ 12.43   │ 22.9    │\n",
      "│ 8   │ 5.9505  │ 5     │ 311   │ 15.2    │ 396.9   │ 19.15   │ 27.1    │\n",
      "│ 9   │ 6.0821  │ 5     │ 311   │ 15.2    │ 386.63  │ 29.93   │ 16.5    │\n",
      "│ 10  │ 6.5921  │ 5     │ 311   │ 15.2    │ 386.71  │ 17.1    │ 18.9    │\n",
      "⋮\n",
      "│ 496 │ 2.7986  │ 6     │ 391   │ 19.2    │ 393.29  │ 17.6    │ 23.1    │\n",
      "│ 497 │ 2.7986  │ 6     │ 391   │ 19.2    │ 396.9   │ 21.14   │ 19.7    │\n",
      "│ 498 │ 2.8927  │ 6     │ 391   │ 19.2    │ 396.9   │ 14.1    │ 18.3    │\n",
      "│ 499 │ 2.4091  │ 6     │ 391   │ 19.2    │ 396.9   │ 12.92   │ 21.2    │\n",
      "│ 500 │ 2.3999  │ 6     │ 391   │ 19.2    │ 395.77  │ 15.1    │ 17.5    │\n",
      "│ 501 │ 2.4982  │ 6     │ 391   │ 19.2    │ 396.9   │ 14.33   │ 16.8    │\n",
      "│ 502 │ 2.4786  │ 1     │ 273   │ 21.0    │ 391.99  │ 9.67    │ 22.4    │\n",
      "│ 503 │ 2.2875  │ 1     │ 273   │ 21.0    │ 396.9   │ 9.08    │ 20.6    │\n",
      "│ 504 │ 2.1675  │ 1     │ 273   │ 21.0    │ 396.9   │ 5.64    │ 23.9    │\n",
      "│ 505 │ 2.3889  │ 1     │ 273   │ 21.0    │ 393.45  │ 6.48    │ 22.0    │\n",
      "│ 506 │ 2.505   │ 1     │ 273   │ 21.0    │ 396.9   │ 7.88    │ 11.9    │"
     ]
    }
   ],
   "source": [
    "show(boston,allcols=true)"
   ]
  },
  {
   "cell_type": "code",
   "execution_count": 5,
   "metadata": {},
   "outputs": [],
   "source": [
    "ind = MLDataUtils.shuffleobs(collect(1:nrow(boston)))\n",
    "train_ind, test_ind = MLDataUtils.splitobs(ind,at=0.7)\n",
    "train = boston[train_ind,:]\n",
    "test = boston[test_ind,:];"
   ]
  },
  {
   "cell_type": "code",
   "execution_count": 27,
   "metadata": {},
   "outputs": [
    {
     "data": {
      "text/plain": [
       "152-element Array{Union{Missing, Float64},1}:\n",
       " 33.99917306066006\n",
       " 13.339749995086464\n",
       " 22.901122330327517\n",
       " 28.72156382706399\n",
       " 18.00379233656261\n",
       " 31.997364164199112\n",
       " 15.687635509132505\n",
       " 28.151403795989552\n",
       "  9.653016640748048\n",
       " 14.917773299613081\n",
       " 36.56398630444713\n",
       " 21.217511827780555\n",
       " 29.3319935654194\n",
       "  ⋮\n",
       " 16.809034712530146\n",
       " 25.388203091845533\n",
       " 29.571551194611487\n",
       " 37.06567186680171\n",
       " 21.805228854765943\n",
       " 19.546379208000232\n",
       " 27.955636711647145\n",
       " 28.846777137212108\n",
       " 14.705644236903055\n",
       " 27.607627670917363\n",
       " 28.343499451133507\n",
       " 15.204353973950337"
      ]
     },
     "execution_count": 27,
     "metadata": {},
     "output_type": "execute_result"
    }
   ],
   "source": [
    "fm2 = @formula(MedV ~ Tax + Crim + Black + PTRatio + Zn + Dis + NOx +Indus +Chas+Age)\n",
    "logreg = glm(fm2, train, Normal(), IdentityLink()) # returns coefficients\n",
    "pred = predict(logreg, test)"
   ]
  },
  {
   "cell_type": "code",
   "execution_count": 28,
   "metadata": {},
   "outputs": [
    {
     "data": {
      "text/plain": [
       "6.2664920228938765"
      ]
     },
     "execution_count": 28,
     "metadata": {},
     "output_type": "execute_result"
    }
   ],
   "source": [
    "using Statistics\n",
    "rmse(x,y) = sqrt(mean((x - y).^2))\n",
    "# error(x, y) = ((x > 0.5) ? 1.0 : 0.0) == y\n",
    "# accuracy(xs, ys) = mean(error.(xs, ys))\n",
    "rmse(pred, test[!, :MedV])"
   ]
  },
  {
   "cell_type": "code",
   "execution_count": null,
   "metadata": {},
   "outputs": [],
   "source": []
  }
 ],
 "metadata": {
  "kernelspec": {
   "display_name": "Julia 1.4.0",
   "language": "julia",
   "name": "julia-1.4"
  },
  "language_info": {
   "file_extension": ".jl",
   "mimetype": "application/julia",
   "name": "julia",
   "version": "1.4.0"
  }
 },
 "nbformat": 4,
 "nbformat_minor": 4
}
