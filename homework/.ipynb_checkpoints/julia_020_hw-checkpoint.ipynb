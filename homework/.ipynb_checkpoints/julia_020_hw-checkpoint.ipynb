{
 "cells": [
  {
   "cell_type": "markdown",
   "metadata": {
    "colab_type": "text",
    "id": "EVPW4kLCmaSc"
   },
   "source": [
    "## Day 20 作業：將 missing 值替代為其他值\n",
    "\n",
    "由於現實世界中的資料可能有缺漏，因此資料中就會有 missing 值存在，而在資料科學及機器學習中，缺漏值的處理關係到分析或預測的結果。\n",
    "\n",
    "在今天的作業中，請將資料集中的年齡缺漏值，依性別分別替換為資料集中男性或女性的年齡平均值。\n",
    "\n",
    "本次作業使用的資料集：Kaggle Titanic: Machine Learning from Disaster 的 train 資料集\n",
    "\n",
    "競賽主頁：[https://www.kaggle.com/c/titanic/overview](https://www.kaggle.com/c/titanic/overview)\n",
    "\n",
    "請自行下載資料集 **train.csv**：[https://www.kaggle.com/c/titanic/data](https://www.kaggle.com/c/titanic/data)"
   ]
  },
  {
   "cell_type": "code",
   "execution_count": 1,
   "metadata": {
    "colab": {},
    "colab_type": "code",
    "id": "eeWlfZJSmaSe"
   },
   "outputs": [],
   "source": [
    "using DataFrames, CSV"
   ]
  },
  {
   "cell_type": "code",
   "execution_count": 2,
   "metadata": {
    "colab": {},
    "colab_type": "code",
    "id": "IkfIcUkjmaTS",
    "outputId": "7c455008-ef6c-410c-a8ba-1ad7c6edbb2d"
   },
   "outputs": [
    {
     "data": {
      "text/html": [
       "<table class=\"data-frame\"><thead><tr><th></th><th>PassengerId</th><th>Survived</th><th>Pclass</th><th>Name</th></tr><tr><th></th><th>Int64</th><th>Int64</th><th>Int64</th><th>String</th></tr></thead><tbody><p>891 rows × 12 columns (omitted printing of 8 columns)</p><tr><th>1</th><td>1</td><td>0</td><td>3</td><td>Braund, Mr. Owen Harris</td></tr><tr><th>2</th><td>2</td><td>1</td><td>1</td><td>Cumings, Mrs. John Bradley (Florence Briggs Thayer)</td></tr><tr><th>3</th><td>3</td><td>1</td><td>3</td><td>Heikkinen, Miss. Laina</td></tr><tr><th>4</th><td>4</td><td>1</td><td>1</td><td>Futrelle, Mrs. Jacques Heath (Lily May Peel)</td></tr><tr><th>5</th><td>5</td><td>0</td><td>3</td><td>Allen, Mr. William Henry</td></tr><tr><th>6</th><td>6</td><td>0</td><td>3</td><td>Moran, Mr. James</td></tr><tr><th>7</th><td>7</td><td>0</td><td>1</td><td>McCarthy, Mr. Timothy J</td></tr><tr><th>8</th><td>8</td><td>0</td><td>3</td><td>Palsson, Master. Gosta Leonard</td></tr><tr><th>9</th><td>9</td><td>1</td><td>3</td><td>Johnson, Mrs. Oscar W (Elisabeth Vilhelmina Berg)</td></tr><tr><th>10</th><td>10</td><td>1</td><td>2</td><td>Nasser, Mrs. Nicholas (Adele Achem)</td></tr><tr><th>11</th><td>11</td><td>1</td><td>3</td><td>Sandstrom, Miss. Marguerite Rut</td></tr><tr><th>12</th><td>12</td><td>1</td><td>1</td><td>Bonnell, Miss. Elizabeth</td></tr><tr><th>13</th><td>13</td><td>0</td><td>3</td><td>Saundercock, Mr. William Henry</td></tr><tr><th>14</th><td>14</td><td>0</td><td>3</td><td>Andersson, Mr. Anders Johan</td></tr><tr><th>15</th><td>15</td><td>0</td><td>3</td><td>Vestrom, Miss. Hulda Amanda Adolfina</td></tr><tr><th>16</th><td>16</td><td>1</td><td>2</td><td>Hewlett, Mrs. (Mary D Kingcome) </td></tr><tr><th>17</th><td>17</td><td>0</td><td>3</td><td>Rice, Master. Eugene</td></tr><tr><th>18</th><td>18</td><td>1</td><td>2</td><td>Williams, Mr. Charles Eugene</td></tr><tr><th>19</th><td>19</td><td>0</td><td>3</td><td>Vander Planke, Mrs. Julius (Emelia Maria Vandemoortele)</td></tr><tr><th>20</th><td>20</td><td>1</td><td>3</td><td>Masselmani, Mrs. Fatima</td></tr><tr><th>21</th><td>21</td><td>0</td><td>2</td><td>Fynney, Mr. Joseph J</td></tr><tr><th>22</th><td>22</td><td>1</td><td>2</td><td>Beesley, Mr. Lawrence</td></tr><tr><th>23</th><td>23</td><td>1</td><td>3</td><td>McGowan, Miss. Anna \"Annie\"</td></tr><tr><th>24</th><td>24</td><td>1</td><td>1</td><td>Sloper, Mr. William Thompson</td></tr><tr><th>25</th><td>25</td><td>0</td><td>3</td><td>Palsson, Miss. Torborg Danira</td></tr><tr><th>26</th><td>26</td><td>1</td><td>3</td><td>Asplund, Mrs. Carl Oscar (Selma Augusta Emilia Johansson)</td></tr><tr><th>27</th><td>27</td><td>0</td><td>3</td><td>Emir, Mr. Farred Chehab</td></tr><tr><th>28</th><td>28</td><td>0</td><td>1</td><td>Fortune, Mr. Charles Alexander</td></tr><tr><th>29</th><td>29</td><td>1</td><td>3</td><td>O'Dwyer, Miss. Ellen \"Nellie\"</td></tr><tr><th>30</th><td>30</td><td>0</td><td>3</td><td>Todoroff, Mr. Lalio</td></tr><tr><th>&vellip;</th><td>&vellip;</td><td>&vellip;</td><td>&vellip;</td><td>&vellip;</td></tr></tbody></table>"
      ],
      "text/latex": [
       "\\begin{tabular}{r|ccccc}\n",
       "\t& PassengerId & Survived & Pclass & Name & \\\\\n",
       "\t\\hline\n",
       "\t& Int64 & Int64 & Int64 & String & \\\\\n",
       "\t\\hline\n",
       "\t1 & 1 & 0 & 3 & Braund, Mr. Owen Harris & $\\dots$ \\\\\n",
       "\t2 & 2 & 1 & 1 & Cumings, Mrs. John Bradley (Florence Briggs Thayer) & $\\dots$ \\\\\n",
       "\t3 & 3 & 1 & 3 & Heikkinen, Miss. Laina & $\\dots$ \\\\\n",
       "\t4 & 4 & 1 & 1 & Futrelle, Mrs. Jacques Heath (Lily May Peel) & $\\dots$ \\\\\n",
       "\t5 & 5 & 0 & 3 & Allen, Mr. William Henry & $\\dots$ \\\\\n",
       "\t6 & 6 & 0 & 3 & Moran, Mr. James & $\\dots$ \\\\\n",
       "\t7 & 7 & 0 & 1 & McCarthy, Mr. Timothy J & $\\dots$ \\\\\n",
       "\t8 & 8 & 0 & 3 & Palsson, Master. Gosta Leonard & $\\dots$ \\\\\n",
       "\t9 & 9 & 1 & 3 & Johnson, Mrs. Oscar W (Elisabeth Vilhelmina Berg) & $\\dots$ \\\\\n",
       "\t10 & 10 & 1 & 2 & Nasser, Mrs. Nicholas (Adele Achem) & $\\dots$ \\\\\n",
       "\t11 & 11 & 1 & 3 & Sandstrom, Miss. Marguerite Rut & $\\dots$ \\\\\n",
       "\t12 & 12 & 1 & 1 & Bonnell, Miss. Elizabeth & $\\dots$ \\\\\n",
       "\t13 & 13 & 0 & 3 & Saundercock, Mr. William Henry & $\\dots$ \\\\\n",
       "\t14 & 14 & 0 & 3 & Andersson, Mr. Anders Johan & $\\dots$ \\\\\n",
       "\t15 & 15 & 0 & 3 & Vestrom, Miss. Hulda Amanda Adolfina & $\\dots$ \\\\\n",
       "\t16 & 16 & 1 & 2 & Hewlett, Mrs. (Mary D Kingcome)  & $\\dots$ \\\\\n",
       "\t17 & 17 & 0 & 3 & Rice, Master. Eugene & $\\dots$ \\\\\n",
       "\t18 & 18 & 1 & 2 & Williams, Mr. Charles Eugene & $\\dots$ \\\\\n",
       "\t19 & 19 & 0 & 3 & Vander Planke, Mrs. Julius (Emelia Maria Vandemoortele) & $\\dots$ \\\\\n",
       "\t20 & 20 & 1 & 3 & Masselmani, Mrs. Fatima & $\\dots$ \\\\\n",
       "\t21 & 21 & 0 & 2 & Fynney, Mr. Joseph J & $\\dots$ \\\\\n",
       "\t22 & 22 & 1 & 2 & Beesley, Mr. Lawrence & $\\dots$ \\\\\n",
       "\t23 & 23 & 1 & 3 & McGowan, Miss. Anna \"Annie\" & $\\dots$ \\\\\n",
       "\t24 & 24 & 1 & 1 & Sloper, Mr. William Thompson & $\\dots$ \\\\\n",
       "\t25 & 25 & 0 & 3 & Palsson, Miss. Torborg Danira & $\\dots$ \\\\\n",
       "\t26 & 26 & 1 & 3 & Asplund, Mrs. Carl Oscar (Selma Augusta Emilia Johansson) & $\\dots$ \\\\\n",
       "\t27 & 27 & 0 & 3 & Emir, Mr. Farred Chehab & $\\dots$ \\\\\n",
       "\t28 & 28 & 0 & 1 & Fortune, Mr. Charles Alexander & $\\dots$ \\\\\n",
       "\t29 & 29 & 1 & 3 & O'Dwyer, Miss. Ellen \"Nellie\" & $\\dots$ \\\\\n",
       "\t30 & 30 & 0 & 3 & Todoroff, Mr. Lalio & $\\dots$ \\\\\n",
       "\t$\\dots$ & $\\dots$ & $\\dots$ & $\\dots$ & $\\dots$ &  \\\\\n",
       "\\end{tabular}\n"
      ],
      "text/plain": [
       "891×12 DataFrame. Omitted printing of 9 columns\n",
       "│ Row │ PassengerId │ Survived │ Pclass │\n",
       "│     │ \u001b[90mInt64\u001b[39m       │ \u001b[90mInt64\u001b[39m    │ \u001b[90mInt64\u001b[39m  │\n",
       "├─────┼─────────────┼──────────┼────────┤\n",
       "│ 1   │ 1           │ 0        │ 3      │\n",
       "│ 2   │ 2           │ 1        │ 1      │\n",
       "│ 3   │ 3           │ 1        │ 3      │\n",
       "│ 4   │ 4           │ 1        │ 1      │\n",
       "│ 5   │ 5           │ 0        │ 3      │\n",
       "│ 6   │ 6           │ 0        │ 3      │\n",
       "│ 7   │ 7           │ 0        │ 1      │\n",
       "│ 8   │ 8           │ 0        │ 3      │\n",
       "│ 9   │ 9           │ 1        │ 3      │\n",
       "│ 10  │ 10          │ 1        │ 2      │\n",
       "⋮\n",
       "│ 881 │ 881         │ 1        │ 2      │\n",
       "│ 882 │ 882         │ 0        │ 3      │\n",
       "│ 883 │ 883         │ 0        │ 3      │\n",
       "│ 884 │ 884         │ 0        │ 2      │\n",
       "│ 885 │ 885         │ 0        │ 3      │\n",
       "│ 886 │ 886         │ 0        │ 3      │\n",
       "│ 887 │ 887         │ 0        │ 2      │\n",
       "│ 888 │ 888         │ 1        │ 1      │\n",
       "│ 889 │ 889         │ 0        │ 3      │\n",
       "│ 890 │ 890         │ 1        │ 1      │\n",
       "│ 891 │ 891         │ 0        │ 3      │"
      ]
     },
     "execution_count": 2,
     "metadata": {},
     "output_type": "execute_result"
    }
   ],
   "source": [
    "df = CSV.read(\"train.csv\")"
   ]
  },
  {
   "cell_type": "code",
   "execution_count": 3,
   "metadata": {},
   "outputs": [
    {
     "data": {
      "text/plain": [
       "DataFrame"
      ]
     },
     "execution_count": 3,
     "metadata": {},
     "output_type": "execute_result"
    }
   ],
   "source": [
    "typeof(df)"
   ]
  },
  {
   "cell_type": "code",
   "execution_count": 4,
   "metadata": {
    "colab": {},
    "colab_type": "code",
    "id": "otCGP_AtmaTm",
    "outputId": "3ff0bb8d-1103-47d8-fe43-47f18622f8c5"
   },
   "outputs": [
    {
     "data": {
      "text/plain": [
       "(891, 12)"
      ]
     },
     "execution_count": 4,
     "metadata": {},
     "output_type": "execute_result"
    }
   ],
   "source": [
    "size(df)"
   ]
  },
  {
   "cell_type": "markdown",
   "metadata": {
    "colab_type": "text",
    "id": "3JwkiUhYmaT5"
   },
   "source": [
    "呼叫 `describe()` 函式時，加上 `:nmissing` 參數，顯示各 column 的 missing 值數目。\n",
    "\n",
    "可以看到 Age 共有 177 個缺漏值。"
   ]
  },
  {
   "cell_type": "code",
   "execution_count": 5,
   "metadata": {
    "colab": {},
    "colab_type": "code",
    "id": "QWT4tm45maT7",
    "outputId": "d0c6a1ae-b249-4a32-9284-c3ffd4910b96"
   },
   "outputs": [
    {
     "data": {
      "text/html": [
       "<table class=\"data-frame\"><thead><tr><th></th><th>variable</th><th>nmissing</th></tr><tr><th></th><th>Symbol</th><th>Union…</th></tr></thead><tbody><p>12 rows × 2 columns</p><tr><th>1</th><td>PassengerId</td><td></td></tr><tr><th>2</th><td>Survived</td><td></td></tr><tr><th>3</th><td>Pclass</td><td></td></tr><tr><th>4</th><td>Name</td><td></td></tr><tr><th>5</th><td>Sex</td><td></td></tr><tr><th>6</th><td>Age</td><td>177</td></tr><tr><th>7</th><td>SibSp</td><td></td></tr><tr><th>8</th><td>Parch</td><td></td></tr><tr><th>9</th><td>Ticket</td><td></td></tr><tr><th>10</th><td>Fare</td><td></td></tr><tr><th>11</th><td>Cabin</td><td>687</td></tr><tr><th>12</th><td>Embarked</td><td>2</td></tr></tbody></table>"
      ],
      "text/latex": [
       "\\begin{tabular}{r|cc}\n",
       "\t& variable & nmissing\\\\\n",
       "\t\\hline\n",
       "\t& Symbol & Union…\\\\\n",
       "\t\\hline\n",
       "\t1 & PassengerId &  \\\\\n",
       "\t2 & Survived &  \\\\\n",
       "\t3 & Pclass &  \\\\\n",
       "\t4 & Name &  \\\\\n",
       "\t5 & Sex &  \\\\\n",
       "\t6 & Age & 177 \\\\\n",
       "\t7 & SibSp &  \\\\\n",
       "\t8 & Parch &  \\\\\n",
       "\t9 & Ticket &  \\\\\n",
       "\t10 & Fare &  \\\\\n",
       "\t11 & Cabin & 687 \\\\\n",
       "\t12 & Embarked & 2 \\\\\n",
       "\\end{tabular}\n"
      ],
      "text/plain": [
       "12×2 DataFrame\n",
       "│ Row │ variable    │ nmissing │\n",
       "│     │ \u001b[90mSymbol\u001b[39m      │ \u001b[90mUnion…\u001b[39m   │\n",
       "├─────┼─────────────┼──────────┤\n",
       "│ 1   │ PassengerId │          │\n",
       "│ 2   │ Survived    │          │\n",
       "│ 3   │ Pclass      │          │\n",
       "│ 4   │ Name        │          │\n",
       "│ 5   │ Sex         │          │\n",
       "│ 6   │ Age         │ 177      │\n",
       "│ 7   │ SibSp       │          │\n",
       "│ 8   │ Parch       │          │\n",
       "│ 9   │ Ticket      │          │\n",
       "│ 10  │ Fare        │          │\n",
       "│ 11  │ Cabin       │ 687      │\n",
       "│ 12  │ Embarked    │ 2        │"
      ]
     },
     "execution_count": 5,
     "metadata": {},
     "output_type": "execute_result"
    }
   ],
   "source": [
    "describe(df, :nmissing)"
   ]
  },
  {
   "cell_type": "markdown",
   "metadata": {
    "colab_type": "text",
    "id": "feAkzNA-maUC"
   },
   "source": [
    "計算男性及女性的平均年齡。\n",
    "\n",
    "【提示】使用 `skipmissing()` 去掉缺漏值後，再計算平均值。"
   ]
  },
  {
   "cell_type": "code",
   "execution_count": 6,
   "metadata": {
    "colab": {},
    "colab_type": "code",
    "id": "wRiM0Gq_maUD"
   },
   "outputs": [],
   "source": [
    "using Statistics"
   ]
  },
  {
   "cell_type": "code",
   "execution_count": 7,
   "metadata": {},
   "outputs": [
    {
     "data": {
      "text/plain": [
       "12-element Array{Symbol,1}:\n",
       " :PassengerId\n",
       " :Survived\n",
       " :Pclass\n",
       " :Name\n",
       " :Sex\n",
       " :Age\n",
       " :SibSp\n",
       " :Parch\n",
       " :Ticket\n",
       " :Fare\n",
       " :Cabin\n",
       " :Embarked"
      ]
     },
     "execution_count": 7,
     "metadata": {},
     "output_type": "execute_result"
    }
   ],
   "source": [
    "names(df)"
   ]
  },
  {
   "cell_type": "code",
   "execution_count": 8,
   "metadata": {
    "colab": {},
    "colab_type": "code",
    "id": "54yYKzADmaUM"
   },
   "outputs": [
    {
     "data": {
      "text/plain": [
       "30.72664459161148"
      ]
     },
     "execution_count": 8,
     "metadata": {},
     "output_type": "execute_result"
    }
   ],
   "source": [
    "isfemale = occursin.(\"female\",df.Sex);\n",
    "ismale =Not(isfemale);\n",
    "male_age_avg = mean(skipmissing(df.Age[ismale]))# 請輸入程式碼"
   ]
  },
  {
   "cell_type": "code",
   "execution_count": 9,
   "metadata": {
    "colab": {},
    "colab_type": "code",
    "id": "4w92N00-maUT"
   },
   "outputs": [
    {
     "data": {
      "text/plain": [
       "27.915708812260537"
      ]
     },
     "execution_count": 9,
     "metadata": {},
     "output_type": "execute_result"
    }
   ],
   "source": [
    "female_age_avg = mean(skipmissing(df.Age[isfemale]))# 請輸入程式碼# 請輸入程式碼"
   ]
  },
  {
   "cell_type": "markdown",
   "metadata": {
    "colab_type": "text",
    "id": "-O9fseP7maUa"
   },
   "source": [
    "將 Age column 中的 missing 值，依性別替換為上面計算出來的平均年齡值。\n",
    "\n",
    "【提示】可產生新的 column 來存放新的結果，而不取代掉原先的 Age column。"
   ]
  },
  {
   "cell_type": "code",
   "execution_count": 10,
   "metadata": {},
   "outputs": [
    {
     "data": {
      "text/html": [
       "<table class=\"data-frame\"><thead><tr><th></th><th>PassengerId</th><th>Survived</th><th>Pclass</th><th>Name</th></tr><tr><th></th><th>Int64</th><th>Int64</th><th>Int64</th><th>String</th></tr></thead><tbody><p>891 rows × 12 columns (omitted printing of 8 columns)</p><tr><th>1</th><td>1</td><td>0</td><td>3</td><td>Braund, Mr. Owen Harris</td></tr><tr><th>2</th><td>2</td><td>1</td><td>1</td><td>Cumings, Mrs. John Bradley (Florence Briggs Thayer)</td></tr><tr><th>3</th><td>3</td><td>1</td><td>3</td><td>Heikkinen, Miss. Laina</td></tr><tr><th>4</th><td>4</td><td>1</td><td>1</td><td>Futrelle, Mrs. Jacques Heath (Lily May Peel)</td></tr><tr><th>5</th><td>5</td><td>0</td><td>3</td><td>Allen, Mr. William Henry</td></tr><tr><th>6</th><td>6</td><td>0</td><td>3</td><td>Moran, Mr. James</td></tr><tr><th>7</th><td>7</td><td>0</td><td>1</td><td>McCarthy, Mr. Timothy J</td></tr><tr><th>8</th><td>8</td><td>0</td><td>3</td><td>Palsson, Master. Gosta Leonard</td></tr><tr><th>9</th><td>9</td><td>1</td><td>3</td><td>Johnson, Mrs. Oscar W (Elisabeth Vilhelmina Berg)</td></tr><tr><th>10</th><td>10</td><td>1</td><td>2</td><td>Nasser, Mrs. Nicholas (Adele Achem)</td></tr><tr><th>11</th><td>11</td><td>1</td><td>3</td><td>Sandstrom, Miss. Marguerite Rut</td></tr><tr><th>12</th><td>12</td><td>1</td><td>1</td><td>Bonnell, Miss. Elizabeth</td></tr><tr><th>13</th><td>13</td><td>0</td><td>3</td><td>Saundercock, Mr. William Henry</td></tr><tr><th>14</th><td>14</td><td>0</td><td>3</td><td>Andersson, Mr. Anders Johan</td></tr><tr><th>15</th><td>15</td><td>0</td><td>3</td><td>Vestrom, Miss. Hulda Amanda Adolfina</td></tr><tr><th>16</th><td>16</td><td>1</td><td>2</td><td>Hewlett, Mrs. (Mary D Kingcome) </td></tr><tr><th>17</th><td>17</td><td>0</td><td>3</td><td>Rice, Master. Eugene</td></tr><tr><th>18</th><td>18</td><td>1</td><td>2</td><td>Williams, Mr. Charles Eugene</td></tr><tr><th>19</th><td>19</td><td>0</td><td>3</td><td>Vander Planke, Mrs. Julius (Emelia Maria Vandemoortele)</td></tr><tr><th>20</th><td>20</td><td>1</td><td>3</td><td>Masselmani, Mrs. Fatima</td></tr><tr><th>21</th><td>21</td><td>0</td><td>2</td><td>Fynney, Mr. Joseph J</td></tr><tr><th>22</th><td>22</td><td>1</td><td>2</td><td>Beesley, Mr. Lawrence</td></tr><tr><th>23</th><td>23</td><td>1</td><td>3</td><td>McGowan, Miss. Anna \"Annie\"</td></tr><tr><th>24</th><td>24</td><td>1</td><td>1</td><td>Sloper, Mr. William Thompson</td></tr><tr><th>25</th><td>25</td><td>0</td><td>3</td><td>Palsson, Miss. Torborg Danira</td></tr><tr><th>26</th><td>26</td><td>1</td><td>3</td><td>Asplund, Mrs. Carl Oscar (Selma Augusta Emilia Johansson)</td></tr><tr><th>27</th><td>27</td><td>0</td><td>3</td><td>Emir, Mr. Farred Chehab</td></tr><tr><th>28</th><td>28</td><td>0</td><td>1</td><td>Fortune, Mr. Charles Alexander</td></tr><tr><th>29</th><td>29</td><td>1</td><td>3</td><td>O'Dwyer, Miss. Ellen \"Nellie\"</td></tr><tr><th>30</th><td>30</td><td>0</td><td>3</td><td>Todoroff, Mr. Lalio</td></tr><tr><th>&vellip;</th><td>&vellip;</td><td>&vellip;</td><td>&vellip;</td><td>&vellip;</td></tr></tbody></table>"
      ],
      "text/latex": [
       "\\begin{tabular}{r|ccccc}\n",
       "\t& PassengerId & Survived & Pclass & Name & \\\\\n",
       "\t\\hline\n",
       "\t& Int64 & Int64 & Int64 & String & \\\\\n",
       "\t\\hline\n",
       "\t1 & 1 & 0 & 3 & Braund, Mr. Owen Harris & $\\dots$ \\\\\n",
       "\t2 & 2 & 1 & 1 & Cumings, Mrs. John Bradley (Florence Briggs Thayer) & $\\dots$ \\\\\n",
       "\t3 & 3 & 1 & 3 & Heikkinen, Miss. Laina & $\\dots$ \\\\\n",
       "\t4 & 4 & 1 & 1 & Futrelle, Mrs. Jacques Heath (Lily May Peel) & $\\dots$ \\\\\n",
       "\t5 & 5 & 0 & 3 & Allen, Mr. William Henry & $\\dots$ \\\\\n",
       "\t6 & 6 & 0 & 3 & Moran, Mr. James & $\\dots$ \\\\\n",
       "\t7 & 7 & 0 & 1 & McCarthy, Mr. Timothy J & $\\dots$ \\\\\n",
       "\t8 & 8 & 0 & 3 & Palsson, Master. Gosta Leonard & $\\dots$ \\\\\n",
       "\t9 & 9 & 1 & 3 & Johnson, Mrs. Oscar W (Elisabeth Vilhelmina Berg) & $\\dots$ \\\\\n",
       "\t10 & 10 & 1 & 2 & Nasser, Mrs. Nicholas (Adele Achem) & $\\dots$ \\\\\n",
       "\t11 & 11 & 1 & 3 & Sandstrom, Miss. Marguerite Rut & $\\dots$ \\\\\n",
       "\t12 & 12 & 1 & 1 & Bonnell, Miss. Elizabeth & $\\dots$ \\\\\n",
       "\t13 & 13 & 0 & 3 & Saundercock, Mr. William Henry & $\\dots$ \\\\\n",
       "\t14 & 14 & 0 & 3 & Andersson, Mr. Anders Johan & $\\dots$ \\\\\n",
       "\t15 & 15 & 0 & 3 & Vestrom, Miss. Hulda Amanda Adolfina & $\\dots$ \\\\\n",
       "\t16 & 16 & 1 & 2 & Hewlett, Mrs. (Mary D Kingcome)  & $\\dots$ \\\\\n",
       "\t17 & 17 & 0 & 3 & Rice, Master. Eugene & $\\dots$ \\\\\n",
       "\t18 & 18 & 1 & 2 & Williams, Mr. Charles Eugene & $\\dots$ \\\\\n",
       "\t19 & 19 & 0 & 3 & Vander Planke, Mrs. Julius (Emelia Maria Vandemoortele) & $\\dots$ \\\\\n",
       "\t20 & 20 & 1 & 3 & Masselmani, Mrs. Fatima & $\\dots$ \\\\\n",
       "\t21 & 21 & 0 & 2 & Fynney, Mr. Joseph J & $\\dots$ \\\\\n",
       "\t22 & 22 & 1 & 2 & Beesley, Mr. Lawrence & $\\dots$ \\\\\n",
       "\t23 & 23 & 1 & 3 & McGowan, Miss. Anna \"Annie\" & $\\dots$ \\\\\n",
       "\t24 & 24 & 1 & 1 & Sloper, Mr. William Thompson & $\\dots$ \\\\\n",
       "\t25 & 25 & 0 & 3 & Palsson, Miss. Torborg Danira & $\\dots$ \\\\\n",
       "\t26 & 26 & 1 & 3 & Asplund, Mrs. Carl Oscar (Selma Augusta Emilia Johansson) & $\\dots$ \\\\\n",
       "\t27 & 27 & 0 & 3 & Emir, Mr. Farred Chehab & $\\dots$ \\\\\n",
       "\t28 & 28 & 0 & 1 & Fortune, Mr. Charles Alexander & $\\dots$ \\\\\n",
       "\t29 & 29 & 1 & 3 & O'Dwyer, Miss. Ellen \"Nellie\" & $\\dots$ \\\\\n",
       "\t30 & 30 & 0 & 3 & Todoroff, Mr. Lalio & $\\dots$ \\\\\n",
       "\t$\\dots$ & $\\dots$ & $\\dots$ & $\\dots$ & $\\dots$ &  \\\\\n",
       "\\end{tabular}\n"
      ],
      "text/plain": [
       "891×12 DataFrame. Omitted printing of 9 columns\n",
       "│ Row │ PassengerId │ Survived │ Pclass │\n",
       "│     │ \u001b[90mInt64\u001b[39m       │ \u001b[90mInt64\u001b[39m    │ \u001b[90mInt64\u001b[39m  │\n",
       "├─────┼─────────────┼──────────┼────────┤\n",
       "│ 1   │ 1           │ 0        │ 3      │\n",
       "│ 2   │ 2           │ 1        │ 1      │\n",
       "│ 3   │ 3           │ 1        │ 3      │\n",
       "│ 4   │ 4           │ 1        │ 1      │\n",
       "│ 5   │ 5           │ 0        │ 3      │\n",
       "│ 6   │ 6           │ 0        │ 3      │\n",
       "│ 7   │ 7           │ 0        │ 1      │\n",
       "│ 8   │ 8           │ 0        │ 3      │\n",
       "│ 9   │ 9           │ 1        │ 3      │\n",
       "│ 10  │ 10          │ 1        │ 2      │\n",
       "⋮\n",
       "│ 881 │ 881         │ 1        │ 2      │\n",
       "│ 882 │ 882         │ 0        │ 3      │\n",
       "│ 883 │ 883         │ 0        │ 3      │\n",
       "│ 884 │ 884         │ 0        │ 2      │\n",
       "│ 885 │ 885         │ 0        │ 3      │\n",
       "│ 886 │ 886         │ 0        │ 3      │\n",
       "│ 887 │ 887         │ 0        │ 2      │\n",
       "│ 888 │ 888         │ 1        │ 1      │\n",
       "│ 889 │ 889         │ 0        │ 3      │\n",
       "│ 890 │ 890         │ 1        │ 1      │\n",
       "│ 891 │ 891         │ 0        │ 3      │"
      ]
     },
     "execution_count": 10,
     "metadata": {},
     "output_type": "execute_result"
    }
   ],
   "source": [
    "df = df |> DataFrame"
   ]
  },
  {
   "cell_type": "code",
   "execution_count": 11,
   "metadata": {
    "colab": {},
    "colab_type": "code",
    "id": "UEtMiJrOmaUb"
   },
   "outputs": [
    {
     "data": {
      "text/plain": [
       "577-element Array{Float64,1}:\n",
       " 22.0\n",
       " 35.0\n",
       " 30.72664459161148\n",
       " 54.0\n",
       "  2.0\n",
       " 20.0\n",
       " 39.0\n",
       "  2.0\n",
       " 30.72664459161148\n",
       " 35.0\n",
       " 34.0\n",
       " 28.0\n",
       " 30.72664459161148\n",
       "  ⋮\n",
       " 26.0\n",
       " 33.0\n",
       " 47.0\n",
       " 20.0\n",
       " 19.0\n",
       " 30.72664459161148\n",
       " 33.0\n",
       " 28.0\n",
       " 25.0\n",
       " 27.0\n",
       " 26.0\n",
       " 32.0"
      ]
     },
     "execution_count": 11,
     "metadata": {},
     "output_type": "execute_result"
    }
   ],
   "source": [
    "# 請輸入程式碼\n",
    "df.Age2 = copy(df.Age)\n",
    "df.Age2[isfemale] = coalesce.(df.Age[isfemale],female_age_avg)\n",
    "df.Age2[ismale] = coalesce.(df.Age[ismale],male_age_avg)"
   ]
  },
  {
   "cell_type": "code",
   "execution_count": 12,
   "metadata": {},
   "outputs": [
    {
     "data": {
      "text/html": [
       "<table class=\"data-frame\"><thead><tr><th></th><th>variable</th><th>nmissing</th></tr><tr><th></th><th>Symbol</th><th>Union…</th></tr></thead><tbody><p>13 rows × 2 columns</p><tr><th>1</th><td>PassengerId</td><td></td></tr><tr><th>2</th><td>Survived</td><td></td></tr><tr><th>3</th><td>Pclass</td><td></td></tr><tr><th>4</th><td>Name</td><td></td></tr><tr><th>5</th><td>Sex</td><td></td></tr><tr><th>6</th><td>Age</td><td>177</td></tr><tr><th>7</th><td>SibSp</td><td></td></tr><tr><th>8</th><td>Parch</td><td></td></tr><tr><th>9</th><td>Ticket</td><td></td></tr><tr><th>10</th><td>Fare</td><td></td></tr><tr><th>11</th><td>Cabin</td><td>687</td></tr><tr><th>12</th><td>Embarked</td><td>2</td></tr><tr><th>13</th><td>Age2</td><td>0</td></tr></tbody></table>"
      ],
      "text/latex": [
       "\\begin{tabular}{r|cc}\n",
       "\t& variable & nmissing\\\\\n",
       "\t\\hline\n",
       "\t& Symbol & Union…\\\\\n",
       "\t\\hline\n",
       "\t1 & PassengerId &  \\\\\n",
       "\t2 & Survived &  \\\\\n",
       "\t3 & Pclass &  \\\\\n",
       "\t4 & Name &  \\\\\n",
       "\t5 & Sex &  \\\\\n",
       "\t6 & Age & 177 \\\\\n",
       "\t7 & SibSp &  \\\\\n",
       "\t8 & Parch &  \\\\\n",
       "\t9 & Ticket &  \\\\\n",
       "\t10 & Fare &  \\\\\n",
       "\t11 & Cabin & 687 \\\\\n",
       "\t12 & Embarked & 2 \\\\\n",
       "\t13 & Age2 & 0 \\\\\n",
       "\\end{tabular}\n"
      ],
      "text/plain": [
       "13×2 DataFrame\n",
       "│ Row │ variable    │ nmissing │\n",
       "│     │ \u001b[90mSymbol\u001b[39m      │ \u001b[90mUnion…\u001b[39m   │\n",
       "├─────┼─────────────┼──────────┤\n",
       "│ 1   │ PassengerId │          │\n",
       "│ 2   │ Survived    │          │\n",
       "│ 3   │ Pclass      │          │\n",
       "│ 4   │ Name        │          │\n",
       "│ 5   │ Sex         │          │\n",
       "│ 6   │ Age         │ 177      │\n",
       "│ 7   │ SibSp       │          │\n",
       "│ 8   │ Parch       │          │\n",
       "│ 9   │ Ticket      │          │\n",
       "│ 10  │ Fare        │          │\n",
       "│ 11  │ Cabin       │ 687      │\n",
       "│ 12  │ Embarked    │ 2        │\n",
       "│ 13  │ Age2        │ 0        │"
      ]
     },
     "execution_count": 12,
     "metadata": {},
     "output_type": "execute_result"
    }
   ],
   "source": [
    "describe(df, :nmissing)"
   ]
  }
 ],
 "metadata": {
  "colab": {
   "name": "julia_020_hw.ipynb",
   "provenance": []
  },
  "kernelspec": {
   "display_name": "Julia 1.4.0",
   "language": "julia",
   "name": "julia-1.4"
  },
  "language_info": {
   "file_extension": ".jl",
   "mimetype": "application/julia",
   "name": "julia",
   "version": "1.4.0"
  }
 },
 "nbformat": 4,
 "nbformat_minor": 1
}
