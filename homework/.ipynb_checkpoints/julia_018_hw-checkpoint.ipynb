{
 "cells": [
  {
   "cell_type": "markdown",
   "metadata": {
    "colab_type": "text",
    "id": "2X-9mXIwlD2v"
   },
   "source": [
    "# DataFrames.jl 介紹 (二): Joins 與 Split-Apply-Combine Strategy\n",
    "\n",
    "## Day 018 作業1：The Split-Apply-Combine Strategy\n",
    "\n",
    "同 Day 017，請載入 2020/4/2 COVID-19 Daily Report 資料集，計算每個國家/地區的累計確診人數，並列出所有資料筆數。"
   ]
  },
  {
   "cell_type": "code",
   "execution_count": 1,
   "metadata": {
    "colab": {},
    "colab_type": "code",
    "id": "jw9JRWRilD2w"
   },
   "outputs": [],
   "source": [
    "using DataFrames, CSV"
   ]
  },
  {
   "cell_type": "code",
   "execution_count": 5,
   "metadata": {
    "colab": {},
    "colab_type": "code",
    "id": "yYc3lmgzlD22",
    "outputId": "7b405ad5-8c9c-4214-b100-40a6f3febe51"
   },
   "outputs": [
    {
     "name": "stdout",
     "output_type": "stream",
     "text": [
      "DataFrameRow\n",
      "│ Row │ FIPS   │ Admin2    │ Province_State │ Country_Region │\n",
      "│     │ \u001b[90mInt64⍰\u001b[39m │ \u001b[90mString⍰\u001b[39m   │ \u001b[90mString⍰\u001b[39m        │ \u001b[90mString\u001b[39m         │\n",
      "├─────┼────────┼───────────┼────────────────┼────────────────┤\n",
      "│ 1   │ 45001  │ Abbeville │ South Carolina │ US             │\n",
      "\n",
      "│ Row │ Last_Update         │ Lat      │ Long_    │ Confirmed │ Deaths │\n",
      "│     │ \u001b[90mString\u001b[39m              │ \u001b[90mFloat64⍰\u001b[39m │ \u001b[90mFloat64⍰\u001b[39m │ \u001b[90mInt64\u001b[39m     │ \u001b[90mInt64\u001b[39m  │\n",
      "├─────┼─────────────────────┼──────────┼──────────┼───────────┼────────┤\n",
      "│ 1   │ 2020-04-02 23:25:27 │ 34.2233  │ -82.4617 │ 6         │ 0      │\n",
      "\n",
      "│ Row │ Recovered │ Active │ Combined_Key                  │\n",
      "│     │ \u001b[90mInt64\u001b[39m     │ \u001b[90mInt64\u001b[39m  │ \u001b[90mString\u001b[39m                        │\n",
      "├─────┼───────────┼────────┼───────────────────────────────┤\n",
      "│ 1   │ 0         │ 0      │ Abbeville, South Carolina, US │"
     ]
    }
   ],
   "source": [
    "df = CSV.read(\"04-02-2020.csv\")\n",
    "show(df[1,:],allcols = true)"
   ]
  },
  {
   "cell_type": "markdown",
   "metadata": {
    "colab_type": "text",
    "id": "Pw8WALcSlD28"
   },
   "source": [
    "計算計算每個國家/地區的累計確診人數\n",
    "\n",
    "【提示】可使用 groupby 相關的函式"
   ]
  },
  {
   "cell_type": "code",
   "execution_count": 7,
   "metadata": {
    "colab": {},
    "colab_type": "code",
    "id": "OPoCjf98lD29"
   },
   "outputs": [
    {
     "name": "stdout",
     "output_type": "stream",
     "text": [
      "181×2 DataFrame\n",
      "│ Row │ Country_Region       │ totalConfirmed │\n",
      "│     │ \u001b[90mString\u001b[39m               │ \u001b[90mInt64\u001b[39m          │\n",
      "├─────┼──────────────────────┼────────────────┤\n",
      "│ 1   │ US                   │ 243453         │\n",
      "│ 2   │ Canada               │ 11284          │\n",
      "│ 3   │ United Kingdom       │ 34173          │\n",
      "│ 4   │ China                │ 82432          │\n",
      "│ 5   │ Netherlands          │ 14788          │\n",
      "│ 6   │ Australia            │ 5116           │\n",
      "│ 7   │ Denmark              │ 3573           │\n",
      "│ 8   │ France               │ 59929          │\n",
      "│ 9   │ Afghanistan          │ 273            │\n",
      "│ 10  │ Albania              │ 277            │\n",
      "⋮\n",
      "│ 171 │ Turkey               │ 18135          │\n",
      "│ 172 │ Uganda               │ 45             │\n",
      "│ 173 │ Ukraine              │ 897            │\n",
      "│ 174 │ United Arab Emirates │ 1024           │\n",
      "│ 175 │ Uruguay              │ 350            │\n",
      "│ 176 │ Uzbekistan           │ 205            │\n",
      "│ 177 │ Venezuela            │ 146            │\n",
      "│ 178 │ Vietnam              │ 233            │\n",
      "│ 179 │ West Bank and Gaza   │ 161            │\n",
      "│ 180 │ Zambia               │ 39             │\n",
      "│ 181 │ Zimbabwe             │ 9              │"
     ]
    }
   ],
   "source": [
    "df2 = by(df,:Country_Region, totalConfirmed = :Confirmed => sum)\n",
    "show(df2)"
   ]
  },
  {
   "cell_type": "markdown",
   "metadata": {
    "colab_type": "text",
    "id": "2ye5nBbjlD3G"
   },
   "source": [
    "## 作業2：請列出美國各區域或事件 (依 Province_State 欄) 的累積確診、死亡、康復人數。\n",
    "\n",
    "【提示】使用 Split-Apply-Combine Strategy 時，有幾種不同的函式可以使用，請參照 `DataFrames.jl` 官方文件 [https://juliadata.github.io/DataFrames.jl/stable/lib/functions/#DataFrames.groupby](https://juliadata.github.io/DataFrames.jl/stable/lib/functions/#DataFrames.groupby)"
   ]
  },
  {
   "cell_type": "code",
   "execution_count": 30,
   "metadata": {
    "colab": {},
    "colab_type": "code",
    "id": "wDmhNGHWlD3H"
   },
   "outputs": [
    {
     "name": "stdout",
     "output_type": "stream",
     "text": [
      "Total 2312 rows are splitted into 58 groups\n"
     ]
    },
    {
     "data": {
      "text/html": [
       "<table class=\"data-frame\"><thead><tr><th></th><th>Province_State</th><th>totalComfirmed</th><th>totalDeaths</th></tr><tr><th></th><th>String⍰</th><th>Int64</th><th>Int64</th></tr></thead><tbody><p>58 rows × 3 columns</p><tr><th>1</th><td>South Carolina</td><td>1554</td><td>31</td></tr><tr><th>2</th><td>Louisiana</td><td>9159</td><td>310</td></tr><tr><th>3</th><td>Virginia</td><td>1706</td><td>41</td></tr><tr><th>4</th><td>Idaho</td><td>776</td><td>9</td></tr><tr><th>5</th><td>Iowa</td><td>614</td><td>11</td></tr><tr><th>6</th><td>Missouri</td><td>1857</td><td>22</td></tr><tr><th>7</th><td>Oklahoma</td><td>881</td><td>34</td></tr><tr><th>8</th><td>Colorado</td><td>3342</td><td>80</td></tr><tr><th>9</th><td>Illinois</td><td>7695</td><td>163</td></tr><tr><th>10</th><td>Indiana</td><td>3038</td><td>78</td></tr><tr><th>11</th><td>Mississippi</td><td>1177</td><td>26</td></tr><tr><th>12</th><td>Nebraska</td><td>246</td><td>5</td></tr><tr><th>13</th><td>Pennsylvania</td><td>7268</td><td>90</td></tr><tr><th>14</th><td>Washington</td><td>6389</td><td>271</td></tr><tr><th>15</th><td>Wisconsin</td><td>1748</td><td>38</td></tr><tr><th>16</th><td>Vermont</td><td>338</td><td>17</td></tr><tr><th>17</th><td>Florida</td><td>9008</td><td>164</td></tr><tr><th>18</th><td>North Carolina</td><td>1977</td><td>21</td></tr><tr><th>19</th><td>California</td><td>10773</td><td>238</td></tr><tr><th>20</th><td>New York</td><td>92506</td><td>2373</td></tr><tr><th>21</th><td>Wyoming</td><td>150</td><td>0</td></tr><tr><th>22</th><td>Michigan</td><td>10791</td><td>417</td></tr><tr><th>23</th><td>Maryland</td><td>2331</td><td>36</td></tr><tr><th>24</th><td>Kentucky</td><td>770</td><td>31</td></tr><tr><th>25</th><td>Ohio</td><td>2901</td><td>81</td></tr><tr><th>26</th><td>Alaska</td><td>143</td><td>3</td></tr><tr><th>27</th><td>Kansas</td><td>553</td><td>12</td></tr><tr><th>28</th><td>Tennessee</td><td>2845</td><td>36</td></tr><tr><th>29</th><td>Texas</td><td>5069</td><td>77</td></tr><tr><th>30</th><td>Maine</td><td>376</td><td>7</td></tr><tr><th>&vellip;</th><td>&vellip;</td><td>&vellip;</td><td>&vellip;</td></tr></tbody></table>"
      ],
      "text/latex": [
       "\\begin{tabular}{r|ccc}\n",
       "\t& Province\\_State & totalComfirmed & totalDeaths\\\\\n",
       "\t\\hline\n",
       "\t& String⍰ & Int64 & Int64\\\\\n",
       "\t\\hline\n",
       "\t1 & South Carolina & 1554 & 31 \\\\\n",
       "\t2 & Louisiana & 9159 & 310 \\\\\n",
       "\t3 & Virginia & 1706 & 41 \\\\\n",
       "\t4 & Idaho & 776 & 9 \\\\\n",
       "\t5 & Iowa & 614 & 11 \\\\\n",
       "\t6 & Missouri & 1857 & 22 \\\\\n",
       "\t7 & Oklahoma & 881 & 34 \\\\\n",
       "\t8 & Colorado & 3342 & 80 \\\\\n",
       "\t9 & Illinois & 7695 & 163 \\\\\n",
       "\t10 & Indiana & 3038 & 78 \\\\\n",
       "\t11 & Mississippi & 1177 & 26 \\\\\n",
       "\t12 & Nebraska & 246 & 5 \\\\\n",
       "\t13 & Pennsylvania & 7268 & 90 \\\\\n",
       "\t14 & Washington & 6389 & 271 \\\\\n",
       "\t15 & Wisconsin & 1748 & 38 \\\\\n",
       "\t16 & Vermont & 338 & 17 \\\\\n",
       "\t17 & Florida & 9008 & 164 \\\\\n",
       "\t18 & North Carolina & 1977 & 21 \\\\\n",
       "\t19 & California & 10773 & 238 \\\\\n",
       "\t20 & New York & 92506 & 2373 \\\\\n",
       "\t21 & Wyoming & 150 & 0 \\\\\n",
       "\t22 & Michigan & 10791 & 417 \\\\\n",
       "\t23 & Maryland & 2331 & 36 \\\\\n",
       "\t24 & Kentucky & 770 & 31 \\\\\n",
       "\t25 & Ohio & 2901 & 81 \\\\\n",
       "\t26 & Alaska & 143 & 3 \\\\\n",
       "\t27 & Kansas & 553 & 12 \\\\\n",
       "\t28 & Tennessee & 2845 & 36 \\\\\n",
       "\t29 & Texas & 5069 & 77 \\\\\n",
       "\t30 & Maine & 376 & 7 \\\\\n",
       "\t$\\dots$ & $\\dots$ & $\\dots$ & $\\dots$ \\\\\n",
       "\\end{tabular}\n"
      ],
      "text/plain": [
       "58×3 DataFrame\n",
       "│ Row │ Province_State           │ totalComfirmed │ totalDeaths │\n",
       "│     │ \u001b[90mUnion{Missing, String}\u001b[39m   │ \u001b[90mInt64\u001b[39m          │ \u001b[90mInt64\u001b[39m       │\n",
       "├─────┼──────────────────────────┼────────────────┼─────────────┤\n",
       "│ 1   │ South Carolina           │ 1554           │ 31          │\n",
       "│ 2   │ Louisiana                │ 9159           │ 310         │\n",
       "│ 3   │ Virginia                 │ 1706           │ 41          │\n",
       "│ 4   │ Idaho                    │ 776            │ 9           │\n",
       "│ 5   │ Iowa                     │ 614            │ 11          │\n",
       "│ 6   │ Missouri                 │ 1857           │ 22          │\n",
       "│ 7   │ Oklahoma                 │ 881            │ 34          │\n",
       "│ 8   │ Colorado                 │ 3342           │ 80          │\n",
       "│ 9   │ Illinois                 │ 7695           │ 163         │\n",
       "│ 10  │ Indiana                  │ 3038           │ 78          │\n",
       "⋮\n",
       "│ 48  │ District of Columbia     │ 653            │ 12          │\n",
       "│ 49  │ Connecticut              │ 3824           │ 112         │\n",
       "│ 50  │ Hawaii                   │ 256            │ 1           │\n",
       "│ 51  │ Delaware                 │ 393            │ 12          │\n",
       "│ 52  │ Diamond Princess         │ 49             │ 0           │\n",
       "│ 53  │ Grand Princess           │ 103            │ 3           │\n",
       "│ 54  │ Guam                     │ 82             │ 3           │\n",
       "│ 55  │ Northern Mariana Islands │ 6              │ 1           │\n",
       "│ 56  │ Puerto Rico              │ 316            │ 12          │\n",
       "│ 57  │ Recovered                │ 0              │ 0           │\n",
       "│ 58  │ Virgin Islands           │ 30             │ 0           │"
      ]
     },
     "execution_count": 30,
     "metadata": {},
     "output_type": "execute_result"
    }
   ],
   "source": [
    "df_US = filter(x -> x.Country_Region == \"US\", df);\n",
    "gp = groupby(df_US,:Province_State);\n",
    "println(\"Total $(size(df_US,1)) rows are splitted into $(length(gp)) groups\")  # number of groups\n",
    "by(df_US, :Province_State; totalComfirmed = :Confirmed => sum, totalDeaths = :Deaths => sum)"
   ]
  }
 ],
 "metadata": {
  "colab": {
   "name": "julia_018_hw.ipynb",
   "provenance": []
  },
  "kernelspec": {
   "display_name": "Julia 1.4.0",
   "language": "julia",
   "name": "julia-1.4"
  },
  "language_info": {
   "file_extension": ".jl",
   "mimetype": "application/julia",
   "name": "julia",
   "version": "1.4.0"
  }
 },
 "nbformat": 4,
 "nbformat_minor": 1
}
