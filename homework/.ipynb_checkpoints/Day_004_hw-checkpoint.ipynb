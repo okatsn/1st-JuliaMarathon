{
 "cells": [
  {
   "cell_type": "markdown",
   "metadata": {},
   "source": [
    "# Julia 數值系統介紹\n",
    "\n",
    "## Day 004 作業\n",
    "\n",
    "今天的內容提到整數及浮點數型別之最小值和最大值：\n",
    "\n",
    "|是否有正負號|型別|<div style=\"width:120px\">最大值</div>|<div style=\"width:120px\">最小值</div>|\n",
    "|---|---|---|---|\n",
    "|有|Int128, Int64, Int32, Int16, Int8|$2^{位元數-1}-1$|$-2^{位元數-1}$|\n",
    "|無|UInt128, UInt64, UInt32, UInt16, UInt8|$2^{位元數}-1$|$0$|\n",
    "\n",
    "|型別|最小值|最大值|\n",
    "|---|---|---|\n",
    "|`Float64`|-Inf|Inf|\n",
    "|`Float32`|-Inf 或 -Inf32|Inf 或 Inf32|\n",
    "|`Float16`|-Inf 或 -Inf16|Inf 或 Inf16|\n",
    "\n",
    "### 作業：範例程式示範了 Int64 及 Float64 的最小值和最大值，作業請列出並觀察其他整數及浮點數型別的最小值和最大值。"
   ]
  },
  {
   "cell_type": "markdown",
   "metadata": {},
   "source": [
    "呼叫 `typemin()` 及 `typemax()` 函式得到各型別的最小值和最大值。\n",
    "\n",
    "列出 Int128, Int32, Int16, Int8, UInt128, UInt64, UInt32, UInt16, UInt8 整數型別的最小值及最大值"
   ]
  },
  {
   "cell_type": "code",
   "execution_count": 20,
   "metadata": {
    "scrolled": false
   },
   "outputs": [
    {
     "data": {
      "text/plain": [
       "9-element Array{DataType,1}:\n",
       " Int128\n",
       " Int32\n",
       " Int16\n",
       " Int8\n",
       " UInt128\n",
       " UInt64\n",
       " UInt32\n",
       " UInt16\n",
       " UInt8"
      ]
     },
     "execution_count": 20,
     "metadata": {},
     "output_type": "execute_result"
    }
   ],
   "source": [
    "types = [Int128, Int32, Int16, Int8, UInt128, UInt64, UInt32, UInt16, UInt8]"
   ]
  },
  {
   "cell_type": "code",
   "execution_count": 21,
   "metadata": {},
   "outputs": [
    {
     "name": "stdout",
     "output_type": "stream",
     "text": [
      "Int128   : 最小值-170141183460469231731687303715884105728; 最大值170141183460469231731687303715884105727\n",
      "Int32    : 最小值-2147483648; 最大值2147483647\n",
      "Int16    : 最小值-32768; 最大值32767\n",
      "Int8     : 最小值-128; 最大值127\n",
      "UInt128  : 最小值0; 最大值340282366920938463463374607431768211455\n",
      "UInt64   : 最小值0; 最大值18446744073709551615\n",
      "UInt32   : 最小值0; 最大值4294967295\n",
      "UInt16   : 最小值0; 最大值65535\n",
      "UInt8    : 最小值0; 最大值255\n"
     ]
    }
   ],
   "source": [
    "for i = 1:length(types) \n",
    "    type_i = types[i];\n",
    "    println(\"$(rpad(type_i,9)): 最小值$(typemin(type_i)); 最大值$(typemax(type_i))\")\n",
    "end"
   ]
  },
  {
   "cell_type": "markdown",
   "metadata": {},
   "source": [
    "列出 Float32, Float16 浮點數型別的最小和最大值"
   ]
  },
  {
   "cell_type": "code",
   "execution_count": 19,
   "metadata": {},
   "outputs": [
    {
     "name": "stdout",
     "output_type": "stream",
     "text": [
      "Float32  : 最小值-Inf; 最大值Inf\n",
      "Float16  : 最小值-Inf; 最大值Inf\n"
     ]
    }
   ],
   "source": [
    "types_2 = [Float32, Float16]\n",
    "for i = 1:length(types_2) \n",
    "    type_i = types_2[i];\n",
    "    println(\"$(rpad(type_i,9)): 最小值$(typemin(type_i)); 最大值$(typemax(type_i))\")\n",
    "end"
   ]
  },
  {
   "cell_type": "code",
   "execution_count": null,
   "metadata": {},
   "outputs": [],
   "source": []
  }
 ],
 "metadata": {
  "@webio": {
   "lastCommId": null,
   "lastKernelId": null
  },
  "kernelspec": {
   "display_name": "Julia 1.4.0",
   "language": "julia",
   "name": "julia-1.4"
  },
  "language_info": {
   "file_extension": ".jl",
   "mimetype": "application/julia",
   "name": "julia",
   "version": "1.4.0"
  }
 },
 "nbformat": 4,
 "nbformat_minor": 4
}
