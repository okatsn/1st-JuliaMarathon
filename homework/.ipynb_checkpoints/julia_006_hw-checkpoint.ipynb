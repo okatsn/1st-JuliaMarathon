{
 "cells": [
  {
   "cell_type": "markdown",
   "metadata": {
    "colab_type": "text",
    "id": "xGRRA-qCa1ug"
   },
   "source": [
    "# Julia 函式 (Functions)\n",
    "\n",
    "## 作業 006：身高體重指數 (Body Mass Index; BMI) 計算機\n",
    "\n",
    "身高體重指數 (Body Mass Index; BMI) 是我們常用來衡量健康的指標之一，例如肥胖是否為某一種疾病的致病原因。請用 Julia 函式撰寫 BMI 計算公式，並呼叫函式計算 BMI 值。\n",
    "\n",
    "BMI 計算公式：\n",
    "$$BMI=\\frac{體重}{身高^2}$$\n",
    "其中體重的單位為公斤，身高的單位為公尺。"
   ]
  },
  {
   "cell_type": "code",
   "execution_count": 3,
   "metadata": {
    "colab": {},
    "colab_type": "code",
    "id": "0ENgBuhna1uj"
   },
   "outputs": [
    {
     "data": {
      "text/plain": [
       "calc_BMI (generic function with 1 method)"
      ]
     },
     "execution_count": 3,
     "metadata": {},
     "output_type": "execute_result"
    }
   ],
   "source": [
    "# 定義函式，並在函式中計算 BMI\n",
    "function calc_BMI(height,weight)\n",
    "    BMI = weight/height^2\n",
    "end\n"
   ]
  },
  {
   "cell_type": "code",
   "execution_count": 4,
   "metadata": {
    "colab": {},
    "colab_type": "code",
    "id": "HjjZi9l8a1up"
   },
   "outputs": [
    {
     "data": {
      "text/plain": [
       "18.827160493827158"
      ]
     },
     "execution_count": 4,
     "metadata": {},
     "output_type": "execute_result"
    }
   ],
   "source": [
    "# 呼叫上面定義的函式，得到計算出來的 BMI\n",
    "calc_BMI(1.8, 61)"
   ]
  },
  {
   "cell_type": "code",
   "execution_count": 5,
   "metadata": {
    "colab": {},
    "colab_type": "code",
    "id": "I1Ap6yqNa1uw"
   },
   "outputs": [
    {
     "data": {
      "text/plain": [
       "19.031141868512112"
      ]
     },
     "execution_count": 5,
     "metadata": {},
     "output_type": "execute_result"
    }
   ],
   "source": [
    "# 可再次呼叫上面定義的函式，計算其他人的 BMI\n",
    "calc_BMI(1.7, 55)"
   ]
  },
  {
   "cell_type": "code",
   "execution_count": null,
   "metadata": {
    "colab": {},
    "colab_type": "code",
    "id": "GjUEXOega1u1"
   },
   "outputs": [],
   "source": []
  }
 ],
 "metadata": {
  "colab": {
   "name": "julia_006_hw.ipynb",
   "provenance": []
  },
  "kernelspec": {
   "display_name": "Julia 1.4.0",
   "language": "julia",
   "name": "julia-1.4"
  },
  "language_info": {
   "file_extension": ".jl",
   "mimetype": "application/julia",
   "name": "julia",
   "version": "1.4.0"
  }
 },
 "nbformat": 4,
 "nbformat_minor": 4
}
