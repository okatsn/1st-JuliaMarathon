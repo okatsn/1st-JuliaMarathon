{
 "cells": [
  {
   "cell_type": "markdown",
   "metadata": {},
   "source": [
    "請問下列兩段例外處理的程式碼，回答其輸出的結果為何？展開解答可看答案。\n",
    "\n",
    "> 建議先思考判斷後回答，不要直接執行程式看結果\n",
    "\n",
    "## Day 015 問題1：請問下列程式輸出的結果為何？\n",
    "\n",
    "- 13\n",
    "- 1\n",
    "- 2\n",
    "- 3"
   ]
  },
  {
   "cell_type": "code",
   "execution_count": null,
   "metadata": {},
   "outputs": [],
   "source": [
    "function foo()\n",
    "    try\n",
    "        print(1)\n",
    "    catch ex\n",
    "        print(2)\n",
    "    finally\n",
    "        print(3)\n",
    "    end\n",
    "end\n",
    "\n",
    "foo()"
   ]
  },
  {
   "cell_type": "markdown",
   "metadata": {},
   "source": [
    "<details>\n",
    "<summary>展開解答</summary>\n",
    "<br>\n",
    "<h3>13</h3><br />\n",
    "【解釋】上面的程式可正常執行無異常狀況發生，所以會印出 try 區塊中的內容，而且由於 finally 一定會執行，所以也會印出。\n",
    "</details>"
   ]
  },
  {
   "cell_type": "markdown",
   "metadata": {},
   "source": [
    "## 問題2：請問下列程式輸出的結果為何？\n",
    "\n",
    "- 1\n",
    "- 2\n",
    "- 23\n",
    "- 3"
   ]
  },
  {
   "cell_type": "code",
   "execution_count": null,
   "metadata": {},
   "outputs": [],
   "source": [
    "function foo()\n",
    "    try\n",
    "        log(-10)\n",
    "        return 1\n",
    "    catch ex\n",
    "        return 2\n",
    "    finally\n",
    "        return 3\n",
    "    end\n",
    "end\n",
    "\n",
    "foo()"
   ]
  },
  {
   "cell_type": "markdown",
   "metadata": {},
   "source": [
    "<details>\n",
    "<summary>展開解答</summary>\n",
    "<br>\n",
    "<h3>3</h3><br />\n",
    "【解釋】上面的程式執行會發生異常，雖然會進入 catch 區塊，但由於 finally 一定會執行，而回傳值僅保留最後一個 return 的回傳值，所以答案為 3。\n",
    "</details>"
   ]
  },
  {
   "cell_type": "code",
   "execution_count": null,
   "metadata": {},
   "outputs": [],
   "source": []
  }
 ],
 "metadata": {
  "kernelspec": {
   "display_name": "Julia 1.2.0",
   "language": "julia",
   "name": "julia-1.2"
  },
  "language_info": {
   "file_extension": ".jl",
   "mimetype": "application/julia",
   "name": "julia",
   "version": "1.2.0"
  }
 },
 "nbformat": 4,
 "nbformat_minor": 4
}
