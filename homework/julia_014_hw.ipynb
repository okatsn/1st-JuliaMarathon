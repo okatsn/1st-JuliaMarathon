{
 "cells": [
  {
   "cell_type": "markdown",
   "metadata": {},
   "source": [
    "# Julia 檔案處理與資料庫連線\n",
    "\n",
    "## Day 014 作業1：讀取 Nested Dict 內的資料\n",
    "\n",
    "Day 010 時我們介紹了字典 (Dict)，字典內的資料可以是巢狀 (nested) 的，包含較複雜的資料階層結構。在今天的下載檔 CityCountyData.json 是台灣各縣市鄉鎮區及路名的中英文資料，檔案為 JSON 格式，範例內容如下：\n",
    "\n",
    "```json\n",
    "    {\n",
    "        \"CityName\": \"臺北市\",\n",
    "        \"CityEngName\": \"Taipei City\",\n",
    "        \"AreaList\": [\n",
    "            {\n",
    "                \"ZipCode\": \"100\",\n",
    "                \"AreaName\": \"中正區\",\n",
    "                \"AreaEngName\": \"Zhongzheng Dist.\"\n",
    "            },\n",
    "            ...\n",
    "    }\n",
    "```\n",
    "\n",
    "作業內容為讀取 JSON 檔案，並列出台北市所有行政區的中英文名稱。範例答案將以 JSON.jl 套件作為示範。\n",
    "\n",
    "檔案資料來源：[台灣 縣市，鄉鎮，地址 中英文 JSON](https://github.com/donma/TaiwanAddressCityAreaRoadChineseEnglishJSON)"
   ]
  },
  {
   "cell_type": "code",
   "execution_count": 1,
   "metadata": {},
   "outputs": [],
   "source": [
    "using JSON"
   ]
  },
  {
   "cell_type": "markdown",
   "metadata": {},
   "source": [
    "列出所有台北市行政區的中英文名稱"
   ]
  },
  {
   "cell_type": "code",
   "execution_count": null,
   "metadata": {},
   "outputs": [],
   "source": []
  },
  {
   "cell_type": "markdown",
   "metadata": {},
   "source": [
    "## 作業2：將字典資料存為 JSON 檔\n",
    "\n",
    "作業2請產生字典 (Dict) 資料，並將字典資料存為 JSON 格式。請自行產生字典，也可使用下列的字串資料計算字數 (Day 010 作業程式)。\n",
    "\n",
    "【提示】可以參考今天範例程式中將陣列資料存為 JSON 格式的部分。"
   ]
  },
  {
   "cell_type": "code",
   "execution_count": 2,
   "metadata": {},
   "outputs": [
    {
     "data": {
      "text/plain": [
       "\"永和有永和路，中和也有永和路，\\n中和有中和路，永和也有中和路；\\n中和的中和路有接永和的中和路，\\n永和的永和路沒接中和的永和路；\\n永和的中和路有接永和的永和路，\\n中和的永和路沒接中和的中和路。\\n\\n永和有中正路，中和也有中正路；\\n永和的中正路用景平路接中和的中正路。\\n永和有中山路，中和也有中山路；\\n永和的中山路直接接上了中和的中山路。\\n永和的中正路接上了永和的中山路；\\n中和的中正路卻不接中和的中山路。\\n\\n中正橋下來不是中正路，但永和有中正路；\\n秀朗橋下來不是秀朗路，但永和有秀朗路。\\n永福橋下來不是永福路，永和沒有永福路；\\n福和橋下來不是福和路，但福和路接的卻是永福橋。\\n\\n中和中和路永和永和路\\n永和中和路中和永和路\\n中和中山路永和中正路\\n永和中山路中和中正路\""
      ]
     },
     "execution_count": 2,
     "metadata": {},
     "output_type": "execute_result"
    }
   ],
   "source": [
    "str = \"永和有永和路，中和也有永和路，\n",
    "中和有中和路，永和也有中和路；\n",
    "中和的中和路有接永和的中和路，\n",
    "永和的永和路沒接中和的永和路；\n",
    "永和的中和路有接永和的永和路，\n",
    "中和的永和路沒接中和的中和路。\n",
    "\n",
    "永和有中正路，中和也有中正路；\n",
    "永和的中正路用景平路接中和的中正路。\n",
    "永和有中山路，中和也有中山路；\n",
    "永和的中山路直接接上了中和的中山路。\n",
    "永和的中正路接上了永和的中山路；\n",
    "中和的中正路卻不接中和的中山路。\n",
    "\n",
    "中正橋下來不是中正路，但永和有中正路；\n",
    "秀朗橋下來不是秀朗路，但永和有秀朗路。\n",
    "永福橋下來不是永福路，永和沒有永福路；\n",
    "福和橋下來不是福和路，但福和路接的卻是永福橋。\n",
    "\n",
    "中和中和路永和永和路\n",
    "永和中和路中和永和路\n",
    "中和中山路永和中正路\n",
    "永和中山路中和中正路\""
   ]
  },
  {
   "cell_type": "code",
   "execution_count": 3,
   "metadata": {},
   "outputs": [],
   "source": [
    "d = Dict{String, Int64}()\n",
    "\n",
    "for c ∈ str\n",
    "    d[string(c)] = get(d, string(c), 0) + 1\n",
    "end"
   ]
  },
  {
   "cell_type": "code",
   "execution_count": 4,
   "metadata": {},
   "outputs": [
    {
     "data": {
      "text/plain": [
       "Dict{String,Int64} with 31 entries:\n",
       "  \"接… => 10\n",
       "  \"上… => 2\n",
       "  \"是… => 5\n",
       "  \"也… => 4\n",
       "  \"直… => 1\n",
       "  \"秀… => 3\n",
       "  \"和… => 54\n",
       "  \"來… => 4\n",
       "  \"，… => 11\n",
       "  \"沒… => 3\n",
       "  \"永… => 31\n",
       "  \"的… => 17\n",
       "  \"平… => 1\n",
       "  \"但… => 3\n",
       "  \"正… => 11\n",
       "  \"不… => 5\n",
       "  \"用… => 1\n",
       "  \"中… => 43\n",
       "  \"橋… => 5\n",
       "  \"福… => 7\n",
       "  \"路… => 41\n",
       "  \"山… => 8\n",
       "  \"；… => 7\n",
       "  \"。… => 6\n",
       "  \"卻… => 2\n",
       "  ⋮   => ⋮"
      ]
     },
     "execution_count": 4,
     "metadata": {},
     "output_type": "execute_result"
    }
   ],
   "source": [
    "d"
   ]
  },
  {
   "cell_type": "code",
   "execution_count": null,
   "metadata": {},
   "outputs": [],
   "source": []
  }
 ],
 "metadata": {
  "kernelspec": {
   "display_name": "Julia 1.2.0",
   "language": "julia",
   "name": "julia-1.2"
  },
  "language_info": {
   "file_extension": ".jl",
   "mimetype": "application/julia",
   "name": "julia",
   "version": "1.2.0"
  }
 },
 "nbformat": 4,
 "nbformat_minor": 4
}
